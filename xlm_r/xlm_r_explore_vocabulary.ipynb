{
  "nbformat": 4,
  "nbformat_minor": 0,
  "metadata": {
    "colab": {
      "name": "xlm_r_explore_vocabulary.ipynb",
      "provenance": [],
      "authorship_tag": "ABX9TyOPAMsGctp7uNpeapISP4Fw",
      "include_colab_link": true
    },
    "kernelspec": {
      "name": "python3",
      "display_name": "Python 3"
    }
  },
  "cells": [
    {
      "cell_type": "markdown",
      "metadata": {
        "id": "view-in-github",
        "colab_type": "text"
      },
      "source": [
        "<a href=\"https://colab.research.google.com/github/martin-fabbri/colab-notebooks/blob/master/xlm_r/xlm_r_explore_vocabulary.ipynb\" target=\"_parent\"><img src=\"https://colab.research.google.com/assets/colab-badge.svg\" alt=\"Open In Colab\"/></a>"
      ]
    },
    {
      "cell_type": "markdown",
      "metadata": {
        "id": "Qrd1TybOhtgq"
      },
      "source": [
        "## Setup\n",
        "--------------------------"
      ]
    },
    {
      "cell_type": "code",
      "metadata": {
        "colab": {
          "base_uri": "https://localhost:8080/"
        },
        "id": "9rxGQEZXhmsN",
        "outputId": "c3c4149d-e30f-4efb-8113-f2965a3e95d8"
      },
      "source": [
        "!pip install transformers -Uqq\n",
        "!pip install sentencepiece -Uqq"
      ],
      "execution_count": 1,
      "outputs": [
        {
          "output_type": "stream",
          "text": [
            "\u001b[K     |████████████████████████████████| 1.4MB 4.2MB/s \n",
            "\u001b[K     |████████████████████████████████| 890kB 49.0MB/s \n",
            "\u001b[K     |████████████████████████████████| 2.9MB 41.6MB/s \n",
            "\u001b[?25h  Building wheel for sacremoses (setup.py) ... \u001b[?25l\u001b[?25hdone\n",
            "\u001b[K     |████████████████████████████████| 1.1MB 5.6MB/s \n",
            "\u001b[?25h"
          ],
          "name": "stdout"
        }
      ]
    },
    {
      "cell_type": "code",
      "metadata": {
        "id": "odGnPvJch00J"
      },
      "source": [
        "import torch\n",
        "import pandas as pd\n",
        "import sentencepiece as spm\n",
        "from transformers import XLMRobertaTokenizer\n",
        "from transformers import BertTokenizer\n",
        "\n",
        "# download the tokenizer for the XLM-Robert base model\n",
        "tokenizer = XLMRobertaTokenizer.from_pretrained('xlm-roberta-base')"
      ],
      "execution_count": 36,
      "outputs": []
    },
    {
      "cell_type": "markdown",
      "metadata": {
        "id": "r1M_NJOpjK3D"
      },
      "source": [
        "## Inspect XLM-R Vocabulary\n",
        "--------------------------"
      ]
    },
    {
      "cell_type": "markdown",
      "metadata": {
        "id": "a4kTWaaEjhjT"
      },
      "source": [
        "### Vocabulary Dump"
      ]
    },
    {
      "cell_type": "code",
      "metadata": {
        "colab": {
          "base_uri": "https://localhost:8080/"
        },
        "id": "mp5eQQ2riNms",
        "outputId": "d6ed242a-8e1b-49fe-9739-8ce11db027cc"
      },
      "source": [
        "# retrieve the full list of tokens\n",
        "all_tokens = list(tokenizer.get_vocab().keys())\n",
        "print(f'The vocabulary contains {len(all_tokens):,} tokens.')"
      ],
      "execution_count": 7,
      "outputs": [
        {
          "output_type": "stream",
          "text": [
            "The vocabulary contains 250,002 tokens.\n"
          ],
          "name": "stdout"
        }
      ]
    },
    {
      "cell_type": "code",
      "metadata": {
        "colab": {
          "base_uri": "https://localhost:8080/"
        },
        "id": "8tmOb4tujvFV",
        "outputId": "c2fb1e19-6eee-4699-c8a5-87141b9abb3f"
      },
      "source": [
        "all_tokens[:5], all_tokens[-5:]"
      ],
      "execution_count": 14,
      "outputs": [
        {
          "output_type": "execute_result",
          "data": {
            "text/plain": [
              "(['<s>', '<pad>', '</s>', '<unk>', ','], ['蜘', '踴', 'ấ', '稣', '<mask>'])"
            ]
          },
          "metadata": {
            "tags": []
          },
          "execution_count": 14
        }
      ]
    },
    {
      "cell_type": "markdown",
      "metadata": {
        "id": "tX5YuZHjkrvc"
      },
      "source": [
        "## SentencePiece vs. WordPiece\n",
        "------------------------------"
      ]
    },
    {
      "cell_type": "markdown",
      "metadata": {
        "id": "eqI8_jDokv5k"
      },
      "source": [
        "XLM-R uses a `SentencePiece` model, which is a little different than BERT's WordPiece model.\n",
        "\n",
        "As an example, I'll use a misspelling of the word \"philosophy\": \"philosphy\". This will cause the tokenizer to break the word into subwords.\n",
        "\n",
        "In WordPiece, subwords are denoted by two hash characters, except the *first* subword in a word. \n",
        "\n",
        "```\n",
        " BERT /     WordPiece:  phil  ##os  ##phy\n",
        "XLM-R / SentencePiece:\t▁phil   os    phy\n",
        "```\n",
        "\n",
        "In SentencePiece, all spacing is captured.\n",
        "\n",
        "> Note: The marking character used by SentencePiece looks like an underscore, but it as actually unicode symbol U+2581, named \"Lower One Eighth Block\". I'll refer to it as an underscore for simplicity, though.\n",
        "* Underscore: _\n",
        "* U+2581: ▁\n",
        "\n",
        "With SentencePiece, you can interpret the underscore as a space, because that's exactly what it represents! "
      ]
    },
    {
      "cell_type": "code",
      "metadata": {
        "id": "PpGoTNGrkOXg"
      },
      "source": [
        "bert_tokenizer = BertTokenizer.from_pretrained('bert-base-cased')\n",
        "example_sentence = 'The reactions were unexpectedly uplifting and spontaneous. Just welcoming and inviting!'\n",
        "xlmr_tokens = tokenizer.tokenize(example_sentence)\n",
        "bert_tokens = bert_tokenizer.tokenize(example_sentence)"
      ],
      "execution_count": 32,
      "outputs": []
    },
    {
      "cell_type": "code",
      "metadata": {
        "id": "mX7XZYPyl4_c"
      },
      "source": [
        "def print_as_rows(list_a, list_b):\n",
        "    '''\n",
        "    Prints two lists as rows, with padding to make them line up neatly.\n",
        "    '''\n",
        "    row_a = \"\"\n",
        "    row_b = \"\"\n",
        "\n",
        "    # Pad the lists to the same length.\n",
        "    while len(list_a) < len(list_b):\n",
        "        list_a.append(\"\")\n",
        "    while len(list_b) < len(list_a):\n",
        "        list_b.append(\"\")\n",
        "    \n",
        "    for i in range(0, len(list_a)):\n",
        "        str_a = list_a[i]\n",
        "        str_b = list_b[i]\n",
        "\n",
        "        pad_len = max(len(str_a), len(str_b)) + 2\n",
        "    \n",
        "        row_a += (\"{:>{width}}\").format(str_a, width=pad_len)\n",
        "        row_b += (\"{:>{width}}\").format(str_b, width=pad_len)\n",
        "    \n",
        "    print(row_a)\n",
        "    print(row_b)"
      ],
      "execution_count": 19,
      "outputs": []
    },
    {
      "cell_type": "code",
      "metadata": {
        "colab": {
          "base_uri": "https://localhost:8080/"
        },
        "id": "evzBUKYQ2S-t",
        "outputId": "2ab11cfb-e7e3-4dd3-ec00-63d24e79c52a"
      },
      "source": [
        "print_as_rows(xlmr_tokens, bert_tokens)"
      ],
      "execution_count": 33,
      "outputs": [
        {
          "output_type": "stream",
          "text": [
            "  ▁The  ▁reaction     s         ▁were  ▁unexpected         ly  ▁up      lifting  ▁and  ▁spontane        ous    .     ▁Just  ▁wel  com  ing  ▁and  ▁invit  ing  !\n",
            "   The  reactions  were  unexpectedly           up  ##lifting  and  spontaneous     .       Just  welcoming  and  inviting     !                                \n"
          ],
          "name": "stdout"
        }
      ]
    },
    {
      "cell_type": "code",
      "metadata": {
        "colab": {
          "base_uri": "https://localhost:8080/",
          "height": 107
        },
        "id": "oXxAKSRB38E2",
        "outputId": "b22f1473-d0e9-46e2-d70a-37392a8ba95c"
      },
      "source": [
        "pd.DataFrame([xlmr_tokens, bert_tokens])"
      ],
      "execution_count": 37,
      "outputs": [
        {
          "output_type": "execute_result",
          "data": {
            "text/html": [
              "<div>\n",
              "<style scoped>\n",
              "    .dataframe tbody tr th:only-of-type {\n",
              "        vertical-align: middle;\n",
              "    }\n",
              "\n",
              "    .dataframe tbody tr th {\n",
              "        vertical-align: top;\n",
              "    }\n",
              "\n",
              "    .dataframe thead th {\n",
              "        text-align: right;\n",
              "    }\n",
              "</style>\n",
              "<table border=\"1\" class=\"dataframe\">\n",
              "  <thead>\n",
              "    <tr style=\"text-align: right;\">\n",
              "      <th></th>\n",
              "      <th>0</th>\n",
              "      <th>1</th>\n",
              "      <th>2</th>\n",
              "      <th>3</th>\n",
              "      <th>4</th>\n",
              "      <th>5</th>\n",
              "      <th>6</th>\n",
              "      <th>7</th>\n",
              "      <th>8</th>\n",
              "      <th>9</th>\n",
              "      <th>10</th>\n",
              "      <th>11</th>\n",
              "      <th>12</th>\n",
              "      <th>13</th>\n",
              "      <th>14</th>\n",
              "      <th>15</th>\n",
              "      <th>16</th>\n",
              "      <th>17</th>\n",
              "      <th>18</th>\n",
              "      <th>19</th>\n",
              "    </tr>\n",
              "  </thead>\n",
              "  <tbody>\n",
              "    <tr>\n",
              "      <th>0</th>\n",
              "      <td>▁The</td>\n",
              "      <td>▁reaction</td>\n",
              "      <td>s</td>\n",
              "      <td>▁were</td>\n",
              "      <td>▁unexpected</td>\n",
              "      <td>ly</td>\n",
              "      <td>▁up</td>\n",
              "      <td>lifting</td>\n",
              "      <td>▁and</td>\n",
              "      <td>▁spontane</td>\n",
              "      <td>ous</td>\n",
              "      <td>.</td>\n",
              "      <td>▁Just</td>\n",
              "      <td>▁wel</td>\n",
              "      <td>com</td>\n",
              "      <td>ing</td>\n",
              "      <td>▁and</td>\n",
              "      <td>▁invit</td>\n",
              "      <td>ing</td>\n",
              "      <td>!</td>\n",
              "    </tr>\n",
              "    <tr>\n",
              "      <th>1</th>\n",
              "      <td>The</td>\n",
              "      <td>reactions</td>\n",
              "      <td>were</td>\n",
              "      <td>unexpectedly</td>\n",
              "      <td>up</td>\n",
              "      <td>##lifting</td>\n",
              "      <td>and</td>\n",
              "      <td>spontaneous</td>\n",
              "      <td>.</td>\n",
              "      <td>Just</td>\n",
              "      <td>welcoming</td>\n",
              "      <td>and</td>\n",
              "      <td>inviting</td>\n",
              "      <td>!</td>\n",
              "      <td></td>\n",
              "      <td></td>\n",
              "      <td></td>\n",
              "      <td></td>\n",
              "      <td></td>\n",
              "      <td></td>\n",
              "    </tr>\n",
              "  </tbody>\n",
              "</table>\n",
              "</div>"
            ],
            "text/plain": [
              "     0          1     2             3            4   ...   15    16      17   18 19\n",
              "0  ▁The  ▁reaction     s         ▁were  ▁unexpected  ...  ing  ▁and  ▁invit  ing  !\n",
              "1   The  reactions  were  unexpectedly           up  ...                           \n",
              "\n",
              "[2 rows x 20 columns]"
            ]
          },
          "metadata": {
            "tags": []
          },
          "execution_count": 37
        }
      ]
    },
    {
      "cell_type": "markdown",
      "metadata": {
        "id": "2JbS_ILz4TNd"
      },
      "source": [
        "### Token Lengths\n",
        "Let's gather some statistics on the vocabulary."
      ]
    },
    {
      "cell_type": "code",
      "metadata": {
        "colab": {
          "base_uri": "https://localhost:8080/",
          "height": 422
        },
        "id": "KAJn-YDD38Cb",
        "outputId": "e97b112f-e1da-408d-c387-fa5d79590eea"
      },
      "source": [
        "import matplotlib.pyplot as plt\n",
        "import seaborn as sns\n",
        "import numpy as np\n",
        "\n",
        "sns.set(style='darkgrid')\n",
        "\n",
        "# Increase the plot size and font size.\n",
        "sns.set(font_scale=1.5)\n",
        "plt.rcParams['figure.figsize'] = (10,5)\n",
        "\n",
        "# Measure the length of every token in the vocab.\n",
        "token_lengths = [len(token) for token in all_tokens]\n",
        "\n",
        "# Plot the number of tokens of each length.\n",
        "sns.countplot(x=token_lengths)\n",
        "plt.title('Vocab Token Lengths')\n",
        "plt.xlabel('Token Length')\n",
        "plt.ylabel('# of Tokens');\n",
        "\n",
        "print('Maximum token length:', max(token_lengths), '\\n\\n')"
      ],
      "execution_count": 40,
      "outputs": [
        {
          "output_type": "stream",
          "text": [
            "Maximum token length: 16 \n",
            "\n",
            "\n"
          ],
          "name": "stdout"
        },
        {
          "output_type": "display_data",
          "data": {
            "image/png": "[encoded data removed]",
            "text/plain": [
              "<Figure size 720x360 with 1 Axes>"
            ]
          },
          "metadata": {
            "tags": []
          }
        }
      ]
    },
    {
      "cell_type": "code",
      "metadata": {
        "id": "mqao10l537_e"
      },
      "source": [
        ""
      ],
      "execution_count": null,
      "outputs": []
    },
    {
      "cell_type": "code",
      "metadata": {
        "id": "xYDyWxQ8378k"
      },
      "source": [
        ""
      ],
      "execution_count": null,
      "outputs": []
    }
  ]
}