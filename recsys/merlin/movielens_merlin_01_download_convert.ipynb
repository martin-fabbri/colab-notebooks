{
  "nbformat": 4,
  "nbformat_minor": 0,
  "metadata": {
    "colab": {
      "name": "movielens-merlin.ipynb",
      "provenance": [],
      "machine_shape": "hm",
      "authorship_tag": "ABX9TyMmLGjhLKv1Vjy3aiPiQBWk",
      "include_colab_link": true
    },
    "kernelspec": {
      "name": "python3",
      "display_name": "Python 3"
    },
    "language_info": {
      "name": "python"
    },
    "accelerator": "GPU"
  },
  "cells": [
    {
      "cell_type": "markdown",
      "metadata": {
        "id": "view-in-github",
        "colab_type": "text"
      },
      "source": [
        "<a href=\"https://colab.research.google.com/github/martin-fabbri/colab-notebooks/blob/master/recsys/merlin/movielens_merlin_01_download_convert.ipynb\" target=\"_parent\"><img src=\"https://colab.research.google.com/assets/colab-badge.svg\" alt=\"Open In Colab\"/></a>"
      ]
    },
    {
      "cell_type": "markdown",
      "source": [
        "# MovieLens 25M Dataset\n",
        "## 01. Download & Convert\n",
        "MovieLens 25M movie ratings. Stable benchmark dataset. 25 million ratings and one million tag applications applied to 62,000 movies by 162,000 users. Includes tag genome data with 15 million relevance scores across 1,129 tags. Released 12/2019\n",
        "\n",
        "ml-25m.zip (size: 250 MB)\n",
        "Permalink: https://grouplens.org/datasets/movielens/25m/\n",
        "\n",
        "Many projects use only the user/item/rating information of MovieLens, but the original dataset provides `metadata` for the movies, as well. For example, `which genres a movie has`. Although we may not improve state-of-the-art results with our neural network architecture in this example, we will use the metadata to show how to multi-hot encode the categorical features."
      ],
      "metadata": {
        "id": "uEwGs2OXm29m"
      }
    },
    {
      "cell_type": "code",
      "source": [
        "!nvidia-smi"
      ],
      "metadata": {
        "colab": {
          "base_uri": "https://localhost:8080/"
        },
        "id": "5FYfXve_fl1o",
        "outputId": "203e8c87-6075-4bda-e0b7-afcd1ca95387"
      },
      "execution_count": 1,
      "outputs": [
        {
          "output_type": "stream",
          "name": "stdout",
          "text": [
            "Sat Apr  2 04:53:51 2022       \n",
            "+-----------------------------------------------------------------------------+\n",
            "| NVIDIA-SMI 460.32.03    Driver Version: 460.32.03    CUDA Version: 11.2     |\n",
            "|-------------------------------+----------------------+----------------------+\n",
            "| GPU  Name        Persistence-M| Bus-Id        Disp.A | Volatile Uncorr. ECC |\n",
            "| Fan  Temp  Perf  Pwr:Usage/Cap|         Memory-Usage | GPU-Util  Compute M. |\n",
            "|                               |                      |               MIG M. |\n",
            "|===============================+======================+======================|\n",
            "|   0  Tesla P100-PCIE...  Off  | 00000000:00:04.0 Off |                    0 |\n",
            "| N/A   43C    P0    29W / 250W |      0MiB / 16280MiB |      0%      Default |\n",
            "|                               |                      |                  N/A |\n",
            "+-------------------------------+----------------------+----------------------+\n",
            "                                                                               \n",
            "+-----------------------------------------------------------------------------+\n",
            "| Processes:                                                                  |\n",
            "|  GPU   GI   CI        PID   Type   Process name                  GPU Memory |\n",
            "|        ID   ID                                                   Usage      |\n",
            "|=============================================================================|\n",
            "|  No running processes found                                                 |\n",
            "+-----------------------------------------------------------------------------+\n"
          ]
        }
      ]
    },
    {
      "cell_type": "code",
      "source": [
        "!pip install -qq nvtabular"
      ],
      "metadata": {
        "colab": {
          "base_uri": "https://localhost:8080/"
        },
        "id": "Q4ywWWf7ffjG",
        "outputId": "cd6245dc-9555-4891-d247-1208466d3fbb"
      },
      "execution_count": 2,
      "outputs": [
        {
          "output_type": "stream",
          "name": "stdout",
          "text": [
            "\u001b[?25l\r\u001b[K     |                                | 10 kB 27.4 MB/s eta 0:00:01\r\u001b[K     |▏                               | 20 kB 11.1 MB/s eta 0:00:01\r\u001b[K     |▎                               | 30 kB 8.9 MB/s eta 0:00:01\r\u001b[K     |▍                               | 40 kB 8.1 MB/s eta 0:00:01\r\u001b[K     |▌                               | 51 kB 4.6 MB/s eta 0:00:01\r\u001b[K     |▋                               | 61 kB 5.4 MB/s eta 0:00:01\r\u001b[K     |▊                               | 71 kB 5.3 MB/s eta 0:00:01\r\u001b[K     |▉                               | 81 kB 5.3 MB/s eta 0:00:01\r\u001b[K     |█                               | 92 kB 5.9 MB/s eta 0:00:01\r\u001b[K     |█                               | 102 kB 5.2 MB/s eta 0:00:01\r\u001b[K     |█▏                              | 112 kB 5.2 MB/s eta 0:00:01\r\u001b[K     |█▎                              | 122 kB 5.2 MB/s eta 0:00:01\r\u001b[K     |█▍                              | 133 kB 5.2 MB/s eta 0:00:01\r\u001b[K     |█▌                              | 143 kB 5.2 MB/s eta 0:00:01\r\u001b[K     |█▋                              | 153 kB 5.2 MB/s eta 0:00:01\r\u001b[K     |█▋                              | 163 kB 5.2 MB/s eta 0:00:01\r\u001b[K     |█▊                              | 174 kB 5.2 MB/s eta 0:00:01\r\u001b[K     |█▉                              | 184 kB 5.2 MB/s eta 0:00:01\r\u001b[K     |██                              | 194 kB 5.2 MB/s eta 0:00:01\r\u001b[K     |██                              | 204 kB 5.2 MB/s eta 0:00:01\r\u001b[K     |██▏                             | 215 kB 5.2 MB/s eta 0:00:01\r\u001b[K     |██▎                             | 225 kB 5.2 MB/s eta 0:00:01\r\u001b[K     |██▍                             | 235 kB 5.2 MB/s eta 0:00:01\r\u001b[K     |██▌                             | 245 kB 5.2 MB/s eta 0:00:01\r\u001b[K     |██▋                             | 256 kB 5.2 MB/s eta 0:00:01\r\u001b[K     |██▊                             | 266 kB 5.2 MB/s eta 0:00:01\r\u001b[K     |██▉                             | 276 kB 5.2 MB/s eta 0:00:01\r\u001b[K     |███                             | 286 kB 5.2 MB/s eta 0:00:01\r\u001b[K     |███                             | 296 kB 5.2 MB/s eta 0:00:01\r\u001b[K     |███▏                            | 307 kB 5.2 MB/s eta 0:00:01\r\u001b[K     |███▎                            | 317 kB 5.2 MB/s eta 0:00:01\r\u001b[K     |███▎                            | 327 kB 5.2 MB/s eta 0:00:01\r\u001b[K     |███▍                            | 337 kB 5.2 MB/s eta 0:00:01\r\u001b[K     |███▌                            | 348 kB 5.2 MB/s eta 0:00:01\r\u001b[K     |███▋                            | 358 kB 5.2 MB/s eta 0:00:01\r\u001b[K     |███▊                            | 368 kB 5.2 MB/s eta 0:00:01\r\u001b[K     |███▉                            | 378 kB 5.2 MB/s eta 0:00:01\r\u001b[K     |████                            | 389 kB 5.2 MB/s eta 0:00:01\r\u001b[K     |████                            | 399 kB 5.2 MB/s eta 0:00:01\r\u001b[K     |████▏                           | 409 kB 5.2 MB/s eta 0:00:01\r\u001b[K     |████▎                           | 419 kB 5.2 MB/s eta 0:00:01\r\u001b[K     |████▍                           | 430 kB 5.2 MB/s eta 0:00:01\r\u001b[K     |████▌                           | 440 kB 5.2 MB/s eta 0:00:01\r\u001b[K     |████▋                           | 450 kB 5.2 MB/s eta 0:00:01\r\u001b[K     |████▊                           | 460 kB 5.2 MB/s eta 0:00:01\r\u001b[K     |████▉                           | 471 kB 5.2 MB/s eta 0:00:01\r\u001b[K     |█████                           | 481 kB 5.2 MB/s eta 0:00:01\r\u001b[K     |█████                           | 491 kB 5.2 MB/s eta 0:00:01\r\u001b[K     |█████                           | 501 kB 5.2 MB/s eta 0:00:01\r\u001b[K     |█████▏                          | 512 kB 5.2 MB/s eta 0:00:01\r\u001b[K     |█████▎                          | 522 kB 5.2 MB/s eta 0:00:01\r\u001b[K     |█████▍                          | 532 kB 5.2 MB/s eta 0:00:01\r\u001b[K     |█████▌                          | 542 kB 5.2 MB/s eta 0:00:01\r\u001b[K     |█████▋                          | 552 kB 5.2 MB/s eta 0:00:01\r\u001b[K     |█████▊                          | 563 kB 5.2 MB/s eta 0:00:01\r\u001b[K     |█████▉                          | 573 kB 5.2 MB/s eta 0:00:01\r\u001b[K     |██████                          | 583 kB 5.2 MB/s eta 0:00:01\r\u001b[K     |██████                          | 593 kB 5.2 MB/s eta 0:00:01\r\u001b[K     |██████▏                         | 604 kB 5.2 MB/s eta 0:00:01\r\u001b[K     |██████▎                         | 614 kB 5.2 MB/s eta 0:00:01\r\u001b[K     |██████▍                         | 624 kB 5.2 MB/s eta 0:00:01\r\u001b[K     |██████▌                         | 634 kB 5.2 MB/s eta 0:00:01\r\u001b[K     |██████▋                         | 645 kB 5.2 MB/s eta 0:00:01\r\u001b[K     |██████▋                         | 655 kB 5.2 MB/s eta 0:00:01\r\u001b[K     |██████▊                         | 665 kB 5.2 MB/s eta 0:00:01\r\u001b[K     |██████▉                         | 675 kB 5.2 MB/s eta 0:00:01\r\u001b[K     |███████                         | 686 kB 5.2 MB/s eta 0:00:01\r\u001b[K     |███████                         | 696 kB 5.2 MB/s eta 0:00:01\r\u001b[K     |███████▏                        | 706 kB 5.2 MB/s eta 0:00:01\r\u001b[K     |███████▎                        | 716 kB 5.2 MB/s eta 0:00:01\r\u001b[K     |███████▍                        | 727 kB 5.2 MB/s eta 0:00:01\r\u001b[K     |███████▌                        | 737 kB 5.2 MB/s eta 0:00:01\r\u001b[K     |███████▋                        | 747 kB 5.2 MB/s eta 0:00:01\r\u001b[K     |███████▊                        | 757 kB 5.2 MB/s eta 0:00:01\r\u001b[K     |███████▉                        | 768 kB 5.2 MB/s eta 0:00:01\r\u001b[K     |████████                        | 778 kB 5.2 MB/s eta 0:00:01\r\u001b[K     |████████                        | 788 kB 5.2 MB/s eta 0:00:01\r\u001b[K     |████████▏                       | 798 kB 5.2 MB/s eta 0:00:01\r\u001b[K     |████████▎                       | 808 kB 5.2 MB/s eta 0:00:01\r\u001b[K     |████████▎                       | 819 kB 5.2 MB/s eta 0:00:01\r\u001b[K     |████████▍                       | 829 kB 5.2 MB/s eta 0:00:01\r\u001b[K     |████████▌                       | 839 kB 5.2 MB/s eta 0:00:01\r\u001b[K     |████████▋                       | 849 kB 5.2 MB/s eta 0:00:01\r\u001b[K     |████████▊                       | 860 kB 5.2 MB/s eta 0:00:01\r\u001b[K     |████████▉                       | 870 kB 5.2 MB/s eta 0:00:01\r\u001b[K     |█████████                       | 880 kB 5.2 MB/s eta 0:00:01\r\u001b[K     |█████████                       | 890 kB 5.2 MB/s eta 0:00:01\r\u001b[K     |█████████▏                      | 901 kB 5.2 MB/s eta 0:00:01\r\u001b[K     |█████████▎                      | 911 kB 5.2 MB/s eta 0:00:01\r\u001b[K     |█████████▍                      | 921 kB 5.2 MB/s eta 0:00:01\r\u001b[K     |█████████▌                      | 931 kB 5.2 MB/s eta 0:00:01\r\u001b[K     |█████████▋                      | 942 kB 5.2 MB/s eta 0:00:01\r\u001b[K     |█████████▊                      | 952 kB 5.2 MB/s eta 0:00:01\r\u001b[K     |█████████▉                      | 962 kB 5.2 MB/s eta 0:00:01\r\u001b[K     |██████████                      | 972 kB 5.2 MB/s eta 0:00:01\r\u001b[K     |██████████                      | 983 kB 5.2 MB/s eta 0:00:01\r\u001b[K     |██████████                      | 993 kB 5.2 MB/s eta 0:00:01\r\u001b[K     |██████████▏                     | 1.0 MB 5.2 MB/s eta 0:00:01\r\u001b[K     |██████████▎                     | 1.0 MB 5.2 MB/s eta 0:00:01\r\u001b[K     |██████████▍                     | 1.0 MB 5.2 MB/s eta 0:00:01\r\u001b[K     |██████████▌                     | 1.0 MB 5.2 MB/s eta 0:00:01\r\u001b[K     |██████████▋                     | 1.0 MB 5.2 MB/s eta 0:00:01\r\u001b[K     |██████████▊                     | 1.1 MB 5.2 MB/s eta 0:00:01\r\u001b[K     |██████████▉                     | 1.1 MB 5.2 MB/s eta 0:00:01\r\u001b[K     |███████████                     | 1.1 MB 5.2 MB/s eta 0:00:01\r\u001b[K     |███████████                     | 1.1 MB 5.2 MB/s eta 0:00:01\r\u001b[K     |███████████▏                    | 1.1 MB 5.2 MB/s eta 0:00:01\r\u001b[K     |███████████▎                    | 1.1 MB 5.2 MB/s eta 0:00:01\r\u001b[K     |███████████▍                    | 1.1 MB 5.2 MB/s eta 0:00:01\r\u001b[K     |███████████▌                    | 1.1 MB 5.2 MB/s eta 0:00:01\r\u001b[K     |███████████▋                    | 1.1 MB 5.2 MB/s eta 0:00:01\r\u001b[K     |███████████▋                    | 1.1 MB 5.2 MB/s eta 0:00:01\r\u001b[K     |███████████▊                    | 1.2 MB 5.2 MB/s eta 0:00:01\r\u001b[K     |███████████▉                    | 1.2 MB 5.2 MB/s eta 0:00:01\r\u001b[K     |████████████                    | 1.2 MB 5.2 MB/s eta 0:00:01\r\u001b[K     |████████████                    | 1.2 MB 5.2 MB/s eta 0:00:01\r\u001b[K     |████████████▏                   | 1.2 MB 5.2 MB/s eta 0:00:01\r\u001b[K     |████████████▎                   | 1.2 MB 5.2 MB/s eta 0:00:01\r\u001b[K     |████████████▍                   | 1.2 MB 5.2 MB/s eta 0:00:01\r\u001b[K     |████████████▌                   | 1.2 MB 5.2 MB/s eta 0:00:01\r\u001b[K     |████████████▋                   | 1.2 MB 5.2 MB/s eta 0:00:01\r\u001b[K     |████████████▊                   | 1.2 MB 5.2 MB/s eta 0:00:01\r\u001b[K     |████████████▉                   | 1.3 MB 5.2 MB/s eta 0:00:01\r\u001b[K     |█████████████                   | 1.3 MB 5.2 MB/s eta 0:00:01\r\u001b[K     |█████████████                   | 1.3 MB 5.2 MB/s eta 0:00:01\r\u001b[K     |█████████████▏                  | 1.3 MB 5.2 MB/s eta 0:00:01\r\u001b[K     |█████████████▎                  | 1.3 MB 5.2 MB/s eta 0:00:01\r\u001b[K     |█████████████▎                  | 1.3 MB 5.2 MB/s eta 0:00:01\r\u001b[K     |█████████████▍                  | 1.3 MB 5.2 MB/s eta 0:00:01\r\u001b[K     |█████████████▌                  | 1.3 MB 5.2 MB/s eta 0:00:01\r\u001b[K     |█████████████▋                  | 1.3 MB 5.2 MB/s eta 0:00:01\r\u001b[K     |█████████████▊                  | 1.4 MB 5.2 MB/s eta 0:00:01\r\u001b[K     |█████████████▉                  | 1.4 MB 5.2 MB/s eta 0:00:01\r\u001b[K     |██████████████                  | 1.4 MB 5.2 MB/s eta 0:00:01\r\u001b[K     |██████████████                  | 1.4 MB 5.2 MB/s eta 0:00:01\r\u001b[K     |██████████████▏                 | 1.4 MB 5.2 MB/s eta 0:00:01\r\u001b[K     |██████████████▎                 | 1.4 MB 5.2 MB/s eta 0:00:01\r\u001b[K     |██████████████▍                 | 1.4 MB 5.2 MB/s eta 0:00:01\r\u001b[K     |██████████████▌                 | 1.4 MB 5.2 MB/s eta 0:00:01\r\u001b[K     |██████████████▋                 | 1.4 MB 5.2 MB/s eta 0:00:01\r\u001b[K     |██████████████▊                 | 1.4 MB 5.2 MB/s eta 0:00:01\r\u001b[K     |██████████████▉                 | 1.5 MB 5.2 MB/s eta 0:00:01\r\u001b[K     |███████████████                 | 1.5 MB 5.2 MB/s eta 0:00:01\r\u001b[K     |███████████████                 | 1.5 MB 5.2 MB/s eta 0:00:01\r\u001b[K     |███████████████                 | 1.5 MB 5.2 MB/s eta 0:00:01\r\u001b[K     |███████████████▏                | 1.5 MB 5.2 MB/s eta 0:00:01\r\u001b[K     |███████████████▎                | 1.5 MB 5.2 MB/s eta 0:00:01\r\u001b[K     |███████████████▍                | 1.5 MB 5.2 MB/s eta 0:00:01\r\u001b[K     |███████████████▌                | 1.5 MB 5.2 MB/s eta 0:00:01\r\u001b[K     |███████████████▋                | 1.5 MB 5.2 MB/s eta 0:00:01\r\u001b[K     |███████████████▊                | 1.5 MB 5.2 MB/s eta 0:00:01\r\u001b[K     |███████████████▉                | 1.6 MB 5.2 MB/s eta 0:00:01\r\u001b[K     |████████████████                | 1.6 MB 5.2 MB/s eta 0:00:01\r\u001b[K     |████████████████                | 1.6 MB 5.2 MB/s eta 0:00:01\r\u001b[K     |████████████████▏               | 1.6 MB 5.2 MB/s eta 0:00:01\r\u001b[K     |████████████████▎               | 1.6 MB 5.2 MB/s eta 0:00:01\r\u001b[K     |████████████████▍               | 1.6 MB 5.2 MB/s eta 0:00:01\r\u001b[K     |████████████████▌               | 1.6 MB 5.2 MB/s eta 0:00:01\r\u001b[K     |████████████████▋               | 1.6 MB 5.2 MB/s eta 0:00:01\r\u001b[K     |████████████████▋               | 1.6 MB 5.2 MB/s eta 0:00:01\r\u001b[K     |████████████████▊               | 1.6 MB 5.2 MB/s eta 0:00:01\r\u001b[K     |████████████████▉               | 1.7 MB 5.2 MB/s eta 0:00:01\r\u001b[K     |█████████████████               | 1.7 MB 5.2 MB/s eta 0:00:01\r\u001b[K     |█████████████████               | 1.7 MB 5.2 MB/s eta 0:00:01\r\u001b[K     |█████████████████▏              | 1.7 MB 5.2 MB/s eta 0:00:01\r\u001b[K     |█████████████████▎              | 1.7 MB 5.2 MB/s eta 0:00:01\r\u001b[K     |█████████████████▍              | 1.7 MB 5.2 MB/s eta 0:00:01\r\u001b[K     |█████████████████▌              | 1.7 MB 5.2 MB/s eta 0:00:01\r\u001b[K     |█████████████████▋              | 1.7 MB 5.2 MB/s eta 0:00:01\r\u001b[K     |█████████████████▊              | 1.7 MB 5.2 MB/s eta 0:00:01\r\u001b[K     |█████████████████▉              | 1.8 MB 5.2 MB/s eta 0:00:01\r\u001b[K     |██████████████████              | 1.8 MB 5.2 MB/s eta 0:00:01\r\u001b[K     |██████████████████              | 1.8 MB 5.2 MB/s eta 0:00:01\r\u001b[K     |██████████████████▏             | 1.8 MB 5.2 MB/s eta 0:00:01\r\u001b[K     |██████████████████▏             | 1.8 MB 5.2 MB/s eta 0:00:01\r\u001b[K     |██████████████████▎             | 1.8 MB 5.2 MB/s eta 0:00:01\r\u001b[K     |██████████████████▍             | 1.8 MB 5.2 MB/s eta 0:00:01\r\u001b[K     |██████████████████▌             | 1.8 MB 5.2 MB/s eta 0:00:01\r\u001b[K     |██████████████████▋             | 1.8 MB 5.2 MB/s eta 0:00:01\r\u001b[K     |██████████████████▊             | 1.8 MB 5.2 MB/s eta 0:00:01\r\u001b[K     |██████████████████▉             | 1.9 MB 5.2 MB/s eta 0:00:01\r\u001b[K     |███████████████████             | 1.9 MB 5.2 MB/s eta 0:00:01\r\u001b[K     |███████████████████             | 1.9 MB 5.2 MB/s eta 0:00:01\r\u001b[K     |███████████████████▏            | 1.9 MB 5.2 MB/s eta 0:00:01\r\u001b[K     |███████████████████▎            | 1.9 MB 5.2 MB/s eta 0:00:01\r\u001b[K     |███████████████████▍            | 1.9 MB 5.2 MB/s eta 0:00:01\r\u001b[K     |███████████████████▌            | 1.9 MB 5.2 MB/s eta 0:00:01\r\u001b[K     |███████████████████▋            | 1.9 MB 5.2 MB/s eta 0:00:01\r\u001b[K     |███████████████████▊            | 1.9 MB 5.2 MB/s eta 0:00:01\r\u001b[K     |███████████████████▉            | 1.9 MB 5.2 MB/s eta 0:00:01\r\u001b[K     |███████████████████▉            | 2.0 MB 5.2 MB/s eta 0:00:01\r\u001b[K     |████████████████████            | 2.0 MB 5.2 MB/s eta 0:00:01\r\u001b[K     |████████████████████            | 2.0 MB 5.2 MB/s eta 0:00:01\r\u001b[K     |████████████████████▏           | 2.0 MB 5.2 MB/s eta 0:00:01\r\u001b[K     |████████████████████▎           | 2.0 MB 5.2 MB/s eta 0:00:01\r\u001b[K     |████████████████████▍           | 2.0 MB 5.2 MB/s eta 0:00:01\r\u001b[K     |████████████████████▌           | 2.0 MB 5.2 MB/s eta 0:00:01\r\u001b[K     |████████████████████▋           | 2.0 MB 5.2 MB/s eta 0:00:01\r\u001b[K     |████████████████████▊           | 2.0 MB 5.2 MB/s eta 0:00:01\r\u001b[K     |████████████████████▉           | 2.0 MB 5.2 MB/s eta 0:00:01\r\u001b[K     |█████████████████████           | 2.1 MB 5.2 MB/s eta 0:00:01\r\u001b[K     |█████████████████████           | 2.1 MB 5.2 MB/s eta 0:00:01\r\u001b[K     |█████████████████████▏          | 2.1 MB 5.2 MB/s eta 0:00:01\r\u001b[K     |█████████████████████▎          | 2.1 MB 5.2 MB/s eta 0:00:01\r\u001b[K     |█████████████████████▍          | 2.1 MB 5.2 MB/s eta 0:00:01\r\u001b[K     |█████████████████████▌          | 2.1 MB 5.2 MB/s eta 0:00:01\r\u001b[K     |█████████████████████▌          | 2.1 MB 5.2 MB/s eta 0:00:01\r\u001b[K     |█████████████████████▋          | 2.1 MB 5.2 MB/s eta 0:00:01\r\u001b[K     |█████████████████████▊          | 2.1 MB 5.2 MB/s eta 0:00:01\r\u001b[K     |█████████████████████▉          | 2.2 MB 5.2 MB/s eta 0:00:01\r\u001b[K     |██████████████████████          | 2.2 MB 5.2 MB/s eta 0:00:01\r\u001b[K     |██████████████████████          | 2.2 MB 5.2 MB/s eta 0:00:01\r\u001b[K     |██████████████████████▏         | 2.2 MB 5.2 MB/s eta 0:00:01\r\u001b[K     |██████████████████████▎         | 2.2 MB 5.2 MB/s eta 0:00:01\r\u001b[K     |██████████████████████▍         | 2.2 MB 5.2 MB/s eta 0:00:01\r\u001b[K     |██████████████████████▌         | 2.2 MB 5.2 MB/s eta 0:00:01\r\u001b[K     |██████████████████████▋         | 2.2 MB 5.2 MB/s eta 0:00:01\r\u001b[K     |██████████████████████▊         | 2.2 MB 5.2 MB/s eta 0:00:01\r\u001b[K     |██████████████████████▉         | 2.2 MB 5.2 MB/s eta 0:00:01\r\u001b[K     |███████████████████████         | 2.3 MB 5.2 MB/s eta 0:00:01\r\u001b[K     |███████████████████████         | 2.3 MB 5.2 MB/s eta 0:00:01\r\u001b[K     |███████████████████████▏        | 2.3 MB 5.2 MB/s eta 0:00:01\r\u001b[K     |███████████████████████▏        | 2.3 MB 5.2 MB/s eta 0:00:01\r\u001b[K     |███████████████████████▎        | 2.3 MB 5.2 MB/s eta 0:00:01\r\u001b[K     |███████████████████████▍        | 2.3 MB 5.2 MB/s eta 0:00:01\r\u001b[K     |███████████████████████▌        | 2.3 MB 5.2 MB/s eta 0:00:01\r\u001b[K     |███████████████████████▋        | 2.3 MB 5.2 MB/s eta 0:00:01\r\u001b[K     |███████████████████████▊        | 2.3 MB 5.2 MB/s eta 0:00:01\r\u001b[K     |███████████████████████▉        | 2.3 MB 5.2 MB/s eta 0:00:01\r\u001b[K     |████████████████████████        | 2.4 MB 5.2 MB/s eta 0:00:01\r\u001b[K     |████████████████████████        | 2.4 MB 5.2 MB/s eta 0:00:01\r\u001b[K     |████████████████████████▏       | 2.4 MB 5.2 MB/s eta 0:00:01\r\u001b[K     |████████████████████████▎       | 2.4 MB 5.2 MB/s eta 0:00:01\r\u001b[K     |████████████████████████▍       | 2.4 MB 5.2 MB/s eta 0:00:01\r\u001b[K     |████████████████████████▌       | 2.4 MB 5.2 MB/s eta 0:00:01\r\u001b[K     |████████████████████████▋       | 2.4 MB 5.2 MB/s eta 0:00:01\r\u001b[K     |████████████████████████▊       | 2.4 MB 5.2 MB/s eta 0:00:01\r\u001b[K     |████████████████████████▉       | 2.4 MB 5.2 MB/s eta 0:00:01\r\u001b[K     |████████████████████████▉       | 2.4 MB 5.2 MB/s eta 0:00:01\r\u001b[K     |█████████████████████████       | 2.5 MB 5.2 MB/s eta 0:00:01\r\u001b[K     |█████████████████████████       | 2.5 MB 5.2 MB/s eta 0:00:01\r\u001b[K     |█████████████████████████▏      | 2.5 MB 5.2 MB/s eta 0:00:01\r\u001b[K     |█████████████████████████▎      | 2.5 MB 5.2 MB/s eta 0:00:01\r\u001b[K     |█████████████████████████▍      | 2.5 MB 5.2 MB/s eta 0:00:01\r\u001b[K     |█████████████████████████▌      | 2.5 MB 5.2 MB/s eta 0:00:01\r\u001b[K     |█████████████████████████▋      | 2.5 MB 5.2 MB/s eta 0:00:01\r\u001b[K     |█████████████████████████▊      | 2.5 MB 5.2 MB/s eta 0:00:01\r\u001b[K     |█████████████████████████▉      | 2.5 MB 5.2 MB/s eta 0:00:01\r\u001b[K     |██████████████████████████      | 2.5 MB 5.2 MB/s eta 0:00:01\r\u001b[K     |██████████████████████████      | 2.6 MB 5.2 MB/s eta 0:00:01\r\u001b[K     |██████████████████████████▏     | 2.6 MB 5.2 MB/s eta 0:00:01\r\u001b[K     |██████████████████████████▎     | 2.6 MB 5.2 MB/s eta 0:00:01\r\u001b[K     |██████████████████████████▍     | 2.6 MB 5.2 MB/s eta 0:00:01\r\u001b[K     |██████████████████████████▌     | 2.6 MB 5.2 MB/s eta 0:00:01\r\u001b[K     |██████████████████████████▌     | 2.6 MB 5.2 MB/s eta 0:00:01\r\u001b[K     |██████████████████████████▋     | 2.6 MB 5.2 MB/s eta 0:00:01\r\u001b[K     |██████████████████████████▊     | 2.6 MB 5.2 MB/s eta 0:00:01\r\u001b[K     |██████████████████████████▉     | 2.6 MB 5.2 MB/s eta 0:00:01\r\u001b[K     |███████████████████████████     | 2.7 MB 5.2 MB/s eta 0:00:01\r\u001b[K     |███████████████████████████     | 2.7 MB 5.2 MB/s eta 0:00:01\r\u001b[K     |███████████████████████████▏    | 2.7 MB 5.2 MB/s eta 0:00:01\r\u001b[K     |███████████████████████████▎    | 2.7 MB 5.2 MB/s eta 0:00:01\r\u001b[K     |███████████████████████████▍    | 2.7 MB 5.2 MB/s eta 0:00:01\r\u001b[K     |███████████████████████████▌    | 2.7 MB 5.2 MB/s eta 0:00:01\r\u001b[K     |███████████████████████████▋    | 2.7 MB 5.2 MB/s eta 0:00:01\r\u001b[K     |███████████████████████████▊    | 2.7 MB 5.2 MB/s eta 0:00:01\r\u001b[K     |███████████████████████████▉    | 2.7 MB 5.2 MB/s eta 0:00:01\r\u001b[K     |████████████████████████████    | 2.7 MB 5.2 MB/s eta 0:00:01\r\u001b[K     |████████████████████████████    | 2.8 MB 5.2 MB/s eta 0:00:01\r\u001b[K     |████████████████████████████▏   | 2.8 MB 5.2 MB/s eta 0:00:01\r\u001b[K     |████████████████████████████▏   | 2.8 MB 5.2 MB/s eta 0:00:01\r\u001b[K     |████████████████████████████▎   | 2.8 MB 5.2 MB/s eta 0:00:01\r\u001b[K     |████████████████████████████▍   | 2.8 MB 5.2 MB/s eta 0:00:01\r\u001b[K     |████████████████████████████▌   | 2.8 MB 5.2 MB/s eta 0:00:01\r\u001b[K     |████████████████████████████▋   | 2.8 MB 5.2 MB/s eta 0:00:01\r\u001b[K     |████████████████████████████▊   | 2.8 MB 5.2 MB/s eta 0:00:01\r\u001b[K     |████████████████████████████▉   | 2.8 MB 5.2 MB/s eta 0:00:01\r\u001b[K     |█████████████████████████████   | 2.8 MB 5.2 MB/s eta 0:00:01\r\u001b[K     |█████████████████████████████   | 2.9 MB 5.2 MB/s eta 0:00:01\r\u001b[K     |█████████████████████████████▏  | 2.9 MB 5.2 MB/s eta 0:00:01\r\u001b[K     |█████████████████████████████▎  | 2.9 MB 5.2 MB/s eta 0:00:01\r\u001b[K     |█████████████████████████████▍  | 2.9 MB 5.2 MB/s eta 0:00:01\r\u001b[K     |█████████████████████████████▌  | 2.9 MB 5.2 MB/s eta 0:00:01\r\u001b[K     |█████████████████████████████▋  | 2.9 MB 5.2 MB/s eta 0:00:01\r\u001b[K     |█████████████████████████████▊  | 2.9 MB 5.2 MB/s eta 0:00:01\r\u001b[K     |█████████████████████████████▉  | 2.9 MB 5.2 MB/s eta 0:00:01\r\u001b[K     |█████████████████████████████▉  | 2.9 MB 5.2 MB/s eta 0:00:01\r\u001b[K     |██████████████████████████████  | 2.9 MB 5.2 MB/s eta 0:00:01\r\u001b[K     |██████████████████████████████  | 3.0 MB 5.2 MB/s eta 0:00:01\r\u001b[K     |██████████████████████████████▏ | 3.0 MB 5.2 MB/s eta 0:00:01\r\u001b[K     |██████████████████████████████▎ | 3.0 MB 5.2 MB/s eta 0:00:01\r\u001b[K     |██████████████████████████████▍ | 3.0 MB 5.2 MB/s eta 0:00:01\r\u001b[K     |██████████████████████████████▌ | 3.0 MB 5.2 MB/s eta 0:00:01\r\u001b[K     |██████████████████████████████▋ | 3.0 MB 5.2 MB/s eta 0:00:01\r\u001b[K     |██████████████████████████████▊ | 3.0 MB 5.2 MB/s eta 0:00:01\r\u001b[K     |██████████████████████████████▉ | 3.0 MB 5.2 MB/s eta 0:00:01\r\u001b[K     |███████████████████████████████ | 3.0 MB 5.2 MB/s eta 0:00:01\r\u001b[K     |███████████████████████████████ | 3.1 MB 5.2 MB/s eta 0:00:01\r\u001b[K     |███████████████████████████████▏| 3.1 MB 5.2 MB/s eta 0:00:01\r\u001b[K     |███████████████████████████████▎| 3.1 MB 5.2 MB/s eta 0:00:01\r\u001b[K     |███████████████████████████████▍| 3.1 MB 5.2 MB/s eta 0:00:01\r\u001b[K     |███████████████████████████████▌| 3.1 MB 5.2 MB/s eta 0:00:01\r\u001b[K     |███████████████████████████████▌| 3.1 MB 5.2 MB/s eta 0:00:01\r\u001b[K     |███████████████████████████████▋| 3.1 MB 5.2 MB/s eta 0:00:01\r\u001b[K     |███████████████████████████████▊| 3.1 MB 5.2 MB/s eta 0:00:01\r\u001b[K     |███████████████████████████████▉| 3.1 MB 5.2 MB/s eta 0:00:01\r\u001b[K     |████████████████████████████████| 3.1 MB 5.2 MB/s eta 0:00:01\r\u001b[K     |████████████████████████████████| 3.1 MB 5.2 MB/s \n",
            "\u001b[?25h  Installing build dependencies ... \u001b[?25l\u001b[?25hdone\n",
            "  Getting requirements to build wheel ... \u001b[?25l\u001b[?25hdone\n",
            "    Preparing wheel metadata ... \u001b[?25l\u001b[?25hdone\n",
            "\u001b[K     |████████████████████████████████| 802 kB 33.8 MB/s \n",
            "\u001b[K     |████████████████████████████████| 3.3 MB 57.7 MB/s \n",
            "\u001b[K     |████████████████████████████████| 1.0 MB 59.6 MB/s \n",
            "\u001b[K     |████████████████████████████████| 119 kB 59.4 MB/s \n",
            "\u001b[?25h  Installing build dependencies ... \u001b[?25l\u001b[?25hdone\n",
            "  Getting requirements to build wheel ... \u001b[?25l\u001b[?25hdone\n",
            "    Preparing wheel metadata ... \u001b[?25l\u001b[?25hdone\n",
            "\u001b[K     |████████████████████████████████| 136 kB 56.9 MB/s \n",
            "\u001b[?25h  Installing build dependencies ... \u001b[?25l\u001b[?25hdone\n",
            "  Getting requirements to build wheel ... \u001b[?25l\u001b[?25hdone\n",
            "    Preparing wheel metadata ... \u001b[?25l\u001b[?25hdone\n",
            "\u001b[K     |████████████████████████████████| 58 kB 5.2 MB/s \n",
            "\u001b[?25h  Installing build dependencies ... \u001b[?25l\u001b[?25hdone\n",
            "  Getting requirements to build wheel ... \u001b[?25l\u001b[?25hdone\n",
            "    Preparing wheel metadata ... \u001b[?25l\u001b[?25hdone\n",
            "\u001b[K     |████████████████████████████████| 34.5 MB 5.8 MB/s \n",
            "\u001b[K     |████████████████████████████████| 57 kB 5.4 MB/s \n",
            "\u001b[K     |████████████████████████████████| 94 kB 3.3 MB/s \n",
            "\u001b[?25h  Building wheel for nvtabular (PEP 517) ... \u001b[?25l\u001b[?25hdone\n",
            "  Building wheel for merlin-core (PEP 517) ... \u001b[?25l\u001b[?25hdone\n",
            "  Building wheel for betterproto (PEP 517) ... \u001b[?25l\u001b[?25hdone\n",
            "  Building wheel for grpclib (PEP 517) ... \u001b[?25l\u001b[?25hdone\n",
            "  Building wheel for stringcase (setup.py) ... \u001b[?25l\u001b[?25hdone\n",
            "\u001b[31mERROR: pip's dependency resolver does not currently take into account all the packages that are installed. This behaviour is the source of the following dependency conflicts.\n",
            "gym 0.17.3 requires cloudpickle<1.7.0,>=1.2.0, but you have cloudpickle 2.0.0 which is incompatible.\u001b[0m\n"
          ]
        }
      ]
    },
    {
      "cell_type": "markdown",
      "source": [
        "## Download the Dataset"
      ],
      "metadata": {
        "id": "7X-xwZgcn6K9"
      }
    },
    {
      "cell_type": "code",
      "execution_count": 3,
      "metadata": {
        "id": "OcCXDS2rfBR4"
      },
      "outputs": [],
      "source": [
        "# External dependencies\n",
        "import os\n",
        "\n",
        "from merlin.core.utils import download_file\n",
        "\n",
        "# Get dataframe library - cudf or pandas\n",
        "from merlin.core.dispatch import get_lib\n",
        "df_lib = get_lib()"
      ]
    },
    {
      "cell_type": "markdown",
      "source": [
        "We define out base input directory containing the data."
      ],
      "metadata": {
        "id": "R9kwmrTOoB5y"
      }
    },
    {
      "cell_type": "code",
      "source": [
        "!mkdir -p /content/movielens/\n",
        "!mkdir -p /content/movielens/data/\n",
        "INPUT_DATA_DIR = os.environ.get(\n",
        "    \"INPUT_DATA_DIR\", os.path.expanduser(\"/content/movielens/data/\")\n",
        ")\n",
        "INPUT_DATA_DIR"
      ],
      "metadata": {
        "id": "DIsd6vHhf8XP",
        "outputId": "e5ff718a-82ef-4978-ea24-e9c205634088",
        "colab": {
          "base_uri": "https://localhost:8080/",
          "height": 35
        }
      },
      "execution_count": 7,
      "outputs": [
        {
          "output_type": "execute_result",
          "data": {
            "text/plain": [
              "'/content/movielens/data/'"
            ],
            "application/vnd.google.colaboratory.intrinsic+json": {
              "type": "string"
            }
          },
          "metadata": {},
          "execution_count": 7
        }
      ]
    },
    {
      "cell_type": "markdown",
      "source": [
        "We will download and unzip the data."
      ],
      "metadata": {
        "id": "Pf446iCGoh81"
      }
    },
    {
      "cell_type": "code",
      "source": [
        "download_file(\n",
        "    \"http://files.grouplens.org/datasets/movielens/ml-25m.zip\",\n",
        "    os.path.join(INPUT_DATA_DIR, \"ml-25m.zip\"),\n",
        ")"
      ],
      "metadata": {
        "colab": {
          "base_uri": "https://localhost:8080/"
        },
        "id": "oS8c2ktYgRFY",
        "outputId": "9a0745a6-44e7-465d-f377-5e687e9cb989"
      },
      "execution_count": 8,
      "outputs": [
        {
          "output_type": "stream",
          "name": "stderr",
          "text": [
            "downloading ml-25m.zip: 262MB [00:03, 76.7MB/s]                           \n",
            "unzipping files: 100%|██████████| 8/8 [00:07<00:00,  1.01files/s]\n"
          ]
        }
      ]
    },
    {
      "cell_type": "markdown",
      "source": [
        "## Convert the dataset\n",
        "First, we take a look on the movie metadata."
      ],
      "metadata": {
        "id": "-wqkaZ0qotuL"
      }
    },
    {
      "cell_type": "code",
      "source": [
        "movies = df_lib.read_csv(os.path.join(INPUT_DATA_DIR, \"ml-25m/movies.csv\"))\n",
        "movies.head()"
      ],
      "metadata": {
        "colab": {
          "base_uri": "https://localhost:8080/",
          "height": 206
        },
        "id": "nKkoksVRgXk5",
        "outputId": "7671cbbf-58b9-4213-d2fb-5fc9c4d943d4"
      },
      "execution_count": 9,
      "outputs": [
        {
          "output_type": "execute_result",
          "data": {
            "text/plain": [
              "   movieId                               title  \\\n",
              "0        1                    Toy Story (1995)   \n",
              "1        2                      Jumanji (1995)   \n",
              "2        3             Grumpier Old Men (1995)   \n",
              "3        4            Waiting to Exhale (1995)   \n",
              "4        5  Father of the Bride Part II (1995)   \n",
              "\n",
              "                                        genres  \n",
              "0  Adventure|Animation|Children|Comedy|Fantasy  \n",
              "1                   Adventure|Children|Fantasy  \n",
              "2                               Comedy|Romance  \n",
              "3                         Comedy|Drama|Romance  \n",
              "4                                       Comedy  "
            ],
            "text/html": [
              "\n",
              "  <div id=\"df-85f648b1-e64f-48e0-a104-8f5c1f7bf121\">\n",
              "    <div class=\"colab-df-container\">\n",
              "      <div>\n",
              "<style scoped>\n",
              "    .dataframe tbody tr th:only-of-type {\n",
              "        vertical-align: middle;\n",
              "    }\n",
              "\n",
              "    .dataframe tbody tr th {\n",
              "        vertical-align: top;\n",
              "    }\n",
              "\n",
              "    .dataframe thead th {\n",
              "        text-align: right;\n",
              "    }\n",
              "</style>\n",
              "<table border=\"1\" class=\"dataframe\">\n",
              "  <thead>\n",
              "    <tr style=\"text-align: right;\">\n",
              "      <th></th>\n",
              "      <th>movieId</th>\n",
              "      <th>title</th>\n",
              "      <th>genres</th>\n",
              "    </tr>\n",
              "  </thead>\n",
              "  <tbody>\n",
              "    <tr>\n",
              "      <th>0</th>\n",
              "      <td>1</td>\n",
              "      <td>Toy Story (1995)</td>\n",
              "      <td>Adventure|Animation|Children|Comedy|Fantasy</td>\n",
              "    </tr>\n",
              "    <tr>\n",
              "      <th>1</th>\n",
              "      <td>2</td>\n",
              "      <td>Jumanji (1995)</td>\n",
              "      <td>Adventure|Children|Fantasy</td>\n",
              "    </tr>\n",
              "    <tr>\n",
              "      <th>2</th>\n",
              "      <td>3</td>\n",
              "      <td>Grumpier Old Men (1995)</td>\n",
              "      <td>Comedy|Romance</td>\n",
              "    </tr>\n",
              "    <tr>\n",
              "      <th>3</th>\n",
              "      <td>4</td>\n",
              "      <td>Waiting to Exhale (1995)</td>\n",
              "      <td>Comedy|Drama|Romance</td>\n",
              "    </tr>\n",
              "    <tr>\n",
              "      <th>4</th>\n",
              "      <td>5</td>\n",
              "      <td>Father of the Bride Part II (1995)</td>\n",
              "      <td>Comedy</td>\n",
              "    </tr>\n",
              "  </tbody>\n",
              "</table>\n",
              "</div>\n",
              "      <button class=\"colab-df-convert\" onclick=\"convertToInteractive('df-85f648b1-e64f-48e0-a104-8f5c1f7bf121')\"\n",
              "              title=\"Convert this dataframe to an interactive table.\"\n",
              "              style=\"display:none;\">\n",
              "        \n",
              "  <svg xmlns=\"http://www.w3.org/2000/svg\" height=\"24px\"viewBox=\"0 0 24 24\"\n",
              "       width=\"24px\">\n",
              "    <path d=\"M0 0h24v24H0V0z\" fill=\"none\"/>\n",
              "    <path d=\"M18.56 5.44l.94 2.06.94-2.06 2.06-.94-2.06-.94-.94-2.06-.94 2.06-2.06.94zm-11 1L8.5 8.5l.94-2.06 2.06-.94-2.06-.94L8.5 2.5l-.94 2.06-2.06.94zm10 10l.94 2.06.94-2.06 2.06-.94-2.06-.94-.94-2.06-.94 2.06-2.06.94z\"/><path d=\"M17.41 7.96l-1.37-1.37c-.4-.4-.92-.59-1.43-.59-.52 0-1.04.2-1.43.59L10.3 9.45l-7.72 7.72c-.78.78-.78 2.05 0 2.83L4 21.41c.39.39.9.59 1.41.59.51 0 1.02-.2 1.41-.59l7.78-7.78 2.81-2.81c.8-.78.8-2.07 0-2.86zM5.41 20L4 18.59l7.72-7.72 1.47 1.35L5.41 20z\"/>\n",
              "  </svg>\n",
              "      </button>\n",
              "      \n",
              "  <style>\n",
              "    .colab-df-container {\n",
              "      display:flex;\n",
              "      flex-wrap:wrap;\n",
              "      gap: 12px;\n",
              "    }\n",
              "\n",
              "    .colab-df-convert {\n",
              "      background-color: #E8F0FE;\n",
              "      border: none;\n",
              "      border-radius: 50%;\n",
              "      cursor: pointer;\n",
              "      display: none;\n",
              "      fill: #1967D2;\n",
              "      height: 32px;\n",
              "      padding: 0 0 0 0;\n",
              "      width: 32px;\n",
              "    }\n",
              "\n",
              "    .colab-df-convert:hover {\n",
              "      background-color: #E2EBFA;\n",
              "      box-shadow: 0px 1px 2px rgba(60, 64, 67, 0.3), 0px 1px 3px 1px rgba(60, 64, 67, 0.15);\n",
              "      fill: #174EA6;\n",
              "    }\n",
              "\n",
              "    [theme=dark] .colab-df-convert {\n",
              "      background-color: #3B4455;\n",
              "      fill: #D2E3FC;\n",
              "    }\n",
              "\n",
              "    [theme=dark] .colab-df-convert:hover {\n",
              "      background-color: #434B5C;\n",
              "      box-shadow: 0px 1px 3px 1px rgba(0, 0, 0, 0.15);\n",
              "      filter: drop-shadow(0px 1px 2px rgba(0, 0, 0, 0.3));\n",
              "      fill: #FFFFFF;\n",
              "    }\n",
              "  </style>\n",
              "\n",
              "      <script>\n",
              "        const buttonEl =\n",
              "          document.querySelector('#df-85f648b1-e64f-48e0-a104-8f5c1f7bf121 button.colab-df-convert');\n",
              "        buttonEl.style.display =\n",
              "          google.colab.kernel.accessAllowed ? 'block' : 'none';\n",
              "\n",
              "        async function convertToInteractive(key) {\n",
              "          const element = document.querySelector('#df-85f648b1-e64f-48e0-a104-8f5c1f7bf121');\n",
              "          const dataTable =\n",
              "            await google.colab.kernel.invokeFunction('convertToInteractive',\n",
              "                                                     [key], {});\n",
              "          if (!dataTable) return;\n",
              "\n",
              "          const docLinkHtml = 'Like what you see? Visit the ' +\n",
              "            '<a target=\"_blank\" href=https://colab.research.google.com/notebooks/data_table.ipynb>data table notebook</a>'\n",
              "            + ' to learn more about interactive tables.';\n",
              "          element.innerHTML = '';\n",
              "          dataTable['output_type'] = 'display_data';\n",
              "          await google.colab.output.renderOutput(dataTable, element);\n",
              "          const docLink = document.createElement('div');\n",
              "          docLink.innerHTML = docLinkHtml;\n",
              "          element.appendChild(docLink);\n",
              "        }\n",
              "      </script>\n",
              "    </div>\n",
              "  </div>\n",
              "  "
            ]
          },
          "metadata": {},
          "execution_count": 9
        }
      ]
    },
    {
      "cell_type": "markdown",
      "source": [
        "We can see, that genres are a multi-hot categorical features with different number of genres per movie. Currently, genres is a String and we want split the String into a list of Strings. In addition, we drop the title."
      ],
      "metadata": {
        "id": "ydRymwq3pC27"
      }
    },
    {
      "cell_type": "code",
      "source": [
        "movies[\"genres\"] = movies[\"genres\"].str.split(\"|\")\n",
        "movies = movies.drop(\"title\", axis=1)\n",
        "movies.head()"
      ],
      "metadata": {
        "colab": {
          "base_uri": "https://localhost:8080/",
          "height": 206
        },
        "id": "iGScZ-kcgdLz",
        "outputId": "240ca810-2c2c-40ea-f8ee-68000ca54c8b"
      },
      "execution_count": null,
      "outputs": [
        {
          "output_type": "execute_result",
          "data": {
            "text/plain": [
              "   movieId                                             genres\n",
              "0        1  [Adventure, Animation, Children, Comedy, Fantasy]\n",
              "1        2                     [Adventure, Children, Fantasy]\n",
              "2        3                                  [Comedy, Romance]\n",
              "3        4                           [Comedy, Drama, Romance]\n",
              "4        5                                           [Comedy]"
            ],
            "text/html": [
              "\n",
              "  <div id=\"df-f5d44c2c-255a-4d08-b687-cd3d43cf8b5e\">\n",
              "    <div class=\"colab-df-container\">\n",
              "      <div>\n",
              "<style scoped>\n",
              "    .dataframe tbody tr th:only-of-type {\n",
              "        vertical-align: middle;\n",
              "    }\n",
              "\n",
              "    .dataframe tbody tr th {\n",
              "        vertical-align: top;\n",
              "    }\n",
              "\n",
              "    .dataframe thead th {\n",
              "        text-align: right;\n",
              "    }\n",
              "</style>\n",
              "<table border=\"1\" class=\"dataframe\">\n",
              "  <thead>\n",
              "    <tr style=\"text-align: right;\">\n",
              "      <th></th>\n",
              "      <th>movieId</th>\n",
              "      <th>genres</th>\n",
              "    </tr>\n",
              "  </thead>\n",
              "  <tbody>\n",
              "    <tr>\n",
              "      <th>0</th>\n",
              "      <td>1</td>\n",
              "      <td>[Adventure, Animation, Children, Comedy, Fantasy]</td>\n",
              "    </tr>\n",
              "    <tr>\n",
              "      <th>1</th>\n",
              "      <td>2</td>\n",
              "      <td>[Adventure, Children, Fantasy]</td>\n",
              "    </tr>\n",
              "    <tr>\n",
              "      <th>2</th>\n",
              "      <td>3</td>\n",
              "      <td>[Comedy, Romance]</td>\n",
              "    </tr>\n",
              "    <tr>\n",
              "      <th>3</th>\n",
              "      <td>4</td>\n",
              "      <td>[Comedy, Drama, Romance]</td>\n",
              "    </tr>\n",
              "    <tr>\n",
              "      <th>4</th>\n",
              "      <td>5</td>\n",
              "      <td>[Comedy]</td>\n",
              "    </tr>\n",
              "  </tbody>\n",
              "</table>\n",
              "</div>\n",
              "      <button class=\"colab-df-convert\" onclick=\"convertToInteractive('df-f5d44c2c-255a-4d08-b687-cd3d43cf8b5e')\"\n",
              "              title=\"Convert this dataframe to an interactive table.\"\n",
              "              style=\"display:none;\">\n",
              "        \n",
              "  <svg xmlns=\"http://www.w3.org/2000/svg\" height=\"24px\"viewBox=\"0 0 24 24\"\n",
              "       width=\"24px\">\n",
              "    <path d=\"M0 0h24v24H0V0z\" fill=\"none\"/>\n",
              "    <path d=\"M18.56 5.44l.94 2.06.94-2.06 2.06-.94-2.06-.94-.94-2.06-.94 2.06-2.06.94zm-11 1L8.5 8.5l.94-2.06 2.06-.94-2.06-.94L8.5 2.5l-.94 2.06-2.06.94zm10 10l.94 2.06.94-2.06 2.06-.94-2.06-.94-.94-2.06-.94 2.06-2.06.94z\"/><path d=\"M17.41 7.96l-1.37-1.37c-.4-.4-.92-.59-1.43-.59-.52 0-1.04.2-1.43.59L10.3 9.45l-7.72 7.72c-.78.78-.78 2.05 0 2.83L4 21.41c.39.39.9.59 1.41.59.51 0 1.02-.2 1.41-.59l7.78-7.78 2.81-2.81c.8-.78.8-2.07 0-2.86zM5.41 20L4 18.59l7.72-7.72 1.47 1.35L5.41 20z\"/>\n",
              "  </svg>\n",
              "      </button>\n",
              "      \n",
              "  <style>\n",
              "    .colab-df-container {\n",
              "      display:flex;\n",
              "      flex-wrap:wrap;\n",
              "      gap: 12px;\n",
              "    }\n",
              "\n",
              "    .colab-df-convert {\n",
              "      background-color: #E8F0FE;\n",
              "      border: none;\n",
              "      border-radius: 50%;\n",
              "      cursor: pointer;\n",
              "      display: none;\n",
              "      fill: #1967D2;\n",
              "      height: 32px;\n",
              "      padding: 0 0 0 0;\n",
              "      width: 32px;\n",
              "    }\n",
              "\n",
              "    .colab-df-convert:hover {\n",
              "      background-color: #E2EBFA;\n",
              "      box-shadow: 0px 1px 2px rgba(60, 64, 67, 0.3), 0px 1px 3px 1px rgba(60, 64, 67, 0.15);\n",
              "      fill: #174EA6;\n",
              "    }\n",
              "\n",
              "    [theme=dark] .colab-df-convert {\n",
              "      background-color: #3B4455;\n",
              "      fill: #D2E3FC;\n",
              "    }\n",
              "\n",
              "    [theme=dark] .colab-df-convert:hover {\n",
              "      background-color: #434B5C;\n",
              "      box-shadow: 0px 1px 3px 1px rgba(0, 0, 0, 0.15);\n",
              "      filter: drop-shadow(0px 1px 2px rgba(0, 0, 0, 0.3));\n",
              "      fill: #FFFFFF;\n",
              "    }\n",
              "  </style>\n",
              "\n",
              "      <script>\n",
              "        const buttonEl =\n",
              "          document.querySelector('#df-f5d44c2c-255a-4d08-b687-cd3d43cf8b5e button.colab-df-convert');\n",
              "        buttonEl.style.display =\n",
              "          google.colab.kernel.accessAllowed ? 'block' : 'none';\n",
              "\n",
              "        async function convertToInteractive(key) {\n",
              "          const element = document.querySelector('#df-f5d44c2c-255a-4d08-b687-cd3d43cf8b5e');\n",
              "          const dataTable =\n",
              "            await google.colab.kernel.invokeFunction('convertToInteractive',\n",
              "                                                     [key], {});\n",
              "          if (!dataTable) return;\n",
              "\n",
              "          const docLinkHtml = 'Like what you see? Visit the ' +\n",
              "            '<a target=\"_blank\" href=https://colab.research.google.com/notebooks/data_table.ipynb>data table notebook</a>'\n",
              "            + ' to learn more about interactive tables.';\n",
              "          element.innerHTML = '';\n",
              "          dataTable['output_type'] = 'display_data';\n",
              "          await google.colab.output.renderOutput(dataTable, element);\n",
              "          const docLink = document.createElement('div');\n",
              "          docLink.innerHTML = docLinkHtml;\n",
              "          element.appendChild(docLink);\n",
              "        }\n",
              "      </script>\n",
              "    </div>\n",
              "  </div>\n",
              "  "
            ]
          },
          "metadata": {},
          "execution_count": 8
        }
      ]
    },
    {
      "cell_type": "code",
      "source": [
        "movies.to_parquet(os.path.join(INPUT_DATA_DIR, \"movies_converted.parquet\"))"
      ],
      "metadata": {
        "id": "0IFUErBkgdJp"
      },
      "execution_count": null,
      "outputs": []
    },
    {
      "cell_type": "code",
      "source": [
        "ratings = df_lib.read_csv(os.path.join(INPUT_DATA_DIR, \"ml-25m\", \"ratings.csv\"))\n",
        "ratings.head()"
      ],
      "metadata": {
        "colab": {
          "base_uri": "https://localhost:8080/",
          "height": 206
        },
        "id": "184E2XVEgdGB",
        "outputId": "e411208c-1ba4-4fd3-cc7a-8a08e8c49201"
      },
      "execution_count": null,
      "outputs": [
        {
          "output_type": "execute_result",
          "data": {
            "text/plain": [
              "   userId  movieId  rating   timestamp\n",
              "0       1      296     5.0  1147880044\n",
              "1       1      306     3.5  1147868817\n",
              "2       1      307     5.0  1147868828\n",
              "3       1      665     5.0  1147878820\n",
              "4       1      899     3.5  1147868510"
            ],
            "text/html": [
              "\n",
              "  <div id=\"df-405a169b-9620-49d5-bdef-25084e29b0b6\">\n",
              "    <div class=\"colab-df-container\">\n",
              "      <div>\n",
              "<style scoped>\n",
              "    .dataframe tbody tr th:only-of-type {\n",
              "        vertical-align: middle;\n",
              "    }\n",
              "\n",
              "    .dataframe tbody tr th {\n",
              "        vertical-align: top;\n",
              "    }\n",
              "\n",
              "    .dataframe thead th {\n",
              "        text-align: right;\n",
              "    }\n",
              "</style>\n",
              "<table border=\"1\" class=\"dataframe\">\n",
              "  <thead>\n",
              "    <tr style=\"text-align: right;\">\n",
              "      <th></th>\n",
              "      <th>userId</th>\n",
              "      <th>movieId</th>\n",
              "      <th>rating</th>\n",
              "      <th>timestamp</th>\n",
              "    </tr>\n",
              "  </thead>\n",
              "  <tbody>\n",
              "    <tr>\n",
              "      <th>0</th>\n",
              "      <td>1</td>\n",
              "      <td>296</td>\n",
              "      <td>5.0</td>\n",
              "      <td>1147880044</td>\n",
              "    </tr>\n",
              "    <tr>\n",
              "      <th>1</th>\n",
              "      <td>1</td>\n",
              "      <td>306</td>\n",
              "      <td>3.5</td>\n",
              "      <td>1147868817</td>\n",
              "    </tr>\n",
              "    <tr>\n",
              "      <th>2</th>\n",
              "      <td>1</td>\n",
              "      <td>307</td>\n",
              "      <td>5.0</td>\n",
              "      <td>1147868828</td>\n",
              "    </tr>\n",
              "    <tr>\n",
              "      <th>3</th>\n",
              "      <td>1</td>\n",
              "      <td>665</td>\n",
              "      <td>5.0</td>\n",
              "      <td>1147878820</td>\n",
              "    </tr>\n",
              "    <tr>\n",
              "      <th>4</th>\n",
              "      <td>1</td>\n",
              "      <td>899</td>\n",
              "      <td>3.5</td>\n",
              "      <td>1147868510</td>\n",
              "    </tr>\n",
              "  </tbody>\n",
              "</table>\n",
              "</div>\n",
              "      <button class=\"colab-df-convert\" onclick=\"convertToInteractive('df-405a169b-9620-49d5-bdef-25084e29b0b6')\"\n",
              "              title=\"Convert this dataframe to an interactive table.\"\n",
              "              style=\"display:none;\">\n",
              "        \n",
              "  <svg xmlns=\"http://www.w3.org/2000/svg\" height=\"24px\"viewBox=\"0 0 24 24\"\n",
              "       width=\"24px\">\n",
              "    <path d=\"M0 0h24v24H0V0z\" fill=\"none\"/>\n",
              "    <path d=\"M18.56 5.44l.94 2.06.94-2.06 2.06-.94-2.06-.94-.94-2.06-.94 2.06-2.06.94zm-11 1L8.5 8.5l.94-2.06 2.06-.94-2.06-.94L8.5 2.5l-.94 2.06-2.06.94zm10 10l.94 2.06.94-2.06 2.06-.94-2.06-.94-.94-2.06-.94 2.06-2.06.94z\"/><path d=\"M17.41 7.96l-1.37-1.37c-.4-.4-.92-.59-1.43-.59-.52 0-1.04.2-1.43.59L10.3 9.45l-7.72 7.72c-.78.78-.78 2.05 0 2.83L4 21.41c.39.39.9.59 1.41.59.51 0 1.02-.2 1.41-.59l7.78-7.78 2.81-2.81c.8-.78.8-2.07 0-2.86zM5.41 20L4 18.59l7.72-7.72 1.47 1.35L5.41 20z\"/>\n",
              "  </svg>\n",
              "      </button>\n",
              "      \n",
              "  <style>\n",
              "    .colab-df-container {\n",
              "      display:flex;\n",
              "      flex-wrap:wrap;\n",
              "      gap: 12px;\n",
              "    }\n",
              "\n",
              "    .colab-df-convert {\n",
              "      background-color: #E8F0FE;\n",
              "      border: none;\n",
              "      border-radius: 50%;\n",
              "      cursor: pointer;\n",
              "      display: none;\n",
              "      fill: #1967D2;\n",
              "      height: 32px;\n",
              "      padding: 0 0 0 0;\n",
              "      width: 32px;\n",
              "    }\n",
              "\n",
              "    .colab-df-convert:hover {\n",
              "      background-color: #E2EBFA;\n",
              "      box-shadow: 0px 1px 2px rgba(60, 64, 67, 0.3), 0px 1px 3px 1px rgba(60, 64, 67, 0.15);\n",
              "      fill: #174EA6;\n",
              "    }\n",
              "\n",
              "    [theme=dark] .colab-df-convert {\n",
              "      background-color: #3B4455;\n",
              "      fill: #D2E3FC;\n",
              "    }\n",
              "\n",
              "    [theme=dark] .colab-df-convert:hover {\n",
              "      background-color: #434B5C;\n",
              "      box-shadow: 0px 1px 3px 1px rgba(0, 0, 0, 0.15);\n",
              "      filter: drop-shadow(0px 1px 2px rgba(0, 0, 0, 0.3));\n",
              "      fill: #FFFFFF;\n",
              "    }\n",
              "  </style>\n",
              "\n",
              "      <script>\n",
              "        const buttonEl =\n",
              "          document.querySelector('#df-405a169b-9620-49d5-bdef-25084e29b0b6 button.colab-df-convert');\n",
              "        buttonEl.style.display =\n",
              "          google.colab.kernel.accessAllowed ? 'block' : 'none';\n",
              "\n",
              "        async function convertToInteractive(key) {\n",
              "          const element = document.querySelector('#df-405a169b-9620-49d5-bdef-25084e29b0b6');\n",
              "          const dataTable =\n",
              "            await google.colab.kernel.invokeFunction('convertToInteractive',\n",
              "                                                     [key], {});\n",
              "          if (!dataTable) return;\n",
              "\n",
              "          const docLinkHtml = 'Like what you see? Visit the ' +\n",
              "            '<a target=\"_blank\" href=https://colab.research.google.com/notebooks/data_table.ipynb>data table notebook</a>'\n",
              "            + ' to learn more about interactive tables.';\n",
              "          element.innerHTML = '';\n",
              "          dataTable['output_type'] = 'display_data';\n",
              "          await google.colab.output.renderOutput(dataTable, element);\n",
              "          const docLink = document.createElement('div');\n",
              "          docLink.innerHTML = docLinkHtml;\n",
              "          element.appendChild(docLink);\n",
              "        }\n",
              "      </script>\n",
              "    </div>\n",
              "  </div>\n",
              "  "
            ]
          },
          "metadata": {},
          "execution_count": 10
        }
      ]
    },
    {
      "cell_type": "code",
      "source": [
        "ratings = ratings.drop(\"timestamp\", axis=1)\n",
        "\n",
        "# shuffle the dataset\n",
        "ratings = ratings.sample(len(ratings), replace=False)\n",
        "\n",
        "# split the train_df as training and validation data sets.\n",
        "num_valid = int(len(ratings) * 0.2)\n",
        "\n",
        "train = ratings[:-num_valid]\n",
        "valid = ratings[-num_valid:]"
      ],
      "metadata": {
        "id": "IwZGktjTgdCb"
      },
      "execution_count": null,
      "outputs": []
    },
    {
      "cell_type": "code",
      "source": [
        "train.to_parquet(os.path.join(INPUT_DATA_DIR, \"train.parquet\"))\n",
        "valid.to_parquet(os.path.join(INPUT_DATA_DIR, \"valid.parquet\"))"
      ],
      "metadata": {
        "id": "PDfLYWmvgc-6"
      },
      "execution_count": null,
      "outputs": []
    },
    {
      "cell_type": "code",
      "source": [
        ""
      ],
      "metadata": {
        "id": "aNGMPwP6gc8K"
      },
      "execution_count": null,
      "outputs": []
    }
  ]
}