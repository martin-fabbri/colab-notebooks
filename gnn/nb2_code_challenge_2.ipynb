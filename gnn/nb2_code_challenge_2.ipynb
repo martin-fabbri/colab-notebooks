{
  "nbformat": 4,
  "nbformat_minor": 0,
  "metadata": {
    "colab": {
      "name": "NB2_CodeChallenge2.ipynb",
      "provenance": [],
      "collapsed_sections": [],
      "include_colab_link": true
    },
    "kernelspec": {
      "name": "python3",
      "display_name": "Python 3"
    },
    "accelerator": "GPU"
  },
  "cells": [
    {
      "cell_type": "markdown",
      "metadata": {
        "id": "view-in-github",
        "colab_type": "text"
      },
      "source": [
        "<a href=\"https://colab.research.google.com/github/martin-fabbri/colab-notebooks/blob/master/gnn/nb2_code_challenge_2.ipynb\" target=\"_parent\"><img src=\"https://colab.research.google.com/assets/colab-badge.svg\" alt=\"Open In Colab\"/></a>"
      ]
    },
    {
      "cell_type": "markdown",
      "metadata": {
        "id": "BxcxAuHPJpu2"
      },
      "source": [
        "### Before you start: don't forget to change your runtime\n",
        "\n",
        "You might need to change the run time to \"GPU\" in order to run your code successfully (under Runtime -> Change runtime type).\n",
        "\n",
        "### Code Challenge Question\n",
        "\n",
        "Using the `pubmed_dataset_student.h5` that has been been randomly split into train, val and test, modify the existing `GAT` archicture to get 80% accuracy. Bonus points for anyone that manages to get over 80% accuracy! \n",
        "\n",
        "HINT: Experiment with different types of activation functions, neighbourhood sizes and convolutional layers. "
      ]
    },
    {
      "cell_type": "code",
      "metadata": {
        "id": "i_QkkMtwJCOU",
        "outputId": "353f3ee6-f4e5-4288-b1b3-da1fbc18f0cf",
        "colab": {
          "base_uri": "https://localhost:8080/"
        }
      },
      "source": [
        "!pip install -q torch-scatter -f https://pytorch-geometric.com/whl/torch-1.8.0+cu101.html\n",
        "!pip install -q torch-sparse -f https://pytorch-geometric.com/whl/torch-1.8.0+cu101.html\n",
        "!pip install -q torch-geometric\n",
        "!pip install git+https://github.com/Aggregate-Intellect/tutorial-notebook-utils.git"
      ],
      "execution_count": 1,
      "outputs": [
        {
          "output_type": "stream",
          "text": [
            "\u001b[K     |████████████████████████████████| 2.6MB 6.0MB/s \n",
            "\u001b[K     |████████████████████████████████| 1.5MB 6.3MB/s \n",
            "\u001b[K     |████████████████████████████████| 215kB 8.8MB/s \n",
            "\u001b[K     |████████████████████████████████| 235kB 14.6MB/s \n",
            "\u001b[K     |████████████████████████████████| 2.2MB 15.1MB/s \n",
            "\u001b[K     |████████████████████████████████| 51kB 8.6MB/s \n",
            "\u001b[?25h  Building wheel for torch-geometric (setup.py) ... \u001b[?25l\u001b[?25hdone\n",
            "Collecting git+https://github.com/Aggregate-Intellect/tutorial-notebook-utils.git\n",
            "  Cloning https://github.com/Aggregate-Intellect/tutorial-notebook-utils.git to /tmp/pip-req-build-stl607da\n",
            "  Running command git clone -q https://github.com/Aggregate-Intellect/tutorial-notebook-utils.git /tmp/pip-req-build-stl607da\n",
            "Building wheels for collected packages: ai-notebook-utils\n",
            "  Building wheel for ai-notebook-utils (setup.py) ... \u001b[?25l\u001b[?25hdone\n",
            "  Created wheel for ai-notebook-utils: filename=ai_notebook_utils-0.0.1-cp37-none-any.whl size=2051 sha256=27f025e523b469e6c43f068b100b01469a37a37eeb78140e4478627a8ec7d982\n",
            "  Stored in directory: /tmp/pip-ephem-wheel-cache-6t3ge0k3/wheels/41/c0/dd/c53905407cd49b60d4b0d9f657882a17567f4d6af20ea21146\n",
            "Successfully built ai-notebook-utils\n",
            "Installing collected packages: ai-notebook-utils\n",
            "Successfully installed ai-notebook-utils-0.0.1\n"
          ],
          "name": "stdout"
        }
      ]
    },
    {
      "cell_type": "code",
      "metadata": {
        "id": "O2HZnlUEJtKp"
      },
      "source": [
        "from ai_notebook_utils import *\n",
        "import random\n",
        "import numpy as np\n",
        "import torch\n",
        "import torch.nn.functional as F\n",
        "from torch_geometric.datasets import Planetoid\n",
        "import torch_geometric.transforms as T\n",
        "from torch_geometric.nn import SGConv, GATConv"
      ],
      "execution_count": 2,
      "outputs": []
    },
    {
      "cell_type": "code",
      "metadata": {
        "id": "LaELgOsxPzsq",
        "colab": {
          "base_uri": "https://localhost:8080/"
        },
        "outputId": "980b4c33-cc49-44ce-ae0e-2ff9ee473731"
      },
      "source": [
        "seed=99\n",
        "random.seed(seed)\n",
        "np.random.seed(seed)\n",
        "torch.manual_seed(seed)"
      ],
      "execution_count": 3,
      "outputs": [
        {
          "output_type": "execute_result",
          "data": {
            "text/plain": [
              "<torch._C.Generator at 0x7f45ed2b6710>"
            ]
          },
          "metadata": {
            "tags": []
          },
          "execution_count": 3
        }
      ]
    },
    {
      "cell_type": "code",
      "metadata": {
        "id": "ZrRcHOr0Mpxz",
        "outputId": "d2558c44-4eac-41cb-db62-0b6c7ef9bf0f",
        "colab": {
          "base_uri": "https://localhost:8080/"
        }
      },
      "source": [
        "!wget https://ai-notebook-public-assets.s3.amazonaws.com/graphnn/codechallenge/nb2/pubmed_dataset_student.h5\n",
        "data_pubmed = torch.load('pubmed_dataset_student.h5')\n",
        "num_classes = len(data_pubmed.y.unique())"
      ],
      "execution_count": 4,
      "outputs": [
        {
          "output_type": "stream",
          "text": [
            "--2021-05-01 14:23:49--  https://ai-notebook-public-assets.s3.amazonaws.com/graphnn/codechallenge/nb2/pubmed_dataset_student.h5\n",
            "Resolving ai-notebook-public-assets.s3.amazonaws.com (ai-notebook-public-assets.s3.amazonaws.com)... 52.217.108.68\n",
            "Connecting to ai-notebook-public-assets.s3.amazonaws.com (ai-notebook-public-assets.s3.amazonaws.com)|52.217.108.68|:443... connected.\n",
            "HTTP request sent, awaiting response... 200 OK\n",
            "Length: 41070311 (39M) [application/x-www-form-urlencoded]\n",
            "Saving to: ‘pubmed_dataset_student.h5’\n",
            "\n",
            "pubmed_dataset_stud 100%[===================>]  39.17M  30.6MB/s    in 1.3s    \n",
            "\n",
            "2021-05-01 14:23:50 (30.6 MB/s) - ‘pubmed_dataset_student.h5’ saved [41070311/41070311]\n",
            "\n"
          ],
          "name": "stdout"
        }
      ]
    },
    {
      "cell_type": "code",
      "metadata": {
        "id": "XOHIT_leUnrw",
        "outputId": "65bf42fb-ff58-45be-ad1c-3093702d4b72",
        "colab": {
          "base_uri": "https://localhost:8080/"
        }
      },
      "source": [
        "data_pubmed.num_nodes"
      ],
      "execution_count": 13,
      "outputs": [
        {
          "output_type": "execute_result",
          "data": {
            "text/plain": [
              "19717"
            ]
          },
          "metadata": {
            "tags": []
          },
          "execution_count": 13
        }
      ]
    },
    {
      "cell_type": "code",
      "metadata": {
        "id": "EEowATOzNb2a"
      },
      "source": [
        "def compute_accuracy(model, data, mask):\n",
        "  # Set the model.training attribute to False\n",
        "  model.eval()\n",
        "  logprob = model(data)\n",
        "  y_pred = logprob[mask].max(1)[1]\n",
        "  y_true=data.y[mask]\n",
        "  acc = y_pred.eq(y_true).sum()/ mask.sum().float()\n",
        "  return acc.item()"
      ],
      "execution_count": 5,
      "outputs": []
    },
    {
      "cell_type": "code",
      "metadata": {
        "id": "T0SeiDgzOCC7"
      },
      "source": [
        "def predict(model, data):\n",
        "    #acc_test = compute_accuracy(model, data, data.test_mask)\n",
        "    logprob = model(data)\n",
        "    y_pred = logprob[data.test_mask].max(1)[1]\n",
        "    if torch.cuda.is_available():\n",
        "      y_pred = y_pred.cpu().detach().numpy().reshape(-1,)\n",
        "    else:\n",
        "      y_pred = y_pred.numpy().reshape(-1,)\n",
        "    return y_pred"
      ],
      "execution_count": 6,
      "outputs": []
    },
    {
      "cell_type": "code",
      "metadata": {
        "id": "p2JRmKzsx5Il"
      },
      "source": [
        "# TODO: complete your code here\n",
        "class GATNet(torch.nn.Module):\n",
        "  def __init__(self, data, heads_layer1, \n",
        "               heads_layer2, dropout, dropout_alphas):\n",
        "    pass\n",
        "  \n",
        "  def forward(self, data):\n",
        "    pass"
      ],
      "execution_count": 7,
      "outputs": []
    },
    {
      "cell_type": "code",
      "metadata": {
        "id": "FYRM8gSEx9GD"
      },
      "source": [
        "def train(model, data, optimizer):\n",
        "  # Set the model.training attribute to True\n",
        "  model.train() \n",
        "\n",
        "  # Reset the gradients of all the variables in a model\n",
        "  optimizer.zero_grad() \n",
        "\n",
        "  # Get the output of the network. The output is a log probability of each\n",
        "  log_softmax = model(data) \n",
        "\n",
        "  labels = data.y # Labels of each node\n",
        "\n",
        "  # Use only the nodes specified by the train_mask to compute the loss.\n",
        "  nll_loss = F.nll_loss(log_softmax[data.train_mask], labels[data.train_mask])\n",
        "  \n",
        "  #Computes the gradients of all model parameters used to compute the nll_loss\n",
        "  #Note: These can be listed by looking at model.parameters()\n",
        "  nll_loss.backward()\n",
        "\n",
        "  # Finally, the optimizer looks at the gradients of the parameters \n",
        "  # and updates the parameters with the goal of minimizing the loss.\n",
        "  optimizer.step() \n",
        "  "
      ],
      "execution_count": 8,
      "outputs": []
    },
    {
      "cell_type": "code",
      "metadata": {
        "id": "zOw7TT6rx-PB"
      },
      "source": [
        "@torch.no_grad() # Decorator to deactivate autograd functionality  \n",
        "def test(model, data):\n",
        "  acc_train = compute_accuracy(model, data, data.train_mask)\n",
        "  acc_val = compute_accuracy(model, data, data.val_mask)\n",
        "  acc_test = compute_accuracy(model, data, data.test_mask)\n",
        "  return acc_train, acc_val, acc_test"
      ],
      "execution_count": 9,
      "outputs": []
    },
    {
      "cell_type": "code",
      "metadata": {
        "id": "6ngBbaJKyBAQ",
        "outputId": "da4025d8-9be5-42bd-ab9c-f4001c38d6b4",
        "colab": {
          "base_uri": "https://localhost:8080/",
          "height": 228
        }
      },
      "source": [
        "device = torch.device(\"cuda\" if torch.cuda.is_available() else \"cpu\")\n",
        "\n",
        "data_pubmed= data_pubmed.to(device)\n",
        "\n",
        "# TODO: pass in necessary parameter for GATNet\n",
        "model_pubmed_gat = GATNet().to(device)\n",
        "\n",
        "optimizer = torch.optim.Adam(model_pubmed_gat.parameters(), lr=0.005, weight_decay=1e-3)"
      ],
      "execution_count": 10,
      "outputs": [
        {
          "output_type": "error",
          "ename": "TypeError",
          "evalue": "ignored",
          "traceback": [
            "\u001b[0;31m---------------------------------------------------------------------------\u001b[0m",
            "\u001b[0;31mTypeError\u001b[0m                                 Traceback (most recent call last)",
            "\u001b[0;32m<ipython-input-10-cdddd36f39eb>\u001b[0m in \u001b[0;36m<module>\u001b[0;34m()\u001b[0m\n\u001b[1;32m      4\u001b[0m \u001b[0;34m\u001b[0m\u001b[0m\n\u001b[1;32m      5\u001b[0m \u001b[0;31m# TODO: pass in necessary parameter for GATNet\u001b[0m\u001b[0;34m\u001b[0m\u001b[0;34m\u001b[0m\u001b[0;34m\u001b[0m\u001b[0m\n\u001b[0;32m----> 6\u001b[0;31m \u001b[0mmodel_pubmed_gat\u001b[0m \u001b[0;34m=\u001b[0m \u001b[0mGATNet\u001b[0m\u001b[0;34m(\u001b[0m\u001b[0;34m)\u001b[0m\u001b[0;34m.\u001b[0m\u001b[0mto\u001b[0m\u001b[0;34m(\u001b[0m\u001b[0mdevice\u001b[0m\u001b[0;34m)\u001b[0m\u001b[0;34m\u001b[0m\u001b[0;34m\u001b[0m\u001b[0m\n\u001b[0m\u001b[1;32m      7\u001b[0m \u001b[0;34m\u001b[0m\u001b[0m\n\u001b[1;32m      8\u001b[0m \u001b[0moptimizer\u001b[0m \u001b[0;34m=\u001b[0m \u001b[0mtorch\u001b[0m\u001b[0;34m.\u001b[0m\u001b[0moptim\u001b[0m\u001b[0;34m.\u001b[0m\u001b[0mAdam\u001b[0m\u001b[0;34m(\u001b[0m\u001b[0mmodel_pubmed_gat\u001b[0m\u001b[0;34m.\u001b[0m\u001b[0mparameters\u001b[0m\u001b[0;34m(\u001b[0m\u001b[0;34m)\u001b[0m\u001b[0;34m,\u001b[0m \u001b[0mlr\u001b[0m\u001b[0;34m=\u001b[0m\u001b[0;36m0.005\u001b[0m\u001b[0;34m,\u001b[0m \u001b[0mweight_decay\u001b[0m\u001b[0;34m=\u001b[0m\u001b[0;36m1e-3\u001b[0m\u001b[0;34m)\u001b[0m\u001b[0;34m\u001b[0m\u001b[0;34m\u001b[0m\u001b[0m\n",
            "\u001b[0;31mTypeError\u001b[0m: __init__() missing 5 required positional arguments: 'data', 'heads_layer1', 'heads_layer2', 'dropout', and 'dropout_alphas'"
          ]
        }
      ]
    },
    {
      "cell_type": "code",
      "metadata": {
        "id": "zC7wodIwyC-V"
      },
      "source": [
        "for epoch in range(1, 201):\n",
        "    train(model_pubmed_gat, data_pubmed, optimizer)\n",
        "    if epoch %10 ==0:\n",
        "      log = 'Epoch: {:03d}, Train: {:.4f}, Val: {:.4f}, Test {:.4f}'\n",
        "      train_acc, val_acc, test_acc = test(model_pubmed_gat,data_pubmed)\n",
        "      #print(train_acc, val_acc, test_acc)\n",
        "      print(log.format(epoch, train_acc, val_acc, test_acc))"
      ],
      "execution_count": null,
      "outputs": []
    },
    {
      "cell_type": "code",
      "metadata": {
        "id": "L_x_hJ_IPqrL",
        "colab": {
          "base_uri": "https://localhost:8080/"
        },
        "outputId": "7999f0a2-3d7d-4f5b-a0aa-10748020dbca"
      },
      "source": [
        "# save model test results and send it off to AISC for evaluation\n",
        "answer = predict(model_pubmed_gat, data_pubmed) "
      ],
      "execution_count": null,
      "outputs": [
        {
          "output_type": "execute_result",
          "data": {
            "text/plain": [
              "(885,)"
            ]
          },
          "metadata": {
            "tags": []
          },
          "execution_count": 21
        }
      ]
    },
    {
      "cell_type": "code",
      "metadata": {
        "id": "2QijWVQgTOLQ",
        "colab": {
          "base_uri": "https://localhost:8080/"
        },
        "outputId": "e588abfb-9cfb-4e27-b843-1a24a6063e15"
      },
      "source": [
        "score_answer(\"graphnn-2020::nb2-codechallenge1::pubmed\", answer)"
      ],
      "execution_count": null,
      "outputs": [
        {
          "output_type": "stream",
          "text": [
            "Submission result:  {\"accuracy\": 0.7909604519774012, \"passed\": true}\n"
          ],
          "name": "stdout"
        }
      ]
    }
  ]
}