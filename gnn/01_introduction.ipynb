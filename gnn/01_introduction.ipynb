{
  "nbformat": 4,
  "nbformat_minor": 0,
  "metadata": {
    "colab": {
      "name": "1-Introduction.ipynb",
      "provenance": [],
      "collapsed_sections": [],
      "machine_shape": "hm",
      "include_colab_link": true
    },
    "kernelspec": {
      "name": "python3",
      "display_name": "Python 3"
    }
  },
  "cells": [
    {
      "cell_type": "markdown",
      "metadata": {
        "id": "view-in-github",
        "colab_type": "text"
      },
      "source": [
        "<a href=\"https://colab.research.google.com/github/martin-fabbri/colab-notebooks/blob/master/gnn/01_introduction.ipynb\" target=\"_parent\"><img src=\"https://colab.research.google.com/assets/colab-badge.svg\" alt=\"Open In Colab\"/></a>"
      ]
    },
    {
      "cell_type": "markdown",
      "metadata": {
        "id": "ikcdaz2ktLI_"
      },
      "source": [
        "# Introduction\n",
        "In this notebook, we will go through the basics of graphs and introduce Pytorch Geometric (PyG) and NetworkX.\n"
      ]
    },
    {
      "cell_type": "markdown",
      "metadata": {
        "id": "uMDKmmW96HPr"
      },
      "source": [
        "## What Are Graphs?"
      ]
    },
    {
      "cell_type": "markdown",
      "metadata": {
        "id": "gZnBpSMJ1J9x"
      },
      "source": [
        "<center><img src=\"https://ai.science/api/authorized-images/UYdgNW5993ssQoBT1A6CLFw7FacErIJuHs%2Ft9wOKPUn4apc7P48JgpOch%2BNocLQpTQKC6SVZG27biEoYaT2pNAeE5bH7vtgErt6KSAY1VWcFpoiNteAWcyph3s3ewuYyNWRPzUjrzpQUiGRiylIc3HW3RIrRbs4oKYcSJkB9h25R%2BXUUPyjwcGKz58aanUhAmIzeAL1CxNg2zfZ5n8r4uQxDLQeDNEZYonz6QqSMbCtTed%2Fvw6Q9cTViejVJXQsgLCcxGNg9E1rQ1X4PdhIb%2FZsBE1p4hodBVWVh12NU%2FtZYnoTw34Bf0zEi3fTjS8M3MKn6m6XE0r8aWHMhHdoVYSV3ZKeZ6ulySsnB8cvyv8pPUApD%2FOmuLscL7u6ALjBB5UU2h3yRGiPjB5EzCnk4Re52wjtv8SNPaubgl6JfJCLZVHeo2B%2FqYLIYo6k%2BzrUSOSKBryfREMsItBnd%2B5uN54RjokaZpHRlBFqRhM0lqVtHDnmDgXQYTmZZAEny8lxZu5EaUKkhxyN2qYj54aNKYF%2BiQmxrmhrJTG%2FNK%2F8457W3FP%2FXov4zjOgNEXFP9ukwRZCc8uxJzxNE%2FhJQBMyDjsrYqg%2BaOG8dv8KvsFQXSdJ3X1FzCgNaJZGDnBIKxFESPrloSJs9XjGojo8JzzXpbkNjhddvFGYNni%2BHo3PkfAU%3D0\" width=\"30%\" > </center>\n",
        "\n",
        "\n",
        "\n",
        "A variety of real-world data is best represented as **graphs** (networks), which are composed of a set of **nodes** (representing objects) and a set of **edges** (representing relationships between these objects). Common examples include:\n",
        "\n",
        "*   social networks: nodes represent users, and edges represent their friendships\n",
        "*   molecular graph: nodes represent atoms, and edges represent chemical bonds\n",
        "*   transportation networks: edges represent routes, and nodes represent intersections\n",
        "\n",
        "\n",
        "<center><img src=\"https://ai.science/api/authorized-images/cflQ9xMQtkM0scsgwytr52zm%2Fdkpe39ejVqOLmHCJU%2F1dQN5b2U62ZiJ%2Bse6L00Sx331TAJh7qybBHRacQvbGu33CH81IAgMv7SPYmEyA4ZnpPdC%2FLq1ZP2r%2Fl%2F7ESugF1SZATFb8RTdzaZIXYTIVPVYj6p%2FpJX2BUA4h5zMfl%2BfxifhSX0tqiKjmREgdIDN26gRphxYl6aKTrxnxG782qogTDs96%2BuZZj3%2B7ZXwvrat%2Fp2hjBuOxlqldw5gwiuZpnWHbHB1iOyGinbDGktqtHCumZfPvffA%2FXcrzAeWrm7HVdfvGZITvHvdIvnguYU3%2BiKhwKSzH%2BRVrhCEVHm6WZ7cOpnbMO18sEoWdq1qDCIWmC46VGihBB8kvojl4jeseo3cOumIB%2F%2BPYc4WYwULHL%2FbJHzb0wRZfdbS5ZPp5xmez5H6OpIpueHixQ5nuDJEjXDU%2F%2FgdbKmm2rcM5xmoMjCZlUOM4XWR1qax65ZzXz7ieFtjwgz%2BczqDSdhuHAGg0De5%2BYI8uMeHYHYrj9NbVMED16eRSDhlXGOIsYdyOCa%2FsmXzeYiA%2B6881U8AD%2Bt50RD3BAcZ2%2B%2Bk2RoDp7cBOAzARG0rjJVJ3erdfNdhJfNA6sZ9befead0%2BronwPg497Y9PKDkAQMUnJKBw%2FdOXan%2FTfh0pnStloqa8HLgPuWg%3D\" width=\"33%\"><img src=\"https://ai.science/api/authorized-images/l%2Bi6WAna%2F%2B9EEfr8%2FzIJefpAmW38nkoWLptpUtVuGlxNXqgmwyLB%2Ft%2BH7vn1oe5TbewZRITh%2BjPQqjVo9%2By9nM8efwGXjDzfUNRGRwmhCwEkQPoEq7BOAYnjioczqITreu4x3nXxFd%2FZmwxwM8Dx%2Bqy03XOBAjoZwwprOpXdeDVHXgxMaosjcZFCzY97ByQBx7fJLIwsA4ha3h24HC6%2BLRCN%2F1QbMlqlzK%2BtDuvoAhWVZYEh8aKU%2F4dOSEiPCsn97yk0uexXfzDtdwnTL58V%2F2dcq%2FqSwKHi%2BwrDLHFxG%2FhjAHVH8Pki32%2Fu%2Fh7AnZIHcoBhQD71WuCJl88ow3OUdIGL%2FAT99RQgFPOCBSlu7bOFjaufKEXpnsBRH2lTaGUld9qVjsg%2BgwHwhFJx31XJVhBAF9Lie1a614nR2I0IaRNg3GLq0YoHmDM2fXYLA4bVtpRAQWCU7KjyK5GNyxl4gosncovNtLKyMWM%2BGnsUaFtqcG58TGsUi1rkE2rsWsyzYoJje5mYpyFvDz91XSoHsvoT8DDreDmm5n3tBZR8ICruGee8JwfqG4Y7LveA2MlCEiBW63FT%2F9pKBUC8kjQ%2F1vo7NeEQ0qb6BjccZW%2FbY2uUIDmf%2FlNR0H7QjwhQxvyK01GnBZq6gXf2v%2FqIf3Oka1LypfbKagV4smpFPpvcQxs%3D\" width=\"33%\"><img src=\"https://ai.science/api/authorized-images/Ha7%2B7AGuRds1ctJWbqt9iJnhIsJ9ETX6IHmGfjmf1iNWc5wwZvpViFHr0QiNfCuIjK4AsEz9A6xYfjW4Ya1dUR0AAdp%2FLlT23DjnwHfAHQ7wEbL1KI%2BHH5mRFCN88XAsEC2KRx9lwmile11ZP%2BmD6Jcm5M2J1VPfduefWdNMTmF9wjYbgFyi97mewoHlUI5%2B7iWajhsqvrr14bwG20LxvFqzkCWf0FFkMhCPFgHDmhki7Fc2XSvAh%2FzpXKHdpCDCiztzQMxakOnasD85uSBFo6WLLzNXbE9IsYTT6b2qhwUDa2VTYXXDci4%2BUVWyY0r95PCBNEBFr6rM0t%2B6N1w3U5ILNkBmegWRzP8mkGp7Xe9qWQu%2F1PsxpdUEmPkXvmHVziQFHaNAaOZRtGnF%2FSyOEuszzpraUH5P8TRI3RVTEB3klnO0qTndIRfhViB6EXxvUkLynLpRgh5o5A6LJjGTnoD%2B%2B7pea20vGefhfBMGRsvYdOnHMZc2moBIC4EwqPhgbn2r%2F1gJtmArNXZfphcKpUOkQD3aqc6mvRDSA314QaCTi%2FOPMVTuBJq4stF8LKV%2FxsoTHUkag3OREXcdpEKoFSFc4c75evHrhfanLLoXuS7py0z%2FdLXp19nukwVI3cpXudDQ4qP2FZEObvuSv6w3TL3IKCi9z16lUPFmJEKN%2FpY%3D\" width=\"33%\"></center>\n",
        "\n",
        "The nodes and edges in a graph may have attributes. For example, the nodes in a social network graph may have information about each user (e.g. date of birth, current location etc.), and the edges may contain information about the relation between the users (e.g. date of connection, number of messages sent between the users, etc.).\n",
        "\n",
        "\n",
        "\n",
        "\n",
        "\n",
        "\n"
      ]
    },
    {
      "cell_type": "markdown",
      "metadata": {
        "id": "ehEF16AttWUc"
      },
      "source": [
        "# Definitions"
      ]
    },
    {
      "cell_type": "markdown",
      "metadata": {
        "id": "zdo3OZpC_-XN"
      },
      "source": [
        "## Graph\n",
        "We will define a graph as a tuple $G=(V,E,\\mathbf{u})$.\n",
        "\n",
        "*   $V$ is a set of node features  $V=\\{\\mathbf{v}_i\\}_{i=1:N^v}$, where $\\mathbf{v}_i$ is the feature vector of node $v_i$ and $N^v$ is the number of nodes (Note: The use of $v$ comes from the term \"**vertex**\" which can be used interchangeably with the term \"node\"). \n",
        "*   $E$ is a set of edges  $E=\\{(r_k, s_k)\\}_{k=1:N^e}$ where $r_k$ is the index of the target (or receiver) node, $s_k$ is the index of the source node, and $N^e$ is the number of edges. Note that another common convention is to define edges as  $E=\\{(s_k, r_k)\\}_{k=1:N^e}$.\n",
        "\n",
        " If the edges have features, then $E$ can be written as $E=\\{(\\mathbf{e}_k, r_k, s_k)\\}_{k=1:N^e}$  where $\\mathbf{e}_k$ is the feature vector of edge $k$. \n",
        "\n",
        "*   $\\mathbf{u}$ is the feature vector of the graph.\n",
        "<center><img src=\"https://ai.science/api/authorized-images/w2vNrEQostOQWI7NKXYlPTdN3YGpEe%2FE5DkfULAz4VtFltXMiDuQmCwRDJ2soT6q%2B1G29Wf3adihAbikxK0Lz%2B4wH8dhXIlbgcVqd%2Br95456yMNLUcAsHJSrm89iCJdGmMdafLmx8UrLt3upApSXCPJatcpEJEA4jQUB0tsNocpaA%2BACfntZ8A19BUoUPRm570%2BgHYBcpfeoEXF9O6bQR%2FcUcrU%2FqiM6wffWzvA4sMsCcBHz3Q%2BvhG4RvCXbNIczohgJBTyxYcMsDBzRMQXFvRdE%2FwpvFr1zFdiIvY7NITGv9KykjzCk2N6%2BoYKz4ltEhV1IWhAsWDLz51qL5SucwiAywCf99rwLor7lqreYp9gRnjL9EkOqamLTtD9kYQ%2BG5iYT8kV4bJbjKAsFGqyn35wYNFMViMx3TiCccdiufWS%2BI0Fls8yZDTWwTlvT7qH1jq1%2BqLPUDsRH2X0GJ%2FndYrEY1T3L3o299HtgFE5sjkPBXjUKK3v%2BpI4Qm1DxUkPFuaMeqJjoR7BQWLmzapA7gDjv2isxme%2BQ2DG87JdahsadvN1cV%2BclGZOt6%2FOw22yZiTd40q3C%2BeCyYQ8KC7Fkodr6vPKKsgl%2F%2FK5i5CXHxFhSFrCyy3TJPGlc8vG%2Fe7BVLooyPJdrzDiTuzrZXBF5DgL%2FjhU3qozjQoTbraI21W8%3D\" width=\"60%\" > </center>"
      ]
    },
    {
      "cell_type": "markdown",
      "metadata": {
        "id": "bV4tveuktb1h"
      },
      "source": [
        "## Directed vs Undirected\n",
        "Graphs may be either directed or undirected. In a **directed graph**, an edge going from node $i$ to node $j$ is distinct from an edge going from node $j$ to node $i$. In an **undirected graph**, there is no such distinction.\n",
        "\n",
        "\n",
        "\n",
        "<center>\n",
        "<img src=\"https://ai.science/api/authorized-images/r3NAc%2BfB5uR03G22kuetjVJrMc%2FZQQ3AcyGKHAWo2ejC5WZxKCiK4PaWD%2F3sO3u8r2EcUh7vSpaiuvGVVhZO4aLinIZetcdosj5vQ6g9%2BRlvxia0P8pb0cLAnbIOx9Ar9l92IeBCrNAy6eISY2a2fqeBGrHRz1IUhM5gdtaszuJq2pypk%2BmXQ6j1VoGNN6J0yBVuQKh7l8Q1QBBltkI%2Ft%2FeIjgkcoj0zf%2Bmg3Sq%2FoBM9jyeiGt6olsuFR%2BxI3giahAd2SSbKFCqhCLpQtNw9OeJByHz8TJgsABh%2Bn0gnvtzZnIT9ts55Zes%2Fyt2%2FhAhTJa07OXrveYV9%2BbYSnSrNLorTHcAaa0eWJ678qs4I5S9qjo%2BMzfe%2BtK%2FUV9ju2TycHe%2B9yiZ1YRUXQNxcueE50veNJgXeky3LSeFbmZ%2BKbmoWgoNqTh0Z2eGcR1MMKtjjMgZPnlD203cQq2x5oIY0p2qlxEu8g%2B%2Fh16HXIPwNFikS2CAJmj5wRD%2BbkXZrTRRibahYRzOSXwi1gELFNRmX2G9svh1TlEtIKFLnopPXJolCjEDeYjsN3OufBMTpwr87tlbYZmneQSJ4Cf6jDZXdujyAX%2FX93BLrT1ZBzo0HXU%2FRn3nVh8r0zwQr%2BWdxfhD4gglWpfA6QyR4fnBFfEAIMt9MwszStPRKTA0S4%2BnAwFw%3D\" width=\"30%\" >          &emsp;&emsp;\n",
        "<img src=\"https://ai.science/api/authorized-images/2ScMF5Kpr6ttHKSR9w29blKs43dcbp04%2B84KyuRByLajG4ewXNEuVCle3ZvjoXw8ZmeoUIXWHU2k4oEyiWrJqPR3aQrZTDEDk95pdAYbKcLCvSe7I3bZUKHhiK3W33%2BBZQwZJgl%2Bdu8eQuzl4RqDvXyut%2BwB%2BNZzX0X%2B1SJWKBR8XJ%2F1C%2BnwKbwCG%2FlNbTOZKo%2FCIct5OJtHjfSYakSzqMtmc7eV81KpJF1razUhZZj8TQSMbCKBQEoOy914byHrh95b7jNyLv5VFCiWZ6aX%2FrEYR1VJ%2FJgfXf3H%2Buk3jgQKjrdhq8VTglwc0wtWvxFcKhnuT95AYB40%2BsMPJKy%2F9DtaZELmRUX3%2BXhojBlfOc0dbgXXium4LsLM8lEM27IYsFtjsmWzryA7zSfqw26QVY9ESjqMs0HfoqA7DIEp45zuAgi3e%2FKNbz0Ty6lZoc0k167KYki5yNwPU7Jaexg%2F%2FTitYhcdLnmIm%2FI5PK0CnfJp2X4EB14s4v7Z2fuxa4l03%2Bx6WmT%2FAZCcyuhUqazV0I5%2FWKBPJiwnGUGVPX9Y1dK390agzRDL2R2d%2FVp8EBXRPtmfrUHYH3oQuFZm0DZChgK1nqt8MMKNK6Yn7JcRSGyujFYzDBK84oXZKip0N8eDROjrb3bBcrI2tsY2al5wtgQAd%2BvIEke%2BtmZEABflVnU%3D\" width=\"30%\" > </center>\n",
        "\n",
        "\n",
        "\n",
        "\n"
      ]
    },
    {
      "cell_type": "markdown",
      "metadata": {
        "id": "P9vEgbKp8_qc"
      },
      "source": [
        "## Homogeneous vs. Heterogeneous\n",
        "\n",
        "\n",
        "The nodes in a graph may all be of the same type. Such graphs are called **homogeneous graphs**. A graph may also have different types of nodes. For example, in a  knowledge graph, entities may be of different types, such as \"person\" \"location\", \"institute\", etc. Such graphs are called **heterogenous graphs**.\n",
        "\n",
        "\n",
        "\n",
        "<center>\n",
        "<img src=\"https://ai.science/api/authorized-images/LIuVM0%2BPeTeNmAPxjsIVH8SbyLdpJS9H9VwVZ5nEBaWmjcjz2NoiH5yYBcynjNgSRZ8tCpGpuTJWDzmU6871Q3ApTsr1MJ3GWYzTjME5aRH3YZOxJrU6pakPsReYp9Zq5s%2FXzwtozPdjKoSLRQVlfjIMVaBQ3x8CjctfM49GjhQR74Caq%2BvSA001CHQYBhCbXJrPGYhvC1AuogNgJYk7%2FxTPsnLGcqNM3vAWZ%2BLAzi%2F%2FQuFKaFQOqyUkr5vaKIt%2FC9U%2FZtXmv4fYoJ6SEuohrdp5k9hr4SLlaJjRMkTQvStMlsRpQVRlhf9Jto5%2B81V%2BmgHrx3NJaxN3ZSLUMIj3ot6M69RhZf9%2FLj5kNlx%2FOMZyBiMGiAdc9SBELb3wYqXOQePQXO4EPAA3pId0clNDx8s4vRFWqjZELP2g5c53mq3TOePeEakCkwO63%2B0%2B1uhtx%2Bh%2Fvh0%2F86KIBtW%2FJDm8WcgB1uQdbKNlqo7JSgTOPZVsI4youIeKCP%2BQcohOqG1ZAY3iIYHISTmTddann0xIhtOQ7iIvj%2Ff52ae6Hdh%2BmTUTbBK8dRbBLs3Pn%2FlN%2FTGE6fCgGY6wAtzYnXYuL2dejPNyEY0Qc4NnIyAiqzOdaPFhG%2FN5imZpPbzHFrDwl1E2dVXHu7xUw6rNte8mqDgmD48uvbrX%2BQQbOrc451SwMKw%3D\" width=\"30%\" > &emsp;&emsp;&emsp;\n",
        "<img src=\"https://ai.science/api/authorized-images/Igfn%2F3D4cgkS170E2y2MyaL1hLNcugW1Mvs7OCcoPmFa0I1eM93MVIma73mN0Ox%2B3%2Bc9rnwTgO3ub9JfQx7%2BGJarD1RpdmlW%2F6ZMPUPUb50Kjax99V3q5nr3HBgQcUOlx%2Be17u4lMYpHfNu7IHdqiddXiVOQCcAyscKeGjWM%2F3jaA6yLfqY2nhAXkmZFiuTRYR2Su9CQdoIxrfIr4Y6xBMrdKBj0V1QuK2ai%2BvMfPeR1%2BQETbNEF5t0OPQwDSZntBfJpYR4wxTE7rbv6Eh%2BUPSSmXXHb%2FJf68K5IcKnuf%2BwgNxfVPmNkBQN4ohfrieEALITpAoZCaF5JqQmHJS%2Fyjg%2Bwz22bEDWWu1FajDQsNCBJuKLhzWaFGBnW9ZdqErcIvTDOdK39Qnv6aCL%2FqWTttVMrmMv%2FOYpgrZ31ZVGVkg8b9EmkgxwWxCaCagvrAqWpOCGhjfUwkQJ7neLStTRvcOKiP1Om7vb8RilW9NmTOdkYCGhpEv3POQ29RQhpTSZW9wytyiqGl%2Bd7n6gf8zFxZg%2BxzObuzsd9vS%2FN4uz1rlsGC%2BQEwxaIgE3aFzkofTZ4JO1LJz9DMykAO34UMqIwJY2VJ9RtKotIX1dbYeg%2BH0ZQTGnOSc6yXd7e4O364c22eT7eMD7bMt577Od%2F1XjmRVPowpo%2Fd1DGdYUXtolJAwM%3D\" width=\"30%\" > </center>\n",
        "\n"
      ]
    },
    {
      "cell_type": "markdown",
      "metadata": {
        "id": "S_ukeOsbpO3P"
      },
      "source": [
        "# Pytorch Geometric\n"
      ]
    },
    {
      "cell_type": "markdown",
      "metadata": {
        "id": "HHtzOoDDGVyZ"
      },
      "source": [
        "\n",
        "## Installation"
      ]
    },
    {
      "cell_type": "markdown",
      "metadata": {
        "id": "1s7oN3UpoiD0"
      },
      "source": [
        "Pytorch geometric (**PyG**) is an extension library for **Pytorch** which facilitates learning on datasets that are represented by graphs, and provides:\n",
        "\n",
        "* Common [convolutional operators](https://pytorch-geometric.readthedocs.io/en/latest/modules/nn.html) on graphs.\n",
        "* Common benchmark [graph datasets](https://pytorch-geometric.readthedocs.io/en/latest/modules/datasets.html).\n",
        "* Operations on graphs.\n"
      ]
    },
    {
      "cell_type": "markdown",
      "metadata": {
        "id": "lC3BuMrSrq-b"
      },
      "source": [
        "If Pytorch is already installed, PyG can be installed using the following command: (See the github [page](https://github.com/rusty1s/pytorch_geometric) for the latest installation instructions)"
      ]
    },
    {
      "cell_type": "code",
      "metadata": {
        "id": "zAag9aD9pG8A",
        "colab": {
          "base_uri": "https://localhost:8080/",
          "height": 1000
        },
        "outputId": "735a19bb-ae1d-4af6-a0c5-fbbccc26d40b"
      },
      "source": [
        "!pip install torch-scatter==latest+cu101 torch-sparse==latest+cu101 -f https://s3.eu-central-1.amazonaws.com/pytorch-geometric.com/whl/torch-1.6.0.html\n",
        "!pip install torch-geometric==1.6.1"
      ],
      "execution_count": null,
      "outputs": [
        {
          "output_type": "stream",
          "text": [
            "Looking in links: https://s3.eu-central-1.amazonaws.com/pytorch-geometric.com/whl/torch-1.6.0.html\n",
            "Collecting torch-scatter==latest+cu101\n",
            "\u001b[?25l  Downloading https://pytorch-geometric.com/whl/torch-1.6.0/torch_scatter-latest%2Bcu101-cp36-cp36m-linux_x86_64.whl (11.5MB)\n",
            "\u001b[K     |████████████████████████████████| 11.5MB 4.0MB/s \n",
            "\u001b[?25hCollecting torch-sparse==latest+cu101\n",
            "\u001b[?25l  Downloading https://pytorch-geometric.com/whl/torch-1.6.0/torch_sparse-latest%2Bcu101-cp36-cp36m-linux_x86_64.whl (22.9MB)\n",
            "\u001b[K     |████████████████████████████████| 22.9MB 177kB/s \n",
            "\u001b[?25hRequirement already satisfied: scipy in /usr/local/lib/python3.6/dist-packages (from torch-sparse==latest+cu101) (1.4.1)\n",
            "Requirement already satisfied: numpy>=1.13.3 in /usr/local/lib/python3.6/dist-packages (from scipy->torch-sparse==latest+cu101) (1.18.5)\n",
            "Installing collected packages: torch-scatter, torch-sparse\n",
            "Successfully installed torch-scatter-2.0.5 torch-sparse-0.6.7\n",
            "Collecting torch-geometric==1.6.1\n",
            "\u001b[?25l  Downloading https://files.pythonhosted.org/packages/88/67/6c0bce6b6e6bc806e25d996e46a686e5a11254d89257983265a988bb02ee/torch_geometric-1.6.1.tar.gz (178kB)\n",
            "\u001b[K     |████████████████████████████████| 184kB 2.8MB/s \n",
            "\u001b[?25hRequirement already satisfied: torch in /usr/local/lib/python3.6/dist-packages (from torch-geometric==1.6.1) (1.6.0+cu101)\n",
            "Requirement already satisfied: numpy in /usr/local/lib/python3.6/dist-packages (from torch-geometric==1.6.1) (1.18.5)\n",
            "Requirement already satisfied: tqdm in /usr/local/lib/python3.6/dist-packages (from torch-geometric==1.6.1) (4.41.1)\n",
            "Requirement already satisfied: scipy in /usr/local/lib/python3.6/dist-packages (from torch-geometric==1.6.1) (1.4.1)\n",
            "Requirement already satisfied: networkx in /usr/local/lib/python3.6/dist-packages (from torch-geometric==1.6.1) (2.5)\n",
            "Requirement already satisfied: scikit-learn in /usr/local/lib/python3.6/dist-packages (from torch-geometric==1.6.1) (0.22.2.post1)\n",
            "Requirement already satisfied: numba in /usr/local/lib/python3.6/dist-packages (from torch-geometric==1.6.1) (0.48.0)\n",
            "Requirement already satisfied: requests in /usr/local/lib/python3.6/dist-packages (from torch-geometric==1.6.1) (2.23.0)\n",
            "Requirement already satisfied: pandas in /usr/local/lib/python3.6/dist-packages (from torch-geometric==1.6.1) (1.1.2)\n",
            "Collecting rdflib\n",
            "\u001b[?25l  Downloading https://files.pythonhosted.org/packages/d0/6b/6454aa1db753c0f8bc265a5bd5c10b5721a4bb24160fb4faf758cf6be8a1/rdflib-5.0.0-py3-none-any.whl (231kB)\n",
            "\u001b[K     |████████████████████████████████| 235kB 6.8MB/s \n",
            "\u001b[?25hRequirement already satisfied: h5py in /usr/local/lib/python3.6/dist-packages (from torch-geometric==1.6.1) (2.10.0)\n",
            "Requirement already satisfied: googledrivedownloader in /usr/local/lib/python3.6/dist-packages (from torch-geometric==1.6.1) (0.4)\n",
            "Collecting ase\n",
            "\u001b[?25l  Downloading https://files.pythonhosted.org/packages/51/78/edadb45c7f26f8fbb99da81feadb561c26bb0393b6c5d1ac200ecdc12d61/ase-3.20.1-py3-none-any.whl (2.2MB)\n",
            "\u001b[K     |████████████████████████████████| 2.2MB 8.7MB/s \n",
            "\u001b[?25hRequirement already satisfied: jinja2 in /usr/local/lib/python3.6/dist-packages (from torch-geometric==1.6.1) (2.11.2)\n",
            "Requirement already satisfied: future in /usr/local/lib/python3.6/dist-packages (from torch->torch-geometric==1.6.1) (0.16.0)\n",
            "Requirement already satisfied: decorator>=4.3.0 in /usr/local/lib/python3.6/dist-packages (from networkx->torch-geometric==1.6.1) (4.4.2)\n",
            "Requirement already satisfied: joblib>=0.11 in /usr/local/lib/python3.6/dist-packages (from scikit-learn->torch-geometric==1.6.1) (0.16.0)\n",
            "Requirement already satisfied: setuptools in /usr/local/lib/python3.6/dist-packages (from numba->torch-geometric==1.6.1) (50.3.0)\n",
            "Requirement already satisfied: llvmlite<0.32.0,>=0.31.0dev0 in /usr/local/lib/python3.6/dist-packages (from numba->torch-geometric==1.6.1) (0.31.0)\n",
            "Requirement already satisfied: idna<3,>=2.5 in /usr/local/lib/python3.6/dist-packages (from requests->torch-geometric==1.6.1) (2.10)\n",
            "Requirement already satisfied: urllib3!=1.25.0,!=1.25.1,<1.26,>=1.21.1 in /usr/local/lib/python3.6/dist-packages (from requests->torch-geometric==1.6.1) (1.24.3)\n",
            "Requirement already satisfied: certifi>=2017.4.17 in /usr/local/lib/python3.6/dist-packages (from requests->torch-geometric==1.6.1) (2020.6.20)\n",
            "Requirement already satisfied: chardet<4,>=3.0.2 in /usr/local/lib/python3.6/dist-packages (from requests->torch-geometric==1.6.1) (3.0.4)\n",
            "Requirement already satisfied: pytz>=2017.2 in /usr/local/lib/python3.6/dist-packages (from pandas->torch-geometric==1.6.1) (2018.9)\n",
            "Requirement already satisfied: python-dateutil>=2.7.3 in /usr/local/lib/python3.6/dist-packages (from pandas->torch-geometric==1.6.1) (2.8.1)\n",
            "Requirement already satisfied: pyparsing in /usr/local/lib/python3.6/dist-packages (from rdflib->torch-geometric==1.6.1) (2.4.7)\n",
            "Requirement already satisfied: six in /usr/local/lib/python3.6/dist-packages (from rdflib->torch-geometric==1.6.1) (1.15.0)\n",
            "Collecting isodate\n",
            "\u001b[?25l  Downloading https://files.pythonhosted.org/packages/9b/9f/b36f7774ff5ea8e428fdcfc4bb332c39ee5b9362ddd3d40d9516a55221b2/isodate-0.6.0-py2.py3-none-any.whl (45kB)\n",
            "\u001b[K     |████████████████████████████████| 51kB 7.0MB/s \n",
            "\u001b[?25hRequirement already satisfied: matplotlib>=2.0.0 in /usr/local/lib/python3.6/dist-packages (from ase->torch-geometric==1.6.1) (3.2.2)\n",
            "Requirement already satisfied: MarkupSafe>=0.23 in /usr/local/lib/python3.6/dist-packages (from jinja2->torch-geometric==1.6.1) (1.1.1)\n",
            "Requirement already satisfied: kiwisolver>=1.0.1 in /usr/local/lib/python3.6/dist-packages (from matplotlib>=2.0.0->ase->torch-geometric==1.6.1) (1.2.0)\n",
            "Requirement already satisfied: cycler>=0.10 in /usr/local/lib/python3.6/dist-packages (from matplotlib>=2.0.0->ase->torch-geometric==1.6.1) (0.10.0)\n",
            "Building wheels for collected packages: torch-geometric\n",
            "  Building wheel for torch-geometric (setup.py) ... \u001b[?25l\u001b[?25hdone\n",
            "  Created wheel for torch-geometric: filename=torch_geometric-1.6.1-cp36-none-any.whl size=308552 sha256=cffcfa892eebf5b86b291a5c60a948fa850049f3899c1e5c5074008d7d149db9\n",
            "  Stored in directory: /root/.cache/pip/wheels/e6/25/ea/3d71d2088dccc63214fa59259dcc598ded4150a5f8b41d84ff\n",
            "Successfully built torch-geometric\n",
            "Installing collected packages: isodate, rdflib, ase, torch-geometric\n",
            "Successfully installed ase-3.20.1 isodate-0.6.0 rdflib-5.0.0 torch-geometric-1.6.1\n"
          ],
          "name": "stdout"
        }
      ]
    },
    {
      "cell_type": "markdown",
      "metadata": {
        "id": "Yfa-jmmU6gsH"
      },
      "source": [
        "## Creating a graph"
      ]
    },
    {
      "cell_type": "markdown",
      "metadata": {
        "id": "zOwRhca06_P6"
      },
      "source": [
        "A graph in PyG is described by an instance of the [`torch_geometric.data.Data`](https://pytorch-geometric.readthedocs.io/en/latest/modules/data.html#torch_geometric.data.Data) class.\n",
        "\n",
        "\n",
        "The edges in a directed graph are represented by an edge list `Data.edge_index`, which is a `torch.tensor` of size ($2 \\times N^e$). The first row of `Data.edge_index` contains the indices of the source vertices of each edge, and the second row of `Data.edge_index` contains the indices of the target indices. Note that all edges are directed in PyG. To represent an undirected graph, both directions of the edge should be included in Data.edge_index.\n",
        "\n",
        "A graph may also have a node feature tensor `Data.x` of size ($N^v \\times N^{f_{nodes}}$), where $N^{f_{nodes}}$ is the number of features of each node.\n",
        "\n",
        " In addition to the `edge_index` and `x` attributes, an instance of `torch_geometric.data.Data` may contain other attributes such as\n",
        " \n",
        "   * the labels of each node (for supervised learning tasks),\n",
        "   * boolean masks which specify the nodes in a training - validation - testing split, \n",
        "   * edge features (analogous to node features). Typically stored in PyG as `Data.edge_attr` and should be of size ($N^e \\times N^{f_{edges}}$), where $N^{f_{edges}}$ is the number of features of each edge,\n",
        "   *  node-type and edge-type (for heterogeneous graphs). \n",
        "\n",
        "In order for these attributes to be useful, their dimensions have to be consistent with the number of nodes and number of edges implied by `edge_index`\n",
        "\n",
        "\n"
      ]
    },
    {
      "cell_type": "markdown",
      "metadata": {
        "id": "molJjwwSnSRn"
      },
      "source": [
        "Here we show an example of defining a graph in PyG. The graph is a directed graph with 5 nodes and 6 edges "
      ]
    },
    {
      "cell_type": "code",
      "metadata": {
        "id": "CZkaPVuYZRMj"
      },
      "source": [
        "import torch\n",
        "from torch_geometric.data import Data\n",
        "\n",
        "# edge_index of size 2x6 corresponding to 6 edges\n",
        "edge_index = torch.tensor([\n",
        "                           [0, 1, 1, 2, 4, 3], # source nodes\n",
        "                           [1, 0, 2, 3, 3, 1]  # target nodes\n",
        "                           ],dtype=torch.long)\n",
        "\n",
        "# feature matrix that stores the features of the nodes of size 5x2\n",
        "x = torch.tensor([[-1, 0],\n",
        "                  [ 0, 1],\n",
        "                  [ 1,-1],\n",
        "                  [-1, 0],\n",
        "                  [ 0, 1]], dtype=torch.float)\n",
        "\n",
        "# feature matrix that stores the features of the edges of size 6x1\n",
        "edge_attr = torch.tensor([[170.],\n",
        "                          [200.],\n",
        "                          [120.],\n",
        "                          [100.],\n",
        "                          [230.],\n",
        "                          [100.]], dtype=torch.float)\n",
        "\n",
        "# Initialize a Data object\n",
        "data = Data(x=x, edge_index=edge_index, edge_attr=edge_attr)\n"
      ],
      "execution_count": null,
      "outputs": []
    },
    {
      "cell_type": "markdown",
      "metadata": {
        "id": "G8jfquzLtLo4"
      },
      "source": [
        "Let us look at some of the graph's attributes"
      ]
    },
    {
      "cell_type": "code",
      "metadata": {
        "id": "FokqZgc1q7Hw"
      },
      "source": [
        "print(\"Number of nodes: \",data.num_nodes)\n",
        "print(\"Number of edges:\",data.num_edges)\n",
        "print(\"Is this an undirected graph?\",data.is_undirected())\n",
        "print(\"Number of features per node (length of feature vector)\",data.num_node_features,\"\\n\")\n",
        "print(\"Number of features per edge (length of feature vector)\",data.num_edge_features,\"\\n\")"
      ],
      "execution_count": null,
      "outputs": []
    },
    {
      "cell_type": "markdown",
      "metadata": {
        "id": "Gdz7MCU6qtkN"
      },
      "source": [
        "Let's quickly visualize the graph using Networkx ( more on NetworkX below)"
      ]
    },
    {
      "cell_type": "code",
      "metadata": {
        "id": "-qSKsq0-pmbk"
      },
      "source": [
        "from torch_geometric.utils.convert import to_networkx\n",
        "import matplotlib.pyplot as plt\n",
        "import networkx as nx\n",
        "import numpy as np\n",
        "\n",
        "G = to_networkx(data)\n",
        "nx.draw_networkx( G=G )"
      ],
      "execution_count": null,
      "outputs": []
    },
    {
      "cell_type": "markdown",
      "metadata": {
        "id": "sLNyxVnftbnF"
      },
      "source": [
        "## Loading datasets"
      ]
    },
    {
      "cell_type": "markdown",
      "metadata": {
        "id": "SvHe_KTUuZk_"
      },
      "source": [
        "Let's explore some of the datasets which PyG provides convenient access to. We will first look at [PubMed Diabetes](https://linqs.soe.ucsc.edu/data) citation network dataset.\n",
        "\n",
        "Each node in the PubMed graph represents a publication pertaining to diabetes and each publication is classifed into one of three categories: \"Diabetes Mellitus, Experimental\", \"Diabetes Mellitus Type 1\", \"Diabetes Mellitus Type 2\".\n",
        "\n",
        "In addition, each node contains a feature vector which is a [TF/IDF](https://en.wikipedia.org/wiki/Tf%E2%80%93idf) weighted word vector from a dictionary of 500 unique words. "
      ]
    },
    {
      "cell_type": "code",
      "metadata": {
        "id": "YZ2Dw-J1suFM"
      },
      "source": [
        "from torch_geometric.datasets import Planetoid"
      ],
      "execution_count": null,
      "outputs": []
    },
    {
      "cell_type": "code",
      "metadata": {
        "id": "xYE8v4BJxhTk"
      },
      "source": [
        "dataset_pubmed = Planetoid(root=\"./tmp\", name=\"PubMed\")"
      ],
      "execution_count": null,
      "outputs": []
    },
    {
      "cell_type": "markdown",
      "metadata": {
        "id": "m0cVxxxrxjC0"
      },
      "source": [
        "Let us look at some of the dataset's attributes"
      ]
    },
    {
      "cell_type": "code",
      "metadata": {
        "id": "HWzSv0ZVvqdC"
      },
      "source": [
        "print(\"Name of dataset\", dataset_pubmed.name)\n",
        "print(\"Number of graphs\", dataset_pubmed.len())\n",
        "print(\"Number of node features per node in a graph\", dataset_pubmed.num_node_features)\n",
        "print(\"Number of edge features per edge in a graph\", dataset_pubmed.num_edge_features)\n",
        "print(\"Number of possible node classes\", dataset_pubmed.num_classes)\n"
      ],
      "execution_count": null,
      "outputs": []
    },
    {
      "cell_type": "markdown",
      "metadata": {
        "id": "VT_V_4vIgtgQ"
      },
      "source": [
        "## Graph Representation in Pytorch"
      ]
    },
    {
      "cell_type": "markdown",
      "metadata": {
        "id": "znLlepvpRKKc"
      },
      "source": [
        "The graphs in a dataset can be accessed by simply indexing the dataset and are represented by an instance of [`torch_geometric.data.Data`](https://pytorch-geometric.readthedocs.io/en/latest/modules/data.html#torch_geometric.data.Data). In the PubMed dataset there is only one graph, which can be  accessed as follows"
      ]
    },
    {
      "cell_type": "code",
      "metadata": {
        "id": "3vK6g82kRTv4"
      },
      "source": [
        "graph_pubmed = dataset_pubmed[0]\n",
        "print(graph_pubmed)"
      ],
      "execution_count": null,
      "outputs": []
    },
    {
      "cell_type": "markdown",
      "metadata": {
        "id": "MAt4qPV6ifVX"
      },
      "source": [
        "The fields available in a PyG graph can be accessed using the `keys` attribute"
      ]
    },
    {
      "cell_type": "code",
      "metadata": {
        "id": "iRGZCH3Kh2Qd"
      },
      "source": [
        "graph_pubmed.keys "
      ],
      "execution_count": null,
      "outputs": []
    },
    {
      "cell_type": "markdown",
      "metadata": {
        "id": "fRuMIHu5tHHz"
      },
      "source": [
        "Let us look at some of the graph's attributes"
      ]
    },
    {
      "cell_type": "code",
      "metadata": {
        "id": "cJuoCJrBQrIn"
      },
      "source": [
        "print(\"Number of nodes: \",graph_pubmed.num_nodes)\n",
        "print(\"Is this an undirected graph?\",graph_pubmed.is_undirected())\n",
        "print(\"Number of edges (Note: divide by 2 to get number of undirected edges): \",graph_pubmed.num_edges)\n",
        "print(\"Unique labels of the nodes: \", graph_pubmed.y.unique())\n",
        "print(\"Number of features per node (length of feature vector)\",graph_pubmed.num_node_features,\"\\n\")\n",
        "print(\"Edge Index representation: \\n\", graph_pubmed.edge_index,\"\\n\")\n",
        "print(\"Example of Node feature (first 50 features only): \\n\", graph_pubmed.x[0][:50], \"\\n\") \n",
        "print(\"Train mask (first 100 entries only): \\n\", graph_pubmed.train_mask[:100]) \n",
        "print(\"Labels of training nodes: \\n\", graph_pubmed.y[graph_pubmed.train_mask] ) \n",
        "print(\"Labels of validation nodes (first 100 entries only): \\n\", graph_pubmed.y[graph_pubmed.val_mask][:100] ) \n",
        "print(\"Labels of testing nodes (first 100 entries only): \\n\", graph_pubmed.y[graph_pubmed.test_mask][:100] ) \n"
      ],
      "execution_count": null,
      "outputs": []
    },
    {
      "cell_type": "markdown",
      "metadata": {
        "id": "WuxrVYgwQn2V"
      },
      "source": [
        "# NetworkX"
      ]
    },
    {
      "cell_type": "markdown",
      "metadata": {
        "id": "48Dg5GjWQ4Hw"
      },
      "source": [
        "PyG comes with utilities to convert *Data* objects to [networkx](https://networkx.github.io/) graphs. This is often useful if you want to run some graph analysis since *Networkx* provides a lot of graph analysis [functions and algorithms](https://networkx.github.io/documentation/stable/reference/index.html). Additionally the *networkx* package provides many vizualisation tools.\n"
      ]
    },
    {
      "cell_type": "markdown",
      "metadata": {
        "id": "lOQcB3r6YQ_j"
      },
      "source": [
        "## Converting graphs from PyG to NetworkX format"
      ]
    },
    {
      "cell_type": "markdown",
      "metadata": {
        "id": "sGQInvenYi5I"
      },
      "source": [
        "PyG provides the `to_networkx` function to convert a PyG `Data` object to a networkX `Graph`. Let's convert the pubmed graph to networkX format."
      ]
    },
    {
      "cell_type": "code",
      "metadata": {
        "id": "G0rFZy5CpLOU"
      },
      "source": [
        "from torch_geometric.utils.convert import to_networkx\n",
        "import matplotlib.pyplot as plt\n",
        "import networkx as nx\n",
        "import numpy as np\n",
        "\n",
        "graph_pubmed_nx = to_networkx(graph_pubmed)\n"
      ],
      "execution_count": null,
      "outputs": []
    },
    {
      "cell_type": "markdown",
      "metadata": {
        "id": "yQZ-xty93OcZ"
      },
      "source": [
        "## Visualizing (Sub-)Graphs"
      ]
    },
    {
      "cell_type": "markdown",
      "metadata": {
        "id": "1fgoOnLP395E"
      },
      "source": [
        "PyG comes with utilities to convert *Data* objects to [networkx](https://networkx.github.io/) graphs. This is often useful if you want to run some graph analysis since *Networkx* provides a lot of graph analysis [functions and algorithms](https://networkx.github.io/documentation/stable/reference/index.html). Additionally the *networkx* package provides many vizualisation tools.\n",
        "\n",
        " It is often easier to visualize a subgraph of the complete graph. We can use the [*ego_graph*](https://networkx.github.io/documentation/stable/reference/generators.html?highlight=ego%20graph#module-networkx.generators.ego) function in *Networkx* to extract a neighborhood around a random node and draw a layout of that subgraph \n",
        "\n",
        "---\n",
        "\n"
      ]
    },
    {
      "cell_type": "code",
      "metadata": {
        "id": "XB3g3hDicToh"
      },
      "source": [
        "from torch_geometric.utils.convert import to_networkx\n",
        "import matplotlib.pyplot as plt\n",
        "import networkx as nx\n",
        "import numpy as np\n",
        "\n",
        "# Convert the class label of the nodes from pytorch to numpy format \n",
        "node_labels = graph_pubmed.y.numpy()\n",
        "\n",
        "# Convert the pubmed graph grom PyG format to NetworkX format\n",
        "graph_pubmed_nx = to_networkx(graph_pubmed)#.to_undirected()\n",
        "\n",
        "# Plot 3 random subgraphs\n",
        "for i in range(3):\n",
        "\n",
        "  # Pick a random node id\n",
        "  node_id = np.random.randint(graph_pubmed.num_nodes)\n",
        "\n",
        "  # Create an ego graph of radius 2 around that node\n",
        "  graph_pubmed_nx_ego = nx.ego_graph(graph_pubmed_nx, node_id,\n",
        "                                     radius=2, undirected=True)\n",
        "  \n",
        "  # Get the class labels of the nodes in the ego graph\n",
        "  node_labels_ego=node_labels[graph_pubmed_nx_ego.nodes()]\n",
        "\n",
        "  plt.figure(1,figsize=(5,5)) \n",
        "\n",
        "  # Compute the position of each node for the purpose of plotting\n",
        "  pos = nx.spring_layout(graph_pubmed_nx_ego)\n",
        "  \n",
        "  # Draw the ego graph\n",
        "  nx.draw(graph_pubmed_nx_ego, pos=pos, cmap=plt.get_cmap('Set1'),\n",
        "          node_color = node_labels_ego, node_size=50,linewidths=2)\n",
        "\n",
        "  # Draw the the randomly chosen node alone using a bigger size\n",
        "  nx.draw_networkx_nodes(graph_pubmed_nx_ego,  cmap=plt.get_cmap('Set1'), pos=pos,\n",
        "                        nodelist=[node_id], node_size=1000,  node_color = \"black\")\n",
        "  \n",
        "  plt.title(\"Ego network of node #{} in the Pubmed dataset. \".format(node_id))\n",
        "  plt.show()\n"
      ],
      "execution_count": null,
      "outputs": []
    },
    {
      "cell_type": "markdown",
      "metadata": {
        "id": "8n8X1O5vL1E0"
      },
      "source": [
        "# Optional Exercise"
      ]
    },
    {
      "cell_type": "markdown",
      "metadata": {
        "id": "AG3umqsjRQ53"
      },
      "source": [
        "As an exercise, have a look at the various [dataset loaders](https://pytorch-geometric.readthedocs.io/en/latest/modules/datasets.html) provided in PyG load and explore the ones you find interesting."
      ]
    },
    {
      "cell_type": "markdown",
      "metadata": {
        "id": "nnE9qgc6T5s7"
      },
      "source": [
        "# Additional Resources"
      ]
    },
    {
      "cell_type": "markdown",
      "metadata": {
        "id": "bIITZhTBU-aS"
      },
      "source": [
        "Basic graph data structures:\n",
        "\n",
        "[Graph Data Structure Intro from freeCodeCamp ](https://www.youtube.com/watch?v=DBRW8nwZV-g)\n",
        "\n",
        "\n",
        "Overview of Graph Neural Networks: \n",
        "\n",
        "[Recent Advances in Graph Neural Network](https://www.youtube.com/watch?v=YhKUgh0XY50)\n",
        "\n"
      ]
    }
  ]
}