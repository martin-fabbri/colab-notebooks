{
  "nbformat": 4,
  "nbformat_minor": 0,
  "metadata": {
    "colab": {
      "name": "satellite_imagery_analysis.ipynb",
      "provenance": [],
      "toc_visible": true,
      "authorship_tag": "ABX9TyNFWey/90GveeeBaVzgy/oG",
      "include_colab_link": true
    },
    "kernelspec": {
      "name": "python3",
      "display_name": "Python 3"
    },
    "language_info": {
      "name": "python"
    }
  },
  "cells": [
    {
      "cell_type": "markdown",
      "metadata": {
        "id": "view-in-github",
        "colab_type": "text"
      },
      "source": [
        "<a href=\"https://colab.research.google.com/github/martin-fabbri/colab-notebooks/blob/master/satellite_imagery/satellite_imagery_analysis.ipynb\" target=\"_parent\"><img src=\"https://colab.research.google.com/assets/colab-badge.svg\" alt=\"Open In Colab\"/></a>"
      ]
    },
    {
      "cell_type": "code",
      "metadata": {
        "id": "cjUgHINs5u87"
      },
      "source": [
        "%%capture\n",
        "!pip install rasterio"
      ],
      "execution_count": 8,
      "outputs": []
    },
    {
      "cell_type": "markdown",
      "metadata": {
        "id": "Ith599FFEIv_"
      },
      "source": [
        "## Donwload Data"
      ]
    },
    {
      "cell_type": "code",
      "metadata": {
        "colab": {
          "base_uri": "https://localhost:8080/"
        },
        "id": "34ghiZ6bD-DC",
        "outputId": "d20401cd-8764-4c75-f0f1-5134bed86386"
      },
      "source": [
        "# download 4-Band Analytic PlanetScope asset\n",
        "!curl -O -J https://hello.planet.com/data/s/UG2TX98suVmmi9q/download\n",
        "\n",
        "# download XML metadata\n",
        "!curl -O -J https://hello.planet.com/data/s/jqDQE8xUHiD511e/download"
      ],
      "execution_count": 3,
      "outputs": [
        {
          "output_type": "stream",
          "text": [
            "  % Total    % Received % Xferd  Average Speed   Time    Time     Time  Current\n",
            "                                 Dload  Upload   Total   Spent    Left  Speed\n",
            "100  148M  100  148M    0     0  24.4M      0  0:00:06  0:00:06 --:--:-- 33.4M\n",
            "curl: Saved to filename '20190321_174348_0f1a_3B_AnalyticMS.tif'\n",
            "  % Total    % Received % Xferd  Average Speed   Time    Time     Time  Current\n",
            "                                 Dload  Upload   Total   Spent    Left  Speed\n",
            "100 10441  100 10441    0     0  15001      0 --:--:-- --:--:-- --:--:-- 15001\n",
            "curl: Saved to filename '20190321_174348_0f1a_3B_AnalyticMS_metadata.xml'\n"
          ],
          "name": "stdout"
        }
      ]
    },
    {
      "cell_type": "code",
      "metadata": {
        "colab": {
          "base_uri": "https://localhost:8080/"
        },
        "id": "Dpe4Bo1UEWVF",
        "outputId": "e4fc78c7-869a-467e-9e95-7c69f53e7540"
      },
      "source": [
        "# download 3-Band Visual PlanetScope asset\n",
        "!curl -O -J https://hello.planet.com/data/s/ZWwAg1RcmIN5h9R/download"
      ],
      "execution_count": 4,
      "outputs": [
        {
          "output_type": "stream",
          "text": [
            "  % Total    % Received % Xferd  Average Speed   Time    Time     Time  Current\n",
            "                                 Dload  Upload   Total   Spent    Left  Speed\n",
            "100 65.9M  100 65.9M    0     0  21.8M      0  0:00:03  0:00:03 --:--:-- 21.8M\n",
            "curl: Saved to filename '20160831_180302_0e26_3B_Visual.tif'\n"
          ],
          "name": "stdout"
        }
      ]
    },
    {
      "cell_type": "markdown",
      "metadata": {
        "id": "sdpphU50E3Kt"
      },
      "source": [
        "## Spatial Data is Special\n",
        "\n",
        "Unique qualities of satellite imagery require special consideration.\n",
        "\n",
        "Geospatieal raster imagery:\n",
        "\n",
        "- Can be multispectral \n",
        "- Is spatially referenced \n",
        "- Has spatially-relevant metadata"
      ]
    },
    {
      "cell_type": "markdown",
      "metadata": {
        "id": "ck-3BDUdIq1P"
      },
      "source": [
        "## Defining Resolution in Satellite Imagery\n",
        "\n",
        "- Spatial resolution: ground area per pixel\n",
        "- Temporal resolution: frequency between image captures\n",
        "- Spectral resolution: number of spectral `bands` measures\n",
        "- Radiometric resolution: bit depth of pixel values"
      ]
    },
    {
      "cell_type": "code",
      "metadata": {
        "id": "WKl4-7AvEWS3",
        "colab": {
          "base_uri": "https://localhost:8080/"
        },
        "outputId": "10697fde-35ca-48ba-b9b3-fd492cc995f6"
      },
      "source": [
        "!git clone https://github.com/sarasafavi/remote-sensing-with-python.git"
      ],
      "execution_count": 5,
      "outputs": [
        {
          "output_type": "stream",
          "text": [
            "fatal: destination path 'remote-sensing-with-python' already exists and is not an empty directory.\n"
          ],
          "name": "stdout"
        }
      ]
    },
    {
      "cell_type": "markdown",
      "metadata": {
        "id": "pg2Dp3bK5kh2"
      },
      "source": [
        "## Reading satellite data with rasterio\n",
        "\n",
        "### Loading a dataset"
      ]
    },
    {
      "cell_type": "code",
      "metadata": {
        "id": "yzDVcdNIEWQS",
        "colab": {
          "base_uri": "https://localhost:8080/"
        },
        "outputId": "afceef17-30d5-4d67-fe30-376b0b232983"
      },
      "source": [
        "import rasterio\n",
        "\n",
        "# This notebook explores a single 4 band (blue, green, red, NIR) PlanetScope scene in a UTM projection.\n",
        "image_file = \"20190321_174348_0f1a_3B_AnalyticMS.tif\"\n",
        "\n",
        "satdat = rasterio.open(image_file)\n",
        "satdat"
      ],
      "execution_count": 10,
      "outputs": [
        {
          "output_type": "execute_result",
          "data": {
            "text/plain": [
              "<open DatasetReader name='20190321_174348_0f1a_3B_AnalyticMS.tif' mode='r'>"
            ]
          },
          "metadata": {
            "tags": []
          },
          "execution_count": 10
        }
      ]
    },
    {
      "cell_type": "code",
      "metadata": {
        "id": "aZdGNv13EWK3",
        "colab": {
          "base_uri": "https://localhost:8080/"
        },
        "outputId": "6c5feb1f-1965-404d-a75d-ccb9c0b740aa"
      },
      "source": [
        "# let's look at some basic information about this geoTIFF:\n",
        "\n",
        "# dataset name\n",
        "print(satdat.name)\n",
        "\n",
        "# number of bands in this dataset\n",
        "print(satdat.count)"
      ],
      "execution_count": 12,
      "outputs": [
        {
          "output_type": "stream",
          "text": [
            "20190321_174348_0f1a_3B_AnalyticMS.tif\n",
            "4\n"
          ],
          "name": "stdout"
        }
      ]
    },
    {
      "cell_type": "code",
      "metadata": {
        "id": "4QoRM6MTEWIL",
        "colab": {
          "base_uri": "https://localhost:8080/"
        },
        "outputId": "be6e295c-c7c5-4d97-b1de-3cbb548ba23c"
      },
      "source": [
        "type(satdat)"
      ],
      "execution_count": 13,
      "outputs": [
        {
          "output_type": "execute_result",
          "data": {
            "text/plain": [
              "rasterio.io.DatasetReader"
            ]
          },
          "metadata": {
            "tags": []
          },
          "execution_count": 13
        }
      ]
    },
    {
      "cell_type": "code",
      "metadata": {
        "id": "40La3E6jEWFo",
        "colab": {
          "base_uri": "https://localhost:8080/"
        },
        "outputId": "e8e5c359-9207-40ce-c544-89f3f99e7327"
      },
      "source": [
        "satdat.shape"
      ],
      "execution_count": 14,
      "outputs": [
        {
          "output_type": "execute_result",
          "data": {
            "text/plain": [
              "(4213, 8341)"
            ]
          },
          "metadata": {
            "tags": []
          },
          "execution_count": 14
        }
      ]
    },
    {
      "cell_type": "markdown",
      "metadata": {
        "id": "pSbKiPe16acz"
      },
      "source": [
        "### Parsing bands"
      ]
    },
    {
      "cell_type": "code",
      "metadata": {
        "id": "m9AtWKGhEWDB",
        "colab": {
          "base_uri": "https://localhost:8080/"
        },
        "outputId": "23102431-d0f0-4882-f2fb-aa11c6dc0854"
      },
      "source": [
        "# The dataset reports a band count.\n",
        "print(satdat.count)\n",
        "\n",
        "# And provides a sequence of band indexes.  These are one indexing, not zero indexing like Numpy arrays.\n",
        "print(satdat.indexes)"
      ],
      "execution_count": 15,
      "outputs": [
        {
          "output_type": "stream",
          "text": [
            "4\n",
            "(1, 2, 3, 4)\n"
          ],
          "name": "stdout"
        }
      ]
    },
    {
      "cell_type": "code",
      "metadata": {
        "id": "A0oKnj0zEWAd"
      },
      "source": [
        ""
      ],
      "execution_count": 5,
      "outputs": []
    },
    {
      "cell_type": "code",
      "metadata": {
        "id": "Cn6gGmmzEV9t"
      },
      "source": [
        ""
      ],
      "execution_count": 5,
      "outputs": []
    },
    {
      "cell_type": "code",
      "metadata": {
        "id": "yMeHt8P-EV7D"
      },
      "source": [
        ""
      ],
      "execution_count": 5,
      "outputs": []
    }
  ]
}