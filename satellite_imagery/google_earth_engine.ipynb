{
 "cells": [
  {
   "cell_type": "markdown",
   "id": "13277ee0",
   "metadata": {},
   "source": [
    "# Google Earth Engine"
   ]
  },
  {
   "cell_type": "code",
   "execution_count": 2,
   "id": "059a6ff7",
   "metadata": {},
   "outputs": [],
   "source": [
    "%%capture\n",
    "!pip install ipyleaflet\n",
    "!pip install ipywidgets\n",
    "!pip install ipyvolume\n",
    "!pip install altair\n",
    "!pip install vega_datasets\n",
    "!pip install bqplot\n",
    "!pip install nbdime\n",
    "!pip install palettable\n",
    "!pip install earthengine-api\n",
    "!pip install folium"
   ]
  },
  {
   "cell_type": "code",
   "execution_count": 5,
   "id": "1aaf59aa",
   "metadata": {},
   "outputs": [
    {
     "name": "stdout",
     "output_type": "stream",
     "text": [
      "Process is terminated.\n"
     ]
    }
   ],
   "source": [
    "%%bash\n",
    "jupyter labextension install jupyter-leaflet\n",
    "jupyter labextension install @jupyter-widgets/jupyterlab-manager\n",
    "jupyter nbextension install --py --symlink --sys-prefix ipyleaflet\n",
    "jupyter nbextension enable --py --sys-prefix ipyleaflet\n",
    "jupyter labextension install js\n",
    "jupyter labextension install ipyvolume\n",
    "jupyter nbextension enable --py --sys-prefix widgetsnbextension\n",
    "jupyter labextension install @jupyter-widgets/jupyterlab-manager\n",
    "jupyter nbextension enable --py widgetsnbextension --sys-prefix\n",
    "jupyter labextension install bqplot\n",
    "jupyter nbextension install bqplot --py --symlink --sys-prefix\n",
    "jupyter nbextension enable --py --sys-prefix bqplot"
   ]
  },
  {
   "cell_type": "markdown",
   "id": "e99a9051",
   "metadata": {},
   "source": [
    "## Authenticate Earth Engine and Get Setup"
   ]
  },
  {
   "cell_type": "code",
   "execution_count": 1,
   "id": "ef3e6ae0",
   "metadata": {},
   "outputs": [
    {
     "name": "stdout",
     "output_type": "stream",
     "text": []
    },
    {
     "name": "stdout",
     "output_type": "stream",
     "text": [
      "Building jupyterlab assets (build:prod:minimize)\n"
     ]
    }
   ],
   "source": [
    "!jupyter labextension install jupyter-leaflet"
   ]
  },
  {
   "cell_type": "code",
   "execution_count": 2,
   "id": "a3b1d6d5",
   "metadata": {},
   "outputs": [
    {
     "name": "stdout",
     "output_type": "stream",
     "text": []
    },
    {
     "name": "stdout",
     "output_type": "stream",
     "text": []
    },
    {
     "name": "stdout",
     "output_type": "stream",
     "text": []
    },
    {
     "name": "stdout",
     "output_type": "stream",
     "text": []
    },
    {
     "name": "stdout",
     "output_type": "stream",
     "text": [
      "Building jupyterlab assets (build:prod:minimize)\n"
     ]
    }
   ],
   "source": [
    "!jupyter labextension install @jupyter-widgets/jupyterlab-manager"
   ]
  },
  {
   "cell_type": "code",
   "execution_count": 3,
   "id": "ad4bcd89",
   "metadata": {},
   "outputs": [
    {
     "name": "stdout",
     "output_type": "stream",
     "text": [
      "Installing /anaconda/envs/azureml_py36/lib/python3.6/site-packages/ipyleaflet/nbextension -> jupyter-leaflet\n",
      "- Validating: \u001b[32mOK\u001b[0m\n",
      "\n",
      "    To initialize this nbextension in the browser every time the notebook (or other app) loads:\n",
      "    \n",
      "          jupyter nbextension enable ipyleaflet --py --sys-prefix\n",
      "    \n"
     ]
    }
   ],
   "source": [
    "!jupyter nbextension install --py --symlink --sys-prefix ipyleaflet"
   ]
  },
  {
   "cell_type": "code",
   "execution_count": 4,
   "id": "a6f90b7e",
   "metadata": {},
   "outputs": [
    {
     "name": "stdout",
     "output_type": "stream",
     "text": [
      "Enabling notebook extension jupyter-leaflet/extension...\n",
      "      - Validating: \u001b[32mOK\u001b[0m\n"
     ]
    }
   ],
   "source": [
    "!jupyter nbextension enable --py --sys-prefix ipyleaflet"
   ]
  },
  {
   "cell_type": "code",
   "execution_count": 5,
   "id": "7683981b",
   "metadata": {},
   "outputs": [
    {
     "name": "stdout",
     "output_type": "stream",
     "text": []
    },
    {
     "name": "stdout",
     "output_type": "stream",
     "text": []
    },
    {
     "name": "stdout",
     "output_type": "stream",
     "text": [
      "Building jupyterlab assets (build:prod:minimize)\n"
     ]
    }
   ],
   "source": [
    "!jupyter labextension install js"
   ]
  },
  {
   "cell_type": "code",
   "execution_count": 6,
   "id": "7c1ad2ef",
   "metadata": {},
   "outputs": [
    {
     "name": "stdout",
     "output_type": "stream",
     "text": []
    },
    {
     "name": "stdout",
     "output_type": "stream",
     "text": [
      "Building jupyterlab assets (build:prod:minimize)\n"
     ]
    }
   ],
   "source": [
    "!jupyter labextension install ipyvolume"
   ]
  },
  {
   "cell_type": "code",
   "execution_count": 7,
   "id": "22f0f381",
   "metadata": {},
   "outputs": [
    {
     "name": "stdout",
     "output_type": "stream",
     "text": [
      "Enabling notebook extension jupyter-js-widgets/extension...\n",
      "      - Validating: \u001b[32mOK\u001b[0m\n"
     ]
    }
   ],
   "source": [
    "!jupyter nbextension enable --py --sys-prefix widgetsnbextension"
   ]
  },
  {
   "cell_type": "code",
   "execution_count": 10,
   "id": "94098e8d",
   "metadata": {},
   "outputs": [
    {
     "name": "stdout",
     "output_type": "stream",
     "text": []
    },
    {
     "name": "stdout",
     "output_type": "stream",
     "text": []
    },
    {
     "name": "stdout",
     "output_type": "stream",
     "text": []
    },
    {
     "name": "stdout",
     "output_type": "stream",
     "text": [
      "Building jupyterlab assets (build:prod:minimize)\n"
     ]
    }
   ],
   "source": [
    "!jupyter labextension install @jupyter-widgets/jupyterlab-manager"
   ]
  },
  {
   "cell_type": "code",
   "execution_count": 12,
   "id": "032d9e4f",
   "metadata": {},
   "outputs": [
    {
     "name": "stdout",
     "output_type": "stream",
     "text": [
      "Enabling notebook extension jupyter-js-widgets/extension...\n",
      "      - Validating: \u001b[32mOK\u001b[0m\n"
     ]
    }
   ],
   "source": [
    "!jupyter nbextension enable --py widgetsnbextension --sys-prefix"
   ]
  },
  {
   "cell_type": "code",
   "execution_count": 14,
   "id": "4d51f181",
   "metadata": {},
   "outputs": [
    {
     "name": "stdout",
     "output_type": "stream",
     "text": []
    },
    {
     "name": "stdout",
     "output_type": "stream",
     "text": [
      "Building jupyterlab assets (build:prod:minimize)\n"
     ]
    }
   ],
   "source": [
    "!jupyter labextension install bqplot"
   ]
  },
  {
   "cell_type": "code",
   "execution_count": 15,
   "id": "9fe7d98a",
   "metadata": {},
   "outputs": [
    {
     "name": "stdout",
     "output_type": "stream",
     "text": [
      "Installing /anaconda/envs/azureml_py36/share/jupyter/nbextensions/bqplot/ -> bqplot\n",
      "- Validating: \u001b[32mOK\u001b[0m\n",
      "\n",
      "    To initialize this nbextension in the browser every time the notebook (or other app) loads:\n",
      "    \n",
      "          jupyter nbextension enable bqplot --py --sys-prefix\n",
      "    \n"
     ]
    }
   ],
   "source": [
    "!jupyter nbextension install bqplot --py --symlink --sys-prefix"
   ]
  },
  {
   "cell_type": "code",
   "execution_count": 16,
   "id": "d695ad44",
   "metadata": {},
   "outputs": [
    {
     "name": "stdout",
     "output_type": "stream",
     "text": [
      "Enabling notebook extension bqplot/extension...\n",
      "      - Validating: \u001b[32mOK\u001b[0m\n"
     ]
    }
   ],
   "source": [
    "!jupyter nbextension enable --py --sys-prefix bqplot"
   ]
  },
  {
   "cell_type": "code",
   "execution_count": null,
   "id": "eff3a200",
   "metadata": {},
   "outputs": [],
   "source": []
  }
 ],
 "metadata": {
  "kernelspec": {
   "display_name": "Python 3.8 - AzureML",
   "language": "python",
   "name": "python38-azureml"
  },
  "language_info": {
   "codemirror_mode": {
    "name": "ipython",
    "version": 3
   },
   "file_extension": ".py",
   "mimetype": "text/x-python",
   "name": "python",
   "nbconvert_exporter": "python",
   "pygments_lexer": "ipython3",
   "version": "3.8.1"
  }
 },
 "nbformat": 4,
 "nbformat_minor": 5
}
