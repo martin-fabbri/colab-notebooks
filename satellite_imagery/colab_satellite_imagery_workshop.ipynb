{
  "nbformat": 4,
  "nbformat_minor": 0,
  "metadata": {
    "kernelspec": {
      "display_name": "Python 3",
      "language": "python",
      "name": "python3"
    },
    "language_info": {
      "codemirror_mode": {
        "name": "ipython",
        "version": 3
      },
      "file_extension": ".py",
      "mimetype": "text/x-python",
      "name": "python",
      "nbconvert_exporter": "python",
      "pygments_lexer": "ipython3",
      "version": "3.8.5"
    },
    "colab": {
      "name": "Python_satellite_imagery_workshop.ipynb",
      "provenance": []
    }
  },
  "cells": [
    {
      "cell_type": "markdown",
      "metadata": {
        "id": "Z2dHky0BJNg4"
      },
      "source": [
        "# Working with geospatial data in Python  \n",
        "\n",
        "DataPhilly Workshop\n",
        "Simon Kassel  \n",
        "Data Scientist @ [Azavea](https://www.azavea.com/)  \n",
        "\n",
        "January 21, 2021"
      ]
    },
    {
      "cell_type": "markdown",
      "metadata": {
        "id": "W3e4_cqeJNg9"
      },
      "source": [
        "### Agenda"
      ]
    },
    {
      "cell_type": "markdown",
      "metadata": {
        "id": "FKXS8ReOJNg-"
      },
      "source": [
        "1) The basics\n",
        " - Vector data\n",
        "     - [GeoPandas](https://geopandas.org/)\n",
        "     - [Shapely](https://towardsdatascience.com/geospatial-adventures-step-1-shapely-e911e4f86361)\n",
        " - Raster data (imagery)\n",
        "     - [GDAL](https://gdal.org/)\n",
        "     - [Rasterio](https://rasterio.readthedocs.io/en/latest/)\n",
        " - I/O\n",
        " - Windowed reading and writing  "
      ]
    },
    {
      "cell_type": "markdown",
      "metadata": {
        "id": "FyaoDgC9JNg-"
      },
      "source": [
        "2) Building training data for Machine Learning  \n",
        " - Creating chips (smaller images)\n",
        " - Rasterizing building labels"
      ]
    },
    {
      "cell_type": "markdown",
      "metadata": {
        "id": "5ClVcggMJNg_"
      },
      "source": [
        "### Data\n",
        "- *__scene.tif__*: an aerial image of a portion of Kampala, Uganda\n",
        "- *__buildings.geojson__*: building polygons from the same location"
      ]
    },
    {
      "cell_type": "code",
      "metadata": {
        "id": "wL8JIlpZJ56R"
      },
      "source": [
        "%%capture\n",
        "# rtree and pygeos are required for geopandas.overlay\n",
        "!pip install rasterio geopandas rtree pygeos"
      ],
      "execution_count": 1,
      "outputs": []
    },
    {
      "cell_type": "code",
      "metadata": {
        "colab": {
          "base_uri": "https://localhost:8080/"
        },
        "id": "Ryhhgtuq3OmD",
        "outputId": "71996fcb-031f-4be0-c51b-47c264963226"
      },
      "source": [
        "!git clone https://github.com/simonkassel/python-satellite-imagery-workshop.git"
      ],
      "execution_count": 2,
      "outputs": [
        {
          "output_type": "stream",
          "text": [
            "Cloning into 'python-satellite-imagery-workshop'...\n",
            "remote: Enumerating objects: 79, done.\u001b[K\n",
            "remote: Counting objects: 100% (21/21), done.\u001b[K\n",
            "remote: Compressing objects: 100% (19/19), done.\u001b[K\n",
            "remote: Total 79 (delta 5), reused 11 (delta 2), pack-reused 58\u001b[K\n",
            "Unpacking objects: 100% (79/79), done.\n"
          ],
          "name": "stdout"
        }
      ]
    },
    {
      "cell_type": "code",
      "metadata": {
        "id": "kzllLLiKJNhB",
        "colab": {
          "base_uri": "https://localhost:8080/"
        },
        "outputId": "59298132-1ea8-473a-e9c2-5d910300e1d7"
      },
      "source": [
        "import rasterio\n",
        "import geopandas as gpd\n",
        "import numpy as np\n",
        "import matplotlib.pyplot as plt\n",
        "\n",
        "from pprint import pprint\n",
        "from rasterio.features import Window\n",
        "from rasterio.windows import bounds\n",
        "from shapely.geometry import MultiPolygon, box\n",
        "from PIL import Image\n",
        "from rasterio.features import Window\n",
        "from subprocess import call\n",
        "from IPython import display"
      ],
      "execution_count": 3,
      "outputs": [
        {
          "output_type": "stream",
          "text": [
            "/usr/local/lib/python3.7/dist-packages/geopandas/_compat.py:110: UserWarning: The Shapely GEOS version (3.8.0-CAPI-1.13.1 ) is incompatible with the GEOS version PyGEOS was compiled with (3.9.0-CAPI-1.16.2). Conversions between both will be slow.\n",
            "  shapely_geos_version, geos_capi_version_string\n"
          ],
          "name": "stderr"
        }
      ]
    },
    {
      "cell_type": "markdown",
      "metadata": {
        "id": "uBZm8L_2JNhC"
      },
      "source": [
        "## 1) The basics"
      ]
    },
    {
      "cell_type": "markdown",
      "metadata": {
        "id": "eIxvljlgJNhC"
      },
      "source": [
        "### Vector data"
      ]
    },
    {
      "cell_type": "markdown",
      "metadata": {
        "id": "LVJUES0FJNhC"
      },
      "source": [
        "How do we store points, lines, and polygons?\n",
        "\n",
        "![geojson](https://github.com/simonkassel/python-satellite-imagery-workshop/blob/main/img/geojson.png?raw=1)"
      ]
    },
    {
      "cell_type": "markdown",
      "metadata": {
        "id": "w-SxPZP3JNhG"
      },
      "source": [
        "<br>\n",
        "<br>"
      ]
    },
    {
      "cell_type": "markdown",
      "metadata": {
        "id": "jJ0rsJIxJNhH"
      },
      "source": [
        "We can work with vector data in python using [GeoPandas](https://geopandas.org/) geodataframes"
      ]
    },
    {
      "cell_type": "code",
      "metadata": {
        "id": "BzS6t61rgu13"
      },
      "source": [
        "import os\n",
        "project_dir = 'python-satellite-imagery-workshop'"
      ],
      "execution_count": 4,
      "outputs": []
    },
    {
      "cell_type": "code",
      "metadata": {
        "colab": {
          "base_uri": "https://localhost:8080/"
        },
        "id": "t3L3OH6o5bZQ",
        "outputId": "b07f7bd4-e4b5-4a25-b583-7b83daf47da4"
      },
      "source": [
        "!head -n 30 python-satellite-imagery-workshop/buildings.geojson"
      ],
      "execution_count": 5,
      "outputs": [
        {
          "output_type": "stream",
          "text": [
            "{\n",
            "    \"type\": \"FeatureCollection\",\n",
            "    \"crs\": {\n",
            "        \"type\": \"name\",\n",
            "        \"properties\": {\n",
            "            \"name\": \"urn:ogc:def:crs:EPSG::32636\"\n",
            "        }\n",
            "    },\n",
            "    \"features\": [\n",
            "        {\n",
            "            \"type\": \"Feature\",\n",
            "            \"properties\": {\n",
            "                \"condition\": \"good\",\n",
            "                \"material\": \"cement_block\"\n",
            "            },\n",
            "            \"geometry\": {\n",
            "                \"type\": \"Polygon\",\n",
            "                \"coordinates\": [\n",
            "                    [\n",
            "                        [\n",
            "                            459626.5961106891,\n",
            "                            28121.568562214343\n",
            "                        ],\n",
            "                        [\n",
            "                            459626.8635116092,\n",
            "                            28133.594468839576\n",
            "                        ],\n",
            "                        [\n",
            "                            459635.69885682187,\n",
            "                            28134.35689317324\n"
          ],
          "name": "stdout"
        }
      ]
    },
    {
      "cell_type": "code",
      "metadata": {
        "id": "ieGmwyVMJNhI",
        "colab": {
          "base_uri": "https://localhost:8080/",
          "height": 195
        },
        "outputId": "d28368ce-07a3-4579-bc43-7dfc47c4ece7"
      },
      "source": [
        "import geopandas as gpd\n",
        "buildings_dir = os.path.join(project_dir, 'buildings.geojson')\n",
        "g = gpd.read_file(buildings_dir)\n",
        "g.head()"
      ],
      "execution_count": 6,
      "outputs": [
        {
          "output_type": "execute_result",
          "data": {
            "text/html": [
              "<div>\n",
              "<style scoped>\n",
              "    .dataframe tbody tr th:only-of-type {\n",
              "        vertical-align: middle;\n",
              "    }\n",
              "\n",
              "    .dataframe tbody tr th {\n",
              "        vertical-align: top;\n",
              "    }\n",
              "\n",
              "    .dataframe thead th {\n",
              "        text-align: right;\n",
              "    }\n",
              "</style>\n",
              "<table border=\"1\" class=\"dataframe\">\n",
              "  <thead>\n",
              "    <tr style=\"text-align: right;\">\n",
              "      <th></th>\n",
              "      <th>condition</th>\n",
              "      <th>material</th>\n",
              "      <th>geometry</th>\n",
              "    </tr>\n",
              "  </thead>\n",
              "  <tbody>\n",
              "    <tr>\n",
              "      <th>0</th>\n",
              "      <td>good</td>\n",
              "      <td>cement_block</td>\n",
              "      <td>POLYGON ((459626.596 28121.569, 459626.864 281...</td>\n",
              "    </tr>\n",
              "    <tr>\n",
              "      <th>1</th>\n",
              "      <td>good</td>\n",
              "      <td>concrete</td>\n",
              "      <td>POLYGON ((459416.838 28816.900, 459436.701 288...</td>\n",
              "    </tr>\n",
              "    <tr>\n",
              "      <th>2</th>\n",
              "      <td>good</td>\n",
              "      <td>cement_block</td>\n",
              "      <td>POLYGON ((459415.913 28385.227, 459426.062 283...</td>\n",
              "    </tr>\n",
              "    <tr>\n",
              "      <th>3</th>\n",
              "      <td>good</td>\n",
              "      <td>cement_block</td>\n",
              "      <td>POLYGON ((459402.927 28369.620, 459400.112 283...</td>\n",
              "    </tr>\n",
              "    <tr>\n",
              "      <th>4</th>\n",
              "      <td>good</td>\n",
              "      <td>cement_block</td>\n",
              "      <td>POLYGON ((459410.038 28399.796, 459413.944 283...</td>\n",
              "    </tr>\n",
              "  </tbody>\n",
              "</table>\n",
              "</div>"
            ],
            "text/plain": [
              "  condition      material                                           geometry\n",
              "0      good  cement_block  POLYGON ((459626.596 28121.569, 459626.864 281...\n",
              "1      good      concrete  POLYGON ((459416.838 28816.900, 459436.701 288...\n",
              "2      good  cement_block  POLYGON ((459415.913 28385.227, 459426.062 283...\n",
              "3      good  cement_block  POLYGON ((459402.927 28369.620, 459400.112 283...\n",
              "4      good  cement_block  POLYGON ((459410.038 28399.796, 459413.944 283..."
            ]
          },
          "metadata": {
            "tags": []
          },
          "execution_count": 6
        }
      ]
    },
    {
      "cell_type": "markdown",
      "metadata": {
        "id": "9TICUW3rJNhI"
      },
      "source": [
        "A geodataframe is pandas dataframe and can do pandas dataframe things, e.g."
      ]
    },
    {
      "cell_type": "code",
      "metadata": {
        "id": "JW7gQcv_JNhJ",
        "colab": {
          "base_uri": "https://localhost:8080/",
          "height": 402
        },
        "outputId": "5e499a25-b49f-4f0c-bf65-3dc79ef797d7"
      },
      "source": [
        "g[g['material'] == 'wood']"
      ],
      "execution_count": 7,
      "outputs": [
        {
          "output_type": "execute_result",
          "data": {
            "text/html": [
              "<div>\n",
              "<style scoped>\n",
              "    .dataframe tbody tr th:only-of-type {\n",
              "        vertical-align: middle;\n",
              "    }\n",
              "\n",
              "    .dataframe tbody tr th {\n",
              "        vertical-align: top;\n",
              "    }\n",
              "\n",
              "    .dataframe thead th {\n",
              "        text-align: right;\n",
              "    }\n",
              "</style>\n",
              "<table border=\"1\" class=\"dataframe\">\n",
              "  <thead>\n",
              "    <tr style=\"text-align: right;\">\n",
              "      <th></th>\n",
              "      <th>condition</th>\n",
              "      <th>material</th>\n",
              "      <th>geometry</th>\n",
              "    </tr>\n",
              "  </thead>\n",
              "  <tbody>\n",
              "    <tr>\n",
              "      <th>138</th>\n",
              "      <td>poor</td>\n",
              "      <td>wood</td>\n",
              "      <td>POLYGON ((458669.585 28419.038, 458673.613 284...</td>\n",
              "    </tr>\n",
              "    <tr>\n",
              "      <th>377</th>\n",
              "      <td>poor</td>\n",
              "      <td>wood</td>\n",
              "      <td>POLYGON ((459034.568 28330.392, 459035.592 283...</td>\n",
              "    </tr>\n",
              "    <tr>\n",
              "      <th>393</th>\n",
              "      <td>good</td>\n",
              "      <td>wood</td>\n",
              "      <td>POLYGON ((459415.538 28874.200, 459414.781 288...</td>\n",
              "    </tr>\n",
              "    <tr>\n",
              "      <th>491</th>\n",
              "      <td>poor</td>\n",
              "      <td>wood</td>\n",
              "      <td>POLYGON ((459220.965 27876.309, 459224.070 278...</td>\n",
              "    </tr>\n",
              "    <tr>\n",
              "      <th>492</th>\n",
              "      <td>poor</td>\n",
              "      <td>wood</td>\n",
              "      <td>POLYGON ((459145.186 27872.829, 459148.469 278...</td>\n",
              "    </tr>\n",
              "    <tr>\n",
              "      <th>...</th>\n",
              "      <td>...</td>\n",
              "      <td>...</td>\n",
              "      <td>...</td>\n",
              "    </tr>\n",
              "    <tr>\n",
              "      <th>3627</th>\n",
              "      <td>poor</td>\n",
              "      <td>wood</td>\n",
              "      <td>POLYGON ((459538.011 28175.511, 459534.906 281...</td>\n",
              "    </tr>\n",
              "    <tr>\n",
              "      <th>3628</th>\n",
              "      <td>poor</td>\n",
              "      <td>wood</td>\n",
              "      <td>POLYGON ((459526.861 28165.198, 459526.705 281...</td>\n",
              "    </tr>\n",
              "    <tr>\n",
              "      <th>3629</th>\n",
              "      <td>poor</td>\n",
              "      <td>wood</td>\n",
              "      <td>POLYGON ((459521.464 28171.212, 459525.381 281...</td>\n",
              "    </tr>\n",
              "    <tr>\n",
              "      <th>3680</th>\n",
              "      <td>average</td>\n",
              "      <td>wood</td>\n",
              "      <td>POLYGON ((459089.441 28031.876, 459088.607 280...</td>\n",
              "    </tr>\n",
              "    <tr>\n",
              "      <th>3681</th>\n",
              "      <td>average</td>\n",
              "      <td>wood</td>\n",
              "      <td>POLYGON ((459085.558 28024.968, 459084.311 280...</td>\n",
              "    </tr>\n",
              "  </tbody>\n",
              "</table>\n",
              "<p>124 rows × 3 columns</p>\n",
              "</div>"
            ],
            "text/plain": [
              "     condition material                                           geometry\n",
              "138       poor     wood  POLYGON ((458669.585 28419.038, 458673.613 284...\n",
              "377       poor     wood  POLYGON ((459034.568 28330.392, 459035.592 283...\n",
              "393       good     wood  POLYGON ((459415.538 28874.200, 459414.781 288...\n",
              "491       poor     wood  POLYGON ((459220.965 27876.309, 459224.070 278...\n",
              "492       poor     wood  POLYGON ((459145.186 27872.829, 459148.469 278...\n",
              "...        ...      ...                                                ...\n",
              "3627      poor     wood  POLYGON ((459538.011 28175.511, 459534.906 281...\n",
              "3628      poor     wood  POLYGON ((459526.861 28165.198, 459526.705 281...\n",
              "3629      poor     wood  POLYGON ((459521.464 28171.212, 459525.381 281...\n",
              "3680   average     wood  POLYGON ((459089.441 28031.876, 459088.607 280...\n",
              "3681   average     wood  POLYGON ((459085.558 28024.968, 459084.311 280...\n",
              "\n",
              "[124 rows x 3 columns]"
            ]
          },
          "metadata": {
            "tags": []
          },
          "execution_count": 7
        }
      ]
    },
    {
      "cell_type": "markdown",
      "metadata": {
        "id": "odcipXNKJNhK"
      },
      "source": [
        "But it also has special methods"
      ]
    },
    {
      "cell_type": "code",
      "metadata": {
        "id": "U6GvyVTQJNhL",
        "colab": {
          "base_uri": "https://localhost:8080/",
          "height": 266
        },
        "outputId": "1e58b67b-d4a0-4146-d948-0a9c27010a70"
      },
      "source": [
        "g.plot();"
      ],
      "execution_count": 8,
      "outputs": [
        {
          "output_type": "display_data",
          "data": {
            "image/png": "[encoded data removed]",
            "text/plain": [
              "<Figure size 432x288 with 1 Axes>"
            ]
          },
          "metadata": {
            "tags": [],
            "needs_background": "light"
          }
        }
      ]
    },
    {
      "cell_type": "markdown",
      "metadata": {
        "id": "KBl7QvoJJNhM"
      },
      "source": [
        "The spatial information (geometries) are stored in the geometry field, which is a pandas series made up of [Shapely](https://shapely.readthedocs.io/en/stable/manual.html) polygons"
      ]
    },
    {
      "cell_type": "code",
      "metadata": {
        "id": "VhKIV00UJNhM",
        "colab": {
          "base_uri": "https://localhost:8080/",
          "height": 121
        },
        "outputId": "4b096529-8933-4f92-f163-cffbfdba0a0f"
      },
      "source": [
        "s = g['geometry'].loc[1]\n",
        "s"
      ],
      "execution_count": 9,
      "outputs": [
        {
          "output_type": "execute_result",
          "data": {
            "text/plain": [
              "<shapely.geometry.polygon.Polygon at 0x7f531dbe8310>"
            ],
            "image/svg+xml": "<svg xmlns=\"http://www.w3.org/2000/svg\" xmlns:xlink=\"http://www.w3.org/1999/xlink\" width=\"100.0\" height=\"100.0\" viewBox=\"459414.2108138937 28787.36645317002 33.740440991008654 37.578991603313625\" preserveAspectRatio=\"xMinYMin meet\"><g transform=\"matrix(1,0,0,-1,0,57612.31189794335)\"><path fill-rule=\"evenodd\" fill=\"#66cc99\" stroke=\"#555555\" stroke-width=\"0.7515798320662725\" opacity=\"0.6\" d=\"M 459416.8382452434,28816.900159710134 L 459436.701219452,28823.553630269507 L 459446.5594403809,28794.5165043302 L 459429.3671182402,28788.758267673846 L 459426.55207304034,28797.04827328593 L 459418.0059865348,28794.185733442046 L 459415.6026283975,28801.28197817396 L 459421.4780628629,28803.24928344227 L 459416.8382452434,28816.900159710134 z\" /></g></svg>"
          },
          "metadata": {
            "tags": []
          },
          "execution_count": 9
        }
      ]
    },
    {
      "cell_type": "code",
      "metadata": {
        "id": "jgpXzcAoJNhN",
        "colab": {
          "base_uri": "https://localhost:8080/"
        },
        "outputId": "da90392d-0ecc-4180-ee96-4cb8ea7ec154"
      },
      "source": [
        "print(s)"
      ],
      "execution_count": 10,
      "outputs": [
        {
          "output_type": "stream",
          "text": [
            "POLYGON ((459416.8382452434 28816.90015971013, 459436.701219452 28823.55363026951, 459446.5594403809 28794.5165043302, 459429.3671182402 28788.75826767385, 459426.5520730403 28797.04827328593, 459418.0059865348 28794.18573344205, 459415.6026283975 28801.28197817396, 459421.4780628629 28803.24928344227, 459416.8382452434 28816.90015971013))\n"
          ],
          "name": "stdout"
        }
      ]
    },
    {
      "cell_type": "code",
      "metadata": {
        "id": "JpnH_12QJNhN",
        "colab": {
          "base_uri": "https://localhost:8080/"
        },
        "outputId": "541ab661-5837-4d1f-b963-2bdd04ce2ebb"
      },
      "source": [
        "s.area"
      ],
      "execution_count": 11,
      "outputs": [
        {
          "output_type": "execute_result",
          "data": {
            "text/plain": [
              "664.0568703581537"
            ]
          },
          "metadata": {
            "tags": []
          },
          "execution_count": 11
        }
      ]
    },
    {
      "cell_type": "code",
      "metadata": {
        "id": "xpbtfES0JNhO",
        "colab": {
          "base_uri": "https://localhost:8080/",
          "height": 121
        },
        "outputId": "9fb7ab5e-641e-4c20-ffae-ed7c3d110b8a"
      },
      "source": [
        "s.centroid"
      ],
      "execution_count": 12,
      "outputs": [
        {
          "output_type": "execute_result",
          "data": {
            "text/plain": [
              "<shapely.geometry.point.Point at 0x7f531dbf1850>"
            ],
            "image/svg+xml": "<svg xmlns=\"http://www.w3.org/2000/svg\" xmlns:xlink=\"http://www.w3.org/1999/xlink\" width=\"100.0\" height=\"100.0\" viewBox=\"459430.05230464344 28804.71192215209 2.0 2.0\" preserveAspectRatio=\"xMinYMin meet\"><g transform=\"matrix(1,0,0,-1,0,57611.42384430418)\"><circle cx=\"459431.05230464344\" cy=\"28805.71192215209\" r=\"0.06\" stroke=\"#555555\" stroke-width=\"0.02\" fill=\"#66cc99\" opacity=\"0.6\" /></g></svg>"
          },
          "metadata": {
            "tags": []
          },
          "execution_count": 12
        }
      ]
    },
    {
      "cell_type": "code",
      "metadata": {
        "id": "yX7eo8beoUQX",
        "colab": {
          "base_uri": "https://localhost:8080/"
        },
        "outputId": "49192c92-023d-4c83-f7ca-855a57d95a57"
      },
      "source": [
        "g.crs"
      ],
      "execution_count": 13,
      "outputs": [
        {
          "output_type": "execute_result",
          "data": {
            "text/plain": [
              "<Projected CRS: EPSG:32636>\n",
              "Name: WGS 84 / UTM zone 36N\n",
              "Axis Info [cartesian]:\n",
              "- E[east]: Easting (metre)\n",
              "- N[north]: Northing (metre)\n",
              "Area of Use:\n",
              "- name: Between 30°E and 36°E, northern hemisphere between equator and 84°N, onshore and offshore. Belarus. Cyprus. Egypt. Ethiopia. Finland. Israel. Jordan. Kenya. Lebanon. Moldova. Norway. Russian Federation. Saudi Arabia. Sudan. Syria. Turkey. Uganda. Ukraine.\n",
              "- bounds: (30.0, 0.0, 36.0, 84.0)\n",
              "Coordinate Operation:\n",
              "- name: UTM zone 36N\n",
              "- method: Transverse Mercator\n",
              "Datum: World Geodetic System 1984\n",
              "- Ellipsoid: WGS 84\n",
              "- Prime Meridian: Greenwich"
            ]
          },
          "metadata": {
            "tags": []
          },
          "execution_count": 13
        }
      ]
    },
    {
      "cell_type": "markdown",
      "metadata": {
        "id": "X6-QqoVGJNhO"
      },
      "source": [
        "### Raster data (includes images)"
      ]
    },
    {
      "cell_type": "markdown",
      "metadata": {
        "id": "iBCjOvfCJNhP"
      },
      "source": [
        "Stored as arrays of pixels values that can represent light (i.e. images) or arbitrary values (i.e. land cover classification)  "
      ]
    },
    {
      "cell_type": "markdown",
      "metadata": {
        "id": "yAghmvVpJNhP"
      },
      "source": [
        "Examine raster dataset using [GDAL](https://gdal.org/)"
      ]
    },
    {
      "cell_type": "code",
      "metadata": {
        "scrolled": true,
        "id": "0kXT9DUIJNhQ",
        "colab": {
          "base_uri": "https://localhost:8080/"
        },
        "outputId": "b37cc4d2-24e1-42e0-851d-140daf728c88"
      },
      "source": [
        "!gdalinfo python-satellite-imagery-workshop/img.tif"
      ],
      "execution_count": 14,
      "outputs": [
        {
          "output_type": "stream",
          "text": [
            "Driver: GTiff/GeoTIFF\n",
            "Files: python-satellite-imagery-workshop/img.tif\n",
            "Size is 6000, 6000\n",
            "Coordinate System is:\n",
            "PROJCS[\"WGS 84 / UTM zone 36N\",\n",
            "    GEOGCS[\"WGS 84\",\n",
            "        DATUM[\"WGS_1984\",\n",
            "            SPHEROID[\"WGS 84\",6378137,298.257223563,\n",
            "                AUTHORITY[\"EPSG\",\"7030\"]],\n",
            "            AUTHORITY[\"EPSG\",\"6326\"]],\n",
            "        PRIMEM[\"Greenwich\",0,\n",
            "            AUTHORITY[\"EPSG\",\"8901\"]],\n",
            "        UNIT[\"degree\",0.0174532925199433,\n",
            "            AUTHORITY[\"EPSG\",\"9122\"]],\n",
            "        AUTHORITY[\"EPSG\",\"4326\"]],\n",
            "    PROJECTION[\"Transverse_Mercator\"],\n",
            "    PARAMETER[\"latitude_of_origin\",0],\n",
            "    PARAMETER[\"central_meridian\",33],\n",
            "    PARAMETER[\"scale_factor\",0.9996],\n",
            "    PARAMETER[\"false_easting\",500000],\n",
            "    PARAMETER[\"false_northing\",0],\n",
            "    UNIT[\"metre\",1,\n",
            "        AUTHORITY[\"EPSG\",\"9001\"]],\n",
            "    AXIS[\"Easting\",EAST],\n",
            "    AXIS[\"Northing\",NORTH],\n",
            "    AUTHORITY[\"EPSG\",\"32636\"]]\n",
            "Origin = (459286.620712036266923,28083.912440528732986)\n",
            "Pixel Size = (0.035334835417146,-0.035334911276513)\n",
            "Metadata:\n",
            "  AREA_OR_POINT=Area\n",
            "Image Structure Metadata:\n",
            "  COMPRESSION=JPEG\n",
            "  INTERLEAVE=PIXEL\n",
            "Corner Coordinates:\n",
            "Upper Left  (  459286.621,   28083.912) ( 32d38' 2.83\"E,  0d15'14.68\"N)\n",
            "Lower Left  (  459286.621,   27871.903) ( 32d38' 2.83\"E,  0d15' 7.78\"N)\n",
            "Upper Right (  459498.630,   28083.912) ( 32d38' 9.68\"E,  0d15'14.68\"N)\n",
            "Lower Right (  459498.630,   27871.903) ( 32d38' 9.68\"E,  0d15' 7.78\"N)\n",
            "Center      (  459392.625,   27977.908) ( 32d38' 6.25\"E,  0d15'11.23\"N)\n",
            "Band 1 Block=512x512 Type=Byte, ColorInterp=Red\n",
            "  Mask Flags: PER_DATASET ALPHA \n",
            "Band 2 Block=512x512 Type=Byte, ColorInterp=Green\n",
            "  Mask Flags: PER_DATASET ALPHA \n",
            "Band 3 Block=512x512 Type=Byte, ColorInterp=Blue\n",
            "  Mask Flags: PER_DATASET ALPHA \n",
            "Band 4 Block=512x512 Type=Byte, ColorInterp=Alpha\n"
          ],
          "name": "stdout"
        }
      ]
    },
    {
      "cell_type": "markdown",
      "metadata": {
        "id": "xjIDbmKGJNhQ"
      },
      "source": [
        "We will read raster files using rasterio and store the values in memory as NumPy arrays"
      ]
    },
    {
      "cell_type": "code",
      "metadata": {
        "id": "d1gy29WXJNhQ",
        "colab": {
          "base_uri": "https://localhost:8080/"
        },
        "outputId": "4dddf2ea-05bb-4a56-8529-6f23875cc5db"
      },
      "source": [
        "with rasterio.open(os.path.join(project_dir, 'img.tif'), 'r') as src:\n",
        "    img = src.read()\n",
        "\n",
        "img"
      ],
      "execution_count": 15,
      "outputs": [
        {
          "output_type": "execute_result",
          "data": {
            "text/plain": [
              "array([[[ 93,  97, 101, ..., 140, 139, 143],\n",
              "        [100,  95,  91, ..., 163, 162, 166],\n",
              "        [ 97,  87,  85, ..., 164, 165, 169],\n",
              "        ...,\n",
              "        [107, 104, 102, ..., 191, 182, 179],\n",
              "        [109, 104, 101, ..., 148, 181, 164],\n",
              "        [ 96,  93,  94, ...,  83, 125, 138]],\n",
              "\n",
              "       [[ 97,  96,  95, ..., 124, 122, 125],\n",
              "        [103,  96,  90, ..., 146, 146, 151],\n",
              "        [ 98,  90,  88, ..., 147, 150, 156],\n",
              "        ...,\n",
              "        [122, 119, 117, ..., 180, 173, 173],\n",
              "        [124, 119, 116, ..., 135, 170, 155],\n",
              "        [111, 108, 109, ...,  62, 105, 118]],\n",
              "\n",
              "       [[ 61,  62,  62, ...,  98,  96,  98],\n",
              "        [ 66,  60,  57, ..., 121, 121, 125],\n",
              "        [ 61,  54,  54, ..., 124, 126, 131],\n",
              "        ...,\n",
              "        [ 57,  54,  52, ..., 164, 167, 161],\n",
              "        [ 59,  54,  51, ..., 113, 157, 140],\n",
              "        [ 46,  43,  44, ...,  37,  86,  99]],\n",
              "\n",
              "       [[255, 255, 255, ..., 255, 255, 255],\n",
              "        [255, 255, 255, ..., 255, 255, 255],\n",
              "        [255, 255, 255, ..., 255, 255, 255],\n",
              "        ...,\n",
              "        [255, 255, 255, ..., 255, 255, 255],\n",
              "        [255, 255, 255, ..., 255, 255, 255],\n",
              "        [255, 255, 255, ..., 255, 255, 255]]], dtype=uint8)"
            ]
          },
          "metadata": {
            "tags": []
          },
          "execution_count": 15
        }
      ]
    },
    {
      "cell_type": "code",
      "metadata": {
        "id": "nZqCZZmRJNhR",
        "colab": {
          "base_uri": "https://localhost:8080/"
        },
        "outputId": "50989efc-940b-4842-93af-2c4a96736674"
      },
      "source": [
        "np.max(img)"
      ],
      "execution_count": 16,
      "outputs": [
        {
          "output_type": "execute_result",
          "data": {
            "text/plain": [
              "255"
            ]
          },
          "metadata": {
            "tags": []
          },
          "execution_count": 16
        }
      ]
    },
    {
      "cell_type": "code",
      "metadata": {
        "id": "MX9H6rkBJNhR"
      },
      "source": [
        "plt.imshow(img.T);"
      ],
      "execution_count": null,
      "outputs": []
    },
    {
      "cell_type": "markdown",
      "metadata": {
        "id": "bYGsr6geJNhS"
      },
      "source": [
        "Windowed reading and writing: grab a 1k x 1k pixel image from the very center of this one"
      ]
    },
    {
      "cell_type": "code",
      "metadata": {
        "id": "h_guSxsnJNhS"
      },
      "source": [
        "with rasterio.open(os.path.join(project_dir, 'img.tif')) as src:\n",
        "    witdth = src.width\n",
        "    hight = src.height\n",
        "    p = src.profile.copy()"
      ],
      "execution_count": 18,
      "outputs": []
    },
    {
      "cell_type": "code",
      "metadata": {
        "id": "z3S8SAJGJNhS"
      },
      "source": [
        "col_off = (src.width / 2) - (1000 / 2)\n",
        "row_off = (src.height / 2) - (1000 / 2)"
      ],
      "execution_count": 19,
      "outputs": []
    },
    {
      "cell_type": "code",
      "metadata": {
        "id": "DETvQJPnJNhT",
        "colab": {
          "base_uri": "https://localhost:8080/"
        },
        "outputId": "6e114761-77af-4540-cb8f-3d955a2472a5"
      },
      "source": [
        "pprint(p['transform'])"
      ],
      "execution_count": 20,
      "outputs": [
        {
          "output_type": "stream",
          "text": [
            "Affine(0.03533483541714589, 0.0, 459286.62071203627,\n",
            "       0.0, -0.035334911276512705, 28083.912440528733)\n"
          ],
          "name": "stdout"
        }
      ]
    },
    {
      "cell_type": "code",
      "metadata": {
        "id": "Mt9vVLfgJNhT"
      },
      "source": [
        "win = Window(col_off=col_off, row_off=row_off, width=1000, height=1000)"
      ],
      "execution_count": 21,
      "outputs": []
    },
    {
      "cell_type": "code",
      "metadata": {
        "id": "jZcVbzhKJNhT"
      },
      "source": [
        "x = rasterio.open(os.path.join(project_dir, 'img.tif')).window_transform(win)"
      ],
      "execution_count": 22,
      "outputs": []
    },
    {
      "cell_type": "code",
      "metadata": {
        "id": "_kGnhBBiJNhT",
        "colab": {
          "base_uri": "https://localhost:8080/"
        },
        "outputId": "f41caf3a-8f04-475c-affa-b51f83b0ad21"
      },
      "source": [
        "x"
      ],
      "execution_count": 23,
      "outputs": [
        {
          "output_type": "execute_result",
          "data": {
            "text/plain": [
              "Affine(0.03533483541714589, 0.0, 459374.95780057914,\n",
              "       0.0, -0.035334911276512705, 27995.575162337453)"
            ]
          },
          "metadata": {
            "tags": []
          },
          "execution_count": 23
        }
      ]
    },
    {
      "cell_type": "code",
      "metadata": {
        "id": "Qr9c691JJNhT"
      },
      "source": [
        "with rasterio.open(os.path.join(project_dir, 'img.tif')) as src:\n",
        "    f = src.read(window=win)\n",
        "    p = src.profile.copy()\n",
        "    p['width'] = win.width\n",
        "    p['height'] = win.height\n",
        "    p['transform'] = src.window_transform(win)"
      ],
      "execution_count": 24,
      "outputs": []
    },
    {
      "cell_type": "code",
      "metadata": {
        "id": "ze_VEaYGJNhU",
        "colab": {
          "base_uri": "https://localhost:8080/"
        },
        "outputId": "19feacf2-bf8a-4f46-b3cf-3653cdb81b06"
      },
      "source": [
        "f.shape"
      ],
      "execution_count": 25,
      "outputs": [
        {
          "output_type": "execute_result",
          "data": {
            "text/plain": [
              "(4, 1000, 1000)"
            ]
          },
          "metadata": {
            "tags": []
          },
          "execution_count": 25
        }
      ]
    },
    {
      "cell_type": "code",
      "metadata": {
        "id": "pk9cy9krJNhU"
      },
      "source": [
        "with rasterio.open(os.path.join(project_dir, 'sample.tif'), 'w', **p) as dst:\n",
        "    dst.write(f)"
      ],
      "execution_count": 26,
      "outputs": []
    },
    {
      "cell_type": "code",
      "metadata": {
        "scrolled": false,
        "id": "iDMNp6suJNhV",
        "colab": {
          "base_uri": "https://localhost:8080/"
        },
        "outputId": "1386833c-fae6-4bd2-8e52-416d1473329c"
      },
      "source": [
        "!ls python-satellite-imagery-workshop"
      ],
      "execution_count": 27,
      "outputs": [
        {
          "output_type": "stream",
          "text": [
            "build\t\t\t\t\timg.tif\n",
            "buildings.geojson\t\t\tPython_satellite_imagery_workshop.ipynb\n",
            "colab_satellite_imagery_workshop.ipynb\tREADME.md\n",
            "DataPhilly-workshop-intro-slides.pdf\trequirements.txt\n",
            "docker-compose.yml\t\t\trun\n",
            "Dockerfile\t\t\t\tsample.tif\n",
            "img\n"
          ],
          "name": "stdout"
        }
      ]
    },
    {
      "cell_type": "markdown",
      "metadata": {
        "id": "ihdheLV0JNhV"
      },
      "source": [
        "## 2) Building training data for Machine Learning  "
      ]
    },
    {
      "cell_type": "markdown",
      "metadata": {
        "id": "6ue4T5UqJNhW"
      },
      "source": [
        "Prep data for building chip classification"
      ]
    },
    {
      "cell_type": "code",
      "metadata": {
        "id": "UhvnvehmJNhW"
      },
      "source": [
        "all_bldgs = gpd.read_file(os.path.join(project_dir, 'buildings.geojson'))"
      ],
      "execution_count": 28,
      "outputs": []
    },
    {
      "cell_type": "code",
      "metadata": {
        "id": "eNUafoiLJNhW"
      },
      "source": [
        "with rasterio.open(os.path.join(project_dir, 'img.tif')) as src:\n",
        "    img_bounds = src.bounds"
      ],
      "execution_count": 29,
      "outputs": []
    },
    {
      "cell_type": "code",
      "metadata": {
        "id": "r9RIA7LbJNhW",
        "colab": {
          "base_uri": "https://localhost:8080/"
        },
        "outputId": "4b211839-9e73-490e-e26d-504ec85b3533"
      },
      "source": [
        "img_bounds"
      ],
      "execution_count": 30,
      "outputs": [
        {
          "output_type": "execute_result",
          "data": {
            "text/plain": [
              "BoundingBox(left=459286.62071203627, bottom=27871.902972869655, right=459498.6297245391, top=28083.912440528733)"
            ]
          },
          "metadata": {
            "tags": []
          },
          "execution_count": 30
        }
      ]
    },
    {
      "cell_type": "code",
      "metadata": {
        "id": "lZZCA6OAJNhW"
      },
      "source": [
        "# left, bottom, right, top\n",
        "l, b, r, t = img_bounds"
      ],
      "execution_count": 31,
      "outputs": []
    },
    {
      "cell_type": "code",
      "metadata": {
        "id": "ivD8MxtgJNhW"
      },
      "source": [
        "from shapely.geometry import Polygon"
      ],
      "execution_count": 32,
      "outputs": []
    },
    {
      "cell_type": "code",
      "metadata": {
        "id": "v_lJvEIrJNhW",
        "colab": {
          "base_uri": "https://localhost:8080/",
          "height": 0
        },
        "outputId": "45823ed2-0866-46c3-ac5f-c1b6385e8d8f"
      },
      "source": [
        "img_bbox = Polygon([(l, b), (l, t), (r, t), (r, b)])\n",
        "img_bbox"
      ],
      "execution_count": 33,
      "outputs": [
        {
          "output_type": "execute_result",
          "data": {
            "text/plain": [
              "<shapely.geometry.polygon.Polygon at 0x7f531db523d0>"
            ],
            "image/svg+xml": "<svg xmlns=\"http://www.w3.org/2000/svg\" xmlns:xlink=\"http://www.w3.org/1999/xlink\" width=\"228.96976991556585\" height=\"228.97022507180736\" viewBox=\"459278.1403333299 27863.42259416329 228.96976991556585 228.97022507180736\" preserveAspectRatio=\"xMinYMin meet\"><g transform=\"matrix(1,0,0,-1,0,55955.81541339839)\"><path fill-rule=\"evenodd\" fill=\"#66cc99\" stroke=\"#555555\" stroke-width=\"2.0\" opacity=\"0.6\" d=\"M 459286.62071203627,27871.902972869655 L 459286.62071203627,28083.912440528733 L 459498.6297245391,28083.912440528733 L 459498.6297245391,27871.902972869655 L 459286.62071203627,27871.902972869655 z\" /></g></svg>"
          },
          "metadata": {
            "tags": []
          },
          "execution_count": 33
        }
      ]
    },
    {
      "cell_type": "code",
      "metadata": {
        "id": "6omQINJeJNhX"
      },
      "source": [
        "bbox_gdf = gpd.GeoDataFrame({'geometry': [img_bbox]}, crs = 32636)"
      ],
      "execution_count": 34,
      "outputs": []
    },
    {
      "cell_type": "code",
      "metadata": {
        "id": "jdjVOHkMJNhX",
        "colab": {
          "base_uri": "https://localhost:8080/",
          "height": 0
        },
        "outputId": "3af83205-3690-4db8-f7c2-5f833795c065"
      },
      "source": [
        "bbox_gdf.plot()"
      ],
      "execution_count": 35,
      "outputs": [
        {
          "output_type": "execute_result",
          "data": {
            "text/plain": [
              "<matplotlib.axes._subplots.AxesSubplot at 0x7f531db56510>"
            ]
          },
          "metadata": {
            "tags": []
          },
          "execution_count": 35
        },
        {
          "output_type": "display_data",
          "data": {
            "image/png": "[encoded data removed]",
            "text/plain": [
              "<Figure size 432x288 with 1 Axes>"
            ]
          },
          "metadata": {
            "tags": [],
            "needs_background": "light"
          }
        }
      ]
    },
    {
      "cell_type": "code",
      "metadata": {
        "id": "_LU1M9OIJNhZ",
        "colab": {
          "base_uri": "https://localhost:8080/",
          "height": 0
        },
        "outputId": "7df2bffa-5834-4a42-faf1-f6fbbbf6805f"
      },
      "source": [
        "all_bldgs"
      ],
      "execution_count": 36,
      "outputs": [
        {
          "output_type": "execute_result",
          "data": {
            "text/html": [
              "<div>\n",
              "<style scoped>\n",
              "    .dataframe tbody tr th:only-of-type {\n",
              "        vertical-align: middle;\n",
              "    }\n",
              "\n",
              "    .dataframe tbody tr th {\n",
              "        vertical-align: top;\n",
              "    }\n",
              "\n",
              "    .dataframe thead th {\n",
              "        text-align: right;\n",
              "    }\n",
              "</style>\n",
              "<table border=\"1\" class=\"dataframe\">\n",
              "  <thead>\n",
              "    <tr style=\"text-align: right;\">\n",
              "      <th></th>\n",
              "      <th>condition</th>\n",
              "      <th>material</th>\n",
              "      <th>geometry</th>\n",
              "    </tr>\n",
              "  </thead>\n",
              "  <tbody>\n",
              "    <tr>\n",
              "      <th>0</th>\n",
              "      <td>good</td>\n",
              "      <td>cement_block</td>\n",
              "      <td>POLYGON ((459626.596 28121.569, 459626.864 281...</td>\n",
              "    </tr>\n",
              "    <tr>\n",
              "      <th>1</th>\n",
              "      <td>good</td>\n",
              "      <td>concrete</td>\n",
              "      <td>POLYGON ((459416.838 28816.900, 459436.701 288...</td>\n",
              "    </tr>\n",
              "    <tr>\n",
              "      <th>2</th>\n",
              "      <td>good</td>\n",
              "      <td>cement_block</td>\n",
              "      <td>POLYGON ((459415.913 28385.227, 459426.062 283...</td>\n",
              "    </tr>\n",
              "    <tr>\n",
              "      <th>3</th>\n",
              "      <td>good</td>\n",
              "      <td>cement_block</td>\n",
              "      <td>POLYGON ((459402.927 28369.620, 459400.112 283...</td>\n",
              "    </tr>\n",
              "    <tr>\n",
              "      <th>4</th>\n",
              "      <td>good</td>\n",
              "      <td>cement_block</td>\n",
              "      <td>POLYGON ((459410.038 28399.796, 459413.944 283...</td>\n",
              "    </tr>\n",
              "    <tr>\n",
              "      <th>...</th>\n",
              "      <td>...</td>\n",
              "      <td>...</td>\n",
              "      <td>...</td>\n",
              "    </tr>\n",
              "    <tr>\n",
              "      <th>3924</th>\n",
              "      <td>poor</td>\n",
              "      <td>brick</td>\n",
              "      <td>POLYGON ((459145.088 27926.680, 459146.067 279...</td>\n",
              "    </tr>\n",
              "    <tr>\n",
              "      <th>3925</th>\n",
              "      <td>poor</td>\n",
              "      <td>metal;wood</td>\n",
              "      <td>POLYGON ((459021.426 27916.217, 459024.475 279...</td>\n",
              "    </tr>\n",
              "    <tr>\n",
              "      <th>3926</th>\n",
              "      <td>average</td>\n",
              "      <td>brick</td>\n",
              "      <td>POLYGON ((459066.106 28001.690, 459067.697 280...</td>\n",
              "    </tr>\n",
              "    <tr>\n",
              "      <th>3927</th>\n",
              "      <td>poor</td>\n",
              "      <td>brick</td>\n",
              "      <td>POLYGON ((459019.915 27994.109, 459021.740 279...</td>\n",
              "    </tr>\n",
              "    <tr>\n",
              "      <th>3928</th>\n",
              "      <td>poor</td>\n",
              "      <td>brick</td>\n",
              "      <td>POLYGON ((458959.125 28021.434, 458961.741 280...</td>\n",
              "    </tr>\n",
              "  </tbody>\n",
              "</table>\n",
              "<p>3929 rows × 3 columns</p>\n",
              "</div>"
            ],
            "text/plain": [
              "     condition      material                                           geometry\n",
              "0         good  cement_block  POLYGON ((459626.596 28121.569, 459626.864 281...\n",
              "1         good      concrete  POLYGON ((459416.838 28816.900, 459436.701 288...\n",
              "2         good  cement_block  POLYGON ((459415.913 28385.227, 459426.062 283...\n",
              "3         good  cement_block  POLYGON ((459402.927 28369.620, 459400.112 283...\n",
              "4         good  cement_block  POLYGON ((459410.038 28399.796, 459413.944 283...\n",
              "...        ...           ...                                                ...\n",
              "3924      poor         brick  POLYGON ((459145.088 27926.680, 459146.067 279...\n",
              "3925      poor    metal;wood  POLYGON ((459021.426 27916.217, 459024.475 279...\n",
              "3926   average         brick  POLYGON ((459066.106 28001.690, 459067.697 280...\n",
              "3927      poor         brick  POLYGON ((459019.915 27994.109, 459021.740 279...\n",
              "3928      poor         brick  POLYGON ((458959.125 28021.434, 458961.741 280...\n",
              "\n",
              "[3929 rows x 3 columns]"
            ]
          },
          "metadata": {
            "tags": []
          },
          "execution_count": 36
        }
      ]
    },
    {
      "cell_type": "code",
      "metadata": {
        "id": "o1fT8AZsJNhZ"
      },
      "source": [
        "bldgs = gpd.overlay(all_bldgs, bbox_gdf, how='intersection')"
      ],
      "execution_count": 37,
      "outputs": []
    },
    {
      "cell_type": "code",
      "metadata": {
        "id": "n04LnJf6JNha"
      },
      "source": [
        "import os\n",
        "from shutil import rmtree\n",
        "buildings_dir = os.path.join(project_dir, 'buildings')\n",
        "\n",
        "if os.path.isdir(buildings_dir):\n",
        "    rmtree(buildings_dir)\n",
        "os.makedirs(os.path.join(buildings_dir, 'true'))\n",
        "os.makedirs(os.path.join(buildings_dir, 'false'))"
      ],
      "execution_count": 38,
      "outputs": []
    },
    {
      "cell_type": "code",
      "metadata": {
        "id": "v6kjmyzSJNha"
      },
      "source": [
        "mp = MultiPolygon(bldgs['geometry'].values)"
      ],
      "execution_count": 39,
      "outputs": []
    },
    {
      "cell_type": "code",
      "metadata": {
        "id": "FU-Icq7WJNha"
      },
      "source": [
        "# specify the png image size (in pixels) \n",
        "png_size = 600"
      ],
      "execution_count": 40,
      "outputs": []
    },
    {
      "cell_type": "code",
      "metadata": {
        "id": "AF08H7T-JNha"
      },
      "source": [
        "with rasterio.open(os.path.join(project_dir, 'img.tif')) as src:\n",
        "    \n",
        "    # gather width and height of input image\n",
        "    width = src.width\n",
        "    height = src.height\n",
        "    \n",
        "    # iterate over the image in a grid of 1200x1200 pixel squares\n",
        "    for w in range(0, width, png_size):\n",
        "        for h in range(0, height, png_size):\n",
        "\n",
        "            # construct Window object using row/col and size\n",
        "            win = Window(w, h, png_size, png_size)\n",
        "            \n",
        "            # find the corresponding spatial coordinates\n",
        "            trans = src.window_transform(win)\n",
        "            \n",
        "            # read the window portion in as a numpy array\n",
        "            a = src.read(window=win)\n",
        "            \n",
        "            # create shapely object that represents the bounds of the window\n",
        "            p = src.profile.copy()\n",
        "            p['width'] = win.width\n",
        "            p['height'] = win.height\n",
        "            p['transform'] = src.window_transform(win)\n",
        "            with rasterio.open('/tmp/tmp.tif', 'w', **p) as dst:\n",
        "                bnds = dst.bounds\n",
        "            \n",
        "            x = Polygon(box(*bnds))\n",
        "            \n",
        "            # check whether the window intersects with any buildings\n",
        "            has_bldg = x.intersects(mp)\n",
        "            \n",
        "            if has_bldg is True:\n",
        "                label = 'true'\n",
        "            else:\n",
        "                label = 'false'\n",
        "                        \n",
        "            # create a PIL image from the numpy array\n",
        "            im = Image.fromarray(a[0:3].T)\n",
        "            \n",
        "            # save the image off as a png\n",
        "            fp = f'{project_dir}/buildings/{label}/{w}-{h}.png'\n",
        "            im.save(fp)"
      ],
      "execution_count": null,
      "outputs": []
    },
    {
      "cell_type": "markdown",
      "metadata": {
        "id": "q_AVI7TiJNha"
      },
      "source": [
        "Example png without a building"
      ]
    },
    {
      "cell_type": "code",
      "metadata": {
        "id": "I6aWkIftJNha"
      },
      "source": [
        "display.Image(filename=f'{buildings_dir}/false/{os.listdir(f\"{buildings_dir}/false\")[1]}')"
      ],
      "execution_count": null,
      "outputs": []
    },
    {
      "cell_type": "markdown",
      "metadata": {
        "id": "dvMQfbHmJNha"
      },
      "source": [
        "Example png with a building"
      ]
    },
    {
      "cell_type": "code",
      "metadata": {
        "scrolled": true,
        "id": "ZI3D-fCtJNha"
      },
      "source": [
        "display.Image(filename=f'{buildings_dir}/true/{os.listdir(f\"{buildings_dir}/true\")[1]}')"
      ],
      "execution_count": null,
      "outputs": []
    },
    {
      "cell_type": "markdown",
      "metadata": {
        "id": "Hz41UkpzJNhb"
      },
      "source": [
        "Rasterizing polygons"
      ]
    },
    {
      "cell_type": "code",
      "metadata": {
        "id": "xpkqSC56JNhb"
      },
      "source": [
        "# get a shapely polygon of a window's bounding box\n",
        "def window_bbox(dataset_reader, win):\n",
        "    p = dataset_reader.profile.copy()\n",
        "    p['width'] = win.width\n",
        "    p['height'] = win.height\n",
        "    p['transform'] = dataset_reader.window_transform(win)\n",
        "    with rasterio.open('/tmp/tmp.tif', 'w', **p) as dst:\n",
        "        bnds = dst.bounds\n",
        "            \n",
        "    x = Polygon(box(*bnds))\n",
        "    \n",
        "    return x"
      ],
      "execution_count": null,
      "outputs": []
    },
    {
      "cell_type": "code",
      "metadata": {
        "id": "WUP0vX-oJNhb"
      },
      "source": [
        "with rasterio.open(os.path.join(project_dir, 'img.tif'), 'r') as src:\n",
        "    win = Window(0, 0, 1000, 1000)\n",
        "    a = src.read(window = win)\n",
        "    win_bbox = window_bbox(src, win)\n",
        "    trans = src.window_transform(win)"
      ],
      "execution_count": null,
      "outputs": []
    },
    {
      "cell_type": "markdown",
      "metadata": {
        "id": "u1x9SoadJNhb"
      },
      "source": [
        "  "
      ]
    },
    {
      "cell_type": "markdown",
      "metadata": {
        "id": "DjR0hyd7JNhc"
      },
      "source": [
        "We need the extent of the polygons we are rasterizing to match up with the extent of the image (or rather portion of an image) that it is paired with, so we will clip the buildings to that extent.  \n",
        "   "
      ]
    },
    {
      "cell_type": "code",
      "metadata": {
        "id": "ydgEoAxmJNhc"
      },
      "source": [
        "win_bldgs = gpd.clip(bldgs, win_bbox)"
      ],
      "execution_count": null,
      "outputs": []
    },
    {
      "cell_type": "markdown",
      "metadata": {
        "id": "uX_dZIfyJNhc"
      },
      "source": [
        "  "
      ]
    },
    {
      "cell_type": "markdown",
      "metadata": {
        "id": "ij7blKgWJNhc"
      },
      "source": [
        "Assign a numeric value to the 'condition' variable that we will want to burn into the resulting raster "
      ]
    },
    {
      "cell_type": "code",
      "metadata": {
        "id": "aUMiWKphJNhc"
      },
      "source": [
        "win_bldgs['condition_num'] = win_bldgs['condition'].apply(lambda x: 1 if x == 'poor' else 2)"
      ],
      "execution_count": null,
      "outputs": []
    },
    {
      "cell_type": "code",
      "metadata": {
        "id": "V5z5T2cbJNhc"
      },
      "source": [
        "win_bldgs"
      ],
      "execution_count": null,
      "outputs": []
    },
    {
      "cell_type": "markdown",
      "metadata": {
        "id": "Z-V4iDQAJNhc"
      },
      "source": [
        "  "
      ]
    },
    {
      "cell_type": "markdown",
      "metadata": {
        "id": "38S0Yp-VJNhc"
      },
      "source": [
        "Now it's time to rasterize these features"
      ]
    },
    {
      "cell_type": "code",
      "metadata": {
        "id": "l1R50-NEJNhd"
      },
      "source": [
        "from rasterio.features import rasterize"
      ],
      "execution_count": null,
      "outputs": []
    },
    {
      "cell_type": "markdown",
      "metadata": {
        "id": "EQNy-xQzJNhd"
      },
      "source": [
        "![rasterize](https://github.com/simonkassel/python-satellite-imagery-workshop/blob/main/img/rasterize.png?raw=1)"
      ]
    },
    {
      "cell_type": "markdown",
      "metadata": {
        "id": "H3SJO8xmJNhd"
      },
      "source": [
        "Pair each geometry with its appropriate output pixel value"
      ]
    },
    {
      "cell_type": "code",
      "metadata": {
        "id": "tYFXyqNOJNhd"
      },
      "source": [
        "def tuple_to_list(t):\n",
        "    return list(map(tuple_to_list, t)) if isinstance(t, (list, tuple)) else t"
      ],
      "execution_count": null,
      "outputs": []
    },
    {
      "cell_type": "code",
      "metadata": {
        "id": "eQE0WdLSJNhd"
      },
      "source": [
        "def preformat_geom(geom):\n",
        "    gj = geom.__geo_interface__\n",
        "    gj['coordinates'] = tuple_to_list(gj['coordinates'])\n",
        "    \n",
        "    return gj"
      ],
      "execution_count": null,
      "outputs": []
    },
    {
      "cell_type": "code",
      "metadata": {
        "id": "-Excn4UqJNhd"
      },
      "source": [
        "shapes = list(zip(win_bldgs['geometry'], win_bldgs['condition_num']))"
      ],
      "execution_count": null,
      "outputs": []
    },
    {
      "cell_type": "code",
      "metadata": {
        "id": "XnfBaUbUJNhe"
      },
      "source": [
        "shapes"
      ],
      "execution_count": null,
      "outputs": []
    },
    {
      "cell_type": "markdown",
      "metadata": {
        "id": "MkFdBQV6JNhe"
      },
      "source": [
        "The output shape must match the image, but will be only one band"
      ]
    },
    {
      "cell_type": "code",
      "metadata": {
        "id": "spRU8QJWJNhf"
      },
      "source": [
        "a.shape"
      ],
      "execution_count": null,
      "outputs": []
    },
    {
      "cell_type": "code",
      "metadata": {
        "id": "RUc4cFztJNhf"
      },
      "source": [
        "out_shape = (1000, 1000)"
      ],
      "execution_count": null,
      "outputs": []
    },
    {
      "cell_type": "markdown",
      "metadata": {
        "id": "Z8QqY-hVJNhf"
      },
      "source": [
        "All values that are not in a building will be given a value of 0"
      ]
    },
    {
      "cell_type": "code",
      "metadata": {
        "id": "rioFWO86JNhg"
      },
      "source": [
        "fill = 0"
      ],
      "execution_count": null,
      "outputs": []
    },
    {
      "cell_type": "markdown",
      "metadata": {
        "id": "cBXXlE4-JNhg"
      },
      "source": [
        "Make sure we include geospatial information"
      ]
    },
    {
      "cell_type": "code",
      "metadata": {
        "id": "TIKcPeEFJNhg"
      },
      "source": [
        "transform = trans"
      ],
      "execution_count": null,
      "outputs": []
    },
    {
      "cell_type": "markdown",
      "metadata": {
        "id": "nXgZQ3HjJNhg"
      },
      "source": [
        "Make sure data type matches image data type"
      ]
    },
    {
      "cell_type": "code",
      "metadata": {
        "id": "VuNBn-vAJNhg"
      },
      "source": [
        "dtype = a.dtype\n",
        "dtype"
      ],
      "execution_count": null,
      "outputs": []
    },
    {
      "cell_type": "code",
      "metadata": {
        "id": "4XpMJA5WJNhh"
      },
      "source": [
        "pixel_labs = rasterize(shapes=shapes, out_shape=out_shape, fill=fill, transform = transform, dtype = dtype)"
      ],
      "execution_count": null,
      "outputs": []
    },
    {
      "cell_type": "code",
      "metadata": {
        "id": "9Ei3bUhhJNhh"
      },
      "source": [
        "pixel_labs.shape"
      ],
      "execution_count": null,
      "outputs": []
    },
    {
      "cell_type": "code",
      "metadata": {
        "id": "zL-0gmLfJNhh"
      },
      "source": [
        "# an example of the middle of the raster layer\n",
        "pixel_labs[400:600, 400:600]"
      ],
      "execution_count": null,
      "outputs": []
    },
    {
      "cell_type": "code",
      "metadata": {
        "id": "fvwcwDByJNhh"
      },
      "source": [
        "plt.imshow(pixel_labs)"
      ],
      "execution_count": null,
      "outputs": []
    },
    {
      "cell_type": "code",
      "metadata": {
        "id": "VWHk5r83JNhh"
      },
      "source": [
        "plt.imshow(a[0:3].transpose([1, 2, 0]))"
      ],
      "execution_count": null,
      "outputs": []
    },
    {
      "cell_type": "markdown",
      "metadata": {
        "id": "U_QATH4FJNhi"
      },
      "source": [
        "  "
      ]
    },
    {
      "cell_type": "markdown",
      "metadata": {
        "id": "pZkCYbh4JNhi"
      },
      "source": [
        "An alternate approach with GDAL"
      ]
    },
    {
      "cell_type": "code",
      "metadata": {
        "id": "C4phaCSFJNhi"
      },
      "source": [
        "win_bldgs.to_file(os.path.join(project_dir, 'rasterize-bldgs.geojson'), driver='GeoJSON')"
      ],
      "execution_count": null,
      "outputs": []
    },
    {
      "cell_type": "markdown",
      "metadata": {
        "id": "8Xfk2CViJNhi"
      },
      "source": [
        "  "
      ]
    },
    {
      "cell_type": "markdown",
      "metadata": {
        "id": "DfL-wCjAJNhj"
      },
      "source": [
        "`gdal_rasterize` is a command line tool"
      ]
    },
    {
      "cell_type": "markdown",
      "metadata": {
        "id": "mGCNiQnOJNhj"
      },
      "source": [
        "```\n",
        "Usage: gdal_rasterize [-b band]* [-i] [-at]\n",
        "       {[-burn value]* | [-a attribute_name] | [-3d]} [-add]\n",
        "       [-l layername]* [-where expression] [-sql select_statement]\n",
        "       [-dialect dialect] [-of format] [-a_srs srs_def] [-to \"NAME=VALUE\"]*\n",
        "       [-co \"NAME=VALUE\"]* [-a_nodata value] [-init value]*\n",
        "       [-te xmin ymin xmax ymax] [-tr xres yres] [-tap] [-ts width height]\n",
        "       [-ot {Byte/Int16/UInt16/UInt32/Int32/Float32/Float64/\n",
        "             CInt16/CInt32/CFloat32/CFloat64}] [-optim {[AUTO]/VECTOR/RASTER}] [-q]\n",
        "       <src_datasource> <dst_filename>\n",
        "```"
      ]
    },
    {
      "cell_type": "code",
      "metadata": {
        "id": "-l616JigJNhk"
      },
      "source": [
        "!gdal_rasterize -a condition_num -a_srs EPSG:32636 -ts 1000 1000 python-satellite-imagery-workshop/rasterize-bldgs.geojson python-satellite-imagery-workshop/bldg-raster.tif"
      ],
      "execution_count": null,
      "outputs": []
    },
    {
      "cell_type": "code",
      "metadata": {
        "id": "9KZvuYlmJNhk"
      },
      "source": [
        "with rasterio.open(os.path.join(project_dir, 'bldg-raster.tif'), 'r') as src:\n",
        "    a = src.read()"
      ],
      "execution_count": null,
      "outputs": []
    },
    {
      "cell_type": "code",
      "metadata": {
        "scrolled": true,
        "id": "K9QIaiBsJNhk"
      },
      "source": [
        "plt.imshow(a[0])"
      ],
      "execution_count": null,
      "outputs": []
    },
    {
      "cell_type": "code",
      "metadata": {
        "id": "Q2asCMynk7aS"
      },
      "source": [
        ""
      ],
      "execution_count": null,
      "outputs": []
    }
  ]
}