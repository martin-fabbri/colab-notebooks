{
  "nbformat": 4,
  "nbformat_minor": 0,
  "metadata": {
    "colab": {
      "name": "c1-w3-assignment-word-vectors.ipynb",
      "provenance": [],
      "authorship_tag": "ABX9TyM1j76Fba/OgnpHXPAtM56h",
      "include_colab_link": true
    },
    "kernelspec": {
      "name": "python3",
      "display_name": "Python 3"
    }
  },
  "cells": [
    {
      "cell_type": "markdown",
      "metadata": {
        "id": "view-in-github",
        "colab_type": "text"
      },
      "source": [
        "<a href=\"https://colab.research.google.com/github/martin-fabbri/colab-notebooks/blob/master/deeplearning.ai/nlp/c1_w3_assignment_word_vectors.ipynb\" target=\"_parent\"><img src=\"https://colab.research.google.com/assets/colab-badge.svg\" alt=\"Open In Colab\"/></a>"
      ]
    },
    {
      "cell_type": "markdown",
      "metadata": {
        "id": "B40xKJPq3KhS"
      },
      "source": [
        "# Assignment 3: Hello \n",
        "\n",
        "Welcome to this week's programming assignment on exploring word vectors.\n",
        "In natural language processing, we represent each word as a vector consisting of numbers.\n",
        "The vector encodes the meaning of the word. These numbers (or weights) for each word are learned using various machine\n",
        "learning models, which we will explore in more detail later in this specialization. Rather than make you code the\n",
        "machine learning models from scratch, we will show you how to use them. In the real world, you can always load the\n",
        "trained word vectors, and you will almost never have to train them from scratch. In this assignment, you will:\n",
        "\n",
        "- Predict analogies between words.\n",
        "- Use PCA to reduce the dimensionality of the word embeddings and plot them in two dimensions.\n",
        "- Compare word embeddings by using a similarity measure (the cosine similarity).\n",
        "- Understand how these vector space models work.\n",
        "\n",
        "## 1.0 Predict the Countries from Capitals\n",
        "\n",
        "In the lectures, we have illustrated the word analogies\n",
        "by finding the capital of a country from the country. \n",
        "We have changed the problem a bit in this part of the assignment. You are asked to predict the **countries** \n",
        "that corresponds to some **capitals**.\n",
        "You are playing trivia against some second grader who just took their geography test and knows all the capitals by heart.\n",
        "Thanks to NLP, you will be able to answer the questions properly. In other words, you will write a program that can give\n",
        "you the country by its capital. That way you are pretty sure you will win the trivia game. We will start by exploring the data set.\n",
        "\n",
        "###  1.1 Importing the data\n",
        "\n",
        "As usual, you start by importing some essential Python libraries and then load the dataset.\n",
        "The dataset will be loaded as a [Pandas DataFrame](https://pandas.pydata.org/pandas-docs/stable/getting_started/dsintro.html),\n",
        "which is very a common method in data science.\n",
        "This may take a few minutes because of the large size of the data."
      ]
    },
    {
      "cell_type": "code",
      "metadata": {
        "id": "pdteW48F2-IT"
      },
      "source": [
        "import pickle\n",
        "import numpy as np\n",
        "import pandas as pd\n",
        "import matplotlib.pyplot as plt"
      ],
      "execution_count": 2,
      "outputs": []
    },
    {
      "cell_type": "code",
      "metadata": {
        "id": "KGjlXq6V4WLr",
        "outputId": "1f130d9c-87f5-47a6-c179-3883a6f36e52",
        "colab": {
          "base_uri": "https://localhost:8080/",
          "height": 137
        }
      },
      "source": [
        "data_capitals_url = 'https://raw.githubusercontent.com/martin-fabbri/colab-notebooks/master/data/nlp/capitals.txt'\n",
        "data = pd.read_csv(data_capitals_url, delimiter=' ')\n",
        "data.columns = ['city1', 'country1', 'city2', 'country2']\n",
        "\n",
        "data.head(3)"
      ],
      "execution_count": 4,
      "outputs": [
        {
          "output_type": "execute_result",
          "data": {
            "text/html": [
              "<div>\n",
              "<style scoped>\n",
              "    .dataframe tbody tr th:only-of-type {\n",
              "        vertical-align: middle;\n",
              "    }\n",
              "\n",
              "    .dataframe tbody tr th {\n",
              "        vertical-align: top;\n",
              "    }\n",
              "\n",
              "    .dataframe thead th {\n",
              "        text-align: right;\n",
              "    }\n",
              "</style>\n",
              "<table border=\"1\" class=\"dataframe\">\n",
              "  <thead>\n",
              "    <tr style=\"text-align: right;\">\n",
              "      <th></th>\n",
              "      <th>city1</th>\n",
              "      <th>country1</th>\n",
              "      <th>city2</th>\n",
              "      <th>country2</th>\n",
              "    </tr>\n",
              "  </thead>\n",
              "  <tbody>\n",
              "    <tr>\n",
              "      <th>0</th>\n",
              "      <td>Athens</td>\n",
              "      <td>Greece</td>\n",
              "      <td>Bangkok</td>\n",
              "      <td>Thailand</td>\n",
              "    </tr>\n",
              "    <tr>\n",
              "      <th>1</th>\n",
              "      <td>Athens</td>\n",
              "      <td>Greece</td>\n",
              "      <td>Beijing</td>\n",
              "      <td>China</td>\n",
              "    </tr>\n",
              "    <tr>\n",
              "      <th>2</th>\n",
              "      <td>Athens</td>\n",
              "      <td>Greece</td>\n",
              "      <td>Berlin</td>\n",
              "      <td>Germany</td>\n",
              "    </tr>\n",
              "  </tbody>\n",
              "</table>\n",
              "</div>"
            ],
            "text/plain": [
              "    city1 country1    city2  country2\n",
              "0  Athens   Greece  Bangkok  Thailand\n",
              "1  Athens   Greece  Beijing     China\n",
              "2  Athens   Greece   Berlin   Germany"
            ]
          },
          "metadata": {
            "tags": []
          },
          "execution_count": 4
        }
      ]
    },
    {
      "cell_type": "code",
      "metadata": {
        "id": "rzQ-WJRI4WRf"
      },
      "source": [
        ""
      ],
      "execution_count": null,
      "outputs": []
    },
    {
      "cell_type": "code",
      "metadata": {
        "id": "OnyZcd-d4WYa"
      },
      "source": [
        ""
      ],
      "execution_count": null,
      "outputs": []
    },
    {
      "cell_type": "code",
      "metadata": {
        "id": "-ZI7_L4g4Wed"
      },
      "source": [
        ""
      ],
      "execution_count": null,
      "outputs": []
    },
    {
      "cell_type": "code",
      "metadata": {
        "id": "MUm5uvBj4Whe"
      },
      "source": [
        ""
      ],
      "execution_count": null,
      "outputs": []
    },
    {
      "cell_type": "code",
      "metadata": {
        "id": "WzJbbam-4Wbj"
      },
      "source": [
        ""
      ],
      "execution_count": null,
      "outputs": []
    },
    {
      "cell_type": "code",
      "metadata": {
        "id": "F4KV1PYW4WVS"
      },
      "source": [
        ""
      ],
      "execution_count": null,
      "outputs": []
    },
    {
      "cell_type": "code",
      "metadata": {
        "id": "MtoUZXC64WOm"
      },
      "source": [
        ""
      ],
      "execution_count": null,
      "outputs": []
    },
    {
      "cell_type": "code",
      "metadata": {
        "id": "lX1pso8_4WEf"
      },
      "source": [
        ""
      ],
      "execution_count": null,
      "outputs": []
    }
  ]
}