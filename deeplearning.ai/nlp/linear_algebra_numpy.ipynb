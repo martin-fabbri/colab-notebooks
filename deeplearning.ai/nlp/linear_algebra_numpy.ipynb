{
  "nbformat": 4,
  "nbformat_minor": 0,
  "metadata": {
    "colab": {
      "name": "linear-algebra-numpy.ipynb",
      "provenance": [],
      "authorship_tag": "ABX9TyMQnDDTIqKeLlXitOa+53yM",
      "include_colab_link": true
    },
    "kernelspec": {
      "name": "python3",
      "display_name": "Python 3"
    }
  },
  "cells": [
    {
      "cell_type": "markdown",
      "metadata": {
        "id": "view-in-github",
        "colab_type": "text"
      },
      "source": [
        "<a href=\"https://colab.research.google.com/github/martin-fabbri/colab-notebooks/blob/master/deeplearning.ai/nlp/linear_algebra_numpy.ipynb\" target=\"_parent\"><img src=\"https://colab.research.google.com/assets/colab-badge.svg\" alt=\"Open In Colab\"/></a>"
      ]
    },
    {
      "cell_type": "markdown",
      "metadata": {
        "id": "hrVS0y9JGvpO"
      },
      "source": [
        "# Linear algebra with NumPy"
      ]
    },
    {
      "cell_type": "code",
      "metadata": {
        "id": "dRbSJPvKGn8n"
      },
      "source": [
        "import numpy as np"
      ],
      "execution_count": 2,
      "outputs": []
    },
    {
      "cell_type": "markdown",
      "metadata": {
        "id": "EHb-wudjG5YL"
      },
      "source": [
        "Defininng lists and numpy arrays"
      ]
    },
    {
      "cell_type": "code",
      "metadata": {
        "id": "rEo5sLgyG2kZ"
      },
      "source": [
        "alist = [1, 2, 3, 4, 5]\n",
        "narray = np.array(alist)"
      ],
      "execution_count": 3,
      "outputs": []
    },
    {
      "cell_type": "code",
      "metadata": {
        "id": "Ynems90aHEAF",
        "outputId": "361dda3a-e675-4455-900c-5f1de3d10a99",
        "colab": {
          "base_uri": "https://localhost:8080/"
        }
      },
      "source": [
        "print(alist)\n",
        "print(narray)\n",
        "\n",
        "print(type(alist))\n",
        "print(type(narray))"
      ],
      "execution_count": 4,
      "outputs": [
        {
          "output_type": "stream",
          "text": [
            "[1, 2, 3, 4, 5]\n",
            "[1 2 3 4 5]\n",
            "<class 'list'>\n",
            "<class 'numpy.ndarray'>\n"
          ],
          "name": "stdout"
        }
      ]
    },
    {
      "cell_type": "markdown",
      "metadata": {
        "id": "ZIguGIeJHqWO"
      },
      "source": [
        "Algebraic operations on NP arrays vs. Python list"
      ]
    },
    {
      "cell_type": "code",
      "metadata": {
        "id": "h6RaGoOEHG61",
        "outputId": "76fe17f2-6360-4b22-9320-c3fa6a687fd6",
        "colab": {
          "base_uri": "https://localhost:8080/"
        }
      },
      "source": [
        "print(narray + narray)  # element-wise addition (np)\n",
        "print(alist + alist)    # list contatenation (list)"
      ],
      "execution_count": 5,
      "outputs": [
        {
          "output_type": "stream",
          "text": [
            "[ 2  4  6  8 10]\n",
            "[1, 2, 3, 4, 5, 1, 2, 3, 4, 5]\n"
          ],
          "name": "stdout"
        }
      ]
    },
    {
      "cell_type": "code",
      "metadata": {
        "id": "HwFLf032IBNH",
        "outputId": "0fd22f30-7a83-41bc-a653-3babbb60e83e",
        "colab": {
          "base_uri": "https://localhost:8080/"
        }
      },
      "source": [
        "print(narray * 3)       # scalar multiplication (np)\n",
        "print(alist * 3)        # concatenate same list 3 times"
      ],
      "execution_count": 7,
      "outputs": [
        {
          "output_type": "stream",
          "text": [
            "[ 3  6  9 12 15]\n",
            "[1, 2, 3, 4, 5, 1, 2, 3, 4, 5, 1, 2, 3, 4, 5]\n"
          ],
          "name": "stdout"
        }
      ]
    },
    {
      "cell_type": "markdown",
      "metadata": {
        "id": "MHslUAmGUcfg"
      },
      "source": [
        "## Matrix or Array of Arrays\n",
        "\n",
        "In linear algebra, a matrix is a structure composed of _n_ rows by _m_ columns. That means each row must have the same number of columns. With NumPy, we have two ways to create a matrix.\n",
        "\n",
        "- Creating an array of arrays using np.array (recommended).\n",
        "- Creating a matrix using np.matrix (still available but might be removed soon).\n",
        "\n",
        "NumPy arrays or lists can be used to initialize a matrix, but the resulting matrix will be composed of NumPy arrays only."
      ]
    },
    {
      "cell_type": "code",
      "metadata": {
        "id": "Bb_4iMBdI9kT",
        "outputId": "22b33f0d-e33d-4368-a711-95f6a1318cf5",
        "colab": {
          "base_uri": "https://localhost:8080/"
        }
      },
      "source": [
        "npmatrix1 = np.array([narray, narray, narray])\n",
        "npmatrix2 = np.array([alist, alist, alist])\n",
        "npmatrix3 = np.array([narray, [1, 1, 1, 1], narray])\n",
        "\n",
        "print(npmatrix1)\n",
        "print(npmatrix2)\n",
        "print(npmatrix3)"
      ],
      "execution_count": 8,
      "outputs": [
        {
          "output_type": "stream",
          "text": [
            "[[1 2 3 4 5]\n",
            " [1 2 3 4 5]\n",
            " [1 2 3 4 5]]\n",
            "[[1 2 3 4 5]\n",
            " [1 2 3 4 5]\n",
            " [1 2 3 4 5]]\n",
            "[array([1, 2, 3, 4, 5]) list([1, 1, 1, 1]) array([1, 2, 3, 4, 5])]\n"
          ],
          "name": "stdout"
        }
      ]
    },
    {
      "cell_type": "markdown",
      "metadata": {
        "id": "GiVjV9KpWeFD"
      },
      "source": [
        "However, when defining a matrix, be sure that all the rows contain the same number of elements. Otherwise, the linear algebra operations could lead to unexpected results.\n",
        "\n",
        "Analyze the following two examples:"
      ]
    },
    {
      "cell_type": "code",
      "metadata": {
        "id": "YpMJYCjFI9qw",
        "outputId": "91db506b-e445-405c-e3c6-dfb0b9a052d9",
        "colab": {
          "base_uri": "https://localhost:8080/"
        }
      },
      "source": [
        "okmatrix = np.array([[1, 2], [3, 4]])\n",
        "print(f'okmatrix shape: {okmatrix.shape}')\n",
        "print(f'ok * 2 (matrix by scalar):\\n {okmatrix * 2}')"
      ],
      "execution_count": 15,
      "outputs": [
        {
          "output_type": "stream",
          "text": [
            "okmatrix shape: (2, 2)\n",
            "ok * 2 (matrix by scalar):\n",
            " [[2 4]\n",
            " [6 8]]\n"
          ],
          "name": "stdout"
        }
      ]
    },
    {
      "cell_type": "code",
      "metadata": {
        "id": "gGrqUyLKI99p",
        "outputId": "1af64c73-e1d6-4ca1-f9a2-edeb60a1fe13",
        "colab": {
          "base_uri": "https://localhost:8080/"
        }
      },
      "source": [
        "badmatrix = np.array([[1, 2], [3, 4], [5, 6, 7]]) # Define a matrix. Note the third row contains 3 elements\n",
        "print(badmatrix) # Print the malformed matrix\n",
        "print(badmatrix * 2) # It is supposed to scale the whole matrix"
      ],
      "execution_count": 16,
      "outputs": [
        {
          "output_type": "stream",
          "text": [
            "[list([1, 2]) list([3, 4]) list([5, 6, 7])]\n",
            "[list([1, 2, 1, 2]) list([3, 4, 3, 4]) list([5, 6, 7, 5, 6, 7])]\n"
          ],
          "name": "stdout"
        }
      ]
    },
    {
      "cell_type": "markdown",
      "metadata": {
        "id": "j5TIGWYoX4Qh"
      },
      "source": [
        "## Scaling and translating matrices\n",
        "\n",
        "Now that you know how to build correct NumPy arrays and matrices, let us see how easy it is to operate with them in Python using the regular algebraic operations like + and -.\n",
        "\n",
        "Operations can be performed between arrays of between arrays and scalars."
      ]
    },
    {
      "cell_type": "code",
      "metadata": {
        "id": "utWP7fKxX479",
        "outputId": "77d414d4-a8dd-44a9-c692-b78e004c8dab",
        "colab": {
          "base_uri": "https://localhost:8080/"
        }
      },
      "source": [
        "# scale by 2 and translate 1 unit the matrix\n",
        "result = okmatrix * 2 + 1\n",
        "result"
      ],
      "execution_count": 17,
      "outputs": [
        {
          "output_type": "execute_result",
          "data": {
            "text/plain": [
              "array([[3, 5],\n",
              "       [7, 9]])"
            ]
          },
          "metadata": {
            "tags": []
          },
          "execution_count": 17
        }
      ]
    },
    {
      "cell_type": "code",
      "metadata": {
        "id": "tFmQhOTAX5B6",
        "outputId": "c4c3a6f1-49de-4daa-f484-5d42cace4d0b",
        "colab": {
          "base_uri": "https://localhost:8080/"
        }
      },
      "source": [
        "result1 = okmatrix + okmatrix\n",
        "result1"
      ],
      "execution_count": 18,
      "outputs": [
        {
          "output_type": "execute_result",
          "data": {
            "text/plain": [
              "array([[2, 4],\n",
              "       [6, 8]])"
            ]
          },
          "metadata": {
            "tags": []
          },
          "execution_count": 18
        }
      ]
    },
    {
      "cell_type": "code",
      "metadata": {
        "id": "ohg3HEV1X5H3",
        "outputId": "39c7327b-ab5f-4cdc-f1ac-1a2236bfc6af",
        "colab": {
          "base_uri": "https://localhost:8080/"
        }
      },
      "source": [
        "result2 = okmatrix - okmatrix\n",
        "result2"
      ],
      "execution_count": 19,
      "outputs": [
        {
          "output_type": "execute_result",
          "data": {
            "text/plain": [
              "array([[0, 0],\n",
              "       [0, 0]])"
            ]
          },
          "metadata": {
            "tags": []
          },
          "execution_count": 19
        }
      ]
    },
    {
      "cell_type": "markdown",
      "metadata": {
        "id": "50VqImnBZWTD"
      },
      "source": [
        "The product operator `*` when used on array or matrices indicates `element-wise multiplications`. Do not confuse it with the dot product."
      ]
    },
    {
      "cell_type": "code",
      "metadata": {
        "id": "dPJvOQBfX5QC",
        "outputId": "4bfa5f81-43c8-42ca-fefb-670512657368",
        "colab": {
          "base_uri": "https://localhost:8080/"
        }
      },
      "source": [
        "result = okmatrix * okmatrix\n",
        "result"
      ],
      "execution_count": 20,
      "outputs": [
        {
          "output_type": "execute_result",
          "data": {
            "text/plain": [
              "array([[ 1,  4],\n",
              "       [ 9, 16]])"
            ]
          },
          "metadata": {
            "tags": []
          },
          "execution_count": 20
        }
      ]
    },
    {
      "cell_type": "markdown",
      "metadata": {
        "id": "S-v6dpl3a5wH"
      },
      "source": [
        "## Transpose a matrix\n",
        "\n",
        "In linear algebra, the transpose of a matrix is an operator that flips a matrix over its diagonal, i.e., the transpose operator switches the row and column indices of the matrix producing another matrix. If the original matrix dimesion if n by m, the resulting transposed matrix will be m by n.\n",
        "\n",
        "**T** denotes the transpose operations with NumPy matrices. "
      ]
    },
    {
      "cell_type": "code",
      "metadata": {
        "id": "kVb_53NbX5Ve",
        "outputId": "6b7213cb-2153-46a9-f1e2-0e819fa23408",
        "colab": {
          "base_uri": "https://localhost:8080/"
        }
      },
      "source": [
        "matrix3x2 = np.array([[1, 2], [3, 4], [4, 6]])\n",
        "print(f'Original matrix:\\n {matrix3x2}')\n",
        "print(f'Tranposed matrix:\\n {matrix3x2.T}')\n"
      ],
      "execution_count": 24,
      "outputs": [
        {
          "output_type": "stream",
          "text": [
            "Original matrix:\n",
            " [[1 2]\n",
            " [3 4]\n",
            " [4 6]]\n",
            "Tranposed matrix:\n",
            " [[1 3 4]\n",
            " [2 4 6]]\n"
          ],
          "name": "stdout"
        }
      ]
    },
    {
      "cell_type": "markdown",
      "metadata": {
        "id": "zO06z5z9q8eR"
      },
      "source": [
        "However, not that the transpose operation does not affect 1D arrays."
      ]
    },
    {
      "cell_type": "code",
      "metadata": {
        "id": "K16CqocHX5TD",
        "outputId": "ee749255-1c3c-4272-dde2-ef5d0b815110",
        "colab": {
          "base_uri": "https://localhost:8080/"
        }
      },
      "source": [
        "nparray = np.array([1, 2, 3, 4])\n",
        "print(f'Original array: \\n {nparray}')\n",
        "print(f'Transposed array: \\n {nparray.T}')"
      ],
      "execution_count": 26,
      "outputs": [
        {
          "output_type": "stream",
          "text": [
            "Original array: \n",
            " [1 2 3 4]\n",
            "Transposed array: \n",
            " [1 2 3 4]\n"
          ],
          "name": "stdout"
        }
      ]
    },
    {
      "cell_type": "markdown",
      "metadata": {
        "id": "wMDqHXyIsKR5"
      },
      "source": [
        "Perhaps in this case you wanted to do:"
      ]
    },
    {
      "cell_type": "code",
      "metadata": {
        "id": "r7pHQiE2X5Mt",
        "outputId": "e07591d4-7786-4aa9-8267-56fe1f306c92",
        "colab": {
          "base_uri": "https://localhost:8080/"
        }
      },
      "source": [
        "nparray = np.array([[1, 2, 3, 4]])\n",
        "print(f'Original array: \\n {nparray}')\n",
        "print(f'Transposed array: \\n {nparray.T}')"
      ],
      "execution_count": 27,
      "outputs": [
        {
          "output_type": "stream",
          "text": [
            "Original array: \n",
            " [[1 2 3 4]]\n",
            "Transposed array: \n",
            " [[1]\n",
            " [2]\n",
            " [3]\n",
            " [4]]\n"
          ],
          "name": "stdout"
        }
      ]
    },
    {
      "cell_type": "markdown",
      "metadata": {
        "id": "RTDL_Zk3sfBG"
      },
      "source": [
        "## Get the norm of a nparray or matrix\n",
        "\n",
        "In linear algebra, the norm of an n-dimensional vector $\\vec a$   is defined as:\n",
        "\n",
        "$$ norm(\\vec a) = ||\\vec a|| = \\sqrt {\\sum_{i=1}^{n} a_i ^ 2}$$\n",
        "\n",
        "Calculating the norm of vector or even of a matrix is a general operation when dealing with data. Numpy has a set of functions for linear algebra in the subpackage **linalg**, including the **norm** function. Let us see how to get the norm a given array or matrix:"
      ]
    },
    {
      "cell_type": "code",
      "metadata": {
        "id": "qoT_yfRpX5E6"
      },
      "source": [
        ""
      ],
      "execution_count": null,
      "outputs": []
    },
    {
      "cell_type": "code",
      "metadata": {
        "id": "735VqmqjX4-5"
      },
      "source": [
        ""
      ],
      "execution_count": null,
      "outputs": []
    },
    {
      "cell_type": "code",
      "metadata": {
        "id": "QxGTu0j8I9nv"
      },
      "source": [
        ""
      ],
      "execution_count": null,
      "outputs": []
    },
    {
      "cell_type": "code",
      "metadata": {
        "id": "DIUcCFuSI9hE"
      },
      "source": [
        ""
      ],
      "execution_count": null,
      "outputs": []
    },
    {
      "cell_type": "code",
      "metadata": {
        "id": "_d2VtP6QIk57"
      },
      "source": [
        ""
      ],
      "execution_count": null,
      "outputs": []
    }
  ]
}