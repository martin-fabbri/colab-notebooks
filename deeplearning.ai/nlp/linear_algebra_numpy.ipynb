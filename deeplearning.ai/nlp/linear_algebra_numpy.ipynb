{
  "nbformat": 4,
  "nbformat_minor": 0,
  "metadata": {
    "colab": {
      "name": "linear-algebra-numpy.ipynb",
      "provenance": [],
      "authorship_tag": "ABX9TyPvQVO4IHW2Tp2muZf+a/55",
      "include_colab_link": true
    },
    "kernelspec": {
      "name": "python3",
      "display_name": "Python 3"
    }
  },
  "cells": [
    {
      "cell_type": "markdown",
      "metadata": {
        "id": "view-in-github",
        "colab_type": "text"
      },
      "source": [
        "<a href=\"https://colab.research.google.com/github/martin-fabbri/colab-notebooks/blob/master/deeplearning.ai/nlp/linear_algebra_numpy.ipynb\" target=\"_parent\"><img src=\"https://colab.research.google.com/assets/colab-badge.svg\" alt=\"Open In Colab\"/></a>"
      ]
    },
    {
      "cell_type": "markdown",
      "metadata": {
        "id": "hrVS0y9JGvpO"
      },
      "source": [
        "# Linear algebra with NumPy"
      ]
    },
    {
      "cell_type": "code",
      "metadata": {
        "id": "dRbSJPvKGn8n"
      },
      "source": [
        "import numpy as np"
      ],
      "execution_count": 2,
      "outputs": []
    },
    {
      "cell_type": "markdown",
      "metadata": {
        "id": "EHb-wudjG5YL"
      },
      "source": [
        "Defininng lists and numpy arrays"
      ]
    },
    {
      "cell_type": "code",
      "metadata": {
        "id": "rEo5sLgyG2kZ"
      },
      "source": [
        "alist = [1, 2, 3, 4, 5]\n",
        "narray = np.array(alist)"
      ],
      "execution_count": 3,
      "outputs": []
    },
    {
      "cell_type": "code",
      "metadata": {
        "id": "Ynems90aHEAF",
        "outputId": "361dda3a-e675-4455-900c-5f1de3d10a99",
        "colab": {
          "base_uri": "https://localhost:8080/"
        }
      },
      "source": [
        "print(alist)\n",
        "print(narray)\n",
        "\n",
        "print(type(alist))\n",
        "print(type(narray))"
      ],
      "execution_count": 4,
      "outputs": [
        {
          "output_type": "stream",
          "text": [
            "[1, 2, 3, 4, 5]\n",
            "[1 2 3 4 5]\n",
            "<class 'list'>\n",
            "<class 'numpy.ndarray'>\n"
          ],
          "name": "stdout"
        }
      ]
    },
    {
      "cell_type": "markdown",
      "metadata": {
        "id": "ZIguGIeJHqWO"
      },
      "source": [
        "Algebraic operations on NP arrays vs. Python list"
      ]
    },
    {
      "cell_type": "code",
      "metadata": {
        "id": "h6RaGoOEHG61",
        "outputId": "76fe17f2-6360-4b22-9320-c3fa6a687fd6",
        "colab": {
          "base_uri": "https://localhost:8080/"
        }
      },
      "source": [
        "print(narray + narray)  # element-wise addition (np)\n",
        "print(alist + alist)    # list contatenation (list)"
      ],
      "execution_count": 5,
      "outputs": [
        {
          "output_type": "stream",
          "text": [
            "[ 2  4  6  8 10]\n",
            "[1, 2, 3, 4, 5, 1, 2, 3, 4, 5]\n"
          ],
          "name": "stdout"
        }
      ]
    },
    {
      "cell_type": "code",
      "metadata": {
        "id": "HwFLf032IBNH",
        "outputId": "0fd22f30-7a83-41bc-a653-3babbb60e83e",
        "colab": {
          "base_uri": "https://localhost:8080/"
        }
      },
      "source": [
        "print(narray * 3)       # scalar multiplication (np)\n",
        "print(alist * 3)        # concatenate same list 3 times"
      ],
      "execution_count": 7,
      "outputs": [
        {
          "output_type": "stream",
          "text": [
            "[ 3  6  9 12 15]\n",
            "[1, 2, 3, 4, 5, 1, 2, 3, 4, 5, 1, 2, 3, 4, 5]\n"
          ],
          "name": "stdout"
        }
      ]
    },
    {
      "cell_type": "markdown",
      "metadata": {
        "id": "MHslUAmGUcfg"
      },
      "source": [
        "## Matrix or Array of Arrays\n",
        "\n",
        "In linear algebra, a matrix is a structure composed of _n_ rows by _m_ columns. That means each row must have the same number of columns. With NumPy, we have two ways to create a matrix.\n",
        "\n",
        "- Creating an array of arrays using np.array (recommended).\n",
        "- Creating a matrix using np.matrix (still available but might be removed soon).\n",
        "\n",
        "NumPy arrays or lists can be used to initialize a matrix, but the resulting matrix will be composed of NumPy arrays only."
      ]
    },
    {
      "cell_type": "code",
      "metadata": {
        "id": "Bb_4iMBdI9kT",
        "outputId": "22b33f0d-e33d-4368-a711-95f6a1318cf5",
        "colab": {
          "base_uri": "https://localhost:8080/"
        }
      },
      "source": [
        "npmatrix1 = np.array([narray, narray, narray])\n",
        "npmatrix2 = np.array([alist, alist, alist])\n",
        "npmatrix3 = np.array([narray, [1, 1, 1, 1], narray])\n",
        "\n",
        "print(npmatrix1)\n",
        "print(npmatrix2)\n",
        "print(npmatrix3)"
      ],
      "execution_count": 8,
      "outputs": [
        {
          "output_type": "stream",
          "text": [
            "[[1 2 3 4 5]\n",
            " [1 2 3 4 5]\n",
            " [1 2 3 4 5]]\n",
            "[[1 2 3 4 5]\n",
            " [1 2 3 4 5]\n",
            " [1 2 3 4 5]]\n",
            "[array([1, 2, 3, 4, 5]) list([1, 1, 1, 1]) array([1, 2, 3, 4, 5])]\n"
          ],
          "name": "stdout"
        }
      ]
    },
    {
      "cell_type": "markdown",
      "metadata": {
        "id": "GiVjV9KpWeFD"
      },
      "source": [
        "However, when defining a matrix, be sure that all the rows contain the same number of elements. Otherwise, the linear algebra operations could lead to unexpected results.\n",
        "\n",
        "Analyze the following two examples:"
      ]
    },
    {
      "cell_type": "code",
      "metadata": {
        "id": "YpMJYCjFI9qw",
        "outputId": "130122cb-1fc3-48dc-e11a-4a63afae69cf",
        "colab": {
          "base_uri": "https://localhost:8080/"
        }
      },
      "source": [
        "okmatrix = np.array([[1, 2], [3, 4]])\n",
        "okmatrix.shape"
      ],
      "execution_count": 10,
      "outputs": [
        {
          "output_type": "execute_result",
          "data": {
            "text/plain": [
              "(2, 2)"
            ]
          },
          "metadata": {
            "tags": []
          },
          "execution_count": 10
        }
      ]
    },
    {
      "cell_type": "code",
      "metadata": {
        "id": "gGrqUyLKI99p"
      },
      "source": [
        ""
      ],
      "execution_count": null,
      "outputs": []
    },
    {
      "cell_type": "code",
      "metadata": {
        "id": "QxGTu0j8I9nv"
      },
      "source": [
        ""
      ],
      "execution_count": null,
      "outputs": []
    },
    {
      "cell_type": "code",
      "metadata": {
        "id": "DIUcCFuSI9hE"
      },
      "source": [
        ""
      ],
      "execution_count": null,
      "outputs": []
    },
    {
      "cell_type": "code",
      "metadata": {
        "id": "_d2VtP6QIk57"
      },
      "source": [
        ""
      ],
      "execution_count": null,
      "outputs": []
    }
  ]
}