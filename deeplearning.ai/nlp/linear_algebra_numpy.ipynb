{
  "nbformat": 4,
  "nbformat_minor": 0,
  "metadata": {
    "colab": {
      "name": "linear-algebra-numpy.ipynb",
      "provenance": [],
      "authorship_tag": "ABX9TyMBaX41F5Ad0RpeMFPiKW5I",
      "include_colab_link": true
    },
    "kernelspec": {
      "name": "python3",
      "display_name": "Python 3"
    }
  },
  "cells": [
    {
      "cell_type": "markdown",
      "metadata": {
        "id": "view-in-github",
        "colab_type": "text"
      },
      "source": [
        "<a href=\"https://colab.research.google.com/github/martin-fabbri/colab-notebooks/blob/master/deeplearning.ai/nlp/linear_algebra_numpy.ipynb\" target=\"_parent\"><img src=\"https://colab.research.google.com/assets/colab-badge.svg\" alt=\"Open In Colab\"/></a>"
      ]
    },
    {
      "cell_type": "markdown",
      "metadata": {
        "id": "hrVS0y9JGvpO"
      },
      "source": [
        "# Linear algebra with NumPy"
      ]
    },
    {
      "cell_type": "code",
      "metadata": {
        "id": "dRbSJPvKGn8n"
      },
      "source": [
        "import numpy as np"
      ],
      "execution_count": 2,
      "outputs": []
    },
    {
      "cell_type": "markdown",
      "metadata": {
        "id": "EHb-wudjG5YL"
      },
      "source": [
        "Defininng lists and numpy arrays"
      ]
    },
    {
      "cell_type": "code",
      "metadata": {
        "id": "rEo5sLgyG2kZ"
      },
      "source": [
        "alist = [1, 2, 3, 4, 5]\n",
        "narray = np.array(alist)"
      ],
      "execution_count": 3,
      "outputs": []
    },
    {
      "cell_type": "code",
      "metadata": {
        "id": "Ynems90aHEAF",
        "outputId": "361dda3a-e675-4455-900c-5f1de3d10a99",
        "colab": {
          "base_uri": "https://localhost:8080/"
        }
      },
      "source": [
        "print(alist)\n",
        "print(narray)\n",
        "\n",
        "print(type(alist))\n",
        "print(type(narray))"
      ],
      "execution_count": 4,
      "outputs": [
        {
          "output_type": "stream",
          "text": [
            "[1, 2, 3, 4, 5]\n",
            "[1 2 3 4 5]\n",
            "<class 'list'>\n",
            "<class 'numpy.ndarray'>\n"
          ],
          "name": "stdout"
        }
      ]
    },
    {
      "cell_type": "markdown",
      "metadata": {
        "id": "ZIguGIeJHqWO"
      },
      "source": [
        "Algebraic operations on NP arrays vs. Python list"
      ]
    },
    {
      "cell_type": "code",
      "metadata": {
        "id": "h6RaGoOEHG61",
        "outputId": "76fe17f2-6360-4b22-9320-c3fa6a687fd6",
        "colab": {
          "base_uri": "https://localhost:8080/"
        }
      },
      "source": [
        "print(narray + narray)  # element-wise addition (np)\n",
        "print(alist + alist)    # list contatenation (list)"
      ],
      "execution_count": 5,
      "outputs": [
        {
          "output_type": "stream",
          "text": [
            "[ 2  4  6  8 10]\n",
            "[1, 2, 3, 4, 5, 1, 2, 3, 4, 5]\n"
          ],
          "name": "stdout"
        }
      ]
    },
    {
      "cell_type": "code",
      "metadata": {
        "id": "HwFLf032IBNH"
      },
      "source": [
        ""
      ],
      "execution_count": null,
      "outputs": []
    }
  ]
}