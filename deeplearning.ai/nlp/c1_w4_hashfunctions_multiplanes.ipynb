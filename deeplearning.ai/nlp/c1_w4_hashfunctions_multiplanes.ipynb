{
  "nbformat": 4,
  "nbformat_minor": 0,
  "metadata": {
    "colab": {
      "name": "c1-w4-hashfunctions-multiplanes.ipynb",
      "provenance": [],
      "authorship_tag": "ABX9TyNhvZcNaJ+zx9F/Nh8nW2wn",
      "include_colab_link": true
    },
    "kernelspec": {
      "name": "python3",
      "display_name": "Python 3"
    }
  },
  "cells": [
    {
      "cell_type": "markdown",
      "metadata": {
        "id": "view-in-github",
        "colab_type": "text"
      },
      "source": [
        "<a href=\"https://colab.research.google.com/github/martin-fabbri/colab-notebooks/blob/master/deeplearning.ai/nlp/c1_w4_hashfunctions_multiplanes.ipynb\" target=\"_parent\"><img src=\"https://colab.research.google.com/assets/colab-badge.svg\" alt=\"Open In Colab\"/></a>"
      ]
    },
    {
      "cell_type": "markdown",
      "metadata": {
        "id": "bom2bCjkUjkB"
      },
      "source": [
        "# Hash functions and multiplanes\n",
        "\n",
        "A key point for the lookup using hash functions is the calculation of the hash key or bucket id that we assign for a given entry. In this notebook, we will cover:\n",
        "\n",
        "- Basic hash tables\n",
        "- Multiplanes\n",
        "- Random planes"
      ]
    },
    {
      "cell_type": "markdown",
      "metadata": {
        "id": "BFl2l_J-WRbP"
      },
      "source": [
        "# Basic Hash Tables\n",
        "\n",
        "Hash tables are data structures that allo indexing data to make lookup tasks more efficient. In this part, you will see the implementation of the simplest hash function."
      ]
    },
    {
      "cell_type": "code",
      "metadata": {
        "id": "jRdliAbRUiqG"
      },
      "source": [
        "import numpy as np\n",
        "import pprint\n",
        "import matplotlib.pyplot as plt\n",
        "\n",
        "pp = pprint.PrettyPrinter(indent=4)"
      ],
      "execution_count": 1,
      "outputs": []
    },
    {
      "cell_type": "code",
      "metadata": {
        "id": "2EllHE61WxzP"
      },
      "source": [
        "# Procedure to plot and arrows that represents vectors with pyplot\n",
        "def plot_vectors(vectors, colors=['k', 'b', 'r', 'm', 'c'], axes=None, fname='image.svg', ax=None):\n",
        "    scale = 1\n",
        "    scale_units = 'x'\n",
        "    x_dir = []\n",
        "    y_dir = []\n",
        "    \n",
        "    for i, vec in enumerate(vectors):\n",
        "        x_dir.append(vec[0][0])\n",
        "        y_dir.append(vec[0][1])\n",
        "    \n",
        "    if ax == None:\n",
        "        fig, ax2 = plt.subplots()\n",
        "    else:\n",
        "        ax2 = ax\n",
        "      \n",
        "    if axes == None:\n",
        "        x_axis = 2 + np.max(np.abs(x_dir))\n",
        "        y_axis = 2 + np.max(np.abs(y_dir))\n",
        "    else:\n",
        "        x_axis = axes[0]\n",
        "        y_axis = axes[1]\n",
        "        \n",
        "    ax2.axis([-x_axis, x_axis, -y_axis, y_axis])\n",
        "        \n",
        "    for i, vec in enumerate(vectors):\n",
        "        ax2.arrow(0, 0, vec[0][0], vec[0][1], head_width=0.05 * x_axis, head_length=0.05 * y_axis, fc=colors[i], ec=colors[i])\n",
        "    \n",
        "    if ax == None:\n",
        "        plt.show()\n",
        "        fig.savefig(fname)"
      ],
      "execution_count": 2,
      "outputs": []
    },
    {
      "cell_type": "markdown",
      "metadata": {
        "id": "lSiYbQG_W8F9"
      },
      "source": [
        "In the next cell, we will define a straightforward hash function for integer numbers. The function will receive a list of integer numbers and the desired amount of buckets. The function will produce a hash table stored as a dictionary, where keys contain the hash keys, and the values will provicde the hashed elements of the input list."
      ]
    },
    {
      "cell_type": "code",
      "metadata": {
        "id": "11xvc91fWi2L"
      },
      "source": [
        "def basic_hash_table(value_l, n_buckets):\n",
        "  def hash_function(value, n_buckets):\n",
        "    return int(value) % n_buckets\n",
        "\n",
        "  hash_table = {i:[] for i in range(n_buckets)}\n",
        "  for value in value_l:\n",
        "    hash_value = hash_function(value, n_buckets)\n",
        "    hash_table[hash_value].append(value)\n",
        "  return hash_table"
      ],
      "execution_count": 3,
      "outputs": []
    },
    {
      "cell_type": "code",
      "metadata": {
        "id": "fByklZHTWizp",
        "outputId": "d76756b4-9fe1-4e0d-bb41-0c1ad02c4dc6",
        "colab": {
          "base_uri": "https://localhost:8080/"
        }
      },
      "source": [
        "value_l = [100, 10, 14, 17, 97]\n",
        "hash_table_example = basic_hash_table(value_l, n_buckets=10)\n",
        "pp.pprint(hash_table_example)"
      ],
      "execution_count": 4,
      "outputs": [
        {
          "output_type": "stream",
          "text": [
            "{   0: [100, 10],\n",
            "    1: [],\n",
            "    2: [],\n",
            "    3: [],\n",
            "    4: [14],\n",
            "    5: [],\n",
            "    6: [],\n",
            "    7: [17, 97],\n",
            "    8: [],\n",
            "    9: []}\n"
          ],
          "name": "stdout"
        }
      ]
    },
    {
      "cell_type": "markdown",
      "metadata": {
        "id": "xAjS5nVkZDZa"
      },
      "source": [
        "In this case, the bucket key must be the rightmost digit of each number."
      ]
    },
    {
      "cell_type": "markdown",
      "metadata": {
        "id": "cdAAUeVvZK3O"
      },
      "source": [
        "## Planes\n",
        "\n",
        "Multiplanes hash functions are other type of hash functions. Multiplanes hash functions are based on the idea of numbering every single region that is formed by the intersection of n planes. In the following code, we shoe the most basic forms of the multiplanes principle. First, with a single plane:"
      ]
    },
    {
      "cell_type": "code",
      "metadata": {
        "id": "2x-sAEzVama2",
        "outputId": "2c533390-a5be-4a43-f739-2a45a77d3a66",
        "colab": {
          "base_uri": "https://localhost:8080/"
        }
      },
      "source": [
        "np.random.uniform(-2, 2, 2)"
      ],
      "execution_count": 5,
      "outputs": [
        {
          "output_type": "execute_result",
          "data": {
            "text/plain": [
              "array([ 0.66467664, -1.48051752])"
            ]
          },
          "metadata": {
            "tags": []
          },
          "execution_count": 5
        }
      ]
    },
    {
      "cell_type": "code",
      "metadata": {
        "id": "ykTxb1KqWiw5",
        "outputId": "b952be60-2fee-4caf-c43d-3536097b7836",
        "colab": {
          "base_uri": "https://localhost:8080/",
          "height": 487
        }
      },
      "source": [
        "P = np.array([[1, 1]])\n",
        "fig, ax1 = plt.subplots(figsize=(8, 8))\n",
        "plot_vectors([P], axes=[2,2], ax=ax1)\n",
        "for i in range(0, 10):\n",
        "  v1 = np.array(np.random.uniform(-2, 2, 2))\n",
        "  side_of_plane = np.sign(np.dot(P, v1.T))\n",
        "\n",
        "  # color the points depending on the sign of the result of np.dot\n",
        "  if side_of_plane == 1:\n",
        "    ax1.plot([v1[0]], [v1[1]], 'bo')\n",
        "  else:\n",
        "    ax1.plot([v1[0]], [v1[1]], 'ro')"
      ],
      "execution_count": 6,
      "outputs": [
        {
          "output_type": "display_data",
          "data": {
            "image/png": "[encoded data removed]",
            "text/plain": [
              "<Figure size 576x576 with 1 Axes>"
            ]
          },
          "metadata": {
            "tags": [],
            "needs_background": "light"
          }
        }
      ]
    },
    {
      "cell_type": "markdown",
      "metadata": {
        "id": "aBa7zWTOsV2v"
      },
      "source": [
        "The first thing to note is that the vector that defined the plane does not mark the boundary between the two sides of the plane. It marks the direction in which you will find the 'positive' side of the plane. Not intuitive at all!\n",
        "\n",
        "If we want to plot the separation plane, we need to plot a line that is perpendiculer to our vector P. We can get such a line using a $90^o$ rotation matrix."
      ]
    },
    {
      "cell_type": "code",
      "metadata": {
        "id": "-8fRkv2fWiuG",
        "outputId": "95faa298-fe44-4c07-fa59-e048a87a5ef0",
        "colab": {
          "base_uri": "https://localhost:8080/",
          "height": 487
        }
      },
      "source": [
        "P = np.array([[1, 2]]) # Define a single plane. \n",
        "fig, ax1 = plt.subplots(figsize=(8, 8)) # Create a plot\n",
        "\n",
        "PT = np.dot([[0, 1], [-1, 0]], P.T).T\n",
        "\n",
        "plot_vectors([P], colors=['b'], axes=[2, 2], ax=ax1) # Plot the plane P as a vector\n",
        "\n",
        "plot_vectors([PT * 4, PT * -4], colors=['k', 'K'], axes=[4, 4], ax=ax1)\n",
        "\n",
        "# Plot  random points. \n",
        "for i in range(0, 10):\n",
        "        v1 = np.array(np.random.uniform(-4, 4, 2)) # Get a pair of random numbers between -4 and 4 \n",
        "        side_of_plane = np.sign(np.dot(P, v1.T)) \n",
        "        \n",
        "        # Color the points depending on the sign of the result of np.dot(P, point.T)\n",
        "        if side_of_plane == 1:\n",
        "            ax1.plot([v1[0]], [v1[1]], 'bo') # Plot blue points\n",
        "        else:\n",
        "            ax1.plot([v1[0]], [v1[1]], 'ro') # Plot red points"
      ],
      "execution_count": 9,
      "outputs": [
        {
          "output_type": "display_data",
          "data": {
            "image/png": "[encoded data removed]",
            "text/plain": [
              "<Figure size 576x576 with 1 Axes>"
            ]
          },
          "metadata": {
            "tags": [],
            "needs_background": "light"
          }
        }
      ]
    },
    {
      "cell_type": "code",
      "metadata": {
        "id": "r-0qB9fzWirM"
      },
      "source": [
        "P = np.array([[1, 1]])\n",
        "v1 = np.array([[1, 2]])\n",
        "v2 = np.array([[-1, 1]])\n",
        "v3 = np.array([[-2, -1]])"
      ],
      "execution_count": 15,
      "outputs": []
    },
    {
      "cell_type": "code",
      "metadata": {
        "id": "1oIsQx3XWiol",
        "outputId": "3d461b20-9793-412a-ef67-7b054af3fea5",
        "colab": {
          "base_uri": "https://localhost:8080/"
        }
      },
      "source": [
        "np.dot(P, v1.T)"
      ],
      "execution_count": 16,
      "outputs": [
        {
          "output_type": "execute_result",
          "data": {
            "text/plain": [
              "array([[3]])"
            ]
          },
          "metadata": {
            "tags": []
          },
          "execution_count": 16
        }
      ]
    },
    {
      "cell_type": "code",
      "metadata": {
        "id": "rJo2I3VqWil7",
        "outputId": "75c5c057-73f3-4f04-85c2-20d3ac7ae2fe",
        "colab": {
          "base_uri": "https://localhost:8080/"
        }
      },
      "source": [
        "np.dot(P, v2.T)"
      ],
      "execution_count": 17,
      "outputs": [
        {
          "output_type": "execute_result",
          "data": {
            "text/plain": [
              "array([[0]])"
            ]
          },
          "metadata": {
            "tags": []
          },
          "execution_count": 17
        }
      ]
    },
    {
      "cell_type": "code",
      "metadata": {
        "id": "K8PYjGVoveSs",
        "outputId": "4ea42aec-05d4-48a2-d57e-326e6adfc765",
        "colab": {
          "base_uri": "https://localhost:8080/"
        }
      },
      "source": [
        "np.dot(P, v3.T)"
      ],
      "execution_count": 18,
      "outputs": [
        {
          "output_type": "execute_result",
          "data": {
            "text/plain": [
              "array([[-3]])"
            ]
          },
          "metadata": {
            "tags": []
          },
          "execution_count": 18
        }
      ]
    },
    {
      "cell_type": "code",
      "metadata": {
        "id": "YCoMCZ13vj72"
      },
      "source": [
        "def side_of_plane(P, v):\n",
        "  dotproduct = np.dot(P, v.T)\n",
        "  sign_of_dot_product = np.sign(dotproduct)\n",
        "  sign_of_dot_product_scalar = sign_of_dot_product.item()\n",
        "  return sign_of_dot_product_scalar"
      ],
      "execution_count": 19,
      "outputs": []
    },
    {
      "cell_type": "code",
      "metadata": {
        "id": "VaVXLOppwDph",
        "outputId": "4104d1f0-99e7-44e1-eaf1-332a9a713794",
        "colab": {
          "base_uri": "https://localhost:8080/"
        }
      },
      "source": [
        "side_of_plane(P, v1)"
      ],
      "execution_count": 20,
      "outputs": [
        {
          "output_type": "execute_result",
          "data": {
            "text/plain": [
              "1"
            ]
          },
          "metadata": {
            "tags": []
          },
          "execution_count": 20
        }
      ]
    },
    {
      "cell_type": "code",
      "metadata": {
        "id": "MVd9Vkl6wHn5",
        "outputId": "1af25c02-2cab-4b59-e7cf-8c4dfffed511",
        "colab": {
          "base_uri": "https://localhost:8080/"
        }
      },
      "source": [
        "side_of_plane(P, v2) "
      ],
      "execution_count": 21,
      "outputs": [
        {
          "output_type": "execute_result",
          "data": {
            "text/plain": [
              "0"
            ]
          },
          "metadata": {
            "tags": []
          },
          "execution_count": 21
        }
      ]
    },
    {
      "cell_type": "code",
      "metadata": {
        "id": "71Hf2t8QwHt7",
        "outputId": "81848175-5d3a-4293-8f50-d2b8f15cd02e",
        "colab": {
          "base_uri": "https://localhost:8080/"
        }
      },
      "source": [
        "side_of_plane(P, v3) "
      ],
      "execution_count": 22,
      "outputs": [
        {
          "output_type": "execute_result",
          "data": {
            "text/plain": [
              "-1"
            ]
          },
          "metadata": {
            "tags": []
          },
          "execution_count": 22
        }
      ]
    },
    {
      "cell_type": "markdown",
      "metadata": {
        "id": "WDpMrFH0wQWr"
      },
      "source": [
        "## Hash function with multiples planes\n",
        "\n",
        "In the following section, we are going to define a hash function with a list of three custom planes in 2D."
      ]
    },
    {
      "cell_type": "code",
      "metadata": {
        "id": "E_aYz2S3wHxC"
      },
      "source": [
        "P1 = np.array([[1, 1]])\n",
        "P2 = np.array([[-1, 1]])\n",
        "P3 = np.array([[-1, -1]])\n",
        "\n",
        "P_l = [P1, P2, P3]\n",
        "\n",
        "v = np.array([[2, 2]])"
      ],
      "execution_count": 27,
      "outputs": []
    },
    {
      "cell_type": "markdown",
      "metadata": {
        "id": "V1P0n15nxKEt"
      },
      "source": [
        "The next function creates a hash value based on a set of planes. The output is a combination of the side of the plane where vector is located with respect to the collection of planes.\n",
        "\n",
        "We can think of this list of planes as a set of basic hash functions, each of which can produce only 1 or 0 as output."
      ]
    },
    {
      "cell_type": "code",
      "metadata": {
        "id": "d5xZFrw3wHq3"
      },
      "source": [
        "def hash_multi_plane(P_l, v):\n",
        "  hash_value = 0\n",
        "  for i, P in enumerate(P_l):\n",
        "    sign = side_of_plane(P, v)\n",
        "    if sign >=0:\n",
        "      hash_value += 2 ** i\n",
        "  return hash_value "
      ],
      "execution_count": 28,
      "outputs": []
    },
    {
      "cell_type": "code",
      "metadata": {
        "id": "jZYbVecvwHko",
        "outputId": "cb1347fa-fd67-412d-a380-8113db355f06",
        "colab": {
          "base_uri": "https://localhost:8080/"
        }
      },
      "source": [
        "hash_multi_plane(P_l, v)"
      ],
      "execution_count": 29,
      "outputs": [
        {
          "output_type": "execute_result",
          "data": {
            "text/plain": [
              "3"
            ]
          },
          "metadata": {
            "tags": []
          },
          "execution_count": 29
        }
      ]
    },
    {
      "cell_type": "markdown",
      "metadata": {
        "id": "LwkW1w_-y6Wj"
      },
      "source": [
        "## Random Planes"
      ]
    },
    {
      "cell_type": "code",
      "metadata": {
        "id": "xl0kwJpqyjER",
        "outputId": "7875bf7c-1028-45de-e050-a78500bc9e09",
        "colab": {
          "base_uri": "https://localhost:8080/"
        }
      },
      "source": [
        "np.random.seed(0)\n",
        "num_dimensions = 2\n",
        "num_planes = 3\n",
        "random_planes_matrix = np.random.normal(\n",
        "    size=(num_planes, num_dimensions)\n",
        ")\n",
        "print(random_planes_matrix)"
      ],
      "execution_count": 30,
      "outputs": [
        {
          "output_type": "stream",
          "text": [
            "[[ 1.76405235  0.40015721]\n",
            " [ 0.97873798  2.2408932 ]\n",
            " [ 1.86755799 -0.97727788]]\n"
          ],
          "name": "stdout"
        }
      ]
    },
    {
      "cell_type": "code",
      "metadata": {
        "id": "O2gB8Q0WM7z8"
      },
      "source": [
        "v = np.array([[2, 2]])"
      ],
      "execution_count": 36,
      "outputs": []
    },
    {
      "cell_type": "code",
      "metadata": {
        "id": "0wRcmmJnNP_2"
      },
      "source": [
        "def side_of_plane_matrix(P, v):\n",
        "  dotprod = np.dot(P, v.T)\n",
        "  sign_dotprod = np.sign(dotprod)\n",
        "  return sign_dotprod"
      ],
      "execution_count": 37,
      "outputs": []
    },
    {
      "cell_type": "code",
      "metadata": {
        "id": "vXBd7cEFNrWb",
        "outputId": "16865ea0-bc4b-4a9f-8861-95d12456a7a8",
        "colab": {
          "base_uri": "https://localhost:8080/"
        }
      },
      "source": [
        "sides_l = side_of_plane_matrix(random_planes_matrix, v)\n",
        "sides_l"
      ],
      "execution_count": 38,
      "outputs": [
        {
          "output_type": "execute_result",
          "data": {
            "text/plain": [
              "array([[1.],\n",
              "       [1.],\n",
              "       [1.]])"
            ]
          },
          "metadata": {
            "tags": []
          },
          "execution_count": 38
        }
      ]
    },
    {
      "cell_type": "code",
      "metadata": {
        "id": "3QDMZzOkNzBH"
      },
      "source": [
        "def hash_multi_plane_matrix(P, v, num_planes):\n",
        "  sides_matrix = side_of_plane_matrix(P, v)\n",
        "  hash_value = 0\n",
        "  for i in range(num_planes):\n",
        "    sign = sides_matrix[i].item()\n",
        "    if sign >=0:\n",
        "      hash_value += 2**i\n",
        "  return hash_value "
      ],
      "execution_count": 42,
      "outputs": []
    },
    {
      "cell_type": "code",
      "metadata": {
        "id": "0H39y7svOacw",
        "outputId": "49c55d52-8fa2-4bbe-9103-534cfc8a7dd6",
        "colab": {
          "base_uri": "https://localhost:8080/"
        }
      },
      "source": [
        "hash_multi_plane_matrix(random_planes_matrix, v, num_planes)"
      ],
      "execution_count": 43,
      "outputs": [
        {
          "output_type": "execute_result",
          "data": {
            "text/plain": [
              "7"
            ]
          },
          "metadata": {
            "tags": []
          },
          "execution_count": 43
        }
      ]
    },
    {
      "cell_type": "code",
      "metadata": {
        "id": "HYfy8DrqPHzD"
      },
      "source": [
        ""
      ],
      "execution_count": null,
      "outputs": []
    }
  ]
}