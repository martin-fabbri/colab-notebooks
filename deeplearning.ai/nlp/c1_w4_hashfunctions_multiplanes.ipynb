{
  "nbformat": 4,
  "nbformat_minor": 0,
  "metadata": {
    "colab": {
      "name": "c1-w4-hashfunctions-multiplanes.ipynb",
      "provenance": [],
      "authorship_tag": "ABX9TyPGpITsjkWS0ycwl0GNpHqy",
      "include_colab_link": true
    },
    "kernelspec": {
      "name": "python3",
      "display_name": "Python 3"
    }
  },
  "cells": [
    {
      "cell_type": "markdown",
      "metadata": {
        "id": "view-in-github",
        "colab_type": "text"
      },
      "source": [
        "<a href=\"https://colab.research.google.com/github/martin-fabbri/colab-notebooks/blob/master/deeplearning.ai/nlp/c1_w4_hashfunctions_multiplanes.ipynb\" target=\"_parent\"><img src=\"https://colab.research.google.com/assets/colab-badge.svg\" alt=\"Open In Colab\"/></a>"
      ]
    },
    {
      "cell_type": "markdown",
      "metadata": {
        "id": "bom2bCjkUjkB"
      },
      "source": [
        "# Hash functions and multiplanes\n",
        "\n",
        "A key point for the lookup using hash functions is the calculation of the hash key or bucket id that we assign for a given entry. In this notebook, we will cover:\n",
        "\n",
        "- Basic hash tables\n",
        "- Multiplanes\n",
        "- Random planes"
      ]
    },
    {
      "cell_type": "markdown",
      "metadata": {
        "id": "BFl2l_J-WRbP"
      },
      "source": [
        "# Basic Hash Tables\n",
        "\n",
        "Hash tables are data structures that allo indexing data to make lookup tasks more efficient. In this part, you will see the implementation of the simplest hash function."
      ]
    },
    {
      "cell_type": "code",
      "metadata": {
        "id": "jRdliAbRUiqG"
      },
      "source": [
        "import numpy as np\n",
        "import pprint\n",
        "import matplotlib.pyplot as plt\n",
        "\n",
        "pp = pprint.PrettyPrinter(indent=4)"
      ],
      "execution_count": 1,
      "outputs": []
    },
    {
      "cell_type": "code",
      "metadata": {
        "id": "2EllHE61WxzP"
      },
      "source": [
        "# Procedure to plot and arrows that represents vectors with pyplot\n",
        "def plot_vectors(vectors, colors=['k', 'b', 'r', 'm', 'c'], axes=None, fname='image.svg', ax=None):\n",
        "    scale = 1\n",
        "    scale_units = 'x'\n",
        "    x_dir = []\n",
        "    y_dir = []\n",
        "    \n",
        "    for i, vec in enumerate(vectors):\n",
        "        x_dir.append(vec[0][0])\n",
        "        y_dir.append(vec[0][1])\n",
        "    \n",
        "    if ax == None:\n",
        "        fig, ax2 = plt.subplots()\n",
        "    else:\n",
        "        ax2 = ax\n",
        "      \n",
        "    if axes == None:\n",
        "        x_axis = 2 + np.max(np.abs(x_dir))\n",
        "        y_axis = 2 + np.max(np.abs(y_dir))\n",
        "    else:\n",
        "        x_axis = axes[0]\n",
        "        y_axis = axes[1]\n",
        "        \n",
        "    ax2.axis([-x_axis, x_axis, -y_axis, y_axis])\n",
        "        \n",
        "    for i, vec in enumerate(vectors):\n",
        "        ax2.arrow(0, 0, vec[0][0], vec[0][1], head_width=0.05 * x_axis, head_length=0.05 * y_axis, fc=colors[i], ec=colors[i])\n",
        "    \n",
        "    if ax == None:\n",
        "        plt.show()\n",
        "        fig.savefig(fname)"
      ],
      "execution_count": 2,
      "outputs": []
    },
    {
      "cell_type": "markdown",
      "metadata": {
        "id": "lSiYbQG_W8F9"
      },
      "source": [
        "In the next cell, we will define a straightforward hash function for integer numbers. The function will receive a list of integer numbers and the desired amount of buckets. The function will produce a hash table stored as a dictionary, where keys contain the hash keys, and the values will provicde the hashed elements of the input list."
      ]
    },
    {
      "cell_type": "code",
      "metadata": {
        "id": "11xvc91fWi2L"
      },
      "source": [
        "def basic_hash_table(value_l, n_buckets):\n",
        "  def hash_function(value, n_buckets):\n",
        "    return int(value) % n_buckets\n",
        "\n",
        "  hash_table = {i:[] for i in range(n_buckets)}\n",
        "  for value in value_l:\n",
        "    hash_value = hash_function(value, n_buckets)\n",
        "    hash_table[hash_value].append(value)\n",
        "  return hash_table"
      ],
      "execution_count": 10,
      "outputs": []
    },
    {
      "cell_type": "code",
      "metadata": {
        "id": "fByklZHTWizp",
        "outputId": "8ddf8060-cd1f-4601-c28f-7cdfcd122425",
        "colab": {
          "base_uri": "https://localhost:8080/"
        }
      },
      "source": [
        "value_l = [100, 10, 14, 17, 97]\n",
        "hash_table_example = basic_hash_table(value_l, n_buckets=10)\n",
        "pp.pprint(hash_table_example)"
      ],
      "execution_count": 11,
      "outputs": [
        {
          "output_type": "stream",
          "text": [
            "{   0: [100, 10],\n",
            "    1: [],\n",
            "    2: [],\n",
            "    3: [],\n",
            "    4: [14],\n",
            "    5: [],\n",
            "    6: [],\n",
            "    7: [17, 97],\n",
            "    8: [],\n",
            "    9: []}\n"
          ],
          "name": "stdout"
        }
      ]
    },
    {
      "cell_type": "markdown",
      "metadata": {
        "id": "xAjS5nVkZDZa"
      },
      "source": [
        "In this case, the bucket key must be the rightmost digit of each number."
      ]
    },
    {
      "cell_type": "markdown",
      "metadata": {
        "id": "cdAAUeVvZK3O"
      },
      "source": [
        "## Planes\n",
        "\n",
        "Multiplanes hash functions are other type of hash functions. Multiplanes hash functions are based on the idea of numbering every single region that is formed by the intersection of n planes. In the following code, we shoe the most basic forms of the multiplanes principle. First, with a single plane:"
      ]
    },
    {
      "cell_type": "code",
      "metadata": {
        "id": "2x-sAEzVama2",
        "outputId": "5280f3c2-5ae7-4794-9e5a-b4ef2ef8335b",
        "colab": {
          "base_uri": "https://localhost:8080/"
        }
      },
      "source": [
        "np.random.uniform(-2, 2, 2)"
      ],
      "execution_count": 15,
      "outputs": [
        {
          "output_type": "execute_result",
          "data": {
            "text/plain": [
              "array([-0.82835697, -1.50144403])"
            ]
          },
          "metadata": {
            "tags": []
          },
          "execution_count": 15
        }
      ]
    },
    {
      "cell_type": "code",
      "metadata": {
        "id": "ykTxb1KqWiw5",
        "outputId": "9dd58756-0b44-43c4-f6bc-4bf62cdecac3",
        "colab": {
          "base_uri": "https://localhost:8080/",
          "height": 487
        }
      },
      "source": [
        "P = np.array([[1, 1]])\n",
        "fig, ax1 = plt.subplots(figsize=(8, 8))\n",
        "plot_vectors([P], axes=[2,2], ax=ax1)\n",
        "for i in range(0, 10):\n",
        "  v1 = np.array(np.random.uniform(-2, 2, 2))\n",
        "  side_of_plane = np.sign(np.dot(P, v1.T))\n",
        "\n",
        "  # color the points depending on the sign of the result of np.dot\n",
        "  if side_of_plane == 1:\n",
        "    ax1.plot([v1[0]], [v1[1]], 'bo')\n",
        "  else:\n",
        "    ax1.plot([v1[0]], [v1[1]], 'ro')"
      ],
      "execution_count": 18,
      "outputs": [
        {
          "output_type": "display_data",
          "data": {
            "image/png": "[encoded data removed]",
            "text/plain": [
              "<Figure size 576x576 with 1 Axes>"
            ]
          },
          "metadata": {
            "tags": [],
            "needs_background": "light"
          }
        }
      ]
    },
    {
      "cell_type": "code",
      "metadata": {
        "id": "-8fRkv2fWiuG"
      },
      "source": [
        ""
      ],
      "execution_count": null,
      "outputs": []
    },
    {
      "cell_type": "code",
      "metadata": {
        "id": "r-0qB9fzWirM"
      },
      "source": [
        ""
      ],
      "execution_count": null,
      "outputs": []
    },
    {
      "cell_type": "code",
      "metadata": {
        "id": "1oIsQx3XWiol"
      },
      "source": [
        ""
      ],
      "execution_count": null,
      "outputs": []
    },
    {
      "cell_type": "code",
      "metadata": {
        "id": "rJo2I3VqWil7"
      },
      "source": [
        ""
      ],
      "execution_count": null,
      "outputs": []
    }
  ]
}