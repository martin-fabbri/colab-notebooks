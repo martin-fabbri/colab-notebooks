{
  "nbformat": 4,
  "nbformat_minor": 0,
  "metadata": {
    "colab": {
      "name": "vector-manipulation-01.ipynb",
      "provenance": [],
      "authorship_tag": "ABX9TyPH2Kx+vqWi8RF68S/b400a",
      "include_colab_link": true
    },
    "kernelspec": {
      "name": "python3",
      "display_name": "Python 3"
    }
  },
  "cells": [
    {
      "cell_type": "markdown",
      "metadata": {
        "id": "view-in-github",
        "colab_type": "text"
      },
      "source": [
        "<a href=\"https://colab.research.google.com/github/martin-fabbri/colab-notebooks/blob/master/deeplearning.ai/nlp/vector_manipulation_01.ipynb\" target=\"_parent\"><img src=\"https://colab.research.google.com/assets/colab-badge.svg\" alt=\"Open In Colab\"/></a>"
      ]
    },
    {
      "cell_type": "markdown",
      "metadata": {
        "id": "dnudhWo-gPAB"
      },
      "source": [
        "# Vector manipulation"
      ]
    },
    {
      "cell_type": "markdown",
      "metadata": {
        "id": "Oz9Gv-HWgOtI"
      },
      "source": [
        "## Transforming vectors\n",
        "\n",
        "There are 3 main vector transformations;\n",
        "\n",
        "- Scaling\n",
        "- Translation\n",
        "- Rotation\n",
        "\n",
        "The rotation operation changes the direction of a vector, letting unaffected its dimensionality and its norm. Let us explain with some examples. "
      ]
    },
    {
      "cell_type": "code",
      "metadata": {
        "id": "t-R8BzA7fzqi"
      },
      "source": [
        "import numpy as np\n",
        "import math\n",
        "import matplotlib.pyplot as plt"
      ],
      "execution_count": 21,
      "outputs": []
    },
    {
      "cell_type": "code",
      "metadata": {
        "id": "GvQGR4YFg3Lp"
      },
      "source": [
        "# Procedure to plot and arrows that represents vectors with pyplot\n",
        "def plot_vectors(vectors, colors=['k', 'b', 'r', 'm', 'c'], axes=None, fname='image.svg', ax=None):\n",
        "    scale = 1\n",
        "    scale_units = 'x'\n",
        "    x_dir = []\n",
        "    y_dir = []\n",
        "    \n",
        "    for i, vec in enumerate(vectors):\n",
        "        x_dir.append(vec[0][0])\n",
        "        y_dir.append(vec[0][1])\n",
        "    \n",
        "    if ax == None:\n",
        "        fig, ax2 = plt.subplots()\n",
        "    else:\n",
        "        ax2 = ax\n",
        "      \n",
        "    if axes == None:\n",
        "        x_axis = 2 + np.max(np.abs(x_dir))\n",
        "        y_axis = 2 + np.max(np.abs(y_dir))\n",
        "    else:\n",
        "        x_axis = axes[0]\n",
        "        y_axis = axes[1]\n",
        "        \n",
        "    ax2.axis([-x_axis, x_axis, -y_axis, y_axis])\n",
        "        \n",
        "    for i, vec in enumerate(vectors):\n",
        "        ax2.arrow(0, 0, vec[0][0], vec[0][1], head_width=0.05 * x_axis, head_length=0.05 * y_axis, fc=colors[i], ec=colors[i])\n",
        "    \n",
        "    if ax == None:\n",
        "        plt.show()\n",
        "        fig.savefig(fname)\n"
      ],
      "execution_count": 2,
      "outputs": []
    },
    {
      "cell_type": "markdown",
      "metadata": {
        "id": "JPRzv-3Yg2qx"
      },
      "source": [
        "## Example 1"
      ]
    },
    {
      "cell_type": "code",
      "metadata": {
        "id": "Qk-OmaFfhFgp"
      },
      "source": [
        "R = np.array([[2, 0], [0, -2]])"
      ],
      "execution_count": 3,
      "outputs": []
    },
    {
      "cell_type": "code",
      "metadata": {
        "id": "65YMDQzXhGCx"
      },
      "source": [
        "x = np.array([[1, 1]])"
      ],
      "execution_count": 4,
      "outputs": []
    },
    {
      "cell_type": "markdown",
      "metadata": {
        "id": "8XYBFSW9hj_q"
      },
      "source": [
        "The dot product between a vector and a square matrix produces a rotation and a scaling of the original vector.\n",
        "\n",
        "Remember that our recommended way to get the dot product in Python is np.dot(a, b):"
      ]
    },
    {
      "cell_type": "code",
      "metadata": {
        "id": "ep0QN8UJi-hX"
      },
      "source": [
        "a1 = np.arange(200000)\n",
        "a2 = np.arange(200000, 400000)"
      ],
      "execution_count": 5,
      "outputs": []
    },
    {
      "cell_type": "code",
      "metadata": {
        "id": "5VesMQqTiFeP",
        "outputId": "07d813c8-6909-4cfb-f3f2-dc299d304ac9",
        "colab": {
          "base_uri": "https://localhost:8080/"
        }
      },
      "source": [
        "%timeit np.dot(a1, a2)"
      ],
      "execution_count": 6,
      "outputs": [
        {
          "output_type": "stream",
          "text": [
            "10000 loops, best of 3: 175 µs per loop\n"
          ],
          "name": "stdout"
        }
      ]
    },
    {
      "cell_type": "code",
      "metadata": {
        "id": "DlUL04reiM-g",
        "outputId": "ab1d7c43-45f1-4296-8538-bdb24b975c4c",
        "colab": {
          "base_uri": "https://localhost:8080/"
        }
      },
      "source": [
        "%timeit a1.dot(a2)"
      ],
      "execution_count": 7,
      "outputs": [
        {
          "output_type": "stream",
          "text": [
            "10000 loops, best of 3: 171 µs per loop\n"
          ],
          "name": "stdout"
        }
      ]
    },
    {
      "cell_type": "code",
      "metadata": {
        "id": "vy-YSMcShGI8",
        "outputId": "4ef8d388-0213-4a9d-8052-09a70c21999e",
        "colab": {
          "base_uri": "https://localhost:8080/"
        }
      },
      "source": [
        "y = np.dot(x, R)\n",
        "y"
      ],
      "execution_count": 8,
      "outputs": [
        {
          "output_type": "execute_result",
          "data": {
            "text/plain": [
              "array([[ 2, -2]])"
            ]
          },
          "metadata": {
            "tags": []
          },
          "execution_count": 8
        }
      ]
    },
    {
      "cell_type": "markdown",
      "metadata": {
        "id": "U5nATh0zjl-F"
      },
      "source": [
        "We are going to use Pyplot to inspect the effect of the rotation on 2D vectors visually. \n",
        "\n",
        "Now we can plot the vector $\\vec x = [1, 1]$ in a cartesian plane. The cartesian plane will be centered at `[0,0]` and its x and y limits will be between `[-4, +4]`"
      ]
    },
    {
      "cell_type": "code",
      "metadata": {
        "id": "qifjsJQohGPf",
        "outputId": "009490dc-5d87-41fb-e56c-f018448d4770",
        "colab": {
          "base_uri": "https://localhost:8080/",
          "height": 269
        }
      },
      "source": [
        "plot_vectors([x], axes=[4, 4], fname='transform_x.svg')"
      ],
      "execution_count": 9,
      "outputs": [
        {
          "output_type": "display_data",
          "data": {
            "image/png": "[encoded data removed]",
            "text/plain": [
              "<Figure size 432x288 with 1 Axes>"
            ]
          },
          "metadata": {
            "tags": [],
            "needs_background": "light"
          }
        }
      ]
    },
    {
      "cell_type": "markdown",
      "metadata": {
        "id": "xm2xtXd-kUcL"
      },
      "source": [
        "Now, let's plot in the same system our vector $\\vec x = [1, 1]$ and its dot product with the matrix\n",
        "\n",
        "$$Ro = \\begin{bmatrix} 2 & 0 \\\\ 0 & -2 \\end{bmatrix}$$\n",
        "\n",
        "$$y = x \\cdot Ro = [[2, -2]]$$"
      ]
    },
    {
      "cell_type": "code",
      "metadata": {
        "id": "bc_bIt6jhGU5",
        "outputId": "a6ea7c92-4999-4eef-b9b0-1a70dc24bd6f",
        "colab": {
          "base_uri": "https://localhost:8080/",
          "height": 269
        }
      },
      "source": [
        "plot_vectors([x, y], axes=[4, 4], fname='transformx_and_y.svg')"
      ],
      "execution_count": 10,
      "outputs": [
        {
          "output_type": "display_data",
          "data": {
            "image/png": "[encoded data removed]",
            "text/plain": [
              "<Figure size 432x288 with 1 Axes>"
            ]
          },
          "metadata": {
            "tags": [],
            "needs_background": "light"
          }
        }
      ]
    },
    {
      "cell_type": "markdown",
      "metadata": {
        "id": "kEGXwoQkkmBM"
      },
      "source": [
        "Note that the output vector `y` is transformed in another vector."
      ]
    },
    {
      "cell_type": "markdown",
      "metadata": {
        "id": "ywfCv2W1lDnQ"
      },
      "source": [
        "### Example 2\n",
        "\n",
        "We are going to use Pyplot to inspect the effect of the rotation on 2D vectors visually. For that, we have created a function that takes care of all the intricate parts of the visual formatting. The following procedure plots an arrow within a Pyplot canvas.\n",
        "\n",
        "Data that is composed of 2 real attributes is telling to belong to a $ RxR $ or $ R^2 $ space. Rotation matrices in $R^2$ rotate a given vector $\\vec x$ by a counterclockwise angle $\\theta$ in a fixed coordinate system. Rotation matrices are of the form:\n",
        "\n",
        "$$Ro = \\begin{bmatrix} cos \\theta & -sin \\theta \\\\ sin \\theta & cos \\theta \\end{bmatrix}$$\n",
        "\n",
        "The trigonometric functions in Numpy require the angle in radians, not in degrees. In the next cell, we define a rotation matrix that rotates vectors by $45^o$."
      ]
    },
    {
      "cell_type": "code",
      "metadata": {
        "id": "VGULAUSqhGaj",
        "outputId": "7b46f383-4249-45d4-8a75-55994a5fef94",
        "colab": {
          "base_uri": "https://localhost:8080/"
        }
      },
      "source": [
        "angle = 45 * (np.pi / 180) #convert degrees to radians\n",
        "\n",
        "Ro = np.array([[np.cos(angle), -np.sin(angle)],\n",
        "              [np.sin(angle), np.cos(angle)]])\n",
        "\n",
        "x2 = np.array([2, 2]).reshape(1, -1) # make it a row vector\n",
        "y2 = np.dot(x2, Ro)\n",
        "\n",
        "print('Rotation matrix')\n",
        "print(Ro)\n",
        "print('\\nRotated vector')\n",
        "print(y2)\n",
        "\n",
        "print('\\n x2 norm', np.linalg.norm(x2))\n",
        "print('\\n y2 norm', np.linalg.norm(y2))\n",
        "print(f'\\n Rotation matrix norm (sqrt(2)={math.sqrt(2)}): ', np.linalg.norm(Ro))"
      ],
      "execution_count": 22,
      "outputs": [
        {
          "output_type": "stream",
          "text": [
            "Rotation matrix\n",
            "[[ 0.70710678 -0.70710678]\n",
            " [ 0.70710678  0.70710678]]\n",
            "\n",
            "Rotated vector\n",
            "[[2.82842712e+00 2.22044605e-16]]\n",
            "\n",
            " x2 norm 2.8284271247461903\n",
            "\n",
            " y2 norm 2.82842712474619\n",
            "\n",
            " Rotation matrix norm (sqrt(2)=1.4142135623730951):  1.4142135623730951\n"
          ],
          "name": "stdout"
        }
      ]
    },
    {
      "cell_type": "code",
      "metadata": {
        "id": "9kRkLsGFhGgF",
        "outputId": "2d8178de-3996-42fb-8242-eadf35886281",
        "colab": {
          "base_uri": "https://localhost:8080/",
          "height": 269
        }
      },
      "source": [
        "plot_vectors([x2, y2], fname='transform_02.svg')"
      ],
      "execution_count": 18,
      "outputs": [
        {
          "output_type": "display_data",
          "data": {
            "image/png": "[encoded data removed]",
            "text/plain": [
              "<Figure size 432x288 with 1 Axes>"
            ]
          },
          "metadata": {
            "tags": [],
            "needs_background": "light"
          }
        }
      ]
    },
    {
      "cell_type": "markdown",
      "metadata": {
        "id": "yyrv22c9m3ix"
      },
      "source": [
        "Some points to note:\n",
        "\n",
        "* The norm of the input vector is the same as the norm of the output vector. Rotations matrices do not modify the norm of the vector, only its direction.\n",
        "* The norm of any $R^2$ rotation matrix is always $\\sqrt 2 = 1.414221$"
      ]
    },
    {
      "cell_type": "markdown",
      "metadata": {
        "id": "j2jN0pIRytzq"
      },
      "source": [
        "## Frobenius Norm\n",
        "\n",
        "The Frobenius norm is the generalization to $R^2$ of the already known norm function for vectors \n",
        "\n",
        "$$\\| \\vec a \\| = \\sqrt {{\\vec a} \\cdot {\\vec a}} $$\n",
        "\n",
        "For a given $R^2$ matrix A, the frobenius norm is defined as:\n",
        "\n",
        "$$\\|\\mathrm{A}\\|_{F} \\equiv \\sqrt{\\sum_{i=1}^{m} \\sum_{j=1}^{n}\\left|a_{i j}\\right|^{2}}$$"
      ]
    },
    {
      "cell_type": "code",
      "metadata": {
        "id": "Z7YNXEanhGjD"
      },
      "source": [
        "A = np.array([[2, 2], [2, 2]])"
      ],
      "execution_count": 23,
      "outputs": []
    },
    {
      "cell_type": "markdown",
      "metadata": {
        "id": "berLV2tK0BKl"
      },
      "source": [
        "`np.square()` is a way to square each element of a matrix. It must be equivalent to use the * operator in numpy arrays."
      ]
    },
    {
      "cell_type": "code",
      "metadata": {
        "id": "SjRGxVnQzmwx",
        "outputId": "b8df0b02-5425-49d2-eb75-b2a5121e9932",
        "colab": {
          "base_uri": "https://localhost:8080/"
        }
      },
      "source": [
        "A_squared = np.square(A)\n",
        "A_squared"
      ],
      "execution_count": 24,
      "outputs": [
        {
          "output_type": "execute_result",
          "data": {
            "text/plain": [
              "array([[4, 4],\n",
              "       [4, 4]])"
            ]
          },
          "metadata": {
            "tags": []
          },
          "execution_count": 24
        }
      ]
    },
    {
      "cell_type": "markdown",
      "metadata": {
        "id": "zJe6DLM20Xlj"
      },
      "source": [
        "Now we can sum over the elements of the resulting array, and then get the square root of the sum."
      ]
    },
    {
      "cell_type": "code",
      "metadata": {
        "id": "ql92o_Yezm2s",
        "outputId": "fb033bc6-446c-4e24-9d91-44fc0731d95f",
        "colab": {
          "base_uri": "https://localhost:8080/"
        }
      },
      "source": [
        "A_Forbenius = np.sqrt(np.sum(np.square(A)))\n",
        "A_Forbenius"
      ],
      "execution_count": 26,
      "outputs": [
        {
          "output_type": "execute_result",
          "data": {
            "text/plain": [
              "4.0"
            ]
          },
          "metadata": {
            "tags": []
          },
          "execution_count": 26
        }
      ]
    },
    {
      "cell_type": "markdown",
      "metadata": {
        "id": "_PBeYGzJ1RMs"
      },
      "source": [
        "That was the extended version of the `np.linalg.norm()` function. You can check that it yields the same result."
      ]
    },
    {
      "cell_type": "code",
      "metadata": {
        "id": "0oba69Pbzmzf",
        "outputId": "9c2c1c9a-4822-4e92-ef4d-fbdf8252befb",
        "colab": {
          "base_uri": "https://localhost:8080/"
        }
      },
      "source": [
        "np.linalg.norm(A)"
      ],
      "execution_count": 27,
      "outputs": [
        {
          "output_type": "execute_result",
          "data": {
            "text/plain": [
              "4.0"
            ]
          },
          "metadata": {
            "tags": []
          },
          "execution_count": 27
        }
      ]
    },
    {
      "cell_type": "code",
      "metadata": {
        "id": "BhaQbv8-zmtj",
        "outputId": "3b3c3412-24b8-461a-9376-c580a5eafc16",
        "colab": {
          "base_uri": "https://localhost:8080/"
        }
      },
      "source": [
        "print('Froberius norm of the Rotation matrix...')\n",
        "print(np.sqrt(np.sum(Ro * Ro)), ' == ', np.linalg.norm(Ro))"
      ],
      "execution_count": 28,
      "outputs": [
        {
          "output_type": "stream",
          "text": [
            "Froberius norm of the Rotation matrix...\n",
            "1.4142135623730951  ==  1.4142135623730951\n"
          ],
          "name": "stdout"
        }
      ]
    },
    {
      "cell_type": "code",
      "metadata": {
        "id": "onm54_yfhGdV"
      },
      "source": [
        ""
      ],
      "execution_count": 9,
      "outputs": []
    },
    {
      "cell_type": "code",
      "metadata": {
        "id": "t_bz8O3GhGX8"
      },
      "source": [
        ""
      ],
      "execution_count": 9,
      "outputs": []
    },
    {
      "cell_type": "code",
      "metadata": {
        "id": "8cQmsTD8hGSP"
      },
      "source": [
        ""
      ],
      "execution_count": 9,
      "outputs": []
    },
    {
      "cell_type": "code",
      "metadata": {
        "id": "Vzz7heAQhGMW"
      },
      "source": [
        ""
      ],
      "execution_count": 9,
      "outputs": []
    },
    {
      "cell_type": "code",
      "metadata": {
        "id": "b42C7NzshGGB"
      },
      "source": [
        ""
      ],
      "execution_count": 9,
      "outputs": []
    },
    {
      "cell_type": "code",
      "metadata": {
        "id": "6oECU-1QhGAH"
      },
      "source": [
        ""
      ],
      "execution_count": 9,
      "outputs": []
    }
  ]
}