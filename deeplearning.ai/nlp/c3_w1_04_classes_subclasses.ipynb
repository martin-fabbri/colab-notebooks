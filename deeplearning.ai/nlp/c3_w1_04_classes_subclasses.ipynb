{
  "nbformat": 4,
  "nbformat_minor": 0,
  "metadata": {
    "colab": {
      "name": "c3_w1_04_classes_subclasses.ipynb",
      "provenance": [],
      "collapsed_sections": [],
      "authorship_tag": "ABX9TyPdnFksJYkoauYNeHdVGyPk"
    },
    "kernelspec": {
      "name": "python3",
      "display_name": "Python 3"
    }
  },
  "cells": [
    {
      "cell_type": "markdown",
      "metadata": {
        "id": "BsHXpwkNHnPM"
      },
      "source": [
        "# Classes and subclasses \r\n",
        "\r\n",
        "In this notebook, I will show you the basics of classes and subclasses in Python. As you've seen in the lectures from this week, `Trax` uses layer classes as building blocks for deep learning models, so it is important to understand how classes and subclasses behave in order to be able to build custom layers when needed. \r\n",
        "\r\n",
        "By completing this notebook, you will:\r\n",
        "\r\n",
        "- Be able to define classes and subclasses in Python\r\n",
        "- Understand how inheritance works in subclasses\r\n",
        "- Be able to work with instances"
      ]
    },
    {
      "cell_type": "markdown",
      "metadata": {
        "id": "LxLHc3V9JHkp"
      },
      "source": [
        "# Part 1: Parameters, methods and instances\r\n",
        "\r\n",
        "First, let's define a class `My_Class`."
      ]
    },
    {
      "cell_type": "code",
      "metadata": {
        "id": "f8VmsKO2HURc"
      },
      "source": [
        ""
      ],
      "execution_count": null,
      "outputs": []
    }
  ]
}