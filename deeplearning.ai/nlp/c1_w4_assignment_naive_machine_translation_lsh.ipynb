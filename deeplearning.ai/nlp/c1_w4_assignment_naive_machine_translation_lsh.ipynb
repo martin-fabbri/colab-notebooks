{
  "nbformat": 4,
  "nbformat_minor": 0,
  "metadata": {
    "colab": {
      "name": "c1-w4-assignment-naive-machine-translation-lsh.ipynb",
      "provenance": [],
      "authorship_tag": "ABX9TyM1VzEl5gCYYO3G8kTwCD3L",
      "include_colab_link": true
    },
    "kernelspec": {
      "name": "python3",
      "display_name": "Python 3"
    }
  },
  "cells": [
    {
      "cell_type": "markdown",
      "metadata": {
        "id": "view-in-github",
        "colab_type": "text"
      },
      "source": [
        "<a href=\"https://colab.research.google.com/github/martin-fabbri/colab-notebooks/blob/master/deeplearning.ai/nlp/c1_w4_assignment_naive_machine_translation_lsh.ipynb\" target=\"_parent\"><img src=\"https://colab.research.google.com/assets/colab-badge.svg\" alt=\"Open In Colab\"/></a>"
      ]
    },
    {
      "cell_type": "markdown",
      "metadata": {
        "id": "pAmbNfhsYO0e"
      },
      "source": [
        "# Assignment 4 - Naive Machine Translation and LSH\n",
        "\n",
        "You will now implement your first machine translation system and then you\n",
        "will see how locality sensitive hashing works. Let's get started by importing\n",
        "the required functions!\n",
        "\n",
        "If you are running this notebook in your local computer, don't forget to\n",
        "download the twitter samples and stopwords from nltk.\n",
        "\n",
        "```\n",
        "nltk.download('stopwords')\n",
        "nltk.download('twitter_samples')\n",
        "```"
      ]
    },
    {
      "cell_type": "markdown",
      "metadata": {
        "id": "gkjMjgsaYOtT"
      },
      "source": [
        "### This assignment covers the folowing topics:\n",
        "\n",
        "- [1. The word embeddings data for English and French words](#1)\n",
        "  - [1.1 Generate embedding and transform matrices](#1-1)\n",
        "      - [Exercise 1](#ex-01)\n",
        "- [2. Translations](#2)\n",
        "  - [2.1 Translation as linear transformation of embeddings](#2-1)\n",
        "      - [Exercise 2](#ex-02)  \n",
        "      - [Exercise 3](#ex-03)  \n",
        "      - [Exercise 4](#ex-04)        \n",
        "  - [2.2 Testing the translation](#2-2)\n",
        "      - [Exercise 5](#ex-05)\n",
        "      - [Exercise 6](#ex-06)      \n",
        "- [3. LSH and document search](#3)\n",
        "  - [3.1 Getting the document embeddings](#3-1)\n",
        "      - [Exercise 7](#ex-07)\n",
        "      - [Exercise 8](#ex-08)      \n",
        "  - [3.2 Looking up the tweets](#3-2)\n",
        "  - [3.3 Finding the most similar tweets with LSH](#3-3)\n",
        "  - [3.4 Getting the hash number for a vector](#3-4)\n",
        "      - [Exercise 9](#ex-09)  \n",
        "  - [3.5 Creating a hash table](#3-5)\n",
        "      - [Exercise 10](#ex-10)  \n",
        "  - [3.6 Creating all hash tables](#3-6)\n",
        "      - [Exercise 11](#ex-11) "
      ]
    },
    {
      "cell_type": "code",
      "metadata": {
        "id": "QJ0jAE2vVw1Z"
      },
      "source": [
        "import pdb\n",
        "import pickle\n",
        "import string\n",
        "import re\n",
        "import time\n",
        "import nltk\n",
        "import gensim\n",
        "import scipy\n",
        "import sklearn\n",
        "\n",
        "import matplotlib.pyplot as plt\n",
        "import numpy as np\n",
        "import pandas as pd\n",
        "\n",
        "from gensim.models import KeyedVectors\n",
        "from nltk.corpus import stopwords\n",
        "from nltk.corpus import twitter_samples\n",
        "from nltk.stem import PorterStemmer\n",
        "from nltk.tokenize import TweetTokenizer"
      ],
      "execution_count": 1,
      "outputs": []
    },
    {
      "cell_type": "code",
      "metadata": {
        "id": "gzEvWgmSZB3y",
        "outputId": "6f4c3c42-fbce-4966-ef35-da2ece7f62f7",
        "colab": {
          "base_uri": "https://localhost:8080/"
        }
      },
      "source": [
        "nltk.download('stopwords')\n",
        "nltk.download('twitter_samples')"
      ],
      "execution_count": 2,
      "outputs": [
        {
          "output_type": "stream",
          "text": [
            "[nltk_data] Downloading package stopwords to /root/nltk_data...\n",
            "[nltk_data]   Package stopwords is already up-to-date!\n",
            "[nltk_data] Downloading package twitter_samples to /root/nltk_data...\n",
            "[nltk_data]   Package twitter_samples is already up-to-date!\n"
          ],
          "name": "stdout"
        },
        {
          "output_type": "execute_result",
          "data": {
            "text/plain": [
              "True"
            ]
          },
          "metadata": {
            "tags": []
          },
          "execution_count": 2
        }
      ]
    },
    {
      "cell_type": "code",
      "metadata": {
        "id": "9l_3mA5lZPIB"
      },
      "source": [
        "def process_tweet(tweet):\n",
        "    '''\n",
        "    Input:\n",
        "        tweet: a string containing a tweet\n",
        "    Output:\n",
        "        tweets_clean: a list of words containing the processed tweet\n",
        "\n",
        "    '''\n",
        "    stemmer = PorterStemmer()\n",
        "    stopwords_english = stopwords.words('english')\n",
        "    # remove stock market tickers like $GE\n",
        "    tweet = re.sub(r'\\$\\w*', '', tweet)\n",
        "    # remove old style retweet text \"RT\"\n",
        "    tweet = re.sub(r'^RT[\\s]+', '', tweet)\n",
        "    # remove hyperlinks\n",
        "    tweet = re.sub(r'https?:\\/\\/.*[\\r\\n]*', '', tweet)\n",
        "    # remove hashtags\n",
        "    # only removing the hash # sign from the word\n",
        "    tweet = re.sub(r'#', '', tweet)\n",
        "    # tokenize tweets\n",
        "    tokenizer = TweetTokenizer(preserve_case=False, strip_handles=True,\n",
        "                               reduce_len=True)\n",
        "    tweet_tokens = tokenizer.tokenize(tweet)\n",
        "\n",
        "    tweets_clean = []\n",
        "    for word in tweet_tokens:\n",
        "        if (word not in stopwords_english and  # remove stopwords\n",
        "            word not in string.punctuation):  # remove punctuation\n",
        "            # tweets_clean.append(word)\n",
        "            stem_word = stemmer.stem(word)  # stemming word\n",
        "            tweets_clean.append(stem_word)\n",
        "\n",
        "    return tweets_clean\n",
        "\n",
        "\n",
        "def get_dict(file_name):\n",
        "    \"\"\"\n",
        "    This function returns the english to french dictionary given a file where the each column corresponds to a word.\n",
        "    Check out the files this function takes in your workspace.\n",
        "    \"\"\"\n",
        "    my_file = pd.read_csv(file_name, delimiter=' ')\n",
        "    etof = {}  # the english to french dictionary to be returned\n",
        "    for i in range(len(my_file)):\n",
        "        # indexing into the rows.\n",
        "        en = my_file.loc[i][0]\n",
        "        fr = my_file.loc[i][1]\n",
        "        etof[en] = fr\n",
        "\n",
        "    return etof\n",
        "\n",
        "\n",
        "def cosine_similarity(A, B):\n",
        "    '''\n",
        "    Input:\n",
        "        A: a numpy array which corresponds to a word vector\n",
        "        B: A numpy array which corresponds to a word vector\n",
        "    Output:\n",
        "        cos: numerical number representing the cosine similarity between A and B.\n",
        "    '''\n",
        "    # you have to set this variable to the true label.\n",
        "    cos = -10\n",
        "    dot = np.dot(A, B)\n",
        "    norma = np.linalg.norm(A)\n",
        "    normb = np.linalg.norm(B)\n",
        "    cos = dot / (norma * normb)\n",
        "\n",
        "    return cos"
      ],
      "execution_count": 3,
      "outputs": []
    },
    {
      "cell_type": "markdown",
      "metadata": {
        "id": "IdVvY0TWZyLa"
      },
      "source": [
        "<a name=\"1\"></a>\n",
        "\n",
        "# 1. The word embeddings data for English and French words\n",
        "\n",
        "Write a program that translates English to French.\n",
        "\n",
        "## The data\n",
        "\n",
        "The full dataset for English embeddings is about 3.64 gigabytes, and the French\n",
        "embeddings are about 629 megabytes. To prevent the Coursera workspace from\n",
        "crashing, we've extracted a subset of the embeddings for the words that you'll\n",
        "use in this assignment.\n",
        "\n",
        "If you want to run this on your local computer and use the full dataset,\n",
        "you can download the\n",
        "* English embeddings from Google code archive word2vec\n",
        "[look for GoogleNews-vectors-negative300.bin.gz](https://code.google.com/archive/p/word2vec/)\n",
        "    * You'll need to unzip the file first.\n",
        "* and the French embeddings from\n",
        "[cross_lingual_text_classification](https://github.com/vjstark/crosslingual_text_classification).\n",
        "    * in the terminal, type (in one line)\n",
        "    `curl -o ./wiki.multi.fr.vec https://dl.fbaipublicfiles.com/arrival/vectors/wiki.multi.fr.vec`\n",
        "\n",
        "Then copy-paste the code below and run it."
      ]
    },
    {
      "cell_type": "markdown",
      "metadata": {
        "id": "2BbiHl89aoJp"
      },
      "source": [
        "```python\n",
        "# Use this code to download and process the full dataset on your local computer\n",
        "\n",
        "from gensim.models import KeyedVectors\n",
        "\n",
        "en_embeddings = KeyedVectors.load_word2vec_format('./GoogleNews-vectors-negative300.bin', binary = True)\n",
        "fr_embeddings = KeyedVectors.load_word2vec_format('./wiki.multi.fr.vec')\n",
        "\n",
        "\n",
        "# loading the english to french dictionaries\n",
        "en_fr_train = get_dict('en-fr.train.txt')\n",
        "print('The length of the english to french training dictionary is', len(en_fr_train))\n",
        "en_fr_test = get_dict('en-fr.test.txt')\n",
        "print('The length of the english to french test dictionary is', len(en_fr_train))\n",
        "\n",
        "english_set = set(en_embeddings.vocab)\n",
        "french_set = set(fr_embeddings.vocab)\n",
        "en_embeddings_subset = {}\n",
        "fr_embeddings_subset = {}\n",
        "french_words = set(en_fr_train.values())\n",
        "\n",
        "for en_word in en_fr_train.keys():\n",
        "    fr_word = en_fr_train[en_word]\n",
        "    if fr_word in french_set and en_word in english_set:\n",
        "        en_embeddings_subset[en_word] = en_embeddings[en_word]\n",
        "        fr_embeddings_subset[fr_word] = fr_embeddings[fr_word]\n",
        "\n",
        "\n",
        "for en_word in en_fr_test.keys():\n",
        "    fr_word = en_fr_test[en_word]\n",
        "    if fr_word in french_set and en_word in english_set:\n",
        "        en_embeddings_subset[en_word] = en_embeddings[en_word]\n",
        "        fr_embeddings_subset[fr_word] = fr_embeddings[fr_word]\n",
        "\n",
        "\n",
        "pickle.dump( en_embeddings_subset, open( \"en_embeddings.p\", \"wb\" ) )\n",
        "pickle.dump( fr_embeddings_subset, open( \"fr_embeddings.p\", \"wb\" ) )\n",
        "```"
      ]
    },
    {
      "cell_type": "markdown",
      "metadata": {
        "id": "xO6Xcu5Wc1R1"
      },
      "source": [
        "#### The subset of data\n",
        "\n",
        "To do the assignment on the Coursera workspace, we'll use the subset of word embeddings."
      ]
    },
    {
      "cell_type": "code",
      "metadata": {
        "id": "Fm63Btt6dAEJ",
        "outputId": "1c6b55f0-7ca4-40e0-e80d-cc9f6404503d",
        "colab": {
          "base_uri": "https://localhost:8080/"
        }
      },
      "source": [
        "!wget https://github.com/martin-fabbri/colab-notebooks/raw/master/data/nlp/en_embeddings.p \n",
        "!wget https://github.com/martin-fabbri/colab-notebooks/raw/master/data/nlp/fr_embeddings.p\n",
        "!wget https://raw.githubusercontent.com/martin-fabbri/colab-notebooks/master/data/nlp/en-fr.train.txt\n",
        "!wget https://raw.githubusercontent.com/martin-fabbri/colab-notebooks/master/data/nlp/en-fr.test.txt"
      ],
      "execution_count": 4,
      "outputs": [
        {
          "output_type": "stream",
          "text": [
            "--2020-11-06 07:42:45--  https://github.com/martin-fabbri/colab-notebooks/raw/master/data/nlp/en_embeddings.p\n",
            "Resolving github.com (github.com)... 140.82.113.3\n",
            "Connecting to github.com (github.com)|140.82.113.3|:443... connected.\n",
            "HTTP request sent, awaiting response... 302 Found\n",
            "Location: https://raw.githubusercontent.com/martin-fabbri/colab-notebooks/master/data/nlp/en_embeddings.p [following]\n",
            "--2020-11-06 07:42:47--  https://raw.githubusercontent.com/martin-fabbri/colab-notebooks/master/data/nlp/en_embeddings.p\n",
            "Resolving raw.githubusercontent.com (raw.githubusercontent.com)... 151.101.0.133, 151.101.64.133, 151.101.128.133, ...\n",
            "Connecting to raw.githubusercontent.com (raw.githubusercontent.com)|151.101.0.133|:443... connected.\n",
            "HTTP request sent, awaiting response... 200 OK\n",
            "Length: 8119809 (7.7M) [application/octet-stream]\n",
            "Saving to: ‘en_embeddings.p.3’\n",
            "\n",
            "en_embeddings.p.3   100%[===================>]   7.74M  17.0MB/s    in 0.5s    \n",
            "\n",
            "2020-11-06 07:42:48 (17.0 MB/s) - ‘en_embeddings.p.3’ saved [8119809/8119809]\n",
            "\n",
            "--2020-11-06 07:42:48--  https://github.com/martin-fabbri/colab-notebooks/raw/master/data/nlp/fr_embeddings.p\n",
            "Resolving github.com (github.com)... 140.82.113.3\n",
            "Connecting to github.com (github.com)|140.82.113.3|:443... connected.\n",
            "HTTP request sent, awaiting response... 302 Found\n",
            "Location: https://raw.githubusercontent.com/martin-fabbri/colab-notebooks/master/data/nlp/fr_embeddings.p [following]\n",
            "--2020-11-06 07:42:48--  https://raw.githubusercontent.com/martin-fabbri/colab-notebooks/master/data/nlp/fr_embeddings.p\n",
            "Resolving raw.githubusercontent.com (raw.githubusercontent.com)... 151.101.0.133, 151.101.64.133, 151.101.128.133, ...\n",
            "Connecting to raw.githubusercontent.com (raw.githubusercontent.com)|151.101.0.133|:443... connected.\n",
            "HTTP request sent, awaiting response... 200 OK\n",
            "Length: 7355253 (7.0M) [application/octet-stream]\n",
            "Saving to: ‘fr_embeddings.p.3’\n",
            "\n",
            "fr_embeddings.p.3   100%[===================>]   7.01M  16.6MB/s    in 0.4s    \n",
            "\n",
            "2020-11-06 07:42:49 (16.6 MB/s) - ‘fr_embeddings.p.3’ saved [7355253/7355253]\n",
            "\n",
            "--2020-11-06 07:42:49--  https://raw.githubusercontent.com/martin-fabbri/colab-notebooks/master/data/nlp/en-fr.train.txt\n",
            "Resolving raw.githubusercontent.com (raw.githubusercontent.com)... 151.101.0.133, 151.101.64.133, 151.101.128.133, ...\n",
            "Connecting to raw.githubusercontent.com (raw.githubusercontent.com)|151.101.0.133|:443... connected.\n",
            "HTTP request sent, awaiting response... 200 OK\n",
            "Length: 178608 (174K) [text/plain]\n",
            "Saving to: ‘en-fr.train.txt.3’\n",
            "\n",
            "en-fr.train.txt.3   100%[===================>] 174.42K  --.-KB/s    in 0.04s   \n",
            "\n",
            "2020-11-06 07:42:49 (3.84 MB/s) - ‘en-fr.train.txt.3’ saved [178608/178608]\n",
            "\n",
            "--2020-11-06 07:42:49--  https://raw.githubusercontent.com/martin-fabbri/colab-notebooks/master/data/nlp/en-fr.test.txt\n",
            "Resolving raw.githubusercontent.com (raw.githubusercontent.com)... 151.101.0.133, 151.101.64.133, 151.101.128.133, ...\n",
            "Connecting to raw.githubusercontent.com (raw.githubusercontent.com)|151.101.0.133|:443... connected.\n",
            "HTTP request sent, awaiting response... 200 OK\n",
            "Length: 50509 (49K) [text/plain]\n",
            "Saving to: ‘en-fr.test.txt.3’\n",
            "\n",
            "en-fr.test.txt.3    100%[===================>]  49.33K  --.-KB/s    in 0.03s   \n",
            "\n",
            "2020-11-06 07:42:50 (1.88 MB/s) - ‘en-fr.test.txt.3’ saved [50509/50509]\n",
            "\n"
          ],
          "name": "stdout"
        }
      ]
    },
    {
      "cell_type": "code",
      "metadata": {
        "id": "pPcUCgcbZPNW"
      },
      "source": [
        "en_embeddings_subset = pickle.load(open('en_embeddings.p', 'rb'))\n",
        "fr_embeddings_subset = pickle.load(open('fr_embeddings.p', 'rb'))"
      ],
      "execution_count": 5,
      "outputs": []
    },
    {
      "cell_type": "markdown",
      "metadata": {
        "id": "GaL8fBS6eCWv"
      },
      "source": [
        "#### Look at the data\n",
        "\n",
        "* en_embeddings_subset: the key is an English word, and the vaule is a\n",
        "300 dimensional array, which is the embedding for that word.\n",
        "```\n",
        "'the': array([ 0.08007812,  0.10498047,  0.04980469,  0.0534668 , -0.06738281, ....\n",
        "```\n",
        "\n",
        "* fr_embeddings_subset: the key is an French word, and the vaule is a 300\n",
        "dimensional array, which is the embedding for that word.\n",
        "```\n",
        "'la': array([-6.18250e-03, -9.43867e-04, -8.82648e-03,  3.24623e-02,...\n",
        "```"
      ]
    },
    {
      "cell_type": "code",
      "metadata": {
        "id": "Bhnjc-GLZPU0",
        "outputId": "704bb0e2-412e-4df5-b9eb-357761aafbf5",
        "colab": {
          "base_uri": "https://localhost:8080/"
        }
      },
      "source": [
        "type(en_embeddings_subset)"
      ],
      "execution_count": 6,
      "outputs": [
        {
          "output_type": "execute_result",
          "data": {
            "text/plain": [
              "dict"
            ]
          },
          "metadata": {
            "tags": []
          },
          "execution_count": 6
        }
      ]
    },
    {
      "cell_type": "code",
      "metadata": {
        "id": "mDNnMDZLZPas",
        "outputId": "ace46a57-dad5-4aaf-fbf2-fdb5f0c353a0",
        "colab": {
          "base_uri": "https://localhost:8080/"
        }
      },
      "source": [
        "len(en_embeddings_subset)"
      ],
      "execution_count": 7,
      "outputs": [
        {
          "output_type": "execute_result",
          "data": {
            "text/plain": [
              "6370"
            ]
          },
          "metadata": {
            "tags": []
          },
          "execution_count": 7
        }
      ]
    },
    {
      "cell_type": "code",
      "metadata": {
        "id": "LNdUemYiZPX4",
        "outputId": "e8ad182d-1d6a-496d-e077-11497d941401",
        "colab": {
          "base_uri": "https://localhost:8080/"
        }
      },
      "source": [
        "len(en_embeddings_subset['the'])"
      ],
      "execution_count": 8,
      "outputs": [
        {
          "output_type": "execute_result",
          "data": {
            "text/plain": [
              "300"
            ]
          },
          "metadata": {
            "tags": []
          },
          "execution_count": 8
        }
      ]
    },
    {
      "cell_type": "markdown",
      "metadata": {
        "id": "XnddbZ1UgNAx"
      },
      "source": [
        "#### Load two dictionaries mapping the English to French words\n",
        "* A training dictionary\n",
        "* and a testing dictionary."
      ]
    },
    {
      "cell_type": "code",
      "metadata": {
        "id": "Nb7hIkSkZPRl",
        "outputId": "7888295a-7faf-4721-b840-8d5c0225e5ce",
        "colab": {
          "base_uri": "https://localhost:8080/"
        }
      },
      "source": [
        "# loading the english to french dictionaries\n",
        "en_fr_train = get_dict('en-fr.train.txt')\n",
        "print('The length of the English to French training dictionary is', len(en_fr_train))\n",
        "en_fr_test = get_dict('en-fr.test.txt')\n",
        "print('The length of the English to French test dictionary is', len(en_fr_train))"
      ],
      "execution_count": 9,
      "outputs": [
        {
          "output_type": "stream",
          "text": [
            "The length of the English to French training dictionary is 5000\n",
            "The length of the English to French test dictionary is 5000\n"
          ],
          "name": "stdout"
        }
      ]
    },
    {
      "cell_type": "markdown",
      "metadata": {
        "id": "KwirvY4DhdCf"
      },
      "source": [
        "#### Looking at the English French dictionary\n",
        "\n",
        "* `en_fr_train` is a dictionary where the key is the English word and the value\n",
        "is the French translation of that English word.\n",
        "```\n",
        "{'the': 'la',\n",
        " 'and': 'et',\n",
        " 'was': 'était',\n",
        " 'for': 'pour',\n",
        "```\n",
        "\n",
        "* `en_fr_test` is similar to `en_fr_train`, but is a test set.  We won't look at it\n",
        "until we get to testing."
      ]
    },
    {
      "cell_type": "code",
      "metadata": {
        "id": "OrInXZXaZPKz",
        "outputId": "0c2f78e7-3ed0-4138-ecf7-011f15abe6d2",
        "colab": {
          "base_uri": "https://localhost:8080/",
          "height": 35
        }
      },
      "source": [
        "en_fr_train['the']"
      ],
      "execution_count": 10,
      "outputs": [
        {
          "output_type": "execute_result",
          "data": {
            "application/vnd.google.colaboratory.intrinsic+json": {
              "type": "string"
            },
            "text/plain": [
              "'la'"
            ]
          },
          "metadata": {
            "tags": []
          },
          "execution_count": 10
        }
      ]
    },
    {
      "cell_type": "code",
      "metadata": {
        "id": "J6d14JkiZO8S",
        "outputId": "196ba950-4026-432b-f356-1721a4e48bac",
        "colab": {
          "base_uri": "https://localhost:8080/",
          "height": 35
        }
      },
      "source": [
        "en_fr_train['people']"
      ],
      "execution_count": 11,
      "outputs": [
        {
          "output_type": "execute_result",
          "data": {
            "application/vnd.google.colaboratory.intrinsic+json": {
              "type": "string"
            },
            "text/plain": [
              "'personnes'"
            ]
          },
          "metadata": {
            "tags": []
          },
          "execution_count": 11
        }
      ]
    },
    {
      "cell_type": "markdown",
      "metadata": {
        "id": "zcwwPDYahoGR"
      },
      "source": [
        "<a name=\"1-1\"></a>\n",
        "\n",
        "## 1.1 Generate embedding and transform matrices\n",
        "\n",
        "<a name=\"ex-01\"></a>\n",
        "#### Exercise 01: Translating English dictionary to French by using embeddings\n",
        "\n",
        "You will now implement a function `get_matrices`, which takes the loaded data\n",
        "and returns matrices `X` and `Y`.\n",
        "\n",
        "Inputs:\n",
        "- `en_fr` : English to French dictionary\n",
        "- `en_embeddings` : English to embeddings dictionary\n",
        "- `fr_embeddings` : French to embeddings dictionary\n",
        "\n",
        "Returns:\n",
        "- Matrix `X` and matrix `Y`, where each row in X is the word embedding for an\n",
        "english word, and the same row in Y is the word embedding for the French\n",
        "version of that English word.\n",
        "\n",
        "<div style=\"width:image width px; font-size:100%; text-align:center;\">\n",
        "<img src='https://github.com/martin-fabbri/colab-notebooks/raw/master/deeplearning.ai/nlp/images/X_to_Y.jpg' alt=\"alternate text\" width=\"width\" height=\"height\" style=\"width:800px;height:200px;\" /> Figure 2 </div>\n",
        "\n",
        "Use the `en_fr` dictionary to ensure that the ith row in the `X` matrix\n",
        "corresponds to the ith row in the `Y` matrix."
      ]
    },
    {
      "cell_type": "markdown",
      "metadata": {
        "id": "slIZj8GFimuB"
      },
      "source": [
        "**Instructions**: Complete the function `get_matrices()`:\n",
        "* Iterate over English words in `en_fr` dictionary.\n",
        "* Check if the word have both English and French embedding."
      ]
    },
    {
      "cell_type": "markdown",
      "metadata": {
        "id": "lb4vGXili6yj"
      },
      "source": [
        "<details>\n",
        "<summary>\n",
        "    <font size=\"3\" color=\"darkgreen\"><b>Hints</b></font>\n",
        "</summary>\n",
        "    <p>\n",
        "        <ul>\n",
        "            <li><a href=\"https://realpython.com/python-sets/#set-size-and-membership\" >Sets</a> are useful data structures that can be used to check if an item is a member of a group.</li>\n",
        "            <li>You can get words which are embedded into the language by using <a href=\"https://www.w3schools.com/python/ref_dictionary_keys.asp\"> keys</a> method.</li>\n",
        "            <li>Keep vectors in `X` and `Y` sorted in list. You can use <a href=\"https://docs.scipy.org/doc/numpy-1.13.0/reference/generated/numpy.ma.vstack.html\"> np.vstack()</a> to merge them into the numpy matrix. </li>\n",
        "            <li><a href=\"https://docs.scipy.org/doc/numpy/reference/generated/numpy.vstack.html\">numpy.vstack</a> stacks the items in a list as rows in a matrix.</li>\n",
        "        </ul>\n",
        "    </p>"
      ]
    },
    {
      "cell_type": "code",
      "metadata": {
        "id": "V6XtsL34j2Vt",
        "outputId": "bed49ab1-bdf7-4f23-9445-72307d347750",
        "colab": {
          "base_uri": "https://localhost:8080/"
        }
      },
      "source": [
        "a = np.array([1, 2, 4])\n",
        "b = np.array([5, 6, 7])\n",
        "c = np.vstack((a, b))\n",
        "d = np.array([8, 9, 10])\n",
        "e = np.vstack((c, d))\n",
        "e"
      ],
      "execution_count": 12,
      "outputs": [
        {
          "output_type": "execute_result",
          "data": {
            "text/plain": [
              "array([[ 1,  2,  4],\n",
              "       [ 5,  6,  7],\n",
              "       [ 8,  9, 10]])"
            ]
          },
          "metadata": {
            "tags": []
          },
          "execution_count": 12
        }
      ]
    },
    {
      "cell_type": "code",
      "metadata": {
        "id": "SasZk6pOpgtE",
        "outputId": "515e1fa0-935e-4e4d-94a3-af3c9223ea4b",
        "colab": {
          "base_uri": "https://localhost:8080/"
        }
      },
      "source": [
        "l = list()\n",
        "l.append([1, 2, 4])\n",
        "l.append([5, 6, 7])\n",
        "l.append([8, 9, 10])\n",
        "e = np.vstack(l)\n",
        "e"
      ],
      "execution_count": 13,
      "outputs": [
        {
          "output_type": "execute_result",
          "data": {
            "text/plain": [
              "array([[ 1,  2,  4],\n",
              "       [ 5,  6,  7],\n",
              "       [ 8,  9, 10]])"
            ]
          },
          "metadata": {
            "tags": []
          },
          "execution_count": 13
        }
      ]
    },
    {
      "cell_type": "code",
      "metadata": {
        "id": "L7Ca57Muk7c9",
        "outputId": "f375d30e-0019-4ca2-fa92-7b73d58ce2ac",
        "colab": {
          "base_uri": "https://localhost:8080/"
        }
      },
      "source": [
        "e = {k for k in en_embeddings_subset.keys()}\n",
        "type(e)"
      ],
      "execution_count": 14,
      "outputs": [
        {
          "output_type": "execute_result",
          "data": {
            "text/plain": [
              "set"
            ]
          },
          "metadata": {
            "tags": []
          },
          "execution_count": 14
        }
      ]
    },
    {
      "cell_type": "code",
      "metadata": {
        "id": "9qe6b0AvmQf4",
        "outputId": "1fb0e3f5-a482-4903-b37d-76f58e9a2ddf",
        "colab": {
          "base_uri": "https://localhost:8080/"
        }
      },
      "source": [
        "f = {k for k in fr_embeddings_subset.keys()}\n",
        "type(f)"
      ],
      "execution_count": 15,
      "outputs": [
        {
          "output_type": "execute_result",
          "data": {
            "text/plain": [
              "set"
            ]
          },
          "metadata": {
            "tags": []
          },
          "execution_count": 15
        }
      ]
    },
    {
      "cell_type": "code",
      "metadata": {
        "id": "wutz8GQDmpey",
        "outputId": "53991794-419d-4e2e-c649-c4d834fafcf8",
        "colab": {
          "base_uri": "https://localhost:8080/"
        }
      },
      "source": [
        "en_fr_train.values()"
      ],
      "execution_count": 16,
      "outputs": [
        {
          "output_type": "execute_result",
          "data": {
            "text/plain": [
              "dict_values(['la', 'et', 'était', 'pour', 'cela', 'avec', 'depuis', 'ce', 'tuc', 'son', 'pas', 'sont', 'parlez', 'lequel', 'egalement', 'étaient', 'mais', 'ont', 'one', 'nouveautés', 'premiers', 'page', 'you', 'eux', 'avais', 'article', 'who', 'all', 'leurs', 'là', 'fabriqué', 'son', 'personnes', 'peut', 'aprés', 'autres', 'devrais', 'deux', 'partition', 'her', 'peut', 'ferait', 'plus', 'elle', 'quand', 'heure', 'equipe', 'américains', 'telles', 'débat', 'liens', 'seule', 'quelques', 'vois', 'unies', 'ans', 'école', 'mondiale', 'universitaire', 'lors', 'out', 'état', 'états', 'nationales', 'wikipedia', 'année', 'most', 'villes', 'utilisée', 'puis', 'comté', 'externes', 'où', 'sera', 'quelle', 'effacer', 'ces', 'janvier', 'mars', 'août', 'juillet', 'être', 'film', 'lui', 'plusieurs', 'sud', 'septembre', 'aimez', 'entre', 'octobre', 'three', 'juin', 'bah', 'utilisez', 'war', 'under', 'eux', 'avril', 'born', 'decembre', 'lien', 'ultérieur', 'partie', 'novembre', 'joueurs', 'listes', 'svp', 'suivant', 'février', 'connu', 'seconde', 'noms', 'groupe', 'historique', 'séries', 'juste', 'nord', 'travailler', 'avant', 'puisque', 'saisons', 'both', 'élevé', 'via', 'district', 'maintenant', 'observations', 'parceque', 'football', 'musique', 'cependant', 'diff', 'century', 'ligue', 'modifications', 'débat', 'titre', 'articles', 'john', 'même', 'comprenant', 'pourraient', 'anglais', 'album', 'numéro', 'against', 'familles', 'usager', 'basé', 'domaine', 'devint', 'york', 'vie', 'britannique', 'internationale', 'jeu', 'club', 'vos', 'tôt', 'meilleurs', 'west', 'maison', 'société', 'général', 'gauche', 'trés', 'voici', 'don', 'vivre', 'journee', 'plusieurs', 'lieu', 'fête', 'université', 'résultat', 'conserver', 'appropriée', 'quatre', 'même', 'classe', 'gouvernements', 'comment', 'appelés', 'did', 'chacun', 'trouvés', 'centre', 'per', 'style', 'com', 'long', 'pays', 'revenir', 'way', 'www', 'modifier', 'fin', 'faire', 'publique', 'joué', 'gagnés', 'another', 'libéré', 'ajoutée', 'appui', 'jeux', 'ancienne', 'ceux', 'films', 'eglise', 'orient', 'line', 'majeur', 'adhérents', 'bonnes', 'beaucoup', 'image', 'spectacle', 'toujours', 'réfléchir', 'dessous', 'ville', 'dernières', 'système', 'droit', 'chanson', 'remarquables', 'section', 'célibataires', 'compris', 'alignement', 'accueil', 'femme', 'télé', 'semence', 'membre', 'objectifs', 'sources', 'réserver', 'gare', 'commander', 'vieille', 'information', 'définir', 'posséder', 'texte', 'bande', 'point', 'locaux', 'alentour', 'rivière', 'haut', 'principaux', 'langues', 'françaises', 'https', 'nommés', 'hors', 'notez', 'carrière', 'originaux', 'âges', 'service', 'établis', 'situé', 'disait', 'site', 'population', 'air', 'allemande', 'droit', 'militaires', 'grand', 'clubs', 'publié', 'président', 'parc', 'officiel', 'affaire', 'londres', 'fois', 'quoique', 'petite', 'troisièmement', 'différent', 'dû', 'obtenir', 'village', 'clos', 'artistique', 'lecteur', 'définitive', 'collectivité', 'tenu', 'encore', 'commencé', 'armée', 'récompense', 'sans', 'mort', 'construits', 'homme', 'grand', 'site', 'utilisant', 'suppression', 'blanc', 'cinq', 'centrale', 'chemin', 'enfant', 'libre', 'prit', 'angleterre', 'inclut', 'association', 'descendre', 'donnés', 'sources', 'californienne', 'homme', 'version', 'écrits', 'créés', 'médias', 'noirs', 'php', 'rapport', 'bâtiment', 'prends', 'circonscription', 'commenter', 'avoir', 'king', 'éditer', 'stadium', 'mort', 'vaisseau', 'recherche', 'enregistrer', 'archives', 'lieux', 'défaire', 'coupe', 'records', 'souvent', 'peu', 'reçue', 'latéral', 'pouvoir', 'éducation', 'savoir', 'catégories', 'eau', 'espèce', 'domaine', 'près', 'australie', 'video', 'besoin', 'île', 'formulaire', 'trouvez', 'desservis', 'jouez', 'projet', 'radio', 'oeuvres', 'proposés', 'chaque', 'développement', 'exemple', 'vivre', 'syndicat', 'indes', 'next', 'spéciale', 'cour', 'région', 'petite', 'courtes', 'william', 'province', 'western', 'fiston', 'france', 'conseil', 'autres', 'royaux', 'actuelle', 'rue', 'complet', 'rouge', 'too', 'département', 'san', 'aide', 'parmi', 'préservées', 'james', 'ouvrir', 'forcer', 'position', 'têtes', 'réalisateur', 'père', 'morceau', 'http', 'canada', 'never', 'australie', 'george', 'jpg', 'niveau', 'tard', 'été', 'société', 'déplacée', 'bureau', 'période', 'championnat', 'ronds', 'récit', 'chansons', 'diverses', 'fichier', 'journées', 'terres', 'entreprises', 'raison', 'amérique', 'millions', 'européen', 'terme', 'six', 'publication', 'why', 'produites', 'sujet', 'jeune', 'totaux', 'david', 'sciences', 'liés', 'rock', 'archivés', 'ferroviaire', 'devenir', 'led', 'élèves', 'commencée', 'actualités', 'décrite', 'rôle', 'élections', 'albums', 'présenter', 'indien', 'royaume', 'livres', 'importants', 'nord', 'love', 'exécuter', 'canadien', 'presse', 'plutôt', 'tapez', 'act', 'editeur', 'vint', 'écoles', 'programme', 'once', 'social', 'allemagne', 'production', 'homme', 'pourrait', 'récompenses', 'points', 'semblable', 'professionnelles', 'dis', 'contexte', 'assez', 'plomb', 'soit', 'commun', 'chevauchements', 'données', 'couleurs', 'meilleur', 'personne', 'services', 'bgcolor', 'musée', 'combat', 'allé', 'sports', 'dejà', 'présentement', 'hall', 'édifices', 'historiques', 'date', 'supprimées', 'considérés', 'changement', 'lieu', 'semble', 'devez', 'yes', 'nos', 'méridionale', 'perdus', 'quelquechose', 'révision', 'together', 'thierry', 'moins', 'japonaises', 'groupes', 'contenus', 'impliquée', 'isbn', 'planche', 'japon', 'contrôle', 'politique', 'modernes', 'humain', 'demi', 'conception', 'evénement', 'événements', 'disponibles', 'faite', 'washington', 'vraie', 'début', 'personnels', 'action', 'espace', 'zones', 'étoiles', 'réellement', 'chine', 'possibles', 'paul', 'travailler', 'prise', 'loin', 'aller', 'ministre', 'lac', 'signalée', 'populaire', 'marié', 'fondée', 'europe', 'auteur', 'loin', 'indépendants', 'procédé', 'equipes', 'personnage', 'bas', 'michel', 'pages', 'léger', 'grand', 'vus', 'libèrent', 'voulez', 'episode', 'écrit', 'république', 'thomas', 'sociétés', 'via', 'russe', 'remerciements', 'mettre', 'race', 'travaillé', 'parcours', 'enregistré', 'someone', 'civiles', 'policier', 'charles', 'répertoriés', 'utilisateurs', 'modèle', 'oriental', 'corps', 'question', 'italiens', 'vedettes', 'semaines', 'éditeurs', 'texas', 'chef', 'proche', 'match', 'romains', 'venir', 'ouvert', 'tournée', 'mer', 'croisé', 'jouant', 'santé', 'institut', 'bouchons', 'forces', 'vertes', 'droits', 'preuves', 'initialement', 'avions', 'arts', 'portée', 'sûrement', 'consensus', 'barre', 'problématique', 'regardes', 'problèmes', 'anciens', 'moyenne', 'réseau', 'gagnant', 'spectacles', 'femme', 'retournée', 'soir', 'magasine', 'centre', 'rejoint', 'généralement', 'milieu', 'terminé', 'élus', 'significatifs', 'africaines', 'capable', 'google', 'scène', 'ajout', 'irlande', 'aujourdhui', 'academy', 'saint', 'self', 'soi', 'continué', 'stations', 'maman', 'semblait', 'afrique', 'culture', 'espagnols', 'grand', 'comité', 'choses', 'incendies', 'changée', 'gold', 'femme', 'cours', 'orienté', 'mois', 'chinoise', 'précédents', 'développé', 'tailles', 'mentionnés', 'ajoutez', 'fête', 'pierre', 'basketball', 'déplacer', 'rendement', 'standard', 'signifie', 'donnez', 'entraînement', 'artistes', 'mot', 'bleues', 'primaires', 'annoncée', 'valeur', 'chrétien', 'privés', 'catholiques', 'artistes', 'comprend', 'visualiser', 'ainsi', 'quasiment', 'baseball', 'sept', 'apparait', 'ever', 'fournissent', 'technologie', 'olympiques', 'avenir', 'formée', 'recensement', 'images', 'los', 'résultats', 'revenir', 'qualité', 'construction', 'zélande', 'devant', 'housse', 'maquette', 'malgré', 'lis', 'matériau', 'fort', 'entraîneur', 'henry', 'footballeurs', 'mark', 'rev', 'organisation', 'études', 'fédérales', 'richard', 'html', 'virginia', 'voiture', 'attaquer', 'conférence', 'exterieur', 'étude', 'frere', 'noms', 'scénariste', 'caractères', 'musical', 'rien', 'bordure', 'médical', 'pays', 'passés', 'écrire', 'rend', 'intérêt', 'fournis', 'tués', 'médailles', 'signés', 'étiquettes', 'équitables', 'recherchez', 'bay', 'référence', 'spécialement', 'supprimé', 'librairie', 'finalement', 'gestion', 'références', 'fonctionnalités', 'marine', 'guitares', 'colline', 'sûr', 'historiques', 'inférieure', 'fille', 'nommés', 'lire', 'pourtant', 'systèmes', 'débuts', 'mouvement', 'spécifique', 'toujours', 'acteur', 'naturelle', 'effacer', 'côte', 'let', 'got', 'chicago', 'championnats', 'pennsylvanie', 'ten', 'effectué', 'individuel', 'conçus', 'règle', 'etc', 'listes', 'paris', 'pensée', 'brune', 'hand', 'besoins', 'fiables', 'forgeron', 'généralement', 'base', 'parfois', 'floride', 'capital', 'vallée', 'banque', 'moulu', 'atteint', 'italie', 'energie', 'crois', 'leader', 'actifs', 'online', 'blocage', 'passerelle', 'familles', 'changements', 'suivies', 'industrie', 'collecte', 'demandez', 'bientot', 'olympiques', 'vendu', 'écrivains', 'professeure', 'studio', 'mexique', 'concours', 'campagne', 'org', 'théâtres', 'particulier', 'empire', 'longueurs', 'iles', 'chanteuse', 'créent', 'réorienter', 'additionnel', 'soviétiques', 'marché', 'mots', 'producteurs', 'notes', 'hockey', 'code', 'arbitre', 'quatrièmement', 'sport', 'van', 'myriam', 'aéroport', 'son', 'statut', 'irlandais', 'placé', 'enfant', 'idée', 'étrangères', 'municipalité', 'registre', 'eight', 'problèmes', 'autochtone', 'couverture', 'channel', 'parlement', 'pseudo', 'édition', 'mineur', 'dit', 'fondations', 'unités', 'film', 'glace', 'simplement', 'limités', 'unit', 'etudiant', 'précédemment', 'déclaré', 'gouverneur', 'complet', 'tester', 'désignés', 'facturer', 'parties', 'voix', 'théorie', 'régional', 'compte', 'voter', 'ordinateur', 'aucune', 'carolina', 'tournoi', 'pologne', 'derrière', 'galles', 'gagnant', 'lot', 'hôpitaux', 'mid', 'prenant', 'montagnes', 'supérieur', 'cas', 'angeles', 'édition', 'remplacés', 'alimentation', 'plusieurs', 'probablement', 'termes', 'monsieur', 'chose', 'carrées', 'essaye', 'sujet', 'femme', 'officier', 'catégories', 'grec', 'récente', 'envoyé', 'copyright', 'vitesse', 'gabarits', 'argent', 'scie', 'senior', 'sélectionné', 'introduites', 'politicien', 'véritable', 'requis', 'régulier', 'décernés', 'commerciale', 'villes', 'contient', 'échanges', 'degré', 'anti', 'naissance', 'soleil', 'terminé', 'rugby', 'terre', 'accéder', 'prieur', 'saisons', 'journal', 'début', 'logiciels', 'célèbres', 'religieuse', 'apparaissent', 'martin', 'dieu', 'bits', 'heures', 'courir', 'amenés', 'disparu', 'economique', 'structure', 'rural', 'restait', 'décision', 'certaines', 'frapper', 'minutes', 'espagne', 'joue', 'entier', 'joseph', 'seigneur', 'enchaînement', 'décidé', 'opérations', 'fonction', 'louis', 'assemblage', 'queen', 'sécurité', 'utilisations', 'ohio', 'possédés', 'yann', 'opération', 'appelle', 'réussie', 'légale', 'russie', 'prince', 'juive', 'personnel', 'établissements', 'but', 'vers', 'acceptez', 'mauvais', 'participation', 'peuplées', 'nature', 'autorisées', 'capitaine', 'monture', 'calculée', 'structures', 'dure', 'dicton', 'gérant', 'elections', 'rencontrer', 'boite', 'lignes', 'démocratiques', 'réussite', 'associées', 'célibataires', 'traditionnels', 'repose', 'autoroutes', 'particulièrement', 'vaste', 'mois', 'soin', 'administrateur', 'culturel', 'commission', 'plan', 'pratiques', 'commande', 'nomination', 'jersey', 'parties', 'michigan', 'quiconque', 'chevauchements', 'environ', 'maître', 'noté', 'usa', 'arrêtez', 'caractéristique', 'moteur', 'réaction', 'requis', 'illinois', 'afd', 'expérience', 'génie', 'argenté', 'séparer', 'prend', 'secrétaire', 'hollandais', 'lee', 'enregistrement', 'prime', 'regles', 'téléchargée', 'essayer', 'jeunes', 'ecosse', 'iii', 'maisons', 'coeur', 'chambres', 'pierres', 'montré', 'aubaine', 'dramatique', 'scores', 'mort', 'clés', 'abattu', 'tournez', 'occupation', 'écossais', 'exécutif', 'plante', 'promues', 'villages', 'langues', 'internet', 'congé', 'ressentir', 'couverts', 'fusion', 'surtout', 'nombreuses', 'ancienne', 'tentative', 'propriété', 'programmes', 'image', 'finalement', 'vaisseaux', 'fiction', 'regardant', 'secondaire', 'nations', 'majoritaires', 'édouard', 'annuel', 'digital', 'mission', 'vécu', 'revendiquer', 'seat', 'bbc', 'profils', 'danser', 'faire', 'georgie', 'port', 'pacifique', 'chateau', 'pass', 'transport', 'organisations', 'ratio', 'récemment', 'fall', 'mondiaux', 'époque', 'ailes', 'avis', 'commandant', 'fort', 'effet', 'ouverture', 'amende', 'objectif', 'hivers', 'genre', 'congrès', 'globalement', 'activités', 'rencontrés', 'revenus', 'massachusetts', 'vient', 'aîné', 'crête', 'manque', 'bass', 'super', 'complexes', 'académique', 'étoiles', 'comptes', 'aspect', 'asiatique', 'demandé', 'amis', 'aimable', 'financier', 'entrée', 'asiatique', 'sens', 'signifiant', 'actrice', 'carte', 'destiné', 'bishop', 'boston', 'tarif', 'littérature', 'foret', 'voix', 'jack', 'pré', 'justice', 'champion', 'doubles', 'polonais', 'nombres', 'columbia', 'tempe', 'vaincue', 'administration', 'revendications', 'jones', 'paroisse', 'israel', 'comédiens', 'sœur', 'nine', 'marqué', 'tableau', 'participé', 'pop', 'journal', 'amis', 'inconnues', 'lauréat', 'diagramme', 'initialement', 'pertes', 'sites', 'démarrage', 'architecture', 'relations', 'supérieur', 'supporté', 'pistes', 'contrat', 'face', 'directement', 'dépensés', 'fillette', 'clairement', 'junior', 'francisco', 'politique', 'présenté', 'mar', 'cause', 'volume', 'causées', 'tom', 'vol', 'candidat', 'allumettes', 'revendiqué', 'excepté', 'pétrole', 'assistante', 'surface', 'victoires', 'régiment', 'histoires', 'représentés', 'obtient', 'speedy', 'semaines', 'permettre', 'embranchement', 'retraité', 'collectivités', 'train', 'papiers', 'ajoutant', 'fournit', 'demeure', 'victoria', 'métalliques', 'erroné', 'directs', 'frank', 'miles', 'bloqués', 'lancés', 'messe', 'président', 'comique', 'relation', 'connaissance', 'format', 'creek', 'réunion', 'échoué', 'officiers', 'brouillon', 'goes', 'bagarre', 'figure', 'faculté', 'camps', 'couru', 'variété', 'propriétaire', 'statistique', 'soulevées', 'lourds', 'alexander', 'seule', 'comprends', 'épisodes', 'éducatif', 'quotidienne', 'williams', 'latines', 'completement', 'produits', 'sombre', 'attention', 'religieux', 'von', 'mind', 'opposer', 'corps', 'administratifs', 'coupe', 'scott', 'devenir', 'footballeur', 'jean', 'maires', 'pro', 'plages', 'descente', 'presque', 'quittant', 'hautement', 'plâtre', 'territoire', 'rédiger', 'bourgs', 'formulaires', 'joe', 'intérieur', 'voulait', 'solide', 'individuels', 'autorité', 'mentionner', 'projets', 'del', 'poursuivre', 'coûts', 'vice', 'conduire', 'avis', 'johnson', 'forcée', 'fondement', 'looks', 'raisons', 'photo', 'espérance', 'bûche', 'parents', 'entrés', 'mike', 'basic', 'scientifique', 'montant', 'ressort', 'oxford', 'kong', 'opéra', 'tenté', 'critiques', 'simples', 'fondatrice', 'hong', 'raconté', 'mari', 'utiles', 'techniques', 'nécessaire', 'croyait', 'opéré', 'montagne', 'importance', 'musiciens', 'hôtel', 'filles', 'équipages', 'février', 'boy', 'ontario', 'nation', 'défense', 'wiki', 'champions', 'doré', 'quartiers', 'foi', 'courses', 'essentiellement', 'automatique', 'vies', 'suédois', 'sexy', 'divertissement', 'tournés', 'filet', 'soccer', 'création', 'produits', 'tower', 'augmentée', 'voix', 'escadrons', 'contemporaine', 'concentrer', 'mariage', 'questions', 'navales', 'détail', 'forward', 'mémorial', 'paix', 'gardé', 'iran', 'coréenne', 'analyse', 'vainqueurs', 'pauvres', 'grade', 'criquet', 'juge', 'electrique', 'exister', 'corporation', 'tenez', 'campus', 'brésil', 'christophe', 'beyond', 'cinquième', 'accroissement', 'résumé', 'restants', 'déclaration', 'diffuser', 'obtenir', 'piano', 'romans', 'servir', 'heure', 'déménager', 'résolution', 'concept', 'alternatif', 'brothers', 'attentats', 'encyclopédie', 'républicains', 'représentants', 'politiciens', 'difficile', 'aptitude', 'étudiés', 'hôte', 'mur', 'aussitôt', 'urbains', 'pakistan', 'devient', 'marine', 'physiques', 'déc', 'troupes', 'interview', 'venir', 'semi', 'suggérer', 'empereurs', 'lettre', 'couple', 'duc', 'galeries', 'suivi', 'fenêtres', 'arbres', 'hits', 'jazz', 'protection', 'pertinents', 'comte', 'situation', 'critiques', 'contenant', 'classiques', 'offert', 'dame', 'hollande', 'reportages', 'influencer', 'adresse', 'linéaire', 'considérons', 'machine', 'domaine', 'eléments', 'minnesota', 'types', 'nov', 'servez', 'sydney', 'ministère', 'blood', 'distances', 'fond', 'donnant', 'garçons', 'potentiel', 'montréal', 'édité', 'infanterie', 'jun', 'autrefois', 'oct', 'conflit', 'travailleurs', 'steve', 'philadelphia', 'aidés', 'der', 'nationalités', 'dispute', 'scène', 'méthode', 'titres', 'berlin', 'conditions', 'armes', 'courses', 'découvertes', 'fer', 'étendue', 'eglises', 'sinon', 'positifs', 'santa', 'imperial', 'composé', 'ballon', 'largeurs', 'vite', 'correcte', 'responsables', 'possiblement', 'indiana', 'soldats', 'exemples', 'coréenne', 'genres', 'poisson', 'sénat', 'effets', 'revolver', 'vérifier', 'apparences', 'plans', 'renommée', 'signez', 'signaler', 'suède', 'consiste', 'patrimoine', 'balise', 'principalement', 'docteur', 'dirigeants', 'mensonges', 'inc', 'rivières', 'crime', 'libérales', 'stand', 'bob', 'existants', 'publication', 'industriel', 'reponse', 'scission', 'avr', 'sexe', 'mixte', 'agir', 'personnel', 'rail', 'meurs', 'premier', 'démarche', 'wisconsin', 'peine', 'racine', 'normes', 'bd', 'gagnées', 'mlle', 'spécialement', 'jument', 'réelle', 'cotisations', 'lieutenant', 'bois', 'végétaux', 'initiales', 'origines', 'environnement', 'jolies', 'classer', 'autobus', 'gaz', 'direction', 'guide', 'ressources', 'accepté', 'animaux', 'nor', 'activité', 'niveaux', 'lois', 'jim', 'créer', 'cambridge', 'compositrice', 'supprimez', 'agence', 'réserver', 'atlantique', 'suprêmes', 'poids', 'demande', 'bagarre', 'jackson', 'largement', 'rosé', 'traitement', 'liés', 'andré', 'procès', 'agrandi', 'daniel', 'certainement', 'infos', 'sciences', 'fame', 'tout', 'avenue', 'voyages', 'échelle', 'briser', 'oregon', 'produisent', 'capacités', '#efefef', 'fictif', 'échanger', 'actions', 'citée', 'généralement', 'accord', 'traductions', 'hommes', 'kansas', 'géré', 'apporter', 'charge', 'échoue', 'dévouée', 'proche', 'résidents', 'morceau', 'croissance', 'confiance', 'appliqué', 'fûts', 'délivré', 'meurtres', 'normal', 'vingt', 'évitez', 'tony', 'norvégienne', 'critères', 'contexte', 'proposé', 'révolution', 'totalement', 'guerres', 'aug', 'feuilles', 'avancée', 'distribution', 'médicament', 'jardin', 'atteindre', 'dinde', 'femelles', 'publications', 'incidence', 'ménages', 'sondage', 'hauteur', 'matinale', 'honorer', 'profonde', 'arguments', 'publication', 'arthur', 'élisabeth', 'homonymie', 'worth', 'colorado', 'médian', 'maryland', 'falls', 'zone', 'soliste', 'apprentissage', 'paie', 'résout', 'choix', 'drapeaux', 'ingénieur', 'voitures', 'fermes', 'wilson', 'principal', 'acquis', 'construits', 'secrète', 'poètes', 'construire', 'rester', 'orchestre', 'versions', 'suit', 'réparé', 'efforts', 'documentaires', 'equipement', 'ray', 'jaune', 'gardien', 'pressions', 'grant', 'prison', 'liberté', 'norvège', 'magasin', 'taylor', 'trimestre', 'désignées', 'indépendance', 'plateformes', 'rome', 'institutrice', 'copie', 'effort', 'nucléaire', 'photos', 'modèles', 'sep', 'aisément', 'remercier', 'description', 'convenu', 'institutions', 'housses', 'installations', 'cibler', 'stack', 'justification', 'stat', 'combinés', 'bronze', 'trier', 'hébergés', 'programmation', 'sri', 'ferroviaire', 'unique', 'défini', 'océan', 'cellule', 'missouri', 'concert', 'améliorer', 'biographiques', 'prêt', 'contacte', 'saint', 'tennessee', 'sub', 'securite', 'étienne', 'politiques', 'peintures', 'tarif', 'entièrement', 'mexicain', 'leadership', 'voler', 'message', 'municipaux', 'sérieuse', 'siège', 'officiellement', 'cimetière', 'mémoire', 'champs', 'générations', 'rejoindre', 'copie', 'finales', 'renards', 'continue', 'représentante', 'détruites', 'pieds', 'gars', 'philippins', 'révélée', 'organisées', 'sert', 'conservateurs', 'partagez', 'maria', 'maladies', 'sections', 'philosophie', 'façons', 'arrivé', 'divisés', 'plancher', 'logos', 'cancer', 'offre', 'impôt', 'attendu', 'circulation', 'préoccupations', 'diplômé', 'invités', 'juifs', 'signifiait', 'economie', 'storm', 'raconte', 'mile', 'protégé', 'bol', 'lettres', 'fournissant', 'commence', 'classiques', 'dommage', 'harry', 'offre', 'davis', 'défi', 'vues', 'marqués', 'permet', 'densité', 'littéraires', 'htm', 'ben', 'transport', 'kentucky', 'vente', 'flotte', 'soutenir', 'capturés', 'extra', 'reconnus', 'arizona', 'comparé', 'thème', 'françois', 'moscou', 'intéressé', 'entendus', 'comportement', 'transféré', 'environnemental', 'blanc', 'musicien', 'assigné', 'sièges', 'tennis', 'pourcentage', 'grumes', 'affiche', 'convention', 'anneau', 'joint', 'brian', 'adjointe', 'prévue', 'universités', 'yards', 'communiste', 'agent', 'différence', 'animal', 'tchèques', 'positions', 'exactement', 'rester', 'titré', 'combat', 'palace', 'ordonnée', 'opposition', 'tentatives', 'compréhensive', 'lutter', 'critiques', 'croissante', 'établir', 'mains', 'participé', 'poésie', 'materiaux', 'turcs', 'payés', 'promotion', 'apparement', 'bataillon', 'portable', 'additions', 'rangée', 'fusionné', 'metropolitan', 'chiffres', 'existence', 'œil', 'louisiane', 'lewis', 'melbourne', 'autriche', 'brigade', 'écran', 'risque', 'mené', 'lats', 'interdire', 'législatif', 'définitions', 'effectivement', 'dessiner', 'candidature', 'acier', 'présence', 'expansion', 'comte', 'maximum', 'sauvages', 'planification', 'comique', 'adoptés', 'facilité', 'plus', 'joyeuse', 'actes', 'classes', 'iowa', 'sauver', 'victoires', 'théâtre', 'existe', 'rôles', 'chance', 'prévenir', 'linecolor', 'candidats', 'objet', 'ressenti', 'powers', 'oiseaux', 'répandre', 'vaincre', 'cap', 'identifiés', 'régions', 'mien', 'côtés', 'jul', 'montrant', 'enseignement', 'directives', 'simon', 'profondeurs', 'lyrique', 'noel', 'refusé', 'grèce', 'expresse', 'fédération', 'journaliste', 'intelligence', 'connexion', 'affichés', 'portugais', 'déclarés', 'constitution', 'présidentiel', 'standing', 'sons', 'parcelle', 'dates', 'extrémités', 'pilotes', 'relativement', 'recevoir', 'éduqué', 'opposés', 'manchester', 'queensland', 'américains', 'introduction', 'directeurs', 'véhicule', 'stock', 'véhicules', 'israéliennes', 'fréquemment', 'collines', 'exécutant', 'northwest', 'médicament', 'visiter', 'portion', 'résidence', 'walter', 'pov', 'intéressants', 'moon', 'limiter', 'minute', 'bell', 'athlétisme', 'réduites', 'vents', 'oklahoma', 'architectes', 'idées', 'électronique', 'couronne', 'anderson', 'étape', 'armement', 'incapable', 'neutralité', 'connecté', 'suisse', 'expatriés', 'armé', 'hebdomadaires', 'cote', 'programme', 'brigade', 'multi', 'dynastie', 'froids', 'accordée', 'socorro', 'alliances', 'méthodes', 'sam', 'alabama', 'albert', 'tropicales', 'viêtnam', 'dvd', 'chauffer', 'adeptes', 'entourant', 'crédit', 'commons', 'canot', 'coffrets', 'ethniques', 'parlant', 'tomba', 'arène', 'chemins', 'noyau', 'chienne', 'tue', 'athlétisme', 'aîné', 'négatifs', 'confirmée', 'sixième', 'edge', 'jesus', 'outils', 'colonel', 'faibles', 'choisie', 'marque', 'résultant', 'nfl', 'rise', 'approvisionnement', 'traditions', 'élémentaires', 'ménage', 'spirit', 'tâche', 'légèrement', 'howard', 'incidents', 'développer', 'dimanche', 'discutez', 'statistiques', 'climat', 'thèmes', 'achetés', 'communications', 'chapitre', 'cassée', 'singapour', 'situé', 'licence', 'haven', 'décès', 'passant', 'citoyens', 'canons', 'arbres', 'gone', 'amélioré', 'visuelles', 'papes', 'officiels', 'sat', 'verres', 'meunier', 'publié', 'estimation', 'contenir', 'brésiliennes', 'sexuelle', 'défense', 'respectivement', 'concernant', 'riche', 'rapides', 'propriétés', 'appris', 'extensive', 'exposition', 'allocution', 'proposition', 'hétéro', 'interne', 'efficaces', 'solution', 'mode', 'pieds', 'oranges', 'argentine', 'brève', 'représentations', 'adultes', 'nouvellement', 'identité', 'chanteuses', 'inspirée', 'discuté', 'requièrent', 'facilité', 'transfert', 'egypte', 'cellules', 'patrick', 'quebec', 'connecticut', 'notation', 'antoine', 'permanents', 'phase', 'auditoire', 'mouvement', 'bleues', 'hongrois', 'arabes', 'trains', 'ensembles', 'classé', 'contrairement', 'commencer', 'réglage', 'yeux', 'studios', 'gmina', 'criminelle', 'commonwealth', 'termine', 'communication', 'portée', 'accusée', 'divisions', 'acceptez', 'avertissements', 'alan', 'objets', 'diego', 'concours', 'boxeur', 'trouvailles', 'coachs', 'battement', 'extrêmement', 'ford', 'suisse', 'pardon', 'houston', 'mondial', 'montré', 'cales', 'cathédrales', 'perdre', 'avance', 'réalités', 'diffusion', 'adam', 'vandalisme', 'ennemi', 'youtube', 'évalués', 'milliards', 'enterrée', 'belgique', 'respecte', 'rares', 'detroit', 'diplômé', 'collèges', 'explique', 'autorités', 'tuer', 'maximum', 'ni', 'adepte', 'notifier', 'peintre', 'hamilton', 'revenant', 'tentative', 'univers', 'passes', 'évidente', 'souffert', 'morceaux', 'appliquez', 'actrices', 'compétitions', 'aide', 'conducteur', 'folk', 'dan', 'khan', 'baby', 'danemark', 'tokyo', 'panneau', 'appelant', 'anne', 'danoise', 'veut', 'formules', 'intérieurs', 'kevin', 'intempéries', 'puissantes', 'musulman', 'inscrit', 'editeur', 'précédant', 'bruits', 'eric', 'agréé', 'atteint', 'douglas', 'provinciale', 'fonds', 'portugal', 'sportifs', 'bird', 'groupes', 'audio', 'cat', 'siècles', 'valides', 'chimiques', 'lane', 'holding', 'comtés', 'actualiser', 'ncaa', 'parle', 'trouver', 'domestique', 'ali', 'fausses', 'équivalent', 'capturés', 'christ', 'finissant', 'puerto', 'effectuer', 'partenaires', 'roumanie', 'aéronautique', 'défaillance', 'pupille', 'force', 'chevaliers', 'candidatures', 'hongrie', 'inquiétude', 'enregistrements', 'juan', 'fonctions', 'mississippi', 'appels', 'critiques', 'impliquant', 'magique', 'gordon', 'traité', 'antonio', 'sélection', 'arrières', 'coloniale', 'moteur', 'obtenu', 'circuit', 'souhaiter', 'recueil', 'harvard', 'islamique', 'déterminé', 'géographie', 'arkansas', 'carburant', 'artillerie', 'médiévaux', 'lieux', 'inclusion', 'reconnaissance', 'instant', 'motifs', 'réussi', 'historien', 'condition', 'physique', 'quotidiens', 'représentent', 'allen', 'regarde', 'kitt', 'protègent', 'grise', 'lancez', 'dave', 'philip', 'iraq', 'changer', 'ukraine', 'municipalités', 'mixage', 'tamouls', 'maj', 'partagé', 'autrichienne', 'porte', 'enquête', 'institution', 'princesses', 'piste', 'parcs', 'demandes', 'cent', 'prescriptions', 'parlant', 'kim', 'ltd', 'mètres', 'grise', 'sectoriel', 'doyenne', 'agricoles', 'incorporée', 'escape', 'ordres', 'coin', 'commandées', 'fondatrice', 'laminoir', 'mrs', 'sujets', 'températures', 'réglé', 'spacewatch', 'souviens', 'miami', 'promouvoir', 'valeurs', 'spot', 'avancement', 'apprends', 'planète', 'occupée', 'usage', 'refusée', 'borough', 'vérité', 'clark', 'suffisante', 'égale', 'administrateur', 'personnes', 'usine', 'combattu', 'dérivées', 'remarquable', 'magazines', 'écoulement', 'pairs', 'attaquée', 'générer', 'forme', 'créateur', 'nécessite', 'option', 'lincoln', 'commence', 'gradins', 'établissement', 'vendre', 'causes', 'budget', 'batailles', 'ciel', 'légende', 'arrêtée', 'forum', 'metro', 'cassée', 'frapper', 'blessures', 'ryan', 'zéro', 'converti', 'violence', 'sensiblement', 'déclarations', 'contrôlé', 'welsh', 'chuté', 'roger', 'pdf', 'distingué', 'samuel', 'traduit', 'papiers', 'détail', 'chapel', 'frederick', 'milliers', 'banques', 'offensant', 'kings', 'factor', 'renommer', 'remplace', 'musées', 'résistances', 'jonction', 'tim', 'moteurs', 'contribué', 'milieu', 'périphérique', 'bénéfices', 'rêve', 'saisissez', 'douze', 'universel', 'typique', 'compétences', 'acheté', 'voyageur', 'cleveland', 'financement', 'agriculture', 'parent', 'décennies', 'recevoir', 'signal', 'réformes', 'organisation', 'colonnes', 'défunt', 'utah', 'dirigeants', 'qualifié', 'indiquer', 'ukrainiens', 'homosexuel', 'amateur', 'évidemment', 'flore', 'gene', 'âme', 'alat', 'discussions', 'montreal', 'virages', 'rôdeur', 'entrée', 'sillon', 'nice', 'cordes', 'influencés', 'survenir', 'développer', 'abandonnée', 'humains', 'paires', 'plat', 'échantillons', 'contenaient', 'bannie', 'moore', 'fortement', 'visité', 'croissante', 'avocate', 'arm', 'mathématiques', 'canal', 'diagrammes', 'penser', 'dublin', 'suggère', 'patronyme', 'cervelle', 'pittsburgh', 'blogue', 'economie', 'seventh', 'alex', 'lourdement', 'auteurs', 'tableaux', 'concernés', 'récipiendaires', 'controversé', 'controverses', 'exprimés', 'josé', 'carrosseries', 'conservation', 'cartes', 'marie', 'arguments', 'chaine', 'concentrée', 'lecteurs', 'carl', 'infraction', 'bureaux', 'onde', 'cercle', 'invasions', 'jimmy', 'opportunité', 'détermine', 'colspan', 'orthodoxes', 'voté', 'formelle', 'décrit', 'seconds', 'cycle', 'doutez', 'golf', 'murs', 'productions', 'circonscription', 'étroitement', 'survient', 'enorme', 'andy', 'représentant', 'indonésie', 'vendre', 'lun', 'dessiné', 'diocèse', 'cuve', 'conseils', 'sénatrice', 'généré', 'malaisie', 'demandant', 'finlande', 'causant', 'prospects', 'avocate', 'seattle', 'gain', 'indice', 'saints', 'coureur', 'crise', 'ciné', 'mat', 'hollywood', 'réaction', 'médailles', 'documents', 'lecteur', 'lawrence', 'schéma', 'archives', 'atlanta', 'votants', 'examiné', 'bear', 'parfaite', 'restauré', 'bruce', 'baltimore', 'baron', 'casserole', 'commune', 'fantaisie', 'devoir', 'fauteuil', 'scènes', 'large', 'opposés', 'trucs', 'vieilli', 'rues', 'nick', 'anna', 'billy', 'vulgarisation', 'kent', 'parlementaire', 'kelly', 'tirer', 'prêts', 'pick', 'compositrice', 'conscients', 'jordan', 'dictionnaires', 'composition', 'sel', 'bangladesh', 'bot', 'prestation', 'terres', 'intérêts', 'programmé', 'enseignant', 'fermeture', 'publicités', 'cotisation', 'maine', 'retraite', 'scientifiques', 'digue', 'blocs', 'las', 'imprimer', 'techniques', 'participer', 'anniversaire', 'demandés', 'discovery', 'expliquée', 'expedition', 'citation', 'und', 'entretemps', 'hampshire', 'créatif', 'maintenir', 'pierre', 'détaillé', 'faits', 'cadre', 'finance', 'socialiste', 'script', 'caméra', 'retourne', 'engagé', 'assistance', 'expérimentés', 'souterrains', 'vente', 'belle', 'jeanne', 'abc', 'supposé', 'successeurs', 'classification', 'outil', 'minière', 'cabinet', 'octets', 'ross', 'russell', 'citations', 'maintenue', 'soir', 'chanter', 'fifa', 'genre', 'lieux', 'laques', 'mail', 'jeff', 'électorale', 'urgences', 'mode', 'christophe', 'têtes', 'prouvés', 'curé', 'fonds', 'investissements', 'roumain', 'séance', 'capter', 'aspects', 'réduire', 'trophées', 'maltraitance', 'préfecture', 'marcher', 'normalement', 'snow', 'magasin', 'dakota', 'buisson', 'charbon', 'habitants', 'gary', 'salariés', 'erreurs', 'invitées', 'câble', 'protéine', 'accident', 'décennie', 'mesure', 'regardées', 'patientes', 'downtown', 'animée', 'satellite', 'johnny', 'combinaison', 'juridictions', 'séquence', 'crochet', 'nettoyer', 'propriétaires', 'jumelles', 'distribuées', 'décrire', 'défensif', 'islam', 'photographies', 'ottomane', 'formé', 'touché', 'itinéraires', 'ministres', 'vin', 'ailleurs', 'lanka', 'carlos', 'atterrir', 'recueilli', 'renouveau', 'río', 'communes', 'saturday', 'députés', 'devine', 'drop', 'sarah', 'pondu', 'baignade', 'adhésion', 'édimbourg', 'ajuster', 'harris', 'dallas', 'degré', 'baccalauréat', 'personnellement', 'brièvement', 'dossiers', 'extreme', 'cours', 'atteindre', 'recherché', 'vision', 'exiger', 'verticale', 'actualisé', 'commercialisation', 'jason', 'consistait', 'appel', 'avion', 'rapides', 'victor', 'dyk', 'solaire', 'âges', 'quartier', 'équitablement', 'ailes', 'acides', 'rfc', 'constants', 'hanche', 'administrateurs', 'nova', 'cérémonie', 'chili', 'compositeurs', 'nazis', 'érudit', 'liverpool', 'hero', 'créateur', 'apprises', 'instruments', 'bienvenu', 'coiffure', 'consécutive', 'ciné', 'adjacent', 'pool', 'aut', 'normande', 'collections', 'belges', 'austin', 'assurez', 'conduite', 'téléphone', 'mouche', 'ian', 'fenêtres', 'document', 'adams', 'collaboratif', 'marguerite', 'kennedy', 'jambe', 'vidéos', 'supposez', 'attachés', 'sécher', 'élargir', 'bible', 'matthieu', 'serbes', 'instrument', 'couvrant', 'aléatoires', 'représente', 'participants', 'minutieuse', 'mentions', 'portrait', 'conducteur', 'airlines', 'franklin', 'spectateurs', 'finlandaise', 'différences', 'lieu', 'vocal', 'élément', 'régulièrement', 'rejeté', 'parent', 'illicite', 'stewart', 'toiture', 'lieues', 'couleurs', 'morgan', 'détenus', 'facebook', 'assister', 'nelson', 'survécu', 'assurance', 'expert', 'vapeurs', 'cartes', 'fabrication', 'tester', 'côtière', 'yorkshire', 'sauveteurs', 'territoires', 'thu', 'thailande', 'frappé', 'choisis', 'vienne', 'parcours', 'rangement', 'coûts', 'singh', 'distincts', 'notamment', 'soldat', 'colonie', 'évolution', 'taïwan', 'ouragan', 'juges', 'jardins', 'poèmes', 'conduit', 'responsabilité', 'phrases', 'birmingham', 'ingénieurs', 'visibles', 'substantiel', 'gulf', 'installée', 'révolutionnaire', 'trip', 'gastronomie', 'graham', 'magasins', 'riz', 'prouve', 'raisonnables', 'peau', 'engagé', 'volleyball', 'choisi', 'facteurs', 'centaine', 'lésée', 'périphériques', 'phrase', 'stanley', 'lemmon', 'thompson', 'suicides', 'avantage', 'automatiquement', 'disque', 'minimums', 'biens', 'charges', 'alfred', 'opérateur', 'terminer', 'fred', 'identifier', 'producteurs', 'anne', 'campbell', 'portland', 'dernière', 'rejets', 'victimes', 'explications', 'opérer', 'menace', 'traversée', 'lente', 'poètes', 'stoppé', 'stratégie', 'wayne', 'classement', 'disney', 'wright', 'résidentiels', 'associer', 'importance', 'statué', 'excellent', 'observé', 'menacées', 'amical', 'redirections', 'temporaire', 'maîtres', 'péninsule', 'réseaux', 'passagers', 'présumé', 'artistique', 'coffre', 'fêtes', 'concourir', 'png', 'hunter', 'alaska', 'partenariat', 'maintenance', 'suivi', 'diabolique', 'secours', 'charlie', 'pauvreté', 'hop', 'fri', 'soupçonné', 'rempli', 'nba', 'décidez', 'briser', 'argentine', 'démission', 'oblast', 'drew', 'hawaii', 'brooklyn', 'historiens', 'conférencier', 'papillon', 'permission', 'blessés', 'raciale', 'marshall', 'porte', 'springs', 'roy', 'photographique', 'aider', 'chevaliers', 'rouleau', 'progressive', 'contraste', 'continue', 'procédés', 'terminaux', 'exécutée', 'svg', 'épouse', 'infrastructure', 'principe', 'peintres', 'peints', 'correctement', 'fréquences', 'façonnée', 'rejoindre', 'robinson', 'waters', 'crête', 'ponts', 'pdg', 'monument', 'mental', 'carter', 'karl', 'rowspan', 'mac', 'orléans', 'portail', 'parallèle', 'thirty', 'géante', 'qualifier', 'murray', 'afghanistan', 'appréciation', 'comptoir', 'oursons', 'achetez', 'expression', 'uefa', 'améliorations', 'madrid', 'fermeture', 'roues', 'ambassadrice', 'désertique', 'apportant', 'iranien', 'régner', 'oncle', 'sévère', 'pluie', 'amiral', 'pêche', 'existaient', 'élever', 'broadway', 'principes', 'pousser', 'épreuves', 'grossièrement', 'tech', 'perturbation', 'rico', 'alinéa', 'batte', 'préparé', 'mesures', 'robin', 'engagé', 'craintes', 'mérite', 'participation', 'massives', 'dessins', 'agences', 'technique', 'alberta', 'égyptien', 'commis', 'savaient', 'étroit', 'adapté', 'commissaire', 'rapides', 'crédité', 'rencontres', 'entreprises', 'bombes', 'capable', 'poème', 'étapes', 'honorifiques', 'dragon', 'chargé', 'proposer', 'modifiés', 'virés', 'mlb', 'envoyer', 'preuves', 'pratiques', 'arabes', 'attractions', 'embouchure', 'réparer', 'agréé', 'symbole', 'organe', 'endommagée', 'warren', 'exception', 'costa', 'malheureusement', 'jérusalem', 'remplaçant', 'indiens', 'soundtrack', 'puceau', 'milliers', 'vancouver', 'législations', 'beauté', 'crédits', 'achetez', 'organisations', 'serbie', 'christianisme', 'opinions', 'cavalerie', 'tribu', 'richmond', 'echec', 'canaux', 'revendiquer', 'exactes', 'baker', 'alliée', 'implication', 'anime', 'donald', 'sœurs', 'requêtes', 'insolite', 'impossibles', 'couleurs', 'cuisinière', 'dessiner', 'wikimedia', 'jonathan', 'suppression', 'indique', 'admises', 'propriété', 'rivage', 'surveillé', 'nebraska', 'règlement', 'krach', 'guitariste', 'supports', 'abbaye', 'suppression', 'nevada', 'barry', 'tonus', 'opère', 'autochtone', 'personnalité', 'réception', 'transit', 'bison', 'fleurs', 'bond', 'jay', 'aventure', 'définitivement', 'guinéenne', 'horreur', 'rangers', 'pointu', 'pomme', 'popularité', 'parfois', 'coalition', 'franchisés', 'étoilé', 'critique', 'revues', 'roulement', 'pourcentage', 'silencieuses', 'laboratoires', 'microsoft', 'mouvements', 'chartes', 'convenable', 'alterner', 'offrande', 'missions', 'expérimentale', 'chambres', 'conclus', 'réputation', 'précis', 'versus', 'sites', 'interprétation', 'identifiés', 'endémiques', 'chimie', 'réaliser', 'connait', 'mangas', 'journalistes', 'forêt', 'cbs', 'symphonie', 'promotionnels', 'electrique', 'tags', 'mètres', 'jerry', 'tigres', 'commerce', 'remix', 'adressée', 'phil', 'automatique', 'bande', 'imprimés', 'chêne', 'warner', 'tendent', 'cite', 'séparé', 'évêques', 'glasgow', 'fondamentalement', 'attendez', 'accumulateur', 'faveur', 'benjamin', 'apparente', 'shopping', 'patrouille', 'aigle', 'anges', 'martiaux', 'restauration', 'delhi', 'hans', 'indiqué', 'morris', 'centres', 'broyeurs', 'utiles', 'livré', 'composantes', 'victorienne', 'législature', 'tourisme', 'traitées', 'étendue', 'enfants', 'barbara', 'essai', 'circonstances', 'répétées', 'plaine', 'superieur', 'stratégiques', 'pareillement', 'devoirs', 'efficacement', 'blp', 'considérant', 'arrangés', 'ken', 'grammaire', 'modification', 'prétendu', 'relation', 'habitat', 'parlée', 'shell', 'monté', 'entrées', 'conflit', 'philippines', 'montana', 'apparaissant', 'triple', 'caraïbe', 'hôtes', 'panneaux', 'serieux', 'bristol', 'belligérantes', 'mitchell', 'industries', 'colombie', 'comparaisons', 'bassin', 'eleven', 'malades', 'pradesh', 'charité', 'sortie', 'adn', 'carbone', 'bateaux', 'desc', 'architectural', 'représentation', 'commentaire', 'montante', 'visiteurs', 'marchés', 'plaque', 'giants', 'traitement', 'paysages', 'dick', 'chasse', 'sommet', 'psychologie', 'balade', 'grandement', 'gardien', 'terminus', 'pertes', 'équilibre', 'démocratie', 'nicholas', 'habituelle', 'pérou', 'huitième', 'instrumentale', 'hindoue', 'défenseur', 'équitation', 'arrivées', 'evans', 'tournant', 'insinuer', 'prose', 'fret', 'masqués', 'bénévoles', 'biographie', 'détenteur', 'sucres', 'filles', 'faune', 'amusant', 'intégrés', 'partenaires', 'taux', 'grace', 'fil', 'enfance', 'accompagnés', 'milan', 'photographies', 'honneur', 'sol', 'serveur', 'manuelle', 'béton', 'possibilité', 'fantômes', 'troublé', 'tunnel', 'larry', 'styles', 'élévation', 'mahomet', 'considérables', 'inter', 'perd', 'phoenix', 'sweet', 'déchet', 'opérationnelle', 'tall', 'qualifier', 'constitutionnels', 'peuples', 'acceptable', 'fruits', 'décisions', 'dépression', 'perspective', 'milieu', 'crystal', 'monastères', 'résidents', 'cincinnati', 'liées', 'chirurgie', 'étapes', 'transporteur', 'ruisseau', 'alice', 'botter', 'etrange', 'prédécesseur', 'bernard', 'nigéria', 'douleurs', 'influent', 'voyou', 'suggestion', 'interactions', 'retenu', 'accomplissement', 'mécaniques', 'drogue', 'manqués', 'trinité', 'classé', 'minoritaire', 'manteau', 'propulsé', 'alive', 'nbc', 'lnh', 'keith', 'bobby', 'harbor', 'comportement', 'croate', 'maritime', 'terry', 'virtuelles', 'intérieur', 'périodes', 'spirituelles', 'croatie', 'lions', 'archevêque', 'luis', 'négociant', 'azerbaïdjan', 'lots', 'contestée', 'rédaction', 'initiative', 'charlotte', 'pure', 'frontières', 'persan', 'marques', 'arméniens', 'romantique', 'remplaçant', 'talent', 'improbables', 'panel', 'saut', 'animations', 'mandataires', 'emplois', 'négociation', 'parker', 'statue', 'daté', 'wonder', 'classé', 'provinces', 'vendredi', 'emplois', 'cuba', 'sao', 'scientifique', 'calendrier', 'attendant', 'familiers', 'suspectes', 'désaccord', 'suggestions', 'turner', 'formage', 'formellement', 'locomotives', 'barcelona', 'cohérent', 'recommandées', 'désirer', 'patient', 'bulgarie', 'vincent', 'entendre', 'textes', 'croyance', 'visiteur', 'vaisseaux', 'fondamentalement', 'continentaux', 'trou', 'échouer', 'passage', 'voit', 'mariages', 'archéologiques', 'calque', 'appellation', 'clan', 'recettes', 'couples', 'costume', 'soft', 'weekend', 'homologation', 'démocrate', 'crimes', 'collins', 'expatriés', 'cheval', 'usure', 'soutiens', 'liquidités', 'denis', 'ressource', 'sculptures', 'pratique', 'harrison', 'rosé', 'olivier', 'limites', 'cooper', 'illustrés', 'enfer', 'statistique', 'référencé', 'arbcom', 'louve', 'guerriers', 'incidents', 'fraîcheur', 'éditions', 'racine', 'signature', 'cliniques', 'volumes', 'pires', 'adulte', 'contribuer', 'nécessairement', 'immédiatement', 'sentiment', 'théories', 'essentiels', 'achèvement', 'conclusion', 'technologies', 'strip', 'lié', 'loué', 'séjourné', 'coques', 'diamants', 'origines', 'vide', 'éliminé', 'précieuse', 'cite', 'doubles', 'succursales', 'honneurs', 'brique', 'expériences', 'beijing', 'cravates', 'homosexualité', 'liberté', 'siège', 'baptiste', 'ron', 'hébraïque', 'affectent', 'baisse', 'entraîneurs', 'alpha', 'équipé', 'identiques', 'soumis', 'entreprise', 'touche', 'transmissions', 'plateformes', 'cave', 'filmée', 'centimètre', 'cool', 'bulgares', 'liga', 'manhattan', 'destruction', 'activiste', 'arme', 'clay', 'claviers', 'dangereuses', 'visionné', 'courriel', 'biologie', 'gras', 'bowling', 'comparaison', 'traités', 'affiliés', 'chaussette', 'agressions', 'mensuelle', 'foster', 'cousine', 'url', 'hispanique', 'logiques', 'craig', 'trivial', 'pionnière', 'musulman', 'lay', 'noté', 'absence', 'amsterdam', 'éditeurs', 'tribus', 'percussion', 'coureurs', 'thèmes', '#les', 'prestations', 'gardiens', 'flux', 'attribuée', 'athènes', 'herbert', 'fêté', 'sponsorisée', 'raf', 'delaware', 'neil', 'polonais', 'arbitre', 'historiquement', 'tail', 'visites', 'stable', 'décide', 'vaisseau', 'identification', 'delta', 'écrit', 'méditerranée', 'bénévoles', 'reponse', 'stuart', 'marvel', 'luc', 'grave', 'odd', 'entendre', 'uss', 'mall', 'sanction', 'solutions', 'sécurisé', 'hugh', 'steven', 'semelle', 'architectes', 'caractéristiques', 'tombant', 'tourne', 'clinton', 'villa', 'sélectionner', 'métriques', 'critiqués', 'survivre', 'roberts', 'classements', 'biologique', 'lloyd', 'munich', 'appartient', 'adelaide', 'appartenir', 'harold', 'norfolk', 'majordome', 'coi', 'rivaux', 'acoustique', 'publications', 'adaptation', 'greg', 'reporter', 'url', 'absolument', 'personne', 'bourse', 'vaste', 'sortie', 'enquête', 'dual', 'belt', 'remarqué', 'brevet', 'mathématiques', 'rarement', 'soumission', 'démographie', 'foule', 'rick', 'gouvernements', 'bonification', 'touriste', 'mystères', 'cliquant', 'marcher', 'néanmoins', 'votants', 'carabine', 'composant', 'civiles', 'partielle', 'encouragé', 'anniversaires', 'eddy', 'chrétiens', 'denver', 'petersbourg', 'chercheurs', 'partiellement', 'photographe', 'exécutable', 'jon', 'obama', 'semblait', 'horloges', 'violon', 'autoroutes', 'vacances', 'distinctions', 'artwork', 'maquiller', 'catherine', 'fontes', 'agriculteurs', 'occasions', 'photographier', 'lutte', 'timestamp', 'yale', 'options', 'stylos', 'procédure', 'jacob', 'condamnés', 'tournée', 'transition', 'anglo', 'legs', 'refusée', 'relations', 'ottawa', 'derby', 'entouré', 'bibliothèques', 'rivaliser', 'intervenants', 'grades', 'hudson', 'administrateurs', 'sacrés', 'signature', 'braquer', 'citoyen', 'chien', 'argumenter', 'croit', 'annuellement', 'cardinal', 'népal', 'carrefour', 'révèle', 'différends', 'faisceau', 'outremer', 'perry', 'pseudonyme', 'syrie', 'wells', 'contribuer', 'ultime', 'rangs', 'dany', 'détail', 'préférés', 'vermont', 'commencée', 'téléchargement', 'confiance', 'nomination', 'ballet', 'jefferson', 'partout', 'sable', 'angle', 'sessions', 'récréation', 'portant', 'kenya', 'accessibles', 'ralph', 'fil', 'perturbateurs', 'dépenser', 'neuvième', 'arrestations', 'choeur', 'mines', 'lésions', 'ronds', 'compétitifs', 'opportunités', 'réunions', 'commentés', 'wang', 'woods', 'exercice', 'jacques', 'objectif', 'démolie', 'préférés', 'pedro', 'robotique', 'venezuela', 'segment', 'étudier', 'edwards', 'viser', 'dansant', 'aigles', 'montré', 'hommages', 'continus', 'encourager', 'araignée', 'agi', 'convaincus', 'heroes', 'décrivant', 'pierres', 'lit', 'gap', 'refléter', 'mars', 'participant', 'coopérations', 'obtenir', 'gothiques', 'manifestation', 'chasse', 'rfa', 'fréquente', 'reconversion', 'stressé', 'fabricants', 'checkuser', 'exprimé', 'traditionnellement', 'josé', 'aventures', 'tigre', 'totalement', 'concentration', 'chante', 'roquette', 'électricité', 'ombres', 'boxe', 'sénateurs', 'toubib', 'stanford', 'machines', 'vegas', 'enregistrés', 'jurys', 'calendrier', 'noblesse', 'tommy', 'coupables', 'leo', 'poignée', 'éteints', 'répondu', 'partages', 'scotia', 'fabricant', 'récits', 'implémentation', 'camion', 'orthographe', 'élément', 'charge', 'clientèle', 'ajoute', 'espaces', 'capuchon', 'orphelins', 'traversiers', 'préfèrent', 'pousse', 'mensonges', 'berkeley', 'liban', 'madison', 'trône', 'attirées', 'lionne', 'récupérée', 'manor', 'promouvoir', 'saoudien', 'série', 'etranger', 'rogers', 'luminaires', 'écartement', 'concerts', 'aîné', 'renaissance', 'uniformes', 'chase', 'aka', 'ordinateurs', 'brisbane', 'sylvie', 'raymond', 'fleur', 'col', 'thaïlandais', 'catastrophes', 'survivre', 'vêtement', 'murphy', 'sharp', 'explique', 'yougoslavie', 'bouddhistes', 'publiquement', 'viandes', 'littéralement', 'spams', 'téléphone', 'moralité', 'chantée', 'partiellement', 'juristes', 'citant', 'interviews', 'brunswick', 'radars', 'dépense', 'bosquet', 'thé', 'elite', 'lumineux', 'améliorer', 'sierra', 'ciel', 'athlète', 'aspect', 'réponses', 'ted', 'consommateur', 'financés', 'exclusif', 'ibn', 'manuel', 'alliés', 'examinateur', 'missile', 'mécanisme', 'helen', 'retiré', 'intention', 'mini', 'victimes', 'maladies', 'rythme', 'pat', 'attraper', 'scrutin', 'pont', 'newcastle', 'antarctique', 'leeds', 'duré', 'gammes', 'ordinaires', 'insecte', 'souffrances', 'flashs', 'culte', 'limites', 'aveugles', 'pakistanais', 'supposant', 'interstate', 'arrangement', 'globe', 'honneurs', 'brute', 'gilbert', 'applique', 'graduellement', 'gérer', 'expérimentation', 'radicale', 'gov', 'pattes', 'adversaire', 'diamètres', 'fournitures', 'pitch', 'utilité', 'nettoyage', 'opposants', 'régime', 'révisé', 'genres', 'diplomatiques', 'allemands', 'phoques', 'grégory', 'correspondant', 'concepts', 'sabre', 'violet', 'virus', 'populations', 'taureaux', 'batteur', 'présente', 'hollande', 'préjugé', 'fusion', 'distante', 'sean', 'messages', 'rébellion', 'premiere', 'physicien', 'victime', 'con', 'nuages', 'angels', 'bruit', 'rubrique', 'duo', 'bière', 'palestiniens', '$us', 'cuivre', 'juridiction', 'améliorations', 'skier', 'culminé', 'hms', 'boucle', 'renommer', 'fût', 'dramatiques', 'saskatchewan', 'pourparlers', 'séisme', 'rhode', 'chapeau', 'exigence', 'den', 'cuves', 'présidents', 'min', 'défendre', 'alcool', 'dominées', 'chantait', 'mange', 'graphisme', 'circonscriptions', 'asp', 'café', 'chancelière', 'détruire', 'tonnes', 'cruz', 'varsovie', 'exclusivement', 'connexions', 'rush', 'hauteurs', 'playstation', 'aboutissement', 'appartement', 'cardinaux', 'remplir', 'bénéficiaire', 'correctement', 'traditions', 'fondamentaux', 'minces', 'chan', 'résolue', 'mario', 'départements', 'dame', 'shield', 'combattants', 'ivan', 'écrits', 'bosnie', 'condamnés', 'violente', 'légende', 'harbour', 'marges', 'auckland', 'postale', 'pirates', 'collectif', 'diesel', 'libération', 'confédéré', 'diable', 'activistes', 'sultan', 'cavalier', 'amazone', 'florence', 'marc', 'arnold', 'shah', 'blogspot', 'réduction', 'contenu', 'génétiques', 'somerset', 'localement', 'lait', 'romantique', 'intellectuels', 'latinos', 'échouer', 'mason', 'pete', 'consultatif', 'arbitrages', 'interface', 'hitler', 'défaut', 'consulté', 'sheffield', 'départs', 'hindi', 'anglicane', 'suggérant', 'erreur', 'résidant', 'ambassades', 'assassinée', 'sox', 'dors', 'suspendus', 'sum', 'mythologie', 'bengale', 'désarroi', 'oscar', 'thérapies', 'occasion', 'exposé', 'assisté', 'possession', 'défendez', 'consacré', 'graphique', 'milwaukee', 'informés', 'anonyme', 'inversé', 'savons', 'territorial', 'lisa', 'paulo', 'northwestern', 'éliminatoires', 'patronne', 'nasa', 'cotés', 'byzantine', 'idaho', 'affiche', 'géographiques', 'rebonds', 'congo', 'venture', 'pire', 'canular', 'restreint', 'portes', 'nommer', 'situations', 'instructions', 'sullivan', 'tableaux', 'feuilles', 'tirez', 'remplaçants', 'gastronomie', 'contributeurs', 'erreurs', 'apprécié', 'cadre', 'rocky', 'kerala', 'shakespeare', 'quantique', 'immigration', 'miroirs', 'certifiés', 'actifs', 'npov', 'potentiellement', 'présentation', 'coton', 'assis', 'tournois', 'syndrome', 'coché', 'quarante', 'approvisionnement', 'journalistique', 'infructueuses', 'tours', 'conducteur', 'hôpitaux', 'bone', 'essex', 'reconstruit', 'wellington', 'idéal', 'crus', 'partager', 'libellés', 'leonard', 'watson', 'gouverneurs', 'poster', 'harvey', 'fondements', 'bjr', 'rabin', 'matériels', 'ensemble', 'monstre', 'pichet', 'emphase', 'guérison', 'répondez', 'aaron', 'moindre', 'qualification', 'organique', 'exposition', 'palestinien', 'pensées', 'rédigé', 'maurice', 'immigrés', 'variante', 'giron', 'légitime', 'autonome', 'wallace', 'succession', 'jeter', 'lundi', 'réserves', 'donnés', 'augmente', 'gamin', 'accouchement', 'joan', 'fifty', 'esclaves', 'rétroaction', 'columbus', 'pierres', 'gérer', 'cgi', 'initié', 'faveur', 'imprimerie', 'variables', 'théologie', 'todd', 'paramètres', 'voyagé', 'canton', 'han', 'reed', 'celtic', 'caractéristique', 'commandée', 'recherchant', 'inadéquat', 'commutateur', 'cravates', 'tube', 'otto', 'dettes', 'extérieure', 'navigation', 'admissibles', 'experts', 'chères', 'tier', 'evangile', 'newton', 'essais', 'shanghai', 'conventionnels', 'campagnes', 'sentiments', 'bath', 'venise', '#aaa', 'chats', 'variantes', 'émergé', 'chaussette', 'connexion', 'crue', 'documentée', 'coutume', 'touché', 'profession', 'agencement', 'universitaires', 'colons', 'fusionner', 'sony', 'compétiteurs', 'phillips', 'herbe', 'réservoir', 'artificielles', 'romancier', 'astuce', 'prague', 'abou', 'visages', 'guitares', 'aspx', 'laure', 'boursiers', 'internationalement', 'attaquer', 'johann', 'rêves', 'hugues', 'banlieue', 'compris', 'spécialisés', 'averti', 'perles', 'chœur', 'dépendants', 'restriction', 'meurtrier', 'oakland', 'trio', 'influences', 'blocage', 'mtv', 'bétail', 'engins', 'gabriel', 'échangé', 'patinage', 'quinzaine', 'palmier', 'wikis', 'conte', 'démontrer', 'varie', 'liquides', 'cyclisme', 'princeton', 'respectifs', 'voix', 'frédéric', 'jet', 'horn', 'érigé', 'brûler', 'ouvrier', 'ambiance', 'caractérisés', 'syriens', 'java', 'moniteur', 'diplômé', 'colonnes', 'réparations', 'poubelle', 'bâton', 'dollars', 'organisées', 'paramètre', 'véritablement', 'détermination', 'buenos', 'parade', 'adossés', 'notoriété', 'dépendra', 'définis', 'spencer', 'républicains', 'conspiration', 'meurent', 'clarke', 'bruts', 'engagez', 'pin', 'équation', 'ressent', 'démocrate', 'coupe', 'bouton', 'marques', 'queens', 'abraham', 'encolure', 'forever', 'boissons', 'shérif', 'miguel', 'aires', 'montgomery', 'vanité', 'cadeaux', 'cavaliers', 'fonctionnel', 'traversé', 'diverses', 'numérotés', 'soumissions', 'doucement', 'attitude', 'souris', 'justin', 'protestations', 'dieux', 'montants', 'variation', 'futé', 'prix', 'prier', 'terrorisme', 'béta', 'durham', 'comtes', 'irakienne', 'détective', 'josh', 'reliant', 'compositions', 'ovale', 'filmer', 'parfaitement', 'indianapolis', 'enterrement', 'récupérés', 'fermier', 'protestante', 'cameron', 'imprécis', 'indonésienne', 'mixage', 'mumbai', 'nashville', 'danger', 'rallye', 'récit', 'campements', 'surprises', 'fabriqué', 'déployée', 'kate', 'moléculaires', 'inutiles', 'isle', 'théorème', 'colonies', 'chypre', 'sillage', 'apporte', 'vents', 'magnétisme', 'conversation', 'sussex', 'portes', 'bélier', 'plastiques', 'électronique', 'rétablir', 'stockholm', 'inn', 'autocars', 'connectez', 'wmflabs', 'hôtes', 'rayonnements', 'reçoit', 'lancashire', 'éliminatoires', 'cork', 'généraux', 'intermédiaires', 'vérifiables', 'acclamations', 'philippine', 'orientée', 'hamburg', 'crée', 'orbites', 'massacres', 'dialoguer', 'maladie', 'robe', 'codes', 'aurore', 'isolé', 'nancy', 'violations', 'perth', 'titularisation', 'dames', 'automne', 'évaluations', 'erroné', 'éclaireur', 'difficultés', 'élèves', 'richesse', 'hart', 'allégations', 'règlementation', 'regarder', 'lodge', 'oeufs', 'contestée', 'citoyenneté', 'spécialiste', 'tâches', 'intentions', 'instruction', 'cessé', 'fierté', 'bannière', 'amitiés', 'panamá', 'corruption', 'coulé', 'harm', 'ernest', 'pilotes', 'poursuivre', 'bande', 'émigrés', 'annulés', 'venger', 'révision', 'dominant', 'redevance', 'informatique', 'examen', 'chen', 'matrix', 'das', 'biographique', 'bisou', 'valign', 'nationalistes', 'chance', 'croix', 'lourd', 'enchère', 'apprécie', 'ennemis', 'mercure', 'interactifs', 'mathématiques', 'préserver', 'nobel', 'grande', 'structurels', 'épouser', 'aéroports', 'vétérans', 'axe', 'exécution', 'cultes', 'réducteurs', 'colin', 'chester', 'ticket', 'appartenant', 'entité', 'judiciaire', 'expressément', 'attentat', 'reconnus', 'applicables', 'fondateurs', 'équipé', 'wilhelm', 'soudain', 'parking', 'absolu', 'françois', 'locomotives', 'préparation', 'nintendo', 'déclaration', 'vraisemblablement', 'enterrement', 'gouverner', 'jamaïque', 'connaissant', 'vladimir', 'battre', 'avg', 'méthodiste', 'utf', 'défis', 'kenneth', 'évolué', 'célébration', 'discipliné', 'roulements', 'appartenu', 'faune', 'manuscrits', 'expérimentations', 'chefs', 'composé', 'tampa', 'saoudite', 'associations', 'cibles', 'extraterrestre', 'représenté', 'adjudant', 'diffs', 'subsidiaires', 'thirteen', 'épaisses', 'prolonger', 'rejeté', 'néo', 'fil', 'doctorants', 'mesurées', 'graisse', 'visites', 'linux', 'enseigner', 'vols', 'couplet', 'bennet', 'chaude', 'dynamique', 'shaw', 'pauses', 'monuments', 'menteur', 'seigneurs', 'michel', 'traiter', 'raids', 'congrégation', 'température', 'testament', 'potable', 'compagne', 'manille', 'km²', 'pendjab', 'imagine', 'considération', 'vétéran', 'médecins', 'aîné', 'souverain', 'wise', 'envoi', 'afc', 'digne', 'immatriculation', 'répertoire', 'wyoming', 'manitoba', 'vietnamiennes', 'ronald', 'cubaines', 'brûlés', 'justifient', 'divins', 'supposons', 'destin', 'rovers', 'cole', 'oraux', 'trans', 'planches', 'bryan', 'santiago', 'épiscopale', 'terroristes', 'ok', 'vagues', 'inventé', 'débarqués', 'sandy', 'acres', 'peindre', 'activement', 'indication', 'arrêts', 'excellence', 'intégration', 'bibliographie', 'sottises', 'marathon', 'croyance', 'superflu', 'acrobatique', 'aérienne', 'conservation', 'altitude', 'librement', 'simultané', 'psychologique', 'fernando', 'cultures', 'fiscalité', 'marcus', 'piquets', 'dominicain', 'franz', 'monnaies', 'oxygène', 'civiques', 'isaac', 'orthographe', 'inspiration', 'paires', 'vecteur', 'arc', 'professionnels', 'vii', 'contraire', 'accusations', 'approches', 'esclaves', 'folle', 'spectre', 'client', 'douzaine', 'voyages', 'symboles', 'plaza', 'bancaire', 'héritées', 'légion', 'symptôme', 'mosquée', 'gars', 'lab', 'voile', 'orientation', 'pratiquement', 'générique', 'raisonnements', 'avc', 'syndicats', 'efficaces', 'ouvre', 'impression', 'découvrir', 'réinstallés', 'roosevelt', 'dancer', 'phénomène', 'préliminaire', 'reconnais', 'ancrer', 'argumenter', 'aptitudes', 'procédures', 'émotionnel', 'bois', 'pêcheur', 'prod', 'cartoon', 'trouble', 'fui', 'exigences', 'lituanie', 'continent', 'camaraderie', 'verrou', 'relégués', 'mandat', 'imaginais', 'récurrent', 'aperçu', 'riche', 'acquisition', 'eve', 'filtrant', 'allocutions', 'indépendamment', 'slovénie', 'observation', 'contestée', 'menace', 'tombé', 'protocol', 'jugement', 'grammy', 'teintes', 'distinctif', 'opposés', 'repère', 'colis', 'commandes', 'achèvement', 'sabha', 'détenu', 'signaux', 'fabien', 'inaugurale', 'intervention', 'arrivant', 'vérin', 'tenth', 'liu', 'testées', 'renommé', 'boutiques', 'dome', 'philosophe', 'épopée', 'potence', 'spécifié', 'davies', 'effondrement', 'allan', 'albanais', 'canyon', 'échantillons', 'perçues', 'célébrité', 'prêtres', 'louise', 'ateliers', 'claude', 'fortune', 'barres', 'cornwall', 'palmer', 'présidence', 'tiny', 'appels', 'istanbul', 'rookie', 'expansion', 'calgary', 'choquer', 'stevens', 'employé', 'yang', 'logés', 'caveau', 'gagner', 'innovation', 'ruisseaux', 'unity', 'lucas', 'croît', 'arménie', 'échangeur', 'protéines', 'propositions', 'nageurs', 'continentale', 'séminaire', 'hamlet', 'journal', 'réalise', 'newport', 'négociations', 'expositions', 'malte', 'haïr', 'westminster', 'installation', 'pénètre', 'gardien', 'julien', 'maroc', 'rendement', 'chapitres', 'hélicoptères', 'forteresse', 'ani', 'brûlé', 'affichages', 'compilées', 'ips', 'contributeurs'])"
            ]
          },
          "metadata": {
            "tags": []
          },
          "execution_count": 16
        }
      ]
    },
    {
      "cell_type": "code",
      "metadata": {
        "id": "QRjXoAVOhT8A"
      },
      "source": [
        "# UNQ_C1 (UNIQUE CELL IDENTIFIER, DO NOT EDIT)\n",
        "def get_matrices(en_fr, french_vecs, english_vecs):\n",
        "    \"\"\"\n",
        "    Input:\n",
        "        en_fr: English to French dictionary\n",
        "        french_vecs: French words to their corresponding word embeddings.\n",
        "        english_vecs: English words to their corresponding word embeddings.\n",
        "    Output: \n",
        "        X: a matrix where the columns are the English embeddings.\n",
        "        Y: a matrix where the columns correspong to the French embeddings.\n",
        "        R: the projection matrix that minimizes the F norm ||X R -Y||^2.\n",
        "    \"\"\"\n",
        "\n",
        "    ### START CODE HERE (REPLACE INSTANCES OF 'None' with your code) ###\n",
        "\n",
        "    # X_l and Y_l are lists of the english and french word embeddings\n",
        "    X_l = list()\n",
        "    Y_l = list()\n",
        "\n",
        "    # get the english words (the keys in the dictionary) and store in a set()\n",
        "    english_set = {k for k in en_embeddings_subset.keys()}\n",
        "\n",
        "    # get the french words (keys in the dictionary) and store in a set()\n",
        "    french_set = {k for k in fr_embeddings_subset.keys()}\n",
        "\n",
        "    # store the french words that are part of the english-french dictionary (these are the values of the dictionary)\n",
        "    french_words = set(en_fr.values())\n",
        "\n",
        "    # loop through all english, french word pairs in the english french dictionary\n",
        "    for en_word, fr_word in en_fr.items():\n",
        "\n",
        "        # check that the french word has an embedding and that the english word has an embedding\n",
        "        if fr_word in french_set and en_word in english_set:\n",
        "\n",
        "            # get the english embedding\n",
        "            en_vec = english_vecs[en_word]\n",
        "\n",
        "            # get the french embedding\n",
        "            fr_vec = french_vecs[fr_word]\n",
        "\n",
        "            # add the english embedding to the list\n",
        "            X_l.append(en_vec)\n",
        "\n",
        "            # add the french embedding to the list\n",
        "            Y_l.append(fr_vec)\n",
        "\n",
        "    # stack the vectors of X_l into a matrix X\n",
        "    X = np.vstack(X_l)\n",
        "\n",
        "    # stack the vectors of Y_l into a matrix Y\n",
        "    Y = np.vstack(Y_l)\n",
        "    ### END CODE HERE ###\n",
        "\n",
        "    return X, Y"
      ],
      "execution_count": 17,
      "outputs": []
    },
    {
      "cell_type": "markdown",
      "metadata": {
        "id": "GvDN_dxPp8g8"
      },
      "source": [
        "Now we will use function `get_matrices()` to obtain sets `X_train` and `Y_train`\n",
        "of English and French word embeddings into the corresponding vector space models."
      ]
    },
    {
      "cell_type": "code",
      "metadata": {
        "id": "u-s3aYnCp89i",
        "outputId": "8701ec40-ea70-439c-b955-a269f047595f",
        "colab": {
          "base_uri": "https://localhost:8080/"
        }
      },
      "source": [
        "# UNQ_C2 (UNIQUE CELL IDENTIFIER, DO NOT EDIT)\n",
        "# You do not have to input any code in this cell, but it is relevant to grading, so please do not change anything\n",
        "\n",
        "# getting the training set:\n",
        "X_train, Y_train = get_matrices(\n",
        "    en_fr_train, fr_embeddings_subset, en_embeddings_subset)\n",
        "X_train, Y_train"
      ],
      "execution_count": 18,
      "outputs": [
        {
          "output_type": "execute_result",
          "data": {
            "text/plain": [
              "(array([[ 0.08007812,  0.10498047,  0.04980469, ...,  0.00366211,\n",
              "          0.04760742, -0.06884766],\n",
              "        [ 0.02600098, -0.00189209,  0.18554688, ..., -0.12158203,\n",
              "          0.22167969, -0.02197266],\n",
              "        [-0.01177979, -0.04736328,  0.04467773, ...,  0.07128906,\n",
              "         -0.03491211,  0.02416992],\n",
              "        ...,\n",
              "        [-0.17089844,  0.17871094, -0.06494141, ..., -0.10644531,\n",
              "         -0.31640625, -0.09326172],\n",
              "        [-0.21875   ,  0.09179688,  0.03637695, ..., -0.015625  ,\n",
              "         -0.27148438,  0.14941406],\n",
              "        [-0.00418091,  0.0703125 , -0.04516602, ..., -0.16015625,\n",
              "          0.09326172, -0.15039062]], dtype=float32),\n",
              " array([[-0.0061825 , -0.00094387, -0.00882648, ...,  0.111644  ,\n",
              "         -0.0503964 , -0.0603421 ],\n",
              "        [-0.0341354 ,  0.042414  , -0.0656882 , ..., -0.0539992 ,\n",
              "          0.0371097 , -0.0433599 ],\n",
              "        [ 0.0426481 ,  0.0395683 , -0.00825683, ...,  0.0295259 ,\n",
              "          0.0713421 ,  0.0626402 ],\n",
              "        ...,\n",
              "        [ 0.0903279 , -0.108363  , -0.00956318, ..., -0.0337517 ,\n",
              "         -0.00909727, -0.0503935 ],\n",
              "        [-0.0753425 ,  0.0567269 ,  0.0230996 , ...,  0.0844913 ,\n",
              "          0.0782853 , -0.0151161 ],\n",
              "        [-0.0350154 , -0.0336099 , -0.0251155 , ...,  0.116152  ,\n",
              "          0.110519  ,  0.0197631 ]], dtype=float32))"
            ]
          },
          "metadata": {
            "tags": []
          },
          "execution_count": 18
        }
      ]
    },
    {
      "cell_type": "markdown",
      "metadata": {
        "id": "TiyB_6lV4hnE"
      },
      "source": [
        "<a name=\"2\"></a>\n",
        "\n",
        "# 2. Translations\n",
        "\n",
        "<div style=\"width:image width px; font-size:100%; text-align:center;\"><img src='https://github.com/martin-fabbri/colab-notebooks/raw/master/deeplearning.ai/nlp/images/e_to_f.jpg' alt=\"alternate text\" width=\"width\" height=\"height\" style=\"width:700px;height:200px;\" /> Figure 1 </div>\n",
        "\n",
        "Write a program that translates English words to French words using word embeddings and vector space models. \n",
        "\n",
        "<a name=\"2-1\"></a>\n",
        "## 2.1 Translation as linear transformation of embeddings\n",
        "\n",
        "Given dictionaries of English and French word embeddings you will create a transformation matrix `R`\n",
        "* Given an English word embedding, $\\mathbf{e}$, you can multiply $\\mathbf{eR}$ to get a new word embedding $\\mathbf{f}$.\n",
        "    * Both $\\mathbf{e}$ and $\\mathbf{f}$ are [row vectors](https://en.wikipedia.org/wiki/Row_and_column_vectors).\n",
        "* You can then compute the nearest neighbors to `f` in the french embeddings and recommend the word that is most similar to the transformed word embedding."
      ]
    },
    {
      "cell_type": "markdown",
      "metadata": {
        "id": "SOvU9e9t5HvH"
      },
      "source": [
        "### Describing translation as the minimization problem\n",
        "\n",
        "Find a matrix `R` that minimizes the following equation. \n",
        "\n",
        "$$\\arg \\min _{\\mathbf{R}}\\| \\mathbf{X R} - \\mathbf{Y}\\|_{F}\\tag{1} $$\n",
        "\n",
        "### Frobenius norm\n",
        "\n",
        "The Frobenius norm of a matrix $A$ (assuming it is of dimension $m,n$) is defined as the square root of the sum of the absolute squares of its elements:\n",
        "\n",
        "$$\\|\\mathbf{A}\\|_{F} \\equiv \\sqrt{\\sum_{i=1}^{m} \\sum_{j=1}^{n}\\left|a_{i j}\\right|^{2}}\\tag{2}$$"
      ]
    },
    {
      "cell_type": "markdown",
      "metadata": {
        "id": "X0o9v5ZS5Hlr"
      },
      "source": [
        "### Actual loss function\n",
        "In the real world applications, the Frobenius norm loss:\n",
        "\n",
        "$$\\| \\mathbf{XR} - \\mathbf{Y}\\|_{F}$$\n",
        "\n",
        "is often replaced by it's squared value divided by $m$:\n",
        "\n",
        "$$ \\frac{1}{m} \\|  \\mathbf{X R} - \\mathbf{Y} \\|_{F}^{2}$$\n",
        "\n",
        "where $m$ is the number of examples (rows in $\\mathbf{X}$).\n",
        "\n",
        "* The same R is found when using this loss function versus the original Frobenius norm.\n",
        "* The reason for taking the square is that it's easier to compute the gradient of the squared Frobenius.\n",
        "* The reason for dividing by $m$ is that we're more interested in the average loss per embedding than the  loss for the entire training set.\n",
        "    * The loss for all training set increases with more words (training examples),\n",
        "    so taking the average helps us to track the average loss regardless of the size of the training set."
      ]
    },
    {
      "cell_type": "markdown",
      "metadata": {
        "id": "omPdMxHz5cG4"
      },
      "source": [
        "##### [Optional] Detailed explanation why we use norm squared instead of the norm:\n",
        "<details>\n",
        "<summary>\n",
        "    Click for optional details\n",
        "</summary>\n",
        "    <p>\n",
        "        <ul>\n",
        "            <li>The norm is always nonnegative (we're summing up absolute values), and so is the square. \n",
        "            <li> When we take the square of all non-negative (positive or zero) numbers, the order of the data is preserved.  \n",
        "            <li> For example, if 3 > 2, 3^2 > 2^2\n",
        "            <li> Using the norm or squared norm in gradient descent results in the same <i>location</i> of the minimum.\n",
        "            <li> Squaring cancels the square root in the Frobenius norm formula. Because of the <a href=\"https://en.wikipedia.org/wiki/Chain_rule\"> chain rule</a>, we would have to do more calculations if we had a square root in our expression for summation.\n",
        "            <li> Dividing the function value by the positive number doesn't change the optimum of the function, for the same reason as described above.\n",
        "            <li> We're interested in transforming English embedding into the French. Thus, it is more important to measure average loss per embedding than the loss for the entire dictionary (which increases as the number of words in the dictionary increases).\n",
        "        </ul>\n",
        "    </p>"
      ]
    },
    {
      "cell_type": "markdown",
      "metadata": {
        "id": "NLhJsXp-51km"
      },
      "source": [
        "<a name=\"ex-02\"></a>\n",
        "\n",
        "### Exercise 02: Implementing translation mechanism described in this section.\n",
        "\n",
        "#### Step 1: Computing the loss\n",
        "* The loss function will be squared Frobenoius norm of the difference between\n",
        "matrix and its approximation, divided by the number of training examples $m$.\n",
        "* Its formula is:\n",
        "$$ L(X, Y, R)=\\frac{1}{m}\\sum_{i=1}^{m} \\sum_{j=1}^{n}\\left( a_{i j} \\right)^{2}$$\n",
        "\n",
        "where $a_{i j}$ is value in $i$th row and $j$th column of the matrix $\\mathbf{XR}-\\mathbf{Y}$."
      ]
    },
    {
      "cell_type": "markdown",
      "metadata": {
        "id": "_rEnX4476OnA"
      },
      "source": [
        "#### Instructions: complete the `compute_loss()` function\n",
        "\n",
        "* Compute the approximation of `Y` by matrix multiplying `X` and `R`\n",
        "* Compute difference `XR - Y`\n",
        "* Compute the squared Frobenius norm of the difference and divide it by $m$."
      ]
    },
    {
      "cell_type": "markdown",
      "metadata": {
        "id": "Aqdq63aY69E2"
      },
      "source": [
        "<details>    \n",
        "<summary>\n",
        "    <font size=\"3\" color=\"darkgreen\"><b>Hints</b></font>\n",
        "</summary>\n",
        "<p>\n",
        "<ul>\n",
        "   <li> Useful functions:\n",
        "       <a href=\"https://docs.scipy.org/doc/numpy/reference/generated/numpy.dot.html\">Numpy dot </a>,\n",
        "       <a href=\"https://docs.scipy.org/doc/numpy/reference/generated/numpy.sum.html\">Numpy sum</a>,\n",
        "       <a href=\"https://docs.scipy.org/doc/numpy/reference/generated/numpy.square.html\">Numpy square</a>,\n",
        "       <a href=\"https://docs.scipy.org/doc/numpy/reference/generated/numpy.linalg.norm.html\">Numpy norm</a>\n",
        "    </li>\n",
        "   <li> Be careful about which operation is elementwise and which operation is a matrix multiplication.</li>\n",
        "   <li> Try to use matrix operations instead of the numpy norm function.  If you choose to use norm function, take care of extra arguments and that it's returning loss squared, and not the loss itself.</li>\n",
        "\n",
        "</ul>\n",
        "</p>"
      ]
    },
    {
      "cell_type": "code",
      "metadata": {
        "id": "x_rEUGau6OO8"
      },
      "source": [
        "# UNQ_C3 (UNIQUE CELL IDENTIFIER, DO NOT EDIT)\n",
        "def compute_loss(X, Y, R):\n",
        "    '''\n",
        "    Inputs: \n",
        "        X: a matrix of dimension (m,n) where the columns are the English embeddings.\n",
        "        Y: a matrix of dimension (m,n) where the columns correspong to the French embeddings.\n",
        "        R: a matrix of dimension (n,n) - transformation matrix from English to French vector space embeddings.\n",
        "    Outputs:\n",
        "        L: a matrix of dimension (m,n) - the value of the loss function for given X, Y and R.\n",
        "    '''\n",
        "    ### START CODE HERE (REPLACE INSTANCES OF 'None' with your code) ###\n",
        "    # m is the number of rows in X\n",
        "    m = len(X)\n",
        "    \n",
        "    # diff is XR - Y\n",
        "    diff = np.dot(X, R) - Y\n",
        "\n",
        "    # diff_squared is the element-wise square of the difference\n",
        "    diff_squared = np.square(diff)\n",
        "\n",
        "    # sum_diff_squared is the sum of the squared elements\n",
        "    sum_diff_squared = np.sum(diff_squared)\n",
        "\n",
        "    # loss i the sum_diff_squard divided by the number of examples (m)\n",
        "    loss = sum_diff_squared / m\n",
        "    ### END CODE HERE ###\n",
        "    return loss"
      ],
      "execution_count": 19,
      "outputs": []
    },
    {
      "cell_type": "markdown",
      "metadata": {
        "id": "ko8hfQnD8aPA"
      },
      "source": [
        "<a name=\"ex-03\"></a>\n",
        "\n",
        "### Exercise 03\n",
        "\n",
        "### Step 2: Computing the gradient of loss in respect to transform matrix R\n",
        "\n",
        "* Calculate the gradient of the loss with respect to transform matrix `R`.\n",
        "* The gradient is a matrix that encodes how much a small change in `R`\n",
        "affect the change in the loss function.\n",
        "* The gradient gives us the direction in which we should decrease `R`\n",
        "to minimize the loss.\n",
        "* $m$ is the number of training examples (number of rows in $X$).\n",
        "* The formula for the gradient of the loss function $𝐿(𝑋,𝑌,𝑅)$ is:\n",
        "\n",
        "$$\\frac{d}{dR}𝐿(𝑋,𝑌,𝑅)=\\frac{d}{dR}\\Big(\\frac{1}{m}\\| X R -Y\\|_{F}^{2}\\Big) = \\frac{2}{m}X^{T} (X R - Y)$$\n",
        "\n",
        "**Instructions**: Complete the `compute_gradient` function below."
      ]
    },
    {
      "cell_type": "markdown",
      "metadata": {
        "id": "_dtBxlcy8eUe"
      },
      "source": [
        "<details>\n",
        "<summary>\n",
        "    <font size=\"3\" color=\"darkgreen\"><b>Hints</b></font>\n",
        "</summary>\n",
        "<p>\n",
        "    <ul>\n",
        "    <li><a href=\"https://docs.scipy.org/doc/numpy/reference/generated/numpy.matrix.T.html\" > Transposing in numpy </a></li>\n",
        "    <li><a href=\"https://docs.scipy.org/doc/numpy/reference/generated/numpy.ndarray.shape.html\" > Finding out the dimensions</a> of matrices in numpy </li>\n",
        "    <li>Remember to use numpy.dot for matrix multiplication </li>\n",
        "    </ul>\n",
        "</p>"
      ]
    },
    {
      "cell_type": "code",
      "metadata": {
        "id": "4675_lca8aC-"
      },
      "source": [
        "# UNQ_C4 (UNIQUE CELL IDENTIFIER, DO NOT EDIT)\n",
        "def compute_gradient(X, Y, R):\n",
        "    '''\n",
        "    Inputs: \n",
        "        X: a matrix of dimension (m,n) where the columns are the English embeddings.\n",
        "        Y: a matrix of dimension (m,n) where the columns correspong to the French embeddings.\n",
        "        R: a matrix of dimension (n,n) - transformation matrix from English to French vector space embeddings.\n",
        "    Outputs:\n",
        "        g: a matrix of dimension (n,n) - gradient of the loss function L for given X, Y and R.\n",
        "    '''\n",
        "    ### START CODE HERE (REPLACE INSTANCES OF 'None' with your code) ###\n",
        "    # m is the number of rows in X\n",
        "    m = len(X)\n",
        "\n",
        "    # gradient is X^T(XR - Y) * 2/m\n",
        "    gradient = 2/m * np.dot(X.T, np.dot(X, R) - Y)\n",
        "    ### END CODE HERE ###\n",
        "    return gradient"
      ],
      "execution_count": 20,
      "outputs": []
    },
    {
      "cell_type": "markdown",
      "metadata": {
        "id": "ZjnUSVQu9gAp"
      },
      "source": [
        "### Step 3: Finding the optimal R with gradient descent algorithm\n",
        "\n",
        "#### Gradient descent\n",
        "\n",
        "[Gradient descent](https://ml-cheatsheet.readthedocs.io/en/latest/gradient_descent.html) is an iterative algorithm which is used in searching for the optimum of the function. \n",
        "* Earlier, we've mentioned that the gradient of the loss with respect to the matrix encodes how much a tiny change in some coordinate of that matrix affect the change of loss function.\n",
        "* Gradient descent uses that information to iteratively change matrix `R` until we reach a point where the loss is minimized. "
      ]
    },
    {
      "cell_type": "markdown",
      "metadata": {
        "id": "jhs83hy89g1x"
      },
      "source": [
        "#### Training with a fixed number of iterations\n",
        "\n",
        "Most of the time we iterate for a fixed number of training steps rather than iterating until the loss falls below a threshold.\n",
        "\n",
        "##### OPTIONAL: explanation for fixed number of iterations\n",
        "<details>\n",
        "<summary>\n",
        "    <font size=\"3\" color=\"darkgreen\"><b>click here for detailed discussion</b></font>\n",
        "</summary>\n",
        "<p>\n",
        "<ul>\n",
        "    <li> You cannot rely on training loss getting low -- what you really want is the validation loss to go down, or validation accuracy to go up. And indeed - in some cases people train until validation accuracy reaches a threshold, or -- commonly known as \"early stopping\" -- until the validation accuracy starts to go down, which is a sign of over-fitting.\n",
        "    </li>\n",
        "    <li>\n",
        "    Why not always do \"early stopping\"? Well, mostly because well-regularized models on larger data-sets never stop improving. Especially in NLP, you can often continue training for months and the model will continue getting slightly and slightly better. This is also the reason why it's hard to just stop at a threshold -- unless there's an external customer setting the threshold, why stop, where do you put the threshold?\n",
        "    </li>\n",
        "    <li>Stopping after a certain number of steps has the advantage that you know how long your training will take - so you can keep some sanity and not train for months. You can then try to get the best performance within this time budget. Another advantage is that you can fix your learning rate schedule -- e.g., lower the learning rate at 10% before finish, and then again more at 1% before finishing. Such learning rate schedules help a lot, but are harder to do if you don't know how long you're training.\n",
        "    </li>\n",
        "</ul>\n",
        "</p>"
      ]
    },
    {
      "cell_type": "markdown",
      "metadata": {
        "id": "UFVMDqnn-QJt"
      },
      "source": [
        "Pseudocode:\n",
        "1. Calculate gradient $g$ of the loss with respect to the matrix $R$.\n",
        "2. Update $R$ with the formula:\n",
        "$$R_{\\text{new}}= R_{\\text{old}}-\\alpha g$$\n",
        "\n",
        "Where $\\alpha$ is the learning rate, which is a scalar."
      ]
    },
    {
      "cell_type": "markdown",
      "metadata": {
        "id": "kGd7q5pp-RNm"
      },
      "source": [
        "#### Learning rate\n",
        "\n",
        "* The learning rate or \"step size\" $\\alpha$ is a coefficient which decides how much we want to change $R$ in each step.\n",
        "* If we change $R$ too much, we could skip the optimum by taking too large of a step.\n",
        "* If we make only small changes to $R$, we will need many steps to reach the optimum.\n",
        "* Learning rate $\\alpha$ is used to control those changes.\n",
        "* Values of $\\alpha$ are chosen depending on the problem, and we'll use `learning_rate`$=0.0003$ as the default value for our algorithm."
      ]
    },
    {
      "cell_type": "markdown",
      "metadata": {
        "id": "TqR4p5md-gtO"
      },
      "source": [
        "<a name=\"ex-04\"></a>\n",
        "\n",
        "### Exercise 04\n",
        "\n",
        "#### Instructions: Implement `align_embeddings()`"
      ]
    },
    {
      "cell_type": "markdown",
      "metadata": {
        "id": "WFfjT5St-ghT"
      },
      "source": [
        "<details>\n",
        "<summary>\n",
        "    <font size=\"3\" color=\"darkgreen\"><b>Hints</b></font>\n",
        "</summary>\n",
        "<p>\n",
        "<ul>\n",
        "    <li>Use the 'compute_gradient()' function to get the gradient in each step</li>\n",
        "\n",
        "</ul>\n",
        "</p>"
      ]
    },
    {
      "cell_type": "code",
      "metadata": {
        "id": "vfA8LEsv-lFS"
      },
      "source": [
        "# UNQ_C5 (UNIQUE CELL IDENTIFIER, DO NOT EDIT)\n",
        "def align_embeddings(X, Y, train_steps=100, learning_rate=0.0003):\n",
        "    '''\n",
        "    Inputs:\n",
        "        X: a matrix of dimension (m,n) where the columns are the English embeddings.\n",
        "        Y: a matrix of dimension (m,n) where the columns correspong to the French embeddings.\n",
        "        train_steps: positive int - describes how many steps will gradient descent algorithm do.\n",
        "        learning_rate: positive float - describes how big steps will  gradient descent algorithm do.\n",
        "    Outputs:\n",
        "        R: a matrix of dimension (n,n) - the projection matrix that minimizes the F norm ||X R -Y||^2\n",
        "    '''\n",
        "    np.random.seed(129)\n",
        "\n",
        "    # the number of columns in X is the number of dimensions for a word vector (e.g. 300)\n",
        "    # R is a square matrix with length equal to the number of dimensions in th  word embedding\n",
        "    R = np.random.rand(X.shape[1], X.shape[1])\n",
        "\n",
        "    for i in range(train_steps):\n",
        "        if i % 25 == 0:\n",
        "            print(f\"loss at iteration {i} is: {compute_loss(X, Y, R):.4f}\")\n",
        "        ### START CODE HERE (REPLACE INSTANCES OF 'None' with your code) ###\n",
        "        # use the function that you defined to compute the gradient\n",
        "        gradient = compute_gradient(X, Y, R)\n",
        "\n",
        "        # update R by subtracting the learning rate times gradient\n",
        "        R = R - learning_rate * gradient \n",
        "        ### END CODE HERE ###\n",
        "    return R"
      ],
      "execution_count": 21,
      "outputs": []
    },
    {
      "cell_type": "code",
      "metadata": {
        "id": "cSBtjSZc_mtI",
        "outputId": "7b08e74a-2315-43bc-cd6f-62421976f91f",
        "colab": {
          "base_uri": "https://localhost:8080/"
        }
      },
      "source": [
        "# UNQ_C6 (UNIQUE CELL IDENTIFIER, DO NOT EDIT)\n",
        "# You do not have to input any code in this cell, but it is relevant to grading, so please do not change anything\n",
        "\n",
        "# Testing your implementation.\n",
        "np.random.seed(129)\n",
        "m = 10\n",
        "n = 5\n",
        "X = np.random.rand(m, n)\n",
        "Y = np.random.rand(m, n) * .1\n",
        "R = align_embeddings(X, Y)"
      ],
      "execution_count": 22,
      "outputs": [
        {
          "output_type": "stream",
          "text": [
            "loss at iteration 0 is: 3.7242\n",
            "loss at iteration 25 is: 3.6283\n",
            "loss at iteration 50 is: 3.5350\n",
            "loss at iteration 75 is: 3.4442\n"
          ],
          "name": "stdout"
        }
      ]
    },
    {
      "cell_type": "markdown",
      "metadata": {
        "id": "SshRY46IAaJG"
      },
      "source": [
        "**Expected Output:**\n",
        "```\n",
        "loss at iteration 0 is: 3.7242\n",
        "loss at iteration 25 is: 3.6283\n",
        "loss at iteration 50 is: 3.5350\n",
        "loss at iteration 75 is: 3.4442\n",
        "```"
      ]
    },
    {
      "cell_type": "markdown",
      "metadata": {
        "id": "hR5_lq_dAbvq"
      },
      "source": [
        "## Calculate transformation matrix R\n",
        "\n",
        "Using those the training set, find the transformation matrix $\\mathbf{R}$ by calling the function `align_embeddings()`.\n",
        "\n",
        "**NOTE:** The code cell below will take a few minutes to fully execute (~3 mins)"
      ]
    },
    {
      "cell_type": "code",
      "metadata": {
        "id": "74hEk82GAdMP",
        "outputId": "d79bae4d-8273-4865-da4b-afebe34cadba",
        "colab": {
          "base_uri": "https://localhost:8080/"
        }
      },
      "source": [
        "# UNQ_C7 (UNIQUE CELL IDENTIFIER, DO NOT EDIT)\n",
        "# You do not have to input any code in this cell, but it is relevant to grading, so please do not change anything\n",
        "R_train = align_embeddings(X_train, Y_train, train_steps=400, learning_rate=0.8)"
      ],
      "execution_count": 23,
      "outputs": [
        {
          "output_type": "stream",
          "text": [
            "loss at iteration 0 is: 963.0146\n",
            "loss at iteration 25 is: 97.8292\n",
            "loss at iteration 50 is: 26.8329\n",
            "loss at iteration 75 is: 9.7893\n",
            "loss at iteration 100 is: 4.3776\n",
            "loss at iteration 125 is: 2.3281\n",
            "loss at iteration 150 is: 1.4480\n",
            "loss at iteration 175 is: 1.0338\n",
            "loss at iteration 200 is: 0.8251\n",
            "loss at iteration 225 is: 0.7145\n",
            "loss at iteration 250 is: 0.6534\n",
            "loss at iteration 275 is: 0.6185\n",
            "loss at iteration 300 is: 0.5981\n",
            "loss at iteration 325 is: 0.5858\n",
            "loss at iteration 350 is: 0.5782\n",
            "loss at iteration 375 is: 0.5735\n"
          ],
          "name": "stdout"
        }
      ]
    },
    {
      "cell_type": "markdown",
      "metadata": {
        "id": "ZDyTrQXrA-Vy"
      },
      "source": [
        "##### Expected Output\n",
        "\n",
        "```\n",
        "loss at iteration 0 is: 963.0146\n",
        "loss at iteration 25 is: 97.8292\n",
        "loss at iteration 50 is: 26.8329\n",
        "loss at iteration 75 is: 9.7893\n",
        "loss at iteration 100 is: 4.3776\n",
        "loss at iteration 125 is: 2.3281\n",
        "loss at iteration 150 is: 1.4480\n",
        "loss at iteration 175 is: 1.0338\n",
        "loss at iteration 200 is: 0.8251\n",
        "loss at iteration 225 is: 0.7145\n",
        "loss at iteration 250 is: 0.6534\n",
        "loss at iteration 275 is: 0.6185\n",
        "loss at iteration 300 is: 0.5981\n",
        "loss at iteration 325 is: 0.5858\n",
        "loss at iteration 350 is: 0.5782\n",
        "loss at iteration 375 is: 0.5735"
      ]
    },
    {
      "cell_type": "markdown",
      "metadata": {
        "id": "0itwLAaBsxe_"
      },
      "source": [
        "<a name=\"2-2\"></a>\n",
        "\n",
        "## 2.2 Testing the translation\n",
        "\n",
        "### k-Nearest neighbors algorithm\n",
        "\n",
        "[k-Nearest neighbors algorithm](https://en.wikipedia.org/wiki/K-nearest_neighbors_algorithm) \n",
        "* k-NN is a method which takes a vector as input and finds the other vectors in the dataset that are closest to it. \n",
        "* The 'k' is the number of \"nearest neighbors\" to find (e.g. k=2 finds the closest two neighbors).\n",
        "\n",
        "### Searching for the translation embedding\n",
        "Since we're approximating the translation function from English to French embeddings by a linear transformation matrix $\\mathbf{R}$, most of the time we won't get the exact embedding of a French word when we transform embedding $\\mathbf{e}$ of some particular English word into the French embedding space. \n",
        "* This is where $k$-NN becomes really useful! By using $1$-NN with $\\mathbf{eR}$ as input, we can search for an embedding $\\mathbf{f}$ (as a row) in the matrix $\\mathbf{Y}$ which is the closest to the transformed vector $\\mathbf{eR}$"
      ]
    },
    {
      "cell_type": "markdown",
      "metadata": {
        "id": "9lmKQt9Ss4fw"
      },
      "source": [
        "### Cosine similarity\n",
        "Cosine similarity between vectors $u$ and $v$ calculated as the cosine of the angle between them.\n",
        "The formula is \n",
        "\n",
        "$$\\cos(u,v)=\\frac{u\\cdot v}{\\left\\|u\\right\\|\\left\\|v\\right\\|}$$\n",
        "\n",
        "* $\\cos(u,v)$ = $1$ when $u$ and $v$ lie on the same line and have the same direction.\n",
        "* $\\cos(u,v)$ is $-1$ when they have exactly opposite directions.\n",
        "* $\\cos(u,v)$ is $0$ when the vectors are orthogonal (perpendicular) to each other."
      ]
    },
    {
      "cell_type": "markdown",
      "metadata": {
        "id": "syxr2qyLtaej"
      },
      "source": [
        "#### Note: Distance and similarity are pretty much opposite things.\n",
        "* We can obtain distance metric from cosine similarity, but the cosine similarity can't be used directly as the distance metric. \n",
        "* When the cosine similarity increases (towards $1$), the \"distance\" between the two vectors decreases (towards $0$). \n",
        "* We can define the cosine distance between $u$ and $v$ as\n",
        "$$d_{\\text{cos}}(u,v)=1-\\cos(u,v)$$"
      ]
    },
    {
      "cell_type": "markdown",
      "metadata": {
        "id": "AiEknhQotedF"
      },
      "source": [
        "<a name=\"ex-05\"></a>\n",
        "\n",
        "**Exercise 05**: Complete the function `nearest_neighbor()`\n",
        "\n",
        "Inputs:\n",
        "* Vector `v`,\n",
        "* A set of possible nearest neighbors `candidates`\n",
        "* `k` nearest neighbors to find.\n",
        "* The distance metric should be based on cosine similarity.\n",
        "* `cosine_similarity` function is already implemented and imported for you. It's arguments are two vectors and it returns the cosine of the angle between them.\n",
        "* Iterate over rows in `candidates`, and save the result of similarities between current row and vector `v` in a python list. Take care that similarities are in the same order as row vectors of `candidates`.\n",
        "* Now you can use [numpy argsort]( https://docs.scipy.org/doc/numpy/reference/generated/numpy.argsort.html#numpy.argsort) to sort the indices for the rows of `candidates`."
      ]
    },
    {
      "cell_type": "markdown",
      "metadata": {
        "id": "DhDGLSsQtg01"
      },
      "source": [
        "<details>\n",
        "<summary>\n",
        "    <font size=\"3\" color=\"darkgreen\"><b>Hints</b></font>\n",
        "</summary>\n",
        "<p>\n",
        "<ul>\n",
        "    <li> numpy.argsort sorts values from most negative to most positive (smallest to largest) </li>\n",
        "    <li> The candidates that are nearest to 'v' should have the highest cosine similarity </li>\n",
        "    <li> To get the last element of a list 'tmp', the notation is tmp[-1:] </li>\n",
        "</ul>\n",
        "</p>"
      ]
    },
    {
      "cell_type": "code",
      "metadata": {
        "id": "UZ75k_zms3KJ"
      },
      "source": [
        "# UNQ_C8 (UNIQUE CELL IDENTIFIER, DO NOT EDIT)\n",
        "def nearest_neighbor(v, candidates, k=1):\n",
        "    \"\"\"\n",
        "    Input:\n",
        "      - v, the vector you are going find the nearest neighbor for\n",
        "      - candidates: a set of vectors where we will find the neighbors\n",
        "      - k: top k nearest neighbors to find\n",
        "    Output:\n",
        "      - k_idx: the indices of the top k closest vectors in sorted form\n",
        "    \"\"\"\n",
        "    ### START CODE HERE (REPLACE INSTANCES OF 'None' with your code) ###\n",
        "    similarity_l = []\n",
        "\n",
        "    # for each candidate vector...\n",
        "    for row in candidates:\n",
        "        # get the cosine similarity\n",
        "        cos_sim = cosine_similarity(v, row)\n",
        "\n",
        "        # append the similarity to the list\n",
        "        similarity_l.append(cos_sim)\n",
        "        \n",
        "    # sort the similarity list and get the indices of the sorted list\n",
        "    sorted_ids = np.argsort(similarity_l)\n",
        "\n",
        "    # get the indices of the k most similar candidate vectors\n",
        "    k_idx = sorted_ids[-k:]\n",
        "    ### END CODE HERE ###\n",
        "    return k_idx\n"
      ],
      "execution_count": 24,
      "outputs": []
    },
    {
      "cell_type": "code",
      "metadata": {
        "id": "3i8ly79vA8ap",
        "outputId": "a74c35d4-f3f1-484b-b245-742c24c9e2c7",
        "colab": {
          "base_uri": "https://localhost:8080/"
        }
      },
      "source": [
        "# UNQ_C9 (UNIQUE CELL IDENTIFIER, DO NOT EDIT)\n",
        "# You do not have to input any code in this cell, but it is relevant to grading, so please do not change anything\n",
        "\n",
        "# Test your implementation:\n",
        "v = np.array([1, 0, 1])\n",
        "candidates = np.array([[1, 0, 5], [-2, 5, 3], [2, 0, 1], [6, -9, 5], [9, 9, 9]])\n",
        "print(candidates[nearest_neighbor(v, candidates, 3)])"
      ],
      "execution_count": 25,
      "outputs": [
        {
          "output_type": "stream",
          "text": [
            "[[9 9 9]\n",
            " [1 0 5]\n",
            " [2 0 1]]\n"
          ],
          "name": "stdout"
        }
      ]
    },
    {
      "cell_type": "markdown",
      "metadata": {
        "id": "K2VKJQ2ATizy"
      },
      "source": [
        "### Test your translation and compute its accuracy\n",
        "\n",
        "<a name=\"ex-06\"></a>\n",
        "**Exercise 06**:\n",
        "Complete the function `test_vocabulary` which takes in English\n",
        "embedding matrix $X$, French embedding matrix $Y$ and the $R$\n",
        "matrix and returns the accuracy of translations from $X$ to $Y$ by $R$.\n",
        "\n",
        "* Iterate over transformed English word embeddings and check if the\n",
        "closest French word vector belongs to French word that is the actual\n",
        "translation.\n",
        "* Obtain an index of the closest French embedding by using\n",
        "`nearest_neighbor` (with argument `k=1`), and compare it to the index\n",
        "of the English embedding you have just transformed.\n",
        "* Keep track of the number of times you get the correct translation.\n",
        "* Calculate accuracy as $$\\text{accuracy}=\\frac{\\#(\\text{correct predictions})}{\\#(\\text{total predictions})}$$"
      ]
    },
    {
      "cell_type": "code",
      "metadata": {
        "id": "u5xh4_PrA9h7"
      },
      "source": [
        "# UNQ_C10 (UNIQUE CELL IDENTIFIER, DO NOT EDIT)\n",
        "def test_vocabulary(X, Y, R):\n",
        "    '''\n",
        "    Input:\n",
        "        X: a matrix where the columns are the English embeddings.\n",
        "        Y: a matrix where the columns correspong to the French embeddings.\n",
        "        R: the transform matrix which translates word embeddings from\n",
        "        English to French word vector space.\n",
        "    Output:\n",
        "        accuracy: for the English to French capitals\n",
        "    '''\n",
        "\n",
        "    ### START CODE HERE (REPLACE INSTANCES OF 'None' with your code) ###\n",
        "    # The prediction is X times R\n",
        "    pred = np.dot(X, R)\n",
        "\n",
        "    # initialize the number correct to zero\n",
        "    num_correct = 0\n",
        "\n",
        "    # loop through each row in pred (each transformed embedding)\n",
        "    for i in range(len(pred)):\n",
        "        # get the index of the nearest neighbor of pred at row 'i'; also pass in the candidates in Y\n",
        "        pred_idx = nearest_neighbor(pred[i], Y)\n",
        "\n",
        "        # if the index of the nearest neighbor equals the row of i... \\\n",
        "        if pred_idx == i:\n",
        "            # increment the number correct by 1.\n",
        "            num_correct += 1\n",
        "\n",
        "    # accuracy is the number correct divided by the number of rows in 'pred' (also number of rows in X)\n",
        "    accuracy = num_correct / len(pred)\n",
        "\n",
        "    ### END CODE HERE ###\n",
        "\n",
        "    return accuracy"
      ],
      "execution_count": 26,
      "outputs": []
    },
    {
      "cell_type": "code",
      "metadata": {
        "id": "ksi1ujbcA9yZ"
      },
      "source": [
        "X_val, Y_val = get_matrices(en_fr_test, fr_embeddings_subset, en_embeddings_subset)"
      ],
      "execution_count": 27,
      "outputs": []
    },
    {
      "cell_type": "code",
      "metadata": {
        "id": "MPLgNGVwA9YP",
        "outputId": "36e0ac47-16c1-41b7-a57c-07ab3e31865f",
        "colab": {
          "base_uri": "https://localhost:8080/"
        }
      },
      "source": [
        "# UNQ_C11 (UNIQUE CELL IDENTIFIER, DO NOT EDIT)\n",
        "# You do not have to input any code in this cell, but it is relevant to grading, so please do not change anything\n",
        "\n",
        "acc = test_vocabulary(X_val, Y_val, R_train)  # this might take a minute or two\n",
        "print(f\"accuracy on test set is {acc:.3f}\")"
      ],
      "execution_count": 28,
      "outputs": [
        {
          "output_type": "stream",
          "text": [
            "accuracy on test set is 0.557\n"
          ],
          "name": "stdout"
        }
      ]
    },
    {
      "cell_type": "markdown",
      "metadata": {
        "id": "4yjk0Lb7nzGl"
      },
      "source": [
        "**Expected Output**:\n",
        "\n",
        "```\n",
        "0.557\n",
        "```\n",
        "\n",
        "You managed to translate words from one language to another language\n",
        "without ever seing them with almost 56% accuracy by using some basic\n",
        "linear algebra and learning a mapping of words from one language to another!"
      ]
    },
    {
      "cell_type": "markdown",
      "metadata": {
        "id": "P5H3XlkYn1IY"
      },
      "source": [
        "<a name=\"3\"></a>\n",
        "\n",
        "# 3. LSH and document search\n",
        "\n",
        "In this part of the assignment, you will implement a more efficient version\n",
        "of k-nearest neighbors using locality sensitive hashing.\n",
        "You will then apply this to document search.\n",
        "\n",
        "* Process the tweets and represent each tweet as a vector (represent a\n",
        "document with a vector embedding).\n",
        "* Use locality sensitive hashing and k nearest neighbors to find tweets\n",
        "that are similar to a given tweet."
      ]
    },
    {
      "cell_type": "code",
      "metadata": {
        "id": "qvzSxFsnn0Yb"
      },
      "source": [
        "# get the positive and negative tweets\n",
        "all_positive_tweets = twitter_samples.strings('positive_tweets.json')\n",
        "all_negative_tweets = twitter_samples.strings('negative_tweets.json')\n",
        "all_tweets = all_positive_tweets + all_negative_tweets"
      ],
      "execution_count": 29,
      "outputs": []
    },
    {
      "cell_type": "markdown",
      "metadata": {
        "id": "j6tZxDDYoSJO"
      },
      "source": [
        "<a name=\"3-1\"></a>\n",
        "\n",
        "### 3.1 Getting the document embeddings\n",
        "\n",
        "#### Bag-of-words (BOW) document models\n",
        "Text documents are sequences of words.\n",
        "* The ordering of words makes a difference. For example, sentences \"Apple pie is\n",
        "better than pepperoni pizza.\" and \"Pepperoni pizza is better than apple pie\"\n",
        "have opposite meanings due to the word ordering.\n",
        "* However, for some applications, ignoring the order of words can allow\n",
        "us to train an efficient and still effective model.\n",
        "* This approach is called Bag-of-words document model.\n",
        "\n",
        "#### Document embeddings\n",
        "* Document embedding is created by summing up the embeddings of all words\n",
        "in the document.\n",
        "* If we don't know the embedding of some word, we can ignore that word."
      ]
    },
    {
      "cell_type": "markdown",
      "metadata": {
        "id": "4a5ZkN_voViA"
      },
      "source": [
        "<a name=\"ex-07\"></a>\n",
        "\n",
        "**Exercise 07**:\n",
        "Complete the `get_document_embedding()` function.\n",
        "* The function `get_document_embedding()` encodes entire document as a \"document\" embedding.\n",
        "* It takes in a docoument (as a string) and a dictionary, `en_embeddings`\n",
        "* It processes the document, and looks up the corresponding embedding of each word.\n",
        "* It then sums them up and returns the sum of all word vectors of that processed tweet."
      ]
    },
    {
      "cell_type": "markdown",
      "metadata": {
        "id": "hf0h-gp2rY02"
      },
      "source": [
        "<details>\n",
        "<summary>\n",
        "    <font size=\"3\" color=\"darkgreen\"><b>Hints</b></font>\n",
        "</summary>\n",
        "<p>\n",
        "<ul>\n",
        "    <li> You can handle missing words easier by using the `get()` method of the python dictionary instead of the bracket notation (i.e. \"[ ]\"). See more about it <a href=\"https://stackoverflow.com/a/11041421/12816433\" >here</a> </li>\n",
        "    <li> The default value for missing word should be the zero vector. Numpy will <a href=\"https://docs.scipy.org/doc/numpy/user/basics.broadcasting.html\" > broadcast </a> simple 0 scalar into a vector of zeros during the summation.</li>\n",
        "    <li>Alternatively, skip the addition if a word is not in the dictonary. </li>\n",
        "    <li>  You can use your `process_tweet()` function which allows you to process the tweet. The function just takes in a tweet and returns a list of words.</li>\n",
        "</ul>\n",
        "</p>"
      ]
    },
    {
      "cell_type": "code",
      "metadata": {
        "id": "2r6BBqFSrOC1"
      },
      "source": [
        "# UNQ_C12 (UNIQUE CELL IDENTIFIER, DO NOT EDIT)\n",
        "def get_document_embedding(tweet, en_embeddings): \n",
        "    '''\n",
        "    Input:\n",
        "        - tweet: a string\n",
        "        - en_embeddings: a dictionary of word embeddings\n",
        "    Output:\n",
        "        - doc_embedding: sum of all word embeddings in the tweet\n",
        "    '''\n",
        "    doc_embedding = np.zeros(300, dtype=np.float64)\n",
        "\n",
        "    ### START CODE HERE (REPLACE INSTANCES OF 'None' with your code) ###\n",
        "    # process the document into a list of words (process the tweet)\n",
        "    processed_doc = process_tweet(tweet)\n",
        "    for word in processed_doc:\n",
        "        # add the word embedding to the running total for the document embedding\n",
        "        word_embedding = en_embeddings.get(word, None)\n",
        "        if word_embedding is not None:\n",
        "          doc_embedding = np.add(doc_embedding, word_embedding)\n",
        "    ### END CODE HERE ###\n",
        "    return doc_embedding"
      ],
      "execution_count": 30,
      "outputs": []
    },
    {
      "cell_type": "code",
      "metadata": {
        "id": "jUQHyUFktaMN",
        "outputId": "e7b7d953-b2f7-4aa1-825c-f99b21a0bd3e",
        "colab": {
          "base_uri": "https://localhost:8080/"
        }
      },
      "source": [
        "# UNQ_C13 (UNIQUE CELL IDENTIFIER, DO NOT EDIT)\n",
        "# You do not have to input any code in this cell, but it is relevant to grading, so please do not change anything\n",
        "\n",
        "# testing your function\n",
        "custom_tweet = \"RT @Twitter @chapagain Hello There! Have a great day. :) #good #morning http://chapagain.com.np\"\n",
        "tweet_embedding = get_document_embedding(custom_tweet, en_embeddings_subset)\n",
        "tweet_embedding[-5:]"
      ],
      "execution_count": 31,
      "outputs": [
        {
          "output_type": "execute_result",
          "data": {
            "text/plain": [
              "array([-0.00268555, -0.15378189, -0.55761719, -0.07216644, -0.32263184])"
            ]
          },
          "metadata": {
            "tags": []
          },
          "execution_count": 31
        }
      ]
    },
    {
      "cell_type": "markdown",
      "metadata": {
        "id": "8EB-3txGv6JT"
      },
      "source": [
        "**Expected output**:\n",
        "\n",
        "```\n",
        "array([-0.00268555, -0.15378189, -0.55761719, -0.07216644, -0.32263184])\n",
        "```"
      ]
    },
    {
      "cell_type": "markdown",
      "metadata": {
        "id": "yK-nrGRowE25"
      },
      "source": [
        "<a name=\"ex-08\"></a>\n",
        "\n",
        "### Exercise 08\n",
        "\n",
        "#### Store all document vectors into a dictionary\n",
        "Now, let's store all the tweet embeddings into a dictionary.\n",
        "Implement `get_document_vecs()`"
      ]
    },
    {
      "cell_type": "code",
      "metadata": {
        "id": "cqOsnLR6thhn"
      },
      "source": [
        "# UNQ_C14 (UNIQUE CELL IDENTIFIER, DO NOT EDIT)\n",
        "def get_document_vecs(all_docs, en_embeddings):\n",
        "    '''\n",
        "    Input:\n",
        "        - all_docs: list of strings - all tweets in our dataset.\n",
        "        - en_embeddings: dictionary with words as the keys and their embeddings as the values.\n",
        "    Output:\n",
        "        - document_vec_matrix: matrix of tweet embeddings.\n",
        "        - ind2Doc_dict: dictionary with indices of tweets in vecs as keys and their embeddings as the values.\n",
        "    '''\n",
        "\n",
        "    # the dictionary's key is an index (integer) that identifies a specific tweet\n",
        "    # the value is the document embedding for that document\n",
        "    ind2Doc_dict = {}\n",
        "\n",
        "    # this is list that will store the document vectors\n",
        "    document_vec_l = []\n",
        "\n",
        "    for i, doc in enumerate(all_docs):\n",
        "\n",
        "        ### START CODE HERE (REPLACE INSTANCES OF 'None' with your code) ###\n",
        "        # get the document embedding of the tweet\n",
        "        doc_embedding = process_tweet(doc)\n",
        "\n",
        "        # save the document embedding into the ind2Tweet dictionary at index i\n",
        "        ind2Doc_dict[i] = get_document_embedding(doc, en_embeddings)\n",
        "\n",
        "        # append the document embedding to the list of document vectors\n",
        "        document_vec_l.append(ind2Doc_dict[i])\n",
        "\n",
        "        ### END CODE HERE ###\n",
        "\n",
        "    # convert the list of document vectors into a 2D array (each row is a document vector)\n",
        "    document_vec_matrix = np.vstack(document_vec_l)\n",
        "\n",
        "    return document_vec_matrix, ind2Doc_dict"
      ],
      "execution_count": 32,
      "outputs": []
    },
    {
      "cell_type": "code",
      "metadata": {
        "id": "SB1cArTOxrI8"
      },
      "source": [
        "document_vecs, ind2Tweet = get_document_vecs(all_tweets, en_embeddings_subset)"
      ],
      "execution_count": 33,
      "outputs": []
    },
    {
      "cell_type": "code",
      "metadata": {
        "id": "d6RDNk3gxtwL",
        "outputId": "a9b1484d-cbd0-43bf-a618-65fdb314a21a",
        "colab": {
          "base_uri": "https://localhost:8080/"
        }
      },
      "source": [
        "# UNQ_C15 (UNIQUE CELL IDENTIFIER, DO NOT EDIT)\n",
        "# You do not have to input any code in this cell, but it is relevant to grading, so please do not change anything\n",
        "\n",
        "print(f\"length of dictionary {len(ind2Tweet)}\")\n",
        "print(f\"shape of document_vecs {document_vecs.shape}\")"
      ],
      "execution_count": 34,
      "outputs": [
        {
          "output_type": "stream",
          "text": [
            "length of dictionary 10000\n",
            "shape of document_vecs (10000, 300)\n"
          ],
          "name": "stdout"
        }
      ]
    },
    {
      "cell_type": "markdown",
      "metadata": {
        "id": "cGNJdl7ezcvE"
      },
      "source": [
        "##### Expected Output\n",
        "```\n",
        "length of dictionary 10000\n",
        "shape of document_vecs (10000, 300)\n",
        "```"
      ]
    },
    {
      "cell_type": "markdown",
      "metadata": {
        "id": "mfiyjWyy0DME"
      },
      "source": [
        "<a name=\"3-2\"></a>\n",
        "\n",
        "## 3.2 Looking up the tweets\n",
        "\n",
        "Now you have a vector of dimension (m,d) where `m` is the number of tweets\n",
        "(10,000) and `d` is the dimension of the embeddings (300).  Now you\n",
        "will input a tweet, and use cosine similarity to see which tweet in our\n",
        "corpus is similar to your tweet."
      ]
    },
    {
      "cell_type": "code",
      "metadata": {
        "id": "DdA1kLrazS2T"
      },
      "source": [
        "my_tweet = 'i am sad'\n",
        "process_tweet(my_tweet)\n",
        "tweet_embedding = get_document_embedding(my_tweet, en_embeddings_subset)"
      ],
      "execution_count": 35,
      "outputs": []
    },
    {
      "cell_type": "code",
      "metadata": {
        "id": "QdJSaiWa0HP4",
        "outputId": "b6178632-f511-460c-e73c-23e2a35fbab8",
        "colab": {
          "base_uri": "https://localhost:8080/"
        }
      },
      "source": [
        "# UNQ_C16 (UNIQUE CELL IDENTIFIER, DO NOT EDIT)\n",
        "# You do not have to input any code in this cell, but it is relevant to grading, so please do not change anything\n",
        "\n",
        "# this gives you a similar tweet as your input.\n",
        "# this implementation is vectorized...\n",
        "idx = np.argmax(cosine_similarity(document_vecs, tweet_embedding))\n",
        "print(all_tweets[idx])"
      ],
      "execution_count": 36,
      "outputs": [
        {
          "output_type": "stream",
          "text": [
            "@zoeeylim sad sad sad kid :( it's ok I help you watch the match HAHAHAHAHA\n"
          ],
          "name": "stdout"
        }
      ]
    },
    {
      "cell_type": "markdown",
      "metadata": {
        "id": "JKFTQtno0ak4"
      },
      "source": [
        "##### Expected Output\n",
        "\n",
        "```\n",
        "@zoeeylim sad sad sad kid :( it's ok I help you watch the match HAHAHAHAHA\n",
        "```"
      ]
    },
    {
      "cell_type": "markdown",
      "metadata": {
        "id": "QGyJjKwe1Xvk"
      },
      "source": [
        "<a name=\"3-3\"></a>\n",
        "\n",
        "## 3.3 Finding the most similar tweets with LSH\n",
        "\n",
        "You will now implement locality sensitive hashing (LSH) to identify the most similar tweet.\n",
        "* Instead of looking at all 10,000 vectors, you can just search a subset to find\n",
        "its nearest neighbors.\n",
        "\n",
        "Let's say your data points are plotted like this:\n",
        "\n",
        "\n",
        "<div style=\"width:image width px; font-size:100%; text-align:center;\"><img src='https://github.com/martin-fabbri/colab-notebooks/raw/master/deeplearning.ai/nlp/images/one.png' alt=\"alternate text\" width=\"200px\" height=\"100px\"/> Figure 3 </div>\n",
        "\n",
        "You can divide the vector space into regions and search within one region for nearest neighbors of a given vector.\n",
        "\n",
        "<div style=\"width:image width px; font-size:100%; text-align:center;\"><img src='https://github.com/martin-fabbri/colab-notebooks/raw/master/deeplearning.ai/nlp/images/four.png' alt=\"alternate text\" width=\"200px\" height=\"100px\" /> Figure 4 </div>"
      ]
    },
    {
      "cell_type": "code",
      "metadata": {
        "id": "_-3TolwV2XLS",
        "outputId": "050bf0c7-8786-4d86-f974-5570fef82dd6",
        "colab": {
          "base_uri": "https://localhost:8080/"
        }
      },
      "source": [
        "N_VECS = len(all_tweets)       # This many vectors.\n",
        "N_DIMS = len(ind2Tweet[1])     # Vector dimensionality.\n",
        "print(f\"Number of vectors is {N_VECS} and each has {N_DIMS} dimensions.\")"
      ],
      "execution_count": 37,
      "outputs": [
        {
          "output_type": "stream",
          "text": [
            "Number of vectors is 10000 and each has 300 dimensions.\n"
          ],
          "name": "stdout"
        }
      ]
    },
    {
      "cell_type": "markdown",
      "metadata": {
        "id": "743YGRrI2ekG"
      },
      "source": [
        "#### Choosing the number of planes\n",
        "\n",
        "* Each plane divides the space to $2$ parts.\n",
        "* So $n$ planes divide the space into $2^{n}$ hash buckets.\n",
        "* We want to organize 10,000 document vectors into buckets so that every bucket has about $~16$ vectors.\n",
        "* For that we need $\\frac{10000}{16}=625$ buckets.\n",
        "* We're interested in $n$, number of planes, so that $2^{n}= 625$. Now, we can calculate $n=\\log_{2}625 = 9.29 \\approx 10$."
      ]
    },
    {
      "cell_type": "code",
      "metadata": {
        "id": "roqPGGlY2WxI"
      },
      "source": [
        "# The number of planes. We use log2(625) to have ~16 vectors/bucket.\n",
        "N_PLANES = 10\n",
        "# Number of times to repeat the hashing to improve the search.\n",
        "N_UNIVERSES = 25"
      ],
      "execution_count": 38,
      "outputs": []
    },
    {
      "cell_type": "markdown",
      "metadata": {
        "id": "SN44Yc5XFd1t"
      },
      "source": [
        "<a name=\"3-4\"></a>\n",
        "\n",
        "## 3.4 Getting the hash number for a vector\n",
        "\n",
        "For each vector, we need to get a unique number associated to that vector in order to assign it to a \"hash bucket\".\n",
        "\n",
        "### Hyperlanes in vector spaces\n",
        "* In $3$-dimensional vector space, the hyperplane is a regular plane. In $2$ dimensional vector space, the hyperplane is a line.\n",
        "* Generally, the hyperplane is subspace which has dimension $1$ lower than the original vector space has.\n",
        "* A hyperplane is uniquely defined by its normal vector.\n",
        "* Normal vector $n$ of the plane $\\pi$ is the vector to which all vectors in the plane $\\pi$ are orthogonal (perpendicular in $3$ dimensional case).\n",
        "\n",
        "### Using Hyperplanes to split the vector space\n",
        "We can use a hyperplane to split the vector space into $2$ parts.\n",
        "* All vectors whose dot product with a plane's normal vector is positive are on one side of the plane.\n",
        "* All vectors whose dot product with the plane's normal vector is negative are on the other side of the plane.\n",
        "\n",
        "### Encoding hash buckets\n",
        "* For a vector, we can take its dot product with all the planes, then encode this information to assign the vector to a single hash bucket.\n",
        "* When the vector is pointing to the opposite side of the hyperplane than normal, encode it by 0.\n",
        "* Otherwise, if the vector is on the same side as the normal vector, encode it by 1.\n",
        "* If you calculate the dot product with each plane in the same order for every vector, you've encoded each vector's unique hash ID as a binary number, like [0, 1, 1, ... 0]."
      ]
    },
    {
      "cell_type": "markdown",
      "metadata": {
        "id": "h1ChTlzlGnoL"
      },
      "source": [
        "<a name=\"ex-09\"></a>\n",
        "\n",
        "### Exercise 09: Implementing hash buckets\n",
        "\n",
        "We've initialized hash table `hashes` for you. It is list of `N_UNIVERSES` matrices, each describes its own hash table. Each matrix has `N_DIMS` rows and `N_PLANES` columns. Every column of that matrix is a `N_DIMS`-dimensional normal vector for each of `N_PLANES` hyperplanes which are used for creating buckets of the particular hash table.\n",
        "\n",
        "*Exercise*: Your task is to complete the function `hash_value_of_vector` which places vector `v` in the correct hash bucket.\n",
        "\n",
        "* First multiply your vector `v`, with a corresponding plane. This will give you a vector of dimension $(1,\\text{N_planes})$.\n",
        "* You will then convert every element in that vector to 0 or 1.\n",
        "* You create a hash vector by doing the following: if the element is negative, it becomes a 0, otherwise you change it to a 1.\n",
        "* You then compute the unique number for the vector by iterating over `N_PLANES`\n",
        "* Then you multiply $2^i$ times the corresponding bit (0 or 1).\n",
        "* You will then store that sum in the variable `hash_value`.\n",
        "\n",
        "**Intructions:** Create a hash for the vector in the function below.\n",
        "Use this formula:\n",
        "\n",
        "$$ hash = \\sum_{i=0}^{N-1} \\left( 2^{i} \\times h_{i} \\right) $$"
      ]
    },
    {
      "cell_type": "markdown",
      "metadata": {
        "id": "iTWEg7faHXOg"
      },
      "source": [
        "#### Create the sets of planes\n",
        "* Create multiple (25) sets of planes (the planes that divide up the region).\n",
        "* You can think of these as 25 separate ways of dividing up the vector space with a different set of planes.\n",
        "* Each element of this list contains a matrix with 300 rows (the word vector have 300 dimensions), and 10 columns (there are 10 planes in each \"universe\")."
      ]
    },
    {
      "cell_type": "code",
      "metadata": {
        "id": "F7M06pEK2WuH",
        "outputId": "fb64a468-f041-47b9-ce1f-8c1bdfe6dec1",
        "colab": {
          "base_uri": "https://localhost:8080/"
        }
      },
      "source": [
        "np.random.seed(0)\n",
        "planes_l = [np.random.normal(size=(N_DIMS, N_PLANES))\n",
        "            for _ in range(N_UNIVERSES)]\n",
        "len(planes_l[0])"
      ],
      "execution_count": 39,
      "outputs": [
        {
          "output_type": "execute_result",
          "data": {
            "text/plain": [
              "300"
            ]
          },
          "metadata": {
            "tags": []
          },
          "execution_count": 39
        }
      ]
    },
    {
      "cell_type": "markdown",
      "metadata": {
        "id": "SPiFSBdCJp0f"
      },
      "source": [
        "<details>\n",
        "<summary>\n",
        "    <font size=\"3\" color=\"darkgreen\"><b>Hints</b></font>\n",
        "</summary>\n",
        "<p>\n",
        "<ul>\n",
        "    <li> numpy.squeeze() removes unused dimensions from an array; for instance, it converts a (10,1) 2D array into a (10,) 1D array</li>\n",
        "</ul>\n",
        "</p>"
      ]
    },
    {
      "cell_type": "code",
      "metadata": {
        "id": "LvWyEFK7Hui0"
      },
      "source": [
        "# UNQ_C17 (UNIQUE CELL IDENTIFIER, DO NOT EDIT)\n",
        "def hash_value_of_vector(v, planes):\n",
        "    \"\"\"Create a hash for a vector; hash_id says which random hash to use.\n",
        "    Input:\n",
        "        - v:  vector of tweet. It's dimension is (1, N_DIMS)\n",
        "        - planes: matrix of dimension (N_DIMS, N_PLANES) - the set of planes that divide up the region\n",
        "    Output:\n",
        "        - res: a number which is used as a hash for your vector\n",
        "\n",
        "    \"\"\"\n",
        "    ### START CODE HERE (REPLACE INSTANCES OF 'None' with your code) ###\n",
        "    # for the set of planes,\n",
        "    # calculate the dot product between the vector and the matrix containing the planes\n",
        "    # remember that planes has shape (300, 10)\n",
        "    # The dot product will have the shape (1,10)\n",
        "    dot_product = np.dot(planes.T, v.T)\n",
        "\n",
        "    # get the sign of the dot product (1,10) shaped vector\n",
        "    sign_of_dot_product = np.sign(dot_product)\n",
        "\n",
        "    # set h to be false (eqivalent to 0 when used in operations) if the sign is negative,\n",
        "    # and true (equivalent to 1) if the sign is positive (1,10) shaped vector\n",
        "    h = [1 if item >=0 else 0 for item in sign_of_dot_product]\n",
        "\n",
        "    # remove extra un-used dimensions (convert this from a 2D to a 1D array)\n",
        "    h = np.squeeze(h)\n",
        "\n",
        "    # initialize the hash value to 0\n",
        "    hash_value = 0\n",
        "\n",
        "    n_planes = planes.shape[1]\n",
        "    for i in range(n_planes):\n",
        "        # increment the hash value by 2^i * h_i\n",
        "        hash_value += 2**i * h[i]\n",
        "    ### END CODE HERE ###\n",
        "\n",
        "    # cast hash_value as an integer\n",
        "    hash_value = int(hash_value)\n",
        "\n",
        "    return hash_value\n"
      ],
      "execution_count": 40,
      "outputs": []
    },
    {
      "cell_type": "code",
      "metadata": {
        "id": "KGV6JmRzOzPV",
        "outputId": "c8be090f-847f-4b18-8f26-1279b9200fb5",
        "colab": {
          "base_uri": "https://localhost:8080/"
        }
      },
      "source": [
        "# UNQ_C18 (UNIQUE CELL IDENTIFIER, DO NOT EDIT)\n",
        "# You do not have to input any code in this cell, but it is relevant to grading, so please do not change anything\n",
        "\n",
        "np.random.seed(0)\n",
        "idx = 0\n",
        "planes = planes_l[idx]  # get one 'universe' of planes to test the function\n",
        "vec = np.random.rand(1, 300)\n",
        "print(f\" The hash value for this vector,\",\n",
        "      f\"and the set of planes at index {idx},\",\n",
        "      f\"is {hash_value_of_vector(vec, planes)}\")"
      ],
      "execution_count": 41,
      "outputs": [
        {
          "output_type": "stream",
          "text": [
            " The hash value for this vector, and the set of planes at index 0, is 768\n"
          ],
          "name": "stdout"
        }
      ]
    },
    {
      "cell_type": "markdown",
      "metadata": {
        "id": "kZq5XloGZMA9"
      },
      "source": [
        "##### Expected Output\n",
        "\n",
        "```\n",
        "The hash value for this vector, and the set of planes at index 0, is 768\n",
        "```"
      ]
    },
    {
      "cell_type": "markdown",
      "metadata": {
        "id": "qC2IFPGXaz5O"
      },
      "source": [
        "<a name=\"3-5\"></a>\n",
        "\n",
        "## 3.5 Creating a hash table\n",
        "\n",
        "<a name=\"ex-10\"></a>\n",
        "\n",
        "### Exercise 10\n",
        "\n",
        "Given that you have a unique number for each vector (or tweet), You now want to create a hash table. You need a hash table, so that given a hash_id, you can quickly look up the corresponding vectors. This allows you to reduce your search by a significant amount of time.\n",
        "\n",
        "<div style=\"width:image width px; font-size:100%; text-align:center;\"><img src='https://github.com/martin-fabbri/colab-notebooks/raw/master/deeplearning.ai/nlp/images/table.png' alt=\"alternate text\" width=\"400px\" height=\"200px\" />  </div>\n",
        "\n",
        "We have given you the `make_hash_table` function, which maps the tweet vectors to a bucket and stores the vector there. It returns the `hash_table` and the `id_table`. The `id_table` allows you know which vector in a certain bucket corresponds to what tweet."
      ]
    },
    {
      "cell_type": "markdown",
      "metadata": {
        "id": "H_YUs0NdbdP9"
      },
      "source": [
        "<details>    \n",
        "<summary>\n",
        "    <font size=\"3\" color=\"darkgreen\"><b>Hints</b></font>\n",
        "</summary>\n",
        "<p>\n",
        "<ul>\n",
        "    <li> a dictionary comprehension, similar to a list comprehension, looks like this: `{i:0 for i in range(10)}`, where the key is 'i' and the value is zero for all key-value pairs. </li>\n",
        "</ul>\n",
        "</p>"
      ]
    },
    {
      "cell_type": "code",
      "metadata": {
        "id": "AHhfSAfVPKjG"
      },
      "source": [
        "# UNQ_C19 (UNIQUE CELL IDENTIFIER, DO NOT EDIT)\n",
        "# This is the code used to create a hash table: feel free to read over it\n",
        "def make_hash_table(vecs, planes):\n",
        "    \"\"\"\n",
        "    Input:\n",
        "        - vecs: list of vectors to be hashed.\n",
        "        - planes: the matrix of planes in a single \"universe\", with shape (embedding dimensions, number of planes).\n",
        "    Output:\n",
        "        - hash_table: dictionary - keys are hashes, values are lists of vectors (hash buckets)\n",
        "        - id_table: dictionary - keys are hashes, values are list of vectors id's\n",
        "                            (it's used to know which tweet corresponds to the hashed vector)\n",
        "    \"\"\"\n",
        "    ### START CODE HERE (REPLACE INSTANCES OF 'None' with your code) ###\n",
        "\n",
        "    # number of planes is the number of columns in the planes matrix\n",
        "    _, num_of_planes = planes.shape\n",
        "\n",
        "    # number of buckets is 2^(number of planes)\n",
        "    num_buckets = 2 ** num_of_planes\n",
        "\n",
        "    # create the hash table as a dictionary.\n",
        "    # Keys are integers (0,1,2.. number of buckets)\n",
        "    # Values are empty lists\n",
        "    hash_table = {i: [] for i in range(num_buckets)}\n",
        "\n",
        "    # create the id table as a dictionary.\n",
        "    # Keys are integers (0,1,2... number of buckets)\n",
        "    # Values are empty lists\n",
        "    id_table = {i: [] for i in range(num_buckets)}\n",
        "\n",
        "    # for each vector in 'vecs'\n",
        "    for i, v in enumerate(vecs):\n",
        "        # calculate the hash value for the vector\n",
        "        h = hash_value_of_vector(v, planes)\n",
        "\n",
        "        # store the vector into hash_table at key h,\n",
        "        # by appending the vector v to the list at key h\n",
        "        hash_table[h].append(v)\n",
        "\n",
        "        # store the vector's index 'i' (each document is given a unique integer 0,1,2...)\n",
        "        # the key is the h, and the 'i' is appended to the list at key h\n",
        "        id_table[h].append(i)\n",
        "\n",
        "    ### END CODE HERE ###\n",
        "\n",
        "    return hash_table, id_table"
      ],
      "execution_count": 48,
      "outputs": []
    },
    {
      "cell_type": "code",
      "metadata": {
        "id": "cjy5gKopcAkw",
        "outputId": "6dfff58f-3198-45a9-bfca-f85538eac382",
        "colab": {
          "base_uri": "https://localhost:8080/"
        }
      },
      "source": [
        "# UNQ_C20 (UNIQUE CELL IDENTIFIER, DO NOT EDIT)\n",
        "# You do not have to input any code in this cell, but it is relevant to grading, so please do not change anything\n",
        "\n",
        "np.random.seed(0)\n",
        "planes = planes_l[0]  # get one 'universe' of planes to test the function\n",
        "vec = np.random.rand(1, 300)\n",
        "tmp_hash_table, tmp_id_table = make_hash_table(document_vecs, planes)\n",
        "\n",
        "print(f\"The hash table at key 0 has {len(tmp_hash_table[0])} document vectors\")\n",
        "print(f\"The id table at key 0 has {len(tmp_id_table[0])}\")\n",
        "print(f\"The first 5 document indices stored at key 0 of are {tmp_id_table[0][0:5]}\")"
      ],
      "execution_count": 49,
      "outputs": [
        {
          "output_type": "stream",
          "text": [
            "The hash table at key 0 has 3 document vectors\n",
            "The id table at key 0 has 3\n",
            "The first 5 document indices stored at key 0 of are [3276, 3281, 3282]\n"
          ],
          "name": "stdout"
        }
      ]
    },
    {
      "cell_type": "markdown",
      "metadata": {
        "id": "LVk_emqad-ek"
      },
      "source": [
        "##### Expected output\n",
        "```\n",
        "The hash table at key 0 has 3 document vectors\n",
        "The id table at key 0 has 3\n",
        "The first 5 document indices stored at key 0 of are [3276, 3281, 3282]\n",
        "```"
      ]
    },
    {
      "cell_type": "markdown",
      "metadata": {
        "id": "-sDYlNcBho61"
      },
      "source": [
        "<a name=\"3-6\"></a>\n",
        "\n",
        "### 3.6 Creating all hash tables\n",
        "\n",
        "You can now hash your vectors and store them in a hash table that\n",
        "would allow you to quickly look up and search for similar vectors.\n",
        "Run the cell below to create the hashes. By doing so, you end up having\n",
        "several tables which have all the vectors. Given a vector, you then\n",
        "identify the buckets in all the tables.  You can then iterate over the\n",
        "buckets and consider much fewer vectors. The more buckets you use, the\n",
        "more accurate your lookup will be, but also the longer it will take."
      ]
    },
    {
      "cell_type": "code",
      "metadata": {
        "id": "4ltH_JSjcA5l",
        "outputId": "40de853c-8dae-42ea-e815-09488a33007d",
        "colab": {
          "base_uri": "https://localhost:8080/"
        }
      },
      "source": [
        "# Creating the hashtables\n",
        "hash_tables = []\n",
        "id_tables = []\n",
        "for universe_id in range(N_UNIVERSES):  # there are 25 hashes\n",
        "    print('working on hash universe #:', universe_id)\n",
        "    planes = planes_l[universe_id]\n",
        "    hash_table, id_table = make_hash_table(document_vecs, planes)\n",
        "    hash_tables.append(hash_table)\n",
        "    id_tables.append(id_table)"
      ],
      "execution_count": 50,
      "outputs": [
        {
          "output_type": "stream",
          "text": [
            "working on hash universe #: 0\n",
            "working on hash universe #: 1\n",
            "working on hash universe #: 2\n",
            "working on hash universe #: 3\n",
            "working on hash universe #: 4\n",
            "working on hash universe #: 5\n",
            "working on hash universe #: 6\n",
            "working on hash universe #: 7\n",
            "working on hash universe #: 8\n",
            "working on hash universe #: 9\n",
            "working on hash universe #: 10\n",
            "working on hash universe #: 11\n",
            "working on hash universe #: 12\n",
            "working on hash universe #: 13\n",
            "working on hash universe #: 14\n",
            "working on hash universe #: 15\n",
            "working on hash universe #: 16\n",
            "working on hash universe #: 17\n",
            "working on hash universe #: 18\n",
            "working on hash universe #: 19\n",
            "working on hash universe #: 20\n",
            "working on hash universe #: 21\n",
            "working on hash universe #: 22\n",
            "working on hash universe #: 23\n",
            "working on hash universe #: 24\n"
          ],
          "name": "stdout"
        }
      ]
    },
    {
      "cell_type": "markdown",
      "metadata": {
        "id": "hn-8sNWLh2Ya"
      },
      "source": [
        "### Approximate K-NN\n",
        "\n",
        "<a name=\"ex-11\"></a>\n",
        "\n",
        "### Exercise 11\n",
        "\n",
        "Implement approximate K nearest neighbors using locality sensitive hashing,\n",
        "to search for documents that are similar to a given document at the\n",
        "index `doc_id`.\n",
        "\n",
        "##### Inputs\n",
        "* `doc_id` is the index into the document list `all_tweets`.\n",
        "* `v` is the document vector for the tweet in `all_tweets` at index `doc_id`.\n",
        "* `planes_l` is the list of planes (the global variable created earlier).\n",
        "* `k` is the number of nearest neighbors to search for.\n",
        "* `num_universes_to_use`: to save time, we can use fewer than the total\n",
        "number of available universes.  By default, it's set to `N_UNIVERSES`,\n",
        "which is $25$ for this assignment.\n",
        "\n",
        "The `approximate_knn` function finds a subset of candidate vectors that\n",
        "are in the same \"hash bucket\" as the input vector 'v'.  Then it performs\n",
        "the usual k-nearest neighbors search on this subset (instead of searching\n",
        "through all 10,000 tweets)."
      ]
    },
    {
      "cell_type": "markdown",
      "metadata": {
        "id": "PtFUsU2Ph3r4"
      },
      "source": [
        "<details>\n",
        "<summary>\n",
        "    <font size=\"3\" color=\"darkgreen\"><b>Hints</b></font>\n",
        "</summary>\n",
        "<p>\n",
        "<ul>\n",
        "    <li> There are many dictionaries used in this function.  Try to print out planes_l, hash_tables, id_tables to understand how they are structured, what the keys represent, and what the values contain.</li>\n",
        "    <li> To remove an item from a list, use `.remove()` </li>\n",
        "    <li> To append to a list, use `.append()` </li>\n",
        "    <li> To add to a set, use `.add()` </li>\n",
        "</ul>\n",
        "</p>"
      ]
    },
    {
      "cell_type": "code",
      "metadata": {
        "id": "uEror1xth3Ds"
      },
      "source": [
        "# UNQ_C21 (UNIQUE CELL IDENTIFIER, DO NOT EDIT)\n",
        "# This is the code used to do the fast nearest neighbor search. Feel free to go over it\n",
        "def approximate_knn(doc_id, v, planes_l, k=1, num_universes_to_use=N_UNIVERSES):\n",
        "    \"\"\"Search for k-NN using hashes.\"\"\"\n",
        "    assert num_universes_to_use <= N_UNIVERSES\n",
        "\n",
        "    # Vectors that will be checked as possible nearest neighbor\n",
        "    vecs_to_consider_l = list()\n",
        "\n",
        "    # list of document IDs\n",
        "    ids_to_consider_l = list()\n",
        "\n",
        "    # create a set for ids to consider, for faster checking if a document ID already exists in the set\n",
        "    ids_to_consider_set = set()\n",
        "\n",
        "    # loop through the universes of planes\n",
        "    for universe_id in range(num_universes_to_use):\n",
        "\n",
        "        # get the set of planes from the planes_l list, for this particular universe_id\n",
        "        planes = planes_l[universe_id]\n",
        "\n",
        "        # get the hash value of the vector for this set of planes\n",
        "        hash_value = hash_value_of_vector(v, planes)\n",
        "\n",
        "        # get the hash table for this particular universe_id\n",
        "        hash_table = hash_tables[universe_id]\n",
        "\n",
        "        # get the list of document vectors for this hash table, where the key is the hash_value\n",
        "        document_vectors_l = hash_table[hash_value]\n",
        "\n",
        "        # get the id_table for this particular universe_id\n",
        "        id_table = id_tables[universe_id]\n",
        "\n",
        "        # get the subset of documents to consider as nearest neighbors from this id_table dictionary\n",
        "        new_ids_to_consider = id_table[hash_value]\n",
        "\n",
        "        ### START CODE HERE (REPLACE INSTANCES OF 'None' with your code) ###\n",
        "\n",
        "        # remove the id of the document that we're searching\n",
        "        if doc_id in new_ids_to_consider:\n",
        "            new_ids_to_consider.remove(doc_id)\n",
        "            print(f\"removed doc_id {doc_id} of input vector from new_ids_to_search\")\n",
        "\n",
        "        # loop through the subset of document vectors to consider\n",
        "        for i, new_id in enumerate(new_ids_to_consider):\n",
        "\n",
        "            # if the document ID is not yet in the set ids_to_consider...\n",
        "            if new_id not in ids_to_consider_set:\n",
        "                # access document_vectors_l list at index i to get the embedding\n",
        "                # then append it to the list of vectors to consider as possible nearest neighbors\n",
        "                document_vector_at_i = document_vectors_l[i]\n",
        "                \n",
        "\n",
        "                # append the new_id (the index for the document) to the list of ids to consider\n",
        "                vecs_to_consider_l.append(document_vector_at_i)\n",
        "                ids_to_consider_l.append(new_id)\n",
        "                # also add the new_id to the set of ids to consider\n",
        "                # (use this to check if new_id is not already in the IDs to consider)\n",
        "                ids_to_consider_set.add(new_id)\n",
        "\n",
        "        ### END CODE HERE ###\n",
        "\n",
        "    # Now run k-NN on the smaller set of vecs-to-consider.\n",
        "    print(\"Fast considering %d vecs\" % len(vecs_to_consider_l))\n",
        "\n",
        "    # convert the vecs to consider set to a list, then to a numpy array\n",
        "    vecs_to_consider_arr = np.array(vecs_to_consider_l)\n",
        "\n",
        "    # call nearest neighbors on the reduced list of candidate vectors\n",
        "    nearest_neighbor_idx_l = nearest_neighbor(v, vecs_to_consider_arr, k=k)\n",
        "\n",
        "    # Use the nearest neighbor index list as indices into the ids to consider\n",
        "    # create a list of nearest neighbors by the document ids\n",
        "    nearest_neighbor_ids = [ids_to_consider_l[idx]\n",
        "                            for idx in nearest_neighbor_idx_l]\n",
        "\n",
        "    return nearest_neighbor_ids\n"
      ],
      "execution_count": 65,
      "outputs": []
    },
    {
      "cell_type": "code",
      "metadata": {
        "id": "jqR2rlAbmTwH"
      },
      "source": [
        "#document_vecs, ind2Tweet\n",
        "doc_id = 0\n",
        "doc_to_search = all_tweets[doc_id]\n",
        "vec_to_search = document_vecs[doc_id]"
      ],
      "execution_count": 67,
      "outputs": []
    },
    {
      "cell_type": "code",
      "metadata": {
        "id": "2ReU5xS9mbUq",
        "outputId": "5c9e39ad-e34e-417b-c3f9-85850f5da946",
        "colab": {
          "base_uri": "https://localhost:8080/"
        }
      },
      "source": [
        "# UNQ_C22 (UNIQUE CELL IDENTIFIER, DO NOT EDIT)\n",
        "# You do not have to input any code in this cell, but it is relevant to grading, so please do not change anything\n",
        "\n",
        "# Sample\n",
        "nearest_neighbor_ids = approximate_knn(\n",
        "    doc_id, vec_to_search, planes_l, k=3, num_universes_to_use=5)"
      ],
      "execution_count": 68,
      "outputs": [
        {
          "output_type": "stream",
          "text": [
            "removed doc_id 0 of input vector from new_ids_to_search\n",
            "removed doc_id 0 of input vector from new_ids_to_search\n",
            "removed doc_id 0 of input vector from new_ids_to_search\n",
            "removed doc_id 0 of input vector from new_ids_to_search\n",
            "removed doc_id 0 of input vector from new_ids_to_search\n",
            "Fast considering 77 vecs\n"
          ],
          "name": "stdout"
        }
      ]
    },
    {
      "cell_type": "code",
      "metadata": {
        "id": "_wPAMhVcmfIN",
        "outputId": "04390f08-4981-4c28-ca48-4c044c9b4f35",
        "colab": {
          "base_uri": "https://localhost:8080/"
        }
      },
      "source": [
        "print(f\"Nearest neighbors for document {doc_id}\")\n",
        "print(f\"Document contents: {doc_to_search}\")\n",
        "print(\"\")\n",
        "\n",
        "for neighbor_id in nearest_neighbor_ids:\n",
        "    print(f\"Nearest neighbor at document id {neighbor_id}\")\n",
        "    print(f\"document contents: {all_tweets[neighbor_id]}\")"
      ],
      "execution_count": 69,
      "outputs": [
        {
          "output_type": "stream",
          "text": [
            "Nearest neighbors for document 0\n",
            "Document contents: #FollowFriday @France_Inte @PKuchly57 @Milipol_Paris for being top engaged members in my community this week :)\n",
            "\n",
            "Nearest neighbor at document id 2140\n",
            "document contents: @PopsRamjet come one, every now and then is not so bad :)\n",
            "Nearest neighbor at document id 701\n",
            "document contents: With the top cutie of Bohol :) https://t.co/Jh7F6U46UB\n",
            "Nearest neighbor at document id 51\n",
            "document contents: #FollowFriday @France_Espana @reglisse_menthe @CCI_inter for being top engaged members in my community this week :)\n"
          ],
          "name": "stdout"
        }
      ]
    },
    {
      "cell_type": "code",
      "metadata": {
        "id": "idj1Pl7UmktB"
      },
      "source": [
        ""
      ],
      "execution_count": null,
      "outputs": []
    }
  ]
}