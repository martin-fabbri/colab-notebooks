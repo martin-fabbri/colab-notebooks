{
  "nbformat": 4,
  "nbformat_minor": 0,
  "metadata": {
    "colab": {
      "name": "c1-w4-assignment-naive-machine-translation-lsh.ipynb",
      "provenance": [],
      "authorship_tag": "ABX9TyN4MUkB6ucLv/oKQB9c3Gjb",
      "include_colab_link": true
    },
    "kernelspec": {
      "name": "python3",
      "display_name": "Python 3"
    }
  },
  "cells": [
    {
      "cell_type": "markdown",
      "metadata": {
        "id": "view-in-github",
        "colab_type": "text"
      },
      "source": [
        "<a href=\"https://colab.research.google.com/github/martin-fabbri/colab-notebooks/blob/master/deeplearning.ai/nlp/c1_w4_assignment_naive_machine_translation_lsh.ipynb\" target=\"_parent\"><img src=\"https://colab.research.google.com/assets/colab-badge.svg\" alt=\"Open In Colab\"/></a>"
      ]
    },
    {
      "cell_type": "markdown",
      "metadata": {
        "id": "pAmbNfhsYO0e"
      },
      "source": [
        "# Assignment 4 - Naive Machine Translation and LSH\n",
        "\n",
        "You will now implement your first machine translation system and then you\n",
        "will see how locality sensitive hashing works. Let's get started by importing\n",
        "the required functions!\n",
        "\n",
        "If you are running this notebook in your local computer, don't forget to\n",
        "download the twitter samples and stopwords from nltk.\n",
        "\n",
        "```\n",
        "nltk.download('stopwords')\n",
        "nltk.download('twitter_samples')\n",
        "```"
      ]
    },
    {
      "cell_type": "markdown",
      "metadata": {
        "id": "gkjMjgsaYOtT"
      },
      "source": [
        "### This assignment covers the folowing topics:\n",
        "\n",
        "- [1. The word embeddings data for English and French words](#1)\n",
        "  - [1.1 Generate embedding and transform matrices](#1-1)\n",
        "      - [Exercise 1](#ex-01)\n",
        "- [2. Translations](#2)\n",
        "  - [2.1 Translation as linear transformation of embeddings](#2-1)\n",
        "      - [Exercise 2](#ex-02)  \n",
        "      - [Exercise 3](#ex-03)  \n",
        "      - [Exercise 4](#ex-04)        \n",
        "  - [2.2 Testing the translation](#2-2)\n",
        "      - [Exercise 5](#ex-05)\n",
        "      - [Exercise 6](#ex-06)      \n",
        "- [3. LSH and document search](#3)\n",
        "  - [3.1 Getting the document embeddings](#3-1)\n",
        "      - [Exercise 7](#ex-07)\n",
        "      - [Exercise 8](#ex-08)      \n",
        "  - [3.2 Looking up the tweets](#3-2)\n",
        "  - [3.3 Finding the most similar tweets with LSH](#3-3)\n",
        "  - [3.4 Getting the hash number for a vector](#3-4)\n",
        "      - [Exercise 9](#ex-09)  \n",
        "  - [3.5 Creating a hash table](#3-5)\n",
        "      - [Exercise 10](#ex-10)  \n",
        "  - [3.6 Creating all hash tables](#3-6)\n",
        "      - [Exercise 11](#ex-11) "
      ]
    },
    {
      "cell_type": "code",
      "metadata": {
        "id": "QJ0jAE2vVw1Z"
      },
      "source": [
        "import pdb\n",
        "import pickle\n",
        "import string\n",
        "import re\n",
        "import time\n",
        "import nltk\n",
        "import gensim\n",
        "import scipy\n",
        "import sklearn\n",
        "\n",
        "import matplotlib.pyplot as plt\n",
        "import numpy as np\n",
        "import pandas as pd\n",
        "\n",
        "from gensim.models import KeyedVectors\n",
        "from nltk.corpus import stopwords\n",
        "from nltk.corpus import twitter_samples\n",
        "from nltk.stem import PorterStemmer\n",
        "from nltk.tokenize import TweetTokenizer"
      ],
      "execution_count": 5,
      "outputs": []
    },
    {
      "cell_type": "code",
      "metadata": {
        "id": "gzEvWgmSZB3y",
        "outputId": "3403ec10-df9d-4d83-cbca-adb9fc54182b",
        "colab": {
          "base_uri": "https://localhost:8080/"
        }
      },
      "source": [
        "nltk.download('stopwords')\n",
        "nltk.download('twitter_samples')"
      ],
      "execution_count": 3,
      "outputs": [
        {
          "output_type": "stream",
          "text": [
            "[nltk_data] Downloading package stopwords to /root/nltk_data...\n",
            "[nltk_data]   Unzipping corpora/stopwords.zip.\n",
            "[nltk_data] Downloading package twitter_samples to /root/nltk_data...\n",
            "[nltk_data]   Unzipping corpora/twitter_samples.zip.\n"
          ],
          "name": "stdout"
        },
        {
          "output_type": "execute_result",
          "data": {
            "text/plain": [
              "True"
            ]
          },
          "metadata": {
            "tags": []
          },
          "execution_count": 3
        }
      ]
    },
    {
      "cell_type": "code",
      "metadata": {
        "id": "9l_3mA5lZPIB"
      },
      "source": [
        "def process_tweet(tweet):\n",
        "    '''\n",
        "    Input:\n",
        "        tweet: a string containing a tweet\n",
        "    Output:\n",
        "        tweets_clean: a list of words containing the processed tweet\n",
        "\n",
        "    '''\n",
        "    stemmer = PorterStemmer()\n",
        "    stopwords_english = stopwords.words('english')\n",
        "    # remove stock market tickers like $GE\n",
        "    tweet = re.sub(r'\\$\\w*', '', tweet)\n",
        "    # remove old style retweet text \"RT\"\n",
        "    tweet = re.sub(r'^RT[\\s]+', '', tweet)\n",
        "    # remove hyperlinks\n",
        "    tweet = re.sub(r'https?:\\/\\/.*[\\r\\n]*', '', tweet)\n",
        "    # remove hashtags\n",
        "    # only removing the hash # sign from the word\n",
        "    tweet = re.sub(r'#', '', tweet)\n",
        "    # tokenize tweets\n",
        "    tokenizer = TweetTokenizer(preserve_case=False, strip_handles=True,\n",
        "                               reduce_len=True)\n",
        "    tweet_tokens = tokenizer.tokenize(tweet)\n",
        "\n",
        "    tweets_clean = []\n",
        "    for word in tweet_tokens:\n",
        "        if (word not in stopwords_english and  # remove stopwords\n",
        "            word not in string.punctuation):  # remove punctuation\n",
        "            # tweets_clean.append(word)\n",
        "            stem_word = stemmer.stem(word)  # stemming word\n",
        "            tweets_clean.append(stem_word)\n",
        "\n",
        "    return tweets_clean\n",
        "\n",
        "\n",
        "def get_dict(file_name):\n",
        "    \"\"\"\n",
        "    This function returns the english to french dictionary given a file where the each column corresponds to a word.\n",
        "    Check out the files this function takes in your workspace.\n",
        "    \"\"\"\n",
        "    my_file = pd.read_csv(file_name, delimiter=' ')\n",
        "    etof = {}  # the english to french dictionary to be returned\n",
        "    for i in range(len(my_file)):\n",
        "        # indexing into the rows.\n",
        "        en = my_file.loc[i][0]\n",
        "        fr = my_file.loc[i][1]\n",
        "        etof[en] = fr\n",
        "\n",
        "    return etof\n",
        "\n",
        "\n",
        "def cosine_similarity(A, B):\n",
        "    '''\n",
        "    Input:\n",
        "        A: a numpy array which corresponds to a word vector\n",
        "        B: A numpy array which corresponds to a word vector\n",
        "    Output:\n",
        "        cos: numerical number representing the cosine similarity between A and B.\n",
        "    '''\n",
        "    # you have to set this variable to the true label.\n",
        "    cos = -10\n",
        "    dot = np.dot(A, B)\n",
        "    norma = np.linalg.norm(A)\n",
        "    normb = np.linalg.norm(B)\n",
        "    cos = dot / (norma * normb)\n",
        "\n",
        "    return cos"
      ],
      "execution_count": 6,
      "outputs": []
    },
    {
      "cell_type": "markdown",
      "metadata": {
        "id": "IdVvY0TWZyLa"
      },
      "source": [
        "<a name=\"1\"></a>\n",
        "\n",
        "# 1. The word embeddings data for English and French words\n",
        "\n",
        "Write a program that translates English to French.\n",
        "\n",
        "## The data\n",
        "\n",
        "The full dataset for English embeddings is about 3.64 gigabytes, and the French\n",
        "embeddings are about 629 megabytes. To prevent the Coursera workspace from\n",
        "crashing, we've extracted a subset of the embeddings for the words that you'll\n",
        "use in this assignment.\n",
        "\n",
        "If you want to run this on your local computer and use the full dataset,\n",
        "you can download the\n",
        "* English embeddings from Google code archive word2vec\n",
        "[look for GoogleNews-vectors-negative300.bin.gz](https://code.google.com/archive/p/word2vec/)\n",
        "    * You'll need to unzip the file first.\n",
        "* and the French embeddings from\n",
        "[cross_lingual_text_classification](https://github.com/vjstark/crosslingual_text_classification).\n",
        "    * in the terminal, type (in one line)\n",
        "    `curl -o ./wiki.multi.fr.vec https://dl.fbaipublicfiles.com/arrival/vectors/wiki.multi.fr.vec`\n",
        "\n",
        "Then copy-paste the code below and run it."
      ]
    },
    {
      "cell_type": "markdown",
      "metadata": {
        "id": "2BbiHl89aoJp"
      },
      "source": [
        "```python\n",
        "# Use this code to download and process the full dataset on your local computer\n",
        "\n",
        "from gensim.models import KeyedVectors\n",
        "\n",
        "en_embeddings = KeyedVectors.load_word2vec_format('./GoogleNews-vectors-negative300.bin', binary = True)\n",
        "fr_embeddings = KeyedVectors.load_word2vec_format('./wiki.multi.fr.vec')\n",
        "\n",
        "\n",
        "# loading the english to french dictionaries\n",
        "en_fr_train = get_dict('en-fr.train.txt')\n",
        "print('The length of the english to french training dictionary is', len(en_fr_train))\n",
        "en_fr_test = get_dict('en-fr.test.txt')\n",
        "print('The length of the english to french test dictionary is', len(en_fr_train))\n",
        "\n",
        "english_set = set(en_embeddings.vocab)\n",
        "french_set = set(fr_embeddings.vocab)\n",
        "en_embeddings_subset = {}\n",
        "fr_embeddings_subset = {}\n",
        "french_words = set(en_fr_train.values())\n",
        "\n",
        "for en_word in en_fr_train.keys():\n",
        "    fr_word = en_fr_train[en_word]\n",
        "    if fr_word in french_set and en_word in english_set:\n",
        "        en_embeddings_subset[en_word] = en_embeddings[en_word]\n",
        "        fr_embeddings_subset[fr_word] = fr_embeddings[fr_word]\n",
        "\n",
        "\n",
        "for en_word in en_fr_test.keys():\n",
        "    fr_word = en_fr_test[en_word]\n",
        "    if fr_word in french_set and en_word in english_set:\n",
        "        en_embeddings_subset[en_word] = en_embeddings[en_word]\n",
        "        fr_embeddings_subset[fr_word] = fr_embeddings[fr_word]\n",
        "\n",
        "\n",
        "pickle.dump( en_embeddings_subset, open( \"en_embeddings.p\", \"wb\" ) )\n",
        "pickle.dump( fr_embeddings_subset, open( \"fr_embeddings.p\", \"wb\" ) )\n",
        "```"
      ]
    },
    {
      "cell_type": "markdown",
      "metadata": {
        "id": "xO6Xcu5Wc1R1"
      },
      "source": [
        "#### The subset of data\n",
        "\n",
        "To do the assignment on the Coursera workspace, we'll use the subset of word embeddings."
      ]
    },
    {
      "cell_type": "code",
      "metadata": {
        "id": "Fm63Btt6dAEJ",
        "outputId": "9b841b53-7178-4671-cc3b-7fc08b0c7cd4",
        "colab": {
          "base_uri": "https://localhost:8080/"
        }
      },
      "source": [
        "!wget https://github.com/martin-fabbri/colab-notebooks/raw/master/data/nlp/en_embeddings.p\n",
        "!wget https://github.com/martin-fabbri/colab-notebooks/raw/master/data/nlp/fr_embeddings.p"
      ],
      "execution_count": 7,
      "outputs": [
        {
          "output_type": "stream",
          "text": [
            "--2020-11-05 17:29:28--  https://github.com/martin-fabbri/colab-notebooks/raw/master/data/nlp/en_embeddings.p\n",
            "Resolving github.com (github.com)... 140.82.114.3\n",
            "Connecting to github.com (github.com)|140.82.114.3|:443... connected.\n",
            "HTTP request sent, awaiting response... 302 Found\n",
            "Location: https://raw.githubusercontent.com/martin-fabbri/colab-notebooks/master/data/nlp/en_embeddings.p [following]\n",
            "--2020-11-05 17:29:30--  https://raw.githubusercontent.com/martin-fabbri/colab-notebooks/master/data/nlp/en_embeddings.p\n",
            "Resolving raw.githubusercontent.com (raw.githubusercontent.com)... 151.101.0.133, 151.101.64.133, 151.101.128.133, ...\n",
            "Connecting to raw.githubusercontent.com (raw.githubusercontent.com)|151.101.0.133|:443... connected.\n",
            "HTTP request sent, awaiting response... 200 OK\n",
            "Length: 8119809 (7.7M) [application/octet-stream]\n",
            "Saving to: ‘en_embeddings.p’\n",
            "\n",
            "en_embeddings.p     100%[===================>]   7.74M  21.9MB/s    in 0.4s    \n",
            "\n",
            "2020-11-05 17:29:31 (21.9 MB/s) - ‘en_embeddings.p’ saved [8119809/8119809]\n",
            "\n",
            "--2020-11-05 17:29:31--  https://github.com/martin-fabbri/colab-notebooks/blob/master/data/nlp/fr_embeddings.p\n",
            "Resolving github.com (github.com)... 140.82.113.4\n",
            "Connecting to github.com (github.com)|140.82.113.4|:443... connected.\n",
            "HTTP request sent, awaiting response... 200 OK\n",
            "Length: unspecified [text/html]\n",
            "Saving to: ‘fr_embeddings.p’\n",
            "\n",
            "fr_embeddings.p         [ <=>                ]  79.31K  --.-KB/s    in 0.03s   \n",
            "\n",
            "2020-11-05 17:29:31 (2.63 MB/s) - ‘fr_embeddings.p’ saved [81218]\n",
            "\n"
          ],
          "name": "stdout"
        }
      ]
    },
    {
      "cell_type": "code",
      "metadata": {
        "id": "pPcUCgcbZPNW",
        "outputId": "134b189a-fad9-4e5f-bf95-89e98f32a9af",
        "colab": {
          "base_uri": "https://localhost:8080/",
          "height": 178
        }
      },
      "source": [
        "en_embeddings_subset = pickle.load(open('en_embeddings.p', 'rb'))\n",
        "fr_embeddings_subset = pickle.load(open('fr_embeddings.p', 'rb'))"
      ],
      "execution_count": 8,
      "outputs": [
        {
          "output_type": "error",
          "ename": "UnpicklingError",
          "evalue": "ignored",
          "traceback": [
            "\u001b[0;31m---------------------------------------------------------------------------\u001b[0m",
            "\u001b[0;31mUnpicklingError\u001b[0m                           Traceback (most recent call last)",
            "\u001b[0;32m<ipython-input-8-584f77732455>\u001b[0m in \u001b[0;36m<module>\u001b[0;34m()\u001b[0m\n\u001b[1;32m      1\u001b[0m \u001b[0men_embeddings_subset\u001b[0m \u001b[0;34m=\u001b[0m \u001b[0mpickle\u001b[0m\u001b[0;34m.\u001b[0m\u001b[0mload\u001b[0m\u001b[0;34m(\u001b[0m\u001b[0mopen\u001b[0m\u001b[0;34m(\u001b[0m\u001b[0;34m'en_embeddings.p'\u001b[0m\u001b[0;34m,\u001b[0m \u001b[0;34m'rb'\u001b[0m\u001b[0;34m)\u001b[0m\u001b[0;34m)\u001b[0m\u001b[0;34m\u001b[0m\u001b[0;34m\u001b[0m\u001b[0m\n\u001b[0;32m----> 2\u001b[0;31m \u001b[0mfr_embeddings_subset\u001b[0m \u001b[0;34m=\u001b[0m \u001b[0mpickle\u001b[0m\u001b[0;34m.\u001b[0m\u001b[0mload\u001b[0m\u001b[0;34m(\u001b[0m\u001b[0mopen\u001b[0m\u001b[0;34m(\u001b[0m\u001b[0;34m'fr_embeddings.p'\u001b[0m\u001b[0;34m,\u001b[0m \u001b[0;34m'rb'\u001b[0m\u001b[0;34m)\u001b[0m\u001b[0;34m)\u001b[0m\u001b[0;34m\u001b[0m\u001b[0;34m\u001b[0m\u001b[0m\n\u001b[0m",
            "\u001b[0;31mUnpicklingError\u001b[0m: invalid load key, '\\x0a'."
          ]
        }
      ]
    },
    {
      "cell_type": "code",
      "metadata": {
        "id": "Bhnjc-GLZPU0"
      },
      "source": [
        "fr_embeddings_subset = pickle.load(open('fr_embeddings.p', 'rb'))"
      ],
      "execution_count": null,
      "outputs": []
    },
    {
      "cell_type": "code",
      "metadata": {
        "id": "mDNnMDZLZPas"
      },
      "source": [
        ""
      ],
      "execution_count": null,
      "outputs": []
    },
    {
      "cell_type": "code",
      "metadata": {
        "id": "LNdUemYiZPX4"
      },
      "source": [
        ""
      ],
      "execution_count": null,
      "outputs": []
    },
    {
      "cell_type": "code",
      "metadata": {
        "id": "Nb7hIkSkZPRl"
      },
      "source": [
        ""
      ],
      "execution_count": null,
      "outputs": []
    },
    {
      "cell_type": "code",
      "metadata": {
        "id": "OrInXZXaZPKz"
      },
      "source": [
        ""
      ],
      "execution_count": null,
      "outputs": []
    },
    {
      "cell_type": "code",
      "metadata": {
        "id": "J6d14JkiZO8S"
      },
      "source": [
        ""
      ],
      "execution_count": null,
      "outputs": []
    }
  ]
}