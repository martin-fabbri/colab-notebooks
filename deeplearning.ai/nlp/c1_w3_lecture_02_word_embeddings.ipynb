{
  "nbformat": 4,
  "nbformat_minor": 0,
  "metadata": {
    "colab": {
      "name": "c1-w3-lecture-02-word-embeddings.ipynb",
      "provenance": [],
      "collapsed_sections": [],
      "toc_visible": true,
      "authorship_tag": "ABX9TyN6cf216zVIObJNkQMedeEN",
      "include_colab_link": true
    },
    "kernelspec": {
      "name": "python3",
      "display_name": "Python 3"
    }
  },
  "cells": [
    {
      "cell_type": "markdown",
      "metadata": {
        "id": "view-in-github",
        "colab_type": "text"
      },
      "source": [
        "<a href=\"https://colab.research.google.com/github/martin-fabbri/colab-notebooks/blob/master/deeplearning.ai/nlp/c1_w3_lecture_02_word_embeddings.ipynb\" target=\"_parent\"><img src=\"https://colab.research.google.com/assets/colab-badge.svg\" alt=\"Open In Colab\"/></a>"
      ]
    },
    {
      "cell_type": "markdown",
      "metadata": {
        "id": "p2_4RbnFZ4Xb"
      },
      "source": [
        "# Manipulating Word Embeddings\n",
        "\n",
        "This notebook explores how to apply linear algebra to find analogies between words manually."
      ]
    },
    {
      "cell_type": "code",
      "metadata": {
        "id": "LEt_bHtnb33e",
        "outputId": "df2a8e57-7901-4793-ee8f-5ed9e523d092",
        "colab": {
          "base_uri": "https://localhost:8080/"
        }
      },
      "source": [
        "!wget 'https://github.com/martin-fabbri/colab-notebooks/raw/master/data/nlp/word_embeddings_subset.p'"
      ],
      "execution_count": 1,
      "outputs": [
        {
          "output_type": "stream",
          "text": [
            "--2020-11-03 14:23:13--  https://github.com/martin-fabbri/colab-notebooks/raw/master/data/nlp/word_embeddings_subset.p\n",
            "Resolving github.com (github.com)... 140.82.113.4\n",
            "Connecting to github.com (github.com)|140.82.113.4|:443... connected.\n",
            "HTTP request sent, awaiting response... 302 Found\n",
            "Location: https://raw.githubusercontent.com/martin-fabbri/colab-notebooks/master/data/nlp/word_embeddings_subset.p [following]\n",
            "--2020-11-03 14:23:13--  https://raw.githubusercontent.com/martin-fabbri/colab-notebooks/master/data/nlp/word_embeddings_subset.p\n",
            "Resolving raw.githubusercontent.com (raw.githubusercontent.com)... 151.101.0.133, 151.101.64.133, 151.101.128.133, ...\n",
            "Connecting to raw.githubusercontent.com (raw.githubusercontent.com)|151.101.0.133|:443... connected.\n",
            "HTTP request sent, awaiting response... 200 OK\n",
            "Length: 309156 (302K) [application/octet-stream]\n",
            "Saving to: ‘word_embeddings_subset.p’\n",
            "\n",
            "word_embeddings_sub 100%[===================>] 301.91K  --.-KB/s    in 0.05s   \n",
            "\n",
            "2020-11-03 14:23:13 (5.53 MB/s) - ‘word_embeddings_subset.p’ saved [309156/309156]\n",
            "\n"
          ],
          "name": "stdout"
        }
      ]
    },
    {
      "cell_type": "code",
      "metadata": {
        "id": "PFE2MxVaZ3tM",
        "outputId": "6aec7de3-1568-4561-fbd2-ef7932f56c16",
        "colab": {
          "base_uri": "https://localhost:8080/"
        }
      },
      "source": [
        "import pandas as pd\n",
        "import numpy as np\n",
        "import pickle \n",
        "\n",
        "word_embeddings_url = 'word_embeddings_subset.p'\n",
        "word_embeddings = pickle.load(open(word_embeddings_url, 'rb'))\n",
        "len(word_embeddings)"
      ],
      "execution_count": 2,
      "outputs": [
        {
          "output_type": "execute_result",
          "data": {
            "text/plain": [
              "243"
            ]
          },
          "metadata": {
            "tags": []
          },
          "execution_count": 2
        }
      ]
    },
    {
      "cell_type": "markdown",
      "metadata": {
        "id": "XA0_ZL4gcRSd"
      },
      "source": [
        "Now that the model is loaded, we can take a look at the word representations. First, note that the `word embeddings` is a dictionary. Each word is the key to the entry, and the value is its corresponding vector presentation. Remember that square brackers allow access to an entry if the key exists. "
      ]
    },
    {
      "cell_type": "code",
      "metadata": {
        "id": "MlW0dmJlbtGj",
        "outputId": "f87ac163-2178-40e2-9a7d-e5b7195af12d",
        "colab": {
          "base_uri": "https://localhost:8080/"
        }
      },
      "source": [
        "country_vector = word_embeddings['country']\n",
        "print(f'vector type: {type(country_vector)}')\n",
        "print(f'vector shape: {country_vector.shape}')\n",
        "country_vector[:3]"
      ],
      "execution_count": 3,
      "outputs": [
        {
          "output_type": "stream",
          "text": [
            "vector type: <class 'numpy.ndarray'>\n",
            "vector shape: (300,)\n"
          ],
          "name": "stdout"
        },
        {
          "output_type": "execute_result",
          "data": {
            "text/plain": [
              "array([-0.08007812,  0.13378906,  0.14355469], dtype=float32)"
            ]
          },
          "metadata": {
            "tags": []
          },
          "execution_count": 3
        }
      ]
    },
    {
      "cell_type": "markdown",
      "metadata": {
        "id": "uLO1i_5QdyaH"
      },
      "source": [
        "It is important to note that we store each vector as a np array. It allows us to use the linear algebra operations on it.\n",
        "\n",
        "The vectors have a a size of 300, while the vocabulary size of Google News is around 3 million words!"
      ]
    },
    {
      "cell_type": "code",
      "metadata": {
        "id": "5UwyIAa6dWRD"
      },
      "source": [
        "def vec(w):\n",
        "  return word_embeddings[w]"
      ],
      "execution_count": 4,
      "outputs": []
    },
    {
      "cell_type": "markdown",
      "metadata": {
        "id": "t3ezVlVGeqdC"
      },
      "source": [
        "## Operating on word embeddings\n",
        "\n",
        "Remember that understanding that data is one of the most critical steps in Data Science. Word embeddings are the result of machine learning processes and will be part of the input for further processes. These word embedding needs to be validated or at least understood because the performance of the derived model will strongly depend on its quality.\n",
        "\n",
        "Word embeddings are multimentional arrays, usually with hundres of attributes that pose a challange for its interpretation."
      ]
    },
    {
      "cell_type": "code",
      "metadata": {
        "id": "00qreHAPepou",
        "outputId": "b3965fc8-fa41-4e1a-ed7d-af886405b8e7",
        "colab": {
          "base_uri": "https://localhost:8080/",
          "height": 592
        }
      },
      "source": [
        "import matplotlib.pyplot as plt # Import matplotlib\n",
        "\n",
        "words = ['oil', 'gas', 'happy', 'sad', 'city', 'town', 'village', 'country', 'continent', 'petroleum', 'joyful']\n",
        "\n",
        "bag2d = np.array([vec(word) for word in words]) # Convert each word to its vector representation\n",
        "\n",
        "fig, ax = plt.subplots(figsize = (10, 10)) # Create custom size image\n",
        "\n",
        "col1 = 3 # Select the column for the x axis\n",
        "col2 = 2 # Select the column for the y axis\n",
        "\n",
        "# Print an arrow for each word\n",
        "for word in bag2d:\n",
        "    ax.arrow(0, 0, word[col1], word[col2], head_width=0.005, head_length=0.005, fc='r', ec='r', width = 1e-5)\n",
        "\n",
        "    \n",
        "ax.scatter(bag2d[:, col1], bag2d[:, col2]); # Plot a dot for each word\n",
        "\n",
        "# Add the word label over each dot in the scatter plot\n",
        "for i in range(0, len(words)):\n",
        "    ax.annotate(words[i], (bag2d[i, col1], bag2d[i, col2]))\n",
        "\n",
        "plt.show()"
      ],
      "execution_count": 10,
      "outputs": [
        {
          "output_type": "display_data",
          "data": {
            "image/png": "[encoded data removed]",
            "text/plain": [
              "<Figure size 720x720 with 1 Axes>"
            ]
          },
          "metadata": {
            "tags": [],
            "needs_background": "light"
          }
        }
      ]
    },
    {
      "cell_type": "markdown",
      "metadata": {
        "id": "wUT7ToFDglLL"
      },
      "source": [
        "Note that similar words like 'village' and 'town' (or 'petroleum' and 'gas') tend to point in the same direction. Also, note that 'sad' and 'happy' look close to each other; but, their vectors point on different directions."
      ]
    },
    {
      "cell_type": "markdown",
      "metadata": {
        "id": "NuSy7MOThDc-"
      },
      "source": [
        "## Word Distance\n",
        "\n",
        "Now plot the words 'sad', 'happy', 'town' and 'village'. In this same chart, display the vector from 'village' to 'town' and the vector from 'sad' to 'happy'. Let us use NumPy for these linear algebra operations."
      ]
    },
    {
      "cell_type": "code",
      "metadata": {
        "id": "9cEAfR21epuw",
        "outputId": "2cf824f4-d3db-48a5-b652-22fd6d93e4af",
        "colab": {
          "base_uri": "https://localhost:8080/",
          "height": 592
        }
      },
      "source": [
        "words = ['sad', 'happy', 'town', 'village']\n",
        "\n",
        "bag2d = np.array([vec(word) for word in words]) # Convert each word to its vector representation\n",
        "\n",
        "fig, ax = plt.subplots(figsize = (10, 10)) # Create custom size image\n",
        "\n",
        "col1 = 3 # Select the column for the x axe\n",
        "col2 = 2 # Select the column for the y axe\n",
        "\n",
        "# Print an arrow for each word\n",
        "for word in bag2d:\n",
        "    ax.arrow(0, 0, word[col1], word[col2], head_width=0.0005, head_length=0.0005, fc='r', ec='r', width = 1e-5)\n",
        "    \n",
        "# print the vector difference between village and town\n",
        "village = vec('village')\n",
        "town = vec('town')\n",
        "diff = town - village\n",
        "ax.arrow(village[col1], village[col2], diff[col1], diff[col2], fc='b', ec='b', width = 1e-5)\n",
        "\n",
        "# print the vector difference between village and town\n",
        "sad = vec('sad')\n",
        "happy = vec('happy')\n",
        "diff = happy - sad\n",
        "ax.arrow(sad[col1], sad[col2], diff[col1], diff[col2], fc='b', ec='b', width = 1e-5)\n",
        "\n",
        "\n",
        "ax.scatter(bag2d[:, col1], bag2d[:, col2]);\n",
        "\n",
        "# Add the word label over each dot in the scatter plot\n",
        "for i in range(0, len(words)):\n",
        "    ax.annotate(words[i], (bag2d[i, col1], bag2d[i, col2]))"
      ],
      "execution_count": 19,
      "outputs": [
        {
          "output_type": "display_data",
          "data": {
            "image/png": "[encoded data removed]",
            "text/plain": [
              "<Figure size 720x720 with 1 Axes>"
            ]
          },
          "metadata": {
            "tags": [],
            "needs_background": "light"
          }
        }
      ]
    },
    {
      "cell_type": "markdown",
      "metadata": {
        "id": "rrjmxjIPjC_T"
      },
      "source": [
        "## Linear Algebra on Word Embeddings\n",
        "\n",
        "To start, get the norm of a word in the word embedding."
      ]
    },
    {
      "cell_type": "code",
      "metadata": {
        "id": "WwjBH9GVep1c",
        "outputId": "2a64878d-7b28-4a84-eca4-12073b541493",
        "colab": {
          "base_uri": "https://localhost:8080/"
        }
      },
      "source": [
        "print(f'Norm vector town: {np.linalg.norm(vec(\"town\"))}')\n",
        "print(f'Norm vector sad: {np.linalg.norm(vec(\"sad\"))}')"
      ],
      "execution_count": 24,
      "outputs": [
        {
          "output_type": "stream",
          "text": [
            "Norm vector town: 2.3858096599578857\n",
            "Norm vector sad: 2.9004838466644287\n"
          ],
          "name": "stdout"
        }
      ]
    },
    {
      "cell_type": "markdown",
      "metadata": {
        "id": "wUmK-7iKj9nh"
      },
      "source": [
        "Now, appliying vector difference and addition, one can create a vector representation for a new word. For example, we can say that the vector difference between 'France' and 'Paris' represents the concepts of Capital."
      ]
    },
    {
      "cell_type": "code",
      "metadata": {
        "id": "qaYMmPYyep7h",
        "outputId": "06db0d37-885c-4409-b8aa-8172668975f1",
        "colab": {
          "base_uri": "https://localhost:8080/"
        }
      },
      "source": [
        "capital = vec('France') - vec('Paris')\n",
        "country = vec('Madrid') + capital\n",
        "print(country[0:5])"
      ],
      "execution_count": 25,
      "outputs": [
        {
          "output_type": "stream",
          "text": [
            "[-0.02905273 -0.2475586   0.53952026  0.20581055 -0.14862823]\n"
          ],
          "name": "stdout"
        }
      ]
    },
    {
      "cell_type": "markdown",
      "metadata": {
        "id": "QqwnqWjEknWN"
      },
      "source": [
        "We can observe that the vector 'country' that we expected to be the same as the vector for Spain is not exactly it."
      ]
    },
    {
      "cell_type": "code",
      "metadata": {
        "id": "IdgGrbN3kmuW",
        "outputId": "98ef9d59-8cdc-47b1-d681-3c68fefa352c",
        "colab": {
          "base_uri": "https://localhost:8080/"
        }
      },
      "source": [
        "diff = country - vec('Spain')\n",
        "print(diff[0:5])"
      ],
      "execution_count": 27,
      "outputs": [
        {
          "output_type": "stream",
          "text": [
            "[-0.06054688 -0.06494141  0.37643433  0.08129883 -0.13007355]\n"
          ],
          "name": "stdout"
        }
      ]
    },
    {
      "cell_type": "markdown",
      "metadata": {
        "id": "tZa6SA_8lGiz"
      },
      "source": [
        "So, we have to look for the closest words in the embedding that matches the candidate country. If the word embedding works as expected, the most similar word must be 'Spain'. Let us define a function that helps us to do it. We will store our word embedding as a DataFrame, which facilitate the lookup operations based on the numerical vectors."
      ]
    },
    {
      "cell_type": "code",
      "metadata": {
        "id": "jWll_-mUep-i",
        "outputId": "0212285b-fea1-4cad-d58b-30a5590d7c53",
        "colab": {
          "base_uri": "https://localhost:8080/",
          "height": 186
        }
      },
      "source": [
        "keys = word_embeddings.keys()\n",
        "data = [word_embeddings[key] for key in keys]\n",
        "\n",
        "embedding = pd.DataFrame(data=data, index=keys)\n",
        "embedding.head(3)"
      ],
      "execution_count": 36,
      "outputs": [
        {
          "output_type": "execute_result",
          "data": {
            "text/html": [
              "<div>\n",
              "<style scoped>\n",
              "    .dataframe tbody tr th:only-of-type {\n",
              "        vertical-align: middle;\n",
              "    }\n",
              "\n",
              "    .dataframe tbody tr th {\n",
              "        vertical-align: top;\n",
              "    }\n",
              "\n",
              "    .dataframe thead th {\n",
              "        text-align: right;\n",
              "    }\n",
              "</style>\n",
              "<table border=\"1\" class=\"dataframe\">\n",
              "  <thead>\n",
              "    <tr style=\"text-align: right;\">\n",
              "      <th></th>\n",
              "      <th>0</th>\n",
              "      <th>1</th>\n",
              "      <th>2</th>\n",
              "      <th>3</th>\n",
              "      <th>4</th>\n",
              "      <th>5</th>\n",
              "      <th>6</th>\n",
              "      <th>7</th>\n",
              "      <th>8</th>\n",
              "      <th>9</th>\n",
              "      <th>10</th>\n",
              "      <th>11</th>\n",
              "      <th>12</th>\n",
              "      <th>13</th>\n",
              "      <th>14</th>\n",
              "      <th>15</th>\n",
              "      <th>16</th>\n",
              "      <th>17</th>\n",
              "      <th>18</th>\n",
              "      <th>19</th>\n",
              "      <th>20</th>\n",
              "      <th>21</th>\n",
              "      <th>22</th>\n",
              "      <th>23</th>\n",
              "      <th>24</th>\n",
              "      <th>25</th>\n",
              "      <th>26</th>\n",
              "      <th>27</th>\n",
              "      <th>28</th>\n",
              "      <th>29</th>\n",
              "      <th>30</th>\n",
              "      <th>31</th>\n",
              "      <th>32</th>\n",
              "      <th>33</th>\n",
              "      <th>34</th>\n",
              "      <th>35</th>\n",
              "      <th>36</th>\n",
              "      <th>37</th>\n",
              "      <th>38</th>\n",
              "      <th>39</th>\n",
              "      <th>...</th>\n",
              "      <th>260</th>\n",
              "      <th>261</th>\n",
              "      <th>262</th>\n",
              "      <th>263</th>\n",
              "      <th>264</th>\n",
              "      <th>265</th>\n",
              "      <th>266</th>\n",
              "      <th>267</th>\n",
              "      <th>268</th>\n",
              "      <th>269</th>\n",
              "      <th>270</th>\n",
              "      <th>271</th>\n",
              "      <th>272</th>\n",
              "      <th>273</th>\n",
              "      <th>274</th>\n",
              "      <th>275</th>\n",
              "      <th>276</th>\n",
              "      <th>277</th>\n",
              "      <th>278</th>\n",
              "      <th>279</th>\n",
              "      <th>280</th>\n",
              "      <th>281</th>\n",
              "      <th>282</th>\n",
              "      <th>283</th>\n",
              "      <th>284</th>\n",
              "      <th>285</th>\n",
              "      <th>286</th>\n",
              "      <th>287</th>\n",
              "      <th>288</th>\n",
              "      <th>289</th>\n",
              "      <th>290</th>\n",
              "      <th>291</th>\n",
              "      <th>292</th>\n",
              "      <th>293</th>\n",
              "      <th>294</th>\n",
              "      <th>295</th>\n",
              "      <th>296</th>\n",
              "      <th>297</th>\n",
              "      <th>298</th>\n",
              "      <th>299</th>\n",
              "    </tr>\n",
              "  </thead>\n",
              "  <tbody>\n",
              "    <tr>\n",
              "      <th>country</th>\n",
              "      <td>-0.080078</td>\n",
              "      <td>0.133789</td>\n",
              "      <td>0.143555</td>\n",
              "      <td>0.094727</td>\n",
              "      <td>-0.047363</td>\n",
              "      <td>-0.023560</td>\n",
              "      <td>-0.008545</td>\n",
              "      <td>-0.186523</td>\n",
              "      <td>0.045898</td>\n",
              "      <td>-0.081543</td>\n",
              "      <td>-0.034424</td>\n",
              "      <td>-0.116211</td>\n",
              "      <td>0.217773</td>\n",
              "      <td>-0.103516</td>\n",
              "      <td>-0.066895</td>\n",
              "      <td>0.153320</td>\n",
              "      <td>-0.193359</td>\n",
              "      <td>0.263672</td>\n",
              "      <td>-0.136719</td>\n",
              "      <td>-0.055664</td>\n",
              "      <td>0.074707</td>\n",
              "      <td>-0.000710</td>\n",
              "      <td>0.093750</td>\n",
              "      <td>-0.144531</td>\n",
              "      <td>0.042969</td>\n",
              "      <td>-0.019165</td>\n",
              "      <td>-0.225586</td>\n",
              "      <td>-0.126953</td>\n",
              "      <td>-0.016846</td>\n",
              "      <td>0.052246</td>\n",
              "      <td>0.062500</td>\n",
              "      <td>-0.148438</td>\n",
              "      <td>-0.019653</td>\n",
              "      <td>0.175781</td>\n",
              "      <td>0.106445</td>\n",
              "      <td>-0.047607</td>\n",
              "      <td>-0.102539</td>\n",
              "      <td>-0.285156</td>\n",
              "      <td>0.103516</td>\n",
              "      <td>0.208008</td>\n",
              "      <td>...</td>\n",
              "      <td>-0.021362</td>\n",
              "      <td>-0.080566</td>\n",
              "      <td>0.243164</td>\n",
              "      <td>0.155273</td>\n",
              "      <td>0.165039</td>\n",
              "      <td>0.008545</td>\n",
              "      <td>-0.122559</td>\n",
              "      <td>0.086914</td>\n",
              "      <td>-0.119141</td>\n",
              "      <td>-0.029419</td>\n",
              "      <td>0.083496</td>\n",
              "      <td>-0.031006</td>\n",
              "      <td>0.139648</td>\n",
              "      <td>-0.051514</td>\n",
              "      <td>0.007660</td>\n",
              "      <td>-0.044434</td>\n",
              "      <td>-0.049805</td>\n",
              "      <td>-0.032227</td>\n",
              "      <td>-0.009521</td>\n",
              "      <td>-0.108887</td>\n",
              "      <td>-0.103027</td>\n",
              "      <td>-0.157227</td>\n",
              "      <td>0.193359</td>\n",
              "      <td>0.048584</td>\n",
              "      <td>0.015625</td>\n",
              "      <td>-0.081055</td>\n",
              "      <td>-0.116211</td>\n",
              "      <td>-0.019897</td>\n",
              "      <td>0.057373</td>\n",
              "      <td>0.061035</td>\n",
              "      <td>-0.145508</td>\n",
              "      <td>0.067383</td>\n",
              "      <td>-0.244141</td>\n",
              "      <td>-0.077148</td>\n",
              "      <td>0.047607</td>\n",
              "      <td>-0.075195</td>\n",
              "      <td>-0.149414</td>\n",
              "      <td>-0.044189</td>\n",
              "      <td>0.097168</td>\n",
              "      <td>0.067383</td>\n",
              "    </tr>\n",
              "    <tr>\n",
              "      <th>city</th>\n",
              "      <td>-0.010071</td>\n",
              "      <td>0.057373</td>\n",
              "      <td>0.183594</td>\n",
              "      <td>-0.040039</td>\n",
              "      <td>-0.029785</td>\n",
              "      <td>-0.079102</td>\n",
              "      <td>0.071777</td>\n",
              "      <td>0.013306</td>\n",
              "      <td>-0.143555</td>\n",
              "      <td>0.011292</td>\n",
              "      <td>-0.032715</td>\n",
              "      <td>0.077637</td>\n",
              "      <td>0.154297</td>\n",
              "      <td>-0.063965</td>\n",
              "      <td>-0.108887</td>\n",
              "      <td>-0.019043</td>\n",
              "      <td>-0.069336</td>\n",
              "      <td>-0.053467</td>\n",
              "      <td>-0.087891</td>\n",
              "      <td>0.008118</td>\n",
              "      <td>-0.169922</td>\n",
              "      <td>-0.081543</td>\n",
              "      <td>-0.002686</td>\n",
              "      <td>-0.105957</td>\n",
              "      <td>0.059326</td>\n",
              "      <td>-0.158203</td>\n",
              "      <td>-0.030762</td>\n",
              "      <td>0.165039</td>\n",
              "      <td>-0.197266</td>\n",
              "      <td>-0.015137</td>\n",
              "      <td>0.100098</td>\n",
              "      <td>-0.096680</td>\n",
              "      <td>-0.072266</td>\n",
              "      <td>0.232422</td>\n",
              "      <td>-0.041260</td>\n",
              "      <td>-0.181641</td>\n",
              "      <td>0.022339</td>\n",
              "      <td>0.046875</td>\n",
              "      <td>0.107910</td>\n",
              "      <td>0.024902</td>\n",
              "      <td>...</td>\n",
              "      <td>-0.139648</td>\n",
              "      <td>-0.073730</td>\n",
              "      <td>-0.068359</td>\n",
              "      <td>0.050537</td>\n",
              "      <td>0.164062</td>\n",
              "      <td>0.116699</td>\n",
              "      <td>0.024780</td>\n",
              "      <td>-0.075684</td>\n",
              "      <td>-0.199219</td>\n",
              "      <td>-0.065430</td>\n",
              "      <td>-0.058105</td>\n",
              "      <td>-0.182617</td>\n",
              "      <td>-0.072754</td>\n",
              "      <td>-0.037842</td>\n",
              "      <td>0.000108</td>\n",
              "      <td>-0.228516</td>\n",
              "      <td>0.046143</td>\n",
              "      <td>0.039062</td>\n",
              "      <td>0.015869</td>\n",
              "      <td>-0.102539</td>\n",
              "      <td>-0.113770</td>\n",
              "      <td>-0.100098</td>\n",
              "      <td>0.279297</td>\n",
              "      <td>0.043945</td>\n",
              "      <td>0.114746</td>\n",
              "      <td>0.174805</td>\n",
              "      <td>-0.086426</td>\n",
              "      <td>-0.052734</td>\n",
              "      <td>0.063477</td>\n",
              "      <td>0.139648</td>\n",
              "      <td>0.024292</td>\n",
              "      <td>-0.168945</td>\n",
              "      <td>-0.062988</td>\n",
              "      <td>0.117188</td>\n",
              "      <td>-0.020508</td>\n",
              "      <td>0.030273</td>\n",
              "      <td>-0.247070</td>\n",
              "      <td>-0.122559</td>\n",
              "      <td>0.076172</td>\n",
              "      <td>-0.234375</td>\n",
              "    </tr>\n",
              "    <tr>\n",
              "      <th>China</th>\n",
              "      <td>-0.073242</td>\n",
              "      <td>0.135742</td>\n",
              "      <td>0.108887</td>\n",
              "      <td>0.083008</td>\n",
              "      <td>-0.127930</td>\n",
              "      <td>-0.227539</td>\n",
              "      <td>0.151367</td>\n",
              "      <td>-0.045654</td>\n",
              "      <td>-0.065430</td>\n",
              "      <td>0.034424</td>\n",
              "      <td>-0.140625</td>\n",
              "      <td>-0.023560</td>\n",
              "      <td>0.246094</td>\n",
              "      <td>-0.271484</td>\n",
              "      <td>-0.187500</td>\n",
              "      <td>-0.118652</td>\n",
              "      <td>-0.064941</td>\n",
              "      <td>0.035156</td>\n",
              "      <td>0.014221</td>\n",
              "      <td>-0.128906</td>\n",
              "      <td>0.225586</td>\n",
              "      <td>-0.326172</td>\n",
              "      <td>0.020142</td>\n",
              "      <td>-0.016846</td>\n",
              "      <td>0.079590</td>\n",
              "      <td>0.152344</td>\n",
              "      <td>-0.041260</td>\n",
              "      <td>0.049561</td>\n",
              "      <td>-0.066895</td>\n",
              "      <td>0.382812</td>\n",
              "      <td>-0.051758</td>\n",
              "      <td>-0.166016</td>\n",
              "      <td>-0.421875</td>\n",
              "      <td>-0.117676</td>\n",
              "      <td>0.199219</td>\n",
              "      <td>-0.051514</td>\n",
              "      <td>-0.061768</td>\n",
              "      <td>0.162109</td>\n",
              "      <td>0.347656</td>\n",
              "      <td>0.210938</td>\n",
              "      <td>...</td>\n",
              "      <td>0.026245</td>\n",
              "      <td>-0.084961</td>\n",
              "      <td>0.359375</td>\n",
              "      <td>-0.069824</td>\n",
              "      <td>0.219727</td>\n",
              "      <td>0.085449</td>\n",
              "      <td>-0.296875</td>\n",
              "      <td>-0.188477</td>\n",
              "      <td>0.182617</td>\n",
              "      <td>0.185547</td>\n",
              "      <td>-0.316406</td>\n",
              "      <td>0.107422</td>\n",
              "      <td>0.022095</td>\n",
              "      <td>-0.094238</td>\n",
              "      <td>-0.006348</td>\n",
              "      <td>0.059326</td>\n",
              "      <td>-0.089355</td>\n",
              "      <td>-0.112305</td>\n",
              "      <td>0.027466</td>\n",
              "      <td>-0.042725</td>\n",
              "      <td>0.055908</td>\n",
              "      <td>0.056885</td>\n",
              "      <td>0.216797</td>\n",
              "      <td>-0.053955</td>\n",
              "      <td>-0.039551</td>\n",
              "      <td>0.039307</td>\n",
              "      <td>-0.093262</td>\n",
              "      <td>0.175781</td>\n",
              "      <td>0.011658</td>\n",
              "      <td>0.189453</td>\n",
              "      <td>0.140625</td>\n",
              "      <td>0.087402</td>\n",
              "      <td>0.152344</td>\n",
              "      <td>0.079590</td>\n",
              "      <td>0.006348</td>\n",
              "      <td>-0.037842</td>\n",
              "      <td>-0.183594</td>\n",
              "      <td>0.137695</td>\n",
              "      <td>0.093750</td>\n",
              "      <td>-0.079590</td>\n",
              "    </tr>\n",
              "  </tbody>\n",
              "</table>\n",
              "<p>3 rows × 300 columns</p>\n",
              "</div>"
            ],
            "text/plain": [
              "              0         1         2    ...       297       298       299\n",
              "country -0.080078  0.133789  0.143555  ... -0.044189  0.097168  0.067383\n",
              "city    -0.010071  0.057373  0.183594  ... -0.122559  0.076172 -0.234375\n",
              "China   -0.073242  0.135742  0.108887  ...  0.137695  0.093750 -0.079590\n",
              "\n",
              "[3 rows x 300 columns]"
            ]
          },
          "metadata": {
            "tags": []
          },
          "execution_count": 36
        }
      ]
    },
    {
      "cell_type": "code",
      "metadata": {
        "id": "0mO_a0hKep4e"
      },
      "source": [
        "def find_closest_word(v, k=1):\n",
        "  diff = embedding.values - v\n",
        "  delta = np.sum(diff * diff, axis=1)\n",
        "  i = np.argmin(delta)\n",
        "  return embedding.iloc[i].name"
      ],
      "execution_count": 35,
      "outputs": []
    },
    {
      "cell_type": "code",
      "metadata": {
        "id": "yBVQoJL-epyS",
        "outputId": "770c23ac-f7f7-4c4d-bcc5-f32ecb96807d",
        "colab": {
          "base_uri": "https://localhost:8080/",
          "height": 35
        }
      },
      "source": [
        "find_closest_word(country)"
      ],
      "execution_count": 37,
      "outputs": [
        {
          "output_type": "execute_result",
          "data": {
            "application/vnd.google.colaboratory.intrinsic+json": {
              "type": "string"
            },
            "text/plain": [
              "'Spain'"
            ]
          },
          "metadata": {
            "tags": []
          },
          "execution_count": 37
        }
      ]
    },
    {
      "cell_type": "markdown",
      "metadata": {
        "id": "vWhABH-PmuAw"
      },
      "source": [
        "Predict other countries"
      ]
    },
    {
      "cell_type": "code",
      "metadata": {
        "id": "GfYX8HJBepr7",
        "outputId": "bb032324-5d7d-435c-905a-e56003fadd0f",
        "colab": {
          "base_uri": "https://localhost:8080/",
          "height": 35
        }
      },
      "source": [
        "find_closest_word(vec('Italy') -vec('Rome') + vec('Madrid'))"
      ],
      "execution_count": 38,
      "outputs": [
        {
          "output_type": "execute_result",
          "data": {
            "application/vnd.google.colaboratory.intrinsic+json": {
              "type": "string"
            },
            "text/plain": [
              "'Spain'"
            ]
          },
          "metadata": {
            "tags": []
          },
          "execution_count": 38
        }
      ]
    },
    {
      "cell_type": "code",
      "metadata": {
        "id": "UlsI6yCCepl9",
        "outputId": "e1c77ad1-702f-4128-93b6-be663e9c19fc",
        "colab": {
          "base_uri": "https://localhost:8080/",
          "height": 35
        }
      },
      "source": [
        "find_closest_word(vec('Berlin') + capital)"
      ],
      "execution_count": 41,
      "outputs": [
        {
          "output_type": "execute_result",
          "data": {
            "application/vnd.google.colaboratory.intrinsic+json": {
              "type": "string"
            },
            "text/plain": [
              "'Germany'"
            ]
          },
          "metadata": {
            "tags": []
          },
          "execution_count": 41
        }
      ]
    },
    {
      "cell_type": "code",
      "metadata": {
        "id": "xOxd09ywnKw3",
        "outputId": "52bd022d-c58b-4fa6-9e1f-131fa7d55080",
        "colab": {
          "base_uri": "https://localhost:8080/",
          "height": 35
        }
      },
      "source": [
        "find_closest_word(vec('Chile') + capital)"
      ],
      "execution_count": 43,
      "outputs": [
        {
          "output_type": "execute_result",
          "data": {
            "application/vnd.google.colaboratory.intrinsic+json": {
              "type": "string"
            },
            "text/plain": [
              "'Chile'"
            ]
          },
          "metadata": {
            "tags": []
          },
          "execution_count": 43
        }
      ]
    },
    {
      "cell_type": "markdown",
      "metadata": {
        "id": "e7iIgqI2nYjg"
      },
      "source": [
        "Represent a sentence as a vector\n",
        "\n",
        "A whole sentence can be represented as a vector by summng all the vectors that conform to the sentence. "
      ]
    },
    {
      "cell_type": "code",
      "metadata": {
        "id": "KZS0weXonTpO",
        "outputId": "52c3d7ae-1f31-44de-a5e7-3f57fab449f6",
        "colab": {
          "base_uri": "https://localhost:8080/"
        }
      },
      "source": [
        "doc = \"Spain petroleum city king\"\n",
        "vdoc = [vec(x) for x in doc.split(' ')]\n",
        "doc2vec = np.sum(vdoc, axis=0)\n",
        "doc2vec"
      ],
      "execution_count": 44,
      "outputs": [
        {
          "output_type": "execute_result",
          "data": {
            "text/plain": [
              "array([ 2.87475586e-02,  1.03759766e-01,  1.32629395e-01,  3.33007812e-01,\n",
              "       -2.61230469e-02, -5.95703125e-01, -1.25976562e-01, -1.01306152e+00,\n",
              "       -2.18544006e-01,  6.60705566e-01, -2.58300781e-01, -2.09960938e-02,\n",
              "       -7.71484375e-02, -3.07128906e-01, -5.94726562e-01,  2.00561523e-01,\n",
              "       -1.04980469e-02, -1.10748291e-01,  4.82177734e-02,  6.38977051e-01,\n",
              "        2.36083984e-01, -2.69775391e-01,  3.90625000e-02,  4.16503906e-01,\n",
              "        2.83416748e-01, -7.25097656e-02, -3.12988281e-01,  1.05712891e-01,\n",
              "        3.22265625e-02,  2.38403320e-01,  3.88183594e-01, -7.51953125e-02,\n",
              "       -1.26281738e-01,  6.60644531e-01, -7.89794922e-01, -7.04345703e-02,\n",
              "       -1.14379883e-01, -4.78515625e-02,  4.76318359e-01,  5.31127930e-01,\n",
              "        8.10546875e-02, -1.17553711e-01,  1.02050781e+00,  5.59814453e-01,\n",
              "       -1.17187500e-01,  1.21826172e-01, -5.51574707e-01,  1.44531250e-01,\n",
              "       -7.66113281e-01,  5.36102295e-01, -2.80029297e-01,  3.85986328e-01,\n",
              "       -2.39135742e-01, -2.86865234e-02, -5.10498047e-01,  2.59658813e-01,\n",
              "       -7.52929688e-01,  4.32128906e-02, -7.17773438e-02, -1.26708984e-01,\n",
              "        4.40673828e-02,  5.12939453e-01, -5.15808105e-01,  1.20117188e-01,\n",
              "       -5.52978516e-02, -3.92089844e-01, -3.15917969e-01,  1.57226562e-01,\n",
              "       -3.19702148e-01,  1.75170898e-01, -3.81835938e-01, -2.07031250e-01,\n",
              "       -4.72717285e-02, -2.79296875e-01, -3.29040527e-01, -1.69067383e-01,\n",
              "        1.61132812e-02,  1.71569824e-01,  5.73730469e-02, -2.44140625e-03,\n",
              "        8.34960938e-02, -1.58203125e-01, -3.10119629e-01,  5.28564453e-02,\n",
              "        8.60595703e-02,  5.12695312e-02, -7.22900391e-01,  4.97924805e-01,\n",
              "       -5.85937500e-03,  4.49951172e-01,  3.82446289e-01, -2.80029297e-01,\n",
              "       -3.28125000e-01, -6.27441406e-02, -4.81933594e-01,  1.93176270e-02,\n",
              "       -1.69326782e-01, -4.28649902e-01,  5.39062500e-01, -1.28417969e-01,\n",
              "       -8.83789062e-02,  5.13916016e-01,  9.13085938e-02, -1.60156250e-01,\n",
              "        6.86035156e-02, -9.74121094e-02, -3.70712280e-01, -3.27270508e-01,\n",
              "        1.77978516e-01, -4.65332031e-01,  1.70410156e-01,  9.08203125e-02,\n",
              "        2.76857376e-01, -1.69677734e-01,  3.27728271e-01, -3.12500000e-02,\n",
              "       -2.20809937e-01, -3.46679688e-01,  4.67407227e-01,  5.31860352e-01,\n",
              "       -1.30615234e-01, -2.36816406e-02, -6.56250000e-01, -5.79589844e-01,\n",
              "       -2.05810547e-01, -3.03222656e-01,  1.94259644e-01, -7.28515625e-01,\n",
              "       -4.92522240e-01, -5.37109375e-01, -3.47656250e-01,  1.08642578e-01,\n",
              "       -1.41601562e-01, -2.07031250e-01,  2.52441406e-01, -7.78808594e-02,\n",
              "       -5.02441406e-01,  1.53808594e-02,  8.64257812e-02,  2.59765625e-01,\n",
              "        6.64062500e-02, -7.12890625e-01, -1.45751953e-01,  7.56835938e-03,\n",
              "        4.87792969e-01,  1.39160156e-01,  1.15722656e-01,  1.28662109e-01,\n",
              "       -4.75585938e-01,  2.21191406e-01,  3.25317383e-01,  1.06323242e-01,\n",
              "       -6.11083984e-01, -3.59619141e-01,  6.54296875e-02, -2.41699219e-01,\n",
              "       -6.29882812e-02, -1.62109375e-01,  4.26269531e-01, -4.38354492e-01,\n",
              "        1.93725586e-01,  4.89562988e-01,  5.31494141e-01, -7.29370117e-02,\n",
              "        1.77246094e-01,  9.39941406e-02,  2.92236328e-01, -2.74047852e-01,\n",
              "        2.63366699e-02,  4.36035156e-01, -3.76953125e-01,  3.10546875e-01,\n",
              "        4.87304688e-01, -2.43041992e-01,  1.21612549e-02, -3.80371094e-01,\n",
              "        3.80493164e-01, -6.22436523e-01, -3.98071289e-01,  1.24206543e-01,\n",
              "       -8.20312500e-01, -2.72583008e-01, -6.21582031e-01, -4.87060547e-01,\n",
              "        3.06671143e-01, -2.61230469e-01,  5.12451172e-01,  5.55694580e-01,\n",
              "        5.66894531e-01,  7.33886719e-01, -1.75781250e-01,  4.13574219e-01,\n",
              "       -2.54272461e-01,  1.32507324e-01, -4.78515625e-01,  4.63256836e-01,\n",
              "       -6.21948242e-02, -1.80664062e-01, -5.46386719e-01, -6.31103516e-01,\n",
              "       -1.47949219e-01, -3.15185547e-01, -7.12890625e-02, -7.67578125e-01,\n",
              "        3.92272949e-01, -1.97753906e-01,  2.23144531e-01, -5.07324219e-01,\n",
              "        8.39843750e-02, -4.98657227e-02,  1.01074219e-01,  2.07885742e-01,\n",
              "       -2.77343750e-01,  1.03027344e-01, -1.38671875e-01,  2.87353516e-01,\n",
              "       -4.81895447e-01, -1.66748047e-01, -1.47277832e-01,  3.61633301e-01,\n",
              "        6.38504028e-02, -6.69189453e-01,  1.95312500e-03, -7.34375000e-01,\n",
              "       -1.28158569e-01,  9.76562500e-04, -7.08007812e-02,  3.72558594e-01,\n",
              "        8.31176758e-01,  5.94482422e-01,  5.37109375e-02, -3.00140381e-01,\n",
              "       -4.53857422e-01,  1.11511230e-01, -1.32812500e-01,  1.25732422e-01,\n",
              "        3.39843750e-01, -2.48352051e-01, -1.62353516e-02, -2.84667969e-01,\n",
              "        4.70703125e-01, -4.48242188e-01,  8.50753784e-02,  2.69042969e-01,\n",
              "        3.98254395e-03, -3.53759766e-01, -3.90625000e-02, -3.22753906e-01,\n",
              "       -6.90917969e-02, -4.13818359e-02,  1.35314941e-01, -8.50396156e-02,\n",
              "        1.28417969e-01,  6.15966797e-01,  3.55957031e-01, -6.05468750e-02,\n",
              "       -2.25463867e-01, -2.62207031e-01, -2.72949219e-01, -5.16113281e-01,\n",
              "        1.59179688e-01,  2.74902344e-01, -7.61718750e-02, -3.41796875e-03,\n",
              "        4.37500000e-01,  2.98583984e-01, -4.40795898e-01, -3.43261719e-01,\n",
              "        1.73583984e-01,  3.32092285e-01, -2.12646484e-01,  5.76171875e-01,\n",
              "        2.06787109e-01, -7.91015625e-02,  5.79695702e-02, -1.01806641e-01,\n",
              "       -7.06787109e-01, -3.40576172e-02, -4.11865234e-01,  9.82666016e-02,\n",
              "       -1.70410156e-01, -4.18212891e-01,  8.39233398e-01, -1.15722656e-01,\n",
              "        1.28173828e-01, -2.07763672e-01, -4.08203125e-01, -1.77612305e-01,\n",
              "        1.01196289e-01,  4.24072266e-01, -5.26428223e-02, -5.58593750e-01,\n",
              "        1.12304688e-02, -1.12060547e-01, -9.42382812e-02,  2.35595703e-02,\n",
              "       -3.92578125e-01, -7.12890625e-02,  5.69824219e-01,  9.81445312e-02],\n",
              "      dtype=float32)"
            ]
          },
          "metadata": {
            "tags": []
          },
          "execution_count": 44
        }
      ]
    },
    {
      "cell_type": "code",
      "metadata": {
        "id": "mfi5q3Gdn8eH",
        "outputId": "30eca98c-009c-49a3-8ae5-dea7f269f1ad",
        "colab": {
          "base_uri": "https://localhost:8080/",
          "height": 35
        }
      },
      "source": [
        "find_closest_word(doc2vec)"
      ],
      "execution_count": 45,
      "outputs": [
        {
          "output_type": "execute_result",
          "data": {
            "application/vnd.google.colaboratory.intrinsic+json": {
              "type": "string"
            },
            "text/plain": [
              "'petroleum'"
            ]
          },
          "metadata": {
            "tags": []
          },
          "execution_count": 45
        }
      ]
    },
    {
      "cell_type": "code",
      "metadata": {
        "id": "DWcVPz27oASO"
      },
      "source": [
        ""
      ],
      "execution_count": null,
      "outputs": []
    }
  ]
}