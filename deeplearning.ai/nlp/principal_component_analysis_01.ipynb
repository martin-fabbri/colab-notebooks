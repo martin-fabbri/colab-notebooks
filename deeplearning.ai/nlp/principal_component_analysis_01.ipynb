{
  "nbformat": 4,
  "nbformat_minor": 0,
  "metadata": {
    "colab": {
      "name": "principal-component-analysis-01.ipynb",
      "provenance": [],
      "authorship_tag": "ABX9TyMHdbl4et322oMVAQUHaZSh",
      "include_colab_link": true
    },
    "kernelspec": {
      "name": "python3",
      "display_name": "Python 3"
    }
  },
  "cells": [
    {
      "cell_type": "markdown",
      "metadata": {
        "id": "view-in-github",
        "colab_type": "text"
      },
      "source": [
        "<a href=\"https://colab.research.google.com/github/martin-fabbri/colab-notebooks/blob/master/deeplearning.ai/nlp/principal_component_analysis_01.ipynb\" target=\"_parent\"><img src=\"https://colab.research.google.com/assets/colab-badge.svg\" alt=\"Open In Colab\"/></a>"
      ]
    },
    {
      "cell_type": "markdown",
      "metadata": {
        "id": "OnUodS3x1czV"
      },
      "source": [
        "# Principal Component Analysis (PCA)"
      ]
    },
    {
      "cell_type": "markdown",
      "metadata": {
        "id": "Y-9rcV-l2KHe"
      },
      "source": [
        "PCA is based on the `Singular Value Decomposition(SVD)` of the `Covariance Matrix` of the original dataset. The `Eigenvectors` of such decomposition are used as a **rotation matrix**. The Eigenvectors are arranged in the rotation matrix in decreasing order according to its **explained variance**. This last term is related to `EigenValues` of the SVD.\n",
        "\n",
        "PCA is a potent technique with applications ranging from simple space transformation, dimensionality reduction, and mixture separation from spectral information.\n",
        "\n",
        "<img src=\"https://dbjxwcks.labs.coursera.org/notebooks/GaussianScatterPCA.svg\">\n",
        "\n"
      ]
    },
    {
      "cell_type": "code",
      "metadata": {
        "id": "9QyU4AJ31aK2"
      },
      "source": [
        "import math\n",
        "import random\n",
        "\n",
        "import numpy as np\n",
        "import pandas as pd\n",
        "\n",
        "import matplotlib.pyplot as plt\n",
        "import matplotlib.lines as mlines\n",
        "import matplotlib.transforms as mtransforms\n",
        "\n",
        "from sklearn.decomposition import PCA\n",
        "\n",
        "random.seed(100)\n"
      ],
      "execution_count": 16,
      "outputs": []
    },
    {
      "cell_type": "markdown",
      "metadata": {
        "id": "lp9zfPlw6ocw"
      },
      "source": [
        "To start, let us consider a pair of random variables $x$, $y$. Consider the base case $y=n*x$. The $x$ and $y$ variables will be perfectly correlated to each other since $y$ is just a scaling of $x$."
      ]
    },
    {
      "cell_type": "code",
      "metadata": {
        "id": "ImCyJcnb6ly-",
        "outputId": "07d5f4f4-fc7b-45e2-ff0f-a41e13d6fad6",
        "colab": {
          "base_uri": "https://localhost:8080/",
          "height": 265
        }
      },
      "source": [
        "n = 1\n",
        "x = np.random.uniform(1, 2, 1000)\n",
        "y = x.copy() * n\n",
        "\n",
        "# PCA works better if the data is centered\n",
        "x = x - np.mean(x)\n",
        "y = y - np.mean(y)\n",
        "\n",
        "data = pd.DataFrame({'x': x, 'y': y})\n",
        "plt.scatter(data.x, data.y)\n",
        "\n",
        "# instantiate a PCA. Choose to get 2 outputs variables\n",
        "pca = PCA(n_components=2)\n",
        "\n",
        "# crate athe transformation model for this data. Internally, it gets the  \n",
        "# rotation matrix and the explained variance\n",
        "pcaTr = pca.fit(data)\n",
        "\n",
        "rotatedData = pcaTr.transform(data)\n",
        "dataPCA = pd.DataFrame(data=rotatedData, columns=['PC1', 'PC2'])\n",
        "\n",
        "plt.scatter(dataPCA.PC1, dataPCA.PC2);"
      ],
      "execution_count": 4,
      "outputs": [
        {
          "output_type": "display_data",
          "data": {
            "image/png": "[encoded data removed]",
            "text/plain": [
              "<Figure size 432x288 with 1 Axes>"
            ]
          },
          "metadata": {
            "tags": [],
            "needs_background": "light"
          }
        }
      ]
    },
    {
      "cell_type": "markdown",
      "metadata": {
        "id": "OZz6FPDy9JU9"
      },
      "source": [
        "Now, what is the direction in which the variables point?"
      ]
    },
    {
      "cell_type": "markdown",
      "metadata": {
        "id": "uGBOjz5y9Q7_"
      },
      "source": [
        "## Understanding the transformation model pcaTr\n",
        "\n",
        "As mentioned before, a PCA model is composed of a rotation matrix and its corresponding explained variance. In the next module, we will explain the details of the rotation matrices.\n",
        "\n",
        "- `pcaTr.components_` has the rotation matrix\n",
        "- `pcaTr.explained_variance_` has the explained variance of each principal component"
      ]
    },
    {
      "cell_type": "code",
      "metadata": {
        "id": "Zivc5oVK72Ix",
        "outputId": "65c7f3bc-4ce4-4c0c-8f85-a4c5303940cb",
        "colab": {
          "base_uri": "https://localhost:8080/"
        }
      },
      "source": [
        "print('Eigenvectors or principal component: First row must be in the direction of [1. n]')\n",
        "print(pcaTr.components_)"
      ],
      "execution_count": 13,
      "outputs": [
        {
          "output_type": "stream",
          "text": [
            "Eigenvectors or principal component: First row must be in the direction of [1. n]\n",
            "[[ 0.70710678  0.70710678]\n",
            " [-0.70710678  0.70710678]]\n"
          ],
          "name": "stdout"
        }
      ]
    },
    {
      "cell_type": "markdown",
      "metadata": {
        "id": "9pZ8WdYV_J07"
      },
      "source": [
        "$cos(45^o) = sin(45^o) = 0.7071$\n",
        "\n",
        "The rotation matrix is equal to:\n",
        "\n",
        "$$R = \\begin{bmatrix} cos(45^o) & sin(45^o) \\\\ -sin(45^o) & cos(45^o) \\end{bmatrix}$$ \n",
        "\n",
        "And $45^o$ is the same angle that form the variables y = 1 * x.\n",
        "\n",
        "Then, PCA has identified the angle in which point the original variables."
      ]
    },
    {
      "cell_type": "code",
      "metadata": {
        "id": "nss7k4D__OKO",
        "outputId": "732343eb-677c-4aaa-f25f-2a8b9611f113",
        "colab": {
          "base_uri": "https://localhost:8080/"
        }
      },
      "source": [
        "print('Eigenvalues or explained variance')\n",
        "print(pcaTr.explained_variance_)"
      ],
      "execution_count": 14,
      "outputs": [
        {
          "output_type": "stream",
          "text": [
            "Eigenvalues or explained variance\n",
            "[1.63579279e-01 4.10868280e-33]\n"
          ],
          "name": "stdout"
        }
      ]
    },
    {
      "cell_type": "markdown",
      "metadata": {
        "id": "U-L26cls-f2Z"
      },
      "source": [
        "And the explained Variance is around [0.166 0]. Remember that the Variance of a uniform random variable x ~ U(1, 2), as our x and y, is equal to:\n",
        "\n",
        "$$Var(x) = \\frac {(2 - 1)^2}{12} = 0.083333$$\n",
        "    \n",
        "Then the explained variance given by the PCA can be interpret as\n",
        "\n",
        "$$[Var(x) + Var(y) \\ 0] = [0.0833 + 0.0833 \\  0] = [0.166 \\ 0]$$\n",
        "\n",
        "Which means that all the explained variance of our new system is explained by our first principal component. "
      ]
    },
    {
      "cell_type": "markdown",
      "metadata": {
        "id": "RQafVymtADT5"
      },
      "source": [
        "## Correlated Normal Random Variables.\n",
        "\n",
        "Now, we will use a controlled dataset composed of 2 random variables with different variances and with a specific Covariance among them. The only way I know to get such a dataset is, first, create two independent Normal random variables with the desired variances and then combine them using a rotation matrix. In this way, the new resulting variables will be a linear combination of the original random variables and thus be dependent and correlated."
      ]
    },
    {
      "cell_type": "code",
      "metadata": {
        "id": "LL-UETwE88vt",
        "outputId": "329d3469-c28d-4e8b-a4fd-0cdfa0c12f6d",
        "colab": {
          "base_uri": "https://localhost:8080/"
        }
      },
      "source": [
        "std1 = 1\n",
        "std2 = 0.333\n",
        "\n",
        "x = np.random.normal(0, std1, 1000)\n",
        "y = np.random.normal(0, std1, 1000)"
      ],
      "execution_count": 7,
      "outputs": [
        {
          "output_type": "execute_result",
          "data": {
            "text/plain": [
              "0     -9.918571e-17\n",
              "1      6.984902e-17\n",
              "2      1.108112e-16\n",
              "3      8.501632e-17\n",
              "4     -3.577745e-17\n",
              "           ...     \n",
              "995   -2.117461e-17\n",
              "996   -7.313886e-18\n",
              "997    7.283808e-17\n",
              "998    1.630166e-17\n",
              "999    6.532348e-17\n",
              "Name: PC2, Length: 1000, dtype: float64"
            ]
          },
          "metadata": {
            "tags": []
          },
          "execution_count": 7
        }
      ]
    },
    {
      "cell_type": "code",
      "metadata": {
        "id": "c-2lDNgT9Dlm"
      },
      "source": [
        ""
      ],
      "execution_count": null,
      "outputs": []
    }
  ]
}