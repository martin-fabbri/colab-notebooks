{
  "nbformat": 4,
  "nbformat_minor": 0,
  "metadata": {
    "colab": {
      "name": "principal-component-analysis-01.ipynb",
      "provenance": [],
      "authorship_tag": "ABX9TyOu7Bz1wLWItxEsuxTBfLE4",
      "include_colab_link": true
    },
    "kernelspec": {
      "name": "python3",
      "display_name": "Python 3"
    }
  },
  "cells": [
    {
      "cell_type": "markdown",
      "metadata": {
        "id": "view-in-github",
        "colab_type": "text"
      },
      "source": [
        "<a href=\"https://colab.research.google.com/github/martin-fabbri/colab-notebooks/blob/master/deeplearning.ai/nlp/principal_component_analysis_01.ipynb\" target=\"_parent\"><img src=\"https://colab.research.google.com/assets/colab-badge.svg\" alt=\"Open In Colab\"/></a>"
      ]
    },
    {
      "cell_type": "markdown",
      "metadata": {
        "id": "OnUodS3x1czV"
      },
      "source": [
        "# Principal Component Analysis (PCA)"
      ]
    },
    {
      "cell_type": "markdown",
      "metadata": {
        "id": "Y-9rcV-l2KHe"
      },
      "source": [
        "PCA is based on the `Singular Value Decomposition(SVD)` of the `Covariance Matrix` of the original dataset. The `Eigenvectors` of such decomposition are used as a **rotation matrix**. The Eigenvectors are arranged in the rotation matrix in decreasing order according to its **explained variance**. This last term is related to `EigenValues` of the SVD.\n",
        "\n",
        "PCA is a potent technique with applications ranging from simple space transformation, dimensionality reduction, and mixture separation from spectral information.\n",
        "\n",
        "<img src=\"https://dbjxwcks.labs.coursera.org/notebooks/GaussianScatterPCA.svg\">\n",
        "\n"
      ]
    },
    {
      "cell_type": "code",
      "metadata": {
        "id": "9QyU4AJ31aK2"
      },
      "source": [
        "import math\n",
        "import random\n",
        "\n",
        "import numpy as np\n",
        "import pandas as pd\n",
        "\n",
        "import matplotlib.pyplot as plt\n",
        "import matplotlib.lines as mlines\n",
        "import matplotlib.transforms as mtransforms\n",
        "\n",
        "from sklearn.decomposition import PCA\n",
        "\n",
        "random.seed(100)\n"
      ],
      "execution_count": 1,
      "outputs": []
    },
    {
      "cell_type": "markdown",
      "metadata": {
        "id": "lp9zfPlw6ocw"
      },
      "source": [
        "To start, let us consider a pair of random variables $x$, $y$. Consider the base case $y=n*x$. The $x$ and $y$ variables will be perfectly correlated to each other since $y$ is just a scaling of $x$."
      ]
    },
    {
      "cell_type": "code",
      "metadata": {
        "id": "ImCyJcnb6ly-",
        "outputId": "d39d92b3-24d0-47a4-91e4-0e892be3083c",
        "colab": {
          "base_uri": "https://localhost:8080/",
          "height": 265
        }
      },
      "source": [
        "n = 1\n",
        "x = np.random.uniform(1, 2, 1000)\n",
        "y = x.copy() * n\n",
        "\n",
        "# PCA works better if the data is centered\n",
        "x = x - np.mean(x)\n",
        "y = y - np.mean(y)\n",
        "\n",
        "data = pd.DataFrame({'x': x, 'y': y})\n",
        "plt.scatter(data.x, data.y)\n",
        "\n",
        "# instantiate a PCA. Choose to get 2 outputs variables\n",
        "pca = PCA(n_components=2)\n",
        "\n",
        "# crate athe transformation model for this data. Internally, it gets the  \n",
        "# rotation matrix and the explained variance\n",
        "pcaTr = pca.fit(data)\n",
        "\n",
        "rotatedData = pcaTr.transform(data)\n",
        "dataPCA = pd.DataFrame(data=rotatedData, columns=['PC1', 'PC2'])\n",
        "\n",
        "plt.scatter(dataPCA.PC1, dataPCA.PC2);"
      ],
      "execution_count": 2,
      "outputs": [
        {
          "output_type": "display_data",
          "data": {
            "image/png": "[encoded data removed]",
            "text/plain": [
              "<Figure size 432x288 with 1 Axes>"
            ]
          },
          "metadata": {
            "tags": [],
            "needs_background": "light"
          }
        }
      ]
    },
    {
      "cell_type": "markdown",
      "metadata": {
        "id": "OZz6FPDy9JU9"
      },
      "source": [
        "Now, what is the direction in which the variables point?"
      ]
    },
    {
      "cell_type": "markdown",
      "metadata": {
        "id": "uGBOjz5y9Q7_"
      },
      "source": [
        "## Understanding the transformation model pcaTr\n",
        "\n",
        "As mentioned before, a PCA model is composed of a rotation matrix and its corresponding explained variance. In the next module, we will explain the details of the rotation matrices.\n",
        "\n",
        "- `pcaTr.components_` has the rotation matrix\n",
        "- `pcaTr.explained_variance_` has the explained variance of each principal component"
      ]
    },
    {
      "cell_type": "code",
      "metadata": {
        "id": "Zivc5oVK72Ix",
        "outputId": "4042e613-d660-4ad3-f620-1c2e0179342e",
        "colab": {
          "base_uri": "https://localhost:8080/"
        }
      },
      "source": [
        "print('Eigenvectors or principal component: First row must be in the direction of [1. n]')\n",
        "print(pcaTr.components_)"
      ],
      "execution_count": 3,
      "outputs": [
        {
          "output_type": "stream",
          "text": [
            "Eigenvectors or principal component: First row must be in the direction of [1. n]\n",
            "[[ 0.70710678  0.70710678]\n",
            " [ 0.70710678 -0.70710678]]\n"
          ],
          "name": "stdout"
        }
      ]
    },
    {
      "cell_type": "markdown",
      "metadata": {
        "id": "9pZ8WdYV_J07"
      },
      "source": [
        "$cos(45^o) = sin(45^o) = 0.7071$\n",
        "\n",
        "The rotation matrix is equal to:\n",
        "\n",
        "$$R = \\begin{bmatrix} cos(45^o) & sin(45^o) \\\\ -sin(45^o) & cos(45^o) \\end{bmatrix}$$ \n",
        "\n",
        "And $45^o$ is the same angle that form the variables y = 1 * x.\n",
        "\n",
        "Then, PCA has identified the angle in which point the original variables."
      ]
    },
    {
      "cell_type": "code",
      "metadata": {
        "id": "nss7k4D__OKO",
        "outputId": "05bde49b-e777-40f0-9336-c198958c613d",
        "colab": {
          "base_uri": "https://localhost:8080/"
        }
      },
      "source": [
        "print('Eigenvalues or explained variance')\n",
        "print(pcaTr.explained_variance_)"
      ],
      "execution_count": 4,
      "outputs": [
        {
          "output_type": "stream",
          "text": [
            "Eigenvalues or explained variance\n",
            "[1.61808273e-01 1.37681322e-33]\n"
          ],
          "name": "stdout"
        }
      ]
    },
    {
      "cell_type": "markdown",
      "metadata": {
        "id": "U-L26cls-f2Z"
      },
      "source": [
        "And the explained Variance is around [0.166 0]. Remember that the Variance of a uniform random variable x ~ U(1, 2), as our x and y, is equal to:\n",
        "\n",
        "$$Var(x) = \\frac {(2 - 1)^2}{12} = 0.083333$$\n",
        "    \n",
        "Then the explained variance given by the PCA can be interpret as\n",
        "\n",
        "$$[Var(x) + Var(y) \\ 0] = [0.0833 + 0.0833 \\  0] = [0.166 \\ 0]$$\n",
        "\n",
        "Which means that all the explained variance of our new system is explained by our first principal component. "
      ]
    },
    {
      "cell_type": "markdown",
      "metadata": {
        "id": "RQafVymtADT5"
      },
      "source": [
        "## Correlated Normal Random Variables.\n",
        "\n",
        "Now, we will use a controlled dataset composed of 2 random variables with different variances and with a specific Covariance among them. The only way I know to get such a dataset is, first, create two independent Normal random variables with the desired variances and then combine them using a rotation matrix. In this way, the new resulting variables will be a linear combination of the original random variables and thus be dependent and correlated."
      ]
    },
    {
      "cell_type": "code",
      "metadata": {
        "id": "LL-UETwE88vt",
        "outputId": "00ad3944-c347-452e-ad66-64c73a257e10",
        "colab": {
          "base_uri": "https://localhost:8080/",
          "height": 35
        }
      },
      "source": [
        "std1 = 1\n",
        "std2 = 0.333\n",
        "\n",
        "x = np.random.normal(0, std1, 1000)\n",
        "y = np.random.normal(0, std2, 1000)\n",
        "\n",
        "# PCA works better if the data is centered\n",
        "x = x - np.mean(x)\n",
        "y = y - np.mean(y)\n",
        "\n",
        "# define a pair of dependent variables with a desired amount of covariance \n",
        "n = 1\n",
        "angle = np.arctan(1 / n)\n",
        "f'angle: {angle * 180 / math.pi}'"
      ],
      "execution_count": 11,
      "outputs": [
        {
          "output_type": "execute_result",
          "data": {
            "application/vnd.google.colaboratory.intrinsic+json": {
              "type": "string"
            },
            "text/plain": [
              "'angle: 45.0'"
            ]
          },
          "metadata": {
            "tags": []
          },
          "execution_count": 11
        }
      ]
    },
    {
      "cell_type": "code",
      "metadata": {
        "id": "c-2lDNgT9Dlm",
        "outputId": "cc9deb8b-ac67-4785-ad11-3dd1c02c5eaa",
        "colab": {
          "base_uri": "https://localhost:8080/",
          "height": 35
        }
      },
      "source": [
        "# create a rotation matrix using the given angle\n",
        "rotation_matrix = np.array([[np.cos(angle), np.sin(angle)],\n",
        "                 [-np.sin(angle), np.cos(angle)]])\n",
        "f'Rotation matrix: {rotation_matrix}'"
      ],
      "execution_count": 12,
      "outputs": [
        {
          "output_type": "execute_result",
          "data": {
            "application/vnd.google.colaboratory.intrinsic+json": {
              "type": "string"
            },
            "text/plain": [
              "'Rotation matrix: [[ 0.70710678  0.70710678]\\n [-0.70710678  0.70710678]]'"
            ]
          },
          "metadata": {
            "tags": []
          },
          "execution_count": 12
        }
      ]
    },
    {
      "cell_type": "code",
      "metadata": {
        "id": "41u6OBkpCciN",
        "outputId": "9ef71835-b28d-4a22-e4df-365ffaaef3de",
        "colab": {
          "base_uri": "https://localhost:8080/"
        }
      },
      "source": [
        "xy = np.concatenate(([x], [y]), axis=0).T\n",
        "xy"
      ],
      "execution_count": 13,
      "outputs": [
        {
          "output_type": "execute_result",
          "data": {
            "text/plain": [
              "array([[-0.37249968, -0.3427448 ],\n",
              "       [ 0.72920862, -0.39777451],\n",
              "       [-1.67759593,  0.34987432],\n",
              "       ...,\n",
              "       [ 0.00486229, -0.01359489],\n",
              "       [ 0.54440007, -0.00882283],\n",
              "       [-0.48987789,  0.18720761]])"
            ]
          },
          "metadata": {
            "tags": []
          },
          "execution_count": 13
        }
      ]
    },
    {
      "cell_type": "markdown",
      "metadata": {
        "id": "v4fo2Zw4j_w7"
      },
      "source": [
        "Transform teh data using the rotation matrix. It correlated the two variables"
      ]
    },
    {
      "cell_type": "code",
      "metadata": {
        "id": "R_xgIZhejRqO"
      },
      "source": [
        "data = np.dot(xy, rotation_matrix)"
      ],
      "execution_count": 14,
      "outputs": []
    },
    {
      "cell_type": "code",
      "metadata": {
        "id": "TPw7hYw-j9Mo",
        "outputId": "2e959610-15c0-41b9-addd-65262e434503",
        "colab": {
          "base_uri": "https://localhost:8080/",
          "height": 265
        }
      },
      "source": [
        "plt.scatter(data[:, 0], data[:, 1]);"
      ],
      "execution_count": 15,
      "outputs": [
        {
          "output_type": "display_data",
          "data": {
            "image/png": "[encoded data removed]",
            "text/plain": [
              "<Figure size 432x288 with 1 Axes>"
            ]
          },
          "metadata": {
            "tags": [],
            "needs_background": "light"
          }
        }
      ]
    },
    {
      "cell_type": "code",
      "metadata": {
        "id": "l5WVmNq_k53d",
        "outputId": "461d5cb4-9bde-481a-8c4a-c9e70e8e970d",
        "colab": {
          "base_uri": "https://localhost:8080/",
          "height": 382
        }
      },
      "source": [
        "plt.scatter(data[:, 0], data[:, 1])\n",
        "pca = PCA(n_components=2)\n",
        "pcaTr = pca.fit(data)\n",
        "dataPCA = pcaTr.transform(data)\n",
        "print('Eigenvectors or principal component: First row must be in the direction of [1, n]')\n",
        "print(pcaTr.components_)\n",
        "\n",
        "print()\n",
        "print('Eigenvalues or explained variance')\n",
        "print(pcaTr.explained_variance_)\n",
        "plt.scatter(dataPCA[:, 0], dataPCA[:, 1])\n",
        "\n",
        "# Plot the first component axe. Use the explained variance to scale the vector\n",
        "plt.plot([0, rotationMatrix[0][0] * std1 * 3], [0, rotationMatrix[0][1] * std1 * 3], 'k-', color='red')\n",
        "# Plot the second component axe. Use the explained variance to scale the vector\n",
        "plt.plot([0, rotationMatrix[1][0] * std2 * 3], [0, rotationMatrix[1][1] * std2 * 3], 'k-', color='green')"
      ],
      "execution_count": 18,
      "outputs": [
        {
          "output_type": "stream",
          "text": [
            "Eigenvectors or principal component: First row must be in the direction of [1, n]\n",
            "[[-0.71422467 -0.69991651]\n",
            " [-0.69991651  0.71422467]]\n",
            "\n",
            "Eigenvalues or explained variance\n",
            "[0.93913175 0.112143  ]\n"
          ],
          "name": "stdout"
        },
        {
          "output_type": "execute_result",
          "data": {
            "text/plain": [
              "[<matplotlib.lines.Line2D at 0x7fadb2aa1e80>]"
            ]
          },
          "metadata": {
            "tags": []
          },
          "execution_count": 18
        },
        {
          "output_type": "display_data",
          "data": {
            "image/png": "[encoded data removed]",
            "text/plain": [
              "<Figure size 432x288 with 1 Axes>"
            ]
          },
          "metadata": {
            "tags": [],
            "needs_background": "light"
          }
        }
      ]
    },
    {
      "cell_type": "markdown",
      "metadata": {
        "id": "d0tIKnABl2pu"
      },
      "source": [
        "The explanation of this chart is as follows:\n",
        "* The rotation matrix used to create our correlated variables took the original uncorrelated variables `x` and `y` and transformed them into the blue points.\n",
        "* The PCA transformation finds out the rotation matrix used to create our correlated variables (blue points). Using the PCA model to transform our data, puts back the variables as our original uncorrelated variables.\n",
        "* The explained Variance of the PCA is \n",
        "\n",
        "$$[1.0094, 0.1125] $$\n",
        "\n",
        "which is approximately\n",
        "\n",
        "$$[1, 0.333 * 0.333] = [std1^2, std2^2],$$\n",
        "\n",
        "the parameters of our original random variables x and y\n",
        "\n",
        "You can use the previous code to try with other standard deviations and correlations and convince your self of this fact. "
      ]
    },
    {
      "cell_type": "markdown",
      "metadata": {
        "id": "2wEIjGyvmKLK"
      },
      "source": [
        "## PCA as a strategy for dimensionality reduction\n",
        "\n",
        "The principal components contained in the rotation matrix, are decreasingly sorted depending on its explained Variance. It usually means that the first components retain most of the power of the data to explain the patterns that **generalize** the data. Nevertheless, for some applications, we are interested in the patterns that explain much less Variance, for example, in novelty detection. \n",
        "\n",
        "In the next figure, we can see the original data and its corresponding projection over the first and second principal components. In other words, data comprised of a single variable."
      ]
    },
    {
      "cell_type": "code",
      "metadata": {
        "id": "WDtNDgmNmJvC",
        "outputId": "3b8636d4-2b0f-4256-8a3e-1b3976395c4e",
        "colab": {
          "base_uri": "https://localhost:8080/",
          "height": 265
        }
      },
      "source": [
        "nPoints = len(data)\n",
        "\n",
        "# Plot the original data in blue\n",
        "plt.scatter(data[:,0], data[:,1])\n",
        "\n",
        "#Plot the projection along the first component in orange\n",
        "plt.scatter(data[:,0], np.zeros(nPoints))\n",
        "\n",
        "#Plot the projection along the second component in green\n",
        "plt.scatter(np.zeros(nPoints), data[:,1]);"
      ],
      "execution_count": 20,
      "outputs": [
        {
          "output_type": "display_data",
          "data": {
            "image/png": "[encoded data removed]",
            "text/plain": [
              "<Figure size 432x288 with 1 Axes>"
            ]
          },
          "metadata": {
            "tags": [],
            "needs_background": "light"
          }
        }
      ]
    },
    {
      "cell_type": "code",
      "metadata": {
        "id": "f9BtWuCGk59B"
      },
      "source": [
        ""
      ],
      "execution_count": null,
      "outputs": []
    },
    {
      "cell_type": "code",
      "metadata": {
        "id": "TKbFVpQgk6Fm"
      },
      "source": [
        ""
      ],
      "execution_count": null,
      "outputs": []
    },
    {
      "cell_type": "code",
      "metadata": {
        "id": "Mciltu0ck6LR"
      },
      "source": [
        ""
      ],
      "execution_count": null,
      "outputs": []
    },
    {
      "cell_type": "code",
      "metadata": {
        "id": "9CpRParjk6IX"
      },
      "source": [
        ""
      ],
      "execution_count": null,
      "outputs": []
    },
    {
      "cell_type": "code",
      "metadata": {
        "id": "iVvfSCGMk6A7"
      },
      "source": [
        ""
      ],
      "execution_count": null,
      "outputs": []
    },
    {
      "cell_type": "code",
      "metadata": {
        "id": "cqBK4Ku_k56m"
      },
      "source": [
        ""
      ],
      "execution_count": null,
      "outputs": []
    },
    {
      "cell_type": "code",
      "metadata": {
        "id": "1JI7alT0k50l"
      },
      "source": [
        ""
      ],
      "execution_count": null,
      "outputs": []
    }
  ]
}