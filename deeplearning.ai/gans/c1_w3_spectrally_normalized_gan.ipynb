{
  "nbformat": 4,
  "nbformat_minor": 0,
  "metadata": {
    "colab": {
      "name": "c1_w3_spectrally_normalized_gan.ipynb",
      "provenance": [],
      "authorship_tag": "ABX9TyPE0oBW9Zf3nlccETusi+yt",
      "include_colab_link": true
    },
    "kernelspec": {
      "name": "python3",
      "display_name": "Python 3"
    },
    "accelerator": "GPU"
  },
  "cells": [
    {
      "cell_type": "markdown",
      "metadata": {
        "id": "view-in-github",
        "colab_type": "text"
      },
      "source": [
        "<a href=\"https://colab.research.google.com/github/martin-fabbri/colab-notebooks/blob/master/deeplearning.ai/gans/c1_w3_spectrally_normalized_gan.ipynb\" target=\"_parent\"><img src=\"https://colab.research.google.com/assets/colab-badge.svg\" alt=\"Open In Colab\"/></a>"
      ]
    },
    {
      "cell_type": "markdown",
      "metadata": {
        "id": "Ig44JrBLwhuw"
      },
      "source": [
        "# Spectrally Normalized Generative Adversarial Networks (SN-GAN)\n",
        "\n",
        "**Goals**\n",
        "\n",
        "In this notebook, you'll learn about and implement **spectral normalization**, a weight normalization technique to stabilize the training of the discriminator, as proposed in [Spectral Normalization for Generative Adversarial Networks](https://arxiv.org/abs/1802.05957) (Miyato et al. 2018).\n",
        "\n",
        "**Background**\n",
        "\n",
        "As its name suggests, SN-GAN normalizes the weight matrices in the discriminator by their corresponding [spectral norm](https://calculus.subwiki.org/wiki/Spectral_norm#:~:text=The%20spectral%20norm%20of%20a,where%20denotes%20the%20Euclidean%20norm.), which helps control the Lipschitz constant of the discriminator. As you have learned with WGAN, [Lipschitz continuity](https://en.wikipedia.org/wiki/Lipschitz_continuity) is important in ensuring the boundedness of the optimal discriminator. In the WGAN case, this makes it so that the underlying W-loss function for the discriminator (or more precisely, the critic) is valid.\n",
        "\n",
        "As a result, spectral normalization helps improve stability and avoid vanishing gradient problems, such as mode collapse."
      ]
    },
    {
      "cell_type": "markdown",
      "metadata": {
        "id": "yyUc2s1Cx1O8"
      },
      "source": [
        "## Spectral Norm\n",
        "\n",
        "Notationally, the spectral norm of a matrix $W$ is typically represented as $\\sigma(W)$. For neural network purposes, this $W$ matrix represents a weight matrix in one of the network's layers. The spectral norm of a matrix is the matrix's largest singular value, which can be obtained via singular value decomposition (SVD).\n",
        "\n",
        "**A Quick Refresher on SVD**\n",
        "\n",
        "SVD is a generalization of [eigendecomposition](https://en.wikipedia.org/wiki/Eigendecomposition_of_a_matrix) and is used to factorize a matrix as $W = U\\Sigma V^\\top$, where $U, V$ are orthogonal matrices and $\\Sigma$ is a matrix of singular values on its diagonal. Note that $\\Sigma$ doesn't have to be square.\n",
        "\n",
        "\\begin{align*}\n",
        "    \\Sigma = \\begin{bmatrix}\\sigma_1 & & \\\\ & \\sigma_2 \\\\ & & \\ddots \\\\ & & & \\sigma_n\\end{bmatrix}\n",
        "\\end{align*}\n",
        "\n",
        "where $\\sigma_1$ and $\\sigma_n$ are the largest and smallest singular values, respectively. Intuitively, larger values correspond to larger amounts of stretching a matrix can apply to another vector. Following this notation, $\\sigma(W) = \\sigma_1$.\n",
        "\n",
        "**Applying SVD to Spectral Normalization**\n",
        "\n",
        "To spectrally normalize the weight matrix, you divide every value in the matrix by its spectral norm. As a result, a spectrally normalized matrix $\\overline{W}_{SN}$ can be expressed as\n",
        "\n",
        "\\begin{align*}\n",
        "  \\overline{W}_{SN} = \\dfrac{W}{\\sigma(W)},\n",
        "\\end{align*}\n",
        "\n",
        "In practice, computing the SVD of $W$ is expensive, so the authors of the SN-GAN paper do something very neat. They instead approximate the left and right singular vectors, $\\tilde{u}$ and $\\tilde{v}$ respectively, through power iteration such that $\\sigma(W) \\approx \\tilde{u}^\\top W\\tilde{v}$.\n",
        "\n",
        "Starting from randomly initialization, $\\tilde{u}$ and $\\tilde{v}$ are updated according to\n",
        "\n",
        "\\begin{align*}\n",
        "  \\tilde{u} &:= \\dfrac{W^\\top\\tilde{u}}{||W^\\top\\tilde{u}||_2} \\\\\n",
        "  \\tilde{v} &:= \\dfrac{W\\tilde{v}}{||W\\tilde{v}||_2}\n",
        "\\end{align*}\n",
        "\n",
        "In practice, one round of iteration is sufficient to \"achieve satisfactory performance\" as per the authors.\n",
        "\n",
        "Don't worry if you don't completely follow this! The algorithm is conveniently implemented as `torch.nn.utils.spectral_norm` in PyTorch, so as long as you get the general gist of how it might be useful and when to use it, then you're all set.\n"
      ]
    },
    {
      "cell_type": "markdown",
      "metadata": {
        "id": "0Lk8JJFvy9-n"
      },
      "source": [
        "## A Bit of History on Spectral Normalization\n",
        "\n",
        "This isn't the first time that spectral norm has been proposed in the context of deep learning models. There's a paper called [Spectral Norm Regularization for Improving the Generalizability of Deep Learning](https://arxiv.org/abs/1705.10941) (Yoshida et al. 2017) that proposes **spectral norm regularization**, which they showed to improve the generalizability of models by adding extra loss terms onto the loss function (just as L2 regularization and gradient penalty do!). These extra loss terms specifically penalize the spectral norm of the weights. You can think of this as *data-independent* regularization because the gradient with respect to $W$ isn't a function of the minibatch.\n",
        "\n",
        "**Spectral normalization**, on the other hand, sets the spectral norm of the weight matrices to 1 -- it's a much harder constraint than adding a loss term, which is a form of \"soft\" regularization. As the authors show in the paper, you can think of spectral normalization as *data-dependent* regularization, since the gradient with respect to $W$ is dependent on the mini-batch statistics (shown in Section 2.1 of the [main paper](https://arxiv.org/pdf/1802.05957.pdf)). Spectral normalization essentially prevents the transformation of each layer\n",
        "from becoming to sensitive in one direction and mitigates exploding gradients."
      ]
    },
    {
      "cell_type": "markdown",
      "metadata": {
        "id": "LJfE1E3CzZF9"
      },
      "source": [
        "## DCGAN with Spectral Normalization\n",
        "\n",
        "In rest of this notebook, you will walk through how to apply spectral normalization to DCGAN as an example, using your earlier DCGAN implementation. You can always add spectral normalization to your other models too.\n",
        "\n",
        "Here, you start with the same setup and helper function, as you've seen before."
      ]
    },
    {
      "cell_type": "code",
      "metadata": {
        "id": "owpl7BSNwSiM"
      },
      "source": [
        "# Some setup\n",
        "import torch\n",
        "from torch import nn\n",
        "from tqdm.auto import tqdm\n",
        "from torchvision import transforms\n",
        "from torchvision.datasets import MNIST\n",
        "from torchvision.utils import make_grid\n",
        "from torch.utils.data import DataLoader\n",
        "import matplotlib.pyplot as plt\n",
        "torch.manual_seed(0) # Set for our testing purposes, please do not change!\n",
        "\n",
        "'''\n",
        "Function for visualizing images: Given a tensor of images, number of images, and\n",
        "size per image, plots and prints the images in an uniform grid.\n",
        "'''\n",
        "def show_tensor_images(image_tensor, num_images=25, size=(1, 28, 28)):\n",
        "    image_tensor = (image_tensor + 1) / 2\n",
        "    image_unflat = image_tensor.detach().cpu()\n",
        "    image_grid = make_grid(image_unflat[:num_images], nrow=5)\n",
        "    plt.imshow(image_grid.permute(1, 2, 0).squeeze())\n",
        "    plt.show()"
      ],
      "execution_count": 1,
      "outputs": []
    },
    {
      "cell_type": "markdown",
      "metadata": {
        "id": "xfCkXooUzp7v"
      },
      "source": [
        "### DCGAN Generator\n",
        "\n",
        "Since spectral normalization is only applied to the matrices in the discriminator, the generator implementation is the same as the original."
      ]
    },
    {
      "cell_type": "code",
      "metadata": {
        "id": "RahfdxpfzkCT"
      },
      "source": [
        "class Generator(nn.Module):\n",
        "    '''\n",
        "    Generator Class\n",
        "    Values:\n",
        "    z_dim: the dimension of the noise vector, a scalar\n",
        "    im_chan: the number of channels of the output image, a scalar\n",
        "            MNIST is black-and-white, so that's our default\n",
        "    hidden_dim: the inner dimension, a scalar\n",
        "    '''\n",
        "    \n",
        "    def __init__(self, z_dim=10, im_chan=1, hidden_dim=64):\n",
        "        super(Generator, self).__init__()\n",
        "        self.z_dim = z_dim\n",
        "        # Build the neural network\n",
        "        self.gen = nn.Sequential(\n",
        "            self.make_gen_block(z_dim, hidden_dim * 4),\n",
        "            self.make_gen_block(hidden_dim * 4, hidden_dim * 2, kernel_size=4, stride=1),\n",
        "            self.make_gen_block(hidden_dim * 2, hidden_dim),\n",
        "            self.make_gen_block(hidden_dim, im_chan, kernel_size=4, final_layer=True),\n",
        "        )\n",
        "\n",
        "    def make_gen_block(self, input_channels, output_channels, kernel_size=3, stride=2, final_layer=False):\n",
        "        '''\n",
        "        Function to return a sequence of operations corresponding to a generator block of the DCGAN, \n",
        "        corresponding to a transposed convolution, a batchnorm (except for in the last layer), and an activation\n",
        "        Parameters:\n",
        "        input_channels: how many channels the input feature representation has\n",
        "        output_channels: how many channels the output feature representation should have\n",
        "        kernel_size: the size of each convolutional filter, equivalent to (kernel_size, kernel_size)\n",
        "        stride: the stride of the convolution\n",
        "        final_layer: whether we're on the final layer (affects activation and batchnorm)\n",
        "        '''\n",
        "        # Build the neural block\n",
        "        if not final_layer:\n",
        "            return nn.Sequential(\n",
        "                nn.ConvTranspose2d(input_channels, output_channels, kernel_size, stride),\n",
        "                nn.BatchNorm2d(output_channels),\n",
        "                nn.ReLU(inplace=True),\n",
        "            )\n",
        "        else: # Final Layer\n",
        "            return nn.Sequential(\n",
        "                nn.ConvTranspose2d(input_channels, output_channels, kernel_size, stride),\n",
        "                nn.Tanh(),\n",
        "            )\n",
        "\n",
        "    def unsqueeze_noise(self, noise):\n",
        "        '''\n",
        "        Function for completing a forward pass of the Generator: Given a noise vector, \n",
        "        returns a copy of that noise with width and height = 1 and channels = z_dim.\n",
        "        Parameters:\n",
        "        noise: a noise tensor with dimensions (batch_size, z_dim)\n",
        "        '''\n",
        "        return noise.view(len(noise), self.z_dim, 1, 1)\n",
        "\n",
        "    def forward(self, noise):\n",
        "        '''\n",
        "        Function for completing a forward pass of the Generator: Given a noise vector, \n",
        "        returns a generated image.\n",
        "        Parameters:\n",
        "        noise: a noise tensor with dimensions (batch_size, z_dim)\n",
        "        '''\n",
        "        x = self.unsqueeze_noise(noise)\n",
        "        return self.gen(x)\n",
        "\n",
        "def get_noise(n_samples, z_dim, device='cpu'):\n",
        "    '''\n",
        "    Function for creating a noise vector: Given the dimensions (n_samples, z_dim)\n",
        "    creates a tensor of that shape filled with random numbers from the normal distribution.\n",
        "    Parameters:\n",
        "    n_samples: the number of samples in the batch, a scalar\n",
        "    z_dim: the dimension of the noise vector, a scalar\n",
        "    device: the device type\n",
        "    '''\n",
        "    return torch.randn(n_samples, z_dim, device=device)"
      ],
      "execution_count": 2,
      "outputs": []
    },
    {
      "cell_type": "markdown",
      "metadata": {
        "id": "csjGTr0-1MSD"
      },
      "source": [
        "### DCGAN Discriminator\n",
        "\n",
        "For the discriminator, you can wrap each `nn.Conv2d` with `nn.utils.spectral_norm`. In the backend, this introduces parameters for $\\tilde{u}$ and $\\tilde{v}$ in addition to $W$ so that the $W_{SN}$ can be computed as $\\tilde{u}^\\top W\\tilde{v}$ in runtime.\n",
        "\n",
        "Pytorch also provides a `nn.utils.remove_spectral_norm` function, which collapses the 3 separate parameters into a single explicit $\\overline{W}_{SN} := \\tilde{u}^\\top W\\tilde{v}$. You should only apply this to your convolutional layers during inference to improve runtime speed.\n",
        "\n",
        "It is important note that spectral norm does not eliminate the need for batch norm. Spectral norm affects the weights of each layer, while batch norm affects the activations of each layer. You can see both in a discriminator architecture, but you can also see just one of them. Hope this is something you have fun experimenting with!"
      ]
    },
    {
      "cell_type": "code",
      "metadata": {
        "id": "0xqZdKHdzj_q"
      },
      "source": [
        "class Discriminator(nn.Module):\n",
        "  '''\n",
        "  Discriminator Class\n",
        "  Values:\n",
        "  im_chan: the number of channels of the output image, a scalar\n",
        "          MNIST is black-and-white (1 channel), so that's our default.\n",
        "  hidden_dim: the inner dimension, a scalar\n",
        "  '''\n",
        "\n",
        "  def __init__(self, im_chan=1, hidden_dim=16):\n",
        "    super(Discriminator, self).__init__()\n",
        "    self.disc = nn.Sequential(\n",
        "        self.make_disc_block(im_chan, hidden_dim),\n",
        "        self.make_disc_block(hidden_dim, hidden_dim * 2),\n",
        "        self.make_disc_block(hidden_dim * 2, 1, final_layer=True)\n",
        "    )\n"
      ],
      "execution_count": 4,
      "outputs": []
    },
    {
      "cell_type": "code",
      "metadata": {
        "id": "4fqMw570zj8Z"
      },
      "source": [
        ""
      ],
      "execution_count": null,
      "outputs": []
    },
    {
      "cell_type": "code",
      "metadata": {
        "id": "gqdcu9p0zj5V"
      },
      "source": [
        ""
      ],
      "execution_count": null,
      "outputs": []
    },
    {
      "cell_type": "code",
      "metadata": {
        "id": "B8X2mgMAzj2D"
      },
      "source": [
        ""
      ],
      "execution_count": null,
      "outputs": []
    },
    {
      "cell_type": "code",
      "metadata": {
        "id": "BFEupM_hzjzL"
      },
      "source": [
        ""
      ],
      "execution_count": null,
      "outputs": []
    }
  ]
}