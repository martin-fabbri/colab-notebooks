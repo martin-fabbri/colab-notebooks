{
  "nbformat": 4,
  "nbformat_minor": 0,
  "metadata": {
    "colab": {
      "name": "c1_w4_info_gan.ipynb",
      "provenance": [],
      "authorship_tag": "ABX9TyOymcD2kXyY6iLQv8YNqIFh",
      "include_colab_link": true
    },
    "kernelspec": {
      "name": "python3",
      "display_name": "Python 3"
    }
  },
  "cells": [
    {
      "cell_type": "markdown",
      "metadata": {
        "id": "view-in-github",
        "colab_type": "text"
      },
      "source": [
        "<a href=\"https://colab.research.google.com/github/martin-fabbri/colab-notebooks/blob/master/deeplearning.ai/gan/c1_w4_info_gan.ipynb\" target=\"_parent\"><img src=\"https://colab.research.google.com/assets/colab-badge.svg\" alt=\"Open In Colab\"/></a>"
      ]
    },
    {
      "cell_type": "markdown",
      "metadata": {
        "id": "guwRXellw4kG"
      },
      "source": [
        "## InfoGAN"
      ]
    },
    {
      "cell_type": "markdown",
      "metadata": {
        "id": "oJ0Jydudw4Ps"
      },
      "source": [
        "### Goals\r\n",
        "\r\n",
        "In this notebook, you're going to learn about InfoGAN in order to generate disentangled outputs, based on the paper, [InfoGAN: Interpretable Representation Learning by Information Maximizing Generative Adversarial Nets](https://arxiv.org/abs/1606.03657) by Chen et. al. While there are many approaches to disentanglement, this is one of the more widely used and better known. \r\n",
        "\r\n",
        "InfoGAN can be understood like this: you want to separate your model into two parts: $z$, corresponding to truly random noise, and $c$ corresponding to the \"latent code.\" The latent code $c$ which can be thought of as a \"hidden\" condition in a conditional generator, and you'd like it to have an interpretable meaning. \r\n",
        "\r\n",
        "Now, you'll likely immediately wonder, how do they get $c$, which is just some random set of numbers, to be more interpretable than any dimension in a typical GAN? The answer is \"mutual information\": essentially, you would like each dimension of the latent code to be as obvious a function as possible of the generated images. Read on for a more thorough theoretical and practical treatment."
      ]
    },
    {
      "cell_type": "code",
      "metadata": {
        "id": "L5q_2_cywlNj"
      },
      "source": [
        ""
      ],
      "execution_count": null,
      "outputs": []
    }
  ]
}