{
  "nbformat": 4,
  "nbformat_minor": 0,
  "metadata": {
    "colab": {
      "name": "c1_w2_dcgan_pytorc.ipynb",
      "provenance": [],
      "authorship_tag": "ABX9TyNz9U37XIrfHJbZ/71VBk5v",
      "include_colab_link": true
    },
    "kernelspec": {
      "name": "python3",
      "display_name": "Python 3"
    },
    "accelerator": "GPU"
  },
  "cells": [
    {
      "cell_type": "markdown",
      "metadata": {
        "id": "view-in-github",
        "colab_type": "text"
      },
      "source": [
        "<a href=\"https://colab.research.google.com/github/martin-fabbri/colab-notebooks/blob/master/deeplearning.ai/gan/c1_w2_dcgan_pytorc.ipynb\" target=\"_parent\"><img src=\"https://colab.research.google.com/assets/colab-badge.svg\" alt=\"Open In Colab\"/></a>"
      ]
    },
    {
      "cell_type": "markdown",
      "metadata": {
        "id": "wcd7UHDKdvK7"
      },
      "source": [
        "# Deep Convolutional GAN (DCGAN)"
      ]
    },
    {
      "cell_type": "markdown",
      "metadata": {
        "id": "4aHSTNlseAGS"
      },
      "source": [
        "### Goal\n",
        "In this notebook, you're going to create another GAN using the MNIST dataset. You will implement a Deep Convolutional GAN (DCGAN), a very successful and influential GAN model developed in 2015.\n",
        "\n",
        "*Note: [here](https://arxiv.org/pdf/1511.06434v1.pdf) is the paper if you are interested! It might look dense now, but soon you'll be able to understand many parts of it :)*\n",
        "\n",
        "### Learning Objectives\n",
        "1.   Get hands-on experience making a widely used GAN: Deep Convolutional GAN (DCGAN).\n",
        "2.   Train a powerful generative model.\n",
        "\n",
        "<img src=\"https://github.com/martin-fabbri/colab-notebooks/raw/master/deeplearning.ai/gan/images/dcgan-gen.png\" width=\"600\" alt=\"Generator architecture\"/>\n",
        "\n",
        "Figure: Architectural drawing of a generator from DCGAN from [Radford et al (2016)](https://arxiv.org/pdf/1511.06434v1.pdf)."
      ]
    },
    {
      "cell_type": "markdown",
      "metadata": {
        "id": "jGkCpEMogOn_"
      },
      "source": [
        "## Getting Started\n",
        "\n",
        "#### DCGAN\n",
        "Here are the main features of DCGAN (don't worry about memorizing these, you will be guided through the implementation!): \n",
        "\n",
        "<!-- ```\n",
        "Architecture guidelines for stable Deep Convolutional GANs\n",
        "• Replace any pooling layers with strided convolutions (discriminator) and fractional-strided\n",
        "convolutions (generator).\n",
        "• Use BatchNorm in both the generator and the discriminator.\n",
        "• Remove fully connected hidden layers for deeper architectures.\n",
        "• Use ReLU activation in generator for all layers except for the output, which uses Tanh.\n",
        "• Use LeakyReLU activation in the discriminator for all layers.\n",
        "``` -->\n",
        "\n",
        "\n",
        "*   Use convolutions without any pooling layers\n",
        "*   Use batchnorm in both the generator and the discriminator\n",
        "*   Don't use fully connected hidden layers\n",
        "*   Use ReLU activation in the generator for all layers except for the output, which uses a Tanh activation.\n",
        "*   Use LeakyReLU activation in the discriminator for all layers except for the output, which does not use an activation\n",
        "\n",
        "You will begin by importing some useful packages and data that will help you create your GAN. You are also provided a visualizer function to help see the images your GAN will create."
      ]
    },
    {
      "cell_type": "code",
      "metadata": {
        "id": "LMBzZsn5duKg"
      },
      "source": [
        ""
      ],
      "execution_count": null,
      "outputs": []
    },
    {
      "cell_type": "code",
      "metadata": {
        "id": "0mgXFJR4duNZ"
      },
      "source": [
        ""
      ],
      "execution_count": null,
      "outputs": []
    },
    {
      "cell_type": "code",
      "metadata": {
        "id": "EDRRJXOJduQb"
      },
      "source": [
        ""
      ],
      "execution_count": null,
      "outputs": []
    },
    {
      "cell_type": "code",
      "metadata": {
        "id": "s4_h4k7UduTj"
      },
      "source": [
        ""
      ],
      "execution_count": null,
      "outputs": []
    },
    {
      "cell_type": "code",
      "metadata": {
        "id": "ytexcg2tduWl"
      },
      "source": [
        ""
      ],
      "execution_count": null,
      "outputs": []
    },
    {
      "cell_type": "code",
      "metadata": {
        "id": "7i4PsDJiduZY"
      },
      "source": [
        ""
      ],
      "execution_count": null,
      "outputs": []
    },
    {
      "cell_type": "code",
      "metadata": {
        "id": "he57NQ-fducK"
      },
      "source": [
        ""
      ],
      "execution_count": null,
      "outputs": []
    }
  ]
}