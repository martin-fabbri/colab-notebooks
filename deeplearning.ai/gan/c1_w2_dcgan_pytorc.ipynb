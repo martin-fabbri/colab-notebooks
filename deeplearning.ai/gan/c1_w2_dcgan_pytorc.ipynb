{
  "nbformat": 4,
  "nbformat_minor": 0,
  "metadata": {
    "colab": {
      "name": "c1_w2_dcgan_pytorc.ipynb",
      "provenance": [],
      "authorship_tag": "ABX9TyM8NhgyipYOsWTfviqbgv0G",
      "include_colab_link": true
    },
    "kernelspec": {
      "name": "python3",
      "display_name": "Python 3"
    },
    "accelerator": "GPU"
  },
  "cells": [
    {
      "cell_type": "markdown",
      "metadata": {
        "id": "view-in-github",
        "colab_type": "text"
      },
      "source": [
        "<a href=\"https://colab.research.google.com/github/martin-fabbri/colab-notebooks/blob/master/deeplearning.ai/gan/c1_w2_dcgan_pytorc.ipynb\" target=\"_parent\"><img src=\"https://colab.research.google.com/assets/colab-badge.svg\" alt=\"Open In Colab\"/></a>"
      ]
    },
    {
      "cell_type": "markdown",
      "metadata": {
        "id": "wcd7UHDKdvK7"
      },
      "source": [
        "# Deep Convolutional GAN (DCGAN)"
      ]
    },
    {
      "cell_type": "markdown",
      "metadata": {
        "id": "4aHSTNlseAGS"
      },
      "source": [
        "### Goal\n",
        "In this notebook, you're going to create another GAN using the MNIST dataset. You will implement a Deep Convolutional GAN (DCGAN), a very successful and influential GAN model developed in 2015.\n",
        "\n",
        "*Note: [here](https://arxiv.org/pdf/1511.06434v1.pdf) is the paper if you are interested! It might look dense now, but soon you'll be able to understand many parts of it :)*\n",
        "\n",
        "### Learning Objectives\n",
        "1.   Get hands-on experience making a widely used GAN: Deep Convolutional GAN (DCGAN).\n",
        "2.   Train a powerful generative model.\n",
        "\n",
        "<img src=\"https://github.com/martin-fabbri/colab-notebooks/raw/master/deeplearning.ai/gan/images/dcgan-gen.png\" width=\"600\" alt=\"Generator architecture\"/>\n",
        "\n",
        "Figure: Architectural drawing of a generator from DCGAN from [Radford et al (2016)](https://arxiv.org/pdf/1511.06434v1.pdf)."
      ]
    },
    {
      "cell_type": "markdown",
      "metadata": {
        "id": "jGkCpEMogOn_"
      },
      "source": [
        "## Getting Started\n",
        "\n",
        "#### DCGAN\n",
        "Here are the main features of DCGAN (don't worry about memorizing these, you will be guided through the implementation!): \n",
        "\n",
        "<!-- ```\n",
        "Architecture guidelines for stable Deep Convolutional GANs\n",
        "• Replace any pooling layers with strided convolutions (discriminator) and fractional-strided\n",
        "convolutions (generator).\n",
        "• Use BatchNorm in both the generator and the discriminator.\n",
        "• Remove fully connected hidden layers for deeper architectures.\n",
        "• Use ReLU activation in generator for all layers except for the output, which uses Tanh.\n",
        "• Use LeakyReLU activation in the discriminator for all layers.\n",
        "``` -->\n",
        "\n",
        "\n",
        "*   Use convolutions without any pooling layers\n",
        "*   Use batchnorm in both the generator and the discriminator\n",
        "*   Don't use fully connected hidden layers\n",
        "*   Use ReLU activation in the generator for all layers except for the output, which uses a Tanh activation.\n",
        "*   Use LeakyReLU activation in the discriminator for all layers except for the output, which does not use an activation\n",
        "\n",
        "You will begin by importing some useful packages and data that will help you create your GAN. You are also provided a visualizer function to help see the images your GAN will create."
      ]
    },
    {
      "cell_type": "code",
      "metadata": {
        "id": "LMBzZsn5duKg"
      },
      "source": [
        "import torch\n",
        "from torch import nn\n",
        "from tqdm.auto import tqdm\n",
        "from torchvision import transforms\n",
        "from torchvision.datasets import MNIST\n",
        "from torchvision.utils import make_grid\n",
        "from torch.utils.data import DataLoader\n",
        "import matplotlib.pyplot as plt\n",
        "torch.manual_seed(0) # Set for testing purposes, please do not change!\n",
        "\n",
        "\n",
        "def show_tensor_images(image_tensor, num_images=25, size=(1, 28, 28)):\n",
        "    '''\n",
        "    Function for visualizing images: Given a tensor of images, number of images, and\n",
        "    size per image, plots and prints the images in an uniform grid.\n",
        "    '''\n",
        "    image_tensor = (image_tensor + 1) / 2\n",
        "    image_unflat = image_tensor.detach().cpu()\n",
        "    image_grid = make_grid(image_unflat[:num_images], nrow=5)\n",
        "    plt.imshow(image_grid.permute(1, 2, 0).squeeze())\n",
        "    plt.show()"
      ],
      "execution_count": 5,
      "outputs": []
    },
    {
      "cell_type": "markdown",
      "metadata": {
        "id": "H730zzxhhP2t"
      },
      "source": [
        "## Generator\n",
        "The first component you will make is the generator. You may notice that instead of passing in the image dimension, you will pass the number of image channels to the generator. This is because with DCGAN, you use convolutions which don’t depend on the number of pixels on an image. However, the number of channels is important to determine the size of the filters.\n",
        "\n",
        "You will build a generator using 4 layers (3 hidden layers + 1 output layer). As before, you will need to write a function to create a single block for the generator's neural network.\n",
        "<!-- From the paper, we know to \"[u]se batchnorm in both the generator and the discriminator\" and \"[u]se ReLU activation in generator for all layers except for the output, which uses Tanh.\" --> \n",
        "Since in DCGAN the activation function will be different for the output layer, you will need to check what layer is being created. You are supplied with some tests following the code cell so you can see if you're on the right track!\n",
        "\n",
        "At the end of the generator class, you are given a forward pass function that takes in a noise vector and generates an image of the output dimension using your neural network. You are also given a function to create a noise vector. These functions are the same as the ones from the last assignment.\n",
        "\n",
        "<details>\n",
        "<summary>\n",
        "<font size=\"3\" color=\"green\">\n",
        "<b>Optional hint for <code><font size=\"4\">make_gen_block</font></code></b>\n",
        "</font>\n",
        "</summary>\n",
        "\n",
        "1. You'll find [nn.ConvTranspose2d](https://pytorch.org/docs/master/generated/torch.nn.ConvTranspose2d.html) and [nn.BatchNorm2d](https://pytorch.org/docs/master/generated/torch.nn.BatchNorm2d.html) useful!\n",
        "</details>"
      ]
    },
    {
      "cell_type": "code",
      "metadata": {
        "id": "0mgXFJR4duNZ"
      },
      "source": [
        "# UNQ_C1 (UNIQUE CELL IDENTIFIER, DO NOT EDIT)\n",
        "# GRADED FUNCTION: Generator\n",
        "class Generator(nn.Module):\n",
        "    '''\n",
        "    Generator Class\n",
        "    Values:\n",
        "        z_dim: the dimension of the noise vector, a scalar\n",
        "        im_chan: the number of channels in the images, fitted for the dataset used, a scalar\n",
        "              (MNIST is black-and-white, so 1 channel is your default)\n",
        "        hidden_dim: the inner dimension, a scalar\n",
        "    '''\n",
        "    def __init__(self, z_dim=10, im_chan=1, hidden_dim=64):\n",
        "        super(Generator, self).__init__()\n",
        "        self.z_dim = z_dim\n",
        "        # Build the neural network\n",
        "        self.gen = nn.Sequential(\n",
        "            self.make_gen_block(z_dim, hidden_dim * 4),\n",
        "            self.make_gen_block(hidden_dim * 4, hidden_dim * 2, kernel_size=4, stride=1),\n",
        "            self.make_gen_block(hidden_dim * 2, hidden_dim),\n",
        "            self.make_gen_block(hidden_dim, im_chan, kernel_size=4, final_layer=True),\n",
        "        )\n",
        "\n",
        "    def make_gen_block(self, input_channels, output_channels, kernel_size=3, stride=2, final_layer=False):\n",
        "        '''\n",
        "        Function to return a sequence of operations corresponding to a generator block of DCGAN, \n",
        "        corresponding to a transposed convolution, a batchnorm (except for in the last layer), and an activation.\n",
        "        Parameters:\n",
        "            input_channels: how many channels the input feature representation has\n",
        "            output_channels: how many channels the output feature representation should have\n",
        "            kernel_size: the size of each convolutional filter, equivalent to (kernel_size, kernel_size)\n",
        "            stride: the stride of the convolution\n",
        "            final_layer: a boolean, true if it is the final layer and false otherwise \n",
        "                      (affects activation and batchnorm)\n",
        "        '''\n",
        "\n",
        "        #     Steps:\n",
        "        #       1) Do a transposed convolution using the given parameters.\n",
        "        #       2) Do a batchnorm, except for the last layer.\n",
        "        #       3) Follow each batchnorm with a ReLU activation.\n",
        "        #       4) If its the final layer, use a Tanh activation after the deconvolution.\n",
        "\n",
        "        # Build the neural block\n",
        "        if not final_layer:\n",
        "            return nn.Sequential(\n",
        "                #### START CODE HERE ####\n",
        "                nn.ConvTranspose2d(\n",
        "                    input_channels, \n",
        "                    output_channels, \n",
        "                    kernel_size=kernel_size,\n",
        "                    stride=stride\n",
        "                ),\n",
        "                nn.BatchNorm2d(output_channels),\n",
        "                nn.ReLU()\n",
        "                #### END CODE HERE ####\n",
        "            )\n",
        "        else: # Final Layer\n",
        "            return nn.Sequential(\n",
        "                #### START CODE HERE ####\n",
        "                nn.ConvTranspose2d(\n",
        "                    input_channels, \n",
        "                    output_channels, \n",
        "                    kernel_size=kernel_size,\n",
        "                    stride=stride\n",
        "                ),\n",
        "                nn.Tanh()\n",
        "                #### END CODE HERE ####\n",
        "            )\n",
        "\n",
        "    def unsqueeze_noise(self, noise):\n",
        "        '''\n",
        "        Function for completing a forward pass of the generator: Given a noise tensor, \n",
        "        returns a copy of that noise with width and height = 1 and channels = z_dim.\n",
        "        Parameters:\n",
        "            noise: a noise tensor with dimensions (n_samples, z_dim)\n",
        "        '''\n",
        "        return noise.view(len(noise), self.z_dim, 1, 1)\n",
        "\n",
        "    def forward(self, noise):\n",
        "        '''\n",
        "        Function for completing a forward pass of the generator: Given a noise tensor, \n",
        "        returns generated images.\n",
        "        Parameters:\n",
        "            noise: a noise tensor with dimensions (n_samples, z_dim)\n",
        "        '''\n",
        "        x = self.unsqueeze_noise(noise)\n",
        "        return self.gen(x)\n",
        "\n",
        "def get_noise(n_samples, z_dim, device='cpu'):\n",
        "    '''\n",
        "    Function for creating noise vectors: Given the dimensions (n_samples, z_dim)\n",
        "    creates a tensor of that shape filled with random numbers from the normal distribution.\n",
        "    Parameters:\n",
        "        n_samples: the number of samples to generate, a scalar\n",
        "        z_dim: the dimension of the noise vector, a scalar\n",
        "        device: the device type\n",
        "    '''\n",
        "    return torch.randn(n_samples, z_dim, device=device)"
      ],
      "execution_count": 6,
      "outputs": []
    },
    {
      "cell_type": "code",
      "metadata": {
        "id": "EDRRJXOJduQb"
      },
      "source": [
        "# UNQ_C2 (UNIQUE CELL IDENTIFIER, DO NOT EDIT)\n",
        "'''\n",
        "Test your make_gen_block() function\n",
        "'''\n",
        "gen = Generator()\n",
        "num_test = 100\n",
        "\n",
        "# nn.ConvTranspose2d(\n",
        "#                     input_channels, \n",
        "#                     output_channels, \n",
        "#                     kernel_size=kernel_size,\n",
        "#                     stride=stride\n",
        "#                 ),\n",
        "\n",
        "# Test the hidden block\n",
        "test_hidden_noise = get_noise(num_test, gen.z_dim)  # [100, 10]\n",
        "test_hidden_block = gen.make_gen_block(10, 20, kernel_size=4, stride=1)\n",
        "test_uns_noise = gen.unsqueeze_noise(test_hidden_noise)\n",
        "hidden_output = test_hidden_block(test_uns_noise) # [100, 4, 4]\n",
        "\n",
        "# Check that it works with other strides\n",
        "test_hidden_block_stride = gen.make_gen_block(20, 20, kernel_size=4, stride=2)\n",
        "# --> [100, 20, 10, 10]\n",
        "\n",
        "test_final_noise = get_noise(num_test, gen.z_dim) * 20\n",
        "test_final_block = gen.make_gen_block(10, 20, final_layer=True)\n",
        "test_final_uns_noise = gen.unsqueeze_noise(test_final_noise)\n",
        "final_output = test_final_block(test_final_uns_noise)\n",
        "\n",
        "# Test the whole thing:\n",
        "test_gen_noise = get_noise(num_test, gen.z_dim)\n",
        "test_uns_gen_noise = gen.unsqueeze_noise(test_gen_noise)\n",
        "gen_output = gen(test_uns_gen_noise)"
      ],
      "execution_count": 18,
      "outputs": []
    },
    {
      "cell_type": "code",
      "metadata": {
        "id": "s4_h4k7UduTj",
        "colab": {
          "base_uri": "https://localhost:8080/"
        },
        "outputId": "07d372b3-4146-4e0f-dedb-5f6a34f907a5"
      },
      "source": [
        "# UNIT TESTS\n",
        "assert tuple(hidden_output.shape) == (num_test, 20, 4, 4)\n",
        "assert hidden_output.max() > 1\n",
        "assert hidden_output.min() == 0\n",
        "assert hidden_output.std() > 0.2\n",
        "assert hidden_output.std() < 1\n",
        "assert hidden_output.std() > 0.5\n",
        "\n",
        "assert tuple(test_hidden_block_stride(hidden_output).shape) == (num_test, 20, 10, 10)\n",
        "\n",
        "assert final_output.max().item() == 1\n",
        "assert final_output.min().item() == -1\n",
        "\n",
        "assert tuple(gen_output.shape) == (num_test, 1, 28, 28)\n",
        "assert gen_output.std() > 0.5\n",
        "assert gen_output.std() < 0.8\n",
        "print(\"Success!\")"
      ],
      "execution_count": 19,
      "outputs": [
        {
          "output_type": "stream",
          "text": [
            "Success!\n"
          ],
          "name": "stdout"
        }
      ]
    },
    {
      "cell_type": "code",
      "metadata": {
        "id": "ytexcg2tduWl"
      },
      "source": [
        ""
      ],
      "execution_count": 4,
      "outputs": []
    },
    {
      "cell_type": "code",
      "metadata": {
        "id": "7i4PsDJiduZY"
      },
      "source": [
        ""
      ],
      "execution_count": 4,
      "outputs": []
    },
    {
      "cell_type": "code",
      "metadata": {
        "id": "he57NQ-fducK"
      },
      "source": [
        ""
      ],
      "execution_count": 4,
      "outputs": []
    }
  ]
}