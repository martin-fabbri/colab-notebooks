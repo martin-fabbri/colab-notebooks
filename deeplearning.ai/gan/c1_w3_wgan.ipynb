{
  "nbformat": 4,
  "nbformat_minor": 0,
  "metadata": {
    "colab": {
      "name": "c1_w3_wgan.ipynb",
      "provenance": [],
      "collapsed_sections": [],
      "authorship_tag": "ABX9TyMso/a8epHK56gwPSgGh47t",
      "include_colab_link": true
    },
    "kernelspec": {
      "name": "python3",
      "display_name": "Python 3"
    },
    "accelerator": "GPU"
  },
  "cells": [
    {
      "cell_type": "markdown",
      "metadata": {
        "id": "view-in-github",
        "colab_type": "text"
      },
      "source": [
        "<a href=\"https://colab.research.google.com/github/martin-fabbri/colab-notebooks/blob/master/deeplearning.ai/gan/c1_w3_wgan.ipynb\" target=\"_parent\"><img src=\"https://colab.research.google.com/assets/colab-badge.svg\" alt=\"Open In Colab\"/></a>"
      ]
    },
    {
      "cell_type": "markdown",
      "metadata": {
        "id": "MLXnaX0HjdGm"
      },
      "source": [
        "# Wasserstein GAN with Gradient Penalty (WGAN-GP)"
      ]
    },
    {
      "cell_type": "markdown",
      "metadata": {
        "id": "Ac9JCGC3DqXu"
      },
      "source": [
        "## Motivation\n",
        "\n",
        "Training GANs is hard. Models may never converge and mode collapses are common. To move forward, we need to make incremental improvements or embrace optimal cost functions."
      ]
    },
    {
      "cell_type": "markdown",
      "metadata": {
        "id": "w1SqQDbm-3Q-"
      },
      "source": [
        "### WGAN-GP improvements\n",
        "\n",
        "WGAN-GP enhances training stability. As shown below, when the model design is less optimal, WGAN-GP can still create good results while the original GAN cost function fails.\n",
        "\n",
        "<img src=\"https://github.com/martin-fabbri/colab-notebooks/raw/master/deeplearning.ai/gan/images/wgan-gp-1.png\" width=600>\n"
      ]
    },
    {
      "cell_type": "markdown",
      "metadata": {
        "id": "tumH9yRkBQ89"
      },
      "source": [
        "Below is the inception score using different methods. The experiment from WGAN-GP paper demostrates better image quality and convergence comparing with WGAN. However, DCGAN demostrates slightly better image quality and it converges faster. But the inception score for WGAN-GP is more stable when it starts converting.\n",
        "\n",
        "<img src=\"https://github.com/martin-fabbri/colab-notebooks/raw/master/deeplearning.ai/gan/images/wgan-gp-2.png\" width=500>"
      ]
    },
    {
      "cell_type": "markdown",
      "metadata": {
        "id": "uwVqXBntCL5D"
      },
      "source": [
        "> ### So what is the benefit of WGAN-GP if it cannot beat DCGAN?\n",
        "> - `The major advantage of WGAN-GP is its convergency`. It makes training more stable and therefore easier to train. As WGAN-GP helps model to converge better, we can use a more complex model lie deep ResNet for generation and the discriminator.  \n",
        "> - When using the Wasserstein loss function, we should train the critic to `converge to ensure that the gradients for the generator are accurate`. This is `in contrast to a standard GAN`, where it is important `not to let the discrimininator get too strong, to avoid vanishing gradients`. Helping to reduce one of the main difficulties of training GANs - How to balance the training of the discriminator and generator."
      ]
    },
    {
      "cell_type": "markdown",
      "metadata": {
        "id": "sn25o_qOFEOj"
      },
      "source": [
        "## Wasserstein Distance\n",
        "\n",
        "Wasserstein GAN (WGAN) proposes a new cost function using Wasserstein distance that has a smoother gradient everyware. WGAN learns regarless of the generator performance. The diagram below repeats a similar plot on the value $D(X)$ fro both GAN and WGAN. For GAN (the red line), it fills with areas with diminishing or exploiding gradient. For WANG (the blue line), the gradient is smoother everywhere and learns better even when the generator is not producing good images.\n",
        "\n",
        "<img src=\"https://github.com/martin-fabbri/colab-notebooks/raw/master/deeplearning.ai/gan/images/wgan-4.png\" width=300>\n",
        "\n"
      ]
    },
    {
      "cell_type": "markdown",
      "metadata": {
        "id": "1mdcDjoEqEry"
      },
      "source": [
        "GAN `discriminator loss` minimization $$min_D−(\\mathbb{E}_{x∼pX}[log\\,D(x)] + \\mathbb{E}_{z∼pZ}[log\\,(1−D(G(z)))])$$"
      ]
    },
    {
      "cell_type": "markdown",
      "metadata": {
        "id": "i1-O788J36SB"
      },
      "source": [
        "To train the GAN `generator` G, we calculate the loss when comparing predictions for generated images $p_i=D(G(zi))$ to the response y_i=1. Therefore for the GAN generator, minimizing the loss function can be written as follows:"
      ]
    },
    {
      "cell_type": "markdown",
      "metadata": {
        "id": "uVhlSKwZ5OLs"
      },
      "source": [
        "GAN `generator loss` minimization:\n",
        "$$min_G−(\\mathbb{E}_{z∼pZ}[log\\,D(G(z))])$$"
      ]
    },
    {
      "cell_type": "markdown",
      "metadata": {
        "id": "z0oNosCjpA9L"
      },
      "source": [
        "### Wasserstein loss function\n",
        "\n",
        "First, the Wasserstein loss requires that we use $y_i=1$ and $y_i=-1$ as labels, rather than 1 and 0. We also remove the sigmoid activation from the final layer of the **discriminator(critic)**, so that predictions $p_i$ are no longer constrained to fall in the range $[0,1]$, but instead can now be any number in the range $[–∞, ∞]$. For this reason, the discriminator in a WGAN is usually referred to as a critic.The Wasserstein loss function is then defined as follows:"
      ]
    },
    {
      "cell_type": "markdown",
      "metadata": {
        "id": "_zjnNxZt6EEx"
      },
      "source": [
        "Wasserstein loss:\n",
        "$$-\\frac{1}{n}\\sum_{i=1}^{n}{(y_i\\,p_i)}$$"
      ]
    },
    {
      "cell_type": "markdown",
      "metadata": {
        "id": "JKAwr_EQ8XI6"
      },
      "source": [
        "To train the WGAN critic $D$, we calculate the loss when comparing predictions for a real images $p_i=D(x_i)$ to the response $y_i=1$ and predictions for generated images $p_i=D(G(z_i))$ to the response $y_i=-1$. Therefore for the WGAN critic, minimizing the loss function can be written as follows:\n",
        "\n",
        "WGAN critic loss minimization:\n",
        "\n",
        "$$min_D−(\\mathbb{E}_{x∼pX}[D(x)]−\\mathbb{E}_{z∼pZ}[D(G(z))])$$"
      ]
    },
    {
      "cell_type": "markdown",
      "metadata": {
        "id": "woV06Ldn-SlJ"
      },
      "source": [
        "### The Lipschitz Constraint\n",
        "\n",
        "It may surprise you that we are now allowing the critic to output any number in the range $[–∞, ∞]$, rather than applying a sigmoid function to restrict the output to the usual $[0, 1]$ range. The Wasserstein loss can therefore be very large, which is unsettling—usually, large numbers in neural networks are to be avoided!\n",
        "\n",
        "In fact, the authors of the WGAN paper show that for the Wasserstein loss function to work, we also need to place an additional constraint on the critic. Specifically, it is required that the critic is a `1-Lipschitz continuous` function. Let’s pick this apart to understand what it means in more detail.\n",
        "\n",
        "The critic is a function $D$ that converts an image into a prediction. We say that this function is 1-Lipschitz if it satisfies the following inequality for any two input images x1 and x2:\n",
        "\n",
        "$$\\frac{|D(x_1)−D(x_2)|}{|x_1−x_2|}\\leq1$$\n",
        "\n",
        "Here, $x_1 – x_2$ is the average pixelwise absolute difference between two images and $|D(x_1)−D(x_2)||D(x_1)-D(x_2)|$ is the absolute difference between the critic predictions. Essentially, we require a limit on the rate at which the predictions of the critic can change between two images (i.e., the absolute value of the gradient must be at most 1 everywhere)."
      ]
    },
    {
      "cell_type": "markdown",
      "metadata": {
        "id": "JfgS9e4mIiIu"
      },
      "source": [
        "## Key differences between GANs and WGANs\n",
        "\n",
        "- A WGAN uses the Wasserstein loss.\n",
        "\n",
        "- The WGAN is trained using labels of `1 for real` and `–1 for fake`.\n",
        "\n",
        "- There is `no need for the sigmoid activation` in the final layer of the WGAN critic.\n",
        "\n",
        "- `Clip the weights` of the critic after each update.\n",
        "\n",
        "- Train the critic multiple times for each update of the generator."
      ]
    },
    {
      "cell_type": "markdown",
      "metadata": {
        "id": "i-YXTGG3jZTa"
      },
      "source": [
        "### Goals\n",
        "In this notebook, you're going to build a Wasserstein GAN with Gradient Penalty (WGAN-GP) that solves some of the stability issues with the GANs that you have been using up until this point. Specifically, you'll use a special kind of loss function known as the W-loss, where W stands for Wasserstein, and gradient penalties to prevent mode collapse.\n",
        "\n",
        "*Fun Fact: Wasserstein is named after a mathematician at Penn State, Leonid Vaseršteĭn. You'll see it abbreviated to W (e.g. WGAN, W-loss, W-distance).*\n",
        "\n",
        "### Learning Objectives\n",
        "1.   Get hands-on experience building a more stable GAN: Wasserstein GAN with Gradient Penalty (WGAN-GP).\n",
        "2.   Train the more advanced WGAN-GP model."
      ]
    },
    {
      "cell_type": "markdown",
      "metadata": {
        "id": "TRF5GktQje09"
      },
      "source": [
        "## Generator and Critic\n",
        "\n",
        "You will begin by importing some useful packages, defining visualization functions, building the generator, and building the critic. Since the changes for WGAN-GP are done to the loss function during training, you can simply reuse your previous GAN code for the generator and critic class. Remember that in WGAN-GP, you no longer use a discriminator that classifies fake and real as 0 and 1 but rather a critic that scores images with real numbers."
      ]
    },
    {
      "cell_type": "code",
      "metadata": {
        "id": "nJvvIvaWjLNu",
        "outputId": "9994bfb2-d11b-432a-df9b-de66d563ab30",
        "colab": {
          "base_uri": "https://localhost:8080/",
          "height": 34
        }
      },
      "source": [
        "import torch\n",
        "import matplotlib.pyplot as plt\n",
        "\n",
        "from torch import nn\n",
        "from tqdm.auto import tqdm\n",
        "from torchvision import transforms\n",
        "from torchvision.datasets import MNIST\n",
        "from torchvision.utils import make_grid\n",
        "from torch.utils.data import DataLoader\n",
        "\n",
        "torch.manual_seed(0)\n",
        "torch.__version__"
      ],
      "execution_count": 3,
      "outputs": [
        {
          "output_type": "execute_result",
          "data": {
            "application/vnd.google.colaboratory.intrinsic+json": {
              "type": "string"
            },
            "text/plain": [
              "'1.7.0+cu101'"
            ]
          },
          "metadata": {
            "tags": []
          },
          "execution_count": 3
        }
      ]
    },
    {
      "cell_type": "code",
      "metadata": {
        "id": "JbrRFzU6HYld"
      },
      "source": [
        "def show_tensor_images(image_tensor, num_images=25, size=(1, 28, 28)):\n",
        "    '''\n",
        "    Function for visualizing images: Given a tensor of images, number of images, and\n",
        "    size per image, plots and prints the images in an uniform grid.\n",
        "    '''\n",
        "    image_tensor = (image_tensor + 1) / 2\n",
        "    image_unflat = image_tensor.detach().cpu()\n",
        "    image_grid = make_grid(image_unflat[:num_images], nrow=5)\n",
        "    plt.imshow(image_grid.permute(1, 2, 0).squeeze())\n",
        "    plt.show()\n",
        "\n",
        "def make_grad_hook():\n",
        "    '''\n",
        "    Function to keep track of gradients for visualization purposes, \n",
        "    which fills the grads list when using model.apply(grad_hook).\n",
        "    '''\n",
        "    grads = []\n",
        "    def grad_hook(m):\n",
        "        if isinstance(m, nn.Conv2d) or isinstance(m, nn.ConvTranspose2d):\n",
        "            grads.append(m.weight.grad)\n",
        "    return grads, grad_hook"
      ],
      "execution_count": 4,
      "outputs": []
    },
    {
      "cell_type": "markdown",
      "metadata": {
        "id": "R5-2tWiJHqLt"
      },
      "source": [
        "### Generator and Noise"
      ]
    },
    {
      "cell_type": "code",
      "metadata": {
        "id": "XYV7_No-McmA"
      },
      "source": [
        "def get_noise(n_samples, z_dim, device='cpu'):\n",
        "  "
      ],
      "execution_count": null,
      "outputs": []
    },
    {
      "cell_type": "code",
      "metadata": {
        "id": "oA2tzAiFHYi7"
      },
      "source": [
        "class Generator(nn.Module):\n",
        "  '''\n",
        "  Generator Class\n",
        "  Values:\n",
        "      z_dim: the dimension of the noise vector, a scalar\n",
        "      im_chan: the number of channels in the images, fitted for the dataset used, a scalar\n",
        "            (MNIST is black-and-white, so 1 channel is your default)\n",
        "      hidden_dim: the inner dimension, a scalar\n",
        "  '''\n",
        "\n",
        "  def __init__(self, z_dim=10, in_chan=1, hidden_dim=64):\n",
        "    super(Generator, self).__init__()\n",
        "    self.z_dim = z_dim\n",
        "    # build the neural network\n",
        "    self.gen = nn.Sequential(\n",
        "      self.make_gen_block(z_dim, hidden_dim * 4),\n",
        "      self.make_gen_block(hidden_dim * 4, hidden_dim * 2, kernel_size=4, \n",
        "                          stride=1),\n",
        "      self.make_gen_block(hidden_dim * 2, im_chan, kernel_size=4, \n",
        "                          final_layer=True)\n",
        "    )\n",
        "  \n",
        "  def make_gen_block(self, input_channels, output_channels, kernel_size=3, \n",
        "                     stride=2, final_layer=False):\n",
        "    '''\n",
        "    Function to return a sequence of operations corresponding to a generator block of DCGAN;\n",
        "    a transposed convolution, a batchnorm (except in the final layer), and an activation.\n",
        "    Parameters:\n",
        "        input_channels: how many channels the input feature representation has\n",
        "        output_channels: how many channels the output feature representation should have\n",
        "        kernel_size: the size of each convolutional filter, equivalent to (kernel_size, kernel_size)\n",
        "        stride: the stride of the convolution\n",
        "        final_layer: a boolean, true if it is the final layer and false otherwise \n",
        "                  (affects activation and batchnorm)\n",
        "    '''\n",
        "    if not final_layer:\n",
        "      return nn.Sequential(\n",
        "          nn.ConvTranspose2d(input_channels, output_channels, kernel_size, \n",
        "                             stride),\n",
        "          nn.BatchNorm2d(output_channels),\n",
        "          nn.ReLU(inplace=True),\n",
        "      )\n",
        "    else:\n",
        "      return nn.Sequential(\n",
        "          nn.ConvTranspose2d(input_channels, output_channels, kernel_size, \n",
        "                             stride),\n",
        "          nn.Tanh(),\n",
        "      )\n",
        "\n",
        "  def forward(self, noise):\n",
        "    '''\n",
        "    Function for completing a forward pass of the generator: Given a noise tensor,\n",
        "    returns generated images.\n",
        "    Parameters:\n",
        "        noise: a noise tensor with dimensions (n_samples, z_dim)\n",
        "    '''\n",
        "    x = noise.view(len(noise), self.z_dim, 1, 1)"
      ],
      "execution_count": 7,
      "outputs": []
    },
    {
      "cell_type": "code",
      "metadata": {
        "id": "3oPXz100HYfx"
      },
      "source": [
        "\n"
      ],
      "execution_count": null,
      "outputs": []
    },
    {
      "cell_type": "code",
      "metadata": {
        "id": "G4ouwQ0pHYcy"
      },
      "source": [
        ""
      ],
      "execution_count": null,
      "outputs": []
    },
    {
      "cell_type": "code",
      "metadata": {
        "id": "hwykIMmLHYZ4"
      },
      "source": [
        ""
      ],
      "execution_count": null,
      "outputs": []
    }
  ]
}