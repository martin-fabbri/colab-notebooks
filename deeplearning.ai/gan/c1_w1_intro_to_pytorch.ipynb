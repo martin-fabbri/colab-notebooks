{
  "nbformat": 4,
  "nbformat_minor": 0,
  "metadata": {
    "colab": {
      "name": "c1-w1-intro-to-pytorch.ipynb",
      "provenance": [],
      "authorship_tag": "ABX9TyNDxFOnBgxekufl5ahwkSHa",
      "include_colab_link": true
    },
    "kernelspec": {
      "name": "python3",
      "display_name": "Python 3"
    },
    "accelerator": "GPU"
  },
  "cells": [
    {
      "cell_type": "markdown",
      "metadata": {
        "id": "view-in-github",
        "colab_type": "text"
      },
      "source": [
        "<a href=\"https://colab.research.google.com/github/martin-fabbri/colab-notebooks/blob/master/deeplearning.ai/gan/c1_w1_intro_to_pytorch.ipynb\" target=\"_parent\"><img src=\"https://colab.research.google.com/assets/colab-badge.svg\" alt=\"Open In Colab\"/></a>"
      ]
    },
    {
      "cell_type": "markdown",
      "metadata": {
        "id": "94ECv0G4N2d3"
      },
      "source": [
        "# Intro\n",
        "\n",
        "[PyTorch](https://pytorch.org/) is a very powerful machine learning framework. Central to PyTorch are [tensors](https://pytorch.org/docs/stable/tensors.html), a generalization of matrices to higher ranks. One intuitive example of a tensor is an image with three color channels: A 3-channel (red, green, blue) image which is 64 pixels wide and 64 pixels tall is a $3\\times64\\times64$ tensor. You can access the PyTorch framework by writing `import torch` near the top of your code, along with all of your other import statements.\n",
        "\n",
        "This guide will help introduce you to the functionality of PyTorch, but don't worry too much about memorizing it: the assignments will link to relevant documentation where necessary."
      ]
    },
    {
      "cell_type": "code",
      "metadata": {
        "id": "LTVRCaTFNr-7",
        "colab": {
          "base_uri": "https://localhost:8080/",
          "height": 34
        },
        "outputId": "4a2d2c17-0f12-43e4-e163-2d72786e14ce"
      },
      "source": [
        "import torch\n",
        "import torch.nn as nn\n",
        "import torch.optim as optim\n",
        "\n",
        "torch.__version__"
      ],
      "execution_count": 35,
      "outputs": [
        {
          "output_type": "execute_result",
          "data": {
            "application/vnd.google.colaboratory.intrinsic+json": {
              "type": "string"
            },
            "text/plain": [
              "'1.7.0+cu101'"
            ]
          },
          "metadata": {
            "tags": []
          },
          "execution_count": 35
        }
      ]
    },
    {
      "cell_type": "markdown",
      "metadata": {
        "id": "d-z_7BovP_cI"
      },
      "source": [
        "# Why PyTorch?\n",
        "\n",
        "One important question worth asking is, why is PyTorch being used for this course? There is a great breakdown by [the Gradient](https://thegradient.pub/state-of-ml-frameworks-2019-pytorch-dominates-research-tensorflow-dominates-industry/) looking at the state of machine learning frameworks today. In part, as highlighted by the article, PyTorch is generally more pythonic than alternative frameworks, easier to debug, and is the most-used language in machine learning research by a large and growing margin. While PyTorch's primary alternative, Tensorflow, has attempted to integrate many of PyTorch's features, Tensorflow's implementations come with some inherent limitations highlighted in the article.\n",
        "\n",
        "Notably, while PyTorch's industry usage has grown, Tensorflow is still (for now) a slight favorite in industry. In practice, the features that make PyTorch attractive for research also make it attractive for education, and the general trend of machine learning research and practice to PyTorch makes it the more proactive choice. "
      ]
    },
    {
      "cell_type": "markdown",
      "metadata": {
        "id": "BJfyxCAzQjs6"
      },
      "source": [
        "# Tensor Properties\n",
        "One way to create tensors from a list or an array is to use `torch.Tensor`. It'll be used to set up examples in this notebook, but you'll never need to use it in the course - in fact, if you find yourself needing it, that's probably not the correct answer. "
      ]
    },
    {
      "cell_type": "code",
      "metadata": {
        "id": "-wasCNSaN6k0",
        "colab": {
          "base_uri": "https://localhost:8080/"
        },
        "outputId": "22df681a-fc3c-44a8-b7df-ea72fd3af851"
      },
      "source": [
        "example_tensor = torch.Tensor([\n",
        "  [[1, 2], [3, 4]],\n",
        "  [[5, 6], [7, 8]],\n",
        "  [[9, 0], [1, 2]],\n",
        "])\n",
        "example_tensor.shape"
      ],
      "execution_count": 2,
      "outputs": [
        {
          "output_type": "execute_result",
          "data": {
            "text/plain": [
              "torch.Size([3, 2, 2])"
            ]
          },
          "metadata": {
            "tags": []
          },
          "execution_count": 2
        }
      ]
    },
    {
      "cell_type": "code",
      "metadata": {
        "id": "YwJ7ZQ0kRErI",
        "colab": {
          "base_uri": "https://localhost:8080/"
        },
        "outputId": "3f2222dd-5dcb-4b83-bce4-66f7216f7d60"
      },
      "source": [
        "example_tensor"
      ],
      "execution_count": 3,
      "outputs": [
        {
          "output_type": "execute_result",
          "data": {
            "text/plain": [
              "tensor([[[1., 2.],\n",
              "         [3., 4.]],\n",
              "\n",
              "        [[5., 6.],\n",
              "         [7., 8.]],\n",
              "\n",
              "        [[9., 0.],\n",
              "         [1., 2.]]])"
            ]
          },
          "metadata": {
            "tags": []
          },
          "execution_count": 3
        }
      ]
    },
    {
      "cell_type": "markdown",
      "metadata": {
        "id": "30_sAgvDRhze"
      },
      "source": [
        "## Tensor Properties: Device\n",
        "\n",
        "One important property is the device of the tensor - throughout this notebook you'll be sticking to tensors which are on the CPU. However, throughout the course you'll also be using tensors on GPU (that is, a graphics card which will be provided for you to use for the course). To view the device of the tensor, all you need to write is `example_tensor.device`. To move a tensor to a new device, you can write `new_tensor = example_tensor.to(device)` where device will be either `cpu` or `cuda`."
      ]
    },
    {
      "cell_type": "code",
      "metadata": {
        "id": "NR3YMKL9RRrK",
        "colab": {
          "base_uri": "https://localhost:8080/"
        },
        "outputId": "8a492feb-a679-46c7-f0bb-0c0a0970be9b"
      },
      "source": [
        "example_tensor.device"
      ],
      "execution_count": 4,
      "outputs": [
        {
          "output_type": "execute_result",
          "data": {
            "text/plain": [
              "device(type='cpu')"
            ]
          },
          "metadata": {
            "tags": []
          },
          "execution_count": 4
        }
      ]
    },
    {
      "cell_type": "code",
      "metadata": {
        "id": "VN-bt4wMRuJf",
        "colab": {
          "base_uri": "https://localhost:8080/"
        },
        "outputId": "e4d91f7d-da7d-44a2-a165-6c08dad97b12"
      },
      "source": [
        "example_tensor.to('cuda')"
      ],
      "execution_count": 5,
      "outputs": [
        {
          "output_type": "execute_result",
          "data": {
            "text/plain": [
              "tensor([[[1., 2.],\n",
              "         [3., 4.]],\n",
              "\n",
              "        [[5., 6.],\n",
              "         [7., 8.]],\n",
              "\n",
              "        [[9., 0.],\n",
              "         [1., 2.]]], device='cuda:0')"
            ]
          },
          "metadata": {
            "tags": []
          },
          "execution_count": 5
        }
      ]
    },
    {
      "cell_type": "code",
      "metadata": {
        "id": "pRCSzbgWR9ld",
        "colab": {
          "base_uri": "https://localhost:8080/"
        },
        "outputId": "33b9e421-e15c-4170-ffad-3b0710ac280d"
      },
      "source": [
        "example_tensor.device"
      ],
      "execution_count": 6,
      "outputs": [
        {
          "output_type": "execute_result",
          "data": {
            "text/plain": [
              "device(type='cpu')"
            ]
          },
          "metadata": {
            "tags": []
          },
          "execution_count": 6
        }
      ]
    },
    {
      "cell_type": "markdown",
      "metadata": {
        "id": "As-RWAmPSKCc"
      },
      "source": [
        "## Tensor Properties: Shape\n",
        "\n",
        "And you can get the number of elements in each dimension by printing out the tensor's shape, using `example_tensor.shape`, something you're likely familiar with if you've used numpy. For example, this tensor is a $3\\times2\\times2$ tensor, since it has 3 elements, each of which are $2\\times2$. "
      ]
    },
    {
      "cell_type": "code",
      "metadata": {
        "id": "mJeGJ4DtSCTN",
        "colab": {
          "base_uri": "https://localhost:8080/"
        },
        "outputId": "fe56cc58-cb1c-4521-aec0-afaba0b7947a"
      },
      "source": [
        "example_tensor.shape"
      ],
      "execution_count": 7,
      "outputs": [
        {
          "output_type": "execute_result",
          "data": {
            "text/plain": [
              "torch.Size([3, 2, 2])"
            ]
          },
          "metadata": {
            "tags": []
          },
          "execution_count": 7
        }
      ]
    },
    {
      "cell_type": "markdown",
      "metadata": {
        "id": "Tg3aWMZBSiKe"
      },
      "source": [
        "You can also get the size of a particular dimension $n$ using `example_tensor.shape[n]` or equivalently `example_tensor.size(n)`"
      ]
    },
    {
      "cell_type": "code",
      "metadata": {
        "id": "MjqsH-FPSVq1",
        "colab": {
          "base_uri": "https://localhost:8080/"
        },
        "outputId": "6f912791-d3dd-4209-87c4-45617c7ba35d"
      },
      "source": [
        "print('shape[0]=', example_tensor.shape[0])\n",
        "print('size(0)=', example_tensor.size(0))\n",
        "print('size(1)=', example_tensor.size(1))"
      ],
      "execution_count": 8,
      "outputs": [
        {
          "output_type": "stream",
          "text": [
            "shape[0]= 3\n",
            "size(0)= 3\n",
            "size(1)= 2\n"
          ],
          "name": "stdout"
        }
      ]
    },
    {
      "cell_type": "markdown",
      "metadata": {
        "id": "zAdYdiXoS4Ig"
      },
      "source": [
        "Finally, it is sometimes useful to get the number of dimensions (rank) or the number of elements, which you can do as follows"
      ]
    },
    {
      "cell_type": "code",
      "metadata": {
        "id": "utJ0eCAdS3Iq",
        "colab": {
          "base_uri": "https://localhost:8080/"
        },
        "outputId": "5d9c4138-be08-411f-d26f-b36cde25ea46"
      },
      "source": [
        "print('Rand:', len(example_tensor.shape))\n",
        "print('Number of elements:', example_tensor.numel())"
      ],
      "execution_count": 9,
      "outputs": [
        {
          "output_type": "stream",
          "text": [
            "Rand: 3\n",
            "Number of elements: 12\n"
          ],
          "name": "stdout"
        }
      ]
    },
    {
      "cell_type": "markdown",
      "metadata": {
        "id": "3HztWUt8cweu"
      },
      "source": [
        "## Index Tensors\n",
        "\n",
        "As with numpy, you can access specific elements or subsets of elements of a tensor. To access the $n$-th element, you can simply write `example_tensor[n]` - as with Python in general, these dimensions are 0-indexed. "
      ]
    },
    {
      "cell_type": "code",
      "metadata": {
        "colab": {
          "base_uri": "https://localhost:8080/"
        },
        "id": "gAwnIlHIcoYB",
        "outputId": "202359bb-be7c-4d3a-e704-656867dce045"
      },
      "source": [
        "example_tensor[1]"
      ],
      "execution_count": 10,
      "outputs": [
        {
          "output_type": "execute_result",
          "data": {
            "text/plain": [
              "tensor([[5., 6.],\n",
              "        [7., 8.]])"
            ]
          },
          "metadata": {
            "tags": []
          },
          "execution_count": 10
        }
      ]
    },
    {
      "cell_type": "markdown",
      "metadata": {
        "id": "-s-ZIlGZdHgG"
      },
      "source": [
        "In addition, if you want to access the $j$-th dimension of the $i$-th example, you can write `example_tensor[i, j]`"
      ]
    },
    {
      "cell_type": "code",
      "metadata": {
        "colab": {
          "base_uri": "https://localhost:8080/"
        },
        "id": "hlvqD7Bdc-8D",
        "outputId": "fc8d39ed-377b-4bfb-a3fd-4d374fcffb2b"
      },
      "source": [
        "example_tensor[1, 1, 0]"
      ],
      "execution_count": 11,
      "outputs": [
        {
          "output_type": "execute_result",
          "data": {
            "text/plain": [
              "tensor(7.)"
            ]
          },
          "metadata": {
            "tags": []
          },
          "execution_count": 11
        }
      ]
    },
    {
      "cell_type": "markdown",
      "metadata": {
        "id": "qcXKF5xQdQwk"
      },
      "source": [
        "Note that if you'd like to get a Python scalar value from a tensor, you can use `example_scalar.item()`"
      ]
    },
    {
      "cell_type": "code",
      "metadata": {
        "colab": {
          "base_uri": "https://localhost:8080/"
        },
        "id": "z8dzy1X7dL_C",
        "outputId": "66d2b3b7-821d-4455-9fbc-c7071f55d71b"
      },
      "source": [
        "example_scalar = example_tensor[1, 1, 0].item()\n",
        "example_scalar"
      ],
      "execution_count": 12,
      "outputs": [
        {
          "output_type": "execute_result",
          "data": {
            "text/plain": [
              "7.0"
            ]
          },
          "metadata": {
            "tags": []
          },
          "execution_count": 12
        }
      ]
    },
    {
      "cell_type": "markdown",
      "metadata": {
        "id": "0H1T1Kasdiq0"
      },
      "source": [
        "In addition, you can index into the ith element of a column by using `x[:, i]`. For example, if you want the top-left element of each element in `example_tensor`, which is the `0, 0` element of each matrix, you can write:"
      ]
    },
    {
      "cell_type": "code",
      "metadata": {
        "colab": {
          "base_uri": "https://localhost:8080/"
        },
        "id": "3YUfCRafdb5-",
        "outputId": "fc680d76-ac68-4070-c287-98569caed40c"
      },
      "source": [
        "example_tensor[:, 0, 0]"
      ],
      "execution_count": 13,
      "outputs": [
        {
          "output_type": "execute_result",
          "data": {
            "text/plain": [
              "tensor([1., 5., 9.])"
            ]
          },
          "metadata": {
            "tags": []
          },
          "execution_count": 13
        }
      ]
    },
    {
      "cell_type": "markdown",
      "metadata": {
        "id": "vJuityUxd4E0"
      },
      "source": [
        "# Initializing Tensors\n",
        "\n",
        "There are many ways to create new tensors in PyTorch, but in this course, the most important ones are: \n",
        "\n",
        "[`torch.ones_like`](https://pytorch.org/docs/master/generated/torch.ones_like.html): creates a tensor of all ones with the same shape and device as `example_tensor`."
      ]
    },
    {
      "cell_type": "code",
      "metadata": {
        "colab": {
          "base_uri": "https://localhost:8080/"
        },
        "id": "njbfl5qydzHx",
        "outputId": "377ecf4e-30e3-4df4-91c5-c02263eb328c"
      },
      "source": [
        "torch.ones_like(example_tensor)"
      ],
      "execution_count": 14,
      "outputs": [
        {
          "output_type": "execute_result",
          "data": {
            "text/plain": [
              "tensor([[[1., 1.],\n",
              "         [1., 1.]],\n",
              "\n",
              "        [[1., 1.],\n",
              "         [1., 1.]],\n",
              "\n",
              "        [[1., 1.],\n",
              "         [1., 1.]]])"
            ]
          },
          "metadata": {
            "tags": []
          },
          "execution_count": 14
        }
      ]
    },
    {
      "cell_type": "markdown",
      "metadata": {
        "id": "rcMquWVseJKS"
      },
      "source": [
        "[`torch.zeros_like`](https://pytorch.org/docs/master/generated/torch.zeros_like.html): creates a tensor of all zeros with the same shape and device as `example_tensor`"
      ]
    },
    {
      "cell_type": "code",
      "metadata": {
        "colab": {
          "base_uri": "https://localhost:8080/"
        },
        "id": "LupelC77eCiR",
        "outputId": "47ad92b2-187a-44fe-a297-07cc0b6ccac6"
      },
      "source": [
        "torch.zeros_like(example_tensor)"
      ],
      "execution_count": 15,
      "outputs": [
        {
          "output_type": "execute_result",
          "data": {
            "text/plain": [
              "tensor([[[0., 0.],\n",
              "         [0., 0.]],\n",
              "\n",
              "        [[0., 0.],\n",
              "         [0., 0.]],\n",
              "\n",
              "        [[0., 0.],\n",
              "         [0., 0.]]])"
            ]
          },
          "metadata": {
            "tags": []
          },
          "execution_count": 15
        }
      ]
    },
    {
      "cell_type": "markdown",
      "metadata": {
        "id": "XqQLDv-WeTmn"
      },
      "source": [
        "[`torch.randn_like`](https://pytorch.org/docs/stable/generated/torch.randn_like.html): creates a tensor with every element sampled from a [Normal (or Gaussian) distribution](https://en.wikipedia.org/wiki/Normal_distribution) with the same shape and device as `example_tensor`"
      ]
    },
    {
      "cell_type": "code",
      "metadata": {
        "colab": {
          "base_uri": "https://localhost:8080/"
        },
        "id": "Gv7EDnAWeMqp",
        "outputId": "9aeff4a8-1702-4a3f-a758-ea5e83f25c9d"
      },
      "source": [
        "torch.rand_like(example_tensor)"
      ],
      "execution_count": 16,
      "outputs": [
        {
          "output_type": "execute_result",
          "data": {
            "text/plain": [
              "tensor([[[0.3918, 0.4101],\n",
              "         [0.1491, 0.8646]],\n",
              "\n",
              "        [[0.2327, 0.4621],\n",
              "         [0.4980, 0.0725]],\n",
              "\n",
              "        [[0.5142, 0.0128],\n",
              "         [0.2825, 0.2958]]])"
            ]
          },
          "metadata": {
            "tags": []
          },
          "execution_count": 16
        }
      ]
    },
    {
      "cell_type": "markdown",
      "metadata": {
        "id": "jvuhXfi8efeI"
      },
      "source": [
        "Sometimes (though less often than you'd expect), you might need to initialize a tensor knowing only the shape and device, without a tensor for reference for `ones_like` or `randn_like`. In this case, you can create a $2x2$ tensor as follows:"
      ]
    },
    {
      "cell_type": "code",
      "metadata": {
        "colab": {
          "base_uri": "https://localhost:8080/"
        },
        "id": "NVlZ1Dv4eYPK",
        "outputId": "8f4ea1e9-4dcc-4f4f-db83-b275dedcf410"
      },
      "source": [
        "torch.rand(2, 2, device='cpu')"
      ],
      "execution_count": 17,
      "outputs": [
        {
          "output_type": "execute_result",
          "data": {
            "text/plain": [
              "tensor([[0.9614, 0.3237],\n",
              "        [0.7486, 0.4319]])"
            ]
          },
          "metadata": {
            "tags": []
          },
          "execution_count": 17
        }
      ]
    },
    {
      "cell_type": "markdown",
      "metadata": {
        "id": "MGd4UMpTeuuW"
      },
      "source": [
        "# Basic Functions\n",
        "\n",
        "There are a number of basic functions that you should know to use PyTorch - if you're familiar with numpy, all commonly-used functions exist in PyTorch, usually with the same name. You can perform element-wise multiplication / division by a scalar $c$ by simply writing `c * example_tensor`, and element-wise addition / subtraction by a scalar by writing `example_tensor + c`\n",
        "\n",
        "Note that most operations are not in-place in PyTorch, which means that they don't change the original variable's data (However, you can reassign the same variable name to the changed data if you'd like, such as `example_tensor = example_tensor + 1`)"
      ]
    },
    {
      "cell_type": "code",
      "metadata": {
        "colab": {
          "base_uri": "https://localhost:8080/"
        },
        "id": "ubPlCGJFejdO",
        "outputId": "048a080d-7ea1-41c9-fc8e-18c9fca2056d"
      },
      "source": [
        "(example_tensor - 5) * 2"
      ],
      "execution_count": 18,
      "outputs": [
        {
          "output_type": "execute_result",
          "data": {
            "text/plain": [
              "tensor([[[ -8.,  -6.],\n",
              "         [ -4.,  -2.]],\n",
              "\n",
              "        [[  0.,   2.],\n",
              "         [  4.,   6.]],\n",
              "\n",
              "        [[  8., -10.],\n",
              "         [ -8.,  -6.]]])"
            ]
          },
          "metadata": {
            "tags": []
          },
          "execution_count": 18
        }
      ]
    },
    {
      "cell_type": "markdown",
      "metadata": {
        "id": "12PbnNuQfL5Y"
      },
      "source": [
        "You can calculate the mean or standard deviation of a tensor using [`example_tensor.mean()`](https://pytorch.org/docs/stable/generated/torch.mean.html) or [`example_tensor.std()`](https://pytorch.org/docs/stable/generated/torch.std.html). "
      ]
    },
    {
      "cell_type": "code",
      "metadata": {
        "id": "tRmlQA1bfG7-",
        "colab": {
          "base_uri": "https://localhost:8080/"
        },
        "outputId": "f106063b-b817-4cf1-a4dc-a605f59b4d49"
      },
      "source": [
        "print('mean:', example_tensor.mean())\n",
        "print('std:', example_tensor.std())"
      ],
      "execution_count": 19,
      "outputs": [
        {
          "output_type": "stream",
          "text": [
            "mean: tensor(4.)\n",
            "std: tensor(2.9848)\n"
          ],
          "name": "stdout"
        }
      ]
    },
    {
      "cell_type": "markdown",
      "metadata": {
        "id": "xQ0RMseDfpdC"
      },
      "source": [
        "You might also want to find the mean or standard deviation along a particular dimension. To do this you can simple pass the number corresponding to that dimension to the function. For example, if you want to get the average $2\\times2$ matrix of the $3\\times2\\times2$ `example_tensor` you can write:"
      ]
    },
    {
      "cell_type": "code",
      "metadata": {
        "colab": {
          "base_uri": "https://localhost:8080/"
        },
        "id": "dd0BujOjfl9-",
        "outputId": "66f865e0-ce8c-4079-a2aa-3000e63eaac1"
      },
      "source": [
        "example_tensor.mean(0)\n",
        "\n",
        "# Equivalently, you could also write:\n",
        "# example_tensor.mean(dim=0)\n",
        "# example_tensor.mean(axis=0)\n",
        "# torch.mean(example_tensor, 0)\n",
        "# torch.mean(example_tensor, dim=0)\n",
        "# torch.mean(example_tensor, axis=0)"
      ],
      "execution_count": 21,
      "outputs": [
        {
          "output_type": "execute_result",
          "data": {
            "text/plain": [
              "tensor([[5.0000, 2.6667],\n",
              "        [3.6667, 4.6667]])"
            ]
          },
          "metadata": {
            "tags": []
          },
          "execution_count": 21
        }
      ]
    },
    {
      "cell_type": "markdown",
      "metadata": {
        "id": "bi_EnJBYgOJ2"
      },
      "source": [
        "PyTorch has many other powerful functions but these should be all of PyTorch functions you need for this course outside of its neural network module (`torch.nn`)."
      ]
    },
    {
      "cell_type": "markdown",
      "metadata": {
        "id": "q-rtDWDOgRlw"
      },
      "source": [
        "## PyTorch Neural Network Module (`torch.nn`)\n",
        "\n",
        "PyTorch has a lot of powerful classes in its `torch.nn` module (Usually, imported as simply `nn`). These classes allow you to create a new function which transforms a tensor in specific way, often retaining information when called multiple times."
      ]
    },
    {
      "cell_type": "markdown",
      "metadata": {
        "id": "cK9PbiRBiFjq"
      },
      "source": [
        "## `nn.Linear`\n",
        "\n",
        "To create a linear layer, you need to pass it the number of input dimensions and the number of output dimensions. The linear object initialized as `nn.Linear(10, 2)` will take in a $n\\times10$ matrix and return an $n\\times2$ matrix, where all $n$ elements have had the same linear transformation performed. For example, you can initialize a linear layer which performs the operation $Ax + b$, where $A$ and $b$ are initialized randomly when you generate the [`nn.Linear()`](https://pytorch.org/docs/stable/generated/torch.nn.Linear.html) object. "
      ]
    },
    {
      "cell_type": "code",
      "metadata": {
        "colab": {
          "base_uri": "https://localhost:8080/"
        },
        "id": "rmpBkrHFgHet",
        "outputId": "fda219ef-4362-4684-d48b-f5b1bbc1111b"
      },
      "source": [
        "linear = nn.Linear(10, 2)\n",
        "example_input = torch.randn(3, 10)\n",
        "example_output = linear(example_input)\n",
        "example_output"
      ],
      "execution_count": 28,
      "outputs": [
        {
          "output_type": "execute_result",
          "data": {
            "text/plain": [
              "tensor([[-0.0559, -0.5895],\n",
              "        [ 0.5339, -0.5877],\n",
              "        [-1.2681,  0.7278]], grad_fn=<AddmmBackward>)"
            ]
          },
          "metadata": {
            "tags": []
          },
          "execution_count": 28
        }
      ]
    },
    {
      "cell_type": "markdown",
      "metadata": {
        "id": "QqrckhmEihjh"
      },
      "source": [
        "## `nn.ReLU`\n",
        "\n",
        "[`nn.ReLU()`](https://pytorch.org/docs/stable/generated/torch.nn.ReLU.html) will create an object that, when receiving a tensor, will perform a ReLU activation function. This will be reviewed further in lecture, but in essence, a ReLU non-linearity sets all negative numbers in a tensor to zero. In general, the simplest neural networks are composed of series of linear transformations, each followed by activation functions. "
      ]
    },
    {
      "cell_type": "code",
      "metadata": {
        "colab": {
          "base_uri": "https://localhost:8080/"
        },
        "id": "yF6Dp19Ig_Fy",
        "outputId": "33d87655-43a4-4207-d965-91cd82a3fb6a"
      },
      "source": [
        "relu = nn.ReLU()\n",
        "relu_output = relu(example_output)\n",
        "relu_output"
      ],
      "execution_count": 29,
      "outputs": [
        {
          "output_type": "execute_result",
          "data": {
            "text/plain": [
              "tensor([[0.0000, 0.0000],\n",
              "        [0.5339, 0.0000],\n",
              "        [0.0000, 0.7278]], grad_fn=<ReluBackward0>)"
            ]
          },
          "metadata": {
            "tags": []
          },
          "execution_count": 29
        }
      ]
    },
    {
      "cell_type": "markdown",
      "metadata": {
        "id": "PwvOrGWsi-81"
      },
      "source": [
        "## `nn.BatchNorm1d`\n",
        "\n",
        "[`nn.BatchNorm1d`](https://pytorch.org/docs/stable/generated/torch.nn.BatchNorm1d.html) is a normalization technique that will rescale a batch of $n$ inputs to have a consistent mean and standard deviation between batches.  \n",
        "\n",
        "As indicated by the `1d` in its name, this is for situations where you expects a set of inputs, where each of them is a flat list of numbers. In other words, each input is a vector, not a matrix or higher-dimensional tensor. For a set of images, each of which is a higher-dimensional tensor, you'd use [`nn.BatchNorm2d`](https://pytorch.org/docs/stable/generated/torch.nn.BatchNorm2d.html), discussed later on this page.\n",
        "\n",
        "`nn.BatchNorm1d` takes an argument of the number of input dimensions of each object in the batch (the size of each example vector)."
      ]
    },
    {
      "cell_type": "code",
      "metadata": {
        "colab": {
          "base_uri": "https://localhost:8080/"
        },
        "id": "20z67iuHi_nC",
        "outputId": "8afe2779-f011-4ec9-8072-39fd2203bcdb"
      },
      "source": [
        "batchnorm = nn.BatchNorm1d(2)\n",
        "batchnorm = batchnorm(relu_output)\n",
        "batchnorm"
      ],
      "execution_count": 30,
      "outputs": [
        {
          "output_type": "execute_result",
          "data": {
            "text/plain": [
              "tensor([[-0.7071, -0.7071],\n",
              "        [ 1.4141, -0.7071],\n",
              "        [-0.7071,  1.4142]], grad_fn=<NativeBatchNormBackward>)"
            ]
          },
          "metadata": {
            "tags": []
          },
          "execution_count": 30
        }
      ]
    },
    {
      "cell_type": "markdown",
      "metadata": {
        "id": "WEGkD398nr3_"
      },
      "source": [
        "## `nn.Sequential`\n",
        "\n",
        "[`nn.Sequential`](https://pytorch.org/docs/stable/generated/torch.nn.Sequential.html) creates a single operation that performs a sequence of operations. For example, you can write a neural network layer with a batch normalization as"
      ]
    },
    {
      "cell_type": "code",
      "metadata": {
        "colab": {
          "base_uri": "https://localhost:8080/"
        },
        "id": "Dct97PifjAMD",
        "outputId": "b9fae039-ccfa-44da-8d2e-6aacc5cf6722"
      },
      "source": [
        "mlp_layer = nn.Sequential(\n",
        "    nn.Linear(5, 2),\n",
        "    nn.BatchNorm1d(2),\n",
        "    nn.ReLU()\n",
        ")\n",
        "\n",
        "test_example = torch.randn(5, 5) + 1\n",
        "print('input:')\n",
        "print(test_example)\n",
        "print('output:')\n",
        "print(mlp_layer(test_example))\n"
      ],
      "execution_count": 34,
      "outputs": [
        {
          "output_type": "stream",
          "text": [
            "input:\n",
            "tensor([[ 0.2077,  1.1663, -1.2402,  2.7745,  1.5440],\n",
            "        [ 1.3577,  1.5666,  0.2978,  1.4663,  3.7102],\n",
            "        [ 1.3061,  2.3773,  1.0583,  0.6000,  0.9559],\n",
            "        [ 1.2709, -0.5775,  0.0612,  0.0118,  1.5306],\n",
            "        [ 0.4203, -0.0314,  0.9761,  1.0357, -0.2979]])\n",
            "output:\n",
            "tensor([[1.5081, 0.9119],\n",
            "        [0.0000, 0.0000],\n",
            "        [0.4377, 0.0000],\n",
            "        [0.0000, 0.4963],\n",
            "        [0.2715, 1.0050]], grad_fn=<ReluBackward0>)\n"
          ],
          "name": "stdout"
        }
      ]
    },
    {
      "cell_type": "markdown",
      "metadata": {
        "id": "Mq3gp1juo5gb"
      },
      "source": [
        "# Optimization\n",
        "\n",
        "One of the most important aspects of essentially any machine learning framework is its automatic differentiation library. "
      ]
    },
    {
      "cell_type": "markdown",
      "metadata": {
        "id": "Lu_MA9vKo8fy"
      },
      "source": [
        "## Optimizers\n",
        "\n",
        "To create an optimizer in PyTorch, you'll need to use the `torch.optim` module, often imported as `optim`. [`optim.Adam`](https://pytorch.org/docs/stable/optim.html#torch.optim.Adam) corresponds to the Adam optimizer. To create an optimizer object, you'll need to pass it the parameters to be optimized and the learning rate, `lr`, as well as any other parameters specific to the optimizer.\n",
        "\n",
        "For all `nn` objects, you can access their parameters as a list using their `parameters()` method, as follows:"
      ]
    },
    {
      "cell_type": "code",
      "metadata": {
        "id": "mLx2X4E_jAhd"
      },
      "source": [
        "adam_opt = optim.Adam(mlp_layer.parameters(), lr=1e-1)"
      ],
      "execution_count": 36,
      "outputs": []
    },
    {
      "cell_type": "markdown",
      "metadata": {
        "id": "EuIfTqb4qfZj"
      },
      "source": [
        "## Training Loop\n",
        "\n",
        "A (basic) training step in PyTorch consists of four basic parts:\n",
        "\n",
        "\n",
        "1.   Set all of the gradients to zero using `opt.zero_grad()`\n",
        "2.   Calculate the loss, `loss`\n",
        "3.   Calculate the gradients with respect to the loss using `loss.backward()`\n",
        "4.   Update the parameters being optimized using `opt.step()`\n",
        "\n",
        "That might look like the following code (and you'll notice that if you run it several times, the loss goes down):"
      ]
    },
    {
      "cell_type": "code",
      "metadata": {
        "colab": {
          "base_uri": "https://localhost:8080/"
        },
        "id": "dTEpP2TZjAXh",
        "outputId": "1106b970-33a5-4af7-ea5c-4dff0b4925c0"
      },
      "source": [
        "train_example = torch.randn(100, 5) + 1\n",
        "adam_opt.zero_grad()\n",
        "\n",
        "# we'll use a simple loss function of mean distance form 1\n",
        "# torch.abs takes the absolute value of a tensor\n",
        "cur_loss = torch.abs(1 - mlp_layer(train_example)).mean()\n",
        "\n",
        "cur_loss.backward()\n",
        "adam_opt.step()\n",
        "print(cur_loss)"
      ],
      "execution_count": 44,
      "outputs": [
        {
          "output_type": "stream",
          "text": [
            "tensor(0.3737, grad_fn=<MeanBackward0>)\n"
          ],
          "name": "stdout"
        }
      ]
    },
    {
      "cell_type": "markdown",
      "metadata": {
        "id": "myg4JLiwsKgE"
      },
      "source": [
        "## `requires_grad_()`\n",
        "\n",
        "You can also tell PyTorch that it needs to calculate the gradient with respect to a tensor that you created by saying `example_tensor.requires_grad_()`, which will change it in-place. This means that even if PyTorch wouldn't normally store a grad for that particular tensor, it will for that specified tensor. "
      ]
    },
    {
      "cell_type": "markdown",
      "metadata": {
        "id": "Ypw_hLh1sLNu"
      },
      "source": [
        "## `with torch.no_grad():`\n",
        "\n",
        "PyTorch will usually calculate the gradients as it proceeds through a set of operations on tensors. This can often take up unnecessary computations and memory, especially if you're performing an evaluation. However, you can wrap a piece of code with `with torch.no_grad()` to prevent the gradients from being calculated in a piece of code. "
      ]
    },
    {
      "cell_type": "markdown",
      "metadata": {
        "id": "6x2bDmuFsLhO"
      },
      "source": [
        "\n",
        "## `detach():`\n",
        "\n",
        "Sometimes, you want to calculate and use a tensor's value without calculating its gradients. For example, if you have two models, A and B, and you want to directly optimize the parameters of A with respect to the output of B, without calculating the gradients through B, then you could feed the detached output of B to A. There are many reasons you might want to do this, including efficiency or cyclical dependencies (i.e. A depends on B depends on A)."
      ]
    },
    {
      "cell_type": "markdown",
      "metadata": {
        "id": "crsf5NrQs0Kd"
      },
      "source": [
        "# New `nn` Classes\n",
        "\n",
        "You can also create new classes which extend the `nn` module. For these classes, all class attributes, as in `self.layer` or `self.param` will automatically treated as parameters if they are themselves `nn` objects or if they are tensors wrapped in `nn.Parameter` which are initialized with the class. \n",
        "\n",
        "The `__init__` function defines what will happen when the object is created. The first line of the init function of a class, for example, `WellNamedClass`, needs to be `super(WellNamedClass, self).__init__()`. \n",
        "\n",
        "The `forward` function defines what runs if you create that object `model` and pass it a tensor `x`, as in `model(x)`. If you choose the function signature, `(self, x)`, then each call of the forward function, gets two pieces of information: `self`, which is a reference to the object with which you can access all of its parameters, and `x`, which is the current tensor for which you'd like to return `y`.\n",
        "\n",
        "One class might look like the following:"
      ]
    },
    {
      "cell_type": "code",
      "metadata": {
        "id": "tDbTvLFVjABP"
      },
      "source": [
        "class ExampleModule(nn.Module):\n",
        "  def __init__(self, input_dims, output_dims):\n",
        "    super(ExampleModule, self).__init__()\n",
        "    self.linear = nn.Linear(input_dims, output_dims)\n",
        "    self.exponent = nn.Parameter(torch.tensor(1.))\n",
        "  \n",
        "  def forward(self, x):\n",
        "    x = self.linear(x)\n",
        "    x = x ** self.exponent\n",
        "    return x"
      ],
      "execution_count": 45,
      "outputs": []
    },
    {
      "cell_type": "markdown",
      "metadata": {
        "id": "qdSyAuEKurCm"
      },
      "source": [
        "And you can view its parameters as follows"
      ]
    },
    {
      "cell_type": "code",
      "metadata": {
        "id": "XETqQf_Gunc0",
        "outputId": "f6f34563-d621-446e-f6f0-3ede4dd41a4c",
        "colab": {
          "base_uri": "https://localhost:8080/"
        }
      },
      "source": [
        "example_model = ExampleModule(10, 2)\n",
        "list(example_model.parameters())"
      ],
      "execution_count": 47,
      "outputs": [
        {
          "output_type": "execute_result",
          "data": {
            "text/plain": [
              "[Parameter containing:\n",
              " tensor(1., requires_grad=True), Parameter containing:\n",
              " tensor([[-0.1346, -0.1341,  0.0822, -0.1008,  0.1653,  0.1307, -0.0847, -0.1846,\n",
              "          -0.0250,  0.2390],\n",
              "         [ 0.3056,  0.3156, -0.0622, -0.3098, -0.2760, -0.2618,  0.0023, -0.1759,\n",
              "           0.1596, -0.2879]], requires_grad=True), Parameter containing:\n",
              " tensor([ 0.2064, -0.1696], requires_grad=True)]"
            ]
          },
          "metadata": {
            "tags": []
          },
          "execution_count": 47
        }
      ]
    },
    {
      "cell_type": "markdown",
      "metadata": {
        "id": "8iN21WY4vEUN"
      },
      "source": [
        "And you can print out their names too, as follows:"
      ]
    },
    {
      "cell_type": "code",
      "metadata": {
        "id": "fQiSvvfiuy3r",
        "outputId": "2c0cd54e-5c50-4a09-8713-c29b1e105de5",
        "colab": {
          "base_uri": "https://localhost:8080/"
        }
      },
      "source": [
        "list(example_model.named_parameters())"
      ],
      "execution_count": 48,
      "outputs": [
        {
          "output_type": "execute_result",
          "data": {
            "text/plain": [
              "[('exponent', Parameter containing:\n",
              "  tensor(1., requires_grad=True)), ('linear.weight', Parameter containing:\n",
              "  tensor([[-0.1346, -0.1341,  0.0822, -0.1008,  0.1653,  0.1307, -0.0847, -0.1846,\n",
              "           -0.0250,  0.2390],\n",
              "          [ 0.3056,  0.3156, -0.0622, -0.3098, -0.2760, -0.2618,  0.0023, -0.1759,\n",
              "            0.1596, -0.2879]], requires_grad=True)), ('linear.bias',\n",
              "  Parameter containing:\n",
              "  tensor([ 0.2064, -0.1696], requires_grad=True))]"
            ]
          },
          "metadata": {
            "tags": []
          },
          "execution_count": 48
        }
      ]
    }
  ]
}