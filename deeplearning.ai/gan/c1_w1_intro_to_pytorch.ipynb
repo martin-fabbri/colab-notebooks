{
  "nbformat": 4,
  "nbformat_minor": 0,
  "metadata": {
    "colab": {
      "name": "c1-w1-intro-to-pytorch.ipynb",
      "provenance": [],
      "authorship_tag": "ABX9TyNr66lAd+BBzMwhH4c2qNJS",
      "include_colab_link": true
    },
    "kernelspec": {
      "name": "python3",
      "display_name": "Python 3"
    },
    "accelerator": "GPU"
  },
  "cells": [
    {
      "cell_type": "markdown",
      "metadata": {
        "id": "view-in-github",
        "colab_type": "text"
      },
      "source": [
        "<a href=\"https://colab.research.google.com/github/martin-fabbri/colab-notebooks/blob/master/deeplearning.ai/gan/c1_w1_intro_to_pytorch.ipynb\" target=\"_parent\"><img src=\"https://colab.research.google.com/assets/colab-badge.svg\" alt=\"Open In Colab\"/></a>"
      ]
    },
    {
      "cell_type": "markdown",
      "metadata": {
        "id": "94ECv0G4N2d3"
      },
      "source": [
        "# Intro\n",
        "\n",
        "[PyTorch](https://pytorch.org/) is a very powerful machine learning framework. Central to PyTorch are [tensors](https://pytorch.org/docs/stable/tensors.html), a generalization of matrices to higher ranks. One intuitive example of a tensor is an image with three color channels: A 3-channel (red, green, blue) image which is 64 pixels wide and 64 pixels tall is a $3\\times64\\times64$ tensor. You can access the PyTorch framework by writing `import torch` near the top of your code, along with all of your other import statements.\n",
        "\n",
        "This guide will help introduce you to the functionality of PyTorch, but don't worry too much about memorizing it: the assignments will link to relevant documentation where necessary."
      ]
    },
    {
      "cell_type": "code",
      "metadata": {
        "id": "LTVRCaTFNr-7",
        "colab": {
          "base_uri": "https://localhost:8080/",
          "height": 34
        },
        "outputId": "23cded45-3303-4766-a344-2e6503cc7c58"
      },
      "source": [
        "import torch\n",
        "\n",
        "torch.__version__"
      ],
      "execution_count": 2,
      "outputs": [
        {
          "output_type": "execute_result",
          "data": {
            "application/vnd.google.colaboratory.intrinsic+json": {
              "type": "string"
            },
            "text/plain": [
              "'1.7.0+cu101'"
            ]
          },
          "metadata": {
            "tags": []
          },
          "execution_count": 2
        }
      ]
    },
    {
      "cell_type": "markdown",
      "metadata": {
        "id": "d-z_7BovP_cI"
      },
      "source": [
        "# Why PyTorch?\n",
        "\n",
        "One important question worth asking is, why is PyTorch being used for this course? There is a great breakdown by [the Gradient](https://thegradient.pub/state-of-ml-frameworks-2019-pytorch-dominates-research-tensorflow-dominates-industry/) looking at the state of machine learning frameworks today. In part, as highlighted by the article, PyTorch is generally more pythonic than alternative frameworks, easier to debug, and is the most-used language in machine learning research by a large and growing margin. While PyTorch's primary alternative, Tensorflow, has attempted to integrate many of PyTorch's features, Tensorflow's implementations come with some inherent limitations highlighted in the article.\n",
        "\n",
        "Notably, while PyTorch's industry usage has grown, Tensorflow is still (for now) a slight favorite in industry. In practice, the features that make PyTorch attractive for research also make it attractive for education, and the general trend of machine learning research and practice to PyTorch makes it the more proactive choice. "
      ]
    },
    {
      "cell_type": "markdown",
      "metadata": {
        "id": "BJfyxCAzQjs6"
      },
      "source": [
        "# Tensor Properties\n",
        "One way to create tensors from a list or an array is to use `torch.Tensor`. It'll be used to set up examples in this notebook, but you'll never need to use it in the course - in fact, if you find yourself needing it, that's probably not the correct answer. "
      ]
    },
    {
      "cell_type": "code",
      "metadata": {
        "id": "-wasCNSaN6k0",
        "colab": {
          "base_uri": "https://localhost:8080/"
        },
        "outputId": "a9f1d7e2-b35c-4503-9d77-0660d6924a57"
      },
      "source": [
        "example_tensor = torch.Tensor([\n",
        "  [[1, 2], [3, 4]],\n",
        "  [[5, 6], [7, 8]],\n",
        "  [[9, 0], [1, 2]],\n",
        "])\n",
        "example_tensor.shape"
      ],
      "execution_count": 3,
      "outputs": [
        {
          "output_type": "execute_result",
          "data": {
            "text/plain": [
              "torch.Size([3, 2, 2])"
            ]
          },
          "metadata": {
            "tags": []
          },
          "execution_count": 3
        }
      ]
    },
    {
      "cell_type": "code",
      "metadata": {
        "id": "YwJ7ZQ0kRErI",
        "colab": {
          "base_uri": "https://localhost:8080/"
        },
        "outputId": "87743999-85fc-4cac-baa5-d1cb264e71b5"
      },
      "source": [
        "example_tensor"
      ],
      "execution_count": 4,
      "outputs": [
        {
          "output_type": "execute_result",
          "data": {
            "text/plain": [
              "tensor([[[1., 2.],\n",
              "         [3., 4.]],\n",
              "\n",
              "        [[5., 6.],\n",
              "         [7., 8.]],\n",
              "\n",
              "        [[9., 0.],\n",
              "         [1., 2.]]])"
            ]
          },
          "metadata": {
            "tags": []
          },
          "execution_count": 4
        }
      ]
    },
    {
      "cell_type": "markdown",
      "metadata": {
        "id": "30_sAgvDRhze"
      },
      "source": [
        "## Tensor Properties: Device\n",
        "\n",
        "One important property is the device of the tensor - throughout this notebook you'll be sticking to tensors which are on the CPU. However, throughout the course you'll also be using tensors on GPU (that is, a graphics card which will be provided for you to use for the course). To view the device of the tensor, all you need to write is `example_tensor.device`. To move a tensor to a new device, you can write `new_tensor = example_tensor.to(device)` where device will be either `cpu` or `cuda`."
      ]
    },
    {
      "cell_type": "code",
      "metadata": {
        "id": "NR3YMKL9RRrK",
        "colab": {
          "base_uri": "https://localhost:8080/"
        },
        "outputId": "e4e6b94b-fb35-49e4-e2cb-44e88b22bda7"
      },
      "source": [
        "example_tensor.device"
      ],
      "execution_count": 5,
      "outputs": [
        {
          "output_type": "execute_result",
          "data": {
            "text/plain": [
              "device(type='cpu')"
            ]
          },
          "metadata": {
            "tags": []
          },
          "execution_count": 5
        }
      ]
    },
    {
      "cell_type": "code",
      "metadata": {
        "id": "VN-bt4wMRuJf",
        "colab": {
          "base_uri": "https://localhost:8080/"
        },
        "outputId": "8ef3bc69-d4b5-419c-f7f4-11e4f313e7f4"
      },
      "source": [
        "example_tensor.to('cuda')"
      ],
      "execution_count": 6,
      "outputs": [
        {
          "output_type": "execute_result",
          "data": {
            "text/plain": [
              "tensor([[[1., 2.],\n",
              "         [3., 4.]],\n",
              "\n",
              "        [[5., 6.],\n",
              "         [7., 8.]],\n",
              "\n",
              "        [[9., 0.],\n",
              "         [1., 2.]]], device='cuda:0')"
            ]
          },
          "metadata": {
            "tags": []
          },
          "execution_count": 6
        }
      ]
    },
    {
      "cell_type": "code",
      "metadata": {
        "id": "pRCSzbgWR9ld",
        "colab": {
          "base_uri": "https://localhost:8080/"
        },
        "outputId": "a83c4d8e-4909-4074-9479-2d8786a5c7a1"
      },
      "source": [
        "example_tensor.device"
      ],
      "execution_count": 7,
      "outputs": [
        {
          "output_type": "execute_result",
          "data": {
            "text/plain": [
              "device(type='cpu')"
            ]
          },
          "metadata": {
            "tags": []
          },
          "execution_count": 7
        }
      ]
    },
    {
      "cell_type": "markdown",
      "metadata": {
        "id": "As-RWAmPSKCc"
      },
      "source": [
        "## Tensor Properties: Shape\n",
        "\n",
        "And you can get the number of elements in each dimension by printing out the tensor's shape, using `example_tensor.shape`, something you're likely familiar with if you've used numpy. For example, this tensor is a $3\\times2\\times2$ tensor, since it has 3 elements, each of which are $2\\times2$. "
      ]
    },
    {
      "cell_type": "code",
      "metadata": {
        "id": "mJeGJ4DtSCTN",
        "colab": {
          "base_uri": "https://localhost:8080/"
        },
        "outputId": "3a939ceb-6f57-4edd-e902-4760b85f205b"
      },
      "source": [
        "example_tensor.shape"
      ],
      "execution_count": 8,
      "outputs": [
        {
          "output_type": "execute_result",
          "data": {
            "text/plain": [
              "torch.Size([3, 2, 2])"
            ]
          },
          "metadata": {
            "tags": []
          },
          "execution_count": 8
        }
      ]
    },
    {
      "cell_type": "markdown",
      "metadata": {
        "id": "Tg3aWMZBSiKe"
      },
      "source": [
        "You can also get the size of a particular dimension $n$ using `example_tensor.shape[n]` or equivalently `example_tensor.size(n)`"
      ]
    },
    {
      "cell_type": "code",
      "metadata": {
        "id": "MjqsH-FPSVq1",
        "colab": {
          "base_uri": "https://localhost:8080/"
        },
        "outputId": "b6c04a3e-46d0-4d63-c1b9-a2771a95566a"
      },
      "source": [
        "print('shape[0]=', example_tensor.shape[0])\n",
        "print('size(0)=', example_tensor.size(0))\n",
        "print('size(1)=', example_tensor.size(1))"
      ],
      "execution_count": 9,
      "outputs": [
        {
          "output_type": "stream",
          "text": [
            "shape[0]= 3\n",
            "size(0)= 3\n",
            "size(1)= 2\n"
          ],
          "name": "stdout"
        }
      ]
    },
    {
      "cell_type": "markdown",
      "metadata": {
        "id": "zAdYdiXoS4Ig"
      },
      "source": [
        "Finally, it is sometimes useful to get the number of dimensions (rank) or the number of elements, which you can do as follows"
      ]
    },
    {
      "cell_type": "code",
      "metadata": {
        "id": "utJ0eCAdS3Iq",
        "colab": {
          "base_uri": "https://localhost:8080/"
        },
        "outputId": "e25f5ef4-9388-4368-a8c8-ed7d2ed3a5b0"
      },
      "source": [
        "print('Rand:', len(example_tensor.shape))\n",
        "print('Number of elements:', example_tensor.numel())"
      ],
      "execution_count": 10,
      "outputs": [
        {
          "output_type": "stream",
          "text": [
            "Rand: 3\n",
            "Number of elements: 12\n"
          ],
          "name": "stdout"
        }
      ]
    },
    {
      "cell_type": "markdown",
      "metadata": {
        "id": "3HztWUt8cweu"
      },
      "source": [
        "## Index Tensors\n",
        "\n",
        "As with numpy, you can access specific elements or subsets of elements of a tensor. To access the $n$-th element, you can simply write `example_tensor[n]` - as with Python in general, these dimensions are 0-indexed. "
      ]
    },
    {
      "cell_type": "code",
      "metadata": {
        "colab": {
          "base_uri": "https://localhost:8080/"
        },
        "id": "gAwnIlHIcoYB",
        "outputId": "60235160-d24f-49e7-ed06-81f6360cbc3c"
      },
      "source": [
        "example_tensor[1]"
      ],
      "execution_count": 11,
      "outputs": [
        {
          "output_type": "execute_result",
          "data": {
            "text/plain": [
              "tensor([[5., 6.],\n",
              "        [7., 8.]])"
            ]
          },
          "metadata": {
            "tags": []
          },
          "execution_count": 11
        }
      ]
    },
    {
      "cell_type": "markdown",
      "metadata": {
        "id": "-s-ZIlGZdHgG"
      },
      "source": [
        "In addition, if you want to access the $j$-th dimension of the $i$-th example, you can write `example_tensor[i, j]`"
      ]
    },
    {
      "cell_type": "code",
      "metadata": {
        "colab": {
          "base_uri": "https://localhost:8080/"
        },
        "id": "hlvqD7Bdc-8D",
        "outputId": "782a788b-c90d-4bcc-b256-8d6371deeb35"
      },
      "source": [
        "example_tensor[1, 1, 0]"
      ],
      "execution_count": 12,
      "outputs": [
        {
          "output_type": "execute_result",
          "data": {
            "text/plain": [
              "tensor(7.)"
            ]
          },
          "metadata": {
            "tags": []
          },
          "execution_count": 12
        }
      ]
    },
    {
      "cell_type": "markdown",
      "metadata": {
        "id": "qcXKF5xQdQwk"
      },
      "source": [
        "Note that if you'd like to get a Python scalar value from a tensor, you can use `example_scalar.item()`"
      ]
    },
    {
      "cell_type": "code",
      "metadata": {
        "colab": {
          "base_uri": "https://localhost:8080/"
        },
        "id": "z8dzy1X7dL_C",
        "outputId": "46dc276a-4d60-40aa-b1f1-0916ebe57c62"
      },
      "source": [
        "example_scalar = example_tensor[1, 1, 0].item()\n",
        "example_scalar"
      ],
      "execution_count": 14,
      "outputs": [
        {
          "output_type": "execute_result",
          "data": {
            "text/plain": [
              "7.0"
            ]
          },
          "metadata": {
            "tags": []
          },
          "execution_count": 14
        }
      ]
    },
    {
      "cell_type": "markdown",
      "metadata": {
        "id": "0H1T1Kasdiq0"
      },
      "source": [
        "In addition, you can index into the ith element of a column by using `x[:, i]`. For example, if you want the top-left element of each element in `example_tensor`, which is the `0, 0` element of each matrix, you can write:"
      ]
    },
    {
      "cell_type": "code",
      "metadata": {
        "colab": {
          "base_uri": "https://localhost:8080/"
        },
        "id": "3YUfCRafdb5-",
        "outputId": "3169e5b4-df22-4819-dd05-7f42d84141d6"
      },
      "source": [
        "example_tensor[:, 0, 0]"
      ],
      "execution_count": 15,
      "outputs": [
        {
          "output_type": "execute_result",
          "data": {
            "text/plain": [
              "tensor([1., 5., 9.])"
            ]
          },
          "metadata": {
            "tags": []
          },
          "execution_count": 15
        }
      ]
    },
    {
      "cell_type": "markdown",
      "metadata": {
        "id": "vJuityUxd4E0"
      },
      "source": [
        "# Initializing Tensors\n",
        "\n",
        "There are many ways to create new tensors in PyTorch, but in this course, the most important ones are: \n",
        "\n",
        "[`torch.ones_like`](https://pytorch.org/docs/master/generated/torch.ones_like.html): creates a tensor of all ones with the same shape and device as `example_tensor`."
      ]
    },
    {
      "cell_type": "code",
      "metadata": {
        "colab": {
          "base_uri": "https://localhost:8080/"
        },
        "id": "njbfl5qydzHx",
        "outputId": "44a89068-f8fe-474d-dfef-ae935dc57a68"
      },
      "source": [
        "torch.ones_like(example_tensor)"
      ],
      "execution_count": 16,
      "outputs": [
        {
          "output_type": "execute_result",
          "data": {
            "text/plain": [
              "tensor([[[1., 1.],\n",
              "         [1., 1.]],\n",
              "\n",
              "        [[1., 1.],\n",
              "         [1., 1.]],\n",
              "\n",
              "        [[1., 1.],\n",
              "         [1., 1.]]])"
            ]
          },
          "metadata": {
            "tags": []
          },
          "execution_count": 16
        }
      ]
    },
    {
      "cell_type": "markdown",
      "metadata": {
        "id": "rcMquWVseJKS"
      },
      "source": [
        "[`torch.zeros_like`](https://pytorch.org/docs/master/generated/torch.zeros_like.html): creates a tensor of all zeros with the same shape and device as `example_tensor`"
      ]
    },
    {
      "cell_type": "code",
      "metadata": {
        "colab": {
          "base_uri": "https://localhost:8080/"
        },
        "id": "LupelC77eCiR",
        "outputId": "1b0f3b10-59c8-4696-bd11-42b55bd251b1"
      },
      "source": [
        "torch.zeros_like(example_tensor)"
      ],
      "execution_count": 17,
      "outputs": [
        {
          "output_type": "execute_result",
          "data": {
            "text/plain": [
              "tensor([[[0., 0.],\n",
              "         [0., 0.]],\n",
              "\n",
              "        [[0., 0.],\n",
              "         [0., 0.]],\n",
              "\n",
              "        [[0., 0.],\n",
              "         [0., 0.]]])"
            ]
          },
          "metadata": {
            "tags": []
          },
          "execution_count": 17
        }
      ]
    },
    {
      "cell_type": "markdown",
      "metadata": {
        "id": "XqQLDv-WeTmn"
      },
      "source": [
        "[`torch.randn_like`](https://pytorch.org/docs/stable/generated/torch.randn_like.html): creates a tensor with every element sampled from a [Normal (or Gaussian) distribution](https://en.wikipedia.org/wiki/Normal_distribution) with the same shape and device as `example_tensor`"
      ]
    },
    {
      "cell_type": "code",
      "metadata": {
        "colab": {
          "base_uri": "https://localhost:8080/"
        },
        "id": "Gv7EDnAWeMqp",
        "outputId": "651014d6-0ab9-4dba-b41c-6d6d410e5dd7"
      },
      "source": [
        "torch.rand_like(example_tensor)"
      ],
      "execution_count": 18,
      "outputs": [
        {
          "output_type": "execute_result",
          "data": {
            "text/plain": [
              "tensor([[[0.5729, 0.5139],\n",
              "         [0.2222, 0.7619]],\n",
              "\n",
              "        [[0.9591, 0.8982],\n",
              "         [0.8985, 0.8937]],\n",
              "\n",
              "        [[0.7719, 0.9083],\n",
              "         [0.3081, 0.9766]]])"
            ]
          },
          "metadata": {
            "tags": []
          },
          "execution_count": 18
        }
      ]
    },
    {
      "cell_type": "markdown",
      "metadata": {
        "id": "jvuhXfi8efeI"
      },
      "source": [
        "Sometimes (though less often than you'd expect), you might need to initialize a tensor knowing only the shape and device, without a tensor for reference for `ones_like` or `randn_like`. In this case, you can create a $2x2$ tensor as follows:"
      ]
    },
    {
      "cell_type": "code",
      "metadata": {
        "colab": {
          "base_uri": "https://localhost:8080/"
        },
        "id": "NVlZ1Dv4eYPK",
        "outputId": "84ab28a2-a431-493b-f5a6-bd167ec870a9"
      },
      "source": [
        "torch.rand(2, 2, device='cpu')"
      ],
      "execution_count": 19,
      "outputs": [
        {
          "output_type": "execute_result",
          "data": {
            "text/plain": [
              "tensor([[0.2020, 0.5578],\n",
              "        [0.1462, 0.7626]])"
            ]
          },
          "metadata": {
            "tags": []
          },
          "execution_count": 19
        }
      ]
    },
    {
      "cell_type": "markdown",
      "metadata": {
        "id": "MGd4UMpTeuuW"
      },
      "source": [
        "# Basic Functions\n",
        "\n",
        "There are a number of basic functions that you should know to use PyTorch - if you're familiar with numpy, all commonly-used functions exist in PyTorch, usually with the same name. You can perform element-wise multiplication / division by a scalar $c$ by simply writing `c * example_tensor`, and element-wise addition / subtraction by a scalar by writing `example_tensor + c`\n",
        "\n",
        "Note that most operations are not in-place in PyTorch, which means that they don't change the original variable's data (However, you can reassign the same variable name to the changed data if you'd like, such as `example_tensor = example_tensor + 1`)"
      ]
    },
    {
      "cell_type": "code",
      "metadata": {
        "colab": {
          "base_uri": "https://localhost:8080/"
        },
        "id": "ubPlCGJFejdO",
        "outputId": "18531914-6081-478d-905e-ea478e0db346"
      },
      "source": [
        "(example_tensor - 5) * 2"
      ],
      "execution_count": 20,
      "outputs": [
        {
          "output_type": "execute_result",
          "data": {
            "text/plain": [
              "tensor([[[ -8.,  -6.],\n",
              "         [ -4.,  -2.]],\n",
              "\n",
              "        [[  0.,   2.],\n",
              "         [  4.,   6.]],\n",
              "\n",
              "        [[  8., -10.],\n",
              "         [ -8.,  -6.]]])"
            ]
          },
          "metadata": {
            "tags": []
          },
          "execution_count": 20
        }
      ]
    },
    {
      "cell_type": "markdown",
      "metadata": {
        "id": "12PbnNuQfL5Y"
      },
      "source": [
        "You can calculate the mean or standard deviation of a tensor using [`example_tensor.mean()`](https://pytorch.org/docs/stable/generated/torch.mean.html) or [`example_tensor.std()`](https://pytorch.org/docs/stable/generated/torch.std.html). "
      ]
    },
    {
      "cell_type": "code",
      "metadata": {
        "id": "tRmlQA1bfG7-"
      },
      "source": [
        ""
      ],
      "execution_count": null,
      "outputs": []
    }
  ]
}