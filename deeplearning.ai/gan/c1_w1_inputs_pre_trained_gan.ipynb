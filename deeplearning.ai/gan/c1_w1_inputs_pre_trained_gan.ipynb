{
  "nbformat": 4,
  "nbformat_minor": 0,
  "metadata": {
    "colab": {
      "name": "c1-w1-inputs-pre-trained-gan.ipynb",
      "provenance": [],
      "authorship_tag": "ABX9TyP5f5DwI0RnGzSXa1FvKls7",
      "include_colab_link": true
    },
    "kernelspec": {
      "name": "python3",
      "display_name": "Python 3"
    }
  },
  "cells": [
    {
      "cell_type": "markdown",
      "metadata": {
        "id": "view-in-github",
        "colab_type": "text"
      },
      "source": [
        "<a href=\"https://colab.research.google.com/github/martin-fabbri/colab-notebooks/blob/master/deeplearning.ai/gan/c1_w1_inputs_pre_trained_gan.ipynb\" target=\"_parent\"><img src=\"https://colab.research.google.com/assets/colab-badge.svg\" alt=\"Open In Colab\"/></a>"
      ]
    },
    {
      "cell_type": "markdown",
      "metadata": {
        "id": "TxK2_m9ZWSvg"
      },
      "source": [
        "# Inputs to a Pre-trained GAN"
      ]
    },
    {
      "cell_type": "markdown",
      "metadata": {
        "id": "pG5DpLvvWaVv"
      },
      "source": [
        "## Goal\n",
        "\n",
        "You are going to begin playing with generators and see how they fit into machine learning and generative adversarial networks (GANs). You will get to run a pre-trained GAN, mess with the inputs, and check out the wacky outputs.\n",
        "\n",
        "In the teaser, you saw some cool outputs. How does this all work? You will dive a little deeper in this notebook and see!\n",
        "\n",
        "## Learning Objectives\n",
        "1. Gain familiarity with how GANs work (discriminator + generator).\n",
        "2. Explore the impact of noise vectors and truncation.\n",
        "3. Adapt inputs to the generator to generate different faces."
      ]
    },
    {
      "cell_type": "markdown",
      "metadata": {
        "id": "jHYK_QO4XOXh"
      },
      "source": [
        "## Discriminator vs. Generator\n",
        "The first thing that you will get to explore is the difference between a discriminator and a generator. Remember that these are the two main components of a GAN!\n",
        "\n",
        "#### What is a discriminator?\n",
        "\n",
        "One of the most widely used type of ML models is the classifier, which is used to sift through items in a dataset and classify them into different categories. For example, you might be familiar with image classifiers that discriminate between images of a cat and images of a dog. For a well-trained classifier: when you give it an image of a cat, it will say \"cat\"! When you give it an image of a dog, it will say \"dog\"! You can also use other classes, like coconuts vs. starfruit.\n",
        "\n",
        "<img src=\"https://lh3.googleusercontent.com/2blMv3QiuuIb-lTccsI0SUODvmuhwKdNpU9M6eXMCKbg27vgXIB7aSJDf3csyGr8yeFVxQWDIcAg7L0VVteO-4zkENqbboi0VyqF_g=w2880-l80-sg\" alt=\"discriminative model\" width=\"400\" align=\"center\"/>\n",
        "\n",
        "> *Image Credit: [Google](https://about.google/stories/machine-learning-qa/)*\n",
        "\n",
        "In terms of probabilities, the classifier wants to find $p(y|x)$: the probability that given an image input $x$, the image class $y$ is cat, $p(y=\\text{cat}|x)$, or dog, $p(y=\\text{dog}|x)$.\n",
        "\n",
        "The discriminator is simply a classifier with two classes: real and fake. Given an input x, the discriminator will calculate the probabilities $p(y=\\text{real}|x)$ and $p(y=\\text{fake}|x)$ and classify $x$. The input $x$ can be anything that you have the generator create and is not limited to images. Your GAN can be trained on videos, text, audio, etc."
      ]
    },
    {
      "cell_type": "markdown",
      "metadata": {
        "id": "qklZitqSYzp-"
      },
      "source": [
        "#### What is a generator?\n",
        "\n",
        "Generators are designed to have a different goal from discriminators (classifiers). Imagine you're working at a tropical fruit stand and asked to sort the fruit into two categories: coconuts and starfruit. That's the job of a classifier. But what if a customer comes up to the stand, and asks: what is a starfruit? You can't just say that it's not a coconut. You would need to explain what makes something a starfruit and what doesn't, not just its differences from a coconut. That's the job of a generator: to represent different classes in general, not just distinguish them. \n",
        "\n",
        "In terms of probabilities, the generator wants to figure out $p(x|y)$: the probability that, given that you generated a starfruit $(y=\\text{starfruit})$, the resulting image $(x)$ is the one generated. The output space of possible starfruit images is huge, so that makes this challenging for the generator.\n",
        "\n",
        "This can be a much harder task than discrimination. Typically, you will need the generator to take multiple steps to improve itself for every step the discriminator takes. It's easy to tell the difference between a coconut and a starfruit when you look at a mix of them, but to know exactly all the features of all possible coconuts in the world? That's a lot, but it's really cool if you can get even close to it, because you can start generating all sorts of coconuts and starfruit when you do. I don't have a generator for these tropical fruits figured out for you to play with, but you can generate all kinds of cool things with these models, like realistic faces!\n",
        "\n",
        "In the below image, the generator is trying to find the features that represent all cats using the feedback from the discriminator.\n",
        "\n",
        "<img src=\"https://www.tensorflow.org/tutorials/generative/images/gan2.png\" width=\"500\" display=\"block\" align=\"center\"/>\n",
        "\n",
        ">*Image Credit: TensorFlow*"
      ]
    },
    {
      "cell_type": "markdown",
      "metadata": {
        "id": "riBzOL3paR34"
      },
      "source": [
        "## Noise vector $z$\n",
        "\n",
        "The noise vector $z$ has the important role of making sure the images generated from the same class $y$ don't all look the same—think of it as a random seed. You generate it randomly, usually by sampling random numbers either between 0 and 1 uniformly, or from the normal distribution, which you can denote $z$ ~ $N(0, 1)$. The zero means the normal distribution has a mean of zero, and the 1 means that the normal distribution has a variance of 1. \n",
        "\n",
        "In reality, $z$ is usually larger than just 1 value to allow for more combinations of what $z$ could be. There's no special number that determines what works, but 100 is standard. Some researchers might use a power of 2, like 128 or 512, but again, nothing special about the number itself, just that it's large enough to contain a lot of possibilities. As a result, you would sample $z$ from that many different dimensions (constituting multiple normal distributions).\n",
        "\n",
        "*Fun Fact: this is also called a spherical normal and denoted $z$ ~ $N(0, I)$ where the $I$ represents the identity matrix and means the variance is 1 in all dimensions.*\n",
        "\n",
        "## Truncation trick\n",
        "\n",
        "So now that you're a bit familiar with noise vectors, here's another cool concept that people use to tune their outputs. It's called the truncation trick. I like to think of the truncation trick as a way of trading off fidelity (quality) and diversity in the samples. It works like this: when you randomly sample your noise vector $z$, you can choose to keep that random $z$ or you can sample another one. \n",
        "\n",
        "Why would you want to sample another one? \n",
        "\n",
        "Well, since I'm sampling $z$ from a normal distribution, my model will see more of those $z$ values within a standard deviation from the mean than those at the tails of the distribution—and this happens during training. This means that while the model is training, it's likely to be familiar with certain noise vectors and as a result model those areas coming from familiar noise vector regions. In these areas, my model will likely have much more realistic results, but nothing too funky, it's not taking as many risks in those regions mapped from those familiar noise vectors. This is the trade-off between fidelity (realistic, high quality images) and diversity (variety in images). \n",
        "\n",
        "<img src=\"https://build.openmodelica.org/Documentation/Modelica%203.2.3/Resources/Images/Math/Distributions/TruncatedNormal.density.png\" alt=\"truncated normal distribution\" width=\"400\"/>\n",
        "\n",
        "> *Image Credit: Modelica*\n",
        "\n",
        "\n",
        "What the truncation trick does is resamples the noise vector $z$ until it falls within some bounds of the normal distribution. In fact, it samples $z$ from a truncated normal distribution where the tails are cut off at different values (red line in graph is truncated normal, blue is original). You can tune these values and thus tune fidelity/diversity. Recall that having a lot of fidelity is not always the goal—one failure mode of that is that you get one really real image but nothing else (no diversity), and that's not very interesting or successful from a model that's supposed to model the realm of all possible human faces or that of all possible coconuts—including that of a cat pouncing after a flying coconut (but with extremely low probability)."
      ]
    },
    {
      "cell_type": "markdown",
      "metadata": {
        "id": "eeBOw4MmqHDq"
      },
      "source": [
        "## Playing with code\n",
        "You're going to play with the unconditional generator from StyleGAN to generate some faces. Notice how sometimes they look super realistic, and other times, well, hope you're not too scared of the uncanny valley. As you play more with these, you might grow to love them all the same, especially when you contrast it to where they began: pure random noise, as in completely random pixel values that look like static, learning over time to become face-like.\n",
        "\n",
        "Start by running the following code block to load the model and import some libraries you will be using! (Don't worry about any errors regarding tensorflow 2.2.0 or warnings you may see)"
      ]
    },
    {
      "cell_type": "code",
      "metadata": {
        "id": "OJbXh5sYq2Ir"
      },
      "source": [
        "# Clone the official StyleGAN repository from GitHub\n",
        "!git clone https://github.com/NVlabs/stylegan.git -q"
      ],
      "execution_count": 1,
      "outputs": []
    },
    {
      "cell_type": "code",
      "metadata": {
        "id": "AX5NR9uTq2Ov"
      },
      "source": [
        ""
      ],
      "execution_count": null,
      "outputs": []
    },
    {
      "cell_type": "code",
      "metadata": {
        "id": "X8bQD-R9q2Ls"
      },
      "source": [
        ""
      ],
      "execution_count": null,
      "outputs": []
    },
    {
      "cell_type": "code",
      "metadata": {
        "id": "yY7_GyaqWMDz"
      },
      "source": [
        ""
      ],
      "execution_count": null,
      "outputs": []
    }
  ]
}