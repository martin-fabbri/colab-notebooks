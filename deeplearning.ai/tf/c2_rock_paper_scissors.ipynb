{
  "nbformat": 4,
  "nbformat_minor": 0,
  "metadata": {
    "colab": {
      "name": "c2-rock-paper-scissors.ipynb",
      "provenance": [],
      "authorship_tag": "ABX9TyM1AEgvowvmzRWR8yqKQ5RQ",
      "include_colab_link": true
    },
    "kernelspec": {
      "name": "python3",
      "display_name": "Python 3"
    }
  },
  "cells": [
    {
      "cell_type": "markdown",
      "metadata": {
        "id": "view-in-github",
        "colab_type": "text"
      },
      "source": [
        "<a href=\"https://colab.research.google.com/github/martin-fabbri/colab-notebooks/blob/master/deeplearning.ai/tf/c2_rock_paper_scissors.ipynb\" target=\"_parent\"><img src=\"https://colab.research.google.com/assets/colab-badge.svg\" alt=\"Open In Colab\"/></a>"
      ]
    },
    {
      "cell_type": "markdown",
      "metadata": {
        "id": "7RZIwsvhFeSh"
      },
      "source": [
        "## Setup"
      ]
    },
    {
      "cell_type": "code",
      "metadata": {
        "id": "dYBLQ4N3FZwD"
      },
      "source": [
        "%matplotlib inline\n",
        "\n",
        "import os\n",
        "import zipfile\n",
        "import tensorflow as tf"
      ],
      "execution_count": 8,
      "outputs": []
    },
    {
      "cell_type": "code",
      "metadata": {
        "id": "RggCqULXJTty",
        "outputId": "626bc082-11fc-4e47-c480-72b0758f0a56",
        "colab": {
          "base_uri": "https://localhost:8080/"
        }
      },
      "source": [
        "train_zip_url = 'https://storage.googleapis.com/laurencemoroney-blog.appspot.com/rps.zip'\n",
        "test_zip_url = 'https://storage.googleapis.com/laurencemoroney-blog.appspot.com/rps-test-set.zip'\n",
        "\n",
        "train_path_to_zip = tf.keras.utils.get_file('rps.zip', \n",
        "                                            origin=train_zip_url,\n",
        "                                            extract=True)\n",
        "\n",
        "test_path_to_zip = tf.keras.utils.get_file('rps-test.zip', \n",
        "                                            origin=test_zip_url,\n",
        "                                            extract=True)\n",
        "\n",
        "print(f'train_path_to_zip: {train_path_to_zip}')\n",
        "print(f'test_path_to_zip: {test_path_to_zip}')"
      ],
      "execution_count": 11,
      "outputs": [
        {
          "output_type": "stream",
          "text": [
            "train_path_to_zip: /root/.keras/datasets/rps.zip\n",
            "test_path_to_zip: /root/.keras/datasets/rps-test.zip\n"
          ],
          "name": "stdout"
        }
      ]
    },
    {
      "cell_type": "code",
      "metadata": {
        "id": "bQ-x-fxoH4Lg"
      },
      "source": [
        ""
      ],
      "execution_count": 3,
      "outputs": []
    },
    {
      "cell_type": "code",
      "metadata": {
        "id": "6wUUsYZjH4Rt"
      },
      "source": [
        "rock_dir = os.path.join('/rps/rock')"
      ],
      "execution_count": 4,
      "outputs": []
    },
    {
      "cell_type": "code",
      "metadata": {
        "id": "4BlBoiC4H4aI",
        "outputId": "c6422932-92a8-4d40-d000-e1aa4c09242f",
        "colab": {
          "base_uri": "https://localhost:8080/",
          "height": 35
        }
      },
      "source": [
        "rock_dir"
      ],
      "execution_count": 5,
      "outputs": [
        {
          "output_type": "execute_result",
          "data": {
            "application/vnd.google.colaboratory.intrinsic+json": {
              "type": "string"
            },
            "text/plain": [
              "'/rps/rock'"
            ]
          },
          "metadata": {
            "tags": []
          },
          "execution_count": 5
        }
      ]
    },
    {
      "cell_type": "code",
      "metadata": {
        "id": "ym_-BH4SH4WG"
      },
      "source": [
        ""
      ],
      "execution_count": null,
      "outputs": []
    },
    {
      "cell_type": "code",
      "metadata": {
        "id": "sn3wwDlzH4Oy"
      },
      "source": [
        ""
      ],
      "execution_count": null,
      "outputs": []
    },
    {
      "cell_type": "code",
      "metadata": {
        "id": "bbraFEE4H4IG"
      },
      "source": [
        ""
      ],
      "execution_count": null,
      "outputs": []
    }
  ]
}