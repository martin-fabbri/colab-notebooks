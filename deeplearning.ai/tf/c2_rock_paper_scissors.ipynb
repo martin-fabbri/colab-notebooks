{
  "nbformat": 4,
  "nbformat_minor": 0,
  "metadata": {
    "colab": {
      "name": "c2-rock-paper-scissors.ipynb",
      "provenance": [],
      "authorship_tag": "ABX9TyNAoSl7tr6lFdMQMB/mMQ46",
      "include_colab_link": true
    },
    "kernelspec": {
      "name": "python3",
      "display_name": "Python 3"
    },
    "accelerator": "GPU"
  },
  "cells": [
    {
      "cell_type": "markdown",
      "metadata": {
        "id": "view-in-github",
        "colab_type": "text"
      },
      "source": [
        "<a href=\"https://colab.research.google.com/github/martin-fabbri/colab-notebooks/blob/master/deeplearning.ai/tf/c2_rock_paper_scissors.ipynb\" target=\"_parent\"><img src=\"https://colab.research.google.com/assets/colab-badge.svg\" alt=\"Open In Colab\"/></a>"
      ]
    },
    {
      "cell_type": "markdown",
      "metadata": {
        "id": "7RZIwsvhFeSh"
      },
      "source": [
        "## Setup"
      ]
    },
    {
      "cell_type": "code",
      "metadata": {
        "id": "dYBLQ4N3FZwD"
      },
      "source": [
        "%matplotlib inline\n",
        "\n",
        "import pathlib\n",
        "import os\n",
        "import zipfile\n",
        "import tensorflow as tf\n",
        "\n",
        "from tensorflow.keras.preprocessing import image_dataset_from_directory"
      ],
      "execution_count": 20,
      "outputs": []
    },
    {
      "cell_type": "code",
      "metadata": {
        "id": "NtAAxkmMLfa9"
      },
      "source": [
        "BATCH_SIZE = 126\n",
        "IMG_SIZE = (150, 150)"
      ],
      "execution_count": 8,
      "outputs": []
    },
    {
      "cell_type": "code",
      "metadata": {
        "id": "RggCqULXJTty",
        "outputId": "ea701bd6-6f63-4aa2-a64c-b1601476fba8",
        "colab": {
          "base_uri": "https://localhost:8080/"
        }
      },
      "source": [
        "train_zip_url = 'https://storage.googleapis.com/laurencemoroney-blog.appspot.com/rps.zip'\n",
        "validation_zip_url = 'https://storage.googleapis.com/laurencemoroney-blog.appspot.com/rps-test-set.zip'\n",
        "\n",
        "train_path_to_zip = tf.keras.utils.get_file('rps.zip', \n",
        "                                            origin=train_zip_url,\n",
        "                                            extract=True)\n",
        "\n",
        "validation_path_to_zip = tf.keras.utils.get_file('rps-test.zip', \n",
        "                                                 origin=test_zip_url,\n",
        "                                                 extract=True)\n",
        "\n",
        "train_path = os.path.join(os.path.dirname(train_path_to_zip), 'rps')\n",
        "validation_path = os.path.join(os.path.dirname(validation_path_to_zip), \n",
        "                               'rps-test-set')\n",
        "\n",
        "print(f'train_path_to_zip: {train_path_to_zip}')\n",
        "print(f'validation_path_to_zip: {validation_path_to_zip}')\n",
        "print(f'train_path: {train_path}')\n",
        "print(f'validation_path: {validation_path}')"
      ],
      "execution_count": 24,
      "outputs": [
        {
          "output_type": "stream",
          "text": [
            "train_path_to_zip: /root/.keras/datasets/rps.zip\n",
            "validation_path_to_zip: /root/.keras/datasets/rps-test.zip\n",
            "train_path: /root/.keras/datasets/rps\n",
            "validation_path: /root/.keras/datasets/rps-test-set\n"
          ],
          "name": "stdout"
        }
      ]
    },
    {
      "cell_type": "code",
      "metadata": {
        "id": "bQ-x-fxoH4Lg",
        "outputId": "c0424606-0701-48ea-f68b-9de2be1de5a2",
        "colab": {
          "base_uri": "https://localhost:8080/"
        }
      },
      "source": [
        "train_ds = image_dataset_from_directory(\n",
        "    directory=train_path,\n",
        "    labels='inferred',\n",
        "    label_mode='categorical',\n",
        "    batch_size=BATCH_SIZE,\n",
        "    image_size=IMG_SIZE)\n",
        "\n",
        "validation_ds = image_dataset_from_directory(\n",
        "    directory=validation_path,\n",
        "    labels='inferred',\n",
        "    label_mode='categorical',\n",
        "    batch_size=BATCH_SIZE,\n",
        "    image_size=IMG_SIZE)"
      ],
      "execution_count": 25,
      "outputs": [
        {
          "output_type": "stream",
          "text": [
            "Found 2520 files belonging to 3 classes.\n",
            "Found 372 files belonging to 3 classes.\n"
          ],
          "name": "stdout"
        }
      ]
    },
    {
      "cell_type": "code",
      "metadata": {
        "id": "6wUUsYZjH4Rt",
        "outputId": "1c922665-07f5-49d0-986b-0d3ae54a7673",
        "colab": {
          "base_uri": "https://localhost:8080/"
        }
      },
      "source": [
        "class_names = train_ds.class_names\n",
        "assert train_ds.class_names == validation_ds.class_names\n",
        "class_names"
      ],
      "execution_count": 28,
      "outputs": [
        {
          "output_type": "execute_result",
          "data": {
            "text/plain": [
              "['paper', 'rock', 'scissors']"
            ]
          },
          "metadata": {
            "tags": []
          },
          "execution_count": 28
        }
      ]
    },
    {
      "cell_type": "code",
      "metadata": {
        "id": "4BlBoiC4H4aI"
      },
      "source": [
        ""
      ],
      "execution_count": 27,
      "outputs": []
    },
    {
      "cell_type": "code",
      "metadata": {
        "id": "ym_-BH4SH4WG"
      },
      "source": [
        ""
      ],
      "execution_count": 3,
      "outputs": []
    },
    {
      "cell_type": "code",
      "metadata": {
        "id": "sn3wwDlzH4Oy"
      },
      "source": [
        ""
      ],
      "execution_count": 3,
      "outputs": []
    },
    {
      "cell_type": "code",
      "metadata": {
        "id": "bbraFEE4H4IG"
      },
      "source": [
        ""
      ],
      "execution_count": 3,
      "outputs": []
    }
  ]
}