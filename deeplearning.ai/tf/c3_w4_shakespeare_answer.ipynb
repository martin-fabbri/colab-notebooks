{
  "nbformat": 4,
  "nbformat_minor": 0,
  "metadata": {
    "colab": {
      "name": "c3_w4_shakespeare_answer.ipynb",
      "provenance": [],
      "collapsed_sections": [],
      "authorship_tag": "ABX9TyMdDj/JUWdMycWJW7rnN5Z4",
      "include_colab_link": true
    },
    "kernelspec": {
      "name": "python3",
      "display_name": "Python 3"
    },
    "accelerator": "TPU"
  },
  "cells": [
    {
      "cell_type": "markdown",
      "metadata": {
        "id": "view-in-github",
        "colab_type": "text"
      },
      "source": [
        "<a href=\"https://colab.research.google.com/github/martin-fabbri/colab-notebooks/blob/master/deeplearning.ai/tf/c3_w4_shakespeare_answer.ipynb\" target=\"_parent\"><img src=\"https://colab.research.google.com/assets/colab-badge.svg\" alt=\"Open In Colab\"/></a>"
      ]
    },
    {
      "cell_type": "code",
      "metadata": {
        "id": "oXxXuq2QR244"
      },
      "source": [
        "!wget --no-check-certificate --quiet \\\r\n",
        "    https://storage.googleapis.com/laurencemoroney-blog.appspot.com/sonnets.txt"
      ],
      "execution_count": 1,
      "outputs": []
    },
    {
      "cell_type": "code",
      "metadata": {
        "id": "FLgdyopRQhIx"
      },
      "source": [
        "import numpy as np\r\n",
        "import tensorflow as tf\r\n",
        "\r\n",
        "from tensorflow.keras import regularizers\r\n",
        "from tensorflow.keras.utils import to_categorical\r\n",
        "from tensorflow.keras.layers import Embedding, LSTM, Dense, Dropout, Bidirectional\r\n",
        "from tensorflow.keras.preprocessing.text import Tokenizer\r\n",
        "from tensorflow.keras.preprocessing.sequence import pad_sequences\r\n",
        "from tensorflow.keras.models import Sequential\r\n",
        "from tensorflow.keras.optimizers import Adam\r\n"
      ],
      "execution_count": 2,
      "outputs": []
    },
    {
      "cell_type": "code",
      "metadata": {
        "colab": {
          "base_uri": "https://localhost:8080/"
        },
        "cellView": "form",
        "id": "wPuxUIv_X_Te",
        "outputId": "8c2323e9-30c0-4033-e418-4d5d49abe964"
      },
      "source": [
        "#@title Enable TPU\r\n",
        "use_tpu = True #@param [\"False\", \"True\"] {type:\"raw\"}\r\n",
        "\r\n",
        "if use_tpu:\r\n",
        "  try:\r\n",
        "    tpu = tf.distribute.cluster_resolver.TPUClusterResolver()\r\n",
        "    tpu_spec = tpu.cluster_spec().as_dict()['worker']\r\n",
        "    tf.config.experimental_connect_to_cluster(tpu)\r\n",
        "    tf.tpu.experimental.initialize_tpu_system(tpu)\r\n",
        "    tpu_strategy = tf.distribute.experimental.TPUStrategy(tpu)\r\n",
        "    print('Running on TPU:', tpu_spec)\r\n",
        "  except ValueError:\r\n",
        "    print('ERROR: Not connected to a TPU.')\r\n",
        "    raise BaseException('ERROR: Select use_tpu=False.')"
      ],
      "execution_count": 3,
      "outputs": [
        {
          "output_type": "stream",
          "text": [
            "INFO:tensorflow:Initializing the TPU system: grpc://10.51.85.154:8470\n"
          ],
          "name": "stdout"
        },
        {
          "output_type": "stream",
          "text": [
            "INFO:tensorflow:Initializing the TPU system: grpc://10.51.85.154:8470\n"
          ],
          "name": "stderr"
        },
        {
          "output_type": "stream",
          "text": [
            "INFO:tensorflow:Clearing out eager caches\n"
          ],
          "name": "stdout"
        },
        {
          "output_type": "stream",
          "text": [
            "INFO:tensorflow:Clearing out eager caches\n"
          ],
          "name": "stderr"
        },
        {
          "output_type": "stream",
          "text": [
            "INFO:tensorflow:Finished initializing TPU system.\n"
          ],
          "name": "stdout"
        },
        {
          "output_type": "stream",
          "text": [
            "INFO:tensorflow:Finished initializing TPU system.\n",
            "WARNING:absl:`tf.distribute.experimental.TPUStrategy` is deprecated, please use  the non experimental symbol `tf.distribute.TPUStrategy` instead.\n"
          ],
          "name": "stderr"
        },
        {
          "output_type": "stream",
          "text": [
            "INFO:tensorflow:Found TPU system:\n"
          ],
          "name": "stdout"
        },
        {
          "output_type": "stream",
          "text": [
            "INFO:tensorflow:Found TPU system:\n"
          ],
          "name": "stderr"
        },
        {
          "output_type": "stream",
          "text": [
            "INFO:tensorflow:*** Num TPU Cores: 8\n"
          ],
          "name": "stdout"
        },
        {
          "output_type": "stream",
          "text": [
            "INFO:tensorflow:*** Num TPU Cores: 8\n"
          ],
          "name": "stderr"
        },
        {
          "output_type": "stream",
          "text": [
            "INFO:tensorflow:*** Num TPU Workers: 1\n"
          ],
          "name": "stdout"
        },
        {
          "output_type": "stream",
          "text": [
            "INFO:tensorflow:*** Num TPU Workers: 1\n"
          ],
          "name": "stderr"
        },
        {
          "output_type": "stream",
          "text": [
            "INFO:tensorflow:*** Num TPU Cores Per Worker: 8\n"
          ],
          "name": "stdout"
        },
        {
          "output_type": "stream",
          "text": [
            "INFO:tensorflow:*** Num TPU Cores Per Worker: 8\n"
          ],
          "name": "stderr"
        },
        {
          "output_type": "stream",
          "text": [
            "INFO:tensorflow:*** Available Device: _DeviceAttributes(/job:localhost/replica:0/task:0/device:CPU:0, CPU, 0, 0)\n"
          ],
          "name": "stdout"
        },
        {
          "output_type": "stream",
          "text": [
            "INFO:tensorflow:*** Available Device: _DeviceAttributes(/job:localhost/replica:0/task:0/device:CPU:0, CPU, 0, 0)\n"
          ],
          "name": "stderr"
        },
        {
          "output_type": "stream",
          "text": [
            "INFO:tensorflow:*** Available Device: _DeviceAttributes(/job:worker/replica:0/task:0/device:CPU:0, CPU, 0, 0)\n"
          ],
          "name": "stdout"
        },
        {
          "output_type": "stream",
          "text": [
            "INFO:tensorflow:*** Available Device: _DeviceAttributes(/job:worker/replica:0/task:0/device:CPU:0, CPU, 0, 0)\n"
          ],
          "name": "stderr"
        },
        {
          "output_type": "stream",
          "text": [
            "INFO:tensorflow:*** Available Device: _DeviceAttributes(/job:worker/replica:0/task:0/device:TPU:0, TPU, 0, 0)\n"
          ],
          "name": "stdout"
        },
        {
          "output_type": "stream",
          "text": [
            "INFO:tensorflow:*** Available Device: _DeviceAttributes(/job:worker/replica:0/task:0/device:TPU:0, TPU, 0, 0)\n"
          ],
          "name": "stderr"
        },
        {
          "output_type": "stream",
          "text": [
            "INFO:tensorflow:*** Available Device: _DeviceAttributes(/job:worker/replica:0/task:0/device:TPU:1, TPU, 0, 0)\n"
          ],
          "name": "stdout"
        },
        {
          "output_type": "stream",
          "text": [
            "INFO:tensorflow:*** Available Device: _DeviceAttributes(/job:worker/replica:0/task:0/device:TPU:1, TPU, 0, 0)\n"
          ],
          "name": "stderr"
        },
        {
          "output_type": "stream",
          "text": [
            "INFO:tensorflow:*** Available Device: _DeviceAttributes(/job:worker/replica:0/task:0/device:TPU:2, TPU, 0, 0)\n"
          ],
          "name": "stdout"
        },
        {
          "output_type": "stream",
          "text": [
            "INFO:tensorflow:*** Available Device: _DeviceAttributes(/job:worker/replica:0/task:0/device:TPU:2, TPU, 0, 0)\n"
          ],
          "name": "stderr"
        },
        {
          "output_type": "stream",
          "text": [
            "INFO:tensorflow:*** Available Device: _DeviceAttributes(/job:worker/replica:0/task:0/device:TPU:3, TPU, 0, 0)\n"
          ],
          "name": "stdout"
        },
        {
          "output_type": "stream",
          "text": [
            "INFO:tensorflow:*** Available Device: _DeviceAttributes(/job:worker/replica:0/task:0/device:TPU:3, TPU, 0, 0)\n"
          ],
          "name": "stderr"
        },
        {
          "output_type": "stream",
          "text": [
            "INFO:tensorflow:*** Available Device: _DeviceAttributes(/job:worker/replica:0/task:0/device:TPU:4, TPU, 0, 0)\n"
          ],
          "name": "stdout"
        },
        {
          "output_type": "stream",
          "text": [
            "INFO:tensorflow:*** Available Device: _DeviceAttributes(/job:worker/replica:0/task:0/device:TPU:4, TPU, 0, 0)\n"
          ],
          "name": "stderr"
        },
        {
          "output_type": "stream",
          "text": [
            "INFO:tensorflow:*** Available Device: _DeviceAttributes(/job:worker/replica:0/task:0/device:TPU:5, TPU, 0, 0)\n"
          ],
          "name": "stdout"
        },
        {
          "output_type": "stream",
          "text": [
            "INFO:tensorflow:*** Available Device: _DeviceAttributes(/job:worker/replica:0/task:0/device:TPU:5, TPU, 0, 0)\n"
          ],
          "name": "stderr"
        },
        {
          "output_type": "stream",
          "text": [
            "INFO:tensorflow:*** Available Device: _DeviceAttributes(/job:worker/replica:0/task:0/device:TPU:6, TPU, 0, 0)\n"
          ],
          "name": "stdout"
        },
        {
          "output_type": "stream",
          "text": [
            "INFO:tensorflow:*** Available Device: _DeviceAttributes(/job:worker/replica:0/task:0/device:TPU:6, TPU, 0, 0)\n"
          ],
          "name": "stderr"
        },
        {
          "output_type": "stream",
          "text": [
            "INFO:tensorflow:*** Available Device: _DeviceAttributes(/job:worker/replica:0/task:0/device:TPU:7, TPU, 0, 0)\n"
          ],
          "name": "stdout"
        },
        {
          "output_type": "stream",
          "text": [
            "INFO:tensorflow:*** Available Device: _DeviceAttributes(/job:worker/replica:0/task:0/device:TPU:7, TPU, 0, 0)\n"
          ],
          "name": "stderr"
        },
        {
          "output_type": "stream",
          "text": [
            "INFO:tensorflow:*** Available Device: _DeviceAttributes(/job:worker/replica:0/task:0/device:TPU_SYSTEM:0, TPU_SYSTEM, 0, 0)\n"
          ],
          "name": "stdout"
        },
        {
          "output_type": "stream",
          "text": [
            "INFO:tensorflow:*** Available Device: _DeviceAttributes(/job:worker/replica:0/task:0/device:TPU_SYSTEM:0, TPU_SYSTEM, 0, 0)\n"
          ],
          "name": "stderr"
        },
        {
          "output_type": "stream",
          "text": [
            "INFO:tensorflow:*** Available Device: _DeviceAttributes(/job:worker/replica:0/task:0/device:XLA_CPU:0, XLA_CPU, 0, 0)\n"
          ],
          "name": "stdout"
        },
        {
          "output_type": "stream",
          "text": [
            "INFO:tensorflow:*** Available Device: _DeviceAttributes(/job:worker/replica:0/task:0/device:XLA_CPU:0, XLA_CPU, 0, 0)\n"
          ],
          "name": "stderr"
        },
        {
          "output_type": "stream",
          "text": [
            "Running on TPU: ['10.51.85.154:8470']\n"
          ],
          "name": "stdout"
        }
      ]
    },
    {
      "cell_type": "code",
      "metadata": {
        "id": "GUrJkI4AQ2-a"
      },
      "source": [
        "tokenizer = Tokenizer()\r\n",
        "with open(\"sonnets.txt\") as f:\r\n",
        "    data = f.read()\r\n",
        "    corpus = data.lower().split(\"\\n\")\r\n",
        "    tokenizer.fit_on_texts(corpus)\r\n",
        "    \r\n",
        "total_words = len(tokenizer.word_index) + 1\r\n",
        "\r\n",
        "input_sequences = []\r\n",
        "for line in corpus:\r\n",
        "    token_list = tokenizer.texts_to_sequences([line])[0]\r\n",
        "    for i in range(1, len(token_list)):\r\n",
        "        n_gram_sequence = token_list[:i+1]\r\n",
        "        input_sequences.append(n_gram_sequence)\r\n",
        "\r\n",
        "max_sequence_len = max([len(x) for x in input_sequences])\r\n",
        "input_sequences = np.array(\r\n",
        "    pad_sequences(input_sequences, maxlen=max_sequence_len, padding='pre')\r\n",
        ")\r\n",
        "predictiors, label = input_sequences[:,:-1], input_sequences[:,-1]\r\n",
        "label = to_categorical(label, num_classes=total_words)"
      ],
      "execution_count": 4,
      "outputs": []
    },
    {
      "cell_type": "code",
      "metadata": {
        "id": "HDxeq7mgZK02"
      },
      "source": [
        "def create_model():\r\n",
        "    return Sequential([\r\n",
        "        Embedding(total_words, 100, input_length=max_sequence_len - 1),\r\n",
        "        Bidirectional(LSTM(150, return_sequences=True)),\r\n",
        "        Dropout(0.2),\r\n",
        "        LSTM(100),\r\n",
        "        Dense(total_words/2, activation='relu', \r\n",
        "              kernel_regularizer=regularizers.l2(0.01)),\r\n",
        "        Dense(total_words, activation='softmax')             \r\n",
        "    ])\r\n",
        "\r\n",
        "if use_tpu:\r\n",
        "  with tpu_strategy.scope():\r\n",
        "    model = create_model()\r\n",
        "else:\r\n",
        "  model = create_model()"
      ],
      "execution_count": 8,
      "outputs": []
    },
    {
      "cell_type": "code",
      "metadata": {
        "colab": {
          "base_uri": "https://localhost:8080/"
        },
        "id": "HBWd_P42SegQ",
        "outputId": "fc4e5a30-34b7-4c0f-89cf-04596d148d9f"
      },
      "source": [
        "model.compile(\r\n",
        "    optimizer=Adam(),\r\n",
        "    loss=\"categorical_crossentropy\",\r\n",
        "    metrics=[\"accuracy\"]\r\n",
        ")\r\n",
        "model.summary()"
      ],
      "execution_count": 9,
      "outputs": [
        {
          "output_type": "stream",
          "text": [
            "Model: \"sequential_2\"\n",
            "_________________________________________________________________\n",
            "Layer (type)                 Output Shape              Param #   \n",
            "=================================================================\n",
            "embedding_3 (Embedding)      (None, 10, 100)           321100    \n",
            "_________________________________________________________________\n",
            "bidirectional_3 (Bidirection (None, 10, 300)           301200    \n",
            "_________________________________________________________________\n",
            "dropout_3 (Dropout)          (None, 10, 300)           0         \n",
            "_________________________________________________________________\n",
            "lstm_7 (LSTM)                (None, 100)               160400    \n",
            "_________________________________________________________________\n",
            "dense_4 (Dense)              (None, 1605)              162105    \n",
            "_________________________________________________________________\n",
            "dense_5 (Dense)              (None, 3211)              5156866   \n",
            "=================================================================\n",
            "Total params: 6,101,671\n",
            "Trainable params: 6,101,671\n",
            "Non-trainable params: 0\n",
            "_________________________________________________________________\n"
          ],
          "name": "stdout"
        }
      ]
    },
    {
      "cell_type": "code",
      "metadata": {
        "colab": {
          "base_uri": "https://localhost:8080/"
        },
        "id": "Dvuhan-OWr53",
        "outputId": "923dfd6c-f9e4-4157-fc76-87e658d9087e"
      },
      "source": [
        "history = model.fit(predictiors, label, epochs=100, verbose=1)"
      ],
      "execution_count": 10,
      "outputs": [
        {
          "output_type": "stream",
          "text": [
            "Epoch 1/100\n",
            "484/484 [==============================] - 24s 29ms/step - loss: 7.3215 - accuracy: 0.0212\n",
            "Epoch 2/100\n",
            "484/484 [==============================] - 10s 21ms/step - loss: 6.5042 - accuracy: 0.0225\n",
            "Epoch 3/100\n",
            "484/484 [==============================] - 10s 22ms/step - loss: 6.3967 - accuracy: 0.0233\n",
            "Epoch 4/100\n",
            "484/484 [==============================] - 10s 22ms/step - loss: 6.2753 - accuracy: 0.0318\n",
            "Epoch 5/100\n",
            "484/484 [==============================] - 11s 22ms/step - loss: 6.1889 - accuracy: 0.0338\n",
            "Epoch 6/100\n",
            "484/484 [==============================] - 10s 22ms/step - loss: 6.0939 - accuracy: 0.0372\n",
            "Epoch 7/100\n",
            "484/484 [==============================] - 10s 21ms/step - loss: 6.0407 - accuracy: 0.0371\n",
            "Epoch 8/100\n",
            "484/484 [==============================] - 10s 22ms/step - loss: 5.9212 - accuracy: 0.0403\n",
            "Epoch 9/100\n",
            "484/484 [==============================] - 10s 21ms/step - loss: 5.8340 - accuracy: 0.0439\n",
            "Epoch 10/100\n",
            "484/484 [==============================] - 10s 21ms/step - loss: 5.7436 - accuracy: 0.0498\n",
            "Epoch 11/100\n",
            "484/484 [==============================] - 10s 21ms/step - loss: 5.6456 - accuracy: 0.0588\n",
            "Epoch 12/100\n",
            "484/484 [==============================] - 10s 22ms/step - loss: 5.5119 - accuracy: 0.0643\n",
            "Epoch 13/100\n",
            "484/484 [==============================] - 10s 21ms/step - loss: 5.4237 - accuracy: 0.0715\n",
            "Epoch 14/100\n",
            "484/484 [==============================] - 10s 22ms/step - loss: 5.3086 - accuracy: 0.0764\n",
            "Epoch 15/100\n",
            "484/484 [==============================] - 11s 22ms/step - loss: 5.1889 - accuracy: 0.0842\n",
            "Epoch 16/100\n",
            "484/484 [==============================] - 11s 22ms/step - loss: 5.0836 - accuracy: 0.0961\n",
            "Epoch 17/100\n",
            "484/484 [==============================] - 10s 21ms/step - loss: 4.9897 - accuracy: 0.1064\n",
            "Epoch 18/100\n",
            "484/484 [==============================] - 10s 22ms/step - loss: 4.8587 - accuracy: 0.1155\n",
            "Epoch 19/100\n",
            "484/484 [==============================] - 10s 21ms/step - loss: 4.7627 - accuracy: 0.1226\n",
            "Epoch 20/100\n",
            "484/484 [==============================] - 10s 21ms/step - loss: 4.6412 - accuracy: 0.1341\n",
            "Epoch 21/100\n",
            "484/484 [==============================] - 10s 21ms/step - loss: 4.6066 - accuracy: 0.1362\n",
            "Epoch 22/100\n",
            "484/484 [==============================] - 10s 21ms/step - loss: 4.4464 - accuracy: 0.1590\n",
            "Epoch 23/100\n",
            "484/484 [==============================] - 10s 21ms/step - loss: 4.3372 - accuracy: 0.1632\n",
            "Epoch 24/100\n",
            "484/484 [==============================] - 10s 21ms/step - loss: 4.2374 - accuracy: 0.1781\n",
            "Epoch 25/100\n",
            "484/484 [==============================] - 10s 21ms/step - loss: 4.1471 - accuracy: 0.1884\n",
            "Epoch 26/100\n",
            "484/484 [==============================] - 10s 21ms/step - loss: 4.0164 - accuracy: 0.2067\n",
            "Epoch 27/100\n",
            "484/484 [==============================] - 10s 21ms/step - loss: 3.8866 - accuracy: 0.2300\n",
            "Epoch 28/100\n",
            "484/484 [==============================] - 10s 21ms/step - loss: 3.8106 - accuracy: 0.2430\n",
            "Epoch 29/100\n",
            "484/484 [==============================] - 11s 22ms/step - loss: 3.6845 - accuracy: 0.2633\n",
            "Epoch 30/100\n",
            "484/484 [==============================] - 10s 21ms/step - loss: 3.6047 - accuracy: 0.2816\n",
            "Epoch 31/100\n",
            "484/484 [==============================] - 10s 21ms/step - loss: 3.5161 - accuracy: 0.3030\n",
            "Epoch 32/100\n",
            "484/484 [==============================] - 10s 21ms/step - loss: 3.4087 - accuracy: 0.3261\n",
            "Epoch 33/100\n",
            "484/484 [==============================] - 10s 21ms/step - loss: 3.3230 - accuracy: 0.3383\n",
            "Epoch 34/100\n",
            "484/484 [==============================] - 10s 22ms/step - loss: 3.2085 - accuracy: 0.3670\n",
            "Epoch 35/100\n",
            "484/484 [==============================] - 11s 22ms/step - loss: 3.1482 - accuracy: 0.3825\n",
            "Epoch 36/100\n",
            "484/484 [==============================] - 10s 22ms/step - loss: 3.0458 - accuracy: 0.4098\n",
            "Epoch 37/100\n",
            "484/484 [==============================] - 10s 21ms/step - loss: 3.0094 - accuracy: 0.4211\n",
            "Epoch 38/100\n",
            "484/484 [==============================] - 10s 21ms/step - loss: 2.9137 - accuracy: 0.4331\n",
            "Epoch 39/100\n",
            "484/484 [==============================] - 10s 21ms/step - loss: 2.8392 - accuracy: 0.4571\n",
            "Epoch 40/100\n",
            "484/484 [==============================] - 10s 22ms/step - loss: 2.7610 - accuracy: 0.4714\n",
            "Epoch 41/100\n",
            "484/484 [==============================] - 10s 21ms/step - loss: 2.7127 - accuracy: 0.4901\n",
            "Epoch 42/100\n",
            "484/484 [==============================] - 10s 21ms/step - loss: 2.6528 - accuracy: 0.5053\n",
            "Epoch 43/100\n",
            "484/484 [==============================] - 10s 21ms/step - loss: 2.5653 - accuracy: 0.5198\n",
            "Epoch 44/100\n",
            "484/484 [==============================] - 10s 21ms/step - loss: 2.4958 - accuracy: 0.5365\n",
            "Epoch 45/100\n",
            "484/484 [==============================] - 10s 21ms/step - loss: 2.4589 - accuracy: 0.5426\n",
            "Epoch 46/100\n",
            "484/484 [==============================] - 10s 21ms/step - loss: 2.4175 - accuracy: 0.5548\n",
            "Epoch 47/100\n",
            "484/484 [==============================] - 11s 22ms/step - loss: 2.3523 - accuracy: 0.5679\n",
            "Epoch 48/100\n",
            "484/484 [==============================] - 11s 22ms/step - loss: 2.2748 - accuracy: 0.5828\n",
            "Epoch 49/100\n",
            "484/484 [==============================] - 11s 24ms/step - loss: 2.2261 - accuracy: 0.5969\n",
            "Epoch 50/100\n",
            "484/484 [==============================] - 10s 21ms/step - loss: 2.2031 - accuracy: 0.5950\n",
            "Epoch 51/100\n",
            "484/484 [==============================] - 10s 21ms/step - loss: 2.1435 - accuracy: 0.6101\n",
            "Epoch 52/100\n",
            "484/484 [==============================] - 10s 21ms/step - loss: 2.0975 - accuracy: 0.6252\n",
            "Epoch 53/100\n",
            "484/484 [==============================] - 10s 21ms/step - loss: 2.0495 - accuracy: 0.6300\n",
            "Epoch 54/100\n",
            "484/484 [==============================] - 10s 21ms/step - loss: 2.0219 - accuracy: 0.6400\n",
            "Epoch 55/100\n",
            "484/484 [==============================] - 10s 21ms/step - loss: 1.9600 - accuracy: 0.6498\n",
            "Epoch 56/100\n",
            "484/484 [==============================] - 10s 21ms/step - loss: 1.9217 - accuracy: 0.6613\n",
            "Epoch 57/100\n",
            "484/484 [==============================] - 10s 21ms/step - loss: 1.8946 - accuracy: 0.6674\n",
            "Epoch 58/100\n",
            "484/484 [==============================] - 10s 21ms/step - loss: 1.8624 - accuracy: 0.6837\n",
            "Epoch 59/100\n",
            "484/484 [==============================] - 10s 21ms/step - loss: 1.8230 - accuracy: 0.6858\n",
            "Epoch 60/100\n",
            "484/484 [==============================] - 10s 21ms/step - loss: 1.7977 - accuracy: 0.6871\n",
            "Epoch 61/100\n",
            "484/484 [==============================] - 10s 21ms/step - loss: 1.7683 - accuracy: 0.6913\n",
            "Epoch 62/100\n",
            "484/484 [==============================] - 10s 21ms/step - loss: 1.7631 - accuracy: 0.6892\n",
            "Epoch 63/100\n",
            "484/484 [==============================] - 10s 21ms/step - loss: 1.6897 - accuracy: 0.7060\n",
            "Epoch 64/100\n",
            "484/484 [==============================] - 10s 21ms/step - loss: 1.6558 - accuracy: 0.7108\n",
            "Epoch 65/100\n",
            "484/484 [==============================] - 11s 22ms/step - loss: 1.6324 - accuracy: 0.7197\n",
            "Epoch 66/100\n",
            "484/484 [==============================] - 10s 21ms/step - loss: 1.5963 - accuracy: 0.7282\n",
            "Epoch 67/100\n",
            "484/484 [==============================] - 10s 21ms/step - loss: 1.5772 - accuracy: 0.7323\n",
            "Epoch 68/100\n",
            "484/484 [==============================] - 10s 21ms/step - loss: 1.5562 - accuracy: 0.7361\n",
            "Epoch 69/100\n",
            "484/484 [==============================] - 10s 21ms/step - loss: 1.5408 - accuracy: 0.7398\n",
            "Epoch 70/100\n",
            "484/484 [==============================] - 10s 21ms/step - loss: 1.5038 - accuracy: 0.7424\n",
            "Epoch 71/100\n",
            "484/484 [==============================] - 10s 22ms/step - loss: 1.4747 - accuracy: 0.7549\n",
            "Epoch 72/100\n",
            "484/484 [==============================] - 10s 21ms/step - loss: 1.4572 - accuracy: 0.7504\n",
            "Epoch 73/100\n",
            "484/484 [==============================] - 10s 21ms/step - loss: 1.4709 - accuracy: 0.7502\n",
            "Epoch 74/100\n",
            "484/484 [==============================] - 10s 21ms/step - loss: 1.4358 - accuracy: 0.7591\n",
            "Epoch 75/100\n",
            "484/484 [==============================] - 10s 21ms/step - loss: 1.4037 - accuracy: 0.7630\n",
            "Epoch 76/100\n",
            "484/484 [==============================] - 10s 21ms/step - loss: 1.4013 - accuracy: 0.7625\n",
            "Epoch 77/100\n",
            "484/484 [==============================] - 10s 22ms/step - loss: 1.3719 - accuracy: 0.7671\n",
            "Epoch 78/100\n",
            "484/484 [==============================] - 11s 23ms/step - loss: 1.3391 - accuracy: 0.7790\n",
            "Epoch 79/100\n",
            "484/484 [==============================] - 11s 22ms/step - loss: 1.3274 - accuracy: 0.7752\n",
            "Epoch 80/100\n",
            "484/484 [==============================] - 10s 22ms/step - loss: 1.3194 - accuracy: 0.7761\n",
            "Epoch 81/100\n",
            "484/484 [==============================] - 10s 22ms/step - loss: 1.2749 - accuracy: 0.7869\n",
            "Epoch 82/100\n",
            "484/484 [==============================] - 11s 22ms/step - loss: 1.2792 - accuracy: 0.7855\n",
            "Epoch 83/100\n",
            "484/484 [==============================] - 10s 22ms/step - loss: 1.2651 - accuracy: 0.7903\n",
            "Epoch 84/100\n",
            "484/484 [==============================] - 11s 22ms/step - loss: 1.2656 - accuracy: 0.7864\n",
            "Epoch 85/100\n",
            "484/484 [==============================] - 10s 21ms/step - loss: 1.2501 - accuracy: 0.7901\n",
            "Epoch 86/100\n",
            "484/484 [==============================] - 10s 21ms/step - loss: 1.2369 - accuracy: 0.7890\n",
            "Epoch 87/100\n",
            "484/484 [==============================] - 10s 21ms/step - loss: 1.2242 - accuracy: 0.7977\n",
            "Epoch 88/100\n",
            "484/484 [==============================] - 10s 21ms/step - loss: 1.2249 - accuracy: 0.7917\n",
            "Epoch 89/100\n",
            "484/484 [==============================] - 10s 21ms/step - loss: 1.2095 - accuracy: 0.7914\n",
            "Epoch 90/100\n",
            "484/484 [==============================] - 10s 21ms/step - loss: 1.1877 - accuracy: 0.8019\n",
            "Epoch 91/100\n",
            "484/484 [==============================] - 10s 21ms/step - loss: 1.1611 - accuracy: 0.7997\n",
            "Epoch 92/100\n",
            "484/484 [==============================] - 10s 22ms/step - loss: 1.1495 - accuracy: 0.8061\n",
            "Epoch 93/100\n",
            "484/484 [==============================] - 11s 22ms/step - loss: 1.1175 - accuracy: 0.8157\n",
            "Epoch 94/100\n",
            "484/484 [==============================] - 11s 22ms/step - loss: 1.1313 - accuracy: 0.8063\n",
            "Epoch 95/100\n",
            "484/484 [==============================] - 10s 21ms/step - loss: 1.1185 - accuracy: 0.8098\n",
            "Epoch 96/100\n",
            "484/484 [==============================] - 10s 21ms/step - loss: 1.1168 - accuracy: 0.8090\n",
            "Epoch 97/100\n",
            "484/484 [==============================] - 10s 21ms/step - loss: 1.1263 - accuracy: 0.8112\n",
            "Epoch 98/100\n",
            "484/484 [==============================] - 10s 22ms/step - loss: 1.0709 - accuracy: 0.8195\n",
            "Epoch 99/100\n",
            "484/484 [==============================] - 10s 21ms/step - loss: 1.0709 - accuracy: 0.8191\n",
            "Epoch 100/100\n",
            "484/484 [==============================] - 10s 22ms/step - loss: 1.0990 - accuracy: 0.8130\n"
          ],
          "name": "stdout"
        }
      ]
    },
    {
      "cell_type": "code",
      "metadata": {
        "colab": {
          "base_uri": "https://localhost:8080/",
          "height": 545
        },
        "id": "JdOTMwRxdxmk",
        "outputId": "65a262ab-5fe4-4a6b-d35d-a8edc9377851"
      },
      "source": [
        "import matplotlib.pyplot as plt\r\n",
        "acc = history.history['accuracy']\r\n",
        "loss = history.history['loss']\r\n",
        "\r\n",
        "epochs = range(len(acc))\r\n",
        "\r\n",
        "plt.plot(epochs, acc, 'b', label='Training accuracy')\r\n",
        "plt.title('Training accuracy')\r\n",
        "\r\n",
        "plt.figure()\r\n",
        "\r\n",
        "plt.plot(epochs, loss, 'b', label='Training Loss')\r\n",
        "plt.title('Training loss')\r\n",
        "plt.legend()\r\n",
        "\r\n",
        "plt.show()"
      ],
      "execution_count": 11,
      "outputs": [
        {
          "output_type": "display_data",
          "data": {
            "image/png": "[encoded data removed]",
            "text/plain": [
              "<Figure size 432x288 with 1 Axes>"
            ]
          },
          "metadata": {
            "tags": [],
            "needs_background": "light"
          }
        },
        {
          "output_type": "display_data",
          "data": {
            "image/png": "[encoded data removed]",
            "text/plain": [
              "<Figure size 432x288 with 1 Axes>"
            ]
          },
          "metadata": {
            "tags": [],
            "needs_background": "light"
          }
        }
      ]
    },
    {
      "cell_type": "code",
      "metadata": {
        "colab": {
          "base_uri": "https://localhost:8080/"
        },
        "id": "aQeiIO5fd1zj",
        "outputId": "ae8a78b8-df97-4b83-ea0a-6d8a9c2271a8"
      },
      "source": [
        "seed_text = \"Help me Obi Wan Kenobi, you're my only hope\"\r\n",
        "next_words = 100\r\n",
        "  \r\n",
        "for _ in range(next_words):\r\n",
        "\ttoken_list = tokenizer.texts_to_sequences([seed_text])[0]\r\n",
        "\ttoken_list = pad_sequences([token_list], maxlen=max_sequence_len-1, padding='pre')\r\n",
        "\tpredicted = model.predict_classes(token_list, verbose=0)\r\n",
        "\toutput_word = \"\"\r\n",
        "\tfor word, index in tokenizer.word_index.items():\r\n",
        "\t\tif index == predicted:\r\n",
        "\t\t\toutput_word = word\r\n",
        "\t\t\tbreak\r\n",
        "\tseed_text += \" \" + output_word\r\n",
        "print(seed_text)"
      ],
      "execution_count": 12,
      "outputs": [
        {
          "output_type": "stream",
          "text": [
            "/usr/local/lib/python3.6/dist-packages/tensorflow/python/keras/engine/sequential.py:450: UserWarning: `model.predict_classes()` is deprecated and will be removed after 2021-01-01. Please use instead:* `np.argmax(model.predict(x), axis=-1)`,   if your model does multi-class classification   (e.g. if it uses a `softmax` last-layer activation).* `(model.predict(x) > 0.5).astype(\"int32\")`,   if your model does binary classification   (e.g. if it uses a `sigmoid` last-layer activation).\n",
            "  warnings.warn('`model.predict_classes()` is deprecated and '\n"
          ],
          "name": "stderr"
        },
        {
          "output_type": "stream",
          "text": [
            "Help me Obi Wan Kenobi, you're my only hope or worms well spent near flatter lie to none take dead rare ' so ' kill me so confounds men near mend truth lies men's pride lies deem'd torn young most deem'd rolling level of gone each fresh ornament now live more nearly rare rare spent young on crime twain dumb cold pain twain be free free torn free bright rare gone of pleasure heaven seen dyed seen lie on true art hell new now spent live dead aside skill painted way mother mother mother pain write so praise she remains grows say born of shame quite lie doth none\n"
          ],
          "name": "stdout"
        }
      ]
    }
  ]
}