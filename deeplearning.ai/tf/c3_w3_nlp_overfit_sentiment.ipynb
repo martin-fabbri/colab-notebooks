{
  "nbformat": 4,
  "nbformat_minor": 0,
  "metadata": {
    "colab": {
      "name": "c3_w3_nlp_overfit_sentiment.ipynb",
      "provenance": [],
      "authorship_tag": "ABX9TyNyJnx2UosO7MrxMj1GIv2R",
      "include_colab_link": true
    },
    "kernelspec": {
      "name": "python3",
      "display_name": "Python 3"
    },
    "accelerator": "TPU"
  },
  "cells": [
    {
      "cell_type": "markdown",
      "metadata": {
        "id": "view-in-github",
        "colab_type": "text"
      },
      "source": [
        "<a href=\"https://colab.research.google.com/github/martin-fabbri/colab-notebooks/blob/master/deeplearning.ai/tf/c3_w3_nlp_overfit_sentiment.ipynb\" target=\"_parent\"><img src=\"https://colab.research.google.com/assets/colab-badge.svg\" alt=\"Open In Colab\"/></a>"
      ]
    },
    {
      "cell_type": "code",
      "metadata": {
        "id": "sd6Q4q5gbrNc"
      },
      "source": [
        "!wget --no-check-certificate --quiet\\\r\n",
        "    https://storage.googleapis.com/laurencemoroney-blog.appspot.com/training_cleaned.csv\r\n",
        "\r\n",
        "!wget --no-check-certificate --quiet\\\r\n",
        "    https://storage.googleapis.com/laurencemoroney-blog.appspot.com/glove.6B.100d.txt"
      ],
      "execution_count": 1,
      "outputs": []
    },
    {
      "cell_type": "code",
      "metadata": {
        "id": "tXhC3Lnypvuq"
      },
      "source": [
        "import json\r\n",
        "import csv\r\n",
        "import random\r\n",
        "import numpy as np\r\n",
        "import tensorflow as tf\r\n",
        "\r\n",
        "from tensorflow.keras import Sequential\r\n",
        "from tensorflow.keras import layers\r\n",
        "from tensorflow.keras.preprocessing.text import Tokenizer\r\n",
        "from tensorflow.keras.preprocessing.sequence import pad_sequences\r\n",
        "from tensorflow.keras.utils import to_categorical\r\n",
        "from tensorflow.keras import regularizers"
      ],
      "execution_count": 2,
      "outputs": []
    },
    {
      "cell_type": "code",
      "metadata": {
        "id": "jrxAcbVcdjts",
        "outputId": "93591104-e95c-4deb-d832-e5f1e0cbaab5",
        "colab": {
          "base_uri": "https://localhost:8080/"
        }
      },
      "source": [
        "#@title Enable TPU\r\n",
        "use_tpu = True #@param [\"False\", \"True\"] {type:\"raw\"}\r\n",
        "\r\n",
        "if use_tpu:\r\n",
        "  try:\r\n",
        "    tpu = tf.distribute.cluster_resolver.TPUClusterResolver()\r\n",
        "    tpu_spec = tpu.cluster_spec().as_dict()['worker']\r\n",
        "    tf.config.experimental_connect_to_cluster(tpu)\r\n",
        "    tf.tpu.experimental.initialize_tpu_system(tpu)\r\n",
        "    tpu_strategy = tf.distribute.experimental.TPUStrategy(tpu)\r\n",
        "    print(\"Running on TPU:\", tpu_spec)\r\n",
        "  except ValueError:\r\n",
        "    print(\"ERROR: Not connected to a TPU.\")\r\n",
        "    raise BaseException(\"ERROR: Select use_tpu=False.\")"
      ],
      "execution_count": 3,
      "outputs": [
        {
          "output_type": "stream",
          "text": [
            "INFO:tensorflow:Initializing the TPU system: grpc://10.104.159.2:8470\n"
          ],
          "name": "stdout"
        },
        {
          "output_type": "stream",
          "text": [
            "INFO:tensorflow:Initializing the TPU system: grpc://10.104.159.2:8470\n"
          ],
          "name": "stderr"
        },
        {
          "output_type": "stream",
          "text": [
            "INFO:tensorflow:Clearing out eager caches\n"
          ],
          "name": "stdout"
        },
        {
          "output_type": "stream",
          "text": [
            "INFO:tensorflow:Clearing out eager caches\n"
          ],
          "name": "stderr"
        },
        {
          "output_type": "stream",
          "text": [
            "INFO:tensorflow:Finished initializing TPU system.\n"
          ],
          "name": "stdout"
        },
        {
          "output_type": "stream",
          "text": [
            "INFO:tensorflow:Finished initializing TPU system.\n",
            "WARNING:absl:`tf.distribute.experimental.TPUStrategy` is deprecated, please use  the non experimental symbol `tf.distribute.TPUStrategy` instead.\n"
          ],
          "name": "stderr"
        },
        {
          "output_type": "stream",
          "text": [
            "INFO:tensorflow:Found TPU system:\n"
          ],
          "name": "stdout"
        },
        {
          "output_type": "stream",
          "text": [
            "INFO:tensorflow:Found TPU system:\n"
          ],
          "name": "stderr"
        },
        {
          "output_type": "stream",
          "text": [
            "INFO:tensorflow:*** Num TPU Cores: 8\n"
          ],
          "name": "stdout"
        },
        {
          "output_type": "stream",
          "text": [
            "INFO:tensorflow:*** Num TPU Cores: 8\n"
          ],
          "name": "stderr"
        },
        {
          "output_type": "stream",
          "text": [
            "INFO:tensorflow:*** Num TPU Workers: 1\n"
          ],
          "name": "stdout"
        },
        {
          "output_type": "stream",
          "text": [
            "INFO:tensorflow:*** Num TPU Workers: 1\n"
          ],
          "name": "stderr"
        },
        {
          "output_type": "stream",
          "text": [
            "INFO:tensorflow:*** Num TPU Cores Per Worker: 8\n"
          ],
          "name": "stdout"
        },
        {
          "output_type": "stream",
          "text": [
            "INFO:tensorflow:*** Num TPU Cores Per Worker: 8\n"
          ],
          "name": "stderr"
        },
        {
          "output_type": "stream",
          "text": [
            "INFO:tensorflow:*** Available Device: _DeviceAttributes(/job:localhost/replica:0/task:0/device:CPU:0, CPU, 0, 0)\n"
          ],
          "name": "stdout"
        },
        {
          "output_type": "stream",
          "text": [
            "INFO:tensorflow:*** Available Device: _DeviceAttributes(/job:localhost/replica:0/task:0/device:CPU:0, CPU, 0, 0)\n"
          ],
          "name": "stderr"
        },
        {
          "output_type": "stream",
          "text": [
            "INFO:tensorflow:*** Available Device: _DeviceAttributes(/job:worker/replica:0/task:0/device:CPU:0, CPU, 0, 0)\n"
          ],
          "name": "stdout"
        },
        {
          "output_type": "stream",
          "text": [
            "INFO:tensorflow:*** Available Device: _DeviceAttributes(/job:worker/replica:0/task:0/device:CPU:0, CPU, 0, 0)\n"
          ],
          "name": "stderr"
        },
        {
          "output_type": "stream",
          "text": [
            "INFO:tensorflow:*** Available Device: _DeviceAttributes(/job:worker/replica:0/task:0/device:TPU:0, TPU, 0, 0)\n"
          ],
          "name": "stdout"
        },
        {
          "output_type": "stream",
          "text": [
            "INFO:tensorflow:*** Available Device: _DeviceAttributes(/job:worker/replica:0/task:0/device:TPU:0, TPU, 0, 0)\n"
          ],
          "name": "stderr"
        },
        {
          "output_type": "stream",
          "text": [
            "INFO:tensorflow:*** Available Device: _DeviceAttributes(/job:worker/replica:0/task:0/device:TPU:1, TPU, 0, 0)\n"
          ],
          "name": "stdout"
        },
        {
          "output_type": "stream",
          "text": [
            "INFO:tensorflow:*** Available Device: _DeviceAttributes(/job:worker/replica:0/task:0/device:TPU:1, TPU, 0, 0)\n"
          ],
          "name": "stderr"
        },
        {
          "output_type": "stream",
          "text": [
            "INFO:tensorflow:*** Available Device: _DeviceAttributes(/job:worker/replica:0/task:0/device:TPU:2, TPU, 0, 0)\n"
          ],
          "name": "stdout"
        },
        {
          "output_type": "stream",
          "text": [
            "INFO:tensorflow:*** Available Device: _DeviceAttributes(/job:worker/replica:0/task:0/device:TPU:2, TPU, 0, 0)\n"
          ],
          "name": "stderr"
        },
        {
          "output_type": "stream",
          "text": [
            "INFO:tensorflow:*** Available Device: _DeviceAttributes(/job:worker/replica:0/task:0/device:TPU:3, TPU, 0, 0)\n"
          ],
          "name": "stdout"
        },
        {
          "output_type": "stream",
          "text": [
            "INFO:tensorflow:*** Available Device: _DeviceAttributes(/job:worker/replica:0/task:0/device:TPU:3, TPU, 0, 0)\n"
          ],
          "name": "stderr"
        },
        {
          "output_type": "stream",
          "text": [
            "INFO:tensorflow:*** Available Device: _DeviceAttributes(/job:worker/replica:0/task:0/device:TPU:4, TPU, 0, 0)\n"
          ],
          "name": "stdout"
        },
        {
          "output_type": "stream",
          "text": [
            "INFO:tensorflow:*** Available Device: _DeviceAttributes(/job:worker/replica:0/task:0/device:TPU:4, TPU, 0, 0)\n"
          ],
          "name": "stderr"
        },
        {
          "output_type": "stream",
          "text": [
            "INFO:tensorflow:*** Available Device: _DeviceAttributes(/job:worker/replica:0/task:0/device:TPU:5, TPU, 0, 0)\n"
          ],
          "name": "stdout"
        },
        {
          "output_type": "stream",
          "text": [
            "INFO:tensorflow:*** Available Device: _DeviceAttributes(/job:worker/replica:0/task:0/device:TPU:5, TPU, 0, 0)\n"
          ],
          "name": "stderr"
        },
        {
          "output_type": "stream",
          "text": [
            "INFO:tensorflow:*** Available Device: _DeviceAttributes(/job:worker/replica:0/task:0/device:TPU:6, TPU, 0, 0)\n"
          ],
          "name": "stdout"
        },
        {
          "output_type": "stream",
          "text": [
            "INFO:tensorflow:*** Available Device: _DeviceAttributes(/job:worker/replica:0/task:0/device:TPU:6, TPU, 0, 0)\n"
          ],
          "name": "stderr"
        },
        {
          "output_type": "stream",
          "text": [
            "INFO:tensorflow:*** Available Device: _DeviceAttributes(/job:worker/replica:0/task:0/device:TPU:7, TPU, 0, 0)\n"
          ],
          "name": "stdout"
        },
        {
          "output_type": "stream",
          "text": [
            "INFO:tensorflow:*** Available Device: _DeviceAttributes(/job:worker/replica:0/task:0/device:TPU:7, TPU, 0, 0)\n"
          ],
          "name": "stderr"
        },
        {
          "output_type": "stream",
          "text": [
            "INFO:tensorflow:*** Available Device: _DeviceAttributes(/job:worker/replica:0/task:0/device:TPU_SYSTEM:0, TPU_SYSTEM, 0, 0)\n"
          ],
          "name": "stdout"
        },
        {
          "output_type": "stream",
          "text": [
            "INFO:tensorflow:*** Available Device: _DeviceAttributes(/job:worker/replica:0/task:0/device:TPU_SYSTEM:0, TPU_SYSTEM, 0, 0)\n"
          ],
          "name": "stderr"
        },
        {
          "output_type": "stream",
          "text": [
            "INFO:tensorflow:*** Available Device: _DeviceAttributes(/job:worker/replica:0/task:0/device:XLA_CPU:0, XLA_CPU, 0, 0)\n"
          ],
          "name": "stdout"
        },
        {
          "output_type": "stream",
          "text": [
            "INFO:tensorflow:*** Available Device: _DeviceAttributes(/job:worker/replica:0/task:0/device:XLA_CPU:0, XLA_CPU, 0, 0)\n"
          ],
          "name": "stderr"
        },
        {
          "output_type": "stream",
          "text": [
            "Running on TPU: ['10.104.159.2:8470']\n"
          ],
          "name": "stdout"
        }
      ]
    },
    {
      "cell_type": "code",
      "metadata": {
        "id": "nIicvQcSqiAP"
      },
      "source": [
        "embedding_dim = 100\r\n",
        "max_length = 16\r\n",
        "trunc_type = \"post\"\r\n",
        "padding_type = \"post\"\r\n",
        "oov_tok = \"<OOV>\"\r\n",
        "training_size = 160000\r\n",
        "test_portion = 0.1\r\n",
        "corpus = []\r\n"
      ],
      "execution_count": 4,
      "outputs": []
    },
    {
      "cell_type": "code",
      "metadata": {
        "id": "IxDUr1oEwMX9"
      },
      "source": [
        "num_sentences = 0\r\n",
        "with open(\"training_cleaned.csv\") as csvfile:\r\n",
        "    reader = csv.reader(csvfile, delimiter=\",\")\r\n",
        "    for row in reader:\r\n",
        "        list_items = [row[5], 0 if row[0] == \"0\" else 1]\r\n",
        "        num_sentences += 1\r\n",
        "        corpus.append(list_items)"
      ],
      "execution_count": 5,
      "outputs": []
    },
    {
      "cell_type": "code",
      "metadata": {
        "colab": {
          "base_uri": "https://localhost:8080/"
        },
        "id": "LQ0scbuWlgph",
        "outputId": "c693deab-7888-4777-ccc6-ea258c62b479"
      },
      "source": [
        "print(num_sentences)\r\n",
        "print(len(corpus))\r\n",
        "print(corpus[1])\r\n",
        "\r\n",
        "# Expected Output:\r\n",
        "# 1600000\r\n",
        "# 1600000\r\n",
        "# [\"is upset that he can't update his Facebook by texting it... and might cry as a result  School today also. Blah!\", 0]"
      ],
      "execution_count": 6,
      "outputs": [
        {
          "output_type": "stream",
          "text": [
            "1600000\n",
            "1600000\n",
            "[\"is upset that he can't update his Facebook by texting it... and might cry as a result  School today also. Blah!\", 0]\n"
          ],
          "name": "stdout"
        }
      ]
    },
    {
      "cell_type": "code",
      "metadata": {
        "id": "Kvy6VhZpnobr"
      },
      "source": [
        "sentences = []\r\n",
        "labels = []\r\n",
        "random.shuffle(corpus)\r\n",
        "\r\n",
        "for x in range(training_size):\r\n",
        "    sentence, label = corpus[x]\r\n",
        "    sentences.append(sentence)\r\n",
        "    labels.append(label)\r\n",
        "\r\n",
        "tokenizer = Tokenizer()\r\n",
        "tokenizer.fit_on_texts(sentences)\r\n",
        "\r\n",
        "word_index = tokenizer.word_index\r\n",
        "vocab_size = len(word_index)\r\n",
        "\r\n",
        "sequences = tokenizer.texts_to_sequences(sentences)\r\n",
        "padded = pad_sequences(\r\n",
        "    sequences, maxlen=max_length, padding=padding_type, truncating=trunc_type\r\n",
        ")\r\n",
        "\r\n",
        "split = int(test_portion * training_size)\r\n",
        "\r\n",
        "training_sequences = np.array(padded[:split])\r\n",
        "training_labels = np.array(labels[:split])\r\n",
        "test_sequences = np.array(padded[split:])\r\n",
        "test_labels = np.array(labels[split:])\r\n"
      ],
      "execution_count": 7,
      "outputs": []
    },
    {
      "cell_type": "code",
      "metadata": {
        "colab": {
          "base_uri": "https://localhost:8080/"
        },
        "id": "PQ4u2EqxnoY3",
        "outputId": "cc0bd05a-bf87-4935-fc21-93f4257fcd4e"
      },
      "source": [
        "print(vocab_size)\r\n",
        "print(word_index['i'])\r\n",
        "# Expected Output\r\n",
        "# 138858\r\n",
        "# 1"
      ],
      "execution_count": 8,
      "outputs": [
        {
          "output_type": "stream",
          "text": [
            "138655\n",
            "1\n"
          ],
          "name": "stdout"
        }
      ]
    },
    {
      "cell_type": "code",
      "metadata": {
        "id": "Tn8yrPY7noPs"
      },
      "source": [
        "embeddings_index = {}\r\n",
        "with open('glove.6B.100d.txt') as f:\r\n",
        "    for line in f:\r\n",
        "        values = line.split()\r\n",
        "        word, *coefs = values\r\n",
        "        coefs = np.asarray(coefs, dtype=\"float32\")\r\n",
        "        embeddings_index[word] = coefs\r\n",
        "\r\n",
        "embeddings_matrix = np.zeros((vocab_size + 1, embedding_dim))\r\n",
        "for word, i in word_index.items():\r\n",
        "    embedding_vector = embeddings_index.get(word)\r\n",
        "    if embedding_vector is not None:\r\n",
        "        embeddings_matrix[i] = embedding_vector"
      ],
      "execution_count": 9,
      "outputs": []
    },
    {
      "cell_type": "code",
      "metadata": {
        "colab": {
          "base_uri": "https://localhost:8080/"
        },
        "id": "EdIXUQdgnoMr",
        "outputId": "35581d69-40c5-4df1-dea0-a6de3d692423"
      },
      "source": [
        "print(len(embeddings_matrix))\r\n",
        "# Expected Output\r\n",
        "# 138859"
      ],
      "execution_count": 10,
      "outputs": [
        {
          "output_type": "stream",
          "text": [
            "138656\n"
          ],
          "name": "stdout"
        }
      ]
    },
    {
      "cell_type": "code",
      "metadata": {
        "colab": {
          "base_uri": "https://localhost:8080/"
        },
        "id": "rmA8PDdCunCG",
        "outputId": "3b1b2d7c-f995-4d88-d433-a33663d6e212"
      },
      "source": [
        "def create_model():\r\n",
        "    model = Sequential([\r\n",
        "        layers.Embedding(\r\n",
        "            vocab_size + 1,\r\n",
        "            embedding_dim,\r\n",
        "            input_length=max_length,\r\n",
        "            weights=[embeddings_matrix],\r\n",
        "            trainable=True,\r\n",
        "        ),\r\n",
        "        layers.Dropout(0.2),\r\n",
        "        layers.Conv1D(64, 5, activation=\"relu\"),\r\n",
        "        layers.MaxPooling1D(pool_size=4),\r\n",
        "        layers.LSTM(64),\r\n",
        "        layers.Dense(1, activation=\"sigmoid\"),\r\n",
        "    ])\r\n",
        "    return model\r\n",
        "\r\n",
        "if use_tpu:\r\n",
        "    with tpu_strategy.scope():\r\n",
        "        model = create_model()\r\n",
        "else:\r\n",
        "    model = create_model()\r\n",
        "    \r\n",
        "model.compile(loss=\"binary_crossentropy\", optimizer=\"adam\", metrics=[\"accuracy\"])\r\n",
        "model.summary()"
      ],
      "execution_count": 11,
      "outputs": [
        {
          "output_type": "stream",
          "text": [
            "Model: \"sequential\"\n",
            "_________________________________________________________________\n",
            "Layer (type)                 Output Shape              Param #   \n",
            "=================================================================\n",
            "embedding (Embedding)        (None, 16, 100)           13865600  \n",
            "_________________________________________________________________\n",
            "dropout (Dropout)            (None, 16, 100)           0         \n",
            "_________________________________________________________________\n",
            "conv1d (Conv1D)              (None, 12, 64)            32064     \n",
            "_________________________________________________________________\n",
            "max_pooling1d (MaxPooling1D) (None, 3, 64)             0         \n",
            "_________________________________________________________________\n",
            "lstm (LSTM)                  (None, 64)                33024     \n",
            "_________________________________________________________________\n",
            "dense (Dense)                (None, 1)                 65        \n",
            "=================================================================\n",
            "Total params: 13,930,753\n",
            "Trainable params: 13,930,753\n",
            "Non-trainable params: 0\n",
            "_________________________________________________________________\n"
          ],
          "name": "stdout"
        }
      ]
    },
    {
      "cell_type": "code",
      "metadata": {
        "colab": {
          "base_uri": "https://localhost:8080/"
        },
        "id": "rhMo1yn54TQB",
        "outputId": "1dae67cd-2098-4dc1-e7b1-7ff05cc83623"
      },
      "source": [
        " len(test_sequences), len(test_labels) "
      ],
      "execution_count": 12,
      "outputs": [
        {
          "output_type": "execute_result",
          "data": {
            "text/plain": [
              "(144000, 144000)"
            ]
          },
          "metadata": {
            "tags": []
          },
          "execution_count": 12
        }
      ]
    },
    {
      "cell_type": "code",
      "metadata": {
        "colab": {
          "base_uri": "https://localhost:8080/"
        },
        "id": "udohWfP_2nuK",
        "outputId": "4d4a814d-d6a9-4da2-8316-117b14278e30"
      },
      "source": [
        "num_epochs = 50\r\n",
        "history = model.fit(\r\n",
        "    training_sequences, \r\n",
        "    training_labels, \r\n",
        "    epochs=num_epochs, \r\n",
        "    validation_data=(test_sequences, test_labels), \r\n",
        "    verbose=2\r\n",
        ")"
      ],
      "execution_count": 13,
      "outputs": [
        {
          "output_type": "stream",
          "text": [
            "Epoch 1/50\n",
            "500/500 - 18s - loss: 0.5883 - accuracy: 0.6853 - val_loss: 0.5370 - val_accuracy: 0.7281\n",
            "Epoch 2/50\n",
            "500/500 - 11s - loss: 0.4655 - accuracy: 0.7780 - val_loss: 0.5175 - val_accuracy: 0.7458\n",
            "Epoch 3/50\n",
            "500/500 - 13s - loss: 0.3720 - accuracy: 0.8387 - val_loss: 0.5439 - val_accuracy: 0.7397\n",
            "Epoch 4/50\n",
            "500/500 - 11s - loss: 0.2459 - accuracy: 0.9019 - val_loss: 0.6288 - val_accuracy: 0.7310\n",
            "Epoch 5/50\n",
            "500/500 - 11s - loss: 0.1640 - accuracy: 0.9374 - val_loss: 0.7215 - val_accuracy: 0.7106\n",
            "Epoch 6/50\n",
            "500/500 - 11s - loss: 0.1041 - accuracy: 0.9625 - val_loss: 0.8657 - val_accuracy: 0.7086\n",
            "Epoch 7/50\n",
            "500/500 - 11s - loss: 0.0765 - accuracy: 0.9720 - val_loss: 0.9463 - val_accuracy: 0.7153\n",
            "Epoch 8/50\n",
            "500/500 - 11s - loss: 0.0623 - accuracy: 0.9770 - val_loss: 1.1118 - val_accuracy: 0.7115\n",
            "Epoch 9/50\n",
            "500/500 - 11s - loss: 0.0447 - accuracy: 0.9841 - val_loss: 1.0266 - val_accuracy: 0.7103\n",
            "Epoch 10/50\n",
            "500/500 - 11s - loss: 0.0391 - accuracy: 0.9848 - val_loss: 1.1971 - val_accuracy: 0.7114\n",
            "Epoch 11/50\n",
            "500/500 - 11s - loss: 0.0344 - accuracy: 0.9870 - val_loss: 1.1887 - val_accuracy: 0.7051\n",
            "Epoch 12/50\n",
            "500/500 - 11s - loss: 0.0284 - accuracy: 0.9894 - val_loss: 1.3135 - val_accuracy: 0.7083\n",
            "Epoch 13/50\n",
            "500/500 - 11s - loss: 0.0253 - accuracy: 0.9907 - val_loss: 1.2790 - val_accuracy: 0.7092\n",
            "Epoch 14/50\n",
            "500/500 - 11s - loss: 0.0204 - accuracy: 0.9932 - val_loss: 1.4511 - val_accuracy: 0.6987\n",
            "Epoch 15/50\n",
            "500/500 - 11s - loss: 0.0192 - accuracy: 0.9936 - val_loss: 1.3350 - val_accuracy: 0.7056\n",
            "Epoch 16/50\n",
            "500/500 - 11s - loss: 0.0178 - accuracy: 0.9936 - val_loss: 1.5026 - val_accuracy: 0.7054\n",
            "Epoch 17/50\n",
            "500/500 - 11s - loss: 0.0123 - accuracy: 0.9957 - val_loss: 1.5949 - val_accuracy: 0.6965\n",
            "Epoch 18/50\n",
            "500/500 - 11s - loss: 0.0170 - accuracy: 0.9936 - val_loss: 1.5152 - val_accuracy: 0.7015\n",
            "Epoch 19/50\n",
            "500/500 - 11s - loss: 0.0146 - accuracy: 0.9950 - val_loss: 1.7048 - val_accuracy: 0.7075\n",
            "Epoch 20/50\n",
            "500/500 - 11s - loss: 0.0124 - accuracy: 0.9959 - val_loss: 1.5304 - val_accuracy: 0.7027\n",
            "Epoch 21/50\n",
            "500/500 - 11s - loss: 0.0112 - accuracy: 0.9958 - val_loss: 1.6989 - val_accuracy: 0.7014\n",
            "Epoch 22/50\n",
            "500/500 - 11s - loss: 0.0110 - accuracy: 0.9970 - val_loss: 1.5881 - val_accuracy: 0.7043\n",
            "Epoch 23/50\n",
            "500/500 - 11s - loss: 0.0066 - accuracy: 0.9976 - val_loss: 1.7165 - val_accuracy: 0.7076\n",
            "Epoch 24/50\n",
            "500/500 - 11s - loss: 0.0113 - accuracy: 0.9958 - val_loss: 1.7498 - val_accuracy: 0.6957\n",
            "Epoch 25/50\n",
            "500/500 - 11s - loss: 0.0085 - accuracy: 0.9972 - val_loss: 1.8890 - val_accuracy: 0.7028\n",
            "Epoch 26/50\n",
            "500/500 - 11s - loss: 0.0066 - accuracy: 0.9979 - val_loss: 1.9080 - val_accuracy: 0.6925\n",
            "Epoch 27/50\n",
            "500/500 - 11s - loss: 0.0111 - accuracy: 0.9960 - val_loss: 1.5955 - val_accuracy: 0.7063\n",
            "Epoch 28/50\n",
            "500/500 - 11s - loss: 0.0079 - accuracy: 0.9966 - val_loss: 1.8232 - val_accuracy: 0.6950\n",
            "Epoch 29/50\n",
            "500/500 - 11s - loss: 0.0066 - accuracy: 0.9979 - val_loss: 1.8176 - val_accuracy: 0.6927\n",
            "Epoch 30/50\n",
            "500/500 - 11s - loss: 0.0061 - accuracy: 0.9978 - val_loss: 1.7116 - val_accuracy: 0.6947\n",
            "Epoch 31/50\n",
            "500/500 - 11s - loss: 0.0040 - accuracy: 0.9986 - val_loss: 1.9055 - val_accuracy: 0.7018\n",
            "Epoch 32/50\n",
            "500/500 - 11s - loss: 0.0096 - accuracy: 0.9972 - val_loss: 1.6848 - val_accuracy: 0.7027\n",
            "Epoch 33/50\n",
            "500/500 - 11s - loss: 0.0041 - accuracy: 0.9986 - val_loss: 2.1871 - val_accuracy: 0.6918\n",
            "Epoch 34/50\n",
            "500/500 - 11s - loss: 0.0071 - accuracy: 0.9974 - val_loss: 2.0072 - val_accuracy: 0.6909\n",
            "Epoch 35/50\n",
            "500/500 - 11s - loss: 0.0060 - accuracy: 0.9982 - val_loss: 1.9756 - val_accuracy: 0.6975\n",
            "Epoch 36/50\n",
            "500/500 - 11s - loss: 0.0062 - accuracy: 0.9977 - val_loss: 2.1699 - val_accuracy: 0.6758\n",
            "Epoch 37/50\n",
            "500/500 - 11s - loss: 0.0061 - accuracy: 0.9981 - val_loss: 1.8140 - val_accuracy: 0.7031\n",
            "Epoch 38/50\n",
            "500/500 - 11s - loss: 0.0029 - accuracy: 0.9989 - val_loss: 2.0396 - val_accuracy: 0.7003\n",
            "Epoch 39/50\n",
            "500/500 - 11s - loss: 0.0060 - accuracy: 0.9980 - val_loss: 1.8499 - val_accuracy: 0.7007\n",
            "Epoch 40/50\n",
            "500/500 - 11s - loss: 0.0038 - accuracy: 0.9986 - val_loss: 1.9889 - val_accuracy: 0.6858\n",
            "Epoch 41/50\n",
            "500/500 - 11s - loss: 0.0043 - accuracy: 0.9985 - val_loss: 1.9483 - val_accuracy: 0.7048\n",
            "Epoch 42/50\n",
            "500/500 - 11s - loss: 0.0036 - accuracy: 0.9989 - val_loss: 1.8388 - val_accuracy: 0.7011\n",
            "Epoch 43/50\n",
            "500/500 - 11s - loss: 0.0039 - accuracy: 0.9987 - val_loss: 1.9485 - val_accuracy: 0.6930\n",
            "Epoch 44/50\n",
            "500/500 - 11s - loss: 0.0031 - accuracy: 0.9991 - val_loss: 2.0474 - val_accuracy: 0.6981\n",
            "Epoch 45/50\n",
            "500/500 - 11s - loss: 0.0052 - accuracy: 0.9981 - val_loss: 1.8148 - val_accuracy: 0.6969\n",
            "Epoch 46/50\n",
            "500/500 - 11s - loss: 0.0017 - accuracy: 0.9994 - val_loss: 2.2690 - val_accuracy: 0.7036\n",
            "Epoch 47/50\n",
            "500/500 - 11s - loss: 0.0018 - accuracy: 0.9993 - val_loss: 2.1336 - val_accuracy: 0.7004\n",
            "Epoch 48/50\n",
            "500/500 - 11s - loss: 0.0042 - accuracy: 0.9984 - val_loss: 2.1579 - val_accuracy: 0.7017\n",
            "Epoch 49/50\n",
            "500/500 - 11s - loss: 0.0024 - accuracy: 0.9993 - val_loss: 2.1605 - val_accuracy: 0.6997\n",
            "Epoch 50/50\n",
            "500/500 - 11s - loss: 0.0039 - accuracy: 0.9988 - val_loss: 2.0759 - val_accuracy: 0.6936\n"
          ],
          "name": "stdout"
        }
      ]
    },
    {
      "cell_type": "code",
      "metadata": {
        "id": "waKvXn853hFs",
        "outputId": "bc572716-3840-40e4-cecb-f10139cf03fe",
        "colab": {
          "base_uri": "https://localhost:8080/",
          "height": 590
        }
      },
      "source": [
        "import matplotlib.image  as mpimg\r\n",
        "import matplotlib.pyplot as plt\r\n",
        "\r\n",
        "#-----------------------------------------------------------\r\n",
        "# Retrieve a list of list results on training and test data\r\n",
        "# sets for each training epoch\r\n",
        "#-----------------------------------------------------------\r\n",
        "acc=history.history['accuracy']\r\n",
        "val_acc=history.history['val_accuracy']\r\n",
        "loss=history.history['loss']\r\n",
        "val_loss=history.history['val_loss']\r\n",
        "\r\n",
        "epochs=range(len(acc)) # Get number of epochs\r\n",
        "\r\n",
        "#------------------------------------------------\r\n",
        "# Plot training and validation accuracy per epoch\r\n",
        "#------------------------------------------------\r\n",
        "plt.plot(epochs, acc, 'r')\r\n",
        "plt.plot(epochs, val_acc, 'b')\r\n",
        "plt.title('Training and validation accuracy')\r\n",
        "plt.xlabel(\"Epochs\")\r\n",
        "plt.ylabel(\"Accuracy\")\r\n",
        "plt.legend([\"Accuracy\", \"Validation Accuracy\"])\r\n",
        "\r\n",
        "plt.figure();\r\n",
        "\r\n",
        "#------------------------------------------------\r\n",
        "# Plot training and validation loss per epoch\r\n",
        "#------------------------------------------------\r\n",
        "plt.plot(epochs, loss, 'r')\r\n",
        "plt.plot(epochs, val_loss, 'b')\r\n",
        "plt.title('Training and validation loss')\r\n",
        "plt.xlabel(\"Epochs\")\r\n",
        "plt.ylabel(\"Loss\")\r\n",
        "plt.legend([\"Loss\", \"Validation Loss\"])\r\n",
        "\r\n",
        "plt.figure();"
      ],
      "execution_count": 17,
      "outputs": [
        {
          "output_type": "display_data",
          "data": {
            "image/png": "[encoded data removed]",
            "text/plain": [
              "<Figure size 432x288 with 1 Axes>"
            ]
          },
          "metadata": {
            "tags": [],
            "needs_background": "light"
          }
        },
        {
          "output_type": "display_data",
          "data": {
            "image/png": "[encoded data removed]",
            "text/plain": [
              "<Figure size 432x288 with 1 Axes>"
            ]
          },
          "metadata": {
            "tags": [],
            "needs_background": "light"
          }
        },
        {
          "output_type": "display_data",
          "data": {
            "text/plain": [
              "<Figure size 432x288 with 0 Axes>"
            ]
          },
          "metadata": {
            "tags": []
          }
        }
      ]
    }
  ]
}