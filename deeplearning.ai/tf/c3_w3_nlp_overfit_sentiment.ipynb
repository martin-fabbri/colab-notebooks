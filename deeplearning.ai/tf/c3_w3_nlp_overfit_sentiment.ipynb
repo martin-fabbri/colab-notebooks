{
  "nbformat": 4,
  "nbformat_minor": 0,
  "metadata": {
    "colab": {
      "name": "c3_w3_nlp_overfit_sentiment.ipynb",
      "provenance": [],
      "authorship_tag": "ABX9TyPnWhcqySErRDFQXtJt1IKh",
      "include_colab_link": true
    },
    "kernelspec": {
      "name": "python3",
      "display_name": "Python 3"
    }
  },
  "cells": [
    {
      "cell_type": "markdown",
      "metadata": {
        "id": "view-in-github",
        "colab_type": "text"
      },
      "source": [
        "<a href=\"https://colab.research.google.com/github/martin-fabbri/colab-notebooks/blob/master/deeplearning.ai/tf/c3_w3_nlp_overfit_sentiment.ipynb\" target=\"_parent\"><img src=\"https://colab.research.google.com/assets/colab-badge.svg\" alt=\"Open In Colab\"/></a>"
      ]
    },
    {
      "cell_type": "code",
      "metadata": {
        "id": "sd6Q4q5gbrNc"
      },
      "source": [
        "!wget --no-check-certificate --quiet\\\r\n",
        "    https://storage.googleapis.com/laurencemoroney-blog.appspot.com/training_cleaned.csv"
      ],
      "execution_count": 5,
      "outputs": []
    },
    {
      "cell_type": "code",
      "metadata": {
        "id": "tXhC3Lnypvuq"
      },
      "source": [
        "import json\r\n",
        "import csv\r\n",
        "import random\r\n",
        "import numpy as np\r\n",
        "import tensorflow as tf\r\n",
        "\r\n",
        "from tensorflow.keras.preprocessing.text import Tokenizer\r\n",
        "from tensorflow.keras.preprocessing.sequence import pad_sequences\r\n",
        "from tensorflow.keras.utils import to_categorical\r\n",
        "from tensorflow.keras import regularizers"
      ],
      "execution_count": 3,
      "outputs": []
    },
    {
      "cell_type": "code",
      "metadata": {
        "id": "nIicvQcSqiAP"
      },
      "source": [
        "embedding_dim = 100\r\n",
        "max_length = 16\r\n",
        "trunc_type = \"post\"\r\n",
        "padding_type = \"post\"\r\n",
        "oov_tok = \"<OOV>\"\r\n",
        "training_size = 100\r\n",
        "test_portion = 0.1\r\n",
        "corpus = []\r\n"
      ],
      "execution_count": 17,
      "outputs": []
    },
    {
      "cell_type": "code",
      "metadata": {
        "id": "IxDUr1oEwMX9"
      },
      "source": [
        "num_sentences = 0\r\n",
        "with open(\"training_cleaned.csv\") as csvfile:\r\n",
        "    reader = csv.reader(csvfile, delimiter=\",\")\r\n",
        "    for row in reader:\r\n",
        "        # Your Code here. Create list items where the first item is the text, \r\n",
        "        # found in row[5], and the second is the label. Note that the label \r\n",
        "        # is a '0' or a '4' in the text. When it's the former, make\r\n",
        "        # your label to be 0, otherwise 1. Keep a count of the number of sentences in num_sentences\r\n",
        "        list_items = [row[5], 0 if row[0] == \"0\" else 1]\r\n",
        "        num_sentences += 1\r\n",
        "        corpus.append(list_items)\r\n"
      ],
      "execution_count": 18,
      "outputs": []
    },
    {
      "cell_type": "code",
      "metadata": {
        "colab": {
          "base_uri": "https://localhost:8080/"
        },
        "id": "LQ0scbuWlgph",
        "outputId": "f0133ab8-12da-43de-e404-dd571c511204"
      },
      "source": [
        "print(num_sentences)\r\n",
        "print(len(corpus))\r\n",
        "print(corpus[1])\r\n",
        "\r\n",
        "# Expected Output:\r\n",
        "# 1600000\r\n",
        "# 1600000\r\n",
        "# [\"is upset that he can't update his Facebook by texting it... and might cry as a result  School today also. Blah!\", 0]"
      ],
      "execution_count": 19,
      "outputs": [
        {
          "output_type": "stream",
          "text": [
            "1600000\n",
            "1600000\n",
            "[\"is upset that he can't update his Facebook by texting it... and might cry as a result  School today also. Blah!\", 0]\n"
          ],
          "name": "stdout"
        }
      ]
    }
  ]
}