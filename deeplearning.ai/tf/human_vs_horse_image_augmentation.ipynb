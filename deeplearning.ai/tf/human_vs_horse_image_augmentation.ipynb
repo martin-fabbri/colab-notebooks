{
  "nbformat": 4,
  "nbformat_minor": 0,
  "metadata": {
    "accelerator": "GPU",
    "colab": {
      "name": "human-vs-horse-image-augmentation.ipynb",
      "provenance": [],
      "collapsed_sections": [],
      "include_colab_link": true
    },
    "kernelspec": {
      "display_name": "Python 3",
      "name": "python3"
    }
  },
  "cells": [
    {
      "cell_type": "markdown",
      "metadata": {
        "id": "view-in-github",
        "colab_type": "text"
      },
      "source": [
        "<a href=\"https://colab.research.google.com/github/martin-fabbri/colab-notebooks/blob/master/deeplearning.ai/tf/human_vs_horse_image_augmentation.ipynb\" target=\"_parent\"><img src=\"https://colab.research.google.com/assets/colab-badge.svg\" alt=\"Open In Colab\"/></a>"
      ]
    },
    {
      "cell_type": "markdown",
      "metadata": {
        "id": "rX8mhOLljYeM"
      },
      "source": [
        "##### Copyright 2019 The TensorFlow Authors."
      ]
    },
    {
      "cell_type": "code",
      "metadata": {
        "cellView": "form",
        "id": "BZSlp3DAjdYf"
      },
      "source": [
        "#@title Licensed under the Apache License, Version 2.0 (the \"License\");\n",
        "# you may not use this file except in compliance with the License.\n",
        "# You may obtain a copy of the License at\n",
        "#\n",
        "# https://www.apache.org/licenses/LICENSE-2.0\n",
        "#\n",
        "# Unless required by applicable law or agreed to in writing, software\n",
        "# distributed under the License is distributed on an \"AS IS\" BASIS,\n",
        "# WITHOUT WARRANTIES OR CONDITIONS OF ANY KIND, either express or implied.\n",
        "# See the License for the specific language governing permissions and\n",
        "# limitations under the License."
      ],
      "execution_count": null,
      "outputs": []
    },
    {
      "cell_type": "code",
      "metadata": {
        "id": "RXZT2UsyIVe_",
        "outputId": "9705218d-602a-4f29-e3d6-ef055c84902f",
        "colab": {
          "base_uri": "https://localhost:8080/"
        }
      },
      "source": [
        "!wget --no-check-certificate \\\n",
        "    https://storage.googleapis.com/laurencemoroney-blog.appspot.com/horse-or-human.zip \\\n",
        "    -O /tmp/horse-or-human.zip\n",
        "\n",
        "!wget --no-check-certificate \\\n",
        "    https://storage.googleapis.com/laurencemoroney-blog.appspot.com/validation-horse-or-human.zip \\\n",
        "    -O /tmp/validation-horse-or-human.zip\n",
        "  \n",
        "import os\n",
        "import zipfile\n",
        "\n",
        "local_zip = '/tmp/horse-or-human.zip'\n",
        "zip_ref = zipfile.ZipFile(local_zip, 'r')\n",
        "zip_ref.extractall('/tmp/horse-or-human')\n",
        "local_zip = '/tmp/validation-horse-or-human.zip'\n",
        "zip_ref = zipfile.ZipFile(local_zip, 'r')\n",
        "zip_ref.extractall('/tmp/validation-horse-or-human')\n",
        "zip_ref.close()\n",
        "# Directory with our training horse pictures\n",
        "train_horse_dir = os.path.join('/tmp/horse-or-human/horses')\n",
        "\n",
        "# Directory with our training human pictures\n",
        "train_human_dir = os.path.join('/tmp/horse-or-human/humans')\n",
        "\n",
        "# Directory with our training horse pictures\n",
        "validation_horse_dir = os.path.join('/tmp/validation-horse-or-human/horses')\n",
        "\n",
        "# Directory with our training human pictures\n",
        "validation_human_dir = os.path.join('/tmp/validation-horse-or-human/humans')"
      ],
      "execution_count": 2,
      "outputs": [
        {
          "output_type": "stream",
          "text": [
            "--2020-10-31 23:38:43--  https://storage.googleapis.com/laurencemoroney-blog.appspot.com/horse-or-human.zip\n",
            "Resolving storage.googleapis.com (storage.googleapis.com)... 172.217.13.80, 172.217.9.208, 172.217.13.240, ...\n",
            "Connecting to storage.googleapis.com (storage.googleapis.com)|172.217.13.80|:443... connected.\n",
            "HTTP request sent, awaiting response... 200 OK\n",
            "Length: 149574867 (143M) [application/zip]\n",
            "Saving to: ‘/tmp/horse-or-human.zip’\n",
            "\n",
            "/tmp/horse-or-human 100%[===================>] 142.65M   262MB/s    in 0.5s    \n",
            "\n",
            "2020-10-31 23:38:44 (262 MB/s) - ‘/tmp/horse-or-human.zip’ saved [149574867/149574867]\n",
            "\n",
            "--2020-10-31 23:38:44--  https://storage.googleapis.com/laurencemoroney-blog.appspot.com/validation-horse-or-human.zip\n",
            "Resolving storage.googleapis.com (storage.googleapis.com)... 142.250.73.208, 172.253.63.128, 142.250.31.128, ...\n",
            "Connecting to storage.googleapis.com (storage.googleapis.com)|142.250.73.208|:443... connected.\n",
            "HTTP request sent, awaiting response... 200 OK\n",
            "Length: 11480187 (11M) [application/zip]\n",
            "Saving to: ‘/tmp/validation-horse-or-human.zip’\n",
            "\n",
            "/tmp/validation-hor 100%[===================>]  10.95M  --.-KB/s    in 0.1s    \n",
            "\n",
            "2020-10-31 23:38:44 (106 MB/s) - ‘/tmp/validation-horse-or-human.zip’ saved [11480187/11480187]\n",
            "\n"
          ],
          "name": "stdout"
        }
      ]
    },
    {
      "cell_type": "markdown",
      "metadata": {
        "id": "5oqBkNBJmtUv"
      },
      "source": [
        "## Building a Small Model from Scratch\n",
        "\n",
        "But before we continue, let's start defining the model:\n",
        "\n",
        "Step 1 will be to import tensorflow."
      ]
    },
    {
      "cell_type": "code",
      "metadata": {
        "id": "qvfZg3LQbD-5",
        "outputId": "721e912f-01a5-44bc-ecfa-d0efc503bae5",
        "colab": {
          "base_uri": "https://localhost:8080/",
          "height": 35
        }
      },
      "source": [
        "import tensorflow as tf\n",
        "tf.__version__"
      ],
      "execution_count": 4,
      "outputs": [
        {
          "output_type": "execute_result",
          "data": {
            "application/vnd.google.colaboratory.intrinsic+json": {
              "type": "string"
            },
            "text/plain": [
              "'2.3.0'"
            ]
          },
          "metadata": {
            "tags": []
          },
          "execution_count": 4
        }
      ]
    },
    {
      "cell_type": "markdown",
      "metadata": {
        "id": "BnhYCP4tdqjC"
      },
      "source": [
        "We then add convolutional layers as in the previous example, and flatten the final result to feed into the densely connected layers."
      ]
    },
    {
      "cell_type": "markdown",
      "metadata": {
        "id": "gokG5HKpdtzm"
      },
      "source": [
        "Finally we add the densely connected layers. \n",
        "\n",
        "Note that because we are facing a two-class classification problem, i.e. a *binary classification problem*, we will end our network with a [*sigmoid* activation](https://wikipedia.org/wiki/Sigmoid_function), so that the output of our network will be a single scalar between 0 and 1, encoding the probability that the current image is class 1 (as opposed to class 0)."
      ]
    },
    {
      "cell_type": "code",
      "metadata": {
        "id": "PixZ2s5QbYQ3"
      },
      "source": [
        "model = tf.keras.models.Sequential([\n",
        "    # Note the input shape is the desired size of the image 300x300 with 3 bytes color\n",
        "    # This is the first convolution\n",
        "    tf.keras.layers.Conv2D(16, (3,3), activation='relu', input_shape=(300, 300, 3)),\n",
        "    tf.keras.layers.MaxPooling2D(2, 2),\n",
        "    # The second convolution\n",
        "    tf.keras.layers.Conv2D(32, (3,3), activation='relu'),\n",
        "    tf.keras.layers.MaxPooling2D(2,2),\n",
        "    # The third convolution\n",
        "    tf.keras.layers.Conv2D(64, (3,3), activation='relu'),\n",
        "    tf.keras.layers.MaxPooling2D(2,2),\n",
        "    # The fourth convolution\n",
        "    tf.keras.layers.Conv2D(64, (3,3), activation='relu'),\n",
        "    tf.keras.layers.MaxPooling2D(2,2),\n",
        "    # The fifth convolution\n",
        "    tf.keras.layers.Conv2D(64, (3,3), activation='relu'),\n",
        "    tf.keras.layers.MaxPooling2D(2,2),\n",
        "    # Flatten the results to feed into a DNN\n",
        "    tf.keras.layers.Flatten(),\n",
        "    # 512 neuron hidden layer\n",
        "    tf.keras.layers.Dense(512, activation='relu'),\n",
        "    # Only 1 output neuron. It will contain a value from 0-1 where 0 for 1 class ('horses') and 1 for the other ('humans')\n",
        "    tf.keras.layers.Dense(1, activation='sigmoid')\n",
        "])"
      ],
      "execution_count": 5,
      "outputs": []
    },
    {
      "cell_type": "code",
      "metadata": {
        "id": "8DHWhFP_uhq3"
      },
      "source": [
        "from tensorflow.keras.optimizers import RMSprop\n",
        "\n",
        "model.compile(loss='binary_crossentropy',\n",
        "              optimizer=RMSprop(lr=1e-4),\n",
        "              metrics=['accuracy'])"
      ],
      "execution_count": 7,
      "outputs": []
    },
    {
      "cell_type": "code",
      "metadata": {
        "id": "ClebU9NJg99G",
        "outputId": "2def1bc1-b8ea-4391-e924-b9481219d0b1",
        "colab": {
          "base_uri": "https://localhost:8080/"
        }
      },
      "source": [
        "from tensorflow.keras.preprocessing.image import ImageDataGenerator\n",
        "\n",
        "# All images will be rescaled by 1./255\n",
        "train_datagen = ImageDataGenerator(rescale=1./255)\n",
        "\n",
        "validation_datagen = ImageDataGenerator(rescale=1/255)\n",
        "\n",
        "# Flow training images in batches of 128 using train_datagen generator\n",
        "train_generator = train_datagen.flow_from_directory(\n",
        "        '/tmp/horse-or-human/',  # This is the source directory for training images\n",
        "        target_size=(300, 300),  # All images will be resized to 150x150\n",
        "        batch_size=128,\n",
        "        # Since we use binary_crossentropy loss, we need binary labels\n",
        "        class_mode='binary')\n",
        "\n",
        "# Flow training images in batches of 128 using train_datagen generator\n",
        "validation_generator = validation_datagen.flow_from_directory(\n",
        "        '/tmp/validation-horse-or-human/',  # This is the source directory for training images\n",
        "        target_size=(300, 300),  # All images will be resized to 150x150\n",
        "        batch_size=32,\n",
        "        # Since we use binary_crossentropy loss, we need binary labels\n",
        "        class_mode='binary')"
      ],
      "execution_count": 8,
      "outputs": [
        {
          "output_type": "stream",
          "text": [
            "Found 1027 images belonging to 2 classes.\n",
            "Found 256 images belonging to 2 classes.\n"
          ],
          "name": "stdout"
        }
      ]
    },
    {
      "cell_type": "code",
      "metadata": {
        "id": "Fb1_lgobv81m",
        "outputId": "bfd9918b-91d2-464e-aa8b-f068730e2467",
        "colab": {
          "base_uri": "https://localhost:8080/"
        }
      },
      "source": [
        "history = model.fit(\n",
        "      train_generator,\n",
        "      steps_per_epoch=8,  \n",
        "      epochs=100,\n",
        "      verbose=1,\n",
        "      validation_data = validation_generator,\n",
        "      validation_steps=8)"
      ],
      "execution_count": 9,
      "outputs": [
        {
          "output_type": "stream",
          "text": [
            "Epoch 1/100\n",
            "2/8 [======>.......................] - ETA: 0s - loss: 0.6880 - accuracy: 0.5039WARNING:tensorflow:Callbacks method `on_train_batch_end` is slow compared to the batch time (batch time: 0.0644s vs `on_train_batch_end` time: 0.1188s). Check your callbacks.\n",
            "8/8 [==============================] - 7s 830ms/step - loss: 0.6741 - accuracy: 0.6652 - val_loss: 0.5949 - val_accuracy: 0.7852\n",
            "Epoch 2/100\n",
            "8/8 [==============================] - 8s 962ms/step - loss: 0.5872 - accuracy: 0.8187 - val_loss: 0.5555 - val_accuracy: 0.6562\n",
            "Epoch 3/100\n",
            "8/8 [==============================] - 7s 865ms/step - loss: 0.4583 - accuracy: 0.8354 - val_loss: 0.3594 - val_accuracy: 0.8750\n",
            "Epoch 4/100\n",
            "8/8 [==============================] - 7s 866ms/step - loss: 0.3337 - accuracy: 0.9099 - val_loss: 0.5915 - val_accuracy: 0.8047\n",
            "Epoch 5/100\n",
            "8/8 [==============================] - 8s 966ms/step - loss: 0.2623 - accuracy: 0.9121 - val_loss: 0.5571 - val_accuracy: 0.8320\n",
            "Epoch 6/100\n",
            "8/8 [==============================] - 7s 872ms/step - loss: 0.2255 - accuracy: 0.9255 - val_loss: 0.6539 - val_accuracy: 0.8320\n",
            "Epoch 7/100\n",
            "8/8 [==============================] - 7s 876ms/step - loss: 0.2377 - accuracy: 0.8999 - val_loss: 0.5886 - val_accuracy: 0.8633\n",
            "Epoch 8/100\n",
            "8/8 [==============================] - 7s 926ms/step - loss: 0.1686 - accuracy: 0.9443 - val_loss: 0.6987 - val_accuracy: 0.8516\n",
            "Epoch 9/100\n",
            "8/8 [==============================] - 8s 962ms/step - loss: 0.1581 - accuracy: 0.9422 - val_loss: 0.9200 - val_accuracy: 0.8281\n",
            "Epoch 10/100\n",
            "8/8 [==============================] - 7s 869ms/step - loss: 0.1450 - accuracy: 0.9477 - val_loss: 0.9352 - val_accuracy: 0.8320\n",
            "Epoch 11/100\n",
            "8/8 [==============================] - 7s 862ms/step - loss: 0.1481 - accuracy: 0.9455 - val_loss: 0.6268 - val_accuracy: 0.8906\n",
            "Epoch 12/100\n",
            "8/8 [==============================] - 7s 885ms/step - loss: 0.1722 - accuracy: 0.9288 - val_loss: 0.7914 - val_accuracy: 0.8359\n",
            "Epoch 13/100\n",
            "8/8 [==============================] - 8s 966ms/step - loss: 0.1203 - accuracy: 0.9588 - val_loss: 0.8763 - val_accuracy: 0.8359\n",
            "Epoch 14/100\n",
            "8/8 [==============================] - 7s 860ms/step - loss: 0.1234 - accuracy: 0.9544 - val_loss: 0.8021 - val_accuracy: 0.8594\n",
            "Epoch 15/100\n",
            "8/8 [==============================] - 7s 909ms/step - loss: 0.1181 - accuracy: 0.9600 - val_loss: 0.6397 - val_accuracy: 0.8867\n",
            "Epoch 16/100\n",
            "8/8 [==============================] - 8s 962ms/step - loss: 0.1030 - accuracy: 0.9600 - val_loss: 0.8119 - val_accuracy: 0.8711\n",
            "Epoch 17/100\n",
            "8/8 [==============================] - 7s 850ms/step - loss: 0.0886 - accuracy: 0.9689 - val_loss: 0.9757 - val_accuracy: 0.8359\n",
            "Epoch 18/100\n",
            "8/8 [==============================] - 7s 902ms/step - loss: 0.0821 - accuracy: 0.9688 - val_loss: 0.7307 - val_accuracy: 0.8867\n",
            "Epoch 19/100\n",
            "8/8 [==============================] - 7s 840ms/step - loss: 0.1185 - accuracy: 0.9577 - val_loss: 1.7791 - val_accuracy: 0.7773\n",
            "Epoch 20/100\n",
            "8/8 [==============================] - 7s 846ms/step - loss: 0.1043 - accuracy: 0.9689 - val_loss: 0.9631 - val_accuracy: 0.8555\n",
            "Epoch 21/100\n",
            "8/8 [==============================] - 7s 844ms/step - loss: 0.0817 - accuracy: 0.9689 - val_loss: 0.9586 - val_accuracy: 0.8477\n",
            "Epoch 22/100\n",
            "8/8 [==============================] - 7s 838ms/step - loss: 0.0668 - accuracy: 0.9755 - val_loss: 1.2126 - val_accuracy: 0.8320\n",
            "Epoch 23/100\n",
            "8/8 [==============================] - 7s 852ms/step - loss: 0.0615 - accuracy: 0.9766 - val_loss: 1.2114 - val_accuracy: 0.8320\n",
            "Epoch 24/100\n",
            "8/8 [==============================] - 7s 842ms/step - loss: 0.1792 - accuracy: 0.9444 - val_loss: 0.9456 - val_accuracy: 0.8555\n",
            "Epoch 25/100\n",
            "8/8 [==============================] - 7s 837ms/step - loss: 0.0542 - accuracy: 0.9833 - val_loss: 1.0158 - val_accuracy: 0.8516\n",
            "Epoch 26/100\n",
            "8/8 [==============================] - 7s 832ms/step - loss: 0.0521 - accuracy: 0.9855 - val_loss: 1.0701 - val_accuracy: 0.8477\n",
            "Epoch 27/100\n",
            "8/8 [==============================] - 7s 831ms/step - loss: 0.0481 - accuracy: 0.9855 - val_loss: 1.1924 - val_accuracy: 0.8359\n",
            "Epoch 28/100\n",
            "8/8 [==============================] - 7s 832ms/step - loss: 0.0440 - accuracy: 0.9844 - val_loss: 1.1022 - val_accuracy: 0.8555\n",
            "Epoch 29/100\n",
            "8/8 [==============================] - 7s 828ms/step - loss: 0.0714 - accuracy: 0.9744 - val_loss: 1.1709 - val_accuracy: 0.8359\n",
            "Epoch 30/100\n",
            "8/8 [==============================] - 7s 817ms/step - loss: 0.0473 - accuracy: 0.9811 - val_loss: 2.1499 - val_accuracy: 0.7617\n",
            "Epoch 31/100\n",
            "8/8 [==============================] - 7s 830ms/step - loss: 0.0996 - accuracy: 0.9633 - val_loss: 1.3045 - val_accuracy: 0.8359\n",
            "Epoch 32/100\n",
            "8/8 [==============================] - 7s 824ms/step - loss: 0.0399 - accuracy: 0.9900 - val_loss: 1.4262 - val_accuracy: 0.8359\n",
            "Epoch 33/100\n",
            "8/8 [==============================] - 7s 816ms/step - loss: 0.0468 - accuracy: 0.9833 - val_loss: 1.3152 - val_accuracy: 0.8359\n",
            "Epoch 34/100\n",
            "8/8 [==============================] - 7s 820ms/step - loss: 0.0401 - accuracy: 0.9889 - val_loss: 1.4911 - val_accuracy: 0.8281\n",
            "Epoch 35/100\n",
            "8/8 [==============================] - 7s 858ms/step - loss: 0.0308 - accuracy: 0.9912 - val_loss: 1.3619 - val_accuracy: 0.8398\n",
            "Epoch 36/100\n",
            "8/8 [==============================] - 7s 898ms/step - loss: 0.0543 - accuracy: 0.9833 - val_loss: 1.0621 - val_accuracy: 0.8555\n",
            "Epoch 37/100\n",
            "8/8 [==============================] - 7s 818ms/step - loss: 0.0299 - accuracy: 0.9889 - val_loss: 1.3047 - val_accuracy: 0.8477\n",
            "Epoch 38/100\n",
            "8/8 [==============================] - 7s 815ms/step - loss: 0.0284 - accuracy: 0.9933 - val_loss: 1.1707 - val_accuracy: 0.8711\n",
            "Epoch 39/100\n",
            "8/8 [==============================] - 7s 896ms/step - loss: 0.0291 - accuracy: 0.9889 - val_loss: 1.2343 - val_accuracy: 0.8555\n",
            "Epoch 40/100\n",
            "8/8 [==============================] - 7s 816ms/step - loss: 0.0202 - accuracy: 0.9911 - val_loss: 1.4385 - val_accuracy: 0.8516\n",
            "Epoch 41/100\n",
            "8/8 [==============================] - 7s 817ms/step - loss: 0.0283 - accuracy: 0.9878 - val_loss: 1.5285 - val_accuracy: 0.8398\n",
            "Epoch 42/100\n",
            "8/8 [==============================] - 7s 903ms/step - loss: 0.0229 - accuracy: 0.9911 - val_loss: 1.4791 - val_accuracy: 0.8398\n",
            "Epoch 43/100\n",
            "8/8 [==============================] - 7s 900ms/step - loss: 0.0174 - accuracy: 0.9933 - val_loss: 1.6070 - val_accuracy: 0.8477\n",
            "Epoch 44/100\n",
            "8/8 [==============================] - 6s 812ms/step - loss: 0.0121 - accuracy: 0.9967 - val_loss: 1.0538 - val_accuracy: 0.9062\n",
            "Epoch 45/100\n",
            "8/8 [==============================] - 7s 819ms/step - loss: 0.1385 - accuracy: 0.9666 - val_loss: 1.6876 - val_accuracy: 0.8359\n",
            "Epoch 46/100\n",
            "8/8 [==============================] - 6s 806ms/step - loss: 0.0107 - accuracy: 0.9989 - val_loss: 1.5583 - val_accuracy: 0.8477\n",
            "Epoch 47/100\n",
            "8/8 [==============================] - 6s 800ms/step - loss: 0.0097 - accuracy: 0.9989 - val_loss: 1.6079 - val_accuracy: 0.8477\n",
            "Epoch 48/100\n",
            "8/8 [==============================] - 6s 799ms/step - loss: 0.0096 - accuracy: 0.9978 - val_loss: 1.6158 - val_accuracy: 0.8477\n",
            "Epoch 49/100\n",
            "8/8 [==============================] - 6s 786ms/step - loss: 0.0092 - accuracy: 1.0000 - val_loss: 2.4499 - val_accuracy: 0.7930\n",
            "Epoch 50/100\n",
            "8/8 [==============================] - 7s 861ms/step - loss: 0.0315 - accuracy: 0.9863 - val_loss: 1.7312 - val_accuracy: 0.8398\n",
            "Epoch 51/100\n",
            "8/8 [==============================] - 6s 809ms/step - loss: 0.0063 - accuracy: 1.0000 - val_loss: 1.7801 - val_accuracy: 0.8398\n",
            "Epoch 52/100\n",
            "8/8 [==============================] - 6s 805ms/step - loss: 0.0062 - accuracy: 1.0000 - val_loss: 1.1188 - val_accuracy: 0.8945\n",
            "Epoch 53/100\n",
            "8/8 [==============================] - 7s 822ms/step - loss: 0.1365 - accuracy: 0.9566 - val_loss: 1.8322 - val_accuracy: 0.8359\n",
            "Epoch 54/100\n",
            "8/8 [==============================] - 7s 825ms/step - loss: 0.0077 - accuracy: 0.9989 - val_loss: 1.6952 - val_accuracy: 0.8398\n",
            "Epoch 55/100\n",
            "8/8 [==============================] - 7s 869ms/step - loss: 0.0060 - accuracy: 1.0000 - val_loss: 1.7508 - val_accuracy: 0.8438\n",
            "Epoch 56/100\n",
            "8/8 [==============================] - 6s 808ms/step - loss: 0.0051 - accuracy: 1.0000 - val_loss: 1.8816 - val_accuracy: 0.8398\n",
            "Epoch 57/100\n",
            "8/8 [==============================] - 7s 900ms/step - loss: 0.0051 - accuracy: 1.0000 - val_loss: 1.8487 - val_accuracy: 0.8477\n",
            "Epoch 58/100\n",
            "8/8 [==============================] - 7s 854ms/step - loss: 0.0041 - accuracy: 1.0000 - val_loss: 1.9013 - val_accuracy: 0.8477\n",
            "Epoch 59/100\n",
            "8/8 [==============================] - 6s 801ms/step - loss: 0.0032 - accuracy: 1.0000 - val_loss: 2.1492 - val_accuracy: 0.8359\n",
            "Epoch 60/100\n",
            "8/8 [==============================] - 7s 894ms/step - loss: 0.0631 - accuracy: 0.9789 - val_loss: 1.6816 - val_accuracy: 0.8359\n",
            "Epoch 61/100\n",
            "8/8 [==============================] - 6s 805ms/step - loss: 0.0055 - accuracy: 0.9989 - val_loss: 1.6315 - val_accuracy: 0.8516\n",
            "Epoch 62/100\n",
            "8/8 [==============================] - 7s 898ms/step - loss: 0.0046 - accuracy: 1.0000 - val_loss: 1.6658 - val_accuracy: 0.8555\n",
            "Epoch 63/100\n",
            "8/8 [==============================] - 7s 846ms/step - loss: 0.0032 - accuracy: 1.0000 - val_loss: 1.8676 - val_accuracy: 0.8477\n",
            "Epoch 64/100\n",
            "8/8 [==============================] - 7s 814ms/step - loss: 0.0029 - accuracy: 1.0000 - val_loss: 1.9664 - val_accuracy: 0.8477\n",
            "Epoch 65/100\n",
            "8/8 [==============================] - 6s 805ms/step - loss: 0.1882 - accuracy: 0.9633 - val_loss: 2.3590 - val_accuracy: 0.8281\n",
            "Epoch 66/100\n",
            "8/8 [==============================] - 7s 819ms/step - loss: 0.0055 - accuracy: 0.9989 - val_loss: 2.1605 - val_accuracy: 0.8359\n",
            "Epoch 67/100\n",
            "8/8 [==============================] - 6s 797ms/step - loss: 0.0037 - accuracy: 1.0000 - val_loss: 2.0761 - val_accuracy: 0.8398\n",
            "Epoch 68/100\n",
            "8/8 [==============================] - 6s 799ms/step - loss: 0.0030 - accuracy: 1.0000 - val_loss: 2.0278 - val_accuracy: 0.8398\n",
            "Epoch 69/100\n",
            "8/8 [==============================] - 6s 797ms/step - loss: 0.0025 - accuracy: 1.0000 - val_loss: 1.9819 - val_accuracy: 0.8398\n",
            "Epoch 70/100\n",
            "8/8 [==============================] - 7s 883ms/step - loss: 0.0022 - accuracy: 1.0000 - val_loss: 2.0937 - val_accuracy: 0.8398\n",
            "Epoch 71/100\n",
            "8/8 [==============================] - 6s 803ms/step - loss: 0.0021 - accuracy: 1.0000 - val_loss: 2.0413 - val_accuracy: 0.8398\n",
            "Epoch 72/100\n",
            "8/8 [==============================] - 7s 849ms/step - loss: 0.0017 - accuracy: 1.0000 - val_loss: 2.1314 - val_accuracy: 0.8398\n",
            "Epoch 73/100\n",
            "8/8 [==============================] - 6s 798ms/step - loss: 0.0018 - accuracy: 1.0000 - val_loss: 2.1788 - val_accuracy: 0.8398\n",
            "Epoch 74/100\n",
            "8/8 [==============================] - 6s 802ms/step - loss: 0.0023 - accuracy: 1.0000 - val_loss: 2.0631 - val_accuracy: 0.8477\n",
            "Epoch 75/100\n",
            "8/8 [==============================] - 6s 804ms/step - loss: 0.0242 - accuracy: 0.9933 - val_loss: 1.8862 - val_accuracy: 0.8438\n",
            "Epoch 76/100\n",
            "8/8 [==============================] - 6s 796ms/step - loss: 0.0015 - accuracy: 1.0000 - val_loss: 2.0323 - val_accuracy: 0.8398\n",
            "Epoch 77/100\n",
            "8/8 [==============================] - 6s 812ms/step - loss: 0.0012 - accuracy: 1.0000 - val_loss: 2.0998 - val_accuracy: 0.8477\n",
            "Epoch 78/100\n",
            "8/8 [==============================] - 6s 804ms/step - loss: 9.9857e-04 - accuracy: 1.0000 - val_loss: 2.2381 - val_accuracy: 0.8477\n",
            "Epoch 79/100\n",
            "8/8 [==============================] - 6s 802ms/step - loss: 7.0322e-04 - accuracy: 1.0000 - val_loss: 2.1139 - val_accuracy: 0.8516\n",
            "Epoch 80/100\n",
            "8/8 [==============================] - 6s 801ms/step - loss: 0.0210 - accuracy: 0.9922 - val_loss: 2.0247 - val_accuracy: 0.8398\n",
            "Epoch 81/100\n",
            "8/8 [==============================] - 7s 894ms/step - loss: 0.0010 - accuracy: 1.0000 - val_loss: 2.0345 - val_accuracy: 0.8477\n",
            "Epoch 82/100\n",
            "8/8 [==============================] - 6s 804ms/step - loss: 0.0010 - accuracy: 1.0000 - val_loss: 2.0886 - val_accuracy: 0.8477\n",
            "Epoch 83/100\n",
            "8/8 [==============================] - 6s 799ms/step - loss: 7.5935e-04 - accuracy: 1.0000 - val_loss: 2.1578 - val_accuracy: 0.8516\n",
            "Epoch 84/100\n",
            "8/8 [==============================] - 7s 893ms/step - loss: 6.1227e-04 - accuracy: 1.0000 - val_loss: 2.3912 - val_accuracy: 0.8438\n",
            "Epoch 85/100\n",
            "8/8 [==============================] - 6s 799ms/step - loss: 5.0552e-04 - accuracy: 1.0000 - val_loss: 2.4225 - val_accuracy: 0.8477\n",
            "Epoch 86/100\n",
            "8/8 [==============================] - 6s 797ms/step - loss: 0.0203 - accuracy: 0.9889 - val_loss: 2.0276 - val_accuracy: 0.8438\n",
            "Epoch 87/100\n",
            "8/8 [==============================] - 6s 796ms/step - loss: 0.0014 - accuracy: 1.0000 - val_loss: 1.9756 - val_accuracy: 0.8555\n",
            "Epoch 88/100\n",
            "8/8 [==============================] - 6s 807ms/step - loss: 5.8115e-04 - accuracy: 1.0000 - val_loss: 2.0838 - val_accuracy: 0.8555\n",
            "Epoch 89/100\n",
            "8/8 [==============================] - 6s 811ms/step - loss: 5.2455e-04 - accuracy: 1.0000 - val_loss: 2.1253 - val_accuracy: 0.8555\n",
            "Epoch 90/100\n",
            "8/8 [==============================] - 6s 794ms/step - loss: 4.4129e-04 - accuracy: 1.0000 - val_loss: 2.2644 - val_accuracy: 0.8516\n",
            "Epoch 91/100\n",
            "8/8 [==============================] - 6s 796ms/step - loss: 3.7213e-04 - accuracy: 1.0000 - val_loss: 2.4047 - val_accuracy: 0.8477\n",
            "Epoch 92/100\n",
            "8/8 [==============================] - 6s 800ms/step - loss: 3.2216e-04 - accuracy: 1.0000 - val_loss: 2.6189 - val_accuracy: 0.8398\n",
            "Epoch 93/100\n",
            "8/8 [==============================] - 6s 811ms/step - loss: 0.0044 - accuracy: 0.9989 - val_loss: 2.1988 - val_accuracy: 0.8516\n",
            "Epoch 94/100\n",
            "8/8 [==============================] - 6s 794ms/step - loss: 2.6786e-04 - accuracy: 1.0000 - val_loss: 2.3243 - val_accuracy: 0.8516\n",
            "Epoch 95/100\n",
            "8/8 [==============================] - 6s 785ms/step - loss: 2.3090e-04 - accuracy: 1.0000 - val_loss: 2.4994 - val_accuracy: 0.8477\n",
            "Epoch 96/100\n",
            "8/8 [==============================] - 6s 812ms/step - loss: 2.2085e-04 - accuracy: 1.0000 - val_loss: 2.5392 - val_accuracy: 0.8477\n",
            "Epoch 97/100\n",
            "8/8 [==============================] - 7s 818ms/step - loss: 0.0034 - accuracy: 0.9989 - val_loss: 3.9037 - val_accuracy: 0.7422\n",
            "Epoch 98/100\n",
            "8/8 [==============================] - 6s 789ms/step - loss: 0.0065 - accuracy: 0.9967 - val_loss: 2.2577 - val_accuracy: 0.8555\n",
            "Epoch 99/100\n",
            "8/8 [==============================] - 6s 792ms/step - loss: 2.8792e-04 - accuracy: 1.0000 - val_loss: 2.3554 - val_accuracy: 0.8516\n",
            "Epoch 100/100\n",
            "8/8 [==============================] - 6s 798ms/step - loss: 1.8321e-04 - accuracy: 1.0000 - val_loss: 2.4119 - val_accuracy: 0.8516\n"
          ],
          "name": "stdout"
        }
      ]
    },
    {
      "cell_type": "code",
      "metadata": {
        "id": "7zNPRWOVJdOH",
        "outputId": "6985f0d1-4a91-4954-d324-7a7be7482f48",
        "colab": {
          "base_uri": "https://localhost:8080/",
          "height": 545
        }
      },
      "source": [
        "import matplotlib.pyplot as plt\n",
        "acc = history.history['accuracy']\n",
        "val_acc = history.history['val_accuracy']\n",
        "loss = history.history['loss']\n",
        "val_loss = history.history['val_loss']\n",
        "\n",
        "epochs = range(len(acc))\n",
        "\n",
        "plt.plot(epochs, acc, 'r', label='Training accuracy')\n",
        "plt.plot(epochs, val_acc, 'b', label='Validation accuracy')\n",
        "plt.title('Training and validation accuracy')\n",
        "\n",
        "plt.figure()\n",
        "\n",
        "plt.plot(epochs, loss, 'r', label='Training Loss')\n",
        "plt.plot(epochs, val_loss, 'b', label='Validation Loss')\n",
        "plt.title('Training and validation loss')\n",
        "plt.legend()\n",
        "\n",
        "plt.show()"
      ],
      "execution_count": 10,
      "outputs": [
        {
          "output_type": "display_data",
          "data": {
            "image/png": "[encoded data removed]",
            "text/plain": [
              "<Figure size 432x288 with 1 Axes>"
            ]
          },
          "metadata": {
            "tags": [],
            "needs_background": "light"
          }
        },
        {
          "output_type": "display_data",
          "data": {
            "image/png": "[encoded data removed]",
            "text/plain": [
              "<Figure size 432x288 with 1 Axes>"
            ]
          },
          "metadata": {
            "tags": [],
            "needs_background": "light"
          }
        }
      ]
    },
    {
      "cell_type": "code",
      "metadata": {
        "id": "wc9JEuLWDs7g",
        "outputId": "2e4b3ad4-a5c3-475b-db43-66b65830d363",
        "colab": {
          "base_uri": "https://localhost:8080/"
        }
      },
      "source": [
        "# Image augmentation\n",
        "train_datagen = ImageDataGenerator(\n",
        "      rescale=1./255,\n",
        "      rotation_range=40,\n",
        "      width_shift_range=0.2,\n",
        "      height_shift_range=0.2,\n",
        "      shear_range=0.2,\n",
        "      zoom_range=0.2,\n",
        "      horizontal_flip=True,\n",
        "      fill_mode='nearest')\n",
        "\n",
        "# Flow training images in batches of 128 using train_datagen generator\n",
        "train_generator = train_datagen.flow_from_directory(\n",
        "        '/tmp/horse-or-human/',  # This is the source directory for training images\n",
        "        target_size=(300, 300),  # All images will be resized to 150x150\n",
        "        batch_size=128,\n",
        "        # Since we use binary_crossentropy loss, we need binary labels\n",
        "        class_mode='binary')\n",
        "\n",
        "history = model.fit(\n",
        "      train_generator,\n",
        "      steps_per_epoch=8,  \n",
        "      epochs=100,\n",
        "      verbose=1,\n",
        "      validation_data = validation_generator,\n",
        "      validation_steps=8)"
      ],
      "execution_count": 12,
      "outputs": [
        {
          "output_type": "stream",
          "text": [
            "Found 1027 images belonging to 2 classes.\n",
            "Epoch 1/100\n",
            "8/8 [==============================] - 19s 2s/step - loss: 1.1871 - accuracy: 0.7631 - val_loss: 1.8228 - val_accuracy: 0.7383\n",
            "Epoch 2/100\n",
            "8/8 [==============================] - 19s 2s/step - loss: 0.5682 - accuracy: 0.7931 - val_loss: 1.6120 - val_accuracy: 0.6758\n",
            "Epoch 3/100\n",
            "8/8 [==============================] - 19s 2s/step - loss: 0.5063 - accuracy: 0.7709 - val_loss: 1.0125 - val_accuracy: 0.7031\n",
            "Epoch 4/100\n",
            "8/8 [==============================] - 21s 3s/step - loss: 0.4752 - accuracy: 0.7842 - val_loss: 1.1629 - val_accuracy: 0.6250\n",
            "Epoch 5/100\n",
            "8/8 [==============================] - 19s 2s/step - loss: 0.4188 - accuracy: 0.8142 - val_loss: 1.1313 - val_accuracy: 0.6562\n",
            "Epoch 6/100\n",
            "8/8 [==============================] - 18s 2s/step - loss: 0.3980 - accuracy: 0.7987 - val_loss: 1.2225 - val_accuracy: 0.7305\n",
            "Epoch 7/100\n",
            "8/8 [==============================] - 18s 2s/step - loss: 0.3649 - accuracy: 0.8331 - val_loss: 1.3124 - val_accuracy: 0.7148\n",
            "Epoch 8/100\n",
            "8/8 [==============================] - 21s 3s/step - loss: 0.2896 - accuracy: 0.8770 - val_loss: 1.9575 - val_accuracy: 0.6211\n",
            "Epoch 9/100\n",
            "8/8 [==============================] - 18s 2s/step - loss: 0.3300 - accuracy: 0.8598 - val_loss: 2.0392 - val_accuracy: 0.6602\n",
            "Epoch 10/100\n",
            "8/8 [==============================] - 21s 3s/step - loss: 0.2659 - accuracy: 0.8899 - val_loss: 1.7164 - val_accuracy: 0.6836\n",
            "Epoch 11/100\n",
            "8/8 [==============================] - 18s 2s/step - loss: 0.2799 - accuracy: 0.8810 - val_loss: 1.9789 - val_accuracy: 0.6680\n",
            "Epoch 12/100\n",
            "8/8 [==============================] - 18s 2s/step - loss: 0.2848 - accuracy: 0.8665 - val_loss: 1.8789 - val_accuracy: 0.6758\n",
            "Epoch 13/100\n",
            "8/8 [==============================] - 18s 2s/step - loss: 0.2320 - accuracy: 0.9110 - val_loss: 0.6059 - val_accuracy: 0.8594\n",
            "Epoch 14/100\n",
            "8/8 [==============================] - 18s 2s/step - loss: 0.2393 - accuracy: 0.9110 - val_loss: 1.6606 - val_accuracy: 0.6953\n",
            "Epoch 15/100\n",
            "8/8 [==============================] - 18s 2s/step - loss: 0.2080 - accuracy: 0.9121 - val_loss: 1.7194 - val_accuracy: 0.6953\n",
            "Epoch 16/100\n",
            "8/8 [==============================] - 18s 2s/step - loss: 0.2316 - accuracy: 0.9021 - val_loss: 1.6130 - val_accuracy: 0.7109\n",
            "Epoch 17/100\n",
            "8/8 [==============================] - 18s 2s/step - loss: 0.1856 - accuracy: 0.9277 - val_loss: 1.7777 - val_accuracy: 0.6992\n",
            "Epoch 18/100\n",
            "8/8 [==============================] - 19s 2s/step - loss: 0.2259 - accuracy: 0.9155 - val_loss: 1.4714 - val_accuracy: 0.7266\n",
            "Epoch 19/100\n",
            "8/8 [==============================] - 19s 2s/step - loss: 0.1854 - accuracy: 0.9232 - val_loss: 1.4532 - val_accuracy: 0.7383\n",
            "Epoch 20/100\n",
            "8/8 [==============================] - 19s 2s/step - loss: 0.1817 - accuracy: 0.9310 - val_loss: 1.3955 - val_accuracy: 0.7344\n",
            "Epoch 21/100\n",
            "8/8 [==============================] - 21s 3s/step - loss: 0.1970 - accuracy: 0.9219 - val_loss: 1.5232 - val_accuracy: 0.7266\n",
            "Epoch 22/100\n",
            "8/8 [==============================] - 19s 2s/step - loss: 0.2053 - accuracy: 0.9210 - val_loss: 1.0232 - val_accuracy: 0.7812\n",
            "Epoch 23/100\n",
            "8/8 [==============================] - 21s 3s/step - loss: 0.1649 - accuracy: 0.9307 - val_loss: 1.5629 - val_accuracy: 0.7188\n",
            "Epoch 24/100\n",
            "8/8 [==============================] - 19s 2s/step - loss: 0.2046 - accuracy: 0.9210 - val_loss: 2.9359 - val_accuracy: 0.5938\n",
            "Epoch 25/100\n",
            "8/8 [==============================] - 18s 2s/step - loss: 0.1904 - accuracy: 0.9266 - val_loss: 1.7211 - val_accuracy: 0.7070\n",
            "Epoch 26/100\n",
            "8/8 [==============================] - 18s 2s/step - loss: 0.1834 - accuracy: 0.9244 - val_loss: 1.4569 - val_accuracy: 0.7383\n",
            "Epoch 27/100\n",
            "8/8 [==============================] - 18s 2s/step - loss: 0.2021 - accuracy: 0.9143 - val_loss: 1.3517 - val_accuracy: 0.7578\n",
            "Epoch 28/100\n",
            "8/8 [==============================] - 18s 2s/step - loss: 0.2045 - accuracy: 0.9121 - val_loss: 1.6037 - val_accuracy: 0.7227\n",
            "Epoch 29/100\n",
            "8/8 [==============================] - 21s 3s/step - loss: 0.1651 - accuracy: 0.9385 - val_loss: 2.0541 - val_accuracy: 0.6953\n",
            "Epoch 30/100\n",
            "8/8 [==============================] - 21s 3s/step - loss: 0.1566 - accuracy: 0.9422 - val_loss: 1.9301 - val_accuracy: 0.6953\n",
            "Epoch 31/100\n",
            "8/8 [==============================] - 18s 2s/step - loss: 0.1351 - accuracy: 0.9488 - val_loss: 2.9407 - val_accuracy: 0.6406\n",
            "Epoch 32/100\n",
            "8/8 [==============================] - 18s 2s/step - loss: 0.1851 - accuracy: 0.9310 - val_loss: 2.0678 - val_accuracy: 0.7266\n",
            "Epoch 33/100\n",
            "8/8 [==============================] - 21s 3s/step - loss: 0.1393 - accuracy: 0.9463 - val_loss: 2.5751 - val_accuracy: 0.6562\n",
            "Epoch 34/100\n",
            "8/8 [==============================] - 21s 3s/step - loss: 0.1427 - accuracy: 0.9410 - val_loss: 0.8773 - val_accuracy: 0.8516\n",
            "Epoch 35/100\n",
            "8/8 [==============================] - 21s 3s/step - loss: 0.1443 - accuracy: 0.9443 - val_loss: 2.8968 - val_accuracy: 0.6406\n",
            "Epoch 36/100\n",
            "8/8 [==============================] - 21s 3s/step - loss: 0.1479 - accuracy: 0.9424 - val_loss: 2.3908 - val_accuracy: 0.6875\n",
            "Epoch 37/100\n",
            "8/8 [==============================] - 18s 2s/step - loss: 0.3167 - accuracy: 0.9143 - val_loss: 1.3547 - val_accuracy: 0.7539\n",
            "Epoch 38/100\n",
            "8/8 [==============================] - 18s 2s/step - loss: 0.1392 - accuracy: 0.9522 - val_loss: 1.5254 - val_accuracy: 0.7305\n",
            "Epoch 39/100\n",
            "8/8 [==============================] - 18s 2s/step - loss: 0.1207 - accuracy: 0.9533 - val_loss: 2.0566 - val_accuracy: 0.7109\n",
            "Epoch 40/100\n",
            "8/8 [==============================] - 18s 2s/step - loss: 0.1003 - accuracy: 0.9677 - val_loss: 2.0708 - val_accuracy: 0.7109\n",
            "Epoch 41/100\n",
            "8/8 [==============================] - 18s 2s/step - loss: 0.1157 - accuracy: 0.9588 - val_loss: 1.8277 - val_accuracy: 0.6992\n",
            "Epoch 42/100\n",
            "8/8 [==============================] - 21s 3s/step - loss: 0.1208 - accuracy: 0.9570 - val_loss: 2.4207 - val_accuracy: 0.6602\n",
            "Epoch 43/100\n",
            "8/8 [==============================] - 21s 3s/step - loss: 0.1079 - accuracy: 0.9619 - val_loss: 2.3114 - val_accuracy: 0.6953\n",
            "Epoch 44/100\n",
            "8/8 [==============================] - 19s 2s/step - loss: 0.1670 - accuracy: 0.9266 - val_loss: 1.9726 - val_accuracy: 0.7227\n",
            "Epoch 45/100\n",
            "8/8 [==============================] - 21s 3s/step - loss: 0.1507 - accuracy: 0.9366 - val_loss: 2.2367 - val_accuracy: 0.6992\n",
            "Epoch 46/100\n",
            "8/8 [==============================] - 18s 2s/step - loss: 0.1085 - accuracy: 0.9588 - val_loss: 2.2389 - val_accuracy: 0.6914\n",
            "Epoch 47/100\n",
            "8/8 [==============================] - 21s 3s/step - loss: 0.1133 - accuracy: 0.9566 - val_loss: 3.4153 - val_accuracy: 0.6094\n",
            "Epoch 48/100\n",
            "8/8 [==============================] - 21s 3s/step - loss: 0.1536 - accuracy: 0.9444 - val_loss: 2.6553 - val_accuracy: 0.6602\n",
            "Epoch 49/100\n",
            "8/8 [==============================] - 18s 2s/step - loss: 0.1258 - accuracy: 0.9577 - val_loss: 4.6729 - val_accuracy: 0.5469\n",
            "Epoch 50/100\n",
            "8/8 [==============================] - 18s 2s/step - loss: 0.1751 - accuracy: 0.9355 - val_loss: 2.1860 - val_accuracy: 0.6953\n",
            "Epoch 51/100\n",
            "8/8 [==============================] - 18s 2s/step - loss: 0.1060 - accuracy: 0.9633 - val_loss: 2.4892 - val_accuracy: 0.6758\n",
            "Epoch 52/100\n",
            "8/8 [==============================] - 20s 3s/step - loss: 0.1174 - accuracy: 0.9590 - val_loss: 3.2721 - val_accuracy: 0.6211\n",
            "Epoch 53/100\n",
            "8/8 [==============================] - 21s 3s/step - loss: 0.0991 - accuracy: 0.9677 - val_loss: 3.1936 - val_accuracy: 0.6562\n",
            "Epoch 54/100\n",
            "8/8 [==============================] - 18s 2s/step - loss: 0.1163 - accuracy: 0.9600 - val_loss: 2.2895 - val_accuracy: 0.6992\n",
            "Epoch 55/100\n",
            "8/8 [==============================] - 20s 3s/step - loss: 0.1003 - accuracy: 0.9639 - val_loss: 2.3645 - val_accuracy: 0.6953\n",
            "Epoch 56/100\n",
            "8/8 [==============================] - 18s 2s/step - loss: 0.1143 - accuracy: 0.9511 - val_loss: 1.3752 - val_accuracy: 0.7891\n",
            "Epoch 57/100\n",
            "8/8 [==============================] - 18s 2s/step - loss: 0.0974 - accuracy: 0.9666 - val_loss: 3.5892 - val_accuracy: 0.5820\n",
            "Epoch 58/100\n",
            "8/8 [==============================] - 21s 3s/step - loss: 0.1247 - accuracy: 0.9511 - val_loss: 2.2421 - val_accuracy: 0.7109\n",
            "Epoch 59/100\n",
            "8/8 [==============================] - 18s 2s/step - loss: 0.1163 - accuracy: 0.9588 - val_loss: 2.3926 - val_accuracy: 0.7148\n",
            "Epoch 60/100\n",
            "8/8 [==============================] - 18s 2s/step - loss: 0.1306 - accuracy: 0.9499 - val_loss: 2.6516 - val_accuracy: 0.6602\n",
            "Epoch 61/100\n",
            "8/8 [==============================] - 18s 2s/step - loss: 0.0955 - accuracy: 0.9600 - val_loss: 3.0825 - val_accuracy: 0.6758\n",
            "Epoch 62/100\n",
            "8/8 [==============================] - 18s 2s/step - loss: 0.0920 - accuracy: 0.9622 - val_loss: 2.0707 - val_accuracy: 0.7344\n",
            "Epoch 63/100\n",
            "8/8 [==============================] - 18s 2s/step - loss: 0.1414 - accuracy: 0.9477 - val_loss: 2.4610 - val_accuracy: 0.7188\n",
            "Epoch 64/100\n",
            "8/8 [==============================] - 18s 2s/step - loss: 0.1474 - accuracy: 0.9410 - val_loss: 2.5464 - val_accuracy: 0.6953\n",
            "Epoch 65/100\n",
            "8/8 [==============================] - 18s 2s/step - loss: 0.0843 - accuracy: 0.9700 - val_loss: 2.0918 - val_accuracy: 0.7305\n",
            "Epoch 66/100\n",
            "8/8 [==============================] - 18s 2s/step - loss: 0.0807 - accuracy: 0.9722 - val_loss: 1.6717 - val_accuracy: 0.8125\n",
            "Epoch 67/100\n",
            "8/8 [==============================] - 19s 2s/step - loss: 0.1383 - accuracy: 0.9466 - val_loss: 2.3699 - val_accuracy: 0.7031\n",
            "Epoch 68/100\n",
            "8/8 [==============================] - 19s 2s/step - loss: 0.0693 - accuracy: 0.9833 - val_loss: 2.6017 - val_accuracy: 0.7344\n",
            "Epoch 69/100\n",
            "8/8 [==============================] - 19s 2s/step - loss: 0.1365 - accuracy: 0.9455 - val_loss: 2.8895 - val_accuracy: 0.6992\n",
            "Epoch 70/100\n",
            "8/8 [==============================] - 21s 3s/step - loss: 0.0815 - accuracy: 0.9666 - val_loss: 3.1281 - val_accuracy: 0.6641\n",
            "Epoch 71/100\n",
            "8/8 [==============================] - 19s 2s/step - loss: 0.1022 - accuracy: 0.9555 - val_loss: 1.7542 - val_accuracy: 0.7578\n",
            "Epoch 72/100\n",
            "8/8 [==============================] - 18s 2s/step - loss: 0.0799 - accuracy: 0.9677 - val_loss: 3.2222 - val_accuracy: 0.6680\n",
            "Epoch 73/100\n",
            "8/8 [==============================] - 21s 3s/step - loss: 0.0641 - accuracy: 0.9755 - val_loss: 1.9560 - val_accuracy: 0.7344\n",
            "Epoch 74/100\n",
            "8/8 [==============================] - 19s 2s/step - loss: 0.1221 - accuracy: 0.9622 - val_loss: 2.1403 - val_accuracy: 0.7344\n",
            "Epoch 75/100\n",
            "8/8 [==============================] - 19s 2s/step - loss: 0.0814 - accuracy: 0.9711 - val_loss: 2.1784 - val_accuracy: 0.7422\n",
            "Epoch 76/100\n",
            "8/8 [==============================] - 19s 2s/step - loss: 0.1055 - accuracy: 0.9622 - val_loss: 3.3671 - val_accuracy: 0.6602\n",
            "Epoch 77/100\n",
            "8/8 [==============================] - 19s 2s/step - loss: 0.0757 - accuracy: 0.9700 - val_loss: 3.0740 - val_accuracy: 0.6953\n",
            "Epoch 78/100\n",
            "8/8 [==============================] - 19s 2s/step - loss: 0.0714 - accuracy: 0.9733 - val_loss: 2.5855 - val_accuracy: 0.7188\n",
            "Epoch 79/100\n",
            "8/8 [==============================] - 19s 2s/step - loss: 0.1035 - accuracy: 0.9633 - val_loss: 1.8137 - val_accuracy: 0.7578\n",
            "Epoch 80/100\n",
            "8/8 [==============================] - 19s 2s/step - loss: 0.0595 - accuracy: 0.9811 - val_loss: 2.5096 - val_accuracy: 0.7031\n",
            "Epoch 81/100\n",
            "8/8 [==============================] - 22s 3s/step - loss: 0.0928 - accuracy: 0.9668 - val_loss: 2.4469 - val_accuracy: 0.7227\n",
            "Epoch 82/100\n",
            "8/8 [==============================] - 19s 2s/step - loss: 0.0585 - accuracy: 0.9789 - val_loss: 3.2750 - val_accuracy: 0.6719\n",
            "Epoch 83/100\n",
            "8/8 [==============================] - 19s 2s/step - loss: 0.1550 - accuracy: 0.9422 - val_loss: 2.2017 - val_accuracy: 0.7266\n",
            "Epoch 84/100\n",
            "8/8 [==============================] - 22s 3s/step - loss: 0.0603 - accuracy: 0.9811 - val_loss: 1.8787 - val_accuracy: 0.7539\n",
            "Epoch 85/100\n",
            "8/8 [==============================] - 19s 2s/step - loss: 0.0635 - accuracy: 0.9811 - val_loss: 2.7270 - val_accuracy: 0.6992\n",
            "Epoch 86/100\n",
            "8/8 [==============================] - 19s 2s/step - loss: 0.0586 - accuracy: 0.9766 - val_loss: 3.4137 - val_accuracy: 0.6797\n",
            "Epoch 87/100\n",
            "8/8 [==============================] - 19s 2s/step - loss: 0.1193 - accuracy: 0.9544 - val_loss: 2.6381 - val_accuracy: 0.6875\n",
            "Epoch 88/100\n",
            "8/8 [==============================] - 19s 2s/step - loss: 0.0672 - accuracy: 0.9789 - val_loss: 2.0080 - val_accuracy: 0.7617\n",
            "Epoch 89/100\n",
            "8/8 [==============================] - 19s 2s/step - loss: 0.1144 - accuracy: 0.9555 - val_loss: 2.2492 - val_accuracy: 0.7305\n",
            "Epoch 90/100\n",
            "8/8 [==============================] - 19s 2s/step - loss: 0.0419 - accuracy: 0.9844 - val_loss: 2.8673 - val_accuracy: 0.7109\n",
            "Epoch 91/100\n",
            "8/8 [==============================] - 22s 3s/step - loss: 0.0645 - accuracy: 0.9766 - val_loss: 2.9471 - val_accuracy: 0.6875\n",
            "Epoch 92/100\n",
            "8/8 [==============================] - 19s 2s/step - loss: 0.0575 - accuracy: 0.9833 - val_loss: 3.1993 - val_accuracy: 0.6602\n",
            "Epoch 93/100\n",
            "8/8 [==============================] - 18s 2s/step - loss: 0.1063 - accuracy: 0.9644 - val_loss: 2.0879 - val_accuracy: 0.7695\n",
            "Epoch 94/100\n",
            "8/8 [==============================] - 19s 2s/step - loss: 0.0505 - accuracy: 0.9833 - val_loss: 2.4151 - val_accuracy: 0.7539\n",
            "Epoch 95/100\n",
            "8/8 [==============================] - 18s 2s/step - loss: 0.0515 - accuracy: 0.9778 - val_loss: 3.9588 - val_accuracy: 0.6523\n",
            "Epoch 96/100\n",
            "8/8 [==============================] - 18s 2s/step - loss: 0.0875 - accuracy: 0.9600 - val_loss: 2.0203 - val_accuracy: 0.7852\n",
            "Epoch 97/100\n",
            "8/8 [==============================] - 18s 2s/step - loss: 0.0549 - accuracy: 0.9811 - val_loss: 2.6036 - val_accuracy: 0.7305\n",
            "Epoch 98/100\n",
            "8/8 [==============================] - 18s 2s/step - loss: 0.0954 - accuracy: 0.9622 - val_loss: 1.9965 - val_accuracy: 0.7539\n",
            "Epoch 99/100\n",
            "8/8 [==============================] - 18s 2s/step - loss: 0.0666 - accuracy: 0.9800 - val_loss: 2.2933 - val_accuracy: 0.7344\n",
            "Epoch 100/100\n",
            "8/8 [==============================] - 21s 3s/step - loss: 0.0705 - accuracy: 0.9733 - val_loss: 1.3092 - val_accuracy: 0.8398\n"
          ],
          "name": "stdout"
        }
      ]
    },
    {
      "cell_type": "code",
      "metadata": {
        "id": "gZf14wtCGd8P",
        "outputId": "cd3e5cbb-de3f-426a-8fe0-72611b00a19b",
        "colab": {
          "base_uri": "https://localhost:8080/",
          "height": 545
        }
      },
      "source": [
        "import matplotlib.pyplot as plt\n",
        "acc = history.history['accuracy']\n",
        "val_acc = history.history['val_accuracy']\n",
        "loss = history.history['loss']\n",
        "val_loss = history.history['val_loss']\n",
        "\n",
        "epochs = range(len(acc))\n",
        "\n",
        "plt.plot(epochs, acc, 'r', label='Training accuracy')\n",
        "plt.plot(epochs, val_acc, 'b', label='Validation accuracy')\n",
        "plt.title('Training and validation accuracy')\n",
        "\n",
        "plt.figure()\n",
        "\n",
        "plt.plot(epochs, loss, 'r', label='Training Loss')\n",
        "plt.plot(epochs, val_loss, 'b', label='Validation Loss')\n",
        "plt.title('Training and validation loss')\n",
        "plt.legend()\n",
        "\n",
        "plt.show()"
      ],
      "execution_count": 13,
      "outputs": [
        {
          "output_type": "display_data",
          "data": {
            "image/png": "[encoded data removed]",
            "text/plain": [
              "<Figure size 432x288 with 1 Axes>"
            ]
          },
          "metadata": {
            "tags": [],
            "needs_background": "light"
          }
        },
        {
          "output_type": "display_data",
          "data": {
            "image/png": "[encoded data removed]",
            "text/plain": [
              "<Figure size 432x288 with 1 Axes>"
            ]
          },
          "metadata": {
            "tags": [],
            "needs_background": "light"
          }
        }
      ]
    }
  ]
}