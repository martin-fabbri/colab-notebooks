{
  "nbformat": 4,
  "nbformat_minor": 0,
  "metadata": {
    "colab": {
      "name": "c3_w2_embeddings_hyperparameters_tunning.ipynb",
      "provenance": [],
      "authorship_tag": "ABX9TyOOJbVA2MO8zvH6ZS+XocCQ",
      "include_colab_link": true
    },
    "kernelspec": {
      "name": "python3",
      "display_name": "Python 3"
    },
    "accelerator": "GPU"
  },
  "cells": [
    {
      "cell_type": "markdown",
      "metadata": {
        "id": "view-in-github",
        "colab_type": "text"
      },
      "source": [
        "<a href=\"https://colab.research.google.com/github/martin-fabbri/colab-notebooks/blob/master/deeplearning.ai/tf/c3_w2_embeddings_hyperparameters_tunning.ipynb\" target=\"_parent\"><img src=\"https://colab.research.google.com/assets/colab-badge.svg\" alt=\"Open In Colab\"/></a>"
      ]
    },
    {
      "cell_type": "markdown",
      "metadata": {
        "id": "ortuGJ5Rhfqd"
      },
      "source": [
        "# Embeddings hyperparameters tunning"
      ]
    },
    {
      "cell_type": "code",
      "metadata": {
        "id": "Lt4bVIFFilVm",
        "outputId": "c274831d-e8c8-403b-8fee-cae81e277725",
        "colab": {
          "base_uri": "https://localhost:8080/"
        }
      },
      "source": [
        "!wget \\\n",
        "  https://storage.googleapis.com/laurencemoroney-blog.appspot.com/sarcasm.json"
      ],
      "execution_count": 1,
      "outputs": [
        {
          "output_type": "stream",
          "text": [
            "--2020-11-15 07:14:39--  https://storage.googleapis.com/laurencemoroney-blog.appspot.com/sarcasm.json\n",
            "Resolving storage.googleapis.com (storage.googleapis.com)... 172.217.13.80, 172.217.7.144, 172.217.12.240, ...\n",
            "Connecting to storage.googleapis.com (storage.googleapis.com)|172.217.13.80|:443... connected.\n",
            "HTTP request sent, awaiting response... 200 OK\n",
            "Length: 5643545 (5.4M) [application/json]\n",
            "Saving to: ‘sarcasm.json’\n",
            "\n",
            "\rsarcasm.json          0%[                    ]       0  --.-KB/s               \rsarcasm.json        100%[===================>]   5.38M  --.-KB/s    in 0.05s   \n",
            "\n",
            "2020-11-15 07:14:39 (107 MB/s) - ‘sarcasm.json’ saved [5643545/5643545]\n",
            "\n"
          ],
          "name": "stdout"
        }
      ]
    },
    {
      "cell_type": "code",
      "metadata": {
        "id": "ksqPQEyfdmtx"
      },
      "source": [
        "import json\n",
        "import numpy as np\n",
        "import tensorflow as tf\n",
        "\n",
        "from tensorflow.keras import layers\n",
        "from tensorflow.keras.preprocessing.text import Tokenizer\n",
        "from tensorflow.keras.preprocessing.sequence import pad_sequences"
      ],
      "execution_count": 13,
      "outputs": []
    },
    {
      "cell_type": "code",
      "metadata": {
        "id": "ukWAAVB9h-tr"
      },
      "source": [
        "vocab_size = 10000\n",
        "embedding_dim = 16\n",
        "max_lenght = 100\n",
        "trunc_type='post'\n",
        "padding_type = 'post'\n",
        "oov_tok = '<oov>'\n",
        "training_size = 20000"
      ],
      "execution_count": 3,
      "outputs": []
    },
    {
      "cell_type": "code",
      "metadata": {
        "id": "yzAFczkgiZP6",
        "outputId": "f7a285dc-be78-4912-da5e-2e6c0daf7721",
        "colab": {
          "base_uri": "https://localhost:8080/"
        }
      },
      "source": [
        "sentences = []\n",
        "labels = []\n",
        "\n",
        "with open('sarcasm.json', 'r') as f:\n",
        "  datastore = json.load(f)\n",
        "  for item in datastore:\n",
        "    sentences.append(item['headline'])\n",
        "    labels.append(item['is_sarcastic'])\n",
        "\n",
        "len(sentences), len(labels)"
      ],
      "execution_count": 4,
      "outputs": [
        {
          "output_type": "execute_result",
          "data": {
            "text/plain": [
              "(26709, 26709)"
            ]
          },
          "metadata": {
            "tags": []
          },
          "execution_count": 4
        }
      ]
    },
    {
      "cell_type": "code",
      "metadata": {
        "id": "PNJX4DPxjiTb",
        "outputId": "59ff83c9-8652-4cf7-e2ca-e45228914500",
        "colab": {
          "base_uri": "https://localhost:8080/"
        }
      },
      "source": [
        "training_sentences = sentences[:training_size]\n",
        "testing_sentences = sentences[training_size:]\n",
        "\n",
        "training_labels = labels[:training_size]\n",
        "testing_labels = labels[training_size:]\n",
        "\n",
        "len(training_sentences), len(testing_sentences), \\\n",
        "len(training_labels), len(testing_labels)"
      ],
      "execution_count": 5,
      "outputs": [
        {
          "output_type": "execute_result",
          "data": {
            "text/plain": [
              "(20000, 6709, 20000, 6709)"
            ]
          },
          "metadata": {
            "tags": []
          },
          "execution_count": 5
        }
      ]
    },
    {
      "cell_type": "code",
      "metadata": {
        "id": "RCwrCUm0ta0J"
      },
      "source": [
        "tokenizer = Tokenizer(num_words=vocab_size, oov_token=oov_tok)\n",
        "tokenizer.fit_on_texts(training_sentences)\n",
        "\n",
        "word_index = tokenizer.word_index\n",
        "\n",
        "training_sequences = tokenizer.texts_to_sequences(training_sentences)\n",
        "training_padded = pad_sequences(\n",
        "    training_sequences, \n",
        "    maxlen=max_lenght, \n",
        "    padding=padding_type,\n",
        "    truncating=trunc_type\n",
        ")\n",
        "\n",
        "testing_sequences = tokenizer.texts_to_sequences(testing_sentences)\n",
        "testing_padded = pad_sequences(\n",
        "    testing_sequences, \n",
        "    maxlen=max_lenght, \n",
        "    padding=padding_type,\n",
        "    truncating=trunc_type\n",
        ")"
      ],
      "execution_count": 9,
      "outputs": []
    },
    {
      "cell_type": "code",
      "metadata": {
        "id": "-45CkwzQwdi-"
      },
      "source": [
        "training_padded = np.array(training_padded)\n",
        "training_labels = np.array(training_labels)\n",
        "testing_padded = np.array(testing_padded)\n",
        "testing_labels = np.array(testing_labels)"
      ],
      "execution_count": 22,
      "outputs": []
    },
    {
      "cell_type": "code",
      "metadata": {
        "id": "cWktDrv_xDxk"
      },
      "source": [
        "model = tf.keras.Sequential([\n",
        "  layers.Embedding(vocab_size, embedding_dim, input_length=max_lenght),\n",
        "  layers.GlobalAveragePooling1D(),\n",
        "  layers.Dense(24, activation='relu'),\n",
        "  layers.Dense(1, activation='sigmoid')\n",
        "])\n",
        "\n",
        "model.compile(\n",
        "    loss='binary_crossentropy',\n",
        "    optimizer='adam',\n",
        "    metrics=['accuracy']\n",
        ")"
      ],
      "execution_count": 14,
      "outputs": []
    },
    {
      "cell_type": "code",
      "metadata": {
        "id": "OBx9KQW6xD3P",
        "outputId": "f0d5053b-e381-4d79-b28f-1d7f263b59d0",
        "colab": {
          "base_uri": "https://localhost:8080/"
        }
      },
      "source": [
        "model.summary()"
      ],
      "execution_count": 15,
      "outputs": [
        {
          "output_type": "stream",
          "text": [
            "Model: \"sequential\"\n",
            "_________________________________________________________________\n",
            "Layer (type)                 Output Shape              Param #   \n",
            "=================================================================\n",
            "embedding (Embedding)        (None, 100, 16)           160000    \n",
            "_________________________________________________________________\n",
            "global_average_pooling1d (Gl (None, 16)                0         \n",
            "_________________________________________________________________\n",
            "dense (Dense)                (None, 24)                408       \n",
            "_________________________________________________________________\n",
            "dense_1 (Dense)              (None, 1)                 25        \n",
            "=================================================================\n",
            "Total params: 160,433\n",
            "Trainable params: 160,433\n",
            "Non-trainable params: 0\n",
            "_________________________________________________________________\n"
          ],
          "name": "stdout"
        }
      ]
    },
    {
      "cell_type": "code",
      "metadata": {
        "id": "osB_E-z6xD86",
        "outputId": "6b610448-692f-403c-e948-e1182aff99c7",
        "colab": {
          "base_uri": "https://localhost:8080/"
        }
      },
      "source": [
        "num_epochs = 30\n",
        "history = model.fit(training_padded, training_labels, epochs=num_epochs, \\\n",
        "                    validation_data=(testing_padded, testing_labels), \\\n",
        "                    verbose=2)"
      ],
      "execution_count": 23,
      "outputs": [
        {
          "output_type": "stream",
          "text": [
            "Epoch 1/30\n",
            "625/625 - 3s - loss: 0.6630 - accuracy: 0.5856 - val_loss: 0.5717 - val_accuracy: 0.7445\n",
            "Epoch 2/30\n",
            "625/625 - 3s - loss: 0.4222 - accuracy: 0.8360 - val_loss: 0.3838 - val_accuracy: 0.8356\n",
            "Epoch 3/30\n",
            "625/625 - 3s - loss: 0.3040 - accuracy: 0.8783 - val_loss: 0.3540 - val_accuracy: 0.8490\n",
            "Epoch 4/30\n",
            "625/625 - 3s - loss: 0.2522 - accuracy: 0.9002 - val_loss: 0.3435 - val_accuracy: 0.8565\n",
            "Epoch 5/30\n",
            "625/625 - 3s - loss: 0.2190 - accuracy: 0.9153 - val_loss: 0.3636 - val_accuracy: 0.8425\n",
            "Epoch 6/30\n",
            "625/625 - 3s - loss: 0.1907 - accuracy: 0.9276 - val_loss: 0.3557 - val_accuracy: 0.8542\n",
            "Epoch 7/30\n",
            "625/625 - 3s - loss: 0.1701 - accuracy: 0.9355 - val_loss: 0.3678 - val_accuracy: 0.8529\n",
            "Epoch 8/30\n",
            "625/625 - 3s - loss: 0.1512 - accuracy: 0.9450 - val_loss: 0.3850 - val_accuracy: 0.8539\n",
            "Epoch 9/30\n",
            "625/625 - 3s - loss: 0.1371 - accuracy: 0.9509 - val_loss: 0.4051 - val_accuracy: 0.8504\n",
            "Epoch 10/30\n",
            "625/625 - 3s - loss: 0.1238 - accuracy: 0.9551 - val_loss: 0.4261 - val_accuracy: 0.8495\n",
            "Epoch 11/30\n",
            "625/625 - 2s - loss: 0.1105 - accuracy: 0.9623 - val_loss: 0.4506 - val_accuracy: 0.8474\n",
            "Epoch 12/30\n",
            "625/625 - 3s - loss: 0.1036 - accuracy: 0.9640 - val_loss: 0.5774 - val_accuracy: 0.8211\n",
            "Epoch 13/30\n",
            "625/625 - 3s - loss: 0.0930 - accuracy: 0.9691 - val_loss: 0.5060 - val_accuracy: 0.8425\n",
            "Epoch 14/30\n",
            "625/625 - 3s - loss: 0.0869 - accuracy: 0.9704 - val_loss: 0.5747 - val_accuracy: 0.8308\n",
            "Epoch 15/30\n",
            "625/625 - 3s - loss: 0.0784 - accuracy: 0.9739 - val_loss: 0.5758 - val_accuracy: 0.8368\n",
            "Epoch 16/30\n",
            "625/625 - 3s - loss: 0.0709 - accuracy: 0.9772 - val_loss: 0.6054 - val_accuracy: 0.8353\n",
            "Epoch 17/30\n",
            "625/625 - 3s - loss: 0.0645 - accuracy: 0.9794 - val_loss: 0.6593 - val_accuracy: 0.8310\n",
            "Epoch 18/30\n",
            "625/625 - 3s - loss: 0.0584 - accuracy: 0.9812 - val_loss: 0.6899 - val_accuracy: 0.8292\n",
            "Epoch 19/30\n",
            "625/625 - 3s - loss: 0.0543 - accuracy: 0.9836 - val_loss: 0.7055 - val_accuracy: 0.8296\n",
            "Epoch 20/30\n",
            "625/625 - 3s - loss: 0.0495 - accuracy: 0.9843 - val_loss: 0.7887 - val_accuracy: 0.8225\n",
            "Epoch 21/30\n",
            "625/625 - 3s - loss: 0.0485 - accuracy: 0.9852 - val_loss: 0.8101 - val_accuracy: 0.8210\n",
            "Epoch 22/30\n",
            "625/625 - 3s - loss: 0.0435 - accuracy: 0.9867 - val_loss: 0.9034 - val_accuracy: 0.8168\n",
            "Epoch 23/30\n",
            "625/625 - 3s - loss: 0.0385 - accuracy: 0.9886 - val_loss: 0.8690 - val_accuracy: 0.8204\n",
            "Epoch 24/30\n",
            "625/625 - 3s - loss: 0.0353 - accuracy: 0.9905 - val_loss: 0.9128 - val_accuracy: 0.8195\n",
            "Epoch 25/30\n",
            "625/625 - 3s - loss: 0.0348 - accuracy: 0.9901 - val_loss: 1.0017 - val_accuracy: 0.8146\n",
            "Epoch 26/30\n",
            "625/625 - 3s - loss: 0.0325 - accuracy: 0.9903 - val_loss: 0.9904 - val_accuracy: 0.8173\n",
            "Epoch 27/30\n",
            "625/625 - 3s - loss: 0.0306 - accuracy: 0.9904 - val_loss: 1.0083 - val_accuracy: 0.8158\n",
            "Epoch 28/30\n",
            "625/625 - 3s - loss: 0.0264 - accuracy: 0.9926 - val_loss: 1.0422 - val_accuracy: 0.8129\n",
            "Epoch 29/30\n",
            "625/625 - 2s - loss: 0.0234 - accuracy: 0.9942 - val_loss: 1.1189 - val_accuracy: 0.8158\n",
            "Epoch 30/30\n",
            "625/625 - 3s - loss: 0.0221 - accuracy: 0.9939 - val_loss: 1.1596 - val_accuracy: 0.8137\n"
          ],
          "name": "stdout"
        }
      ]
    },
    {
      "cell_type": "code",
      "metadata": {
        "id": "9AcxqOZ9xECu",
        "outputId": "1368e08a-41da-4f70-e214-a25e9ed363a7",
        "colab": {
          "base_uri": "https://localhost:8080/"
        }
      },
      "source": [
        "reverse_word_index = dict([(value, key) for (key, value) in word_index.items()])\n",
        "\n",
        "def decode_sentence(text):\n",
        "    return ' '.join([reverse_word_index.get(i, '?') for i in text])\n",
        "\n",
        "print(decode_sentence(training_padded[0]))\n",
        "print(training_sentences[2])\n",
        "print(labels[2])"
      ],
      "execution_count": 24,
      "outputs": [
        {
          "output_type": "stream",
          "text": [
            "former <oov> store clerk sues over secret 'black <oov> for minority shoppers ? ? ? ? ? ? ? ? ? ? ? ? ? ? ? ? ? ? ? ? ? ? ? ? ? ? ? ? ? ? ? ? ? ? ? ? ? ? ? ? ? ? ? ? ? ? ? ? ? ? ? ? ? ? ? ? ? ? ? ? ? ? ? ? ? ? ? ? ? ? ? ? ? ? ? ? ? ? ? ? ? ? ? ? ? ? ? ?\n",
            "mom starting to fear son's web series closest thing she will have to grandchild\n",
            "1\n"
          ],
          "name": "stdout"
        }
      ]
    },
    {
      "cell_type": "code",
      "metadata": {
        "id": "A_WK8fUrxEAG"
      },
      "source": [
        ""
      ],
      "execution_count": null,
      "outputs": []
    },
    {
      "cell_type": "code",
      "metadata": {
        "id": "Sqw8w0mOxD6I"
      },
      "source": [
        ""
      ],
      "execution_count": null,
      "outputs": []
    },
    {
      "cell_type": "code",
      "metadata": {
        "id": "URn4MNRyxD0c"
      },
      "source": [
        ""
      ],
      "execution_count": null,
      "outputs": []
    },
    {
      "cell_type": "code",
      "metadata": {
        "id": "l9oK_FZExDud"
      },
      "source": [
        ""
      ],
      "execution_count": null,
      "outputs": []
    }
  ]
}