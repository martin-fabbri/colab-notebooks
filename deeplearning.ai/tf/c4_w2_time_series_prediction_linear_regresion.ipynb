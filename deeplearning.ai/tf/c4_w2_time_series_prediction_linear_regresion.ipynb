{
  "nbformat": 4,
  "nbformat_minor": 0,
  "metadata": {
    "colab": {
      "name": "c4-w2-time-series-prediction-linear-regresion.ipynb",
      "provenance": [],
      "authorship_tag": "ABX9TyNlKk0qjAXS6pDI6X6alffx",
      "include_colab_link": true
    },
    "kernelspec": {
      "name": "python3",
      "display_name": "Python 3"
    }
  },
  "cells": [
    {
      "cell_type": "markdown",
      "metadata": {
        "id": "view-in-github",
        "colab_type": "text"
      },
      "source": [
        "<a href=\"https://colab.research.google.com/github/martin-fabbri/colab-notebooks/blob/master/deeplearning.ai/tf/c4_w2_time_series_prediction_linear_regresion.ipynb\" target=\"_parent\"><img src=\"https://colab.research.google.com/assets/colab-badge.svg\" alt=\"Open In Colab\"/></a>"
      ]
    },
    {
      "cell_type": "markdown",
      "metadata": {
        "id": "-zfpV0gTfu2n"
      },
      "source": [
        "# Time Series Prediction - NN Single Layer (linear regresion)"
      ]
    },
    {
      "cell_type": "code",
      "metadata": {
        "id": "D-DM9HJZftO_",
        "outputId": "99632fc5-9e3b-4472-fbcf-a1c557a5d16c",
        "colab": {
          "base_uri": "https://localhost:8080/"
        }
      },
      "source": [
        "import tensorflow as tf\n",
        "import numpy as np\n",
        "import matplotlib.pyplot as plt\n",
        "\n",
        "print(tf.__version__)"
      ],
      "execution_count": 1,
      "outputs": [
        {
          "output_type": "stream",
          "text": [
            "2.3.0\n"
          ],
          "name": "stdout"
        }
      ]
    },
    {
      "cell_type": "code",
      "metadata": {
        "id": "aqR2PI9qgWGa"
      },
      "source": [
        "def plot_series(time, series, format='-', start=0, end=None):\n",
        "  plt.plot(time[start:end], series[start:end], format)\n",
        "  plt.xlabel('Time')\n",
        "  plt.ylabel('Value')\n",
        "  plt.grid(True)\n",
        "\n",
        "def trend(time, slope=0):\n",
        "  return slope * time\n",
        "\n",
        "def seasonal_pattern(season_time):\n",
        "  '''\n",
        "  Just an arbitrary patten, you can change it if you wish\n",
        "  '''\n",
        "  return np.where(\n",
        "      season_time < 0.4,\n",
        "      np.cos(season_time * 2 * np.pi),\n",
        "      1 / np.exp(3 * season_time)\n",
        "  )\n",
        "\n",
        "def seasonality(time, period, amplitude=1, phase=0):\n",
        "  '''\n",
        "  Repeats the same pattern at each period\n",
        "  '''\n",
        "  season_time = ((time + phase) % period) / period\n",
        "  return amplitude * seasonal_pattern(season_time)\n",
        "\n",
        "def noise(time, noise_level=1, seed=None):\n",
        "  rnd = np.random.RandomState(seed)\n",
        "  return rnd.randn(len(time)) * noise_level"
      ],
      "execution_count": 12,
      "outputs": []
    },
    {
      "cell_type": "code",
      "metadata": {
        "id": "x4n691lwmGI3"
      },
      "source": [
        "baseline = 10\n",
        "slope = 0.05\n",
        "amplitude = 40\n",
        "noise_level = 5\n",
        "time = np.arange(4 * 365 + 1, dtype='float32')\n",
        "trend_series = trend(time, slope)\n",
        "seasonality_series = seasonality(time, period=365, amplitude=amplitude)\n",
        "noise_series = noise(time, noise_level, seed=42)\n",
        "\n",
        "series = baseline + trend_series + seasonality_series + noise_series"
      ],
      "execution_count": 14,
      "outputs": []
    },
    {
      "cell_type": "code",
      "metadata": {
        "id": "UiqLQr8vmU0_"
      },
      "source": [
        "split_time = 1000\n",
        "time_train = time[:split_time]\n",
        "x_train = series[:split_time]\n",
        "time_valid = time[split_time:]\n",
        "x_valid = series[split_time:]"
      ],
      "execution_count": 15,
      "outputs": []
    },
    {
      "cell_type": "code",
      "metadata": {
        "id": "iaKMPzFMoTrv"
      },
      "source": [
        "window_size = 20\n",
        "batch_size = 32\n",
        "shuffle_buffer_size = 1000"
      ],
      "execution_count": 16,
      "outputs": []
    },
    {
      "cell_type": "code",
      "metadata": {
        "id": "yltPkhI1obWf"
      },
      "source": [
        ""
      ],
      "execution_count": null,
      "outputs": []
    }
  ]
}