{
  "nbformat": 4,
  "nbformat_minor": 0,
  "metadata": {
    "colab": {
      "name": "c4-w2-time-series-prediction-linear-regresion.ipynb",
      "provenance": [],
      "authorship_tag": "ABX9TyNgZDSHyVSHa+4b44TpxoeX",
      "include_colab_link": true
    },
    "kernelspec": {
      "name": "python3",
      "display_name": "Python 3"
    }
  },
  "cells": [
    {
      "cell_type": "markdown",
      "metadata": {
        "id": "view-in-github",
        "colab_type": "text"
      },
      "source": [
        "<a href=\"https://colab.research.google.com/github/martin-fabbri/colab-notebooks/blob/master/deeplearning.ai/tf/c4_w2_time_series_prediction_linear_regresion.ipynb\" target=\"_parent\"><img src=\"https://colab.research.google.com/assets/colab-badge.svg\" alt=\"Open In Colab\"/></a>"
      ]
    },
    {
      "cell_type": "markdown",
      "metadata": {
        "id": "-zfpV0gTfu2n"
      },
      "source": [
        "# Time Series Prediction - NN Single Layer (linear regresion)"
      ]
    },
    {
      "cell_type": "code",
      "metadata": {
        "id": "D-DM9HJZftO_",
        "outputId": "3a08ffdd-c9fb-4527-e2d5-4f020dea3518",
        "colab": {
          "base_uri": "https://localhost:8080/"
        }
      },
      "source": [
        "import tensorflow as tf\n",
        "import numpy as np\n",
        "import matplotlib.pyplot as plt\n",
        "\n",
        "print(tf.__version__)"
      ],
      "execution_count": 1,
      "outputs": [
        {
          "output_type": "stream",
          "text": [
            "2.3.0\n"
          ],
          "name": "stdout"
        }
      ]
    },
    {
      "cell_type": "code",
      "metadata": {
        "id": "aqR2PI9qgWGa"
      },
      "source": [
        "def plot_series(time, series, format='-', start=0, end=None):\n",
        "  plt.plot(time[start:end], series[start:end], format)\n",
        "  plt.xlabel('Time')\n",
        "  plt.ylabel('Value')\n",
        "  plt.grid(True)\n",
        "\n",
        "def trend(time, slope=0):\n",
        "  return slope * time\n",
        "\n",
        "def seasonal_pattern(season_time):\n",
        "  '''\n",
        "  Just an arbitrary patten, you can change it if you wish\n",
        "  '''\n",
        "  return np.where(\n",
        "      season_time < 0.4,\n",
        "      np.cos(season_time * 2 * np.pi),\n",
        "      1 / np.exp(3 * season_time)\n",
        "  )\n",
        "\n",
        "def seasonality(time, period, amplitude=1, phase=0):\n",
        "  '''\n",
        "  Repeats the same pattern at each period\n",
        "  '''\n",
        "  season_time = ((time + phase) % period) / period\n",
        "  return amplitude * seasonal_pattern(season_time)\n",
        "\n",
        "def noise(time, noise_level=1, seed=None):\n",
        "  rnd = np.random.RandomState(seed)\n",
        "  return rnd.randn(len(time)) * noise_level"
      ],
      "execution_count": 2,
      "outputs": []
    },
    {
      "cell_type": "code",
      "metadata": {
        "id": "x4n691lwmGI3"
      },
      "source": [
        "baseline = 10\n",
        "slope = 0.05\n",
        "amplitude = 40\n",
        "noise_level = 5\n",
        "time = np.arange(4 * 365 + 1, dtype='float32')\n",
        "trend_series = trend(time, slope)\n",
        "seasonality_series = seasonality(time, period=365, amplitude=amplitude)\n",
        "noise_series = noise(time, noise_level, seed=42)\n",
        "\n",
        "series = baseline + trend_series + seasonality_series + noise_series"
      ],
      "execution_count": 3,
      "outputs": []
    },
    {
      "cell_type": "code",
      "metadata": {
        "id": "UiqLQr8vmU0_"
      },
      "source": [
        "split_time = 1000\n",
        "time_train = time[:split_time]\n",
        "x_train = series[:split_time]\n",
        "time_valid = time[split_time:]\n",
        "x_valid = series[split_time:]"
      ],
      "execution_count": 4,
      "outputs": []
    },
    {
      "cell_type": "code",
      "metadata": {
        "id": "iaKMPzFMoTrv"
      },
      "source": [
        "window_size = 20\n",
        "batch_size = 32\n",
        "shuffle_buffer_size = 1000"
      ],
      "execution_count": 5,
      "outputs": []
    },
    {
      "cell_type": "code",
      "metadata": {
        "id": "yltPkhI1obWf"
      },
      "source": [
        "def windowed_dataset(series, window_size, batch_size, shuffle_buffer):\n",
        "  dataset = tf.data.Dataset.from_tensor_slices(series)\n",
        "  dataset = dataset.window(window_size + 1, shift=1, drop_remainder=True)\n",
        "  dataset = dataset.flat_map(lambda window: window.batch(window_size + 1))\n",
        "  dataset = dataset.shuffle(shuffle_buffer).map(\n",
        "      lambda window: (window[:-1], window[-1]))\n",
        "  dataset = dataset.batch(batch_size).prefetch(1)\n",
        "  return dataset"
      ],
      "execution_count": 9,
      "outputs": []
    },
    {
      "cell_type": "code",
      "metadata": {
        "id": "9eY1mtaGpGFf",
        "outputId": "00bae2ec-1c12-4baf-a95e-7badef5603c1",
        "colab": {
          "base_uri": "https://localhost:8080/"
        }
      },
      "source": [
        "dataset = windowed_dataset(x_train, window_size, batch_size, shuffle_buffer_size)\n",
        "dataset"
      ],
      "execution_count": 13,
      "outputs": [
        {
          "output_type": "execute_result",
          "data": {
            "text/plain": [
              "<PrefetchDataset shapes: ((None, None), (None,)), types: (tf.float64, tf.float64)>"
            ]
          },
          "metadata": {
            "tags": []
          },
          "execution_count": 13
        }
      ]
    },
    {
      "cell_type": "code",
      "metadata": {
        "id": "wiaLzbeBpNdh",
        "outputId": "eeae219e-db60-450d-ab8d-89209bed66d3",
        "colab": {
          "base_uri": "https://localhost:8080/"
        }
      },
      "source": [
        "l0 = tf.keras.layers.Dense(1, input_shape=[window_size])\n",
        "model = tf.keras.Sequential([l0])\n",
        "\n",
        "model.compile(\n",
        "    loss='mse',\n",
        "    optimizer = tf.keras.optimizers.SGD(lr=1e-6, momentum=0.9)\n",
        ")\n",
        "\n",
        "model.fit(dataset, epochs=100, verbose=0)\n",
        "print('layer weights:', l0.get_weights())"
      ],
      "execution_count": 15,
      "outputs": [
        {
          "output_type": "stream",
          "text": [
            "layer weights: [array([[-0.0812099 ],\n",
            "       [ 0.01200222],\n",
            "       [ 0.0761575 ],\n",
            "       [-0.0377769 ],\n",
            "       [ 0.00939761],\n",
            "       [ 0.04461161],\n",
            "       [-0.01096641],\n",
            "       [-0.00612783],\n",
            "       [-0.00133137],\n",
            "       [-0.03213766],\n",
            "       [-0.00554723],\n",
            "       [ 0.04165699],\n",
            "       [-0.03591018],\n",
            "       [ 0.00671165],\n",
            "       [-0.02954551],\n",
            "       [ 0.1409856 ],\n",
            "       [-0.00074366],\n",
            "       [ 0.21783128],\n",
            "       [ 0.19409691],\n",
            "       [ 0.47115174]], dtype=float32), array([0.01679779], dtype=float32)]\n"
          ],
          "name": "stdout"
        }
      ]
    },
    {
      "cell_type": "code",
      "metadata": {
        "id": "hqUZgvmb6A6w"
      },
      "source": [
        "forecast = "
      ],
      "execution_count": null,
      "outputs": []
    }
  ]
}