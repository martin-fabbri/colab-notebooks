{
  "nbformat": 4,
  "nbformat_minor": 0,
  "metadata": {
    "colab": {
      "name": "transfer-learning-and-fine-tuning.ipynb",
      "provenance": [],
      "authorship_tag": "ABX9TyOmt7KpN3kSsKUkREx1GXU/",
      "include_colab_link": true
    },
    "kernelspec": {
      "name": "python3",
      "display_name": "Python 3"
    }
  },
  "cells": [
    {
      "cell_type": "markdown",
      "metadata": {
        "id": "view-in-github",
        "colab_type": "text"
      },
      "source": [
        "<a href=\"https://colab.research.google.com/github/martin-fabbri/colab-notebooks/blob/master/deeplearning.ai/tf/transfer_learning_and_fine_tuning.ipynb\" target=\"_parent\"><img src=\"https://colab.research.google.com/assets/colab-badge.svg\" alt=\"Open In Colab\"/></a>"
      ]
    },
    {
      "cell_type": "markdown",
      "metadata": {
        "id": "mLpif-lXtaE3"
      },
      "source": [
        "# Transfer Learning and Fine Tunning"
      ]
    },
    {
      "cell_type": "markdown",
      "metadata": {
        "id": "peRsbBxLta9C"
      },
      "source": [
        "The intuition behind transfer learning for image classification is that if a model is trained on a large and general enough dataset, this model will effectively server as a generic model of the visual world. You can then take advantage of these leaned feature maps without having to start from scratch by training a large model on a large dataset.\n",
        "\n",
        "Transfer learning approached contained on this notebook:\n",
        "\n",
        "1. Feature Extraction: Use the representations learned by a previous network to extract meaningful features from new samples. You simply add a new classifier, which will be trained from scratch, on top of the pretrained model so that you can repurpose the feature maps learned previously from the dataset.\n",
        "\n",
        " You don't need to (re)train the entire model. The base convolutional network already contains features that are generically useful for classifying pictures. However, the final, classification part of the pretrained model is specific to the original classification task, and subsequently specific to the set of classes on which the model was trained.\n",
        "\n",
        "2. Fine-Tunning: Unfreeze a few of the top layers of a frozen model base and jointly train both the newly-added classfier layers and the last layers of the base model. This allow us to \"fine-tune\" the higher order feature representations in the base model in order to make them more relevant for the specific task.\n",
        "\n",
        "Plan of attack:\n",
        "\n",
        "1. Examine and understand the data\n",
        "2. Build an `input pipeline`, in this case using Keras ImageDataGenerator\n",
        "3. Compose the model\n",
        "  - Load in the pretrained base model (and pretrained weights)\n",
        "  - Stack the classfication layers on top\n",
        "4. Train the model \n",
        "5. Evaluate model\n",
        "\n",
        "\n"
      ]
    },
    {
      "cell_type": "code",
      "metadata": {
        "id": "hQLbrwlTtEyM"
      },
      "source": [
        ""
      ],
      "execution_count": null,
      "outputs": []
    }
  ]
}