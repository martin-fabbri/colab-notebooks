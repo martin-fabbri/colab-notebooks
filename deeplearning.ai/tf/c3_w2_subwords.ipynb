{
  "nbformat": 4,
  "nbformat_minor": 0,
  "metadata": {
    "colab": {
      "name": "c3_w2_subwords.ipynb",
      "provenance": [],
      "toc_visible": true,
      "authorship_tag": "ABX9TyOay2xvzTj29gHoz3Sqj1J1",
      "include_colab_link": true
    },
    "kernelspec": {
      "name": "python3",
      "display_name": "Python 3"
    },
    "accelerator": "GPU"
  },
  "cells": [
    {
      "cell_type": "markdown",
      "metadata": {
        "id": "view-in-github",
        "colab_type": "text"
      },
      "source": [
        "<a href=\"https://colab.research.google.com/github/martin-fabbri/colab-notebooks/blob/master/deeplearning.ai/tf/c3_w2_subwords.ipynb\" target=\"_parent\"><img src=\"https://colab.research.google.com/assets/colab-badge.svg\" alt=\"Open In Colab\"/></a>"
      ]
    },
    {
      "cell_type": "markdown",
      "metadata": {
        "id": "OXnjdwcWtRWO"
      },
      "source": [
        "# Dataset Subwords"
      ]
    },
    {
      "cell_type": "code",
      "metadata": {
        "id": "b8N0Bekhs3ju",
        "outputId": "6b25e9f7-8e69-482c-c7d1-e5f3bef4e1b6",
        "colab": {
          "base_uri": "https://localhost:8080/",
          "height": 35
        }
      },
      "source": [
        "import tensorflow as tf\n",
        "import tensorflow_datasets as tfds\n",
        "\n",
        "tf.__version__"
      ],
      "execution_count": 1,
      "outputs": [
        {
          "output_type": "execute_result",
          "data": {
            "application/vnd.google.colaboratory.intrinsic+json": {
              "type": "string"
            },
            "text/plain": [
              "'2.3.0'"
            ]
          },
          "metadata": {
            "tags": []
          },
          "execution_count": 1
        }
      ]
    },
    {
      "cell_type": "code",
      "metadata": {
        "id": "ihJ7kfvStj3A",
        "outputId": "25cefe06-2c87-4309-ab5f-5df960c64895",
        "colab": {
          "base_uri": "https://localhost:8080/"
        }
      },
      "source": [
        "imdb, info = tfds.load('imdb_reviews/subwords8k', with_info=True, \\\n",
        "                       as_supervised=True)"
      ],
      "execution_count": 2,
      "outputs": [
        {
          "output_type": "stream",
          "text": [
            "WARNING:absl:TFDS datasets with text encoding are deprecated and will be removed in a future version. Instead, you should use the plain text version and tokenize the text using `tensorflow_text` (See: https://www.tensorflow.org/tutorials/tensorflow_text/intro#tfdata_example)\n"
          ],
          "name": "stderr"
        }
      ]
    },
    {
      "cell_type": "code",
      "metadata": {
        "id": "aJn9h94EuZ17"
      },
      "source": [
        "train_data, test_data = imdb['train'], imdb['test']"
      ],
      "execution_count": 3,
      "outputs": []
    },
    {
      "cell_type": "code",
      "metadata": {
        "id": "jNe04kozuZ7t"
      },
      "source": [
        "tokenizer = info.features['text'].encoder"
      ],
      "execution_count": 4,
      "outputs": []
    },
    {
      "cell_type": "code",
      "metadata": {
        "id": "7uWEvbHkuaBx",
        "outputId": "5180fd6a-d63e-4baa-d5ce-559ae20dc422",
        "colab": {
          "base_uri": "https://localhost:8080/"
        }
      },
      "source": [
        "type(tokenizer.subwords)"
      ],
      "execution_count": 5,
      "outputs": [
        {
          "output_type": "execute_result",
          "data": {
            "text/plain": [
              "list"
            ]
          },
          "metadata": {
            "tags": []
          },
          "execution_count": 5
        }
      ]
    },
    {
      "cell_type": "code",
      "metadata": {
        "id": "LxLWIacVuZ-m",
        "outputId": "0540c124-c61d-44b3-9bb5-2ba947aea9a9",
        "colab": {
          "base_uri": "https://localhost:8080/"
        }
      },
      "source": [
        "[t for t in tokenizer.subwords[:5]]"
      ],
      "execution_count": 6,
      "outputs": [
        {
          "output_type": "execute_result",
          "data": {
            "text/plain": [
              "['the_', ', ', '. ', 'a_', 'and_']"
            ]
          },
          "metadata": {
            "tags": []
          },
          "execution_count": 6
        }
      ]
    },
    {
      "cell_type": "code",
      "metadata": {
        "id": "8lhFz4wsuZ4u",
        "outputId": "d823ef38-5f8d-496a-af8d-e62237fcb173",
        "colab": {
          "base_uri": "https://localhost:8080/",
          "height": 35
        }
      },
      "source": [
        "sample_string = 'TensorFlow, from basics to mastery.'\n",
        "\n",
        "tokenized_string = tokenizer.encode(sample_string)\n",
        "f'Tokenized string is: {tokenized_string}'"
      ],
      "execution_count": 7,
      "outputs": [
        {
          "output_type": "execute_result",
          "data": {
            "application/vnd.google.colaboratory.intrinsic+json": {
              "type": "string"
            },
            "text/plain": [
              "'Tokenized string is: [6307, 2327, 4043, 2120, 2, 48, 4249, 4429, 7, 2652, 8050, 7975]'"
            ]
          },
          "metadata": {
            "tags": []
          },
          "execution_count": 7
        }
      ]
    },
    {
      "cell_type": "code",
      "metadata": {
        "id": "zWPvku1kuZyx",
        "outputId": "70b1adf7-9921-434d-e0fd-c9a14b3f2ac0",
        "colab": {
          "base_uri": "https://localhost:8080/",
          "height": 35
        }
      },
      "source": [
        "original_string = tokenizer.decode(tokenized_string)\n",
        "f'The original (decoded) string: {original_string}'"
      ],
      "execution_count": 8,
      "outputs": [
        {
          "output_type": "execute_result",
          "data": {
            "application/vnd.google.colaboratory.intrinsic+json": {
              "type": "string"
            },
            "text/plain": [
              "'The original (decoded) string: TensorFlow, from basics to mastery.'"
            ]
          },
          "metadata": {
            "tags": []
          },
          "execution_count": 8
        }
      ]
    },
    {
      "cell_type": "code",
      "metadata": {
        "id": "EJPZePW7wrRY",
        "outputId": "152b098f-6d9b-436a-c550-5ebd7f729cd9",
        "colab": {
          "base_uri": "https://localhost:8080/"
        }
      },
      "source": [
        "for ts in tokenized_string:\n",
        "  print(f'{ts} --> {tokenizer.decode([ts])}')"
      ],
      "execution_count": 9,
      "outputs": [
        {
          "output_type": "stream",
          "text": [
            "6307 --> Ten\n",
            "2327 --> sor\n",
            "4043 --> Fl\n",
            "2120 --> ow\n",
            "2 --> , \n",
            "48 --> from \n",
            "4249 --> basi\n",
            "4429 --> cs \n",
            "7 --> to \n",
            "2652 --> master\n",
            "8050 --> y\n",
            "7975 --> .\n"
          ],
          "name": "stdout"
        }
      ]
    },
    {
      "cell_type": "code",
      "metadata": {
        "id": "uzW6sUsvwrUE"
      },
      "source": [
        "BUFFER_SIZE = 10000\n",
        "BATCH_SIZE = 64\n",
        "\n",
        "train_dataset = train_data.shuffle(BUFFER_SIZE)\n",
        "train_dataset = train_dataset.padded_batch(BATCH_SIZE, tf.compat.v1.data.get_output_shapes(train_dataset))\n",
        "test_dataset = test_data.padded_batch(BATCH_SIZE, tf.compat.v1.data.get_output_shapes(test_data))"
      ],
      "execution_count": 11,
      "outputs": []
    },
    {
      "cell_type": "code",
      "metadata": {
        "id": "fT3XWacE3POI",
        "outputId": "c5dc6f2b-d69b-44e5-d0f8-2bf220141993",
        "colab": {
          "base_uri": "https://localhost:8080/"
        }
      },
      "source": [
        "tokenizer.vocab_size"
      ],
      "execution_count": 12,
      "outputs": [
        {
          "output_type": "execute_result",
          "data": {
            "text/plain": [
              "8185"
            ]
          },
          "metadata": {
            "tags": []
          },
          "execution_count": 12
        }
      ]
    },
    {
      "cell_type": "code",
      "metadata": {
        "id": "R_T1APemwrJO",
        "outputId": "c128e5a6-9581-42f6-839e-edeb53c0160f",
        "colab": {
          "base_uri": "https://localhost:8080/"
        }
      },
      "source": [
        "embedding_dim = 64\n",
        "model = tf.keras.Sequential([\n",
        "    tf.keras.layers.Embedding(tokenizer.vocab_size, embedding_dim),\n",
        "    tf.keras.layers.GlobalAveragePooling1D(),\n",
        "    tf.keras.layers.Dense(6, activation='relu'),\n",
        "    tf.keras.layers.Dense(1, activation='sigmoid')\n",
        "])\n",
        "\n",
        "model.summary()"
      ],
      "execution_count": 13,
      "outputs": [
        {
          "output_type": "stream",
          "text": [
            "Model: \"sequential\"\n",
            "_________________________________________________________________\n",
            "Layer (type)                 Output Shape              Param #   \n",
            "=================================================================\n",
            "embedding (Embedding)        (None, None, 64)          523840    \n",
            "_________________________________________________________________\n",
            "global_average_pooling1d (Gl (None, 64)                0         \n",
            "_________________________________________________________________\n",
            "dense (Dense)                (None, 6)                 390       \n",
            "_________________________________________________________________\n",
            "dense_1 (Dense)              (None, 1)                 7         \n",
            "=================================================================\n",
            "Total params: 524,237\n",
            "Trainable params: 524,237\n",
            "Non-trainable params: 0\n",
            "_________________________________________________________________\n"
          ],
          "name": "stdout"
        }
      ]
    },
    {
      "cell_type": "code",
      "metadata": {
        "id": "S116wy_Y3a7Q",
        "outputId": "c5061de4-2bc3-42ee-9827-6293090636b4",
        "colab": {
          "base_uri": "https://localhost:8080/"
        }
      },
      "source": [
        "num_epochs = 10\n",
        "\n",
        "model.compile(loss='binary_crossentropy',optimizer='adam',metrics=['accuracy'])\n",
        "\n",
        "history = model.fit(train_dataset, epochs=num_epochs, validation_data=test_dataset)"
      ],
      "execution_count": 14,
      "outputs": [
        {
          "output_type": "stream",
          "text": [
            "Epoch 1/10\n",
            "391/391 [==============================] - 10s 26ms/step - loss: 0.6678 - accuracy: 0.6338 - val_loss: 0.6097 - val_accuracy: 0.7001\n",
            "Epoch 2/10\n",
            "391/391 [==============================] - 10s 26ms/step - loss: 0.4952 - accuracy: 0.8172 - val_loss: 0.4229 - val_accuracy: 0.8436\n",
            "Epoch 3/10\n",
            "391/391 [==============================] - 10s 26ms/step - loss: 0.3491 - accuracy: 0.8780 - val_loss: 0.3539 - val_accuracy: 0.8628\n",
            "Epoch 4/10\n",
            "391/391 [==============================] - 10s 26ms/step - loss: 0.2840 - accuracy: 0.8988 - val_loss: 0.3211 - val_accuracy: 0.8758\n",
            "Epoch 5/10\n",
            "391/391 [==============================] - 10s 26ms/step - loss: 0.2482 - accuracy: 0.9103 - val_loss: 0.3093 - val_accuracy: 0.8802\n",
            "Epoch 6/10\n",
            "391/391 [==============================] - 10s 25ms/step - loss: 0.2240 - accuracy: 0.9197 - val_loss: 0.3163 - val_accuracy: 0.8754\n",
            "Epoch 7/10\n",
            "391/391 [==============================] - 10s 25ms/step - loss: 0.2048 - accuracy: 0.9270 - val_loss: 0.3105 - val_accuracy: 0.8816\n",
            "Epoch 8/10\n",
            "391/391 [==============================] - 10s 26ms/step - loss: 0.1884 - accuracy: 0.9341 - val_loss: 0.3087 - val_accuracy: 0.8816\n",
            "Epoch 9/10\n",
            "391/391 [==============================] - 10s 26ms/step - loss: 0.1736 - accuracy: 0.9392 - val_loss: 0.3207 - val_accuracy: 0.8761\n",
            "Epoch 10/10\n",
            "391/391 [==============================] - 10s 26ms/step - loss: 0.1632 - accuracy: 0.9433 - val_loss: 0.3378 - val_accuracy: 0.8718\n"
          ],
          "name": "stdout"
        }
      ]
    },
    {
      "cell_type": "code",
      "metadata": {
        "id": "gHgmKCo94FoH",
        "outputId": "ca84e82d-c57f-4afd-fa0d-ee4e32a8c293",
        "colab": {
          "base_uri": "https://localhost:8080/",
          "height": 541
        }
      },
      "source": [
        "import matplotlib.pyplot as plt\n",
        "\n",
        "\n",
        "def plot_graphs(history, string):\n",
        "  plt.plot(history.history[string])\n",
        "  plt.plot(history.history['val_'+string])\n",
        "  plt.xlabel(\"Epochs\")\n",
        "  plt.ylabel(string)\n",
        "  plt.legend([string, 'val_'+string])\n",
        "  plt.show()\n",
        "  \n",
        "plot_graphs(history, \"accuracy\")\n",
        "plot_graphs(history, \"loss\")"
      ],
      "execution_count": 15,
      "outputs": [
        {
          "output_type": "display_data",
          "data": {
            "image/png": "[encoded data removed]",
            "text/plain": [
              "<Figure size 432x288 with 1 Axes>"
            ]
          },
          "metadata": {
            "tags": [],
            "needs_background": "light"
          }
        },
        {
          "output_type": "display_data",
          "data": {
            "image/png": "[encoded data removed]",
            "text/plain": [
              "<Figure size 432x288 with 1 Axes>"
            ]
          },
          "metadata": {
            "tags": [],
            "needs_background": "light"
          }
        }
      ]
    },
    {
      "cell_type": "code",
      "metadata": {
        "id": "OF5QRCPG4Sj8",
        "outputId": "2f024691-f71c-460c-9959-4e81fe60358e",
        "colab": {
          "base_uri": "https://localhost:8080/"
        }
      },
      "source": [
        "e = model.layers[0]\n",
        "weights = e.get_weights()[0]\n",
        "print(weights.shape) # shape: (vocab_size, embedding_dim)\n",
        "\n",
        "import io\n",
        "\n",
        "out_v = io.open('vecs.tsv', 'w', encoding='utf-8')\n",
        "out_m = io.open('meta.tsv', 'w', encoding='utf-8')\n",
        "for word_num in range(1, tokenizer.vocab_size):\n",
        "  word = tokenizer.decode([word_num])\n",
        "  embeddings = weights[word_num]\n",
        "  out_m.write(word + \"\\n\")\n",
        "  out_v.write('\\t'.join([str(x) for x in embeddings]) + \"\\n\")\n",
        "out_v.close()\n",
        "out_m.close()"
      ],
      "execution_count": 16,
      "outputs": [
        {
          "output_type": "stream",
          "text": [
            "(8185, 64)\n"
          ],
          "name": "stdout"
        }
      ]
    }
  ]
}