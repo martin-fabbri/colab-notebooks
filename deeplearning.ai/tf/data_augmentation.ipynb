{
  "nbformat": 4,
  "nbformat_minor": 0,
  "metadata": {
    "colab": {
      "name": "data-augmentation.ipynb",
      "provenance": [],
      "authorship_tag": "ABX9TyP3xC+4cdijjEOhJ7HCrOBP",
      "include_colab_link": true
    },
    "kernelspec": {
      "name": "python3",
      "display_name": "Python 3"
    }
  },
  "cells": [
    {
      "cell_type": "markdown",
      "metadata": {
        "id": "view-in-github",
        "colab_type": "text"
      },
      "source": [
        "<a href=\"https://colab.research.google.com/github/martin-fabbri/colab-notebooks/blob/master/deeplearning.ai/tf/data_augmentation.ipynb\" target=\"_parent\"><img src=\"https://colab.research.google.com/assets/colab-badge.svg\" alt=\"Open In Colab\"/></a>"
      ]
    },
    {
      "cell_type": "markdown",
      "metadata": {
        "id": "ig70FmAPtcaf"
      },
      "source": [
        "# Data Augmentation\n",
        "\n",
        "Data augmentation is a technique that increases teh fiversity of your training set by applying random (but realistic) transformations such as image rotation. TF enables a couple of approach to implement data augmentation: `keras preprocessing layers` and `tf.image`."
      ]
    },
    {
      "cell_type": "code",
      "metadata": {
        "id": "prtyLIS7tT7q"
      },
      "source": [
        ""
      ],
      "execution_count": null,
      "outputs": []
    }
  ]
}