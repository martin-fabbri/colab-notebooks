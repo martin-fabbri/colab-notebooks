{
  "nbformat": 4,
  "nbformat_minor": 0,
  "metadata": {
    "colab": {
      "name": "c4_w3_simple_rnn.ipynb",
      "provenance": [],
      "collapsed_sections": [],
      "authorship_tag": "ABX9TyMDMYtITM9E1FBCevOKos5T",
      "include_colab_link": true
    },
    "kernelspec": {
      "name": "python3",
      "display_name": "Python 3"
    },
    "accelerator": "GPU"
  },
  "cells": [
    {
      "cell_type": "markdown",
      "metadata": {
        "id": "view-in-github",
        "colab_type": "text"
      },
      "source": [
        "<a href=\"https://colab.research.google.com/github/martin-fabbri/colab-notebooks/blob/master/deeplearning.ai/tf/c4_w3_simple_rnn.ipynb\" target=\"_parent\"><img src=\"https://colab.research.google.com/assets/colab-badge.svg\" alt=\"Open In Colab\"/></a>"
      ]
    },
    {
      "cell_type": "code",
      "metadata": {
        "colab": {
          "base_uri": "https://localhost:8080/",
          "height": 35
        },
        "id": "-ALbVIkbRtow",
        "outputId": "b65d4949-a4bb-4e94-be16-e4299a6606f7"
      },
      "source": [
        "import tensorflow as tf\r\n",
        "import numpy as np\r\n",
        "import matplotlib.pyplot as plt\r\n",
        "\r\n",
        "from tensorflow.data import Dataset\r\n",
        "from tensorflow.keras.backend import clear_session\r\n",
        "from tensorflow.random import set_seed\r\n",
        "from tensorflow.keras import Sequential\r\n",
        "from tensorflow.keras.layers import Lambda, SimpleRNN, Dense\r\n",
        "from tensorflow.keras.callbacks import LearningRateScheduler\r\n",
        "from tensorflow.keras.losses import Huber\r\n",
        "from tensorflow.keras.optimizers import SGD\r\n",
        "from tensorflow.keras.metrics import mean_absolute_error\r\n",
        "\r\n",
        "tf.__version__"
      ],
      "execution_count": 1,
      "outputs": [
        {
          "output_type": "execute_result",
          "data": {
            "application/vnd.google.colaboratory.intrinsic+json": {
              "type": "string"
            },
            "text/plain": [
              "'2.4.0'"
            ]
          },
          "metadata": {
            "tags": []
          },
          "execution_count": 1
        }
      ]
    },
    {
      "cell_type": "code",
      "metadata": {
        "id": "MLqyGFhySCLQ"
      },
      "source": [
        "def plot_series(time, series, format=\"-\", start=0, end=None):\r\n",
        "    plt.plot(time[start:end], series[start:end], format)\r\n",
        "    plt.xlabel(\"Time\")\r\n",
        "    plt.ylabel(\"Value\")\r\n",
        "    plt.grid(True)\r\n",
        "\r\n",
        "def trend(time, slope=0):\r\n",
        "    return slope * time\r\n",
        "\r\n",
        "def seasonal_pattern(season_time):\r\n",
        "    return np.where(season_time < 0.4,\r\n",
        "                    np.cos(season_time * 2 * np.pi),\r\n",
        "                    1 / np.exp(3 * season_time))\r\n",
        "    \r\n",
        "def seasonality(time, period, amplitude=1, phase=0):\r\n",
        "    season_time = ((time + phase) % period) / period\r\n",
        "    return amplitude * seasonal_pattern(season_time)\r\n",
        "\r\n",
        "def noise(time, noise_level=1, seed=None):\r\n",
        "    rnd = np.random.RandomState(seed)\r\n",
        "    return rnd.randn(len(time)) * noise_level"
      ],
      "execution_count": 2,
      "outputs": []
    },
    {
      "cell_type": "code",
      "metadata": {
        "id": "Uk651cLme_sa"
      },
      "source": [
        "time = np.arange(4 * 365 + 1, dtype=\"float32\")\r\n",
        "series = trend(time, 0.1)\r\n",
        "baseline = 10\r\n",
        "amplitude = 40\r\n",
        "slope = 0.05\r\n",
        "noise_level = 5\r\n",
        "trend_series = trend(time, slope)\r\n",
        "seasonality_series = seasonality(time, period=365, amplitude=amplitude)\r\n",
        "noise_series = noise(time, noise_level, seed=42)\r\n",
        "series = baseline + trend_series + seasonality_series + noise_series"
      ],
      "execution_count": 3,
      "outputs": []
    },
    {
      "cell_type": "code",
      "metadata": {
        "id": "Fl4x9qGFf1Do"
      },
      "source": [
        "split_time = 1000\r\n",
        "time_train = time[:split_time]\r\n",
        "x_train = series[:split_time]\r\n",
        "time_valid = time[split_time:]\r\n",
        "x_valid = series[split_time:]"
      ],
      "execution_count": 4,
      "outputs": []
    },
    {
      "cell_type": "code",
      "metadata": {
        "id": "4ZG3wiiIivPI"
      },
      "source": [
        "window_size = 20\r\n",
        "batch_size = 32\r\n",
        "shuffle_buffer_size = 1000\r\n",
        "\r\n",
        "def windowed_dataset(series, window_size, batch_size, shuffle_buffer):\r\n",
        "    dataset = Dataset.from_tensor_slices(series)\r\n",
        "    dataset = dataset.window(window_size + 1, shift=1, drop_remainder=True)\r\n",
        "    dataset = dataset.flat_map(lambda window: window.batch(window_size + 1))\r\n",
        "    dataset = dataset.shuffle(shuffle_buffer).map(\r\n",
        "        lambda window: (window[:-1], window[-1])\r\n",
        "    )\r\n",
        "    dataset = dataset.batch(batch_size).prefetch(1)\r\n",
        "    return dataset"
      ],
      "execution_count": 5,
      "outputs": []
    },
    {
      "cell_type": "code",
      "metadata": {
        "id": "n_UForLXjn1I"
      },
      "source": [
        "clear_session()\r\n",
        "set_seed(51)\r\n",
        "np.random.seed(51)\r\n",
        "\r\n",
        "train_set = windowed_dataset(\r\n",
        "    x_train, window_size, batch_size=128, shuffle_buffer=shuffle_buffer_size\r\n",
        ")"
      ],
      "execution_count": 6,
      "outputs": []
    },
    {
      "cell_type": "code",
      "metadata": {
        "colab": {
          "base_uri": "https://localhost:8080/"
        },
        "id": "rJA-cQhSkIsk",
        "outputId": "7fabb30c-ad1e-49d4-9455-7779e816f4e2"
      },
      "source": [
        "model = Sequential([\r\n",
        "    Lambda(lambda x: tf.expand_dims(x, axis=-1), input_shape=[None]),\r\n",
        "    SimpleRNN(40, return_sequences=True),\r\n",
        "    SimpleRNN(40),\r\n",
        "    Dense(1),\r\n",
        "    Lambda(lambda x: x * 100.0)\r\n",
        "])\r\n",
        "\r\n",
        "lr_schedule = LearningRateScheduler(lambda epoch: 1e-8 * 10**(epoch / 20))\r\n",
        "optimizer = SGD(lr=1e-8, momentum=0.9)\r\n",
        "model.compile(loss=Huber(), optimizer=optimizer, metrics=[\"mae\"])\r\n",
        "history = model.fit(train_set, epochs=100, callbacks=[lr_schedule])"
      ],
      "execution_count": 7,
      "outputs": [
        {
          "output_type": "stream",
          "text": [
            "Epoch 1/100\n",
            "8/8 [==============================] - 2s 30ms/step - loss: 194.6264 - mae: 195.1264\n",
            "Epoch 2/100\n",
            "8/8 [==============================] - 0s 31ms/step - loss: 195.2580 - mae: 195.7580\n",
            "Epoch 3/100\n",
            "8/8 [==============================] - 0s 28ms/step - loss: 193.9793 - mae: 194.4793\n",
            "Epoch 4/100\n",
            "8/8 [==============================] - 0s 28ms/step - loss: 192.3059 - mae: 192.8059\n",
            "Epoch 5/100\n",
            "8/8 [==============================] - 0s 26ms/step - loss: 189.4673 - mae: 189.9673\n",
            "Epoch 6/100\n",
            "8/8 [==============================] - 0s 31ms/step - loss: 187.5114 - mae: 188.0114\n",
            "Epoch 7/100\n",
            "8/8 [==============================] - 0s 30ms/step - loss: 185.2976 - mae: 185.7976\n",
            "Epoch 8/100\n",
            "8/8 [==============================] - 0s 29ms/step - loss: 183.4114 - mae: 183.9114\n",
            "Epoch 9/100\n",
            "8/8 [==============================] - 0s 27ms/step - loss: 180.7796 - mae: 181.2796\n",
            "Epoch 10/100\n",
            "8/8 [==============================] - 0s 31ms/step - loss: 176.5626 - mae: 177.0626\n",
            "Epoch 11/100\n",
            "8/8 [==============================] - 0s 30ms/step - loss: 172.3047 - mae: 172.8047\n",
            "Epoch 12/100\n",
            "8/8 [==============================] - 0s 26ms/step - loss: 167.3889 - mae: 167.8889\n",
            "Epoch 13/100\n",
            "8/8 [==============================] - 0s 29ms/step - loss: 162.5601 - mae: 163.0601\n",
            "Epoch 14/100\n",
            "8/8 [==============================] - 0s 28ms/step - loss: 154.1899 - mae: 154.6899\n",
            "Epoch 15/100\n",
            "8/8 [==============================] - 0s 27ms/step - loss: 146.8882 - mae: 147.3882\n",
            "Epoch 16/100\n",
            "8/8 [==============================] - 0s 28ms/step - loss: 137.2157 - mae: 137.7157\n",
            "Epoch 17/100\n",
            "8/8 [==============================] - 0s 26ms/step - loss: 124.9229 - mae: 125.4229\n",
            "Epoch 18/100\n",
            "8/8 [==============================] - 0s 27ms/step - loss: 108.4339 - mae: 108.9339\n",
            "Epoch 19/100\n",
            "8/8 [==============================] - 0s 30ms/step - loss: 88.2527 - mae: 88.7527\n",
            "Epoch 20/100\n",
            "8/8 [==============================] - 0s 29ms/step - loss: 62.6947 - mae: 63.1947\n",
            "Epoch 21/100\n",
            "8/8 [==============================] - 0s 28ms/step - loss: 34.4743 - mae: 34.9717\n",
            "Epoch 22/100\n",
            "8/8 [==============================] - 0s 30ms/step - loss: 24.8572 - mae: 25.3542\n",
            "Epoch 23/100\n",
            "8/8 [==============================] - 0s 28ms/step - loss: 23.2316 - mae: 23.7294\n",
            "Epoch 24/100\n",
            "8/8 [==============================] - 0s 28ms/step - loss: 21.5919 - mae: 22.0883\n",
            "Epoch 25/100\n",
            "8/8 [==============================] - 0s 28ms/step - loss: 17.7768 - mae: 18.2727\n",
            "Epoch 26/100\n",
            "8/8 [==============================] - 0s 30ms/step - loss: 14.5748 - mae: 15.0648\n",
            "Epoch 27/100\n",
            "8/8 [==============================] - 0s 28ms/step - loss: 10.9263 - mae: 11.4149\n",
            "Epoch 28/100\n",
            "8/8 [==============================] - 0s 29ms/step - loss: 9.6484 - mae: 10.1360\n",
            "Epoch 29/100\n",
            "8/8 [==============================] - 0s 27ms/step - loss: 8.3422 - mae: 8.8231\n",
            "Epoch 30/100\n",
            "8/8 [==============================] - 0s 27ms/step - loss: 7.7374 - mae: 8.2191\n",
            "Epoch 31/100\n",
            "8/8 [==============================] - 0s 29ms/step - loss: 7.8057 - mae: 8.2859\n",
            "Epoch 32/100\n",
            "8/8 [==============================] - 0s 29ms/step - loss: 7.1916 - mae: 7.6698\n",
            "Epoch 33/100\n",
            "8/8 [==============================] - 0s 29ms/step - loss: 7.2634 - mae: 7.7403\n",
            "Epoch 34/100\n",
            "8/8 [==============================] - 0s 31ms/step - loss: 8.0607 - mae: 8.5389\n",
            "Epoch 35/100\n",
            "8/8 [==============================] - 0s 31ms/step - loss: 7.3852 - mae: 7.8662\n",
            "Epoch 36/100\n",
            "8/8 [==============================] - 0s 28ms/step - loss: 7.5370 - mae: 8.0163\n",
            "Epoch 37/100\n",
            "8/8 [==============================] - 0s 30ms/step - loss: 7.4615 - mae: 7.9401\n",
            "Epoch 38/100\n",
            "8/8 [==============================] - 0s 33ms/step - loss: 7.4145 - mae: 7.8897\n",
            "Epoch 39/100\n",
            "8/8 [==============================] - 0s 30ms/step - loss: 7.2729 - mae: 7.7470\n",
            "Epoch 40/100\n",
            "8/8 [==============================] - 0s 29ms/step - loss: 7.3074 - mae: 7.7837\n",
            "Epoch 41/100\n",
            "8/8 [==============================] - 0s 30ms/step - loss: 7.3650 - mae: 7.8424\n",
            "Epoch 42/100\n",
            "8/8 [==============================] - 0s 28ms/step - loss: 7.4751 - mae: 7.9595\n",
            "Epoch 43/100\n",
            "8/8 [==============================] - 0s 28ms/step - loss: 7.3051 - mae: 7.7861\n",
            "Epoch 44/100\n",
            "8/8 [==============================] - 0s 30ms/step - loss: 6.9602 - mae: 7.4341\n",
            "Epoch 45/100\n",
            "8/8 [==============================] - 0s 26ms/step - loss: 7.1033 - mae: 7.5853\n",
            "Epoch 46/100\n",
            "8/8 [==============================] - 0s 26ms/step - loss: 6.6968 - mae: 7.1774\n",
            "Epoch 47/100\n",
            "8/8 [==============================] - 0s 28ms/step - loss: 6.8120 - mae: 7.2889\n",
            "Epoch 48/100\n",
            "8/8 [==============================] - 0s 29ms/step - loss: 7.3882 - mae: 7.8713\n",
            "Epoch 49/100\n",
            "8/8 [==============================] - 0s 31ms/step - loss: 7.1568 - mae: 7.6414\n",
            "Epoch 50/100\n",
            "8/8 [==============================] - 0s 27ms/step - loss: 6.6858 - mae: 7.1640\n",
            "Epoch 51/100\n",
            "8/8 [==============================] - 0s 26ms/step - loss: 7.1206 - mae: 7.6038\n",
            "Epoch 52/100\n",
            "8/8 [==============================] - 0s 27ms/step - loss: 7.3728 - mae: 7.8564\n",
            "Epoch 53/100\n",
            "8/8 [==============================] - 0s 26ms/step - loss: 6.8408 - mae: 7.3255\n",
            "Epoch 54/100\n",
            "8/8 [==============================] - 0s 28ms/step - loss: 6.5051 - mae: 6.9833\n",
            "Epoch 55/100\n",
            "8/8 [==============================] - 0s 30ms/step - loss: 7.1518 - mae: 7.6347\n",
            "Epoch 56/100\n",
            "8/8 [==============================] - 0s 32ms/step - loss: 6.0455 - mae: 6.5223\n",
            "Epoch 57/100\n",
            "8/8 [==============================] - 0s 32ms/step - loss: 6.1065 - mae: 6.5816\n",
            "Epoch 58/100\n",
            "8/8 [==============================] - 0s 28ms/step - loss: 8.2521 - mae: 8.7406\n",
            "Epoch 59/100\n",
            "8/8 [==============================] - 0s 30ms/step - loss: 7.4506 - mae: 7.9389\n",
            "Epoch 60/100\n",
            "8/8 [==============================] - 0s 30ms/step - loss: 7.5397 - mae: 8.0284\n",
            "Epoch 61/100\n",
            "8/8 [==============================] - 0s 28ms/step - loss: 6.9725 - mae: 7.4547\n",
            "Epoch 62/100\n",
            "8/8 [==============================] - 0s 29ms/step - loss: 12.4106 - mae: 12.9057\n",
            "Epoch 63/100\n",
            "8/8 [==============================] - 0s 27ms/step - loss: 12.0967 - mae: 12.5902\n",
            "Epoch 64/100\n",
            "8/8 [==============================] - 0s 28ms/step - loss: 10.5563 - mae: 11.0464\n",
            "Epoch 65/100\n",
            "8/8 [==============================] - 0s 30ms/step - loss: 8.0720 - mae: 8.5606\n",
            "Epoch 66/100\n",
            "8/8 [==============================] - 0s 30ms/step - loss: 5.9729 - mae: 6.4541\n",
            "Epoch 67/100\n",
            "8/8 [==============================] - 0s 30ms/step - loss: 6.0000 - mae: 6.4824\n",
            "Epoch 68/100\n",
            "8/8 [==============================] - 0s 30ms/step - loss: 5.9313 - mae: 6.4147\n",
            "Epoch 69/100\n",
            "8/8 [==============================] - 0s 31ms/step - loss: 8.1667 - mae: 8.6540\n",
            "Epoch 70/100\n",
            "8/8 [==============================] - 0s 29ms/step - loss: 16.4852 - mae: 16.9837\n",
            "Epoch 71/100\n",
            "8/8 [==============================] - 0s 28ms/step - loss: 12.0227 - mae: 12.5131\n",
            "Epoch 72/100\n",
            "8/8 [==============================] - 0s 30ms/step - loss: 14.9116 - mae: 15.4081\n",
            "Epoch 73/100\n",
            "8/8 [==============================] - 0s 31ms/step - loss: 12.7231 - mae: 13.2140\n",
            "Epoch 74/100\n",
            "8/8 [==============================] - 0s 27ms/step - loss: 6.4883 - mae: 6.9694\n",
            "Epoch 75/100\n",
            "8/8 [==============================] - 0s 28ms/step - loss: 10.7254 - mae: 11.2214\n",
            "Epoch 76/100\n",
            "8/8 [==============================] - 0s 30ms/step - loss: 12.9207 - mae: 13.4150\n",
            "Epoch 77/100\n",
            "8/8 [==============================] - 0s 28ms/step - loss: 15.4894 - mae: 15.9853\n",
            "Epoch 78/100\n",
            "8/8 [==============================] - 0s 30ms/step - loss: 14.5326 - mae: 15.0266\n",
            "Epoch 79/100\n",
            "8/8 [==============================] - 0s 26ms/step - loss: 13.0513 - mae: 13.5462\n",
            "Epoch 80/100\n",
            "8/8 [==============================] - 0s 30ms/step - loss: 19.3758 - mae: 19.8748\n",
            "Epoch 81/100\n",
            "8/8 [==============================] - 0s 30ms/step - loss: 13.6559 - mae: 14.1501\n",
            "Epoch 82/100\n",
            "8/8 [==============================] - 0s 29ms/step - loss: 9.6938 - mae: 10.1831\n",
            "Epoch 83/100\n",
            "8/8 [==============================] - 0s 29ms/step - loss: 14.8806 - mae: 15.3758\n",
            "Epoch 84/100\n",
            "8/8 [==============================] - 0s 29ms/step - loss: 15.9785 - mae: 16.4719\n",
            "Epoch 85/100\n",
            "8/8 [==============================] - 0s 29ms/step - loss: 19.7785 - mae: 20.2738\n",
            "Epoch 86/100\n",
            "8/8 [==============================] - 0s 33ms/step - loss: 27.1210 - mae: 27.6200\n",
            "Epoch 87/100\n",
            "8/8 [==============================] - 0s 31ms/step - loss: 29.8963 - mae: 30.3936\n",
            "Epoch 88/100\n",
            "8/8 [==============================] - 0s 30ms/step - loss: 24.9836 - mae: 25.4813\n",
            "Epoch 89/100\n",
            "8/8 [==============================] - 0s 29ms/step - loss: 19.0546 - mae: 19.5505\n",
            "Epoch 90/100\n",
            "8/8 [==============================] - 0s 28ms/step - loss: 26.2442 - mae: 26.7414\n",
            "Epoch 91/100\n",
            "8/8 [==============================] - 0s 30ms/step - loss: 19.5398 - mae: 20.0364\n",
            "Epoch 92/100\n",
            "8/8 [==============================] - 0s 31ms/step - loss: 33.6583 - mae: 34.1548\n",
            "Epoch 93/100\n",
            "8/8 [==============================] - 0s 28ms/step - loss: 50.3155 - mae: 50.8127\n",
            "Epoch 94/100\n",
            "8/8 [==============================] - 0s 29ms/step - loss: 51.6819 - mae: 52.1807\n",
            "Epoch 95/100\n",
            "8/8 [==============================] - 0s 27ms/step - loss: 33.2157 - mae: 33.7104\n",
            "Epoch 96/100\n",
            "8/8 [==============================] - 0s 30ms/step - loss: 26.5861 - mae: 27.0826\n",
            "Epoch 97/100\n",
            "8/8 [==============================] - 0s 28ms/step - loss: 27.8096 - mae: 28.3069\n",
            "Epoch 98/100\n",
            "8/8 [==============================] - 0s 30ms/step - loss: 42.7176 - mae: 43.2159\n",
            "Epoch 99/100\n",
            "8/8 [==============================] - 0s 29ms/step - loss: 52.3938 - mae: 52.8927\n",
            "Epoch 100/100\n",
            "8/8 [==============================] - 0s 28ms/step - loss: 118.6865 - mae: 119.1860\n"
          ],
          "name": "stdout"
        }
      ]
    },
    {
      "cell_type": "code",
      "metadata": {
        "colab": {
          "base_uri": "https://localhost:8080/",
          "height": 273
        },
        "id": "KGDOW4B4ny52",
        "outputId": "7e29c86d-d36b-464f-e016-8a3646005ffb"
      },
      "source": [
        "plt.semilogx(history.history[\"lr\"], history.history[\"loss\"])\r\n",
        "plt.axis([1e-8, 1e-4, 0, 30]);"
      ],
      "execution_count": 8,
      "outputs": [
        {
          "output_type": "display_data",
          "data": {
            "image/png": "[encoded data removed]",
            "text/plain": [
              "<Figure size 432x288 with 1 Axes>"
            ]
          },
          "metadata": {
            "tags": [],
            "needs_background": "light"
          }
        }
      ]
    },
    {
      "cell_type": "code",
      "metadata": {
        "colab": {
          "base_uri": "https://localhost:8080/"
        },
        "id": "7xJWAy2sp4rX",
        "outputId": "5bb344f7-13e2-4afb-9915-b6de430fec99"
      },
      "source": [
        "clear_session()\r\n",
        "set_seed(51)\r\n",
        "np.random.seed(51)\r\n",
        "\r\n",
        "train_set = windowed_dataset(\r\n",
        "    x_train, window_size, batch_size=128, shuffle_buffer=shuffle_buffer_size\r\n",
        ")\r\n",
        "\r\n",
        "model = Sequential([\r\n",
        "    Lambda(lambda x: tf.expand_dims(x, axis=-1), input_shape=[None]),\r\n",
        "    SimpleRNN(40, return_sequences=True),\r\n",
        "    SimpleRNN(40),\r\n",
        "    Dense(1),\r\n",
        "    Lambda(lambda x: x * 100.0)\r\n",
        "])\r\n",
        "\r\n",
        "optimizer = SGD(lr=1e-5, momentum=0.9)\r\n",
        "model.compile(loss=Huber(), optimizer=optimizer, metrics=[\"mae\"])\r\n",
        "history = model.fit(train_set, epochs=100)"
      ],
      "execution_count": 9,
      "outputs": [
        {
          "output_type": "stream",
          "text": [
            "Epoch 1/100\n",
            "8/8 [==============================] - 1s 29ms/step - loss: 137.1878 - mae: 137.6871\n",
            "Epoch 2/100\n",
            "8/8 [==============================] - 0s 27ms/step - loss: 32.3148 - mae: 32.8131\n",
            "Epoch 3/100\n",
            "8/8 [==============================] - 0s 29ms/step - loss: 17.5521 - mae: 18.0466\n",
            "Epoch 4/100\n",
            "8/8 [==============================] - 0s 28ms/step - loss: 15.4582 - mae: 15.9556\n",
            "Epoch 5/100\n",
            "8/8 [==============================] - 0s 28ms/step - loss: 10.9417 - mae: 11.4338\n",
            "Epoch 6/100\n",
            "8/8 [==============================] - 0s 29ms/step - loss: 9.2312 - mae: 9.7215\n",
            "Epoch 7/100\n",
            "8/8 [==============================] - 0s 27ms/step - loss: 8.5810 - mae: 9.0656\n",
            "Epoch 8/100\n",
            "8/8 [==============================] - 0s 29ms/step - loss: 6.5224 - mae: 7.0092\n",
            "Epoch 9/100\n",
            "8/8 [==============================] - 0s 28ms/step - loss: 6.0997 - mae: 6.5834\n",
            "Epoch 10/100\n",
            "8/8 [==============================] - 0s 27ms/step - loss: 5.5826 - mae: 6.0613\n",
            "Epoch 11/100\n",
            "8/8 [==============================] - 0s 28ms/step - loss: 6.8873 - mae: 7.3736\n",
            "Epoch 12/100\n",
            "8/8 [==============================] - 0s 27ms/step - loss: 5.8549 - mae: 6.3278\n",
            "Epoch 13/100\n",
            "8/8 [==============================] - 0s 29ms/step - loss: 5.4189 - mae: 5.8981\n",
            "Epoch 14/100\n",
            "8/8 [==============================] - 0s 29ms/step - loss: 5.8164 - mae: 6.2964\n",
            "Epoch 15/100\n",
            "8/8 [==============================] - 0s 31ms/step - loss: 5.3918 - mae: 5.8739\n",
            "Epoch 16/100\n",
            "8/8 [==============================] - 0s 28ms/step - loss: 6.0121 - mae: 6.4958\n",
            "Epoch 17/100\n",
            "8/8 [==============================] - 0s 27ms/step - loss: 5.0047 - mae: 5.4847\n",
            "Epoch 18/100\n",
            "8/8 [==============================] - 0s 29ms/step - loss: 5.2276 - mae: 5.7010\n",
            "Epoch 19/100\n",
            "8/8 [==============================] - 0s 27ms/step - loss: 5.4546 - mae: 5.9308\n",
            "Epoch 20/100\n",
            "8/8 [==============================] - 0s 27ms/step - loss: 5.6434 - mae: 6.1253\n",
            "Epoch 21/100\n",
            "8/8 [==============================] - 0s 27ms/step - loss: 5.3898 - mae: 5.8647\n",
            "Epoch 22/100\n",
            "8/8 [==============================] - 0s 26ms/step - loss: 5.5496 - mae: 6.0316\n",
            "Epoch 23/100\n",
            "8/8 [==============================] - 0s 27ms/step - loss: 5.7398 - mae: 6.2231\n",
            "Epoch 24/100\n",
            "8/8 [==============================] - 0s 28ms/step - loss: 5.2116 - mae: 5.6906\n",
            "Epoch 25/100\n",
            "8/8 [==============================] - 0s 28ms/step - loss: 6.1083 - mae: 6.5912\n",
            "Epoch 26/100\n",
            "8/8 [==============================] - 0s 28ms/step - loss: 6.7727 - mae: 7.2591\n",
            "Epoch 27/100\n",
            "8/8 [==============================] - 0s 29ms/step - loss: 5.7020 - mae: 6.1843\n",
            "Epoch 28/100\n",
            "8/8 [==============================] - 0s 28ms/step - loss: 5.5750 - mae: 6.0544\n",
            "Epoch 29/100\n",
            "8/8 [==============================] - 0s 29ms/step - loss: 5.0103 - mae: 5.4926\n",
            "Epoch 30/100\n",
            "8/8 [==============================] - 0s 27ms/step - loss: 5.7997 - mae: 6.2838\n",
            "Epoch 31/100\n",
            "8/8 [==============================] - 0s 27ms/step - loss: 4.9104 - mae: 5.3918\n",
            "Epoch 32/100\n",
            "8/8 [==============================] - 0s 28ms/step - loss: 5.1085 - mae: 5.5905\n",
            "Epoch 33/100\n",
            "8/8 [==============================] - 0s 27ms/step - loss: 5.1881 - mae: 5.6681\n",
            "Epoch 34/100\n",
            "8/8 [==============================] - 0s 26ms/step - loss: 5.6770 - mae: 6.1593\n",
            "Epoch 35/100\n",
            "8/8 [==============================] - 0s 28ms/step - loss: 6.0458 - mae: 6.5257\n",
            "Epoch 36/100\n",
            "8/8 [==============================] - 0s 28ms/step - loss: 5.5425 - mae: 6.0185\n",
            "Epoch 37/100\n",
            "8/8 [==============================] - 0s 29ms/step - loss: 5.0147 - mae: 5.4920\n",
            "Epoch 38/100\n",
            "8/8 [==============================] - 0s 29ms/step - loss: 5.0395 - mae: 5.5147\n",
            "Epoch 39/100\n",
            "8/8 [==============================] - 0s 30ms/step - loss: 5.3479 - mae: 5.8270\n",
            "Epoch 40/100\n",
            "8/8 [==============================] - 0s 27ms/step - loss: 5.2723 - mae: 5.7551\n",
            "Epoch 41/100\n",
            "8/8 [==============================] - 0s 29ms/step - loss: 4.8401 - mae: 5.3179\n",
            "Epoch 42/100\n",
            "8/8 [==============================] - 0s 27ms/step - loss: 4.8802 - mae: 5.3625\n",
            "Epoch 43/100\n",
            "8/8 [==============================] - 0s 28ms/step - loss: 4.6651 - mae: 5.1403\n",
            "Epoch 44/100\n",
            "8/8 [==============================] - 0s 26ms/step - loss: 4.7147 - mae: 5.1915\n",
            "Epoch 45/100\n",
            "8/8 [==============================] - 0s 29ms/step - loss: 4.6789 - mae: 5.1541\n",
            "Epoch 46/100\n",
            "8/8 [==============================] - 0s 29ms/step - loss: 4.7584 - mae: 5.2360\n",
            "Epoch 47/100\n",
            "8/8 [==============================] - 0s 26ms/step - loss: 5.5434 - mae: 6.0245\n",
            "Epoch 48/100\n",
            "8/8 [==============================] - 0s 28ms/step - loss: 6.5747 - mae: 7.0608\n",
            "Epoch 49/100\n",
            "8/8 [==============================] - 0s 27ms/step - loss: 6.4084 - mae: 6.8958\n",
            "Epoch 50/100\n",
            "8/8 [==============================] - 0s 27ms/step - loss: 6.1741 - mae: 6.6544\n",
            "Epoch 51/100\n",
            "8/8 [==============================] - 0s 29ms/step - loss: 5.2057 - mae: 5.6840\n",
            "Epoch 52/100\n",
            "8/8 [==============================] - 0s 27ms/step - loss: 4.9681 - mae: 5.4457\n",
            "Epoch 53/100\n",
            "8/8 [==============================] - 0s 29ms/step - loss: 4.7444 - mae: 5.2192\n",
            "Epoch 54/100\n",
            "8/8 [==============================] - 0s 25ms/step - loss: 4.6225 - mae: 5.1000\n",
            "Epoch 55/100\n",
            "8/8 [==============================] - 0s 29ms/step - loss: 5.0018 - mae: 5.4817\n",
            "Epoch 56/100\n",
            "8/8 [==============================] - 0s 30ms/step - loss: 5.3735 - mae: 5.8554\n",
            "Epoch 57/100\n",
            "8/8 [==============================] - 0s 29ms/step - loss: 5.7124 - mae: 6.1975\n",
            "Epoch 58/100\n",
            "8/8 [==============================] - 0s 27ms/step - loss: 5.6384 - mae: 6.1176\n",
            "Epoch 59/100\n",
            "8/8 [==============================] - 0s 30ms/step - loss: 5.9395 - mae: 6.4194\n",
            "Epoch 60/100\n",
            "8/8 [==============================] - 0s 28ms/step - loss: 5.4310 - mae: 5.9138\n",
            "Epoch 61/100\n",
            "8/8 [==============================] - 0s 29ms/step - loss: 6.0663 - mae: 6.5503\n",
            "Epoch 62/100\n",
            "8/8 [==============================] - 0s 31ms/step - loss: 6.5794 - mae: 7.0572\n",
            "Epoch 63/100\n",
            "8/8 [==============================] - 0s 29ms/step - loss: 6.4962 - mae: 6.9801\n",
            "Epoch 64/100\n",
            "8/8 [==============================] - 0s 30ms/step - loss: 5.2538 - mae: 5.7370\n",
            "Epoch 65/100\n",
            "8/8 [==============================] - 0s 30ms/step - loss: 4.8938 - mae: 5.3721\n",
            "Epoch 66/100\n",
            "8/8 [==============================] - 0s 30ms/step - loss: 4.9905 - mae: 5.4704\n",
            "Epoch 67/100\n",
            "8/8 [==============================] - 0s 31ms/step - loss: 4.9918 - mae: 5.4673\n",
            "Epoch 68/100\n",
            "8/8 [==============================] - 0s 30ms/step - loss: 5.1792 - mae: 5.6591\n",
            "Epoch 69/100\n",
            "8/8 [==============================] - 0s 30ms/step - loss: 5.7471 - mae: 6.2290\n",
            "Epoch 70/100\n",
            "8/8 [==============================] - 0s 33ms/step - loss: 5.7879 - mae: 6.2717\n",
            "Epoch 71/100\n",
            "8/8 [==============================] - 0s 29ms/step - loss: 5.3558 - mae: 5.8364\n",
            "Epoch 72/100\n",
            "8/8 [==============================] - 0s 28ms/step - loss: 5.4989 - mae: 5.9788\n",
            "Epoch 73/100\n",
            "8/8 [==============================] - 0s 28ms/step - loss: 4.6403 - mae: 5.1125\n",
            "Epoch 74/100\n",
            "8/8 [==============================] - 0s 29ms/step - loss: 4.7156 - mae: 5.1941\n",
            "Epoch 75/100\n",
            "8/8 [==============================] - 0s 28ms/step - loss: 4.5719 - mae: 5.0475\n",
            "Epoch 76/100\n",
            "8/8 [==============================] - 0s 30ms/step - loss: 4.6307 - mae: 5.1045\n",
            "Epoch 77/100\n",
            "8/8 [==============================] - 0s 28ms/step - loss: 4.9533 - mae: 5.4299\n",
            "Epoch 78/100\n",
            "8/8 [==============================] - 0s 29ms/step - loss: 4.6065 - mae: 5.0838\n",
            "Epoch 79/100\n",
            "8/8 [==============================] - 0s 28ms/step - loss: 4.9873 - mae: 5.4650\n",
            "Epoch 80/100\n",
            "8/8 [==============================] - 0s 29ms/step - loss: 4.6606 - mae: 5.1348\n",
            "Epoch 81/100\n",
            "8/8 [==============================] - 0s 28ms/step - loss: 4.6968 - mae: 5.1729\n",
            "Epoch 82/100\n",
            "8/8 [==============================] - 0s 28ms/step - loss: 4.4056 - mae: 4.8786\n",
            "Epoch 83/100\n",
            "8/8 [==============================] - 0s 28ms/step - loss: 4.4234 - mae: 4.8947\n",
            "Epoch 84/100\n",
            "8/8 [==============================] - 0s 26ms/step - loss: 4.4087 - mae: 4.8807\n",
            "Epoch 85/100\n",
            "8/8 [==============================] - 0s 31ms/step - loss: 5.1635 - mae: 5.6452\n",
            "Epoch 86/100\n",
            "8/8 [==============================] - 0s 28ms/step - loss: 5.9480 - mae: 6.4331\n",
            "Epoch 87/100\n",
            "8/8 [==============================] - 0s 28ms/step - loss: 5.3075 - mae: 5.7870\n",
            "Epoch 88/100\n",
            "8/8 [==============================] - 0s 30ms/step - loss: 4.5781 - mae: 5.0540\n",
            "Epoch 89/100\n",
            "8/8 [==============================] - 0s 29ms/step - loss: 4.6494 - mae: 5.1283\n",
            "Epoch 90/100\n",
            "8/8 [==============================] - 0s 28ms/step - loss: 4.7640 - mae: 5.2402\n",
            "Epoch 91/100\n",
            "8/8 [==============================] - 0s 30ms/step - loss: 4.6102 - mae: 5.0871\n",
            "Epoch 92/100\n",
            "8/8 [==============================] - 0s 28ms/step - loss: 4.5632 - mae: 5.0343\n",
            "Epoch 93/100\n",
            "8/8 [==============================] - 0s 30ms/step - loss: 4.9522 - mae: 5.4321\n",
            "Epoch 94/100\n",
            "8/8 [==============================] - 0s 29ms/step - loss: 4.9674 - mae: 5.4470\n",
            "Epoch 95/100\n",
            "8/8 [==============================] - 0s 29ms/step - loss: 4.6870 - mae: 5.1605\n",
            "Epoch 96/100\n",
            "8/8 [==============================] - 0s 32ms/step - loss: 5.5101 - mae: 5.9918\n",
            "Epoch 97/100\n",
            "8/8 [==============================] - 0s 29ms/step - loss: 4.5389 - mae: 5.0135\n",
            "Epoch 98/100\n",
            "8/8 [==============================] - 0s 28ms/step - loss: 5.4575 - mae: 5.9417\n",
            "Epoch 99/100\n",
            "8/8 [==============================] - 0s 27ms/step - loss: 4.7178 - mae: 5.1912\n",
            "Epoch 100/100\n",
            "8/8 [==============================] - 0s 29ms/step - loss: 4.7437 - mae: 5.2207\n"
          ],
          "name": "stdout"
        }
      ]
    },
    {
      "cell_type": "code",
      "metadata": {
        "colab": {
          "base_uri": "https://localhost:8080/",
          "height": 388
        },
        "id": "PhqukJpHp4oh",
        "outputId": "34923a62-eb00-42f7-ba2f-6eb7b4554015"
      },
      "source": [
        "forecast = []\r\n",
        "for time in range(len(series) - window_size):\r\n",
        "    pred = model.predict(series[time:time+window_size][np.newaxis])\r\n",
        "    forecast.append(pred)\r\n",
        "\r\n",
        "forecast = forecast[split_time-window_size:]\r\n",
        "results = np.array(forecast)[:,0,0]\r\n",
        "\r\n",
        "\r\n",
        "plt.figure(figsize=(10, 6))\r\n",
        "\r\n",
        "plot_series(time_valid, x_valid)\r\n",
        "plot_series(time_valid, results)\r\n"
      ],
      "execution_count": 10,
      "outputs": [
        {
          "output_type": "display_data",
          "data": {
            "image/png": "[encoded data removed]",
            "text/plain": [
              "<Figure size 720x432 with 1 Axes>"
            ]
          },
          "metadata": {
            "tags": [],
            "needs_background": "light"
          }
        }
      ]
    },
    {
      "cell_type": "code",
      "metadata": {
        "colab": {
          "base_uri": "https://localhost:8080/"
        },
        "id": "yZDPkNKlp4l1",
        "outputId": "86391d43-48d6-4058-b6af-a7985c93a48c"
      },
      "source": [
        "mean_absolute_error(x_valid, results).numpy()"
      ],
      "execution_count": 11,
      "outputs": [
        {
          "output_type": "execute_result",
          "data": {
            "text/plain": [
              "6.8839793"
            ]
          },
          "metadata": {
            "tags": []
          },
          "execution_count": 11
        }
      ]
    },
    {
      "cell_type": "code",
      "metadata": {
        "colab": {
          "base_uri": "https://localhost:8080/",
          "height": 606
        },
        "id": "pKUXGSrip4jG",
        "outputId": "c0e7e2d2-751b-4738-9a66-dfc7c7db0896"
      },
      "source": [
        "import matplotlib.image  as mpimg\r\n",
        "import matplotlib.pyplot as plt\r\n",
        "\r\n",
        "#-----------------------------------------------------------\r\n",
        "# Retrieve a list of list results on training and test data\r\n",
        "# sets for each training epoch\r\n",
        "#-----------------------------------------------------------\r\n",
        "mae=history.history['mae']\r\n",
        "loss=history.history['loss']\r\n",
        "\r\n",
        "epochs=range(len(loss)) # Get number of epochs\r\n",
        "\r\n",
        "#------------------------------------------------\r\n",
        "# Plot MAE and Loss\r\n",
        "#------------------------------------------------\r\n",
        "plt.plot(epochs, mae, 'r')\r\n",
        "plt.plot(epochs, loss, 'b')\r\n",
        "plt.title('MAE and Loss')\r\n",
        "plt.xlabel(\"Epochs\")\r\n",
        "plt.ylabel(\"Accuracy\")\r\n",
        "plt.legend([\"MAE\", \"Loss\"])\r\n",
        "\r\n",
        "plt.figure()\r\n",
        "\r\n",
        "epochs_zoom = epochs[200:]\r\n",
        "mae_zoom = mae[200:]\r\n",
        "loss_zoom = loss[200:]\r\n",
        "\r\n",
        "#------------------------------------------------\r\n",
        "# Plot Zoomed MAE and Loss\r\n",
        "#------------------------------------------------\r\n",
        "plt.plot(epochs_zoom, mae_zoom, 'r')\r\n",
        "plt.plot(epochs_zoom, loss_zoom, 'b')\r\n",
        "plt.title('MAE and Loss')\r\n",
        "plt.xlabel(\"Epochs\")\r\n",
        "plt.ylabel(\"Accuracy\")\r\n",
        "plt.legend([\"MAE\", \"Loss\"])\r\n",
        "\r\n",
        "plt.figure()"
      ],
      "execution_count": 12,
      "outputs": [
        {
          "output_type": "execute_result",
          "data": {
            "text/plain": [
              "<Figure size 432x288 with 0 Axes>"
            ]
          },
          "metadata": {
            "tags": []
          },
          "execution_count": 12
        },
        {
          "output_type": "display_data",
          "data": {
            "image/png": "[encoded data removed]",
            "text/plain": [
              "<Figure size 432x288 with 1 Axes>"
            ]
          },
          "metadata": {
            "tags": [],
            "needs_background": "light"
          }
        },
        {
          "output_type": "display_data",
          "data": {
            "image/png": "[encoded data removed]",
            "text/plain": [
              "<Figure size 432x288 with 1 Axes>"
            ]
          },
          "metadata": {
            "tags": [],
            "needs_background": "light"
          }
        },
        {
          "output_type": "display_data",
          "data": {
            "text/plain": [
              "<Figure size 432x288 with 0 Axes>"
            ]
          },
          "metadata": {
            "tags": []
          }
        }
      ]
    },
    {
      "cell_type": "code",
      "metadata": {
        "id": "00Oggb9Ap4f-"
      },
      "source": [
        ""
      ],
      "execution_count": 12,
      "outputs": []
    },
    {
      "cell_type": "code",
      "metadata": {
        "id": "zJwwqq1Zp4dB"
      },
      "source": [
        ""
      ],
      "execution_count": 12,
      "outputs": []
    }
  ]
}