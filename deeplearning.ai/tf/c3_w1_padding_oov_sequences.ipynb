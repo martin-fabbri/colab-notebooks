{
  "nbformat": 4,
  "nbformat_minor": 0,
  "metadata": {
    "colab": {
      "name": "c3_w1_padding_oov_sequences.ipynb",
      "provenance": [],
      "authorship_tag": "ABX9TyMz0wdzhAYUKqhYkXKYdV0/",
      "include_colab_link": true
    },
    "kernelspec": {
      "name": "python3",
      "display_name": "Python 3"
    }
  },
  "cells": [
    {
      "cell_type": "markdown",
      "metadata": {
        "id": "view-in-github",
        "colab_type": "text"
      },
      "source": [
        "<a href=\"https://colab.research.google.com/github/martin-fabbri/colab-notebooks/blob/master/deeplearning.ai/tf/c3_w1_padding_oov_sequences.ipynb\" target=\"_parent\"><img src=\"https://colab.research.google.com/assets/colab-badge.svg\" alt=\"Open In Colab\"/></a>"
      ]
    },
    {
      "cell_type": "markdown",
      "metadata": {
        "id": "T--gTjreFXes"
      },
      "source": [
        "# Text Tokenizer"
      ]
    },
    {
      "cell_type": "code",
      "metadata": {
        "id": "XTgEWRfNGBCu",
        "outputId": "c2c61ad4-29cd-4cb2-929f-2fc564ccc017",
        "colab": {
          "base_uri": "https://localhost:8080/",
          "height": 35
        }
      },
      "source": [
        "import tensorflow as tf\n",
        "\n",
        "from tensorflow import keras\n",
        "from tensorflow.keras.preprocessing.text import Tokenizer\n",
        "from tensorflow.keras.preprocessing.sequence import pad_sequences\n",
        "\n",
        "tf.__version__"
      ],
      "execution_count": 8,
      "outputs": [
        {
          "output_type": "execute_result",
          "data": {
            "application/vnd.google.colaboratory.intrinsic+json": {
              "type": "string"
            },
            "text/plain": [
              "'2.3.0'"
            ]
          },
          "metadata": {
            "tags": []
          },
          "execution_count": 8
        }
      ]
    },
    {
      "cell_type": "code",
      "metadata": {
        "id": "YhJED6sXFRki",
        "outputId": "81aecfcb-2d81-4a45-bb51-d49297129ce0",
        "colab": {
          "base_uri": "https://localhost:8080/"
        }
      },
      "source": [
        "sentences = [\n",
        "  'I love my dog',\n",
        "  'Cats are more independent than dogs',\n",
        "  'I, love my cat',\n",
        "  'You love my dog!',\n",
        "  'Do you think my dog is amazin?',\n",
        "  'I am constantly thinking about my dog.',\n",
        "  'I am loving my dog.',\n",
        "  'She loves her cat'\n",
        "]\n",
        "\n",
        "tokenizer = Tokenizer(num_words=100, oov_token='<oob>')\n",
        "tokenizer.fit_on_texts(sentences)\n",
        "word_index = tokenizer.word_index\n",
        "word_index"
      ],
      "execution_count": 12,
      "outputs": [
        {
          "output_type": "execute_result",
          "data": {
            "text/plain": [
              "{'<oob>': 1,\n",
              " 'about': 21,\n",
              " 'am': 8,\n",
              " 'amazin': 18,\n",
              " 'are': 10,\n",
              " 'cat': 6,\n",
              " 'cats': 9,\n",
              " 'constantly': 19,\n",
              " 'do': 15,\n",
              " 'dog': 3,\n",
              " 'dogs': 14,\n",
              " 'her': 25,\n",
              " 'i': 4,\n",
              " 'independent': 12,\n",
              " 'is': 17,\n",
              " 'love': 5,\n",
              " 'loves': 24,\n",
              " 'loving': 22,\n",
              " 'more': 11,\n",
              " 'my': 2,\n",
              " 'she': 23,\n",
              " 'than': 13,\n",
              " 'think': 16,\n",
              " 'thinking': 20,\n",
              " 'you': 7}"
            ]
          },
          "metadata": {
            "tags": []
          },
          "execution_count": 12
        }
      ]
    },
    {
      "cell_type": "code",
      "metadata": {
        "id": "AKmt0fNvF-kK",
        "outputId": "10b9c349-f46f-4718-b709-208af4f21bc4",
        "colab": {
          "base_uri": "https://localhost:8080/"
        }
      },
      "source": [
        "sequences = tokenizer.texts_to_sequences(sentences)\n",
        "sequences"
      ],
      "execution_count": 13,
      "outputs": [
        {
          "output_type": "execute_result",
          "data": {
            "text/plain": [
              "[[4, 5, 2, 3],\n",
              " [9, 10, 11, 12, 13, 14],\n",
              " [4, 5, 2, 6],\n",
              " [7, 5, 2, 3],\n",
              " [15, 7, 16, 2, 3, 17, 18],\n",
              " [4, 8, 19, 20, 21, 2, 3],\n",
              " [4, 8, 22, 2, 3],\n",
              " [23, 24, 25, 6]]"
            ]
          },
          "metadata": {
            "tags": []
          },
          "execution_count": 13
        }
      ]
    },
    {
      "cell_type": "code",
      "metadata": {
        "id": "KJFS5tj1pgQ4",
        "outputId": "c3a9ed0d-fd62-4455-a62b-5dd6e8ce8eac",
        "colab": {
          "base_uri": "https://localhost:8080/"
        }
      },
      "source": [
        "padded = pad_sequences(sequences, maxlen=5)\n",
        "padded"
      ],
      "execution_count": 14,
      "outputs": [
        {
          "output_type": "execute_result",
          "data": {
            "text/plain": [
              "array([[ 0,  4,  5,  2,  3],\n",
              "       [10, 11, 12, 13, 14],\n",
              "       [ 0,  4,  5,  2,  6],\n",
              "       [ 0,  7,  5,  2,  3],\n",
              "       [16,  2,  3, 17, 18],\n",
              "       [19, 20, 21,  2,  3],\n",
              "       [ 4,  8, 22,  2,  3],\n",
              "       [ 0, 23, 24, 25,  6]], dtype=int32)"
            ]
          },
          "metadata": {
            "tags": []
          },
          "execution_count": 14
        }
      ]
    },
    {
      "cell_type": "code",
      "metadata": {
        "id": "IBTpQ5Cdp-a-",
        "outputId": "121c36f4-ec53-4021-e6c9-3fc90ec9e6c2",
        "colab": {
          "base_uri": "https://localhost:8080/"
        }
      },
      "source": [
        "test_data = [\n",
        "  'i really love my new puppy',\n",
        "  'my dog loves my manatee',\n",
        "  'cats are cool'\n",
        "]\n",
        "\n",
        "test_seq = tokenizer.texts_to_sequences(test_data)\n",
        "test_seq"
      ],
      "execution_count": 15,
      "outputs": [
        {
          "output_type": "execute_result",
          "data": {
            "text/plain": [
              "[[4, 1, 5, 2, 1, 1], [2, 3, 24, 2, 1], [9, 10, 1]]"
            ]
          },
          "metadata": {
            "tags": []
          },
          "execution_count": 15
        }
      ]
    },
    {
      "cell_type": "code",
      "metadata": {
        "id": "3pE9TIKBqcV2",
        "outputId": "f489b1af-c884-4715-bbc7-a840b001f77e",
        "colab": {
          "base_uri": "https://localhost:8080/"
        }
      },
      "source": [
        "padded = pad_sequences(test_seq, maxlen=10)\n",
        "padded"
      ],
      "execution_count": 16,
      "outputs": [
        {
          "output_type": "execute_result",
          "data": {
            "text/plain": [
              "array([[ 0,  0,  0,  0,  4,  1,  5,  2,  1,  1],\n",
              "       [ 0,  0,  0,  0,  0,  2,  3, 24,  2,  1],\n",
              "       [ 0,  0,  0,  0,  0,  0,  0,  9, 10,  1]], dtype=int32)"
            ]
          },
          "metadata": {
            "tags": []
          },
          "execution_count": 16
        }
      ]
    },
    {
      "cell_type": "code",
      "metadata": {
        "id": "oCtsb28yq51K"
      },
      "source": [
        ""
      ],
      "execution_count": null,
      "outputs": []
    }
  ]
}