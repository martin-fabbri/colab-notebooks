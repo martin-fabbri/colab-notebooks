{
  "nbformat": 4,
  "nbformat_minor": 0,
  "metadata": {
    "colab": {
      "name": "c3_w1_padding_oov_sequences.ipynb",
      "provenance": [],
      "authorship_tag": "ABX9TyPkzxdwC2G6PXDr07+DBmQp",
      "include_colab_link": true
    },
    "kernelspec": {
      "name": "python3",
      "display_name": "Python 3"
    }
  },
  "cells": [
    {
      "cell_type": "markdown",
      "metadata": {
        "id": "view-in-github",
        "colab_type": "text"
      },
      "source": [
        "<a href=\"https://colab.research.google.com/github/martin-fabbri/colab-notebooks/blob/master/deeplearning.ai/tf/c3_w1_padding_oov_sequences.ipynb\" target=\"_parent\"><img src=\"https://colab.research.google.com/assets/colab-badge.svg\" alt=\"Open In Colab\"/></a>"
      ]
    },
    {
      "cell_type": "markdown",
      "metadata": {
        "id": "T--gTjreFXes"
      },
      "source": [
        "# Pad Sequences, Out-of-vocabulary tokens, and pre/post sequence truncation"
      ]
    },
    {
      "cell_type": "code",
      "metadata": {
        "id": "XTgEWRfNGBCu",
        "outputId": "70ff4d38-21c9-4254-e812-0432d07ccf0e",
        "colab": {
          "base_uri": "https://localhost:8080/",
          "height": 35
        }
      },
      "source": [
        "import tensorflow as tf\n",
        "import tensorflow_datasets as tfds\n",
        "\n",
        "from tensorflow import keras\n",
        "from tensorflow.keras.preprocessing.text import Tokenizer\n",
        "from tensorflow.keras.preprocessing.sequence import pad_sequences\n",
        "\n",
        "tf.__version__"
      ],
      "execution_count": 16,
      "outputs": [
        {
          "output_type": "execute_result",
          "data": {
            "application/vnd.google.colaboratory.intrinsic+json": {
              "type": "string"
            },
            "text/plain": [
              "'2.3.0'"
            ]
          },
          "metadata": {
            "tags": []
          },
          "execution_count": 16
        }
      ]
    },
    {
      "cell_type": "code",
      "metadata": {
        "id": "YhJED6sXFRki",
        "outputId": "e3cb103e-2518-4685-8fea-244a4e6e2bd2",
        "colab": {
          "base_uri": "https://localhost:8080/"
        }
      },
      "source": [
        "sentences = [\n",
        "  'I love my dog',\n",
        "  'Cats are more independent than dogs',\n",
        "  'I, love my cat',\n",
        "  'You love my dog!',\n",
        "  'Do you think my dog is amazing?',\n",
        "  'I am constantly thinking about my dog.',\n",
        "  'I am loving my dog.',\n",
        "  'She loves her cat'\n",
        "]\n",
        "\n",
        "tokenizer = Tokenizer(num_words=100, oov_token='<oob>')\n",
        "tokenizer.fit_on_texts(sentences)\n",
        "word_index = tokenizer.word_index\n",
        "word_index"
      ],
      "execution_count": 2,
      "outputs": [
        {
          "output_type": "execute_result",
          "data": {
            "text/plain": [
              "{'<oob>': 1,\n",
              " 'about': 21,\n",
              " 'am': 8,\n",
              " 'amazing': 18,\n",
              " 'are': 10,\n",
              " 'cat': 6,\n",
              " 'cats': 9,\n",
              " 'constantly': 19,\n",
              " 'do': 15,\n",
              " 'dog': 3,\n",
              " 'dogs': 14,\n",
              " 'her': 25,\n",
              " 'i': 4,\n",
              " 'independent': 12,\n",
              " 'is': 17,\n",
              " 'love': 5,\n",
              " 'loves': 24,\n",
              " 'loving': 22,\n",
              " 'more': 11,\n",
              " 'my': 2,\n",
              " 'she': 23,\n",
              " 'than': 13,\n",
              " 'think': 16,\n",
              " 'thinking': 20,\n",
              " 'you': 7}"
            ]
          },
          "metadata": {
            "tags": []
          },
          "execution_count": 2
        }
      ]
    },
    {
      "cell_type": "code",
      "metadata": {
        "id": "AKmt0fNvF-kK",
        "outputId": "fb1ed7ce-a58c-4b1f-f6bf-260b8a26e90f",
        "colab": {
          "base_uri": "https://localhost:8080/"
        }
      },
      "source": [
        "sequences = tokenizer.texts_to_sequences(sentences)\n",
        "sequences"
      ],
      "execution_count": 3,
      "outputs": [
        {
          "output_type": "execute_result",
          "data": {
            "text/plain": [
              "[[4, 5, 2, 3],\n",
              " [9, 10, 11, 12, 13, 14],\n",
              " [4, 5, 2, 6],\n",
              " [7, 5, 2, 3],\n",
              " [15, 7, 16, 2, 3, 17, 18],\n",
              " [4, 8, 19, 20, 21, 2, 3],\n",
              " [4, 8, 22, 2, 3],\n",
              " [23, 24, 25, 6]]"
            ]
          },
          "metadata": {
            "tags": []
          },
          "execution_count": 3
        }
      ]
    },
    {
      "cell_type": "markdown",
      "metadata": {
        "id": "_Q_acnWmi8Mt"
      },
      "source": [
        "## Padding\n",
        "\n",
        "When training neural networkds you typically need all your data to be on the same shape. With neural networks you face the same issue --once you've tokenized your words and converted your sentences into sequences, they can all be different lenghts. To get them to be the same size and shape, you can use padding."
      ]
    },
    {
      "cell_type": "code",
      "metadata": {
        "id": "KJFS5tj1pgQ4",
        "outputId": "1d0ad6c9-5fe4-4ade-badc-f02c7a8b19c8",
        "colab": {
          "base_uri": "https://localhost:8080/"
        }
      },
      "source": [
        "padded = pad_sequences(sequences, maxlen=5)\n",
        "padded"
      ],
      "execution_count": 4,
      "outputs": [
        {
          "output_type": "execute_result",
          "data": {
            "text/plain": [
              "array([[ 0,  4,  5,  2,  3],\n",
              "       [10, 11, 12, 13, 14],\n",
              "       [ 0,  4,  5,  2,  6],\n",
              "       [ 0,  7,  5,  2,  3],\n",
              "       [16,  2,  3, 17, 18],\n",
              "       [19, 20, 21,  2,  3],\n",
              "       [ 4,  8, 22,  2,  3],\n",
              "       [ 0, 23, 24, 25,  6]], dtype=int32)"
            ]
          },
          "metadata": {
            "tags": []
          },
          "execution_count": 4
        }
      ]
    },
    {
      "cell_type": "code",
      "metadata": {
        "id": "IBTpQ5Cdp-a-",
        "outputId": "150738b6-3026-4321-918c-55df3b568e80",
        "colab": {
          "base_uri": "https://localhost:8080/"
        }
      },
      "source": [
        "test_data = [\n",
        "  'i really love my new puppy',\n",
        "  'my dog loves my manatee',\n",
        "  'cats are cool'\n",
        "]\n",
        "\n",
        "test_seq = tokenizer.texts_to_sequences(test_data)\n",
        "test_seq"
      ],
      "execution_count": 5,
      "outputs": [
        {
          "output_type": "execute_result",
          "data": {
            "text/plain": [
              "[[4, 1, 5, 2, 1, 1], [2, 3, 24, 2, 1], [9, 10, 1]]"
            ]
          },
          "metadata": {
            "tags": []
          },
          "execution_count": 5
        }
      ]
    },
    {
      "cell_type": "markdown",
      "metadata": {
        "id": "PocPyDQGjypQ"
      },
      "source": [
        "If you want to make these the same length, you can use the pad_sequences API. First, you’ll need to import it:\n",
        "\n",
        "```python\n",
        "from tensoflow.keras.preprocessing.sequence import pad_sequences\n",
        "```"
      ]
    },
    {
      "cell_type": "code",
      "metadata": {
        "id": "3pE9TIKBqcV2",
        "outputId": "7e73ca02-1227-4b9a-fed1-b324a7ba8b43",
        "colab": {
          "base_uri": "https://localhost:8080/"
        }
      },
      "source": [
        "padded = pad_sequences(test_seq, maxlen=10)\n",
        "padded"
      ],
      "execution_count": 6,
      "outputs": [
        {
          "output_type": "execute_result",
          "data": {
            "text/plain": [
              "array([[ 0,  0,  0,  0,  4,  1,  5,  2,  1,  1],\n",
              "       [ 0,  0,  0,  0,  0,  2,  3, 24,  2,  1],\n",
              "       [ 0,  0,  0,  0,  0,  0,  0,  9, 10,  1]], dtype=int32)"
            ]
          },
          "metadata": {
            "tags": []
          },
          "execution_count": 6
        }
      ]
    },
    {
      "cell_type": "markdown",
      "metadata": {
        "id": "Sgebk0hekgkr"
      },
      "source": [
        "First, you might have noticed that in the case of the shorter sentences, to get them to be the same shape as the longest one, the requisite number of zeros were added at the beginning. This is called prepadding, and it’s the default behavior. You can change this using the `padding` parameter. For example, if you want your sequences to be padded with zeros at the end, you can use:"
      ]
    },
    {
      "cell_type": "code",
      "metadata": {
        "id": "oCtsb28yq51K",
        "outputId": "4d3b6030-dd5c-43fd-8525-685b9e5b9c64",
        "colab": {
          "base_uri": "https://localhost:8080/"
        }
      },
      "source": [
        "post_padded = pad_sequences(test_seq, maxlen=10, padding='post')\n",
        "post_padded"
      ],
      "execution_count": 7,
      "outputs": [
        {
          "output_type": "execute_result",
          "data": {
            "text/plain": [
              "array([[ 4,  1,  5,  2,  1,  1,  0,  0,  0,  0],\n",
              "       [ 2,  3, 24,  2,  1,  0,  0,  0,  0,  0],\n",
              "       [ 9, 10,  1,  0,  0,  0,  0,  0,  0,  0]], dtype=int32)"
            ]
          },
          "metadata": {
            "tags": []
          },
          "execution_count": 7
        }
      ]
    },
    {
      "cell_type": "markdown",
      "metadata": {
        "id": "8PG3cZ8ClBKJ"
      },
      "source": [
        "Now your padded sequences are all the same length, and there isn’t too much padding. You have lost some words from your longest sentence, though, and they’ve been truncated from the beginning. What if you don’t want to lose the words from the beginning and instead want them truncated from the end of the sentence? You can override the default behavior with the `truncating` parameter, as follows:"
      ]
    },
    {
      "cell_type": "code",
      "metadata": {
        "id": "aa870oCkrt3v",
        "outputId": "5d20ccaf-6cba-474b-9b50-1ecb27fd954a",
        "colab": {
          "base_uri": "https://localhost:8080/"
        }
      },
      "source": [
        "pre_padding_truncating = pad_sequences(test_seq, maxlen=5, truncating='pre')\n",
        "pre_padding_truncating"
      ],
      "execution_count": 8,
      "outputs": [
        {
          "output_type": "execute_result",
          "data": {
            "text/plain": [
              "array([[ 1,  5,  2,  1,  1],\n",
              "       [ 2,  3, 24,  2,  1],\n",
              "       [ 0,  0,  9, 10,  1]], dtype=int32)"
            ]
          },
          "metadata": {
            "tags": []
          },
          "execution_count": 8
        }
      ]
    },
    {
      "cell_type": "code",
      "metadata": {
        "id": "jIGRJVAnsMu6",
        "outputId": "5c7840b1-2554-482b-b74f-65a61951c99c",
        "colab": {
          "base_uri": "https://localhost:8080/"
        }
      },
      "source": [
        "post_padding_truncating = pad_sequences(test_seq, maxlen=5, truncating='post')\n",
        "post_padding_truncating"
      ],
      "execution_count": 9,
      "outputs": [
        {
          "output_type": "execute_result",
          "data": {
            "text/plain": [
              "array([[ 4,  1,  5,  2,  1],\n",
              "       [ 2,  3, 24,  2,  1],\n",
              "       [ 0,  0,  9, 10,  1]], dtype=int32)"
            ]
          },
          "metadata": {
            "tags": []
          },
          "execution_count": 9
        }
      ]
    },
    {
      "cell_type": "markdown",
      "metadata": {
        "id": "seJjn4HIlkt5"
      },
      "source": [
        "## Removing Stopwords and Cleaning Text\n",
        "There's often text that you don’t want in your dataset. You may want to filter out so-called `stopwords` that are too common and don’t add any meaning, like **“the,” “and,” and “but.”** You may also encounter a lot of HTML tags in your text, and it would be good to have a clean way to remove them. Other things you might want to filter out include **rude words, punctuation, or names**. Later we’ll explore a dataset of tweets, which often have somebody’s user ID in them, and we’ll want to filter those out.\n",
        "\n",
        "While every task is different based on your corpus of text, there are three main things that you can do to clean up your text programmatically.\n",
        "\n",
        "> ***First, strip out HTML tags***. Fortunately, there’s a library called BeautifulSoup that makes this straightforward. For example, if your sentences contain HTML tags such as <\\br>, they’ll be removed by this code:"
      ]
    },
    {
      "cell_type": "code",
      "metadata": {
        "id": "ZWuT6w3slkSK",
        "outputId": "b1247b49-767b-4b59-9ca5-125becf5772e",
        "colab": {
          "base_uri": "https://localhost:8080/",
          "height": 69
        }
      },
      "source": [
        "from bs4 import BeautifulSoup\n",
        "sentence = '''\n",
        "Natural language processing is a subfield of linguistics, computer science, and \n",
        "artificial intelligence concerned with the interactions between computers and \n",
        "human language, in particular how to program computers to process and analyze \n",
        "large amounts of natural language data.\n",
        "'''\n",
        "\n",
        "soup = BeautifulSoup(sentence)\n",
        "sentence = soup.get_text()\n",
        "sentence"
      ],
      "execution_count": 10,
      "outputs": [
        {
          "output_type": "execute_result",
          "data": {
            "application/vnd.google.colaboratory.intrinsic+json": {
              "type": "string"
            },
            "text/plain": [
              "'Natural language processing is a subfield of linguistics, computer science, and \\nartificial intelligence concerned with the interactions between computers and \\nhuman language, in particular how to program computers to process and analyze \\nlarge amounts of natural language data.\\n'"
            ]
          },
          "metadata": {
            "tags": []
          },
          "execution_count": 10
        }
      ]
    },
    {
      "cell_type": "markdown",
      "metadata": {
        "id": "AHrKJuiwnyD3"
      },
      "source": [
        "A common way to remove `stopwords` is to have a stopwords list and to preprocess your sentences, removing instances of stopwords. Here’s an example:"
      ]
    },
    {
      "cell_type": "code",
      "metadata": {
        "id": "yMdy_ytjoNkj"
      },
      "source": [
        "stopwords = [\"a\", \"about\", \"above\", \"after\", \"again\", \"against\", \"all\", \"am\", \"an\", \"and\", \"any\", \"are\", \"as\", \"at\",\n",
        "             \"be\", \"because\", \"been\", \"before\", \"being\", \"below\", \"between\", \"both\", \"but\", \"by\", \"could\", \"did\", \"do\",\n",
        "             \"does\", \"doing\", \"down\", \"during\", \"each\", \"few\", \"for\", \"from\", \"further\", \"had\", \"has\", \"have\", \"having\",\n",
        "             \"he\", \"hed\", \"hes\", \"her\", \"here\", \"heres\", \"hers\", \"herself\", \"him\", \"himself\", \"his\", \"how\",\n",
        "             \"hows\", \"i\", \"id\", \"ill\", \"im\", \"ive\", \"if\", \"in\", \"into\", \"is\", \"it\", \"its\", \"itself\",\n",
        "             \"lets\", \"me\", \"more\", \"most\", \"my\", \"myself\", \"nor\", \"of\", \"on\", \"once\", \"only\", \"or\", \"other\", \"ought\",\n",
        "             \"our\", \"ours\", \"ourselves\", \"out\", \"over\", \"own\", \"same\", \"she\", \"shed\", \"shell\", \"shes\", \"should\",\n",
        "             \"so\", \"some\", \"such\", \"than\", \"that\", \"thats\", \"the\", \"their\", \"theirs\", \"them\", \"themselves\", \"then\",\n",
        "             \"there\", \"theres\", \"these\", \"they\", \"theyd\", \"theyll\", \"theyre\", \"theyve\", \"this\", \"those\", \"through\",\n",
        "             \"to\", \"too\", \"under\", \"until\", \"up\", \"very\", \"was\", \"we\", \"wed\", \"well\", \"were\", \"weve\", \"were\",\n",
        "             \"what\", \"whats\", \"when\", \"whens\", \"where\", \"wheres\", \"which\", \"while\", \"who\", \"whos\", \"whom\", \"why\",\n",
        "             \"whys\", \"with\", \"would\", \"you\", \"youd\", \"youll\", \"youre\", \"youve\", \"your\", \"yours\", \"yourself\",\n",
        "             \"yourselves\"]"
      ],
      "execution_count": 11,
      "outputs": []
    },
    {
      "cell_type": "code",
      "metadata": {
        "id": "-tG5e9qDlkVb",
        "outputId": "11b5848c-6700-4e0e-e50e-6d11b4d0e554",
        "colab": {
          "base_uri": "https://localhost:8080/"
        }
      },
      "source": [
        "len(stopwords)"
      ],
      "execution_count": 12,
      "outputs": [
        {
          "output_type": "execute_result",
          "data": {
            "text/plain": [
              "151"
            ]
          },
          "metadata": {
            "tags": []
          },
          "execution_count": 12
        }
      ]
    },
    {
      "cell_type": "markdown",
      "metadata": {
        "id": "T5kpL1xSomhg"
      },
      "source": [
        "Then, as you are iterating through your sentences, you can use code like this to remove the stopwords from your sentence."
      ]
    },
    {
      "cell_type": "code",
      "metadata": {
        "id": "2Ly9env4lkPW",
        "outputId": "0d613cd2-83a0-41e1-d45e-670e45fb941d",
        "colab": {
          "base_uri": "https://localhost:8080/",
          "height": 52
        }
      },
      "source": [
        "words = sentence.split()\n",
        "filtered_sentence = ''\n",
        "for word in words:\n",
        "  if word not in stopwords:\n",
        "    filtered_sentence += word + ' '\n",
        "filtered_sentence"
      ],
      "execution_count": 13,
      "outputs": [
        {
          "output_type": "execute_result",
          "data": {
            "application/vnd.google.colaboratory.intrinsic+json": {
              "type": "string"
            },
            "text/plain": [
              "'Natural language processing subfield linguistics, computer science, artificial intelligence concerned interactions computers human language, particular program computers process analyze large amounts natural language data. '"
            ]
          },
          "metadata": {
            "tags": []
          },
          "execution_count": 13
        }
      ]
    },
    {
      "cell_type": "markdown",
      "metadata": {
        "id": "GznCTKtVpwj5"
      },
      "source": [
        "Another thing you might consider is stripping out punctuation, which can fool a stopword remover. "
      ]
    },
    {
      "cell_type": "code",
      "metadata": {
        "id": "RBaA6btlsY9b",
        "outputId": "6cfb0b69-51a6-4160-b342-0acf84a742c8",
        "colab": {
          "base_uri": "https://localhost:8080/",
          "height": 52
        }
      },
      "source": [
        "import string\n",
        "\n",
        "table = str.maketrans('', '', string.punctuation)\n",
        "words = sentence.split()\n",
        "filtered_sentence = ''\n",
        "for word in words:\n",
        "  word = word.translate(table)\n",
        "  if word not in stopwords:\n",
        "    filtered_sentence += word + ' '\n",
        "filtered_sentence"
      ],
      "execution_count": 14,
      "outputs": [
        {
          "output_type": "execute_result",
          "data": {
            "application/vnd.google.colaboratory.intrinsic+json": {
              "type": "string"
            },
            "text/plain": [
              "'Natural language processing subfield linguistics computer science artificial intelligence concerned interactions computers human language particular program computers process analyze large amounts natural language data '"
            ]
          },
          "metadata": {
            "tags": []
          },
          "execution_count": 14
        }
      ]
    },
    {
      "cell_type": "markdown",
      "metadata": {
        "id": "vA7wtLKDquah"
      },
      "source": [
        "## Working with Real Data Sources"
      ]
    },
    {
      "cell_type": "markdown",
      "metadata": {
        "id": "bWa8p2lYrMqV"
      },
      "source": [
        "## Getting Text from TensorFlow datasets"
      ]
    },
    {
      "cell_type": "markdown",
      "metadata": {
        "id": "APt7obmfsFET"
      },
      "source": [
        "This code will load the training split from the IMDb dataset and iterate through it, adding the text field containing the review to a list called imdb_sentences. Reviews are a tuple of the text and a label containing the sentiment of the review. Note that by wrapping the tfds.load call in tfds.as_numpy you ensure that the data will be loaded as strings, not tensors:"
      ]
    },
    {
      "cell_type": "code",
      "metadata": {
        "id": "uuTQryp1qJhD",
        "outputId": "d09e6cb2-427d-4630-f1be-6d0710b96598",
        "colab": {
          "base_uri": "https://localhost:8080/"
        }
      },
      "source": [
        "imdb_sentences = []\n",
        "train_data = tfds.as_numpy(tfds.load('imdb_reviews', split='train'))\n",
        "for item in train_data:\n",
        "  imdb_sentences.append(str(item['text']))\n",
        "print('# Sentences:', len(imdb_sentences))\n",
        "print('Samples:', imdb_sentences[0], imdb_sentences[1])"
      ],
      "execution_count": 21,
      "outputs": [
        {
          "output_type": "stream",
          "text": [
            "# Sentences: 25000\n",
            "Samples: b\"This was an absolutely terrible movie. Don't be lured in by Christopher Walken or Michael Ironside. Both are great actors, but this must simply be their worst role in history. Even their great acting could not redeem this movie's ridiculous storyline. This movie is an early nineties US propaganda piece. The most pathetic scenes were those when the Columbian rebels were making their cases for revolutions. Maria Conchita Alonso appeared phony, and her pseudo-love affair with Walken was nothing but a pathetic emotional plug in a movie that was devoid of any real meaning. I am disappointed that there are movies like this, ruining actor's like Christopher Walken's good name. I could barely sit through it.\" b'I have been known to fall asleep during films, but this is usually due to a combination of things including, really tired, being warm and comfortable on the sette and having just eaten a lot. However on this occasion I fell asleep because the film was rubbish. The plot development was constant. Constantly slow and boring. Things seemed to happen, but with no explanation of what was causing them or why. I admit, I may have missed part of the film, but i watched the majority of it and everything just seemed to happen of its own accord without any real concern for anything else. I cant recommend this film at all.'\n"
          ],
          "name": "stdout"
        }
      ]
    },
    {
      "cell_type": "code",
      "metadata": {
        "id": "CDt-EAGMsdCq",
        "outputId": "3efac815-3096-45cb-be84-4a132b146a6b",
        "colab": {
          "base_uri": "https://localhost:8080/"
        }
      },
      "source": [
        "tokenizer = tf.keras.preprocessing.text.Tokenizer(num_words=5000, oov_token='<oov>')\n",
        "tokenizer.fit_on_texts(imdb_sentences)\n",
        "sequences = tokenizer.texts_to_sequences(imdb_sentences)\n",
        "list(tokenizer.word_index.items())[:5]"
      ],
      "execution_count": 31,
      "outputs": [
        {
          "output_type": "execute_result",
          "data": {
            "text/plain": [
              "[('<oov>', 1), ('the', 2), ('and', 3), ('a', 4), ('of', 5)]"
            ]
          },
          "metadata": {
            "tags": []
          },
          "execution_count": 31
        }
      ]
    },
    {
      "cell_type": "markdown",
      "metadata": {
        "id": "ftekVSDTU0Lq"
      },
      "source": [
        "These tokens include stop words and that can impact our training accuracy because they're the most common words."
      ]
    },
    {
      "cell_type": "code",
      "metadata": {
        "id": "3TSDUJfETT45",
        "outputId": "f99e8469-09f5-4af5-a98b-9913750e8151",
        "colab": {
          "base_uri": "https://localhost:8080/"
        }
      },
      "source": [
        "from bs4 import BeautifulSoup\n",
        "import string\n",
        "\n",
        "table = str.maketrans('', '', string.punctuation)\n",
        "imdb_sentences = []\n",
        "\n",
        "train_data = tfds.as_numpy(tfds.load('imdb_reviews', split='train'))\n",
        "for item in train_data:\n",
        "  sentence = str(item['text'].decode('UTF-8').lower())\n",
        "  soup = BeautifulSoup(sentence)\n",
        "  sentence = soup.get_text()\n",
        "  words = sentence.split()\n",
        "  filtered_sentence = ''\n",
        "  for word in words:\n",
        "    word = word.translate(table)\n",
        "    if word not in stopwords:\n",
        "      filtered_sentence = filtered_sentence + word + ' '\n",
        "    imdb_sentences.append(filtered_sentence)\n",
        "\n",
        "tokenizer = tf.keras.preprocessing.text.Tokenizer(num_words=25000, oov_token='<oov>')\n",
        "tokenizer.fit_on_texts(imdb_sentences)\n",
        "sequences = tokenizer.texts_to_sequences(imdb_sentences)\n",
        "\n",
        "list(tokenizer.word_index.items())[:5]\n",
        "\n"
      ],
      "execution_count": 34,
      "outputs": [
        {
          "output_type": "execute_result",
          "data": {
            "text/plain": [
              "[('<oov>', 1), ('film', 2), ('movie', 3), ('not', 4), ('one', 5)]"
            ]
          },
          "metadata": {
            "tags": []
          },
          "execution_count": 34
        }
      ]
    },
    {
      "cell_type": "code",
      "metadata": {
        "id": "IVsd3VtATtlV"
      },
      "source": [
        ""
      ],
      "execution_count": null,
      "outputs": []
    }
  ]
}