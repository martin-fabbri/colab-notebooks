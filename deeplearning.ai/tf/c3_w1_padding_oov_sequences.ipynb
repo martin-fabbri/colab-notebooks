{
  "nbformat": 4,
  "nbformat_minor": 0,
  "metadata": {
    "colab": {
      "name": "c3_w1_padding_oov_sequences.ipynb",
      "provenance": [],
      "authorship_tag": "ABX9TyNY4SNT7Iqx+4+fN8hEjRZs",
      "include_colab_link": true
    },
    "kernelspec": {
      "name": "python3",
      "display_name": "Python 3"
    }
  },
  "cells": [
    {
      "cell_type": "markdown",
      "metadata": {
        "id": "view-in-github",
        "colab_type": "text"
      },
      "source": [
        "<a href=\"https://colab.research.google.com/github/martin-fabbri/colab-notebooks/blob/master/deeplearning.ai/tf/c3_w1_padding_oov_sequences.ipynb\" target=\"_parent\"><img src=\"https://colab.research.google.com/assets/colab-badge.svg\" alt=\"Open In Colab\"/></a>"
      ]
    },
    {
      "cell_type": "markdown",
      "metadata": {
        "id": "T--gTjreFXes"
      },
      "source": [
        "# Pad Sequences, Out-of-vocabulary tokens, and pre/post sequence truncation"
      ]
    },
    {
      "cell_type": "code",
      "metadata": {
        "id": "XTgEWRfNGBCu",
        "outputId": "2385ecaa-63ed-4e62-edfd-c67e99658f9e",
        "colab": {
          "base_uri": "https://localhost:8080/",
          "height": 35
        }
      },
      "source": [
        "import tensorflow as tf\n",
        "\n",
        "from tensorflow import keras\n",
        "from tensorflow.keras.preprocessing.text import Tokenizer\n",
        "from tensorflow.keras.preprocessing.sequence import pad_sequences\n",
        "\n",
        "tf.__version__"
      ],
      "execution_count": 1,
      "outputs": [
        {
          "output_type": "execute_result",
          "data": {
            "application/vnd.google.colaboratory.intrinsic+json": {
              "type": "string"
            },
            "text/plain": [
              "'2.3.0'"
            ]
          },
          "metadata": {
            "tags": []
          },
          "execution_count": 1
        }
      ]
    },
    {
      "cell_type": "code",
      "metadata": {
        "id": "YhJED6sXFRki",
        "outputId": "5546b101-dbc9-4a9d-9275-c7ba4291b527",
        "colab": {
          "base_uri": "https://localhost:8080/"
        }
      },
      "source": [
        "sentences = [\n",
        "  'I love my dog',\n",
        "  'Cats are more independent than dogs',\n",
        "  'I, love my cat',\n",
        "  'You love my dog!',\n",
        "  'Do you think my dog is amazing?',\n",
        "  'I am constantly thinking about my dog.',\n",
        "  'I am loving my dog.',\n",
        "  'She loves her cat'\n",
        "]\n",
        "\n",
        "tokenizer = Tokenizer(num_words=100, oov_token='<oob>')\n",
        "tokenizer.fit_on_texts(sentences)\n",
        "word_index = tokenizer.word_index\n",
        "word_index"
      ],
      "execution_count": 2,
      "outputs": [
        {
          "output_type": "execute_result",
          "data": {
            "text/plain": [
              "{'<oob>': 1,\n",
              " 'about': 21,\n",
              " 'am': 8,\n",
              " 'amazing': 18,\n",
              " 'are': 10,\n",
              " 'cat': 6,\n",
              " 'cats': 9,\n",
              " 'constantly': 19,\n",
              " 'do': 15,\n",
              " 'dog': 3,\n",
              " 'dogs': 14,\n",
              " 'her': 25,\n",
              " 'i': 4,\n",
              " 'independent': 12,\n",
              " 'is': 17,\n",
              " 'love': 5,\n",
              " 'loves': 24,\n",
              " 'loving': 22,\n",
              " 'more': 11,\n",
              " 'my': 2,\n",
              " 'she': 23,\n",
              " 'than': 13,\n",
              " 'think': 16,\n",
              " 'thinking': 20,\n",
              " 'you': 7}"
            ]
          },
          "metadata": {
            "tags": []
          },
          "execution_count": 2
        }
      ]
    },
    {
      "cell_type": "code",
      "metadata": {
        "id": "AKmt0fNvF-kK",
        "outputId": "f863ed63-26cd-4821-c8fd-c496c9b8573f",
        "colab": {
          "base_uri": "https://localhost:8080/"
        }
      },
      "source": [
        "sequences = tokenizer.texts_to_sequences(sentences)\n",
        "sequences"
      ],
      "execution_count": 3,
      "outputs": [
        {
          "output_type": "execute_result",
          "data": {
            "text/plain": [
              "[[4, 5, 2, 3],\n",
              " [9, 10, 11, 12, 13, 14],\n",
              " [4, 5, 2, 6],\n",
              " [7, 5, 2, 3],\n",
              " [15, 7, 16, 2, 3, 17, 18],\n",
              " [4, 8, 19, 20, 21, 2, 3],\n",
              " [4, 8, 22, 2, 3],\n",
              " [23, 24, 25, 6]]"
            ]
          },
          "metadata": {
            "tags": []
          },
          "execution_count": 3
        }
      ]
    },
    {
      "cell_type": "markdown",
      "metadata": {
        "id": "_Q_acnWmi8Mt"
      },
      "source": [
        "## Padding\n",
        "\n",
        "When training neural networkds you typically need all your data to be on the same shape. With neural networks you face the same issue --once you've tokenized your words and converted your sentences into sequences, they can all be different lenghts. To get them to be the same size and shape, you can use padding."
      ]
    },
    {
      "cell_type": "code",
      "metadata": {
        "id": "KJFS5tj1pgQ4",
        "outputId": "e03e8b92-28cf-489e-d1c0-dbe4342a199a",
        "colab": {
          "base_uri": "https://localhost:8080/"
        }
      },
      "source": [
        "padded = pad_sequences(sequences, maxlen=5)\n",
        "padded"
      ],
      "execution_count": 4,
      "outputs": [
        {
          "output_type": "execute_result",
          "data": {
            "text/plain": [
              "array([[ 0,  4,  5,  2,  3],\n",
              "       [10, 11, 12, 13, 14],\n",
              "       [ 0,  4,  5,  2,  6],\n",
              "       [ 0,  7,  5,  2,  3],\n",
              "       [16,  2,  3, 17, 18],\n",
              "       [19, 20, 21,  2,  3],\n",
              "       [ 4,  8, 22,  2,  3],\n",
              "       [ 0, 23, 24, 25,  6]], dtype=int32)"
            ]
          },
          "metadata": {
            "tags": []
          },
          "execution_count": 4
        }
      ]
    },
    {
      "cell_type": "code",
      "metadata": {
        "id": "IBTpQ5Cdp-a-",
        "outputId": "176a9220-f77d-45b2-bb7f-091cb1a315e2",
        "colab": {
          "base_uri": "https://localhost:8080/"
        }
      },
      "source": [
        "test_data = [\n",
        "  'i really love my new puppy',\n",
        "  'my dog loves my manatee',\n",
        "  'cats are cool'\n",
        "]\n",
        "\n",
        "test_seq = tokenizer.texts_to_sequences(test_data)\n",
        "test_seq"
      ],
      "execution_count": 5,
      "outputs": [
        {
          "output_type": "execute_result",
          "data": {
            "text/plain": [
              "[[4, 1, 5, 2, 1, 1], [2, 3, 24, 2, 1], [9, 10, 1]]"
            ]
          },
          "metadata": {
            "tags": []
          },
          "execution_count": 5
        }
      ]
    },
    {
      "cell_type": "markdown",
      "metadata": {
        "id": "PocPyDQGjypQ"
      },
      "source": [
        "If you want to make these the same length, you can use the pad_sequences API. First, you’ll need to import it:\n",
        "\n",
        "```python\n",
        "from tensoflow.keras.preprocessing.sequence import pad_sequences\n",
        "```"
      ]
    },
    {
      "cell_type": "code",
      "metadata": {
        "id": "3pE9TIKBqcV2",
        "outputId": "eabec716-d034-462a-bb92-986ec08ad749",
        "colab": {
          "base_uri": "https://localhost:8080/"
        }
      },
      "source": [
        "padded = pad_sequences(test_seq, maxlen=10)\n",
        "padded"
      ],
      "execution_count": 6,
      "outputs": [
        {
          "output_type": "execute_result",
          "data": {
            "text/plain": [
              "array([[ 0,  0,  0,  0,  4,  1,  5,  2,  1,  1],\n",
              "       [ 0,  0,  0,  0,  0,  2,  3, 24,  2,  1],\n",
              "       [ 0,  0,  0,  0,  0,  0,  0,  9, 10,  1]], dtype=int32)"
            ]
          },
          "metadata": {
            "tags": []
          },
          "execution_count": 6
        }
      ]
    },
    {
      "cell_type": "markdown",
      "metadata": {
        "id": "Sgebk0hekgkr"
      },
      "source": [
        "First, you might have noticed that in the case of the shorter sentences, to get them to be the same shape as the longest one, the requisite number of zeros were added at the beginning. This is called prepadding, and it’s the default behavior. You can change this using the `padding` parameter. For example, if you want your sequences to be padded with zeros at the end, you can use:"
      ]
    },
    {
      "cell_type": "code",
      "metadata": {
        "id": "oCtsb28yq51K",
        "outputId": "ed01333b-f7c6-41c6-8836-bbb4d30cbb25",
        "colab": {
          "base_uri": "https://localhost:8080/"
        }
      },
      "source": [
        "post_padded = pad_sequences(test_seq, maxlen=10, padding='post')\n",
        "post_padded"
      ],
      "execution_count": 7,
      "outputs": [
        {
          "output_type": "execute_result",
          "data": {
            "text/plain": [
              "array([[ 4,  1,  5,  2,  1,  1,  0,  0,  0,  0],\n",
              "       [ 2,  3, 24,  2,  1,  0,  0,  0,  0,  0],\n",
              "       [ 9, 10,  1,  0,  0,  0,  0,  0,  0,  0]], dtype=int32)"
            ]
          },
          "metadata": {
            "tags": []
          },
          "execution_count": 7
        }
      ]
    },
    {
      "cell_type": "markdown",
      "metadata": {
        "id": "8PG3cZ8ClBKJ"
      },
      "source": [
        "Now your padded sequences are all the same length, and there isn’t too much padding. You have lost some words from your longest sentence, though, and they’ve been truncated from the beginning. What if you don’t want to lose the words from the beginning and instead want them truncated from the end of the sentence? You can override the default behavior with the `truncating` parameter, as follows:"
      ]
    },
    {
      "cell_type": "code",
      "metadata": {
        "id": "aa870oCkrt3v",
        "outputId": "4d9f7948-4f81-4829-e027-00f0b4b18414",
        "colab": {
          "base_uri": "https://localhost:8080/"
        }
      },
      "source": [
        "pre_padding_truncating = pad_sequences(test_seq, maxlen=5, truncating='pre')\n",
        "pre_padding_truncating"
      ],
      "execution_count": 8,
      "outputs": [
        {
          "output_type": "execute_result",
          "data": {
            "text/plain": [
              "array([[ 1,  5,  2,  1,  1],\n",
              "       [ 2,  3, 24,  2,  1],\n",
              "       [ 0,  0,  9, 10,  1]], dtype=int32)"
            ]
          },
          "metadata": {
            "tags": []
          },
          "execution_count": 8
        }
      ]
    },
    {
      "cell_type": "code",
      "metadata": {
        "id": "jIGRJVAnsMu6",
        "outputId": "7132f641-c122-47d4-e529-f6a193a0bf66",
        "colab": {
          "base_uri": "https://localhost:8080/"
        }
      },
      "source": [
        "post_padding_truncating = pad_sequences(test_seq, maxlen=5, truncating='post')\n",
        "post_padding_truncating"
      ],
      "execution_count": 9,
      "outputs": [
        {
          "output_type": "execute_result",
          "data": {
            "text/plain": [
              "array([[ 4,  1,  5,  2,  1],\n",
              "       [ 2,  3, 24,  2,  1],\n",
              "       [ 0,  0,  9, 10,  1]], dtype=int32)"
            ]
          },
          "metadata": {
            "tags": []
          },
          "execution_count": 9
        }
      ]
    },
    {
      "cell_type": "markdown",
      "metadata": {
        "id": "seJjn4HIlkt5"
      },
      "source": [
        "## Removing Stopwords and Cleaning Text\n",
        "There's often text that you don’t want in your dataset. You may want to filter out so-called `stopwords` that are too common and don’t add any meaning, like **“the,” “and,” and “but.”** You may also encounter a lot of HTML tags in your text, and it would be good to have a clean way to remove them. Other things you might want to filter out include **rude words, punctuation, or names**. Later we’ll explore a dataset of tweets, which often have somebody’s user ID in them, and we’ll want to filter those out.\n",
        "\n",
        "While every task is different based on your corpus of text, there are three main things that you can do to clean up your text programmatically.\n",
        "\n",
        "> ***First, strip out HTML tags***. Fortunately, there’s a library called BeautifulSoup that makes this straightforward. For example, if your sentences contain HTML tags such as <\\br>, they’ll be removed by this code:"
      ]
    },
    {
      "cell_type": "code",
      "metadata": {
        "id": "ZWuT6w3slkSK"
      },
      "source": [
        "from bs4 import BeautifulSoup"
      ],
      "execution_count": 10,
      "outputs": []
    },
    {
      "cell_type": "code",
      "metadata": {
        "id": "ro3jCzjclkYU"
      },
      "source": [
        ""
      ],
      "execution_count": 10,
      "outputs": []
    },
    {
      "cell_type": "code",
      "metadata": {
        "id": "-tG5e9qDlkVb"
      },
      "source": [
        ""
      ],
      "execution_count": 10,
      "outputs": []
    },
    {
      "cell_type": "code",
      "metadata": {
        "id": "2Ly9env4lkPW"
      },
      "source": [
        ""
      ],
      "execution_count": 10,
      "outputs": []
    },
    {
      "cell_type": "code",
      "metadata": {
        "id": "RBaA6btlsY9b"
      },
      "source": [
        ""
      ],
      "execution_count": 10,
      "outputs": []
    }
  ]
}