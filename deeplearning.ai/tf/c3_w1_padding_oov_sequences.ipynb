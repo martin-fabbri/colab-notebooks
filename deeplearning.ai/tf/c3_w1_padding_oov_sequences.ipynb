{
  "nbformat": 4,
  "nbformat_minor": 0,
  "metadata": {
    "colab": {
      "name": "c3_w1_padding_oov_sequences.ipynb",
      "provenance": [],
      "authorship_tag": "ABX9TyNuk93lfPvIbiVTAH98Jslz",
      "include_colab_link": true
    },
    "kernelspec": {
      "name": "python3",
      "display_name": "Python 3"
    }
  },
  "cells": [
    {
      "cell_type": "markdown",
      "metadata": {
        "id": "view-in-github",
        "colab_type": "text"
      },
      "source": [
        "<a href=\"https://colab.research.google.com/github/martin-fabbri/colab-notebooks/blob/master/deeplearning.ai/tf/c3_w1_padding_oov_sequences.ipynb\" target=\"_parent\"><img src=\"https://colab.research.google.com/assets/colab-badge.svg\" alt=\"Open In Colab\"/></a>"
      ]
    },
    {
      "cell_type": "markdown",
      "metadata": {
        "id": "T--gTjreFXes"
      },
      "source": [
        "# Pad Sequences, Out-of-vocabulary tokens, and pre/post sequence truncation"
      ]
    },
    {
      "cell_type": "code",
      "metadata": {
        "id": "XTgEWRfNGBCu",
        "outputId": "30795e44-0c74-4d12-828a-209dd14fd965",
        "colab": {
          "base_uri": "https://localhost:8080/",
          "height": 35
        }
      },
      "source": [
        "import tensorflow as tf\n",
        "\n",
        "from tensorflow import keras\n",
        "from tensorflow.keras.preprocessing.text import Tokenizer\n",
        "from tensorflow.keras.preprocessing.sequence import pad_sequences\n",
        "\n",
        "tf.__version__"
      ],
      "execution_count": 24,
      "outputs": [
        {
          "output_type": "execute_result",
          "data": {
            "application/vnd.google.colaboratory.intrinsic+json": {
              "type": "string"
            },
            "text/plain": [
              "'2.3.0'"
            ]
          },
          "metadata": {
            "tags": []
          },
          "execution_count": 24
        }
      ]
    },
    {
      "cell_type": "code",
      "metadata": {
        "id": "YhJED6sXFRki",
        "outputId": "a8881713-580c-484a-e434-6dc9612df846",
        "colab": {
          "base_uri": "https://localhost:8080/"
        }
      },
      "source": [
        "sentences = [\n",
        "  'I love my dog',\n",
        "  'Cats are more independent than dogs',\n",
        "  'I, love my cat',\n",
        "  'You love my dog!',\n",
        "  'Do you think my dog is amazing?',\n",
        "  'I am constantly thinking about my dog.',\n",
        "  'I am loving my dog.',\n",
        "  'She loves her cat'\n",
        "]\n",
        "\n",
        "tokenizer = Tokenizer(num_words=100, oov_token='<oob>')\n",
        "tokenizer.fit_on_texts(sentences)\n",
        "word_index = tokenizer.word_index\n",
        "word_index"
      ],
      "execution_count": 25,
      "outputs": [
        {
          "output_type": "execute_result",
          "data": {
            "text/plain": [
              "{'<oob>': 1,\n",
              " 'about': 21,\n",
              " 'am': 8,\n",
              " 'amazing': 18,\n",
              " 'are': 10,\n",
              " 'cat': 6,\n",
              " 'cats': 9,\n",
              " 'constantly': 19,\n",
              " 'do': 15,\n",
              " 'dog': 3,\n",
              " 'dogs': 14,\n",
              " 'her': 25,\n",
              " 'i': 4,\n",
              " 'independent': 12,\n",
              " 'is': 17,\n",
              " 'love': 5,\n",
              " 'loves': 24,\n",
              " 'loving': 22,\n",
              " 'more': 11,\n",
              " 'my': 2,\n",
              " 'she': 23,\n",
              " 'than': 13,\n",
              " 'think': 16,\n",
              " 'thinking': 20,\n",
              " 'you': 7}"
            ]
          },
          "metadata": {
            "tags": []
          },
          "execution_count": 25
        }
      ]
    },
    {
      "cell_type": "code",
      "metadata": {
        "id": "AKmt0fNvF-kK",
        "outputId": "c8a47e94-e10a-477c-9eaf-1f0e6044aecd",
        "colab": {
          "base_uri": "https://localhost:8080/"
        }
      },
      "source": [
        "sequences = tokenizer.texts_to_sequences(sentences)\n",
        "sequences"
      ],
      "execution_count": 26,
      "outputs": [
        {
          "output_type": "execute_result",
          "data": {
            "text/plain": [
              "[[4, 5, 2, 3],\n",
              " [9, 10, 11, 12, 13, 14],\n",
              " [4, 5, 2, 6],\n",
              " [7, 5, 2, 3],\n",
              " [15, 7, 16, 2, 3, 17, 18],\n",
              " [4, 8, 19, 20, 21, 2, 3],\n",
              " [4, 8, 22, 2, 3],\n",
              " [23, 24, 25, 6]]"
            ]
          },
          "metadata": {
            "tags": []
          },
          "execution_count": 26
        }
      ]
    },
    {
      "cell_type": "markdown",
      "metadata": {
        "id": "_Q_acnWmi8Mt"
      },
      "source": [
        "## Padding\n",
        "\n",
        "When training neural networkds you typically need all your data to be on the same shape. With neural networks you face the same issue --once you've tokenized your words and converted your sentences into sequences, they can all be different lenghts. To get them to be the same size and shape, you can use padding."
      ]
    },
    {
      "cell_type": "code",
      "metadata": {
        "id": "KJFS5tj1pgQ4",
        "outputId": "88651070-233b-47fc-850b-030da68353ec",
        "colab": {
          "base_uri": "https://localhost:8080/"
        }
      },
      "source": [
        "padded = pad_sequences(sequences, maxlen=5)\n",
        "padded"
      ],
      "execution_count": 27,
      "outputs": [
        {
          "output_type": "execute_result",
          "data": {
            "text/plain": [
              "array([[ 0,  4,  5,  2,  3],\n",
              "       [10, 11, 12, 13, 14],\n",
              "       [ 0,  4,  5,  2,  6],\n",
              "       [ 0,  7,  5,  2,  3],\n",
              "       [16,  2,  3, 17, 18],\n",
              "       [19, 20, 21,  2,  3],\n",
              "       [ 4,  8, 22,  2,  3],\n",
              "       [ 0, 23, 24, 25,  6]], dtype=int32)"
            ]
          },
          "metadata": {
            "tags": []
          },
          "execution_count": 27
        }
      ]
    },
    {
      "cell_type": "code",
      "metadata": {
        "id": "IBTpQ5Cdp-a-",
        "outputId": "62d018e2-1c64-429d-bdc2-b0ccb46a40a1",
        "colab": {
          "base_uri": "https://localhost:8080/"
        }
      },
      "source": [
        "test_data = [\n",
        "  'i really love my new puppy',\n",
        "  'my dog loves my manatee',\n",
        "  'cats are cool'\n",
        "]\n",
        "\n",
        "test_seq = tokenizer.texts_to_sequences(test_data)\n",
        "test_seq"
      ],
      "execution_count": 28,
      "outputs": [
        {
          "output_type": "execute_result",
          "data": {
            "text/plain": [
              "[[4, 1, 5, 2, 1, 1], [2, 3, 24, 2, 1], [9, 10, 1]]"
            ]
          },
          "metadata": {
            "tags": []
          },
          "execution_count": 28
        }
      ]
    },
    {
      "cell_type": "markdown",
      "metadata": {
        "id": "PocPyDQGjypQ"
      },
      "source": [
        "If you want to make these the same length, you can use the pad_sequences API. First, you’ll need to import it:\n",
        "\n",
        "```python\n",
        "from tensoflow.keras.preprocessing.sequence import pad_sequences\n",
        "```"
      ]
    },
    {
      "cell_type": "code",
      "metadata": {
        "id": "3pE9TIKBqcV2",
        "outputId": "841ec90f-52b1-487b-b412-155bec6bea7f",
        "colab": {
          "base_uri": "https://localhost:8080/"
        }
      },
      "source": [
        "padded = pad_sequences(test_seq, maxlen=10)\n",
        "padded"
      ],
      "execution_count": 29,
      "outputs": [
        {
          "output_type": "execute_result",
          "data": {
            "text/plain": [
              "array([[ 0,  0,  0,  0,  4,  1,  5,  2,  1,  1],\n",
              "       [ 0,  0,  0,  0,  0,  2,  3, 24,  2,  1],\n",
              "       [ 0,  0,  0,  0,  0,  0,  0,  9, 10,  1]], dtype=int32)"
            ]
          },
          "metadata": {
            "tags": []
          },
          "execution_count": 29
        }
      ]
    },
    {
      "cell_type": "markdown",
      "metadata": {
        "id": "Sgebk0hekgkr"
      },
      "source": [
        "First, you might have noticed that in the case of the shorter sentences, to get them to be the same shape as the longest one, the requisite number of zeros were added at the beginning. This is called prepadding, and it’s the default behavior. You can change this using the `padding` parameter. For example, if you want your sequences to be padded with zeros at the end, you can use:"
      ]
    },
    {
      "cell_type": "code",
      "metadata": {
        "id": "oCtsb28yq51K",
        "outputId": "08e31e1a-c846-463a-c1ab-3cb1dc93362e",
        "colab": {
          "base_uri": "https://localhost:8080/"
        }
      },
      "source": [
        "post_padded = pad_sequences(test_seq, maxlen=10, padding='post')\n",
        "post_padded"
      ],
      "execution_count": 30,
      "outputs": [
        {
          "output_type": "execute_result",
          "data": {
            "text/plain": [
              "array([[ 4,  1,  5,  2,  1,  1,  0,  0,  0,  0],\n",
              "       [ 2,  3, 24,  2,  1,  0,  0,  0,  0,  0],\n",
              "       [ 9, 10,  1,  0,  0,  0,  0,  0,  0,  0]], dtype=int32)"
            ]
          },
          "metadata": {
            "tags": []
          },
          "execution_count": 30
        }
      ]
    },
    {
      "cell_type": "markdown",
      "metadata": {
        "id": "8PG3cZ8ClBKJ"
      },
      "source": [
        "Now your padded sequences are all the same length, and there isn’t too much padding. You have lost some words from your longest sentence, though, and they’ve been truncated from the beginning. What if you don’t want to lose the words from the beginning and instead want them truncated from the end of the sentence? You can override the default behavior with the `truncating` parameter, as follows:"
      ]
    },
    {
      "cell_type": "code",
      "metadata": {
        "id": "aa870oCkrt3v",
        "outputId": "2e093c80-5a80-4c83-aa7f-f116e211c932",
        "colab": {
          "base_uri": "https://localhost:8080/"
        }
      },
      "source": [
        "pre_padding_truncating = pad_sequences(test_seq, maxlen=5, truncating='pre')\n",
        "pre_padding_truncating"
      ],
      "execution_count": 31,
      "outputs": [
        {
          "output_type": "execute_result",
          "data": {
            "text/plain": [
              "array([[ 1,  5,  2,  1,  1],\n",
              "       [ 2,  3, 24,  2,  1],\n",
              "       [ 0,  0,  9, 10,  1]], dtype=int32)"
            ]
          },
          "metadata": {
            "tags": []
          },
          "execution_count": 31
        }
      ]
    },
    {
      "cell_type": "code",
      "metadata": {
        "id": "jIGRJVAnsMu6",
        "outputId": "ea5fa47a-24c6-468f-8daf-f7803267bea0",
        "colab": {
          "base_uri": "https://localhost:8080/"
        }
      },
      "source": [
        "post_padding_truncating = pad_sequences(test_seq, maxlen=5, truncating='post')\n",
        "post_padding_truncating"
      ],
      "execution_count": 32,
      "outputs": [
        {
          "output_type": "execute_result",
          "data": {
            "text/plain": [
              "array([[ 4,  1,  5,  2,  1],\n",
              "       [ 2,  3, 24,  2,  1],\n",
              "       [ 0,  0,  9, 10,  1]], dtype=int32)"
            ]
          },
          "metadata": {
            "tags": []
          },
          "execution_count": 32
        }
      ]
    },
    {
      "cell_type": "markdown",
      "metadata": {
        "id": "seJjn4HIlkt5"
      },
      "source": [
        "## Removing Stopwords and Cleaning Text\n",
        "There's often text that you don’t want in your dataset. You may want to filter out so-called `stopwords` that are too common and don’t add any meaning, like **“the,” “and,” and “but.”** You may also encounter a lot of HTML tags in your text, and it would be good to have a clean way to remove them. Other things you might want to filter out include **rude words, punctuation, or names**. Later we’ll explore a dataset of tweets, which often have somebody’s user ID in them, and we’ll want to filter those out.\n",
        "\n",
        "While every task is different based on your corpus of text, there are three main things that you can do to clean up your text programmatically.\n",
        "\n",
        "> ***First, strip out HTML tags***. Fortunately, there’s a library called BeautifulSoup that makes this straightforward. For example, if your sentences contain HTML tags such as <\\br>, they’ll be removed by this code:"
      ]
    },
    {
      "cell_type": "code",
      "metadata": {
        "id": "ZWuT6w3slkSK",
        "outputId": "64d49df4-74ba-4260-a229-9b01b3cdb7cb",
        "colab": {
          "base_uri": "https://localhost:8080/",
          "height": 69
        }
      },
      "source": [
        "from bs4 import BeautifulSoup\n",
        "sentence = '''\n",
        "Natural language processing is a subfield of linguistics, computer science, and \n",
        "artificial intelligence concerned with the interactions between computers and \n",
        "human language, in particular how to program computers to process and analyze \n",
        "large amounts of natural language data.\n",
        "'''\n",
        "\n",
        "soup = BeautifulSoup(sentence)\n",
        "sentence = soup.get_text()\n",
        "sentence"
      ],
      "execution_count": 33,
      "outputs": [
        {
          "output_type": "execute_result",
          "data": {
            "application/vnd.google.colaboratory.intrinsic+json": {
              "type": "string"
            },
            "text/plain": [
              "'Natural language processing is a subfield of linguistics, computer science, and \\nartificial intelligence concerned with the interactions between computers and \\nhuman language, in particular how to program computers to process and analyze \\nlarge amounts of natural language data.\\n'"
            ]
          },
          "metadata": {
            "tags": []
          },
          "execution_count": 33
        }
      ]
    },
    {
      "cell_type": "markdown",
      "metadata": {
        "id": "AHrKJuiwnyD3"
      },
      "source": [
        "A common way to remove `stopwords` is to have a stopwords list and to preprocess your sentences, removing instances of stopwords. Here’s an example:"
      ]
    },
    {
      "cell_type": "code",
      "metadata": {
        "id": "yMdy_ytjoNkj"
      },
      "source": [
        "stopwords = [\"a\", \"about\", \"above\", \"after\", \"again\", \"against\", \"all\", \"am\", \"an\", \"and\", \"any\", \"are\", \"as\", \"at\",\n",
        "             \"be\", \"because\", \"been\", \"before\", \"being\", \"below\", \"between\", \"both\", \"but\", \"by\", \"could\", \"did\", \"do\",\n",
        "             \"does\", \"doing\", \"down\", \"during\", \"each\", \"few\", \"for\", \"from\", \"further\", \"had\", \"has\", \"have\", \"having\",\n",
        "             \"he\", \"hed\", \"hes\", \"her\", \"here\", \"heres\", \"hers\", \"herself\", \"him\", \"himself\", \"his\", \"how\",\n",
        "             \"hows\", \"i\", \"id\", \"ill\", \"im\", \"ive\", \"if\", \"in\", \"into\", \"is\", \"it\", \"its\", \"itself\",\n",
        "             \"lets\", \"me\", \"more\", \"most\", \"my\", \"myself\", \"nor\", \"of\", \"on\", \"once\", \"only\", \"or\", \"other\", \"ought\",\n",
        "             \"our\", \"ours\", \"ourselves\", \"out\", \"over\", \"own\", \"same\", \"she\", \"shed\", \"shell\", \"shes\", \"should\",\n",
        "             \"so\", \"some\", \"such\", \"than\", \"that\", \"thats\", \"the\", \"their\", \"theirs\", \"them\", \"themselves\", \"then\",\n",
        "             \"there\", \"theres\", \"these\", \"they\", \"theyd\", \"theyll\", \"theyre\", \"theyve\", \"this\", \"those\", \"through\",\n",
        "             \"to\", \"too\", \"under\", \"until\", \"up\", \"very\", \"was\", \"we\", \"wed\", \"well\", \"were\", \"weve\", \"were\",\n",
        "             \"what\", \"whats\", \"when\", \"whens\", \"where\", \"wheres\", \"which\", \"while\", \"who\", \"whos\", \"whom\", \"why\",\n",
        "             \"whys\", \"with\", \"would\", \"you\", \"youd\", \"youll\", \"youre\", \"youve\", \"your\", \"yours\", \"yourself\",\n",
        "             \"yourselves\"]"
      ],
      "execution_count": 34,
      "outputs": []
    },
    {
      "cell_type": "code",
      "metadata": {
        "id": "-tG5e9qDlkVb",
        "outputId": "b9c273f2-1f85-4023-c0bd-ddd3660667a8",
        "colab": {
          "base_uri": "https://localhost:8080/"
        }
      },
      "source": [
        "len(stopwords)"
      ],
      "execution_count": 35,
      "outputs": [
        {
          "output_type": "execute_result",
          "data": {
            "text/plain": [
              "151"
            ]
          },
          "metadata": {
            "tags": []
          },
          "execution_count": 35
        }
      ]
    },
    {
      "cell_type": "markdown",
      "metadata": {
        "id": "T5kpL1xSomhg"
      },
      "source": [
        "Then, as you are iterating through your sentences, you can use code like this to remove the stopwords from your sentence."
      ]
    },
    {
      "cell_type": "code",
      "metadata": {
        "id": "2Ly9env4lkPW",
        "outputId": "8206acf8-6220-4224-eb9f-e864b735b26f",
        "colab": {
          "base_uri": "https://localhost:8080/",
          "height": 52
        }
      },
      "source": [
        "words = sentence.split()\n",
        "filtered_sentence = ''\n",
        "for word in words:\n",
        "  if word not in stopwords:\n",
        "    filtered_sentence += word + ' '\n",
        "filtered_sentence"
      ],
      "execution_count": 36,
      "outputs": [
        {
          "output_type": "execute_result",
          "data": {
            "application/vnd.google.colaboratory.intrinsic+json": {
              "type": "string"
            },
            "text/plain": [
              "'Natural language processing subfield linguistics, computer science, artificial intelligence concerned interactions computers human language, particular program computers process analyze large amounts natural language data. '"
            ]
          },
          "metadata": {
            "tags": []
          },
          "execution_count": 36
        }
      ]
    },
    {
      "cell_type": "markdown",
      "metadata": {
        "id": "GznCTKtVpwj5"
      },
      "source": [
        "Another thing you might consider is stripping out punctuation, which can fool a stopword remover. "
      ]
    },
    {
      "cell_type": "code",
      "metadata": {
        "id": "RBaA6btlsY9b",
        "outputId": "c11add72-e4a3-4fd7-a062-2a2dd2247da6",
        "colab": {
          "base_uri": "https://localhost:8080/",
          "height": 52
        }
      },
      "source": [
        "import string\n",
        "\n",
        "table = str.maketrans('', '', string.punctuation)\n",
        "words = sentence.split()\n",
        "filtered_sentence = ''\n",
        "for word in words:\n",
        "  word = word.translate(table)\n",
        "  if word not in stopwords:\n",
        "    filtered_sentence += word + ' '\n",
        "filtered_sentence"
      ],
      "execution_count": 37,
      "outputs": [
        {
          "output_type": "execute_result",
          "data": {
            "application/vnd.google.colaboratory.intrinsic+json": {
              "type": "string"
            },
            "text/plain": [
              "'Natural language processing subfield linguistics computer science artificial intelligence concerned interactions computers human language particular program computers process analyze large amounts natural language data '"
            ]
          },
          "metadata": {
            "tags": []
          },
          "execution_count": 37
        }
      ]
    },
    {
      "cell_type": "markdown",
      "metadata": {
        "id": "vA7wtLKDquah"
      },
      "source": [
        "## Working with Real Data Sources"
      ]
    },
    {
      "cell_type": "markdown",
      "metadata": {
        "id": "bWa8p2lYrMqV"
      },
      "source": [
        "## Getting Text from TensorFlow datasets"
      ]
    },
    {
      "cell_type": "markdown",
      "metadata": {
        "id": "APt7obmfsFET"
      },
      "source": [
        "This code will load the training split from the IMDb dataset and iterate through it, adding the text field containing the review to a list called imdb_sentences. Reviews are a tuple of the text and a label containing the sentiment of the review. Note that by wrapping the tfds.load call in tfds.as_numpy you ensure that the data will be loaded as strings, not tensors:"
      ]
    },
    {
      "cell_type": "code",
      "metadata": {
        "id": "uuTQryp1qJhD",
        "outputId": "e78dcb1d-4117-4f01-9449-62b687474872",
        "colab": {
          "base_uri": "https://localhost:8080/",
          "height": 212
        }
      },
      "source": [
        "imdb_sentences = []\n",
        "train_data = tfds.as_numpy(tfds.load('imdb_reviews', split='train'))\n",
        "for item in train_data:\n",
        "  imdb_sentence.append(str(item['text']))"
      ],
      "execution_count": 38,
      "outputs": [
        {
          "output_type": "error",
          "ename": "NameError",
          "evalue": "ignored",
          "traceback": [
            "\u001b[0;31m---------------------------------------------------------------------------\u001b[0m",
            "\u001b[0;31mNameError\u001b[0m                                 Traceback (most recent call last)",
            "\u001b[0;32m<ipython-input-38-44164e9fd124>\u001b[0m in \u001b[0;36m<module>\u001b[0;34m()\u001b[0m\n\u001b[1;32m      1\u001b[0m \u001b[0mimdb_sentences\u001b[0m \u001b[0;34m=\u001b[0m \u001b[0;34m[\u001b[0m\u001b[0;34m]\u001b[0m\u001b[0;34m\u001b[0m\u001b[0;34m\u001b[0m\u001b[0m\n\u001b[0;32m----> 2\u001b[0;31m \u001b[0mtrain_data\u001b[0m \u001b[0;34m=\u001b[0m \u001b[0mtfds\u001b[0m\u001b[0;34m.\u001b[0m\u001b[0mas_numpy\u001b[0m\u001b[0;34m(\u001b[0m\u001b[0mtfds\u001b[0m\u001b[0;34m.\u001b[0m\u001b[0mload\u001b[0m\u001b[0;34m(\u001b[0m\u001b[0;34m'imdb_reviews'\u001b[0m\u001b[0;34m,\u001b[0m \u001b[0msplit\u001b[0m\u001b[0;34m=\u001b[0m\u001b[0;34m'train'\u001b[0m\u001b[0;34m)\u001b[0m\u001b[0;34m)\u001b[0m\u001b[0;34m\u001b[0m\u001b[0;34m\u001b[0m\u001b[0m\n\u001b[0m\u001b[1;32m      3\u001b[0m \u001b[0;32mfor\u001b[0m \u001b[0mitem\u001b[0m \u001b[0;32min\u001b[0m \u001b[0mtrain_data\u001b[0m\u001b[0;34m:\u001b[0m\u001b[0;34m\u001b[0m\u001b[0;34m\u001b[0m\u001b[0m\n\u001b[1;32m      4\u001b[0m   \u001b[0mimdb_sentence\u001b[0m\u001b[0;34m.\u001b[0m\u001b[0mappend\u001b[0m\u001b[0;34m(\u001b[0m\u001b[0mstr\u001b[0m\u001b[0;34m(\u001b[0m\u001b[0mitem\u001b[0m\u001b[0;34m[\u001b[0m\u001b[0;34m'text'\u001b[0m\u001b[0;34m]\u001b[0m\u001b[0;34m)\u001b[0m\u001b[0;34m)\u001b[0m\u001b[0;34m\u001b[0m\u001b[0;34m\u001b[0m\u001b[0m\n",
            "\u001b[0;31mNameError\u001b[0m: name 'tfds' is not defined"
          ]
        }
      ]
    },
    {
      "cell_type": "code",
      "metadata": {
        "id": "CDt-EAGMsdCq"
      },
      "source": [
        ""
      ],
      "execution_count": null,
      "outputs": []
    }
  ]
}