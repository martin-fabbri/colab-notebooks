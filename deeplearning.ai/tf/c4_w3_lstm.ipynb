{
  "nbformat": 4,
  "nbformat_minor": 0,
  "metadata": {
    "colab": {
      "name": "c4_w3_lstm.ipynb",
      "provenance": [],
      "collapsed_sections": [],
      "authorship_tag": "ABX9TyO0+qAIa//TonaJE7e8I1Qy",
      "include_colab_link": true
    },
    "kernelspec": {
      "name": "python3",
      "display_name": "Python 3"
    },
    "accelerator": "GPU"
  },
  "cells": [
    {
      "cell_type": "markdown",
      "metadata": {
        "id": "view-in-github",
        "colab_type": "text"
      },
      "source": [
        "<a href=\"https://colab.research.google.com/github/martin-fabbri/colab-notebooks/blob/master/deeplearning.ai/tf/c4_w3_lstm.ipynb\" target=\"_parent\"><img src=\"https://colab.research.google.com/assets/colab-badge.svg\" alt=\"Open In Colab\"/></a>"
      ]
    },
    {
      "cell_type": "code",
      "metadata": {
        "colab": {
          "base_uri": "https://localhost:8080/",
          "height": 35
        },
        "id": "-ALbVIkbRtow",
        "outputId": "6019e7f6-a76d-492c-814a-ec9492758e9d"
      },
      "source": [
        "import tensorflow as tf\r\n",
        "import numpy as np\r\n",
        "import matplotlib.pyplot as plt\r\n",
        "\r\n",
        "from tensorflow.data import Dataset\r\n",
        "from tensorflow.keras.backend import clear_session\r\n",
        "from tensorflow.random import set_seed\r\n",
        "from tensorflow.keras import Sequential\r\n",
        "from tensorflow.keras.layers import Lambda, LSTM, Dense, Bidirectional\r\n",
        "from tensorflow.keras.callbacks import LearningRateScheduler\r\n",
        "from tensorflow.keras.losses import Huber\r\n",
        "from tensorflow.keras.optimizers import SGD\r\n",
        "from tensorflow.keras.metrics import mean_absolute_error\r\n",
        "\r\n",
        "tf.__version__"
      ],
      "execution_count": 1,
      "outputs": [
        {
          "output_type": "execute_result",
          "data": {
            "application/vnd.google.colaboratory.intrinsic+json": {
              "type": "string"
            },
            "text/plain": [
              "'2.4.0'"
            ]
          },
          "metadata": {
            "tags": []
          },
          "execution_count": 1
        }
      ]
    },
    {
      "cell_type": "code",
      "metadata": {
        "id": "MLqyGFhySCLQ"
      },
      "source": [
        "def plot_series(time, series, format=\"-\", start=0, end=None):\r\n",
        "    plt.plot(time[start:end], series[start:end], format)\r\n",
        "    plt.xlabel(\"Time\")\r\n",
        "    plt.ylabel(\"Value\")\r\n",
        "    plt.grid(True)\r\n",
        "\r\n",
        "def trend(time, slope=0):\r\n",
        "    return slope * time\r\n",
        "\r\n",
        "def seasonal_pattern(season_time):\r\n",
        "    return np.where(season_time < 0.4,\r\n",
        "                    np.cos(season_time * 2 * np.pi),\r\n",
        "                    1 / np.exp(3 * season_time))\r\n",
        "    \r\n",
        "def seasonality(time, period, amplitude=1, phase=0):\r\n",
        "    season_time = ((time + phase) % period) / period\r\n",
        "    return amplitude * seasonal_pattern(season_time)\r\n",
        "\r\n",
        "def noise(time, noise_level=1, seed=None):\r\n",
        "    rnd = np.random.RandomState(seed)\r\n",
        "    return rnd.randn(len(time)) * noise_level"
      ],
      "execution_count": 2,
      "outputs": []
    },
    {
      "cell_type": "code",
      "metadata": {
        "id": "Uk651cLme_sa"
      },
      "source": [
        "time = np.arange(4 * 365 + 1, dtype=\"float32\")\r\n",
        "series = trend(time, 0.1)\r\n",
        "baseline = 10\r\n",
        "amplitude = 40\r\n",
        "slope = 0.05\r\n",
        "noise_level = 5\r\n",
        "trend_series = trend(time, slope)\r\n",
        "seasonality_series = seasonality(time, period=365, amplitude=amplitude)\r\n",
        "noise_series = noise(time, noise_level, seed=42)\r\n",
        "series = baseline + trend_series + seasonality_series + noise_series"
      ],
      "execution_count": 3,
      "outputs": []
    },
    {
      "cell_type": "code",
      "metadata": {
        "id": "Fl4x9qGFf1Do"
      },
      "source": [
        "split_time = 1000\r\n",
        "time_train = time[:split_time]\r\n",
        "x_train = series[:split_time]\r\n",
        "time_valid = time[split_time:]\r\n",
        "x_valid = series[split_time:]"
      ],
      "execution_count": 4,
      "outputs": []
    },
    {
      "cell_type": "code",
      "metadata": {
        "id": "4ZG3wiiIivPI"
      },
      "source": [
        "window_size = 20\r\n",
        "batch_size = 32\r\n",
        "shuffle_buffer_size = 1000\r\n",
        "\r\n",
        "def windowed_dataset(series, window_size, batch_size, shuffle_buffer):\r\n",
        "    dataset = Dataset.from_tensor_slices(series)\r\n",
        "    dataset = dataset.window(window_size + 1, shift=1, drop_remainder=True)\r\n",
        "    dataset = dataset.flat_map(lambda window: window.batch(window_size + 1))\r\n",
        "    dataset = dataset.shuffle(shuffle_buffer).map(\r\n",
        "        lambda window: (window[:-1], window[-1])\r\n",
        "    )\r\n",
        "    dataset = dataset.batch(batch_size).prefetch(1)\r\n",
        "    return dataset"
      ],
      "execution_count": 5,
      "outputs": []
    },
    {
      "cell_type": "code",
      "metadata": {
        "id": "n_UForLXjn1I"
      },
      "source": [
        "clear_session()\r\n",
        "set_seed(51)\r\n",
        "np.random.seed(51)\r\n",
        "\r\n",
        "train_set = windowed_dataset(\r\n",
        "    x_train, window_size, batch_size=batch_size, shuffle_buffer=shuffle_buffer_size\r\n",
        ")"
      ],
      "execution_count": 6,
      "outputs": []
    },
    {
      "cell_type": "code",
      "metadata": {
        "colab": {
          "base_uri": "https://localhost:8080/"
        },
        "id": "j8jbuXEzbY_W",
        "outputId": "38c705c2-1935-4786-bfe0-14821c99465a"
      },
      "source": [
        "seq, label = next(iter(train_set.take(1)))\r\n",
        "seq.shape, label.shape"
      ],
      "execution_count": 7,
      "outputs": [
        {
          "output_type": "execute_result",
          "data": {
            "text/plain": [
              "(TensorShape([32, 20]), TensorShape([32]))"
            ]
          },
          "metadata": {
            "tags": []
          },
          "execution_count": 7
        }
      ]
    },
    {
      "cell_type": "code",
      "metadata": {
        "colab": {
          "base_uri": "https://localhost:8080/"
        },
        "id": "rttNDslsc1MR",
        "outputId": "619c5e0c-aa67-4fbb-aa97-b5157de96e08"
      },
      "source": [
        "def create_model():\r\n",
        "    return Sequential([\r\n",
        "        Lambda(lambda x: tf.expand_dims(x, axis=-1), input_shape=[None]),\r\n",
        "        Bidirectional(LSTM(64, return_sequences=True)),\r\n",
        "        Bidirectional(LSTM(64)),\r\n",
        "        Dense(1),\r\n",
        "        Lambda(lambda x: x * 100.0)\r\n",
        "    ])\r\n",
        "\r\n",
        "model = create_model()\r\n",
        "model.summary()"
      ],
      "execution_count": 8,
      "outputs": [
        {
          "output_type": "stream",
          "text": [
            "Model: \"sequential\"\n",
            "_________________________________________________________________\n",
            "Layer (type)                 Output Shape              Param #   \n",
            "=================================================================\n",
            "lambda (Lambda)              (None, None, 1)           0         \n",
            "_________________________________________________________________\n",
            "bidirectional (Bidirectional (None, None, 128)         33792     \n",
            "_________________________________________________________________\n",
            "bidirectional_1 (Bidirection (None, 128)               98816     \n",
            "_________________________________________________________________\n",
            "dense (Dense)                (None, 1)                 129       \n",
            "_________________________________________________________________\n",
            "lambda_1 (Lambda)            (None, 1)                 0         \n",
            "=================================================================\n",
            "Total params: 132,737\n",
            "Trainable params: 132,737\n",
            "Non-trainable params: 0\n",
            "_________________________________________________________________\n"
          ],
          "name": "stdout"
        }
      ]
    },
    {
      "cell_type": "code",
      "metadata": {
        "colab": {
          "base_uri": "https://localhost:8080/"
        },
        "id": "rJA-cQhSkIsk",
        "outputId": "0ffae048-0992-4f61-835c-2dad683a1616"
      },
      "source": [
        "lr_schedule = LearningRateScheduler(lambda epoch: 1e-8 * 10**(epoch / 20))\r\n",
        "optimizer = SGD(lr=1e-8, momentum=0.9)\r\n",
        "model.compile(loss=Huber(), optimizer=optimizer, metrics=[\"mae\"])\r\n",
        "history = model.fit(train_set, epochs=100, callbacks=[lr_schedule])"
      ],
      "execution_count": 9,
      "outputs": [
        {
          "output_type": "stream",
          "text": [
            "Epoch 1/100\n",
            "31/31 [==============================] - 7s 12ms/step - loss: 20.1233 - mae: 20.6217\n",
            "Epoch 2/100\n",
            "31/31 [==============================] - 0s 11ms/step - loss: 19.4844 - mae: 19.9821\n",
            "Epoch 3/100\n",
            "31/31 [==============================] - 0s 11ms/step - loss: 19.8947 - mae: 20.3913\n",
            "Epoch 4/100\n",
            "31/31 [==============================] - 0s 11ms/step - loss: 19.6282 - mae: 20.1265\n",
            "Epoch 5/100\n",
            "31/31 [==============================] - 0s 11ms/step - loss: 19.0878 - mae: 19.5858\n",
            "Epoch 6/100\n",
            "31/31 [==============================] - 0s 11ms/step - loss: 18.3820 - mae: 18.8783\n",
            "Epoch 7/100\n",
            "31/31 [==============================] - 0s 12ms/step - loss: 17.4888 - mae: 17.9859\n",
            "Epoch 8/100\n",
            "31/31 [==============================] - 0s 11ms/step - loss: 17.4690 - mae: 17.9631\n",
            "Epoch 9/100\n",
            "31/31 [==============================] - 0s 11ms/step - loss: 16.9286 - mae: 17.4251\n",
            "Epoch 10/100\n",
            "31/31 [==============================] - 0s 11ms/step - loss: 16.3646 - mae: 16.8575\n",
            "Epoch 11/100\n",
            "31/31 [==============================] - 0s 12ms/step - loss: 16.0855 - mae: 16.5805\n",
            "Epoch 12/100\n",
            "31/31 [==============================] - 0s 11ms/step - loss: 15.5731 - mae: 16.0708\n",
            "Epoch 13/100\n",
            "31/31 [==============================] - 0s 12ms/step - loss: 15.8571 - mae: 16.3520\n",
            "Epoch 14/100\n",
            "31/31 [==============================] - 0s 11ms/step - loss: 16.0040 - mae: 16.4993\n",
            "Epoch 15/100\n",
            "31/31 [==============================] - 0s 11ms/step - loss: 14.7211 - mae: 15.2114\n",
            "Epoch 16/100\n",
            "31/31 [==============================] - 0s 11ms/step - loss: 14.0557 - mae: 14.5457\n",
            "Epoch 17/100\n",
            "31/31 [==============================] - 0s 11ms/step - loss: 14.4552 - mae: 14.9466\n",
            "Epoch 18/100\n",
            "31/31 [==============================] - 0s 11ms/step - loss: 13.8036 - mae: 14.2960\n",
            "Epoch 19/100\n",
            "31/31 [==============================] - 0s 11ms/step - loss: 13.8644 - mae: 14.3549\n",
            "Epoch 20/100\n",
            "31/31 [==============================] - 0s 12ms/step - loss: 12.5542 - mae: 13.0409\n",
            "Epoch 21/100\n",
            "31/31 [==============================] - 0s 11ms/step - loss: 12.6976 - mae: 13.1875\n",
            "Epoch 22/100\n",
            "31/31 [==============================] - 0s 12ms/step - loss: 11.6833 - mae: 12.1743\n",
            "Epoch 23/100\n",
            "31/31 [==============================] - 0s 11ms/step - loss: 11.6151 - mae: 12.1056\n",
            "Epoch 24/100\n",
            "31/31 [==============================] - 0s 11ms/step - loss: 11.9306 - mae: 12.4220\n",
            "Epoch 25/100\n",
            "31/31 [==============================] - 0s 11ms/step - loss: 11.1471 - mae: 11.6390\n",
            "Epoch 26/100\n",
            "31/31 [==============================] - 0s 11ms/step - loss: 10.2942 - mae: 10.7860\n",
            "Epoch 27/100\n",
            "31/31 [==============================] - 0s 11ms/step - loss: 9.6319 - mae: 10.1192\n",
            "Epoch 28/100\n",
            "31/31 [==============================] - 0s 11ms/step - loss: 9.3318 - mae: 9.8155\n",
            "Epoch 29/100\n",
            "31/31 [==============================] - 0s 11ms/step - loss: 9.2656 - mae: 9.7554\n",
            "Epoch 30/100\n",
            "31/31 [==============================] - 0s 11ms/step - loss: 7.4906 - mae: 7.9688\n",
            "Epoch 31/100\n",
            "31/31 [==============================] - 0s 11ms/step - loss: 7.4423 - mae: 7.9233\n",
            "Epoch 32/100\n",
            "31/31 [==============================] - 0s 11ms/step - loss: 7.3592 - mae: 7.8371\n",
            "Epoch 33/100\n",
            "31/31 [==============================] - 0s 11ms/step - loss: 7.3176 - mae: 7.8011\n",
            "Epoch 34/100\n",
            "31/31 [==============================] - 0s 11ms/step - loss: 7.0423 - mae: 7.5228\n",
            "Epoch 35/100\n",
            "31/31 [==============================] - 0s 11ms/step - loss: 6.7457 - mae: 7.2230\n",
            "Epoch 36/100\n",
            "31/31 [==============================] - 0s 11ms/step - loss: 6.6820 - mae: 7.1672\n",
            "Epoch 37/100\n",
            "31/31 [==============================] - 0s 11ms/step - loss: 6.5787 - mae: 7.0620\n",
            "Epoch 38/100\n",
            "31/31 [==============================] - 0s 11ms/step - loss: 6.1942 - mae: 6.6721\n",
            "Epoch 39/100\n",
            "31/31 [==============================] - 0s 12ms/step - loss: 5.8257 - mae: 6.3099\n",
            "Epoch 40/100\n",
            "31/31 [==============================] - 0s 11ms/step - loss: 6.4042 - mae: 6.8799\n",
            "Epoch 41/100\n",
            "31/31 [==============================] - 0s 11ms/step - loss: 5.8971 - mae: 6.3764\n",
            "Epoch 42/100\n",
            "31/31 [==============================] - 0s 11ms/step - loss: 5.7767 - mae: 6.2522\n",
            "Epoch 43/100\n",
            "31/31 [==============================] - 0s 11ms/step - loss: 5.8359 - mae: 6.3134\n",
            "Epoch 44/100\n",
            "31/31 [==============================] - 0s 11ms/step - loss: 5.7011 - mae: 6.1776\n",
            "Epoch 45/100\n",
            "31/31 [==============================] - 0s 11ms/step - loss: 5.6005 - mae: 6.0797\n",
            "Epoch 46/100\n",
            "31/31 [==============================] - 0s 11ms/step - loss: 5.5533 - mae: 6.0303\n",
            "Epoch 47/100\n",
            "31/31 [==============================] - 0s 11ms/step - loss: 5.2380 - mae: 5.7113\n",
            "Epoch 48/100\n",
            "31/31 [==============================] - 0s 11ms/step - loss: 5.3375 - mae: 5.8099\n",
            "Epoch 49/100\n",
            "31/31 [==============================] - 0s 11ms/step - loss: 5.3358 - mae: 5.8106\n",
            "Epoch 50/100\n",
            "31/31 [==============================] - 0s 11ms/step - loss: 5.2487 - mae: 5.7254\n",
            "Epoch 51/100\n",
            "31/31 [==============================] - 0s 11ms/step - loss: 5.1207 - mae: 5.6019\n",
            "Epoch 52/100\n",
            "31/31 [==============================] - 0s 11ms/step - loss: 5.3780 - mae: 5.8496\n",
            "Epoch 53/100\n",
            "31/31 [==============================] - 0s 11ms/step - loss: 4.9812 - mae: 5.4582\n",
            "Epoch 54/100\n",
            "31/31 [==============================] - 0s 11ms/step - loss: 5.0655 - mae: 5.5366\n",
            "Epoch 55/100\n",
            "31/31 [==============================] - 0s 11ms/step - loss: 4.6874 - mae: 5.1652\n",
            "Epoch 56/100\n",
            "31/31 [==============================] - 0s 11ms/step - loss: 5.0425 - mae: 5.5268\n",
            "Epoch 57/100\n",
            "31/31 [==============================] - 0s 11ms/step - loss: 5.2043 - mae: 5.6806\n",
            "Epoch 58/100\n",
            "31/31 [==============================] - 0s 11ms/step - loss: 5.2499 - mae: 5.7253\n",
            "Epoch 59/100\n",
            "31/31 [==============================] - 0s 11ms/step - loss: 5.1317 - mae: 5.6073\n",
            "Epoch 60/100\n",
            "31/31 [==============================] - 0s 11ms/step - loss: 4.9883 - mae: 5.4653\n",
            "Epoch 61/100\n",
            "31/31 [==============================] - 0s 11ms/step - loss: 5.3191 - mae: 5.7996\n",
            "Epoch 62/100\n",
            "31/31 [==============================] - 0s 11ms/step - loss: 5.7048 - mae: 6.1878\n",
            "Epoch 63/100\n",
            "31/31 [==============================] - 0s 11ms/step - loss: 4.9431 - mae: 5.4233\n",
            "Epoch 64/100\n",
            "31/31 [==============================] - 0s 11ms/step - loss: 5.6351 - mae: 6.1218\n",
            "Epoch 65/100\n",
            "31/31 [==============================] - 0s 11ms/step - loss: 4.8791 - mae: 5.3511\n",
            "Epoch 66/100\n",
            "31/31 [==============================] - 0s 11ms/step - loss: 4.8115 - mae: 5.2879\n",
            "Epoch 67/100\n",
            "31/31 [==============================] - 0s 11ms/step - loss: 5.4151 - mae: 5.8973\n",
            "Epoch 68/100\n",
            "31/31 [==============================] - 0s 11ms/step - loss: 6.1309 - mae: 6.6139\n",
            "Epoch 69/100\n",
            "31/31 [==============================] - 0s 11ms/step - loss: 5.1749 - mae: 5.6535\n",
            "Epoch 70/100\n",
            "31/31 [==============================] - 0s 11ms/step - loss: 4.9962 - mae: 5.4765\n",
            "Epoch 71/100\n",
            "31/31 [==============================] - 0s 11ms/step - loss: 5.2678 - mae: 5.7477\n",
            "Epoch 72/100\n",
            "31/31 [==============================] - 0s 12ms/step - loss: 5.0873 - mae: 5.5694\n",
            "Epoch 73/100\n",
            "31/31 [==============================] - 0s 11ms/step - loss: 6.8407 - mae: 7.3228\n",
            "Epoch 74/100\n",
            "31/31 [==============================] - 0s 11ms/step - loss: 5.0874 - mae: 5.5685\n",
            "Epoch 75/100\n",
            "31/31 [==============================] - 0s 11ms/step - loss: 6.3446 - mae: 6.8305\n",
            "Epoch 76/100\n",
            "31/31 [==============================] - 0s 11ms/step - loss: 6.5782 - mae: 7.0607\n",
            "Epoch 77/100\n",
            "31/31 [==============================] - 0s 11ms/step - loss: 4.8967 - mae: 5.3749\n",
            "Epoch 78/100\n",
            "31/31 [==============================] - 0s 11ms/step - loss: 5.8418 - mae: 6.3243\n",
            "Epoch 79/100\n",
            "31/31 [==============================] - 0s 11ms/step - loss: 6.7612 - mae: 7.2452\n",
            "Epoch 80/100\n",
            "31/31 [==============================] - 0s 11ms/step - loss: 9.0804 - mae: 9.5709\n",
            "Epoch 81/100\n",
            "31/31 [==============================] - 0s 12ms/step - loss: 6.9773 - mae: 7.4653\n",
            "Epoch 82/100\n",
            "31/31 [==============================] - 0s 11ms/step - loss: 10.1980 - mae: 10.6879\n",
            "Epoch 83/100\n",
            "31/31 [==============================] - 0s 11ms/step - loss: 7.0587 - mae: 7.5420\n",
            "Epoch 84/100\n",
            "31/31 [==============================] - 0s 11ms/step - loss: 5.3147 - mae: 5.7954\n",
            "Epoch 85/100\n",
            "31/31 [==============================] - 0s 11ms/step - loss: 5.1806 - mae: 5.6648\n",
            "Epoch 86/100\n",
            "31/31 [==============================] - 0s 11ms/step - loss: 6.0990 - mae: 6.5798\n",
            "Epoch 87/100\n",
            "31/31 [==============================] - 0s 11ms/step - loss: 6.2265 - mae: 6.7080\n",
            "Epoch 88/100\n",
            "31/31 [==============================] - 0s 11ms/step - loss: 6.0710 - mae: 6.5547\n",
            "Epoch 89/100\n",
            "31/31 [==============================] - 0s 11ms/step - loss: 6.5005 - mae: 6.9864\n",
            "Epoch 90/100\n",
            "31/31 [==============================] - 0s 11ms/step - loss: 5.9113 - mae: 6.3935\n",
            "Epoch 91/100\n",
            "31/31 [==============================] - 0s 12ms/step - loss: 8.1510 - mae: 8.6365\n",
            "Epoch 92/100\n",
            "31/31 [==============================] - 0s 11ms/step - loss: 8.2508 - mae: 8.7395\n",
            "Epoch 93/100\n",
            "31/31 [==============================] - 0s 11ms/step - loss: 9.4333 - mae: 9.9255\n",
            "Epoch 94/100\n",
            "31/31 [==============================] - 0s 11ms/step - loss: 6.9671 - mae: 7.4550\n",
            "Epoch 95/100\n",
            "31/31 [==============================] - 0s 11ms/step - loss: 7.2556 - mae: 7.7436\n",
            "Epoch 96/100\n",
            "31/31 [==============================] - 0s 12ms/step - loss: 5.8747 - mae: 6.3599\n",
            "Epoch 97/100\n",
            "31/31 [==============================] - 0s 11ms/step - loss: 6.7428 - mae: 7.2294\n",
            "Epoch 98/100\n",
            "31/31 [==============================] - 0s 11ms/step - loss: 7.1935 - mae: 7.6711\n",
            "Epoch 99/100\n",
            "31/31 [==============================] - 0s 11ms/step - loss: 8.3168 - mae: 8.7989\n",
            "Epoch 100/100\n",
            "31/31 [==============================] - 0s 11ms/step - loss: 11.9220 - mae: 12.4146\n"
          ],
          "name": "stdout"
        }
      ]
    },
    {
      "cell_type": "code",
      "metadata": {
        "colab": {
          "base_uri": "https://localhost:8080/",
          "height": 273
        },
        "id": "KGDOW4B4ny52",
        "outputId": "3d7a6e7c-9406-4e7b-f0bc-d8a9094e782b"
      },
      "source": [
        "plt.semilogx(history.history[\"lr\"], history.history[\"loss\"])\r\n",
        "plt.axis([1e-8, 1e-4, 0, 30]);"
      ],
      "execution_count": 10,
      "outputs": [
        {
          "output_type": "display_data",
          "data": {
            "image/png": "[encoded data removed]",
            "text/plain": [
              "<Figure size 432x288 with 1 Axes>"
            ]
          },
          "metadata": {
            "tags": [],
            "needs_background": "light"
          }
        }
      ]
    },
    {
      "cell_type": "code",
      "metadata": {
        "colab": {
          "base_uri": "https://localhost:8080/"
        },
        "id": "Jc57VgffhSA3",
        "outputId": "be8105ef-d4b7-44d3-a6f7-2046a83fc473"
      },
      "source": [
        "clear_session()\r\n",
        "set_seed(51)\r\n",
        "np.random.seed(51)\r\n",
        "train_set = windowed_dataset(\r\n",
        "    x_train, window_size, batch_size=batch_size, shuffle_buffer=shuffle_buffer_size\r\n",
        ")\r\n",
        "model = create_model()\r\n",
        "optimizer = SGD(lr=1e-6, momentum=0.9)\r\n",
        "model.compile(loss=Huber(), optimizer=\"adam\", metrics=[\"mae\"])\r\n",
        "history = model.fit(train_set, epochs=100, callbacks=[lr_schedule])"
      ],
      "execution_count": 20,
      "outputs": [
        {
          "output_type": "stream",
          "text": [
            "Epoch 1/100\n",
            "31/31 [==============================] - 5s 11ms/step - loss: 20.9568 - mae: 21.4546\n",
            "Epoch 2/100\n",
            "31/31 [==============================] - 0s 11ms/step - loss: 20.1564 - mae: 20.6551\n",
            "Epoch 3/100\n",
            "31/31 [==============================] - 0s 11ms/step - loss: 19.7972 - mae: 20.2953\n",
            "Epoch 4/100\n",
            "31/31 [==============================] - 0s 11ms/step - loss: 20.5847 - mae: 21.0828\n",
            "Epoch 5/100\n",
            "31/31 [==============================] - 0s 11ms/step - loss: 20.7784 - mae: 21.2768\n",
            "Epoch 6/100\n",
            "31/31 [==============================] - 0s 11ms/step - loss: 20.6134 - mae: 21.1095\n",
            "Epoch 7/100\n",
            "31/31 [==============================] - 0s 11ms/step - loss: 20.2178 - mae: 20.7154\n",
            "Epoch 8/100\n",
            "31/31 [==============================] - 0s 11ms/step - loss: 19.8774 - mae: 20.3734\n",
            "Epoch 9/100\n",
            "31/31 [==============================] - 0s 11ms/step - loss: 20.3247 - mae: 20.8221\n",
            "Epoch 10/100\n",
            "31/31 [==============================] - 0s 11ms/step - loss: 20.2040 - mae: 20.7026\n",
            "Epoch 11/100\n",
            "31/31 [==============================] - 0s 11ms/step - loss: 20.0569 - mae: 20.5533\n",
            "Epoch 12/100\n",
            "31/31 [==============================] - 0s 11ms/step - loss: 20.0506 - mae: 20.5474\n",
            "Epoch 13/100\n",
            "31/31 [==============================] - 0s 11ms/step - loss: 20.1187 - mae: 20.6160\n",
            "Epoch 14/100\n",
            "31/31 [==============================] - 0s 11ms/step - loss: 20.6226 - mae: 21.1206\n",
            "Epoch 15/100\n",
            "31/31 [==============================] - 0s 11ms/step - loss: 21.2929 - mae: 21.7900\n",
            "Epoch 16/100\n",
            "31/31 [==============================] - 0s 11ms/step - loss: 20.4749 - mae: 20.9703\n",
            "Epoch 17/100\n",
            "31/31 [==============================] - 0s 11ms/step - loss: 19.9518 - mae: 20.4487\n",
            "Epoch 18/100\n",
            "31/31 [==============================] - 0s 11ms/step - loss: 20.0924 - mae: 20.5869\n",
            "Epoch 19/100\n",
            "31/31 [==============================] - 0s 11ms/step - loss: 20.1769 - mae: 20.6729\n",
            "Epoch 20/100\n",
            "31/31 [==============================] - 0s 11ms/step - loss: 20.1403 - mae: 20.6359\n",
            "Epoch 21/100\n",
            "31/31 [==============================] - 0s 11ms/step - loss: 19.8026 - mae: 20.2996\n",
            "Epoch 22/100\n",
            "31/31 [==============================] - 0s 11ms/step - loss: 19.6026 - mae: 20.0998\n",
            "Epoch 23/100\n",
            "31/31 [==============================] - 0s 11ms/step - loss: 19.0194 - mae: 19.5162\n",
            "Epoch 24/100\n",
            "31/31 [==============================] - 0s 11ms/step - loss: 19.4413 - mae: 19.9391\n",
            "Epoch 25/100\n",
            "31/31 [==============================] - 0s 11ms/step - loss: 20.5345 - mae: 21.0319\n",
            "Epoch 26/100\n",
            "31/31 [==============================] - 0s 11ms/step - loss: 18.9768 - mae: 19.4742\n",
            "Epoch 27/100\n",
            "31/31 [==============================] - 0s 10ms/step - loss: 19.3058 - mae: 19.8029\n",
            "Epoch 28/100\n",
            "31/31 [==============================] - 0s 11ms/step - loss: 19.1807 - mae: 19.6788\n",
            "Epoch 29/100\n",
            "31/31 [==============================] - 0s 11ms/step - loss: 18.8975 - mae: 19.3944\n",
            "Epoch 30/100\n",
            "31/31 [==============================] - 0s 11ms/step - loss: 20.3454 - mae: 20.8440\n",
            "Epoch 31/100\n",
            "31/31 [==============================] - 0s 11ms/step - loss: 18.3095 - mae: 18.8065\n",
            "Epoch 32/100\n",
            "31/31 [==============================] - 0s 11ms/step - loss: 18.3528 - mae: 18.8509\n",
            "Epoch 33/100\n",
            "31/31 [==============================] - 0s 11ms/step - loss: 18.7308 - mae: 19.2275\n",
            "Epoch 34/100\n",
            "31/31 [==============================] - 0s 11ms/step - loss: 17.9530 - mae: 18.4448\n",
            "Epoch 35/100\n",
            "31/31 [==============================] - 0s 11ms/step - loss: 18.0489 - mae: 18.5450\n",
            "Epoch 36/100\n",
            "31/31 [==============================] - 0s 11ms/step - loss: 17.7665 - mae: 18.2629\n",
            "Epoch 37/100\n",
            "31/31 [==============================] - 0s 11ms/step - loss: 17.5670 - mae: 18.0630\n",
            "Epoch 38/100\n",
            "31/31 [==============================] - 0s 11ms/step - loss: 17.4753 - mae: 17.9711\n",
            "Epoch 39/100\n",
            "31/31 [==============================] - 0s 10ms/step - loss: 16.9645 - mae: 17.4586\n",
            "Epoch 40/100\n",
            "31/31 [==============================] - 0s 11ms/step - loss: 16.5126 - mae: 17.0071\n",
            "Epoch 41/100\n",
            "31/31 [==============================] - 0s 11ms/step - loss: 16.7353 - mae: 17.2300\n",
            "Epoch 42/100\n",
            "31/31 [==============================] - 0s 11ms/step - loss: 16.1352 - mae: 16.6298\n",
            "Epoch 43/100\n",
            "31/31 [==============================] - 0s 11ms/step - loss: 15.8017 - mae: 16.2966\n",
            "Epoch 44/100\n",
            "31/31 [==============================] - 0s 11ms/step - loss: 15.4266 - mae: 15.9241\n",
            "Epoch 45/100\n",
            "31/31 [==============================] - 0s 11ms/step - loss: 15.2035 - mae: 15.6987\n",
            "Epoch 46/100\n",
            "31/31 [==============================] - 0s 11ms/step - loss: 14.8911 - mae: 15.3834\n",
            "Epoch 47/100\n",
            "31/31 [==============================] - 0s 10ms/step - loss: 14.7565 - mae: 15.2497\n",
            "Epoch 48/100\n",
            "31/31 [==============================] - 0s 11ms/step - loss: 14.0700 - mae: 14.5594\n",
            "Epoch 49/100\n",
            "31/31 [==============================] - 0s 11ms/step - loss: 13.1609 - mae: 13.6499\n",
            "Epoch 50/100\n",
            "31/31 [==============================] - 0s 11ms/step - loss: 12.9921 - mae: 13.4831\n",
            "Epoch 51/100\n",
            "31/31 [==============================] - 0s 11ms/step - loss: 12.5392 - mae: 13.0298\n",
            "Epoch 52/100\n",
            "31/31 [==============================] - 0s 11ms/step - loss: 11.6485 - mae: 12.1368\n",
            "Epoch 53/100\n",
            "31/31 [==============================] - 0s 11ms/step - loss: 11.3491 - mae: 11.8407\n",
            "Epoch 54/100\n",
            "31/31 [==============================] - 0s 11ms/step - loss: 10.5714 - mae: 11.0605\n",
            "Epoch 55/100\n",
            "31/31 [==============================] - 0s 11ms/step - loss: 10.0096 - mae: 10.4931\n",
            "Epoch 56/100\n",
            "31/31 [==============================] - 0s 11ms/step - loss: 8.7347 - mae: 9.2171\n",
            "Epoch 57/100\n",
            "31/31 [==============================] - 0s 10ms/step - loss: 8.9067 - mae: 9.3904\n",
            "Epoch 58/100\n",
            "31/31 [==============================] - 0s 11ms/step - loss: 8.8384 - mae: 9.3265\n",
            "Epoch 59/100\n",
            "31/31 [==============================] - 0s 11ms/step - loss: 8.4290 - mae: 8.9138\n",
            "Epoch 60/100\n",
            "31/31 [==============================] - 0s 11ms/step - loss: 8.0316 - mae: 8.5139\n",
            "Epoch 61/100\n",
            "31/31 [==============================] - 0s 11ms/step - loss: 7.8129 - mae: 8.2947\n",
            "Epoch 62/100\n",
            "31/31 [==============================] - 0s 11ms/step - loss: 7.5934 - mae: 8.0782\n",
            "Epoch 63/100\n",
            "31/31 [==============================] - 0s 11ms/step - loss: 7.1069 - mae: 7.5923\n",
            "Epoch 64/100\n",
            "31/31 [==============================] - 0s 11ms/step - loss: 7.1474 - mae: 7.6307\n",
            "Epoch 65/100\n",
            "31/31 [==============================] - 0s 11ms/step - loss: 6.6203 - mae: 7.1071\n",
            "Epoch 66/100\n",
            "31/31 [==============================] - 0s 11ms/step - loss: 6.5503 - mae: 7.0301\n",
            "Epoch 67/100\n",
            "31/31 [==============================] - 0s 11ms/step - loss: 6.4674 - mae: 6.9399\n",
            "Epoch 68/100\n",
            "31/31 [==============================] - 0s 10ms/step - loss: 5.8815 - mae: 6.3565\n",
            "Epoch 69/100\n",
            "31/31 [==============================] - 0s 11ms/step - loss: 5.9453 - mae: 6.4241\n",
            "Epoch 70/100\n",
            "31/31 [==============================] - 0s 11ms/step - loss: 5.6295 - mae: 6.1050\n",
            "Epoch 71/100\n",
            "31/31 [==============================] - 0s 11ms/step - loss: 5.4272 - mae: 5.9027\n",
            "Epoch 72/100\n",
            "31/31 [==============================] - 0s 11ms/step - loss: 5.7905 - mae: 6.2698\n",
            "Epoch 73/100\n",
            "31/31 [==============================] - 0s 11ms/step - loss: 5.3663 - mae: 5.8469\n",
            "Epoch 74/100\n",
            "31/31 [==============================] - 0s 12ms/step - loss: 5.2615 - mae: 5.7331\n",
            "Epoch 75/100\n",
            "31/31 [==============================] - 0s 11ms/step - loss: 5.2470 - mae: 5.7220\n",
            "Epoch 76/100\n",
            "31/31 [==============================] - 0s 11ms/step - loss: 5.3808 - mae: 5.8622\n",
            "Epoch 77/100\n",
            "31/31 [==============================] - 0s 11ms/step - loss: 5.0735 - mae: 5.5516\n",
            "Epoch 78/100\n",
            "31/31 [==============================] - 0s 11ms/step - loss: 4.9531 - mae: 5.4349\n",
            "Epoch 79/100\n",
            "31/31 [==============================] - 0s 11ms/step - loss: 5.1099 - mae: 5.5862\n",
            "Epoch 80/100\n",
            "31/31 [==============================] - 0s 11ms/step - loss: 4.7631 - mae: 5.2412\n",
            "Epoch 81/100\n",
            "31/31 [==============================] - 0s 11ms/step - loss: 5.1819 - mae: 5.6646\n",
            "Epoch 82/100\n",
            "31/31 [==============================] - 0s 11ms/step - loss: 5.1062 - mae: 5.5860\n",
            "Epoch 83/100\n",
            "31/31 [==============================] - 0s 11ms/step - loss: 4.3677 - mae: 4.8419\n",
            "Epoch 84/100\n",
            "31/31 [==============================] - 0s 11ms/step - loss: 4.5007 - mae: 4.9820\n",
            "Epoch 85/100\n",
            "31/31 [==============================] - 0s 11ms/step - loss: 4.6476 - mae: 5.1270\n",
            "Epoch 86/100\n",
            "31/31 [==============================] - 0s 12ms/step - loss: 4.6744 - mae: 5.1487\n",
            "Epoch 87/100\n",
            "31/31 [==============================] - 0s 11ms/step - loss: 4.7648 - mae: 5.2417\n",
            "Epoch 88/100\n",
            "31/31 [==============================] - 0s 11ms/step - loss: 4.6463 - mae: 5.1259\n",
            "Epoch 89/100\n",
            "31/31 [==============================] - 0s 11ms/step - loss: 5.2338 - mae: 5.7177\n",
            "Epoch 90/100\n",
            "31/31 [==============================] - 0s 11ms/step - loss: 5.3138 - mae: 5.7913\n",
            "Epoch 91/100\n",
            "31/31 [==============================] - 0s 11ms/step - loss: 4.6407 - mae: 5.1165\n",
            "Epoch 92/100\n",
            "31/31 [==============================] - 0s 11ms/step - loss: 5.0289 - mae: 5.5088\n",
            "Epoch 93/100\n",
            "31/31 [==============================] - 0s 11ms/step - loss: 7.3596 - mae: 7.8456\n",
            "Epoch 94/100\n",
            "31/31 [==============================] - 0s 11ms/step - loss: 4.7413 - mae: 5.2200\n",
            "Epoch 95/100\n",
            "31/31 [==============================] - 0s 11ms/step - loss: 5.0622 - mae: 5.5467\n",
            "Epoch 96/100\n",
            "31/31 [==============================] - 0s 11ms/step - loss: 5.0530 - mae: 5.5369\n",
            "Epoch 97/100\n",
            "31/31 [==============================] - 0s 11ms/step - loss: 4.7062 - mae: 5.1835\n",
            "Epoch 98/100\n",
            "31/31 [==============================] - 0s 11ms/step - loss: 5.5066 - mae: 5.9849\n",
            "Epoch 99/100\n",
            "31/31 [==============================] - 0s 11ms/step - loss: 5.3491 - mae: 5.8284\n",
            "Epoch 100/100\n",
            "31/31 [==============================] - 0s 11ms/step - loss: 5.0930 - mae: 5.5689\n"
          ],
          "name": "stdout"
        }
      ]
    },
    {
      "cell_type": "code",
      "metadata": {
        "colab": {
          "base_uri": "https://localhost:8080/",
          "height": 388
        },
        "id": "PhqukJpHp4oh",
        "outputId": "b116c9be-787f-4fce-a3cd-3b9b51d3db6a"
      },
      "source": [
        "forecast = []\r\n",
        "for time in range(len(series) - window_size):\r\n",
        "    pred = model.predict(series[time:time+window_size][np.newaxis])\r\n",
        "    forecast.append(pred)\r\n",
        "\r\n",
        "forecast = forecast[split_time-window_size:]\r\n",
        "results = np.array(forecast)[:,0,0]\r\n",
        "\r\n",
        "\r\n",
        "plt.figure(figsize=(10, 6))\r\n",
        "\r\n",
        "plot_series(time_valid, x_valid)\r\n",
        "plot_series(time_valid, results)\r\n"
      ],
      "execution_count": 21,
      "outputs": [
        {
          "output_type": "display_data",
          "data": {
            "image/png": "[encoded data removed]",
            "text/plain": [
              "<Figure size 720x432 with 1 Axes>"
            ]
          },
          "metadata": {
            "tags": [],
            "needs_background": "light"
          }
        }
      ]
    },
    {
      "cell_type": "code",
      "metadata": {
        "colab": {
          "base_uri": "https://localhost:8080/",
          "height": 1000
        },
        "id": "hCFpzBOgtD6N",
        "outputId": "6bad2591-31b3-498c-8ad8-23ff5d652497"
      },
      "source": [
        "clear_session()\r\n",
        "set_seed(51)\r\n",
        "np.random.seed(51)\r\n",
        "train_set = windowed_dataset(\r\n",
        "    x_train, window_size, batch_size=batch_size, shuffle_buffer=shuffle_buffer_size\r\n",
        ")\r\n",
        "model = create_model()\r\n",
        "optimizer = SGD(lr=1e-6, momentum=0.9)\r\n",
        "model.compile(loss=\"mae\", optimizer=\"adam\", metrics=[\"mae\"])\r\n",
        "history = model.fit(train_set, epochs=100, callbacks=[lr_schedule])\r\n",
        "\r\n",
        "forecast = []\r\n",
        "for time in range(len(series) - window_size):\r\n",
        "    pred = model.predict(series[time:time+window_size][np.newaxis])\r\n",
        "    forecast.append(pred)\r\n",
        "\r\n",
        "forecast = forecast[split_time-window_size:]\r\n",
        "results = np.array(forecast)[:,0,0]\r\n",
        "\r\n",
        "\r\n",
        "plt.figure(figsize=(10, 6))\r\n",
        "\r\n",
        "plot_series(time_valid, x_valid)\r\n",
        "plot_series(time_valid, results)"
      ],
      "execution_count": 24,
      "outputs": [
        {
          "output_type": "stream",
          "text": [
            "Epoch 1/100\n",
            "31/31 [==============================] - 5s 10ms/step - loss: 21.4546 - mae: 21.4546\n",
            "Epoch 2/100\n",
            "31/31 [==============================] - 0s 10ms/step - loss: 20.6550 - mae: 20.6550\n",
            "Epoch 3/100\n",
            "31/31 [==============================] - 0s 10ms/step - loss: 20.2953 - mae: 20.2953\n",
            "Epoch 4/100\n",
            "31/31 [==============================] - 0s 10ms/step - loss: 21.0828 - mae: 21.0828\n",
            "Epoch 5/100\n",
            "31/31 [==============================] - 0s 10ms/step - loss: 21.2768 - mae: 21.2768\n",
            "Epoch 6/100\n",
            "31/31 [==============================] - 0s 10ms/step - loss: 21.1094 - mae: 21.1094\n",
            "Epoch 7/100\n",
            "31/31 [==============================] - 0s 11ms/step - loss: 20.7153 - mae: 20.7153\n",
            "Epoch 8/100\n",
            "31/31 [==============================] - 0s 10ms/step - loss: 20.3733 - mae: 20.3733\n",
            "Epoch 9/100\n",
            "31/31 [==============================] - 0s 10ms/step - loss: 20.8221 - mae: 20.8221\n",
            "Epoch 10/100\n",
            "31/31 [==============================] - 0s 10ms/step - loss: 20.7026 - mae: 20.7026\n",
            "Epoch 11/100\n",
            "31/31 [==============================] - 0s 10ms/step - loss: 20.5532 - mae: 20.5532\n",
            "Epoch 12/100\n",
            "31/31 [==============================] - 0s 10ms/step - loss: 20.5473 - mae: 20.5473\n",
            "Epoch 13/100\n",
            "31/31 [==============================] - 0s 10ms/step - loss: 20.6158 - mae: 20.6158\n",
            "Epoch 14/100\n",
            "31/31 [==============================] - 0s 11ms/step - loss: 21.1206 - mae: 21.1206\n",
            "Epoch 15/100\n",
            "31/31 [==============================] - 0s 10ms/step - loss: 21.7901 - mae: 21.7901\n",
            "Epoch 16/100\n",
            "31/31 [==============================] - 0s 10ms/step - loss: 20.9704 - mae: 20.9704\n",
            "Epoch 17/100\n",
            "31/31 [==============================] - 0s 10ms/step - loss: 20.4489 - mae: 20.4489\n",
            "Epoch 18/100\n",
            "31/31 [==============================] - 0s 10ms/step - loss: 20.5873 - mae: 20.5873\n",
            "Epoch 19/100\n",
            "31/31 [==============================] - 0s 10ms/step - loss: 20.6734 - mae: 20.6734\n",
            "Epoch 20/100\n",
            "31/31 [==============================] - 0s 10ms/step - loss: 20.6367 - mae: 20.6367\n",
            "Epoch 21/100\n",
            "31/31 [==============================] - 0s 10ms/step - loss: 20.3007 - mae: 20.3007\n",
            "Epoch 22/100\n",
            "31/31 [==============================] - 0s 11ms/step - loss: 20.1014 - mae: 20.1014\n",
            "Epoch 23/100\n",
            "31/31 [==============================] - 0s 10ms/step - loss: 19.5182 - mae: 19.5182\n",
            "Epoch 24/100\n",
            "31/31 [==============================] - 0s 10ms/step - loss: 19.9412 - mae: 19.9412\n",
            "Epoch 25/100\n",
            "31/31 [==============================] - 0s 11ms/step - loss: 21.0342 - mae: 21.0342\n",
            "Epoch 26/100\n",
            "31/31 [==============================] - 0s 10ms/step - loss: 19.4760 - mae: 19.4760\n",
            "Epoch 27/100\n",
            "31/31 [==============================] - 0s 12ms/step - loss: 19.8050 - mae: 19.8050\n",
            "Epoch 28/100\n",
            "31/31 [==============================] - 0s 11ms/step - loss: 19.6818 - mae: 19.6818\n",
            "Epoch 29/100\n",
            "31/31 [==============================] - 0s 10ms/step - loss: 19.3977 - mae: 19.3977\n",
            "Epoch 30/100\n",
            "31/31 [==============================] - 0s 10ms/step - loss: 20.8487 - mae: 20.8487\n",
            "Epoch 31/100\n",
            "31/31 [==============================] - 0s 10ms/step - loss: 18.8112 - mae: 18.8112\n",
            "Epoch 32/100\n",
            "31/31 [==============================] - 0s 10ms/step - loss: 18.8561 - mae: 18.8561\n",
            "Epoch 33/100\n",
            "31/31 [==============================] - 0s 11ms/step - loss: 19.2325 - mae: 19.2325\n",
            "Epoch 34/100\n",
            "31/31 [==============================] - 0s 10ms/step - loss: 18.4479 - mae: 18.4479\n",
            "Epoch 35/100\n",
            "31/31 [==============================] - 0s 10ms/step - loss: 18.5505 - mae: 18.5505\n",
            "Epoch 36/100\n",
            "31/31 [==============================] - 0s 10ms/step - loss: 18.2680 - mae: 18.2680\n",
            "Epoch 37/100\n",
            "31/31 [==============================] - 0s 10ms/step - loss: 18.0699 - mae: 18.0699\n",
            "Epoch 38/100\n",
            "31/31 [==============================] - 0s 10ms/step - loss: 17.9793 - mae: 17.9793\n",
            "Epoch 39/100\n",
            "31/31 [==============================] - 0s 10ms/step - loss: 17.4631 - mae: 17.4631\n",
            "Epoch 40/100\n",
            "31/31 [==============================] - 0s 10ms/step - loss: 17.0097 - mae: 17.0097\n",
            "Epoch 41/100\n",
            "31/31 [==============================] - 0s 10ms/step - loss: 17.2324 - mae: 17.2324\n",
            "Epoch 42/100\n",
            "31/31 [==============================] - 0s 10ms/step - loss: 16.6346 - mae: 16.6346\n",
            "Epoch 43/100\n",
            "31/31 [==============================] - 0s 10ms/step - loss: 16.3027 - mae: 16.3027\n",
            "Epoch 44/100\n",
            "31/31 [==============================] - 0s 10ms/step - loss: 15.9309 - mae: 15.9309\n",
            "Epoch 45/100\n",
            "31/31 [==============================] - 0s 10ms/step - loss: 15.7054 - mae: 15.7054\n",
            "Epoch 46/100\n",
            "31/31 [==============================] - 0s 11ms/step - loss: 15.3897 - mae: 15.3897\n",
            "Epoch 47/100\n",
            "31/31 [==============================] - 0s 10ms/step - loss: 15.2541 - mae: 15.2541\n",
            "Epoch 48/100\n",
            "31/31 [==============================] - 0s 10ms/step - loss: 14.5650 - mae: 14.5650\n",
            "Epoch 49/100\n",
            "31/31 [==============================] - 0s 10ms/step - loss: 13.6566 - mae: 13.6566\n",
            "Epoch 50/100\n",
            "31/31 [==============================] - 0s 10ms/step - loss: 13.4943 - mae: 13.4943\n",
            "Epoch 51/100\n",
            "31/31 [==============================] - 0s 10ms/step - loss: 13.0433 - mae: 13.0433\n",
            "Epoch 52/100\n",
            "31/31 [==============================] - 0s 10ms/step - loss: 12.1531 - mae: 12.1531\n",
            "Epoch 53/100\n",
            "31/31 [==============================] - 0s 10ms/step - loss: 11.8596 - mae: 11.8596\n",
            "Epoch 54/100\n",
            "31/31 [==============================] - 0s 10ms/step - loss: 11.0820 - mae: 11.0820\n",
            "Epoch 55/100\n",
            "31/31 [==============================] - 0s 10ms/step - loss: 10.5162 - mae: 10.5162\n",
            "Epoch 56/100\n",
            "31/31 [==============================] - 0s 10ms/step - loss: 9.2404 - mae: 9.2404\n",
            "Epoch 57/100\n",
            "31/31 [==============================] - 0s 10ms/step - loss: 9.4108 - mae: 9.4108\n",
            "Epoch 58/100\n",
            "31/31 [==============================] - 0s 11ms/step - loss: 9.3440 - mae: 9.3440\n",
            "Epoch 59/100\n",
            "31/31 [==============================] - 0s 10ms/step - loss: 8.9247 - mae: 8.9247\n",
            "Epoch 60/100\n",
            "31/31 [==============================] - 0s 10ms/step - loss: 8.5258 - mae: 8.5258\n",
            "Epoch 61/100\n",
            "31/31 [==============================] - 0s 10ms/step - loss: 8.2998 - mae: 8.2998\n",
            "Epoch 62/100\n",
            "31/31 [==============================] - 0s 10ms/step - loss: 8.0717 - mae: 8.0717\n",
            "Epoch 63/100\n",
            "31/31 [==============================] - 0s 10ms/step - loss: 7.6135 - mae: 7.6135\n",
            "Epoch 64/100\n",
            "31/31 [==============================] - 0s 10ms/step - loss: 7.6383 - mae: 7.6383\n",
            "Epoch 65/100\n",
            "31/31 [==============================] - 0s 10ms/step - loss: 7.1119 - mae: 7.1119\n",
            "Epoch 66/100\n",
            "31/31 [==============================] - 0s 10ms/step - loss: 7.0295 - mae: 7.0295\n",
            "Epoch 67/100\n",
            "31/31 [==============================] - 0s 10ms/step - loss: 6.9672 - mae: 6.9672\n",
            "Epoch 68/100\n",
            "31/31 [==============================] - 0s 10ms/step - loss: 6.3683 - mae: 6.3683\n",
            "Epoch 69/100\n",
            "31/31 [==============================] - 0s 10ms/step - loss: 6.4357 - mae: 6.4357\n",
            "Epoch 70/100\n",
            "31/31 [==============================] - 0s 10ms/step - loss: 6.1050 - mae: 6.1050\n",
            "Epoch 71/100\n",
            "31/31 [==============================] - 0s 11ms/step - loss: 5.9223 - mae: 5.9223\n",
            "Epoch 72/100\n",
            "31/31 [==============================] - 0s 10ms/step - loss: 6.2881 - mae: 6.2881\n",
            "Epoch 73/100\n",
            "31/31 [==============================] - 0s 10ms/step - loss: 5.8664 - mae: 5.8664\n",
            "Epoch 74/100\n",
            "31/31 [==============================] - 0s 10ms/step - loss: 5.7739 - mae: 5.7739\n",
            "Epoch 75/100\n",
            "31/31 [==============================] - 0s 10ms/step - loss: 5.7528 - mae: 5.7528\n",
            "Epoch 76/100\n",
            "31/31 [==============================] - 0s 10ms/step - loss: 6.0361 - mae: 6.0361\n",
            "Epoch 77/100\n",
            "31/31 [==============================] - 0s 10ms/step - loss: 5.5526 - mae: 5.5526\n",
            "Epoch 78/100\n",
            "31/31 [==============================] - 0s 11ms/step - loss: 5.4656 - mae: 5.4656\n",
            "Epoch 79/100\n",
            "31/31 [==============================] - 0s 10ms/step - loss: 5.6584 - mae: 5.6584\n",
            "Epoch 80/100\n",
            "31/31 [==============================] - 0s 10ms/step - loss: 5.3085 - mae: 5.3085\n",
            "Epoch 81/100\n",
            "31/31 [==============================] - 0s 10ms/step - loss: 5.6240 - mae: 5.6240\n",
            "Epoch 82/100\n",
            "31/31 [==============================] - 0s 11ms/step - loss: 5.6038 - mae: 5.6038\n",
            "Epoch 83/100\n",
            "31/31 [==============================] - 0s 10ms/step - loss: 4.8454 - mae: 4.8454\n",
            "Epoch 84/100\n",
            "31/31 [==============================] - 0s 11ms/step - loss: 4.9360 - mae: 4.9360\n",
            "Epoch 85/100\n",
            "31/31 [==============================] - 0s 10ms/step - loss: 5.0510 - mae: 5.0510\n",
            "Epoch 86/100\n",
            "31/31 [==============================] - 0s 10ms/step - loss: 5.1583 - mae: 5.1583\n",
            "Epoch 87/100\n",
            "31/31 [==============================] - 0s 10ms/step - loss: 5.3016 - mae: 5.3016\n",
            "Epoch 88/100\n",
            "31/31 [==============================] - 0s 10ms/step - loss: 5.2222 - mae: 5.2222\n",
            "Epoch 89/100\n",
            "31/31 [==============================] - 0s 11ms/step - loss: 5.7951 - mae: 5.7951\n",
            "Epoch 90/100\n",
            "31/31 [==============================] - 0s 10ms/step - loss: 5.4539 - mae: 5.4539\n",
            "Epoch 91/100\n",
            "31/31 [==============================] - 0s 10ms/step - loss: 5.1483 - mae: 5.1483\n",
            "Epoch 92/100\n",
            "31/31 [==============================] - 0s 10ms/step - loss: 6.0409 - mae: 6.0409\n",
            "Epoch 93/100\n",
            "31/31 [==============================] - 0s 10ms/step - loss: 5.2608 - mae: 5.2608\n",
            "Epoch 94/100\n",
            "31/31 [==============================] - 0s 10ms/step - loss: 6.9949 - mae: 6.9949\n",
            "Epoch 95/100\n",
            "31/31 [==============================] - 0s 10ms/step - loss: 5.5527 - mae: 5.5527\n",
            "Epoch 96/100\n",
            "31/31 [==============================] - 0s 11ms/step - loss: 5.3984 - mae: 5.3984\n",
            "Epoch 97/100\n",
            "31/31 [==============================] - 0s 10ms/step - loss: 5.3750 - mae: 5.3750\n",
            "Epoch 98/100\n",
            "31/31 [==============================] - 0s 10ms/step - loss: 6.7915 - mae: 6.7915\n",
            "Epoch 99/100\n",
            "31/31 [==============================] - 0s 10ms/step - loss: 5.7140 - mae: 5.7140\n",
            "Epoch 100/100\n",
            "31/31 [==============================] - 0s 10ms/step - loss: 5.4183 - mae: 5.4183\n"
          ],
          "name": "stdout"
        },
        {
          "output_type": "display_data",
          "data": {
            "image/png": "[encoded data removed]",
            "text/plain": [
              "<Figure size 720x432 with 1 Axes>"
            ]
          },
          "metadata": {
            "tags": [],
            "needs_background": "light"
          }
        }
      ]
    },
    {
      "cell_type": "code",
      "metadata": {
        "colab": {
          "base_uri": "https://localhost:8080/"
        },
        "id": "yZDPkNKlp4l1",
        "outputId": "4a6cfe43-37bf-4f17-8719-45d98a511a2f"
      },
      "source": [
        "mean_absolute_error(x_valid, results).numpy()"
      ],
      "execution_count": 25,
      "outputs": [
        {
          "output_type": "execute_result",
          "data": {
            "text/plain": [
              "6.057719"
            ]
          },
          "metadata": {
            "tags": []
          },
          "execution_count": 25
        }
      ]
    },
    {
      "cell_type": "code",
      "metadata": {
        "colab": {
          "base_uri": "https://localhost:8080/",
          "height": 606
        },
        "id": "pKUXGSrip4jG",
        "outputId": "d11b0db5-832b-431e-8364-990fc75751f6"
      },
      "source": [
        "import matplotlib.image  as mpimg\r\n",
        "import matplotlib.pyplot as plt\r\n",
        "\r\n",
        "#-----------------------------------------------------------\r\n",
        "# Retrieve a list of list results on training and test data\r\n",
        "# sets for each training epoch\r\n",
        "#-----------------------------------------------------------\r\n",
        "mae=history.history['mae']\r\n",
        "loss=history.history['loss']\r\n",
        "\r\n",
        "epochs=range(len(loss)) # Get number of epochs\r\n",
        "\r\n",
        "#------------------------------------------------\r\n",
        "# Plot MAE and Loss\r\n",
        "#------------------------------------------------\r\n",
        "plt.plot(epochs, mae, 'r')\r\n",
        "plt.plot(epochs, loss, 'b')\r\n",
        "plt.title('MAE and Loss')\r\n",
        "plt.xlabel(\"Epochs\")\r\n",
        "plt.ylabel(\"Accuracy\")\r\n",
        "plt.legend([\"MAE\", \"Loss\"])\r\n",
        "\r\n",
        "plt.figure()\r\n",
        "\r\n",
        "epochs_zoom = epochs[200:]\r\n",
        "mae_zoom = mae[200:]\r\n",
        "loss_zoom = loss[200:]\r\n",
        "\r\n",
        "#------------------------------------------------\r\n",
        "# Plot Zoomed MAE and Loss\r\n",
        "#------------------------------------------------\r\n",
        "plt.plot(epochs_zoom, mae_zoom, 'r')\r\n",
        "plt.plot(epochs_zoom, loss_zoom, 'b')\r\n",
        "plt.title('MAE and Loss')\r\n",
        "plt.xlabel(\"Epochs\")\r\n",
        "plt.ylabel(\"Accuracy\")\r\n",
        "plt.legend([\"MAE\", \"Loss\"])\r\n",
        "\r\n",
        "plt.figure()"
      ],
      "execution_count": 27,
      "outputs": [
        {
          "output_type": "execute_result",
          "data": {
            "text/plain": [
              "<Figure size 432x288 with 0 Axes>"
            ]
          },
          "metadata": {
            "tags": []
          },
          "execution_count": 27
        },
        {
          "output_type": "display_data",
          "data": {
            "image/png": "[encoded data removed]",
            "text/plain": [
              "<Figure size 432x288 with 1 Axes>"
            ]
          },
          "metadata": {
            "tags": [],
            "needs_background": "light"
          }
        },
        {
          "output_type": "display_data",
          "data": {
            "image/png": "[encoded data removed]",
            "text/plain": [
              "<Figure size 432x288 with 1 Axes>"
            ]
          },
          "metadata": {
            "tags": [],
            "needs_background": "light"
          }
        },
        {
          "output_type": "display_data",
          "data": {
            "text/plain": [
              "<Figure size 432x288 with 0 Axes>"
            ]
          },
          "metadata": {
            "tags": []
          }
        }
      ]
    },
    {
      "cell_type": "code",
      "metadata": {
        "id": "00Oggb9Ap4f-"
      },
      "source": [
        ""
      ],
      "execution_count": 16,
      "outputs": []
    },
    {
      "cell_type": "code",
      "metadata": {
        "id": "zJwwqq1Zp4dB"
      },
      "source": [
        ""
      ],
      "execution_count": 16,
      "outputs": []
    }
  ]
}