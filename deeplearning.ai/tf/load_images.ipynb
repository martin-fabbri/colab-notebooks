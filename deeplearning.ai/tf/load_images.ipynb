{
  "nbformat": 4,
  "nbformat_minor": 0,
  "metadata": {
    "colab": {
      "name": "load_images.ipynb",
      "provenance": [],
      "authorship_tag": "ABX9TyPGWVj042T9YvFhnIJ8AeHl",
      "include_colab_link": true
    },
    "kernelspec": {
      "name": "python3",
      "display_name": "Python 3"
    },
    "accelerator": "GPU"
  },
  "cells": [
    {
      "cell_type": "markdown",
      "metadata": {
        "id": "view-in-github",
        "colab_type": "text"
      },
      "source": [
        "<a href=\"https://colab.research.google.com/github/martin-fabbri/colab-notebooks/blob/master/deeplearning.ai/tf/load_images.ipynb\" target=\"_parent\"><img src=\"https://colab.research.google.com/assets/colab-badge.svg\" alt=\"Open In Colab\"/></a>"
      ]
    },
    {
      "cell_type": "markdown",
      "metadata": {
        "id": "FkK82sAMdKSp"
      },
      "source": [
        "# Load Images\n",
        "\n",
        "We will explore loading and preprocessing an image dataset using three different methods.\n",
        "\n",
        "1. High-level Keras preprocessing utilities and layers.\n",
        "2. Creating input pipelines using tf.data.\n",
        "3. Using dataset from the tf repository."
      ]
    },
    {
      "cell_type": "code",
      "metadata": {
        "id": "lKkT5u02c-W4"
      },
      "source": [
        ""
      ],
      "execution_count": null,
      "outputs": []
    }
  ]
}