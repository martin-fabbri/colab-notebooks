{
  "nbformat": 4,
  "nbformat_minor": 0,
  "metadata": {
    "colab": {
      "name": "cats-vs-dogs-image-augmentation.ipynb",
      "provenance": [],
      "collapsed_sections": [],
      "authorship_tag": "ABX9TyNwS+Fqut/fWJBaulWPwvsZ",
      "include_colab_link": true
    },
    "kernelspec": {
      "name": "python3",
      "display_name": "Python 3"
    },
    "accelerator": "GPU"
  },
  "cells": [
    {
      "cell_type": "markdown",
      "metadata": {
        "id": "view-in-github",
        "colab_type": "text"
      },
      "source": [
        "<a href=\"https://colab.research.google.com/github/martin-fabbri/colab-notebooks/blob/master/deeplearning.ai/tf/cats_vs_dogs_image_augmentation.ipynb\" target=\"_parent\"><img src=\"https://colab.research.google.com/assets/colab-badge.svg\" alt=\"Open In Colab\"/></a>"
      ]
    },
    {
      "cell_type": "markdown",
      "metadata": {
        "id": "FaQxzUWO8yR-"
      },
      "source": [
        "# Cats vs Dogs Image Augmentation"
      ]
    },
    {
      "cell_type": "code",
      "metadata": {
        "id": "lCmBeHlI8mPM",
        "outputId": "42bae652-2e98-4cea-fac9-020e41b70f88",
        "colab": {
          "base_uri": "https://localhost:8080/"
        }
      },
      "source": [
        "!wget --no-check-certificate \\\n",
        "    https://storage.googleapis.com/mledu-datasets/cats_and_dogs_filtered.zip"
      ],
      "execution_count": 2,
      "outputs": [
        {
          "output_type": "stream",
          "text": [
            "--2020-10-31 04:41:41--  https://storage.googleapis.com/mledu-datasets/cats_and_dogs_filtered.zip\n",
            "Resolving storage.googleapis.com (storage.googleapis.com)... 74.125.195.128, 74.125.142.128, 74.125.199.128, ...\n",
            "Connecting to storage.googleapis.com (storage.googleapis.com)|74.125.195.128|:443... connected.\n",
            "HTTP request sent, awaiting response... 200 OK\n",
            "Length: 68606236 (65M) [application/zip]\n",
            "Saving to: ‘cats_and_dogs_filtered.zip’\n",
            "\n",
            "cats_and_dogs_filte 100%[===================>]  65.43M   132MB/s    in 0.5s    \n",
            "\n",
            "2020-10-31 04:41:42 (132 MB/s) - ‘cats_and_dogs_filtered.zip’ saved [68606236/68606236]\n",
            "\n"
          ],
          "name": "stdout"
        }
      ]
    },
    {
      "cell_type": "code",
      "metadata": {
        "id": "YF3YLTX59DLk"
      },
      "source": [
        "import os\n",
        "import zipfile\n",
        "import tensorflow as tf\n",
        "from tensorflow.keras.optimizers import RMSprop\n",
        "from tensorflow.keras.preprocessing.image import ImageDataGenerator"
      ],
      "execution_count": 3,
      "outputs": []
    },
    {
      "cell_type": "code",
      "metadata": {
        "id": "EQ-c9NVW9DIU"
      },
      "source": [
        "local_zip = 'cats_and_dogs_filtered.zip'"
      ],
      "execution_count": 5,
      "outputs": []
    },
    {
      "cell_type": "code",
      "metadata": {
        "id": "FXtz8BT99DFj"
      },
      "source": [
        "zip_ref = zipfile.ZipFile(local_zip, 'r')\n",
        "zip_ref = zipfile.ZipFile(local_zip, 'r')\n",
        "zip_ref.extractall()\n",
        "zip_ref.close()"
      ],
      "execution_count": 7,
      "outputs": []
    },
    {
      "cell_type": "code",
      "metadata": {
        "id": "_iXmi2u09DCa"
      },
      "source": [
        "base_dir = '/content/cats_and_dogs_filtered'\n",
        "train_dir = os.path.join(base_dir, 'train')\n",
        "validation_dir = os.path.join(base_dir, 'validation')\n",
        "# Directory with our training cat pictures\n",
        "train_cats_dir = os.path.join(train_dir, 'cats')\n",
        "\n",
        "# Directory with our training dog pictures\n",
        "train_dogs_dir = os.path.join(train_dir, 'dogs')\n",
        "\n",
        "# Directory with our validation cat pictures\n",
        "validation_cats_dir = os.path.join(validation_dir, 'cats')\n",
        "\n",
        "# Directory with our validation dog pictures\n",
        "validation_dogs_dir = os.path.join(validation_dir, 'dogs')"
      ],
      "execution_count": 17,
      "outputs": []
    },
    {
      "cell_type": "code",
      "metadata": {
        "id": "CiOJpLJX9C_f"
      },
      "source": [
        "model = tf.keras.models.Sequential([\n",
        "  tf.keras.layers.Conv2D(32, (3, 3), activation='relu', input_shape=(150, 150, 3)),\n",
        "  tf.keras.layers.MaxPooling2D(2, 2),\n",
        "  tf.keras.layers.Conv2D(64, (3, 3), activation='relu'),\n",
        "  tf.keras.layers.MaxPooling2D(2, 2),\n",
        "  tf.keras.layers.Conv2D(128, (3, 3), activation='relu'),\n",
        "  tf.keras.layers.MaxPooling2D(2, 2),\n",
        "  tf.keras.layers.Conv2D(128, (3, 3), activation='relu'),\n",
        "  tf.keras.layers.MaxPooling2D(2, 2),\n",
        "  tf.keras.layers.Flatten(),\n",
        "  tf.keras.layers.Dense(512, activation='relu'),\n",
        "  tf.keras.layers.Dense(1, activation='sigmoid')\n",
        "])\n",
        "model.compile(loss='binary_crossentropy',\n",
        "              optimizer=RMSprop(lr=1e-4),\n",
        "              metrics=['accuracy'])"
      ],
      "execution_count": 12,
      "outputs": []
    },
    {
      "cell_type": "code",
      "metadata": {
        "id": "nnApvpWZ9C8t",
        "outputId": "ca64f0bd-c779-47d5-cba9-df49588ba1e2",
        "colab": {
          "base_uri": "https://localhost:8080/"
        }
      },
      "source": [
        "train_datagen = ImageDataGenerator(rescale=1.0/255.0)\n",
        "test_datagen = ImageDataGenerator(rescale=1.0/255.0)\n",
        "\n",
        "train_generator = train_datagen.flow_from_directory(\n",
        "    train_dir,\n",
        "    target_size=(150, 150),\n",
        "    batch_size=20,\n",
        "    class_mode='binary'\n",
        ")\n",
        "\n",
        "validation_generator = test_datagen.flow_from_directory(\n",
        "    validation_dir,\n",
        "    target_size=(150, 150),\n",
        "    batch_size=20,\n",
        "    class_mode='binary'\n",
        ")\n",
        "\n",
        "history = model.fit(\n",
        "    train_generator,\n",
        "    steps_per_epoch=100,\n",
        "    epochs=100,\n",
        "    validation_data=validation_generator,\n",
        "    validation_steps=50,\n",
        "    verbose=2\n",
        ")"
      ],
      "execution_count": 20,
      "outputs": [
        {
          "output_type": "stream",
          "text": [
            "Found 2000 images belonging to 2 classes.\n",
            "Found 1000 images belonging to 2 classes.\n",
            "Epoch 1/100\n",
            "100/100 - 8s - loss: 0.6917 - accuracy: 0.5235 - val_loss: 0.6783 - val_accuracy: 0.5310\n",
            "Epoch 2/100\n",
            "100/100 - 8s - loss: 0.6666 - accuracy: 0.5960 - val_loss: 0.6836 - val_accuracy: 0.5160\n",
            "Epoch 3/100\n",
            "100/100 - 8s - loss: 0.6240 - accuracy: 0.6575 - val_loss: 0.6160 - val_accuracy: 0.6740\n",
            "Epoch 4/100\n",
            "100/100 - 8s - loss: 0.5840 - accuracy: 0.7065 - val_loss: 0.5743 - val_accuracy: 0.7070\n",
            "Epoch 5/100\n",
            "100/100 - 8s - loss: 0.5463 - accuracy: 0.7245 - val_loss: 0.5730 - val_accuracy: 0.7130\n",
            "Epoch 6/100\n",
            "100/100 - 8s - loss: 0.5187 - accuracy: 0.7445 - val_loss: 0.6023 - val_accuracy: 0.6890\n",
            "Epoch 7/100\n",
            "100/100 - 8s - loss: 0.4894 - accuracy: 0.7560 - val_loss: 0.5528 - val_accuracy: 0.7140\n",
            "Epoch 8/100\n",
            "100/100 - 8s - loss: 0.4618 - accuracy: 0.7850 - val_loss: 0.5399 - val_accuracy: 0.7280\n",
            "Epoch 9/100\n",
            "100/100 - 8s - loss: 0.4389 - accuracy: 0.7935 - val_loss: 0.5587 - val_accuracy: 0.7210\n",
            "Epoch 10/100\n",
            "100/100 - 8s - loss: 0.4107 - accuracy: 0.8145 - val_loss: 0.6232 - val_accuracy: 0.7050\n",
            "Epoch 11/100\n",
            "100/100 - 8s - loss: 0.3885 - accuracy: 0.8245 - val_loss: 0.6093 - val_accuracy: 0.6910\n",
            "Epoch 12/100\n",
            "100/100 - 8s - loss: 0.3649 - accuracy: 0.8395 - val_loss: 0.5442 - val_accuracy: 0.7550\n",
            "Epoch 13/100\n",
            "100/100 - 8s - loss: 0.3418 - accuracy: 0.8490 - val_loss: 0.5634 - val_accuracy: 0.7330\n",
            "Epoch 14/100\n",
            "100/100 - 8s - loss: 0.3217 - accuracy: 0.8540 - val_loss: 0.5311 - val_accuracy: 0.7570\n",
            "Epoch 15/100\n",
            "100/100 - 8s - loss: 0.2922 - accuracy: 0.8875 - val_loss: 0.5513 - val_accuracy: 0.7570\n",
            "Epoch 16/100\n",
            "100/100 - 8s - loss: 0.2809 - accuracy: 0.8845 - val_loss: 0.5703 - val_accuracy: 0.7490\n",
            "Epoch 17/100\n",
            "100/100 - 8s - loss: 0.2517 - accuracy: 0.8980 - val_loss: 0.5687 - val_accuracy: 0.7490\n",
            "Epoch 18/100\n",
            "100/100 - 8s - loss: 0.2261 - accuracy: 0.9135 - val_loss: 0.5816 - val_accuracy: 0.7520\n",
            "Epoch 19/100\n",
            "100/100 - 8s - loss: 0.2101 - accuracy: 0.9205 - val_loss: 0.5930 - val_accuracy: 0.7460\n",
            "Epoch 20/100\n",
            "100/100 - 8s - loss: 0.1951 - accuracy: 0.9300 - val_loss: 0.6568 - val_accuracy: 0.7550\n",
            "Epoch 21/100\n",
            "100/100 - 8s - loss: 0.1744 - accuracy: 0.9350 - val_loss: 0.6271 - val_accuracy: 0.7340\n",
            "Epoch 22/100\n",
            "100/100 - 8s - loss: 0.1563 - accuracy: 0.9470 - val_loss: 0.6572 - val_accuracy: 0.7390\n",
            "Epoch 23/100\n",
            "100/100 - 8s - loss: 0.1365 - accuracy: 0.9545 - val_loss: 0.6744 - val_accuracy: 0.7500\n",
            "Epoch 24/100\n",
            "100/100 - 8s - loss: 0.1194 - accuracy: 0.9585 - val_loss: 0.6582 - val_accuracy: 0.7460\n",
            "Epoch 25/100\n",
            "100/100 - 8s - loss: 0.1060 - accuracy: 0.9680 - val_loss: 0.7320 - val_accuracy: 0.7470\n",
            "Epoch 26/100\n",
            "100/100 - 8s - loss: 0.0885 - accuracy: 0.9750 - val_loss: 0.7468 - val_accuracy: 0.7720\n",
            "Epoch 27/100\n",
            "100/100 - 8s - loss: 0.0814 - accuracy: 0.9780 - val_loss: 0.7178 - val_accuracy: 0.7650\n",
            "Epoch 28/100\n",
            "100/100 - 8s - loss: 0.0685 - accuracy: 0.9805 - val_loss: 0.8676 - val_accuracy: 0.7540\n",
            "Epoch 29/100\n",
            "100/100 - 8s - loss: 0.0573 - accuracy: 0.9855 - val_loss: 1.0538 - val_accuracy: 0.7050\n",
            "Epoch 30/100\n",
            "100/100 - 8s - loss: 0.0491 - accuracy: 0.9855 - val_loss: 0.8883 - val_accuracy: 0.7550\n",
            "Epoch 31/100\n",
            "100/100 - 8s - loss: 0.0453 - accuracy: 0.9865 - val_loss: 0.9498 - val_accuracy: 0.7560\n",
            "Epoch 32/100\n",
            "100/100 - 8s - loss: 0.0371 - accuracy: 0.9900 - val_loss: 1.5712 - val_accuracy: 0.6850\n",
            "Epoch 33/100\n",
            "100/100 - 8s - loss: 0.0327 - accuracy: 0.9910 - val_loss: 1.2446 - val_accuracy: 0.7110\n",
            "Epoch 34/100\n",
            "100/100 - 8s - loss: 0.0290 - accuracy: 0.9915 - val_loss: 1.0076 - val_accuracy: 0.7510\n",
            "Epoch 35/100\n",
            "100/100 - 8s - loss: 0.0326 - accuracy: 0.9915 - val_loss: 1.1118 - val_accuracy: 0.7470\n",
            "Epoch 36/100\n",
            "100/100 - 8s - loss: 0.0162 - accuracy: 0.9955 - val_loss: 1.1454 - val_accuracy: 0.7510\n",
            "Epoch 37/100\n",
            "100/100 - 8s - loss: 0.0206 - accuracy: 0.9965 - val_loss: 1.0900 - val_accuracy: 0.7480\n",
            "Epoch 38/100\n",
            "100/100 - 8s - loss: 0.0172 - accuracy: 0.9955 - val_loss: 1.1782 - val_accuracy: 0.7400\n",
            "Epoch 39/100\n",
            "100/100 - 8s - loss: 0.0149 - accuracy: 0.9970 - val_loss: 1.2248 - val_accuracy: 0.7680\n",
            "Epoch 40/100\n",
            "100/100 - 8s - loss: 0.0137 - accuracy: 0.9965 - val_loss: 1.2316 - val_accuracy: 0.7590\n",
            "Epoch 41/100\n",
            "100/100 - 8s - loss: 0.0106 - accuracy: 0.9970 - val_loss: 1.2613 - val_accuracy: 0.7510\n",
            "Epoch 42/100\n",
            "100/100 - 8s - loss: 0.0056 - accuracy: 0.9990 - val_loss: 1.3127 - val_accuracy: 0.7460\n",
            "Epoch 43/100\n",
            "100/100 - 8s - loss: 0.0153 - accuracy: 0.9945 - val_loss: 1.3015 - val_accuracy: 0.7570\n",
            "Epoch 44/100\n",
            "100/100 - 8s - loss: 0.0083 - accuracy: 0.9975 - val_loss: 1.3748 - val_accuracy: 0.7450\n",
            "Epoch 45/100\n",
            "100/100 - 8s - loss: 0.0152 - accuracy: 0.9955 - val_loss: 1.2962 - val_accuracy: 0.7650\n",
            "Epoch 46/100\n",
            "100/100 - 8s - loss: 0.0076 - accuracy: 0.9980 - val_loss: 1.4417 - val_accuracy: 0.7580\n",
            "Epoch 47/100\n",
            "100/100 - 8s - loss: 0.0041 - accuracy: 0.9985 - val_loss: 1.4297 - val_accuracy: 0.7670\n",
            "Epoch 48/100\n",
            "100/100 - 8s - loss: 0.0088 - accuracy: 0.9975 - val_loss: 1.4254 - val_accuracy: 0.7520\n",
            "Epoch 49/100\n",
            "100/100 - 8s - loss: 0.0093 - accuracy: 0.9960 - val_loss: 1.3650 - val_accuracy: 0.7590\n",
            "Epoch 50/100\n",
            "100/100 - 8s - loss: 0.0065 - accuracy: 0.9975 - val_loss: 1.6873 - val_accuracy: 0.7530\n",
            "Epoch 51/100\n",
            "100/100 - 8s - loss: 0.0097 - accuracy: 0.9970 - val_loss: 1.5000 - val_accuracy: 0.7620\n",
            "Epoch 52/100\n",
            "100/100 - 8s - loss: 0.0187 - accuracy: 0.9950 - val_loss: 1.5420 - val_accuracy: 0.7490\n",
            "Epoch 53/100\n",
            "100/100 - 8s - loss: 0.0085 - accuracy: 0.9975 - val_loss: 1.5303 - val_accuracy: 0.7490\n",
            "Epoch 54/100\n",
            "100/100 - 8s - loss: 0.0045 - accuracy: 0.9980 - val_loss: 1.5955 - val_accuracy: 0.7580\n",
            "Epoch 55/100\n",
            "100/100 - 8s - loss: 0.0072 - accuracy: 0.9970 - val_loss: 1.6687 - val_accuracy: 0.7540\n",
            "Epoch 56/100\n",
            "100/100 - 8s - loss: 0.0032 - accuracy: 0.9990 - val_loss: 1.6234 - val_accuracy: 0.7570\n",
            "Epoch 57/100\n",
            "100/100 - 8s - loss: 0.0057 - accuracy: 0.9975 - val_loss: 1.6295 - val_accuracy: 0.7710\n",
            "Epoch 58/100\n",
            "100/100 - 8s - loss: 0.0073 - accuracy: 0.9985 - val_loss: 2.2088 - val_accuracy: 0.7300\n",
            "Epoch 59/100\n",
            "100/100 - 8s - loss: 0.0050 - accuracy: 0.9990 - val_loss: 1.6558 - val_accuracy: 0.7650\n",
            "Epoch 60/100\n",
            "100/100 - 8s - loss: 0.0033 - accuracy: 0.9985 - val_loss: 1.7810 - val_accuracy: 0.7520\n",
            "Epoch 61/100\n",
            "100/100 - 8s - loss: 0.0066 - accuracy: 0.9975 - val_loss: 1.6942 - val_accuracy: 0.7570\n",
            "Epoch 62/100\n",
            "100/100 - 8s - loss: 0.0153 - accuracy: 0.9970 - val_loss: 1.7437 - val_accuracy: 0.7560\n",
            "Epoch 63/100\n",
            "100/100 - 8s - loss: 0.0031 - accuracy: 0.9990 - val_loss: 2.0209 - val_accuracy: 0.7390\n",
            "Epoch 64/100\n",
            "100/100 - 8s - loss: 0.0024 - accuracy: 0.9990 - val_loss: 1.8389 - val_accuracy: 0.7630\n",
            "Epoch 65/100\n",
            "100/100 - 8s - loss: 0.0048 - accuracy: 0.9980 - val_loss: 1.7675 - val_accuracy: 0.7570\n",
            "Epoch 66/100\n",
            "100/100 - 8s - loss: 0.0068 - accuracy: 0.9970 - val_loss: 1.8566 - val_accuracy: 0.7600\n",
            "Epoch 67/100\n",
            "100/100 - 8s - loss: 0.0071 - accuracy: 0.9980 - val_loss: 1.8611 - val_accuracy: 0.7600\n",
            "Epoch 68/100\n",
            "100/100 - 8s - loss: 0.0069 - accuracy: 0.9985 - val_loss: 1.8410 - val_accuracy: 0.7590\n",
            "Epoch 69/100\n",
            "100/100 - 8s - loss: 0.0012 - accuracy: 1.0000 - val_loss: 1.9551 - val_accuracy: 0.7550\n",
            "Epoch 70/100\n",
            "100/100 - 8s - loss: 0.0039 - accuracy: 0.9985 - val_loss: 1.8394 - val_accuracy: 0.7570\n",
            "Epoch 71/100\n",
            "100/100 - 8s - loss: 0.0030 - accuracy: 0.9985 - val_loss: 2.0207 - val_accuracy: 0.7500\n",
            "Epoch 72/100\n",
            "100/100 - 8s - loss: 5.9234e-04 - accuracy: 1.0000 - val_loss: 2.0140 - val_accuracy: 0.7660\n",
            "Epoch 73/100\n",
            "100/100 - 8s - loss: 0.0030 - accuracy: 0.9985 - val_loss: 1.8583 - val_accuracy: 0.7580\n",
            "Epoch 74/100\n",
            "100/100 - 8s - loss: 0.0041 - accuracy: 0.9990 - val_loss: 1.9153 - val_accuracy: 0.7500\n",
            "Epoch 75/100\n",
            "100/100 - 8s - loss: 0.0048 - accuracy: 0.9990 - val_loss: 2.1760 - val_accuracy: 0.7490\n",
            "Epoch 76/100\n",
            "100/100 - 8s - loss: 0.0039 - accuracy: 0.9980 - val_loss: 2.0162 - val_accuracy: 0.7540\n",
            "Epoch 77/100\n",
            "100/100 - 8s - loss: 0.0064 - accuracy: 0.9980 - val_loss: 2.1077 - val_accuracy: 0.7610\n",
            "Epoch 78/100\n",
            "100/100 - 8s - loss: 0.0016 - accuracy: 0.9995 - val_loss: 2.0612 - val_accuracy: 0.7460\n",
            "Epoch 79/100\n",
            "100/100 - 8s - loss: 0.0031 - accuracy: 0.9990 - val_loss: 1.9813 - val_accuracy: 0.7500\n",
            "Epoch 80/100\n",
            "100/100 - 8s - loss: 1.7965e-04 - accuracy: 1.0000 - val_loss: 2.0883 - val_accuracy: 0.7690\n",
            "Epoch 81/100\n",
            "100/100 - 8s - loss: 0.0027 - accuracy: 0.9990 - val_loss: 2.1398 - val_accuracy: 0.7580\n",
            "Epoch 82/100\n",
            "100/100 - 8s - loss: 0.0034 - accuracy: 0.9975 - val_loss: 2.2993 - val_accuracy: 0.7490\n",
            "Epoch 83/100\n",
            "100/100 - 8s - loss: 5.9417e-05 - accuracy: 1.0000 - val_loss: 2.2745 - val_accuracy: 0.7610\n",
            "Epoch 84/100\n",
            "100/100 - 8s - loss: 0.0143 - accuracy: 0.9970 - val_loss: 2.1762 - val_accuracy: 0.7490\n",
            "Epoch 85/100\n",
            "100/100 - 8s - loss: 6.9997e-05 - accuracy: 1.0000 - val_loss: 2.9232 - val_accuracy: 0.7050\n",
            "Epoch 86/100\n",
            "100/100 - 8s - loss: 0.0129 - accuracy: 0.9965 - val_loss: 2.5423 - val_accuracy: 0.7290\n",
            "Epoch 87/100\n",
            "100/100 - 8s - loss: 2.2632e-04 - accuracy: 1.0000 - val_loss: 2.1630 - val_accuracy: 0.7520\n",
            "Epoch 88/100\n",
            "100/100 - 8s - loss: 0.0068 - accuracy: 0.9990 - val_loss: 2.3141 - val_accuracy: 0.7480\n",
            "Epoch 89/100\n",
            "100/100 - 8s - loss: 1.6783e-04 - accuracy: 1.0000 - val_loss: 2.8006 - val_accuracy: 0.7370\n",
            "Epoch 90/100\n",
            "100/100 - 8s - loss: 0.0067 - accuracy: 0.9985 - val_loss: 2.4766 - val_accuracy: 0.7550\n",
            "Epoch 91/100\n",
            "100/100 - 8s - loss: 0.0098 - accuracy: 0.9975 - val_loss: 2.4613 - val_accuracy: 0.7600\n",
            "Epoch 92/100\n",
            "100/100 - 8s - loss: 2.2716e-05 - accuracy: 1.0000 - val_loss: 2.5007 - val_accuracy: 0.7470\n",
            "Epoch 93/100\n",
            "100/100 - 8s - loss: 0.0071 - accuracy: 0.9985 - val_loss: 2.4507 - val_accuracy: 0.7590\n",
            "Epoch 94/100\n",
            "100/100 - 8s - loss: 0.0106 - accuracy: 0.9965 - val_loss: 2.5310 - val_accuracy: 0.7480\n",
            "Epoch 95/100\n",
            "100/100 - 8s - loss: 0.0023 - accuracy: 0.9990 - val_loss: 2.6734 - val_accuracy: 0.7400\n",
            "Epoch 96/100\n",
            "100/100 - 8s - loss: 0.0018 - accuracy: 0.9990 - val_loss: 2.4812 - val_accuracy: 0.7440\n",
            "Epoch 97/100\n",
            "100/100 - 8s - loss: 0.0051 - accuracy: 0.9990 - val_loss: 2.4769 - val_accuracy: 0.7640\n",
            "Epoch 98/100\n",
            "100/100 - 8s - loss: 0.0042 - accuracy: 0.9980 - val_loss: 2.4816 - val_accuracy: 0.7600\n",
            "Epoch 99/100\n",
            "100/100 - 8s - loss: 0.0098 - accuracy: 0.9980 - val_loss: 2.2801 - val_accuracy: 0.7640\n",
            "Epoch 100/100\n",
            "100/100 - 8s - loss: 1.3813e-04 - accuracy: 1.0000 - val_loss: 2.3991 - val_accuracy: 0.7590\n"
          ],
          "name": "stdout"
        }
      ]
    },
    {
      "cell_type": "code",
      "metadata": {
        "id": "tlkzqrjc9C5m",
        "outputId": "7cf96d71-30c9-4b09-ea79-6309a69b3a5c",
        "colab": {
          "base_uri": "https://localhost:8080/",
          "height": 545
        }
      },
      "source": [
        "import matplotlib.pyplot as plt\n",
        "acc = history.history['accuracy']\n",
        "val_acc = history.history['val_accuracy']\n",
        "loss = history.history['loss']\n",
        "val_loss = history.history['val_loss']\n",
        "\n",
        "epochs = range(len(acc))\n",
        "\n",
        "plt.plot(epochs, acc, 'bo', label='Training accuracy')\n",
        "plt.plot(epochs, val_acc, 'b', label='Validation accuracy')\n",
        "plt.title('Training and validation accuracy')\n",
        "\n",
        "plt.figure()\n",
        "\n",
        "plt.plot(epochs, loss, 'bo', label='Training Loss')\n",
        "plt.plot(epochs, val_loss, 'b', label='Validation Loss')\n",
        "plt.title('Training and validation loss')\n",
        "plt.legend()\n",
        "\n",
        "plt.show()\n"
      ],
      "execution_count": 23,
      "outputs": [
        {
          "output_type": "display_data",
          "data": {
            "image/png": "[encoded data removed]",
            "text/plain": [
              "<Figure size 432x288 with 1 Axes>"
            ]
          },
          "metadata": {
            "tags": [],
            "needs_background": "light"
          }
        },
        {
          "output_type": "display_data",
          "data": {
            "image/png": "[encoded data removed]",
            "text/plain": [
              "<Figure size 432x288 with 1 Axes>"
            ]
          },
          "metadata": {
            "tags": [],
            "needs_background": "light"
          }
        }
      ]
    },
    {
      "cell_type": "markdown",
      "metadata": {
        "id": "JpqyH4DyP8Dw"
      },
      "source": [
        "The training accuracy is close to 100% and the validation accuracy is in the 70ish range. This is a great example of overfitting -- which in short means that it can do very well with images it has seen before, but not so well with images it hasn't. Let's see if we can do better to avoid overfitting --and one simple method is to augment the images a bit."
      ]
    },
    {
      "cell_type": "code",
      "metadata": {
        "id": "xaxKvyD69C21",
        "outputId": "aa53a169-5631-4bc1-f2b6-90dfbcd2f1d7",
        "colab": {
          "base_uri": "https://localhost:8080/"
        }
      },
      "source": [
        "train_datagen = ImageDataGenerator(\n",
        "    rescale=1.0/255.0,\n",
        "    rotation_range=40,\n",
        "    width_shift_range=0.2,\n",
        "    height_shift_range=0.2,\n",
        "    shear_range=0.2,\n",
        "    zoom_range=0.2,\n",
        "    horizontal_flip=True,\n",
        "    fill_mode='nearest'\n",
        ")\n",
        "\n",
        "# Flow training images in batches of 20 using train_datagen generator\n",
        "train_generator = train_datagen.flow_from_directory(\n",
        "        train_dir,  # This is the source directory for training images\n",
        "        target_size=(150, 150),  # All images will be resized to 150x150\n",
        "        batch_size=20,\n",
        "        # Since we use binary_crossentropy loss, we need binary labels\n",
        "        class_mode='binary')"
      ],
      "execution_count": 28,
      "outputs": [
        {
          "output_type": "stream",
          "text": [
            "Found 2000 images belonging to 2 classes.\n"
          ],
          "name": "stdout"
        }
      ]
    },
    {
      "cell_type": "markdown",
      "metadata": {
        "id": "lR4K0o3TRGSz"
      },
      "source": [
        "These are just a few of the options available.\n",
        "\n",
        "- rotation_range: is a value in degrees (0-100)"
      ]
    },
    {
      "cell_type": "code",
      "metadata": {
        "id": "bhbw3AzL9Czu",
        "outputId": "71c46909-1c7a-4aa5-8ba5-91c97d6aca8d",
        "colab": {
          "base_uri": "https://localhost:8080/"
        }
      },
      "source": [
        "history = model.fit(\n",
        "      train_generator,\n",
        "      steps_per_epoch=100,  # 2000 images = batch_size * steps\n",
        "      epochs=100,\n",
        "      validation_data=validation_generator,\n",
        "      validation_steps=50,  # 1000 images = batch_size * steps\n",
        "      verbose=2)"
      ],
      "execution_count": 29,
      "outputs": [
        {
          "output_type": "stream",
          "text": [
            "Epoch 1/100\n",
            "100/100 - 16s - loss: 0.6952 - accuracy: 0.5055 - val_loss: 0.6880 - val_accuracy: 0.5000\n",
            "Epoch 2/100\n",
            "100/100 - 16s - loss: 0.6859 - accuracy: 0.5420 - val_loss: 0.6609 - val_accuracy: 0.6480\n",
            "Epoch 3/100\n",
            "100/100 - 16s - loss: 0.6627 - accuracy: 0.6100 - val_loss: 0.6226 - val_accuracy: 0.6690\n",
            "Epoch 4/100\n",
            "100/100 - 16s - loss: 0.6391 - accuracy: 0.6435 - val_loss: 0.6526 - val_accuracy: 0.5930\n",
            "Epoch 5/100\n",
            "100/100 - 16s - loss: 0.6276 - accuracy: 0.6480 - val_loss: 0.5705 - val_accuracy: 0.7130\n",
            "Epoch 6/100\n",
            "100/100 - 16s - loss: 0.6148 - accuracy: 0.6655 - val_loss: 0.5634 - val_accuracy: 0.7090\n",
            "Epoch 7/100\n",
            "100/100 - 16s - loss: 0.5990 - accuracy: 0.6725 - val_loss: 0.5250 - val_accuracy: 0.7500\n",
            "Epoch 8/100\n",
            "100/100 - 16s - loss: 0.5933 - accuracy: 0.6815 - val_loss: 0.5807 - val_accuracy: 0.6750\n",
            "Epoch 9/100\n",
            "100/100 - 16s - loss: 0.5836 - accuracy: 0.6980 - val_loss: 0.5581 - val_accuracy: 0.7100\n",
            "Epoch 10/100\n",
            "100/100 - 16s - loss: 0.5717 - accuracy: 0.6975 - val_loss: 0.5194 - val_accuracy: 0.7300\n",
            "Epoch 11/100\n",
            "100/100 - 16s - loss: 0.5551 - accuracy: 0.7165 - val_loss: 0.5431 - val_accuracy: 0.7070\n",
            "Epoch 12/100\n",
            "100/100 - 16s - loss: 0.5507 - accuracy: 0.7220 - val_loss: 0.4873 - val_accuracy: 0.7620\n",
            "Epoch 13/100\n",
            "100/100 - 16s - loss: 0.5411 - accuracy: 0.7270 - val_loss: 0.4802 - val_accuracy: 0.7650\n",
            "Epoch 14/100\n",
            "100/100 - 16s - loss: 0.5341 - accuracy: 0.7395 - val_loss: 0.5026 - val_accuracy: 0.7450\n",
            "Epoch 15/100\n",
            "100/100 - 16s - loss: 0.5377 - accuracy: 0.7300 - val_loss: 0.4696 - val_accuracy: 0.7570\n",
            "Epoch 16/100\n",
            "100/100 - 16s - loss: 0.5393 - accuracy: 0.7330 - val_loss: 0.4971 - val_accuracy: 0.7520\n",
            "Epoch 17/100\n",
            "100/100 - 16s - loss: 0.5513 - accuracy: 0.7280 - val_loss: 0.4675 - val_accuracy: 0.7670\n",
            "Epoch 18/100\n",
            "100/100 - 16s - loss: 0.5325 - accuracy: 0.7365 - val_loss: 0.5047 - val_accuracy: 0.7450\n",
            "Epoch 19/100\n",
            "100/100 - 16s - loss: 0.5312 - accuracy: 0.7280 - val_loss: 0.4867 - val_accuracy: 0.7600\n",
            "Epoch 20/100\n",
            "100/100 - 16s - loss: 0.5194 - accuracy: 0.7420 - val_loss: 0.4484 - val_accuracy: 0.7880\n",
            "Epoch 21/100\n",
            "100/100 - 16s - loss: 0.5254 - accuracy: 0.7445 - val_loss: 0.5068 - val_accuracy: 0.7600\n",
            "Epoch 22/100\n",
            "100/100 - 16s - loss: 0.5190 - accuracy: 0.7470 - val_loss: 0.4719 - val_accuracy: 0.7670\n",
            "Epoch 23/100\n",
            "100/100 - 16s - loss: 0.4983 - accuracy: 0.7630 - val_loss: 0.4430 - val_accuracy: 0.7930\n",
            "Epoch 24/100\n",
            "100/100 - 16s - loss: 0.5038 - accuracy: 0.7510 - val_loss: 0.4824 - val_accuracy: 0.7600\n",
            "Epoch 25/100\n",
            "100/100 - 16s - loss: 0.5106 - accuracy: 0.7420 - val_loss: 0.5359 - val_accuracy: 0.7460\n",
            "Epoch 26/100\n",
            "100/100 - 16s - loss: 0.5125 - accuracy: 0.7505 - val_loss: 0.4555 - val_accuracy: 0.7810\n",
            "Epoch 27/100\n",
            "100/100 - 16s - loss: 0.4951 - accuracy: 0.7665 - val_loss: 0.4952 - val_accuracy: 0.7510\n",
            "Epoch 28/100\n",
            "100/100 - 16s - loss: 0.4900 - accuracy: 0.7555 - val_loss: 0.4445 - val_accuracy: 0.7830\n",
            "Epoch 29/100\n",
            "100/100 - 16s - loss: 0.5068 - accuracy: 0.7450 - val_loss: 0.4619 - val_accuracy: 0.7760\n",
            "Epoch 30/100\n",
            "100/100 - 16s - loss: 0.5011 - accuracy: 0.7595 - val_loss: 0.5937 - val_accuracy: 0.7380\n",
            "Epoch 31/100\n",
            "100/100 - 16s - loss: 0.4969 - accuracy: 0.7500 - val_loss: 0.4431 - val_accuracy: 0.7830\n",
            "Epoch 32/100\n",
            "100/100 - 16s - loss: 0.4827 - accuracy: 0.7590 - val_loss: 0.4812 - val_accuracy: 0.7690\n",
            "Epoch 33/100\n",
            "100/100 - 16s - loss: 0.4820 - accuracy: 0.7590 - val_loss: 0.4614 - val_accuracy: 0.7930\n",
            "Epoch 34/100\n",
            "100/100 - 16s - loss: 0.4871 - accuracy: 0.7600 - val_loss: 0.4460 - val_accuracy: 0.7850\n",
            "Epoch 35/100\n",
            "100/100 - 16s - loss: 0.4735 - accuracy: 0.7760 - val_loss: 0.5241 - val_accuracy: 0.7610\n",
            "Epoch 36/100\n",
            "100/100 - 16s - loss: 0.4812 - accuracy: 0.7700 - val_loss: 0.4770 - val_accuracy: 0.7650\n",
            "Epoch 37/100\n",
            "100/100 - 16s - loss: 0.4738 - accuracy: 0.7710 - val_loss: 0.4523 - val_accuracy: 0.7740\n",
            "Epoch 38/100\n",
            "100/100 - 16s - loss: 0.4733 - accuracy: 0.7710 - val_loss: 0.4414 - val_accuracy: 0.7780\n",
            "Epoch 39/100\n",
            "100/100 - 16s - loss: 0.4774 - accuracy: 0.7700 - val_loss: 0.4412 - val_accuracy: 0.7840\n",
            "Epoch 40/100\n",
            "100/100 - 16s - loss: 0.4812 - accuracy: 0.7565 - val_loss: 0.4425 - val_accuracy: 0.7940\n",
            "Epoch 41/100\n",
            "100/100 - 16s - loss: 0.4667 - accuracy: 0.7760 - val_loss: 0.4632 - val_accuracy: 0.7700\n",
            "Epoch 42/100\n",
            "100/100 - 16s - loss: 0.4712 - accuracy: 0.7790 - val_loss: 0.4317 - val_accuracy: 0.7940\n",
            "Epoch 43/100\n",
            "100/100 - 16s - loss: 0.4504 - accuracy: 0.7840 - val_loss: 0.4572 - val_accuracy: 0.7830\n",
            "Epoch 44/100\n",
            "100/100 - 16s - loss: 0.4588 - accuracy: 0.7890 - val_loss: 0.4617 - val_accuracy: 0.7900\n",
            "Epoch 45/100\n",
            "100/100 - 16s - loss: 0.4476 - accuracy: 0.7880 - val_loss: 0.4483 - val_accuracy: 0.7970\n",
            "Epoch 46/100\n",
            "100/100 - 16s - loss: 0.4578 - accuracy: 0.7845 - val_loss: 0.4874 - val_accuracy: 0.7660\n",
            "Epoch 47/100\n",
            "100/100 - 16s - loss: 0.4593 - accuracy: 0.7810 - val_loss: 0.4688 - val_accuracy: 0.7770\n",
            "Epoch 48/100\n",
            "100/100 - 16s - loss: 0.4525 - accuracy: 0.7970 - val_loss: 0.4278 - val_accuracy: 0.8020\n",
            "Epoch 49/100\n",
            "100/100 - 16s - loss: 0.4459 - accuracy: 0.7915 - val_loss: 0.5207 - val_accuracy: 0.7500\n",
            "Epoch 50/100\n",
            "100/100 - 16s - loss: 0.4578 - accuracy: 0.7770 - val_loss: 0.4534 - val_accuracy: 0.7730\n",
            "Epoch 51/100\n",
            "100/100 - 16s - loss: 0.4524 - accuracy: 0.7795 - val_loss: 0.4225 - val_accuracy: 0.7970\n",
            "Epoch 52/100\n",
            "100/100 - 16s - loss: 0.4545 - accuracy: 0.7815 - val_loss: 0.4501 - val_accuracy: 0.7910\n",
            "Epoch 53/100\n",
            "100/100 - 16s - loss: 0.4328 - accuracy: 0.7935 - val_loss: 0.5410 - val_accuracy: 0.7780\n",
            "Epoch 54/100\n",
            "100/100 - 16s - loss: 0.4539 - accuracy: 0.7915 - val_loss: 0.4136 - val_accuracy: 0.8120\n",
            "Epoch 55/100\n",
            "100/100 - 16s - loss: 0.4487 - accuracy: 0.7935 - val_loss: 0.4345 - val_accuracy: 0.7980\n",
            "Epoch 56/100\n",
            "100/100 - 16s - loss: 0.4459 - accuracy: 0.7930 - val_loss: 0.6546 - val_accuracy: 0.7340\n",
            "Epoch 57/100\n",
            "100/100 - 16s - loss: 0.4442 - accuracy: 0.7965 - val_loss: 0.4524 - val_accuracy: 0.7980\n",
            "Epoch 58/100\n",
            "100/100 - 16s - loss: 0.4305 - accuracy: 0.7965 - val_loss: 0.4258 - val_accuracy: 0.8110\n",
            "Epoch 59/100\n",
            "100/100 - 16s - loss: 0.4341 - accuracy: 0.7995 - val_loss: 0.4592 - val_accuracy: 0.7720\n",
            "Epoch 60/100\n",
            "100/100 - 16s - loss: 0.4321 - accuracy: 0.7985 - val_loss: 0.4586 - val_accuracy: 0.7900\n",
            "Epoch 61/100\n",
            "100/100 - 16s - loss: 0.4414 - accuracy: 0.8040 - val_loss: 0.4804 - val_accuracy: 0.7770\n",
            "Epoch 62/100\n",
            "100/100 - 16s - loss: 0.4220 - accuracy: 0.8090 - val_loss: 0.4230 - val_accuracy: 0.8110\n",
            "Epoch 63/100\n",
            "100/100 - 16s - loss: 0.4311 - accuracy: 0.8035 - val_loss: 0.4052 - val_accuracy: 0.8000\n",
            "Epoch 64/100\n",
            "100/100 - 16s - loss: 0.4427 - accuracy: 0.7825 - val_loss: 0.4347 - val_accuracy: 0.7970\n",
            "Epoch 65/100\n",
            "100/100 - 16s - loss: 0.4191 - accuracy: 0.8135 - val_loss: 0.4407 - val_accuracy: 0.7990\n",
            "Epoch 66/100\n",
            "100/100 - 16s - loss: 0.4323 - accuracy: 0.8020 - val_loss: 0.3950 - val_accuracy: 0.8190\n",
            "Epoch 67/100\n",
            "100/100 - 16s - loss: 0.4296 - accuracy: 0.7965 - val_loss: 0.6021 - val_accuracy: 0.7510\n",
            "Epoch 68/100\n",
            "100/100 - 16s - loss: 0.4248 - accuracy: 0.8045 - val_loss: 0.4916 - val_accuracy: 0.7800\n",
            "Epoch 69/100\n",
            "100/100 - 16s - loss: 0.4200 - accuracy: 0.7955 - val_loss: 0.4748 - val_accuracy: 0.7780\n",
            "Epoch 70/100\n",
            "100/100 - 16s - loss: 0.4226 - accuracy: 0.8120 - val_loss: 0.4119 - val_accuracy: 0.8120\n",
            "Epoch 71/100\n",
            "100/100 - 16s - loss: 0.4218 - accuracy: 0.8095 - val_loss: 0.5954 - val_accuracy: 0.7520\n",
            "Epoch 72/100\n",
            "100/100 - 16s - loss: 0.4126 - accuracy: 0.8085 - val_loss: 0.4472 - val_accuracy: 0.7970\n",
            "Epoch 73/100\n",
            "100/100 - 16s - loss: 0.4095 - accuracy: 0.8030 - val_loss: 0.4387 - val_accuracy: 0.8000\n",
            "Epoch 74/100\n",
            "100/100 - 16s - loss: 0.4170 - accuracy: 0.8095 - val_loss: 0.4488 - val_accuracy: 0.7950\n",
            "Epoch 75/100\n",
            "100/100 - 16s - loss: 0.4128 - accuracy: 0.8020 - val_loss: 0.4312 - val_accuracy: 0.8060\n",
            "Epoch 76/100\n",
            "100/100 - 16s - loss: 0.4303 - accuracy: 0.8080 - val_loss: 0.4653 - val_accuracy: 0.8030\n",
            "Epoch 77/100\n",
            "100/100 - 16s - loss: 0.4248 - accuracy: 0.8010 - val_loss: 0.4136 - val_accuracy: 0.8060\n",
            "Epoch 78/100\n",
            "100/100 - 16s - loss: 0.4149 - accuracy: 0.8085 - val_loss: 0.4482 - val_accuracy: 0.7950\n",
            "Epoch 79/100\n",
            "100/100 - 16s - loss: 0.4109 - accuracy: 0.8080 - val_loss: 0.4289 - val_accuracy: 0.8070\n",
            "Epoch 80/100\n",
            "100/100 - 16s - loss: 0.4016 - accuracy: 0.8080 - val_loss: 0.5223 - val_accuracy: 0.7860\n",
            "Epoch 81/100\n",
            "100/100 - 16s - loss: 0.4155 - accuracy: 0.8125 - val_loss: 0.5910 - val_accuracy: 0.7420\n",
            "Epoch 82/100\n",
            "100/100 - 16s - loss: 0.4239 - accuracy: 0.8085 - val_loss: 0.4241 - val_accuracy: 0.8040\n",
            "Epoch 83/100\n",
            "100/100 - 16s - loss: 0.4114 - accuracy: 0.8120 - val_loss: 0.4253 - val_accuracy: 0.8120\n",
            "Epoch 84/100\n",
            "100/100 - 16s - loss: 0.4112 - accuracy: 0.8125 - val_loss: 0.5992 - val_accuracy: 0.7360\n",
            "Epoch 85/100\n",
            "100/100 - 16s - loss: 0.4005 - accuracy: 0.8120 - val_loss: 0.4113 - val_accuracy: 0.8060\n",
            "Epoch 86/100\n",
            "100/100 - 16s - loss: 0.3976 - accuracy: 0.8215 - val_loss: 0.4562 - val_accuracy: 0.8020\n",
            "Epoch 87/100\n",
            "100/100 - 16s - loss: 0.3901 - accuracy: 0.8210 - val_loss: 0.4068 - val_accuracy: 0.8060\n",
            "Epoch 88/100\n",
            "100/100 - 16s - loss: 0.3823 - accuracy: 0.8250 - val_loss: 0.4421 - val_accuracy: 0.8080\n",
            "Epoch 89/100\n",
            "100/100 - 16s - loss: 0.4065 - accuracy: 0.8140 - val_loss: 0.4393 - val_accuracy: 0.8000\n",
            "Epoch 90/100\n",
            "100/100 - 16s - loss: 0.4125 - accuracy: 0.8095 - val_loss: 0.4181 - val_accuracy: 0.8130\n",
            "Epoch 91/100\n",
            "100/100 - 16s - loss: 0.3876 - accuracy: 0.8320 - val_loss: 0.4533 - val_accuracy: 0.7870\n",
            "Epoch 92/100\n",
            "100/100 - 16s - loss: 0.3999 - accuracy: 0.8100 - val_loss: 0.4126 - val_accuracy: 0.8110\n",
            "Epoch 93/100\n",
            "100/100 - 16s - loss: 0.3965 - accuracy: 0.8145 - val_loss: 0.4298 - val_accuracy: 0.8110\n",
            "Epoch 94/100\n",
            "100/100 - 16s - loss: 0.3918 - accuracy: 0.8255 - val_loss: 0.5012 - val_accuracy: 0.7810\n",
            "Epoch 95/100\n",
            "100/100 - 16s - loss: 0.3906 - accuracy: 0.8180 - val_loss: 0.4327 - val_accuracy: 0.8160\n",
            "Epoch 96/100\n",
            "100/100 - 16s - loss: 0.3815 - accuracy: 0.8170 - val_loss: 0.4234 - val_accuracy: 0.8000\n",
            "Epoch 97/100\n",
            "100/100 - 16s - loss: 0.3904 - accuracy: 0.8265 - val_loss: 0.3953 - val_accuracy: 0.8160\n",
            "Epoch 98/100\n",
            "100/100 - 16s - loss: 0.4013 - accuracy: 0.8170 - val_loss: 0.4367 - val_accuracy: 0.8030\n",
            "Epoch 99/100\n",
            "100/100 - 16s - loss: 0.3951 - accuracy: 0.8245 - val_loss: 0.4535 - val_accuracy: 0.7850\n",
            "Epoch 100/100\n",
            "100/100 - 16s - loss: 0.3841 - accuracy: 0.8290 - val_loss: 0.5564 - val_accuracy: 0.7620\n"
          ],
          "name": "stdout"
        }
      ]
    },
    {
      "cell_type": "code",
      "metadata": {
        "id": "oVTpV03V9Cwh",
        "outputId": "d073f3d1-b188-4893-9ce8-375be83f9c28",
        "colab": {
          "base_uri": "https://localhost:8080/",
          "height": 545
        }
      },
      "source": [
        "import matplotlib.pyplot as plt\n",
        "acc = history.history['accuracy']\n",
        "val_acc = history.history['val_accuracy']\n",
        "loss = history.history['loss']\n",
        "val_loss = history.history['val_loss']\n",
        "\n",
        "epochs = range(len(acc))\n",
        "\n",
        "plt.plot(epochs, acc, 'bo', label='Training accuracy')\n",
        "plt.plot(epochs, val_acc, 'b', label='Validation accuracy')\n",
        "plt.title('Training and validation accuracy')\n",
        "\n",
        "plt.figure()\n",
        "\n",
        "plt.plot(epochs, loss, 'bo', label='Training Loss')\n",
        "plt.plot(epochs, val_loss, 'b', label='Validation Loss')\n",
        "plt.title('Training and validation loss')\n",
        "plt.legend()\n",
        "\n",
        "plt.show()"
      ],
      "execution_count": 30,
      "outputs": [
        {
          "output_type": "display_data",
          "data": {
            "image/png": "[encoded data removed]",
            "text/plain": [
              "<Figure size 432x288 with 1 Axes>"
            ]
          },
          "metadata": {
            "tags": [],
            "needs_background": "light"
          }
        },
        {
          "output_type": "display_data",
          "data": {
            "image/png": "[encoded data removed]",
            "text/plain": [
              "<Figure size 432x288 with 1 Axes>"
            ]
          },
          "metadata": {
            "tags": [],
            "needs_background": "light"
          }
        }
      ]
    },
    {
      "cell_type": "code",
      "metadata": {
        "id": "xsAc-oNf9Ctp"
      },
      "source": [
        ""
      ],
      "execution_count": null,
      "outputs": []
    },
    {
      "cell_type": "code",
      "metadata": {
        "id": "5gDgdZOP9Cqr"
      },
      "source": [
        ""
      ],
      "execution_count": null,
      "outputs": []
    },
    {
      "cell_type": "code",
      "metadata": {
        "id": "X4Eczl6w9Cnv"
      },
      "source": [
        ""
      ],
      "execution_count": null,
      "outputs": []
    },
    {
      "cell_type": "code",
      "metadata": {
        "id": "3kP_Hph59Ckr"
      },
      "source": [
        ""
      ],
      "execution_count": null,
      "outputs": []
    },
    {
      "cell_type": "code",
      "metadata": {
        "id": "GD6oOeU79Chy"
      },
      "source": [
        ""
      ],
      "execution_count": null,
      "outputs": []
    },
    {
      "cell_type": "code",
      "metadata": {
        "id": "QnbA8Ns49Cev"
      },
      "source": [
        ""
      ],
      "execution_count": null,
      "outputs": []
    },
    {
      "cell_type": "code",
      "metadata": {
        "id": "FkbhgIcm9Cb1"
      },
      "source": [
        ""
      ],
      "execution_count": null,
      "outputs": []
    }
  ]
}