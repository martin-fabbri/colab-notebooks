{
  "nbformat": 4,
  "nbformat_minor": 0,
  "metadata": {
    "colab": {
      "name": "c3_w2_loading_text.ipynb",
      "provenance": [],
      "authorship_tag": "ABX9TyOmzcbGfojfPIaOc73TnCIq",
      "include_colab_link": true
    },
    "kernelspec": {
      "name": "python3",
      "display_name": "Python 3"
    },
    "accelerator": "GPU"
  },
  "cells": [
    {
      "cell_type": "markdown",
      "metadata": {
        "id": "view-in-github",
        "colab_type": "text"
      },
      "source": [
        "<a href=\"https://colab.research.google.com/github/martin-fabbri/colab-notebooks/blob/master/deeplearning.ai/tf/c3_w2_loading_text.ipynb\" target=\"_parent\"><img src=\"https://colab.research.google.com/assets/colab-badge.svg\" alt=\"Open In Colab\"/></a>"
      ]
    },
    {
      "cell_type": "markdown",
      "metadata": {
        "id": "nPXHnP2dD91b"
      },
      "source": [
        "# Load Text"
      ]
    },
    {
      "cell_type": "markdown",
      "metadata": {
        "id": "jl5cBqD-EGiR"
      },
      "source": [
        "We will use lower-level utilities like `tf.data.TextLineDataset` to load text files, and `tf.text` to preprocess the data for finer-grain control."
      ]
    },
    {
      "cell_type": "code",
      "metadata": {
        "id": "XXgZgdXrFn6g",
        "outputId": "39c5e209-6120-4141-921e-e1217c6cedd6",
        "colab": {
          "base_uri": "https://localhost:8080/"
        }
      },
      "source": [
        "!pip install tensorflow_text -q"
      ],
      "execution_count": 1,
      "outputs": [
        {
          "output_type": "stream",
          "text": [
            "\u001b[?25l\r\u001b[K     |▏                               | 10kB 25.1MB/s eta 0:00:01\r\u001b[K     |▎                               | 20kB 19.2MB/s eta 0:00:01\r\u001b[K     |▍                               | 30kB 15.3MB/s eta 0:00:01\r\u001b[K     |▌                               | 40kB 14.3MB/s eta 0:00:01\r\u001b[K     |▋                               | 51kB 11.1MB/s eta 0:00:01\r\u001b[K     |▊                               | 61kB 11.5MB/s eta 0:00:01\r\u001b[K     |▉                               | 71kB 11.4MB/s eta 0:00:01\r\u001b[K     |█                               | 81kB 11.8MB/s eta 0:00:01\r\u001b[K     |█▏                              | 92kB 12.4MB/s eta 0:00:01\r\u001b[K     |█▎                              | 102kB 12.3MB/s eta 0:00:01\r\u001b[K     |█▍                              | 112kB 12.3MB/s eta 0:00:01\r\u001b[K     |█▌                              | 122kB 12.3MB/s eta 0:00:01\r\u001b[K     |█▋                              | 133kB 12.3MB/s eta 0:00:01\r\u001b[K     |█▊                              | 143kB 12.3MB/s eta 0:00:01\r\u001b[K     |█▉                              | 153kB 12.3MB/s eta 0:00:01\r\u001b[K     |██                              | 163kB 12.3MB/s eta 0:00:01\r\u001b[K     |██▏                             | 174kB 12.3MB/s eta 0:00:01\r\u001b[K     |██▎                             | 184kB 12.3MB/s eta 0:00:01\r\u001b[K     |██▍                             | 194kB 12.3MB/s eta 0:00:01\r\u001b[K     |██▌                             | 204kB 12.3MB/s eta 0:00:01\r\u001b[K     |██▋                             | 215kB 12.3MB/s eta 0:00:01\r\u001b[K     |██▊                             | 225kB 12.3MB/s eta 0:00:01\r\u001b[K     |██▉                             | 235kB 12.3MB/s eta 0:00:01\r\u001b[K     |███                             | 245kB 12.3MB/s eta 0:00:01\r\u001b[K     |███▏                            | 256kB 12.3MB/s eta 0:00:01\r\u001b[K     |███▎                            | 266kB 12.3MB/s eta 0:00:01\r\u001b[K     |███▍                            | 276kB 12.3MB/s eta 0:00:01\r\u001b[K     |███▌                            | 286kB 12.3MB/s eta 0:00:01\r\u001b[K     |███▋                            | 296kB 12.3MB/s eta 0:00:01\r\u001b[K     |███▊                            | 307kB 12.3MB/s eta 0:00:01\r\u001b[K     |███▉                            | 317kB 12.3MB/s eta 0:00:01\r\u001b[K     |████                            | 327kB 12.3MB/s eta 0:00:01\r\u001b[K     |████                            | 337kB 12.3MB/s eta 0:00:01\r\u001b[K     |████▎                           | 348kB 12.3MB/s eta 0:00:01\r\u001b[K     |████▍                           | 358kB 12.3MB/s eta 0:00:01\r\u001b[K     |████▌                           | 368kB 12.3MB/s eta 0:00:01\r\u001b[K     |████▋                           | 378kB 12.3MB/s eta 0:00:01\r\u001b[K     |████▊                           | 389kB 12.3MB/s eta 0:00:01\r\u001b[K     |████▉                           | 399kB 12.3MB/s eta 0:00:01\r\u001b[K     |█████                           | 409kB 12.3MB/s eta 0:00:01\r\u001b[K     |█████                           | 419kB 12.3MB/s eta 0:00:01\r\u001b[K     |█████▎                          | 430kB 12.3MB/s eta 0:00:01\r\u001b[K     |█████▍                          | 440kB 12.3MB/s eta 0:00:01\r\u001b[K     |█████▌                          | 450kB 12.3MB/s eta 0:00:01\r\u001b[K     |█████▋                          | 460kB 12.3MB/s eta 0:00:01\r\u001b[K     |█████▊                          | 471kB 12.3MB/s eta 0:00:01\r\u001b[K     |█████▉                          | 481kB 12.3MB/s eta 0:00:01\r\u001b[K     |██████                          | 491kB 12.3MB/s eta 0:00:01\r\u001b[K     |██████                          | 501kB 12.3MB/s eta 0:00:01\r\u001b[K     |██████▎                         | 512kB 12.3MB/s eta 0:00:01\r\u001b[K     |██████▍                         | 522kB 12.3MB/s eta 0:00:01\r\u001b[K     |██████▌                         | 532kB 12.3MB/s eta 0:00:01\r\u001b[K     |██████▋                         | 542kB 12.3MB/s eta 0:00:01\r\u001b[K     |██████▊                         | 552kB 12.3MB/s eta 0:00:01\r\u001b[K     |██████▉                         | 563kB 12.3MB/s eta 0:00:01\r\u001b[K     |███████                         | 573kB 12.3MB/s eta 0:00:01\r\u001b[K     |███████                         | 583kB 12.3MB/s eta 0:00:01\r\u001b[K     |███████▏                        | 593kB 12.3MB/s eta 0:00:01\r\u001b[K     |███████▍                        | 604kB 12.3MB/s eta 0:00:01\r\u001b[K     |███████▌                        | 614kB 12.3MB/s eta 0:00:01\r\u001b[K     |███████▋                        | 624kB 12.3MB/s eta 0:00:01\r\u001b[K     |███████▊                        | 634kB 12.3MB/s eta 0:00:01\r\u001b[K     |███████▉                        | 645kB 12.3MB/s eta 0:00:01\r\u001b[K     |████████                        | 655kB 12.3MB/s eta 0:00:01\r\u001b[K     |████████                        | 665kB 12.3MB/s eta 0:00:01\r\u001b[K     |████████▏                       | 675kB 12.3MB/s eta 0:00:01\r\u001b[K     |████████▍                       | 686kB 12.3MB/s eta 0:00:01\r\u001b[K     |████████▌                       | 696kB 12.3MB/s eta 0:00:01\r\u001b[K     |████████▋                       | 706kB 12.3MB/s eta 0:00:01\r\u001b[K     |████████▊                       | 716kB 12.3MB/s eta 0:00:01\r\u001b[K     |████████▉                       | 727kB 12.3MB/s eta 0:00:01\r\u001b[K     |█████████                       | 737kB 12.3MB/s eta 0:00:01\r\u001b[K     |█████████                       | 747kB 12.3MB/s eta 0:00:01\r\u001b[K     |█████████▏                      | 757kB 12.3MB/s eta 0:00:01\r\u001b[K     |█████████▍                      | 768kB 12.3MB/s eta 0:00:01\r\u001b[K     |█████████▌                      | 778kB 12.3MB/s eta 0:00:01\r\u001b[K     |█████████▋                      | 788kB 12.3MB/s eta 0:00:01\r\u001b[K     |█████████▊                      | 798kB 12.3MB/s eta 0:00:01\r\u001b[K     |█████████▉                      | 808kB 12.3MB/s eta 0:00:01\r\u001b[K     |██████████                      | 819kB 12.3MB/s eta 0:00:01\r\u001b[K     |██████████                      | 829kB 12.3MB/s eta 0:00:01\r\u001b[K     |██████████▏                     | 839kB 12.3MB/s eta 0:00:01\r\u001b[K     |██████████▎                     | 849kB 12.3MB/s eta 0:00:01\r\u001b[K     |██████████▌                     | 860kB 12.3MB/s eta 0:00:01\r\u001b[K     |██████████▋                     | 870kB 12.3MB/s eta 0:00:01\r\u001b[K     |██████████▊                     | 880kB 12.3MB/s eta 0:00:01\r\u001b[K     |██████████▉                     | 890kB 12.3MB/s eta 0:00:01\r\u001b[K     |███████████                     | 901kB 12.3MB/s eta 0:00:01\r\u001b[K     |███████████                     | 911kB 12.3MB/s eta 0:00:01\r\u001b[K     |███████████▏                    | 921kB 12.3MB/s eta 0:00:01\r\u001b[K     |███████████▎                    | 931kB 12.3MB/s eta 0:00:01\r\u001b[K     |███████████▌                    | 942kB 12.3MB/s eta 0:00:01\r\u001b[K     |███████████▋                    | 952kB 12.3MB/s eta 0:00:01\r\u001b[K     |███████████▊                    | 962kB 12.3MB/s eta 0:00:01\r\u001b[K     |███████████▉                    | 972kB 12.3MB/s eta 0:00:01\r\u001b[K     |████████████                    | 983kB 12.3MB/s eta 0:00:01\r\u001b[K     |████████████                    | 993kB 12.3MB/s eta 0:00:01\r\u001b[K     |████████████▏                   | 1.0MB 12.3MB/s eta 0:00:01\r\u001b[K     |████████████▎                   | 1.0MB 12.3MB/s eta 0:00:01\r\u001b[K     |████████████▌                   | 1.0MB 12.3MB/s eta 0:00:01\r\u001b[K     |████████████▋                   | 1.0MB 12.3MB/s eta 0:00:01\r\u001b[K     |████████████▊                   | 1.0MB 12.3MB/s eta 0:00:01\r\u001b[K     |████████████▉                   | 1.1MB 12.3MB/s eta 0:00:01\r\u001b[K     |█████████████                   | 1.1MB 12.3MB/s eta 0:00:01\r\u001b[K     |█████████████                   | 1.1MB 12.3MB/s eta 0:00:01\r\u001b[K     |█████████████▏                  | 1.1MB 12.3MB/s eta 0:00:01\r\u001b[K     |█████████████▎                  | 1.1MB 12.3MB/s eta 0:00:01\r\u001b[K     |█████████████▍                  | 1.1MB 12.3MB/s eta 0:00:01\r\u001b[K     |█████████████▋                  | 1.1MB 12.3MB/s eta 0:00:01\r\u001b[K     |█████████████▊                  | 1.1MB 12.3MB/s eta 0:00:01\r\u001b[K     |█████████████▉                  | 1.1MB 12.3MB/s eta 0:00:01\r\u001b[K     |██████████████                  | 1.1MB 12.3MB/s eta 0:00:01\r\u001b[K     |██████████████                  | 1.2MB 12.3MB/s eta 0:00:01\r\u001b[K     |██████████████▏                 | 1.2MB 12.3MB/s eta 0:00:01\r\u001b[K     |██████████████▎                 | 1.2MB 12.3MB/s eta 0:00:01\r\u001b[K     |██████████████▍                 | 1.2MB 12.3MB/s eta 0:00:01\r\u001b[K     |██████████████▋                 | 1.2MB 12.3MB/s eta 0:00:01\r\u001b[K     |██████████████▊                 | 1.2MB 12.3MB/s eta 0:00:01\r\u001b[K     |██████████████▉                 | 1.2MB 12.3MB/s eta 0:00:01\r\u001b[K     |███████████████                 | 1.2MB 12.3MB/s eta 0:00:01\r\u001b[K     |███████████████                 | 1.2MB 12.3MB/s eta 0:00:01\r\u001b[K     |███████████████▏                | 1.2MB 12.3MB/s eta 0:00:01\r\u001b[K     |███████████████▎                | 1.3MB 12.3MB/s eta 0:00:01\r\u001b[K     |███████████████▍                | 1.3MB 12.3MB/s eta 0:00:01\r\u001b[K     |███████████████▋                | 1.3MB 12.3MB/s eta 0:00:01\r\u001b[K     |███████████████▊                | 1.3MB 12.3MB/s eta 0:00:01\r\u001b[K     |███████████████▉                | 1.3MB 12.3MB/s eta 0:00:01\r\u001b[K     |████████████████                | 1.3MB 12.3MB/s eta 0:00:01\r\u001b[K     |████████████████                | 1.3MB 12.3MB/s eta 0:00:01\r\u001b[K     |████████████████▏               | 1.3MB 12.3MB/s eta 0:00:01\r\u001b[K     |████████████████▎               | 1.3MB 12.3MB/s eta 0:00:01\r\u001b[K     |████████████████▍               | 1.4MB 12.3MB/s eta 0:00:01\r\u001b[K     |████████████████▌               | 1.4MB 12.3MB/s eta 0:00:01\r\u001b[K     |████████████████▊               | 1.4MB 12.3MB/s eta 0:00:01\r\u001b[K     |████████████████▉               | 1.4MB 12.3MB/s eta 0:00:01\r\u001b[K     |█████████████████               | 1.4MB 12.3MB/s eta 0:00:01\r\u001b[K     |█████████████████               | 1.4MB 12.3MB/s eta 0:00:01\r\u001b[K     |█████████████████▏              | 1.4MB 12.3MB/s eta 0:00:01\r\u001b[K     |█████████████████▎              | 1.4MB 12.3MB/s eta 0:00:01\r\u001b[K     |█████████████████▍              | 1.4MB 12.3MB/s eta 0:00:01\r\u001b[K     |█████████████████▌              | 1.4MB 12.3MB/s eta 0:00:01\r\u001b[K     |█████████████████▊              | 1.5MB 12.3MB/s eta 0:00:01\r\u001b[K     |█████████████████▉              | 1.5MB 12.3MB/s eta 0:00:01\r\u001b[K     |██████████████████              | 1.5MB 12.3MB/s eta 0:00:01\r\u001b[K     |██████████████████              | 1.5MB 12.3MB/s eta 0:00:01\r\u001b[K     |██████████████████▏             | 1.5MB 12.3MB/s eta 0:00:01\r\u001b[K     |██████████████████▎             | 1.5MB 12.3MB/s eta 0:00:01\r\u001b[K     |██████████████████▍             | 1.5MB 12.3MB/s eta 0:00:01\r\u001b[K     |██████████████████▌             | 1.5MB 12.3MB/s eta 0:00:01\r\u001b[K     |██████████████████▊             | 1.5MB 12.3MB/s eta 0:00:01\r\u001b[K     |██████████████████▉             | 1.5MB 12.3MB/s eta 0:00:01\r\u001b[K     |███████████████████             | 1.6MB 12.3MB/s eta 0:00:01\r\u001b[K     |███████████████████             | 1.6MB 12.3MB/s eta 0:00:01\r\u001b[K     |███████████████████▏            | 1.6MB 12.3MB/s eta 0:00:01\r\u001b[K     |███████████████████▎            | 1.6MB 12.3MB/s eta 0:00:01\r\u001b[K     |███████████████████▍            | 1.6MB 12.3MB/s eta 0:00:01\r\u001b[K     |███████████████████▌            | 1.6MB 12.3MB/s eta 0:00:01\r\u001b[K     |███████████████████▋            | 1.6MB 12.3MB/s eta 0:00:01\r\u001b[K     |███████████████████▉            | 1.6MB 12.3MB/s eta 0:00:01\r\u001b[K     |████████████████████            | 1.6MB 12.3MB/s eta 0:00:01\r\u001b[K     |████████████████████            | 1.6MB 12.3MB/s eta 0:00:01\r\u001b[K     |████████████████████▏           | 1.7MB 12.3MB/s eta 0:00:01\r\u001b[K     |████████████████████▎           | 1.7MB 12.3MB/s eta 0:00:01\r\u001b[K     |████████████████████▍           | 1.7MB 12.3MB/s eta 0:00:01\r\u001b[K     |████████████████████▌           | 1.7MB 12.3MB/s eta 0:00:01\r\u001b[K     |████████████████████▋           | 1.7MB 12.3MB/s eta 0:00:01\r\u001b[K     |████████████████████▉           | 1.7MB 12.3MB/s eta 0:00:01\r\u001b[K     |█████████████████████           | 1.7MB 12.3MB/s eta 0:00:01\r\u001b[K     |█████████████████████           | 1.7MB 12.3MB/s eta 0:00:01\r\u001b[K     |█████████████████████▏          | 1.7MB 12.3MB/s eta 0:00:01\r\u001b[K     |█████████████████████▎          | 1.8MB 12.3MB/s eta 0:00:01\r\u001b[K     |█████████████████████▍          | 1.8MB 12.3MB/s eta 0:00:01\r\u001b[K     |█████████████████████▌          | 1.8MB 12.3MB/s eta 0:00:01\r\u001b[K     |█████████████████████▋          | 1.8MB 12.3MB/s eta 0:00:01\r\u001b[K     |█████████████████████▉          | 1.8MB 12.3MB/s eta 0:00:01\r\u001b[K     |██████████████████████          | 1.8MB 12.3MB/s eta 0:00:01\r\u001b[K     |██████████████████████          | 1.8MB 12.3MB/s eta 0:00:01\r\u001b[K     |██████████████████████▏         | 1.8MB 12.3MB/s eta 0:00:01\r\u001b[K     |██████████████████████▎         | 1.8MB 12.3MB/s eta 0:00:01\r\u001b[K     |██████████████████████▍         | 1.8MB 12.3MB/s eta 0:00:01\r\u001b[K     |██████████████████████▌         | 1.9MB 12.3MB/s eta 0:00:01\r\u001b[K     |██████████████████████▋         | 1.9MB 12.3MB/s eta 0:00:01\r\u001b[K     |██████████████████████▊         | 1.9MB 12.3MB/s eta 0:00:01\r\u001b[K     |███████████████████████         | 1.9MB 12.3MB/s eta 0:00:01\r\u001b[K     |███████████████████████         | 1.9MB 12.3MB/s eta 0:00:01\r\u001b[K     |███████████████████████▏        | 1.9MB 12.3MB/s eta 0:00:01\r\u001b[K     |███████████████████████▎        | 1.9MB 12.3MB/s eta 0:00:01\r\u001b[K     |███████████████████████▍        | 1.9MB 12.3MB/s eta 0:00:01\r\u001b[K     |███████████████████████▌        | 1.9MB 12.3MB/s eta 0:00:01\r\u001b[K     |███████████████████████▋        | 1.9MB 12.3MB/s eta 0:00:01\r\u001b[K     |███████████████████████▊        | 2.0MB 12.3MB/s eta 0:00:01\r\u001b[K     |████████████████████████        | 2.0MB 12.3MB/s eta 0:00:01\r\u001b[K     |████████████████████████        | 2.0MB 12.3MB/s eta 0:00:01\r\u001b[K     |████████████████████████▏       | 2.0MB 12.3MB/s eta 0:00:01\r\u001b[K     |████████████████████████▎       | 2.0MB 12.3MB/s eta 0:00:01\r\u001b[K     |████████████████████████▍       | 2.0MB 12.3MB/s eta 0:00:01\r\u001b[K     |████████████████████████▌       | 2.0MB 12.3MB/s eta 0:00:01\r\u001b[K     |████████████████████████▋       | 2.0MB 12.3MB/s eta 0:00:01\r\u001b[K     |████████████████████████▊       | 2.0MB 12.3MB/s eta 0:00:01\r\u001b[K     |█████████████████████████       | 2.0MB 12.3MB/s eta 0:00:01\r\u001b[K     |█████████████████████████       | 2.1MB 12.3MB/s eta 0:00:01\r\u001b[K     |█████████████████████████▏      | 2.1MB 12.3MB/s eta 0:00:01\r\u001b[K     |█████████████████████████▎      | 2.1MB 12.3MB/s eta 0:00:01\r\u001b[K     |█████████████████████████▍      | 2.1MB 12.3MB/s eta 0:00:01\r\u001b[K     |█████████████████████████▌      | 2.1MB 12.3MB/s eta 0:00:01\r\u001b[K     |█████████████████████████▋      | 2.1MB 12.3MB/s eta 0:00:01\r\u001b[K     |█████████████████████████▊      | 2.1MB 12.3MB/s eta 0:00:01\r\u001b[K     |██████████████████████████      | 2.1MB 12.3MB/s eta 0:00:01\r\u001b[K     |██████████████████████████      | 2.1MB 12.3MB/s eta 0:00:01\r\u001b[K     |██████████████████████████▏     | 2.2MB 12.3MB/s eta 0:00:01\r\u001b[K     |██████████████████████████▎     | 2.2MB 12.3MB/s eta 0:00:01\r\u001b[K     |██████████████████████████▍     | 2.2MB 12.3MB/s eta 0:00:01\r\u001b[K     |██████████████████████████▌     | 2.2MB 12.3MB/s eta 0:00:01\r\u001b[K     |██████████████████████████▋     | 2.2MB 12.3MB/s eta 0:00:01\r\u001b[K     |██████████████████████████▊     | 2.2MB 12.3MB/s eta 0:00:01\r\u001b[K     |██████████████████████████▉     | 2.2MB 12.3MB/s eta 0:00:01\r\u001b[K     |███████████████████████████     | 2.2MB 12.3MB/s eta 0:00:01\r\u001b[K     |███████████████████████████▏    | 2.2MB 12.3MB/s eta 0:00:01\r\u001b[K     |███████████████████████████▎    | 2.2MB 12.3MB/s eta 0:00:01\r\u001b[K     |███████████████████████████▍    | 2.3MB 12.3MB/s eta 0:00:01\r\u001b[K     |███████████████████████████▌    | 2.3MB 12.3MB/s eta 0:00:01\r\u001b[K     |███████████████████████████▋    | 2.3MB 12.3MB/s eta 0:00:01\r\u001b[K     |███████████████████████████▊    | 2.3MB 12.3MB/s eta 0:00:01\r\u001b[K     |███████████████████████████▉    | 2.3MB 12.3MB/s eta 0:00:01\r\u001b[K     |████████████████████████████    | 2.3MB 12.3MB/s eta 0:00:01\r\u001b[K     |████████████████████████████▏   | 2.3MB 12.3MB/s eta 0:00:01\r\u001b[K     |████████████████████████████▎   | 2.3MB 12.3MB/s eta 0:00:01\r\u001b[K     |████████████████████████████▍   | 2.3MB 12.3MB/s eta 0:00:01\r\u001b[K     |████████████████████████████▌   | 2.3MB 12.3MB/s eta 0:00:01\r\u001b[K     |████████████████████████████▋   | 2.4MB 12.3MB/s eta 0:00:01\r\u001b[K     |████████████████████████████▊   | 2.4MB 12.3MB/s eta 0:00:01\r\u001b[K     |████████████████████████████▉   | 2.4MB 12.3MB/s eta 0:00:01\r\u001b[K     |█████████████████████████████   | 2.4MB 12.3MB/s eta 0:00:01\r\u001b[K     |█████████████████████████████▏  | 2.4MB 12.3MB/s eta 0:00:01\r\u001b[K     |█████████████████████████████▎  | 2.4MB 12.3MB/s eta 0:00:01\r\u001b[K     |█████████████████████████████▍  | 2.4MB 12.3MB/s eta 0:00:01\r\u001b[K     |█████████████████████████████▌  | 2.4MB 12.3MB/s eta 0:00:01\r\u001b[K     |█████████████████████████████▋  | 2.4MB 12.3MB/s eta 0:00:01\r\u001b[K     |█████████████████████████████▊  | 2.4MB 12.3MB/s eta 0:00:01\r\u001b[K     |█████████████████████████████▉  | 2.5MB 12.3MB/s eta 0:00:01\r\u001b[K     |██████████████████████████████  | 2.5MB 12.3MB/s eta 0:00:01\r\u001b[K     |██████████████████████████████▏ | 2.5MB 12.3MB/s eta 0:00:01\r\u001b[K     |██████████████████████████████▎ | 2.5MB 12.3MB/s eta 0:00:01\r\u001b[K     |██████████████████████████████▍ | 2.5MB 12.3MB/s eta 0:00:01\r\u001b[K     |██████████████████████████████▌ | 2.5MB 12.3MB/s eta 0:00:01\r\u001b[K     |██████████████████████████████▋ | 2.5MB 12.3MB/s eta 0:00:01\r\u001b[K     |██████████████████████████████▊ | 2.5MB 12.3MB/s eta 0:00:01\r\u001b[K     |██████████████████████████████▉ | 2.5MB 12.3MB/s eta 0:00:01\r\u001b[K     |███████████████████████████████ | 2.5MB 12.3MB/s eta 0:00:01\r\u001b[K     |███████████████████████████████▏| 2.6MB 12.3MB/s eta 0:00:01\r\u001b[K     |███████████████████████████████▎| 2.6MB 12.3MB/s eta 0:00:01\r\u001b[K     |███████████████████████████████▍| 2.6MB 12.3MB/s eta 0:00:01\r\u001b[K     |███████████████████████████████▌| 2.6MB 12.3MB/s eta 0:00:01\r\u001b[K     |███████████████████████████████▋| 2.6MB 12.3MB/s eta 0:00:01\r\u001b[K     |███████████████████████████████▊| 2.6MB 12.3MB/s eta 0:00:01\r\u001b[K     |███████████████████████████████▉| 2.6MB 12.3MB/s eta 0:00:01\r\u001b[K     |████████████████████████████████| 2.6MB 12.3MB/s eta 0:00:01\r\u001b[K     |████████████████████████████████| 2.6MB 12.3MB/s \n",
            "\u001b[?25h"
          ],
          "name": "stdout"
        }
      ]
    },
    {
      "cell_type": "code",
      "metadata": {
        "id": "PihQwFJbC4Mh",
        "outputId": "a28731a7-17fc-4e46-a0d0-97365b1be235",
        "colab": {
          "base_uri": "https://localhost:8080/"
        }
      },
      "source": [
        "import collections\n",
        "import pathlib\n",
        "import re\n",
        "import string\n",
        "\n",
        "import tensorflow as tf\n",
        "import tensorflow_datasets as tfds\n",
        "import tensorflow_text as tf_text\n",
        "\n",
        "from tensorflow.keras import layers\n",
        "from tensorflow.keras import losses\n",
        "from tensorflow.keras import preprocessing\n",
        "from tensorflow.keras import utils\n",
        "from tensorflow.keras import utils\n",
        "from tensorflow.keras.layers.experimental.preprocessing import TextVectorization\n",
        "\n",
        "tf.__version__, tfds.__version__"
      ],
      "execution_count": 2,
      "outputs": [
        {
          "output_type": "execute_result",
          "data": {
            "text/plain": [
              "('2.3.0', '4.0.1')"
            ]
          },
          "metadata": {
            "tags": []
          },
          "execution_count": 2
        }
      ]
    },
    {
      "cell_type": "markdown",
      "metadata": {
        "id": "SJkyqOTrGT0x"
      },
      "source": [
        "## Predict the tag for a Stack Overflow question"
      ]
    },
    {
      "cell_type": "code",
      "metadata": {
        "id": "FvbL46Z0FHGj",
        "outputId": "3b68879a-2a48-4ba5-bc0d-492e43463e2b",
        "colab": {
          "base_uri": "https://localhost:8080/"
        }
      },
      "source": [
        "data_url = 'https://storage.googleapis.com/download.tensorflow.org/data/stack_overflow_16k.tar.gz'\n",
        "dataset = utils.get_file(\n",
        "    'stack_overflow_16k.tar.gz',\n",
        "    data_url,\n",
        "    untar=True,\n",
        "    cache_dir='stack_overflow',\n",
        "    cache_subdir=''\n",
        ")\n",
        "dataset_dir = pathlib.Path(dataset).parent\n",
        "dataset_dir, pathlib.Path(dataset)"
      ],
      "execution_count": 3,
      "outputs": [
        {
          "output_type": "stream",
          "text": [
            "Downloading data from https://storage.googleapis.com/download.tensorflow.org/data/stack_overflow_16k.tar.gz\n",
            "6053888/6053168 [==============================] - 0s 0us/step\n"
          ],
          "name": "stdout"
        },
        {
          "output_type": "execute_result",
          "data": {
            "text/plain": [
              "(PosixPath('/tmp/.keras'), PosixPath('/tmp/.keras/stack_overflow_16k.tar.gz'))"
            ]
          },
          "metadata": {
            "tags": []
          },
          "execution_count": 3
        }
      ]
    },
    {
      "cell_type": "code",
      "metadata": {
        "id": "QrnshUv9GSEU",
        "outputId": "dd1709da-949d-4855-f887-209c4fca5a60",
        "colab": {
          "base_uri": "https://localhost:8080/"
        }
      },
      "source": [
        "list(dataset_dir.iterdir())"
      ],
      "execution_count": 4,
      "outputs": [
        {
          "output_type": "execute_result",
          "data": {
            "text/plain": [
              "[PosixPath('/tmp/.keras/train'),\n",
              " PosixPath('/tmp/.keras/README.md'),\n",
              " PosixPath('/tmp/.keras/test'),\n",
              " PosixPath('/tmp/.keras/stack_overflow_16k.tar.gz.tar.gz')]"
            ]
          },
          "metadata": {
            "tags": []
          },
          "execution_count": 4
        }
      ]
    },
    {
      "cell_type": "code",
      "metadata": {
        "id": "sP11js0sGSJ1",
        "outputId": "01936b5d-91e4-47c2-c06f-d9e378999ce6",
        "colab": {
          "base_uri": "https://localhost:8080/"
        }
      },
      "source": [
        "train_dir = dataset_dir/'train'\n",
        "list(train_dir.iterdir())"
      ],
      "execution_count": 5,
      "outputs": [
        {
          "output_type": "execute_result",
          "data": {
            "text/plain": [
              "[PosixPath('/tmp/.keras/train/python'),\n",
              " PosixPath('/tmp/.keras/train/csharp'),\n",
              " PosixPath('/tmp/.keras/train/javascript'),\n",
              " PosixPath('/tmp/.keras/train/java')]"
            ]
          },
          "metadata": {
            "tags": []
          },
          "execution_count": 5
        }
      ]
    },
    {
      "cell_type": "markdown",
      "metadata": {
        "id": "KRJs0cyXISj1"
      },
      "source": [
        "The `train/csharp`, `train/java`, `train/python`, and `train/javascript` directories contain many text files, each of wich is Stack Overflow question. Print a file and inspect the data."
      ]
    },
    {
      "cell_type": "code",
      "metadata": {
        "id": "kYvH4eB-GSMt",
        "outputId": "fd651e5a-9e8e-47e1-8602-d4745673f7b5",
        "colab": {
          "base_uri": "https://localhost:8080/"
        }
      },
      "source": [
        "sample_file = train_dir/'python/1757.txt'\n",
        "with open(sample_file) as f:\n",
        "  print(f.read())"
      ],
      "execution_count": 6,
      "outputs": [
        {
          "output_type": "stream",
          "text": [
            "\"i want to return a specific list when i have a collection of lists i want to return a specific list, when i have a collection of lists, but i am not to sure how to do this. i tried this approach but it didn't work. any ideas..this_list1 = [2,3,4,5].this_list2 = [5,6,9,8]..x = input(\"\"which list do you want\"\")..print this_list(x)\"\n",
            "\n"
          ],
          "name": "stdout"
        }
      ]
    },
    {
      "cell_type": "markdown",
      "metadata": {
        "id": "NweuvvvIJpal"
      },
      "source": [
        "## Load the dataset\n",
        "\n",
        "Next, we will load the data off disk and prepare it into a format suitable for training. To do so, you will use `text_dataset_from_directory` utility to create a labeled `tf.data.Dataset`.\n",
        "\n",
        "The `preprocessing.text_dataset_from_directory` expects a directory structure as follows.\n",
        "\n",
        "```\n",
        "train/\n",
        "...csharp/\n",
        "......1.txt\n",
        "......2.txt\n",
        "...java/\n",
        "......1.txt\n",
        "......2.txt\n",
        "...javascript/\n",
        "......1.txt\n",
        "......2.txt\n",
        "...python/\n",
        "......1.txt\n",
        "......2.txt\n"
      ]
    },
    {
      "cell_type": "markdown",
      "metadata": {
        "id": "KE_vy8MKKnjM"
      },
      "source": [
        "When running a machine learning experiment, it is a best practice to divide your dataset into three splits: train, validation and test. Test Stack Overflow has already been divided into train and test, but it lack a validation set. Create a validation set using a 80:20 split of the training data by using the `validation_split` argument below.\n"
      ]
    },
    {
      "cell_type": "code",
      "metadata": {
        "id": "YTCVSQKvGSHF",
        "outputId": "71b68b59-835a-4d9b-ef39-7d4462e6356e",
        "colab": {
          "base_uri": "https://localhost:8080/"
        }
      },
      "source": [
        "batch_size = 32\n",
        "seed = 42\n",
        "\n",
        "raw_train_ds = preprocessing.text_dataset_from_directory(\n",
        "    train_dir,\n",
        "    batch_size=batch_size,\n",
        "    validation_split=0.2,\n",
        "    subset='training',\n",
        "    seed=seed    \n",
        ")"
      ],
      "execution_count": 7,
      "outputs": [
        {
          "output_type": "stream",
          "text": [
            "Found 8000 files belonging to 4 classes.\n",
            "Using 6400 files for training.\n"
          ],
          "name": "stdout"
        }
      ]
    },
    {
      "cell_type": "markdown",
      "metadata": {
        "id": "Fr4rsQhONNka"
      },
      "source": [
        "As you can see above, there are 8,000 examples in the training folder, of which you will use 80% (or 6,400) for training. As you will see in a moment, you can train a model by passing a `tf.data.Dataset` directly to `model.fit`. First, iterate over the dataset and print out a few examples, to get a feel for the data.\n",
        "\n",
        "Note: To increase the difficulty of the classification problem, the dataset author replaced occurrences of the words *Python*, *CSharp*, *JavaScript*, or *Java* in the programming question with the word *blank*."
      ]
    },
    {
      "cell_type": "code",
      "metadata": {
        "id": "dfJmyx_CGSBR",
        "outputId": "14d1ff3e-1e96-4234-9c6c-c5013f40a4a3",
        "colab": {
          "base_uri": "https://localhost:8080/"
        }
      },
      "source": [
        "for text_batch, label_batch in raw_train_ds.take(1):\n",
        "  for i in range(10):\n",
        "    print('Question:', text_batch.numpy()[i][:100], '...')\n",
        "    print('Label:', label_batch.numpy()[i])"
      ],
      "execution_count": 8,
      "outputs": [
        {
          "output_type": "stream",
          "text": [
            "Question: b'\"my tester is going to the wrong constructor i am new to programming so if i ask a question that can' ...\n",
            "Label: 1\n",
            "Question: b'\"blank code slow skin detection this code changes the color space to lab and using a threshold finds' ...\n",
            "Label: 3\n",
            "Question: b'\"option and validation in blank i want to add a new option on my system where i want to add two text' ...\n",
            "Label: 1\n",
            "Question: b'\"exception: dynamic sql generation for the updatecommand is not supported against a selectcommand th' ...\n",
            "Label: 0\n",
            "Question: b'\"parameter with question mark and super in blank, i\\'ve come across a method that is formatted like t' ...\n",
            "Label: 1\n",
            "Question: b'call two objects wsdl the first time i got a very strange wsdl. ..i would like to call the object (i' ...\n",
            "Label: 0\n",
            "Question: b'how to correctly make the icon for systemtray in blank using icon sizes of any dimension for systemt' ...\n",
            "Label: 0\n",
            "Question: b'\"is there a way to check a variable that exists in a different script than the original one? i\\'m try' ...\n",
            "Label: 3\n",
            "Question: b'\"blank control flow i made a number which asks for 2 numbers with blank and responds with  the corre' ...\n",
            "Label: 0\n",
            "Question: b'\"credentials cannot be used for ntlm authentication i am getting org.apache.commons.httpclient.auth.' ...\n",
            "Label: 1\n"
          ],
          "name": "stdout"
        }
      ]
    },
    {
      "cell_type": "markdown",
      "metadata": {
        "id": "hrcIgCNSOMN2"
      },
      "source": [
        "The labels are `0`, `1`, `2` or `3`. To see which of these correspond to which string label, you can check the `class_names` property on the dataset."
      ]
    },
    {
      "cell_type": "code",
      "metadata": {
        "id": "B0i9QZRkNj2V",
        "outputId": "aafcbc98-18ed-49d4-c58c-3e20ca4466ae",
        "colab": {
          "base_uri": "https://localhost:8080/"
        }
      },
      "source": [
        "for i, label in enumerate(raw_train_ds.class_names):\n",
        "  print('Label', i, 'corresponds to', label)"
      ],
      "execution_count": 9,
      "outputs": [
        {
          "output_type": "stream",
          "text": [
            "Label 0 corresponds to csharp\n",
            "Label 1 corresponds to java\n",
            "Label 2 corresponds to javascript\n",
            "Label 3 corresponds to python\n"
          ],
          "name": "stdout"
        }
      ]
    },
    {
      "cell_type": "code",
      "metadata": {
        "id": "gIsCv1UHOnL8",
        "outputId": "2f455cd3-4509-4e3b-d030-2a2d585a819a",
        "colab": {
          "base_uri": "https://localhost:8080/"
        }
      },
      "source": [
        "raw_train_ds.class_names"
      ],
      "execution_count": 10,
      "outputs": [
        {
          "output_type": "execute_result",
          "data": {
            "text/plain": [
              "['csharp', 'java', 'javascript', 'python']"
            ]
          },
          "metadata": {
            "tags": []
          },
          "execution_count": 10
        }
      ]
    },
    {
      "cell_type": "code",
      "metadata": {
        "id": "0WtrRZ0HOnRo",
        "outputId": "3d953ffb-086d-4a54-f1ee-7b394e07507f",
        "colab": {
          "base_uri": "https://localhost:8080/"
        }
      },
      "source": [
        "raw_val_ds = preprocessing.text_dataset_from_directory(\n",
        "    train_dir,\n",
        "    batch_size=batch_size,\n",
        "    validation_split=0.2,\n",
        "    subset='validation',\n",
        "    seed=seed\n",
        ")"
      ],
      "execution_count": 11,
      "outputs": [
        {
          "output_type": "stream",
          "text": [
            "Found 8000 files belonging to 4 classes.\n",
            "Using 1600 files for validation.\n"
          ],
          "name": "stdout"
        }
      ]
    },
    {
      "cell_type": "code",
      "metadata": {
        "id": "48XxrVKsOnXn",
        "outputId": "4fd87d8d-1aa1-4c09-e64b-a05a7105142b",
        "colab": {
          "base_uri": "https://localhost:8080/"
        }
      },
      "source": [
        "test_dir = dataset_dir/'test'\n",
        "raw_test_ds = preprocessing.text_dataset_from_directory(\n",
        "    test_dir,\n",
        "    batch_size=batch_size\n",
        ")"
      ],
      "execution_count": 12,
      "outputs": [
        {
          "output_type": "stream",
          "text": [
            "Found 8000 files belonging to 4 classes.\n"
          ],
          "name": "stdout"
        }
      ]
    },
    {
      "cell_type": "markdown",
      "metadata": {
        "id": "0_7SfXDGophp"
      },
      "source": [
        "Next, you will standardize, tokenize, and vectorize the data using the `preprocessing.TextVectorization` layer.\n",
        "* Standardization refers to preprocessing the text, typically to remove punctuation or HTML elements to simplify the dataset.\n",
        "\n",
        "* Tokenization refers to splitting strings into tokens (for example, splitting a sentence into individual words by splitting on whitespace).\n",
        "\n",
        "* Vectorization refers to converting tokens into numbers so they can be fed into a neural network.\n",
        "\n",
        "All of these tasks can be accomplished with this layer. You can learn more about each of these in the [API doc](https://www.tensorflow.org/api_docs/python/tf/keras/layers/experimental/preprocessing/TextVectorization).\n",
        "\n",
        "* The default standardization converts text to lowercase and removes punctuation.\n",
        "\n",
        "* The default tokenizer splits on whitespace.\n",
        "\n",
        "* The default vectorization mode is `int`. This outputs integer indices (one per token). This mode can be used to build models that take word order into account. You can also use other modes, like `binary`, to build bag-of-word models.\n",
        "\n",
        "\n",
        "You will build two modes to learn more about these. First, you will use the `binary` model to build a bag-of-words model. Next, you will use the `int` mode with a 1D ConvNet."
      ]
    },
    {
      "cell_type": "code",
      "metadata": {
        "id": "erKaDD0gOndJ"
      },
      "source": [
        "VOCAB_SIZE=10000\n",
        "\n",
        "binary_vectorize_layer = TextVectorization(\n",
        "    max_tokens=VOCAB_SIZE,\n",
        "    output_mode='binary'\n",
        ")"
      ],
      "execution_count": 13,
      "outputs": []
    },
    {
      "cell_type": "markdown",
      "metadata": {
        "id": "dFgHA-G3pJs7"
      },
      "source": [
        "For `int` mode, in addition to maximum vocabulary size, you need to set an explicit maximum sequence length, which will cause the layer to pad or truncate sequences to exactly sequence_length values."
      ]
    },
    {
      "cell_type": "code",
      "metadata": {
        "id": "NKWPRHjZOnjC"
      },
      "source": [
        "MAX_SEQUENCE_LENGHT = 250\n",
        "\n",
        "int_vectorize_layer = TextVectorization(\n",
        "    max_tokens=VOCAB_SIZE,\n",
        "    output_mode='int',\n",
        "    output_sequence_length=MAX_SEQUENCE_LENGHT\n",
        ")"
      ],
      "execution_count": 14,
      "outputs": []
    },
    {
      "cell_type": "markdown",
      "metadata": {
        "id": "BXednOCRqOsG"
      },
      "source": [
        "Next, you will call adapt to fit the state of the preprocessing layer to the dataset. This will cause the model to build an index of strings to integers.\n",
        "\n",
        "Note: it's important to only use your training data when calling adapt (using the test set would leak information)."
      ]
    },
    {
      "cell_type": "code",
      "metadata": {
        "id": "2JSsQYgyOnmF"
      },
      "source": [
        "# make a text-only dataset (without labels), then call adapt\n",
        "train_text = raw_train_ds.map(lambda text, labels: text)\n",
        "binary_vectorize_layer.adapt(train_text)\n",
        "int_vectorize_layer.adapt(train_text)"
      ],
      "execution_count": 15,
      "outputs": []
    },
    {
      "cell_type": "markdown",
      "metadata": {
        "id": "TWqxMToUq0ZB"
      },
      "source": [
        "See the results of using these layers to process data:"
      ]
    },
    {
      "cell_type": "code",
      "metadata": {
        "id": "Qc5GVpAlOngK"
      },
      "source": [
        "def binary_vectorize_text(text, label):\n",
        "  text = tf.expand_dims(text, -1)\n",
        "  return binary_vectorize_layer(text), label"
      ],
      "execution_count": 16,
      "outputs": []
    },
    {
      "cell_type": "code",
      "metadata": {
        "id": "w_ZlaDUJOnai"
      },
      "source": [
        "def int_vectorize_text(text, label):\n",
        "  text = tf.expand_dims(text, -1)\n",
        "  return int_vectorize_layer(text), label"
      ],
      "execution_count": 17,
      "outputs": []
    },
    {
      "cell_type": "code",
      "metadata": {
        "id": "hynx2d9wOnUr",
        "outputId": "b3b7700f-ac0d-4d80-f7d1-8e85f9330c6d",
        "colab": {
          "base_uri": "https://localhost:8080/"
        }
      },
      "source": [
        "# retrieve a batch (of 32 reviews and labels) from the dataset\n",
        "text_batch, label_batch = next(iter(raw_train_ds))\n",
        "first_question, first_label = text_batch[0], label_batch[0]\n",
        "print('question:', first_question)\n",
        "print('label:', first_label)"
      ],
      "execution_count": 18,
      "outputs": [
        {
          "output_type": "stream",
          "text": [
            "question: tf.Tensor(b'\"function expected error in blank for dynamically created check box when it is clicked i want to grab the attribute value.it is working in ie 8,9,10 but not working in ie 11,chrome shows function expected error..&lt;input type=checkbox checked=\\'checked\\' id=\\'symptomfailurecodeid\\' tabindex=\\'54\\' style=\\'cursor:pointer;\\' onclick=chkclickevt(this);  failurecodeid=\"\"1\"\" &gt;...function chkclickevt(obj) { .    alert(obj.attributes(\"\"failurecodeid\"\"));.}\"\\n', shape=(), dtype=string)\n",
            "label: tf.Tensor(2, shape=(), dtype=int32)\n"
          ],
          "name": "stdout"
        }
      ]
    },
    {
      "cell_type": "code",
      "metadata": {
        "id": "P7AEPgtGOnO3",
        "outputId": "c6fb2fc0-27aa-4b76-a0e0-26f9259ad389",
        "colab": {
          "base_uri": "https://localhost:8080/"
        }
      },
      "source": [
        "print('binary vectorized question:', binary_vectorize_text(first_question, first_label)[0])"
      ],
      "execution_count": 19,
      "outputs": [
        {
          "output_type": "stream",
          "text": [
            "binary vectorized question: tf.Tensor([[1. 1. 1. ... 0. 0. 0.]], shape=(1, 10000), dtype=float32)\n"
          ],
          "name": "stdout"
        }
      ]
    },
    {
      "cell_type": "code",
      "metadata": {
        "id": "asuqfy5iOnIr",
        "outputId": "c80c9665-82a1-4915-a931-b853813a1273",
        "colab": {
          "base_uri": "https://localhost:8080/"
        }
      },
      "source": [
        "print('int vectorized question:', int_vectorize_text(first_question, first_label)[0])"
      ],
      "execution_count": 20,
      "outputs": [
        {
          "output_type": "stream",
          "text": [
            "int vectorized question: tf.Tensor(\n",
            "[[  38  450   65    7   16   12  892  265  186  451   44   11    6  685\n",
            "     3   46    4 2062    2  485    1    6  158    7  479    1   26   20\n",
            "   158    7  479    1  502   38  450    1 1767 1763    1    1    1    1\n",
            "     1    1    1    1    0    0    0    0    0    0    0    0    0    0\n",
            "     0    0    0    0    0    0    0    0    0    0    0    0    0    0\n",
            "     0    0    0    0    0    0    0    0    0    0    0    0    0    0\n",
            "     0    0    0    0    0    0    0    0    0    0    0    0    0    0\n",
            "     0    0    0    0    0    0    0    0    0    0    0    0    0    0\n",
            "     0    0    0    0    0    0    0    0    0    0    0    0    0    0\n",
            "     0    0    0    0    0    0    0    0    0    0    0    0    0    0\n",
            "     0    0    0    0    0    0    0    0    0    0    0    0    0    0\n",
            "     0    0    0    0    0    0    0    0    0    0    0    0    0    0\n",
            "     0    0    0    0    0    0    0    0    0    0    0    0    0    0\n",
            "     0    0    0    0    0    0    0    0    0    0    0    0    0    0\n",
            "     0    0    0    0    0    0    0    0    0    0    0    0    0    0\n",
            "     0    0    0    0    0    0    0    0    0    0    0    0    0    0\n",
            "     0    0    0    0    0    0    0    0    0    0    0    0    0    0\n",
            "     0    0    0    0    0    0    0    0    0    0    0    0]], shape=(1, 250), dtype=int64)\n"
          ],
          "name": "stdout"
        }
      ]
    },
    {
      "cell_type": "markdown",
      "metadata": {
        "id": "GX5fPEos-HMR"
      },
      "source": [
        "As you can see above, `binary` mode returns an array denoting which tokens exist at least once in the input, while `int` mode replaces each token by an integer, thus preserving their order. You can lookup the token (string) that each integer corresponds to by calling `.get_vocabulary()` on the layer."
      ]
    },
    {
      "cell_type": "code",
      "metadata": {
        "id": "Ukk2FOCd-IyY",
        "outputId": "6f19ca6b-311f-4031-f87e-3e076eba644c",
        "colab": {
          "base_uri": "https://localhost:8080/"
        }
      },
      "source": [
        "print('1289 --->', int_vectorize_layer.get_vocabulary()[1289])\n",
        "print('2200 --->', int_vectorize_layer.get_vocabulary()[2200])\n",
        "print(f'Vocabulary size: {len(int_vectorize_layer.get_vocabulary())}')"
      ],
      "execution_count": 21,
      "outputs": [
        {
          "output_type": "stream",
          "text": [
            "1289 ---> roman\n",
            "2200 ---> desktop\n",
            "Vocabulary size: 10000\n"
          ],
          "name": "stdout"
        }
      ]
    },
    {
      "cell_type": "markdown",
      "metadata": {
        "id": "BXnPkuYm_CaW"
      },
      "source": [
        "You are nearly ready to train your model. As a final preprocessing step, you will apply the `TextVectorization` layers you created earlier to the train, validation, and test dataset."
      ]
    },
    {
      "cell_type": "code",
      "metadata": {
        "id": "vRY6vGzw-JQG"
      },
      "source": [
        "binary_train_ds = raw_train_ds.map(binary_vectorize_text)\n",
        "binary_val_ds = raw_val_ds.map(binary_vectorize_text)\n",
        "binary_test_ds = raw_test_ds.map(binary_vectorize_text)\n",
        "\n",
        "int_train_ds = raw_train_ds.map(int_vectorize_text)\n",
        "int_val_ds = raw_val_ds.map(int_vectorize_text)\n",
        "int_test_ds = raw_test_ds.map(int_vectorize_text)\n"
      ],
      "execution_count": 22,
      "outputs": []
    },
    {
      "cell_type": "markdown",
      "metadata": {
        "id": "bGWj2Qw8AYyw"
      },
      "source": [
        ""
      ]
    },
    {
      "cell_type": "markdown",
      "metadata": {
        "id": "e0EyJXn1ApT6"
      },
      "source": [
        "### Configure the dataset for performance\n",
        "\n",
        "These are two important methods you should use when loading data to make sure that I/O does not become blocking.\n",
        "\n",
        "`.cache()` keeps data in memory after it's loaded off disk. This will ensure the dataset does not become a bottleneck while training your model. If your dataset is too large to fit into memory, you can also use this method to create a performant on-disk cache, which is more efficient to read than many small files.\n",
        "\n",
        "`.prefetch()` overlaps data preprocessing and model execution while training. \n"
      ]
    },
    {
      "cell_type": "code",
      "metadata": {
        "id": "QJT7xdwW-IBB"
      },
      "source": [
        "AUTOTUNE = tf.data.experimental.AUTOTUNE\n",
        "\n",
        "def configure_dataset(dataset):\n",
        "  return dataset.cache().prefetch(buffer_size=AUTOTUNE)"
      ],
      "execution_count": 23,
      "outputs": []
    },
    {
      "cell_type": "code",
      "metadata": {
        "id": "NAksbV4BA5Fw"
      },
      "source": [
        "binary_train_ds = configure_dataset(binary_train_ds)\n",
        "binary_val_ds = configure_dataset(binary_val_ds)\n",
        "binary_test_ds = configure_dataset(binary_test_ds)\n",
        "\n",
        "int_train_ds = configure_dataset(int_train_ds)\n",
        "int_val_ds = configure_dataset(int_val_ds)\n",
        "int_test_ds = configure_dataset(int_test_ds)"
      ],
      "execution_count": 24,
      "outputs": []
    },
    {
      "cell_type": "code",
      "metadata": {
        "id": "OznDOEHMBbfw",
        "outputId": "59e20d44-3d99-41c7-9a58-5a782978e902",
        "colab": {
          "base_uri": "https://localhost:8080/"
        }
      },
      "source": [
        "binary_model = tf.keras.Sequential([layers.Dense(4)])\n",
        "binary_model.compile(\n",
        "    loss=losses.SparseCategoricalCrossentropy(from_logits=True),\n",
        "    optimizer='adam',\n",
        "    metrics=['accuracy']\n",
        ")\n",
        "history = binary_model.fit(\n",
        "    binary_train_ds,\n",
        "    validation_data=binary_val_ds,\n",
        "    epochs=10\n",
        ")"
      ],
      "execution_count": 25,
      "outputs": [
        {
          "output_type": "stream",
          "text": [
            "Epoch 1/10\n",
            "200/200 [==============================] - 3s 13ms/step - loss: 1.1125 - accuracy: 0.6473 - val_loss: 0.9102 - val_accuracy: 0.7750\n",
            "Epoch 2/10\n",
            "200/200 [==============================] - 1s 3ms/step - loss: 0.7756 - accuracy: 0.8197 - val_loss: 0.7479 - val_accuracy: 0.7981\n",
            "Epoch 3/10\n",
            "200/200 [==============================] - 1s 3ms/step - loss: 0.6253 - accuracy: 0.8616 - val_loss: 0.6629 - val_accuracy: 0.8138\n",
            "Epoch 4/10\n",
            "200/200 [==============================] - 1s 3ms/step - loss: 0.5324 - accuracy: 0.8858 - val_loss: 0.6098 - val_accuracy: 0.8200\n",
            "Epoch 5/10\n",
            "200/200 [==============================] - 1s 3ms/step - loss: 0.4667 - accuracy: 0.9045 - val_loss: 0.5734 - val_accuracy: 0.8275\n",
            "Epoch 6/10\n",
            "200/200 [==============================] - 1s 3ms/step - loss: 0.4167 - accuracy: 0.9170 - val_loss: 0.5468 - val_accuracy: 0.8325\n",
            "Epoch 7/10\n",
            "200/200 [==============================] - 1s 3ms/step - loss: 0.3766 - accuracy: 0.9266 - val_loss: 0.5268 - val_accuracy: 0.8363\n",
            "Epoch 8/10\n",
            "200/200 [==============================] - 1s 3ms/step - loss: 0.3435 - accuracy: 0.9366 - val_loss: 0.5113 - val_accuracy: 0.8400\n",
            "Epoch 9/10\n",
            "200/200 [==============================] - 1s 3ms/step - loss: 0.3154 - accuracy: 0.9431 - val_loss: 0.4992 - val_accuracy: 0.8419\n",
            "Epoch 10/10\n",
            "200/200 [==============================] - 1s 3ms/step - loss: 0.2911 - accuracy: 0.9491 - val_loss: 0.4895 - val_accuracy: 0.8413\n"
          ],
          "name": "stdout"
        }
      ]
    },
    {
      "cell_type": "code",
      "metadata": {
        "id": "AM-Pf8O-CB2g"
      },
      "source": [
        "def create_model(vocab_size, num_labels):\n",
        "  model = tf.keras.Sequential([\n",
        "    layers.Embedding(vocab_size, 64, mask_zero=True),\n",
        "    layers.Conv1D(64, 5, padding='valid', activation='relu', strides=2),\n",
        "    layers.GlobalMaxPool1D(),\n",
        "    layers.Dense(num_labels)\n",
        "  ])\n",
        "  return model"
      ],
      "execution_count": 26,
      "outputs": []
    },
    {
      "cell_type": "code",
      "metadata": {
        "id": "MnqyGpzLDIfX",
        "outputId": "6a1ab87f-a00d-4986-fc27-25d08fc99af0",
        "colab": {
          "base_uri": "https://localhost:8080/"
        }
      },
      "source": [
        "int_model = create_model(vocab_size=VOCAB_SIZE + 1, num_labels=4)\n",
        "int_model.compile(\n",
        "    loss=losses.SparseCategoricalCrossentropy(from_logits=True),\n",
        "    optimizer='adam',\n",
        "    metrics=['accuracy']\n",
        ")\n",
        "history = int_model.fit(int_train_ds, validation_data=int_val_ds, epochs=5)"
      ],
      "execution_count": 27,
      "outputs": [
        {
          "output_type": "stream",
          "text": [
            "Epoch 1/5\n",
            "200/200 [==============================] - 4s 20ms/step - loss: 1.1474 - accuracy: 0.5055 - val_loss: 0.7611 - val_accuracy: 0.6931\n",
            "Epoch 2/5\n",
            "200/200 [==============================] - 2s 10ms/step - loss: 0.6191 - accuracy: 0.7638 - val_loss: 0.5359 - val_accuracy: 0.8056\n",
            "Epoch 3/5\n",
            "200/200 [==============================] - 2s 10ms/step - loss: 0.3695 - accuracy: 0.8823 - val_loss: 0.4769 - val_accuracy: 0.8256\n",
            "Epoch 4/5\n",
            "200/200 [==============================] - 2s 10ms/step - loss: 0.2051 - accuracy: 0.9527 - val_loss: 0.4787 - val_accuracy: 0.8238\n",
            "Epoch 5/5\n",
            "200/200 [==============================] - 2s 10ms/step - loss: 0.1024 - accuracy: 0.9817 - val_loss: 0.5095 - val_accuracy: 0.8188\n"
          ],
          "name": "stdout"
        }
      ]
    },
    {
      "cell_type": "code",
      "metadata": {
        "id": "TSY-fB87DrWf",
        "outputId": "50a9302e-8831-4148-8060-cef9bbcdaa3b",
        "colab": {
          "base_uri": "https://localhost:8080/"
        }
      },
      "source": [
        "print('Linear model on binary vectorized data:')\n",
        "print(binary_model.summary())"
      ],
      "execution_count": 28,
      "outputs": [
        {
          "output_type": "stream",
          "text": [
            "Linear model on binary vectorized data:\n",
            "Model: \"sequential\"\n",
            "_________________________________________________________________\n",
            "Layer (type)                 Output Shape              Param #   \n",
            "=================================================================\n",
            "dense (Dense)                (None, 4)                 40004     \n",
            "=================================================================\n",
            "Total params: 40,004\n",
            "Trainable params: 40,004\n",
            "Non-trainable params: 0\n",
            "_________________________________________________________________\n",
            "None\n"
          ],
          "name": "stdout"
        }
      ]
    },
    {
      "cell_type": "code",
      "metadata": {
        "id": "evfCogjND7wo",
        "outputId": "37f62798-2305-4f07-986c-9ce9b9257fb0",
        "colab": {
          "base_uri": "https://localhost:8080/"
        }
      },
      "source": [
        "print('ConvNet model on int vectorized data:')\n",
        "print(int_model.summary())"
      ],
      "execution_count": 29,
      "outputs": [
        {
          "output_type": "stream",
          "text": [
            "ConvNet model on int vectorized data:\n",
            "Model: \"sequential_1\"\n",
            "_________________________________________________________________\n",
            "Layer (type)                 Output Shape              Param #   \n",
            "=================================================================\n",
            "embedding (Embedding)        (None, None, 64)          640064    \n",
            "_________________________________________________________________\n",
            "conv1d (Conv1D)              (None, None, 64)          20544     \n",
            "_________________________________________________________________\n",
            "global_max_pooling1d (Global (None, 64)                0         \n",
            "_________________________________________________________________\n",
            "dense_1 (Dense)              (None, 4)                 260       \n",
            "=================================================================\n",
            "Total params: 660,868\n",
            "Trainable params: 660,868\n",
            "Non-trainable params: 0\n",
            "_________________________________________________________________\n",
            "None\n"
          ],
          "name": "stdout"
        }
      ]
    },
    {
      "cell_type": "code",
      "metadata": {
        "id": "B0WltId6D72e",
        "outputId": "39aacb5e-b00a-47e3-dd8d-798766726c2e",
        "colab": {
          "base_uri": "https://localhost:8080/"
        }
      },
      "source": [
        "binary_loss, binary_accuracy = binary_model.evaluate(binary_test_ds)\n",
        "int_loss, int_accuracy = int_model.evaluate(int_test_ds)\n",
        "\n",
        "print(f'Binary model accuracy: {binary_accuracy:2.2%}')\n",
        "print(f'Int model accuracy: {int_accuracy:2.2%}')"
      ],
      "execution_count": 30,
      "outputs": [
        {
          "output_type": "stream",
          "text": [
            "250/250 [==============================] - 2s 9ms/step - loss: 0.5168 - accuracy: 0.8155\n",
            "250/250 [==============================] - 3s 10ms/step - loss: 0.5176 - accuracy: 0.8115\n",
            "Binary model accuracy: 81.55%\n",
            "Int model accuracy: 81.15%\n"
          ],
          "name": "stdout"
        }
      ]
    },
    {
      "cell_type": "markdown",
      "metadata": {
        "id": "5OXC3ZQsFFNr"
      },
      "source": [
        "### Export the model\n",
        "\n",
        "In the code above, you applied the `TextVectorization` layer to the dataset before feeding text to the model. If you want to make your model capable of processing raw strings (for example, to simplify deploying it), you can include the `TextVectorization` layer inside your model. To do so, you can create a new model using the weights you just trained."
      ]
    },
    {
      "cell_type": "code",
      "metadata": {
        "id": "JkgobrVlD76H"
      },
      "source": [
        "export_model = tf.keras.Sequential([\n",
        "  binary_vectorize_layer,\n",
        "  binary_model,\n",
        "  layers.Activation('sigmoid')\n",
        "])\n",
        "\n",
        "export_model.compile(\n",
        "    loss=losses.SparseCategoricalCrossentropy(from_logits=True),\n",
        "    optimizer='adam',\n",
        "    metrics=['accuracy']\n",
        ")\n",
        "\n",
        "#export_model.build()\n",
        "#export_model.summary()"
      ],
      "execution_count": 31,
      "outputs": []
    },
    {
      "cell_type": "markdown",
      "metadata": {
        "id": "Poyts_ty-Oxn"
      },
      "source": [
        "Now your model can take raw strings as input and predict a score for each label using model.predict. Define a function to find the label with the maximum score:"
      ]
    },
    {
      "cell_type": "code",
      "metadata": {
        "id": "pU5qTI-gD7z8"
      },
      "source": [
        "def get_string_labels(predicted_scores_batch):\n",
        "  predicted_int_labels = tf.argmax(predicted_scores_batch, axis=1)\n",
        "  predicted_labels = tf.gather(\n",
        "      raw_train_ds.class_names, \n",
        "      predicted_int_labels\n",
        "  )\n",
        "  return predicted_labels"
      ],
      "execution_count": 32,
      "outputs": []
    },
    {
      "cell_type": "markdown",
      "metadata": {
        "id": "UOTG1yDJBy5U"
      },
      "source": [
        "Run inference on new data"
      ]
    },
    {
      "cell_type": "code",
      "metadata": {
        "id": "Dw6LIykhD7ti",
        "outputId": "87102e08-3e43-4c9b-81c0-cad80bdd4ace",
        "colab": {
          "base_uri": "https://localhost:8080/"
        }
      },
      "source": [
        "inputs = [\n",
        "  \"how do I extract keys from a dict into a list?\",  # python\n",
        "  \"debug public static void main(string[] args) {...}\",  # java\n",
        "]\n",
        "\n",
        "predicted_scores = export_model.predict(inputs)\n",
        "predicted_labels = get_string_labels(predicted_scores)\n",
        "for input, label in zip(inputs, predicted_labels):\n",
        "  print(\"Question: \", input)\n",
        "  print(\"Predicted label: \", label.numpy())"
      ],
      "execution_count": 33,
      "outputs": [
        {
          "output_type": "stream",
          "text": [
            "Question:  how do I extract keys from a dict into a list?\n",
            "Predicted label:  b'python'\n",
            "Question:  debug public static void main(string[] args) {...}\n",
            "Predicted label:  b'java'\n"
          ],
          "name": "stdout"
        }
      ]
    },
    {
      "cell_type": "markdown",
      "metadata": {
        "id": "w5q5atKvC0Nt"
      },
      "source": [
        "Including the text preprocessing logic inside your model enables you to export a model for production that simplifies deployment, and reduces the potential for [train/test skew](https://developers.google.com/machine-learning/guides/rules-of-ml#training-serving_skew).\n",
        "\n",
        "> Rule #32: Re-use code between your training pipeline and your serving pipeline whenever possible.\n",
        "\n",
        "There is a performance difference to keep in mind when choosing where to apply your `TextVectorization` layer. Using it outside of your model enables you to do asynchronous CPU processing and buffering of your data when training on GPU. So, if you're training your model on the GPU, you probably want to go with this option to get the best performance while developing your model, then switch to including the TextVectorization layer inside your model when you're ready to prepare for deployment.\n",
        "\n",
        "> Using `TextVectorization` outside of your model enables you to do asynchronous CPU processing and buffering of your data when training on GPU."
      ]
    },
    {
      "cell_type": "markdown",
      "metadata": {
        "id": "e56C34FcFRoy"
      },
      "source": [
        "## Predict the author of Illiad translations \n",
        "\n",
        "The following provides an example of using `tf.data.TextLineDataset` to load examples from text files, and `tf.text` to preprocess the data. In this example, you will use three different English translations of the same work, Homer's Illiad, and train a model to identify the translator given a single line of text."
      ]
    },
    {
      "cell_type": "markdown",
      "metadata": {
        "id": "ozrGdsNkFmHC"
      },
      "source": [
        "### Download and explore the dataset\n",
        "\n",
        "The texts of the three translations are by:\n",
        "\n",
        " - [William Cowper](https://en.wikipedia.org/wiki/William_Cowper) — [text](https://storage.googleapis.com/download.tensorflow.org/data/illiad/cowper.txt)\n",
        "\n",
        " - [Edward, Earl of Derby](https://en.wikipedia.org/wiki/Edward_Smith-Stanley,_14th_Earl_of_Derby) — [text](https://storage.googleapis.com/download.tensorflow.org/data/illiad/derby.txt)\n",
        "\n",
        "- [Samuel Butler](https://en.wikipedia.org/wiki/Samuel_Butler_%28novelist%29) — [text](https://storage.googleapis.com/download.tensorflow.org/data/illiad/butler.txt)\n",
        "\n",
        "The text files used in this tutorial have undergone some typical preprocessing tasks like removing document header and footer, line numbers and chapter titles. Download these lightly munged files locally."
      ]
    },
    {
      "cell_type": "code",
      "metadata": {
        "id": "d64wjrgxCUJh",
        "outputId": "94e55b57-f354-478b-8561-f7acfad3b057",
        "colab": {
          "base_uri": "https://localhost:8080/"
        }
      },
      "source": [
        "DIRECTORY_URL = 'https://storage.googleapis.com/download.tensorflow.org/data/illiad/'\n",
        "FILE_NAMES = ['cowper.txt', 'derby.txt', 'butler.txt']\n",
        "\n",
        "for name in FILE_NAMES:\n",
        "  text_dir = utils.get_file(name, origin=DIRECTORY_URL + name)\n",
        "\n",
        "parent_dir = pathlib.Path(text_dir).parent\n",
        "list(parent_dir.iterdir())"
      ],
      "execution_count": 34,
      "outputs": [
        {
          "output_type": "stream",
          "text": [
            "Downloading data from https://storage.googleapis.com/download.tensorflow.org/data/illiad/cowper.txt\n",
            "819200/815980 [==============================] - 0s 0us/step\n",
            "Downloading data from https://storage.googleapis.com/download.tensorflow.org/data/illiad/derby.txt\n",
            "811008/809730 [==============================] - 0s 0us/step\n",
            "Downloading data from https://storage.googleapis.com/download.tensorflow.org/data/illiad/butler.txt\n",
            "811008/807992 [==============================] - 0s 0us/step\n"
          ],
          "name": "stdout"
        },
        {
          "output_type": "execute_result",
          "data": {
            "text/plain": [
              "[PosixPath('/root/.keras/datasets/derby.txt'),\n",
              " PosixPath('/root/.keras/datasets/cowper.txt'),\n",
              " PosixPath('/root/.keras/datasets/butler.txt')]"
            ]
          },
          "metadata": {
            "tags": []
          },
          "execution_count": 34
        }
      ]
    },
    {
      "cell_type": "markdown",
      "metadata": {
        "id": "eNkRKs1eGehO"
      },
      "source": [
        "### Load the dataset\n",
        "\n",
        "You will use `TextLineDataset`, which is designed to create a `tf.data.Dataset` from a text file in which each example is a line of text from the original file, whereas `text_dataset_from_directory` treats all contents of a file as a single example. `TextLineDataset` is useful for text data that is primarily line-based (for example, poetry or error logs). \n",
        "\n",
        "> `TextLineDataset` reads each sample from a line of text from the original file, whereas `text_dataset_from_directory` treats all contents of as a single sample.\n",
        "\n",
        "Iterate through these files, loading each one into its own dataset. Each example needs to be individually labeled, so use `tf.data.Dataset.map` to apply a labeler function to each one. This will iterate over every example in the dataset, returning (`example, label`) pairs."
      ]
    },
    {
      "cell_type": "code",
      "metadata": {
        "id": "Pw73PgX3GU2V"
      },
      "source": [
        "def labeler(example, index):\n",
        "  return example, tf.cast(index, tf.int64)"
      ],
      "execution_count": 35,
      "outputs": []
    },
    {
      "cell_type": "code",
      "metadata": {
        "id": "INXJgeihJEk2",
        "outputId": "4fb9c35b-e578-46dd-876a-20b737788069",
        "colab": {
          "base_uri": "https://localhost:8080/"
        }
      },
      "source": [
        "labeled_data_sets = []\n",
        "\n",
        "for i, file_name in enumerate(FILE_NAMES):\n",
        "  lines_dataset = tf.data.TextLineDataset(str(parent_dir/file_name))\n",
        "  labeled_dataset = lines_dataset.map(lambda ex: labeler(ex, i))\n",
        "  labeled_data_sets.append(labeled_dataset)\n",
        "\n",
        "labeled_data_sets[:3]"
      ],
      "execution_count": 36,
      "outputs": [
        {
          "output_type": "execute_result",
          "data": {
            "text/plain": [
              "[<MapDataset shapes: ((), ()), types: (tf.string, tf.int64)>,\n",
              " <MapDataset shapes: ((), ()), types: (tf.string, tf.int64)>,\n",
              " <MapDataset shapes: ((), ()), types: (tf.string, tf.int64)>]"
            ]
          },
          "metadata": {
            "tags": []
          },
          "execution_count": 36
        }
      ]
    },
    {
      "cell_type": "markdown",
      "metadata": {
        "id": "Lav8A4bWLOwP"
      },
      "source": [
        "Next, you'll combine these labeled datasets into a single dataset, and shuffle it."
      ]
    },
    {
      "cell_type": "code",
      "metadata": {
        "id": "oICGmfABJEtj"
      },
      "source": [
        "BUFFER_SIZE = 50000\n",
        "BATCH_SIZE = 64\n",
        "VALIDATION_SIZE = 5000"
      ],
      "execution_count": 37,
      "outputs": []
    },
    {
      "cell_type": "code",
      "metadata": {
        "id": "m3CwCcjmJEZT",
        "outputId": "4f781d0e-993e-4c00-b196-91dd170ee9cf",
        "colab": {
          "base_uri": "https://localhost:8080/"
        }
      },
      "source": [
        "all_labeled_data = labeled_data_sets[0]\n",
        "for labeled_dataset in labeled_data_sets[1:]:\n",
        "  all_labeled_data = all_labeled_data.concatenate(labeled_dataset)\n",
        "\n",
        "all_labeled_data = all_labeled_data.shuffle(\n",
        "    BUFFER_SIZE, \n",
        "    reshuffle_each_iteration=False\n",
        ")\n",
        "\n",
        "tf.data.experimental.cardinality(all_labeled_data)"
      ],
      "execution_count": 55,
      "outputs": [
        {
          "output_type": "execute_result",
          "data": {
            "text/plain": [
              "<tf.Tensor: shape=(), dtype=int64, numpy=-2>"
            ]
          },
          "metadata": {
            "tags": []
          },
          "execution_count": 55
        }
      ]
    },
    {
      "cell_type": "markdown",
      "metadata": {
        "id": "4SyqaSZIZ9IE"
      },
      "source": [
        "Print out a few examples as before. The dataset hasn't been batched yet, hence each entry in all_labeled_data corresponds to one data point"
      ]
    },
    {
      "cell_type": "code",
      "metadata": {
        "id": "XVpAjsfiZPts",
        "outputId": "1e684647-c17d-4ff8-feba-9cfca535101a",
        "colab": {
          "base_uri": "https://localhost:8080/"
        }
      },
      "source": [
        "for text, label in all_labeled_data.take(10):\n",
        "  print('Sentence:', text.numpy())\n",
        "  print('Label:', label.numpy())"
      ],
      "execution_count": 57,
      "outputs": [
        {
          "output_type": "stream",
          "text": [
            "Sentence: b'Precaution, that the prize escape thee not.'\n",
            "Label: 0\n",
            "Sentence: b'fell into a sweet slumber. Presently they who were about the son of'\n",
            "Label: 2\n",
            "Sentence: b\"AEneas, noble-soul'd Anchises' son,\"\n",
            "Label: 1\n",
            "Sentence: b'So, by Achilles driven, a mingled throng'\n",
            "Label: 0\n",
            "Sentence: b'For of all cities of the sons of men,'\n",
            "Label: 0\n",
            "Sentence: b'Why, my brave horses, why be left behind?'\n",
            "Label: 1\n",
            "Sentence: b'Nor yet for Priam, nor for all the brave'\n",
            "Label: 0\n",
            "Sentence: b'There lay the rich-wrought belt the old man wore,'\n",
            "Label: 1\n",
            "Sentence: b'Apart from all our comrades, shall we two,'\n",
            "Label: 1\n",
            "Sentence: b'Sarpedon with the noble Glaucus led'\n",
            "Label: 0\n"
          ],
          "name": "stdout"
        }
      ]
    },
    {
      "cell_type": "code",
      "metadata": {
        "id": "DAJQjI88khw8",
        "outputId": "e7f0bb40-db2b-46da-c692-7d488f1fbe06",
        "colab": {
          "base_uri": "https://localhost:8080/"
        }
      },
      "source": [
        "text, label = next(all_labeled_data.as_numpy_iterator())\n",
        "text, label"
      ],
      "execution_count": 63,
      "outputs": [
        {
          "output_type": "execute_result",
          "data": {
            "text/plain": [
              "(b'Precaution, that the prize escape thee not.', 0)"
            ]
          },
          "metadata": {
            "tags": []
          },
          "execution_count": 63
        }
      ]
    },
    {
      "cell_type": "code",
      "metadata": {
        "id": "DZao_nMbaiu1",
        "outputId": "77d04d73-6405-4460-d5e3-0c5aa26b1c62",
        "colab": {
          "base_uri": "https://localhost:8080/"
        }
      },
      "source": [
        "text, label = next(iter(all_labeled_data.take(1)))\n",
        "text.numpy(), label.numpy()"
      ],
      "execution_count": 50,
      "outputs": [
        {
          "output_type": "execute_result",
          "data": {
            "text/plain": [
              "(b'Turning the goal, but see them now no more;', 0)"
            ]
          },
          "metadata": {
            "tags": []
          },
          "execution_count": 50
        }
      ]
    },
    {
      "cell_type": "markdown",
      "metadata": {
        "id": "m-X5yd2ndRFg"
      },
      "source": [
        "### Prepare the dataset for training\n",
        "\n",
        "Instead of using the Keras `TextVectorization` layer to preprocess our text dataset, you will now use the [`tf.text` API](https://www.tensorflow.org/tutorials/tensorflow_text/intro) to standardize and tokenize the data, build a vocabulary and use `StaticVocabularyTable` to map tokens to integers to feed to the model.\n",
        "\n",
        "While tf.text provides various tokenizers, you will use the `UnicodeScriptTokenizer` to tokenize our dataset. Define a function to convert the text to lower-case and tokenize it. You will use `tf.data.Dataset.map` to apply the tokenization to the dataset."
      ]
    },
    {
      "cell_type": "code",
      "metadata": {
        "id": "XWwoefK-dOY6"
      },
      "source": [
        "tokenizer = tf_text.UnicodeScriptTokenizer()"
      ],
      "execution_count": 58,
      "outputs": []
    },
    {
      "cell_type": "code",
      "metadata": {
        "id": "0bbts5zddOv-"
      },
      "source": [
        "def tokenize(text, unused_label):\n",
        "  lower_case = tf_text.case_fold_utf8(text)\n",
        "  return tokenizer.tokenize(lower_case)"
      ],
      "execution_count": 59,
      "outputs": []
    },
    {
      "cell_type": "code",
      "metadata": {
        "id": "EdKwckmzdOkw",
        "outputId": "4d912d34-4c7d-4cb6-a6e8-a27226ff1c99",
        "colab": {
          "base_uri": "https://localhost:8080/"
        }
      },
      "source": [
        "tokenized_ds = all_labeled_data.map(tokenize)"
      ],
      "execution_count": 60,
      "outputs": [
        {
          "output_type": "stream",
          "text": [
            "WARNING:tensorflow:From /usr/local/lib/python3.6/dist-packages/tensorflow/python/util/dispatch.py:201: batch_gather (from tensorflow.python.ops.array_ops) is deprecated and will be removed after 2017-10-25.\n",
            "Instructions for updating:\n",
            "`tf.batch_gather` is deprecated, please use `tf.gather` with `batch_dims=-1` instead.\n"
          ],
          "name": "stdout"
        }
      ]
    },
    {
      "cell_type": "markdown",
      "metadata": {
        "id": "RkGo44raibgL"
      },
      "source": [
        "Next, you will build a vocabulary by sorting tokens by frequency and keeping the top `VOCAB_SIZE` tokens."
      ]
    },
    {
      "cell_type": "code",
      "metadata": {
        "id": "V3sG--f-ibGH"
      },
      "source": [
        "tokenized_ds = configure_dataset(tokenized_ds)\n",
        "\n",
        "vocab_dict = collections.defaultdict(lambda: 0)\n",
        "for toks in tokenized_ds.as_numpy_iterator():\n",
        "  "
      ],
      "execution_count": null,
      "outputs": []
    },
    {
      "cell_type": "code",
      "metadata": {
        "id": "uNb2Qn2wdOPv"
      },
      "source": [
        ""
      ],
      "execution_count": null,
      "outputs": []
    },
    {
      "cell_type": "code",
      "metadata": {
        "id": "CaLy0facaiy0"
      },
      "source": [
        ""
      ],
      "execution_count": null,
      "outputs": []
    },
    {
      "cell_type": "code",
      "metadata": {
        "id": "Us3k29wPaisE"
      },
      "source": [
        ""
      ],
      "execution_count": null,
      "outputs": []
    }
  ]
}