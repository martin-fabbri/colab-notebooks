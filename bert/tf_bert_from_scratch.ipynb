{
  "nbformat": 4,
  "nbformat_minor": 0,
  "metadata": {
    "colab": {
      "name": "tf_bert_from_scratch.ipynb",
      "provenance": [],
      "collapsed_sections": [],
      "toc_visible": true,
      "authorship_tag": "ABX9TyPXIwlofmbceuWXHOay3OKP",
      "include_colab_link": true
    },
    "kernelspec": {
      "name": "python3",
      "display_name": "Python 3"
    }
  },
  "cells": [
    {
      "cell_type": "markdown",
      "metadata": {
        "id": "view-in-github",
        "colab_type": "text"
      },
      "source": [
        "<a href=\"https://colab.research.google.com/github/martin-fabbri/colab-notebooks/blob/master/bert/tf_bert_from_scratch.ipynb\" target=\"_parent\"><img src=\"https://colab.research.google.com/assets/colab-badge.svg\" alt=\"Open In Colab\"/></a>"
      ]
    },
    {
      "cell_type": "markdown",
      "metadata": {
        "id": "T2Zf5FAeSoMx"
      },
      "source": [
        "# BERT from scratch"
      ]
    },
    {
      "cell_type": "markdown",
      "metadata": {
        "id": "sUjhQTwVTdSZ"
      },
      "source": [
        "## Intro"
      ]
    },
    {
      "cell_type": "code",
      "metadata": {
        "colab": {
          "base_uri": "https://localhost:8080/"
        },
        "id": "LXfWzzyQSfCt",
        "outputId": "e4949ffd-eec5-42df-8ba8-fcf6dd528ccc"
      },
      "source": [
        "#@title ## Import packages\n",
        "import os\n",
        "import shutil\n",
        "from dataclasses import dataclass\n",
        "from google.colab import auth, data_table\n",
        "import numpy as np\n",
        "import pandas as pd\n",
        "import tensorflow as tf\n",
        "from tensorflow.keras import Model\n",
        "from tensorflow.keras.layers import Dense, Dropout, Input\n",
        "from tensorflow.keras.preprocessing import text_dataset_from_directory \n",
        "\n",
        "tf.get_logger().setLevel(\"ERROR\")\n",
        "\n",
        "print(\"tensorflow\", tf.__version__)"
      ],
      "execution_count": null,
      "outputs": [
        {
          "output_type": "stream",
          "text": [
            "tensorflow 2.4.0\n"
          ],
          "name": "stdout"
        }
      ]
    },
    {
      "cell_type": "markdown",
      "metadata": {
        "id": "BSDrXa2g2VM9"
      },
      "source": [
        "## 1. Configuration"
      ]
    },
    {
      "cell_type": "code",
      "metadata": {
        "id": "d10182aFUYzH"
      },
      "source": [
        "@dataclass\n",
        "class Config:\n",
        "    MAX_LEN = 256\n",
        "    BATCH_SIZE = 32\n",
        "    LR = 0.001\n",
        "    VOCAB_SIZE = 30000\n",
        "    EMBED_DIM = 128\n",
        "    NUM_HEAD = 8\n",
        "    FF_DIM = 128\n",
        "    NUM_LAYERS = 1\n",
        "    DS_URL = \"https://ai.stanford.edu/~amaas/data/sentiment/aclImdb_v1.tar.gz\" \n",
        "    TRAIN_DIR = None\n",
        "    TEST_DIR = None\n",
        "    VALIDATION_SPLIT = 0.2\n",
        "    SEED = 42\n",
        "\n",
        "config = Config()"
      ],
      "execution_count": null,
      "outputs": []
    },
    {
      "cell_type": "markdown",
      "metadata": {
        "id": "q-BjgrtX67s9"
      },
      "source": [
        "## 2. Download Dataset - Large Movie Review\n",
        "\n",
        "We use [Stanford’s Large Movie Review Dataset](https://ai.stanford.edu/~amaas/data/sentiment/) as the dataset for sentiment analysis. This dataset is divided into two datasets for training and testing purposes, each containing 25,000 movie reviews downloaded from IMDb. In each dataset, the number of comments labeled as “positive” and “negative” is equal.\n"
      ]
    },
    {
      "cell_type": "code",
      "metadata": {
        "colab": {
          "base_uri": "https://localhost:8080/"
        },
        "id": "8JLF37Zw3BJn",
        "outputId": "4c468682-5661-47e1-8342-a7f6f3774f76"
      },
      "source": [
        "dataset = tf.keras.utils.get_file(\n",
        "    \"aclImdb.tar.gz\", config.DS_URL, untar=True, cache_dir=\".\", cache_subdir=\"\"\n",
        ")\n",
        "dataset_dir = os.path.join(os.path.dirname(dataset), \"aclImdb\")\n",
        "config.TRAIN_DIR = os.path.join(dataset_dir, \"train\")\n",
        "config.TEST_DIR = os.path.join(dataset_dir, \"test\")\n",
        "print(\"Train dataset:\", config.TRAIN_DIR)\n",
        "print(\"Train dataset:\", config.TEST_DIR )\n",
        "\n",
        "# remove unused folders from train folder\n",
        "remove_dir = os.path.join(config.TRAIN_DIR, \"unsup\")\n",
        "shutil.rmtree(remove_dir)"
      ],
      "execution_count": null,
      "outputs": [
        {
          "output_type": "stream",
          "text": [
            "Train dataset: ./aclImdb/train\n",
            "Train dataset: ./aclImdb/test\n"
          ],
          "name": "stdout"
        }
      ]
    },
    {
      "cell_type": "markdown",
      "metadata": {
        "id": "yOfMcmS-F313"
      },
      "source": [
        "The IMDB dataset has already been divided into train and test, but it lacks a validation set. Let's create a validation split using a 80:20 split.\n",
        "\n",
        "> Tensorflow Datasource requires to define a random seed or to pass shuffle=False so that the validation and training splits have no overlap. **We will pass a random seed**."
      ]
    },
    {
      "cell_type": "code",
      "metadata": {
        "colab": {
          "base_uri": "https://localhost:8080/"
        },
        "id": "dzlj7wxq64YT",
        "outputId": "4f051da8-1602-455b-8bdf-9967cd63668c"
      },
      "source": [
        "AUTOTUNE = tf.data.experimental.AUTOTUNE\n",
        "\n",
        "def optimize_dataset(dataset):\n",
        "    return dataset.cache().prefetch(buffer_size=AUTOTUNE)\n",
        "\n",
        "train_ds = text_dataset_from_directory(\n",
        "    config.TRAIN_DIR,\n",
        "    subset=\"training\",\n",
        "    batch_size=config.BATCH_SIZE,\n",
        "    validation_split=config.VALIDATION_SPLIT,\n",
        "    seed=config.SEED,\n",
        ")\n",
        "class_names = train_ds.class_names\n",
        "train_ds = optimize_dataset(train_ds)\n",
        "\n",
        "val_ds = text_dataset_from_directory(\n",
        "    config.TRAIN_DIR,\n",
        "    subset=\"validation\",\n",
        "    batch_size=config.BATCH_SIZE,\n",
        "    validation_split=config.VALIDATION_SPLIT,\n",
        "    seed=config.SEED,\n",
        ")\n",
        "val_ds = optimize_dataset(val_ds)\n",
        "\n",
        "test_ds = text_dataset_from_directory(\n",
        "    config.TEST_DIR,\n",
        "    batch_size=config.BATCH_SIZE\n",
        ")\n",
        "test_ds = optimize_dataset(test_ds)"
      ],
      "execution_count": null,
      "outputs": [
        {
          "output_type": "stream",
          "text": [
            "Found 25000 files belonging to 2 classes.\n",
            "Using 20000 files for training.\n",
            "Found 25000 files belonging to 2 classes.\n",
            "Using 5000 files for validation.\n",
            "Found 25000 files belonging to 2 classes.\n"
          ],
          "name": "stdout"
        }
      ]
    },
    {
      "cell_type": "code",
      "metadata": {
        "colab": {
          "base_uri": "https://localhost:8080/"
        },
        "id": "qz4sODh3_IOh",
        "outputId": "681df05f-91b3-40e9-e424-756d08e736d1"
      },
      "source": [
        "print(\"Loaded classes:\", class_names)"
      ],
      "execution_count": null,
      "outputs": [
        {
          "output_type": "stream",
          "text": [
            "Loaded classes: ['neg', 'pos']\n"
          ],
          "name": "stdout"
        }
      ]
    },
    {
      "cell_type": "code",
      "metadata": {
        "colab": {
          "base_uri": "https://localhost:8080/",
          "height": 622
        },
        "id": "6Cm7CTA1Dadc",
        "outputId": "092ceebf-1669-49ca-fc86-139ef43d9fa1"
      },
      "source": [
        "text_batch, label_batch = next(train_ds.as_numpy_iterator())\n",
        "df = pd.DataFrame({\"text\": text_batch, \"label\": label_batch})\n",
        "data_table.DataTable(df, include_index=False, num_rows_per_page=3, )"
      ],
      "execution_count": null,
      "outputs": [
        {
          "output_type": "execute_result",
          "data": {
            "application/vnd.google.colaboratory.module+javascript": "\n      import \"https://ssl.gstatic.com/colaboratory/data_table/a6224c040fa35dcf/data_table.js\";\n\n      window.createDataTable({\n        data: [[\"b\\\"Having seen most of Ringo Lam's films, I can say that this is his best film to date, and the most unusual. It's a ancient china period piece cranked full of kick-ass martial arts, where the location of an underground lair full of traps and dungeons plays as big a part as any of the characters. The action is fantastic, the story is tense and entertaining, and the set design is truely memorable. Sadly, Burning Paradise has not been made available on DVD and vhs is next-to-impossible to get your mitts on, even if you near the second biggest china-town in North America (like I do). If you can find it, don't pass it up.\\\"\",\n{\n            'v': 1,\n            'f': \"1\",\n        }],\n [\"b'Caution: May contain spoilers...<br /><br />I\\\\'ve seen this movie 3 times & I\\\\'ve liked it every time. Upon seeing it again, I\\\\'m always reminded of how good it is. An HBO TV movie- very well done like most of their movies are- this would\\\\'ve gotten Oscars for it\\\\'s performances had it been released for general distribution instead of made for TV.<br /><br />As I\\\\'m sure anyone knows from reading other reviews here, this is the story of serial murderer, Andrei Chikatilo. He murdered 56 people over 8 years in the former Soviet Union. (3 victims were buried & couldn\\\\'t be found so he was only convicted of 52 out of 53 of his murders.) The story actually focuses more on the forensic analyst, Victor Burakov played to perfection by Stephen Rea. A man that becomes tortured and obsessed with finding this killer despite the additional obstacles placed by party hacks, his part is essential to be sure. There is a very touching scene towards the end of the movie that mentions how in America, investigators are routinely taken off serial killer cases after 18 months whether they want to or not due to the mental strain & frustration. According to this acct, Burakov worked for over 5 years before getting his first break from it. He followed the case to its conclusion, 3 years later. In this scene, his superior, General Fetisov, played by Donald Sutherland, actually tells him he admires his dedication and apologizes for not knowing he should\\\\'ve given him a break sooner.<br /><br />Rea\\\\'s performance is so well done, he doesn\\\\'t overact, chew up the scenery or do anything that distracts from his portrayal of a man who is hell bent on finding his killer. He is a man with passion, but doesn\\\\'t show it in the same manner as is so usually portrayed in detective movies. He only occasionally gives outbursts after quietly putting up with more than most could stand under such circumstances. Rea does so much with his face, his eyes, he doesn\\\\'t need to overact. He just *is* - His character, so frustrated after so long, at one point, driven to frustration, he actually says he\\\\'d rather find 3 at one time than none in a year. Of course what he means is not that he wants more people to die, he just wants some clues to catch this man. Rea makes us feel for this man. He makes us understand but a glimpse of what it is to live with such horror and futility.<br /><br />A mutant to be sure, Chikatilo\\\\'s childhood was one which produces such \\\"monsters.\\\" The character of Chikatilo is very well done by Jeffrey DeMunn. He somehow (impossible though it may seem) elicits some modicum of sympathy for himself. Perhaps he is the worst of us gone terribly wrong? Either way, his performance is very well done.<br /><br />Donald Sutherland as Colonel Fetisov (later promoted to General) also does a great job. He starts out seeming to be a cynical worldly official that doesn\\\\'t seem much more interested in helping the investigation than anyone else blocking Burakov. But he eventually becomes more than just an assistant, he actually actively participates in helping Burakov. There is also a very nice turn by Max Von Sydow as the psychiatrist brought in to help profile and figure out what kind of deviant they are looking for.<br /><br />Although this movie deals with a morbid, grotesque and violent story, it really is more about what it takes to catch a killer than the killer himself. All around a very well done movie with fine performances and a great screenplay. The screenplay manages to do what the best of this type of movie does: give factual events & place them meaningfully inside a dramatic framework that makes you feel like you know the people *behind* the facts.<br /><br />9 out of 10 stars'\",\n{\n            'v': 1,\n            'f': \"1\",\n        }],\n [\"b\\\"from the view of a NASCAR Maniac like I am, the movie is interesting. You can see many race cars from 1983. Even tough, the racing scenes are not that much realistic. But I have to admit, that I haven't seen any race before 1995, because before that time, they didn't show any NASCAR races in Germany)<br /><br />from the view of a Burt Reynolds fan like I am, the movie basically is what we are used to see from Reynolds in the 80's: Burt behind the wheel of a fast car, like in his Bandit Movies.<br /><br />If you love NASCAR and Burt Reynolds, this movie is a must-see. If you only love one of this 2 things, I also recommend to watch it. If you like neither NASCAR nor Burt Reynolds, you still should give it a chance, but remember, this movie was far away from winning an Oscar Academy Award.<br /><br />It is the typical humor of the 80's. If you like movies like the Cannonball Movies, and Police Academy, you will also like that one.\\\"\",\n{\n            'v': 1,\n            'f': \"1\",\n        }],\n [\"b'When it first came out, this work by the Meysels brothers was much criticized and even judged to be exploitation. Luckily, it is now hailed as a masterpiece of documentary cinema, especially now that society has been exposed to real exploitation in what is reality television, and the bad evolution of most direct cinema.<br /><br />Really, at first, we must say that this isn\\\\'t really direct cinema, it is more cinema verit\\\\xc3\\\\xa9. The difference between the two is very slight, but it mainly is the fact that in this documentary, we are made to feel the presence of the Meysels brothers, and they do interact with the characters filmed. This as well makes it clear that it is not exploitation. The Meysels have been allowed in the house, and they are included in what is a very eccentric situation of a very eccentric household. And both Edith and Edie just love the idea of being filmed.<br /><br />It would have been very disappointing had very been shown only a voice of God narration and shallow interviews. Here, we are given a full portrait of the madness of the house, a madness that does seem to go down well with both Edie and her mother Edith. Their house is a mess, litter and animals everywhere, faded colors and furniture all over the house, and the constant fights that are constant interactions of reality. These two people have lived with each other their whole life, and are not fighting in front of the camera because they want the attention, but rather because they can\\\\'t help talking to each other this way. They know each other too well to hide their inner feelings, there is no need. In the end, though, even as they blame each other for their lives, they really love each other deeply. Edie says she doesn\\\\'t want her mother to die, because she loves her very much, and Edith says that she doesn\\\\'t want Edie to leave her because she doesn\\\\'t want to be alone.<br /><br />But the most interesting aspect of the film is that regardless of their old age, the two women can\\\\'t help be girls. They cannot help being one the singer, the other the dancer. Exhibit all their artistic skills in front of their camera. When Edie asks David Meysels rhetorically \\\"Where have you been all my life?\\\" she is really very happy that she finally gets to show the whole world herself and her wonderful showgirls skills. A beautiful portrait of stylistic importance and a charm that is highly unlikely to be ever seen again, the way only the Meysels and few others could do.'\",\n{\n            'v': 1,\n            'f': \"1\",\n        }],\n [\"b\\\"I thought that this was an absolutely charming movie centering around the lives of Mary-Kate's and Ashley's characters Sam and Emma Stanton! They are both trying to make both themselves and their parents happy but; unfortunately, it's just not that easy for them to actually do! I thought that this was an utterly charming and sweet movie and if you are a real fan of these marvelous young ladies then I'm sure that you'll agree with me here! If you haven't seen this movie yet then I say you really missed-out; big time, and that you should definitely take the time out to see it now! This movie is a real winner! Sincerely, Rick Morris\\\"\",\n{\n            'v': 1,\n            'f': \"1\",\n        }],\n [\"b\\\"The filming is pleasant and the environment is keenly realistic. I liked that it boldly redresses conceptions of the many difficult moral and social morays of the 1930's Chinese-mainland countryside as well as more basic human questions - I felt I could get a real sense of the times, recreated even in splendid shots of traditional Chinese theatre and in purist depictions of street living. It seemed worthwhile to experience. The interwoven role which Buddhism plays is probably the most true-to-form - both in its menial and in its philosophic aspect, perhaps the most effective that I've seen in Chinese film. Casting is great. Images are memorable. Acting is solid enough. Thematically puerile but still rich enough to compliment the vehicle of its expression.\\\"\",\n{\n            'v': 1,\n            'f': \"1\",\n        }],\n [\"b\\\"This is one of those cheaply made TV Movies were the characters seem to lose all sense. The premise of the story, the kidnapping of a son by the boy's father,is very good. But the story just seems to beggar belief. Whenever the mother is advised not to do anything you know fine well she is going to do it. It is a bit far fetched and not worthy of a viewing.\\\"\",\n{\n            'v': 0,\n            'f': \"0\",\n        }],\n [\"b'Great movie - especially the music - Etta James - \\\"At Last\\\". This speaks volumes when you have finally found that special someone.'\",\n{\n            'v': 0,\n            'f': \"0\",\n        }],\n [\"b'This film is not even worth walking to the movie theatre. No jokes, but stupid and boring laughing on repeated disgusting stuff. The music and the girls are great, unfortunately you have to watch the whole movie to enjoy them. It was weak, very very weak.'\",\n{\n            'v': 0,\n            'f': \"0\",\n        }],\n [\"b\\\"For me, this movie just seemed to fall on its face. The main problem for me was the casting of Glover as a serial killer. I don't know whether this grows out of type-casting or simply his demeanor, but I doubt Glover could ever portray a convincing villain. He's a good guy, and that's always obvious in his performances. Other than that the film is your run of the mill serial killer story. Nothing very innovative .\\\"\",\n{\n            'v': 0,\n            'f': \"0\",\n        }],\n [\"b'William Powell is a doctor dealing with a murder and an ex-wife in \\\"The Ex-Mrs. Bradford,\\\" also starring Jean Arthur, Eric Blore, and James Gleason. It seems that Powell had chemistry going with just about any woman with whom he was teamed. Though he and Myrna Loy were the perfect screen couple, the actor made a couple of other \\\"Thin Man\\\" type movies, one with Ginger Rogers and this one with Arthur, both to very good effect.<br /><br />Somehow one never gets tired of seeing Powell as a witty, debonair professional and \\\"The Ex-Mrs. Bradford\\\" is no exception. The ex-Mrs. B has Mr. B served with a subpoena for back alimony and then moves back in to help him solve a mystery that she\\\\'s dragged him into. And this isn\\\\'t the first time she\\\\'s done that! It almost seems as though there was a \\\"Bradford\\\" film before this one or that this was intended to be the first of a series of films - Mr. B complains that his mystery-writer ex is constantly bringing him into cases. This time, a jockey riding the favorite horse in a raise mysteriously falls off the horse and dies right before the finish line.<br /><br />The solution of the case is kind of outlandish but it\\\\'s beside the point. The point is the banter between the couple and the interference of the ex-Mrs. B. Jean Arthur is quite glamorous in her role and very funny. However, with an actress who comes off as brainy as Arthur does, the humor seems intentional rather than featherbrained. I suspect the writer had something else in mind - say, the wacky side of Carole Lombard. When Arthur hears that the police have arrived, she says, \\\"Ah, it\\\\'s probably about my alimony. I\\\\'ve been waiting for the police to take a hand in it,\\\" it\\\\'s more of a rib to Powell rather than a serious statement. It still works well, and it shows how a good actress can make a part her own.<br /><br />Definitely worth watching, as William Powell and Jean Arthur always were.'\",\n{\n            'v': 1,\n            'f': \"1\",\n        }],\n [\"b\\\"I agree with the above comment, I love the realism in this, and in many movies (not just movies on eating disorders) the producers seem to forget that. They take an every day problem and create a hugely dramatic scene and then come the end of the movie everything is perfect again, which I dislike because its not reality. Not meaning to say things can't get better, and not meaning to say things don't in this movie, but it doesn't spend most of the movie creating all these problems, and come the end of the movie everything is perfect again. When people have eating disorders people don't just admit it and want to get better, and then life is peachy, it takes time, and I like how in this movie we grow with the characters, we go through the difficulties with them, getting better and worse, because it is a very important part of the movie. It gets into the minds of people with eating disorders, and shows the complications and pain, in a very realistic way, and I loved that. I also love how it shows The secrecy and betrayal people feel when suffering from eating disorders, it is scary to see how people react when they find out, especially if they approve of it. I thought this movie was very touching and beautiful and well told, and defiantly one of my favourites.\\\"\",\n{\n            'v': 1,\n            'f': \"1\",\n        }],\n [\"b'I vaguely remember Ben from my Sci-Fi fandom days of the \\\\'60s, I was doing several interviews & bios of obscure actors/actresses, most notably Ben, actress Fay Spain, and Jody Fair, who played Angela in 1961\\\\'s The Young Savages. Ben was one of the people at a low-key Sci-Fi con in Chicago, about 1970, when I had a nice chat with him and his \\\"career\\\" and life. All these were published in some now-long-forgotten fanzine of the day. Wish I still had copies of those interviews, but time marches on, and any of those people surely wouldn\\\\'t\\\\' remember me at all so many years later. Ben was a really nice fellow, ekeing out a living (The cons of those days didn\\\\'t even pay their guest, unless, of course they were big-name stars, and even then the pay was a couple hundred dollars, at most! Good to know Ben\\\\'s still alive & kicking! How \\\\'bout a remake of Creature, but 50 years older! Ugly then, uglier now!'\",\n{\n            'v': 0,\n            'f': \"0\",\n        }],\n [\"b'Every scene was put together perfectly.This movie had a wonderful cast and crew. I mean, how can you have a bad movie with Robert Downey Jr. in it,none have and ever will exist. He has the ability to brighten up any movie with his amazing talent.This movie was perfect! I saw this movie sitting all alone on a movie shelf in \\\"Blockbuster\\\" and like it was calling out to me,I couldn\\\\'t resist picking it up and bringing it home with me. You can call me a sappy romantic, but this movie just touched my heart, not to mention made me laugh with pleasure at the same time. Even though it made me cry,I admit, at the end, the whole movie just brightened up my outlook on life thereafter.I suggested to my horror, action, and pure humor movie buff of a brother,who absolutely adored this movie. This is a movie with a good sense of feeling.It could make you laugh out loud, touch your heart, make you fall in love,and enjoy your life.Every time you purposefully walk past this movie, just be aware that you are consciously making the choice to live and feel this inspiring movie.Who knows? What if it could really happen to you?, and keep your mind open to the mystical wonders of life.'\",\n{\n            'v': 1,\n            'f': \"1\",\n        }],\n [\"b'Definitely the worst movie I have ever seen... Can somebody tell me where should have I laughed? There\\\\'s not a single hint or shadow of an idea. The three leading actors are pestilential, especially the one (I think it\\\\'s Aldo) from Sicily who _can\\\\'t_ make a Sicilian accent!!! Not to say about the dream-like insertion about Dracula... just another expedient, drawn from the worst cabaret tradition, to make this \\\"film\\\" last a little longer. Massironi and Littizzetto do what they can, but this so-called movie was really too, too hard to rescue. I would have given it \\\"0\\\"/10, but the lowest mark was 1/10 and so I had to overestimate it by one mark.'\",\n{\n            'v': 0,\n            'f': \"0\",\n        }],\n [\"b'Silent Night, Deadly Night 5 is the very last of the series, and like part 4, it\\\\'s unrelated to the first three except by title and the fact that it\\\\'s a Christmas-themed horror flick.<br /><br />Except to the oblivious, there\\\\'s some obvious things going on here...Mickey Rooney plays a toymaker named Joe Petto and his creepy son\\\\'s name is Pino. Ring a bell, anyone? Now, a little boy named Derek heard a knock at the door one evening, and opened it to find a present on the doorstep for him. Even though it said \\\"don\\\\'t open till Christmas\\\", he begins to open it anyway but is stopped by his dad, who scolds him and sends him to bed, and opens the gift himself. Inside is a little red ball that sprouts Santa arms and a head, and proceeds to kill dad. Oops, maybe he should have left well-enough alone. Of course Derek is then traumatized by the incident since he watched it from the stairs, but he doesn\\\\'t grow up to be some killer Santa, he just stops talking.<br /><br />There\\\\'s a mysterious stranger lurking around, who seems very interested in the toys that Joe Petto makes. We even see him buying a bunch when Derek\\\\'s mom takes him to the store to find a gift for him to bring him out of his trauma. And what exactly is this guy doing? Well, we\\\\'re not sure but he does seem to be taking these toys apart to see what makes them tick. He does keep his landlord from evicting him by promising him to pay him in cash the next day and presents him with a \\\"Larry the Larvae\\\" toy for his kid, but of course \\\"Larry\\\" is not a good toy and gets out of the box in the car and of course, well, things aren\\\\'t pretty.<br /><br />Anyway, eventually what\\\\'s going on with Joe Petto and Pino is of course revealed, and as with the old story, Pino is not a \\\"real boy\\\". Pino is probably even more agitated and naughty because he suffers from \\\"Kenitalia\\\" (a smooth plastic crotch) so that could account for his evil ways. And the identity of the lurking stranger is revealed too, and there\\\\'s even kind of a happy ending of sorts. Whee.<br /><br />A step up from part 4, but not much of one. Again, Brian Yuzna is involved, and Screaming Mad George, so some decent special effects, but not enough to make this great. A few leftovers from part 4 are hanging around too, like Clint Howard and Neith Hunter, but that doesn\\\\'t really make any difference. Anyway, I now have seeing the whole series out of my system. Now if I could get some of it out of my brain. 4 out of 5.'\",\n{\n            'v': 0,\n            'f': \"0\",\n        }],\n [\"b'Great documentary about the lives of NY firefighters during the worst terrorist attack of all time.. That reason alone is why this should be a must see collectors item.. What shocked me was not only the attacks, but the\\\"High Fat Diet\\\" and physical appearance of some of these firefighters. I think a lot of Doctors would agree with me that,in the physical shape they were in, some of these firefighters would NOT of made it to the 79th floor carrying over 60 lbs of gear. Having said that i now have a greater respect for firefighters and i realize becoming a firefighter is a life altering job. The French have a history of making great documentary\\\\'s and that is what this is, a Great Documentary.....'\",\n{\n            'v': 1,\n            'f': \"1\",\n        }],\n [\"b'The Western society has been fed ideas about India being a poor country. Movies like these only make those beliefs stronger. Such illustrations make it all the more difficult for Indians to be accepted abroad. Agreed there are poor and homeless in India, but why is there no representation of educated people if not the successful ones.<br /><br />I totally hated the idea of the movie portraying Patrick Swayze as another Mother Teressa. In my opinion this movie has shown India in a very bad light giving wrong notions. It is unjust to discuss only one aspect of the society. Exactly the reason why people ask me, \\\"When we go to India, can we hire an elephant right outside the airport so we do not have to walk on the roads so full of filth and snakes?\\\"<br /><br />Those who want a second opinion on contemporary Indian society should watch \\\"Monsoon Wedding\\\".'\",\n{\n            'v': 0,\n            'f': \"0\",\n        }],\n [\"b\\\"What else can you say about this movie,except that it's plain awful.Tina Louise and Adam West are the reasons why to see this,but,that's it,but their talents are wasted in this junk.I think that they used a double in some of Adam's scenes,like when he's running because you can't see his face.If Adam was embarrassed in being in Zombie Nightmare,just think what he must've felt about appearing in this??? If it was before or after,I'm not sure,but,still,Zombie Nightmare is a classic(check out the Mystery Science Theater 3000 version first and last)compared to this.The gang is very annoying and over-acting by some of the actors.A rip-off of The Wild One starring Marlon Brando,of course.Tina looks stunning though.I hope her and Adam got a good paycheck!! Pass!\\\"\",\n{\n            'v': 0,\n            'f': \"0\",\n        }],\n [\"b'I saw the description of the movie on TCM and only let it run because I like both Peter Ustinov and Maggie Smith, so I was delightfully surprised to find that I really liked the movie and found it quite exceptional. Of course, it is seriously dated, but as a period piece it is well worth watching just for the subtle humour in insight into life and lifestyle almost forty years ago. Now the only problem is trying to find it on DVD so I can watch it more often. I also was quite taken with the performances of Smith and Ustinov as the leads, and of Karl Malden, Bob Newhart, and the cameo appearances by Robert Morley and Cesar Romero.'\",\n{\n            'v': 1,\n            'f': \"1\",\n        }],\n [\"b\\\"Like most people, i was drawn to buy this film because of the pictures of the mighty Bolo Yeung plastered all over the box, and the assumption (from the aforementioned pictures and the title of the film) that this film is all about the Beast from the East kickin' ass for 90 minutes.<br /><br />However, to my disappointment, Chinese Hercules is to Bolo Yeung what No Retreat No Surrender was to Jean Claude Van Damme and Fearless Tiger was to... erm, Bolo Yeung - maximum exposure on video box, minimum actual screen-time! Oh well! <br /><br />The storyline is pretty basic stuff, but it was well done - peaceful kung fu fighter (played by Chen Hui Min) accidentally kills a man and promises never to fight again. He then runs away to work as a labourer on a pier where he impresses his co-workers with his heavy sack lifting prowess, causing them to suspect him to be a formidable fighter (dont quite know how that works but never mind). Meanwhile, the corrupt boss of the pier does a deal with gangsters, giving them exclusive use of the pier. As a result, the workers are thrown out on their ear and forced to live on the beach, where they unite against their boss, the gangster boss, and his hulking henchman Bolo Yeung.<br /><br />While the film was quite watchable (mainly through waiting for the next glimpse of Bolo), i had a few problems with it - firstly, the bad dubbing, but of course thats a given in old kung fu films. But also, the film tended to drag between the various fight-scenes. And as for the fight scenes themselves, i found them to be over-long, badly choreographed (apparently by Jackie Chan!), badly shot and at times performed by people who didn't seem to have any martial arts ability.... in fact, most of the fights in this film weren't 'fights' at all, just people getting beaten up without offering any resistance!<br /><br />Finally, the hero - played by Chen Hui Min. I've never seen any other films with this guy in, but at no point was i rooting for him. Not only did he look wimpy and on the verge of tears at all times, but i found his insistence on not fighting infuriating! I understood his reasoning, but he could have saved a lot of people a lot of pain if he had done earlier what we all knew he was gonna do eventually, and fight! A bigger mystery was why this entire community of people were pinning their hopes on a guy they've never even seen fight! <br /><br />Really, the big saving grace in this film was the presence of Bolo Yeung. Not only is he as huge and brutal as ever, he has some great, funny lines and gives the rest of the cast a master-class on how to fight on film. The guy oozes screen presence and you can easily see how he became a star. The guy scares the life out of me, but i'm sure i wasn't the only person to have watched this film who was rooting for Bolo all through the end fight! <br /><br />All in all then, a below-average kung-fu film lifted several huge notches due to you-know-who. I've never met a person who didn't think Bolo Yeung was great. The man's a legend!!\\\"\",\n{\n            'v': 0,\n            'f': \"0\",\n        }],\n [\"b'I had numerous problems with this film.<br /><br />It contains some basic factual information concerning quantum mechanics, which is fine. Although quantum physics has been around for over 50 years, the film presents this information in a grandiose way that seems to be saying: \\\"Aren\\\\'t you just blown away by this!\\\" Well, not really. These aren\\\\'t earth shattering revelations anymore. At any rate, I was already familiar with quantum theory, and the fact that particles have to be described by wave equations, etc. is not new.<br /><br />The main problem I have with this movie, however, is the way these people use quantum theory as a way of providing a scientific basis for mysticism and spiritualism. I don\\\\'t have any serious problem with mysticism and spiritualism, but quantum mechanics doesn\\\\'t really have anything to do with these things, and it should be kept separate. The people they interviewed for this movie start with the ideas of quantum theory and then make the leap to say that simply by thinking about something you can alter the matter around you, hence we should think positively so as to have a positive impact on the world and make our lives better. The reasoning is completely ridiculous, and the conclusions do not logically follow from quantum theory. For every so called \\\"expert\\\" that they interviewed for this film, there are scores of theoretically physicists who would completely disagree. They would point out, quite rightly, that the unpredictability of the subatomic world does not lend support to mystical notions about our spiritual connectedness.<br /><br />It disturbs me that people are going to see this film and completely eat it up because it leaves them with a nice positive feeling. The main thrust of the film is based on a total misinterpretation of quantum theory, and it is as bad in its reasoning as any attempt to justify organized religion with similar pseudo-scientific arguments.<br /><br />Avoid this film.<br /><br />Oh yeah. At one point, one of the \\\"experts\\\" says that since throughout history most of the assumptions people have made about the world turned out to be false, therefore the assumptions we currently hold about the world are also likely to be false. Huh? That totally does not follow. And even if it did, I don\\\\'t see how that helps his argument. I mean, if his ideas ever became common assumptions then I guess we would have to assume that they are false too, based on his own reasoning.'\",\n{\n            'v': 0,\n            'f': \"0\",\n        }],\n [\"b\\\"This movie makes Canadians and Brits out to be asinine, moronic idiots. The men get stoned/drunk, and then they yell/beat each other up in almost every scene. The women are superfluous to the story \\\\xc2\\\\x96 I do not understand what they are there for \\\\xc2\\\\x96 they spend every scene causing a ruckus, or worse, milling around like mesmerized cattle. Apparently, Canadian women are either quarrelsome vulgar tramps or hulking hippie chicks. It's the standard knocked-up girlfriend, her loser boyfriend and his wicked mother ludicrousness that we have seen in countless movies before.<br /><br />Every character here is a carping, infantile stereotype. Not to mention that they all looked like they need a shower! And the idea of any kind of scene implying sex with George Wendt \\\\xc2\\\\x96 shudder \\\\xc2\\\\x96 is enough to make anyone gag! I watched the movie because Samuel West was in it \\\\xc2\\\\x96 but I cannot understand why he would have accepted a role like this. Maybe he needed the money. Ian Tracey is a superb actor - the only one with a vague redeeming moment, but his talent is wasted here.<br /><br />As for the rest of the plot \\\\xc2\\\\x96 the three imbeciles trying to get their dope back \\\\xc2\\\\x96 yawn - or Karl \\\\xc2\\\\x96 who is dead, but who is actually a character very much alive in the minds of those left behind (almost like Rebecca in Alfred Hitchcock's masterpiece \\\\xc2\\\\x96 although I am ashamed to even have thought to compare these two films), why even bother? Karl is so galling that you find the circumstances of his death gratifying.<br /><br />By the end of this wretched movie, I thought they would all have been better off going down with him on that boat!\\\"\",\n{\n            'v': 0,\n            'f': \"0\",\n        }],\n [\"b\\\"This is comedy as it once was and comparing this with the two remakes, THE MONEY PIT and ARE WE DONE YET?, only points out all the more how the 40's movie makers had a flair for comedy which has since, regretfully, been lost.<br /><br />I was 15 when I first saw this and even at that tender age, there was much I could laugh at. Now of course being familiar with adult frustrations, I see a whole lot that I missed as a youth.<br /><br />The three main actors...Cary Grant, Myrna Loy, and Melvyn Douglas...interacted perfectly, but the core of the movie lies in the frustrations encountered in achieving a dream. It's never as easy and free of unseen complications as one envisions.<br /><br />All in all, this is a classic comedy which still stands above the attempts to remake it.\\\"\",\n{\n            'v': 1,\n            'f': \"1\",\n        }],\n [\"b\\\"I'm a Jean Harlow fan, because she had star quality. I don't think her movies are good and I don't even think that she was a good actress, but she certainly was Great in comedies. Every bit of comedy in The Girl from Missouri is very good. But this movie is perhaps more like a love story. Jean Harlow is wonderful in this one and you can forget the rest of the cast - their performances bring nothing new. It always impresses me much to think that Harlow's beautiful body was that of an ill woman. Well, in this movie she does look beautiful.\\\"\",\n{\n            'v': 0,\n            'f': \"0\",\n        }],\n [\"b\\\"I'm probably one of the biggest Nancy Drew fans out there. I've read every book three times over and I've played a lot of the Nancy drew games. I Loved this movie. It kept you entertained the whole time you watched it. I went with about 10 of my friends and everyone LOVED it. There were three woman sitting behind us who appeared to be in their late 30's to early 40's and I asked them how they liked it, they said they loved it! So you see it will be an entertainment to all ages. You just have to give it a chance. And it teaches a lesson too, just be yourself even if everyone around you is exactly alike. So overall, this move was great. I'm going to see it a second time now! So stop bashing it please. Its a really good movie!\\\"\",\n{\n            'v': 1,\n            'f': \"1\",\n        }],\n [\"b\\\"1st watched 12/7/2002 - 3 out of 10(Dir-Steve Purcell): Typical Mary Kate & Ashley fare with a few more kisses. It looks to me like the girls are getting pretty tired of this stuff and it will be interesting what happens to them if they ever decide to split up and go there own ways. In this episode of their adventures they are interns in Rome for a `fashion' designer who puts them right into the mailroom to learn what working hard is all about(I guess..). Besides the typical flirtations with boys there is nothing much else except the Rome scenario until about \\\\xc2\\\\xbe way into the movie when it's finally revealed why they are getting fired, then re-hired, then fired again, then re-hired again. This is definetly made by people who don't understand the corporate world and it shows in their interpretation of it. Maybe the real world will be their next adventure(if there is one.). Even my kids didn't seem to care for this boring `adventure' in the make-believe. Let's see they probably only have a couple of years till their legal adults. We'll see what happens then.\\\"\",\n{\n            'v': 0,\n            'f': \"0\",\n        }],\n [\"b\\\"I am shocked. Shocked and dismayed that the 428 of you IMDB users who voted before me have not given this film a rating of higher than 7. 7?!?? - that's a C!. If I could give FOBH a 20, I'd gladly do it. This film ranks high atop the pantheon of modern comedy, alongside Half Baked and Mallrats, as one of the most hilarious films of all time. If you know _anything_ about rap music - YOU MUST SEE THIS!! If you know nothing about rap music - learn something!, and then see this! Comparisons to 'Spinal Tap' fail to appreciate the inspired genius of this unique film. If you liked Bob Roberts, you'll love this. Watch it and vote it a 10!\\\"\",\n{\n            'v': 1,\n            'f': \"1\",\n        }],\n [\"b'I can see why this film was Oscar-nominated for Best Live Action Short, as it was constructed masterfully. Even if you don\\\\'t particularly like the Blues (though to me, this sounded much more like jazz), you can easily appreciate this film. It is simply very well made, though for the life of me, I can\\\\'t see why director Gjon Mili only got to direct one film--this one. In other words, the film is nominated and yet the director didn\\\\'t get any sort of career boost. As for the black performers, I could understand this not causing their careers to shift into high gear, as unfortunately most of white society have indifference (or worse) for blacks or \\\"that kind of music\\\".<br /><br />If you do watch this film, if you aren\\\\'t particularly enjoying the earlier portion, skip ahead to about the 5:50 mark--where it picks up considerably. When the lady stopped singing and the performers began to improvise, the pace improved quite a bit.'\",\n{\n            'v': 1,\n            'f': \"1\",\n        }],\n [\"b\\\"This is a very engrossing BBC-TV mini-series which is loosely based upon a mysterious disappearance of a young mother, but the series is really more of a study of the assorted characters in the story, which lasts for five hours. It is thus very much an ensemble piece, where the wide variety of brilliant British actors and actresses can show off their talents. The actual characters portrayed are really 'the kind of people one does not normally meet', people so boring and nondescript that it is difficult to admire them. For instance, the lead character is a young husband (the one whose wife disappears) who has no job and no apparent interest in finding any. He lives off handouts from his parents-in-law. He was once in the Army but does not appear to have the slightest flicker of any ambition or any interests in life apart from doting on his small family. He is played by David Oyelowo, who is brilliant at the part, coming across as a totally sympathetic person, although his only activities for five hours are loving and grieving, which he does superbly, so that one wants to comfort him, as he is so obviously a nice guy. The standout performance of the whole series is unquestionably Penelope Wilton, who acts circles round everyone else in the story. She is simply incredible. She portrays a very unsympathetic woman, indeed the only character in the story who is all too familiar to everyone, namely an irrational, hysterical, self-centred, dense, querulous, blindly loving and blindly hating, elderly idiot-woman. Alas, alas, we know them too well. Wilton is one of Britain's finest actresses (see my review of her in 'Half Broken Things'). She takes a character who could have been two-dimensional and makes her four-dimensional. She is wonderfully supported by old pro Patrick Malahide, who plays her exasperated husband, and the pair of them set a high standard indeed for all the younger players. Janet McTeer, a spectacular actress when younger, has become a much less sympathetic type of person now that she is older, has coarsened in some way, and puts one off, but she redeems herself in the latter stages of the story by showing how brilliant an actress she can be when she has a chance by pulling off one of the most convincing and original drunk scenes I have ever seen on film. The big surprise is the enigmatic character Sarah, played with great depth and originality by actress Sarah Smart. She takes a character who could have been insufferably tedious and by sheer acting magic turns her into a deeply mysterious and intriguing person, about whom we wonder tirelessly for the entire five hours. She is so good at it that we end up wondering about Sarah Smart, frankly. I guess that's what happens when you really do your job properly, that people wonder where the character ends and the actress begins, if she knows herself, that is, and many do not. She has some deeply unnerving tricks with her eyes, which wobble and let us know she is unhinged, but we are not sure how or why, though we eventually learn that she had an extremely violent and traumatic childhood. Her mastery of ambiguous facial expressions is extraordinary. Rory Kinnear is amazingly convincing as an apparently hopeless fellow who lives with his mum and isn't up to much, but who turns out to have hidden depths. (I suppose most people have hidden depths, but do we want to plumb them, that is the question.) His mum is played very well indeed by Margot Leicester. A superb performance is given by Lucinda Dryzek, who plays a snotty, revolting teenage girl of the sort we all dread to meet, but who at crucial moments collapses in helpless tears and turns out to be pathetic, with all her arrogance just a pose. Three other children are also very good, Lucinda's friend, and her younger half-brother and half-sister. The younger siblings may be very dim indeed as characters in the story (they seem unable to say anything particularly articulate, being hopeless witnesses to the disappearance), with little to recommend them but their sweet natures, but that is conveyed to wonderful effect by Lee Massey as the boy and Tyler Anthony as the girl. Harriet Walter has a small role, but we do not get to see much of her, which is a shame, as she is such a fine actress that she was wasted here. One could go on, but one must draw a line somewhere. The series manages to be strangely fascinating because of the depth of portrayal of all these essentially uninteresting people caught up in a web of intense anxiety and suspense.\\\"\",\n{\n            'v': 1,\n            'f': \"1\",\n        }],\n [\"b'Wow. The only people reviewing this positively are the Carpenter apologists. I know a lot of those. The guys that\\\\'ll watch John Carpenter squat on celluloid and pinch out a movie and proclaim it a masterwork of horror. This \\\"movie\\\" is utter crap. It looks and sounds like a porno (good lord, the soundtrack is awful...), and has sub-par porn acting, which is shocking, because normally Ron Perlman is really a very good actor. I honestly have no idea what Carpenter was thinking when making this. Most likely \\\"Beans, beans, beans..\\\" until somebody fed him and rolled him up into a blanket for the day... They say nothing about the abortion debate whatsoever, when they could have had a very interesting central theme (how do religious zealot anti-abortionists feel when it\\\\'s the devil\\\\'s baby?) but instead they chose to have Ron Perlman and his terribly acted kids kill a bunch of people and have the horribly cast doctors try to calm the hysterically bad pregnant girl. Not a single person from this episode or what have you should come away unscathed. It\\\\'s just awful. Like, Plan 9 From Outerspace awful. Like, good god please would somebody turn it off before I soil myself awful. Try watching this and The Thing in the same day and your mind will implode.'\",\n{\n            'v': 0,\n            'f': \"0\",\n        }],\n [\"b'This British film is truly awful, and it\\\\'s hard to believe that Glenn Ford is in it, although he pretty much sleepwalks through it. The idea of a bomb on a train sounds good...but it turns out this train ends up parked for the majority of the film! No action, no movement, just a static train. The area where the train is parked is evacuated, so it\\\\'s not like there\\\\'s any danger to anyone either. In fact, this film could be used in a film class to show how NOT to make a suspense film. True suspense is generated by letting the audience know things that the characters don\\\\'t, a fact apparently unknown to the director. SPOILER: the train actually has two bombs on it, but we are led to believe there is only one. After the first bomb is defused, it feels as if there is no longer a reason to watch the film any more. But at the last minute, the villain, who has no apparent motivation for his actions, reveals there are two. Nor are we certain WHEN the bombs will go off, so we don\\\\'t even have a classic \\\"ticking bomb\\\" tension sequence. A good 10 minutes or more are spent watching Glenn Ford\\\\'s French wife thinking about leaving him, and then wondering where he is . She\\\\'s such an annoying character that we don\\\\'t care whether she reconciles with him, so when she does, there\\\\'s nothing emotional about it. Most of the other characters are fairly devoid of personality, and none have any problems or issues. It\\\\'s only 72 minutes, but it feels long because it\\\\'s tedious and dull. Don\\\\'t waste your time.'\",\n{\n            'v': 0,\n            'f': \"0\",\n        }]],\n        columns: [[\"string\", \"text\"], [\"number\", \"label\"]],\n        columnOptions: [],\n        rowsPerPage: 3,\n        helpUrl: \"https://colab.research.google.com/notebooks/data_table.ipynb\",\n        suppressOutputScrolling: true,\n        minimumWidth: undefined,\n      });\n    ",
            "text/plain": [
              "<google.colab.data_table.DataTable object>"
            ],
            "text/html": [
              "<div>\n",
              "<style scoped>\n",
              "    .dataframe tbody tr th:only-of-type {\n",
              "        vertical-align: middle;\n",
              "    }\n",
              "\n",
              "    .dataframe tbody tr th {\n",
              "        vertical-align: top;\n",
              "    }\n",
              "\n",
              "    .dataframe thead th {\n",
              "        text-align: right;\n",
              "    }\n",
              "</style>\n",
              "<table border=\"1\" class=\"dataframe\">\n",
              "  <thead>\n",
              "    <tr style=\"text-align: right;\">\n",
              "      <th></th>\n",
              "      <th>text</th>\n",
              "      <th>label</th>\n",
              "    </tr>\n",
              "  </thead>\n",
              "  <tbody>\n",
              "    <tr>\n",
              "      <th>0</th>\n",
              "      <td>b\"Having seen most of Ringo Lam's films, I can...</td>\n",
              "      <td>1</td>\n",
              "    </tr>\n",
              "    <tr>\n",
              "      <th>1</th>\n",
              "      <td>b'Caution: May contain spoilers...&lt;br /&gt;&lt;br /&gt;...</td>\n",
              "      <td>1</td>\n",
              "    </tr>\n",
              "    <tr>\n",
              "      <th>2</th>\n",
              "      <td>b\"from the view of a NASCAR Maniac like I am, ...</td>\n",
              "      <td>1</td>\n",
              "    </tr>\n",
              "    <tr>\n",
              "      <th>3</th>\n",
              "      <td>b'When it first came out, this work by the Mey...</td>\n",
              "      <td>1</td>\n",
              "    </tr>\n",
              "    <tr>\n",
              "      <th>4</th>\n",
              "      <td>b\"I thought that this was an absolutely charmi...</td>\n",
              "      <td>1</td>\n",
              "    </tr>\n",
              "    <tr>\n",
              "      <th>5</th>\n",
              "      <td>b\"The filming is pleasant and the environment ...</td>\n",
              "      <td>1</td>\n",
              "    </tr>\n",
              "    <tr>\n",
              "      <th>6</th>\n",
              "      <td>b\"This is one of those cheaply made TV Movies ...</td>\n",
              "      <td>0</td>\n",
              "    </tr>\n",
              "    <tr>\n",
              "      <th>7</th>\n",
              "      <td>b'Great movie - especially the music - Etta Ja...</td>\n",
              "      <td>0</td>\n",
              "    </tr>\n",
              "    <tr>\n",
              "      <th>8</th>\n",
              "      <td>b'This film is not even worth walking to the m...</td>\n",
              "      <td>0</td>\n",
              "    </tr>\n",
              "    <tr>\n",
              "      <th>9</th>\n",
              "      <td>b\"For me, this movie just seemed to fall on it...</td>\n",
              "      <td>0</td>\n",
              "    </tr>\n",
              "    <tr>\n",
              "      <th>10</th>\n",
              "      <td>b'William Powell is a doctor dealing with a mu...</td>\n",
              "      <td>1</td>\n",
              "    </tr>\n",
              "    <tr>\n",
              "      <th>11</th>\n",
              "      <td>b\"I agree with the above comment, I love the r...</td>\n",
              "      <td>1</td>\n",
              "    </tr>\n",
              "    <tr>\n",
              "      <th>12</th>\n",
              "      <td>b'I vaguely remember Ben from my Sci-Fi fandom...</td>\n",
              "      <td>0</td>\n",
              "    </tr>\n",
              "    <tr>\n",
              "      <th>13</th>\n",
              "      <td>b'Every scene was put together perfectly.This ...</td>\n",
              "      <td>1</td>\n",
              "    </tr>\n",
              "    <tr>\n",
              "      <th>14</th>\n",
              "      <td>b'Definitely the worst movie I have ever seen....</td>\n",
              "      <td>0</td>\n",
              "    </tr>\n",
              "    <tr>\n",
              "      <th>15</th>\n",
              "      <td>b'Silent Night, Deadly Night 5 is the very las...</td>\n",
              "      <td>0</td>\n",
              "    </tr>\n",
              "    <tr>\n",
              "      <th>16</th>\n",
              "      <td>b'Great documentary about the lives of NY fire...</td>\n",
              "      <td>1</td>\n",
              "    </tr>\n",
              "    <tr>\n",
              "      <th>17</th>\n",
              "      <td>b'The Western society has been fed ideas about...</td>\n",
              "      <td>0</td>\n",
              "    </tr>\n",
              "    <tr>\n",
              "      <th>18</th>\n",
              "      <td>b\"What else can you say about this movie,excep...</td>\n",
              "      <td>0</td>\n",
              "    </tr>\n",
              "    <tr>\n",
              "      <th>19</th>\n",
              "      <td>b'I saw the description of the movie on TCM an...</td>\n",
              "      <td>1</td>\n",
              "    </tr>\n",
              "    <tr>\n",
              "      <th>20</th>\n",
              "      <td>b\"Like most people, i was drawn to buy this fi...</td>\n",
              "      <td>0</td>\n",
              "    </tr>\n",
              "    <tr>\n",
              "      <th>21</th>\n",
              "      <td>b'I had numerous problems with this film.&lt;br /...</td>\n",
              "      <td>0</td>\n",
              "    </tr>\n",
              "    <tr>\n",
              "      <th>22</th>\n",
              "      <td>b\"This movie makes Canadians and Brits out to ...</td>\n",
              "      <td>0</td>\n",
              "    </tr>\n",
              "    <tr>\n",
              "      <th>23</th>\n",
              "      <td>b\"This is comedy as it once was and comparing ...</td>\n",
              "      <td>1</td>\n",
              "    </tr>\n",
              "    <tr>\n",
              "      <th>24</th>\n",
              "      <td>b\"I'm a Jean Harlow fan, because she had star ...</td>\n",
              "      <td>0</td>\n",
              "    </tr>\n",
              "    <tr>\n",
              "      <th>25</th>\n",
              "      <td>b\"I'm probably one of the biggest Nancy Drew f...</td>\n",
              "      <td>1</td>\n",
              "    </tr>\n",
              "    <tr>\n",
              "      <th>26</th>\n",
              "      <td>b\"1st watched 12/7/2002 - 3 out of 10(Dir-Stev...</td>\n",
              "      <td>0</td>\n",
              "    </tr>\n",
              "    <tr>\n",
              "      <th>27</th>\n",
              "      <td>b\"I am shocked. Shocked and dismayed that the ...</td>\n",
              "      <td>1</td>\n",
              "    </tr>\n",
              "    <tr>\n",
              "      <th>28</th>\n",
              "      <td>b'I can see why this film was Oscar-nominated ...</td>\n",
              "      <td>1</td>\n",
              "    </tr>\n",
              "    <tr>\n",
              "      <th>29</th>\n",
              "      <td>b\"This is a very engrossing BBC-TV mini-series...</td>\n",
              "      <td>1</td>\n",
              "    </tr>\n",
              "    <tr>\n",
              "      <th>30</th>\n",
              "      <td>b'Wow. The only people reviewing this positive...</td>\n",
              "      <td>0</td>\n",
              "    </tr>\n",
              "    <tr>\n",
              "      <th>31</th>\n",
              "      <td>b'This British film is truly awful, and it\\'s ...</td>\n",
              "      <td>0</td>\n",
              "    </tr>\n",
              "  </tbody>\n",
              "</table>\n",
              "</div>"
            ]
          },
          "metadata": {
            "tags": []
          },
          "execution_count": 29
        }
      ]
    },
    {
      "cell_type": "markdown",
      "metadata": {
        "id": "a5ARsTM_RlZ2"
      },
      "source": [
        "## 3. Preprocessing dataset"
      ]
    },
    {
      "cell_type": "code",
      "metadata": {
        "id": "_zXgzgc_Kukh"
      },
      "source": [
        ""
      ],
      "execution_count": null,
      "outputs": []
    },
    {
      "cell_type": "code",
      "metadata": {
        "id": "FskO7SeJKuhZ"
      },
      "source": [
        ""
      ],
      "execution_count": null,
      "outputs": []
    },
    {
      "cell_type": "code",
      "metadata": {
        "id": "QavnjLvhKuXc"
      },
      "source": [
        ""
      ],
      "execution_count": null,
      "outputs": []
    }
  ]
}