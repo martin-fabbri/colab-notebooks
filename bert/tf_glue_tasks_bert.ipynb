{
  "nbformat": 4,
  "nbformat_minor": 0,
  "metadata": {
    "colab": {
      "name": "tf_glue_tasks_bert.ipynb",
      "provenance": [],
      "collapsed_sections": [],
      "authorship_tag": "ABX9TyNzgLv/ALBSUIUv3SmwTrxj",
      "include_colab_link": true
    },
    "kernelspec": {
      "name": "python3",
      "display_name": "Python 3"
    },
    "accelerator": "TPU",
    "widgets": {
      "application/vnd.jupyter.widget-state+json": {
        "81c18114f43e49b884beabd8f49faa13": {
          "model_module": "@jupyter-widgets/controls",
          "model_name": "HBoxModel",
          "state": {
            "_view_name": "HBoxView",
            "_dom_classes": [],
            "_model_name": "HBoxModel",
            "_view_module": "@jupyter-widgets/controls",
            "_model_module_version": "1.5.0",
            "_view_count": null,
            "_view_module_version": "1.5.0",
            "box_style": "",
            "layout": "IPY_MODEL_3167887f1c2d4ee382e53dea4b619028",
            "_model_module": "@jupyter-widgets/controls",
            "children": [
              "IPY_MODEL_32f88585afc94c58b7add55179f8318f",
              "IPY_MODEL_bf4993d5ee864407a0669191b2f7bfff"
            ]
          }
        },
        "3167887f1c2d4ee382e53dea4b619028": {
          "model_module": "@jupyter-widgets/base",
          "model_name": "LayoutModel",
          "state": {
            "_view_name": "LayoutView",
            "grid_template_rows": null,
            "right": null,
            "justify_content": null,
            "_view_module": "@jupyter-widgets/base",
            "overflow": null,
            "_model_module_version": "1.2.0",
            "_view_count": null,
            "flex_flow": null,
            "width": null,
            "min_width": null,
            "border": null,
            "align_items": null,
            "bottom": null,
            "_model_module": "@jupyter-widgets/base",
            "top": null,
            "grid_column": null,
            "overflow_y": null,
            "overflow_x": null,
            "grid_auto_flow": null,
            "grid_area": null,
            "grid_template_columns": null,
            "flex": null,
            "_model_name": "LayoutModel",
            "justify_items": null,
            "grid_row": null,
            "max_height": null,
            "align_content": null,
            "visibility": null,
            "align_self": null,
            "height": null,
            "min_height": null,
            "padding": null,
            "grid_auto_rows": null,
            "grid_gap": null,
            "max_width": null,
            "order": null,
            "_view_module_version": "1.2.0",
            "grid_template_areas": null,
            "object_position": null,
            "object_fit": null,
            "grid_auto_columns": null,
            "margin": null,
            "display": null,
            "left": null
          }
        },
        "32f88585afc94c58b7add55179f8318f": {
          "model_module": "@jupyter-widgets/controls",
          "model_name": "FloatProgressModel",
          "state": {
            "_view_name": "ProgressView",
            "style": "IPY_MODEL_d3d1e75d5a1a40628c3af5c2618bca7e",
            "_dom_classes": [],
            "description": "Dl Completed...: 100%",
            "_model_name": "FloatProgressModel",
            "bar_style": "success",
            "max": 1,
            "_view_module": "@jupyter-widgets/controls",
            "_model_module_version": "1.5.0",
            "value": 1,
            "_view_count": null,
            "_view_module_version": "1.5.0",
            "orientation": "horizontal",
            "min": 0,
            "description_tooltip": null,
            "_model_module": "@jupyter-widgets/controls",
            "layout": "IPY_MODEL_f9128976323c4a8f9d0778b9ec205dc9"
          }
        },
        "bf4993d5ee864407a0669191b2f7bfff": {
          "model_module": "@jupyter-widgets/controls",
          "model_name": "HTMLModel",
          "state": {
            "_view_name": "HTMLView",
            "style": "IPY_MODEL_772d9ffa1387415783b6d6a0c4fd151d",
            "_dom_classes": [],
            "description": "",
            "_model_name": "HTMLModel",
            "placeholder": "​",
            "_view_module": "@jupyter-widgets/controls",
            "_model_module_version": "1.5.0",
            "value": " 3/3 [00:00&lt;00:00,  3.88 url/s]",
            "_view_count": null,
            "_view_module_version": "1.5.0",
            "description_tooltip": null,
            "_model_module": "@jupyter-widgets/controls",
            "layout": "IPY_MODEL_516efcc62cbe4d28bf669c9e9ad34d44"
          }
        },
        "d3d1e75d5a1a40628c3af5c2618bca7e": {
          "model_module": "@jupyter-widgets/controls",
          "model_name": "ProgressStyleModel",
          "state": {
            "_view_name": "StyleView",
            "_model_name": "ProgressStyleModel",
            "description_width": "initial",
            "_view_module": "@jupyter-widgets/base",
            "_model_module_version": "1.5.0",
            "_view_count": null,
            "_view_module_version": "1.2.0",
            "bar_color": null,
            "_model_module": "@jupyter-widgets/controls"
          }
        },
        "f9128976323c4a8f9d0778b9ec205dc9": {
          "model_module": "@jupyter-widgets/base",
          "model_name": "LayoutModel",
          "state": {
            "_view_name": "LayoutView",
            "grid_template_rows": null,
            "right": null,
            "justify_content": null,
            "_view_module": "@jupyter-widgets/base",
            "overflow": null,
            "_model_module_version": "1.2.0",
            "_view_count": null,
            "flex_flow": null,
            "width": null,
            "min_width": null,
            "border": null,
            "align_items": null,
            "bottom": null,
            "_model_module": "@jupyter-widgets/base",
            "top": null,
            "grid_column": null,
            "overflow_y": null,
            "overflow_x": null,
            "grid_auto_flow": null,
            "grid_area": null,
            "grid_template_columns": null,
            "flex": null,
            "_model_name": "LayoutModel",
            "justify_items": null,
            "grid_row": null,
            "max_height": null,
            "align_content": null,
            "visibility": null,
            "align_self": null,
            "height": null,
            "min_height": null,
            "padding": null,
            "grid_auto_rows": null,
            "grid_gap": null,
            "max_width": null,
            "order": null,
            "_view_module_version": "1.2.0",
            "grid_template_areas": null,
            "object_position": null,
            "object_fit": null,
            "grid_auto_columns": null,
            "margin": null,
            "display": null,
            "left": null
          }
        },
        "772d9ffa1387415783b6d6a0c4fd151d": {
          "model_module": "@jupyter-widgets/controls",
          "model_name": "DescriptionStyleModel",
          "state": {
            "_view_name": "StyleView",
            "_model_name": "DescriptionStyleModel",
            "description_width": "",
            "_view_module": "@jupyter-widgets/base",
            "_model_module_version": "1.5.0",
            "_view_count": null,
            "_view_module_version": "1.2.0",
            "_model_module": "@jupyter-widgets/controls"
          }
        },
        "516efcc62cbe4d28bf669c9e9ad34d44": {
          "model_module": "@jupyter-widgets/base",
          "model_name": "LayoutModel",
          "state": {
            "_view_name": "LayoutView",
            "grid_template_rows": null,
            "right": null,
            "justify_content": null,
            "_view_module": "@jupyter-widgets/base",
            "overflow": null,
            "_model_module_version": "1.2.0",
            "_view_count": null,
            "flex_flow": null,
            "width": null,
            "min_width": null,
            "border": null,
            "align_items": null,
            "bottom": null,
            "_model_module": "@jupyter-widgets/base",
            "top": null,
            "grid_column": null,
            "overflow_y": null,
            "overflow_x": null,
            "grid_auto_flow": null,
            "grid_area": null,
            "grid_template_columns": null,
            "flex": null,
            "_model_name": "LayoutModel",
            "justify_items": null,
            "grid_row": null,
            "max_height": null,
            "align_content": null,
            "visibility": null,
            "align_self": null,
            "height": null,
            "min_height": null,
            "padding": null,
            "grid_auto_rows": null,
            "grid_gap": null,
            "max_width": null,
            "order": null,
            "_view_module_version": "1.2.0",
            "grid_template_areas": null,
            "object_position": null,
            "object_fit": null,
            "grid_auto_columns": null,
            "margin": null,
            "display": null,
            "left": null
          }
        },
        "e5ba086b5cc945c69ffbeb309750dac6": {
          "model_module": "@jupyter-widgets/controls",
          "model_name": "HBoxModel",
          "state": {
            "_view_name": "HBoxView",
            "_dom_classes": [],
            "_model_name": "HBoxModel",
            "_view_module": "@jupyter-widgets/controls",
            "_model_module_version": "1.5.0",
            "_view_count": null,
            "_view_module_version": "1.5.0",
            "box_style": "",
            "layout": "IPY_MODEL_91971dcc2b3b416b9bea8ce0184c0087",
            "_model_module": "@jupyter-widgets/controls",
            "children": [
              "IPY_MODEL_ff436b692900474e9191cca6d239d446",
              "IPY_MODEL_012b079c57cc4985ad4a75e4887cac85"
            ]
          }
        },
        "91971dcc2b3b416b9bea8ce0184c0087": {
          "model_module": "@jupyter-widgets/base",
          "model_name": "LayoutModel",
          "state": {
            "_view_name": "LayoutView",
            "grid_template_rows": null,
            "right": null,
            "justify_content": null,
            "_view_module": "@jupyter-widgets/base",
            "overflow": null,
            "_model_module_version": "1.2.0",
            "_view_count": null,
            "flex_flow": null,
            "width": null,
            "min_width": null,
            "border": null,
            "align_items": null,
            "bottom": null,
            "_model_module": "@jupyter-widgets/base",
            "top": null,
            "grid_column": null,
            "overflow_y": null,
            "overflow_x": null,
            "grid_auto_flow": null,
            "grid_area": null,
            "grid_template_columns": null,
            "flex": null,
            "_model_name": "LayoutModel",
            "justify_items": null,
            "grid_row": null,
            "max_height": null,
            "align_content": null,
            "visibility": null,
            "align_self": null,
            "height": null,
            "min_height": null,
            "padding": null,
            "grid_auto_rows": null,
            "grid_gap": null,
            "max_width": null,
            "order": null,
            "_view_module_version": "1.2.0",
            "grid_template_areas": null,
            "object_position": null,
            "object_fit": null,
            "grid_auto_columns": null,
            "margin": null,
            "display": null,
            "left": null
          }
        },
        "ff436b692900474e9191cca6d239d446": {
          "model_module": "@jupyter-widgets/controls",
          "model_name": "FloatProgressModel",
          "state": {
            "_view_name": "ProgressView",
            "style": "IPY_MODEL_6648a3b025c845a186881c46d229e08b",
            "_dom_classes": [],
            "description": "Dl Size...: ",
            "_model_name": "FloatProgressModel",
            "bar_style": "success",
            "max": 1,
            "_view_module": "@jupyter-widgets/controls",
            "_model_module_version": "1.5.0",
            "value": 0,
            "_view_count": null,
            "_view_module_version": "1.5.0",
            "orientation": "horizontal",
            "min": 0,
            "description_tooltip": null,
            "_model_module": "@jupyter-widgets/controls",
            "layout": "IPY_MODEL_c7ad5a31f6f94ea5b208de7c226cebf2"
          }
        },
        "012b079c57cc4985ad4a75e4887cac85": {
          "model_module": "@jupyter-widgets/controls",
          "model_name": "HTMLModel",
          "state": {
            "_view_name": "HTMLView",
            "style": "IPY_MODEL_2d171d58a66f4e30b5503d5a3355caa5",
            "_dom_classes": [],
            "description": "",
            "_model_name": "HTMLModel",
            "placeholder": "​",
            "_view_module": "@jupyter-widgets/controls",
            "_model_module_version": "1.5.0",
            "value": " 0/0 [00:00&lt;?, ? MiB/s]",
            "_view_count": null,
            "_view_module_version": "1.5.0",
            "description_tooltip": null,
            "_model_module": "@jupyter-widgets/controls",
            "layout": "IPY_MODEL_607654cda6094cd88a670c018e76ad40"
          }
        },
        "6648a3b025c845a186881c46d229e08b": {
          "model_module": "@jupyter-widgets/controls",
          "model_name": "ProgressStyleModel",
          "state": {
            "_view_name": "StyleView",
            "_model_name": "ProgressStyleModel",
            "description_width": "initial",
            "_view_module": "@jupyter-widgets/base",
            "_model_module_version": "1.5.0",
            "_view_count": null,
            "_view_module_version": "1.2.0",
            "bar_color": null,
            "_model_module": "@jupyter-widgets/controls"
          }
        },
        "c7ad5a31f6f94ea5b208de7c226cebf2": {
          "model_module": "@jupyter-widgets/base",
          "model_name": "LayoutModel",
          "state": {
            "_view_name": "LayoutView",
            "grid_template_rows": null,
            "right": null,
            "justify_content": null,
            "_view_module": "@jupyter-widgets/base",
            "overflow": null,
            "_model_module_version": "1.2.0",
            "_view_count": null,
            "flex_flow": null,
            "width": null,
            "min_width": null,
            "border": null,
            "align_items": null,
            "bottom": null,
            "_model_module": "@jupyter-widgets/base",
            "top": null,
            "grid_column": null,
            "overflow_y": null,
            "overflow_x": null,
            "grid_auto_flow": null,
            "grid_area": null,
            "grid_template_columns": null,
            "flex": null,
            "_model_name": "LayoutModel",
            "justify_items": null,
            "grid_row": null,
            "max_height": null,
            "align_content": null,
            "visibility": null,
            "align_self": null,
            "height": null,
            "min_height": null,
            "padding": null,
            "grid_auto_rows": null,
            "grid_gap": null,
            "max_width": null,
            "order": null,
            "_view_module_version": "1.2.0",
            "grid_template_areas": null,
            "object_position": null,
            "object_fit": null,
            "grid_auto_columns": null,
            "margin": null,
            "display": null,
            "left": null
          }
        },
        "2d171d58a66f4e30b5503d5a3355caa5": {
          "model_module": "@jupyter-widgets/controls",
          "model_name": "DescriptionStyleModel",
          "state": {
            "_view_name": "StyleView",
            "_model_name": "DescriptionStyleModel",
            "description_width": "",
            "_view_module": "@jupyter-widgets/base",
            "_model_module_version": "1.5.0",
            "_view_count": null,
            "_view_module_version": "1.2.0",
            "_model_module": "@jupyter-widgets/controls"
          }
        },
        "607654cda6094cd88a670c018e76ad40": {
          "model_module": "@jupyter-widgets/base",
          "model_name": "LayoutModel",
          "state": {
            "_view_name": "LayoutView",
            "grid_template_rows": null,
            "right": null,
            "justify_content": null,
            "_view_module": "@jupyter-widgets/base",
            "overflow": null,
            "_model_module_version": "1.2.0",
            "_view_count": null,
            "flex_flow": null,
            "width": null,
            "min_width": null,
            "border": null,
            "align_items": null,
            "bottom": null,
            "_model_module": "@jupyter-widgets/base",
            "top": null,
            "grid_column": null,
            "overflow_y": null,
            "overflow_x": null,
            "grid_auto_flow": null,
            "grid_area": null,
            "grid_template_columns": null,
            "flex": null,
            "_model_name": "LayoutModel",
            "justify_items": null,
            "grid_row": null,
            "max_height": null,
            "align_content": null,
            "visibility": null,
            "align_self": null,
            "height": null,
            "min_height": null,
            "padding": null,
            "grid_auto_rows": null,
            "grid_gap": null,
            "max_width": null,
            "order": null,
            "_view_module_version": "1.2.0",
            "grid_template_areas": null,
            "object_position": null,
            "object_fit": null,
            "grid_auto_columns": null,
            "margin": null,
            "display": null,
            "left": null
          }
        },
        "f104341139734fabbfc23370b4053b60": {
          "model_module": "@jupyter-widgets/controls",
          "model_name": "HBoxModel",
          "state": {
            "_view_name": "HBoxView",
            "_dom_classes": [],
            "_model_name": "HBoxModel",
            "_view_module": "@jupyter-widgets/controls",
            "_model_module_version": "1.5.0",
            "_view_count": null,
            "_view_module_version": "1.5.0",
            "box_style": "",
            "layout": "IPY_MODEL_40fc277ed6f04bce9e87e18a2ef5fa5e",
            "_model_module": "@jupyter-widgets/controls",
            "children": [
              "IPY_MODEL_b6a69021daee43958d03e05c4b949fc7",
              "IPY_MODEL_8732204b27eb4f3a8a80b9d3a01991cb"
            ]
          }
        },
        "40fc277ed6f04bce9e87e18a2ef5fa5e": {
          "model_module": "@jupyter-widgets/base",
          "model_name": "LayoutModel",
          "state": {
            "_view_name": "LayoutView",
            "grid_template_rows": null,
            "right": null,
            "justify_content": null,
            "_view_module": "@jupyter-widgets/base",
            "overflow": null,
            "_model_module_version": "1.2.0",
            "_view_count": null,
            "flex_flow": null,
            "width": null,
            "min_width": null,
            "border": null,
            "align_items": null,
            "bottom": null,
            "_model_module": "@jupyter-widgets/base",
            "top": null,
            "grid_column": null,
            "overflow_y": null,
            "overflow_x": null,
            "grid_auto_flow": null,
            "grid_area": null,
            "grid_template_columns": null,
            "flex": null,
            "_model_name": "LayoutModel",
            "justify_items": null,
            "grid_row": null,
            "max_height": null,
            "align_content": null,
            "visibility": null,
            "align_self": null,
            "height": null,
            "min_height": null,
            "padding": null,
            "grid_auto_rows": null,
            "grid_gap": null,
            "max_width": null,
            "order": null,
            "_view_module_version": "1.2.0",
            "grid_template_areas": null,
            "object_position": null,
            "object_fit": null,
            "grid_auto_columns": null,
            "margin": null,
            "display": null,
            "left": null
          }
        },
        "b6a69021daee43958d03e05c4b949fc7": {
          "model_module": "@jupyter-widgets/controls",
          "model_name": "FloatProgressModel",
          "state": {
            "_view_name": "ProgressView",
            "style": "IPY_MODEL_83339e72b0c347f19b817f66a43a361b",
            "_dom_classes": [],
            "description": "",
            "_model_name": "FloatProgressModel",
            "bar_style": "info",
            "max": 1,
            "_view_module": "@jupyter-widgets/controls",
            "_model_module_version": "1.5.0",
            "value": 1,
            "_view_count": null,
            "_view_module_version": "1.5.0",
            "orientation": "horizontal",
            "min": 0,
            "description_tooltip": null,
            "_model_module": "@jupyter-widgets/controls",
            "layout": "IPY_MODEL_972467d801ef4597a812583351af7c5e"
          }
        },
        "8732204b27eb4f3a8a80b9d3a01991cb": {
          "model_module": "@jupyter-widgets/controls",
          "model_name": "HTMLModel",
          "state": {
            "_view_name": "HTMLView",
            "style": "IPY_MODEL_89f82d07cb32473c9652b65ad7dde3f3",
            "_dom_classes": [],
            "description": "",
            "_model_name": "HTMLModel",
            "placeholder": "​",
            "_view_module": "@jupyter-widgets/controls",
            "_model_module_version": "1.5.0",
            "value": " 3668/0 [00:01&lt;00:00, 3089.76 examples/s]",
            "_view_count": null,
            "_view_module_version": "1.5.0",
            "description_tooltip": null,
            "_model_module": "@jupyter-widgets/controls",
            "layout": "IPY_MODEL_56e82b92be9b48e2af8b7093639149d2"
          }
        },
        "83339e72b0c347f19b817f66a43a361b": {
          "model_module": "@jupyter-widgets/controls",
          "model_name": "ProgressStyleModel",
          "state": {
            "_view_name": "StyleView",
            "_model_name": "ProgressStyleModel",
            "description_width": "initial",
            "_view_module": "@jupyter-widgets/base",
            "_model_module_version": "1.5.0",
            "_view_count": null,
            "_view_module_version": "1.2.0",
            "bar_color": null,
            "_model_module": "@jupyter-widgets/controls"
          }
        },
        "972467d801ef4597a812583351af7c5e": {
          "model_module": "@jupyter-widgets/base",
          "model_name": "LayoutModel",
          "state": {
            "_view_name": "LayoutView",
            "grid_template_rows": null,
            "right": null,
            "justify_content": null,
            "_view_module": "@jupyter-widgets/base",
            "overflow": null,
            "_model_module_version": "1.2.0",
            "_view_count": null,
            "flex_flow": null,
            "width": null,
            "min_width": null,
            "border": null,
            "align_items": null,
            "bottom": null,
            "_model_module": "@jupyter-widgets/base",
            "top": null,
            "grid_column": null,
            "overflow_y": null,
            "overflow_x": null,
            "grid_auto_flow": null,
            "grid_area": null,
            "grid_template_columns": null,
            "flex": null,
            "_model_name": "LayoutModel",
            "justify_items": null,
            "grid_row": null,
            "max_height": null,
            "align_content": null,
            "visibility": null,
            "align_self": null,
            "height": null,
            "min_height": null,
            "padding": null,
            "grid_auto_rows": null,
            "grid_gap": null,
            "max_width": null,
            "order": null,
            "_view_module_version": "1.2.0",
            "grid_template_areas": null,
            "object_position": null,
            "object_fit": null,
            "grid_auto_columns": null,
            "margin": null,
            "display": null,
            "left": null
          }
        },
        "89f82d07cb32473c9652b65ad7dde3f3": {
          "model_module": "@jupyter-widgets/controls",
          "model_name": "DescriptionStyleModel",
          "state": {
            "_view_name": "StyleView",
            "_model_name": "DescriptionStyleModel",
            "description_width": "",
            "_view_module": "@jupyter-widgets/base",
            "_model_module_version": "1.5.0",
            "_view_count": null,
            "_view_module_version": "1.2.0",
            "_model_module": "@jupyter-widgets/controls"
          }
        },
        "56e82b92be9b48e2af8b7093639149d2": {
          "model_module": "@jupyter-widgets/base",
          "model_name": "LayoutModel",
          "state": {
            "_view_name": "LayoutView",
            "grid_template_rows": null,
            "right": null,
            "justify_content": null,
            "_view_module": "@jupyter-widgets/base",
            "overflow": null,
            "_model_module_version": "1.2.0",
            "_view_count": null,
            "flex_flow": null,
            "width": null,
            "min_width": null,
            "border": null,
            "align_items": null,
            "bottom": null,
            "_model_module": "@jupyter-widgets/base",
            "top": null,
            "grid_column": null,
            "overflow_y": null,
            "overflow_x": null,
            "grid_auto_flow": null,
            "grid_area": null,
            "grid_template_columns": null,
            "flex": null,
            "_model_name": "LayoutModel",
            "justify_items": null,
            "grid_row": null,
            "max_height": null,
            "align_content": null,
            "visibility": null,
            "align_self": null,
            "height": null,
            "min_height": null,
            "padding": null,
            "grid_auto_rows": null,
            "grid_gap": null,
            "max_width": null,
            "order": null,
            "_view_module_version": "1.2.0",
            "grid_template_areas": null,
            "object_position": null,
            "object_fit": null,
            "grid_auto_columns": null,
            "margin": null,
            "display": null,
            "left": null
          }
        },
        "e74ddcdabbd548979bc9883f88f4332b": {
          "model_module": "@jupyter-widgets/controls",
          "model_name": "HBoxModel",
          "state": {
            "_view_name": "HBoxView",
            "_dom_classes": [],
            "_model_name": "HBoxModel",
            "_view_module": "@jupyter-widgets/controls",
            "_model_module_version": "1.5.0",
            "_view_count": null,
            "_view_module_version": "1.5.0",
            "box_style": "",
            "layout": "IPY_MODEL_3acc30ce433443858bba409bea2859aa",
            "_model_module": "@jupyter-widgets/controls",
            "children": [
              "IPY_MODEL_96a5c1878c7744a9bfe4cc3d91a36abe",
              "IPY_MODEL_0aa86a156c274e9fa3ee27cece84fdc2"
            ]
          }
        },
        "3acc30ce433443858bba409bea2859aa": {
          "model_module": "@jupyter-widgets/base",
          "model_name": "LayoutModel",
          "state": {
            "_view_name": "LayoutView",
            "grid_template_rows": null,
            "right": null,
            "justify_content": null,
            "_view_module": "@jupyter-widgets/base",
            "overflow": null,
            "_model_module_version": "1.2.0",
            "_view_count": null,
            "flex_flow": null,
            "width": null,
            "min_width": null,
            "border": null,
            "align_items": null,
            "bottom": null,
            "_model_module": "@jupyter-widgets/base",
            "top": null,
            "grid_column": null,
            "overflow_y": null,
            "overflow_x": null,
            "grid_auto_flow": null,
            "grid_area": null,
            "grid_template_columns": null,
            "flex": null,
            "_model_name": "LayoutModel",
            "justify_items": null,
            "grid_row": null,
            "max_height": null,
            "align_content": null,
            "visibility": null,
            "align_self": null,
            "height": null,
            "min_height": null,
            "padding": null,
            "grid_auto_rows": null,
            "grid_gap": null,
            "max_width": null,
            "order": null,
            "_view_module_version": "1.2.0",
            "grid_template_areas": null,
            "object_position": null,
            "object_fit": null,
            "grid_auto_columns": null,
            "margin": null,
            "display": null,
            "left": null
          }
        },
        "96a5c1878c7744a9bfe4cc3d91a36abe": {
          "model_module": "@jupyter-widgets/controls",
          "model_name": "FloatProgressModel",
          "state": {
            "_view_name": "ProgressView",
            "style": "IPY_MODEL_4c38299020b44edaa996fbe3b82870bf",
            "_dom_classes": [],
            "description": "  0%",
            "_model_name": "FloatProgressModel",
            "bar_style": "danger",
            "max": 3668,
            "_view_module": "@jupyter-widgets/controls",
            "_model_module_version": "1.5.0",
            "value": 0,
            "_view_count": null,
            "_view_module_version": "1.5.0",
            "orientation": "horizontal",
            "min": 0,
            "description_tooltip": null,
            "_model_module": "@jupyter-widgets/controls",
            "layout": "IPY_MODEL_a9df4fcbd1d8414e87a23639fd16613f"
          }
        },
        "0aa86a156c274e9fa3ee27cece84fdc2": {
          "model_module": "@jupyter-widgets/controls",
          "model_name": "HTMLModel",
          "state": {
            "_view_name": "HTMLView",
            "style": "IPY_MODEL_30f75ad6eacc48f8964d9771d7a06994",
            "_dom_classes": [],
            "description": "",
            "_model_name": "HTMLModel",
            "placeholder": "​",
            "_view_module": "@jupyter-widgets/controls",
            "_model_module_version": "1.5.0",
            "value": " 0/3668 [00:00&lt;?, ? examples/s]",
            "_view_count": null,
            "_view_module_version": "1.5.0",
            "description_tooltip": null,
            "_model_module": "@jupyter-widgets/controls",
            "layout": "IPY_MODEL_e6d5f2521fc74d99b6fe0720b73d52a0"
          }
        },
        "4c38299020b44edaa996fbe3b82870bf": {
          "model_module": "@jupyter-widgets/controls",
          "model_name": "ProgressStyleModel",
          "state": {
            "_view_name": "StyleView",
            "_model_name": "ProgressStyleModel",
            "description_width": "initial",
            "_view_module": "@jupyter-widgets/base",
            "_model_module_version": "1.5.0",
            "_view_count": null,
            "_view_module_version": "1.2.0",
            "bar_color": null,
            "_model_module": "@jupyter-widgets/controls"
          }
        },
        "a9df4fcbd1d8414e87a23639fd16613f": {
          "model_module": "@jupyter-widgets/base",
          "model_name": "LayoutModel",
          "state": {
            "_view_name": "LayoutView",
            "grid_template_rows": null,
            "right": null,
            "justify_content": null,
            "_view_module": "@jupyter-widgets/base",
            "overflow": null,
            "_model_module_version": "1.2.0",
            "_view_count": null,
            "flex_flow": null,
            "width": null,
            "min_width": null,
            "border": null,
            "align_items": null,
            "bottom": null,
            "_model_module": "@jupyter-widgets/base",
            "top": null,
            "grid_column": null,
            "overflow_y": null,
            "overflow_x": null,
            "grid_auto_flow": null,
            "grid_area": null,
            "grid_template_columns": null,
            "flex": null,
            "_model_name": "LayoutModel",
            "justify_items": null,
            "grid_row": null,
            "max_height": null,
            "align_content": null,
            "visibility": null,
            "align_self": null,
            "height": null,
            "min_height": null,
            "padding": null,
            "grid_auto_rows": null,
            "grid_gap": null,
            "max_width": null,
            "order": null,
            "_view_module_version": "1.2.0",
            "grid_template_areas": null,
            "object_position": null,
            "object_fit": null,
            "grid_auto_columns": null,
            "margin": null,
            "display": null,
            "left": null
          }
        },
        "30f75ad6eacc48f8964d9771d7a06994": {
          "model_module": "@jupyter-widgets/controls",
          "model_name": "DescriptionStyleModel",
          "state": {
            "_view_name": "StyleView",
            "_model_name": "DescriptionStyleModel",
            "description_width": "",
            "_view_module": "@jupyter-widgets/base",
            "_model_module_version": "1.5.0",
            "_view_count": null,
            "_view_module_version": "1.2.0",
            "_model_module": "@jupyter-widgets/controls"
          }
        },
        "e6d5f2521fc74d99b6fe0720b73d52a0": {
          "model_module": "@jupyter-widgets/base",
          "model_name": "LayoutModel",
          "state": {
            "_view_name": "LayoutView",
            "grid_template_rows": null,
            "right": null,
            "justify_content": null,
            "_view_module": "@jupyter-widgets/base",
            "overflow": null,
            "_model_module_version": "1.2.0",
            "_view_count": null,
            "flex_flow": null,
            "width": null,
            "min_width": null,
            "border": null,
            "align_items": null,
            "bottom": null,
            "_model_module": "@jupyter-widgets/base",
            "top": null,
            "grid_column": null,
            "overflow_y": null,
            "overflow_x": null,
            "grid_auto_flow": null,
            "grid_area": null,
            "grid_template_columns": null,
            "flex": null,
            "_model_name": "LayoutModel",
            "justify_items": null,
            "grid_row": null,
            "max_height": null,
            "align_content": null,
            "visibility": null,
            "align_self": null,
            "height": null,
            "min_height": null,
            "padding": null,
            "grid_auto_rows": null,
            "grid_gap": null,
            "max_width": null,
            "order": null,
            "_view_module_version": "1.2.0",
            "grid_template_areas": null,
            "object_position": null,
            "object_fit": null,
            "grid_auto_columns": null,
            "margin": null,
            "display": null,
            "left": null
          }
        },
        "f8f3e979f61c42309cff82dc15b38873": {
          "model_module": "@jupyter-widgets/controls",
          "model_name": "HBoxModel",
          "state": {
            "_view_name": "HBoxView",
            "_dom_classes": [],
            "_model_name": "HBoxModel",
            "_view_module": "@jupyter-widgets/controls",
            "_model_module_version": "1.5.0",
            "_view_count": null,
            "_view_module_version": "1.5.0",
            "box_style": "",
            "layout": "IPY_MODEL_f061595f882f464194876acd189cea40",
            "_model_module": "@jupyter-widgets/controls",
            "children": [
              "IPY_MODEL_fb6fa285e2984d92b835784646deb9c9",
              "IPY_MODEL_ad0fa279b72841bca139673b435f798b"
            ]
          }
        },
        "f061595f882f464194876acd189cea40": {
          "model_module": "@jupyter-widgets/base",
          "model_name": "LayoutModel",
          "state": {
            "_view_name": "LayoutView",
            "grid_template_rows": null,
            "right": null,
            "justify_content": null,
            "_view_module": "@jupyter-widgets/base",
            "overflow": null,
            "_model_module_version": "1.2.0",
            "_view_count": null,
            "flex_flow": null,
            "width": null,
            "min_width": null,
            "border": null,
            "align_items": null,
            "bottom": null,
            "_model_module": "@jupyter-widgets/base",
            "top": null,
            "grid_column": null,
            "overflow_y": null,
            "overflow_x": null,
            "grid_auto_flow": null,
            "grid_area": null,
            "grid_template_columns": null,
            "flex": null,
            "_model_name": "LayoutModel",
            "justify_items": null,
            "grid_row": null,
            "max_height": null,
            "align_content": null,
            "visibility": null,
            "align_self": null,
            "height": null,
            "min_height": null,
            "padding": null,
            "grid_auto_rows": null,
            "grid_gap": null,
            "max_width": null,
            "order": null,
            "_view_module_version": "1.2.0",
            "grid_template_areas": null,
            "object_position": null,
            "object_fit": null,
            "grid_auto_columns": null,
            "margin": null,
            "display": null,
            "left": null
          }
        },
        "fb6fa285e2984d92b835784646deb9c9": {
          "model_module": "@jupyter-widgets/controls",
          "model_name": "FloatProgressModel",
          "state": {
            "_view_name": "ProgressView",
            "style": "IPY_MODEL_e6f00212a4254ad9884e39cc2ba82a1b",
            "_dom_classes": [],
            "description": "",
            "_model_name": "FloatProgressModel",
            "bar_style": "info",
            "max": 1,
            "_view_module": "@jupyter-widgets/controls",
            "_model_module_version": "1.5.0",
            "value": 1,
            "_view_count": null,
            "_view_module_version": "1.5.0",
            "orientation": "horizontal",
            "min": 0,
            "description_tooltip": null,
            "_model_module": "@jupyter-widgets/controls",
            "layout": "IPY_MODEL_e9d869f97744487a9603424a8c9535cb"
          }
        },
        "ad0fa279b72841bca139673b435f798b": {
          "model_module": "@jupyter-widgets/controls",
          "model_name": "HTMLModel",
          "state": {
            "_view_name": "HTMLView",
            "style": "IPY_MODEL_606d6af5cf824e54966981aebdef4540",
            "_dom_classes": [],
            "description": "",
            "_model_name": "HTMLModel",
            "placeholder": "​",
            "_view_module": "@jupyter-widgets/controls",
            "_model_module_version": "1.5.0",
            "value": " 408/0 [00:00&lt;00:00, 784.26 examples/s]",
            "_view_count": null,
            "_view_module_version": "1.5.0",
            "description_tooltip": null,
            "_model_module": "@jupyter-widgets/controls",
            "layout": "IPY_MODEL_c563a7f86bae4d9ca4faed8cbb09b2d0"
          }
        },
        "e6f00212a4254ad9884e39cc2ba82a1b": {
          "model_module": "@jupyter-widgets/controls",
          "model_name": "ProgressStyleModel",
          "state": {
            "_view_name": "StyleView",
            "_model_name": "ProgressStyleModel",
            "description_width": "initial",
            "_view_module": "@jupyter-widgets/base",
            "_model_module_version": "1.5.0",
            "_view_count": null,
            "_view_module_version": "1.2.0",
            "bar_color": null,
            "_model_module": "@jupyter-widgets/controls"
          }
        },
        "e9d869f97744487a9603424a8c9535cb": {
          "model_module": "@jupyter-widgets/base",
          "model_name": "LayoutModel",
          "state": {
            "_view_name": "LayoutView",
            "grid_template_rows": null,
            "right": null,
            "justify_content": null,
            "_view_module": "@jupyter-widgets/base",
            "overflow": null,
            "_model_module_version": "1.2.0",
            "_view_count": null,
            "flex_flow": null,
            "width": null,
            "min_width": null,
            "border": null,
            "align_items": null,
            "bottom": null,
            "_model_module": "@jupyter-widgets/base",
            "top": null,
            "grid_column": null,
            "overflow_y": null,
            "overflow_x": null,
            "grid_auto_flow": null,
            "grid_area": null,
            "grid_template_columns": null,
            "flex": null,
            "_model_name": "LayoutModel",
            "justify_items": null,
            "grid_row": null,
            "max_height": null,
            "align_content": null,
            "visibility": null,
            "align_self": null,
            "height": null,
            "min_height": null,
            "padding": null,
            "grid_auto_rows": null,
            "grid_gap": null,
            "max_width": null,
            "order": null,
            "_view_module_version": "1.2.0",
            "grid_template_areas": null,
            "object_position": null,
            "object_fit": null,
            "grid_auto_columns": null,
            "margin": null,
            "display": null,
            "left": null
          }
        },
        "606d6af5cf824e54966981aebdef4540": {
          "model_module": "@jupyter-widgets/controls",
          "model_name": "DescriptionStyleModel",
          "state": {
            "_view_name": "StyleView",
            "_model_name": "DescriptionStyleModel",
            "description_width": "",
            "_view_module": "@jupyter-widgets/base",
            "_model_module_version": "1.5.0",
            "_view_count": null,
            "_view_module_version": "1.2.0",
            "_model_module": "@jupyter-widgets/controls"
          }
        },
        "c563a7f86bae4d9ca4faed8cbb09b2d0": {
          "model_module": "@jupyter-widgets/base",
          "model_name": "LayoutModel",
          "state": {
            "_view_name": "LayoutView",
            "grid_template_rows": null,
            "right": null,
            "justify_content": null,
            "_view_module": "@jupyter-widgets/base",
            "overflow": null,
            "_model_module_version": "1.2.0",
            "_view_count": null,
            "flex_flow": null,
            "width": null,
            "min_width": null,
            "border": null,
            "align_items": null,
            "bottom": null,
            "_model_module": "@jupyter-widgets/base",
            "top": null,
            "grid_column": null,
            "overflow_y": null,
            "overflow_x": null,
            "grid_auto_flow": null,
            "grid_area": null,
            "grid_template_columns": null,
            "flex": null,
            "_model_name": "LayoutModel",
            "justify_items": null,
            "grid_row": null,
            "max_height": null,
            "align_content": null,
            "visibility": null,
            "align_self": null,
            "height": null,
            "min_height": null,
            "padding": null,
            "grid_auto_rows": null,
            "grid_gap": null,
            "max_width": null,
            "order": null,
            "_view_module_version": "1.2.0",
            "grid_template_areas": null,
            "object_position": null,
            "object_fit": null,
            "grid_auto_columns": null,
            "margin": null,
            "display": null,
            "left": null
          }
        },
        "4d031f8d4c814690ad4c4c1953494aec": {
          "model_module": "@jupyter-widgets/controls",
          "model_name": "HBoxModel",
          "state": {
            "_view_name": "HBoxView",
            "_dom_classes": [],
            "_model_name": "HBoxModel",
            "_view_module": "@jupyter-widgets/controls",
            "_model_module_version": "1.5.0",
            "_view_count": null,
            "_view_module_version": "1.5.0",
            "box_style": "",
            "layout": "IPY_MODEL_56a4a2ae9f6544f986f551162ac83caf",
            "_model_module": "@jupyter-widgets/controls",
            "children": [
              "IPY_MODEL_065e9ab8a5b5464ab3545b4f2728e7d8",
              "IPY_MODEL_b952d152c5cd48d6bd9e03bd8c075793"
            ]
          }
        },
        "56a4a2ae9f6544f986f551162ac83caf": {
          "model_module": "@jupyter-widgets/base",
          "model_name": "LayoutModel",
          "state": {
            "_view_name": "LayoutView",
            "grid_template_rows": null,
            "right": null,
            "justify_content": null,
            "_view_module": "@jupyter-widgets/base",
            "overflow": null,
            "_model_module_version": "1.2.0",
            "_view_count": null,
            "flex_flow": null,
            "width": null,
            "min_width": null,
            "border": null,
            "align_items": null,
            "bottom": null,
            "_model_module": "@jupyter-widgets/base",
            "top": null,
            "grid_column": null,
            "overflow_y": null,
            "overflow_x": null,
            "grid_auto_flow": null,
            "grid_area": null,
            "grid_template_columns": null,
            "flex": null,
            "_model_name": "LayoutModel",
            "justify_items": null,
            "grid_row": null,
            "max_height": null,
            "align_content": null,
            "visibility": null,
            "align_self": null,
            "height": null,
            "min_height": null,
            "padding": null,
            "grid_auto_rows": null,
            "grid_gap": null,
            "max_width": null,
            "order": null,
            "_view_module_version": "1.2.0",
            "grid_template_areas": null,
            "object_position": null,
            "object_fit": null,
            "grid_auto_columns": null,
            "margin": null,
            "display": null,
            "left": null
          }
        },
        "065e9ab8a5b5464ab3545b4f2728e7d8": {
          "model_module": "@jupyter-widgets/controls",
          "model_name": "FloatProgressModel",
          "state": {
            "_view_name": "ProgressView",
            "style": "IPY_MODEL_cb9bf3ccd58f4db7a059e64ccd299672",
            "_dom_classes": [],
            "description": "  0%",
            "_model_name": "FloatProgressModel",
            "bar_style": "danger",
            "max": 408,
            "_view_module": "@jupyter-widgets/controls",
            "_model_module_version": "1.5.0",
            "value": 0,
            "_view_count": null,
            "_view_module_version": "1.5.0",
            "orientation": "horizontal",
            "min": 0,
            "description_tooltip": null,
            "_model_module": "@jupyter-widgets/controls",
            "layout": "IPY_MODEL_5768a3212e8147fbab027848b1aa46ab"
          }
        },
        "b952d152c5cd48d6bd9e03bd8c075793": {
          "model_module": "@jupyter-widgets/controls",
          "model_name": "HTMLModel",
          "state": {
            "_view_name": "HTMLView",
            "style": "IPY_MODEL_f949123908f447db95d5b08842ab531d",
            "_dom_classes": [],
            "description": "",
            "_model_name": "HTMLModel",
            "placeholder": "​",
            "_view_module": "@jupyter-widgets/controls",
            "_model_module_version": "1.5.0",
            "value": " 0/408 [00:00&lt;?, ? examples/s]",
            "_view_count": null,
            "_view_module_version": "1.5.0",
            "description_tooltip": null,
            "_model_module": "@jupyter-widgets/controls",
            "layout": "IPY_MODEL_030e64007cca4820a4a12a4d74fa9ed7"
          }
        },
        "cb9bf3ccd58f4db7a059e64ccd299672": {
          "model_module": "@jupyter-widgets/controls",
          "model_name": "ProgressStyleModel",
          "state": {
            "_view_name": "StyleView",
            "_model_name": "ProgressStyleModel",
            "description_width": "initial",
            "_view_module": "@jupyter-widgets/base",
            "_model_module_version": "1.5.0",
            "_view_count": null,
            "_view_module_version": "1.2.0",
            "bar_color": null,
            "_model_module": "@jupyter-widgets/controls"
          }
        },
        "5768a3212e8147fbab027848b1aa46ab": {
          "model_module": "@jupyter-widgets/base",
          "model_name": "LayoutModel",
          "state": {
            "_view_name": "LayoutView",
            "grid_template_rows": null,
            "right": null,
            "justify_content": null,
            "_view_module": "@jupyter-widgets/base",
            "overflow": null,
            "_model_module_version": "1.2.0",
            "_view_count": null,
            "flex_flow": null,
            "width": null,
            "min_width": null,
            "border": null,
            "align_items": null,
            "bottom": null,
            "_model_module": "@jupyter-widgets/base",
            "top": null,
            "grid_column": null,
            "overflow_y": null,
            "overflow_x": null,
            "grid_auto_flow": null,
            "grid_area": null,
            "grid_template_columns": null,
            "flex": null,
            "_model_name": "LayoutModel",
            "justify_items": null,
            "grid_row": null,
            "max_height": null,
            "align_content": null,
            "visibility": null,
            "align_self": null,
            "height": null,
            "min_height": null,
            "padding": null,
            "grid_auto_rows": null,
            "grid_gap": null,
            "max_width": null,
            "order": null,
            "_view_module_version": "1.2.0",
            "grid_template_areas": null,
            "object_position": null,
            "object_fit": null,
            "grid_auto_columns": null,
            "margin": null,
            "display": null,
            "left": null
          }
        },
        "f949123908f447db95d5b08842ab531d": {
          "model_module": "@jupyter-widgets/controls",
          "model_name": "DescriptionStyleModel",
          "state": {
            "_view_name": "StyleView",
            "_model_name": "DescriptionStyleModel",
            "description_width": "",
            "_view_module": "@jupyter-widgets/base",
            "_model_module_version": "1.5.0",
            "_view_count": null,
            "_view_module_version": "1.2.0",
            "_model_module": "@jupyter-widgets/controls"
          }
        },
        "030e64007cca4820a4a12a4d74fa9ed7": {
          "model_module": "@jupyter-widgets/base",
          "model_name": "LayoutModel",
          "state": {
            "_view_name": "LayoutView",
            "grid_template_rows": null,
            "right": null,
            "justify_content": null,
            "_view_module": "@jupyter-widgets/base",
            "overflow": null,
            "_model_module_version": "1.2.0",
            "_view_count": null,
            "flex_flow": null,
            "width": null,
            "min_width": null,
            "border": null,
            "align_items": null,
            "bottom": null,
            "_model_module": "@jupyter-widgets/base",
            "top": null,
            "grid_column": null,
            "overflow_y": null,
            "overflow_x": null,
            "grid_auto_flow": null,
            "grid_area": null,
            "grid_template_columns": null,
            "flex": null,
            "_model_name": "LayoutModel",
            "justify_items": null,
            "grid_row": null,
            "max_height": null,
            "align_content": null,
            "visibility": null,
            "align_self": null,
            "height": null,
            "min_height": null,
            "padding": null,
            "grid_auto_rows": null,
            "grid_gap": null,
            "max_width": null,
            "order": null,
            "_view_module_version": "1.2.0",
            "grid_template_areas": null,
            "object_position": null,
            "object_fit": null,
            "grid_auto_columns": null,
            "margin": null,
            "display": null,
            "left": null
          }
        },
        "8a8816b7ff134210971a1e345d820c6a": {
          "model_module": "@jupyter-widgets/controls",
          "model_name": "HBoxModel",
          "state": {
            "_view_name": "HBoxView",
            "_dom_classes": [],
            "_model_name": "HBoxModel",
            "_view_module": "@jupyter-widgets/controls",
            "_model_module_version": "1.5.0",
            "_view_count": null,
            "_view_module_version": "1.5.0",
            "box_style": "",
            "layout": "IPY_MODEL_9f29b36101804bc5b097482baee8e77a",
            "_model_module": "@jupyter-widgets/controls",
            "children": [
              "IPY_MODEL_0b7a7e0fc12543e9b0d3fb4587b717e5",
              "IPY_MODEL_48cc7379b6ea4726970b8edcccaec54f"
            ]
          }
        },
        "9f29b36101804bc5b097482baee8e77a": {
          "model_module": "@jupyter-widgets/base",
          "model_name": "LayoutModel",
          "state": {
            "_view_name": "LayoutView",
            "grid_template_rows": null,
            "right": null,
            "justify_content": null,
            "_view_module": "@jupyter-widgets/base",
            "overflow": null,
            "_model_module_version": "1.2.0",
            "_view_count": null,
            "flex_flow": null,
            "width": null,
            "min_width": null,
            "border": null,
            "align_items": null,
            "bottom": null,
            "_model_module": "@jupyter-widgets/base",
            "top": null,
            "grid_column": null,
            "overflow_y": null,
            "overflow_x": null,
            "grid_auto_flow": null,
            "grid_area": null,
            "grid_template_columns": null,
            "flex": null,
            "_model_name": "LayoutModel",
            "justify_items": null,
            "grid_row": null,
            "max_height": null,
            "align_content": null,
            "visibility": null,
            "align_self": null,
            "height": null,
            "min_height": null,
            "padding": null,
            "grid_auto_rows": null,
            "grid_gap": null,
            "max_width": null,
            "order": null,
            "_view_module_version": "1.2.0",
            "grid_template_areas": null,
            "object_position": null,
            "object_fit": null,
            "grid_auto_columns": null,
            "margin": null,
            "display": null,
            "left": null
          }
        },
        "0b7a7e0fc12543e9b0d3fb4587b717e5": {
          "model_module": "@jupyter-widgets/controls",
          "model_name": "FloatProgressModel",
          "state": {
            "_view_name": "ProgressView",
            "style": "IPY_MODEL_f4be2dd5f9da441cb359df3620276dd8",
            "_dom_classes": [],
            "description": "",
            "_model_name": "FloatProgressModel",
            "bar_style": "info",
            "max": 1,
            "_view_module": "@jupyter-widgets/controls",
            "_model_module_version": "1.5.0",
            "value": 1,
            "_view_count": null,
            "_view_module_version": "1.5.0",
            "orientation": "horizontal",
            "min": 0,
            "description_tooltip": null,
            "_model_module": "@jupyter-widgets/controls",
            "layout": "IPY_MODEL_46b426d6208e4f03bdad8134ab0b05fd"
          }
        },
        "48cc7379b6ea4726970b8edcccaec54f": {
          "model_module": "@jupyter-widgets/controls",
          "model_name": "HTMLModel",
          "state": {
            "_view_name": "HTMLView",
            "style": "IPY_MODEL_49edfa4d164d4c0b8cbb23ee028b4937",
            "_dom_classes": [],
            "description": "",
            "_model_name": "HTMLModel",
            "placeholder": "​",
            "_view_module": "@jupyter-widgets/controls",
            "_model_module_version": "1.5.0",
            "value": " 1725/0 [00:00&lt;00:00, 2310.99 examples/s]",
            "_view_count": null,
            "_view_module_version": "1.5.0",
            "description_tooltip": null,
            "_model_module": "@jupyter-widgets/controls",
            "layout": "IPY_MODEL_48be220265c34abdae9aee4719bd5de4"
          }
        },
        "f4be2dd5f9da441cb359df3620276dd8": {
          "model_module": "@jupyter-widgets/controls",
          "model_name": "ProgressStyleModel",
          "state": {
            "_view_name": "StyleView",
            "_model_name": "ProgressStyleModel",
            "description_width": "initial",
            "_view_module": "@jupyter-widgets/base",
            "_model_module_version": "1.5.0",
            "_view_count": null,
            "_view_module_version": "1.2.0",
            "bar_color": null,
            "_model_module": "@jupyter-widgets/controls"
          }
        },
        "46b426d6208e4f03bdad8134ab0b05fd": {
          "model_module": "@jupyter-widgets/base",
          "model_name": "LayoutModel",
          "state": {
            "_view_name": "LayoutView",
            "grid_template_rows": null,
            "right": null,
            "justify_content": null,
            "_view_module": "@jupyter-widgets/base",
            "overflow": null,
            "_model_module_version": "1.2.0",
            "_view_count": null,
            "flex_flow": null,
            "width": null,
            "min_width": null,
            "border": null,
            "align_items": null,
            "bottom": null,
            "_model_module": "@jupyter-widgets/base",
            "top": null,
            "grid_column": null,
            "overflow_y": null,
            "overflow_x": null,
            "grid_auto_flow": null,
            "grid_area": null,
            "grid_template_columns": null,
            "flex": null,
            "_model_name": "LayoutModel",
            "justify_items": null,
            "grid_row": null,
            "max_height": null,
            "align_content": null,
            "visibility": null,
            "align_self": null,
            "height": null,
            "min_height": null,
            "padding": null,
            "grid_auto_rows": null,
            "grid_gap": null,
            "max_width": null,
            "order": null,
            "_view_module_version": "1.2.0",
            "grid_template_areas": null,
            "object_position": null,
            "object_fit": null,
            "grid_auto_columns": null,
            "margin": null,
            "display": null,
            "left": null
          }
        },
        "49edfa4d164d4c0b8cbb23ee028b4937": {
          "model_module": "@jupyter-widgets/controls",
          "model_name": "DescriptionStyleModel",
          "state": {
            "_view_name": "StyleView",
            "_model_name": "DescriptionStyleModel",
            "description_width": "",
            "_view_module": "@jupyter-widgets/base",
            "_model_module_version": "1.5.0",
            "_view_count": null,
            "_view_module_version": "1.2.0",
            "_model_module": "@jupyter-widgets/controls"
          }
        },
        "48be220265c34abdae9aee4719bd5de4": {
          "model_module": "@jupyter-widgets/base",
          "model_name": "LayoutModel",
          "state": {
            "_view_name": "LayoutView",
            "grid_template_rows": null,
            "right": null,
            "justify_content": null,
            "_view_module": "@jupyter-widgets/base",
            "overflow": null,
            "_model_module_version": "1.2.0",
            "_view_count": null,
            "flex_flow": null,
            "width": null,
            "min_width": null,
            "border": null,
            "align_items": null,
            "bottom": null,
            "_model_module": "@jupyter-widgets/base",
            "top": null,
            "grid_column": null,
            "overflow_y": null,
            "overflow_x": null,
            "grid_auto_flow": null,
            "grid_area": null,
            "grid_template_columns": null,
            "flex": null,
            "_model_name": "LayoutModel",
            "justify_items": null,
            "grid_row": null,
            "max_height": null,
            "align_content": null,
            "visibility": null,
            "align_self": null,
            "height": null,
            "min_height": null,
            "padding": null,
            "grid_auto_rows": null,
            "grid_gap": null,
            "max_width": null,
            "order": null,
            "_view_module_version": "1.2.0",
            "grid_template_areas": null,
            "object_position": null,
            "object_fit": null,
            "grid_auto_columns": null,
            "margin": null,
            "display": null,
            "left": null
          }
        },
        "159cf9a7e5854fb5aad4a06c55bb5e84": {
          "model_module": "@jupyter-widgets/controls",
          "model_name": "HBoxModel",
          "state": {
            "_view_name": "HBoxView",
            "_dom_classes": [],
            "_model_name": "HBoxModel",
            "_view_module": "@jupyter-widgets/controls",
            "_model_module_version": "1.5.0",
            "_view_count": null,
            "_view_module_version": "1.5.0",
            "box_style": "",
            "layout": "IPY_MODEL_5cd4b2420eac4e06a2d62acdcd6d221a",
            "_model_module": "@jupyter-widgets/controls",
            "children": [
              "IPY_MODEL_1256895339ee46f089bccb51d0bf26e8",
              "IPY_MODEL_2797ffc6f9cf413c9c16d2056a5a70e6"
            ]
          }
        },
        "5cd4b2420eac4e06a2d62acdcd6d221a": {
          "model_module": "@jupyter-widgets/base",
          "model_name": "LayoutModel",
          "state": {
            "_view_name": "LayoutView",
            "grid_template_rows": null,
            "right": null,
            "justify_content": null,
            "_view_module": "@jupyter-widgets/base",
            "overflow": null,
            "_model_module_version": "1.2.0",
            "_view_count": null,
            "flex_flow": null,
            "width": null,
            "min_width": null,
            "border": null,
            "align_items": null,
            "bottom": null,
            "_model_module": "@jupyter-widgets/base",
            "top": null,
            "grid_column": null,
            "overflow_y": null,
            "overflow_x": null,
            "grid_auto_flow": null,
            "grid_area": null,
            "grid_template_columns": null,
            "flex": null,
            "_model_name": "LayoutModel",
            "justify_items": null,
            "grid_row": null,
            "max_height": null,
            "align_content": null,
            "visibility": null,
            "align_self": null,
            "height": null,
            "min_height": null,
            "padding": null,
            "grid_auto_rows": null,
            "grid_gap": null,
            "max_width": null,
            "order": null,
            "_view_module_version": "1.2.0",
            "grid_template_areas": null,
            "object_position": null,
            "object_fit": null,
            "grid_auto_columns": null,
            "margin": null,
            "display": null,
            "left": null
          }
        },
        "1256895339ee46f089bccb51d0bf26e8": {
          "model_module": "@jupyter-widgets/controls",
          "model_name": "FloatProgressModel",
          "state": {
            "_view_name": "ProgressView",
            "style": "IPY_MODEL_6551b9349fc546859a9760b3581880c6",
            "_dom_classes": [],
            "description": "  0%",
            "_model_name": "FloatProgressModel",
            "bar_style": "danger",
            "max": 1725,
            "_view_module": "@jupyter-widgets/controls",
            "_model_module_version": "1.5.0",
            "value": 0,
            "_view_count": null,
            "_view_module_version": "1.5.0",
            "orientation": "horizontal",
            "min": 0,
            "description_tooltip": null,
            "_model_module": "@jupyter-widgets/controls",
            "layout": "IPY_MODEL_fb291d9526d44b0eb59396a77ff170d9"
          }
        },
        "2797ffc6f9cf413c9c16d2056a5a70e6": {
          "model_module": "@jupyter-widgets/controls",
          "model_name": "HTMLModel",
          "state": {
            "_view_name": "HTMLView",
            "style": "IPY_MODEL_b6bc9e3a8cf7419f9e12426d9b6e5bda",
            "_dom_classes": [],
            "description": "",
            "_model_name": "HTMLModel",
            "placeholder": "​",
            "_view_module": "@jupyter-widgets/controls",
            "_model_module_version": "1.5.0",
            "value": " 0/1725 [00:00&lt;?, ? examples/s]",
            "_view_count": null,
            "_view_module_version": "1.5.0",
            "description_tooltip": null,
            "_model_module": "@jupyter-widgets/controls",
            "layout": "IPY_MODEL_9960d2ee766c40099599ca4f667c713c"
          }
        },
        "6551b9349fc546859a9760b3581880c6": {
          "model_module": "@jupyter-widgets/controls",
          "model_name": "ProgressStyleModel",
          "state": {
            "_view_name": "StyleView",
            "_model_name": "ProgressStyleModel",
            "description_width": "initial",
            "_view_module": "@jupyter-widgets/base",
            "_model_module_version": "1.5.0",
            "_view_count": null,
            "_view_module_version": "1.2.0",
            "bar_color": null,
            "_model_module": "@jupyter-widgets/controls"
          }
        },
        "fb291d9526d44b0eb59396a77ff170d9": {
          "model_module": "@jupyter-widgets/base",
          "model_name": "LayoutModel",
          "state": {
            "_view_name": "LayoutView",
            "grid_template_rows": null,
            "right": null,
            "justify_content": null,
            "_view_module": "@jupyter-widgets/base",
            "overflow": null,
            "_model_module_version": "1.2.0",
            "_view_count": null,
            "flex_flow": null,
            "width": null,
            "min_width": null,
            "border": null,
            "align_items": null,
            "bottom": null,
            "_model_module": "@jupyter-widgets/base",
            "top": null,
            "grid_column": null,
            "overflow_y": null,
            "overflow_x": null,
            "grid_auto_flow": null,
            "grid_area": null,
            "grid_template_columns": null,
            "flex": null,
            "_model_name": "LayoutModel",
            "justify_items": null,
            "grid_row": null,
            "max_height": null,
            "align_content": null,
            "visibility": null,
            "align_self": null,
            "height": null,
            "min_height": null,
            "padding": null,
            "grid_auto_rows": null,
            "grid_gap": null,
            "max_width": null,
            "order": null,
            "_view_module_version": "1.2.0",
            "grid_template_areas": null,
            "object_position": null,
            "object_fit": null,
            "grid_auto_columns": null,
            "margin": null,
            "display": null,
            "left": null
          }
        },
        "b6bc9e3a8cf7419f9e12426d9b6e5bda": {
          "model_module": "@jupyter-widgets/controls",
          "model_name": "DescriptionStyleModel",
          "state": {
            "_view_name": "StyleView",
            "_model_name": "DescriptionStyleModel",
            "description_width": "",
            "_view_module": "@jupyter-widgets/base",
            "_model_module_version": "1.5.0",
            "_view_count": null,
            "_view_module_version": "1.2.0",
            "_model_module": "@jupyter-widgets/controls"
          }
        },
        "9960d2ee766c40099599ca4f667c713c": {
          "model_module": "@jupyter-widgets/base",
          "model_name": "LayoutModel",
          "state": {
            "_view_name": "LayoutView",
            "grid_template_rows": null,
            "right": null,
            "justify_content": null,
            "_view_module": "@jupyter-widgets/base",
            "overflow": null,
            "_model_module_version": "1.2.0",
            "_view_count": null,
            "flex_flow": null,
            "width": null,
            "min_width": null,
            "border": null,
            "align_items": null,
            "bottom": null,
            "_model_module": "@jupyter-widgets/base",
            "top": null,
            "grid_column": null,
            "overflow_y": null,
            "overflow_x": null,
            "grid_auto_flow": null,
            "grid_area": null,
            "grid_template_columns": null,
            "flex": null,
            "_model_name": "LayoutModel",
            "justify_items": null,
            "grid_row": null,
            "max_height": null,
            "align_content": null,
            "visibility": null,
            "align_self": null,
            "height": null,
            "min_height": null,
            "padding": null,
            "grid_auto_rows": null,
            "grid_gap": null,
            "max_width": null,
            "order": null,
            "_view_module_version": "1.2.0",
            "grid_template_areas": null,
            "object_position": null,
            "object_fit": null,
            "grid_auto_columns": null,
            "margin": null,
            "display": null,
            "left": null
          }
        }
      }
    }
  },
  "cells": [
    {
      "cell_type": "markdown",
      "metadata": {
        "id": "view-in-github",
        "colab_type": "text"
      },
      "source": [
        "<a href=\"https://colab.research.google.com/github/martin-fabbri/colab-notebooks/blob/master/bert/tf_glue_tasks_bert.ipynb\" target=\"_parent\"><img src=\"https://colab.research.google.com/assets/colab-badge.svg\" alt=\"Open In Colab\"/></a>"
      ]
    },
    {
      "cell_type": "markdown",
      "metadata": {
        "id": "6xjncqQbllB6"
      },
      "source": [
        "# Solving GLUE tasks using BERT"
      ]
    },
    {
      "cell_type": "markdown",
      "metadata": {
        "id": "yLEV7ljanHT-"
      },
      "source": [
        "## What is the GLUE benchmark?\n",
        "\n",
        "The General Language Undertanding Evaluation benchmark (GLUE) is collection of datasets used for training, evaluating and analyzing NLP models. The collection consists of nine difficult and diverse tasks datasets.\n",
        "\n",
        "Dataset | Description | Data sample | Metric(s)  \n",
        "--- | --- | --- | ---\n",
        "CoLA | **Corpus of Linguistic Acceptability**<br>Is the sentence grammatically correct? | This building is than that one. <br> **= Ungrammatical** | Matthews\n",
        "SST-2 | **Stanford Sentiment Treebank**<br>The task is to predict the sentiment of a given sentence. | The movie is funny, smart, and most of all alive.<br>**=.93056(very positive)** | Accuracy\n",
        "MRPC | Microsoft Research Paraphrase Corpus<br>Determine whether a pair of sentences are semantically equivalent | a) Yesterday, Taiwan reported 35 new infections, briging the total number of cases to 418.<br>b) The island reported another 35 probable cases yesterday, taking its total to 418.<br>**A Paraphrase** | Accuracy/F1\n",
        "QQP | **Quora Question Pairs2**<br>Are the two questions similar? | a) How to increase the speed of my internet connection while using a VPN?<br>b)How can Internet speed be increased by hacking through DNS?<br>**=Not similar** | Accuracy/F1\n",
        "MNLI | **Multi-Genre Natural Language Inference**<br>Does sentence A entail or contradict sentence B?| a) Tourist information offices can be very helpful.<b>Tourist information offices are never of any help.<br>**=Contradiction** | Accuracy\n",
        "WNLI | **Winograd Natural Language Inference**<br> Sentence B replaces sentence A's ambiguous pronoun with one of the nouns - is the corrent noun? | a) The thropy did not fit in the suitcase because it was too small.<br>b) The thropy did not fit in the suitcase because the suitcase was too small.<br>=Corrent Referent | Accuracy"
      ]
    },
    {
      "cell_type": "markdown",
      "metadata": {
        "id": "HBp5OcRLt6Ou"
      },
      "source": [
        "##Setup the environment\n"
      ]
    },
    {
      "cell_type": "code",
      "metadata": {
        "id": "GXnp-FuYnGyJ",
        "cellView": "form"
      },
      "source": [
        "#@title ###i. Install dependencies\n",
        "#@markdown - tensorflow-text: text preprocessing\n",
        "#@markdown - tf-models-official: pre-trained models hosted on tensorflow-hub\n",
        "%%capture --no-stderr\n",
        "!pip install -U pip\n",
        "!pip install -Uqq tensorflow-text\n",
        "!pip install -Uqq tf-models-official"
      ],
      "execution_count": 1,
      "outputs": []
    },
    {
      "cell_type": "code",
      "metadata": {
        "id": "Y1kuPVuIlY5l",
        "colab": {
          "base_uri": "https://localhost:8080/"
        },
        "cellView": "form",
        "outputId": "1286826b-8b29-4ba5-fe93-628cc4488419"
      },
      "source": [
        "#@title ###ii. Import packages\n",
        "import os\n",
        "\n",
        "import numpy as np\n",
        "import pandas as pd\n",
        "import tensorflow as tf\n",
        "import tensorflow_addons as tfa\n",
        "import tensorflow_datasets as tfds\n",
        "import tensorflow_hub as hub\n",
        "import tensorflow_text as text\n",
        "from google.colab import data_table\n",
        "from official.nlp import optimization\n",
        "from tensorflow.config.experimental import list_physical_devices\n",
        "from tensorflow.keras import Model\n",
        "from tensorflow.keras.layers import Dense, Dropout, Input\n",
        "from tensorflow.keras.preprocessing import text_dataset_from_directory\n",
        "\n",
        "tf.get_logger().setLevel(\"ERROR\")\n",
        "\n",
        "print(\"tensorflow          \", tf.__version__)\n",
        "print(\"tensorflow_hub      \", hub.__version__)\n",
        "print(\"tensorflow_addons   \", tfa.__version__)\n",
        "print(\"tensorflow_datasets \", tfds.__version__)"
      ],
      "execution_count": 2,
      "outputs": [
        {
          "output_type": "stream",
          "text": [
            "tensorflow           2.4.0\n",
            "tensorflow_hub       0.10.0\n",
            "tensorflow_addons    0.8.3\n",
            "tensorflow_datasets  4.0.1\n"
          ],
          "name": "stdout"
        }
      ]
    },
    {
      "cell_type": "code",
      "metadata": {
        "colab": {
          "base_uri": "https://localhost:8080/"
        },
        "id": "jpLc0gnUw3KI",
        "cellView": "form",
        "outputId": "410dbf8d-c4ff-4649-b82f-fa25db7e2405"
      },
      "source": [
        "#@title ###iii. Choose Accelerator Strategy\n",
        "#@markdown Ideally you should run this notebook using a TPU. \n",
        "#@markdown In Colab, choose Runtime -> Change runtime type and verify that a \n",
        "#@markdown TPU is selected.\n",
        "accelerator_strategy = \"TPU\" #@param [\"TPU\", \"GPU\", \"None\"]\n",
        "#@markdown The TPU strategy requires to read checkpoints directly from\n",
        "#@markdown TFHub's cloud storage bucket. It's recommended to setup a GCP\n",
        "#@markdown bucket store the uncompressed checkpoints.\n",
        "tfhub_model_load_format = \"UNCOMPRESSED\"  # @param [\"UNCOMPRESSED\", \"GCP BUCKET\"]\n",
        "os.environ[\"TFHUB_MODEL_LOAD_FORMAT\"] = tfhub_model_load_format  # COLAB ONLY\n",
        "\n",
        "tpu_address = os.environ.get(\"COLAB_TPU_ADDR\", None)\n",
        "#GCP TPU\n",
        "#tpu_address = \"Insert TPU address here\"  # @param {type:\"string\"}\n",
        "\n",
        "if tpu_address:\n",
        "    cluster_resolver = tf.distribute.cluster_resolver.TPUClusterResolver(\n",
        "        tpu=f\"grpc://{tpu_address}\"\n",
        "    )\n",
        "    tf.config.experimental_connect_to_cluster(cluster_resolver)\n",
        "    tf.tpu.experimental.initialize_tpu_system(cluster_resolver)\n",
        "    strategy = tf.distribute.TPUStrategy(cluster_resolver)\n",
        "    print(\"Using TPU\")\n",
        "    print(\"TPU devices: \", tf.config.list_logical_devices(\"TPU\"))\n",
        "elif tf.test.is_gpu_available():\n",
        "    physical_gpus = list_physical_devices(\"GPU\")\n",
        "    logical_gpus = tf.config.experimental.list_logical_devices(\"GPU\")\n",
        "    print(\"Using GPU\")\n",
        "    print(\n",
        "        len(physical_gpus), \"Physical GPUs,\", len(logical_gpus), \"Logical GPU\"\n",
        "    )\n",
        "else:\n",
        "    raise ValueError(\"Running on CPU is not recommended.\")\n",
        "\n"
      ],
      "execution_count": 3,
      "outputs": [
        {
          "output_type": "stream",
          "text": [
            "Using TPU\n",
            "TPU devices:  [LogicalDevice(name='/job:worker/replica:0/task:0/device:TPU:7', device_type='TPU'), LogicalDevice(name='/job:worker/replica:0/task:0/device:TPU:6', device_type='TPU'), LogicalDevice(name='/job:worker/replica:0/task:0/device:TPU:5', device_type='TPU'), LogicalDevice(name='/job:worker/replica:0/task:0/device:TPU:4', device_type='TPU'), LogicalDevice(name='/job:worker/replica:0/task:0/device:TPU:3', device_type='TPU'), LogicalDevice(name='/job:worker/replica:0/task:0/device:TPU:0', device_type='TPU'), LogicalDevice(name='/job:worker/replica:0/task:0/device:TPU:1', device_type='TPU'), LogicalDevice(name='/job:worker/replica:0/task:0/device:TPU:2', device_type='TPU')]\n"
          ],
          "name": "stdout"
        }
      ]
    },
    {
      "cell_type": "markdown",
      "metadata": {
        "id": "UrdGBOIaqljp"
      },
      "source": [
        "## Game plan\n",
        "\n",
        "1. Select a BERT model from the list of pre-trained models available. \n",
        "2. Load the selected model from Tensorflow Hub.\n",
        "3. Choose a GLUE task to solve and download the associated dataset.\n",
        "4. Preprocess the dataset text according to the task seleted.\n",
        "5. Fine-tune BERT.\n",
        "6. Save the trained .\n",
        "7. Test the saved model with our reserved ."
      ]
    },
    {
      "cell_type": "markdown",
      "metadata": {
        "id": "6FaXTwWDqET3"
      },
      "source": [
        "## 1. BERT models overview\n",
        "\n",
        "Currently these is the family of BERT models available on Tensorflow Hub:\n",
        "\n",
        "- `BERT-Base`, `Uncased` the original BERT models.\n",
        "- `Small BERTs` maintain the original architecture but with fewer and/or smaller Transformer blocks.\n",
        "- `ALBERT` reduces the model size by sharing parameters between layers. Doesn't improve processing times.\n",
        "- `BERT Experts` offer a choice of domain specific pre-trained models.\n",
        "- `Electra` gets trained as a discriminator from GANs. (A must try!)\n",
        "- `BERT with talking-heads Attention` has improved the core of the Transformers architecture."
      ]
    },
    {
      "cell_type": "code",
      "metadata": {
        "id": "KxunrSOg0PRD",
        "colab": {
          "base_uri": "https://localhost:8080/"
        },
        "cellView": "form",
        "outputId": "78fa7c99-333a-4e86-9d36-ebe462b05437"
      },
      "source": [
        "#@title ###Choose a BERT model to fine-tune\n",
        "#@markdown You might want to start with a small model first `sm BERT uncased` \n",
        "#@markdown and then upgrader to a bigger model to improve accuracy.\n",
        "\n",
        "bert_model_name = \"sm BERT uncased\" #@param [\"sm BERT uncased\", \"albert\", \"sm electra\", \"talking heads\"]\n",
        "\n",
        "map_name_to_handle = {\n",
        "    'sm BERT uncased':\n",
        "        'https://tfhub.dev/tensorflow/bert_en_uncased_L-12_H-768_A-12/3',\n",
        "    'albert':\n",
        "        'https://tfhub.dev/tensorflow/albert_en_base/2',\n",
        "    'sm electra':\n",
        "        'https://tfhub.dev/google/electra_small/2',\n",
        "    'talking heads':\n",
        "        'https://tfhub.dev/tensorflow/talkheads_ggelu_bert_en_base/1',\n",
        "}\n",
        "\n",
        "map_model_to_preprocess = {\n",
        "    'sm BERT uncased':\n",
        "        'https://tfhub.dev/tensorflow/bert_en_uncased_preprocess/2',\n",
        "    'albert':\n",
        "        'https://tfhub.dev/tensorflow/albert_en_preprocess/2',\n",
        "    'sm electra':\n",
        "        'https://tfhub.dev/tensorflow/bert_en_uncased_preprocess/2',\n",
        "    'talking heads':\n",
        "        'https://tfhub.dev/tensorflow/bert_en_uncased_preprocess/2',\n",
        "}\n",
        "\n",
        "tfhub_handle_encoder = map_name_to_handle[bert_model_name]\n",
        "tfhub_handle_preprocess = map_model_to_preprocess[bert_model_name]\n",
        "\n",
        "print(f'BERT model selected           : {tfhub_handle_encoder}')\n",
        "print(f'Preprocess model auto-selected: {tfhub_handle_preprocess}')"
      ],
      "execution_count": 4,
      "outputs": [
        {
          "output_type": "stream",
          "text": [
            "BERT model selected           : https://tfhub.dev/tensorflow/bert_en_uncased_L-12_H-768_A-12/3\n",
            "Preprocess model auto-selected: https://tfhub.dev/tensorflow/bert_en_uncased_preprocess/2\n"
          ],
          "name": "stdout"
        }
      ]
    },
    {
      "cell_type": "markdown",
      "metadata": {
        "id": "Ze7kqFa7vPnc"
      },
      "source": [
        "## 2. Preprocess the dataset\n",
        "\n",
        "We will differenciate the preprocessing task in two stages.\n",
        "\n",
        "- During training, where we will preprocess all the dataset as part of the input pipeline before feeding this data to our model. It's a good practice to keep the CPU busy preprocessing data while the GPU/TPU is processing a batch.\n",
        "- During inference, we will merge the processing task to our saved model to keep a consistent input performing inferences.\n",
        "\n"
      ]
    },
    {
      "cell_type": "code",
      "metadata": {
        "id": "Ay2-Pc6K3JS2",
        "colab": {
          "base_uri": "https://localhost:8080/"
        },
        "outputId": "507a6728-aed8-4756-f01e-efd2dbd46ccc"
      },
      "source": [
        "#@title ###Testing text tokenization\n",
        "text = \"Preprocessing a dataset is fun!\" #@param {type:\"string\"}\n",
        "bert_preprocess = hub.load(tfhub_handle_preprocess)\n",
        "tok = bert_preprocess.tokenize(tf.constant([text]))\n",
        "print(tok)"
      ],
      "execution_count": 5,
      "outputs": [
        {
          "output_type": "stream",
          "text": [
            "<tf.RaggedTensor [[[17463, 3217, 9623, 7741], [1037], [2951, 13462], [2003], [4569], [999]]]>\n"
          ],
          "name": "stdout"
        }
      ]
    },
    {
      "cell_type": "code",
      "metadata": {
        "colab": {
          "base_uri": "https://localhost:8080/"
        },
        "id": "ITmj2kvXmSeA",
        "outputId": "72d2e262-ce4e-4bf4-a0fd-933d36440c82"
      },
      "source": [
        "#@title ###Packing inputs (padding, masking, and sentence id)\n",
        "max_sequence_length = 20 #@param {type:\"number\"}\n",
        "\n",
        "preprocessed_sentence = bert_preprocess.bert_pack_inputs(\n",
        "    [tok, tok], tf.constant(max_sequence_length)\n",
        ")\n",
        "\n",
        "print(f\"Keys       : {list(preprocessed_sentence.keys())}\")\n",
        "#@markdown `input_word_ids` token ids truncated to max_sequence_length.<br>\n",
        "print(f\"Shape      : {preprocessed_sentence['input_word_ids'].shape}\")\n",
        "print(f\"Word Ids   : {preprocessed_sentence['input_word_ids'][0, :10]}\")\n",
        "#@markdown `input_mask` differenciates content from padding. \n",
        "print(f\"Input Mask : {preprocessed_sentence['input_mask'][0, :10]}\")\n",
        "print(f\"Type Ids   : {preprocessed_sentence['input_type_ids'][0, :100]}\")"
      ],
      "execution_count": 6,
      "outputs": [
        {
          "output_type": "stream",
          "text": [
            "Keys       : ['input_word_ids', 'input_mask', 'input_type_ids']\n",
            "Shape      : (1, 20)\n",
            "Word Ids   : [  101 17463  3217  9623  7741  1037  2951 13462  2003  4569]\n",
            "Input Mask : [1 1 1 1 1 1 1 1 1 1]\n",
            "Type Ids   : [0 0 0 0 0 0 0 0 0 0 0 1 1 1 1 1 1 1 1 1]\n"
          ],
          "name": "stdout"
        }
      ]
    },
    {
      "cell_type": "markdown",
      "metadata": {
        "id": "SmuxZWyMwXa1"
      },
      "source": [
        "BERT adds a \"position embedding\" to the token embedding of each input, and these come from a fixed-size lookup table. That imposes a max seq length of 512 (which is also a practival limit, due to quadratic growth of attention processing). We will default to 128."
      ]
    },
    {
      "cell_type": "code",
      "metadata": {
        "id": "pWk4_nMKwW5h"
      },
      "source": [
        "MAX_SEQUENCE_LENGTH = 128\n",
        "\n",
        "\n",
        "def make_bert_preprocess_model(\n",
        "    sentence_features, seq_length=MAX_SEQUENCE_LENGTH\n",
        "):\n",
        "    \"\"\"\n",
        "    Packs string features in the format expected by BERT.\n",
        "\n",
        "    Args:\n",
        "        sentence_features: list with the names of string-values features.\n",
        "        seq_lenght: defines the sequence length of BERT inputs.\n",
        "\n",
        "    Returns:\n",
        "        A Keras model that can be called on a list or dict of string Tensors\n",
        "        and returns a dict of tensors for input to BERT.\n",
        "    \"\"\"\n",
        "    input_segments = [\n",
        "        Input(shape=(), dtype=tf.string, name=ft) for ft in sentence_features\n",
        "    ]\n",
        "\n",
        "    # tokenize the text to word pieces\n",
        "    bert_preprocess = hub.load(tfhub_handle_preprocess)\n",
        "    tokenizer = hub.KerasLayer(bert_preprocess.tokenize, name=\"tokenizer\")\n",
        "    segments = [tokenizer(s) for s in input_segments]\n",
        "\n",
        "    # # optional: trim segments in a smart way to fit seq_length.\n",
        "    # # simple cases: skip this step and let the next step apply a default\n",
        "    # # truncation to approximate equal lengths.\n",
        "    truncated_segments = segments\n",
        "\n",
        "    # pack inputs. The details (start/end token ids, dict of output tensors)\n",
        "    # are model-dependent, so this gets loaded from SavedModel.\n",
        "    packer = hub.KerasLayer(\n",
        "        bert_preprocess.bert_pack_inputs,\n",
        "        arguments=dict(seq_length=seq_length),\n",
        "        name=\"packer\",\n",
        "    )\n",
        "\n",
        "    model_inputs = packer(truncated_segments)\n",
        "    return Model(input_segments, model_inputs)\n"
      ],
      "execution_count": 7,
      "outputs": []
    },
    {
      "cell_type": "markdown",
      "metadata": {
        "id": "bnT4Jxe-4Rz_"
      },
      "source": [
        "Let's put our preprocessing model to the test."
      ]
    },
    {
      "cell_type": "code",
      "metadata": {
        "id": "HMlvWl6uqQWK",
        "colab": {
          "base_uri": "https://localhost:8080/"
        },
        "outputId": "a1f55fdb-c0aa-401a-8d44-a44d7d1f9714"
      },
      "source": [
        "text_preprocess_model = make_bert_preprocess_model([\"my_input1\", \"my_input2\"])\n",
        "test_input = [\n",
        "    np.array([\"This is a very short text!\"]),\n",
        "    np.array([\"Even shorter\"]),\n",
        "]\n",
        "text_preprocessed = text_preprocess_model(test_input)\n",
        "\n",
        "print(\"Keys           : \", list(text_preprocessed.keys()))\n",
        "print(\"Shape Word Ids : \", text_preprocessed[\"input_word_ids\"].shape)\n",
        "print(\"Word Ids       : \", text_preprocessed[\"input_word_ids\"][0, :16])\n",
        "print(\"Shape Mask     : \", text_preprocessed[\"input_mask\"].shape)\n",
        "print(\"Input Mask     : \", text_preprocessed[\"input_mask\"][0, :16])\n",
        "print(\"Shape Type Ids : \", text_preprocessed[\"input_type_ids\"].shape)\n",
        "print(\"Type Ids       : \", text_preprocessed[\"input_type_ids\"][0, :16])"
      ],
      "execution_count": 8,
      "outputs": [
        {
          "output_type": "stream",
          "text": [
            "Keys           :  ['input_mask', 'input_type_ids', 'input_word_ids']\n",
            "Shape Word Ids :  (1, 128)\n",
            "Word Ids       :  tf.Tensor(\n",
            "[ 101 2023 2003 1037 2200 2460 3793  999  102 2130 7820  102    0    0\n",
            "    0    0], shape=(16,), dtype=int32)\n",
            "Shape Mask     :  (1, 128)\n",
            "Input Mask     :  tf.Tensor([1 1 1 1 1 1 1 1 1 1 1 1 0 0 0 0], shape=(16,), dtype=int32)\n",
            "Shape Type Ids :  (1, 128)\n",
            "Type Ids       :  tf.Tensor([0 0 0 0 0 0 0 0 0 1 1 1 0 0 0 0], shape=(16,), dtype=int32)\n"
          ],
          "name": "stdout"
        }
      ]
    },
    {
      "cell_type": "markdown",
      "metadata": {
        "id": "ET7pyMOWJ8sE"
      },
      "source": [
        "Let's take a look at the model's structure."
      ]
    },
    {
      "cell_type": "code",
      "metadata": {
        "colab": {
          "base_uri": "https://localhost:8080/",
          "height": 272
        },
        "id": "tRahezwYHaTB",
        "outputId": "9138ed8d-b209-4534-f615-f8552cbfc440"
      },
      "source": [
        "tf.keras.utils.plot_model(text_preprocess_model)"
      ],
      "execution_count": 9,
      "outputs": [
        {
          "output_type": "execute_result",
          "data": {
            "image/png": "[encoded data removed]",
            "text/plain": [
              "<IPython.core.display.Image object>"
            ]
          },
          "metadata": {
            "tags": []
          },
          "execution_count": 9
        }
      ]
    },
    {
      "cell_type": "markdown",
      "metadata": {
        "id": "w45fnrkUKRkg"
      },
      "source": [
        "We will use `map` to apply the preprocessing to our entire dataset. The result is then cached for performance."
      ]
    },
    {
      "cell_type": "code",
      "metadata": {
        "id": "f1vb1FUDKFfO"
      },
      "source": [
        "AUTOTUNE = tf.data.experimental.AUTOTUNE\n",
        "\n",
        "\n",
        "def load_dataset_from_tfds(\n",
        "    in_memory_ds, info, split, batch_size, bert_preprocess_model\n",
        "):\n",
        "    is_training = split.startswith(\"train\")\n",
        "    dataset = tf.data.Dataset.from_tensor_slices(in_memory_ds[split])\n",
        "    num_samples = info.splits[split].num_examples\n",
        "\n",
        "    if is_training:\n",
        "        dataset = dataset.shuffle(num_samples)\n",
        "        dataset = dataset.repeat()\n",
        "\n",
        "    dataset = dataset.batch(batch_size)\n",
        "    dataset = dataset.map(lambda ex: (bert_preprocess_model(ex), ex[\"label\"]))\n",
        "    dataset = dataset.cache().prefetch(buffer_size=AUTOTUNE)\n",
        "    return dataset, num_samples"
      ],
      "execution_count": 10,
      "outputs": []
    },
    {
      "cell_type": "markdown",
      "metadata": {
        "id": "4R7wHl9FN3JM"
      },
      "source": [
        "## 3. Define the Classification Model\n",
        "\n",
        "GLUE processing model should be able to handle single or pair sentence classification. We will start with a simple model that process the sentence embeddings through BERT and perform the task classification using a linear dense layer. "
      ]
    },
    {
      "cell_type": "markdown",
      "metadata": {
        "id": "a3JsjiN8VwY6"
      },
      "source": [
        "But, before defining our model, let's explore the encoder embeddings we expect to pass to the dense layer (`pooled_output`). "
      ]
    },
    {
      "cell_type": "code",
      "metadata": {
        "colab": {
          "base_uri": "https://localhost:8080/"
        },
        "id": "l8ak1USHVv1R",
        "outputId": "3ee40079-5ba0-4d34-cc95-ed7c4a9f5712"
      },
      "source": [
        "bert_model = hub.KerasLayer(tfhub_handle_encoder)\n",
        "bert_results = bert_model(preprocessed_sentence)\n",
        "\n",
        "print(f\"Loaded BERT          : {tfhub_handle_encoder}\")\n",
        "print(f\"Model keys           : {list(bert_results.keys())}\")\n",
        "#@markdown `pooled_output` represents each input sentence as a whole. It's \n",
        "#@markdown equivalent to the embedding for the entire sentence.<br><br>\n",
        "print(f\"Pooled outputs shape : {bert_results['pooled_output'].shape}\")\n",
        "print(f\"Pooled outputs values: {bert_results['pooled_output'][0,:5]}\")\n",
        "\n",
        "#@markdown `sequence_output` represents each input token in the context.\n",
        "#@markdown Equivalent to the contextual embedding for every token in the \n",
        "#@markdown sentence.<br><br>\n",
        "print(f\"Sequence outputs shape : {bert_results['sequence_output'].shape}\")\n",
        "print(f\"Pooled outputs values: {bert_results['sequence_output'][0,:5]}\")\n",
        "\n",
        "#@markdown `encoder_outputs` are the intermediate activations of the `L` \n",
        "#@markdown transformer blocks.<br><br>\n",
        "\n",
        "#@markdown For fine tunning we will use the `pooled_output` array.<br><br>"
      ],
      "execution_count": 11,
      "outputs": [
        {
          "output_type": "stream",
          "text": [
            "Loaded BERT          : https://tfhub.dev/tensorflow/bert_en_uncased_L-12_H-768_A-12/3\n",
            "Model keys           : ['encoder_outputs', 'sequence_output', 'default', 'pooled_output']\n",
            "Pooled outputs shape : (1, 768)\n",
            "Pooled outputs values: [-0.9931605  -0.908297   -0.99989605  0.9948193   0.9949657 ]\n",
            "Sequence outputs shape : (1, 20, 768)\n",
            "Pooled outputs values: [[-1.3826742  -0.09816195 -0.7705845  ... -0.5630569  -0.24293363\n",
            "   0.73262954]\n",
            " [ 0.6490549  -0.4383925   0.12505011 ...  0.48145106  0.32823104\n",
            "  -0.44533965]\n",
            " [-1.6090003  -1.0835725   0.15680218 ... -0.03220626 -0.52742815\n",
            "  -0.56717074]\n",
            " [-0.12894651 -0.1555078  -0.23227423 ...  0.3682494  -0.46161163\n",
            "  -0.33133852]\n",
            " [-1.0832301  -0.6357851  -0.14271829 ...  0.05782118 -0.24189152\n",
            "  -0.14422521]]\n"
          ],
          "name": "stdout"
        }
      ]
    },
    {
      "cell_type": "code",
      "metadata": {
        "id": "sWnEb51RLq_I"
      },
      "source": [
        "def build_classifier_model(num_classes):\n",
        "    inputs = dict(\n",
        "        input_word_ids = Input(shape=(None,), dtype=tf.int32),\n",
        "        input_mask = Input(shape=(None,), dtype=tf.int32),\n",
        "        input_type_ids=Input(shape=(None,), dtype=tf.int32),\n",
        "    )\n",
        "    encoder = hub.KerasLayer(tfhub_handle_encoder, trainable=True, name=\"encoder\")\n",
        "    net = encoder(inputs)[\"pooled_output\"]\n",
        "    net = Dropout(rate=0.1)(net)\n",
        "    net = Dense(num_classes, activation=None, name=\"classifier\")(net)\n",
        "    return Model(inputs, net, name=\"prediction\")"
      ],
      "execution_count": 12,
      "outputs": []
    },
    {
      "cell_type": "markdown",
      "metadata": {
        "id": "eyY9HTnca7eW"
      },
      "source": [
        "Let's try to classify a single sentence using a classifier with 3 classes. "
      ]
    },
    {
      "cell_type": "code",
      "metadata": {
        "colab": {
          "base_uri": "https://localhost:8080/"
        },
        "id": "eYOVAzzrVCPK",
        "outputId": "1272f430-9219-41dd-8850-c65cdfea67fc"
      },
      "source": [
        "test_classifier_model = build_classifier_model(3)\n",
        "bert_raw_result = test_classifier_model(text_preprocessed)\n",
        "tf.sigmoid(bert_raw_result)"
      ],
      "execution_count": 13,
      "outputs": [
        {
          "output_type": "execute_result",
          "data": {
            "text/plain": [
              "<tf.Tensor: shape=(1, 3), dtype=float32, numpy=array([[0.3222654 , 0.20260021, 0.24588564]], dtype=float32)>"
            ]
          },
          "metadata": {
            "tags": []
          },
          "execution_count": 13
        }
      ]
    },
    {
      "cell_type": "markdown",
      "metadata": {
        "id": "jmbxTqjNcWvz"
      },
      "source": [
        "Let's take a look at the model's structure. Notice the three BERT expected input layers."
      ]
    },
    {
      "cell_type": "code",
      "metadata": {
        "colab": {
          "base_uri": "https://localhost:8080/",
          "height": 369
        },
        "id": "dcnjRntzbyVU",
        "outputId": "d32de7fa-544f-4813-f92e-6041da465a72"
      },
      "source": [
        "tf.keras.utils.plot_model(test_classifier_model)"
      ],
      "execution_count": 14,
      "outputs": [
        {
          "output_type": "execute_result",
          "data": {
            "image/png": "[encoded data removed]",
            "text/plain": [
              "<IPython.core.display.Image object>"
            ]
          },
          "metadata": {
            "tags": []
          },
          "execution_count": 14
        }
      ]
    },
    {
      "cell_type": "markdown",
      "metadata": {
        "id": "vwPkLE-leFHl"
      },
      "source": [
        "## 4. Choose a GLUE task to solve for\n",
        "\n",
        "We will use the Tensorflow Dataset [GLUE benchmark](https://www.tensorflow.org/datasets/catalog/glue) suite. We can get started with one of the smaller datatsets CoLA or MRPC.\n",
        "\n",
        "Since TPUs cannot access files stores on our worker host, we will have to load the entire dataset in-memory. Tensorflow will accept a `batch_size=-1` argument for this purpose. "
      ]
    },
    {
      "cell_type": "code",
      "metadata": {
        "colab": {
          "base_uri": "https://localhost:8080/",
          "height": 412,
          "referenced_widgets": [
            "81c18114f43e49b884beabd8f49faa13",
            "3167887f1c2d4ee382e53dea4b619028",
            "32f88585afc94c58b7add55179f8318f",
            "bf4993d5ee864407a0669191b2f7bfff",
            "d3d1e75d5a1a40628c3af5c2618bca7e",
            "f9128976323c4a8f9d0778b9ec205dc9",
            "772d9ffa1387415783b6d6a0c4fd151d",
            "516efcc62cbe4d28bf669c9e9ad34d44",
            "e5ba086b5cc945c69ffbeb309750dac6",
            "91971dcc2b3b416b9bea8ce0184c0087",
            "ff436b692900474e9191cca6d239d446",
            "012b079c57cc4985ad4a75e4887cac85",
            "6648a3b025c845a186881c46d229e08b",
            "c7ad5a31f6f94ea5b208de7c226cebf2",
            "2d171d58a66f4e30b5503d5a3355caa5",
            "607654cda6094cd88a670c018e76ad40",
            "f104341139734fabbfc23370b4053b60",
            "40fc277ed6f04bce9e87e18a2ef5fa5e",
            "b6a69021daee43958d03e05c4b949fc7",
            "8732204b27eb4f3a8a80b9d3a01991cb",
            "83339e72b0c347f19b817f66a43a361b",
            "972467d801ef4597a812583351af7c5e",
            "89f82d07cb32473c9652b65ad7dde3f3",
            "56e82b92be9b48e2af8b7093639149d2",
            "e74ddcdabbd548979bc9883f88f4332b",
            "3acc30ce433443858bba409bea2859aa",
            "96a5c1878c7744a9bfe4cc3d91a36abe",
            "0aa86a156c274e9fa3ee27cece84fdc2",
            "4c38299020b44edaa996fbe3b82870bf",
            "a9df4fcbd1d8414e87a23639fd16613f",
            "30f75ad6eacc48f8964d9771d7a06994",
            "e6d5f2521fc74d99b6fe0720b73d52a0",
            "f8f3e979f61c42309cff82dc15b38873",
            "f061595f882f464194876acd189cea40",
            "fb6fa285e2984d92b835784646deb9c9",
            "ad0fa279b72841bca139673b435f798b",
            "e6f00212a4254ad9884e39cc2ba82a1b",
            "e9d869f97744487a9603424a8c9535cb",
            "606d6af5cf824e54966981aebdef4540",
            "c563a7f86bae4d9ca4faed8cbb09b2d0",
            "4d031f8d4c814690ad4c4c1953494aec",
            "56a4a2ae9f6544f986f551162ac83caf",
            "065e9ab8a5b5464ab3545b4f2728e7d8",
            "b952d152c5cd48d6bd9e03bd8c075793",
            "cb9bf3ccd58f4db7a059e64ccd299672",
            "5768a3212e8147fbab027848b1aa46ab",
            "f949123908f447db95d5b08842ab531d",
            "030e64007cca4820a4a12a4d74fa9ed7",
            "8a8816b7ff134210971a1e345d820c6a",
            "9f29b36101804bc5b097482baee8e77a",
            "0b7a7e0fc12543e9b0d3fb4587b717e5",
            "48cc7379b6ea4726970b8edcccaec54f",
            "f4be2dd5f9da441cb359df3620276dd8",
            "46b426d6208e4f03bdad8134ab0b05fd",
            "49edfa4d164d4c0b8cbb23ee028b4937",
            "48be220265c34abdae9aee4719bd5de4",
            "159cf9a7e5854fb5aad4a06c55bb5e84",
            "5cd4b2420eac4e06a2d62acdcd6d221a",
            "1256895339ee46f089bccb51d0bf26e8",
            "2797ffc6f9cf413c9c16d2056a5a70e6",
            "6551b9349fc546859a9760b3581880c6",
            "fb291d9526d44b0eb59396a77ff170d9",
            "b6bc9e3a8cf7419f9e12426d9b6e5bda",
            "9960d2ee766c40099599ca4f667c713c"
          ]
        },
        "id": "urxZRsQmckTY",
        "outputId": "b6512d3d-c881-4177-f561-4ac3dc010744"
      },
      "source": [
        "#@title ### Select a GLUE dataset\n",
        "glue_dataset = \"glue/mrpc\"  #@param ['glue/cola', 'glue/sst2', 'glue/mrpc', 'glue/qqp', 'glue/mnli', 'glue/qnli', 'glue/rte', 'glue/wnli']\n",
        "tfds_info = tfds.builder(glue_dataset).info\n",
        "\n",
        "sentence_features = list(tfds_info.features.keys())\n",
        "sentence_features.remove(\"idx\")\n",
        "sentence_features.remove(\"label\")\n",
        "\n",
        "available_splits = list(tfds_info.splits.keys())\n",
        "train_split = \"train\"\n",
        "validation_split = \"validation\"\n",
        "test_split = \"test\"\n",
        "if glue_dataset == \"glue/mnli\":\n",
        "    validation_split = \"validation_matched\"\n",
        "    test_split = \"test_matched\"\n",
        "\n",
        "num_classes = tfds_info.features[\"label\"].num_classes\n",
        "num_examples = tfds_info.splits.total_num_examples\n",
        "\n",
        "print(f\"Using {glue_dataset} from TFDS\")\n",
        "print(f\"This dataset has {num_examples:,} examples\")\n",
        "print(f\"Number of classes: {num_classes}\")\n",
        "print(f\"Features {sentence_features}\")\n",
        "print(f\"Splits {available_splits}\")\n",
        "\n",
        "with tf.device(\"/job:localhost\"):\n",
        "    # batch_size=-1 is a way to load the dataset into memory\n",
        "    in_memory_ds = tfds.load(glue_dataset, batch_size=-1, shuffle_files=True)"
      ],
      "execution_count": 15,
      "outputs": [
        {
          "output_type": "stream",
          "text": [
            "Using glue/mrpc from TFDS\n",
            "This dataset has 5,801 examples\n",
            "Number of classes: 2\n",
            "Features ['sentence1', 'sentence2']\n",
            "Splits ['test', 'train', 'validation']\n",
            "\u001b[1mDownloading and preparing dataset glue/mrpc/1.0.0 (download: 1.43 MiB, generated: Unknown size, total: 1.43 MiB) to /root/tensorflow_datasets/glue/mrpc/1.0.0...\u001b[0m\n"
          ],
          "name": "stdout"
        },
        {
          "output_type": "display_data",
          "data": {
            "application/vnd.jupyter.widget-view+json": {
              "model_id": "81c18114f43e49b884beabd8f49faa13",
              "version_minor": 0,
              "version_major": 2
            },
            "text/plain": [
              "HBox(children=(FloatProgress(value=1.0, bar_style='info', description='Dl Completed...', max=1.0, style=Progre…"
            ]
          },
          "metadata": {
            "tags": []
          }
        },
        {
          "output_type": "display_data",
          "data": {
            "application/vnd.jupyter.widget-view+json": {
              "model_id": "e5ba086b5cc945c69ffbeb309750dac6",
              "version_minor": 0,
              "version_major": 2
            },
            "text/plain": [
              "HBox(children=(FloatProgress(value=1.0, bar_style='info', description='Dl Size...', max=1.0, style=ProgressSty…"
            ]
          },
          "metadata": {
            "tags": []
          }
        },
        {
          "output_type": "stream",
          "text": [
            "\n",
            "\n",
            "\n",
            "\n"
          ],
          "name": "stdout"
        },
        {
          "output_type": "display_data",
          "data": {
            "application/vnd.jupyter.widget-view+json": {
              "model_id": "f104341139734fabbfc23370b4053b60",
              "version_minor": 0,
              "version_major": 2
            },
            "text/plain": [
              "HBox(children=(FloatProgress(value=1.0, bar_style='info', max=1.0), HTML(value='')))"
            ]
          },
          "metadata": {
            "tags": []
          }
        },
        {
          "output_type": "stream",
          "text": [
            "\rShuffling and writing examples to /root/tensorflow_datasets/glue/mrpc/1.0.0.incompleteYRM6Q6/glue-train.tfrecord\n"
          ],
          "name": "stdout"
        },
        {
          "output_type": "display_data",
          "data": {
            "application/vnd.jupyter.widget-view+json": {
              "model_id": "e74ddcdabbd548979bc9883f88f4332b",
              "version_minor": 0,
              "version_major": 2
            },
            "text/plain": [
              "HBox(children=(FloatProgress(value=0.0, max=3668.0), HTML(value='')))"
            ]
          },
          "metadata": {
            "tags": []
          }
        },
        {
          "output_type": "stream",
          "text": [
            "\r"
          ],
          "name": "stdout"
        },
        {
          "output_type": "display_data",
          "data": {
            "application/vnd.jupyter.widget-view+json": {
              "model_id": "f8f3e979f61c42309cff82dc15b38873",
              "version_minor": 0,
              "version_major": 2
            },
            "text/plain": [
              "HBox(children=(FloatProgress(value=1.0, bar_style='info', max=1.0), HTML(value='')))"
            ]
          },
          "metadata": {
            "tags": []
          }
        },
        {
          "output_type": "stream",
          "text": [
            "\rShuffling and writing examples to /root/tensorflow_datasets/glue/mrpc/1.0.0.incompleteYRM6Q6/glue-validation.tfrecord\n"
          ],
          "name": "stdout"
        },
        {
          "output_type": "display_data",
          "data": {
            "application/vnd.jupyter.widget-view+json": {
              "model_id": "4d031f8d4c814690ad4c4c1953494aec",
              "version_minor": 0,
              "version_major": 2
            },
            "text/plain": [
              "HBox(children=(FloatProgress(value=0.0, max=408.0), HTML(value='')))"
            ]
          },
          "metadata": {
            "tags": []
          }
        },
        {
          "output_type": "stream",
          "text": [
            "\r"
          ],
          "name": "stdout"
        },
        {
          "output_type": "display_data",
          "data": {
            "application/vnd.jupyter.widget-view+json": {
              "model_id": "8a8816b7ff134210971a1e345d820c6a",
              "version_minor": 0,
              "version_major": 2
            },
            "text/plain": [
              "HBox(children=(FloatProgress(value=1.0, bar_style='info', max=1.0), HTML(value='')))"
            ]
          },
          "metadata": {
            "tags": []
          }
        },
        {
          "output_type": "stream",
          "text": [
            "\rShuffling and writing examples to /root/tensorflow_datasets/glue/mrpc/1.0.0.incompleteYRM6Q6/glue-test.tfrecord\n"
          ],
          "name": "stdout"
        },
        {
          "output_type": "display_data",
          "data": {
            "application/vnd.jupyter.widget-view+json": {
              "model_id": "159cf9a7e5854fb5aad4a06c55bb5e84",
              "version_minor": 0,
              "version_major": 2
            },
            "text/plain": [
              "HBox(children=(FloatProgress(value=0.0, max=1725.0), HTML(value='')))"
            ]
          },
          "metadata": {
            "tags": []
          }
        },
        {
          "output_type": "stream",
          "text": [
            "\r\u001b[1mDataset glue downloaded and prepared to /root/tensorflow_datasets/glue/mrpc/1.0.0. Subsequent calls will reuse this data.\u001b[0m\n"
          ],
          "name": "stdout"
        }
      ]
    },
    {
      "cell_type": "markdown",
      "metadata": {
        "id": "L12ZyJ7C5uhH"
      },
      "source": [
        "The dataset also determines the problem type (classification or regression)"
      ]
    },
    {
      "cell_type": "code",
      "metadata": {
        "id": "kAoYV9QE5tFi"
      },
      "source": [
        ""
      ],
      "execution_count": null,
      "outputs": []
    },
    {
      "cell_type": "code",
      "metadata": {
        "id": "yVFbR1ywqKq7"
      },
      "source": [
        ""
      ],
      "execution_count": 15,
      "outputs": []
    }
  ]
}