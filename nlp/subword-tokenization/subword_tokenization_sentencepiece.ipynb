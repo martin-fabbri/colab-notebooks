{
  "nbformat": 4,
  "nbformat_minor": 0,
  "metadata": {
    "colab": {
      "name": "subword_tokenization_sentencepiece.ipynb",
      "provenance": [],
      "authorship_tag": "ABX9TyNDqF9PMA8v4S3vYkqD1qxr",
      "include_colab_link": true
    },
    "kernelspec": {
      "name": "python3",
      "display_name": "Python 3"
    }
  },
  "cells": [
    {
      "cell_type": "markdown",
      "metadata": {
        "id": "view-in-github",
        "colab_type": "text"
      },
      "source": [
        "<a href=\"https://colab.research.google.com/github/martin-fabbri/colab-notebooks/blob/master/nlp/subword_tokenization/subword_tokenization_sentencepiece.ipynb\" target=\"_parent\"><img src=\"https://colab.research.google.com/assets/colab-badge.svg\" alt=\"Open In Colab\"/></a>"
      ]
    },
    {
      "cell_type": "markdown",
      "metadata": {
        "id": "l6Rka-bbxf0w"
      },
      "source": [
        "## Install and data preparation\n",
        "\n",
        "We use the small training data (botchan.txt) in this example. \n",
        "([Botchan](https://en.wikipedia.org/wiki/Botchan) is a novel written by Natsume Sōseki in 1906.  The sample is English-translated one.)"
      ]
    },
    {
      "cell_type": "code",
      "metadata": {
        "id": "NUjuQ1IlerGi",
        "outputId": "0e2bdd36-2ef5-4fa1-d911-16539b79524f",
        "colab": {
          "base_uri": "https://localhost:8080/"
        }
      },
      "source": [
        "!pip install sentencepiece -Uqq\n",
        "!wget -q https://raw.githubusercontent.com/google/sentencepiece/master/data/botchan.txt"
      ],
      "execution_count": 1,
      "outputs": [
        {
          "output_type": "stream",
          "text": [
            "\u001b[?25l\r\u001b[K     |▎                               | 10kB 16.2MB/s eta 0:00:01\r\u001b[K     |▋                               | 20kB 17.3MB/s eta 0:00:01\r\u001b[K     |▉                               | 30kB 14.0MB/s eta 0:00:01\r\u001b[K     |█▏                              | 40kB 12.1MB/s eta 0:00:01\r\u001b[K     |█▌                              | 51kB 8.7MB/s eta 0:00:01\r\u001b[K     |█▊                              | 61kB 7.7MB/s eta 0:00:01\r\u001b[K     |██                              | 71kB 8.7MB/s eta 0:00:01\r\u001b[K     |██▍                             | 81kB 9.6MB/s eta 0:00:01\r\u001b[K     |██▋                             | 92kB 10.2MB/s eta 0:00:01\r\u001b[K     |███                             | 102kB 8.4MB/s eta 0:00:01\r\u001b[K     |███▎                            | 112kB 8.4MB/s eta 0:00:01\r\u001b[K     |███▌                            | 122kB 8.4MB/s eta 0:00:01\r\u001b[K     |███▉                            | 133kB 8.4MB/s eta 0:00:01\r\u001b[K     |████▏                           | 143kB 8.4MB/s eta 0:00:01\r\u001b[K     |████▍                           | 153kB 8.4MB/s eta 0:00:01\r\u001b[K     |████▊                           | 163kB 8.4MB/s eta 0:00:01\r\u001b[K     |█████                           | 174kB 8.4MB/s eta 0:00:01\r\u001b[K     |█████▎                          | 184kB 8.4MB/s eta 0:00:01\r\u001b[K     |█████▋                          | 194kB 8.4MB/s eta 0:00:01\r\u001b[K     |█████▉                          | 204kB 8.4MB/s eta 0:00:01\r\u001b[K     |██████▏                         | 215kB 8.4MB/s eta 0:00:01\r\u001b[K     |██████▌                         | 225kB 8.4MB/s eta 0:00:01\r\u001b[K     |██████▊                         | 235kB 8.4MB/s eta 0:00:01\r\u001b[K     |███████                         | 245kB 8.4MB/s eta 0:00:01\r\u001b[K     |███████▍                        | 256kB 8.4MB/s eta 0:00:01\r\u001b[K     |███████▋                        | 266kB 8.4MB/s eta 0:00:01\r\u001b[K     |████████                        | 276kB 8.4MB/s eta 0:00:01\r\u001b[K     |████████▎                       | 286kB 8.4MB/s eta 0:00:01\r\u001b[K     |████████▌                       | 296kB 8.4MB/s eta 0:00:01\r\u001b[K     |████████▉                       | 307kB 8.4MB/s eta 0:00:01\r\u001b[K     |█████████                       | 317kB 8.4MB/s eta 0:00:01\r\u001b[K     |█████████▍                      | 327kB 8.4MB/s eta 0:00:01\r\u001b[K     |█████████▊                      | 337kB 8.4MB/s eta 0:00:01\r\u001b[K     |██████████                      | 348kB 8.4MB/s eta 0:00:01\r\u001b[K     |██████████▎                     | 358kB 8.4MB/s eta 0:00:01\r\u001b[K     |██████████▋                     | 368kB 8.4MB/s eta 0:00:01\r\u001b[K     |██████████▉                     | 378kB 8.4MB/s eta 0:00:01\r\u001b[K     |███████████▏                    | 389kB 8.4MB/s eta 0:00:01\r\u001b[K     |███████████▌                    | 399kB 8.4MB/s eta 0:00:01\r\u001b[K     |███████████▊                    | 409kB 8.4MB/s eta 0:00:01\r\u001b[K     |████████████                    | 419kB 8.4MB/s eta 0:00:01\r\u001b[K     |████████████▍                   | 430kB 8.4MB/s eta 0:00:01\r\u001b[K     |████████████▋                   | 440kB 8.4MB/s eta 0:00:01\r\u001b[K     |█████████████                   | 450kB 8.4MB/s eta 0:00:01\r\u001b[K     |█████████████▎                  | 460kB 8.4MB/s eta 0:00:01\r\u001b[K     |█████████████▌                  | 471kB 8.4MB/s eta 0:00:01\r\u001b[K     |█████████████▉                  | 481kB 8.4MB/s eta 0:00:01\r\u001b[K     |██████████████                  | 491kB 8.4MB/s eta 0:00:01\r\u001b[K     |██████████████▍                 | 501kB 8.4MB/s eta 0:00:01\r\u001b[K     |██████████████▊                 | 512kB 8.4MB/s eta 0:00:01\r\u001b[K     |███████████████                 | 522kB 8.4MB/s eta 0:00:01\r\u001b[K     |███████████████▎                | 532kB 8.4MB/s eta 0:00:01\r\u001b[K     |███████████████▋                | 542kB 8.4MB/s eta 0:00:01\r\u001b[K     |███████████████▉                | 552kB 8.4MB/s eta 0:00:01\r\u001b[K     |████████████████▏               | 563kB 8.4MB/s eta 0:00:01\r\u001b[K     |████████████████▌               | 573kB 8.4MB/s eta 0:00:01\r\u001b[K     |████████████████▊               | 583kB 8.4MB/s eta 0:00:01\r\u001b[K     |█████████████████               | 593kB 8.4MB/s eta 0:00:01\r\u001b[K     |█████████████████▍              | 604kB 8.4MB/s eta 0:00:01\r\u001b[K     |█████████████████▋              | 614kB 8.4MB/s eta 0:00:01\r\u001b[K     |██████████████████              | 624kB 8.4MB/s eta 0:00:01\r\u001b[K     |██████████████████▏             | 634kB 8.4MB/s eta 0:00:01\r\u001b[K     |██████████████████▌             | 645kB 8.4MB/s eta 0:00:01\r\u001b[K     |██████████████████▉             | 655kB 8.4MB/s eta 0:00:01\r\u001b[K     |███████████████████             | 665kB 8.4MB/s eta 0:00:01\r\u001b[K     |███████████████████▍            | 675kB 8.4MB/s eta 0:00:01\r\u001b[K     |███████████████████▊            | 686kB 8.4MB/s eta 0:00:01\r\u001b[K     |████████████████████            | 696kB 8.4MB/s eta 0:00:01\r\u001b[K     |████████████████████▎           | 706kB 8.4MB/s eta 0:00:01\r\u001b[K     |████████████████████▋           | 716kB 8.4MB/s eta 0:00:01\r\u001b[K     |████████████████████▉           | 727kB 8.4MB/s eta 0:00:01\r\u001b[K     |█████████████████████▏          | 737kB 8.4MB/s eta 0:00:01\r\u001b[K     |█████████████████████▌          | 747kB 8.4MB/s eta 0:00:01\r\u001b[K     |█████████████████████▊          | 757kB 8.4MB/s eta 0:00:01\r\u001b[K     |██████████████████████          | 768kB 8.4MB/s eta 0:00:01\r\u001b[K     |██████████████████████▎         | 778kB 8.4MB/s eta 0:00:01\r\u001b[K     |██████████████████████▋         | 788kB 8.4MB/s eta 0:00:01\r\u001b[K     |███████████████████████         | 798kB 8.4MB/s eta 0:00:01\r\u001b[K     |███████████████████████▏        | 808kB 8.4MB/s eta 0:00:01\r\u001b[K     |███████████████████████▌        | 819kB 8.4MB/s eta 0:00:01\r\u001b[K     |███████████████████████▉        | 829kB 8.4MB/s eta 0:00:01\r\u001b[K     |████████████████████████        | 839kB 8.4MB/s eta 0:00:01\r\u001b[K     |████████████████████████▍       | 849kB 8.4MB/s eta 0:00:01\r\u001b[K     |████████████████████████▊       | 860kB 8.4MB/s eta 0:00:01\r\u001b[K     |█████████████████████████       | 870kB 8.4MB/s eta 0:00:01\r\u001b[K     |█████████████████████████▎      | 880kB 8.4MB/s eta 0:00:01\r\u001b[K     |█████████████████████████▋      | 890kB 8.4MB/s eta 0:00:01\r\u001b[K     |█████████████████████████▉      | 901kB 8.4MB/s eta 0:00:01\r\u001b[K     |██████████████████████████▏     | 911kB 8.4MB/s eta 0:00:01\r\u001b[K     |██████████████████████████▌     | 921kB 8.4MB/s eta 0:00:01\r\u001b[K     |██████████████████████████▊     | 931kB 8.4MB/s eta 0:00:01\r\u001b[K     |███████████████████████████     | 942kB 8.4MB/s eta 0:00:01\r\u001b[K     |███████████████████████████▎    | 952kB 8.4MB/s eta 0:00:01\r\u001b[K     |███████████████████████████▋    | 962kB 8.4MB/s eta 0:00:01\r\u001b[K     |████████████████████████████    | 972kB 8.4MB/s eta 0:00:01\r\u001b[K     |████████████████████████████▏   | 983kB 8.4MB/s eta 0:00:01\r\u001b[K     |████████████████████████████▌   | 993kB 8.4MB/s eta 0:00:01\r\u001b[K     |████████████████████████████▉   | 1.0MB 8.4MB/s eta 0:00:01\r\u001b[K     |█████████████████████████████   | 1.0MB 8.4MB/s eta 0:00:01\r\u001b[K     |█████████████████████████████▍  | 1.0MB 8.4MB/s eta 0:00:01\r\u001b[K     |█████████████████████████████▊  | 1.0MB 8.4MB/s eta 0:00:01\r\u001b[K     |██████████████████████████████  | 1.0MB 8.4MB/s eta 0:00:01\r\u001b[K     |██████████████████████████████▎ | 1.1MB 8.4MB/s eta 0:00:01\r\u001b[K     |██████████████████████████████▋ | 1.1MB 8.4MB/s eta 0:00:01\r\u001b[K     |██████████████████████████████▉ | 1.1MB 8.4MB/s eta 0:00:01\r\u001b[K     |███████████████████████████████▏| 1.1MB 8.4MB/s eta 0:00:01\r\u001b[K     |███████████████████████████████▍| 1.1MB 8.4MB/s eta 0:00:01\r\u001b[K     |███████████████████████████████▊| 1.1MB 8.4MB/s eta 0:00:01\r\u001b[K     |████████████████████████████████| 1.1MB 8.4MB/s \n",
            "\u001b[?25h"
          ],
          "name": "stdout"
        }
      ]
    },
    {
      "cell_type": "markdown",
      "metadata": {
        "id": "N4FAsE-ByJNV"
      },
      "source": [
        "## Basic end-to-end example"
      ]
    },
    {
      "cell_type": "code",
      "metadata": {
        "id": "kl9PD__6zOyz"
      },
      "source": [
        "import sentencepiece as spm\n",
        "import tensorflow as tf"
      ],
      "execution_count": 2,
      "outputs": []
    },
    {
      "cell_type": "code",
      "metadata": {
        "colab": {
          "base_uri": "https://localhost:8080/"
        },
        "id": "Xbz_QhVBxtgm",
        "outputId": "996cb52e-f23e-4ef6-d230-0b727671e3c9"
      },
      "source": [
        "# Train sentencepiece model from 'botchan.txt' and makes 'm.model' and 'm.vocab'\n",
        "# 'm.vocab' is just a reference. Not used in the segmentation.\n",
        "train_args = '--input=botchan.txt --model_prefix=m --vocab_size=2000'\n",
        "spm.SentencePieceTrainer.train(train_args)\n",
        "\n",
        "# makes segmenter instance and loads the model file(m.model)\n",
        "sp = spm.SentencePieceProcessor()\n",
        "sp.load('m.model')\n",
        "\n",
        "# encode: text => id\n",
        "print(sp.encode_as_pieces('This is a test'))\n",
        "print(sp.encode_as_ids('This is a test'))\n",
        "\n",
        "# decode: id => text\n",
        "print(sp.decode_pieces(['▁This', '▁is', '▁a', '▁t', 'est']))\n",
        "print(sp.decode_ids([212, 32, 10, 587, 446]))\n"
      ],
      "execution_count": 3,
      "outputs": [
        {
          "output_type": "stream",
          "text": [
            "['▁This', '▁is', '▁a', '▁t', 'est']\n",
            "[212, 32, 10, 587, 446]\n",
            "This is a test\n",
            "This is a test\n"
          ],
          "name": "stdout"
        }
      ]
    },
    {
      "cell_type": "code",
      "metadata": {
        "colab": {
          "base_uri": "https://localhost:8080/"
        },
        "id": "eyCl1PgYz3Ux",
        "outputId": "c19dfa93-0866-45b4-8ca4-d423a48981bd"
      },
      "source": [
        "# returns vocab size\n",
        "print(sp.get_piece_size())\n",
        "\n",
        "# is <=> piece conversion\n",
        "print(sp.id_to_piece(229))\n",
        "print(sp.piece_to_id('_This'))\n",
        "\n",
        "# returns 0 for unknown tokens (we can change the id for UNK)\n",
        "print(sp.piece_to_id('__MUST_BE_UNKNOWN__'))\n",
        "\n",
        "# <unk>, <s>, </s> are defined by default. Their ids are (0, 1, 2)\n",
        "# <s> and </s> are defined as 'control' symbol.\n",
        "for id in range(3):\n",
        "  print(sp.id_to_piece(id), sp.is_control(id))"
      ],
      "execution_count": 4,
      "outputs": [
        {
          "output_type": "stream",
          "text": [
            "2000\n",
            "▁W\n",
            "0\n",
            "0\n",
            "<unk> False\n",
            "<s> True\n",
            "</s> True\n"
          ],
          "name": "stdout"
        }
      ]
    },
    {
      "cell_type": "markdown",
      "metadata": {
        "id": "fasXL72t5ZeM"
      },
      "source": [
        "## Loads model from byte stream\n",
        "\n",
        "Sentencepiece's model file is just a serialized [protocol buffer](https://developers.google.com/protocol-buffers/). We can instantiate sentencepiece processor from byte object with **load_from_serialized_proto** method."
      ]
    },
    {
      "cell_type": "code",
      "metadata": {
        "colab": {
          "base_uri": "https://localhost:8080/"
        },
        "id": "qVF5zRg216ct",
        "outputId": "d07b4319-00b0-4a7e-f243-601cebd54b8b"
      },
      "source": [
        "# assumens that m.model is stored in non_posix file system.\n",
        "serialized_model_proto = tf.io.gfile.GFile('m.model', 'rb').read()\n",
        "\n",
        "sp = spm.SentencePieceProcessor()\n",
        "sp.load_from_serialized_proto(serialized_model_proto)\n",
        "\n",
        "print(sp.encode_as_pieces('this is a test'))"
      ],
      "execution_count": 5,
      "outputs": [
        {
          "output_type": "stream",
          "text": [
            "['▁this', '▁is', '▁a', '▁t', 'est']\n"
          ],
          "name": "stdout"
        }
      ]
    },
    {
      "cell_type": "markdown",
      "metadata": {
        "id": "s2Mo39QW9rXp"
      },
      "source": [
        "## User defined and control symbols\n",
        "\n",
        "We can define special tokens (symbols) to tweak the DNN behavior through the tokens.   Typical examples are  [BERT](https://arxiv.org/abs/1810.04805)'s special symbols., e.g., [SEP] and [CLS].\n",
        "\n",
        "There are two types of special tokens:\n",
        "\n",
        "- **user defined symbols**: Always treated as one token in any context. These symbols can appear in the input sentence. \n",
        "- **control symbol**:  We only reserve ids for these tokens. Even if these tokens appear in the input text, they are not handled as one token. User needs to insert ids explicitly after encoding.\n",
        "\n",
        "For experimental purpose, user defined symbols are easier to use since user can change the behavior just by modifying the input text. However,  we want to use control symbols in the production setting in order to avoid users from tweaking the behavior by feeding these special symbols in their input text."
      ]
    },
    {
      "cell_type": "code",
      "metadata": {
        "colab": {
          "base_uri": "https://localhost:8080/"
        },
        "id": "JxfxpMfi89_x",
        "outputId": "18ed5442-86a3-4e2f-a235-f5c10b15f59d"
      },
      "source": [
        "cs = '--user_defined_symbols=<sep>,<cls>'\n",
        "train_args = f'--input=botchan.txt --model_prefix=m_ctrl --vocab_size=2000 {cs}'\n",
        "spm.SentencePieceTrainer.train(train_args)\n",
        "\n",
        "sp_ctrl = spm.SentencePieceProcessor()\n",
        "sp_ctrl.load('m_ctrl.model')\n",
        "\n",
        "# control symbols just reserve ids.\n",
        "print(sp_ctrl.encode_as_pieces('this is a test<sep> hello world<cls>'))\n",
        "print(sp_ctrl.piece_to_id('<sep>'))  # 3\n",
        "print(sp_ctrl.piece_to_id('<cls>'))  # 4\n",
        "print('3=', sp_ctrl.decode_ids([3]))  # decoded to empty\n",
        "print('4=', sp_ctrl.decode_ids([4]))  # decoded to empty"
      ],
      "execution_count": 6,
      "outputs": [
        {
          "output_type": "stream",
          "text": [
            "['▁this', '▁is', '▁a', '▁t', 'est', '<sep>', '▁he', 'll', 'o', '▁world', '<cls>']\n",
            "3\n",
            "4\n",
            "3= <sep>\n",
            "4= <cls>\n"
          ],
          "name": "stdout"
        }
      ]
    },
    {
      "cell_type": "code",
      "metadata": {
        "colab": {
          "base_uri": "https://localhost:8080/",
          "height": 52
        },
        "id": "BJVgey16-yor",
        "outputId": "338de025-2b43-47e0-a49c-4b984590f226"
      },
      "source": [
        "print(train_args)\n",
        "'--input=botchan.txt --model_prefix=m_ctrl --vocab_size=2000 --control_symbols=<sep>,<cls>'"
      ],
      "execution_count": 7,
      "outputs": [
        {
          "output_type": "stream",
          "text": [
            "--input=botchan.txt --model_prefix=m_ctrl --vocab_size=2000 --user_defined_symbols=<sep>,<cls>\n"
          ],
          "name": "stdout"
        },
        {
          "output_type": "execute_result",
          "data": {
            "application/vnd.google.colaboratory.intrinsic+json": {
              "type": "string"
            },
            "text/plain": [
              "'--input=botchan.txt --model_prefix=m_ctrl --vocab_size=2000 --control_symbols=<sep>,<cls>'"
            ]
          },
          "metadata": {
            "tags": []
          },
          "execution_count": 7
        }
      ]
    },
    {
      "cell_type": "code",
      "metadata": {
        "colab": {
          "base_uri": "https://localhost:8080/"
        },
        "id": "2-TTuvo9_N8p",
        "outputId": "dc85ffea-308b-468c-ef38-e2c59c898274"
      },
      "source": [
        "## Example of user defined symbols\n",
        "spm.SentencePieceTrainer.train('--input=botchan.txt --model_prefix=m_user2 --user_defined_symbols=<sep>,<cls> --vocab_size=2000')\n",
        "\n",
        "sp_user = spm.SentencePieceProcessor()\n",
        "sp_user.load('m_user2.model')\n",
        "\n",
        "# ids are reserved in both mode.\n",
        "# <unk>=0, <s>=1, </s>=2, <sep>=3, <cls>=4\n",
        "# user defined symbols allow these symbol to apper in the text.\n",
        "print(sp_user.encode_as_pieces('this is a test<sep> hello world<cls>'))\n",
        "print(sp_user.piece_to_id('<sep>'))  # 3\n",
        "print(sp_user.piece_to_id('<cls>'))  # 4\n",
        "print('3=', sp_user.decode_ids([3]))  # decoded to <sep>\n",
        "print('4=', sp_user.decode_ids([4]))  # decoded to <cls>"
      ],
      "execution_count": 8,
      "outputs": [
        {
          "output_type": "stream",
          "text": [
            "['▁this', '▁is', '▁a', '▁t', 'est', '<sep>', '▁he', 'll', 'o', '▁world', '<cls>']\n",
            "3\n",
            "4\n",
            "3= <sep>\n",
            "4= <cls>\n"
          ],
          "name": "stdout"
        }
      ]
    },
    {
      "cell_type": "code",
      "metadata": {
        "id": "XrP434LBAo2y",
        "outputId": "abb01c22-f751-4956-8746-454a08e782a0",
        "colab": {
          "base_uri": "https://localhost:8080/"
        }
      },
      "source": [
        "print(sp_user.encode_as_pieces(\"Found unfriendly people. That's uncommon.\"))"
      ],
      "execution_count": 10,
      "outputs": [
        {
          "output_type": "stream",
          "text": [
            "['▁F', 'ound', '▁un', 'f', 'ri', 'en', 'd', 'ly', '▁people', '.', '▁That', \"'\", 's', '▁un', 'c', 'o', 'm', 'm', 'on', '.']\n"
          ],
          "name": "stdout"
        }
      ]
    },
    {
      "cell_type": "code",
      "metadata": {
        "id": "-NKWoFCcfZAd"
      },
      "source": [
        ""
      ],
      "execution_count": null,
      "outputs": []
    }
  ]
}