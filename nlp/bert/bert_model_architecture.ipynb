{
  "nbformat": 4,
  "nbformat_minor": 0,
  "metadata": {
    "colab": {
      "name": "bert_model_architecture.ipynb",
      "provenance": [],
      "authorship_tag": "ABX9TyP5OaICzJjKmx7hh0QHC8Ob",
      "include_colab_link": true
    },
    "kernelspec": {
      "name": "python3",
      "display_name": "Python 3"
    },
    "widgets": {
      "application/vnd.jupyter.widget-state+json": {
        "c873494cbb5e4d358eceb10ccb4dff1d": {
          "model_module": "@jupyter-widgets/controls",
          "model_name": "HBoxModel",
          "state": {
            "_view_name": "HBoxView",
            "_dom_classes": [],
            "_model_name": "HBoxModel",
            "_view_module": "@jupyter-widgets/controls",
            "_model_module_version": "1.5.0",
            "_view_count": null,
            "_view_module_version": "1.5.0",
            "box_style": "",
            "layout": "IPY_MODEL_0686674dd8f64f83b208d9919ec8209b",
            "_model_module": "@jupyter-widgets/controls",
            "children": [
              "IPY_MODEL_8e87fb889f684eaf8ef331c0609999d8",
              "IPY_MODEL_2466bf62bfe54b2ea06715e9d1b0eee4"
            ]
          }
        },
        "0686674dd8f64f83b208d9919ec8209b": {
          "model_module": "@jupyter-widgets/base",
          "model_name": "LayoutModel",
          "state": {
            "_view_name": "LayoutView",
            "grid_template_rows": null,
            "right": null,
            "justify_content": null,
            "_view_module": "@jupyter-widgets/base",
            "overflow": null,
            "_model_module_version": "1.2.0",
            "_view_count": null,
            "flex_flow": null,
            "width": null,
            "min_width": null,
            "border": null,
            "align_items": null,
            "bottom": null,
            "_model_module": "@jupyter-widgets/base",
            "top": null,
            "grid_column": null,
            "overflow_y": null,
            "overflow_x": null,
            "grid_auto_flow": null,
            "grid_area": null,
            "grid_template_columns": null,
            "flex": null,
            "_model_name": "LayoutModel",
            "justify_items": null,
            "grid_row": null,
            "max_height": null,
            "align_content": null,
            "visibility": null,
            "align_self": null,
            "height": null,
            "min_height": null,
            "padding": null,
            "grid_auto_rows": null,
            "grid_gap": null,
            "max_width": null,
            "order": null,
            "_view_module_version": "1.2.0",
            "grid_template_areas": null,
            "object_position": null,
            "object_fit": null,
            "grid_auto_columns": null,
            "margin": null,
            "display": null,
            "left": null
          }
        },
        "8e87fb889f684eaf8ef331c0609999d8": {
          "model_module": "@jupyter-widgets/controls",
          "model_name": "FloatProgressModel",
          "state": {
            "_view_name": "ProgressView",
            "style": "IPY_MODEL_177689bd496d4c33960862e23f5faa81",
            "_dom_classes": [],
            "description": "Downloading: 100%",
            "_model_name": "FloatProgressModel",
            "bar_style": "success",
            "max": 434,
            "_view_module": "@jupyter-widgets/controls",
            "_model_module_version": "1.5.0",
            "value": 434,
            "_view_count": null,
            "_view_module_version": "1.5.0",
            "orientation": "horizontal",
            "min": 0,
            "description_tooltip": null,
            "_model_module": "@jupyter-widgets/controls",
            "layout": "IPY_MODEL_28c24037dab84b48af7d23e364f6e994"
          }
        },
        "2466bf62bfe54b2ea06715e9d1b0eee4": {
          "model_module": "@jupyter-widgets/controls",
          "model_name": "HTMLModel",
          "state": {
            "_view_name": "HTMLView",
            "style": "IPY_MODEL_bfbaacc125494e42bc9632482406cbb2",
            "_dom_classes": [],
            "description": "",
            "_model_name": "HTMLModel",
            "placeholder": "​",
            "_view_module": "@jupyter-widgets/controls",
            "_model_module_version": "1.5.0",
            "value": " 434/434 [00:00&lt;00:00, 2.47kB/s]",
            "_view_count": null,
            "_view_module_version": "1.5.0",
            "description_tooltip": null,
            "_model_module": "@jupyter-widgets/controls",
            "layout": "IPY_MODEL_2d4800c065884005a2f62a381c68f523"
          }
        },
        "177689bd496d4c33960862e23f5faa81": {
          "model_module": "@jupyter-widgets/controls",
          "model_name": "ProgressStyleModel",
          "state": {
            "_view_name": "StyleView",
            "_model_name": "ProgressStyleModel",
            "description_width": "initial",
            "_view_module": "@jupyter-widgets/base",
            "_model_module_version": "1.5.0",
            "_view_count": null,
            "_view_module_version": "1.2.0",
            "bar_color": null,
            "_model_module": "@jupyter-widgets/controls"
          }
        },
        "28c24037dab84b48af7d23e364f6e994": {
          "model_module": "@jupyter-widgets/base",
          "model_name": "LayoutModel",
          "state": {
            "_view_name": "LayoutView",
            "grid_template_rows": null,
            "right": null,
            "justify_content": null,
            "_view_module": "@jupyter-widgets/base",
            "overflow": null,
            "_model_module_version": "1.2.0",
            "_view_count": null,
            "flex_flow": null,
            "width": null,
            "min_width": null,
            "border": null,
            "align_items": null,
            "bottom": null,
            "_model_module": "@jupyter-widgets/base",
            "top": null,
            "grid_column": null,
            "overflow_y": null,
            "overflow_x": null,
            "grid_auto_flow": null,
            "grid_area": null,
            "grid_template_columns": null,
            "flex": null,
            "_model_name": "LayoutModel",
            "justify_items": null,
            "grid_row": null,
            "max_height": null,
            "align_content": null,
            "visibility": null,
            "align_self": null,
            "height": null,
            "min_height": null,
            "padding": null,
            "grid_auto_rows": null,
            "grid_gap": null,
            "max_width": null,
            "order": null,
            "_view_module_version": "1.2.0",
            "grid_template_areas": null,
            "object_position": null,
            "object_fit": null,
            "grid_auto_columns": null,
            "margin": null,
            "display": null,
            "left": null
          }
        },
        "bfbaacc125494e42bc9632482406cbb2": {
          "model_module": "@jupyter-widgets/controls",
          "model_name": "DescriptionStyleModel",
          "state": {
            "_view_name": "StyleView",
            "_model_name": "DescriptionStyleModel",
            "description_width": "",
            "_view_module": "@jupyter-widgets/base",
            "_model_module_version": "1.5.0",
            "_view_count": null,
            "_view_module_version": "1.2.0",
            "_model_module": "@jupyter-widgets/controls"
          }
        },
        "2d4800c065884005a2f62a381c68f523": {
          "model_module": "@jupyter-widgets/base",
          "model_name": "LayoutModel",
          "state": {
            "_view_name": "LayoutView",
            "grid_template_rows": null,
            "right": null,
            "justify_content": null,
            "_view_module": "@jupyter-widgets/base",
            "overflow": null,
            "_model_module_version": "1.2.0",
            "_view_count": null,
            "flex_flow": null,
            "width": null,
            "min_width": null,
            "border": null,
            "align_items": null,
            "bottom": null,
            "_model_module": "@jupyter-widgets/base",
            "top": null,
            "grid_column": null,
            "overflow_y": null,
            "overflow_x": null,
            "grid_auto_flow": null,
            "grid_area": null,
            "grid_template_columns": null,
            "flex": null,
            "_model_name": "LayoutModel",
            "justify_items": null,
            "grid_row": null,
            "max_height": null,
            "align_content": null,
            "visibility": null,
            "align_self": null,
            "height": null,
            "min_height": null,
            "padding": null,
            "grid_auto_rows": null,
            "grid_gap": null,
            "max_width": null,
            "order": null,
            "_view_module_version": "1.2.0",
            "grid_template_areas": null,
            "object_position": null,
            "object_fit": null,
            "grid_auto_columns": null,
            "margin": null,
            "display": null,
            "left": null
          }
        },
        "6f71b3bf9b3b4b149097a5da5f46ffe6": {
          "model_module": "@jupyter-widgets/controls",
          "model_name": "HBoxModel",
          "state": {
            "_view_name": "HBoxView",
            "_dom_classes": [],
            "_model_name": "HBoxModel",
            "_view_module": "@jupyter-widgets/controls",
            "_model_module_version": "1.5.0",
            "_view_count": null,
            "_view_module_version": "1.5.0",
            "box_style": "",
            "layout": "IPY_MODEL_d5a41d112a5941ccabd523d0651e419a",
            "_model_module": "@jupyter-widgets/controls",
            "children": [
              "IPY_MODEL_5bcc437756a84c588308dd2ee0489e5a",
              "IPY_MODEL_001bec21a77544dbb3c652f7baee56ad"
            ]
          }
        },
        "d5a41d112a5941ccabd523d0651e419a": {
          "model_module": "@jupyter-widgets/base",
          "model_name": "LayoutModel",
          "state": {
            "_view_name": "LayoutView",
            "grid_template_rows": null,
            "right": null,
            "justify_content": null,
            "_view_module": "@jupyter-widgets/base",
            "overflow": null,
            "_model_module_version": "1.2.0",
            "_view_count": null,
            "flex_flow": null,
            "width": null,
            "min_width": null,
            "border": null,
            "align_items": null,
            "bottom": null,
            "_model_module": "@jupyter-widgets/base",
            "top": null,
            "grid_column": null,
            "overflow_y": null,
            "overflow_x": null,
            "grid_auto_flow": null,
            "grid_area": null,
            "grid_template_columns": null,
            "flex": null,
            "_model_name": "LayoutModel",
            "justify_items": null,
            "grid_row": null,
            "max_height": null,
            "align_content": null,
            "visibility": null,
            "align_self": null,
            "height": null,
            "min_height": null,
            "padding": null,
            "grid_auto_rows": null,
            "grid_gap": null,
            "max_width": null,
            "order": null,
            "_view_module_version": "1.2.0",
            "grid_template_areas": null,
            "object_position": null,
            "object_fit": null,
            "grid_auto_columns": null,
            "margin": null,
            "display": null,
            "left": null
          }
        },
        "5bcc437756a84c588308dd2ee0489e5a": {
          "model_module": "@jupyter-widgets/controls",
          "model_name": "FloatProgressModel",
          "state": {
            "_view_name": "ProgressView",
            "style": "IPY_MODEL_2f7cd9b915a84ba9be8f1526363f1499",
            "_dom_classes": [],
            "description": "Downloading: 100%",
            "_model_name": "FloatProgressModel",
            "bar_style": "success",
            "max": 1344997306,
            "_view_module": "@jupyter-widgets/controls",
            "_model_module_version": "1.5.0",
            "value": 1344997306,
            "_view_count": null,
            "_view_module_version": "1.5.0",
            "orientation": "horizontal",
            "min": 0,
            "description_tooltip": null,
            "_model_module": "@jupyter-widgets/controls",
            "layout": "IPY_MODEL_7889d8f56f2847e396fa1002d73acf93"
          }
        },
        "001bec21a77544dbb3c652f7baee56ad": {
          "model_module": "@jupyter-widgets/controls",
          "model_name": "HTMLModel",
          "state": {
            "_view_name": "HTMLView",
            "style": "IPY_MODEL_e4ea7cff6b1945e1839edf725932ddab",
            "_dom_classes": [],
            "description": "",
            "_model_name": "HTMLModel",
            "placeholder": "​",
            "_view_module": "@jupyter-widgets/controls",
            "_model_module_version": "1.5.0",
            "value": " 1.34G/1.34G [00:24&lt;00:00, 54.8MB/s]",
            "_view_count": null,
            "_view_module_version": "1.5.0",
            "description_tooltip": null,
            "_model_module": "@jupyter-widgets/controls",
            "layout": "IPY_MODEL_09c72ee3a82d4791aaceb7ae6f70cf7d"
          }
        },
        "2f7cd9b915a84ba9be8f1526363f1499": {
          "model_module": "@jupyter-widgets/controls",
          "model_name": "ProgressStyleModel",
          "state": {
            "_view_name": "StyleView",
            "_model_name": "ProgressStyleModel",
            "description_width": "initial",
            "_view_module": "@jupyter-widgets/base",
            "_model_module_version": "1.5.0",
            "_view_count": null,
            "_view_module_version": "1.2.0",
            "bar_color": null,
            "_model_module": "@jupyter-widgets/controls"
          }
        },
        "7889d8f56f2847e396fa1002d73acf93": {
          "model_module": "@jupyter-widgets/base",
          "model_name": "LayoutModel",
          "state": {
            "_view_name": "LayoutView",
            "grid_template_rows": null,
            "right": null,
            "justify_content": null,
            "_view_module": "@jupyter-widgets/base",
            "overflow": null,
            "_model_module_version": "1.2.0",
            "_view_count": null,
            "flex_flow": null,
            "width": null,
            "min_width": null,
            "border": null,
            "align_items": null,
            "bottom": null,
            "_model_module": "@jupyter-widgets/base",
            "top": null,
            "grid_column": null,
            "overflow_y": null,
            "overflow_x": null,
            "grid_auto_flow": null,
            "grid_area": null,
            "grid_template_columns": null,
            "flex": null,
            "_model_name": "LayoutModel",
            "justify_items": null,
            "grid_row": null,
            "max_height": null,
            "align_content": null,
            "visibility": null,
            "align_self": null,
            "height": null,
            "min_height": null,
            "padding": null,
            "grid_auto_rows": null,
            "grid_gap": null,
            "max_width": null,
            "order": null,
            "_view_module_version": "1.2.0",
            "grid_template_areas": null,
            "object_position": null,
            "object_fit": null,
            "grid_auto_columns": null,
            "margin": null,
            "display": null,
            "left": null
          }
        },
        "e4ea7cff6b1945e1839edf725932ddab": {
          "model_module": "@jupyter-widgets/controls",
          "model_name": "DescriptionStyleModel",
          "state": {
            "_view_name": "StyleView",
            "_model_name": "DescriptionStyleModel",
            "description_width": "",
            "_view_module": "@jupyter-widgets/base",
            "_model_module_version": "1.5.0",
            "_view_count": null,
            "_view_module_version": "1.2.0",
            "_model_module": "@jupyter-widgets/controls"
          }
        },
        "09c72ee3a82d4791aaceb7ae6f70cf7d": {
          "model_module": "@jupyter-widgets/base",
          "model_name": "LayoutModel",
          "state": {
            "_view_name": "LayoutView",
            "grid_template_rows": null,
            "right": null,
            "justify_content": null,
            "_view_module": "@jupyter-widgets/base",
            "overflow": null,
            "_model_module_version": "1.2.0",
            "_view_count": null,
            "flex_flow": null,
            "width": null,
            "min_width": null,
            "border": null,
            "align_items": null,
            "bottom": null,
            "_model_module": "@jupyter-widgets/base",
            "top": null,
            "grid_column": null,
            "overflow_y": null,
            "overflow_x": null,
            "grid_auto_flow": null,
            "grid_area": null,
            "grid_template_columns": null,
            "flex": null,
            "_model_name": "LayoutModel",
            "justify_items": null,
            "grid_row": null,
            "max_height": null,
            "align_content": null,
            "visibility": null,
            "align_self": null,
            "height": null,
            "min_height": null,
            "padding": null,
            "grid_auto_rows": null,
            "grid_gap": null,
            "max_width": null,
            "order": null,
            "_view_module_version": "1.2.0",
            "grid_template_areas": null,
            "object_position": null,
            "object_fit": null,
            "grid_auto_columns": null,
            "margin": null,
            "display": null,
            "left": null
          }
        }
      }
    }
  },
  "cells": [
    {
      "cell_type": "markdown",
      "metadata": {
        "id": "view-in-github",
        "colab_type": "text"
      },
      "source": [
        "<a href=\"https://colab.research.google.com/github/martin-fabbri/colab-notebooks/blob/master/nlp/bert/bert_model_architecture.ipynb\" target=\"_parent\"><img src=\"https://colab.research.google.com/assets/colab-badge.svg\" alt=\"Open In Colab\"/></a>"
      ]
    },
    {
      "cell_type": "code",
      "metadata": {
        "id": "S5pNn-tkJChf",
        "colab": {
          "base_uri": "https://localhost:8080/"
        },
        "outputId": "d6b7922a-9ace-4665-f6c2-dd460de74147"
      },
      "source": [
        "!pip install transformers -qq\n",
        "!pip install fastdot -qq"
      ],
      "execution_count": 2,
      "outputs": [
        {
          "output_type": "stream",
          "text": [
            "\u001b[K     |████████████████████████████████| 1.3MB 4.3MB/s \n",
            "\u001b[K     |████████████████████████████████| 1.1MB 34.8MB/s \n",
            "\u001b[K     |████████████████████████████████| 2.9MB 33.2MB/s \n",
            "\u001b[K     |████████████████████████████████| 890kB 44.0MB/s \n",
            "\u001b[?25h  Building wheel for sacremoses (setup.py) ... \u001b[?25l\u001b[?25hdone\n",
            "\u001b[K     |████████████████████████████████| 61kB 3.1MB/s \n",
            "\u001b[?25h"
          ],
          "name": "stdout"
        }
      ]
    },
    {
      "cell_type": "code",
      "metadata": {
        "id": "UcSLt-orJLxN"
      },
      "source": [
        "import sys\n",
        "\n",
        "from transformers import BertModel\n",
        "from fastdot import *"
      ],
      "execution_count": 3,
      "outputs": []
    },
    {
      "cell_type": "markdown",
      "metadata": {
        "id": "xxTPVlZYJ6P6"
      },
      "source": [
        "https://huggingface.co/transformers/_modules/transformers/modeling_bert.html"
      ]
    },
    {
      "cell_type": "code",
      "metadata": {
        "id": "c4gQl88mJZMD",
        "outputId": "f875b18f-146d-4d36-9b45-a19e74d64104",
        "colab": {
          "base_uri": "https://localhost:8080/",
          "height": 116,
          "referenced_widgets": [
            "c873494cbb5e4d358eceb10ccb4dff1d",
            "0686674dd8f64f83b208d9919ec8209b",
            "8e87fb889f684eaf8ef331c0609999d8",
            "2466bf62bfe54b2ea06715e9d1b0eee4",
            "177689bd496d4c33960862e23f5faa81",
            "28c24037dab84b48af7d23e364f6e994",
            "bfbaacc125494e42bc9632482406cbb2",
            "2d4800c065884005a2f62a381c68f523",
            "6f71b3bf9b3b4b149097a5da5f46ffe6",
            "d5a41d112a5941ccabd523d0651e419a",
            "5bcc437756a84c588308dd2ee0489e5a",
            "001bec21a77544dbb3c652f7baee56ad",
            "2f7cd9b915a84ba9be8f1526363f1499",
            "7889d8f56f2847e396fa1002d73acf93",
            "e4ea7cff6b1945e1839edf725932ddab",
            "09c72ee3a82d4791aaceb7ae6f70cf7d"
          ]
        }
      },
      "source": [
        "model_version = 'bert-large-uncased'\n",
        "model = BertModel.from_pretrained(model_version, output_attentions=True)\n",
        "#model"
      ],
      "execution_count": 4,
      "outputs": [
        {
          "output_type": "display_data",
          "data": {
            "application/vnd.jupyter.widget-view+json": {
              "model_id": "c873494cbb5e4d358eceb10ccb4dff1d",
              "version_minor": 0,
              "version_major": 2
            },
            "text/plain": [
              "HBox(children=(FloatProgress(value=0.0, description='Downloading', max=434.0, style=ProgressStyle(description_…"
            ]
          },
          "metadata": {
            "tags": []
          }
        },
        {
          "output_type": "stream",
          "text": [
            "\n"
          ],
          "name": "stdout"
        },
        {
          "output_type": "display_data",
          "data": {
            "application/vnd.jupyter.widget-view+json": {
              "model_id": "6f71b3bf9b3b4b149097a5da5f46ffe6",
              "version_minor": 0,
              "version_major": 2
            },
            "text/plain": [
              "HBox(children=(FloatProgress(value=0.0, description='Downloading', max=1344997306.0, style=ProgressStyle(descr…"
            ]
          },
          "metadata": {
            "tags": []
          }
        },
        {
          "output_type": "stream",
          "text": [
            "\n"
          ],
          "name": "stdout"
        }
      ]
    },
    {
      "cell_type": "code",
      "metadata": {
        "colab": {
          "base_uri": "https://localhost:8080/",
          "height": 173
        },
        "id": "vOq5g2OWLWjD",
        "cellView": "form",
        "outputId": "53c402c2-9b14-4a7f-cd7e-50efe5d34b0b"
      },
      "source": [
        "#@title ## Top Level\n",
        "#@markdown Top Level\n",
        "\n",
        "def add_input_output(c, in_tooltip='', out_tooltip=''):\n",
        "  inp = Node('Input', tooltip=in_tooltip)\n",
        "  outp = Node('Output', tooltip=out_tooltip)\n",
        "  g = graph_items(inp, c, outp)\n",
        "  g.add_items(\n",
        "      inp.connect(c.get_nodes()[0]), \n",
        "      c.get_nodes()[-1].connect(outp)\n",
        "  )\n",
        "  return g\n",
        "\n",
        "cl = seq_cluster(['BertEmbeddings', 'BertEncoder', 'BertPooler'], 'BertModel')\n",
        "cl.get_nodes()[0].set_tooltip('input=1024,output=1024')\n",
        "cl.get_nodes()[1].set_tooltip('input=1024,output=1024')\n",
        "cl.get_nodes()[2].set_tooltip('Linear,input=1024,output=1024,bias=True')\n",
        "add_input_output(cl, 'input=1024', 'output=1024')"
      ],
      "execution_count": 5,
      "outputs": [
        {
          "output_type": "execute_result",
          "data": {
            "text/plain": [
              "<pydot.Dot at 0x7fc91e290ac8>"
            ],
            "image/svg+xml": "<?xml version=\"1.0\" encoding=\"UTF-8\" standalone=\"no\"?>\n<!DOCTYPE svg PUBLIC \"-//W3C//DTD SVG 1.1//EN\"\n \"http://www.w3.org/Graphics/SVG/1.1/DTD/svg11.dtd\">\n<!-- Generated by graphviz version 2.40.1 (20161225.0304)\n -->\n<!-- Title: G Pages: 1 -->\n<svg width=\"543pt\" height=\"99pt\"\n viewBox=\"0.00 0.00 543.00 99.00\" xmlns=\"http://www.w3.org/2000/svg\" xmlns:xlink=\"http://www.w3.org/1999/xlink\">\n<g id=\"graph0\" class=\"graph\" transform=\"scale(1 1) rotate(0) translate(4 95)\">\n<title>G</title>\n<polygon fill=\"#ffffff\" stroke=\"transparent\" points=\"-4,4 -4,-95 539,-95 539,4 -4,4\"/>\n<g id=\"clust1\" class=\"cluster\">\n<title>cluster_nc52b487589494b31815514fef1b767e9</title>\n<g id=\"a_clust1\"><a xlink:title=\"BertModel\">\n<path fill=\"#555555\" fill-opacity=\"0.133333\" stroke=\"#000000\" d=\"M94,-8C94,-8 438,-8 438,-8 444,-8 450,-14 450,-20 450,-20 450,-71 450,-71 450,-77 444,-83 438,-83 438,-83 94,-83 94,-83 88,-83 82,-77 82,-71 82,-71 82,-20 82,-20 82,-14 88,-8 94,-8\"/>\n<text text-anchor=\"middle\" x=\"266\" y=\"-67.8\" font-family=\"Times,serif\" font-size=\"14.00\" fill=\"#000000\">BertModel</text>\n</a>\n</g>\n</g>\n<!-- n5c5058e415544b3aab7b3988bb903460 -->\n<g id=\"node1\" class=\"node\">\n<title>n5c5058e415544b3aab7b3988bb903460</title>\n<g id=\"a_node1\"><a xlink:title=\"input=1024\">\n<path fill=\"#06aeed\" fill-opacity=\"0.647059\" stroke=\"#000000\" d=\"M42,-52C42,-52 12,-52 12,-52 6,-52 0,-46 0,-40 0,-40 0,-28 0,-28 0,-22 6,-16 12,-16 12,-16 42,-16 42,-16 48,-16 54,-22 54,-28 54,-28 54,-40 54,-40 54,-46 48,-52 42,-52\"/>\n<text text-anchor=\"middle\" x=\"27\" y=\"-30.3\" font-family=\"Times,serif\" font-size=\"14.00\" fill=\"#000000\">Input</text>\n</a>\n</g>\n</g>\n<!-- n45126e9a121e46639e04425d256f6cde -->\n<g id=\"node2\" class=\"node\">\n<title>n45126e9a121e46639e04425d256f6cde</title>\n<g id=\"a_node2\"><a xlink:title=\"input=1024,output=1024\">\n<path fill=\"#46efd1\" fill-opacity=\"0.466667\" stroke=\"#000000\" d=\"M191,-52C191,-52 102,-52 102,-52 96,-52 90,-46 90,-40 90,-40 90,-28 90,-28 90,-22 96,-16 102,-16 102,-16 191,-16 191,-16 197,-16 203,-22 203,-28 203,-28 203,-40 203,-40 203,-46 197,-52 191,-52\"/>\n<text text-anchor=\"middle\" x=\"146.5\" y=\"-30.3\" font-family=\"Times,serif\" font-size=\"14.00\" fill=\"#000000\">BertEmbeddings</text>\n</a>\n</g>\n</g>\n<!-- n5c5058e415544b3aab7b3988bb903460&#45;&gt;n45126e9a121e46639e04425d256f6cde -->\n<g id=\"edge3\" class=\"edge\">\n<title>n5c5058e415544b3aab7b3988bb903460&#45;&gt;n45126e9a121e46639e04425d256f6cde</title>\n<path fill=\"none\" stroke=\"#000000\" d=\"M54.1164,-34C61.8214,-34 70.5709,-34 79.5403,-34\"/>\n<polygon fill=\"#000000\" stroke=\"#000000\" points=\"79.7166,-37.5001 89.7165,-34 79.7165,-30.5001 79.7166,-37.5001\"/>\n</g>\n<!-- nfc123535540d48f08d0b27061a73bbc4 -->\n<g id=\"node3\" class=\"node\">\n<title>nfc123535540d48f08d0b27061a73bbc4</title>\n<g id=\"a_node3\"><a xlink:title=\"input=1024,output=1024\">\n<path fill=\"#ff8143\" fill-opacity=\"0.674510\" stroke=\"#000000\" d=\"M316,-52C316,-52 251,-52 251,-52 245,-52 239,-46 239,-40 239,-40 239,-28 239,-28 239,-22 245,-16 251,-16 251,-16 316,-16 316,-16 322,-16 328,-22 328,-28 328,-28 328,-40 328,-40 328,-46 322,-52 316,-52\"/>\n<text text-anchor=\"middle\" x=\"283.5\" y=\"-30.3\" font-family=\"Times,serif\" font-size=\"14.00\" fill=\"#000000\">BertEncoder</text>\n</a>\n</g>\n</g>\n<!-- n45126e9a121e46639e04425d256f6cde&#45;&gt;nfc123535540d48f08d0b27061a73bbc4 -->\n<g id=\"edge1\" class=\"edge\">\n<title>n45126e9a121e46639e04425d256f6cde&#45;&gt;nfc123535540d48f08d0b27061a73bbc4</title>\n<path fill=\"none\" stroke=\"#000000\" d=\"M203.0141,-34C211.5031,-34 220.2456,-34 228.698,-34\"/>\n<polygon fill=\"#000000\" stroke=\"#000000\" points=\"228.8277,-37.5001 238.8277,-34 228.8276,-30.5001 228.8277,-37.5001\"/>\n</g>\n<!-- n50e5fcb7dea44365888ca1eac0779ad3 -->\n<g id=\"node4\" class=\"node\">\n<title>n50e5fcb7dea44365888ca1eac0779ad3</title>\n<g id=\"a_node4\"><a xlink:title=\"Linear,input=1024,output=1024,bias=True\">\n<path fill=\"#2686f5\" fill-opacity=\"0.709804\" stroke=\"#000000\" d=\"M430,-52C430,-52 376,-52 376,-52 370,-52 364,-46 364,-40 364,-40 364,-28 364,-28 364,-22 370,-16 376,-16 376,-16 430,-16 430,-16 436,-16 442,-22 442,-28 442,-28 442,-40 442,-40 442,-46 436,-52 430,-52\"/>\n<text text-anchor=\"middle\" x=\"403\" y=\"-30.3\" font-family=\"Times,serif\" font-size=\"14.00\" fill=\"#000000\">BertPooler</text>\n</a>\n</g>\n</g>\n<!-- nfc123535540d48f08d0b27061a73bbc4&#45;&gt;n50e5fcb7dea44365888ca1eac0779ad3 -->\n<g id=\"edge2\" class=\"edge\">\n<title>nfc123535540d48f08d0b27061a73bbc4&#45;&gt;n50e5fcb7dea44365888ca1eac0779ad3</title>\n<path fill=\"none\" stroke=\"#000000\" d=\"M328.3374,-34C336.6241,-34 345.3197,-34 353.7294,-34\"/>\n<polygon fill=\"#000000\" stroke=\"#000000\" points=\"353.7989,-37.5001 363.7988,-34 353.7988,-30.5001 353.7989,-37.5001\"/>\n</g>\n<!-- n84895c0728424af5bb1189e9d216d144 -->\n<g id=\"node5\" class=\"node\">\n<title>n84895c0728424af5bb1189e9d216d144</title>\n<g id=\"a_node5\"><a xlink:title=\"output=1024\">\n<path fill=\"#24d8df\" fill-opacity=\"0.400000\" stroke=\"#000000\" d=\"M523,-52C523,-52 490,-52 490,-52 484,-52 478,-46 478,-40 478,-40 478,-28 478,-28 478,-22 484,-16 490,-16 490,-16 523,-16 523,-16 529,-16 535,-22 535,-28 535,-28 535,-40 535,-40 535,-46 529,-52 523,-52\"/>\n<text text-anchor=\"middle\" x=\"506.5\" y=\"-30.3\" font-family=\"Times,serif\" font-size=\"14.00\" fill=\"#000000\">Output</text>\n</a>\n</g>\n</g>\n<!-- n50e5fcb7dea44365888ca1eac0779ad3&#45;&gt;n84895c0728424af5bb1189e9d216d144 -->\n<g id=\"edge4\" class=\"edge\">\n<title>n50e5fcb7dea44365888ca1eac0779ad3&#45;&gt;n84895c0728424af5bb1189e9d216d144</title>\n<path fill=\"none\" stroke=\"#000000\" d=\"M442.1289,-34C450.501,-34 459.3424,-34 467.7019,-34\"/>\n<polygon fill=\"#000000\" stroke=\"#000000\" points=\"467.9614,-37.5001 477.9613,-34 467.9613,-30.5001 467.9614,-37.5001\"/>\n</g>\n</g>\n</svg>\n"
          },
          "metadata": {
            "tags": []
          },
          "execution_count": 5
        }
      ]
    },
    {
      "cell_type": "code",
      "metadata": {
        "id": "IzC77pGwQBGJ",
        "colab": {
          "base_uri": "https://localhost:8080/",
          "height": 317
        },
        "cellView": "form",
        "outputId": "eca99e01-df24-4d5d-9af7-4630e728ef61"
      },
      "source": [
        "#@title BertEmbeddings\n",
        "#@markdown BertEmbeddings\n",
        "\n",
        "cl=seq_cluster(['Embedding','+','LayerNorm'],'BertEmbeddings')\n",
        "cl.get_nodes()[0].set_tooltip('WordEmbeddings, num_embeddings =30522,embedding_dim =1024,padding_idx=0,output=1024')\n",
        "cl.get_nodes()[2].set_tooltip('input=1024,eps=1e-12, elementwise_affine=True,output=1024')\n",
        "nodes=cl.add_items('Embedding','Embedding','Dropout')\n",
        "cl.add_items(nodes[0].connect(cl.get_nodes()[1]),nodes[1].connect(cl.get_nodes()[1]))\n",
        "cl.add_items(cl.get_nodes()[2].connect(nodes[2]))\n",
        "\n",
        "nodes[0].set_tooltip('PositionEmbeddings, num_embeddings =512,embedding_dim =1024,output=1024')\n",
        "nodes[1].set_tooltip('TokenTypeEmbeddings, num_embeddings =2,embedding_dim =1024,output=1024')\n",
        "nodes[2].set_tooltip('p=0.1, inplace=False')\n",
        "inp=Node('Input',tooltip='input=1024')\n",
        "outp=Node('Output',tooltip='output=1024')\n",
        "g=graph_items(inp,cl,outp)\n",
        "g.add_items(inp.connect(cl.get_nodes()[0]),inp.connect(nodes[0]),inp.connect(nodes[1]),cl.get_nodes()[-1].connect(outp))\n",
        "g"
      ],
      "execution_count": 6,
      "outputs": [
        {
          "output_type": "execute_result",
          "data": {
            "text/plain": [
              "<pydot.Dot at 0x7fc91e222470>"
            ],
            "image/svg+xml": "<?xml version=\"1.0\" encoding=\"UTF-8\" standalone=\"no\"?>\n<!DOCTYPE svg PUBLIC \"-//W3C//DTD SVG 1.1//EN\"\n \"http://www.w3.org/Graphics/SVG/1.1/DTD/svg11.dtd\">\n<!-- Generated by graphviz version 2.40.1 (20161225.0304)\n -->\n<!-- Title: G Pages: 1 -->\n<svg width=\"585pt\" height=\"207pt\"\n viewBox=\"0.00 0.00 585.00 207.00\" xmlns=\"http://www.w3.org/2000/svg\" xmlns:xlink=\"http://www.w3.org/1999/xlink\">\n<g id=\"graph0\" class=\"graph\" transform=\"scale(1 1) rotate(0) translate(4 203)\">\n<title>G</title>\n<polygon fill=\"#ffffff\" stroke=\"transparent\" points=\"-4,4 -4,-203 581,-203 581,4 -4,4\"/>\n<g id=\"clust1\" class=\"cluster\">\n<title>cluster_n2f76e4f4a3fe46c69dcb996ae1c00f94</title>\n<g id=\"a_clust1\"><a xlink:title=\"BertEmbeddings\">\n<path fill=\"#555555\" fill-opacity=\"0.133333\" stroke=\"#000000\" d=\"M94,-8C94,-8 480,-8 480,-8 486,-8 492,-14 492,-20 492,-20 492,-179 492,-179 492,-185 486,-191 480,-191 480,-191 94,-191 94,-191 88,-191 82,-185 82,-179 82,-179 82,-20 82,-20 82,-14 88,-8 94,-8\"/>\n<text text-anchor=\"middle\" x=\"287\" y=\"-175.8\" font-family=\"Times,serif\" font-size=\"14.00\" fill=\"#000000\">BertEmbeddings</text>\n</a>\n</g>\n</g>\n<!-- nfa1bc844cfbd441a85e57b360d849496 -->\n<g id=\"node1\" class=\"node\">\n<title>nfa1bc844cfbd441a85e57b360d849496</title>\n<g id=\"a_node1\"><a xlink:title=\"input=1024\">\n<path fill=\"#06aeed\" fill-opacity=\"0.647059\" stroke=\"#000000\" d=\"M42,-106C42,-106 12,-106 12,-106 6,-106 0,-100 0,-94 0,-94 0,-82 0,-82 0,-76 6,-70 12,-70 12,-70 42,-70 42,-70 48,-70 54,-76 54,-82 54,-82 54,-94 54,-94 54,-100 48,-106 42,-106\"/>\n<text text-anchor=\"middle\" x=\"27\" y=\"-84.3\" font-family=\"Times,serif\" font-size=\"14.00\" fill=\"#000000\">Input</text>\n</a>\n</g>\n</g>\n<!-- n1d254a01a2ee4826a989daf59bd7f9f5 -->\n<g id=\"node2\" class=\"node\">\n<title>n1d254a01a2ee4826a989daf59bd7f9f5</title>\n<g id=\"a_node2\"><a xlink:title=\"WordEmbeddings, num_embeddings =30522,embedding_dim =1024,padding_idx=0,output=1024\">\n<path fill=\"#6032fe\" fill-opacity=\"0.533333\" stroke=\"#000000\" d=\"M162,-160C162,-160 102,-160 102,-160 96,-160 90,-154 90,-148 90,-148 90,-136 90,-136 90,-130 96,-124 102,-124 102,-124 162,-124 162,-124 168,-124 174,-130 174,-136 174,-136 174,-148 174,-148 174,-154 168,-160 162,-160\"/>\n<text text-anchor=\"middle\" x=\"132\" y=\"-138.3\" font-family=\"Times,serif\" font-size=\"14.00\" fill=\"#000000\">Embedding</text>\n</a>\n</g>\n</g>\n<!-- nfa1bc844cfbd441a85e57b360d849496&#45;&gt;n1d254a01a2ee4826a989daf59bd7f9f5 -->\n<g id=\"edge6\" class=\"edge\">\n<title>nfa1bc844cfbd441a85e57b360d849496&#45;&gt;n1d254a01a2ee4826a989daf59bd7f9f5</title>\n<path fill=\"none\" stroke=\"#000000\" d=\"M54.0401,-101.9063C64.3005,-107.1831 76.2728,-113.3403 87.7118,-119.2232\"/>\n<polygon fill=\"#000000\" stroke=\"#000000\" points=\"86.2348,-122.3993 96.7284,-123.8603 89.4363,-116.1743 86.2348,-122.3993\"/>\n</g>\n<!-- n73754809bdb4492fae719c0cf02d84ab -->\n<g id=\"node5\" class=\"node\">\n<title>n73754809bdb4492fae719c0cf02d84ab</title>\n<g id=\"a_node5\"><a xlink:title=\"PositionEmbeddings, num_embeddings =512,embedding_dim =1024,output=1024\">\n<path fill=\"#6032fe\" fill-opacity=\"0.533333\" stroke=\"#000000\" d=\"M162,-106C162,-106 102,-106 102,-106 96,-106 90,-100 90,-94 90,-94 90,-82 90,-82 90,-76 96,-70 102,-70 102,-70 162,-70 162,-70 168,-70 174,-76 174,-82 174,-82 174,-94 174,-94 174,-100 168,-106 162,-106\"/>\n<text text-anchor=\"middle\" x=\"132\" y=\"-84.3\" font-family=\"Times,serif\" font-size=\"14.00\" fill=\"#000000\">Embedding</text>\n</a>\n</g>\n</g>\n<!-- nfa1bc844cfbd441a85e57b360d849496&#45;&gt;n73754809bdb4492fae719c0cf02d84ab -->\n<g id=\"edge7\" class=\"edge\">\n<title>nfa1bc844cfbd441a85e57b360d849496&#45;&gt;n73754809bdb4492fae719c0cf02d84ab</title>\n<path fill=\"none\" stroke=\"#000000\" d=\"M54.0401,-88C61.9868,-88 70.9603,-88 79.9177,-88\"/>\n<polygon fill=\"#000000\" stroke=\"#000000\" points=\"79.9683,-91.5001 89.9683,-88 79.9683,-84.5001 79.9683,-91.5001\"/>\n</g>\n<!-- n0eba68ae12ea409b84238b20acf69d97 -->\n<g id=\"node6\" class=\"node\">\n<title>n0eba68ae12ea409b84238b20acf69d97</title>\n<g id=\"a_node6\"><a xlink:title=\"TokenTypeEmbeddings, num_embeddings =2,embedding_dim =1024,output=1024\">\n<path fill=\"#6032fe\" fill-opacity=\"0.533333\" stroke=\"#000000\" d=\"M162,-52C162,-52 102,-52 102,-52 96,-52 90,-46 90,-40 90,-40 90,-28 90,-28 90,-22 96,-16 102,-16 102,-16 162,-16 162,-16 168,-16 174,-22 174,-28 174,-28 174,-40 174,-40 174,-46 168,-52 162,-52\"/>\n<text text-anchor=\"middle\" x=\"132\" y=\"-30.3\" font-family=\"Times,serif\" font-size=\"14.00\" fill=\"#000000\">Embedding</text>\n</a>\n</g>\n</g>\n<!-- nfa1bc844cfbd441a85e57b360d849496&#45;&gt;n0eba68ae12ea409b84238b20acf69d97 -->\n<g id=\"edge8\" class=\"edge\">\n<title>nfa1bc844cfbd441a85e57b360d849496&#45;&gt;n0eba68ae12ea409b84238b20acf69d97</title>\n<path fill=\"none\" stroke=\"#000000\" d=\"M54.0401,-74.0937C64.3005,-68.8169 76.2728,-62.6597 87.7118,-56.7768\"/>\n<polygon fill=\"#000000\" stroke=\"#000000\" points=\"89.4363,-59.8257 96.7284,-52.1397 86.2348,-53.6007 89.4363,-59.8257\"/>\n</g>\n<!-- nff2541b0b7ab46bf8e705beffa444218 -->\n<g id=\"node3\" class=\"node\">\n<title>nff2541b0b7ab46bf8e705beffa444218</title>\n<g id=\"a_node3\"><a xlink:title=\"+\">\n<path fill=\"#b4f295\" fill-opacity=\"0.494118\" stroke=\"#000000\" d=\"M252,-106C252,-106 222,-106 222,-106 216,-106 210,-100 210,-94 210,-94 210,-82 210,-82 210,-76 216,-70 222,-70 222,-70 252,-70 252,-70 258,-70 264,-76 264,-82 264,-82 264,-94 264,-94 264,-100 258,-106 252,-106\"/>\n<text text-anchor=\"middle\" x=\"237\" y=\"-84.3\" font-family=\"Times,serif\" font-size=\"14.00\" fill=\"#000000\">+</text>\n</a>\n</g>\n</g>\n<!-- n1d254a01a2ee4826a989daf59bd7f9f5&#45;&gt;nff2541b0b7ab46bf8e705beffa444218 -->\n<g id=\"edge1\" class=\"edge\">\n<title>n1d254a01a2ee4826a989daf59bd7f9f5&#45;&gt;nff2541b0b7ab46bf8e705beffa444218</title>\n<path fill=\"none\" stroke=\"#000000\" d=\"M167.2556,-123.8686C178.0381,-118.3232 189.9124,-112.2165 200.7594,-106.638\"/>\n<polygon fill=\"#000000\" stroke=\"#000000\" points=\"202.6816,-109.5853 209.9737,-101.8992 199.4801,-103.3602 202.6816,-109.5853\"/>\n</g>\n<!-- n1e3cda3ac0cf4d418c3d196d30dc48a4 -->\n<g id=\"node4\" class=\"node\">\n<title>n1e3cda3ac0cf4d418c3d196d30dc48a4</title>\n<g id=\"a_node4\"><a xlink:title=\"input=1024,eps=1e&#45;12, elementwise_affine=True,output=1024\">\n<path fill=\"#94fda8\" fill-opacity=\"0.682353\" stroke=\"#000000\" d=\"M371,-106C371,-106 312,-106 312,-106 306,-106 300,-100 300,-94 300,-94 300,-82 300,-82 300,-76 306,-70 312,-70 312,-70 371,-70 371,-70 377,-70 383,-76 383,-82 383,-82 383,-94 383,-94 383,-100 377,-106 371,-106\"/>\n<text text-anchor=\"middle\" x=\"341.5\" y=\"-84.3\" font-family=\"Times,serif\" font-size=\"14.00\" fill=\"#000000\">LayerNorm</text>\n</a>\n</g>\n</g>\n<!-- nff2541b0b7ab46bf8e705beffa444218&#45;&gt;n1e3cda3ac0cf4d418c3d196d30dc48a4 -->\n<g id=\"edge2\" class=\"edge\">\n<title>nff2541b0b7ab46bf8e705beffa444218&#45;&gt;n1e3cda3ac0cf4d418c3d196d30dc48a4</title>\n<path fill=\"none\" stroke=\"#000000\" d=\"M264.1833,-88C272.0072,-88 280.8138,-88 289.6069,-88\"/>\n<polygon fill=\"#000000\" stroke=\"#000000\" points=\"289.8634,-91.5001 299.8634,-88 289.8633,-84.5001 289.8634,-91.5001\"/>\n</g>\n<!-- n22f78b2d719644d5898b31579a9a9a0a -->\n<g id=\"node7\" class=\"node\">\n<title>n22f78b2d719644d5898b31579a9a9a0a</title>\n<g id=\"a_node7\"><a xlink:title=\"p=0.1, inplace=False\">\n<path fill=\"#42edd3\" fill-opacity=\"0.349020\" stroke=\"#000000\" d=\"M472,-106C472,-106 431,-106 431,-106 425,-106 419,-100 419,-94 419,-94 419,-82 419,-82 419,-76 425,-70 431,-70 431,-70 472,-70 472,-70 478,-70 484,-76 484,-82 484,-82 484,-94 484,-94 484,-100 478,-106 472,-106\"/>\n<text text-anchor=\"middle\" x=\"451.5\" y=\"-84.3\" font-family=\"Times,serif\" font-size=\"14.00\" fill=\"#000000\">Dropout</text>\n</a>\n</g>\n</g>\n<!-- n1e3cda3ac0cf4d418c3d196d30dc48a4&#45;&gt;n22f78b2d719644d5898b31579a9a9a0a -->\n<g id=\"edge5\" class=\"edge\">\n<title>n1e3cda3ac0cf4d418c3d196d30dc48a4&#45;&gt;n22f78b2d719644d5898b31579a9a9a0a</title>\n<path fill=\"none\" stroke=\"#000000\" d=\"M383.0863,-88C391.4774,-88 400.3122,-88 408.7428,-88\"/>\n<polygon fill=\"#000000\" stroke=\"#000000\" points=\"408.7687,-91.5001 418.7686,-88 408.7686,-84.5001 408.7687,-91.5001\"/>\n</g>\n<!-- n73754809bdb4492fae719c0cf02d84ab&#45;&gt;nff2541b0b7ab46bf8e705beffa444218 -->\n<g id=\"edge3\" class=\"edge\">\n<title>n73754809bdb4492fae719c0cf02d84ab&#45;&gt;nff2541b0b7ab46bf8e705beffa444218</title>\n<path fill=\"none\" stroke=\"#000000\" d=\"M174.1025,-88C182.6072,-88 191.491,-88 199.8124,-88\"/>\n<polygon fill=\"#000000\" stroke=\"#000000\" points=\"199.9812,-91.5001 209.9812,-88 199.9812,-84.5001 199.9812,-91.5001\"/>\n</g>\n<!-- n0eba68ae12ea409b84238b20acf69d97&#45;&gt;nff2541b0b7ab46bf8e705beffa444218 -->\n<g id=\"edge4\" class=\"edge\">\n<title>n0eba68ae12ea409b84238b20acf69d97&#45;&gt;nff2541b0b7ab46bf8e705beffa444218</title>\n<path fill=\"none\" stroke=\"#000000\" d=\"M167.2556,-52.1314C178.0381,-57.6768 189.9124,-63.7835 200.7594,-69.362\"/>\n<polygon fill=\"#000000\" stroke=\"#000000\" points=\"199.4801,-72.6398 209.9737,-74.1008 202.6816,-66.4147 199.4801,-72.6398\"/>\n</g>\n<!-- n335a5762f27f40e29b2fc24d9d236b80 -->\n<g id=\"node8\" class=\"node\">\n<title>n335a5762f27f40e29b2fc24d9d236b80</title>\n<g id=\"a_node8\"><a xlink:title=\"output=1024\">\n<path fill=\"#24d8df\" fill-opacity=\"0.400000\" stroke=\"#000000\" d=\"M565,-106C565,-106 532,-106 532,-106 526,-106 520,-100 520,-94 520,-94 520,-82 520,-82 520,-76 526,-70 532,-70 532,-70 565,-70 565,-70 571,-70 577,-76 577,-82 577,-82 577,-94 577,-94 577,-100 571,-106 565,-106\"/>\n<text text-anchor=\"middle\" x=\"548.5\" y=\"-84.3\" font-family=\"Times,serif\" font-size=\"14.00\" fill=\"#000000\">Output</text>\n</a>\n</g>\n</g>\n<!-- n22f78b2d719644d5898b31579a9a9a0a&#45;&gt;n335a5762f27f40e29b2fc24d9d236b80 -->\n<g id=\"edge9\" class=\"edge\">\n<title>n22f78b2d719644d5898b31579a9a9a0a&#45;&gt;n335a5762f27f40e29b2fc24d9d236b80</title>\n<path fill=\"none\" stroke=\"#000000\" d=\"M484.0694,-88C492.2865,-88 501.1898,-88 509.6805,-88\"/>\n<polygon fill=\"#000000\" stroke=\"#000000\" points=\"509.7588,-91.5001 519.7588,-88 509.7587,-84.5001 509.7588,-91.5001\"/>\n</g>\n</g>\n</svg>\n"
          },
          "metadata": {
            "tags": []
          },
          "execution_count": 6
        }
      ]
    },
    {
      "cell_type": "code",
      "metadata": {
        "id": "psFS1FQ0MwGc",
        "cellView": "form",
        "outputId": "4d219af1-2b65-4760-848e-7c9bf601fce1",
        "colab": {
          "base_uri": "https://localhost:8080/",
          "height": 177
        }
      },
      "source": [
        "#@title BertEncoder\n",
        "#@markdown BertEncoder\n",
        "\n",
        "cl=seq_cluster(['24 BertLayers'],'BertEncoder')\n",
        "cl.get_nodes()[0].set_tooltip('A sequence of 24 BertLayers')\n",
        "cl.add_items(cl.get_nodes()[0].connect(cl.get_nodes()[0]))\n",
        "\n",
        "add_input_output(cl,'input=1024','output=1024')"
      ],
      "execution_count": 8,
      "outputs": [
        {
          "output_type": "execute_result",
          "data": {
            "text/plain": [
              "<pydot.Dot at 0x7fc91e1829e8>"
            ],
            "image/svg+xml": "<?xml version=\"1.0\" encoding=\"UTF-8\" standalone=\"no\"?>\n<!DOCTYPE svg PUBLIC \"-//W3C//DTD SVG 1.1//EN\"\n \"http://www.w3.org/Graphics/SVG/1.1/DTD/svg11.dtd\">\n<!-- Generated by graphviz version 2.40.1 (20161225.0304)\n -->\n<!-- Title: G Pages: 1 -->\n<svg width=\"289pt\" height=\"117pt\"\n viewBox=\"0.00 0.00 289.00 117.00\" xmlns=\"http://www.w3.org/2000/svg\" xmlns:xlink=\"http://www.w3.org/1999/xlink\">\n<g id=\"graph0\" class=\"graph\" transform=\"scale(1 1) rotate(0) translate(4 113)\">\n<title>G</title>\n<polygon fill=\"#ffffff\" stroke=\"transparent\" points=\"-4,4 -4,-113 285,-113 285,4 -4,4\"/>\n<g id=\"clust1\" class=\"cluster\">\n<title>cluster_ne783870b1e53432386683015818db7da</title>\n<g id=\"a_clust1\"><a xlink:title=\"BertEncoder\">\n<path fill=\"#555555\" fill-opacity=\"0.133333\" stroke=\"#000000\" d=\"M94,-8C94,-8 184,-8 184,-8 190,-8 196,-14 196,-20 196,-20 196,-89 196,-89 196,-95 190,-101 184,-101 184,-101 94,-101 94,-101 88,-101 82,-95 82,-89 82,-89 82,-20 82,-20 82,-14 88,-8 94,-8\"/>\n<text text-anchor=\"middle\" x=\"139\" y=\"-85.8\" font-family=\"Times,serif\" font-size=\"14.00\" fill=\"#000000\">BertEncoder</text>\n</a>\n</g>\n</g>\n<!-- n5067f85fa97d4b009c9def3ad8d50106 -->\n<g id=\"node1\" class=\"node\">\n<title>n5067f85fa97d4b009c9def3ad8d50106</title>\n<g id=\"a_node1\"><a xlink:title=\"input=1024\">\n<path fill=\"#06aeed\" fill-opacity=\"0.647059\" stroke=\"#000000\" d=\"M42,-52C42,-52 12,-52 12,-52 6,-52 0,-46 0,-40 0,-40 0,-28 0,-28 0,-22 6,-16 12,-16 12,-16 42,-16 42,-16 48,-16 54,-22 54,-28 54,-28 54,-40 54,-40 54,-46 48,-52 42,-52\"/>\n<text text-anchor=\"middle\" x=\"27\" y=\"-30.3\" font-family=\"Times,serif\" font-size=\"14.00\" fill=\"#000000\">Input</text>\n</a>\n</g>\n</g>\n<!-- ncb06d95412fc426db933ee9a099da8d3 -->\n<g id=\"node2\" class=\"node\">\n<title>ncb06d95412fc426db933ee9a099da8d3</title>\n<g id=\"a_node2\"><a xlink:title=\"A sequence of 24 BertLayers\">\n<path fill=\"#0ea5ef\" fill-opacity=\"0.380392\" stroke=\"#000000\" d=\"M176,-52C176,-52 102,-52 102,-52 96,-52 90,-46 90,-40 90,-40 90,-28 90,-28 90,-22 96,-16 102,-16 102,-16 176,-16 176,-16 182,-16 188,-22 188,-28 188,-28 188,-40 188,-40 188,-46 182,-52 176,-52\"/>\n<text text-anchor=\"middle\" x=\"139\" y=\"-30.3\" font-family=\"Times,serif\" font-size=\"14.00\" fill=\"#000000\">24 BertLayers</text>\n</a>\n</g>\n</g>\n<!-- n5067f85fa97d4b009c9def3ad8d50106&#45;&gt;ncb06d95412fc426db933ee9a099da8d3 -->\n<g id=\"edge2\" class=\"edge\">\n<title>n5067f85fa97d4b009c9def3ad8d50106&#45;&gt;ncb06d95412fc426db933ee9a099da8d3</title>\n<path fill=\"none\" stroke=\"#000000\" d=\"M54.1121,-34C61.9203,-34 70.7603,-34 79.7128,-34\"/>\n<polygon fill=\"#000000\" stroke=\"#000000\" points=\"79.8192,-37.5001 89.8191,-34 79.8191,-30.5001 79.8192,-37.5001\"/>\n</g>\n<!-- ncb06d95412fc426db933ee9a099da8d3&#45;&gt;ncb06d95412fc426db933ee9a099da8d3 -->\n<g id=\"edge1\" class=\"edge\">\n<title>ncb06d95412fc426db933ee9a099da8d3&#45;&gt;ncb06d95412fc426db933ee9a099da8d3</title>\n<path fill=\"none\" stroke=\"#000000\" d=\"M118.7383,-52.1527C115.6211,-61.5391 122.375,-70 139,-70 149.1309,-70 155.5962,-66.8581 158.396,-62.2796\"/>\n<polygon fill=\"#000000\" stroke=\"#000000\" points=\"161.8972,-62.4145 159.2617,-52.1527 154.9226,-61.8182 161.8972,-62.4145\"/>\n</g>\n<!-- n87f8f12f702647549cbefc2c2316cd8c -->\n<g id=\"node3\" class=\"node\">\n<title>n87f8f12f702647549cbefc2c2316cd8c</title>\n<g id=\"a_node3\"><a xlink:title=\"output=1024\">\n<path fill=\"#24d8df\" fill-opacity=\"0.400000\" stroke=\"#000000\" d=\"M269,-52C269,-52 236,-52 236,-52 230,-52 224,-46 224,-40 224,-40 224,-28 224,-28 224,-22 230,-16 236,-16 236,-16 269,-16 269,-16 275,-16 281,-22 281,-28 281,-28 281,-40 281,-40 281,-46 275,-52 269,-52\"/>\n<text text-anchor=\"middle\" x=\"252.5\" y=\"-30.3\" font-family=\"Times,serif\" font-size=\"14.00\" fill=\"#000000\">Output</text>\n</a>\n</g>\n</g>\n<!-- ncb06d95412fc426db933ee9a099da8d3&#45;&gt;n87f8f12f702647549cbefc2c2316cd8c -->\n<g id=\"edge3\" class=\"edge\">\n<title>ncb06d95412fc426db933ee9a099da8d3&#45;&gt;n87f8f12f702647549cbefc2c2316cd8c</title>\n<path fill=\"none\" stroke=\"#000000\" d=\"M188.1226,-34C196.7162,-34 205.5474,-34 213.8086,-34\"/>\n<polygon fill=\"#000000\" stroke=\"#000000\" points=\"213.9073,-37.5001 223.9073,-34 213.9072,-30.5001 213.9073,-37.5001\"/>\n</g>\n</g>\n</svg>\n"
          },
          "metadata": {
            "tags": []
          },
          "execution_count": 8
        }
      ]
    },
    {
      "cell_type": "code",
      "metadata": {
        "cellView": "form",
        "id": "3NobY3vUO04b",
        "outputId": "d64df7e0-acb1-409e-cfab-c07bfc505b16",
        "colab": {
          "base_uri": "https://localhost:8080/",
          "height": 226
        }
      },
      "source": [
        "#@title BertLayer\n",
        "#@markdown BertLayer\n",
        "\n",
        "cl=seq_cluster(['BertAttention','Linear','BertOutput','+'],'BertLayer')\n",
        "cl.get_nodes()[0].set_tooltip('input=1024,output=1024')\n",
        "cl.get_nodes()[1].set_tooltip('BertIntermediate ,input=1024,output=4096, bias=True')\n",
        "cl.get_nodes()[2].set_tooltip('input=4096,output=1024')\n",
        "cl.add_items(cl.get_nodes()[0].connect(cl.get_nodes()[2]),cl.get_nodes()[0].connect(cl.get_nodes()[3]))\n",
        "add_input_output(cl,'input=1024','output=1024')"
      ],
      "execution_count": 9,
      "outputs": [
        {
          "output_type": "execute_result",
          "data": {
            "text/plain": [
              "<pydot.Dot at 0x7fc91e1dcc18>"
            ],
            "image/svg+xml": "<?xml version=\"1.0\" encoding=\"UTF-8\" standalone=\"no\"?>\n<!DOCTYPE svg PUBLIC \"-//W3C//DTD SVG 1.1//EN\"\n \"http://www.w3.org/Graphics/SVG/1.1/DTD/svg11.dtd\">\n<!-- Generated by graphviz version 2.40.1 (20161225.0304)\n -->\n<!-- Title: G Pages: 1 -->\n<svg width=\"583pt\" height=\"139pt\"\n viewBox=\"0.00 0.00 583.00 139.00\" xmlns=\"http://www.w3.org/2000/svg\" xmlns:xlink=\"http://www.w3.org/1999/xlink\">\n<g id=\"graph0\" class=\"graph\" transform=\"scale(1 1) rotate(0) translate(4 135)\">\n<title>G</title>\n<polygon fill=\"#ffffff\" stroke=\"transparent\" points=\"-4,4 -4,-135 579,-135 579,4 -4,4\"/>\n<g id=\"clust1\" class=\"cluster\">\n<title>cluster_nfa4386f0932340708cf16e7b1692fa93</title>\n<g id=\"a_clust1\"><a xlink:title=\"BertLayer\">\n<path fill=\"#555555\" fill-opacity=\"0.133333\" stroke=\"#000000\" d=\"M94,-8C94,-8 478,-8 478,-8 484,-8 490,-14 490,-20 490,-20 490,-111 490,-111 490,-117 484,-123 478,-123 478,-123 94,-123 94,-123 88,-123 82,-117 82,-111 82,-111 82,-20 82,-20 82,-14 88,-8 94,-8\"/>\n<text text-anchor=\"middle\" x=\"286\" y=\"-107.8\" font-family=\"Times,serif\" font-size=\"14.00\" fill=\"#000000\">BertLayer</text>\n</a>\n</g>\n</g>\n<!-- nbe4a7d50a787474e9ae6ce8f4c2a56d9 -->\n<g id=\"node1\" class=\"node\">\n<title>nbe4a7d50a787474e9ae6ce8f4c2a56d9</title>\n<g id=\"a_node1\"><a xlink:title=\"input=1024\">\n<path fill=\"#06aeed\" fill-opacity=\"0.647059\" stroke=\"#000000\" d=\"M42,-89C42,-89 12,-89 12,-89 6,-89 0,-83 0,-77 0,-77 0,-65 0,-65 0,-59 6,-53 12,-53 12,-53 42,-53 42,-53 48,-53 54,-59 54,-65 54,-65 54,-77 54,-77 54,-83 48,-89 42,-89\"/>\n<text text-anchor=\"middle\" x=\"27\" y=\"-67.3\" font-family=\"Times,serif\" font-size=\"14.00\" fill=\"#000000\">Input</text>\n</a>\n</g>\n</g>\n<!-- nfc93c8049c904a29a3c5d8e7cf15d589 -->\n<g id=\"node2\" class=\"node\">\n<title>nfc93c8049c904a29a3c5d8e7cf15d589</title>\n<g id=\"a_node2\"><a xlink:title=\"input=1024,output=1024\">\n<path fill=\"#ff6b37\" fill-opacity=\"0.266667\" stroke=\"#000000\" d=\"M173,-89C173,-89 102,-89 102,-89 96,-89 90,-83 90,-77 90,-77 90,-65 90,-65 90,-59 96,-53 102,-53 102,-53 173,-53 173,-53 179,-53 185,-59 185,-65 185,-65 185,-77 185,-77 185,-83 179,-89 173,-89\"/>\n<text text-anchor=\"middle\" x=\"137.5\" y=\"-67.3\" font-family=\"Times,serif\" font-size=\"14.00\" fill=\"#000000\">BertAttention</text>\n</a>\n</g>\n</g>\n<!-- nbe4a7d50a787474e9ae6ce8f4c2a56d9&#45;&gt;nfc93c8049c904a29a3c5d8e7cf15d589 -->\n<g id=\"edge6\" class=\"edge\">\n<title>nbe4a7d50a787474e9ae6ce8f4c2a56d9&#45;&gt;nfc93c8049c904a29a3c5d8e7cf15d589</title>\n<path fill=\"none\" stroke=\"#000000\" d=\"M54.0313,-71C61.8303,-71 70.6547,-71 79.5724,-71\"/>\n<polygon fill=\"#000000\" stroke=\"#000000\" points=\"79.6306,-74.5001 89.6306,-71 79.6306,-67.5001 79.6306,-74.5001\"/>\n</g>\n<!-- n1ea8c2d2447c4c1194cdd50ce59f0725 -->\n<g id=\"node3\" class=\"node\">\n<title>n1ea8c2d2447c4c1194cdd50ce59f0725</title>\n<g id=\"a_node3\"><a xlink:title=\"BertIntermediate ,input=1024,output=4096, bias=True\">\n<path fill=\"#10c6e6\" fill-opacity=\"0.439216\" stroke=\"#000000\" d=\"M263,-52C263,-52 233,-52 233,-52 227,-52 221,-46 221,-40 221,-40 221,-28 221,-28 221,-22 227,-16 233,-16 233,-16 263,-16 263,-16 269,-16 275,-22 275,-28 275,-28 275,-40 275,-40 275,-46 269,-52 263,-52\"/>\n<text text-anchor=\"middle\" x=\"248\" y=\"-30.3\" font-family=\"Times,serif\" font-size=\"14.00\" fill=\"#000000\">Linear</text>\n</a>\n</g>\n</g>\n<!-- nfc93c8049c904a29a3c5d8e7cf15d589&#45;&gt;n1ea8c2d2447c4c1194cdd50ce59f0725 -->\n<g id=\"edge1\" class=\"edge\">\n<title>nfc93c8049c904a29a3c5d8e7cf15d589&#45;&gt;n1ea8c2d2447c4c1194cdd50ce59f0725</title>\n<path fill=\"none\" stroke=\"#000000\" d=\"M185.0032,-55.0939C193.8323,-52.1376 202.9306,-49.0911 211.3721,-46.2646\"/>\n<polygon fill=\"#000000\" stroke=\"#000000\" points=\"212.5532,-49.5601 220.9245,-43.066 210.3306,-42.9223 212.5532,-49.5601\"/>\n</g>\n<!-- n8d0ab9f7318940c49bd584ecdcc0be57 -->\n<g id=\"node4\" class=\"node\">\n<title>n8d0ab9f7318940c49bd584ecdcc0be57</title>\n<g id=\"a_node4\"><a xlink:title=\"input=4096,output=1024\">\n<path fill=\"#22d6e0\" fill-opacity=\"0.286275\" stroke=\"#000000\" d=\"M380,-72C380,-72 323,-72 323,-72 317,-72 311,-66 311,-60 311,-60 311,-48 311,-48 311,-42 317,-36 323,-36 323,-36 380,-36 380,-36 386,-36 392,-42 392,-48 392,-48 392,-60 392,-60 392,-66 386,-72 380,-72\"/>\n<text text-anchor=\"middle\" x=\"351.5\" y=\"-50.3\" font-family=\"Times,serif\" font-size=\"14.00\" fill=\"#000000\">BertOutput</text>\n</a>\n</g>\n</g>\n<!-- nfc93c8049c904a29a3c5d8e7cf15d589&#45;&gt;n8d0ab9f7318940c49bd584ecdcc0be57 -->\n<g id=\"edge4\" class=\"edge\">\n<title>nfc93c8049c904a29a3c5d8e7cf15d589&#45;&gt;n8d0ab9f7318940c49bd584ecdcc0be57</title>\n<path fill=\"none\" stroke=\"#000000\" d=\"M185.2426,-67.7475C211.7007,-65.8899 245.1821,-63.4483 275,-61 283.2213,-60.325 291.9356,-59.5675 300.4247,-58.8068\"/>\n<polygon fill=\"#000000\" stroke=\"#000000\" points=\"300.9765,-62.2713 310.6196,-57.8827 300.3445,-55.2998 300.9765,-62.2713\"/>\n</g>\n<!-- n107d928e7f4d46e595e9f8081713780e -->\n<g id=\"node5\" class=\"node\">\n<title>n107d928e7f4d46e595e9f8081713780e</title>\n<g id=\"a_node5\"><a xlink:title=\"+\">\n<path fill=\"#b4f295\" fill-opacity=\"0.494118\" stroke=\"#000000\" d=\"M470,-82C470,-82 440,-82 440,-82 434,-82 428,-76 428,-70 428,-70 428,-58 428,-58 428,-52 434,-46 440,-46 440,-46 470,-46 470,-46 476,-46 482,-52 482,-58 482,-58 482,-70 482,-70 482,-76 476,-82 470,-82\"/>\n<text text-anchor=\"middle\" x=\"455\" y=\"-60.3\" font-family=\"Times,serif\" font-size=\"14.00\" fill=\"#000000\">+</text>\n</a>\n</g>\n</g>\n<!-- nfc93c8049c904a29a3c5d8e7cf15d589&#45;&gt;n107d928e7f4d46e595e9f8081713780e -->\n<g id=\"edge5\" class=\"edge\">\n<title>nfc93c8049c904a29a3c5d8e7cf15d589&#45;&gt;n107d928e7f4d46e595e9f8081713780e</title>\n<path fill=\"none\" stroke=\"#000000\" d=\"M185.0981,-77.6941C236.3964,-83.7861 320.3302,-90.4998 392,-81 400.4632,-79.8782 409.403,-77.9437 417.8055,-75.7722\"/>\n<polygon fill=\"#000000\" stroke=\"#000000\" points=\"419.0066,-79.0719 427.7199,-73.0446 417.1497,-72.3227 419.0066,-79.0719\"/>\n</g>\n<!-- n1ea8c2d2447c4c1194cdd50ce59f0725&#45;&gt;n8d0ab9f7318940c49bd584ecdcc0be57 -->\n<g id=\"edge2\" class=\"edge\">\n<title>n1ea8c2d2447c4c1194cdd50ce59f0725&#45;&gt;n8d0ab9f7318940c49bd584ecdcc0be57</title>\n<path fill=\"none\" stroke=\"#000000\" d=\"M275.1934,-39.2548C283.1133,-40.7852 292.0322,-42.5086 300.9058,-44.2233\"/>\n<polygon fill=\"#000000\" stroke=\"#000000\" points=\"300.3669,-47.6839 310.8494,-46.1448 301.6951,-40.811 300.3669,-47.6839\"/>\n</g>\n<!-- n8d0ab9f7318940c49bd584ecdcc0be57&#45;&gt;n107d928e7f4d46e595e9f8081713780e -->\n<g id=\"edge3\" class=\"edge\">\n<title>n8d0ab9f7318940c49bd584ecdcc0be57&#45;&gt;n107d928e7f4d46e595e9f8081713780e</title>\n<path fill=\"none\" stroke=\"#000000\" d=\"M392.1089,-57.9236C400.5507,-58.7392 409.4078,-59.595 417.7229,-60.3983\"/>\n<polygon fill=\"#000000\" stroke=\"#000000\" points=\"417.6029,-63.903 427.8932,-61.381 418.2762,-56.9354 417.6029,-63.903\"/>\n</g>\n<!-- nf838a0acbbbe4b559ccd58ba2096a9d6 -->\n<g id=\"node6\" class=\"node\">\n<title>nf838a0acbbbe4b559ccd58ba2096a9d6</title>\n<g id=\"a_node6\"><a xlink:title=\"output=1024\">\n<path fill=\"#24d8df\" fill-opacity=\"0.400000\" stroke=\"#000000\" d=\"M563,-82C563,-82 530,-82 530,-82 524,-82 518,-76 518,-70 518,-70 518,-58 518,-58 518,-52 524,-46 530,-46 530,-46 563,-46 563,-46 569,-46 575,-52 575,-58 575,-58 575,-70 575,-70 575,-76 569,-82 563,-82\"/>\n<text text-anchor=\"middle\" x=\"546.5\" y=\"-60.3\" font-family=\"Times,serif\" font-size=\"14.00\" fill=\"#000000\">Output</text>\n</a>\n</g>\n</g>\n<!-- n107d928e7f4d46e595e9f8081713780e&#45;&gt;nf838a0acbbbe4b559ccd58ba2096a9d6 -->\n<g id=\"edge7\" class=\"edge\">\n<title>n107d928e7f4d46e595e9f8081713780e&#45;&gt;nf838a0acbbbe4b559ccd58ba2096a9d6</title>\n<path fill=\"none\" stroke=\"#000000\" d=\"M482.453,-64C490.3869,-64 499.1998,-64 507.6866,-64\"/>\n<polygon fill=\"#000000\" stroke=\"#000000\" points=\"507.796,-67.5001 517.796,-64 507.7959,-60.5001 507.796,-67.5001\"/>\n</g>\n</g>\n</svg>\n"
          },
          "metadata": {
            "tags": []
          },
          "execution_count": 9
        }
      ]
    },
    {
      "cell_type": "code",
      "metadata": {
        "cellView": "form",
        "id": "lH3yrVVzO0u0",
        "outputId": "fbff7ba0-823d-4ec6-988d-a27461a6552a",
        "colab": {
          "base_uri": "https://localhost:8080/",
          "height": 199
        }
      },
      "source": [
        "#@title BertAttention\n",
        "#@markdown BertAttention\n",
        "\n",
        "cl=seq_cluster(['BertSelfAttention','BertSelfOutput','+'],'BertAttention')\n",
        "cl.get_nodes()[0].set_tooltip('input=1024,output=1024')\n",
        "cl.get_nodes()[1].set_tooltip('input=1024,output=1024')\n",
        "cl.add_items(cl.get_nodes()[0].connect(cl.get_nodes()[2]))\n",
        "add_input_output(cl,'input=1024','output=1024')"
      ],
      "execution_count": 10,
      "outputs": [
        {
          "output_type": "execute_result",
          "data": {
            "text/plain": [
              "<pydot.Dot at 0x7fc91e0a1a58>"
            ],
            "image/svg+xml": "<?xml version=\"1.0\" encoding=\"UTF-8\" standalone=\"no\"?>\n<!DOCTYPE svg PUBLIC \"-//W3C//DTD SVG 1.1//EN\"\n \"http://www.w3.org/Graphics/SVG/1.1/DTD/svg11.dtd\">\n<!-- Generated by graphviz version 2.40.1 (20161225.0304)\n -->\n<!-- Title: G Pages: 1 -->\n<svg width=\"538pt\" height=\"119pt\"\n viewBox=\"0.00 0.00 538.00 119.00\" xmlns=\"http://www.w3.org/2000/svg\" xmlns:xlink=\"http://www.w3.org/1999/xlink\">\n<g id=\"graph0\" class=\"graph\" transform=\"scale(1 1) rotate(0) translate(4 115)\">\n<title>G</title>\n<polygon fill=\"#ffffff\" stroke=\"transparent\" points=\"-4,4 -4,-115 534,-115 534,4 -4,4\"/>\n<g id=\"clust1\" class=\"cluster\">\n<title>cluster_n6c0d0cd63b404e7987a0ffe9d0565d45</title>\n<g id=\"a_clust1\"><a xlink:title=\"BertAttention\">\n<path fill=\"#555555\" fill-opacity=\"0.133333\" stroke=\"#000000\" d=\"M94,-8C94,-8 433,-8 433,-8 439,-8 445,-14 445,-20 445,-20 445,-91 445,-91 445,-97 439,-103 433,-103 433,-103 94,-103 94,-103 88,-103 82,-97 82,-91 82,-91 82,-20 82,-20 82,-14 88,-8 94,-8\"/>\n<text text-anchor=\"middle\" x=\"263.5\" y=\"-87.8\" font-family=\"Times,serif\" font-size=\"14.00\" fill=\"#000000\">BertAttention</text>\n</a>\n</g>\n</g>\n<!-- nd05f3febda8044e8b77fdd693a01255e -->\n<g id=\"node1\" class=\"node\">\n<title>nd05f3febda8044e8b77fdd693a01255e</title>\n<g id=\"a_node1\"><a xlink:title=\"input=1024\">\n<path fill=\"#06aeed\" fill-opacity=\"0.647059\" stroke=\"#000000\" d=\"M42,-62C42,-62 12,-62 12,-62 6,-62 0,-56 0,-50 0,-50 0,-38 0,-38 0,-32 6,-26 12,-26 12,-26 42,-26 42,-26 48,-26 54,-32 54,-38 54,-38 54,-50 54,-50 54,-56 48,-62 42,-62\"/>\n<text text-anchor=\"middle\" x=\"27\" y=\"-40.3\" font-family=\"Times,serif\" font-size=\"14.00\" fill=\"#000000\">Input</text>\n</a>\n</g>\n</g>\n<!-- nb6aa9dbfd5da44cdbbe50b5c677183a0 -->\n<g id=\"node2\" class=\"node\">\n<title>nb6aa9dbfd5da44cdbbe50b5c677183a0</title>\n<g id=\"a_node2\"><a xlink:title=\"input=1024,output=1024\">\n<path fill=\"#ff4121\" fill-opacity=\"0.431373\" stroke=\"#000000\" d=\"M195,-62C195,-62 102,-62 102,-62 96,-62 90,-56 90,-50 90,-50 90,-38 90,-38 90,-32 96,-26 102,-26 102,-26 195,-26 195,-26 201,-26 207,-32 207,-38 207,-38 207,-50 207,-50 207,-56 201,-62 195,-62\"/>\n<text text-anchor=\"middle\" x=\"148.5\" y=\"-40.3\" font-family=\"Times,serif\" font-size=\"14.00\" fill=\"#000000\">BertSelfAttention</text>\n</a>\n</g>\n</g>\n<!-- nd05f3febda8044e8b77fdd693a01255e&#45;&gt;nb6aa9dbfd5da44cdbbe50b5c677183a0 -->\n<g id=\"edge4\" class=\"edge\">\n<title>nd05f3febda8044e8b77fdd693a01255e&#45;&gt;nb6aa9dbfd5da44cdbbe50b5c677183a0</title>\n<path fill=\"none\" stroke=\"#000000\" d=\"M54.267,-44C61.8921,-44 70.5407,-44 79.4316,-44\"/>\n<polygon fill=\"#000000\" stroke=\"#000000\" points=\"79.531,-47.5001 89.5309,-44 79.5309,-40.5001 79.531,-47.5001\"/>\n</g>\n<!-- n41ec658ed077465190f406fa0633da05 -->\n<g id=\"node3\" class=\"node\">\n<title>n41ec658ed077465190f406fa0633da05</title>\n<g id=\"a_node3\"><a xlink:title=\"input=1024,output=1024\">\n<path fill=\"#17cbe4\" fill-opacity=\"0.560784\" stroke=\"#000000\" d=\"M335,-52C335,-52 255,-52 255,-52 249,-52 243,-46 243,-40 243,-40 243,-28 243,-28 243,-22 249,-16 255,-16 255,-16 335,-16 335,-16 341,-16 347,-22 347,-28 347,-28 347,-40 347,-40 347,-46 341,-52 335,-52\"/>\n<text text-anchor=\"middle\" x=\"295\" y=\"-30.3\" font-family=\"Times,serif\" font-size=\"14.00\" fill=\"#000000\">BertSelfOutput</text>\n</a>\n</g>\n</g>\n<!-- nb6aa9dbfd5da44cdbbe50b5c677183a0&#45;&gt;n41ec658ed077465190f406fa0633da05 -->\n<g id=\"edge1\" class=\"edge\">\n<title>nb6aa9dbfd5da44cdbbe50b5c677183a0&#45;&gt;n41ec658ed077465190f406fa0633da05</title>\n<path fill=\"none\" stroke=\"#000000\" d=\"M207.243,-39.9902C215.6189,-39.4185 224.2584,-38.8288 232.6994,-38.2526\"/>\n<polygon fill=\"#000000\" stroke=\"#000000\" points=\"233.1277,-41.7316 242.8661,-37.5586 232.6509,-34.7479 233.1277,-41.7316\"/>\n</g>\n<!-- nc779f40559834162b0276aadf711efbf -->\n<g id=\"node4\" class=\"node\">\n<title>nc779f40559834162b0276aadf711efbf</title>\n<g id=\"a_node4\"><a xlink:title=\"+\">\n<path fill=\"#b4f295\" fill-opacity=\"0.494118\" stroke=\"#000000\" d=\"M425,-62C425,-62 395,-62 395,-62 389,-62 383,-56 383,-50 383,-50 383,-38 383,-38 383,-32 389,-26 395,-26 395,-26 425,-26 425,-26 431,-26 437,-32 437,-38 437,-38 437,-50 437,-50 437,-56 431,-62 425,-62\"/>\n<text text-anchor=\"middle\" x=\"410\" y=\"-40.3\" font-family=\"Times,serif\" font-size=\"14.00\" fill=\"#000000\">+</text>\n</a>\n</g>\n</g>\n<!-- nb6aa9dbfd5da44cdbbe50b5c677183a0&#45;&gt;nc779f40559834162b0276aadf711efbf -->\n<g id=\"edge3\" class=\"edge\">\n<title>nb6aa9dbfd5da44cdbbe50b5c677183a0&#45;&gt;nc779f40559834162b0276aadf711efbf</title>\n<path fill=\"none\" stroke=\"#000000\" d=\"M207.0084,-56.197C218.8692,-58.197 231.2944,-59.9555 243,-61 289.0393,-65.1081 301.1786,-67.0736 347,-61 355.4632,-59.8782 364.403,-57.9437 372.8055,-55.7722\"/>\n<polygon fill=\"#000000\" stroke=\"#000000\" points=\"374.0066,-59.0719 382.7199,-53.0446 372.1497,-52.3227 374.0066,-59.0719\"/>\n</g>\n<!-- n41ec658ed077465190f406fa0633da05&#45;&gt;nc779f40559834162b0276aadf711efbf -->\n<g id=\"edge2\" class=\"edge\">\n<title>n41ec658ed077465190f406fa0633da05&#45;&gt;nc779f40559834162b0276aadf711efbf</title>\n<path fill=\"none\" stroke=\"#000000\" d=\"M347.1164,-38.5319C355.8079,-39.2876 364.6648,-40.0578 372.8836,-40.7725\"/>\n<polygon fill=\"#000000\" stroke=\"#000000\" points=\"372.6266,-44.2633 382.8922,-41.6428 373.2331,-37.2896 372.6266,-44.2633\"/>\n</g>\n<!-- n11d90f454314446d8d5982d3cb1c6b79 -->\n<g id=\"node5\" class=\"node\">\n<title>n11d90f454314446d8d5982d3cb1c6b79</title>\n<g id=\"a_node5\"><a xlink:title=\"output=1024\">\n<path fill=\"#24d8df\" fill-opacity=\"0.400000\" stroke=\"#000000\" d=\"M518,-62C518,-62 485,-62 485,-62 479,-62 473,-56 473,-50 473,-50 473,-38 473,-38 473,-32 479,-26 485,-26 485,-26 518,-26 518,-26 524,-26 530,-32 530,-38 530,-38 530,-50 530,-50 530,-56 524,-62 518,-62\"/>\n<text text-anchor=\"middle\" x=\"501.5\" y=\"-40.3\" font-family=\"Times,serif\" font-size=\"14.00\" fill=\"#000000\">Output</text>\n</a>\n</g>\n</g>\n<!-- nc779f40559834162b0276aadf711efbf&#45;&gt;n11d90f454314446d8d5982d3cb1c6b79 -->\n<g id=\"edge5\" class=\"edge\">\n<title>nc779f40559834162b0276aadf711efbf&#45;&gt;n11d90f454314446d8d5982d3cb1c6b79</title>\n<path fill=\"none\" stroke=\"#000000\" d=\"M437.453,-44C445.3869,-44 454.1998,-44 462.6866,-44\"/>\n<polygon fill=\"#000000\" stroke=\"#000000\" points=\"462.796,-47.5001 472.796,-44 462.7959,-40.5001 462.796,-47.5001\"/>\n</g>\n</g>\n</svg>\n"
          },
          "metadata": {
            "tags": []
          },
          "execution_count": 10
        }
      ]
    },
    {
      "cell_type": "code",
      "metadata": {
        "cellView": "form",
        "id": "1KWAZCXOO0kI",
        "outputId": "17079b17-fe17-4060-c7b9-39640f686199",
        "colab": {
          "base_uri": "https://localhost:8080/",
          "height": 261
        }
      },
      "source": [
        "#@title BertSelfAttention\n",
        "#@markdown BertSelfAttention\n",
        "\n",
        "cl=seq_cluster(['Linear','*','Scale','Mask','SoftMax','*'],'BertSelfAttention')\n",
        "cl.get_nodes()[0].set_tooltip('QueryLayer ,input=1024,output=1024')\n",
        "nodes=cl.add_items('Linear','Linear','Dropout')\n",
        "cl.add_items(nodes[0].connect(cl.get_nodes()[1]),nodes[1].connect(cl.get_nodes()[5]))\n",
        "cl.add_items(cl.get_nodes()[5].connect(nodes[2]))\n",
        "\n",
        "\n",
        "nodes[0].set_tooltip('KeyLayer ,input=1024,output=1024')\n",
        "nodes[1].set_tooltip('ValueLayer ,input=1024,output=1024')\n",
        "nodes[2].set_tooltip('p=0.1, inplace=False')\n",
        "inp=Node('Input',tooltip='input=1024')\n",
        "outp=Node('Output',tooltip='output=1024')\n",
        "g=graph_items(inp,cl,outp)\n",
        "\n",
        "g.add_items(inp.connect(cl.get_nodes()[0]),inp.connect(nodes[0]),inp.connect(nodes[1]),cl.get_nodes()[-1].connect(outp))\n",
        "g"
      ],
      "execution_count": 11,
      "outputs": [
        {
          "output_type": "execute_result",
          "data": {
            "text/plain": [
              "<pydot.Dot at 0x7fc91e04a048>"
            ],
            "image/svg+xml": "<?xml version=\"1.0\" encoding=\"UTF-8\" standalone=\"no\"?>\n<!DOCTYPE svg PUBLIC \"-//W3C//DTD SVG 1.1//EN\"\n \"http://www.w3.org/Graphics/SVG/1.1/DTD/svg11.dtd\">\n<!-- Generated by graphviz version 2.40.1 (20161225.0304)\n -->\n<!-- Title: G Pages: 1 -->\n<svg width=\"809pt\" height=\"165pt\"\n viewBox=\"0.00 0.00 809.00 165.00\" xmlns=\"http://www.w3.org/2000/svg\" xmlns:xlink=\"http://www.w3.org/1999/xlink\">\n<g id=\"graph0\" class=\"graph\" transform=\"scale(1 1) rotate(0) translate(4 161)\">\n<title>G</title>\n<polygon fill=\"#ffffff\" stroke=\"transparent\" points=\"-4,4 -4,-161 805,-161 805,4 -4,4\"/>\n<g id=\"clust1\" class=\"cluster\">\n<title>cluster_n503b6673a562449690e8cbff80eff99a</title>\n<g id=\"a_clust1\"><a xlink:title=\"BertSelfAttention\">\n<path fill=\"#555555\" fill-opacity=\"0.133333\" stroke=\"#000000\" d=\"M94,-20C94,-20 704,-20 704,-20 710,-20 716,-26 716,-32 716,-32 716,-137 716,-137 716,-143 710,-149 704,-149 704,-149 94,-149 94,-149 88,-149 82,-143 82,-137 82,-137 82,-32 82,-32 82,-26 88,-20 94,-20\"/>\n<text text-anchor=\"middle\" x=\"399\" y=\"-133.8\" font-family=\"Times,serif\" font-size=\"14.00\" fill=\"#000000\">BertSelfAttention</text>\n</a>\n</g>\n</g>\n<!-- n87145c9559b34c69a94111e1536443f8 -->\n<g id=\"node1\" class=\"node\">\n<title>n87145c9559b34c69a94111e1536443f8</title>\n<g id=\"a_node1\"><a xlink:title=\"input=1024\">\n<path fill=\"#06aeed\" fill-opacity=\"0.647059\" stroke=\"#000000\" d=\"M42,-64C42,-64 12,-64 12,-64 6,-64 0,-58 0,-52 0,-52 0,-40 0,-40 0,-34 6,-28 12,-28 12,-28 42,-28 42,-28 48,-28 54,-34 54,-40 54,-40 54,-52 54,-52 54,-58 48,-64 42,-64\"/>\n<text text-anchor=\"middle\" x=\"27\" y=\"-42.3\" font-family=\"Times,serif\" font-size=\"14.00\" fill=\"#000000\">Input</text>\n</a>\n</g>\n</g>\n<!-- nd615ce511fd94ca594aa75348cc0db32 -->\n<g id=\"node2\" class=\"node\">\n<title>nd615ce511fd94ca594aa75348cc0db32</title>\n<g id=\"a_node2\"><a xlink:title=\"QueryLayer ,input=1024,output=1024\">\n<path fill=\"#10c6e6\" fill-opacity=\"0.439216\" stroke=\"#000000\" d=\"M132,-118C132,-118 102,-118 102,-118 96,-118 90,-112 90,-106 90,-106 90,-94 90,-94 90,-88 96,-82 102,-82 102,-82 132,-82 132,-82 138,-82 144,-88 144,-94 144,-94 144,-106 144,-106 144,-112 138,-118 132,-118\"/>\n<text text-anchor=\"middle\" x=\"117\" y=\"-96.3\" font-family=\"Times,serif\" font-size=\"14.00\" fill=\"#000000\">Linear</text>\n</a>\n</g>\n</g>\n<!-- n87145c9559b34c69a94111e1536443f8&#45;&gt;nd615ce511fd94ca594aa75348cc0db32 -->\n<g id=\"edge9\" class=\"edge\">\n<title>n87145c9559b34c69a94111e1536443f8&#45;&gt;nd615ce511fd94ca594aa75348cc0db32</title>\n<path fill=\"none\" stroke=\"#000000\" d=\"M54.003,-62.2018C62.4686,-67.2812 71.9516,-72.971 80.9389,-78.3634\"/>\n<polygon fill=\"#000000\" stroke=\"#000000\" points=\"79.3293,-81.4792 89.705,-83.623 82.9308,-75.4768 79.3293,-81.4792\"/>\n</g>\n<!-- n13480b4c3e3f489da88469ba8dd14c2c -->\n<g id=\"node8\" class=\"node\">\n<title>n13480b4c3e3f489da88469ba8dd14c2c</title>\n<g id=\"a_node8\"><a xlink:title=\"KeyLayer ,input=1024,output=1024\">\n<path fill=\"#10c6e6\" fill-opacity=\"0.439216\" stroke=\"#000000\" d=\"M132,-64C132,-64 102,-64 102,-64 96,-64 90,-58 90,-52 90,-52 90,-40 90,-40 90,-34 96,-28 102,-28 102,-28 132,-28 132,-28 138,-28 144,-34 144,-40 144,-40 144,-52 144,-52 144,-58 138,-64 132,-64\"/>\n<text text-anchor=\"middle\" x=\"117\" y=\"-42.3\" font-family=\"Times,serif\" font-size=\"14.00\" fill=\"#000000\">Linear</text>\n</a>\n</g>\n</g>\n<!-- n87145c9559b34c69a94111e1536443f8&#45;&gt;n13480b4c3e3f489da88469ba8dd14c2c -->\n<g id=\"edge10\" class=\"edge\">\n<title>n87145c9559b34c69a94111e1536443f8&#45;&gt;n13480b4c3e3f489da88469ba8dd14c2c</title>\n<path fill=\"none\" stroke=\"#000000\" d=\"M54.003,-46C62.0277,-46 70.9665,-46 79.5309,-46\"/>\n<polygon fill=\"#000000\" stroke=\"#000000\" points=\"79.7051,-49.5001 89.705,-46 79.705,-42.5001 79.7051,-49.5001\"/>\n</g>\n<!-- n902cc9d19a884a1fbca4c8240cff567b -->\n<g id=\"node9\" class=\"node\">\n<title>n902cc9d19a884a1fbca4c8240cff567b</title>\n<g id=\"a_node9\"><a xlink:title=\"ValueLayer ,input=1024,output=1024\">\n<path fill=\"#10c6e6\" fill-opacity=\"0.439216\" stroke=\"#000000\" d=\"M498.5,-64C498.5,-64 468.5,-64 468.5,-64 462.5,-64 456.5,-58 456.5,-52 456.5,-52 456.5,-40 456.5,-40 456.5,-34 462.5,-28 468.5,-28 468.5,-28 498.5,-28 498.5,-28 504.5,-28 510.5,-34 510.5,-40 510.5,-40 510.5,-52 510.5,-52 510.5,-58 504.5,-64 498.5,-64\"/>\n<text text-anchor=\"middle\" x=\"483.5\" y=\"-42.3\" font-family=\"Times,serif\" font-size=\"14.00\" fill=\"#000000\">Linear</text>\n</a>\n</g>\n</g>\n<!-- n87145c9559b34c69a94111e1536443f8&#45;&gt;n902cc9d19a884a1fbca4c8240cff567b -->\n<g id=\"edge11\" class=\"edge\">\n<title>n87145c9559b34c69a94111e1536443f8&#45;&gt;n902cc9d19a884a1fbca4c8240cff567b</title>\n<path fill=\"none\" stroke=\"#000000\" d=\"M54.0168,-30.6978C62.7201,-26.3294 72.5599,-21.9574 82,-19 135.6238,-2.2006 150.8063,0 207,0 207,0 207,0 297,0 350.2669,0 409.6667,-17.9074 446.8101,-31.3762\"/>\n<polygon fill=\"#000000\" stroke=\"#000000\" points=\"445.6212,-34.6682 456.2143,-34.8647 448.0559,-28.1052 445.6212,-34.6682\"/>\n</g>\n<!-- nef806d34a02e4cfdb92bf7a627aaf6ec -->\n<g id=\"node3\" class=\"node\">\n<title>nef806d34a02e4cfdb92bf7a627aaf6ec</title>\n<g id=\"a_node3\"><a xlink:title=\"*\">\n<path fill=\"#06aeed\" fill-opacity=\"0.521569\" stroke=\"#000000\" d=\"M222,-118C222,-118 192,-118 192,-118 186,-118 180,-112 180,-106 180,-106 180,-94 180,-94 180,-88 186,-82 192,-82 192,-82 222,-82 222,-82 228,-82 234,-88 234,-94 234,-94 234,-106 234,-106 234,-112 228,-118 222,-118\"/>\n<text text-anchor=\"middle\" x=\"207\" y=\"-96.3\" font-family=\"Times,serif\" font-size=\"14.00\" fill=\"#000000\">*</text>\n</a>\n</g>\n</g>\n<!-- nd615ce511fd94ca594aa75348cc0db32&#45;&gt;nef806d34a02e4cfdb92bf7a627aaf6ec -->\n<g id=\"edge1\" class=\"edge\">\n<title>nd615ce511fd94ca594aa75348cc0db32&#45;&gt;nef806d34a02e4cfdb92bf7a627aaf6ec</title>\n<path fill=\"none\" stroke=\"#000000\" d=\"M144.003,-100C152.0277,-100 160.9665,-100 169.5309,-100\"/>\n<polygon fill=\"#000000\" stroke=\"#000000\" points=\"169.7051,-103.5001 179.705,-100 169.705,-96.5001 169.7051,-103.5001\"/>\n</g>\n<!-- ne76345f92ac64580bd760cc866eb9421 -->\n<g id=\"node4\" class=\"node\">\n<title>ne76345f92ac64580bd760cc866eb9421</title>\n<g id=\"a_node4\"><a xlink:title=\"Scale\">\n<path fill=\"#7c06ff\" fill-opacity=\"0.211765\" stroke=\"#000000\" d=\"M312,-118C312,-118 282,-118 282,-118 276,-118 270,-112 270,-106 270,-106 270,-94 270,-94 270,-88 276,-82 282,-82 282,-82 312,-82 312,-82 318,-82 324,-88 324,-94 324,-94 324,-106 324,-106 324,-112 318,-118 312,-118\"/>\n<text text-anchor=\"middle\" x=\"297\" y=\"-96.3\" font-family=\"Times,serif\" font-size=\"14.00\" fill=\"#000000\">Scale</text>\n</a>\n</g>\n</g>\n<!-- nef806d34a02e4cfdb92bf7a627aaf6ec&#45;&gt;ne76345f92ac64580bd760cc866eb9421 -->\n<g id=\"edge2\" class=\"edge\">\n<title>nef806d34a02e4cfdb92bf7a627aaf6ec&#45;&gt;ne76345f92ac64580bd760cc866eb9421</title>\n<path fill=\"none\" stroke=\"#000000\" d=\"M234.003,-100C242.0277,-100 250.9665,-100 259.5309,-100\"/>\n<polygon fill=\"#000000\" stroke=\"#000000\" points=\"259.7051,-103.5001 269.705,-100 259.705,-96.5001 259.7051,-103.5001\"/>\n</g>\n<!-- nd664dbeb9d9b4cc3a0c002ce758c17a6 -->\n<g id=\"node5\" class=\"node\">\n<title>nd664dbeb9d9b4cc3a0c002ce758c17a6</title>\n<g id=\"a_node5\"><a xlink:title=\"Mask\">\n<path fill=\"#ff733b\" fill-opacity=\"0.631373\" stroke=\"#000000\" d=\"M402,-118C402,-118 372,-118 372,-118 366,-118 360,-112 360,-106 360,-106 360,-94 360,-94 360,-88 366,-82 372,-82 372,-82 402,-82 402,-82 408,-82 414,-88 414,-94 414,-94 414,-106 414,-106 414,-112 408,-118 402,-118\"/>\n<text text-anchor=\"middle\" x=\"387\" y=\"-96.3\" font-family=\"Times,serif\" font-size=\"14.00\" fill=\"#000000\">Mask</text>\n</a>\n</g>\n</g>\n<!-- ne76345f92ac64580bd760cc866eb9421&#45;&gt;nd664dbeb9d9b4cc3a0c002ce758c17a6 -->\n<g id=\"edge3\" class=\"edge\">\n<title>ne76345f92ac64580bd760cc866eb9421&#45;&gt;nd664dbeb9d9b4cc3a0c002ce758c17a6</title>\n<path fill=\"none\" stroke=\"#000000\" d=\"M324.003,-100C332.0277,-100 340.9665,-100 349.5309,-100\"/>\n<polygon fill=\"#000000\" stroke=\"#000000\" points=\"349.7051,-103.5001 359.705,-100 349.705,-96.5001 349.7051,-103.5001\"/>\n</g>\n<!-- n8fbcc8d1c110416980369310d6a220c3 -->\n<g id=\"node6\" class=\"node\">\n<title>n8fbcc8d1c110416980369310d6a220c3</title>\n<g id=\"a_node6\"><a xlink:title=\"SoftMax\">\n<path fill=\"#3e65fa\" fill-opacity=\"0.349020\" stroke=\"#000000\" d=\"M505,-118C505,-118 462,-118 462,-118 456,-118 450,-112 450,-106 450,-106 450,-94 450,-94 450,-88 456,-82 462,-82 462,-82 505,-82 505,-82 511,-82 517,-88 517,-94 517,-94 517,-106 517,-106 517,-112 511,-118 505,-118\"/>\n<text text-anchor=\"middle\" x=\"483.5\" y=\"-96.3\" font-family=\"Times,serif\" font-size=\"14.00\" fill=\"#000000\">SoftMax</text>\n</a>\n</g>\n</g>\n<!-- nd664dbeb9d9b4cc3a0c002ce758c17a6&#45;&gt;n8fbcc8d1c110416980369310d6a220c3 -->\n<g id=\"edge4\" class=\"edge\">\n<title>nd664dbeb9d9b4cc3a0c002ce758c17a6&#45;&gt;n8fbcc8d1c110416980369310d6a220c3</title>\n<path fill=\"none\" stroke=\"#000000\" d=\"M414.1374,-100C422.0709,-100 430.9529,-100 439.6433,-100\"/>\n<polygon fill=\"#000000\" stroke=\"#000000\" points=\"439.6887,-103.5001 449.6886,-100 439.6886,-96.5001 439.6887,-103.5001\"/>\n</g>\n<!-- n131417db26f54acabad3418de9e58555 -->\n<g id=\"node7\" class=\"node\">\n<title>n131417db26f54acabad3418de9e58555</title>\n<g id=\"a_node7\"><a xlink:title=\"*\">\n<path fill=\"#06aeed\" fill-opacity=\"0.521569\" stroke=\"#000000\" d=\"M595,-91C595,-91 565,-91 565,-91 559,-91 553,-85 553,-79 553,-79 553,-67 553,-67 553,-61 559,-55 565,-55 565,-55 595,-55 595,-55 601,-55 607,-61 607,-67 607,-67 607,-79 607,-79 607,-85 601,-91 595,-91\"/>\n<text text-anchor=\"middle\" x=\"580\" y=\"-69.3\" font-family=\"Times,serif\" font-size=\"14.00\" fill=\"#000000\">*</text>\n</a>\n</g>\n</g>\n<!-- n8fbcc8d1c110416980369310d6a220c3&#45;&gt;n131417db26f54acabad3418de9e58555 -->\n<g id=\"edge5\" class=\"edge\">\n<title>n8fbcc8d1c110416980369310d6a220c3&#45;&gt;n131417db26f54acabad3418de9e58555</title>\n<path fill=\"none\" stroke=\"#000000\" d=\"M517.251,-90.5567C525.6109,-88.2177 534.611,-85.6995 543.1121,-83.321\"/>\n<polygon fill=\"#000000\" stroke=\"#000000\" points=\"544.1072,-86.6771 552.7942,-80.612 542.221,-79.9359 544.1072,-86.6771\"/>\n</g>\n<!-- nb54a64e7d4974fe1ad5437f3dc041875 -->\n<g id=\"node10\" class=\"node\">\n<title>nb54a64e7d4974fe1ad5437f3dc041875</title>\n<g id=\"a_node10\"><a xlink:title=\"p=0.1, inplace=False\">\n<path fill=\"#42edd3\" fill-opacity=\"0.349020\" stroke=\"#000000\" d=\"M696,-91C696,-91 655,-91 655,-91 649,-91 643,-85 643,-79 643,-79 643,-67 643,-67 643,-61 649,-55 655,-55 655,-55 696,-55 696,-55 702,-55 708,-61 708,-67 708,-67 708,-79 708,-79 708,-85 702,-91 696,-91\"/>\n<text text-anchor=\"middle\" x=\"675.5\" y=\"-69.3\" font-family=\"Times,serif\" font-size=\"14.00\" fill=\"#000000\">Dropout</text>\n</a>\n</g>\n</g>\n<!-- n131417db26f54acabad3418de9e58555&#45;&gt;nb54a64e7d4974fe1ad5437f3dc041875 -->\n<g id=\"edge8\" class=\"edge\">\n<title>n131417db26f54acabad3418de9e58555&#45;&gt;nb54a64e7d4974fe1ad5437f3dc041875</title>\n<path fill=\"none\" stroke=\"#000000\" d=\"M607.111,-73C615.1173,-73 624.0822,-73 632.8182,-73\"/>\n<polygon fill=\"#000000\" stroke=\"#000000\" points=\"632.8973,-76.5001 642.8973,-73 632.8972,-69.5001 632.8973,-76.5001\"/>\n</g>\n<!-- n13480b4c3e3f489da88469ba8dd14c2c&#45;&gt;nef806d34a02e4cfdb92bf7a627aaf6ec -->\n<g id=\"edge6\" class=\"edge\">\n<title>n13480b4c3e3f489da88469ba8dd14c2c&#45;&gt;nef806d34a02e4cfdb92bf7a627aaf6ec</title>\n<path fill=\"none\" stroke=\"#000000\" d=\"M144.003,-62.2018C152.4686,-67.2812 161.9516,-72.971 170.9389,-78.3634\"/>\n<polygon fill=\"#000000\" stroke=\"#000000\" points=\"169.3293,-81.4792 179.705,-83.623 172.9308,-75.4768 169.3293,-81.4792\"/>\n</g>\n<!-- n902cc9d19a884a1fbca4c8240cff567b&#45;&gt;n131417db26f54acabad3418de9e58555 -->\n<g id=\"edge7\" class=\"edge\">\n<title>n902cc9d19a884a1fbca4c8240cff567b&#45;&gt;n131417db26f54acabad3418de9e58555</title>\n<path fill=\"none\" stroke=\"#000000\" d=\"M510.6374,-53.5929C520.6074,-56.3824 532.0754,-59.591 542.7785,-62.5857\"/>\n<polygon fill=\"#000000\" stroke=\"#000000\" points=\"542.1587,-66.0466 552.7319,-65.3706 544.0448,-59.3055 542.1587,-66.0466\"/>\n</g>\n<!-- nc2258bfd7cf54aefb4d475fe7e397ca5 -->\n<g id=\"node11\" class=\"node\">\n<title>nc2258bfd7cf54aefb4d475fe7e397ca5</title>\n<g id=\"a_node11\"><a xlink:title=\"output=1024\">\n<path fill=\"#24d8df\" fill-opacity=\"0.400000\" stroke=\"#000000\" d=\"M789,-91C789,-91 756,-91 756,-91 750,-91 744,-85 744,-79 744,-79 744,-67 744,-67 744,-61 750,-55 756,-55 756,-55 789,-55 789,-55 795,-55 801,-61 801,-67 801,-67 801,-79 801,-79 801,-85 795,-91 789,-91\"/>\n<text text-anchor=\"middle\" x=\"772.5\" y=\"-69.3\" font-family=\"Times,serif\" font-size=\"14.00\" fill=\"#000000\">Output</text>\n</a>\n</g>\n</g>\n<!-- nb54a64e7d4974fe1ad5437f3dc041875&#45;&gt;nc2258bfd7cf54aefb4d475fe7e397ca5 -->\n<g id=\"edge12\" class=\"edge\">\n<title>nb54a64e7d4974fe1ad5437f3dc041875&#45;&gt;nc2258bfd7cf54aefb4d475fe7e397ca5</title>\n<path fill=\"none\" stroke=\"#000000\" d=\"M708.0694,-73C716.2865,-73 725.1898,-73 733.6805,-73\"/>\n<polygon fill=\"#000000\" stroke=\"#000000\" points=\"733.7588,-76.5001 743.7588,-73 733.7587,-69.5001 733.7588,-76.5001\"/>\n</g>\n</g>\n</svg>\n"
          },
          "metadata": {
            "tags": []
          },
          "execution_count": 11
        }
      ]
    },
    {
      "cell_type": "code",
      "metadata": {
        "cellView": "form",
        "id": "VmilxpaaPhps",
        "outputId": "21759239-fd6e-499e-c292-2adce6877441",
        "colab": {
          "base_uri": "https://localhost:8080/",
          "height": 162
        }
      },
      "source": [
        "#@title BertSelfOutput\n",
        "#@markdown BertSelfOutput\n",
        "\n",
        "cl=seq_cluster(['Linear','Dropout','LayerNorm'],'BertSelfOutput')\n",
        "cl.get_nodes()[0].set_tooltip('input=1024,output=1024')\n",
        "cl.get_nodes()[1].set_tooltip('input=1024,output=1024')\n",
        "cl.get_nodes()[2].set_tooltip('input=1024,output=1024,eps=1e-12, elementwise_affine=True')\n",
        "\n",
        "inp=Node('Input',tooltip='input=1024')\n",
        "outp=Node('Output',tooltip='output=1024')\n",
        "g=graph_items(inp,cl,outp)\n",
        "g.add_items(inp.connect(cl.get_nodes()[0]),inp.connect(cl.get_nodes()[2]),cl.get_nodes()[-1].connect(outp))\n",
        "g"
      ],
      "execution_count": 12,
      "outputs": [
        {
          "output_type": "execute_result",
          "data": {
            "text/plain": [
              "<pydot.Dot at 0x7fc91e13b208>"
            ],
            "image/svg+xml": "<?xml version=\"1.0\" encoding=\"UTF-8\" standalone=\"no\"?>\n<!DOCTYPE svg PUBLIC \"-//W3C//DTD SVG 1.1//EN\"\n \"http://www.w3.org/Graphics/SVG/1.1/DTD/svg11.dtd\">\n<!-- Generated by graphviz version 2.40.1 (20161225.0304)\n -->\n<!-- Title: G Pages: 1 -->\n<svg width=\"465pt\" height=\"106pt\"\n viewBox=\"0.00 0.00 465.00 106.00\" xmlns=\"http://www.w3.org/2000/svg\" xmlns:xlink=\"http://www.w3.org/1999/xlink\">\n<g id=\"graph0\" class=\"graph\" transform=\"scale(1 1) rotate(0) translate(4 102)\">\n<title>G</title>\n<polygon fill=\"#ffffff\" stroke=\"transparent\" points=\"-4,4 -4,-102 461,-102 461,4 -4,4\"/>\n<g id=\"clust1\" class=\"cluster\">\n<title>cluster_nc1a97f9b88f4488a82c06374e9dc26e0</title>\n<g id=\"a_clust1\"><a xlink:title=\"BertSelfOutput\">\n<path fill=\"#555555\" fill-opacity=\"0.133333\" stroke=\"#000000\" d=\"M94,-15C94,-15 360,-15 360,-15 366,-15 372,-21 372,-27 372,-27 372,-78 372,-78 372,-84 366,-90 360,-90 360,-90 94,-90 94,-90 88,-90 82,-84 82,-78 82,-78 82,-27 82,-27 82,-21 88,-15 94,-15\"/>\n<text text-anchor=\"middle\" x=\"227\" y=\"-74.8\" font-family=\"Times,serif\" font-size=\"14.00\" fill=\"#000000\">BertSelfOutput</text>\n</a>\n</g>\n</g>\n<!-- nd24f2dc1c3ea4cf6870cb855b765783d -->\n<g id=\"node1\" class=\"node\">\n<title>nd24f2dc1c3ea4cf6870cb855b765783d</title>\n<g id=\"a_node1\"><a xlink:title=\"input=1024\">\n<path fill=\"#06aeed\" fill-opacity=\"0.647059\" stroke=\"#000000\" d=\"M42,-36C42,-36 12,-36 12,-36 6,-36 0,-30 0,-24 0,-24 0,-12 0,-12 0,-6 6,0 12,0 12,0 42,0 42,0 48,0 54,-6 54,-12 54,-12 54,-24 54,-24 54,-30 48,-36 42,-36\"/>\n<text text-anchor=\"middle\" x=\"27\" y=\"-14.3\" font-family=\"Times,serif\" font-size=\"14.00\" fill=\"#000000\">Input</text>\n</a>\n</g>\n</g>\n<!-- n1eb9d2b5423e45df9cc57ddbb4795d6a -->\n<g id=\"node2\" class=\"node\">\n<title>n1eb9d2b5423e45df9cc57ddbb4795d6a</title>\n<g id=\"a_node2\"><a xlink:title=\"input=1024,output=1024\">\n<path fill=\"#10c6e6\" fill-opacity=\"0.439216\" stroke=\"#000000\" d=\"M132,-59C132,-59 102,-59 102,-59 96,-59 90,-53 90,-47 90,-47 90,-35 90,-35 90,-29 96,-23 102,-23 102,-23 132,-23 132,-23 138,-23 144,-29 144,-35 144,-35 144,-47 144,-47 144,-53 138,-59 132,-59\"/>\n<text text-anchor=\"middle\" x=\"117\" y=\"-37.3\" font-family=\"Times,serif\" font-size=\"14.00\" fill=\"#000000\">Linear</text>\n</a>\n</g>\n</g>\n<!-- nd24f2dc1c3ea4cf6870cb855b765783d&#45;&gt;n1eb9d2b5423e45df9cc57ddbb4795d6a -->\n<g id=\"edge3\" class=\"edge\">\n<title>nd24f2dc1c3ea4cf6870cb855b765783d&#45;&gt;n1eb9d2b5423e45df9cc57ddbb4795d6a</title>\n<path fill=\"none\" stroke=\"#000000\" d=\"M54.003,-24.9008C62.1158,-26.9741 71.1631,-29.2861 79.8131,-31.4967\"/>\n<polygon fill=\"#000000\" stroke=\"#000000\" points=\"79.1498,-34.9396 89.705,-34.0246 80.883,-28.1575 79.1498,-34.9396\"/>\n</g>\n<!-- n056b164427034899a646243264d30c41 -->\n<g id=\"node4\" class=\"node\">\n<title>n056b164427034899a646243264d30c41</title>\n<g id=\"a_node4\"><a xlink:title=\"input=1024,output=1024,eps=1e&#45;12, elementwise_affine=True\">\n<path fill=\"#94fda8\" fill-opacity=\"0.682353\" stroke=\"#000000\" d=\"M352,-59C352,-59 293,-59 293,-59 287,-59 281,-53 281,-47 281,-47 281,-35 281,-35 281,-29 287,-23 293,-23 293,-23 352,-23 352,-23 358,-23 364,-29 364,-35 364,-35 364,-47 364,-47 364,-53 358,-59 352,-59\"/>\n<text text-anchor=\"middle\" x=\"322.5\" y=\"-37.3\" font-family=\"Times,serif\" font-size=\"14.00\" fill=\"#000000\">LayerNorm</text>\n</a>\n</g>\n</g>\n<!-- nd24f2dc1c3ea4cf6870cb855b765783d&#45;&gt;n056b164427034899a646243264d30c41 -->\n<g id=\"edge4\" class=\"edge\">\n<title>nd24f2dc1c3ea4cf6870cb855b765783d&#45;&gt;n056b164427034899a646243264d30c41</title>\n<path fill=\"none\" stroke=\"#000000\" d=\"M54.088,-14.3094C95.5449,-9.3769 177.072,-2.5062 245,-14 253.6759,-15.468 262.6762,-17.7991 271.3394,-20.4913\"/>\n<polygon fill=\"#000000\" stroke=\"#000000\" points=\"270.3488,-23.85 280.9419,-23.6577 272.5409,-17.2021 270.3488,-23.85\"/>\n</g>\n<!-- n8bdd6851292045c1bbde8419b7bf2cad -->\n<g id=\"node3\" class=\"node\">\n<title>n8bdd6851292045c1bbde8419b7bf2cad</title>\n<g id=\"a_node3\"><a xlink:title=\"input=1024,output=1024\">\n<path fill=\"#42edd3\" fill-opacity=\"0.349020\" stroke=\"#000000\" d=\"M233,-59C233,-59 192,-59 192,-59 186,-59 180,-53 180,-47 180,-47 180,-35 180,-35 180,-29 186,-23 192,-23 192,-23 233,-23 233,-23 239,-23 245,-29 245,-35 245,-35 245,-47 245,-47 245,-53 239,-59 233,-59\"/>\n<text text-anchor=\"middle\" x=\"212.5\" y=\"-37.3\" font-family=\"Times,serif\" font-size=\"14.00\" fill=\"#000000\">Dropout</text>\n</a>\n</g>\n</g>\n<!-- n1eb9d2b5423e45df9cc57ddbb4795d6a&#45;&gt;n8bdd6851292045c1bbde8419b7bf2cad -->\n<g id=\"edge1\" class=\"edge\">\n<title>n1eb9d2b5423e45df9cc57ddbb4795d6a&#45;&gt;n8bdd6851292045c1bbde8419b7bf2cad</title>\n<path fill=\"none\" stroke=\"#000000\" d=\"M144.111,-41C152.1173,-41 161.0822,-41 169.8182,-41\"/>\n<polygon fill=\"#000000\" stroke=\"#000000\" points=\"169.8973,-44.5001 179.8973,-41 169.8972,-37.5001 169.8973,-44.5001\"/>\n</g>\n<!-- n8bdd6851292045c1bbde8419b7bf2cad&#45;&gt;n056b164427034899a646243264d30c41 -->\n<g id=\"edge2\" class=\"edge\">\n<title>n8bdd6851292045c1bbde8419b7bf2cad&#45;&gt;n056b164427034899a646243264d30c41</title>\n<path fill=\"none\" stroke=\"#000000\" d=\"M245.2058,-41C253.2171,-41 261.988,-41 270.6541,-41\"/>\n<polygon fill=\"#000000\" stroke=\"#000000\" points=\"270.7275,-44.5001 280.7274,-41 270.7274,-37.5001 270.7275,-44.5001\"/>\n</g>\n<!-- nab2b214d81384fc69562e2e8a634fc48 -->\n<g id=\"node5\" class=\"node\">\n<title>nab2b214d81384fc69562e2e8a634fc48</title>\n<g id=\"a_node5\"><a xlink:title=\"output=1024\">\n<path fill=\"#24d8df\" fill-opacity=\"0.400000\" stroke=\"#000000\" d=\"M445,-59C445,-59 412,-59 412,-59 406,-59 400,-53 400,-47 400,-47 400,-35 400,-35 400,-29 406,-23 412,-23 412,-23 445,-23 445,-23 451,-23 457,-29 457,-35 457,-35 457,-47 457,-47 457,-53 451,-59 445,-59\"/>\n<text text-anchor=\"middle\" x=\"428.5\" y=\"-37.3\" font-family=\"Times,serif\" font-size=\"14.00\" fill=\"#000000\">Output</text>\n</a>\n</g>\n</g>\n<!-- n056b164427034899a646243264d30c41&#45;&gt;nab2b214d81384fc69562e2e8a634fc48 -->\n<g id=\"edge5\" class=\"edge\">\n<title>n056b164427034899a646243264d30c41&#45;&gt;nab2b214d81384fc69562e2e8a634fc48</title>\n<path fill=\"none\" stroke=\"#000000\" d=\"M364.0898,-41C372.4909,-41 381.2935,-41 389.5981,-41\"/>\n<polygon fill=\"#000000\" stroke=\"#000000\" points=\"389.7832,-44.5001 399.7832,-41 389.7832,-37.5001 389.7832,-44.5001\"/>\n</g>\n</g>\n</svg>\n"
          },
          "metadata": {
            "tags": []
          },
          "execution_count": 12
        }
      ]
    },
    {
      "cell_type": "code",
      "metadata": {
        "cellView": "form",
        "id": "I_0QyB3XPhnA",
        "outputId": "2dcd8639-1d7c-4b39-9b2e-86a32ee384c2",
        "colab": {
          "base_uri": "https://localhost:8080/",
          "height": 162
        }
      },
      "source": [
        "#@title BertOutput\n",
        "#@markdown BertOutput\n",
        "\n",
        "cl=seq_cluster(['Linear','Dropout','LayerNorm'],'BertOutput')\n",
        "cl.get_nodes()[0].set_tooltip('Linear,input=4096,output=1024')\n",
        "cl.get_nodes()[1].set_tooltip('input=1024,output=1024')\n",
        "cl.get_nodes()[2].set_tooltip('input=1024,output=1024,eps=1e-12, elementwise_affine=True')\n",
        "\n",
        "inp=Node('Input',tooltip='input=1024')\n",
        "outp=Node('Output',tooltip='output=1024')\n",
        "g=graph_items(inp,cl,outp)\n",
        "g.add_items(inp.connect(cl.get_nodes()[0]),inp.connect(cl.get_nodes()[2]),cl.get_nodes()[-1].connect(outp))\n",
        "g"
      ],
      "execution_count": 13,
      "outputs": [
        {
          "output_type": "execute_result",
          "data": {
            "text/plain": [
              "<pydot.Dot at 0x7fc91dfa6470>"
            ],
            "image/svg+xml": "<?xml version=\"1.0\" encoding=\"UTF-8\" standalone=\"no\"?>\n<!DOCTYPE svg PUBLIC \"-//W3C//DTD SVG 1.1//EN\"\n \"http://www.w3.org/Graphics/SVG/1.1/DTD/svg11.dtd\">\n<!-- Generated by graphviz version 2.40.1 (20161225.0304)\n -->\n<!-- Title: G Pages: 1 -->\n<svg width=\"465pt\" height=\"106pt\"\n viewBox=\"0.00 0.00 465.00 106.00\" xmlns=\"http://www.w3.org/2000/svg\" xmlns:xlink=\"http://www.w3.org/1999/xlink\">\n<g id=\"graph0\" class=\"graph\" transform=\"scale(1 1) rotate(0) translate(4 102)\">\n<title>G</title>\n<polygon fill=\"#ffffff\" stroke=\"transparent\" points=\"-4,4 -4,-102 461,-102 461,4 -4,4\"/>\n<g id=\"clust1\" class=\"cluster\">\n<title>cluster_n3db7648b57af4a1b9fe1aad03a63acb6</title>\n<g id=\"a_clust1\"><a xlink:title=\"BertOutput\">\n<path fill=\"#555555\" fill-opacity=\"0.133333\" stroke=\"#000000\" d=\"M94,-15C94,-15 360,-15 360,-15 366,-15 372,-21 372,-27 372,-27 372,-78 372,-78 372,-84 366,-90 360,-90 360,-90 94,-90 94,-90 88,-90 82,-84 82,-78 82,-78 82,-27 82,-27 82,-21 88,-15 94,-15\"/>\n<text text-anchor=\"middle\" x=\"227\" y=\"-74.8\" font-family=\"Times,serif\" font-size=\"14.00\" fill=\"#000000\">BertOutput</text>\n</a>\n</g>\n</g>\n<!-- nccea8d730d6c405db26a3b19ec170a55 -->\n<g id=\"node1\" class=\"node\">\n<title>nccea8d730d6c405db26a3b19ec170a55</title>\n<g id=\"a_node1\"><a xlink:title=\"input=1024\">\n<path fill=\"#06aeed\" fill-opacity=\"0.647059\" stroke=\"#000000\" d=\"M42,-36C42,-36 12,-36 12,-36 6,-36 0,-30 0,-24 0,-24 0,-12 0,-12 0,-6 6,0 12,0 12,0 42,0 42,0 48,0 54,-6 54,-12 54,-12 54,-24 54,-24 54,-30 48,-36 42,-36\"/>\n<text text-anchor=\"middle\" x=\"27\" y=\"-14.3\" font-family=\"Times,serif\" font-size=\"14.00\" fill=\"#000000\">Input</text>\n</a>\n</g>\n</g>\n<!-- n1d61032fb1344fb8a81b29fc8dbdc607 -->\n<g id=\"node2\" class=\"node\">\n<title>n1d61032fb1344fb8a81b29fc8dbdc607</title>\n<g id=\"a_node2\"><a xlink:title=\"Linear,input=4096,output=1024\">\n<path fill=\"#10c6e6\" fill-opacity=\"0.439216\" stroke=\"#000000\" d=\"M132,-59C132,-59 102,-59 102,-59 96,-59 90,-53 90,-47 90,-47 90,-35 90,-35 90,-29 96,-23 102,-23 102,-23 132,-23 132,-23 138,-23 144,-29 144,-35 144,-35 144,-47 144,-47 144,-53 138,-59 132,-59\"/>\n<text text-anchor=\"middle\" x=\"117\" y=\"-37.3\" font-family=\"Times,serif\" font-size=\"14.00\" fill=\"#000000\">Linear</text>\n</a>\n</g>\n</g>\n<!-- nccea8d730d6c405db26a3b19ec170a55&#45;&gt;n1d61032fb1344fb8a81b29fc8dbdc607 -->\n<g id=\"edge3\" class=\"edge\">\n<title>nccea8d730d6c405db26a3b19ec170a55&#45;&gt;n1d61032fb1344fb8a81b29fc8dbdc607</title>\n<path fill=\"none\" stroke=\"#000000\" d=\"M54.003,-24.9008C62.1158,-26.9741 71.1631,-29.2861 79.8131,-31.4967\"/>\n<polygon fill=\"#000000\" stroke=\"#000000\" points=\"79.1498,-34.9396 89.705,-34.0246 80.883,-28.1575 79.1498,-34.9396\"/>\n</g>\n<!-- n986d54741f1b499588e0257092ee3ce2 -->\n<g id=\"node4\" class=\"node\">\n<title>n986d54741f1b499588e0257092ee3ce2</title>\n<g id=\"a_node4\"><a xlink:title=\"input=1024,output=1024,eps=1e&#45;12, elementwise_affine=True\">\n<path fill=\"#94fda8\" fill-opacity=\"0.682353\" stroke=\"#000000\" d=\"M352,-59C352,-59 293,-59 293,-59 287,-59 281,-53 281,-47 281,-47 281,-35 281,-35 281,-29 287,-23 293,-23 293,-23 352,-23 352,-23 358,-23 364,-29 364,-35 364,-35 364,-47 364,-47 364,-53 358,-59 352,-59\"/>\n<text text-anchor=\"middle\" x=\"322.5\" y=\"-37.3\" font-family=\"Times,serif\" font-size=\"14.00\" fill=\"#000000\">LayerNorm</text>\n</a>\n</g>\n</g>\n<!-- nccea8d730d6c405db26a3b19ec170a55&#45;&gt;n986d54741f1b499588e0257092ee3ce2 -->\n<g id=\"edge4\" class=\"edge\">\n<title>nccea8d730d6c405db26a3b19ec170a55&#45;&gt;n986d54741f1b499588e0257092ee3ce2</title>\n<path fill=\"none\" stroke=\"#000000\" d=\"M54.088,-14.3094C95.5449,-9.3769 177.072,-2.5062 245,-14 253.6759,-15.468 262.6762,-17.7991 271.3394,-20.4913\"/>\n<polygon fill=\"#000000\" stroke=\"#000000\" points=\"270.3488,-23.85 280.9419,-23.6577 272.5409,-17.2021 270.3488,-23.85\"/>\n</g>\n<!-- n8fdd2abe3c334af79c3278b1bb414470 -->\n<g id=\"node3\" class=\"node\">\n<title>n8fdd2abe3c334af79c3278b1bb414470</title>\n<g id=\"a_node3\"><a xlink:title=\"input=1024,output=1024\">\n<path fill=\"#42edd3\" fill-opacity=\"0.349020\" stroke=\"#000000\" d=\"M233,-59C233,-59 192,-59 192,-59 186,-59 180,-53 180,-47 180,-47 180,-35 180,-35 180,-29 186,-23 192,-23 192,-23 233,-23 233,-23 239,-23 245,-29 245,-35 245,-35 245,-47 245,-47 245,-53 239,-59 233,-59\"/>\n<text text-anchor=\"middle\" x=\"212.5\" y=\"-37.3\" font-family=\"Times,serif\" font-size=\"14.00\" fill=\"#000000\">Dropout</text>\n</a>\n</g>\n</g>\n<!-- n1d61032fb1344fb8a81b29fc8dbdc607&#45;&gt;n8fdd2abe3c334af79c3278b1bb414470 -->\n<g id=\"edge1\" class=\"edge\">\n<title>n1d61032fb1344fb8a81b29fc8dbdc607&#45;&gt;n8fdd2abe3c334af79c3278b1bb414470</title>\n<path fill=\"none\" stroke=\"#000000\" d=\"M144.111,-41C152.1173,-41 161.0822,-41 169.8182,-41\"/>\n<polygon fill=\"#000000\" stroke=\"#000000\" points=\"169.8973,-44.5001 179.8973,-41 169.8972,-37.5001 169.8973,-44.5001\"/>\n</g>\n<!-- n8fdd2abe3c334af79c3278b1bb414470&#45;&gt;n986d54741f1b499588e0257092ee3ce2 -->\n<g id=\"edge2\" class=\"edge\">\n<title>n8fdd2abe3c334af79c3278b1bb414470&#45;&gt;n986d54741f1b499588e0257092ee3ce2</title>\n<path fill=\"none\" stroke=\"#000000\" d=\"M245.2058,-41C253.2171,-41 261.988,-41 270.6541,-41\"/>\n<polygon fill=\"#000000\" stroke=\"#000000\" points=\"270.7275,-44.5001 280.7274,-41 270.7274,-37.5001 270.7275,-44.5001\"/>\n</g>\n<!-- n95a3b7fa8e31437f87db0e4e88f3adc1 -->\n<g id=\"node5\" class=\"node\">\n<title>n95a3b7fa8e31437f87db0e4e88f3adc1</title>\n<g id=\"a_node5\"><a xlink:title=\"output=1024\">\n<path fill=\"#24d8df\" fill-opacity=\"0.400000\" stroke=\"#000000\" d=\"M445,-59C445,-59 412,-59 412,-59 406,-59 400,-53 400,-47 400,-47 400,-35 400,-35 400,-29 406,-23 412,-23 412,-23 445,-23 445,-23 451,-23 457,-29 457,-35 457,-35 457,-47 457,-47 457,-53 451,-59 445,-59\"/>\n<text text-anchor=\"middle\" x=\"428.5\" y=\"-37.3\" font-family=\"Times,serif\" font-size=\"14.00\" fill=\"#000000\">Output</text>\n</a>\n</g>\n</g>\n<!-- n986d54741f1b499588e0257092ee3ce2&#45;&gt;n95a3b7fa8e31437f87db0e4e88f3adc1 -->\n<g id=\"edge5\" class=\"edge\">\n<title>n986d54741f1b499588e0257092ee3ce2&#45;&gt;n95a3b7fa8e31437f87db0e4e88f3adc1</title>\n<path fill=\"none\" stroke=\"#000000\" d=\"M364.0898,-41C372.4909,-41 381.2935,-41 389.5981,-41\"/>\n<polygon fill=\"#000000\" stroke=\"#000000\" points=\"389.7832,-44.5001 399.7832,-41 389.7832,-37.5001 389.7832,-44.5001\"/>\n</g>\n</g>\n</svg>\n"
          },
          "metadata": {
            "tags": []
          },
          "execution_count": 13
        }
      ]
    },
    {
      "cell_type": "code",
      "metadata": {
        "cellView": "form",
        "id": "fToMxjX1PhkK",
        "outputId": "27e7ad33-54ea-4aba-be84-366428ef7856",
        "colab": {
          "base_uri": "https://localhost:8080/",
          "height": 153
        }
      },
      "source": [
        "#@title BertPooler\n",
        "#@markdown BertPooler\n",
        "\n",
        "cl=seq_cluster(['Linear','Tanh'],'BertPooler')\n",
        "cl.get_nodes()[0].set_tooltip('input=1024,output=1024')\n",
        "cl.get_nodes()[1].set_tooltip('input=1024,output=1024')\n",
        "add_input_output(cl,'input=1024','output=1024')"
      ],
      "execution_count": 14,
      "outputs": [
        {
          "output_type": "execute_result",
          "data": {
            "text/plain": [
              "<pydot.Dot at 0x7fc91e0149b0>"
            ],
            "image/svg+xml": "<?xml version=\"1.0\" encoding=\"UTF-8\" standalone=\"no\"?>\n<!DOCTYPE svg PUBLIC \"-//W3C//DTD SVG 1.1//EN\"\n \"http://www.w3.org/Graphics/SVG/1.1/DTD/svg11.dtd\">\n<!-- Generated by graphviz version 2.40.1 (20161225.0304)\n -->\n<!-- Title: G Pages: 1 -->\n<svg width=\"335pt\" height=\"99pt\"\n viewBox=\"0.00 0.00 335.00 99.00\" xmlns=\"http://www.w3.org/2000/svg\" xmlns:xlink=\"http://www.w3.org/1999/xlink\">\n<g id=\"graph0\" class=\"graph\" transform=\"scale(1 1) rotate(0) translate(4 95)\">\n<title>G</title>\n<polygon fill=\"#ffffff\" stroke=\"transparent\" points=\"-4,4 -4,-95 331,-95 331,4 -4,4\"/>\n<g id=\"clust1\" class=\"cluster\">\n<title>cluster_n7621a84c30b84ef19d9b0a628eadcdac</title>\n<g id=\"a_clust1\"><a xlink:title=\"BertPooler\">\n<path fill=\"#555555\" fill-opacity=\"0.133333\" stroke=\"#000000\" d=\"M94,-8C94,-8 230,-8 230,-8 236,-8 242,-14 242,-20 242,-20 242,-71 242,-71 242,-77 236,-83 230,-83 230,-83 94,-83 94,-83 88,-83 82,-77 82,-71 82,-71 82,-20 82,-20 82,-14 88,-8 94,-8\"/>\n<text text-anchor=\"middle\" x=\"162\" y=\"-67.8\" font-family=\"Times,serif\" font-size=\"14.00\" fill=\"#000000\">BertPooler</text>\n</a>\n</g>\n</g>\n<!-- nfd2ed96507c544b1a9cfb36a30053667 -->\n<g id=\"node1\" class=\"node\">\n<title>nfd2ed96507c544b1a9cfb36a30053667</title>\n<g id=\"a_node1\"><a xlink:title=\"input=1024\">\n<path fill=\"#06aeed\" fill-opacity=\"0.647059\" stroke=\"#000000\" d=\"M42,-52C42,-52 12,-52 12,-52 6,-52 0,-46 0,-40 0,-40 0,-28 0,-28 0,-22 6,-16 12,-16 12,-16 42,-16 42,-16 48,-16 54,-22 54,-28 54,-28 54,-40 54,-40 54,-46 48,-52 42,-52\"/>\n<text text-anchor=\"middle\" x=\"27\" y=\"-30.3\" font-family=\"Times,serif\" font-size=\"14.00\" fill=\"#000000\">Input</text>\n</a>\n</g>\n</g>\n<!-- nb84e6b7e4a2448ce9714676133093fd0 -->\n<g id=\"node2\" class=\"node\">\n<title>nb84e6b7e4a2448ce9714676133093fd0</title>\n<g id=\"a_node2\"><a xlink:title=\"input=1024,output=1024\">\n<path fill=\"#10c6e6\" fill-opacity=\"0.439216\" stroke=\"#000000\" d=\"M132,-52C132,-52 102,-52 102,-52 96,-52 90,-46 90,-40 90,-40 90,-28 90,-28 90,-22 96,-16 102,-16 102,-16 132,-16 132,-16 138,-16 144,-22 144,-28 144,-28 144,-40 144,-40 144,-46 138,-52 132,-52\"/>\n<text text-anchor=\"middle\" x=\"117\" y=\"-30.3\" font-family=\"Times,serif\" font-size=\"14.00\" fill=\"#000000\">Linear</text>\n</a>\n</g>\n</g>\n<!-- nfd2ed96507c544b1a9cfb36a30053667&#45;&gt;nb84e6b7e4a2448ce9714676133093fd0 -->\n<g id=\"edge2\" class=\"edge\">\n<title>nfd2ed96507c544b1a9cfb36a30053667&#45;&gt;nb84e6b7e4a2448ce9714676133093fd0</title>\n<path fill=\"none\" stroke=\"#000000\" d=\"M54.003,-34C62.0277,-34 70.9665,-34 79.5309,-34\"/>\n<polygon fill=\"#000000\" stroke=\"#000000\" points=\"79.7051,-37.5001 89.705,-34 79.705,-30.5001 79.7051,-37.5001\"/>\n</g>\n<!-- n3cd67d713c0548c3942616179128f2ff -->\n<g id=\"node3\" class=\"node\">\n<title>n3cd67d713c0548c3942616179128f2ff</title>\n<g id=\"a_node3\"><a xlink:title=\"input=1024,output=1024\">\n<path fill=\"#d9da7d\" fill-opacity=\"0.705882\" stroke=\"#000000\" d=\"M222,-52C222,-52 192,-52 192,-52 186,-52 180,-46 180,-40 180,-40 180,-28 180,-28 180,-22 186,-16 192,-16 192,-16 222,-16 222,-16 228,-16 234,-22 234,-28 234,-28 234,-40 234,-40 234,-46 228,-52 222,-52\"/>\n<text text-anchor=\"middle\" x=\"207\" y=\"-30.3\" font-family=\"Times,serif\" font-size=\"14.00\" fill=\"#000000\">Tanh</text>\n</a>\n</g>\n</g>\n<!-- nb84e6b7e4a2448ce9714676133093fd0&#45;&gt;n3cd67d713c0548c3942616179128f2ff -->\n<g id=\"edge1\" class=\"edge\">\n<title>nb84e6b7e4a2448ce9714676133093fd0&#45;&gt;n3cd67d713c0548c3942616179128f2ff</title>\n<path fill=\"none\" stroke=\"#000000\" d=\"M144.003,-34C152.0277,-34 160.9665,-34 169.5309,-34\"/>\n<polygon fill=\"#000000\" stroke=\"#000000\" points=\"169.7051,-37.5001 179.705,-34 169.705,-30.5001 169.7051,-37.5001\"/>\n</g>\n<!-- nf723d250e54d4274a694701d9eb40008 -->\n<g id=\"node4\" class=\"node\">\n<title>nf723d250e54d4274a694701d9eb40008</title>\n<g id=\"a_node4\"><a xlink:title=\"output=1024\">\n<path fill=\"#24d8df\" fill-opacity=\"0.400000\" stroke=\"#000000\" d=\"M315,-52C315,-52 282,-52 282,-52 276,-52 270,-46 270,-40 270,-40 270,-28 270,-28 270,-22 276,-16 282,-16 282,-16 315,-16 315,-16 321,-16 327,-22 327,-28 327,-28 327,-40 327,-40 327,-46 321,-52 315,-52\"/>\n<text text-anchor=\"middle\" x=\"298.5\" y=\"-30.3\" font-family=\"Times,serif\" font-size=\"14.00\" fill=\"#000000\">Output</text>\n</a>\n</g>\n</g>\n<!-- n3cd67d713c0548c3942616179128f2ff&#45;&gt;nf723d250e54d4274a694701d9eb40008 -->\n<g id=\"edge3\" class=\"edge\">\n<title>n3cd67d713c0548c3942616179128f2ff&#45;&gt;nf723d250e54d4274a694701d9eb40008</title>\n<path fill=\"none\" stroke=\"#000000\" d=\"M234.453,-34C242.3869,-34 251.1998,-34 259.6866,-34\"/>\n<polygon fill=\"#000000\" stroke=\"#000000\" points=\"259.796,-37.5001 269.796,-34 259.7959,-30.5001 259.796,-37.5001\"/>\n</g>\n</g>\n</svg>\n"
          },
          "metadata": {
            "tags": []
          },
          "execution_count": 14
        }
      ]
    },
    {
      "cell_type": "code",
      "metadata": {
        "id": "N00n-nR0PhhI"
      },
      "source": [
        ""
      ],
      "execution_count": null,
      "outputs": []
    }
  ]
}