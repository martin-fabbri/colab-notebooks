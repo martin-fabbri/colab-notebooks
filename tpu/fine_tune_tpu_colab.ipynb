{
  "nbformat": 4,
  "nbformat_minor": 0,
  "metadata": {
    "colab": {
      "name": "fine_tune_tpu_colab.ipynb",
      "provenance": [],
      "authorship_tag": "ABX9TyMX+QSRtb9xTyhgSGN1S7rG",
      "include_colab_link": true
    },
    "kernelspec": {
      "name": "python3",
      "display_name": "Python 3"
    }
  },
  "cells": [
    {
      "cell_type": "markdown",
      "metadata": {
        "id": "view-in-github",
        "colab_type": "text"
      },
      "source": [
        "<a href=\"https://colab.research.google.com/github/martin-fabbri/colab-notebooks/blob/master/tpu/fine_tune_tpu_colab.ipynb\" target=\"_parent\"><img src=\"https://colab.research.google.com/assets/colab-badge.svg\" alt=\"Open In Colab\"/></a>"
      ]
    },
    {
      "cell_type": "markdown",
      "metadata": {
        "id": "OW9r9XilRxdH"
      },
      "source": [
        "# Fine-tune Xception TPUs (Colab)&nbsp;<img valign=\"middle\" src=\"https://raw.githubusercontent.com/GoogleCloudPlatform/tensorflow-without-a-phd/master/tensorflow-rl-pong/images/tpu-hexagon.png\" width=\"50\">"
      ]
    },
    {
      "cell_type": "markdown",
      "metadata": {
        "id": "7HMuKZpuSUzq"
      },
      "source": [
        "### Enabling and testing the TPU"
      ]
    },
    {
      "cell_type": "code",
      "metadata": {
        "colab": {
          "base_uri": "https://localhost:8080/",
          "height": 35
        },
        "id": "0Ow71wqXRwtE",
        "outputId": "4071451f-db53-4738-dcf8-62346f62af75"
      },
      "source": [
        "import tensorflow as tf\n",
        "\n",
        "tf.__version__"
      ],
      "execution_count": 1,
      "outputs": [
        {
          "output_type": "execute_result",
          "data": {
            "application/vnd.google.colaboratory.intrinsic+json": {
              "type": "string"
            },
            "text/plain": [
              "'2.3.0'"
            ]
          },
          "metadata": {
            "tags": []
          },
          "execution_count": 1
        }
      ]
    },
    {
      "cell_type": "code",
      "metadata": {
        "colab": {
          "base_uri": "https://localhost:8080/"
        },
        "id": "YDIKDjlgTXe9",
        "outputId": "72bf18e8-6f63-43b3-89fe-6a98c73322e5"
      },
      "source": [
        "#@title Enagle TPU\n",
        "use_tpu = True #@param [\"False\", \"True\"] {type:\"raw\"}\n",
        "\n",
        "if use_tpu:\n",
        "  try:\n",
        "    tpu = tf.distribute.cluster_resolver.TPUClusterResolver()\n",
        "    tpu_spec = tpu.cluster_spec().as_dict()['worker']\n",
        "    print('Running on TPU:', tpu_spec)\n",
        "  except ValueError:\n",
        "    print('ERROR: Not connected to a TPU.')"
      ],
      "execution_count": 13,
      "outputs": [
        {
          "output_type": "stream",
          "text": [
            "ERROR: Not connected to a TPU.\n"
          ],
          "name": "stdout"
        }
      ]
    },
    {
      "cell_type": "code",
      "metadata": {
        "colab": {
          "base_uri": "https://localhost:8080/"
        },
        "id": "zRs3CNv7Sj4R",
        "outputId": "452802aa-795e-4aa7-b4ee-8593f71698f5"
      },
      "source": [
        "print(use_tpu)"
      ],
      "execution_count": 3,
      "outputs": [
        {
          "output_type": "stream",
          "text": [
            "True\n"
          ],
          "name": "stdout"
        }
      ]
    }
  ]
}