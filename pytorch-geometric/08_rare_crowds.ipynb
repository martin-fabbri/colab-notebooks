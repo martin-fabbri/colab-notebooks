{
 "cells": [
  {
   "cell_type": "markdown",
   "metadata": {},
   "source": [
    "# RareCrowds"
   ]
  },
  {
   "cell_type": "code",
   "execution_count": 1,
   "metadata": {},
   "outputs": [],
   "source": [
    "#!pip install rarecrowds\n",
    "#!sudo apt install graphviz"
   ]
  },
  {
   "cell_type": "markdown",
   "metadata": {},
   "source": [
    "## DiseaseAnnotations\n",
    "\n",
    "Disease information is extracted from Orphanet's orphadata (product 4, product 9 (prevalence) and product 9 (ages)) and from the HPOA file created by the Monarch Initiative within the HPO project. By default, Orphanet's and OMIM phenotypic description of a rare disease extracted from the HPOA file are intersected. There is, in principle, no need for you to parse the data provided from these institutions.\n"
   ]
  },
  {
   "cell_type": "code",
   "execution_count": 2,
   "metadata": {},
   "outputs": [
    {
     "data": {
      "text/plain": "{'source': {},\n 'phenotype': {'HP:0000083': {'frequency': 'HP:0040281',\n   'modifier': {'diagnosticCriteria': True}},\n  'HP:0000093': {'frequency': 'HP:0040282',\n   'modifier': {'diagnosticCriteria': True}},\n  'HP:0000822': {'frequency': 'HP:0040283',\n   'modifier': {'diagnosticCriteria': True}},\n  'HP:0000823': {'frequency': 'HP:0040282',\n   'modifier': {'diagnosticCriteria': True}},\n  'HP:0000966': {'frequency': 'HP:0040281',\n   'modifier': {'diagnosticCriteria': True}},\n  'HP:0001004': {'frequency': 'HP:0040283',\n   'modifier': {'diagnosticCriteria': True}},\n  'HP:0001014': {'frequency': 'HP:0040281',\n   'modifier': {'diagnosticCriteria': True}},\n  'HP:0001131': {'frequency': 'HP:0040281',\n   'modifier': {'diagnosticCriteria': True}},\n  'HP:0001250': {'frequency': 'HP:0040283',\n   'modifier': {'diagnosticCriteria': True}},\n  'HP:0001635': {'frequency': 'HP:0040281',\n   'modifier': {'diagnosticCriteria': True}},\n  'HP:0001681': {'frequency': 'HP:0040283',\n   'modifier': {'diagnosticCriteria': True}},\n  'HP:0001712': {'frequency': 'HP:0040283',\n   'modifier': {'diagnosticCriteria': True}},\n  'HP:0001903': {'frequency': 'HP:0040281',\n   'modifier': {'diagnosticCriteria': True}},\n  'HP:0002027': {'frequency': 'HP:0040281',\n   'modifier': {'diagnosticCriteria': True}},\n  'HP:0002326': {'frequency': 'HP:0040281',\n   'modifier': {'diagnosticCriteria': True}},\n  'HP:0011675': {'frequency': 'HP:0040283',\n   'modifier': {'diagnosticCriteria': True}}},\n 'ageOnset': ['Childhood'],\n 'validation': {'status': 'y', 'date': '2016-06-01 00:00:00.0'},\n 'inheritance': ['X-linked recessive'],\n 'group': 'Disorder',\n 'ageDeath': ['adult'],\n 'name': 'Fabry disease',\n 'prevalence': [{'type': 'Prevalence at birth',\n   'source': 'ORPHANET',\n   'qualification': 'Value and class',\n   'meanPrev': '0.22',\n   'class': '1-9 / 1 000 000',\n   'geographic': 'Europe',\n   'validation': {'status': 'Not yet validated'}},\n  {'type': 'Prevalence at birth',\n   'source': '9918480[PMID]',\n   'qualification': 'Value and class',\n   'meanPrev': '0.85',\n   'class': '1-9 / 1 000 000',\n   'geographic': 'Australia',\n   'validation': {'status': 'Validated'}},\n  {'type': 'Prevalence at birth',\n   'source': '10480370[PMID]',\n   'qualification': 'Value and class',\n   'meanPrev': '0.21',\n   'class': '1-9 / 1 000 000',\n   'geographic': 'Netherlands',\n   'validation': {'status': 'Validated'}},\n  {'type': 'Prevalence at birth',\n   'source': '14685153[PMID]',\n   'qualification': 'Value and class',\n   'meanPrev': '0.12',\n   'class': '1-9 / 1 000 000',\n   'geographic': 'Portugal',\n   'validation': {'status': 'Validated'}},\n  {'type': 'Prevalence at birth',\n   'source': '20490927[PMID]',\n   'qualification': 'Value and class',\n   'meanPrev': '0.52',\n   'class': '1-9 / 1 000 000',\n   'geographic': 'Czech Republic',\n   'validation': {'status': 'Validated'}},\n  {'type': 'Prevalence at birth',\n   'source': '15275696[PMID]',\n   'qualification': 'Value and class',\n   'meanPrev': '0.015',\n   'class': '<1 / 1 000 000',\n   'geographic': 'Turkey',\n   'validation': {'status': 'Validated'}},\n  {'type': 'Point prevalence',\n   'source': '11732485[PMID]',\n   'qualification': 'Value and class',\n   'meanPrev': '0.15',\n   'class': '1-9 / 1 000 000',\n   'geographic': 'United Kingdom',\n   'validation': {'status': 'Validated'}},\n  {'type': 'Prevalence at birth',\n   'source': '22790789[PMID]',\n   'qualification': 'Value and class',\n   'meanPrev': '0.25',\n   'class': '1-9 / 1 000 000',\n   'geographic': 'Japan',\n   'validation': {'status': 'Validated'}},\n  {'type': 'Point prevalence',\n   'source': 'ORPHANET',\n   'qualification': 'Class only',\n   'meanPrev': '0.0',\n   'class': '1-5 / 10 000',\n   'geographic': 'Europe',\n   'validation': {'status': 'Not yet validated'}},\n  {'type': 'Prevalence at birth',\n   'source': '25274184[PMID]',\n   'qualification': 'Value and class',\n   'meanPrev': '1.11',\n   'class': '1-9 / 100 000',\n   'geographic': 'Sweden',\n   'validation': {'status': 'Validated'}}],\n 'link': 'http://www.orpha.net/consor/cgi-bin/OC_Exp.php?lng=en&Expert=324',\n 'type': 'Disease'}"
     },
     "execution_count": 2,
     "metadata": {},
     "output_type": "execute_result"
    }
   ],
   "source": [
    "from rarecrowds import DiseaseAnnotations\n",
    "dann = DiseaseAnnotations(mode=\"intersect\")\n",
    "data = dann.data[\"ORPHA:324\"]\n",
    "data"
   ]
  },
  {
   "cell_type": "markdown",
   "metadata": {},
   "source": [
    "Based on this data, one may subset the diseases in order to get a list of diseases of interest, highly recommended at the beginning of the development of a phenotype-based prediction algorithm:"
   ]
  },
  {
   "cell_type": "code",
   "execution_count": 3,
   "metadata": {},
   "outputs": [
    {
     "name": "stdout",
     "output_type": "stream",
     "text": [
      "# total initial entities: 3617\n",
      "# disases: 3258\n",
      "# disases with phenotype data: 1920\n",
      "# diseases w/o clinical syndromes: 1916\n",
      "# disases with valid prevalence: 527\n"
     ]
    }
   ],
   "source": [
    "# These lines come from the previous code\n",
    "ann = dann.data\n",
    "# del phen\n",
    "print(f\"# total initial entities: {len(ann)}\")\n",
    "## Keep only disorders\n",
    "for dis, val in list(ann.items()):\n",
    "    if val[\"group\"] != \"Disorder\":\n",
    "        del ann[dis]\n",
    "print(f\"# disases: {len(ann)}\")\n",
    "## Keep only those with phenotypic information\n",
    "for dis, val in list(ann.items()):\n",
    "    if not val.get(\"phenotype\"):\n",
    "        del ann[dis]\n",
    "print(f\"# disases with phenotype data: {len(ann)}\")\n",
    "## Remove clinial syndromes\n",
    "for dis, val in list(ann.items()):\n",
    "    if val[\"type\"].lower() == \"clinical syndrome\":\n",
    "        del ann[dis]\n",
    "print(f\"# diseases w/o clinical syndromes: {len(ann)}\")\n",
    "## Keep only selected prevalences\n",
    "valid_prev = [\n",
    "    \">1 / 1000\",\n",
    "    \"6-9 / 10 000\",\n",
    "    \"1-5 / 10 000\",\n",
    "    \"1-9 / 100 000\",\n",
    "    \"Unknown\",\n",
    "    \"Not yet documented\",\n",
    "]\n",
    "for dis, val in list(ann.items()):\n",
    "    if \"prevalence\" in val:\n",
    "        classes = [\n",
    "            a[\"class\"] for a in val[\"prevalence\"] if a[\"type\"] == \"Point prevalence\"\n",
    "        ]\n",
    "        if not any(x in valid_prev for x in classes):\n",
    "            del ann[dis]\n",
    "    else:\n",
    "        del ann[dis]\n",
    "print(f\"# disases with valid prevalence: {len(ann)}\")\n"
   ]
  },
  {
   "cell_type": "markdown",
   "metadata": {},
   "source": [
    "## HPO\n",
    "Symptoms are organized through the Human Phenotype Ontology (HPO). If you are not familiar with it, please visit the website.\n",
    "\n",
    "In order to get information on specific symptom IDs and other items included in the HPO ontology, such as the frequency subontology, RareCrowds includes the HPO module. This module allows you to get information about each term and their relationships.\n",
    "\n",
    "In order to get information about a specific HPO term, run the following lines:"
   ]
  },
  {
   "cell_type": "code",
   "execution_count": 4,
   "metadata": {},
   "outputs": [
    {
     "data": {
      "text/plain": "{'id': 'HP:0000083', 'label': 'Renal insufficiency'}"
     },
     "execution_count": 4,
     "metadata": {},
     "output_type": "execute_result"
    }
   ],
   "source": [
    "from rarecrowds import Hpo\n",
    "hpo = Hpo()\n",
    "hpo[\"HP:0000083\"] # Renal insufficiency"
   ]
  },
  {
   "cell_type": "markdown",
   "metadata": {},
   "source": [
    "![renal insufficiency](https://github.com/martin-fabbri/colab-notebooks/raw/master/pytorch-geometric/images/hierarchy-hp-0000083.png)"
   ]
  },
  {
   "cell_type": "markdown",
   "metadata": {},
   "source": [
    "Frequency"
   ]
  },
  {
   "cell_type": "code",
   "execution_count": 5,
   "metadata": {},
   "outputs": [
    {
     "data": {
      "text/plain": "{'id': 'HP:0040281', 'label': 'Very frequent'}"
     },
     "execution_count": 5,
     "metadata": {},
     "output_type": "execute_result"
    }
   ],
   "source": [
    "hpo[\"HP:0040281\"]"
   ]
  },
  {
   "cell_type": "markdown",
   "metadata": {},
   "source": [
    "In order to see the successors or predecessors of a particular term, run any of the following lines:"
   ]
  },
  {
   "cell_type": "markdown",
   "metadata": {},
   "source": [
    "![renal insufficiency oncology](https://github.com/martin-fabbri/colab-notebooks/raw/master/pytorch-geometric/images/renal-insufficiency-oncology.png)"
   ]
  },
  {
   "cell_type": "code",
   "execution_count": 6,
   "metadata": {},
   "outputs": [
    {
     "data": {
      "text/plain": "['HP:0001919', 'HP:0004713', 'HP:0012622']"
     },
     "execution_count": 6,
     "metadata": {},
     "output_type": "execute_result"
    }
   ],
   "source": [
    "hpo.successors([\"HP:0000083\"])\n",
    "\n",
    "# HP:0001919 Acute kidney injury\n",
    "# HP:0004713 Reversible renal failure\n",
    "# HP:0012622 Chronic kidney disease"
   ]
  },
  {
   "cell_type": "code",
   "execution_count": 7,
   "metadata": {},
   "outputs": [
    {
     "data": {
      "text/plain": "['HP:0012211']"
     },
     "execution_count": 7,
     "metadata": {},
     "output_type": "execute_result"
    }
   ],
   "source": [
    "hpo.predecessors([\"HP:0000083\"])\n",
    "\n",
    "# Abnormal renal physiology"
   ]
  },
  {
   "cell_type": "code",
   "execution_count": 8,
   "metadata": {},
   "outputs": [
    {
     "data": {
      "text/plain": "['HP:0000077', 'HP:0011277']"
     },
     "execution_count": 8,
     "metadata": {},
     "output_type": "execute_result"
    }
   ],
   "source": [
    "hpo.predecessors([\"HP:0012211\"])\n",
    "\n",
    "# HP:0000077 Abnormality of the kidney\n",
    "# HP:0011277 Abnormality of the urinary system physiology"
   ]
  },
  {
   "cell_type": "code",
   "execution_count": 9,
   "metadata": {},
   "outputs": [
    {
     "data": {
      "text/plain": "{'HP:0007359'}"
     },
     "execution_count": 9,
     "metadata": {},
     "output_type": "execute_result"
    }
   ],
   "source": [
    "hpo.simplify(['HP:0001250', 'HP:0007359'])"
   ]
  },
  {
   "cell_type": "markdown",
   "metadata": {},
   "source": [
    "![PhenoLines](https://github.com/martin-fabbri/colab-notebooks/raw/master/pytorch-geometric/images/renal-insuficiency.png)"
   ]
  },
  {
   "cell_type": "markdown",
   "metadata": {},
   "source": [
    "Dump adjacency matrix as json"
   ]
  },
  {
   "cell_type": "code",
   "execution_count": 10,
   "metadata": {},
   "outputs": [],
   "source": [
    "# hpo.json_adjacency()"
   ]
  },
  {
   "cell_type": "markdown",
   "metadata": {},
   "source": [
    "## PatientSampler\n",
    "\n",
    "This module allows the creation of realistic patient profiles based on the disease annotations. The following steps are followed to sample a patient from a given disease:\n",
    "\n",
    "1. Sample symptoms using the symptom frequency.\n",
    "2. From the selected symptoms, sample imprecision as a Poisson process with a certain probability of getting a less specific term using the HPO ontology.\n",
    "3. Add random noise sampling random HPO terms. The amount of random noise is also a Poisson process, while the selection of the HPO terms to include is uniform across the phenotypic abnormality subontology (disregarding too uninformative terms).\n",
    "4. Sample patient age by assuming that it is close to the disease onset plus a delay of ~1 month.\n",
    "5. Sample patient sex taking into account the inheritance pattern of the disease.\n",
    "\n",
    "In order to sample 5 patients from a disease, run the following lines:"
   ]
  },
  {
   "cell_type": "code",
   "execution_count": 15,
   "metadata": {},
   "outputs": [
    {
     "data": {
      "text/plain": "{'id': 'ORPHA:1488',\n 'name': 'Cooper-Jabs syndrome',\n 'phenotype': {'HP:0000413': {'frequency': 'HP:0040281',\n   'modifier': {'diagnosticCriteria': True}},\n  'HP:0001249': {'frequency': 'HP:0040281',\n   'modifier': {'diagnosticCriteria': True}},\n  'HP:0001629': {'frequency': 'HP:0040281',\n   'modifier': {'diagnosticCriteria': True}}},\n 'cohort': [{'ageOnset': 0.06545664221658443,\n   'phenotype': {'HP:0000413': {}, 'HP:0010438': {}, 'HP:0001249': {}}},\n  {'ageOnset': 0.10439734201198989,\n   'phenotype': {'HP:0000413': {},\n    'HP:0010438': {},\n    'HP:0012638': {},\n    'HP:0007181': {}}},\n  {'ageOnset': 0.06668522064453812,\n   'phenotype': {'HP:0000413': {},\n    'HP:0001629': {},\n    'HP:0012638': {},\n    'HP:0100643': {}}},\n  {'ageOnset': 0.10520708850282642,\n   'phenotype': {'HP:0000372': {},\n    'HP:0001629': {},\n    'HP:0001249': {},\n    'HP:0007018': {}}},\n  {'ageOnset': 0.07486578570783506,\n   'phenotype': {'HP:0000413': {}, 'HP:0001713': {}, 'HP:0011446': {}}}]}"
     },
     "execution_count": 15,
     "metadata": {},
     "output_type": "execute_result"
    }
   ],
   "source": [
    "from rarecrowds import PatientSampler\n",
    "sampler = PatientSampler()\n",
    "patients = sampler.sample(patient_params=\"default\", N=5)\n",
    "patients[\"ORPHA:1488\"]"
   ]
  },
  {
   "cell_type": "code",
   "execution_count": 17,
   "metadata": {},
   "outputs": [
    {
     "data": {
      "text/plain": "{'id': 'ORPHA:3255',\n 'name': 'Filippi syndrome',\n 'phenotype': {'HP:0000028': {'frequency': 'HP:0040281',\n   'modifier': {'diagnosticCriteria': True}},\n  'HP:0000252': {'frequency': 'HP:0040281',\n   'modifier': {'diagnosticCriteria': True}},\n  'HP:0000430': {'frequency': 'HP:0040281',\n   'modifier': {'diagnosticCriteria': True}},\n  'HP:0000431': {'frequency': 'HP:0040281',\n   'modifier': {'diagnosticCriteria': True}},\n  'HP:0001249': {'frequency': 'HP:0040281',\n   'modifier': {'diagnosticCriteria': True}},\n  'HP:0000322': {'frequency': 'HP:0040282',\n   'modifier': {'diagnosticCriteria': True}},\n  'HP:0000337': {'frequency': 'HP:0040282',\n   'modifier': {'diagnosticCriteria': True}},\n  'HP:0000648': {'frequency': 'HP:0040282',\n   'modifier': {'diagnosticCriteria': True}},\n  'HP:0001511': {'frequency': 'HP:0040282',\n   'modifier': {'diagnosticCriteria': True}},\n  'HP:0000233': {'frequency': 'HP:0040283',\n   'modifier': {'diagnosticCriteria': True}},\n  'HP:0001250': {'frequency': 'HP:0040283',\n   'modifier': {'diagnosticCriteria': True}},\n  'HP:0001629': {'frequency': 'HP:0040283',\n   'modifier': {'diagnosticCriteria': True}}},\n 'cohort': [{'ageOnset': 0.06977029364671358,\n   'phenotype': {'HP:0000252': {},\n    'HP:0000430': {},\n    'HP:0005105': {},\n    'HP:0000035': {},\n    'HP:0000288': {},\n    'HP:0000337': {},\n    'HP:0011446': {},\n    'HP:0001511': {},\n    'HP:0000233': {},\n    'HP:0001987': {},\n    'HP:0001131': {}}},\n  {'ageOnset': 0.8743507504180601,\n   'phenotype': {'HP:0002011': {},\n    'HP:0000431': {},\n    'HP:0000035': {},\n    'HP:0000290': {},\n    'HP:0012638': {},\n    'HP:0001510': {},\n    'HP:0000233': {},\n    'HP:0000278': {},\n    'HP:0030187': {}}},\n  {'ageOnset': 0.20862551601260798,\n   'phenotype': {'HP:0000252': {},\n    'HP:0000429': {},\n    'HP:0005105': {},\n    'HP:0000035': {},\n    'HP:0000288': {},\n    'HP:0000337': {},\n    'HP:0012759': {},\n    'HP:0100323': {},\n    'HP:0000029': {}}},\n  {'ageOnset': 2.0249603756377694,\n   'phenotype': {'HP:0000252': {},\n    'HP:0000429': {},\n    'HP:0000431': {},\n    'HP:0000035': {},\n    'HP:0000648': {},\n    'HP:0012638': {},\n    'HP:0001510': {},\n    'HP:0008095': {}}},\n  {'ageOnset': 0.22279038848788002,\n   'phenotype': {'HP:0005105': {},\n    'HP:0000035': {},\n    'HP:0012795': {},\n    'HP:0001713': {},\n    'HP:0000290': {},\n    'HP:0012638': {},\n    'HP:0001511': {}}}]}"
     },
     "execution_count": 17,
     "metadata": {},
     "output_type": "execute_result"
    }
   ],
   "source": [
    "patients['ORPHA:3255']"
   ]
  },
  {
   "cell_type": "markdown",
   "metadata": {},
   "source": [
    "## PhenotypicComparison"
   ]
  },
  {
   "cell_type": "code",
   "execution_count": 23,
   "metadata": {},
   "outputs": [],
   "source": [
    "import networkx as nx\n",
    "import plotly.graph_objects as go\n",
    "from typing import List, Dict\n",
    "\n",
    "from rarecrowds.utils.hpo import Hpo"
   ]
  },
  {
   "cell_type": "code",
   "execution_count": 24,
   "metadata": {},
   "outputs": [],
   "source": [
    "def prepare_data(G, disease_set):\n",
    "    mapping = {n: n.replace(\":\", \"_\") for n in G.nodes}\n",
    "    G = nx.relabel_nodes(G, mapping)\n",
    "    # pos = nx.drawing.nx_pydot.graphviz_layout(G, prog=\"dot\")\n",
    "    # data = {\n",
    "    #     \"edges\": {\"x\": [], \"y\": []},\n",
    "    #     \"preds\": {\"x\": [], \"y\": [], \"labels\": []},\n",
    "    #     \"phens\": {\"x\": [], \"y\": [], \"labels\": []},\n",
    "    # }\n",
    "    # for edge in G.edges:\n",
    "    #     x0, y0 = pos[edge[0]]\n",
    "    #     x1, y1 = pos[edge[1]]\n",
    "    #     data[\"edges\"][\"x\"].append(x0)\n",
    "    #     data[\"edges\"][\"x\"].append(x1)\n",
    "    #     data[\"edges\"][\"x\"].append(None)\n",
    "    #     data[\"edges\"][\"y\"].append(y0)\n",
    "    #     data[\"edges\"][\"y\"].append(y1)\n",
    "    #     data[\"edges\"][\"y\"].append(None)\n",
    "    # for node in G.nodes:\n",
    "    #     x, y = pos[node]\n",
    "    #     label = self.hpo[node.replace(\"_\", \":\")]\n",
    "    #     label = f\"{label['id']}: {label['label']}\"\n",
    "    #     if node.replace(\"_\", \":\") in disease_set:\n",
    "    #         data[\"phens\"][\"x\"].append(x)\n",
    "    #         data[\"phens\"][\"y\"].append(y)\n",
    "    #         data[\"phens\"][\"labels\"].append(label)\n",
    "    #     else:\n",
    "    #         data[\"preds\"][\"x\"].append(x)\n",
    "    #         data[\"preds\"][\"y\"].append(y)\n",
    "    #         data[\"preds\"][\"labels\"].append(label)\n",
    "    # return data\n",
    "    return None"
   ]
  },
  {
   "cell_type": "code",
   "execution_count": 46,
   "metadata": {},
   "outputs": [],
   "source": [
    "def plot_disease(patient: Dict, name: str = \"\", code: str = \"\"):\n",
    "    patient_set = set(patient)\n",
    "    predecessors = set(hpo.predecessors(list(patient_set), 1000))\n",
    "    hpo_set = patient_set.union(predecessors)\n",
    "    hpo_set.remove(\"HP:0000001\")\n",
    "    \n",
    "    # 'networkx.classes.digraph.DiGraph'\n",
    "    G = hpo.Graph.subgraph(list(hpo_set))\n",
    "\n",
    "    plt_data = prepare_data(G, patient_set)\n",
    "\n",
    "    # edge_trace = go.Scatter(\n",
    "    #     x=plt_data[\"edges\"][\"x\"],\n",
    "    #     y=plt_data[\"edges\"][\"y\"],\n",
    "    #     name=\"HPO links\",\n",
    "    #     line=dict(width=0.75, color=\"#888\"),\n",
    "    #     hoverinfo=\"none\",\n",
    "    #     mode=\"lines\",\n",
    "    # )\n",
    "\n",
    "    # pred_trace = go.Scatter(\n",
    "    #     x=plt_data[\"preds\"][\"x\"],\n",
    "    #     y=plt_data[\"preds\"][\"y\"],\n",
    "    #     name=\"Predecessor terms\",\n",
    "    #     text=plt_data[\"preds\"][\"labels\"],\n",
    "    #     mode=\"markers\",\n",
    "    #     marker=dict(color=\"#888\", size=5, line_width=0),\n",
    "    # )\n",
    "\n",
    "    # terms_trace = go.Scatter(\n",
    "    #     x=plt_data[\"phens\"][\"x\"],\n",
    "    #     y=plt_data[\"phens\"][\"y\"],\n",
    "    #     name=\"Input terms\",\n",
    "    #     mode=\"markers\",\n",
    "    #     text=plt_data[\"phens\"][\"labels\"],\n",
    "    #     marker=dict(size=10, line_width=1),\n",
    "    # )\n",
    "\n",
    "    # fig = go.Figure(\n",
    "    #     data=[edge_trace, pred_trace, terms_trace],\n",
    "    #     layout=go.Layout(\n",
    "    #         width=1000,\n",
    "    #         height=600,\n",
    "    #         showlegend=True,\n",
    "    #         hovermode=\"closest\",\n",
    "    #         margin=dict(b=20, l=5, r=5, t=40),\n",
    "    #         xaxis=dict(showgrid=False, zeroline=False, showticklabels=False),\n",
    "    #         yaxis=dict(showgrid=False, zeroline=False, showticklabels=False),\n",
    "    #     ),\n",
    "    # )\n",
    "\n",
    "    # if not name:\n",
    "    #     name = patient.get(\"name\")\n",
    "    # if not code:\n",
    "    #     code = patient.get(\"id\")\n",
    "    # if name or code:\n",
    "    #     title = \"HPO terms\"\n",
    "    #     if name:\n",
    "    #         title += f\" of {name}\"\n",
    "    #     if code:\n",
    "    #         if \"orpha\" in code.lower():\n",
    "    #             link = \"http://www.orpha.net/consor/cgi-bin/OC_Exp.php?lng=en&Expert=\"\n",
    "    #             link += code.split(\":\")[1]\n",
    "    #         elif \"omim\" in code.lower():\n",
    "    #             link = \"https://www.omim.org/entry/\"\n",
    "    #             link += code.split(\":\")[1]\n",
    "    #         elif \"mondo\" in code.lower():\n",
    "    #             link = \"https://monarchinitiative.org/disease/\"\n",
    "    #             link += code.upper()\n",
    "    #         title += f\" <a href='{link}'>({code})</a>\"\n",
    "    #     fig.update_layout(title=title, titlefont_size=14)\n",
    "    # fig.show()\n",
    "    # return fig\n",
    "    return None"
   ]
  },
  {
   "cell_type": "code",
   "execution_count": 34,
   "metadata": {},
   "outputs": [
    {
     "data": {
      "text/plain": "{'HP:0002326': {},\n 'HP:0033354': {},\n 'HP:0011675': {},\n 'HP:0000823': {},\n 'HP:0000481': {},\n 'HP:0001014': {},\n 'HP:0011025': {},\n 'HP:0011277': {},\n 'HP:0012638': {},\n 'HP:0025276': {},\n 'HP:0006780': {},\n 'HP:0000253': {}}"
     },
     "execution_count": 34,
     "metadata": {},
     "output_type": "execute_result"
    }
   ],
   "source": [
    "patient = patients['ORPHA:324']['cohort'][0]['phenotype']\n",
    "patient"
   ]
  },
  {
   "cell_type": "code",
   "execution_count": 47,
   "metadata": {},
   "outputs": [
    {
     "name": "stdout",
     "output_type": "stream",
     "text": [
      "<class 'networkx.classes.digraph.DiGraph'>\n"
     ]
    }
   ],
   "source": [
    "plot_disease(patient)"
   ]
  }
 ],
 "metadata": {
  "kernelspec": {
   "display_name": "Python 3.8.1 64-bit ('azureml_py38': conda)",
   "name": "python381jvsc74a57bd017c92ebe4c347de728263208104da506711e9388d419f2667b4726047bdcfa3c"
  },
  "language_info": {
   "codemirror_mode": {
    "name": "ipython",
    "version": 3
   },
   "file_extension": ".py",
   "mimetype": "text/x-python",
   "name": "python",
   "nbconvert_exporter": "python",
   "pygments_lexer": "ipython3",
   "version": "3.8.1"
  },
  "orig_nbformat": 2
 },
 "nbformat": 4,
 "nbformat_minor": 2
}