{
 "cells": [
  {
   "cell_type": "markdown",
   "metadata": {},
   "source": [
    "# NetworkX Phenotypic Comparison"
   ]
  },
  {
   "cell_type": "code",
   "execution_count": 5,
   "metadata": {},
   "outputs": [],
   "source": [
    "import os\n",
    "import networkx as nx\n",
    "import plotly.graph_objects as go\n",
    "from rarecrowds import PatientSampler\n",
    "from rarecrowds import PhenotypicComparison\n",
    "from rarecrowds.utils.hpo import Hpo\n",
    "from pronto import Ontology\n",
    "from rarecrowds.utils.ontograph import OntoGraph"
   ]
  },
  {
   "cell_type": "markdown",
   "metadata": {},
   "source": [
    "## Build the graph"
   ]
  },
  {
   "cell_type": "code",
   "execution_count": 2,
   "metadata": {},
   "outputs": [],
   "source": [
    "sampler = PatientSampler()\n",
    "patients = sampler.sample(patient_params=\"default\", N=5)"
   ]
  },
  {
   "cell_type": "code",
   "execution_count": 16,
   "metadata": {},
   "outputs": [],
   "source": [
    "class HpoOntologyGraph(OntoGraph):\n",
    "    def __init__(self):\n",
    "        self.purl = \"http://purl.obolibrary.org/obo/hp.obo\"\n",
    "        cwd = os.getcwd()\n",
    "        filename = os.path.join(cwd, \"resources\", \"hp.pkl\")\n",
    "        super().__init__(filename)\n",
    "        self.Graph = self._build_graph(Ontology(self.purl))\n",
    "        self.root = [nd for nd, d in self.Graph.in_degree() if d == 0][0]\n",
    "        # if update:\n",
    "        #     super().save(_pkl_path)\n",
    "\n",
    "    def _add_node(self, G, id, term):\n",
    "        # G.add_node(id, name=term.name, desc=str(term.definition), comment=self._parse_comment(term), synonyms=self._parse_synonyms(term))\n",
    "        G.add_node(id, id=id, label=term.name)\n",
    "\n",
    "    def _add_edge(self, G, id, term):\n",
    "        for sub in term.subclasses(1):\n",
    "            if sub.id != term.id:\n",
    "                G.add_edge(term.id, sub.id)\n",
    "\n",
    "    def simplify(self, ids):\n",
    "        all_preds = self.predecessors(ids, 1000)\n",
    "        res = set(ids) - set(all_preds)\n",
    "        return res"
   ]
  },
  {
   "cell_type": "code",
   "execution_count": 17,
   "metadata": {},
   "outputs": [
    {
     "name": "stderr",
     "output_type": "stream",
     "text": [
      "<ipython-input-16-ba0cd225d299>:7: UnicodeWarning: unsound encoding, assuming ISO-8859-1 (73% confidence)\n",
      "  self.Graph = self._build_graph(Ontology(self.purl))\n"
     ]
    }
   ],
   "source": [
    "#hpo = Hpo(update=True)\n",
    "hpo = HpoOntologyGraph()\n",
    "\n",
    "# hp_obo_url = \"http://purl.obolibrary.org/obo/hp.obo\"\n",
    "# hpo = Ontology(hp_obo_url)\n",
    "\n",
    "patient = patients[\"ORPHA:324\"][\"cohort\"][0][\"phenotype\"]\n",
    "disease = {\n",
    "    \"name\": patients[\"ORPHA:324\"][\"name\"],\n",
    "    \"id\": patients[\"ORPHA:324\"][\"id\"],\n",
    "    \"phenotype\": patients[\"ORPHA:324\"][\"phenotype\"],\n",
    "}\n"
   ]
  },
  {
   "cell_type": "code",
   "execution_count": null,
   "metadata": {},
   "outputs": [],
   "source": []
  },
  {
   "cell_type": "code",
   "execution_count": null,
   "metadata": {},
   "outputs": [],
   "source": []
  },
  {
   "cell_type": "code",
   "execution_count": null,
   "metadata": {},
   "outputs": [],
   "source": []
  },
  {
   "cell_type": "code",
   "execution_count": 21,
   "metadata": {},
   "outputs": [],
   "source": [
    "def prepare_data_ok(G, hpo, disease_set):\n",
    "    mapping = {n: n.replace(\":\", \"_\") for n in G.nodes}\n",
    "    G = nx.relabel_nodes(G, mapping)\n",
    "    pos = nx.drawing.nx_pydot.graphviz_layout(G, prog=\"dot\")\n",
    "    data = {\n",
    "        \"edges\": {\"x\": [], \"y\": []},\n",
    "        \"preds\": {\"x\": [], \"y\": [], \"labels\": []},\n",
    "        \"phens\": {\"x\": [], \"y\": [], \"labels\": []},\n",
    "    }\n",
    "    for edge in G.edges:\n",
    "        x0, y0 = pos[edge[0]]\n",
    "        x1, y1 = pos[edge[1]]\n",
    "        data[\"edges\"][\"x\"].append(x0)\n",
    "        data[\"edges\"][\"x\"].append(x1)\n",
    "        data[\"edges\"][\"x\"].append(None)\n",
    "        data[\"edges\"][\"y\"].append(y0)\n",
    "        data[\"edges\"][\"y\"].append(y1)\n",
    "        data[\"edges\"][\"y\"].append(None)\n",
    "    for node in G.nodes:\n",
    "        x, y = pos[node]\n",
    "        label = hpo[node.replace(\"_\", \":\")]\n",
    "        # print(\"label\", label)\n",
    "        # print(\"label\", label.id)\n",
    "        label = f\"{label.id}: {label.name}\"\n",
    "        if node.replace(\"_\", \":\") in disease_set:\n",
    "            data[\"phens\"][\"x\"].append(x)\n",
    "            data[\"phens\"][\"y\"].append(y)\n",
    "            data[\"phens\"][\"labels\"].append(label)\n",
    "        else:\n",
    "            data[\"preds\"][\"x\"].append(x)\n",
    "            data[\"preds\"][\"y\"].append(y)\n",
    "            data[\"preds\"][\"labels\"].append(label)\n",
    "    return data"
   ]
  },
  {
   "cell_type": "code",
   "execution_count": 19,
   "metadata": {},
   "outputs": [
    {
     "data": {
      "text/plain": "NodeView(('HP:0011025', 'HP:0002944', 'HP:0012531', 'HP:0000077', 'HP:0000925', 'HP:0010674', 'HP:0033127', 'HP:0009121', 'HP:0025032', 'HP:0011354', 'HP:0000079', 'HP:0012211', 'HP:0012443', 'HP:0025142', 'HP:0033354', 'HP:0012372', 'HP:0002027', 'HP:0025276', 'HP:0000119', 'HP:0011842', 'HP:0000478', 'HP:0001877', 'HP:0004328', 'HP:0020129', 'HP:0001939', 'HP:0011458', 'HP:0002650', 'HP:0001903', 'HP:0100659', 'HP:0025031', 'HP:0000924', 'HP:0002011', 'HP:0012639', 'HP:0001131', 'HP:0001574', 'HP:0001297', 'HP:0011276', 'HP:0000951', 'HP:0011277', 'HP:0004626', 'HP:0002597', 'HP:0000118', 'HP:0001626', 'HP:0003110', 'HP:0010935', 'HP:0001871', 'HP:0011121', 'HP:0000707', 'HP:0000481'))"
     },
     "execution_count": 19,
     "metadata": {},
     "output_type": "execute_result"
    }
   ],
   "source": [
    "hpo_set = set()\n",
    "## Get patient set\n",
    "patient_set = set(patient)\n",
    "hpo_set = hpo_set.union(\n",
    "    patient_set.union(set(hpo.predecessors(list(patient_set), 1000)))\n",
    ")\n",
    "## Get disease set\n",
    "disease_set = set(disease)\n",
    "hpo_set = hpo_set.union(\n",
    "    disease_set.union(set(hpo.predecessors(list(disease_set), 1000)))\n",
    ")\n",
    "## Get subgraph\n",
    "hpo_set.remove(\"HP:0000001\")\n",
    "G = hpo.Graph.subgraph(list(hpo_set))\n",
    "G.nodes()"
   ]
  },
  {
   "cell_type": "code",
   "execution_count": 23,
   "metadata": {},
   "outputs": [
    {
     "name": "stdout",
     "output_type": "stream",
     "text": [
      "\"dot\" with args ['-Tdot', '/tmp/tmp_k75y4ot'] returned code: 1\n",
      "\n",
      "stdout, stderr:\n",
      " b''\n",
      "b\"Error: /tmp/tmp_k75y4ot: syntax error in line 2 near ':'\\n\"\n",
      "\n"
     ]
    },
    {
     "ename": "AssertionError",
     "evalue": "1",
     "output_type": "error",
     "traceback": [
      "\u001b[0;31m---------------------------------------------------------------------------\u001b[0m",
      "\u001b[0;31mAssertionError\u001b[0m                            Traceback (most recent call last)",
      "\u001b[0;32m<ipython-input-23-75d0a8ed8f9e>\u001b[0m in \u001b[0;36m<module>\u001b[0;34m\u001b[0m\n\u001b[0;32m----> 1\u001b[0;31m \u001b[0mplt_data\u001b[0m \u001b[0;34m=\u001b[0m \u001b[0mprepare_data_ok\u001b[0m\u001b[0;34m(\u001b[0m\u001b[0mG\u001b[0m\u001b[0;34m,\u001b[0m \u001b[0mpatient_set\u001b[0m\u001b[0;34m,\u001b[0m \u001b[0mdisease_set\u001b[0m\u001b[0;34m)\u001b[0m\u001b[0;34m\u001b[0m\u001b[0;34m\u001b[0m\u001b[0m\n\u001b[0m",
      "\u001b[0;32m<ipython-input-21-6f01925f7bff>\u001b[0m in \u001b[0;36mprepare_data_ok\u001b[0;34m(G, hpo, disease_set)\u001b[0m\n\u001b[1;32m      2\u001b[0m     \u001b[0mmapping\u001b[0m \u001b[0;34m=\u001b[0m \u001b[0;34m{\u001b[0m\u001b[0mn\u001b[0m\u001b[0;34m:\u001b[0m \u001b[0mn\u001b[0m\u001b[0;34m.\u001b[0m\u001b[0mreplace\u001b[0m\u001b[0;34m(\u001b[0m\u001b[0;34m\":\"\u001b[0m\u001b[0;34m,\u001b[0m \u001b[0;34m\"_\"\u001b[0m\u001b[0;34m)\u001b[0m \u001b[0;32mfor\u001b[0m \u001b[0mn\u001b[0m \u001b[0;32min\u001b[0m \u001b[0mG\u001b[0m\u001b[0;34m.\u001b[0m\u001b[0mnodes\u001b[0m\u001b[0;34m}\u001b[0m\u001b[0;34m\u001b[0m\u001b[0;34m\u001b[0m\u001b[0m\n\u001b[1;32m      3\u001b[0m     \u001b[0mG\u001b[0m \u001b[0;34m=\u001b[0m \u001b[0mnx\u001b[0m\u001b[0;34m.\u001b[0m\u001b[0mrelabel_nodes\u001b[0m\u001b[0;34m(\u001b[0m\u001b[0mG\u001b[0m\u001b[0;34m,\u001b[0m \u001b[0mmapping\u001b[0m\u001b[0;34m)\u001b[0m\u001b[0;34m\u001b[0m\u001b[0;34m\u001b[0m\u001b[0m\n\u001b[0;32m----> 4\u001b[0;31m     \u001b[0mpos\u001b[0m \u001b[0;34m=\u001b[0m \u001b[0mnx\u001b[0m\u001b[0;34m.\u001b[0m\u001b[0mdrawing\u001b[0m\u001b[0;34m.\u001b[0m\u001b[0mnx_pydot\u001b[0m\u001b[0;34m.\u001b[0m\u001b[0mgraphviz_layout\u001b[0m\u001b[0;34m(\u001b[0m\u001b[0mG\u001b[0m\u001b[0;34m,\u001b[0m \u001b[0mprog\u001b[0m\u001b[0;34m=\u001b[0m\u001b[0;34m\"dot\"\u001b[0m\u001b[0;34m)\u001b[0m\u001b[0;34m\u001b[0m\u001b[0;34m\u001b[0m\u001b[0m\n\u001b[0m\u001b[1;32m      5\u001b[0m     data = {\n\u001b[1;32m      6\u001b[0m         \u001b[0;34m\"edges\"\u001b[0m\u001b[0;34m:\u001b[0m \u001b[0;34m{\u001b[0m\u001b[0;34m\"x\"\u001b[0m\u001b[0;34m:\u001b[0m \u001b[0;34m[\u001b[0m\u001b[0;34m]\u001b[0m\u001b[0;34m,\u001b[0m \u001b[0;34m\"y\"\u001b[0m\u001b[0;34m:\u001b[0m \u001b[0;34m[\u001b[0m\u001b[0;34m]\u001b[0m\u001b[0;34m}\u001b[0m\u001b[0;34m,\u001b[0m\u001b[0;34m\u001b[0m\u001b[0;34m\u001b[0m\u001b[0m\n",
      "\u001b[0;32m/anaconda/envs/azureml_py38/lib/python3.8/site-packages/networkx/drawing/nx_pydot.py\u001b[0m in \u001b[0;36mgraphviz_layout\u001b[0;34m(G, prog, root)\u001b[0m\n\u001b[1;32m    255\u001b[0m     \u001b[0mThis\u001b[0m \u001b[0;32mis\u001b[0m \u001b[0ma\u001b[0m \u001b[0mwrapper\u001b[0m \u001b[0;32mfor\u001b[0m \u001b[0mpydot_layout\u001b[0m\u001b[0;34m.\u001b[0m\u001b[0;34m\u001b[0m\u001b[0;34m\u001b[0m\u001b[0m\n\u001b[1;32m    256\u001b[0m     \"\"\"\n\u001b[0;32m--> 257\u001b[0;31m     \u001b[0;32mreturn\u001b[0m \u001b[0mpydot_layout\u001b[0m\u001b[0;34m(\u001b[0m\u001b[0mG\u001b[0m\u001b[0;34m=\u001b[0m\u001b[0mG\u001b[0m\u001b[0;34m,\u001b[0m \u001b[0mprog\u001b[0m\u001b[0;34m=\u001b[0m\u001b[0mprog\u001b[0m\u001b[0;34m,\u001b[0m \u001b[0mroot\u001b[0m\u001b[0;34m=\u001b[0m\u001b[0mroot\u001b[0m\u001b[0;34m)\u001b[0m\u001b[0;34m\u001b[0m\u001b[0;34m\u001b[0m\u001b[0m\n\u001b[0m\u001b[1;32m    258\u001b[0m \u001b[0;34m\u001b[0m\u001b[0m\n\u001b[1;32m    259\u001b[0m \u001b[0;34m\u001b[0m\u001b[0m\n",
      "\u001b[0;32m/anaconda/envs/azureml_py38/lib/python3.8/site-packages/networkx/drawing/nx_pydot.py\u001b[0m in \u001b[0;36mpydot_layout\u001b[0;34m(G, prog, root)\u001b[0m\n\u001b[1;32m    304\u001b[0m     \u001b[0;31m# List of low-level bytes comprising a string in the dot language converted\u001b[0m\u001b[0;34m\u001b[0m\u001b[0;34m\u001b[0m\u001b[0;34m\u001b[0m\u001b[0m\n\u001b[1;32m    305\u001b[0m     \u001b[0;31m# from the passed graph with the passed external GraphViz command.\u001b[0m\u001b[0;34m\u001b[0m\u001b[0;34m\u001b[0m\u001b[0;34m\u001b[0m\u001b[0m\n\u001b[0;32m--> 306\u001b[0;31m     \u001b[0mD_bytes\u001b[0m \u001b[0;34m=\u001b[0m \u001b[0mP\u001b[0m\u001b[0;34m.\u001b[0m\u001b[0mcreate_dot\u001b[0m\u001b[0;34m(\u001b[0m\u001b[0mprog\u001b[0m\u001b[0;34m=\u001b[0m\u001b[0mprog\u001b[0m\u001b[0;34m)\u001b[0m\u001b[0;34m\u001b[0m\u001b[0;34m\u001b[0m\u001b[0m\n\u001b[0m\u001b[1;32m    307\u001b[0m \u001b[0;34m\u001b[0m\u001b[0m\n\u001b[1;32m    308\u001b[0m     \u001b[0;31m# Unique string decoded from these bytes with the preferred locale encoding\u001b[0m\u001b[0;34m\u001b[0m\u001b[0;34m\u001b[0m\u001b[0;34m\u001b[0m\u001b[0m\n",
      "\u001b[0;32m/anaconda/envs/azureml_py38/lib/python3.8/site-packages/pydot.py\u001b[0m in \u001b[0;36mnew_method\u001b[0;34m(f, prog, encoding)\u001b[0m\n\u001b[1;32m   1720\u001b[0m                     encoding=None):\n\u001b[1;32m   1721\u001b[0m                 \u001b[0;34m\"\"\"Refer to docstring of method `create`.\"\"\"\u001b[0m\u001b[0;34m\u001b[0m\u001b[0;34m\u001b[0m\u001b[0m\n\u001b[0;32m-> 1722\u001b[0;31m                 return self.create(\n\u001b[0m\u001b[1;32m   1723\u001b[0m                     format=f, prog=prog, encoding=encoding)\n\u001b[1;32m   1724\u001b[0m             \u001b[0mname\u001b[0m \u001b[0;34m=\u001b[0m \u001b[0;34m'create_{fmt}'\u001b[0m\u001b[0;34m.\u001b[0m\u001b[0mformat\u001b[0m\u001b[0;34m(\u001b[0m\u001b[0mfmt\u001b[0m\u001b[0;34m=\u001b[0m\u001b[0mfrmt\u001b[0m\u001b[0;34m)\u001b[0m\u001b[0;34m\u001b[0m\u001b[0;34m\u001b[0m\u001b[0m\n",
      "\u001b[0;32m/anaconda/envs/azureml_py38/lib/python3.8/site-packages/pydot.py\u001b[0m in \u001b[0;36mcreate\u001b[0;34m(self, prog, format, encoding)\u001b[0m\n\u001b[1;32m   1943\u001b[0m             \u001b[0mprint\u001b[0m\u001b[0;34m(\u001b[0m\u001b[0mmessage\u001b[0m\u001b[0;34m)\u001b[0m\u001b[0;34m\u001b[0m\u001b[0;34m\u001b[0m\u001b[0m\n\u001b[1;32m   1944\u001b[0m \u001b[0;34m\u001b[0m\u001b[0m\n\u001b[0;32m-> 1945\u001b[0;31m         \u001b[0;32massert\u001b[0m \u001b[0mprocess\u001b[0m\u001b[0;34m.\u001b[0m\u001b[0mreturncode\u001b[0m \u001b[0;34m==\u001b[0m \u001b[0;36m0\u001b[0m\u001b[0;34m,\u001b[0m \u001b[0mprocess\u001b[0m\u001b[0;34m.\u001b[0m\u001b[0mreturncode\u001b[0m\u001b[0;34m\u001b[0m\u001b[0;34m\u001b[0m\u001b[0m\n\u001b[0m\u001b[1;32m   1946\u001b[0m \u001b[0;34m\u001b[0m\u001b[0m\n\u001b[1;32m   1947\u001b[0m         \u001b[0;32mreturn\u001b[0m \u001b[0mstdout_data\u001b[0m\u001b[0;34m\u001b[0m\u001b[0;34m\u001b[0m\u001b[0m\n",
      "\u001b[0;31mAssertionError\u001b[0m: 1"
     ]
    }
   ],
   "source": [
    "plt_data = prepare_data_ok(G, patient_set, disease_set)"
   ]
  },
  {
   "cell_type": "code",
   "execution_count": null,
   "metadata": {},
   "outputs": [],
   "source": []
  },
  {
   "cell_type": "code",
   "execution_count": null,
   "metadata": {},
   "outputs": [],
   "source": []
  },
  {
   "cell_type": "code",
   "execution_count": null,
   "metadata": {},
   "outputs": [],
   "source": []
  }
 ],
 "metadata": {
  "kernelspec": {
   "display_name": "Python 3.8.1 64-bit ('azureml_py38': conda)",
   "name": "python381jvsc74a57bd017c92ebe4c347de728263208104da506711e9388d419f2667b4726047bdcfa3c"
  },
  "language_info": {
   "codemirror_mode": {
    "name": "ipython",
    "version": 3
   },
   "file_extension": ".py",
   "mimetype": "text/x-python",
   "name": "python",
   "nbconvert_exporter": "python",
   "pygments_lexer": "ipython3",
   "version": "3.8.1"
  },
  "orig_nbformat": 2
 },
 "nbformat": 4,
 "nbformat_minor": 2
}