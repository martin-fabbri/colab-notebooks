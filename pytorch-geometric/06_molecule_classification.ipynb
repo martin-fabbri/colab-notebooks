{
 "cells": [
  {
   "cell_type": "markdown",
   "metadata": {},
   "source": [
    "# Molecule classification"
   ]
  },
  {
   "cell_type": "code",
   "execution_count": 17,
   "metadata": {},
   "outputs": [
    {
     "name": "stdout",
     "output_type": "stream",
     "text": [
      "pytorch: 1.8.1\n",
      "rdkit: 2021.03.1\n"
     ]
    }
   ],
   "source": [
    "import warnings\n",
    "\n",
    "import rdkit\n",
    "import torch\n",
    "import torch.nn.functional as F\n",
    "from rdkit import Chem\n",
    "from rdkit.Chem.Draw import IPythonConsole\n",
    "from torch.nn import Linear\n",
    "from torch_geometric.data import DataLoader\n",
    "from torch_geometric.datasets import MoleculeNet\n",
    "from torch_geometric.nn import GCNConv, TopKPooling\n",
    "from torch_geometric.nn import global_max_pool as gmp\n",
    "from torch_geometric.nn import global_mean_pool\n",
    "from torch_geometric.nn import global_mean_pool as gap\n",
    "\n",
    "\n",
    "warnings.filterwarnings(\"ignore\")\n",
    "\n",
    "print(f\"pytorch: {torch.__version__}\")\n",
    "print(f\"rdkit: {rdkit.__version__}\")"
   ]
  },
  {
   "cell_type": "markdown",
   "metadata": {},
   "source": [
    "## Dataset\n",
    "\n",
    "In the following we will use a dataset provided in the dataset collection of PyTorch Geometric ([Here you find all datasets](https://pytorch-geometric.readthedocs.io/en/latest/modules/datasets.html)). The Dataset comes from the MoleculeNet collection, which can be found [here](http://moleculenet.ai/datasets-1).\n",
    "\n",
    "\n",
    ">\"ESOL is a small dataset consisting of water solubility data for 1128 compounds. The dataset\n",
    "has been used to train models that estimate solubility directly from chemical structures (as\n",
    "encoded in SMILES strings). Note that these structures don’t include 3D coordinates, since\n",
    "solubility is a property of a molecule and not of its particular conformers.\"\n",
    "\n",
    "**>>> Machine Learning task: How are different molecules dissolving in water?**\n",
    "\n",
    "<img src=\"https://www.differencebetween.com/wp-content/uploads/2018/08/Difference-Between-Solubility-and-Solubility-Product-fig-1.png\" alt=\"solvent/solution\" />"
   ]
  },
  {
   "cell_type": "markdown",
   "metadata": {},
   "source": [
    "## SMILES representation and important sidenotes\n",
    "\n",
    "<img src=\"https://miro.medium.com/max/283/1*8jTZAlhMMLJHExBFQdmuyA.png\" alt=\"ibuprofen\">\n",
    "\n",
    "- Using the plain SMILES string as input is not suitable\n",
    "- This will not consider the molecule structure but rather the grammar of the SMILES string\n",
    "- The SMILES string can be different for a molecule, depending on the notation ( a unique molecule can have multiple SMILES strings )\n",
    "- Chemical graphs however, are invariant to permutations --> Graph Neural Networks\n"
   ]
  },
  {
   "cell_type": "code",
   "execution_count": 5,
   "metadata": {},
   "outputs": [
    {
     "name": "stdout",
     "output_type": "stream",
     "text": [
      "Downloading https://deepchemdata.s3-us-west-1.amazonaws.com/datasets/delaney-processed.csv\n",
      "Processing...\n",
      "Done!\n"
     ]
    },
    {
     "data": {
      "text/plain": "ESOL(1128)"
     },
     "execution_count": 5,
     "metadata": {},
     "output_type": "execute_result"
    }
   ],
   "source": [
    "data = MoleculeNet(root=\".\", name=\"ESOL\")\n",
    "data"
   ]
  },
  {
   "cell_type": "code",
   "execution_count": 6,
   "metadata": {},
   "outputs": [
    {
     "name": "stdout",
     "output_type": "stream",
     "text": [
      "Dataset type:  <class 'torch_geometric.datasets.molecule_net.MoleculeNet'>\n",
      "Dataset features:  9\n",
      "Dataset target:  1\n",
      "Dataset length:  <bound method InMemoryDataset.len of ESOL(1128)>\n",
      "Dataset sample:  Data(edge_attr=[68, 3], edge_index=[2, 68], smiles=\"OCC3OC(OCC2OC(OC(C#N)c1ccccc1)C(O)C(O)C2O)C(O)C(O)C3O \", x=[32, 9], y=[1, 1])\n",
      "Sample  nodes:  32\n",
      "Sample  edges:  68\n"
     ]
    }
   ],
   "source": [
    "# Investigating the dataset\n",
    "print(\"Dataset type: \", type(data))\n",
    "print(\"Dataset features: \", data.num_features)\n",
    "print(\"Dataset target: \", data.num_classes)\n",
    "print(\"Dataset length: \", data.len)\n",
    "print(\"Dataset sample: \", data[0])\n",
    "print(\"Sample  nodes: \", data[0].num_nodes)\n",
    "print(\"Sample  edges: \", data[0].num_edges)\n",
    "\n",
    "# edge_index = graph connections\n",
    "# smiles = molecule with its atoms\n",
    "# x = node features (32 nodes have each 9 features)\n",
    "# y = labels (dimension)"
   ]
  },
  {
   "cell_type": "code",
   "execution_count": 7,
   "metadata": {},
   "outputs": [
    {
     "data": {
      "text/plain": "tensor([[8, 0, 2, 5, 1, 0, 4, 0, 0],\n        [6, 0, 4, 5, 2, 0, 4, 0, 0],\n        [6, 0, 4, 5, 1, 0, 4, 0, 1],\n        [8, 0, 2, 5, 0, 0, 4, 0, 1],\n        [6, 0, 4, 5, 1, 0, 4, 0, 1],\n        [8, 0, 2, 5, 0, 0, 4, 0, 0],\n        [6, 0, 4, 5, 2, 0, 4, 0, 0],\n        [6, 0, 4, 5, 1, 0, 4, 0, 1],\n        [8, 0, 2, 5, 0, 0, 4, 0, 1],\n        [6, 0, 4, 5, 1, 0, 4, 0, 1],\n        [8, 0, 2, 5, 0, 0, 4, 0, 0],\n        [6, 0, 4, 5, 1, 0, 4, 0, 0],\n        [6, 0, 2, 5, 0, 0, 2, 0, 0],\n        [7, 0, 1, 5, 0, 0, 2, 0, 0],\n        [6, 0, 3, 5, 0, 0, 3, 1, 1],\n        [6, 0, 3, 5, 1, 0, 3, 1, 1],\n        [6, 0, 3, 5, 1, 0, 3, 1, 1],\n        [6, 0, 3, 5, 1, 0, 3, 1, 1],\n        [6, 0, 3, 5, 1, 0, 3, 1, 1],\n        [6, 0, 3, 5, 1, 0, 3, 1, 1],\n        [6, 0, 4, 5, 1, 0, 4, 0, 1],\n        [8, 0, 2, 5, 1, 0, 4, 0, 0],\n        [6, 0, 4, 5, 1, 0, 4, 0, 1],\n        [8, 0, 2, 5, 1, 0, 4, 0, 0],\n        [6, 0, 4, 5, 1, 0, 4, 0, 1],\n        [8, 0, 2, 5, 1, 0, 4, 0, 0],\n        [6, 0, 4, 5, 1, 0, 4, 0, 1],\n        [8, 0, 2, 5, 1, 0, 4, 0, 0],\n        [6, 0, 4, 5, 1, 0, 4, 0, 1],\n        [8, 0, 2, 5, 1, 0, 4, 0, 0],\n        [6, 0, 4, 5, 1, 0, 4, 0, 1],\n        [8, 0, 2, 5, 1, 0, 4, 0, 0]])"
     },
     "execution_count": 7,
     "metadata": {},
     "output_type": "execute_result"
    }
   ],
   "source": [
    "data[0].x"
   ]
  },
  {
   "cell_type": "markdown",
   "metadata": {},
   "source": [
    "![gnn_molecule](https://github.com/martin-fabbri/colab-notebooks/raw/master/pytorch-geometric/images/gnn_molecule.png)\n"
   ]
  },
  {
   "cell_type": "code",
   "execution_count": 9,
   "metadata": {},
   "outputs": [
    {
     "data": {
      "text/plain": "tensor([[ 0,  1],\n        [ 1,  0],\n        [ 1,  2],\n        [ 2,  1],\n        [ 2,  3],\n        [ 2, 30],\n        [ 3,  2],\n        [ 3,  4],\n        [ 4,  3],\n        [ 4,  5],\n        [ 4, 26],\n        [ 5,  4],\n        [ 5,  6],\n        [ 6,  5],\n        [ 6,  7],\n        [ 7,  6],\n        [ 7,  8],\n        [ 7, 24],\n        [ 8,  7],\n        [ 8,  9],\n        [ 9,  8],\n        [ 9, 10],\n        [ 9, 20],\n        [10,  9],\n        [10, 11],\n        [11, 10],\n        [11, 12],\n        [11, 14],\n        [12, 11],\n        [12, 13],\n        [13, 12],\n        [14, 11],\n        [14, 15],\n        [14, 19],\n        [15, 14],\n        [15, 16],\n        [16, 15],\n        [16, 17],\n        [17, 16],\n        [17, 18],\n        [18, 17],\n        [18, 19],\n        [19, 14],\n        [19, 18],\n        [20,  9],\n        [20, 21],\n        [20, 22],\n        [21, 20],\n        [22, 20],\n        [22, 23],\n        [22, 24],\n        [23, 22],\n        [24,  7],\n        [24, 22],\n        [24, 25],\n        [25, 24],\n        [26,  4],\n        [26, 27],\n        [26, 28],\n        [27, 26],\n        [28, 26],\n        [28, 29],\n        [28, 30],\n        [29, 28],\n        [30,  2],\n        [30, 28],\n        [30, 31],\n        [31, 30]])"
     },
     "execution_count": 9,
     "metadata": {},
     "output_type": "execute_result"
    }
   ],
   "source": [
    "data[0].edge_index.t()"
   ]
  },
  {
   "cell_type": "code",
   "execution_count": 10,
   "metadata": {},
   "outputs": [
    {
     "data": {
      "text/plain": "tensor([[-0.7700]])"
     },
     "execution_count": 10,
     "metadata": {},
     "output_type": "execute_result"
    }
   ],
   "source": [
    "data[0].y"
   ]
  },
  {
   "cell_type": "markdown",
   "metadata": {},
   "source": [
    "## Converting SMILES to RDKit molecules - Visualizing molecules"
   ]
  },
  {
   "cell_type": "code",
   "execution_count": 11,
   "metadata": {},
   "outputs": [
    {
     "data": {
      "text/plain": "'OCC3OC(OCC2OC(OC(C#N)c1ccccc1)C(O)C(O)C2O)C(O)C(O)C3O '"
     },
     "execution_count": 11,
     "metadata": {},
     "output_type": "execute_result"
    }
   ],
   "source": [
    "data[0][\"smiles\"]"
   ]
  },
  {
   "cell_type": "code",
   "execution_count": 13,
   "metadata": {},
   "outputs": [
    {
     "data": {
      "image/png": "[encoded data removed]",
      "text/plain": "<rdkit.Chem.rdchem.Mol at 0x7f0abf1e3f80>"
     },
     "execution_count": 13,
     "metadata": {},
     "output_type": "execute_result"
    }
   ],
   "source": [
    "molecule = Chem.MolFromSmiles(data[0][\"smiles\"])\n",
    "molecule"
   ]
  },
  {
   "cell_type": "code",
   "execution_count": 14,
   "metadata": {},
   "outputs": [
    {
     "data": {
      "text/plain": "rdkit.Chem.rdchem.Mol"
     },
     "execution_count": 14,
     "metadata": {},
     "output_type": "execute_result"
    }
   ],
   "source": [
    "type(molecule)"
   ]
  },
  {
   "cell_type": "markdown",
   "metadata": {},
   "source": [
    "## Implementing the Graph Neural Network\n",
    "\n",
    "Building a Graph Neural Network works the same way as building a Convolutional Neural Network, we simple add some layers.\n",
    "\n",
    "The GCN simply extends torch.nn.Module.\n",
    "GCNConv expects:\n",
    "- in_channels = Size of each input sample.\n",
    "- out_channels = Size of each output sample.\n",
    "\n",
    "We apply three convolutional layers, which means we learn the information about 3 neighbor hops. After that we apply a pooling layer to combine the information of the individual nodes, as we want to perform graph-level prediction.\n",
    "\n",
    "Always keep in mind that different learning problems (node, edge or graph prediction) require different GNN architectures.\n",
    "\n",
    "For example for node-level prediction you will often encounter masks. For graph-level predictions on the other hand you need to combine the node embeddings."
   ]
  },
  {
   "cell_type": "code",
   "execution_count": 16,
   "metadata": {},
   "outputs": [
    {
     "name": "stdout",
     "output_type": "stream",
     "text": [
      "GCN(\n",
      "  (initial_conv): GCNConv(9, 64)\n",
      "  (conv1): GCNConv(64, 64)\n",
      "  (conv2): GCNConv(64, 64)\n",
      "  (conv3): GCNConv(64, 64)\n",
      "  (out): Linear(in_features=128, out_features=1, bias=True)\n",
      ")\n",
      "Number of parameters:  13249\n"
     ]
    }
   ],
   "source": [
    "embedding_size = 64\n",
    "\n",
    "class GCN(torch.nn.Module):\n",
    "    def __init__(self):\n",
    "        # Init parent\n",
    "        super(GCN, self).__init__()\n",
    "        torch.manual_seed(42)\n",
    "\n",
    "        # GCN layers\n",
    "        self.initial_conv = GCNConv(data.num_features, embedding_size)\n",
    "        self.conv1 = GCNConv(embedding_size, embedding_size)\n",
    "        self.conv2 = GCNConv(embedding_size, embedding_size)\n",
    "        self.conv3 = GCNConv(embedding_size, embedding_size)\n",
    "\n",
    "        # Output layer\n",
    "        self.out = Linear(embedding_size*2, data.num_classes)\n",
    "\n",
    "    def forward(self, x, edge_index, batch_index):\n",
    "        # First Conv layer\n",
    "        hidden = self.initial_conv(x, edge_index)\n",
    "        hidden = F.tanh(hidden)\n",
    "\n",
    "        # Other Conv layers\n",
    "        hidden = self.conv1(hidden, edge_index)\n",
    "        hidden = F.tanh(hidden)\n",
    "        hidden = self.conv2(hidden, edge_index)\n",
    "        hidden = F.tanh(hidden)\n",
    "        hidden = self.conv3(hidden, edge_index)\n",
    "        hidden = F.tanh(hidden)\n",
    "          \n",
    "        # Global Pooling (stack different aggregations)\n",
    "        hidden = torch.cat([gmp(hidden, batch_index), \n",
    "                            gap(hidden, batch_index)], dim=1)\n",
    "\n",
    "        # Apply a final (linear) classifier.\n",
    "        out = self.out(hidden)\n",
    "\n",
    "        return out, hidden\n",
    "\n",
    "model = GCN()\n",
    "print(model)\n",
    "print(\"Number of parameters: \", sum(p.numel() for p in model.parameters()))"
   ]
  },
  {
   "cell_type": "code",
   "execution_count": 18,
   "metadata": {},
   "outputs": [
    {
     "name": "stdout",
     "output_type": "stream",
     "text": [
      "Starting training...\n",
      "Epoch 0 | Train Loss 3.875809669494629\n",
      "Epoch 100 | Train Loss 1.2035311460494995\n",
      "Epoch 200 | Train Loss 0.39399704337120056\n",
      "Epoch 300 | Train Loss 0.725736141204834\n",
      "Epoch 400 | Train Loss 0.7326520085334778\n",
      "Epoch 500 | Train Loss 0.3107157349586487\n",
      "Epoch 600 | Train Loss 0.4741998314857483\n",
      "Epoch 700 | Train Loss 0.4897424876689911\n",
      "Epoch 800 | Train Loss 0.5702466368675232\n",
      "Epoch 900 | Train Loss 0.3855404555797577\n",
      "Epoch 1000 | Train Loss 0.4637888967990875\n",
      "Epoch 1100 | Train Loss 0.46807199716567993\n",
      "Epoch 1200 | Train Loss 0.15512289106845856\n",
      "Epoch 1300 | Train Loss 0.20495451986789703\n",
      "Epoch 1400 | Train Loss 0.35119742155075073\n",
      "Epoch 1500 | Train Loss 0.34338685870170593\n",
      "Epoch 1600 | Train Loss 0.24466903507709503\n",
      "Epoch 1700 | Train Loss 0.16341103613376617\n",
      "Epoch 1800 | Train Loss 0.27212733030319214\n",
      "Epoch 1900 | Train Loss 0.1517721563577652\n"
     ]
    }
   ],
   "source": [
    "# Root mean squared error\n",
    "loss_fn = torch.nn.MSELoss()\n",
    "optimizer = torch.optim.Adam(model.parameters(), lr=0.0007)  \n",
    "\n",
    "# Use GPU for training\n",
    "device = torch.device(\"cuda:0\" if torch.cuda.is_available() else \"cpu\")\n",
    "model = model.to(device)\n",
    "\n",
    "# Wrap data in a data loader\n",
    "data_size = len(data)\n",
    "NUM_GRAPHS_PER_BATCH = 64\n",
    "loader = DataLoader(data[:int(data_size * 0.8)], \n",
    "                    batch_size=NUM_GRAPHS_PER_BATCH, shuffle=True)\n",
    "test_loader = DataLoader(data[int(data_size * 0.8):], \n",
    "                         batch_size=NUM_GRAPHS_PER_BATCH, shuffle=True)\n",
    "\n",
    "def train(data):\n",
    "    # Enumerate over the data\n",
    "    for batch in loader:\n",
    "      # Use GPU\n",
    "      batch.to(device)  \n",
    "      # Reset gradients\n",
    "      optimizer.zero_grad() \n",
    "      # Passing the node features and the connection info\n",
    "      pred, embedding = model(batch.x.float(), batch.edge_index, batch.batch) \n",
    "      # Calculating the loss and gradients\n",
    "      loss = torch.sqrt(loss_fn(pred, batch.y))       \n",
    "      loss.backward()  \n",
    "      # Update using the gradients\n",
    "      optimizer.step()   \n",
    "    return loss, embedding\n",
    "\n",
    "print(\"Starting training...\")\n",
    "losses = []\n",
    "for epoch in range(2000):\n",
    "    loss, h = train(data)\n",
    "    losses.append(loss)\n",
    "    if epoch % 100 == 0:\n",
    "      print(f\"Epoch {epoch} | Train Loss {loss}\")"
   ]
  },
  {
   "cell_type": "code",
   "execution_count": 19,
   "metadata": {},
   "outputs": [
    {
     "data": {
      "text/plain": "<matplotlib.axes._subplots.AxesSubplot at 0x7f0a61e94940>"
     },
     "execution_count": 19,
     "metadata": {},
     "output_type": "execute_result"
    },
    {
     "data": {
      "image/png": "[encoded data removed]",
      "text/plain": "<Figure size 432x288 with 1 Axes>"
     },
     "metadata": {
      "needs_background": "light"
     },
     "output_type": "display_data"
    }
   ],
   "source": [
    "# Visualize learning (training loss)\n",
    "import seaborn as sns\n",
    "losses_float = [float(loss.cpu().detach().numpy()) for loss in losses] \n",
    "loss_indices = [i for i,l in enumerate(losses_float)] \n",
    "plt = sns.lineplot(loss_indices, losses_float)\n",
    "plt"
   ]
  },
  {
   "cell_type": "code",
   "execution_count": 20,
   "metadata": {},
   "outputs": [
    {
     "data": {
      "text/html": "<div>\n<style scoped>\n    .dataframe tbody tr th:only-of-type {\n        vertical-align: middle;\n    }\n\n    .dataframe tbody tr th {\n        vertical-align: top;\n    }\n\n    .dataframe thead th {\n        text-align: right;\n    }\n</style>\n<table border=\"1\" class=\"dataframe\">\n  <thead>\n    <tr style=\"text-align: right;\">\n      <th></th>\n      <th>y_real</th>\n      <th>y_pred</th>\n    </tr>\n  </thead>\n  <tbody>\n    <tr>\n      <th>0</th>\n      <td>0.380</td>\n      <td>-0.255516</td>\n    </tr>\n    <tr>\n      <th>1</th>\n      <td>-3.620</td>\n      <td>-2.752561</td>\n    </tr>\n    <tr>\n      <th>2</th>\n      <td>-4.173</td>\n      <td>-5.283212</td>\n    </tr>\n    <tr>\n      <th>3</th>\n      <td>-5.190</td>\n      <td>-3.360781</td>\n    </tr>\n    <tr>\n      <th>4</th>\n      <td>-2.600</td>\n      <td>-2.949584</td>\n    </tr>\n    <tr>\n      <th>...</th>\n      <td>...</td>\n      <td>...</td>\n    </tr>\n    <tr>\n      <th>59</th>\n      <td>-6.860</td>\n      <td>-6.962558</td>\n    </tr>\n    <tr>\n      <th>60</th>\n      <td>-3.401</td>\n      <td>-2.988461</td>\n    </tr>\n    <tr>\n      <th>61</th>\n      <td>-2.863</td>\n      <td>-2.913759</td>\n    </tr>\n    <tr>\n      <th>62</th>\n      <td>-3.630</td>\n      <td>-4.594560</td>\n    </tr>\n    <tr>\n      <th>63</th>\n      <td>-7.660</td>\n      <td>-8.320443</td>\n    </tr>\n  </tbody>\n</table>\n<p>64 rows × 2 columns</p>\n</div>",
      "text/plain": "    y_real    y_pred\n0    0.380 -0.255516\n1   -3.620 -2.752561\n2   -4.173 -5.283212\n3   -5.190 -3.360781\n4   -2.600 -2.949584\n..     ...       ...\n59  -6.860 -6.962558\n60  -3.401 -2.988461\n61  -2.863 -2.913759\n62  -3.630 -4.594560\n63  -7.660 -8.320443\n\n[64 rows x 2 columns]"
     },
     "execution_count": 20,
     "metadata": {},
     "output_type": "execute_result"
    }
   ],
   "source": [
    "import pandas as pd \n",
    "\n",
    "# Analyze the results for one batch\n",
    "test_batch = next(iter(test_loader))\n",
    "with torch.no_grad():\n",
    "    test_batch.to(device)\n",
    "    pred, embed = model(test_batch.x.float(), test_batch.edge_index, test_batch.batch) \n",
    "    df = pd.DataFrame()\n",
    "    df[\"y_real\"] = test_batch.y.tolist()\n",
    "    df[\"y_pred\"] = pred.tolist()\n",
    "df[\"y_real\"] = df[\"y_real\"].apply(lambda row: row[0])\n",
    "df[\"y_pred\"] = df[\"y_pred\"].apply(lambda row: row[0])\n",
    "df"
   ]
  },
  {
   "cell_type": "code",
   "execution_count": 21,
   "metadata": {},
   "outputs": [
    {
     "data": {
      "text/plain": "<matplotlib.axes._subplots.AxesSubplot at 0x7f0a602c1580>"
     },
     "execution_count": 21,
     "metadata": {},
     "output_type": "execute_result"
    },
    {
     "data": {
      "image/png": "[encoded data removed]",
      "text/plain": "<Figure size 432x288 with 1 Axes>"
     },
     "metadata": {
      "needs_background": "light"
     },
     "output_type": "display_data"
    }
   ],
   "source": [
    "plt = sns.scatterplot(data=df, x=\"y_real\", y=\"y_pred\")\n",
    "plt.set(xlim=(-7, 2))\n",
    "plt.set(ylim=(-7, 2))\n",
    "plt"
   ]
  }
 ],
 "metadata": {
  "kernelspec": {
   "display_name": "Python 3.8.1 64-bit ('azureml_py38': conda)",
   "name": "python381jvsc74a57bd017c92ebe4c347de728263208104da506711e9388d419f2667b4726047bdcfa3c"
  },
  "language_info": {
   "codemirror_mode": {
    "name": "ipython",
    "version": 3
   },
   "file_extension": ".py",
   "mimetype": "text/x-python",
   "name": "python",
   "nbconvert_exporter": "python",
   "pygments_lexer": "ipython3",
   "version": "3.8.1"
  },
  "orig_nbformat": 2
 },
 "nbformat": 4,
 "nbformat_minor": 2
}