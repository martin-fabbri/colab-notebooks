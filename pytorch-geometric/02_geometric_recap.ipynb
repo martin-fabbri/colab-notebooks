{
  "nbformat": 4,
  "nbformat_minor": 0,
  "metadata": {
    "kernelspec": {
      "display_name": "Python 3",
      "language": "python",
      "name": "python3"
    },
    "language_info": {
      "codemirror_mode": {
        "name": "ipython",
        "version": 3
      },
      "file_extension": ".py",
      "mimetype": "text/x-python",
      "name": "python",
      "nbconvert_exporter": "python",
      "pygments_lexer": "ipython3",
      "version": "3.8.3"
    },
    "colab": {
      "name": "02_geometric_recap.ipynb",
      "provenance": [],
      "include_colab_link": true
    }
  },
  "cells": [
    {
      "cell_type": "markdown",
      "metadata": {
        "id": "view-in-github",
        "colab_type": "text"
      },
      "source": [
        "<a href=\"https://colab.research.google.com/github/martin-fabbri/colab-notebooks/blob/master/pytorch-geometric/02_geometric_recap.ipynb\" target=\"_parent\"><img src=\"https://colab.research.google.com/assets/colab-badge.svg\" alt=\"Open In Colab\"/></a>"
      ]
    },
    {
      "cell_type": "markdown",
      "metadata": {
        "id": "5x0HMLX4n6vE"
      },
      "source": [
        "# PyTorch\n"
      ]
    },
    {
      "cell_type": "markdown",
      "metadata": {
        "id": "hiybJq55n6vK"
      },
      "source": [
        "## Outline"
      ]
    },
    {
      "cell_type": "markdown",
      "metadata": {
        "id": "1q92z5een6vL"
      },
      "source": [
        "- Datasets\n",
        "- Models\n",
        "- Losses\n",
        "- Optimizers"
      ]
    },
    {
      "cell_type": "markdown",
      "metadata": {
        "id": "BB3tSFD7n6vM"
      },
      "source": [
        "Official resources:\n",
        "* [Deep Learning with PyTorch: a 60 Minute Blitz](https://pytorch.org/tutorials/beginner/deep_learning_60min_blitz.html)\n",
        "* [PyTorch documentation](https://pytorch.org/docs/stable/index.html)"
      ]
    },
    {
      "cell_type": "markdown",
      "metadata": {
        "id": "IftKNVmen6vM"
      },
      "source": [
        "Here no details, mostly visualization, with linear regression."
      ]
    },
    {
      "cell_type": "markdown",
      "metadata": {
        "id": "vql2uXUGn6vM"
      },
      "source": [
        "### Imports"
      ]
    },
    {
      "cell_type": "code",
      "metadata": {
        "id": "BegvwFscn6vN"
      },
      "source": [
        "import numpy as np\n",
        "import torch\n",
        "import matplotlib.pyplot as plt\n",
        "from matplotlib import colors\n",
        "plt.rcParams.update({'font.size': 16})"
      ],
      "execution_count": null,
      "outputs": []
    },
    {
      "cell_type": "code",
      "metadata": {
        "id": "9YjjSfiTn6vO",
        "outputId": "3b9feb27-00ed-4410-947a-1c2a1ee7c048"
      },
      "source": [
        "x = torch.rand(20, 5)\n",
        "x\n",
        "((x.norm(dim=1) - 1).abs() < 1e-10).float()"
      ],
      "execution_count": null,
      "outputs": [
        {
          "output_type": "execute_result",
          "data": {
            "text/plain": [
              "tensor([0., 0., 0., 0., 0., 0., 0., 0., 0., 0., 0., 0., 0., 0., 0., 0., 0., 0., 0., 0.])"
            ]
          },
          "metadata": {
            "tags": []
          },
          "execution_count": 14
        }
      ]
    },
    {
      "cell_type": "markdown",
      "metadata": {
        "id": "xn9qf6fRn6vP"
      },
      "source": [
        "## Datasets"
      ]
    },
    {
      "cell_type": "markdown",
      "metadata": {
        "id": "n4ZbbsPcn6vP"
      },
      "source": [
        "### A raw dataset"
      ]
    },
    {
      "cell_type": "markdown",
      "metadata": {
        "id": "EX01HFXIn6vQ"
      },
      "source": [
        "The data are obtained from the model \n",
        "$$\n",
        "x \\mapsto y:=Ax + b\n",
        "$$\n",
        "with $x\\in\\mathbb R^{input\\_dim}$ and $y\\in\\mathbb R^{output\\_dim}$."
      ]
    },
    {
      "cell_type": "code",
      "metadata": {
        "id": "TlfKeIapn6vQ"
      },
      "source": [
        "input_dim = 1\n",
        "output_dim = 1\n",
        "\n",
        "A = 2 * np.random.rand(output_dim, input_dim) - 1\n",
        "b = 2 * np.random.rand(output_dim) - 1\n",
        "\n",
        "true_model = lambda x: A @ x + b"
      ],
      "execution_count": null,
      "outputs": []
    },
    {
      "cell_type": "markdown",
      "metadata": {
        "id": "YJqMvF1Hn6vQ"
      },
      "source": [
        "We get a training set by randomly sampling and noisy observations\n",
        "\\begin{align*}\n",
        "&x_i \\sim U([-1, 1])\\\\\n",
        "&y_i = A x_i + b + \\nu_i\n",
        "\\end{align*}"
      ]
    },
    {
      "cell_type": "code",
      "metadata": {
        "id": "_YzGRTG4n6vR"
      },
      "source": [
        "n_train = 1000\n",
        "noise_level = 0.04\n",
        "\n",
        "# Generate a random set of n_train samples\n",
        "X_train = np.random.rand(n_train, input_dim)\n",
        "y_train = np.array([true_model(x) for x in X_train])\n",
        "\n",
        "# Add some noise\n",
        "y_train += noise_level * np.random.standard_normal(size=y_train.shape)"
      ],
      "execution_count": null,
      "outputs": []
    },
    {
      "cell_type": "code",
      "metadata": {
        "id": "SO4VlpAmn6vR",
        "outputId": "19c4209f-8a93-478e-a5fb-7ac769317827"
      },
      "source": [
        "if input_dim == output_dim == 1:\n",
        "    fig = plt.figure()\n",
        "    fig.clf()\n",
        "    ax = fig.gca()\n",
        "    ax.plot(X_train, y_train, '.')\n",
        "    ax.grid(True)\n",
        "    ax.set_xlabel('X_train')\n",
        "    ax.set_ylabel('y_train')"
      ],
      "execution_count": null,
      "outputs": [
        {
          "output_type": "display_data",
          "data": {
            "image/png": "[encoded data removed]",
            "text/plain": [
              "<Figure size 432x288 with 1 Axes>"
            ]
          },
          "metadata": {
            "tags": [],
            "needs_background": "light"
          }
        }
      ]
    },
    {
      "cell_type": "markdown",
      "metadata": {
        "id": "V4vvyByBn6vR"
      },
      "source": [
        "### PyTorch `Dataset`"
      ]
    },
    {
      "cell_type": "code",
      "metadata": {
        "id": "EC06K5RNn6vS"
      },
      "source": [
        "from utils import VectorialDataset\n",
        "training_set = VectorialDataset(input_data=X_train, output_data=y_train)"
      ],
      "execution_count": null,
      "outputs": []
    },
    {
      "cell_type": "code",
      "metadata": {
        "id": "hcpyh33yn6vS",
        "outputId": "0d41f157-937f-40f3-9e53-d82cce012e1e"
      },
      "source": [
        "len(training_set)"
      ],
      "execution_count": null,
      "outputs": [
        {
          "output_type": "execute_result",
          "data": {
            "text/plain": [
              "1000"
            ]
          },
          "metadata": {
            "tags": []
          },
          "execution_count": 6
        }
      ]
    },
    {
      "cell_type": "code",
      "metadata": {
        "id": "hj61gOyUn6vT",
        "outputId": "1bb446d4-ce20-4e87-c201-d22b0a230cf2"
      },
      "source": [
        "training_set[10:12]"
      ],
      "execution_count": null,
      "outputs": [
        {
          "output_type": "execute_result",
          "data": {
            "text/plain": [
              "(tensor([[0.1640],\n",
              "         [0.5392]]),\n",
              " tensor([[-0.1829],\n",
              "         [-0.5020]]))"
            ]
          },
          "metadata": {
            "tags": []
          },
          "execution_count": 7
        }
      ]
    },
    {
      "cell_type": "markdown",
      "metadata": {
        "id": "5koT9wN3n6vT"
      },
      "source": [
        "Here almost useless, but think about e.g. images."
      ]
    },
    {
      "cell_type": "markdown",
      "metadata": {
        "id": "U4Q0uhGkn6vT"
      },
      "source": [
        "### PyTorch `DataLoader`"
      ]
    },
    {
      "cell_type": "code",
      "metadata": {
        "id": "nnaK3f7In6vT"
      },
      "source": [
        "batch_size = 120\n",
        "train_loader = torch.utils.data.DataLoader(training_set, \n",
        "                                           batch_size=batch_size, \n",
        "                                           shuffle=True)"
      ],
      "execution_count": null,
      "outputs": []
    },
    {
      "cell_type": "markdown",
      "metadata": {
        "id": "8YaP9YyHn6vU"
      },
      "source": [
        "The role of `batch_size`:"
      ]
    },
    {
      "cell_type": "code",
      "metadata": {
        "id": "t4FpBFm1n6vU",
        "outputId": "4a13af01-740f-4f64-af78-8eebd6cdd39c"
      },
      "source": [
        "for idx, batch in enumerate(train_loader):\n",
        "    print('Batch n. %2d: input size=%s, output size=%s' % (idx+1, batch[0].shape, batch[1].shape))"
      ],
      "execution_count": null,
      "outputs": [
        {
          "output_type": "stream",
          "text": [
            "Batch n.  1: input size=torch.Size([120, 1]), output size=torch.Size([120, 1])\n",
            "Batch n.  2: input size=torch.Size([120, 1]), output size=torch.Size([120, 1])\n",
            "Batch n.  3: input size=torch.Size([120, 1]), output size=torch.Size([120, 1])\n",
            "Batch n.  4: input size=torch.Size([120, 1]), output size=torch.Size([120, 1])\n",
            "Batch n.  5: input size=torch.Size([120, 1]), output size=torch.Size([120, 1])\n",
            "Batch n.  6: input size=torch.Size([120, 1]), output size=torch.Size([120, 1])\n",
            "Batch n.  7: input size=torch.Size([120, 1]), output size=torch.Size([120, 1])\n",
            "Batch n.  8: input size=torch.Size([120, 1]), output size=torch.Size([120, 1])\n",
            "Batch n.  9: input size=torch.Size([40, 1]), output size=torch.Size([40, 1])\n"
          ],
          "name": "stdout"
        }
      ]
    },
    {
      "cell_type": "code",
      "metadata": {
        "id": "U2lUxSlYn6vV",
        "outputId": "10e97201-5362-4b6f-b110-a69ea3f6a789"
      },
      "source": [
        "8 * 120"
      ],
      "execution_count": null,
      "outputs": [
        {
          "output_type": "execute_result",
          "data": {
            "text/plain": [
              "960"
            ]
          },
          "metadata": {
            "tags": []
          },
          "execution_count": 10
        }
      ]
    },
    {
      "cell_type": "markdown",
      "metadata": {
        "id": "zYi_H9R2n6vV"
      },
      "source": [
        "The role of `shuffle`:"
      ]
    },
    {
      "cell_type": "code",
      "metadata": {
        "id": "rTkksBXFn6vV",
        "outputId": "4a81a0ec-1b45-4791-8773-61adbc6c7ba6"
      },
      "source": [
        "first_batch = []\n",
        "\n",
        "for epoch in range(2):\n",
        "    for idx, batch in enumerate(train_loader):\n",
        "        if idx == 0:\n",
        "            first_batch.append(batch)\n",
        "        \n",
        "np.c_[X_train[:batch_size], first_batch[0][0].numpy(), first_batch[1][0].numpy()]"
      ],
      "execution_count": null,
      "outputs": [
        {
          "output_type": "execute_result",
          "data": {
            "text/plain": [
              "array([[6.69411405e-01, 4.00480479e-01, 8.10426295e-01],\n",
              "       [3.29530030e-01, 5.56968451e-01, 3.80387425e-01],\n",
              "       [2.47591423e-01, 1.40802249e-01, 2.44041115e-01],\n",
              "       [4.91205295e-01, 3.91590953e-01, 1.88954145e-01],\n",
              "       [1.31852058e-01, 5.42105436e-01, 1.29436210e-01],\n",
              "       [4.60988370e-01, 6.16206944e-01, 1.00356318e-01],\n",
              "       [8.77714098e-01, 9.00639415e-01, 7.22304881e-01],\n",
              "       [3.03420647e-01, 5.75939655e-01, 1.49090797e-01],\n",
              "       [2.23383596e-01, 9.37779322e-02, 5.94454587e-01],\n",
              "       [6.37698525e-01, 3.66175711e-01, 3.01530719e-01],\n",
              "       [1.64030707e-01, 7.39635110e-01, 4.36680228e-01],\n",
              "       [5.39156667e-01, 6.88024998e-01, 2.63070375e-01],\n",
              "       [5.59023699e-02, 4.36680228e-01, 8.87980819e-01],\n",
              "       [4.25717525e-01, 5.06055951e-01, 2.51389802e-01],\n",
              "       [5.79729847e-01, 9.14307714e-01, 6.81149125e-01],\n",
              "       [3.82888752e-02, 1.80760071e-01, 6.94241762e-01],\n",
              "       [9.94862227e-01, 4.01813775e-01, 2.42134944e-01],\n",
              "       [9.60487005e-01, 3.99649829e-01, 4.07040924e-01],\n",
              "       [1.29436206e-01, 3.14749897e-01, 9.53912854e-01],\n",
              "       [2.27343697e-01, 3.31039429e-01, 3.99167269e-01],\n",
              "       [2.27077229e-02, 2.70676434e-01, 3.10902208e-01],\n",
              "       [8.97273862e-01, 3.97690982e-01, 2.45151341e-01],\n",
              "       [2.00478073e-01, 5.05474031e-01, 3.47708672e-01],\n",
              "       [4.05685071e-01, 9.16803896e-01, 9.28728059e-02],\n",
              "       [1.62035528e-01, 9.94862199e-01, 4.05685067e-01],\n",
              "       [6.79117856e-01, 7.85600364e-01, 9.11106527e-01],\n",
              "       [4.38407288e-01, 6.47453070e-01, 2.16975823e-01],\n",
              "       [7.93122108e-01, 8.22849691e-01, 4.58610296e-01],\n",
              "       [8.63918264e-01, 7.27855802e-01, 4.45396334e-01],\n",
              "       [7.09286039e-02, 4.33844060e-01, 5.77014327e-01],\n",
              "       [4.23782386e-01, 6.75117433e-01, 8.24913383e-01],\n",
              "       [9.28728089e-02, 6.37553155e-01, 2.00478077e-01],\n",
              "       [4.13238338e-01, 9.46680069e-01, 7.09286034e-02],\n",
              "       [8.61597010e-01, 3.36428404e-01, 2.23296165e-01],\n",
              "       [6.87868981e-01, 6.81149125e-01, 5.43051213e-02],\n",
              "       [3.39271996e-02, 3.25083248e-02, 7.89009154e-01],\n",
              "       [2.71302114e-01, 9.66515481e-01, 9.55501914e-01],\n",
              "       [1.95213717e-01, 8.11477482e-01, 3.07473451e-01],\n",
              "       [9.31077840e-01, 4.66096908e-01, 4.93235558e-01],\n",
              "       [9.71378956e-01, 2.14888677e-01, 1.96266502e-01],\n",
              "       [9.11547186e-01, 8.57882082e-01, 1.19324312e-01],\n",
              "       [9.00425208e-02, 9.55501914e-01, 3.14442009e-01],\n",
              "       [9.56638139e-01, 6.80718541e-01, 1.58087075e-01],\n",
              "       [3.61377944e-01, 6.72934830e-01, 1.52153984e-01],\n",
              "       [5.17152864e-01, 6.71165660e-02, 3.20345342e-01],\n",
              "       [1.70793254e-01, 3.99252087e-01, 1.94158480e-01],\n",
              "       [8.87980791e-01, 6.10551536e-01, 9.65922654e-01],\n",
              "       [4.55602455e-01, 6.01820946e-01, 5.52841902e-01],\n",
              "       [7.53121514e-01, 9.11106527e-01, 2.42823511e-01],\n",
              "       [9.54548046e-01, 6.99273407e-01, 2.18628291e-02],\n",
              "       [5.75939631e-01, 6.95795059e-01, 4.19741988e-01],\n",
              "       [1.96266496e-01, 8.45227480e-01, 6.46153986e-01],\n",
              "       [3.83633346e-01, 1.76578909e-01, 8.51318538e-01],\n",
              "       [6.88024981e-01, 7.74007320e-01, 9.38427567e-01],\n",
              "       [3.70766633e-01, 2.08492488e-01, 9.01957810e-01],\n",
              "       [7.11467922e-02, 6.80641413e-01, 1.44394293e-01],\n",
              "       [2.42134940e-01, 1.72193021e-01, 9.07124281e-01],\n",
              "       [1.31541125e-01, 2.96776146e-01, 2.70676434e-01],\n",
              "       [4.06001853e-01, 4.62921500e-01, 9.78850573e-02],\n",
              "       [5.52646973e-01, 2.52525568e-01, 4.71259952e-02],\n",
              "       [8.70956472e-01, 9.96727884e-01, 1.60843268e-01],\n",
              "       [4.81144896e-04, 1.74341127e-01, 6.10551536e-01],\n",
              "       [6.36432936e-01, 7.28130817e-01, 3.97690982e-01],\n",
              "       [1.28252472e-01, 2.02355459e-01, 4.08189327e-01],\n",
              "       [3.67351598e-01, 5.55824161e-01, 8.25685978e-01],\n",
              "       [2.41551942e-01, 5.22732794e-01, 5.54824471e-01],\n",
              "       [3.77395928e-01, 2.27343693e-01, 7.35089064e-01],\n",
              "       [8.12809322e-01, 1.95213720e-01, 8.04300785e-01],\n",
              "       [4.85050412e-01, 7.67052114e-01, 8.15592289e-01],\n",
              "       [9.42720352e-01, 3.96209836e-01, 2.58291602e-01],\n",
              "       [3.20345347e-01, 3.70766640e-01, 4.90304440e-01],\n",
              "       [1.54878128e-01, 2.31800556e-01, 6.46267831e-01],\n",
              "       [2.42267078e-01, 5.08911371e-01, 8.69962513e-01],\n",
              "       [4.94902462e-01, 7.74517894e-01, 5.17152846e-01],\n",
              "       [4.08189325e-01, 9.65922654e-01, 7.06594229e-01],\n",
              "       [6.80718522e-01, 1.52393281e-01, 3.95752490e-01],\n",
              "       [5.87683948e-01, 1.12517271e-02, 9.52611983e-01],\n",
              "       [4.88634954e-01, 5.08489668e-01, 5.55564880e-01],\n",
              "       [9.14900368e-03, 4.36751515e-01, 4.89913583e-01],\n",
              "       [4.65971150e-01, 8.50946963e-01, 1.94319397e-01],\n",
              "       [7.85816193e-01, 3.58149260e-01, 9.11547184e-01],\n",
              "       [6.73470229e-01, 5.29480457e-01, 4.49749947e-01],\n",
              "       [3.03836482e-01, 9.54351008e-01, 7.85979986e-01],\n",
              "       [6.53602023e-01, 7.30184019e-01, 2.20310807e-01],\n",
              "       [3.82078872e-01, 2.21856296e-01, 3.31155807e-01],\n",
              "       [8.42803052e-01, 9.23417389e-01, 8.28334510e-01],\n",
              "       [6.94241747e-01, 5.63463986e-01, 9.23834145e-01],\n",
              "       [1.88954143e-01, 2.88483333e-02, 4.07018244e-01],\n",
              "       [2.07121612e-01, 2.45151341e-01, 3.61377954e-01],\n",
              "       [3.61080666e-01, 8.28219771e-01, 4.63440537e-01],\n",
              "       [3.08155691e-01, 7.87495852e-01, 3.67310345e-01],\n",
              "       [2.28857272e-01, 7.75592506e-01, 8.56404722e-01],\n",
              "       [8.50946984e-01, 2.20310807e-01, 3.75088662e-01],\n",
              "       [9.77431419e-02, 4.21602190e-01, 7.26347923e-01],\n",
              "       [7.67052107e-01, 7.75117278e-01, 3.45172882e-01],\n",
              "       [4.30924520e-01, 5.88323548e-02, 5.42870490e-03],\n",
              "       [1.49279927e-01, 8.00879717e-01, 5.56968451e-01],\n",
              "       [5.27385019e-02, 7.29867101e-01, 8.84478688e-01],\n",
              "       [6.15388450e-02, 1.89343780e-01, 3.38776141e-01],\n",
              "       [3.48503317e-01, 4.94902462e-01, 8.99744987e-01],\n",
              "       [6.35666416e-01, 1.07564494e-01, 2.88794309e-01],\n",
              "       [5.22732775e-01, 2.24237934e-01, 2.53576338e-01],\n",
              "       [5.42078182e-01, 6.44157827e-01, 1.08579613e-01],\n",
              "       [5.87701166e-01, 3.96601230e-01, 9.31077838e-01],\n",
              "       [5.90079478e-01, 9.15153801e-01, 2.33132944e-01],\n",
              "       [4.06704494e-01, 8.28334510e-01, 6.03253484e-01],\n",
              "       [4.69967511e-01, 7.64708102e-01, 5.55432677e-01],\n",
              "       [1.61783438e-02, 9.33390975e-01, 6.84393942e-01],\n",
              "       [3.96649806e-01, 5.52646995e-01, 2.70929784e-01],\n",
              "       [1.81919156e-01, 7.50522733e-01, 1.64588168e-01],\n",
              "       [4.26194412e-01, 7.61050820e-01, 6.23844445e-01],\n",
              "       [3.14749887e-01, 6.73470259e-01, 5.42322814e-01],\n",
              "       [5.49752808e-02, 9.79971647e-01, 3.20047915e-01],\n",
              "       [8.26111878e-01, 1.34388745e-01, 7.44233251e-01],\n",
              "       [3.86807979e-01, 9.05345738e-01, 8.84863287e-02],\n",
              "       [9.33771058e-01, 9.53912854e-01, 4.89908725e-01],\n",
              "       [6.79667096e-01, 5.82992494e-01, 3.51980925e-01],\n",
              "       [2.18771144e-01, 3.85570079e-01, 3.21207404e-01],\n",
              "       [8.72292270e-01, 7.70615220e-01, 8.53531539e-01],\n",
              "       [6.81149096e-01, 4.54912215e-01, 9.63727653e-01]])"
            ]
          },
          "metadata": {
            "tags": []
          },
          "execution_count": 11
        }
      ]
    },
    {
      "cell_type": "markdown",
      "metadata": {
        "id": "7PtRIaMhn6vW"
      },
      "source": [
        "## Models"
      ]
    },
    {
      "cell_type": "markdown",
      "metadata": {
        "id": "mCqx59KEn6vW"
      },
      "source": [
        "We implement a linear model $$x \\mapsto model(x):=A x + b$$ \n",
        "\n",
        "with $A\\in \\mathbb{R}^{input\\_dim\\times output\\_dim}$, $b\\in\\mathbb{R}^{output\\_dim}$."
      ]
    },
    {
      "cell_type": "code",
      "metadata": {
        "id": "737YC_0gn6vW"
      },
      "source": [
        "from utils import LinearModel\n",
        "model = LinearModel(input_dim, output_dim)"
      ],
      "execution_count": null,
      "outputs": []
    },
    {
      "cell_type": "markdown",
      "metadata": {
        "id": "B_EQWoMGn6vW"
      },
      "source": [
        "### Model inspection"
      ]
    },
    {
      "cell_type": "code",
      "metadata": {
        "id": "PMPtdFmun6vX",
        "outputId": "ecd36fc3-eba2-4293-d7a5-a0bcc730bc21"
      },
      "source": [
        "print(model)"
      ],
      "execution_count": null,
      "outputs": [
        {
          "output_type": "stream",
          "text": [
            "LinearModel(\n",
            "  (linear): Linear(in_features=1, out_features=1, bias=True)\n",
            ")\n"
          ],
          "name": "stdout"
        }
      ]
    },
    {
      "cell_type": "markdown",
      "metadata": {
        "id": "ANSMcTten6vX"
      },
      "source": [
        "See [pytorch.org/docs/stable/nn.html](https://pytorch.org/docs/stable/nn.html) for many other layers."
      ]
    },
    {
      "cell_type": "code",
      "metadata": {
        "id": "qlblaQsun6vX",
        "outputId": "00fde459-b99b-4c80-b67d-1843a3b72a5d"
      },
      "source": [
        "list(model.parameters())"
      ],
      "execution_count": null,
      "outputs": [
        {
          "output_type": "execute_result",
          "data": {
            "text/plain": [
              "[Parameter containing:\n",
              " tensor([[-0.8143]], requires_grad=True),\n",
              " Parameter containing:\n",
              " tensor([-0.1842], requires_grad=True)]"
            ]
          },
          "metadata": {
            "tags": []
          },
          "execution_count": 14
        }
      ]
    },
    {
      "cell_type": "code",
      "metadata": {
        "id": "-baBr3g4n6vY",
        "outputId": "290d30bd-696b-4f35-b1d3-28c5c436e516"
      },
      "source": [
        "model.linear.weight"
      ],
      "execution_count": null,
      "outputs": [
        {
          "output_type": "execute_result",
          "data": {
            "text/plain": [
              "Parameter containing:\n",
              "tensor([[-0.8143]], requires_grad=True)"
            ]
          },
          "metadata": {
            "tags": []
          },
          "execution_count": 15
        }
      ]
    },
    {
      "cell_type": "code",
      "metadata": {
        "id": "YZ0JvfiUn6vY",
        "outputId": "02d27c15-b7a8-4d47-c4c1-c98f9d6b3672"
      },
      "source": [
        "model.linear.bias"
      ],
      "execution_count": null,
      "outputs": [
        {
          "output_type": "execute_result",
          "data": {
            "text/plain": [
              "Parameter containing:\n",
              "tensor([-0.1842], requires_grad=True)"
            ]
          },
          "metadata": {
            "tags": []
          },
          "execution_count": 16
        }
      ]
    },
    {
      "cell_type": "markdown",
      "metadata": {
        "id": "LYh0dXcln6vY"
      },
      "source": [
        "### The `forward` method"
      ]
    },
    {
      "cell_type": "code",
      "metadata": {
        "id": "YAQnWaIGn6vZ",
        "outputId": "7635af6d-39e3-41ed-db98-76a734bbe4af"
      },
      "source": [
        "x = torch.randn(5, input_dim)\n",
        "model.forward(x)"
      ],
      "execution_count": null,
      "outputs": [
        {
          "output_type": "execute_result",
          "data": {
            "text/plain": [
              "tensor([[-0.2466],\n",
              "        [ 0.9309],\n",
              "        [-0.1456],\n",
              "        [-0.4986],\n",
              "        [-1.0125]], grad_fn=<AddmmBackward>)"
            ]
          },
          "metadata": {
            "tags": []
          },
          "execution_count": 17
        }
      ]
    },
    {
      "cell_type": "code",
      "metadata": {
        "id": "BWFh8iuXn6vZ",
        "outputId": "8367abfd-391c-4fef-e0a9-8f7a664fdb15"
      },
      "source": [
        "[model.linear.weight @ xx + model.linear.bias for xx in x]"
      ],
      "execution_count": null,
      "outputs": [
        {
          "output_type": "execute_result",
          "data": {
            "text/plain": [
              "[tensor([-0.2466], grad_fn=<AddBackward0>),\n",
              " tensor([0.9309], grad_fn=<AddBackward0>),\n",
              " tensor([-0.1456], grad_fn=<AddBackward0>),\n",
              " tensor([-0.4986], grad_fn=<AddBackward0>),\n",
              " tensor([-1.0125], grad_fn=<AddBackward0>)]"
            ]
          },
          "metadata": {
            "tags": []
          },
          "execution_count": 18
        }
      ]
    },
    {
      "cell_type": "code",
      "metadata": {
        "id": "D7iGHFcFn6vZ",
        "outputId": "03841b3d-9846-4b4c-97bc-6e8e07756e5d"
      },
      "source": [
        "if input_dim == output_dim == 1:\n",
        "    fig = plt.figure()\n",
        "    fig.clf()\n",
        "    ax = fig.gca()\n",
        "    ax.plot(training_set.input_data, training_set.output_data, '.')\n",
        "    ax.plot(training_set.input_data, model.forward(training_set.input_data).detach().numpy(), '.')\n",
        "    ax.grid(True)\n",
        "    ax.set_xlabel('X_train')\n",
        "    ax.legend(['y_train', 'model(X_train)'])    "
      ],
      "execution_count": null,
      "outputs": [
        {
          "output_type": "display_data",
          "data": {
            "image/png": "[encoded data removed]",
            "text/plain": [
              "<Figure size 432x288 with 1 Axes>"
            ]
          },
          "metadata": {
            "tags": [],
            "needs_background": "light"
          }
        }
      ]
    },
    {
      "cell_type": "markdown",
      "metadata": {
        "id": "BJNVxPlJn6va"
      },
      "source": [
        "## Losses"
      ]
    },
    {
      "cell_type": "markdown",
      "metadata": {
        "id": "y7Ch4ad1n6va"
      },
      "source": [
        "### The MSE loss"
      ]
    },
    {
      "cell_type": "markdown",
      "metadata": {
        "id": "Sxd3ZLgsn6va"
      },
      "source": [
        "The MSE loss is\n",
        "$$\n",
        "L(y, y') = \\|y-y'\\|_2^2\n",
        "$$"
      ]
    },
    {
      "cell_type": "code",
      "metadata": {
        "id": "y-owJsh5n6va"
      },
      "source": [
        "import torch.nn as nn\n",
        "loss_fun = nn.MSELoss(reduction='mean')"
      ],
      "execution_count": null,
      "outputs": []
    },
    {
      "cell_type": "markdown",
      "metadata": {
        "id": "HHf_vdm8n6vb"
      },
      "source": [
        "More at [pytorch.org/docs/stable/nn.html#loss-functions](https://pytorch.org/docs/stable/nn.html#loss-functions)"
      ]
    },
    {
      "cell_type": "code",
      "metadata": {
        "id": "5N_y9Q5hn6vb",
        "outputId": "9561ca94-a893-4258-a602-616bd651c2ce"
      },
      "source": [
        "x = torch.tensor(np.array([1, 2, 1]).astype('f'))\n",
        "z = torch.tensor(np.array([0, 0, 0]).astype('f'))\n",
        "loss_fun(x, z)"
      ],
      "execution_count": null,
      "outputs": [
        {
          "output_type": "execute_result",
          "data": {
            "text/plain": [
              "tensor(2.)"
            ]
          },
          "metadata": {
            "tags": []
          },
          "execution_count": 21
        }
      ]
    },
    {
      "cell_type": "markdown",
      "metadata": {
        "id": "Dlpr6JzCn6vb"
      },
      "source": [
        "### Giving a score to the model (parameters) given the training set"
      ]
    },
    {
      "cell_type": "markdown",
      "metadata": {
        "id": "u8_hbEWwn6vc"
      },
      "source": [
        "The loss for one data pair $(x_i, y_i)$ is \n",
        "$$\n",
        "L(model(x_i), y_i)\n",
        "$$\n",
        "\n",
        "The cumulative (average) loss on the training set is \n",
        "$$\n",
        "L(X_{train}, y_{train}):=\\frac{1}{n_{train}} \\sum_{i=1}^{n_{train}} L(model(x_i), y_i)\n",
        "$$"
      ]
    },
    {
      "cell_type": "code",
      "metadata": {
        "id": "6bY9-bSmn6vc",
        "outputId": "9a283425-2cf8-4ede-d43f-857e8bf06bf3"
      },
      "source": [
        "if input_dim == output_dim == 1:\n",
        "\n",
        "    state_dict = model.state_dict()\n",
        "\n",
        "    ww, bb = np.meshgrid(np.linspace(-2, 2, 30), np.linspace(-2, 2, 30))\n",
        "\n",
        "    loss_values = 0 * ww\n",
        "    for i in range(ww.shape[0]):\n",
        "        for j in range(ww.shape[1]):\n",
        "            state_dict['linear.weight'] = torch.tensor([[ww[i, j]]])\n",
        "            state_dict['linear.bias'] = torch.tensor([bb[i, j]])\n",
        "            model.load_state_dict(state_dict)\n",
        "            loss_values[i, j] = loss_fun(model.forward(training_set.input_data),  training_set.output_data)\n",
        "\n",
        "    fig = plt.figure(figsize=(10, 8))\n",
        "    fig.clf()\n",
        "    ax = fig.gca()\n",
        "    levels = np.logspace(np.log(np.min(loss_values)), np.log(np.max(loss_values)), 20)\n",
        "    c=ax.contourf(ww, bb, loss_values, levels=levels, norm=colors.LogNorm())\n",
        "    plt.colorbar(c)\n",
        "    ax.plot(A[0], b, 'r*', markersize=10)\n",
        "    ax.set_ylabel('bias')\n",
        "    ax.set_xlabel('weight')\n",
        "    ax.legend(['(A, b)'])\n",
        "    \n",
        "    ax.grid(True)    "
      ],
      "execution_count": null,
      "outputs": [
        {
          "output_type": "display_data",
          "data": {
            "image/png": "[encoded data removed]",
            "text/plain": [
              "<Figure size 720x576 with 2 Axes>"
            ]
          },
          "metadata": {
            "tags": [],
            "needs_background": "light"
          }
        }
      ]
    },
    {
      "cell_type": "markdown",
      "metadata": {
        "id": "umrj_LZ2n6vd"
      },
      "source": [
        "## Optimization"
      ]
    },
    {
      "cell_type": "markdown",
      "metadata": {
        "id": "oMsNhgjzn6vd"
      },
      "source": [
        "Goal: minimize the loss given the data:\n",
        "$$\n",
        "\\min\\limits_{par \\in model} L(X_{train}, y_{train})\n",
        "=\\min\\limits_{par \\in model} \\frac{1}{n_{train}} \\sum_{i=1}^{n_{train}} L(x_i, model(x_i))\n",
        "$$\n",
        "\n",
        "In this case $par =\\{A, b\\}$."
      ]
    },
    {
      "cell_type": "markdown",
      "metadata": {
        "id": "1cSNeZson6vd"
      },
      "source": [
        "Iterative gradient based optimization:\n",
        "\\begin{align*}\n",
        "par^{(0)} &= par_0\\\\\n",
        "par^{(k+1)} &=  par^{(k)} - \\eta^{(k)} \\nabla_{par} L(X_{train}, y_{train})\n",
        "\\end{align*}    \n",
        "with learning rate $\\eta^{(k)}$."
      ]
    },
    {
      "cell_type": "markdown",
      "metadata": {
        "id": "FwREYkV6n6ve"
      },
      "source": [
        "### Gradients"
      ]
    },
    {
      "cell_type": "markdown",
      "metadata": {
        "id": "gDcNkYKMn6ve"
      },
      "source": [
        "The model is \n",
        "$$\n",
        "model(x) = A x + b\n",
        "$$\n",
        "\n",
        "With $input\\_dim = output\\_dim = 1$ we have $A:=a\\in\\mathbb{R},\\ b\\in\\mathbb{R}$. \n",
        "\n",
        "For a data pair $(x, y)$ the loss is\n",
        "\\begin{align*}\n",
        "L(x, y) \n",
        "&= \\|model(x)-y\\|_2^2\\\\ \n",
        "&= (model(x)-y)^2\\\\\n",
        "&= (a x + b - y)^2\\\\\n",
        "&= a^2 x^2 + 2 a b x - 2 a xy + b^2 -2 b y + y^2.\n",
        "\\end{align*}\n",
        "\n",
        "We can compute\n",
        "\\begin{align*}\n",
        "\\nabla_a L(x, y) \n",
        "&= 2 a x^2 + 2 b x - 2 xy\n",
        "=2 x (a x + b - y)\\\\\n",
        "\\nabla_b L(x, y)\n",
        "&= 2 a x + 2 b - 2 y\n",
        "= 2 (ax + b - y).\n",
        "\\end{align*}\n"
      ]
    },
    {
      "cell_type": "code",
      "metadata": {
        "id": "PATvZEs6n6ve"
      },
      "source": [
        "x = torch.randn(1, input_dim)\n",
        "y =  torch.randn(1, output_dim)\n",
        "\n",
        "model.zero_grad()\n",
        "loss = loss_fun(model.forward(x),  y)\n",
        "loss.backward()"
      ],
      "execution_count": null,
      "outputs": []
    },
    {
      "cell_type": "code",
      "metadata": {
        "id": "vnz03aZ4n6vf",
        "outputId": "f5d2af4a-a800-454b-b259-a1382b461079"
      },
      "source": [
        "if input_dim == output_dim == 1:\n",
        "    print(model.linear.weight.grad)\n",
        "    print(2 * x * (model.linear.weight * x + model.linear.bias - y))\n",
        "    \n",
        "    print(model.linear.bias.grad)\n",
        "    print(2 * (model.linear.weight * x + model.linear.bias - y))"
      ],
      "execution_count": null,
      "outputs": [
        {
          "output_type": "stream",
          "text": [
            "tensor([[2.7173]])\n",
            "tensor([[2.7173]], grad_fn=<MulBackward0>)\n",
            "tensor([-1.6603])\n",
            "tensor([[-1.6603]], grad_fn=<MulBackward0>)\n"
          ],
          "name": "stdout"
        }
      ]
    },
    {
      "cell_type": "markdown",
      "metadata": {
        "id": "uhsXeij4n6vf"
      },
      "source": [
        "### Handmade optimization"
      ]
    },
    {
      "cell_type": "code",
      "metadata": {
        "id": "DTC_NhyBn6vf"
      },
      "source": [
        "if input_dim == output_dim == 1:\n",
        "\n",
        "    num_iter = 200\n",
        "    lr = 0.5 # 0.01\n",
        "\n",
        "    train_hist = {}\n",
        "    train_hist['weight'] = []\n",
        "    train_hist['bias'] = []\n",
        "\n",
        "    model.reset()\n",
        "    state_dict = model.state_dict()\n",
        "\n",
        "    for _ in range(num_iter):\n",
        "\n",
        "        model.zero_grad()\n",
        "        loss = loss_fun(model.forward(training_set.input_data), training_set.output_data)\n",
        "        loss.backward()\n",
        "\n",
        "        w = model.linear.weight.item()\n",
        "        b = model.linear.bias.item()\n",
        "\n",
        "        dw = model.linear.weight.grad.item()\n",
        "        db = model.linear.bias.grad.item()\n",
        "\n",
        "        state_dict['linear.weight'] += torch.tensor([-lr * dw])\n",
        "        state_dict['linear.bias'] += torch.tensor([-lr * db])\n",
        "        model.load_state_dict(state_dict)\n",
        "\n",
        "        train_hist['weight'].append(w)\n",
        "        train_hist['bias'].append(b)\n",
        "\n",
        "    for label in train_hist:\n",
        "        train_hist[label] = np.array(train_hist[label])"
      ],
      "execution_count": null,
      "outputs": []
    },
    {
      "cell_type": "code",
      "metadata": {
        "id": "65oAWIS9n6vg",
        "outputId": "0e2556b7-98f0-4d25-91df-a47260b0bc61"
      },
      "source": [
        "if input_dim == output_dim == 1:\n",
        "    fig = plt.figure(figsize=(8, 8))\n",
        "    fig.clf()\n",
        "    ax = fig.gca()\n",
        "    levels = np.logspace(np.log(np.min(loss_values)), np.log(np.max(loss_values)), 20)\n",
        "    ax.contourf(ww, bb, loss_values, levels=levels, norm=colors.LogNorm())\n",
        "    ax.set_xlabel('weight')\n",
        "    ax.set_ylabel('bias')\n",
        "    ax.grid(True)\n",
        "    ax.set_xlim(-2, 2) \n",
        "    ax.set_ylim(-2, 2) \n",
        "    \n",
        "    ax.plot(train_hist['weight'], train_hist['bias'], '.-b')\n",
        "    ax.plot(A[0], b, 'r*', markersize=10)\n",
        "\n",
        "    ax.legend(['optim', '(A, b)'])"
      ],
      "execution_count": null,
      "outputs": [
        {
          "output_type": "display_data",
          "data": {
            "image/png": "[encoded data removed]",
            "text/plain": [
              "<Figure size 576x576 with 1 Axes>"
            ]
          },
          "metadata": {
            "tags": [],
            "needs_background": "light"
          }
        }
      ]
    },
    {
      "cell_type": "markdown",
      "metadata": {
        "id": "UuYAMLPZn6vg"
      },
      "source": [
        "### Stochastic GD"
      ]
    },
    {
      "cell_type": "markdown",
      "metadata": {
        "id": "IaSk_hEfn6vg"
      },
      "source": [
        "* Avoid loading the full training set\n",
        "* Avoid evaluating the model on the full training set"
      ]
    },
    {
      "cell_type": "markdown",
      "metadata": {
        "id": "zXlhxPFRn6vh"
      },
      "source": [
        "At every step, compute the loss on a batch of data $(X^{(k)}, y^{(k)})\\sim (X_{train}, y_{train})$: \n",
        "\n",
        "\\begin{align*}\n",
        "L(X^{(k)}, y^{(k)}) := \\sum_{(x, y) \\in (X^{(k)}, y^{(k)})} L(x, model(x)).\n",
        "\\end{align*}    \n",
        "\n",
        "and then update with this approximated gradient:\n",
        "\\begin{align*}\n",
        "par^{(k+1)} &=  par^{(k)} - \\eta^{(k)} \\nabla_{par} L(X^{(k)}, y^{(k)}). \n",
        "\\end{align*}    "
      ]
    },
    {
      "cell_type": "markdown",
      "metadata": {
        "id": "uNWTF1xHn6vh"
      },
      "source": [
        "### PyTorch `optim`"
      ]
    },
    {
      "cell_type": "code",
      "metadata": {
        "id": "9T1yasOvn6vh"
      },
      "source": [
        "lr = 0.1\n",
        "weight_decay = 5e-4\n",
        "optimizer = torch.optim.Adam(model.parameters(), lr=lr, weight_decay=weight_decay)"
      ],
      "execution_count": null,
      "outputs": []
    },
    {
      "cell_type": "markdown",
      "metadata": {
        "id": "wSBh5SGnn6vh"
      },
      "source": [
        "More at [pytorch.org/docs/stable/optim.html](https://pytorch.org/docs/stable/optim.html)."
      ]
    },
    {
      "cell_type": "code",
      "metadata": {
        "id": "mJxvQeTCn6vi"
      },
      "source": [
        "n_epochs = 100"
      ],
      "execution_count": null,
      "outputs": []
    },
    {
      "cell_type": "code",
      "metadata": {
        "id": "yuMY2TAkn6vi",
        "outputId": "53831389-83a1-4453-9122-0e9e7325cb1c"
      },
      "source": [
        "train_hist = {}\n",
        "train_hist['loss'] = []\n",
        "\n",
        "if input_dim == output_dim == 1:\n",
        "    train_hist['weight'] = []\n",
        "    train_hist['bias'] = []\n",
        "\n",
        "# Initialize training\n",
        "model.reset()\n",
        "model.train()\n",
        "\n",
        "for epoch in range(n_epochs):\n",
        "    for idx, batch in enumerate(train_loader):\n",
        "        optimizer.zero_grad()\n",
        "        loss = loss_fun(model.forward(batch[0]),  batch[1])\n",
        "        loss.backward()\n",
        "        optimizer.step()\n",
        "\n",
        "        train_hist['loss'].append(loss.item())\n",
        "        if input_dim == output_dim == 1:\n",
        "            train_hist['weight'].append(model.linear.weight.item())\n",
        "            train_hist['bias'].append(model.linear.bias.item())\n",
        "        \n",
        "        print('[Epoch %4d/%4d] [Batch %4d/%4d] Loss: % 2.2e' % (epoch + 1, n_epochs, \n",
        "                                                                idx + 1, len(train_loader), \n",
        "                                                                loss.item()))\n",
        "        \n",
        "model.eval()"
      ],
      "execution_count": null,
      "outputs": [
        {
          "output_type": "stream",
          "text": [
            "[Epoch    1/ 100] [Batch    1/   9] Loss:  6.43e-01\n",
            "[Epoch    1/ 100] [Batch    2/   9] Loss:  4.28e-01\n",
            "[Epoch    1/ 100] [Batch    3/   9] Loss:  2.63e-01\n",
            "[Epoch    1/ 100] [Batch    4/   9] Loss:  1.34e-01\n",
            "[Epoch    1/ 100] [Batch    5/   9] Loss:  4.86e-02\n",
            "[Epoch    1/ 100] [Batch    6/   9] Loss:  1.49e-02\n",
            "[Epoch    1/ 100] [Batch    7/   9] Loss:  8.63e-03\n",
            "[Epoch    1/ 100] [Batch    8/   9] Loss:  2.77e-02\n",
            "[Epoch    1/ 100] [Batch    9/   9] Loss:  6.80e-02\n",
            "[Epoch    2/ 100] [Batch    1/   9] Loss:  7.90e-02\n",
            "[Epoch    2/ 100] [Batch    2/   9] Loss:  1.02e-01\n",
            "[Epoch    2/ 100] [Batch    3/   9] Loss:  1.02e-01\n",
            "[Epoch    2/ 100] [Batch    4/   9] Loss:  1.01e-01\n",
            "[Epoch    2/ 100] [Batch    5/   9] Loss:  8.37e-02\n",
            "[Epoch    2/ 100] [Batch    6/   9] Loss:  6.60e-02\n",
            "[Epoch    2/ 100] [Batch    7/   9] Loss:  4.42e-02\n",
            "[Epoch    2/ 100] [Batch    8/   9] Loss:  3.47e-02\n",
            "[Epoch    2/ 100] [Batch    9/   9] Loss:  1.73e-02\n",
            "[Epoch    3/ 100] [Batch    1/   9] Loss:  6.00e-03\n",
            "[Epoch    3/ 100] [Batch    2/   9] Loss:  3.97e-03\n",
            "[Epoch    3/ 100] [Batch    3/   9] Loss:  5.54e-03\n",
            "[Epoch    3/ 100] [Batch    4/   9] Loss:  1.06e-02\n",
            "[Epoch    3/ 100] [Batch    5/   9] Loss:  1.69e-02\n",
            "[Epoch    3/ 100] [Batch    6/   9] Loss:  2.51e-02\n",
            "[Epoch    3/ 100] [Batch    7/   9] Loss:  2.85e-02\n",
            "[Epoch    3/ 100] [Batch    8/   9] Loss:  2.82e-02\n",
            "[Epoch    3/ 100] [Batch    9/   9] Loss:  2.29e-02\n",
            "[Epoch    4/ 100] [Batch    1/   9] Loss:  2.21e-02\n",
            "[Epoch    4/ 100] [Batch    2/   9] Loss:  1.60e-02\n",
            "[Epoch    4/ 100] [Batch    3/   9] Loss:  1.08e-02\n",
            "[Epoch    4/ 100] [Batch    4/   9] Loss:  6.68e-03\n",
            "[Epoch    4/ 100] [Batch    5/   9] Loss:  4.14e-03\n",
            "[Epoch    4/ 100] [Batch    6/   9] Loss:  2.62e-03\n",
            "[Epoch    4/ 100] [Batch    7/   9] Loss:  2.32e-03\n",
            "[Epoch    4/ 100] [Batch    8/   9] Loss:  4.12e-03\n",
            "[Epoch    4/ 100] [Batch    9/   9] Loss:  3.63e-03\n",
            "[Epoch    5/ 100] [Batch    1/   9] Loss:  7.96e-03\n",
            "[Epoch    5/ 100] [Batch    2/   9] Loss:  8.92e-03\n",
            "[Epoch    5/ 100] [Batch    3/   9] Loss:  8.16e-03\n",
            "[Epoch    5/ 100] [Batch    4/   9] Loss:  8.93e-03\n",
            "[Epoch    5/ 100] [Batch    5/   9] Loss:  5.42e-03\n",
            "[Epoch    5/ 100] [Batch    6/   9] Loss:  5.20e-03\n",
            "[Epoch    5/ 100] [Batch    7/   9] Loss:  3.88e-03\n",
            "[Epoch    5/ 100] [Batch    8/   9] Loss:  2.19e-03\n",
            "[Epoch    5/ 100] [Batch    9/   9] Loss:  2.17e-03\n",
            "[Epoch    6/ 100] [Batch    1/   9] Loss:  2.14e-03\n",
            "[Epoch    6/ 100] [Batch    2/   9] Loss:  2.04e-03\n",
            "[Epoch    6/ 100] [Batch    3/   9] Loss:  2.43e-03\n",
            "[Epoch    6/ 100] [Batch    4/   9] Loss:  2.51e-03\n",
            "[Epoch    6/ 100] [Batch    5/   9] Loss:  4.03e-03\n",
            "[Epoch    6/ 100] [Batch    6/   9] Loss:  3.20e-03\n",
            "[Epoch    6/ 100] [Batch    7/   9] Loss:  3.71e-03\n",
            "[Epoch    6/ 100] [Batch    8/   9] Loss:  2.97e-03\n",
            "[Epoch    6/ 100] [Batch    9/   9] Loss:  2.18e-03\n",
            "[Epoch    7/ 100] [Batch    1/   9] Loss:  1.99e-03\n",
            "[Epoch    7/ 100] [Batch    2/   9] Loss:  1.53e-03\n",
            "[Epoch    7/ 100] [Batch    3/   9] Loss:  1.91e-03\n",
            "[Epoch    7/ 100] [Batch    4/   9] Loss:  1.58e-03\n",
            "[Epoch    7/ 100] [Batch    5/   9] Loss:  2.10e-03\n",
            "[Epoch    7/ 100] [Batch    6/   9] Loss:  1.76e-03\n",
            "[Epoch    7/ 100] [Batch    7/   9] Loss:  2.65e-03\n",
            "[Epoch    7/ 100] [Batch    8/   9] Loss:  2.05e-03\n",
            "[Epoch    7/ 100] [Batch    9/   9] Loss:  2.22e-03\n",
            "[Epoch    8/ 100] [Batch    1/   9] Loss:  2.14e-03\n",
            "[Epoch    8/ 100] [Batch    2/   9] Loss:  1.61e-03\n",
            "[Epoch    8/ 100] [Batch    3/   9] Loss:  1.86e-03\n",
            "[Epoch    8/ 100] [Batch    4/   9] Loss:  1.95e-03\n",
            "[Epoch    8/ 100] [Batch    5/   9] Loss:  1.88e-03\n",
            "[Epoch    8/ 100] [Batch    6/   9] Loss:  1.25e-03\n",
            "[Epoch    8/ 100] [Batch    7/   9] Loss:  2.21e-03\n",
            "[Epoch    8/ 100] [Batch    8/   9] Loss:  1.33e-03\n",
            "[Epoch    8/ 100] [Batch    9/   9] Loss:  1.50e-03\n",
            "[Epoch    9/ 100] [Batch    1/   9] Loss:  2.12e-03\n",
            "[Epoch    9/ 100] [Batch    2/   9] Loss:  1.70e-03\n",
            "[Epoch    9/ 100] [Batch    3/   9] Loss:  1.50e-03\n",
            "[Epoch    9/ 100] [Batch    4/   9] Loss:  1.64e-03\n",
            "[Epoch    9/ 100] [Batch    5/   9] Loss:  1.70e-03\n",
            "[Epoch    9/ 100] [Batch    6/   9] Loss:  1.62e-03\n",
            "[Epoch    9/ 100] [Batch    7/   9] Loss:  1.93e-03\n",
            "[Epoch    9/ 100] [Batch    8/   9] Loss:  1.57e-03\n",
            "[Epoch    9/ 100] [Batch    9/   9] Loss:  1.70e-03\n",
            "[Epoch   10/ 100] [Batch    1/   9] Loss:  1.69e-03\n",
            "[Epoch   10/ 100] [Batch    2/   9] Loss:  1.58e-03\n",
            "[Epoch   10/ 100] [Batch    3/   9] Loss:  1.46e-03\n",
            "[Epoch   10/ 100] [Batch    4/   9] Loss:  1.95e-03\n",
            "[Epoch   10/ 100] [Batch    5/   9] Loss:  1.42e-03\n",
            "[Epoch   10/ 100] [Batch    6/   9] Loss:  1.66e-03\n",
            "[Epoch   10/ 100] [Batch    7/   9] Loss:  1.67e-03\n",
            "[Epoch   10/ 100] [Batch    8/   9] Loss:  1.70e-03\n",
            "[Epoch   10/ 100] [Batch    9/   9] Loss:  2.12e-03\n",
            "[Epoch   11/ 100] [Batch    1/   9] Loss:  1.49e-03\n",
            "[Epoch   11/ 100] [Batch    2/   9] Loss:  1.41e-03\n",
            "[Epoch   11/ 100] [Batch    3/   9] Loss:  1.74e-03\n",
            "[Epoch   11/ 100] [Batch    4/   9] Loss:  1.50e-03\n",
            "[Epoch   11/ 100] [Batch    5/   9] Loss:  1.61e-03\n",
            "[Epoch   11/ 100] [Batch    6/   9] Loss:  2.02e-03\n",
            "[Epoch   11/ 100] [Batch    7/   9] Loss:  1.73e-03\n",
            "[Epoch   11/ 100] [Batch    8/   9] Loss:  1.39e-03\n",
            "[Epoch   11/ 100] [Batch    9/   9] Loss:  2.42e-03\n",
            "[Epoch   12/ 100] [Batch    1/   9] Loss:  1.61e-03\n",
            "[Epoch   12/ 100] [Batch    2/   9] Loss:  1.64e-03\n",
            "[Epoch   12/ 100] [Batch    3/   9] Loss:  1.40e-03\n",
            "[Epoch   12/ 100] [Batch    4/   9] Loss:  1.91e-03\n",
            "[Epoch   12/ 100] [Batch    5/   9] Loss:  1.50e-03\n",
            "[Epoch   12/ 100] [Batch    6/   9] Loss:  1.82e-03\n",
            "[Epoch   12/ 100] [Batch    7/   9] Loss:  1.69e-03\n",
            "[Epoch   12/ 100] [Batch    8/   9] Loss:  1.49e-03\n",
            "[Epoch   12/ 100] [Batch    9/   9] Loss:  1.60e-03\n",
            "[Epoch   13/ 100] [Batch    1/   9] Loss:  1.90e-03\n",
            "[Epoch   13/ 100] [Batch    2/   9] Loss:  1.28e-03\n",
            "[Epoch   13/ 100] [Batch    3/   9] Loss:  1.81e-03\n",
            "[Epoch   13/ 100] [Batch    4/   9] Loss:  1.66e-03\n",
            "[Epoch   13/ 100] [Batch    5/   9] Loss:  1.59e-03\n",
            "[Epoch   13/ 100] [Batch    6/   9] Loss:  1.50e-03\n",
            "[Epoch   13/ 100] [Batch    7/   9] Loss:  1.45e-03\n",
            "[Epoch   13/ 100] [Batch    8/   9] Loss:  1.82e-03\n",
            "[Epoch   13/ 100] [Batch    9/   9] Loss:  1.50e-03\n",
            "[Epoch   14/ 100] [Batch    1/   9] Loss:  1.79e-03\n",
            "[Epoch   14/ 100] [Batch    2/   9] Loss:  1.52e-03\n",
            "[Epoch   14/ 100] [Batch    3/   9] Loss:  1.74e-03\n",
            "[Epoch   14/ 100] [Batch    4/   9] Loss:  1.83e-03\n",
            "[Epoch   14/ 100] [Batch    5/   9] Loss:  1.56e-03\n",
            "[Epoch   14/ 100] [Batch    6/   9] Loss:  1.39e-03\n",
            "[Epoch   14/ 100] [Batch    7/   9] Loss:  1.41e-03\n",
            "[Epoch   14/ 100] [Batch    8/   9] Loss:  1.77e-03\n",
            "[Epoch   14/ 100] [Batch    9/   9] Loss:  1.50e-03\n",
            "[Epoch   15/ 100] [Batch    1/   9] Loss:  1.72e-03\n",
            "[Epoch   15/ 100] [Batch    2/   9] Loss:  1.34e-03\n",
            "[Epoch   15/ 100] [Batch    3/   9] Loss:  1.66e-03\n",
            "[Epoch   15/ 100] [Batch    4/   9] Loss:  1.67e-03\n",
            "[Epoch   15/ 100] [Batch    5/   9] Loss:  1.61e-03\n",
            "[Epoch   15/ 100] [Batch    6/   9] Loss:  1.59e-03\n",
            "[Epoch   15/ 100] [Batch    7/   9] Loss:  1.72e-03\n",
            "[Epoch   15/ 100] [Batch    8/   9] Loss:  1.70e-03\n",
            "[Epoch   15/ 100] [Batch    9/   9] Loss:  1.63e-03\n",
            "[Epoch   16/ 100] [Batch    1/   9] Loss:  1.47e-03\n",
            "[Epoch   16/ 100] [Batch    2/   9] Loss:  1.74e-03\n",
            "[Epoch   16/ 100] [Batch    3/   9] Loss:  1.37e-03\n",
            "[Epoch   16/ 100] [Batch    4/   9] Loss:  1.44e-03\n",
            "[Epoch   16/ 100] [Batch    5/   9] Loss:  1.71e-03\n",
            "[Epoch   16/ 100] [Batch    6/   9] Loss:  2.05e-03\n",
            "[Epoch   16/ 100] [Batch    7/   9] Loss:  1.49e-03\n",
            "[Epoch   16/ 100] [Batch    8/   9] Loss:  1.72e-03\n",
            "[Epoch   16/ 100] [Batch    9/   9] Loss:  1.55e-03\n",
            "[Epoch   17/ 100] [Batch    1/   9] Loss:  1.57e-03\n",
            "[Epoch   17/ 100] [Batch    2/   9] Loss:  1.98e-03\n",
            "[Epoch   17/ 100] [Batch    3/   9] Loss:  1.19e-03\n",
            "[Epoch   17/ 100] [Batch    4/   9] Loss:  1.60e-03\n",
            "[Epoch   17/ 100] [Batch    5/   9] Loss:  1.96e-03\n",
            "[Epoch   17/ 100] [Batch    6/   9] Loss:  1.54e-03\n",
            "[Epoch   17/ 100] [Batch    7/   9] Loss:  1.48e-03\n",
            "[Epoch   17/ 100] [Batch    8/   9] Loss:  1.75e-03\n",
            "[Epoch   17/ 100] [Batch    9/   9] Loss:  1.44e-03\n",
            "[Epoch   18/ 100] [Batch    1/   9] Loss:  1.41e-03\n",
            "[Epoch   18/ 100] [Batch    2/   9] Loss:  2.07e-03\n",
            "[Epoch   18/ 100] [Batch    3/   9] Loss:  1.63e-03\n",
            "[Epoch   18/ 100] [Batch    4/   9] Loss:  1.90e-03\n",
            "[Epoch   18/ 100] [Batch    5/   9] Loss:  1.64e-03\n",
            "[Epoch   18/ 100] [Batch    6/   9] Loss:  1.29e-03\n",
            "[Epoch   18/ 100] [Batch    7/   9] Loss:  1.69e-03\n",
            "[Epoch   18/ 100] [Batch    8/   9] Loss:  1.26e-03\n",
            "[Epoch   18/ 100] [Batch    9/   9] Loss:  2.04e-03\n",
            "[Epoch   19/ 100] [Batch    1/   9] Loss:  1.47e-03\n",
            "[Epoch   19/ 100] [Batch    2/   9] Loss:  1.87e-03\n",
            "[Epoch   19/ 100] [Batch    3/   9] Loss:  1.51e-03\n",
            "[Epoch   19/ 100] [Batch    4/   9] Loss:  1.66e-03\n",
            "[Epoch   19/ 100] [Batch    5/   9] Loss:  1.64e-03\n",
            "[Epoch   19/ 100] [Batch    6/   9] Loss:  1.63e-03\n",
            "[Epoch   19/ 100] [Batch    7/   9] Loss:  1.43e-03\n",
            "[Epoch   19/ 100] [Batch    8/   9] Loss:  1.82e-03\n",
            "[Epoch   19/ 100] [Batch    9/   9] Loss:  2.06e-03\n",
            "[Epoch   20/ 100] [Batch    1/   9] Loss:  1.93e-03\n",
            "[Epoch   20/ 100] [Batch    2/   9] Loss:  1.66e-03\n",
            "[Epoch   20/ 100] [Batch    3/   9] Loss:  1.67e-03\n",
            "[Epoch   20/ 100] [Batch    4/   9] Loss:  1.45e-03\n",
            "[Epoch   20/ 100] [Batch    5/   9] Loss:  1.78e-03\n",
            "[Epoch   20/ 100] [Batch    6/   9] Loss:  1.51e-03\n",
            "[Epoch   20/ 100] [Batch    7/   9] Loss:  1.58e-03\n",
            "[Epoch   20/ 100] [Batch    8/   9] Loss:  1.43e-03\n",
            "[Epoch   20/ 100] [Batch    9/   9] Loss:  2.23e-03\n",
            "[Epoch   21/ 100] [Batch    1/   9] Loss:  1.72e-03\n",
            "[Epoch   21/ 100] [Batch    2/   9] Loss:  1.74e-03\n",
            "[Epoch   21/ 100] [Batch    3/   9] Loss:  1.97e-03\n",
            "[Epoch   21/ 100] [Batch    4/   9] Loss:  1.47e-03\n",
            "[Epoch   21/ 100] [Batch    5/   9] Loss:  1.59e-03\n",
            "[Epoch   21/ 100] [Batch    6/   9] Loss:  1.35e-03\n",
            "[Epoch   21/ 100] [Batch    7/   9] Loss:  1.72e-03\n",
            "[Epoch   21/ 100] [Batch    8/   9] Loss:  1.55e-03\n",
            "[Epoch   21/ 100] [Batch    9/   9] Loss:  1.37e-03\n",
            "[Epoch   22/ 100] [Batch    1/   9] Loss:  1.78e-03\n",
            "[Epoch   22/ 100] [Batch    2/   9] Loss:  1.57e-03\n",
            "[Epoch   22/ 100] [Batch    3/   9] Loss:  1.45e-03\n",
            "[Epoch   22/ 100] [Batch    4/   9] Loss:  2.07e-03\n",
            "[Epoch   22/ 100] [Batch    5/   9] Loss:  1.63e-03\n",
            "[Epoch   22/ 100] [Batch    6/   9] Loss:  1.60e-03\n",
            "[Epoch   22/ 100] [Batch    7/   9] Loss:  1.45e-03\n",
            "[Epoch   22/ 100] [Batch    8/   9] Loss:  1.37e-03\n",
            "[Epoch   22/ 100] [Batch    9/   9] Loss:  2.30e-03\n",
            "[Epoch   23/ 100] [Batch    1/   9] Loss:  1.53e-03\n",
            "[Epoch   23/ 100] [Batch    2/   9] Loss:  1.59e-03\n",
            "[Epoch   23/ 100] [Batch    3/   9] Loss:  1.84e-03\n",
            "[Epoch   23/ 100] [Batch    4/   9] Loss:  1.73e-03\n",
            "[Epoch   23/ 100] [Batch    5/   9] Loss:  1.52e-03\n",
            "[Epoch   23/ 100] [Batch    6/   9] Loss:  1.67e-03\n",
            "[Epoch   23/ 100] [Batch    7/   9] Loss:  1.48e-03\n",
            "[Epoch   23/ 100] [Batch    8/   9] Loss:  1.59e-03\n",
            "[Epoch   23/ 100] [Batch    9/   9] Loss:  2.14e-03\n",
            "[Epoch   24/ 100] [Batch    1/   9] Loss:  1.66e-03\n",
            "[Epoch   24/ 100] [Batch    2/   9] Loss:  1.55e-03\n",
            "[Epoch   24/ 100] [Batch    3/   9] Loss:  1.33e-03\n",
            "[Epoch   24/ 100] [Batch    4/   9] Loss:  1.48e-03\n",
            "[Epoch   24/ 100] [Batch    5/   9] Loss:  1.99e-03\n",
            "[Epoch   24/ 100] [Batch    6/   9] Loss:  1.54e-03\n",
            "[Epoch   24/ 100] [Batch    7/   9] Loss:  1.76e-03\n",
            "[Epoch   24/ 100] [Batch    8/   9] Loss:  1.64e-03\n",
            "[Epoch   24/ 100] [Batch    9/   9] Loss:  2.06e-03\n",
            "[Epoch   25/ 100] [Batch    1/   9] Loss:  2.07e-03\n",
            "[Epoch   25/ 100] [Batch    2/   9] Loss:  1.74e-03\n",
            "[Epoch   25/ 100] [Batch    3/   9] Loss:  1.49e-03\n",
            "[Epoch   25/ 100] [Batch    4/   9] Loss:  1.93e-03\n",
            "[Epoch   25/ 100] [Batch    5/   9] Loss:  1.45e-03\n",
            "[Epoch   25/ 100] [Batch    6/   9] Loss:  1.25e-03\n",
            "[Epoch   25/ 100] [Batch    7/   9] Loss:  1.69e-03\n",
            "[Epoch   25/ 100] [Batch    8/   9] Loss:  1.47e-03\n",
            "[Epoch   25/ 100] [Batch    9/   9] Loss:  1.44e-03\n",
            "[Epoch   26/ 100] [Batch    1/   9] Loss:  1.75e-03\n",
            "[Epoch   26/ 100] [Batch    2/   9] Loss:  1.70e-03\n",
            "[Epoch   26/ 100] [Batch    3/   9] Loss:  1.60e-03\n",
            "[Epoch   26/ 100] [Batch    4/   9] Loss:  1.24e-03\n",
            "[Epoch   26/ 100] [Batch    5/   9] Loss:  1.30e-03\n",
            "[Epoch   26/ 100] [Batch    6/   9] Loss:  2.01e-03\n",
            "[Epoch   26/ 100] [Batch    7/   9] Loss:  1.79e-03\n",
            "[Epoch   26/ 100] [Batch    8/   9] Loss:  1.32e-03\n",
            "[Epoch   26/ 100] [Batch    9/   9] Loss:  2.48e-03\n",
            "[Epoch   27/ 100] [Batch    1/   9] Loss:  1.61e-03\n",
            "[Epoch   27/ 100] [Batch    2/   9] Loss:  1.85e-03\n",
            "[Epoch   27/ 100] [Batch    3/   9] Loss:  1.48e-03\n",
            "[Epoch   27/ 100] [Batch    4/   9] Loss:  1.35e-03\n",
            "[Epoch   27/ 100] [Batch    5/   9] Loss:  1.60e-03\n",
            "[Epoch   27/ 100] [Batch    6/   9] Loss:  1.51e-03\n",
            "[Epoch   27/ 100] [Batch    7/   9] Loss:  1.59e-03\n",
            "[Epoch   27/ 100] [Batch    8/   9] Loss:  1.90e-03\n",
            "[Epoch   27/ 100] [Batch    9/   9] Loss:  2.02e-03\n",
            "[Epoch   28/ 100] [Batch    1/   9] Loss:  1.27e-03\n",
            "[Epoch   28/ 100] [Batch    2/   9] Loss:  1.69e-03\n",
            "[Epoch   28/ 100] [Batch    3/   9] Loss:  1.54e-03\n",
            "[Epoch   28/ 100] [Batch    4/   9] Loss:  1.56e-03\n",
            "[Epoch   28/ 100] [Batch    5/   9] Loss:  1.82e-03\n",
            "[Epoch   28/ 100] [Batch    6/   9] Loss:  1.67e-03\n",
            "[Epoch   28/ 100] [Batch    7/   9] Loss:  1.91e-03\n",
            "[Epoch   28/ 100] [Batch    8/   9] Loss:  1.42e-03\n",
            "[Epoch   28/ 100] [Batch    9/   9] Loss:  1.94e-03\n",
            "[Epoch   29/ 100] [Batch    1/   9] Loss:  1.61e-03\n",
            "[Epoch   29/ 100] [Batch    2/   9] Loss:  1.88e-03\n",
            "[Epoch   29/ 100] [Batch    3/   9] Loss:  1.79e-03\n",
            "[Epoch   29/ 100] [Batch    4/   9] Loss:  1.54e-03\n",
            "[Epoch   29/ 100] [Batch    5/   9] Loss:  1.29e-03\n",
            "[Epoch   29/ 100] [Batch    6/   9] Loss:  1.59e-03\n",
            "[Epoch   29/ 100] [Batch    7/   9] Loss:  1.74e-03\n",
            "[Epoch   29/ 100] [Batch    8/   9] Loss:  1.56e-03\n",
            "[Epoch   29/ 100] [Batch    9/   9] Loss:  1.87e-03\n",
            "[Epoch   30/ 100] [Batch    1/   9] Loss:  1.37e-03\n",
            "[Epoch   30/ 100] [Batch    2/   9] Loss:  1.61e-03\n",
            "[Epoch   30/ 100] [Batch    3/   9] Loss:  1.88e-03\n",
            "[Epoch   30/ 100] [Batch    4/   9] Loss:  1.57e-03\n",
            "[Epoch   30/ 100] [Batch    5/   9] Loss:  1.74e-03\n",
            "[Epoch   30/ 100] [Batch    6/   9] Loss:  1.59e-03\n",
            "[Epoch   30/ 100] [Batch    7/   9] Loss:  1.85e-03\n",
            "[Epoch   30/ 100] [Batch    8/   9] Loss:  1.49e-03\n",
            "[Epoch   30/ 100] [Batch    9/   9] Loss:  1.26e-03\n",
            "[Epoch   31/ 100] [Batch    1/   9] Loss:  1.81e-03\n",
            "[Epoch   31/ 100] [Batch    2/   9] Loss:  1.46e-03\n",
            "[Epoch   31/ 100] [Batch    3/   9] Loss:  1.56e-03\n",
            "[Epoch   31/ 100] [Batch    4/   9] Loss:  1.74e-03\n",
            "[Epoch   31/ 100] [Batch    5/   9] Loss:  2.04e-03\n"
          ],
          "name": "stdout"
        },
        {
          "output_type": "stream",
          "text": [
            "[Epoch   31/ 100] [Batch    6/   9] Loss:  1.44e-03\n",
            "[Epoch   31/ 100] [Batch    7/   9] Loss:  1.67e-03\n",
            "[Epoch   31/ 100] [Batch    8/   9] Loss:  1.29e-03\n",
            "[Epoch   31/ 100] [Batch    9/   9] Loss:  1.57e-03\n",
            "[Epoch   32/ 100] [Batch    1/   9] Loss:  1.88e-03\n",
            "[Epoch   32/ 100] [Batch    2/   9] Loss:  1.71e-03\n",
            "[Epoch   32/ 100] [Batch    3/   9] Loss:  1.70e-03\n",
            "[Epoch   32/ 100] [Batch    4/   9] Loss:  1.32e-03\n",
            "[Epoch   32/ 100] [Batch    5/   9] Loss:  1.74e-03\n",
            "[Epoch   32/ 100] [Batch    6/   9] Loss:  1.44e-03\n",
            "[Epoch   32/ 100] [Batch    7/   9] Loss:  1.72e-03\n",
            "[Epoch   32/ 100] [Batch    8/   9] Loss:  1.62e-03\n",
            "[Epoch   32/ 100] [Batch    9/   9] Loss:  1.17e-03\n",
            "[Epoch   33/ 100] [Batch    1/   9] Loss:  1.86e-03\n",
            "[Epoch   33/ 100] [Batch    2/   9] Loss:  1.51e-03\n",
            "[Epoch   33/ 100] [Batch    3/   9] Loss:  1.34e-03\n",
            "[Epoch   33/ 100] [Batch    4/   9] Loss:  2.01e-03\n",
            "[Epoch   33/ 100] [Batch    5/   9] Loss:  1.52e-03\n",
            "[Epoch   33/ 100] [Batch    6/   9] Loss:  1.25e-03\n",
            "[Epoch   33/ 100] [Batch    7/   9] Loss:  1.41e-03\n",
            "[Epoch   33/ 100] [Batch    8/   9] Loss:  1.94e-03\n",
            "[Epoch   33/ 100] [Batch    9/   9] Loss:  2.07e-03\n",
            "[Epoch   34/ 100] [Batch    1/   9] Loss:  1.63e-03\n",
            "[Epoch   34/ 100] [Batch    2/   9] Loss:  1.68e-03\n",
            "[Epoch   34/ 100] [Batch    3/   9] Loss:  1.81e-03\n",
            "[Epoch   34/ 100] [Batch    4/   9] Loss:  1.21e-03\n",
            "[Epoch   34/ 100] [Batch    5/   9] Loss:  1.78e-03\n",
            "[Epoch   34/ 100] [Batch    6/   9] Loss:  1.60e-03\n",
            "[Epoch   34/ 100] [Batch    7/   9] Loss:  1.55e-03\n",
            "[Epoch   34/ 100] [Batch    8/   9] Loss:  1.64e-03\n",
            "[Epoch   34/ 100] [Batch    9/   9] Loss:  2.01e-03\n",
            "[Epoch   35/ 100] [Batch    1/   9] Loss:  1.42e-03\n",
            "[Epoch   35/ 100] [Batch    2/   9] Loss:  1.96e-03\n",
            "[Epoch   35/ 100] [Batch    3/   9] Loss:  1.72e-03\n",
            "[Epoch   35/ 100] [Batch    4/   9] Loss:  1.49e-03\n",
            "[Epoch   35/ 100] [Batch    5/   9] Loss:  1.49e-03\n",
            "[Epoch   35/ 100] [Batch    6/   9] Loss:  1.36e-03\n",
            "[Epoch   35/ 100] [Batch    7/   9] Loss:  1.80e-03\n",
            "[Epoch   35/ 100] [Batch    8/   9] Loss:  1.69e-03\n",
            "[Epoch   35/ 100] [Batch    9/   9] Loss:  1.84e-03\n",
            "[Epoch   36/ 100] [Batch    1/   9] Loss:  1.61e-03\n",
            "[Epoch   36/ 100] [Batch    2/   9] Loss:  1.42e-03\n",
            "[Epoch   36/ 100] [Batch    3/   9] Loss:  1.69e-03\n",
            "[Epoch   36/ 100] [Batch    4/   9] Loss:  2.09e-03\n",
            "[Epoch   36/ 100] [Batch    5/   9] Loss:  1.22e-03\n",
            "[Epoch   36/ 100] [Batch    6/   9] Loss:  1.69e-03\n",
            "[Epoch   36/ 100] [Batch    7/   9] Loss:  1.81e-03\n",
            "[Epoch   36/ 100] [Batch    8/   9] Loss:  1.63e-03\n",
            "[Epoch   36/ 100] [Batch    9/   9] Loss:  1.20e-03\n",
            "[Epoch   37/ 100] [Batch    1/   9] Loss:  1.59e-03\n",
            "[Epoch   37/ 100] [Batch    2/   9] Loss:  2.20e-03\n",
            "[Epoch   37/ 100] [Batch    3/   9] Loss:  1.80e-03\n",
            "[Epoch   37/ 100] [Batch    4/   9] Loss:  1.46e-03\n",
            "[Epoch   37/ 100] [Batch    5/   9] Loss:  1.69e-03\n",
            "[Epoch   37/ 100] [Batch    6/   9] Loss:  1.41e-03\n",
            "[Epoch   37/ 100] [Batch    7/   9] Loss:  1.41e-03\n",
            "[Epoch   37/ 100] [Batch    8/   9] Loss:  1.49e-03\n",
            "[Epoch   37/ 100] [Batch    9/   9] Loss:  1.50e-03\n",
            "[Epoch   38/ 100] [Batch    1/   9] Loss:  1.37e-03\n",
            "[Epoch   38/ 100] [Batch    2/   9] Loss:  1.74e-03\n",
            "[Epoch   38/ 100] [Batch    3/   9] Loss:  1.83e-03\n",
            "[Epoch   38/ 100] [Batch    4/   9] Loss:  1.23e-03\n",
            "[Epoch   38/ 100] [Batch    5/   9] Loss:  1.91e-03\n",
            "[Epoch   38/ 100] [Batch    6/   9] Loss:  1.45e-03\n",
            "[Epoch   38/ 100] [Batch    7/   9] Loss:  1.82e-03\n",
            "[Epoch   38/ 100] [Batch    8/   9] Loss:  1.48e-03\n",
            "[Epoch   38/ 100] [Batch    9/   9] Loss:  2.43e-03\n",
            "[Epoch   39/ 100] [Batch    1/   9] Loss:  1.36e-03\n",
            "[Epoch   39/ 100] [Batch    2/   9] Loss:  1.76e-03\n",
            "[Epoch   39/ 100] [Batch    3/   9] Loss:  1.71e-03\n",
            "[Epoch   39/ 100] [Batch    4/   9] Loss:  1.90e-03\n",
            "[Epoch   39/ 100] [Batch    5/   9] Loss:  1.81e-03\n",
            "[Epoch   39/ 100] [Batch    6/   9] Loss:  1.19e-03\n",
            "[Epoch   39/ 100] [Batch    7/   9] Loss:  1.59e-03\n",
            "[Epoch   39/ 100] [Batch    8/   9] Loss:  1.52e-03\n",
            "[Epoch   39/ 100] [Batch    9/   9] Loss:  2.06e-03\n",
            "[Epoch   40/ 100] [Batch    1/   9] Loss:  1.70e-03\n",
            "[Epoch   40/ 100] [Batch    2/   9] Loss:  1.63e-03\n",
            "[Epoch   40/ 100] [Batch    3/   9] Loss:  1.63e-03\n",
            "[Epoch   40/ 100] [Batch    4/   9] Loss:  1.67e-03\n",
            "[Epoch   40/ 100] [Batch    5/   9] Loss:  1.68e-03\n",
            "[Epoch   40/ 100] [Batch    6/   9] Loss:  1.61e-03\n",
            "[Epoch   40/ 100] [Batch    7/   9] Loss:  1.67e-03\n",
            "[Epoch   40/ 100] [Batch    8/   9] Loss:  1.61e-03\n",
            "[Epoch   40/ 100] [Batch    9/   9] Loss:  1.22e-03\n",
            "[Epoch   41/ 100] [Batch    1/   9] Loss:  1.42e-03\n",
            "[Epoch   41/ 100] [Batch    2/   9] Loss:  1.58e-03\n",
            "[Epoch   41/ 100] [Batch    3/   9] Loss:  1.64e-03\n",
            "[Epoch   41/ 100] [Batch    4/   9] Loss:  1.66e-03\n",
            "[Epoch   41/ 100] [Batch    5/   9] Loss:  1.64e-03\n",
            "[Epoch   41/ 100] [Batch    6/   9] Loss:  1.77e-03\n",
            "[Epoch   41/ 100] [Batch    7/   9] Loss:  1.47e-03\n",
            "[Epoch   41/ 100] [Batch    8/   9] Loss:  2.00e-03\n",
            "[Epoch   41/ 100] [Batch    9/   9] Loss:  1.19e-03\n",
            "[Epoch   42/ 100] [Batch    1/   9] Loss:  1.64e-03\n",
            "[Epoch   42/ 100] [Batch    2/   9] Loss:  1.65e-03\n",
            "[Epoch   42/ 100] [Batch    3/   9] Loss:  1.75e-03\n",
            "[Epoch   42/ 100] [Batch    4/   9] Loss:  1.68e-03\n",
            "[Epoch   42/ 100] [Batch    5/   9] Loss:  1.66e-03\n",
            "[Epoch   42/ 100] [Batch    6/   9] Loss:  1.74e-03\n",
            "[Epoch   42/ 100] [Batch    7/   9] Loss:  1.58e-03\n",
            "[Epoch   42/ 100] [Batch    8/   9] Loss:  1.32e-03\n",
            "[Epoch   42/ 100] [Batch    9/   9] Loss:  1.65e-03\n",
            "[Epoch   43/ 100] [Batch    1/   9] Loss:  1.55e-03\n",
            "[Epoch   43/ 100] [Batch    2/   9] Loss:  1.82e-03\n",
            "[Epoch   43/ 100] [Batch    3/   9] Loss:  1.58e-03\n",
            "[Epoch   43/ 100] [Batch    4/   9] Loss:  1.53e-03\n",
            "[Epoch   43/ 100] [Batch    5/   9] Loss:  1.51e-03\n",
            "[Epoch   43/ 100] [Batch    6/   9] Loss:  1.82e-03\n",
            "[Epoch   43/ 100] [Batch    7/   9] Loss:  1.55e-03\n",
            "[Epoch   43/ 100] [Batch    8/   9] Loss:  1.73e-03\n",
            "[Epoch   43/ 100] [Batch    9/   9] Loss:  1.31e-03\n",
            "[Epoch   44/ 100] [Batch    1/   9] Loss:  1.35e-03\n",
            "[Epoch   44/ 100] [Batch    2/   9] Loss:  1.46e-03\n",
            "[Epoch   44/ 100] [Batch    3/   9] Loss:  1.71e-03\n",
            "[Epoch   44/ 100] [Batch    4/   9] Loss:  1.49e-03\n",
            "[Epoch   44/ 100] [Batch    5/   9] Loss:  1.70e-03\n",
            "[Epoch   44/ 100] [Batch    6/   9] Loss:  1.86e-03\n",
            "[Epoch   44/ 100] [Batch    7/   9] Loss:  1.84e-03\n",
            "[Epoch   44/ 100] [Batch    8/   9] Loss:  1.63e-03\n",
            "[Epoch   44/ 100] [Batch    9/   9] Loss:  1.66e-03\n",
            "[Epoch   45/ 100] [Batch    1/   9] Loss:  1.45e-03\n",
            "[Epoch   45/ 100] [Batch    2/   9] Loss:  1.90e-03\n",
            "[Epoch   45/ 100] [Batch    3/   9] Loss:  1.47e-03\n",
            "[Epoch   45/ 100] [Batch    4/   9] Loss:  1.39e-03\n",
            "[Epoch   45/ 100] [Batch    5/   9] Loss:  1.49e-03\n",
            "[Epoch   45/ 100] [Batch    6/   9] Loss:  1.37e-03\n",
            "[Epoch   45/ 100] [Batch    7/   9] Loss:  1.79e-03\n",
            "[Epoch   45/ 100] [Batch    8/   9] Loss:  2.03e-03\n",
            "[Epoch   45/ 100] [Batch    9/   9] Loss:  2.12e-03\n",
            "[Epoch   46/ 100] [Batch    1/   9] Loss:  9.91e-04\n",
            "[Epoch   46/ 100] [Batch    2/   9] Loss:  1.74e-03\n",
            "[Epoch   46/ 100] [Batch    3/   9] Loss:  2.01e-03\n",
            "[Epoch   46/ 100] [Batch    4/   9] Loss:  1.41e-03\n",
            "[Epoch   46/ 100] [Batch    5/   9] Loss:  1.84e-03\n",
            "[Epoch   46/ 100] [Batch    6/   9] Loss:  1.28e-03\n",
            "[Epoch   46/ 100] [Batch    7/   9] Loss:  2.09e-03\n",
            "[Epoch   46/ 100] [Batch    8/   9] Loss:  1.69e-03\n",
            "[Epoch   46/ 100] [Batch    9/   9] Loss:  1.45e-03\n",
            "[Epoch   47/ 100] [Batch    1/   9] Loss:  1.67e-03\n",
            "[Epoch   47/ 100] [Batch    2/   9] Loss:  1.54e-03\n",
            "[Epoch   47/ 100] [Batch    3/   9] Loss:  1.66e-03\n",
            "[Epoch   47/ 100] [Batch    4/   9] Loss:  1.86e-03\n",
            "[Epoch   47/ 100] [Batch    5/   9] Loss:  1.98e-03\n",
            "[Epoch   47/ 100] [Batch    6/   9] Loss:  1.60e-03\n",
            "[Epoch   47/ 100] [Batch    7/   9] Loss:  1.67e-03\n",
            "[Epoch   47/ 100] [Batch    8/   9] Loss:  1.61e-03\n",
            "[Epoch   47/ 100] [Batch    9/   9] Loss:  1.71e-03\n",
            "[Epoch   48/ 100] [Batch    1/   9] Loss:  1.64e-03\n",
            "[Epoch   48/ 100] [Batch    2/   9] Loss:  1.73e-03\n",
            "[Epoch   48/ 100] [Batch    3/   9] Loss:  1.38e-03\n",
            "[Epoch   48/ 100] [Batch    4/   9] Loss:  1.85e-03\n",
            "[Epoch   48/ 100] [Batch    5/   9] Loss:  1.54e-03\n",
            "[Epoch   48/ 100] [Batch    6/   9] Loss:  1.89e-03\n",
            "[Epoch   48/ 100] [Batch    7/   9] Loss:  1.83e-03\n",
            "[Epoch   48/ 100] [Batch    8/   9] Loss:  1.64e-03\n",
            "[Epoch   48/ 100] [Batch    9/   9] Loss:  1.39e-03\n",
            "[Epoch   49/ 100] [Batch    1/   9] Loss:  2.02e-03\n",
            "[Epoch   49/ 100] [Batch    2/   9] Loss:  1.79e-03\n",
            "[Epoch   49/ 100] [Batch    3/   9] Loss:  1.43e-03\n",
            "[Epoch   49/ 100] [Batch    4/   9] Loss:  1.71e-03\n",
            "[Epoch   49/ 100] [Batch    5/   9] Loss:  1.29e-03\n",
            "[Epoch   49/ 100] [Batch    6/   9] Loss:  1.57e-03\n",
            "[Epoch   49/ 100] [Batch    7/   9] Loss:  1.69e-03\n",
            "[Epoch   49/ 100] [Batch    8/   9] Loss:  1.65e-03\n",
            "[Epoch   49/ 100] [Batch    9/   9] Loss:  1.64e-03\n",
            "[Epoch   50/ 100] [Batch    1/   9] Loss:  1.71e-03\n",
            "[Epoch   50/ 100] [Batch    2/   9] Loss:  1.51e-03\n",
            "[Epoch   50/ 100] [Batch    3/   9] Loss:  1.85e-03\n",
            "[Epoch   50/ 100] [Batch    4/   9] Loss:  1.75e-03\n",
            "[Epoch   50/ 100] [Batch    5/   9] Loss:  1.42e-03\n",
            "[Epoch   50/ 100] [Batch    6/   9] Loss:  1.53e-03\n",
            "[Epoch   50/ 100] [Batch    7/   9] Loss:  1.78e-03\n",
            "[Epoch   50/ 100] [Batch    8/   9] Loss:  1.84e-03\n",
            "[Epoch   50/ 100] [Batch    9/   9] Loss:  1.52e-03\n",
            "[Epoch   51/ 100] [Batch    1/   9] Loss:  1.81e-03\n",
            "[Epoch   51/ 100] [Batch    2/   9] Loss:  1.72e-03\n",
            "[Epoch   51/ 100] [Batch    3/   9] Loss:  1.58e-03\n",
            "[Epoch   51/ 100] [Batch    4/   9] Loss:  1.67e-03\n",
            "[Epoch   51/ 100] [Batch    5/   9] Loss:  1.62e-03\n",
            "[Epoch   51/ 100] [Batch    6/   9] Loss:  1.45e-03\n",
            "[Epoch   51/ 100] [Batch    7/   9] Loss:  1.30e-03\n",
            "[Epoch   51/ 100] [Batch    8/   9] Loss:  2.06e-03\n",
            "[Epoch   51/ 100] [Batch    9/   9] Loss:  2.02e-03\n",
            "[Epoch   52/ 100] [Batch    1/   9] Loss:  1.95e-03\n",
            "[Epoch   52/ 100] [Batch    2/   9] Loss:  1.72e-03\n",
            "[Epoch   52/ 100] [Batch    3/   9] Loss:  1.68e-03\n",
            "[Epoch   52/ 100] [Batch    4/   9] Loss:  1.88e-03\n",
            "[Epoch   52/ 100] [Batch    5/   9] Loss:  1.34e-03\n",
            "[Epoch   52/ 100] [Batch    6/   9] Loss:  1.36e-03\n",
            "[Epoch   52/ 100] [Batch    7/   9] Loss:  1.67e-03\n",
            "[Epoch   52/ 100] [Batch    8/   9] Loss:  1.75e-03\n",
            "[Epoch   52/ 100] [Batch    9/   9] Loss:  1.75e-03\n",
            "[Epoch   53/ 100] [Batch    1/   9] Loss:  1.60e-03\n",
            "[Epoch   53/ 100] [Batch    2/   9] Loss:  1.58e-03\n",
            "[Epoch   53/ 100] [Batch    3/   9] Loss:  1.61e-03\n",
            "[Epoch   53/ 100] [Batch    4/   9] Loss:  1.47e-03\n",
            "[Epoch   53/ 100] [Batch    5/   9] Loss:  1.55e-03\n",
            "[Epoch   53/ 100] [Batch    6/   9] Loss:  1.72e-03\n",
            "[Epoch   53/ 100] [Batch    7/   9] Loss:  1.82e-03\n",
            "[Epoch   53/ 100] [Batch    8/   9] Loss:  1.92e-03\n",
            "[Epoch   53/ 100] [Batch    9/   9] Loss:  1.44e-03\n",
            "[Epoch   54/ 100] [Batch    1/   9] Loss:  1.72e-03\n",
            "[Epoch   54/ 100] [Batch    2/   9] Loss:  1.79e-03\n",
            "[Epoch   54/ 100] [Batch    3/   9] Loss:  1.35e-03\n",
            "[Epoch   54/ 100] [Batch    4/   9] Loss:  1.82e-03\n",
            "[Epoch   54/ 100] [Batch    5/   9] Loss:  1.59e-03\n",
            "[Epoch   54/ 100] [Batch    6/   9] Loss:  1.46e-03\n",
            "[Epoch   54/ 100] [Batch    7/   9] Loss:  1.65e-03\n",
            "[Epoch   54/ 100] [Batch    8/   9] Loss:  1.78e-03\n",
            "[Epoch   54/ 100] [Batch    9/   9] Loss:  2.06e-03\n",
            "[Epoch   55/ 100] [Batch    1/   9] Loss:  1.96e-03\n",
            "[Epoch   55/ 100] [Batch    2/   9] Loss:  1.57e-03\n",
            "[Epoch   55/ 100] [Batch    3/   9] Loss:  1.93e-03\n",
            "[Epoch   55/ 100] [Batch    4/   9] Loss:  1.24e-03\n",
            "[Epoch   55/ 100] [Batch    5/   9] Loss:  1.46e-03\n",
            "[Epoch   55/ 100] [Batch    6/   9] Loss:  1.74e-03\n",
            "[Epoch   55/ 100] [Batch    7/   9] Loss:  1.53e-03\n",
            "[Epoch   55/ 100] [Batch    8/   9] Loss:  1.55e-03\n",
            "[Epoch   55/ 100] [Batch    9/   9] Loss:  1.96e-03\n",
            "[Epoch   56/ 100] [Batch    1/   9] Loss:  1.65e-03\n",
            "[Epoch   56/ 100] [Batch    2/   9] Loss:  1.25e-03\n",
            "[Epoch   56/ 100] [Batch    3/   9] Loss:  1.61e-03\n",
            "[Epoch   56/ 100] [Batch    4/   9] Loss:  1.20e-03\n",
            "[Epoch   56/ 100] [Batch    5/   9] Loss:  2.18e-03\n",
            "[Epoch   56/ 100] [Batch    6/   9] Loss:  1.71e-03\n",
            "[Epoch   56/ 100] [Batch    7/   9] Loss:  1.59e-03\n",
            "[Epoch   56/ 100] [Batch    8/   9] Loss:  1.88e-03\n",
            "[Epoch   56/ 100] [Batch    9/   9] Loss:  1.47e-03\n",
            "[Epoch   57/ 100] [Batch    1/   9] Loss:  1.63e-03\n",
            "[Epoch   57/ 100] [Batch    2/   9] Loss:  1.71e-03\n",
            "[Epoch   57/ 100] [Batch    3/   9] Loss:  1.47e-03\n",
            "[Epoch   57/ 100] [Batch    4/   9] Loss:  1.59e-03\n",
            "[Epoch   57/ 100] [Batch    5/   9] Loss:  1.60e-03\n",
            "[Epoch   57/ 100] [Batch    6/   9] Loss:  1.58e-03\n",
            "[Epoch   57/ 100] [Batch    7/   9] Loss:  1.63e-03\n",
            "[Epoch   57/ 100] [Batch    8/   9] Loss:  2.09e-03\n",
            "[Epoch   57/ 100] [Batch    9/   9] Loss:  9.29e-04\n",
            "[Epoch   58/ 100] [Batch    1/   9] Loss:  1.67e-03\n",
            "[Epoch   58/ 100] [Batch    2/   9] Loss:  1.77e-03\n",
            "[Epoch   58/ 100] [Batch    3/   9] Loss:  1.56e-03\n",
            "[Epoch   58/ 100] [Batch    4/   9] Loss:  1.45e-03\n",
            "[Epoch   58/ 100] [Batch    5/   9] Loss:  1.96e-03\n",
            "[Epoch   58/ 100] [Batch    6/   9] Loss:  1.54e-03\n",
            "[Epoch   58/ 100] [Batch    7/   9] Loss:  1.41e-03\n",
            "[Epoch   58/ 100] [Batch    8/   9] Loss:  1.57e-03\n",
            "[Epoch   58/ 100] [Batch    9/   9] Loss:  2.03e-03\n",
            "[Epoch   59/ 100] [Batch    1/   9] Loss:  1.56e-03\n",
            "[Epoch   59/ 100] [Batch    2/   9] Loss:  1.65e-03\n",
            "[Epoch   59/ 100] [Batch    3/   9] Loss:  2.00e-03\n",
            "[Epoch   59/ 100] [Batch    4/   9] Loss:  1.53e-03\n",
            "[Epoch   59/ 100] [Batch    5/   9] Loss:  1.48e-03\n",
            "[Epoch   59/ 100] [Batch    6/   9] Loss:  1.63e-03\n",
            "[Epoch   59/ 100] [Batch    7/   9] Loss:  1.54e-03\n",
            "[Epoch   59/ 100] [Batch    8/   9] Loss:  1.69e-03\n",
            "[Epoch   59/ 100] [Batch    9/   9] Loss:  1.54e-03\n",
            "[Epoch   60/ 100] [Batch    1/   9] Loss:  2.23e-03\n",
            "[Epoch   60/ 100] [Batch    2/   9] Loss:  1.61e-03\n",
            "[Epoch   60/ 100] [Batch    3/   9] Loss:  1.23e-03\n"
          ],
          "name": "stdout"
        },
        {
          "output_type": "stream",
          "text": [
            "[Epoch   60/ 100] [Batch    4/   9] Loss:  1.65e-03\n",
            "[Epoch   60/ 100] [Batch    5/   9] Loss:  2.04e-03\n",
            "[Epoch   60/ 100] [Batch    6/   9] Loss:  1.33e-03\n",
            "[Epoch   60/ 100] [Batch    7/   9] Loss:  1.19e-03\n",
            "[Epoch   60/ 100] [Batch    8/   9] Loss:  1.79e-03\n",
            "[Epoch   60/ 100] [Batch    9/   9] Loss:  1.65e-03\n",
            "[Epoch   61/ 100] [Batch    1/   9] Loss:  1.28e-03\n",
            "[Epoch   61/ 100] [Batch    2/   9] Loss:  1.40e-03\n",
            "[Epoch   61/ 100] [Batch    3/   9] Loss:  1.62e-03\n",
            "[Epoch   61/ 100] [Batch    4/   9] Loss:  1.67e-03\n",
            "[Epoch   61/ 100] [Batch    5/   9] Loss:  1.98e-03\n",
            "[Epoch   61/ 100] [Batch    6/   9] Loss:  1.62e-03\n",
            "[Epoch   61/ 100] [Batch    7/   9] Loss:  1.29e-03\n",
            "[Epoch   61/ 100] [Batch    8/   9] Loss:  2.12e-03\n",
            "[Epoch   61/ 100] [Batch    9/   9] Loss:  2.07e-03\n",
            "[Epoch   62/ 100] [Batch    1/   9] Loss:  1.60e-03\n",
            "[Epoch   62/ 100] [Batch    2/   9] Loss:  1.38e-03\n",
            "[Epoch   62/ 100] [Batch    3/   9] Loss:  1.55e-03\n",
            "[Epoch   62/ 100] [Batch    4/   9] Loss:  1.89e-03\n",
            "[Epoch   62/ 100] [Batch    5/   9] Loss:  1.89e-03\n",
            "[Epoch   62/ 100] [Batch    6/   9] Loss:  1.70e-03\n",
            "[Epoch   62/ 100] [Batch    7/   9] Loss:  1.69e-03\n",
            "[Epoch   62/ 100] [Batch    8/   9] Loss:  1.36e-03\n",
            "[Epoch   62/ 100] [Batch    9/   9] Loss:  1.49e-03\n",
            "[Epoch   63/ 100] [Batch    1/   9] Loss:  1.63e-03\n",
            "[Epoch   63/ 100] [Batch    2/   9] Loss:  1.90e-03\n",
            "[Epoch   63/ 100] [Batch    3/   9] Loss:  2.00e-03\n",
            "[Epoch   63/ 100] [Batch    4/   9] Loss:  1.58e-03\n",
            "[Epoch   63/ 100] [Batch    5/   9] Loss:  1.43e-03\n",
            "[Epoch   63/ 100] [Batch    6/   9] Loss:  1.31e-03\n",
            "[Epoch   63/ 100] [Batch    7/   9] Loss:  1.73e-03\n",
            "[Epoch   63/ 100] [Batch    8/   9] Loss:  1.62e-03\n",
            "[Epoch   63/ 100] [Batch    9/   9] Loss:  1.49e-03\n",
            "[Epoch   64/ 100] [Batch    1/   9] Loss:  1.44e-03\n",
            "[Epoch   64/ 100] [Batch    2/   9] Loss:  1.30e-03\n",
            "[Epoch   64/ 100] [Batch    3/   9] Loss:  1.79e-03\n",
            "[Epoch   64/ 100] [Batch    4/   9] Loss:  1.89e-03\n",
            "[Epoch   64/ 100] [Batch    5/   9] Loss:  1.83e-03\n",
            "[Epoch   64/ 100] [Batch    6/   9] Loss:  1.52e-03\n",
            "[Epoch   64/ 100] [Batch    7/   9] Loss:  1.76e-03\n",
            "[Epoch   64/ 100] [Batch    8/   9] Loss:  1.76e-03\n",
            "[Epoch   64/ 100] [Batch    9/   9] Loss:  1.21e-03\n",
            "[Epoch   65/ 100] [Batch    1/   9] Loss:  1.50e-03\n",
            "[Epoch   65/ 100] [Batch    2/   9] Loss:  1.71e-03\n",
            "[Epoch   65/ 100] [Batch    3/   9] Loss:  1.61e-03\n",
            "[Epoch   65/ 100] [Batch    4/   9] Loss:  1.52e-03\n",
            "[Epoch   65/ 100] [Batch    5/   9] Loss:  1.68e-03\n",
            "[Epoch   65/ 100] [Batch    6/   9] Loss:  1.81e-03\n",
            "[Epoch   65/ 100] [Batch    7/   9] Loss:  1.98e-03\n",
            "[Epoch   65/ 100] [Batch    8/   9] Loss:  1.47e-03\n",
            "[Epoch   65/ 100] [Batch    9/   9] Loss:  1.56e-03\n",
            "[Epoch   66/ 100] [Batch    1/   9] Loss:  1.18e-03\n",
            "[Epoch   66/ 100] [Batch    2/   9] Loss:  1.92e-03\n",
            "[Epoch   66/ 100] [Batch    3/   9] Loss:  1.38e-03\n",
            "[Epoch   66/ 100] [Batch    4/   9] Loss:  2.11e-03\n",
            "[Epoch   66/ 100] [Batch    5/   9] Loss:  1.42e-03\n",
            "[Epoch   66/ 100] [Batch    6/   9] Loss:  1.41e-03\n",
            "[Epoch   66/ 100] [Batch    7/   9] Loss:  1.77e-03\n",
            "[Epoch   66/ 100] [Batch    8/   9] Loss:  1.58e-03\n",
            "[Epoch   66/ 100] [Batch    9/   9] Loss:  2.46e-03\n",
            "[Epoch   67/ 100] [Batch    1/   9] Loss:  1.42e-03\n",
            "[Epoch   67/ 100] [Batch    2/   9] Loss:  2.11e-03\n",
            "[Epoch   67/ 100] [Batch    3/   9] Loss:  1.38e-03\n",
            "[Epoch   67/ 100] [Batch    4/   9] Loss:  1.85e-03\n",
            "[Epoch   67/ 100] [Batch    5/   9] Loss:  1.70e-03\n",
            "[Epoch   67/ 100] [Batch    6/   9] Loss:  1.47e-03\n",
            "[Epoch   67/ 100] [Batch    7/   9] Loss:  1.86e-03\n",
            "[Epoch   67/ 100] [Batch    8/   9] Loss:  1.35e-03\n",
            "[Epoch   67/ 100] [Batch    9/   9] Loss:  1.25e-03\n",
            "[Epoch   68/ 100] [Batch    1/   9] Loss:  1.53e-03\n",
            "[Epoch   68/ 100] [Batch    2/   9] Loss:  1.49e-03\n",
            "[Epoch   68/ 100] [Batch    3/   9] Loss:  1.91e-03\n",
            "[Epoch   68/ 100] [Batch    4/   9] Loss:  1.55e-03\n",
            "[Epoch   68/ 100] [Batch    5/   9] Loss:  1.89e-03\n",
            "[Epoch   68/ 100] [Batch    6/   9] Loss:  1.70e-03\n",
            "[Epoch   68/ 100] [Batch    7/   9] Loss:  1.84e-03\n",
            "[Epoch   68/ 100] [Batch    8/   9] Loss:  1.17e-03\n",
            "[Epoch   68/ 100] [Batch    9/   9] Loss:  1.88e-03\n",
            "[Epoch   69/ 100] [Batch    1/   9] Loss:  1.38e-03\n",
            "[Epoch   69/ 100] [Batch    2/   9] Loss:  1.76e-03\n",
            "[Epoch   69/ 100] [Batch    3/   9] Loss:  1.70e-03\n",
            "[Epoch   69/ 100] [Batch    4/   9] Loss:  1.77e-03\n",
            "[Epoch   69/ 100] [Batch    5/   9] Loss:  1.48e-03\n",
            "[Epoch   69/ 100] [Batch    6/   9] Loss:  1.93e-03\n",
            "[Epoch   69/ 100] [Batch    7/   9] Loss:  1.65e-03\n",
            "[Epoch   69/ 100] [Batch    8/   9] Loss:  1.25e-03\n",
            "[Epoch   69/ 100] [Batch    9/   9] Loss:  1.94e-03\n",
            "[Epoch   70/ 100] [Batch    1/   9] Loss:  1.74e-03\n",
            "[Epoch   70/ 100] [Batch    2/   9] Loss:  1.56e-03\n",
            "[Epoch   70/ 100] [Batch    3/   9] Loss:  1.56e-03\n",
            "[Epoch   70/ 100] [Batch    4/   9] Loss:  1.74e-03\n",
            "[Epoch   70/ 100] [Batch    5/   9] Loss:  1.44e-03\n",
            "[Epoch   70/ 100] [Batch    6/   9] Loss:  1.75e-03\n",
            "[Epoch   70/ 100] [Batch    7/   9] Loss:  1.55e-03\n",
            "[Epoch   70/ 100] [Batch    8/   9] Loss:  1.86e-03\n",
            "[Epoch   70/ 100] [Batch    9/   9] Loss:  1.26e-03\n",
            "[Epoch   71/ 100] [Batch    1/   9] Loss:  1.51e-03\n",
            "[Epoch   71/ 100] [Batch    2/   9] Loss:  1.40e-03\n",
            "[Epoch   71/ 100] [Batch    3/   9] Loss:  1.47e-03\n",
            "[Epoch   71/ 100] [Batch    4/   9] Loss:  1.94e-03\n",
            "[Epoch   71/ 100] [Batch    5/   9] Loss:  1.44e-03\n",
            "[Epoch   71/ 100] [Batch    6/   9] Loss:  1.96e-03\n",
            "[Epoch   71/ 100] [Batch    7/   9] Loss:  2.10e-03\n",
            "[Epoch   71/ 100] [Batch    8/   9] Loss:  1.36e-03\n",
            "[Epoch   71/ 100] [Batch    9/   9] Loss:  1.77e-03\n",
            "[Epoch   72/ 100] [Batch    1/   9] Loss:  1.31e-03\n",
            "[Epoch   72/ 100] [Batch    2/   9] Loss:  1.58e-03\n",
            "[Epoch   72/ 100] [Batch    3/   9] Loss:  1.50e-03\n",
            "[Epoch   72/ 100] [Batch    4/   9] Loss:  1.52e-03\n",
            "[Epoch   72/ 100] [Batch    5/   9] Loss:  2.03e-03\n",
            "[Epoch   72/ 100] [Batch    6/   9] Loss:  1.78e-03\n",
            "[Epoch   72/ 100] [Batch    7/   9] Loss:  2.22e-03\n",
            "[Epoch   72/ 100] [Batch    8/   9] Loss:  1.25e-03\n",
            "[Epoch   72/ 100] [Batch    9/   9] Loss:  1.68e-03\n",
            "[Epoch   73/ 100] [Batch    1/   9] Loss:  1.84e-03\n",
            "[Epoch   73/ 100] [Batch    2/   9] Loss:  1.67e-03\n",
            "[Epoch   73/ 100] [Batch    3/   9] Loss:  2.02e-03\n",
            "[Epoch   73/ 100] [Batch    4/   9] Loss:  1.67e-03\n",
            "[Epoch   73/ 100] [Batch    5/   9] Loss:  1.49e-03\n",
            "[Epoch   73/ 100] [Batch    6/   9] Loss:  1.36e-03\n",
            "[Epoch   73/ 100] [Batch    7/   9] Loss:  1.55e-03\n",
            "[Epoch   73/ 100] [Batch    8/   9] Loss:  1.93e-03\n",
            "[Epoch   73/ 100] [Batch    9/   9] Loss:  1.41e-03\n",
            "[Epoch   74/ 100] [Batch    1/   9] Loss:  1.67e-03\n",
            "[Epoch   74/ 100] [Batch    2/   9] Loss:  1.54e-03\n",
            "[Epoch   74/ 100] [Batch    3/   9] Loss:  1.78e-03\n",
            "[Epoch   74/ 100] [Batch    4/   9] Loss:  1.68e-03\n",
            "[Epoch   74/ 100] [Batch    5/   9] Loss:  1.60e-03\n",
            "[Epoch   74/ 100] [Batch    6/   9] Loss:  1.56e-03\n",
            "[Epoch   74/ 100] [Batch    7/   9] Loss:  1.84e-03\n",
            "[Epoch   74/ 100] [Batch    8/   9] Loss:  1.46e-03\n",
            "[Epoch   74/ 100] [Batch    9/   9] Loss:  1.43e-03\n",
            "[Epoch   75/ 100] [Batch    1/   9] Loss:  1.41e-03\n",
            "[Epoch   75/ 100] [Batch    2/   9] Loss:  1.48e-03\n",
            "[Epoch   75/ 100] [Batch    3/   9] Loss:  1.96e-03\n",
            "[Epoch   75/ 100] [Batch    4/   9] Loss:  1.68e-03\n",
            "[Epoch   75/ 100] [Batch    5/   9] Loss:  1.61e-03\n",
            "[Epoch   75/ 100] [Batch    6/   9] Loss:  1.71e-03\n",
            "[Epoch   75/ 100] [Batch    7/   9] Loss:  1.32e-03\n",
            "[Epoch   75/ 100] [Batch    8/   9] Loss:  2.24e-03\n",
            "[Epoch   75/ 100] [Batch    9/   9] Loss:  1.21e-03\n",
            "[Epoch   76/ 100] [Batch    1/   9] Loss:  1.64e-03\n",
            "[Epoch   76/ 100] [Batch    2/   9] Loss:  2.04e-03\n",
            "[Epoch   76/ 100] [Batch    3/   9] Loss:  1.89e-03\n",
            "[Epoch   76/ 100] [Batch    4/   9] Loss:  1.69e-03\n",
            "[Epoch   76/ 100] [Batch    5/   9] Loss:  1.59e-03\n",
            "[Epoch   76/ 100] [Batch    6/   9] Loss:  1.24e-03\n",
            "[Epoch   76/ 100] [Batch    7/   9] Loss:  1.44e-03\n",
            "[Epoch   76/ 100] [Batch    8/   9] Loss:  1.59e-03\n",
            "[Epoch   76/ 100] [Batch    9/   9] Loss:  1.45e-03\n",
            "[Epoch   77/ 100] [Batch    1/   9] Loss:  1.54e-03\n",
            "[Epoch   77/ 100] [Batch    2/   9] Loss:  1.61e-03\n",
            "[Epoch   77/ 100] [Batch    3/   9] Loss:  1.69e-03\n",
            "[Epoch   77/ 100] [Batch    4/   9] Loss:  1.58e-03\n",
            "[Epoch   77/ 100] [Batch    5/   9] Loss:  1.73e-03\n",
            "[Epoch   77/ 100] [Batch    6/   9] Loss:  1.91e-03\n",
            "[Epoch   77/ 100] [Batch    7/   9] Loss:  1.60e-03\n",
            "[Epoch   77/ 100] [Batch    8/   9] Loss:  1.59e-03\n",
            "[Epoch   77/ 100] [Batch    9/   9] Loss:  1.64e-03\n",
            "[Epoch   78/ 100] [Batch    1/   9] Loss:  1.52e-03\n",
            "[Epoch   78/ 100] [Batch    2/   9] Loss:  1.46e-03\n",
            "[Epoch   78/ 100] [Batch    3/   9] Loss:  1.78e-03\n",
            "[Epoch   78/ 100] [Batch    4/   9] Loss:  1.73e-03\n",
            "[Epoch   78/ 100] [Batch    5/   9] Loss:  1.68e-03\n",
            "[Epoch   78/ 100] [Batch    6/   9] Loss:  1.45e-03\n",
            "[Epoch   78/ 100] [Batch    7/   9] Loss:  1.66e-03\n",
            "[Epoch   78/ 100] [Batch    8/   9] Loss:  2.04e-03\n",
            "[Epoch   78/ 100] [Batch    9/   9] Loss:  1.01e-03\n",
            "[Epoch   79/ 100] [Batch    1/   9] Loss:  1.82e-03\n",
            "[Epoch   79/ 100] [Batch    2/   9] Loss:  1.53e-03\n",
            "[Epoch   79/ 100] [Batch    3/   9] Loss:  1.90e-03\n",
            "[Epoch   79/ 100] [Batch    4/   9] Loss:  1.51e-03\n",
            "[Epoch   79/ 100] [Batch    5/   9] Loss:  1.45e-03\n",
            "[Epoch   79/ 100] [Batch    6/   9] Loss:  1.54e-03\n",
            "[Epoch   79/ 100] [Batch    7/   9] Loss:  1.64e-03\n",
            "[Epoch   79/ 100] [Batch    8/   9] Loss:  1.60e-03\n",
            "[Epoch   79/ 100] [Batch    9/   9] Loss:  2.00e-03\n",
            "[Epoch   80/ 100] [Batch    1/   9] Loss:  1.47e-03\n",
            "[Epoch   80/ 100] [Batch    2/   9] Loss:  1.47e-03\n",
            "[Epoch   80/ 100] [Batch    3/   9] Loss:  1.66e-03\n",
            "[Epoch   80/ 100] [Batch    4/   9] Loss:  1.86e-03\n",
            "[Epoch   80/ 100] [Batch    5/   9] Loss:  1.73e-03\n",
            "[Epoch   80/ 100] [Batch    6/   9] Loss:  1.46e-03\n",
            "[Epoch   80/ 100] [Batch    7/   9] Loss:  1.18e-03\n",
            "[Epoch   80/ 100] [Batch    8/   9] Loss:  2.15e-03\n",
            "[Epoch   80/ 100] [Batch    9/   9] Loss:  1.62e-03\n",
            "[Epoch   81/ 100] [Batch    1/   9] Loss:  1.87e-03\n",
            "[Epoch   81/ 100] [Batch    2/   9] Loss:  1.73e-03\n",
            "[Epoch   81/ 100] [Batch    3/   9] Loss:  1.71e-03\n",
            "[Epoch   81/ 100] [Batch    4/   9] Loss:  1.77e-03\n",
            "[Epoch   81/ 100] [Batch    5/   9] Loss:  1.67e-03\n",
            "[Epoch   81/ 100] [Batch    6/   9] Loss:  1.41e-03\n",
            "[Epoch   81/ 100] [Batch    7/   9] Loss:  1.57e-03\n",
            "[Epoch   81/ 100] [Batch    8/   9] Loss:  1.32e-03\n",
            "[Epoch   81/ 100] [Batch    9/   9] Loss:  1.50e-03\n",
            "[Epoch   82/ 100] [Batch    1/   9] Loss:  1.84e-03\n",
            "[Epoch   82/ 100] [Batch    2/   9] Loss:  1.62e-03\n",
            "[Epoch   82/ 100] [Batch    3/   9] Loss:  1.53e-03\n",
            "[Epoch   82/ 100] [Batch    4/   9] Loss:  1.76e-03\n",
            "[Epoch   82/ 100] [Batch    5/   9] Loss:  1.29e-03\n",
            "[Epoch   82/ 100] [Batch    6/   9] Loss:  1.38e-03\n",
            "[Epoch   82/ 100] [Batch    7/   9] Loss:  1.70e-03\n",
            "[Epoch   82/ 100] [Batch    8/   9] Loss:  1.73e-03\n",
            "[Epoch   82/ 100] [Batch    9/   9] Loss:  1.97e-03\n",
            "[Epoch   83/ 100] [Batch    1/   9] Loss:  1.56e-03\n",
            "[Epoch   83/ 100] [Batch    2/   9] Loss:  1.73e-03\n",
            "[Epoch   83/ 100] [Batch    3/   9] Loss:  1.68e-03\n",
            "[Epoch   83/ 100] [Batch    4/   9] Loss:  1.28e-03\n",
            "[Epoch   83/ 100] [Batch    5/   9] Loss:  1.41e-03\n",
            "[Epoch   83/ 100] [Batch    6/   9] Loss:  1.97e-03\n",
            "[Epoch   83/ 100] [Batch    7/   9] Loss:  1.98e-03\n",
            "[Epoch   83/ 100] [Batch    8/   9] Loss:  1.75e-03\n",
            "[Epoch   83/ 100] [Batch    9/   9] Loss:  1.63e-03\n",
            "[Epoch   84/ 100] [Batch    1/   9] Loss:  1.91e-03\n",
            "[Epoch   84/ 100] [Batch    2/   9] Loss:  2.02e-03\n",
            "[Epoch   84/ 100] [Batch    3/   9] Loss:  1.64e-03\n",
            "[Epoch   84/ 100] [Batch    4/   9] Loss:  1.35e-03\n",
            "[Epoch   84/ 100] [Batch    5/   9] Loss:  1.55e-03\n",
            "[Epoch   84/ 100] [Batch    6/   9] Loss:  1.47e-03\n",
            "[Epoch   84/ 100] [Batch    7/   9] Loss:  1.59e-03\n",
            "[Epoch   84/ 100] [Batch    8/   9] Loss:  1.75e-03\n",
            "[Epoch   84/ 100] [Batch    9/   9] Loss:  1.62e-03\n",
            "[Epoch   85/ 100] [Batch    1/   9] Loss:  1.62e-03\n",
            "[Epoch   85/ 100] [Batch    2/   9] Loss:  1.96e-03\n",
            "[Epoch   85/ 100] [Batch    3/   9] Loss:  1.71e-03\n",
            "[Epoch   85/ 100] [Batch    4/   9] Loss:  1.65e-03\n",
            "[Epoch   85/ 100] [Batch    5/   9] Loss:  1.94e-03\n",
            "[Epoch   85/ 100] [Batch    6/   9] Loss:  1.67e-03\n",
            "[Epoch   85/ 100] [Batch    7/   9] Loss:  1.58e-03\n",
            "[Epoch   85/ 100] [Batch    8/   9] Loss:  1.13e-03\n",
            "[Epoch   85/ 100] [Batch    9/   9] Loss:  1.59e-03\n",
            "[Epoch   86/ 100] [Batch    1/   9] Loss:  2.17e-03\n",
            "[Epoch   86/ 100] [Batch    2/   9] Loss:  1.80e-03\n",
            "[Epoch   86/ 100] [Batch    3/   9] Loss:  1.44e-03\n",
            "[Epoch   86/ 100] [Batch    4/   9] Loss:  1.08e-03\n",
            "[Epoch   86/ 100] [Batch    5/   9] Loss:  1.74e-03\n",
            "[Epoch   86/ 100] [Batch    6/   9] Loss:  1.69e-03\n",
            "[Epoch   86/ 100] [Batch    7/   9] Loss:  1.71e-03\n",
            "[Epoch   86/ 100] [Batch    8/   9] Loss:  1.45e-03\n",
            "[Epoch   86/ 100] [Batch    9/   9] Loss:  1.68e-03\n",
            "[Epoch   87/ 100] [Batch    1/   9] Loss:  1.67e-03\n",
            "[Epoch   87/ 100] [Batch    2/   9] Loss:  1.63e-03\n",
            "[Epoch   87/ 100] [Batch    3/   9] Loss:  1.40e-03\n",
            "[Epoch   87/ 100] [Batch    4/   9] Loss:  1.64e-03\n",
            "[Epoch   87/ 100] [Batch    5/   9] Loss:  1.50e-03\n",
            "[Epoch   87/ 100] [Batch    6/   9] Loss:  1.86e-03\n",
            "[Epoch   87/ 100] [Batch    7/   9] Loss:  1.46e-03\n",
            "[Epoch   87/ 100] [Batch    8/   9] Loss:  1.85e-03\n",
            "[Epoch   87/ 100] [Batch    9/   9] Loss:  1.66e-03\n",
            "[Epoch   88/ 100] [Batch    1/   9] Loss:  1.38e-03\n",
            "[Epoch   88/ 100] [Batch    2/   9] Loss:  1.23e-03\n",
            "[Epoch   88/ 100] [Batch    3/   9] Loss:  1.92e-03\n",
            "[Epoch   88/ 100] [Batch    4/   9] Loss:  1.57e-03\n",
            "[Epoch   88/ 100] [Batch    5/   9] Loss:  1.68e-03\n",
            "[Epoch   88/ 100] [Batch    6/   9] Loss:  1.89e-03\n",
            "[Epoch   88/ 100] [Batch    7/   9] Loss:  1.41e-03\n",
            "[Epoch   88/ 100] [Batch    8/   9] Loss:  2.05e-03\n",
            "[Epoch   88/ 100] [Batch    9/   9] Loss:  1.36e-03\n",
            "[Epoch   89/ 100] [Batch    1/   9] Loss:  1.49e-03\n",
            "[Epoch   89/ 100] [Batch    2/   9] Loss:  1.73e-03\n",
            "[Epoch   89/ 100] [Batch    3/   9] Loss:  1.62e-03\n",
            "[Epoch   89/ 100] [Batch    4/   9] Loss:  1.63e-03\n",
            "[Epoch   89/ 100] [Batch    5/   9] Loss:  1.56e-03\n",
            "[Epoch   89/ 100] [Batch    6/   9] Loss:  1.31e-03\n",
            "[Epoch   89/ 100] [Batch    7/   9] Loss:  1.81e-03\n",
            "[Epoch   89/ 100] [Batch    8/   9] Loss:  1.99e-03\n",
            "[Epoch   89/ 100] [Batch    9/   9] Loss:  1.49e-03\n",
            "[Epoch   90/ 100] [Batch    1/   9] Loss:  1.37e-03\n",
            "[Epoch   90/ 100] [Batch    2/   9] Loss:  1.98e-03\n",
            "[Epoch   90/ 100] [Batch    3/   9] Loss:  1.47e-03\n",
            "[Epoch   90/ 100] [Batch    4/   9] Loss:  1.76e-03\n",
            "[Epoch   90/ 100] [Batch    5/   9] Loss:  1.84e-03\n",
            "[Epoch   90/ 100] [Batch    6/   9] Loss:  1.53e-03\n",
            "[Epoch   90/ 100] [Batch    7/   9] Loss:  1.75e-03\n",
            "[Epoch   90/ 100] [Batch    8/   9] Loss:  1.43e-03\n",
            "[Epoch   90/ 100] [Batch    9/   9] Loss:  1.81e-03\n"
          ],
          "name": "stdout"
        },
        {
          "output_type": "stream",
          "text": [
            "[Epoch   91/ 100] [Batch    1/   9] Loss:  1.51e-03\n",
            "[Epoch   91/ 100] [Batch    2/   9] Loss:  1.94e-03\n",
            "[Epoch   91/ 100] [Batch    3/   9] Loss:  1.51e-03\n",
            "[Epoch   91/ 100] [Batch    4/   9] Loss:  1.72e-03\n",
            "[Epoch   91/ 100] [Batch    5/   9] Loss:  1.38e-03\n",
            "[Epoch   91/ 100] [Batch    6/   9] Loss:  1.88e-03\n",
            "[Epoch   91/ 100] [Batch    7/   9] Loss:  1.68e-03\n",
            "[Epoch   91/ 100] [Batch    8/   9] Loss:  1.52e-03\n",
            "[Epoch   91/ 100] [Batch    9/   9] Loss:  1.51e-03\n",
            "[Epoch   92/ 100] [Batch    1/   9] Loss:  1.58e-03\n",
            "[Epoch   92/ 100] [Batch    2/   9] Loss:  1.54e-03\n",
            "[Epoch   92/ 100] [Batch    3/   9] Loss:  1.85e-03\n",
            "[Epoch   92/ 100] [Batch    4/   9] Loss:  1.70e-03\n",
            "[Epoch   92/ 100] [Batch    5/   9] Loss:  1.52e-03\n",
            "[Epoch   92/ 100] [Batch    6/   9] Loss:  1.25e-03\n",
            "[Epoch   92/ 100] [Batch    7/   9] Loss:  2.05e-03\n",
            "[Epoch   92/ 100] [Batch    8/   9] Loss:  1.76e-03\n",
            "[Epoch   92/ 100] [Batch    9/   9] Loss:  1.56e-03\n",
            "[Epoch   93/ 100] [Batch    1/   9] Loss:  1.59e-03\n",
            "[Epoch   93/ 100] [Batch    2/   9] Loss:  1.92e-03\n",
            "[Epoch   93/ 100] [Batch    3/   9] Loss:  1.42e-03\n",
            "[Epoch   93/ 100] [Batch    4/   9] Loss:  1.67e-03\n",
            "[Epoch   93/ 100] [Batch    5/   9] Loss:  1.43e-03\n",
            "[Epoch   93/ 100] [Batch    6/   9] Loss:  2.10e-03\n",
            "[Epoch   93/ 100] [Batch    7/   9] Loss:  1.44e-03\n",
            "[Epoch   93/ 100] [Batch    8/   9] Loss:  1.88e-03\n",
            "[Epoch   93/ 100] [Batch    9/   9] Loss:  2.01e-03\n",
            "[Epoch   94/ 100] [Batch    1/   9] Loss:  1.49e-03\n",
            "[Epoch   94/ 100] [Batch    2/   9] Loss:  1.82e-03\n",
            "[Epoch   94/ 100] [Batch    3/   9] Loss:  1.57e-03\n",
            "[Epoch   94/ 100] [Batch    4/   9] Loss:  1.80e-03\n",
            "[Epoch   94/ 100] [Batch    5/   9] Loss:  1.41e-03\n",
            "[Epoch   94/ 100] [Batch    6/   9] Loss:  2.01e-03\n",
            "[Epoch   94/ 100] [Batch    7/   9] Loss:  1.42e-03\n",
            "[Epoch   94/ 100] [Batch    8/   9] Loss:  1.91e-03\n",
            "[Epoch   94/ 100] [Batch    9/   9] Loss:  2.12e-03\n",
            "[Epoch   95/ 100] [Batch    1/   9] Loss:  1.36e-03\n",
            "[Epoch   95/ 100] [Batch    2/   9] Loss:  1.46e-03\n",
            "[Epoch   95/ 100] [Batch    3/   9] Loss:  1.85e-03\n",
            "[Epoch   95/ 100] [Batch    4/   9] Loss:  1.98e-03\n",
            "[Epoch   95/ 100] [Batch    5/   9] Loss:  1.93e-03\n",
            "[Epoch   95/ 100] [Batch    6/   9] Loss:  1.95e-03\n",
            "[Epoch   95/ 100] [Batch    7/   9] Loss:  1.36e-03\n",
            "[Epoch   95/ 100] [Batch    8/   9] Loss:  1.49e-03\n",
            "[Epoch   95/ 100] [Batch    9/   9] Loss:  1.48e-03\n",
            "[Epoch   96/ 100] [Batch    1/   9] Loss:  1.38e-03\n",
            "[Epoch   96/ 100] [Batch    2/   9] Loss:  1.54e-03\n",
            "[Epoch   96/ 100] [Batch    3/   9] Loss:  1.90e-03\n",
            "[Epoch   96/ 100] [Batch    4/   9] Loss:  2.11e-03\n",
            "[Epoch   96/ 100] [Batch    5/   9] Loss:  1.46e-03\n",
            "[Epoch   96/ 100] [Batch    6/   9] Loss:  1.78e-03\n",
            "[Epoch   96/ 100] [Batch    7/   9] Loss:  1.58e-03\n",
            "[Epoch   96/ 100] [Batch    8/   9] Loss:  1.51e-03\n",
            "[Epoch   96/ 100] [Batch    9/   9] Loss:  1.58e-03\n",
            "[Epoch   97/ 100] [Batch    1/   9] Loss:  1.91e-03\n",
            "[Epoch   97/ 100] [Batch    2/   9] Loss:  2.03e-03\n",
            "[Epoch   97/ 100] [Batch    3/   9] Loss:  1.69e-03\n",
            "[Epoch   97/ 100] [Batch    4/   9] Loss:  1.26e-03\n",
            "[Epoch   97/ 100] [Batch    5/   9] Loss:  1.54e-03\n",
            "[Epoch   97/ 100] [Batch    6/   9] Loss:  1.64e-03\n",
            "[Epoch   97/ 100] [Batch    7/   9] Loss:  1.69e-03\n",
            "[Epoch   97/ 100] [Batch    8/   9] Loss:  1.63e-03\n",
            "[Epoch   97/ 100] [Batch    9/   9] Loss:  1.69e-03\n",
            "[Epoch   98/ 100] [Batch    1/   9] Loss:  1.65e-03\n",
            "[Epoch   98/ 100] [Batch    2/   9] Loss:  1.80e-03\n",
            "[Epoch   98/ 100] [Batch    3/   9] Loss:  1.19e-03\n",
            "[Epoch   98/ 100] [Batch    4/   9] Loss:  1.77e-03\n",
            "[Epoch   98/ 100] [Batch    5/   9] Loss:  1.55e-03\n",
            "[Epoch   98/ 100] [Batch    6/   9] Loss:  2.04e-03\n",
            "[Epoch   98/ 100] [Batch    7/   9] Loss:  1.54e-03\n",
            "[Epoch   98/ 100] [Batch    8/   9] Loss:  1.79e-03\n",
            "[Epoch   98/ 100] [Batch    9/   9] Loss:  1.31e-03\n",
            "[Epoch   99/ 100] [Batch    1/   9] Loss:  1.76e-03\n",
            "[Epoch   99/ 100] [Batch    2/   9] Loss:  1.64e-03\n",
            "[Epoch   99/ 100] [Batch    3/   9] Loss:  1.82e-03\n",
            "[Epoch   99/ 100] [Batch    4/   9] Loss:  1.36e-03\n",
            "[Epoch   99/ 100] [Batch    5/   9] Loss:  1.77e-03\n",
            "[Epoch   99/ 100] [Batch    6/   9] Loss:  1.65e-03\n",
            "[Epoch   99/ 100] [Batch    7/   9] Loss:  1.86e-03\n",
            "[Epoch   99/ 100] [Batch    8/   9] Loss:  1.47e-03\n",
            "[Epoch   99/ 100] [Batch    9/   9] Loss:  1.69e-03\n",
            "[Epoch  100/ 100] [Batch    1/   9] Loss:  1.45e-03\n",
            "[Epoch  100/ 100] [Batch    2/   9] Loss:  1.73e-03\n",
            "[Epoch  100/ 100] [Batch    3/   9] Loss:  1.66e-03\n",
            "[Epoch  100/ 100] [Batch    4/   9] Loss:  1.99e-03\n",
            "[Epoch  100/ 100] [Batch    5/   9] Loss:  1.69e-03\n",
            "[Epoch  100/ 100] [Batch    6/   9] Loss:  1.49e-03\n",
            "[Epoch  100/ 100] [Batch    7/   9] Loss:  1.75e-03\n",
            "[Epoch  100/ 100] [Batch    8/   9] Loss:  1.59e-03\n",
            "[Epoch  100/ 100] [Batch    9/   9] Loss:  1.18e-03\n"
          ],
          "name": "stdout"
        },
        {
          "output_type": "execute_result",
          "data": {
            "text/plain": [
              "LinearModel(\n",
              "  (linear): Linear(in_features=1, out_features=1, bias=True)\n",
              ")"
            ]
          },
          "metadata": {
            "tags": []
          },
          "execution_count": 29
        }
      ]
    },
    {
      "cell_type": "code",
      "metadata": {
        "id": "EY0Zl2APn6vi"
      },
      "source": [
        "if input_dim == output_dim == 1:\n",
        "    n_test = 500\n",
        "    X_test = np.random.rand(n_test, input_dim)\n",
        "    y_pred = []\n",
        "\n",
        "    state_dict = model.state_dict()\n",
        "\n",
        "    for idx in range(len(train_hist['weight'])):\n",
        "        state_dict['linear.weight'] = torch.tensor([[train_hist['weight'][idx]]])\n",
        "        state_dict['linear.bias'] = torch.tensor([train_hist['bias'][idx]])\n",
        "        model.load_state_dict(state_dict)\n",
        "\n",
        "        y_pred.append(model.forward(torch.tensor(X_test.astype('f'))).detach().numpy())    "
      ],
      "execution_count": null,
      "outputs": []
    },
    {
      "cell_type": "code",
      "metadata": {
        "id": "508-9shSn6vj",
        "outputId": "5894c7b1-b414-48f6-92a9-c2a23dd4f1a7"
      },
      "source": [
        "if input_dim == output_dim == 1:\n",
        "    fig = plt.figure(figsize=(15, 5))\n",
        "    fig.clf()\n",
        "    \n",
        "    ax = fig.add_subplot(1, 3, 1)\n",
        "    levels = np.logspace(np.log(np.min(loss_values)), np.log(np.max(loss_values)), 20)\n",
        "    ax.contourf(ww, bb, loss_values, levels=levels, norm=colors.LogNorm())\n",
        "    ax.plot(train_hist['weight'], train_hist['bias'], '.-b')\n",
        "    ax.plot(A[0], b, 'r*', markersize=10)\n",
        "    ax.set_xlabel('weight')\n",
        "    ax.set_ylabel('bias')\n",
        "    ax.legend(['optim', '(A, b)'])\n",
        "    ax.grid(True)\n",
        "    ax.set_xlim(-2, 2) \n",
        "    ax.set_ylim(-2, 2) \n",
        "    \n",
        "    ax = fig.add_subplot(1, 3, 2)\n",
        "    ax.loglog(np.abs(train_hist['loss']))\n",
        "    ax.set_xlabel('Iter')\n",
        "    ax.set_ylabel('Loss')\n",
        "    ax.grid(True)\n",
        "    \n",
        "    ax = fig.add_subplot(1, 3, 3)\n",
        "    ax.plot(X_train, y_train, '.')\n",
        "    a=ax.plot(X_test, y_pred[0], '-', alpha=0.1)\n",
        "    for y in y_pred[1:]:\n",
        "        ax.plot(X_test, y, '-', alpha=0.1, color=a[0].get_color())\n",
        "    ax.plot(X_test, y_pred[-1], 'k')\n",
        "    ax.grid(True)   \n",
        "\n",
        "    fig.tight_layout()\n",
        "\n",
        "else:\n",
        "    fig = plt.figure()\n",
        "    fig.clf()\n",
        "    ax = fig.gca()\n",
        "    ax.loglog(np.abs(train_hist['loss']))\n",
        "    ax.set_xlabel('Iter')\n",
        "    ax.set_ylabel('Loss')\n",
        "    ax.grid(True)"
      ],
      "execution_count": null,
      "outputs": [
        {
          "output_type": "display_data",
          "data": {
            "image/png": "[encoded data removed]",
            "text/plain": [
              "<Figure size 1080x360 with 3 Axes>"
            ]
          },
          "metadata": {
            "tags": [],
            "needs_background": "light"
          }
        }
      ]
    },
    {
      "cell_type": "code",
      "metadata": {
        "id": "KQgyGKMRn6vk"
      },
      "source": [
        ""
      ],
      "execution_count": null,
      "outputs": []
    }
  ]
}