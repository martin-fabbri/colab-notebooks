{
 "cells": [
  {
   "cell_type": "markdown",
   "metadata": {
    "colab_type": "text",
    "id": "view-in-github"
   },
   "source": [
    "<a href=\"https://colab.research.google.com/github/martin-fabbri/colab-notebooks/blob/master/tigergraph/tigergraph_inventor_schema_creation.ipynb\" target=\"_parent\"><img src=\"https://colab.research.google.com/assets/colab-badge.svg\" alt=\"Open In Colab\"/></a>"
   ]
  },
  {
   "cell_type": "markdown",
   "metadata": {
    "id": "owRhnxW15t_w"
   },
   "source": [
    "## Install pyTigerGraph"
   ]
  },
  {
   "cell_type": "code",
   "execution_count": 1,
   "metadata": {
    "colab": {
     "base_uri": "https://localhost:8080/"
    },
    "id": "JmsrV-SNnx31",
    "outputId": "238a1bd3-c7d0-48c5-f842-d3766bdae2fb"
   },
   "outputs": [
    {
     "name": "stdout",
     "output_type": "stream",
     "text": [
      "Python implementation: CPython\n",
      "Python version       : 3.9.10\n",
      "IPython version      : 8.0.1\n",
      "\n",
      "numpy       : 1.22.2\n",
      "pyTigerGraph: 0.0.9.9.2\n",
      "\n"
     ]
    }
   ],
   "source": [
    "from IPython.display import clear_output\n",
    "!pip install -qq watermark\n",
    "\n",
    "################################\n",
    "# Packages to install\n",
    "################################\n",
    "!pip install -U -qq pyTigerGraph\n",
    "\n",
    "################################\n",
    "\n",
    "clear_output()\n",
    "%reload_ext watermark\n",
    "%watermark -v -p numpy,pyTigerGraph"
   ]
  },
  {
   "cell_type": "markdown",
   "metadata": {
    "id": "7fKgagBONaYd"
   },
   "source": [
    "# Global Schema\n",
    "\n",
    "This is an overarching schema that can be used by as many or as few **Graphs** as you desire. The purpose of the **Global Schema** is to give you a common schema that you CAN pull from when setting up Graphs. This is helpful if you have common elements between your different Graphs and want those common elements to have the same schema. For example, my **Global Schema** might contain the entirety of information about my supply chain. Everything from suppliers, warehouses, transportation lines, user orders, product information, user shipping information. However, one of our Graphs might want to only contain information about the suppliers, warehouses, and transportation as that side of the business doesn't need access to customer information. I could use just those elements and their edges from the Global Schema to populate this Graph without having to include all fo the information about the ordering user."
   ]
  },
  {
   "cell_type": "markdown",
   "metadata": {
    "id": "r4N1v4O7N6TI"
   },
   "source": [
    "# Graph Schema\n",
    "As we talked about above, the Graph Schema can contain as much or none of the Global Schema as you desire. In addition, the Graph Schema can contain elements that are not in the Global Schema. From the example above, I want to keep track of the manufacturing side of my supply chain. I can include the suppliers, warehouses, and transportation from the Global Schema, but I can also add in something like weather forecasts and supply forecasts that could be used to predict disruptions to my manufacturing chain. This data can exist in the Graph Schema for the Manufacturing Graph, but not in the Global Schema"
   ]
  },
  {
   "cell_type": "markdown",
   "metadata": {
    "id": "knyQjWVgOgcp"
   },
   "source": [
    "## GSQL Schema Design\n",
    "\n",
    "For times when you don't want to click through the interface in order to create your schema, you can do it via TigerGraph's language **GSQL**. **GSQL** can be executed on your TigerGraph server via the **GSQL** terminal or remotely by one of our many TigerGraph connectors. For this example we'll be using [pyTigerGraph](https://github.com/pyTigerGraph/pyTigerGraph) to interface through this Python notebook. The GSQL will remain the same regardless of which connector method you use."
   ]
  },
  {
   "cell_type": "markdown",
   "metadata": {},
   "source": [
    "### Creating a Vertex\n",
    "\n",
    "This is what the GSQL required to create the **Application** vertex looks like:\n",
    "\n",
    "`CREATE VERTEX Application(PRIMARY_ID id STRING, filingDate DATETIME, confirmationNumber STRING, docketNumber STRING, title STRING) WITH PRIMARY_ID_AS_ATTRIBUTE=\"true\"`\n",
    "\n",
    "To simplify things, this is the pattern your most basic vertex deceleration will follow:\n",
    "\n",
    "`CREATE VERTEX <VertexType>(PRIMARY_ID id <DataType>, <attributeName1> <DataType1>) WITH PRIMARY_ID_AS_ATTRIBUTE=\"true\"`\n",
    "\n",
    "Additional attributes are separated by commas and placed after the first."
   ]
  },
  {
   "cell_type": "markdown",
   "metadata": {},
   "source": [
    "### Creating an Edge\n",
    "\n",
    "The GSQL to create an edge is extremely similar to that to create a vertex. Here's the **is_continuation_type** edge:\n",
    "\n",
    "`CREATE UNDIRECTED EDGE is_continuation_type(FROM Application, TO ContinuationIype)`\n",
    "\n",
    "Let's look at a **Directed** edge for comparison:\n",
    "\n",
    "`CREATE DIRECTED EDGE has_child(FROM Application, TO Application, date DATETIME) WITH REVERSE_EDGE=\"reverse_has_child\"`\n",
    "\n",
    "And lastly, the pattern ( [  ] = **Optional** ):\n",
    "\n",
    "`CREATE DIRECTED|UNDIRECTED EDGE <edge_name>(FROM <VertexType> TO <VertexType>, <attributeName1> <DataType1>) [WITH REVERSE_EDGE=<reverse_edge_name>]`"
   ]
  },
  {
   "cell_type": "markdown",
   "metadata": {},
   "source": [
    "#### Compound Edges\n",
    "\n",
    "[TODO] This is a slightly more advanced concept. Needs some research.\n",
    "\n",
    "Let's take a look at what a **Compound Edge** looks like.\n",
    "\n",
    "`CREATE UNDIRECTED EDGE in_code (FROM Address, TO PostalCode | FROM Correspondence, TO PostalCode | FROM City TO, PostalCode)`\n",
    "\n",
    "Notice that pipes separate the individual **Source** - **Target** pairs.\n"
   ]
  },
  {
   "cell_type": "markdown",
   "metadata": {
    "id": "il2Gp0m4NE1E"
   },
   "source": [
    "## The Full Schema\n",
    "\n",
    "Now it's time to declare our whole schema. I'm going to separate the declarations by vertices and edges, but there is nothing stopping you from declaring your whole schema in one statement.\n",
    "\n",
    "Read through this and see how it lines up with the visual schema that we created earlier."
   ]
  },
  {
   "cell_type": "markdown",
   "metadata": {
    "id": "Ogd970yCNEyT"
   },
   "source": [
    "### Vertices\n",
    "\n",
    "```\n",
    "CREATE VERTEX Application(PRIMARY_ID id STRING, filingDate DATETIME, confirmationNumber STRING, docketNumber STRING, title STRING) WITH PRIMARY_ID_AS_ATTRIBUTE=\"true\"\n",
    "CREATE VERTEX ContinuationType(PRIMARY_ID id STRING) WITH PRIMARY_ID_AS_ATTRIBUTE=\"true\"\n",
    "CREATE VERTEX USPCClass(PRIMARY_ID id STRING) WITH PRIMARY_ID_AS_ATTRIBUTE=\"true\"\n",
    "CREATE VERTEX USPCSubclass(PRIMARY_ID id STRING) WITH PRIMARY_ID_AS_ATTRIBUTE=\"true\"\n",
    "CREATE VERTEX EventCode(PRIMARY_ID id STRING, description STRING) WITH PRIMARY_ID_AS_ATTRIBUTE=\"true\"\n",
    "CREATE VERTEX PTAEvent(PRIMARY_ID id STRING, description STRING, applicantDelay FLOAT, usptoDelay FLOAT) WITH PRIMARY_ID_AS_ATTRIBUTE=\"true\"\n",
    "CREATE VERTEX ExtensionIndicator(PRIMARY_ID id STRING) WITH PRIMARY_ID_AS_ATTRIBUTE=\"true\"\n",
    "CREATE VERTEX PTASummary(PRIMARY_ID id STRING, ptoDelayA FLOAT, ptoDelayB FLOAT, ptoDelayC FLOAT, overlapDelay FLOAT, nonOverlapDelay FLOAT, manualAdjustment FLOAT, applicationDelay FLOAT, PTA FLOAT) WITH PRIMARY_ID_AS_ATTRIBUTE=\"true\"\n",
    "CREATE VERTEX PTESummay(PRIMARY_ID id STRING, ptoAdjustment FLOAT, ptoDelay FLOAT, applicantDelay FLOAT, PTE FLOAT) WITH PRIMARY_ID_AS_ATTRIBUTE=\"true\"\n",
    "CREATE VERTEX ApplicationStatus(PRIMARY_ID id STRING) WITH PRIMARY_ID_AS_ATTRIBUTE=\"true\"\n",
    "CREATE VERTEX PatentNumber(PRIMARY_ID id STRING) WITH PRIMARY_ID_AS_ATTRIBUTE=\"true\"\n",
    "CREATE VERTEX Examiner(PRIMARY_ID id STRING, fullName STRING) WITH PRIMARY_ID_AS_ATTRIBUTE=\"true\"\n",
    "CREATE VERTEX ArtUnit(PRIMARY_ID id STRING) WITH PRIMARY_ID_AS_ATTRIBUTE=\"true\"\n",
    "CREATE VERTEX Attorney(PRIMARY_ID id STRING, firstName STRING, middleName STRING, lastName STRING, suffix STRING, phone STRING) WITH PRIMARY_ID_AS_ATTRIBUTE=\"true\"\n",
    "CREATE VERTEX PracticeCategory(PRIMARY_ID id STRING) WITH PRIMARY_ID_AS_ATTRIBUTE=\"true\"\n",
    "CREATE VERTEX SmallEntity(PRIMARY_ID id STRING) WITH PRIMARY_ID_AS_ATTRIBUTE=\"true\"\n",
    "CREATE VERTEX First_toFile(PRIMARY_ID id STRING) WITH PRIMARY_ID_AS_ATTRIBUTE=\"true\"\n",
    "CREATE VERTEX FileLocation(PRIMARY_ID id STRING) WITH PRIMARY_ID_AS_ATTRIBUTE=\"true\"\n",
    "CREATE VERTEX PGPUBNumber(PRIMARY_ID id STRING) WITH PRIMARY_ID_AS_ATTRIBUTE=\"true\"\n",
    "CREATE VERTEX WIPONumber(PRIMARY_ID id STRING) WITH PRIMARY_ID_AS_ATTRIBUTE=\"true\"\n",
    "CREATE VERTEX Inventor(PRIMARY_ID id STRING, first STRING, middle STRING, last STRING) WITH PRIMARY_ID_AS_ATTRIBUTE=\"true\"\n",
    "CREATE VERTEX ForeignParent(PRIMARY_ID id STRING) WITH PRIMARY_ID_AS_ATTRIBUTE=\"true\"\n",
    "CREATE VERTEX City(PRIMARY_ID id STRING) WITH PRIMARY_ID_AS_ATTRIBUTE=\"true\"\n",
    "CREATE VERTEX Region(PRIMARY_ID id STRING) WITH PRIMARY_ID_AS_ATTRIBUTE=\"true\"\n",
    "CREATE VERTEX Country(PRIMARY_ID id STRING) WITH PRIMARY_ID_AS_ATTRIBUTE=\"true\"\n",
    "CREATE VERTEX PostalCode(PRIMARY_ID id STRING) WITH PRIMARY_ID_AS_ATTRIBUTE=\"true\"\n",
    "CREATE VERTEX Correspondence(PRIMARY_ID id STRING, name STRING, customerNumber STRING) WITH PRIMARY_ID_AS_ATTRIBUTE=\"true\"\n",
    "CREATE VERTEX Address(PRIMARY_ID id STRING, line1 STRING, line2 STRING, line3 STRING) WITH PRIMARY_ID_AS_ATTRIBUTE=\"true\"\n",
    "```"
   ]
  },
  {
   "cell_type": "markdown",
   "metadata": {
    "id": "PLdq68t1NEvA"
   },
   "source": [
    "### Edges\n",
    "\n",
    "```\n",
    "CREATE DIRECTED EDGE has_child(FROM Application, TO Application, date DATETIME) WITH REVERSE_EDGE=\"reverse_has_child\"\n",
    "CREATE DIRECTED EDGE has_parent(FROM Application, TO Application, date DATETIME) WITH REVERSE_EDGE=\"reverse_has_parent\"\n",
    "CREATE UNDIRECTED EDGE is_continuation_type(FROM Application, TO ContinuationType)\n",
    "CREATE UNDIRECTED EDGE has_class(FROM Application, TO USPCClass)\n",
    "CREATE UNDIRECTED EDGE has_subclass(FROM Application, TO USPCSubclass)\n",
    "CREATE DIRECTED EDGE is_subclass(FROM USPCSubclass, TO USPCClass) WITH REVERSE_EDGE=\"reverse_is_subclass\"\n",
    "CREATE UNDIRECTED EDGE has_code(FROM Application, TO EventCode, date DATETIME)\n",
    "CREATE UNDIRECTED EDGE has_pta_event(FROM Application, TO PTAEvent, date DATETIME)\n",
    "CREATE UNDIRECTED EDGE is_extension(FROM PTAEvent, TO ExtensionIndicator)\n",
    "CREATE DIRECTED EDGE has_start(FROM PTAEvent, TO PTAEvent) WITH REVERSE_EDGE=\"reverse_has_start\"\n",
    "CREATE UNDIRECTED EDGE has_pta_summary(FROM Application, TO PTASummary)\n",
    "CREATE UNDIRECTED EDGE has_pte_summary(FROM Application, TO PTESummay)\n",
    "CREATE UNDIRECTED EDGE has_status(FROM Application, TO ApplicationStatus, date DATETIME)\n",
    "CREATE UNDIRECTED EDGE has_patent(FROM Application, TO PatentNumber, date DATETIME)\n",
    "CREATE UNDIRECTED EDGE has_examiner(FROM Application, TO Examiner)\n",
    "CREATE UNDIRECTED EDGE from_unit(FROM Examiner, TO ArtUnit)\n",
    "CREATE UNDIRECTED EDGE has_attorney(FROM Application, TO Attorney)\n",
    "CREATE UNDIRECTED EDGE has_practice_category(FROM Attorney, TO PracticeCategory)\n",
    "CREATE UNDIRECTED EDGE is_small(FROM Application, TO SmallEntity)\n",
    "CREATE UNDIRECTED EDGE follows_ftf(FROM Application, TO First_toFile)\n",
    "CREATE UNDIRECTED EDGE at_location(FROM Application, TO FileLocation, date DATETIME)\n",
    "CREATE UNDIRECTED EDGE hasIGPUB(FROM Application, TO PGPUBNumber, date DATETIME)\n",
    "CREATE UNDIRECTED EDGE hasIIPO(FROM Application, TO WIPONumber, date DATETIME)\n",
    "CREATE UNDIRECTED EDGE filed_application(FROM Application, TO Inventor, rank INT)\n",
    "CREATE UNDIRECTED EDGE has_foreign_parent(FROM Application, TO ForeignParent, date DATETIME)\n",
    "CREATE UNDIRECTED EDGE from_city(FROM Inventor, TO City)\n",
    "CREATE UNDIRECTED EDGE from_region(FROM Inventor, TO Region)\n",
    "CREATE UNDIRECTED EDGE from_country(FROM Inventor, TO Country)\n",
    "CREATE UNDIRECTED EDGE filed_country(FROM ForeignParent, TO Country)\n",
    "CREATE UNDIRECTED EDGE has_correspondence(FROM Inventor, TO Correspondence)\n",
    "CREATE UNDIRECTED EDGE has_address(FROM Address, TO Correspondence)\n",
    "CREATE UNDIRECTED EDGE in_code(FROM City, TO PostalCode | FROM Correspondence, TO PostalCode | FROM Address, TO PostalCode)\n",
    "CREATE UNDIRECTED EDGE in_region(FROM PostalCode, TO Region | FROM Correspondence, TO Region | FROM Address, TO Region)\n",
    "CREATE UNDIRECTED EDGE in_country(FROM PostalCode, TO Country | FROM Country, TO Region | FROM Correspondence, TO Country | FROM Address, TO Country)\n",
    "CREATE UNDIRECTED EDGE in_city(FROM Region, TO City | FROM Correspondence, TO City | FROM Address, TO City)\n",
    "```"
   ]
  },
  {
   "cell_type": "markdown",
   "metadata": {},
   "source": [
    "#### Solution Connection"
   ]
  },
  {
   "cell_type": "code",
   "execution_count": 18,
   "metadata": {
    "id": "px35yITJNEr_"
   },
   "outputs": [
    {
     "data": {
      "text/plain": [
       "'---- Global vertices, edges, and all graphs\\nVertex Types:\\n- VERTEX Paper(PRIMARY_ID id INT, x LIST<INT>, y INT, train_mask BOOL, val_mask BOOL, test_mask BOOL) WITH STATS=\"OUTDEGREE_BY_EDGETYPE\", PRIMARY_ID_AS_ATTRIBUTE=\"true\"\\nEdge Types:\\n- DIRECTED EDGE Cite(FROM Paper, TO Paper)\\n\\nGraphs:\\n- Graph Cora(Paper:v, Cite:e)\\nJobs:\\n\\n\\nJSON API version: v2\\nSyntax version: v2\\n'"
      ]
     },
     "execution_count": 18,
     "metadata": {},
     "output_type": "execute_result"
    }
   ],
   "source": [
    "import pyTigerGraph as tg\n",
    "\n",
    "# connection parameters\n",
    "# hostName is the TigerGraph solution URL\n",
    "hostName = \"http://localhost\"\n",
    "graphName = \"Cora\"\n",
    "userName = \"tigergraph\"\n",
    "password = \"tigergraph\"\n",
    "\n",
    "# establish the connection to the TigerGraph Solution\n",
    "conn = tg.TigerGraphConnection(host=hostName, username=userName, password=password)\n",
    "\n",
    "# print any current schema so we can verify that we are connected\n",
    "conn.gsql('LS')"
   ]
  },
  {
   "cell_type": "markdown",
   "metadata": {},
   "source": [
    "#### Graph Connection\n",
    "\n",
    "Once connected to the Solution, we can create the required Secret and Token needed to authenticate with our Graph."
   ]
  },
  {
   "cell_type": "code",
   "execution_count": 19,
   "metadata": {},
   "outputs": [
    {
     "data": {
      "text/plain": [
       "{'Paper': 2708}"
      ]
     },
     "execution_count": 19,
     "metadata": {},
     "output_type": "execute_result"
    }
   ],
   "source": [
    "# set the name of the graph that we want to connect to\n",
    "conn.graphname = graphName\n",
    "\n",
    "# create a secret\n",
    "secret = conn.createSecret()\n",
    "# use the secret to get a token\n",
    "authToken = conn.getToken(secret)[0]\n",
    "\n",
    "# connect to graph with token\n",
    "conn = tg.TigerGraphConnection(host=hostName, username=userName, password=password, graphname=graphName, apiToken=authToken)\n",
    "\n",
    "# listing vertex count requires graph authentication and will prove that we're securely connected to the Graph\n",
    "conn.getVertexCount(\"*\")"
   ]
  },
  {
   "cell_type": "markdown",
   "metadata": {},
   "source": [
    "#### Clearing the Schema (optional)\n",
    "\n",
    "Since we're going to be loading in the full schema, we should clear any currently loaded schema from the graph as it will throw an error if we try to create a Vertex or Edge with the same name as one that already exists."
   ]
  },
  {
   "cell_type": "code",
   "execution_count": 20,
   "metadata": {},
   "outputs": [
    {
     "name": "stdout",
     "output_type": "stream",
     "text": [
      "CREATE SCHEMA_CHANGE JOB clearGraph FOR GRAPH Patents {DROP VERTEX Paper;DROP EDGE Cite;}\n",
      "Graph 'patents' does not exist.\n",
      "Error: Currently not using any graphs! Please use 'USE GRAPH' command to switch to a graph. Create a graph if no graph exists.\n",
      "Graph 'patents' does not exist.\n",
      "Error: Currently not using any graphs! Please use 'USE GRAPH' command to switch to a graph. Create a graph if no graph exists.\n",
      "Graph 'patents' does not exist.\n",
      "Semantic Check Fails: These jobs could not be found anywhere: [clearGraph].\n"
     ]
    }
   ],
   "source": [
    "# Get a list of vertices and edges currently in the graph schema\n",
    "vertices = conn.getVertexTypes()\n",
    "edges = conn.getEdgeTypes()\n",
    "\n",
    "# we need a SCHEMA_CHANGE JOB to change the schema, we're going to put that together in the next couple lines\n",
    "changeJob = '''CREATE SCHEMA_CHANGE JOB clearGraph FOR GRAPH Patents {'''\n",
    "\n",
    "for vertex in vertices:\n",
    "    changeJob += ('''DROP VERTEX ''' + vertex + ';')\n",
    "\n",
    "for edge in edges:\n",
    "    changeJob += ('''DROP EDGE ''' + edge + ';')\n",
    "\n",
    "changeJob += '}'\n",
    "\n",
    "# print the complete change job\n",
    "print(changeJob)\n",
    "\n",
    "# add the job to the graph\n",
    "print(conn.gsql('''\n",
    "    USE GRAPH patents\n",
    "    ''' + changeJob))\n",
    "# execute the change job\n",
    "print(conn.gsql('''\n",
    "    USE GRAPH patents\n",
    "    RUN SCHEMA_CHANGE JOB clearGraph\n",
    "    '''))\n",
    "# delete the change job\n",
    "print(conn.gsql('''\n",
    "    USE GRAPH patents\n",
    "    DROP JOB clearGraph\n",
    "    '''))"
   ]
  },
  {
   "cell_type": "markdown",
   "metadata": {},
   "source": [
    "#### Clearing the Graph\n",
    "\n",
    "Via GSQL, it's much easier for us to create our schema in the **Global** manner, then create a **Graph** utilizing elements from that **Global** schema. Adding schema to an existing **Graph** is possible, it just requites a [SchemaIhange Job](https://docs.tigergraph.com/gsql-ref/3.3/ddl-and-loading/modifying-a-graph-schema) rather than schema definition.\n",
    "\n",
    "Because this process is creating a new **Graph** from our **Global** schema, we need to drop our old **Graph** because we can't have two graphs with the same name.\n",
    "\n",
    "Remember how we needed a **Secret** and **Token** to connect to a graph specifically? Once we delete our current Graph and create a new one, we will need to create a new **Secret** and **Token** tied to that Graph so we can connect to it."
   ]
  },
  {
   "cell_type": "code",
   "execution_count": 21,
   "metadata": {},
   "outputs": [
    {
     "name": "stdout",
     "output_type": "stream",
     "text": [
      "The graph Patents could not be dropped!\n"
     ]
    }
   ],
   "source": [
    "print(conn.gsql('DROP GRAPH Patents'))"
   ]
  },
  {
   "cell_type": "markdown",
   "metadata": {},
   "source": [
    "#### Loading the Schema\n",
    "\n",
    "It's time to load in our schema. I'm going to do this in separate parts for vertices and edges, but both could be done in the same statement."
   ]
  },
  {
   "cell_type": "code",
   "execution_count": 23,
   "metadata": {},
   "outputs": [
    {
     "data": {
      "text/plain": [
       "'Successfully created vertex types: [Application].\\nSuccessfully created vertex types: [ContinuationType].\\nSuccessfully created vertex types: [USPCClass].\\nSuccessfully created vertex types: [USPCSubclass].\\nSuccessfully created vertex types: [EventCode].\\nSuccessfully created vertex types: [PTAEvent].\\nSuccessfully created vertex types: [ExtensionIndicator].\\nSuccessfully created vertex types: [PTASummary].\\nSuccessfully created vertex types: [PTESummay].\\nSuccessfully created vertex types: [ApplicationStatus].\\nSuccessfully created vertex types: [PatentNumber].\\nSuccessfully created vertex types: [Examiner].\\nSuccessfully created vertex types: [ArtUnit].\\nSuccessfully created vertex types: [Attorney].\\nSuccessfully created vertex types: [PracticeCategory].\\nSuccessfully created vertex types: [SmallEntity].\\nSuccessfully created vertex types: [First_toFile].\\nSuccessfully created vertex types: [FileLocation].\\nSuccessfully created vertex types: [PGPUBNumber].\\nSuccessfully created vertex types: [WIPONumber].\\nSuccessfully created vertex types: [Inventor].\\nSuccessfully created vertex types: [ForeignParent].\\nSuccessfully created vertex types: [City].\\nSuccessfully created vertex types: [Region].\\nSuccessfully created vertex types: [Country].\\nSuccessfully created vertex types: [PostalCode].\\nSuccessfully created vertex types: [Correspondence].\\nSuccessfully created vertex types: [Address].'"
      ]
     },
     "execution_count": 23,
     "metadata": {},
     "output_type": "execute_result"
    }
   ],
   "source": [
    "# Vertices\n",
    "conn.gsql(\n",
    "    \"\"\"\n",
    "USE GLOBAL\n",
    "CREATE VERTEX Application(PRIMARY_ID id STRING, filingDate DATETIME, confirmationNumber STRING, docketNumber STRING, title STRING) WITH PRIMARY_ID_AS_ATTRIBUTE=\"true\"\n",
    "CREATE VERTEX ContinuationType(PRIMARY_ID id STRING) WITH PRIMARY_ID_AS_ATTRIBUTE=\"true\"\n",
    "CREATE VERTEX USPCClass(PRIMARY_ID id STRING) WITH PRIMARY_ID_AS_ATTRIBUTE=\"true\"\n",
    "CREATE VERTEX USPCSubclass(PRIMARY_ID id STRING) WITH PRIMARY_ID_AS_ATTRIBUTE=\"true\"\n",
    "CREATE VERTEX EventCode(PRIMARY_ID id STRING, description STRING) WITH PRIMARY_ID_AS_ATTRIBUTE=\"true\"\n",
    "CREATE VERTEX PTAEvent(PRIMARY_ID id STRING, description STRING, applicantDelay FLOAT, usptoDelay FLOAT) WITH PRIMARY_ID_AS_ATTRIBUTE=\"true\"\n",
    "CREATE VERTEX ExtensionIndicator(PRIMARY_ID id STRING) WITH PRIMARY_ID_AS_ATTRIBUTE=\"true\"\n",
    "CREATE VERTEX PTASummary(PRIMARY_ID id STRING, ptoDelayA FLOAT, ptoDelayB FLOAT, ptoDelayC FLOAT, overlapDelay FLOAT, nonOverlapDelay FLOAT, manualAdjustment FLOAT, applicationDelay FLOAT, PTA FLOAT) WITH PRIMARY_ID_AS_ATTRIBUTE=\"true\"\n",
    "CREATE VERTEX PTESummay(PRIMARY_ID id STRING, ptoAdjustment FLOAT, ptoDelay FLOAT, applicantDelay FLOAT, PTE FLOAT) WITH PRIMARY_ID_AS_ATTRIBUTE=\"true\"\n",
    "CREATE VERTEX ApplicationStatus(PRIMARY_ID id STRING) WITH PRIMARY_ID_AS_ATTRIBUTE=\"true\"\n",
    "CREATE VERTEX PatentNumber(PRIMARY_ID id STRING) WITH PRIMARY_ID_AS_ATTRIBUTE=\"true\"\n",
    "CREATE VERTEX Examiner(PRIMARY_ID id STRING, fullName STRING) WITH PRIMARY_ID_AS_ATTRIBUTE=\"true\"\n",
    "CREATE VERTEX ArtUnit(PRIMARY_ID id STRING) WITH PRIMARY_ID_AS_ATTRIBUTE=\"true\"\n",
    "CREATE VERTEX Attorney(PRIMARY_ID id STRING, firstName STRING, middleName STRING, lastName STRING, suffix STRING, phone STRING) WITH PRIMARY_ID_AS_ATTRIBUTE=\"true\"\n",
    "CREATE VERTEX PracticeCategory(PRIMARY_ID id STRING) WITH PRIMARY_ID_AS_ATTRIBUTE=\"true\"\n",
    "CREATE VERTEX SmallEntity(PRIMARY_ID id STRING) WITH PRIMARY_ID_AS_ATTRIBUTE=\"true\"\n",
    "CREATE VERTEX First_toFile(PRIMARY_ID id STRING) WITH PRIMARY_ID_AS_ATTRIBUTE=\"true\"\n",
    "CREATE VERTEX FileLocation(PRIMARY_ID id STRING) WITH PRIMARY_ID_AS_ATTRIBUTE=\"true\"\n",
    "CREATE VERTEX PGPUBNumber(PRIMARY_ID id STRING) WITH PRIMARY_ID_AS_ATTRIBUTE=\"true\"\n",
    "CREATE VERTEX WIPONumber(PRIMARY_ID id STRING) WITH PRIMARY_ID_AS_ATTRIBUTE=\"true\"\n",
    "CREATE VERTEX Inventor(PRIMARY_ID id STRING, first STRING, middle STRING, last STRING) WITH PRIMARY_ID_AS_ATTRIBUTE=\"true\"\n",
    "CREATE VERTEX ForeignParent(PRIMARY_ID id STRING) WITH PRIMARY_ID_AS_ATTRIBUTE=\"true\"\n",
    "CREATE VERTEX City(PRIMARY_ID id STRING) WITH PRIMARY_ID_AS_ATTRIBUTE=\"true\"\n",
    "CREATE VERTEX Region(PRIMARY_ID id STRING) WITH PRIMARY_ID_AS_ATTRIBUTE=\"true\"\n",
    "CREATE VERTEX Country(PRIMARY_ID id STRING) WITH PRIMARY_ID_AS_ATTRIBUTE=\"true\"\n",
    "CREATE VERTEX PostalCode(PRIMARY_ID id STRING) WITH PRIMARY_ID_AS_ATTRIBUTE=\"true\"\n",
    "CREATE VERTEX Correspondence(PRIMARY_ID id STRING, name STRING, customerNumber STRING) WITH PRIMARY_ID_AS_ATTRIBUTE=\"true\"\n",
    "CREATE VERTEX Address(PRIMARY_ID id STRING, line1 STRING, line2 STRING, line3 STRING) WITH PRIMARY_ID_AS_ATTRIBUTE=\"true\"\n",
    "\"\"\"\n",
    ")\n"
   ]
  },
  {
   "cell_type": "code",
   "execution_count": 24,
   "metadata": {},
   "outputs": [
    {
     "data": {
      "text/plain": [
       "'Successfully created edge types: [has_child].\\nSuccessfully created reverse edge types: [reverse_has_child].\\nSuccessfully created edge types: [has_parent].\\nSuccessfully created reverse edge types: [reverse_has_parent].\\nSuccessfully created edge types: [is_continuation_type].\\nSuccessfully created edge types: [has_class].\\nSuccessfully created edge types: [has_subclass].\\nSuccessfully created edge types: [is_subclass].\\nSuccessfully created reverse edge types: [reverse_is_subclass].\\nSuccessfully created edge types: [has_code].\\nSuccessfully created edge types: [has_pta_event].\\nSuccessfully created edge types: [is_extension].\\nSuccessfully created edge types: [has_start].\\nSuccessfully created reverse edge types: [reverse_has_start].\\nSuccessfully created edge types: [has_pta_summary].\\nSuccessfully created edge types: [has_pte_summary].\\nSuccessfully created edge types: [has_status].\\nSuccessfully created edge types: [has_patent].\\nSuccessfully created edge types: [has_examiner].\\nSuccessfully created edge types: [from_unit].\\nSuccessfully created edge types: [has_attorney].\\nSuccessfully created edge types: [has_practice_category].\\nSuccessfully created edge types: [is_small].\\nSuccessfully created edge types: [follows_ftf].\\nSuccessfully created edge types: [at_location].\\nSuccessfully created edge types: [has_PGPUB].\\nSuccessfully created edge types: [has_WIPO].\\nSuccessfully created edge types: [filed_application].\\nSuccessfully created edge types: [has_foreign_parent].\\nSuccessfully created edge types: [from_city].\\nSuccessfully created edge types: [from_region].\\nSuccessfully created edge types: [from_country].\\nSuccessfully created edge types: [filed_country].\\nSuccessfully created edge types: [has_correspondence].\\nSuccessfully created edge types: [has_address].\\nSuccessfully created edge types: [in_code].\\nSuccessfully created edge types: [in_region].\\nSuccessfully created edge types: [in_country].\\nSuccessfully created edge types: [in_city].'"
      ]
     },
     "execution_count": 24,
     "metadata": {},
     "output_type": "execute_result"
    }
   ],
   "source": [
    "# Edges\n",
    "conn.gsql(\n",
    "    \"\"\"\n",
    "CREATE DIRECTED EDGE has_child(FROM Application, TO Application, date DATETIME) WITH REVERSE_EDGE=\"reverse_has_child\"\n",
    "CREATE DIRECTED EDGE has_parent(FROM Application, TO Application, date DATETIME) WITH REVERSE_EDGE=\"reverse_has_parent\"\n",
    "CREATE UNDIRECTED EDGE is_continuation_type(FROM Application, TO ContinuationType)\n",
    "CREATE UNDIRECTED EDGE has_class(FROM Application, TO USPCClass)\n",
    "CREATE UNDIRECTED EDGE has_subclass(FROM Application, TO USPCSubclass)\n",
    "CREATE DIRECTED EDGE is_subclass(FROM USPCSubclass, TO USPCClass) WITH REVERSE_EDGE=\"reverse_is_subclass\"\n",
    "CREATE UNDIRECTED EDGE has_code(FROM Application, TO EventCode, date DATETIME)\n",
    "CREATE UNDIRECTED EDGE has_pta_event(FROM Application, TO PTAEvent, date DATETIME)\n",
    "CREATE UNDIRECTED EDGE is_extension(FROM PTAEvent, TO ExtensionIndicator)\n",
    "CREATE DIRECTED EDGE has_start(FROM PTAEvent, TO PTAEvent) WITH REVERSE_EDGE=\"reverse_has_start\"\n",
    "CREATE UNDIRECTED EDGE has_pta_summary(FROM Application, TO PTASummary)\n",
    "CREATE UNDIRECTED EDGE has_pte_summary(FROM Application, TO PTESummay)\n",
    "CREATE UNDIRECTED EDGE has_status(FROM Application, TO ApplicationStatus, date DATETIME)\n",
    "CREATE UNDIRECTED EDGE has_patent(FROM Application, TO PatentNumber, date DATETIME)\n",
    "CREATE UNDIRECTED EDGE has_examiner(FROM Application, TO Examiner)\n",
    "CREATE UNDIRECTED EDGE from_unit(FROM Examiner, TO ArtUnit)\n",
    "CREATE UNDIRECTED EDGE has_attorney(FROM Application, TO Attorney)\n",
    "CREATE UNDIRECTED EDGE has_practice_category(FROM Attorney, TO PracticeCategory)\n",
    "CREATE UNDIRECTED EDGE is_small(FROM Application, TO SmallEntity)\n",
    "CREATE UNDIRECTED EDGE follows_ftf(FROM Application, TO First_toFile)\n",
    "CREATE UNDIRECTED EDGE at_location(FROM Application, TO FileLocation, date DATETIME)\n",
    "CREATE UNDIRECTED EDGE has_PGPUB(FROM Application, TO PGPUBNumber, date DATETIME)\n",
    "CREATE UNDIRECTED EDGE has_WIPO(FROM Application, TO WIPONumber, date DATETIME)\n",
    "CREATE UNDIRECTED EDGE filed_application(FROM Application, TO Inventor, rank INT)\n",
    "CREATE UNDIRECTED EDGE has_foreign_parent(FROM Application, TO ForeignParent, date DATETIME)\n",
    "CREATE UNDIRECTED EDGE from_city(FROM Inventor, TO City)\n",
    "CREATE UNDIRECTED EDGE from_region(FROM Inventor, TO Region)\n",
    "CREATE UNDIRECTED EDGE from_country(FROM Inventor, TO Country)\n",
    "CREATE UNDIRECTED EDGE filed_country(FROM ForeignParent, TO Country)\n",
    "CREATE UNDIRECTED EDGE has_correspondence(FROM Inventor, TO Correspondence)\n",
    "CREATE UNDIRECTED EDGE has_address(FROM Address, TO Correspondence)\n",
    "CREATE UNDIRECTED EDGE in_code(FROM City, TO PostalCode | FROM Correspondence, TO PostalCode | FROM Address, TO PostalCode)\n",
    "CREATE UNDIRECTED EDGE in_region(FROM PostalCode, TO Region | FROM Correspondence, TO Region | FROM Address, TO Region)\n",
    "CREATE UNDIRECTED EDGE in_country(FROM PostalCode, TO Country | FROM Country, TO Region | FROM Correspondence, TO Country | FROM Address, TO Country)\n",
    "CREATE UNDIRECTED EDGE in_city(FROM Region, TO City | FROM Correspondence, TO City | FROM Address, TO City)\n",
    "\"\"\"\n",
    ")"
   ]
  },
  {
   "cell_type": "markdown",
   "metadata": {},
   "source": [
    "#### Creating the Graph\n",
    "\n",
    "Here we will declare which vertices and edges that we will include in the Graph that we're setting up.\n",
    "\n",
    "This will take **~2 minutes** to run"
   ]
  },
  {
   "cell_type": "code",
   "execution_count": 25,
   "metadata": {},
   "outputs": [
    {
     "data": {
      "text/plain": [
       "'The graph Patents is created.'"
      ]
     },
     "execution_count": 25,
     "metadata": {},
     "output_type": "execute_result"
    }
   ],
   "source": [
    "conn.gsql(('CREATE GRAPH Patents(Application, ContinuationType, USPCClass, USPCSubclass, EventCode, PTAEvent, '\n",
    "'ExtensionIndicator, PTASummary, PTESummay, ApplicationStatus, PatentNumber, Examiner, ArtUnit, Attorney, '\n",
    "'PracticeCategory, SmallEntity, First_toFile, FileLocation, PGPUBNumber, WIPONumber, Inventor, ForeignParent, '\n",
    "'City, Region, Country, PostalCode, Correspondence, Address, has_child, has_parent, is_continuation_type, has_class, '\n",
    "'has_subclass, is_subclass, has_code, has_pta_event, is_extension, has_start, has_pta_summary, has_pte_summary, '\n",
    "'has_status, has_patent, has_examiner, from_unit, has_attorney, has_practice_category, is_small, follows_ftf, at_location, '\n",
    "'has_PGPUB, has_WIPO, filed_application, has_foreign_parent, from_city, from_region, from_country, in_country, in_city, '\n",
    "'filed_country, in_code, in_region, has_correspondence, has_address)'))"
   ]
  },
  {
   "cell_type": "code",
   "execution_count": null,
   "metadata": {},
   "outputs": [],
   "source": []
  },
  {
   "cell_type": "code",
   "execution_count": null,
   "metadata": {},
   "outputs": [],
   "source": []
  }
 ],
 "metadata": {
  "colab": {
   "collapsed_sections": [],
   "include_colab_link": true,
   "name": "tigergraph-inventor-schema-creation",
   "provenance": []
  },
  "kernelspec": {
   "display_name": "Tigergraph Pytorch",
   "language": "python",
   "name": "python3"
  },
  "language_info": {
   "codemirror_mode": {
    "name": "ipython",
    "version": 3
   },
   "file_extension": ".py",
   "mimetype": "text/x-python",
   "name": "python",
   "nbconvert_exporter": "python",
   "pygments_lexer": "ipython3",
   "version": "3.9.10"
  }
 },
 "nbformat": 4,
 "nbformat_minor": 4
}
