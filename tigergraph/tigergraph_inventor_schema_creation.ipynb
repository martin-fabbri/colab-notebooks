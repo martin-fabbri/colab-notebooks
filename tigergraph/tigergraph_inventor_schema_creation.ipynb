{
  "nbformat": 4,
  "nbformat_minor": 0,
  "metadata": {
    "colab": {
      "name": "tigergraph-inventor-schema-creation",
      "provenance": [],
      "collapsed_sections": [],
      "include_colab_link": true
    },
    "kernelspec": {
      "display_name": "Python 3",
      "name": "python3"
    },
    "language_info": {
      "name": "python"
    }
  },
  "cells": [
    {
      "cell_type": "markdown",
      "metadata": {
        "id": "view-in-github",
        "colab_type": "text"
      },
      "source": [
        "<a href=\"https://colab.research.google.com/github/martin-fabbri/colab-notebooks/blob/master/tigergraph/tigergraph_inventor_schema_creation.ipynb\" target=\"_parent\"><img src=\"https://colab.research.google.com/assets/colab-badge.svg\" alt=\"Open In Colab\"/></a>"
      ]
    },
    {
      "cell_type": "markdown",
      "metadata": {
        "id": "owRhnxW15t_w"
      },
      "source": [
        "## Install pyTigerGraph"
      ]
    },
    {
      "cell_type": "code",
      "metadata": {
        "id": "JmsrV-SNnx31",
        "colab": {
          "base_uri": "https://localhost:8080/"
        },
        "outputId": "238a1bd3-c7d0-48c5-f842-d3766bdae2fb"
      },
      "source": [
        "from IPython.display import clear_output\n",
        "!pip install -qq watermark\n",
        "\n",
        "################################\n",
        "# Packages to install\n",
        "################################\n",
        "!pip install -U -qq pyTigerGraph\n",
        "\n",
        "################################\n",
        "\n",
        "clear_output()\n",
        "%reload_ext watermark\n",
        "%watermark -v -p numpy,pyTigerGraph"
      ],
      "execution_count": 10,
      "outputs": [
        {
          "output_type": "stream",
          "name": "stdout",
          "text": [
            "Python implementation: CPython\n",
            "Python version       : 3.7.12\n",
            "IPython version      : 5.5.0\n",
            "\n",
            "numpy       : 1.21.5\n",
            "pyTigerGraph: 0.0.9.9.2\n",
            "\n"
          ]
        }
      ]
    },
    {
      "cell_type": "markdown",
      "source": [
        "# Global Schema\n",
        "\n",
        "This is an overarching schema that can be used by as many or as few **Graphs** as you desire. The purpose of the **Global Schema** is to give you a common schema that you CAN pull from when setting up Graphs. This is helpful if you have common elements between your different Graphs and want those common elements to have the same schema. For example, my **Global Schema** might contain the entirety of information about my supply chain. Everything from suppliers, warehouses, transportation lines, user orders, product information, user shipping information. However, one of our Graphs might want to only contain information about the suppliers, warehouses, and transportation as that side of the business doesn't need access to customer information. I could use just those elements and their edges from the Global Schema to populate this Graph without having to include all fo the information about the ordering user."
      ],
      "metadata": {
        "id": "7fKgagBONaYd"
      }
    },
    {
      "cell_type": "markdown",
      "source": [
        "# Graph Schema\n",
        "As we talked about above, the Graph Schema can contain as much or none of the Global Schema as you desire. In addition, the Graph Schema can contain elements that are not in the Global Schema. From the example above, I want to keep track of the manufacturing side of my supply chain. I can include the suppliers, warehouses, and transportation from the Global Schema, but I can also add in something like weather forecasts and supply forecasts that could be used to predict disruptions to my manufacturing chain. This data can exist in the Graph Schema for the Manufacturing Graph, but not in the Global Schema"
      ],
      "metadata": {
        "id": "r4N1v4O7N6TI"
      }
    },
    {
      "cell_type": "markdown",
      "source": [
        "## GSQL Schema Design\n",
        "\n",
        "For times when you don't want to click through the interface in order to create your schema, you can do it via TigerGraph's language **GSQL**. **GSQL** can be executed on your TigerGraph server via the **GSQL** terminal or remotely by one of our many TigerGraph connectors. For this example we'll be using [pyTigerGraph](https://github.com/pyTigerGraph/pyTigerGraph) to interface through this Python notebook. The GSQL will remain the same regardless of which connector method you use.\n",
        "\n",
        "We're going to walk through the same vertex and edge creation that we went through with **Application** and **is_continuation_type** except this time in **GSQL**."
      ],
      "metadata": {
        "id": "knyQjWVgOgcp"
      }
    },
    {
      "cell_type": "code",
      "source": [
        ""
      ],
      "metadata": {
        "id": "il2Gp0m4NE1E"
      },
      "execution_count": null,
      "outputs": []
    },
    {
      "cell_type": "code",
      "source": [
        ""
      ],
      "metadata": {
        "id": "Ogd970yCNEyT"
      },
      "execution_count": null,
      "outputs": []
    },
    {
      "cell_type": "code",
      "source": [
        ""
      ],
      "metadata": {
        "id": "PLdq68t1NEvA"
      },
      "execution_count": null,
      "outputs": []
    },
    {
      "cell_type": "code",
      "source": [
        ""
      ],
      "metadata": {
        "id": "px35yITJNEr_"
      },
      "execution_count": null,
      "outputs": []
    }
  ]
}