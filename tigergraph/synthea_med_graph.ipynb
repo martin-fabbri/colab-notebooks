{
 "cells": [
  {
   "cell_type": "markdown",
   "id": "38ad5214-7e22-443e-a134-eae3c1f5e565",
   "metadata": {},
   "source": [
    "# Synthea Medgraph\n",
    "\n",
    "***Synthetic Patient Dataset Generation***\n",
    "\n",
    "Open-source healthcare data generator that models the medical history of synthetic patients. The resulting dataset is free of PHI or PHI."
   ]
  },
  {
   "cell_type": "markdown",
   "id": "5e18d6ef-9c19-40fb-a13d-d568cd116f82",
   "metadata": {},
   "source": [
    "## Install pyTigerGraph"
   ]
  },
  {
   "cell_type": "code",
   "execution_count": 1,
   "id": "efbcda48-ce7e-487f-a995-65a3bcc0bc66",
   "metadata": {},
   "outputs": [
    {
     "name": "stdout",
     "output_type": "stream",
     "text": [
      "Python implementation: CPython\n",
      "Python version       : 3.9.10\n",
      "IPython version      : 8.0.1\n",
      "\n",
      "numpy       : 1.22.2\n",
      "pyTigerGraph: 0.0.9.9.2\n",
      "\n"
     ]
    }
   ],
   "source": [
    "from IPython.display import clear_output\n",
    "!pip install -qq watermark\n",
    "\n",
    "################################\n",
    "# Packages to install\n",
    "################################\n",
    "!pip install -U -qq pyTigerGraph\n",
    "\n",
    "################################\n",
    "\n",
    "clear_output()\n",
    "%reload_ext watermark\n",
    "%watermark -v -p numpy,pyTigerGraph"
   ]
  },
  {
   "cell_type": "markdown",
   "id": "a5184d46-5171-4ce2-8ebd-d2b8379a9e6b",
   "metadata": {},
   "source": [
    "***Imports***"
   ]
  },
  {
   "cell_type": "code",
   "execution_count": 2,
   "id": "42794b1a-1c34-4d1a-b98f-6ce8191681d9",
   "metadata": {},
   "outputs": [],
   "source": [
    "import pyTigerGraph as tg\n",
    "import json\n",
    "import pandas as pd"
   ]
  },
  {
   "cell_type": "markdown",
   "id": "ccce2df3-bbdd-4697-92c2-044ddeb0a881",
   "metadata": {},
   "source": [
    "***Helper Functions***"
   ]
  },
  {
   "cell_type": "code",
   "execution_count": 3,
   "id": "dfee2409-7bd4-41e9-9baf-9e97669f62a0",
   "metadata": {},
   "outputs": [],
   "source": [
    "def pprint(input):\n",
    "  print(json.dumps(input, indent=2))"
   ]
  },
  {
   "cell_type": "markdown",
   "id": "917f4f9f-6ad1-4bc2-9241-ea0787b6703d",
   "metadata": {},
   "source": [
    "***Connection parameters***"
   ]
  },
  {
   "cell_type": "code",
   "execution_count": 4,
   "id": "41e37811-65d6-468f-b391-6197b6a087f7",
   "metadata": {},
   "outputs": [],
   "source": [
    "hostName = \"http://localhost\"\n",
    "userName = \"tigergraph\"\n",
    "password = \"tigergraph\"\n",
    "\n",
    "conn = tg.TigerGraphConnection(host=hostName, username=userName, password=password)"
   ]
  },
  {
   "cell_type": "markdown",
   "id": "3da67d4e-f9bc-4752-874e-58c7bf253032",
   "metadata": {},
   "source": [
    "## Understanding the Schema\n",
    "\n",
    "![](https://i.ibb.co/CQXYbH9/Screenshot-2021-08-24-003804.png)\n",
    "\n",
    "At it's core, this schema repesents all of a patient's interactions with the healthcare system. It also includes demographic information about each patient including their age, race, gender, and location. The full schema can be found on the [Synthea Data Directory](https://github.com/synthetichealth/synthea/wiki/CSV-File-Data-Dictionary).\n",
    "\n",
    "Interactions with the healthace system are stored as `Encounters` and those `Encounters` nodes will connect to nodes expressing the nature of each `Encounter` such as a `Procedure` with a physician or a `Medication` perscription.\n",
    "\n",
    "**A Critical part of this graph is the `SnomedCode` vertex.** This vertex type is tied to almost every type of `Encounters` and contains the Snomed code that describes each `Encounters`. For those unfamilar with Snomed codes, they are standardized codes used to describe the nature of a medical encounter. For example:\n",
    "* Snomed code **31978002** describes a **fracture of the tibia**\n",
    "* Snomed code **86174004** signifes the use of a **laparoscope** medical device\n",
    "* Snomed code **25876001** denotes that a procedure is of **emergency** priority\n",
    "\n",
    "You can read more about Snomed [here](https://confluence.ihtsdotools.org/display/DOCSTART/4.+SNOMED+CT+Basics)\n",
    "\n",
    "Below is an overview of some key aspects of the schema and a look at their attributes. Where `_code` is used, such as `allergy_code` that is listing a **Snomed code**. These codes are also expressed as edges that lead to Nodes representing each **Snomed code**.\n"
   ]
  },
  {
   "cell_type": "markdown",
   "id": "d59fe1ba-d8ad-4b8e-ab30-ef67a11df64e",
   "metadata": {},
   "source": [
    "### <center>Encounter Related Vertices\n",
    "\n",
    "#### <center>Encounter\n",
    "\n",
    "|Attribute Name|Attribute Type|\n",
    "|---|---|\n",
    "|PRIMARY_ID encounter_id|STRING|\n",
    "|baseEncounterCost|DOUBLE|\n",
    "|totalClaimCost|DOUBLE|\n",
    "|payerCoverage|DOUBLE|\n",
    "|classType|STRING|\n",
    "|startTime|DATETIME|\n",
    "|endTime|DATETIME|\n",
    "\n",
    "#### <center>Notes\n",
    "\n",
    "|Attribute Name|Attribute Type|\n",
    "|---|---|\n",
    "|PRIMARY_ID note_id|STRING|\n",
    "|chiefComplaint|STRING|\n",
    "|historyOfPresentIllness|STRING|\n",
    "|socialHistory|STRING|\n",
    "|allergies|STRING|\n",
    "|medications|STRING|\n",
    "|assessment|STRING|\n",
    "|plan|STRING|\n",
    "\n",
    "#### <center>Symptoms\n",
    "\n",
    "|Attribute Name|Attribute Type|\n",
    "|---|---|\n",
    "|PRIMARY_ID symptom_id|STRING|\n",
    "|symptom|STRING|\n",
    "|symptomValue|INT|\n",
    "|pathology|STRING|\n",
    "\n",
    "#### <center>Medication\n",
    "\n",
    "|Attribute Name|Attribute Type|\n",
    "|---|---|\n",
    "|PRIMARY_ID medication_id |STRING|\n",
    "|medication_code|STRING|\n",
    "|description|STRING|\n",
    "|startDate|DATETIME|\n",
    "|endDate|DATETIME|\n",
    "|baseCost|DOUBLE|\n",
    "|payerCoverage|DOUBLE|\n",
    "|dispenses|INT|\n",
    "|totalCost|DOUBLE|\n",
    "\n",
    "#### <center>Procedures\n",
    "\n",
    "|Attribute Name|Attribute Type|\n",
    "|---|---|\n",
    "|PRIMARY_ID procedure_id|STRING|\n",
    "|procedure_code|STRING|\n",
    "|description|STRING|\n",
    "|baseCost|INT|\n",
    "|dateOfProcedure|DATETIME|\n",
    "\n",
    "#### <center>Observations\n",
    "\n",
    "|Attribute Name|Attribute Type|\n",
    "|---|---|\n",
    "|PRIMARY_ID observation_id|STRING|\n",
    "|dateOfObservation|DATETIME|\n",
    "|observation_code|STRING|\n",
    "|description|STRING|\n",
    "|obsValue|STRING|\n",
    "|units|STRING|\n",
    "\n",
    "#### <center>Imaging Studies\n",
    "\n",
    "|Attribute Name|Attribute Type|\n",
    "|---|---|\n",
    "|PRIMARY_ID imaging_id|STRING|\n",
    "|bodySiteCode|STRING|\n",
    "|bodySiteDescription|STRING|\n",
    "|modalityCode|STRING|\n",
    "|modalityDescription|STRING|\n",
    "|SOPCode|STRING|\n",
    "|SOPDescription|STRING|\n",
    "|dateOfImage|DATETIME|"
   ]
  },
  {
   "cell_type": "markdown",
   "id": "bde69bcb-1133-44be-892f-cd31f7a731d7",
   "metadata": {},
   "source": [
    "## Loading the Schema\n",
    "\n",
    "We'll be creating the schema through a series of **GSQL** queries that we'll execute through pyTigerGraph."
   ]
  },
  {
   "cell_type": "markdown",
   "id": "194c8e6c-d4bb-405b-9750-e0a5375f9fed",
   "metadata": {},
   "source": [
    "#### `Patient` related Vertices"
   ]
  },
  {
   "cell_type": "code",
   "execution_count": 5,
   "id": "06eabb04-a1d5-49e6-af2c-197212be630c",
   "metadata": {},
   "outputs": [
    {
     "data": {
      "text/plain": [
       "'Successfully created vertex types: [Gender].\\nSuccessfully created vertex types: [Race].\\nSuccessfully created vertex types: [Ethnicity].\\nSuccessfully created vertex types: [Patient].\\nSuccessfully created vertex types: [Allergies].\\nSuccessfully created vertex types: [Immunizations].'"
      ]
     },
     "execution_count": 5,
     "metadata": {},
     "output_type": "execute_result"
    }
   ],
   "source": [
    "conn.gsql(\n",
    "    \"\"\"\n",
    "CREATE VERTEX Gender(PRIMARY_ID gender_id STRING) WITH primary_id_as_attribute=\"true\"\n",
    "CREATE VERTEX Race(PRIMARY_ID race_id STRING) WITH primary_id_as_attribute=\"true\"\n",
    "CREATE VERTEX Ethnicity(PRIMARY_ID ethnicity_id STRING) WITH primary_id_as_attribute=\"true\"\n",
    "CREATE VERTEX Patient(PRIMARY_ID patient_id STRING, lastName STRING, firstName STRING, maiden STRING,\n",
    "                      birthday DATETIME, ssn STRING, license STRING, passport STRING,\n",
    "                      healthcareExpense DOUBLE, healthcareCoverage DOUBLE, suffix STRING, prefix STRING, \n",
    "                      maritalStatus STRING, birthplace STRING) WITH primary_id_as_attribute=\"true\"\n",
    "CREATE VERTEX Allergies(PRIMARY_ID allergy_id STRING, allergy_code STRING, description STRING, \n",
    "                        startDate DATETIME, endDate DATETIME) WITH primary_id_as_attribute=\"true\"\n",
    "CREATE VERTEX Immunizations(PRIMARY_ID immunization_id STRING, immunization_code STRING, description STRING, \n",
    "                            dateOfImmunization DATETIME, baseCost DOUBLE) WITH primary_id_as_attribute=\"true\"\n",
    "\"\"\"\n",
    ")"
   ]
  },
  {
   "cell_type": "markdown",
   "id": "db0de189-f128-4f32-a05c-9b81a3ee8747",
   "metadata": {},
   "source": [
    "#### `Location` related Vertices"
   ]
  },
  {
   "cell_type": "code",
   "execution_count": 6,
   "id": "7c15d113-2926-463d-8389-51c1946cbc25",
   "metadata": {},
   "outputs": [
    {
     "data": {
      "text/plain": [
       "'Successfully created vertex types: [AddressSynthea].\\nSuccessfully created vertex types: [CitySynthea].\\nSuccessfully created vertex types: [StateSynthea].\\nSuccessfully created vertex types: [CountySynthea].\\nSuccessfully created vertex types: [ZipCodeSynthea].'"
      ]
     },
     "execution_count": 6,
     "metadata": {},
     "output_type": "execute_result"
    }
   ],
   "source": [
    "conn.gsql(\n",
    "    \"\"\"\n",
    "CREATE VERTEX AddressSynthea(PRIMARY_ID address_id STRING, name STRING, lat DOUBLE, lon DOUBLE) WITH primary_id_as_attribute=\"true\"\n",
    "CREATE VERTEX CitySynthea(PRIMARY_ID city_id STRING, cityName STRING) WITH primary_id_as_attribute=\"true\"\n",
    "CREATE VERTEX StateSynthea(PRIMARY_ID state_id STRING) WITH primary_id_as_attribute=\"true\"\n",
    "CREATE VERTEX CountySynthea(PRIMARY_ID county_id STRING, countyName STRING) WITH primary_id_as_attribute=\"true\"\n",
    "CREATE VERTEX ZipCodeSynthea(PRIMARY_ID zip_id STRING) WITH primary_id_as_attribute=\"true\"\n",
    "\"\"\"\n",
    ")"
   ]
  },
  {
   "cell_type": "markdown",
   "id": "0d023852-6fa3-45db-80d4-e01a60078a07",
   "metadata": {},
   "source": [
    "#### `Encounter` related Vertices"
   ]
  },
  {
   "cell_type": "code",
   "execution_count": 7,
   "id": "d80bef8b-7186-4360-85b0-6a0aff2b10a9",
   "metadata": {},
   "outputs": [
    {
     "data": {
      "text/plain": [
       "'Successfully created vertex types: [Encounter].\\nSuccessfully created vertex types: [Notes].\\nSuccessfully created vertex types: [Symptoms].\\nSuccessfully created vertex types: [Medication].\\nSuccessfully created vertex types: [Procedures].\\nSuccessfully created vertex types: [Observations].\\nSuccessfully created vertex types: [ImagingStudies].\\nSuccessfully created vertex types: [SnomedCode].'"
      ]
     },
     "execution_count": 7,
     "metadata": {},
     "output_type": "execute_result"
    }
   ],
   "source": [
    "conn.gsql(\n",
    "    \"\"\"\n",
    "CREATE VERTEX Encounter(PRIMARY_ID encounter_id STRING, baseEncounterCost DOUBLE, totalClaimCost DOUBLE,\n",
    "                        payerCoverage DOUBLE, classType STRING, startTime DATETIME, endTime DATETIMe) WITH primary_id_as_attribute=\"true\"\n",
    "CREATE VERTEX Notes(PRIMARY_ID note_id STRING, chiefComplaint STRING, historyOfPresentIllness STRING,\n",
    "                        socialHistory STRING, allergies STRING, medications STRING, assessment STRING, plan STRING) with primary_id_as_attribute=\"true\"\n",
    "CREATE VERTEX Symptoms(PRIMARY_ID symptom_id STRING, symptom STRING, symptomValue DOUBLE, pathology STRING) with primary_id_as_attribute=\"true\"\n",
    "CREATE VERTEX Medication(PRIMARY_ID medication_id STRING, medication_code STRING, description STRING,\n",
    "                        startDate DATETIME, endDate DATETIME, baseCost DOUBLE, payerCoverage DOUBLE, dispenses INT, totalCost DOUBLE) WITH primary_id_as_attribute=\"true\"\n",
    "CREATE VERTEX Procedures(PRIMARY_ID procedure_id STRING, procedure_code STRING, description STRING, baseCost DOUBLE, dateOfProcedure DaTETIME) WITH primary_id_as_attribute=\"true\"\n",
    "CREATE VERTEX Observations(PRIMARY_ID observation_id STRING, dateOfObservation DATETIME, observation_code STRING,\n",
    "                        description STRING, obsValue STRING, units STRING) WITH primary_id_as_attribute=\"true\"\n",
    "CREATE VERTEX ImagingStudies(PRIMARY_ID imaging_id STRING, bodySiteCode STRING, bodySiteDescription STRING,\n",
    "                        modalityCode STRING, modalityDescription STRING, SOPCode STRING, SOPDescription STRING, dateOfImage DATETIME) WITH primary_id_as_attribute=\"true\"\n",
    "CREATE VERTEX SnomedCode(PRIMARY_ID snomed_code STRING, description STRING) WITH primary_id_as_attribute=\"true\"\n",
    "\"\"\"\n",
    ")"
   ]
  },
  {
   "cell_type": "markdown",
   "id": "c03e9e3f-2490-42a8-af0d-b41acdfcb9ad",
   "metadata": {},
   "source": [
    "#### Provider and Other Vertices"
   ]
  },
  {
   "cell_type": "code",
   "execution_count": 8,
   "id": "8b83c817-f284-4e91-9ef8-4167796b5197",
   "metadata": {},
   "outputs": [
    {
     "data": {
      "text/plain": [
       "'Successfully created vertex types: [Conditions].\\nSuccessfully created vertex types: [Organizations].\\nSuccessfully created vertex types: [Providers].\\nSuccessfully created vertex types: [Attribute].\\nSuccessfully created vertex types: [Device].\\nSuccessfully created vertex types: [Careplans].\\nSuccessfully created vertex types: [Payer].'"
      ]
     },
     "execution_count": 8,
     "metadata": {},
     "output_type": "execute_result"
    }
   ],
   "source": [
    "conn.gsql(\n",
    "    \"\"\"\n",
    "CREATE VERTEX Conditions(PRIMARY_ID condition_id STRING, condition_code STRING, description STRING, startDate DATETIME, endDate DATETIME) WITH primary_id_as_attribute=\"true\"\n",
    "CREATE VERTEX Organizations(PRIMARY_ID organization_id STRING, name STRING, revenue DOUBLE, utilization INT, phone STRING) WITH primary_id_as_attribute=\"true\"\n",
    "CREATE VERTEX Providers(PRIMARY_ID provider_id STRING, name STRING, utilization INT, speciality STRING) WITH primary_id_as_attribute=\"true\"\n",
    "CREATE VERTEX Attribute(PRIMARY_ID label STRING, attributeValue INT) WITH primary_id_as_attribute=\"true\"\n",
    "CREATE VERTEX Device(PRIMARY_ID UDI_code STRING, description STRING, startDate DATETIME, endDate DATETIME) WITH primary_id_as_attribute=\"true\"\n",
    "CREATE VERTEX Careplans(PRIMARY_ID careplan_id STRING, description STRING, startDate DATETIME, endDate DATETIME) WITH primary_id_as_attribute=\"true\"\n",
    "CREATE VERTEX Payer(PRIMARY_ID payer_id STRING, name STRING, phone STRING, amountCovered DOUBLE, amountUncovered DOUBLE, revenue DOUBLE,\n",
    "                    coveredEncounters INT, uncoveredEncounters INT, coveredMedications INT, uncoveredMedications INT,\n",
    "                    coveredProcedures INT, uncoveredProcedures INT, coveredImmunizations INT, uncoveredImmunizations INT,\n",
    "                    uniqueCustomers INT, QOLS_Avg DOUBLE, memberMonths INT) WITH primary_id_as_attribute=\"true\"\n",
    "\"\"\"\n",
    ")"
   ]
  },
  {
   "cell_type": "markdown",
   "id": "9f5cc44c-052c-4634-9bfd-d96626ebbac8",
   "metadata": {},
   "source": [
    "### Create Edges"
   ]
  },
  {
   "cell_type": "markdown",
   "id": "b6595c48-feb2-4fda-b0e8-84f2051def85",
   "metadata": {},
   "source": [
    "#### `Patient` related Edges"
   ]
  },
  {
   "cell_type": "code",
   "execution_count": 9,
   "id": "60c97ada-b8c8-46c4-997c-a4e65f689147",
   "metadata": {},
   "outputs": [
    {
     "data": {
      "text/plain": [
       "'Successfully created edge types: [PATIENT_HAS_ATTRIBUTE].\\nSuccessfully created edge types: [PATIENT_HAS_SYMPTOM].\\nSuccessfully created edge types: [PATIENT_NOTE].\\nSuccessfully created edge types: [PATIENT_GENDER].\\nSuccessfully created edge types: [PATIENT_ADDRESS].\\nSuccessfully created edge types: [PATIENT_RACE].\\nSuccessfully created edge types: [PATIENT_ETHNICITY].\\nSuccessfully created edge types: [PATIENT_HAS_ALLERGY].\\nSuccessfully created edge types: [PATIENT_HAS_DEVICE].\\nSuccessfully created edge types: [PATIENT_HAS_MEDICATION].\\nSuccessfully created edge types: [PATIENT_HAS_CAREPLAN].\\nSuccessfully created edge types: [PATIENT_HAS_CONDITION].\\nSuccessfully created edge types: [PATIENT_HAS_IMMUNIZATION].\\nSuccessfully created edge types: [PATIENT_HAS_IMAGING].\\nSuccessfully created edge types: [PATIENT_HAS_PROCEDURE].'"
      ]
     },
     "execution_count": 9,
     "metadata": {},
     "output_type": "execute_result"
    }
   ],
   "source": [
    "conn.gsql(\n",
    "    \"\"\"\n",
    "CREATE UNDIRECTED EDGE PATIENT_HAS_ATTRIBUTE(FROM Patient, TO Attribute)\n",
    "CREATE UNDIRECTED EDGE PATIENT_HAS_SYMPTOM(FROM Patient, TO Symptoms, ageBegin INT, ageEnd INT)\n",
    "CREATE UNDIRECTED EDGE PATIENT_NOTE(FROM Patient, TO Notes, dateOfNote DATETIME)\n",
    "CREATE UNDIRECTED EDGE PATIENT_GENDER(FROM Patient, TO Gender)\n",
    "CREATE UNDIRECTED EDGE PATIENT_ADDRESS(FROM Patient, TO AddressSynthea)\n",
    "CREATE UNDIRECTED EDGE PATIENT_RACE(FROM Patient, TO Race)\n",
    "CREATE UNDIRECTED EDGE PATIENT_ETHNICITY(FROM Patient, TO Ethnicity)\n",
    "CREATE UNDIRECTED EDGE PATIENT_HAS_ALLERGY(FROM Allergies, TO Patient)\n",
    "CREATE UNDIRECTED EDGE PATIENT_HAS_DEVICE(FROM Device, TO Patient)\n",
    "CREATE UNDIRECTED EDGE PATIENT_HAS_MEDICATION(FROM Medication, TO Patient)\n",
    "CREATE UNDIRECTED EDGE PATIENT_HAS_CAREPLAN(FROM Careplans, TO Patient)\n",
    "CREATE UNDIRECTED EDGE PATIENT_HAS_CONDITION(FROM Conditions, TO Patient)\n",
    "CREATE UNDIRECTED EDGE PATIENT_HAS_IMMUNIZATION(FROM Immunizations, TO Patient)\n",
    "CREATE UNDIRECTED EDGE PATIENT_HAS_IMAGING(FROM ImagingStudies, TO Patient)\n",
    "CREATE UNDIRECTED EDGE PATIENT_HAS_PROCEDURE(FROM Procedures, TO Patient)\n",
    "\"\"\"\n",
    ")"
   ]
  },
  {
   "cell_type": "markdown",
   "id": "3da384fc-af65-4fb4-a056-3fafc072a71a",
   "metadata": {},
   "source": [
    "#### `Medication` Edges"
   ]
  },
  {
   "cell_type": "code",
   "execution_count": 10,
   "id": "9a42fb69-5f1e-4d6e-b7e2-bed007315ac2",
   "metadata": {},
   "outputs": [
    {
     "data": {
      "text/plain": [
       "'Successfully created edge types: [MEDICATION_PAYER].\\nSuccessfully created edge types: [ENCOUNTER_FOR_MEDICATION].\\nSuccessfully created edge types: [MEDICATION_REASON_CODE].\\nSuccessfully created edge types: [MEDICATION_CODE].'"
      ]
     },
     "execution_count": 10,
     "metadata": {},
     "output_type": "execute_result"
    }
   ],
   "source": [
    "conn.gsql(\n",
    "    \"\"\"\n",
    "CREATE UNDIRECTED EDGE MEDICATION_PAYER(FROM Medication, TO Payer)\n",
    "CREATE UNDIRECTED EDGE ENCOUNTER_FOR_MEDICATION(FROM Medication, TO Encounter)\n",
    "CREATE UNDIRECTED EDGE MEDICATION_REASON_CODE(FROM Medication, TO SnomedCode)\n",
    "CREATE UNDIRECTED EDGE MEDICATION_CODE(FROM Medication, TO SnomedCode)\n",
    "\"\"\"\n",
    ")"
   ]
  },
  {
   "cell_type": "markdown",
   "id": "3ece2c9d-80e7-4540-b722-ab5f0c12857c",
   "metadata": {},
   "source": [
    "#### `Location` Edges"
   ]
  },
  {
   "cell_type": "code",
   "execution_count": 11,
   "id": "6b5dbdd6-ae95-4345-b8b7-6c39ed7213f5",
   "metadata": {},
   "outputs": [
    {
     "data": {
      "text/plain": [
       "'Successfully created edge types: [ADDRESS_CITY_SYNTHEA].\\nSuccessfully created edge types: [ADDRESS_COUNTY_SYNTHEA].\\nSuccessfully created edge types: [ADDRESS_ZIPCODE_SYNTHEA].\\nSuccessfully created edge types: [STATE_HAS_COUNTY_SYNTHEA].\\nSuccessfully created edge types: [COUNTY_HAS_CITY_SYNTHEA].\\nSuccessfully created edge types: [CITY_HAS_ZIPCODE_SYNTHEA].'"
      ]
     },
     "execution_count": 11,
     "metadata": {},
     "output_type": "execute_result"
    }
   ],
   "source": [
    "conn.gsql(\n",
    "    \"\"\"\n",
    "CREATE UNDIRECTED EDGE ADDRESS_CITY_SYNTHEA(FROM AddressSynthea, TO CitySynthea)\n",
    "CREATE UNDIRECTED EDGE ADDRESS_COUNTY_SYNTHEA(FROM AddressSynthea, TO CountySynthea)\n",
    "CREATE UNDIRECTED EDGE ADDRESS_ZIPCODE_SYNTHEA(FROM AddressSynthea, TO ZipCodeSynthea)\n",
    "CREATE UNDIRECTED EDGE STATE_HAS_COUNTY_SYNTHEA(FROM StateSynthea, TO CountySynthea)\n",
    "CREATE UNDIRECTED EDGE COUNTY_HAS_CITY_SYNTHEA(FROM CountySynthea, TO CitySynthea)\n",
    "CREATE UNDIRECTED EDGE CITY_HAS_ZIPCODE_SYNTHEA(FROM CitySynthea, TO ZipCodeSynthea)\n",
    "\"\"\"\n",
    ")"
   ]
  },
  {
   "cell_type": "markdown",
   "id": "d56a1644-b15e-40ac-9956-5b0c9c7553fa",
   "metadata": {},
   "source": [
    "#### `Encounter` Edges"
   ]
  },
  {
   "cell_type": "code",
   "execution_count": 12,
   "id": "e2e1c11b-afd7-4ac4-a566-0aae868e864d",
   "metadata": {},
   "outputs": [
    {
     "data": {
      "text/plain": [
       "'Successfully created edge types: [ENCOUNTER_FOR_ALLERGY].\\nSuccessfully created edge types: [ENCOUNTER_FOR_DEVICE].\\nSuccessfully created edge types: [ENCOUNTER_FOR_PROCEDURE].\\nSuccessfully created edge types: [ENCOUNTER_FOR_CAREPLAN].\\nSuccessfully created edge types: [ENCOUNTER_FOR_CONDITION].\\nSuccessfully created edge types: [ENCOUNTER_FOR_IMMUNIZATION].\\nSuccessfully created edge types: [ENCOUNTER_FOR_OBSERVATION].\\nSuccessfully created edge types: [ENCOUNTER_FOR_IMAGING].\\nSuccessfully created edge types: [ENCOUNTER_FOR_PATIENT].\\nSuccessfully created edge types: [ENCOUNTER_UNDER_ORGANIZATION].\\nSuccessfully created edge types: [ENCOUNTER_HAS_PROVIDER].\\nSuccessfully created edge types: [ENCOUNTER_HAS_PAYER].\\nSuccessfully created edge types: [ENCOUNTER_CODE].\\nSuccessfully created edge types: [ENCOUNTER_REASON_CODE].'"
      ]
     },
     "execution_count": 12,
     "metadata": {},
     "output_type": "execute_result"
    }
   ],
   "source": [
    "conn.gsql(\n",
    "    \"\"\"\n",
    "CREATE UNDIRECTED EDGE ENCOUNTER_FOR_ALLERGY(FROM Allergies, TO Encounter)\n",
    "CREATE UNDIRECTED EDGE ENCOUNTER_FOR_DEVICE(FROM Device, TO Encounter)\n",
    "CREATE UNDIRECTED EDGE ENCOUNTER_FOR_PROCEDURE(FROM Procedures, TO Encounter)\n",
    "CREATE UNDIRECTED EDGE ENCOUNTER_FOR_CAREPLAN(FROM Careplans, TO Encounter)\n",
    "CREATE UNDIRECTED EDGE ENCOUNTER_FOR_CONDITION(FROM Conditions, TO Encounter)\n",
    "CREATE UNDIRECTED EDGE ENCOUNTER_FOR_IMMUNIZATION(FROM Immunizations, TO Encounter)\n",
    "CREATE UNDIRECTED EDGE ENCOUNTER_FOR_OBSERVATION(FROM Observations, TO Encounter)\n",
    "CREATE UNDIRECTED EDGE ENCOUNTER_FOR_IMAGING(FROM ImagingStudies, TO Encounter)\n",
    "CREATE UNDIRECTED EDGE ENCOUNTER_FOR_PATIENT(FROM Encounter, TO Patient)\n",
    "CREATE UNDIRECTED EDGE ENCOUNTER_UNDER_ORGANIZATION(FROM Encounter, TO Organizations)\n",
    "CREATE UNDIRECTED EDGE ENCOUNTER_HAS_PROVIDER(FROM Encounter, TO Providers)\n",
    "CREATE UNDIRECTED EDGE ENCOUNTER_HAS_PAYER(FROM Encounter, TO Payer)\n",
    "CREATE UNDIRECTED EDGE ENCOUNTER_CODE(FROM Encounter, TO SnomedCode)\n",
    "CREATE UNDIRECTED EDGE ENCOUNTER_REASON_CODE(FROM Encounter, TO SnomedCode)\n",
    "\"\"\"\n",
    ")"
   ]
  },
  {
   "cell_type": "markdown",
   "id": "2a6a6172-930d-471e-86ec-72d57e5eed7d",
   "metadata": {},
   "source": [
    "#### `Provider` and `Payer` Edges"
   ]
  },
  {
   "cell_type": "code",
   "execution_count": 13,
   "id": "89f67535-3d78-464e-9919-24073a0f15b9",
   "metadata": {},
   "outputs": [
    {
     "data": {
      "text/plain": [
       "'Successfully created edge types: [PROVIDER_HAS_ORGANIZATION].\\nSuccessfully created edge types: [PROVIDER_GENDER].\\nSuccessfully created edge types: [PROVIDER_ADDRESS].\\nSuccessfully created edge types: [PAYER_TRANSITION].\\nSuccessfully created edge types: [PAYER_ADDRESS].'"
      ]
     },
     "execution_count": 13,
     "metadata": {},
     "output_type": "execute_result"
    }
   ],
   "source": [
    "conn.gsql(\n",
    "    \"\"\"\n",
    "CREATE UNDIRECTED EDGE PROVIDER_HAS_ORGANIZATION(FROM Providers, TO Organizations)\n",
    "CREATE UNDIRECTED EDGE PROVIDER_GENDER(FROM Providers, TO Gender)\n",
    "CREATE UNDIRECTED EDGE PROVIDER_ADDRESS(FROM Providers, TO AddressSynthea)\n",
    "CREATE UNDIRECTED EDGE PAYER_TRANSITION(FROM Payer, TO Patient, startYear DATETIME, endYear DATETIME, ownership STRING)\n",
    "CREATE UNDIRECTED EDGE PAYER_ADDRESS(FROM Payer, TO AddressSynthea)\n",
    "\"\"\"\n",
    ")"
   ]
  },
  {
   "cell_type": "markdown",
   "id": "1e08db26-a54c-4323-93e9-1f91e1a3a6b6",
   "metadata": {},
   "source": [
    "#### Additional Edges"
   ]
  },
  {
   "cell_type": "code",
   "execution_count": 14,
   "id": "04a3d913-75ca-48ee-9c5d-1c4c4c1aab90",
   "metadata": {},
   "outputs": [
    {
     "data": {
      "text/plain": [
       "'Successfully created edge types: [ALLERGY_CODE].\\nSuccessfully created edge types: [DEVICE_CODE].\\nSuccessfully created edge types: [PROCEDURE_CODE].\\nSuccessfully created edge types: [PROCEDURE_REASON_CODE].\\nSuccessfully created edge types: [CAREPLAN_CODE].\\nSuccessfully created edge types: [CAREPLAN_REASON_CODE].\\nSuccessfully created edge types: [CONDITION_CODE].\\nSuccessfully created edge types: [IMMUNIZATION_CODE].\\nSuccessfully created edge types: [OBSERVATION_FOR_PATIENT].\\nSuccessfully created edge types: [OBSERVATION_CODE].\\nSuccessfully created edge types: [ORGANIZATION_ADDRESS].\\nSuccessfully created edge types: [IMAGING_CODE].'"
      ]
     },
     "execution_count": 14,
     "metadata": {},
     "output_type": "execute_result"
    }
   ],
   "source": [
    "conn.gsql(\n",
    "    \"\"\"\n",
    "CREATE UNDIRECTED EDGE ALLERGY_CODE(FROM Allergies, TO SnomedCode)\n",
    "CREATE UNDIRECTED EDGE DEVICE_CODE(FROM Device, TO SnomedCode)\n",
    "CREATE UNDIRECTED EDGE PROCEDURE_CODE(FROM Procedures, TO SnomedCode)\n",
    "CREATE UNDIRECTED EDGE PROCEDURE_REASON_CODE(FROM Procedures, TO SnomedCode)\n",
    "CREATE UNDIRECTED EDGE CAREPLAN_CODE(FROM Careplans, TO SnomedCode)\n",
    "CREATE UNDIRECTED EDGE CAREPLAN_REASON_CODE(FROM Careplans, TO SnomedCode)\n",
    "CREATE UNDIRECTED EDGE CONDITION_CODE(FROM Conditions, TO SnomedCode)\n",
    "CREATE UNDIRECTED EDGE IMMUNIZATION_CODE(FROM Immunizations, TO SnomedCode)\n",
    "CREATE UNDIRECTED EDGE OBSERVATION_FOR_PATIENT(FROM Observations, TO Patient)\n",
    "CREATE UNDIRECTED EDGE OBSERVATION_CODE(FROM Observations, TO SnomedCode)\n",
    "CREATE UNDIRECTED EDGE ORGANIZATION_ADDRESS(FROM Organizations, TO AddressSynthea)\n",
    "CREATE UNDIRECTED EDGE IMAGING_CODE(FROM ImagingStudies, TO SnomedCode)\n",
    "\"\"\"\n",
    ")"
   ]
  },
  {
   "cell_type": "markdown",
   "id": "ec73a4b1-9871-4fa5-8b9d-53d2685cc76d",
   "metadata": {},
   "source": [
    "## Create Graph\n",
    "\n",
    "The schema that we just created exists in the **Global** sense. We can have more than one **Graph** per **Solution**, so a **Global** schema allows us to re-use parts or all of that schema across multiple graphs.\n",
    "\n",
    "We're not going to need to do anything fancy like that for this demo, it's just important to know that any **Graphs** can contain none or any number of elements from the **Global** schema and can even contain elements that are unique to that **Graph's** schema."
   ]
  },
  {
   "cell_type": "code",
   "execution_count": 15,
   "id": "3b2987c0-a824-4be9-b4ea-c0868e73da26",
   "metadata": {},
   "outputs": [
    {
     "data": {
      "text/plain": [
       "'The graph MedGraph is created.'"
      ]
     },
     "execution_count": 15,
     "metadata": {},
     "output_type": "execute_result"
    }
   ],
   "source": [
    "conn.gsql(\n",
    "    \"\"\"\n",
    "    CREATE GRAPH MedGraph(Gender, Race, Ethnicity, AddressSynthea, CitySynthea, StateSynthea, CountySynthea, ZipCodeSynthea, \n",
    "                 SnomedCode, Patient, Allergies, Device, Medication, Procedures,\n",
    "                 Careplans, Conditions, Immunizations, Observations, Organizations, Providers, ImagingStudies, Payer, Encounter, \n",
    "                 Notes, Symptoms, Attribute, PATIENT_HAS_ATTRIBUTE,\n",
    "                 PATIENT_HAS_SYMPTOM, PATIENT_NOTE, ADDRESS_CITY_SYNTHEA, ADDRESS_COUNTY_SYNTHEA, ADDRESS_ZIPCODE_SYNTHEA, STATE_HAS_COUNTY_SYNTHEA, \n",
    "                 COUNTY_HAS_CITY_SYNTHEA, CITY_HAS_ZIPCODE_SYNTHEA, PATIENT_GENDER,\n",
    "  PATIENT_ADDRESS, PATIENT_RACE, PATIENT_ETHNICITY, PATIENT_HAS_ALLERGY, ENCOUNTER_FOR_ALLERGY, ALLERGY_CODE,\n",
    "  PATIENT_HAS_DEVICE, ENCOUNTER_FOR_DEVICE, DEVICE_CODE, PATIENT_HAS_MEDICATION, MEDICATION_PAYER, ENCOUNTER_FOR_MEDICATION,\n",
    "  MEDICATION_REASON_CODE, MEDICATION_CODE, PROCEDURE_CODE, PROCEDURE_REASON_CODE, PATIENT_HAS_PROCEDURE, ENCOUNTER_FOR_PROCEDURE,\n",
    "  PATIENT_HAS_CAREPLAN, ENCOUNTER_FOR_CAREPLAN, CAREPLAN_CODE, CAREPLAN_REASON_CODE, PATIENT_HAS_CONDITION, ENCOUNTER_FOR_CONDITION,\n",
    "  CONDITION_CODE, PATIENT_HAS_IMMUNIZATION, ENCOUNTER_FOR_IMMUNIZATION, IMMUNIZATION_CODE, OBSERVATION_FOR_PATIENT, ENCOUNTER_FOR_OBSERVATION,\n",
    "  OBSERVATION_CODE, ORGANIZATION_ADDRESS, PROVIDER_HAS_ORGANIZATION, PROVIDER_GENDER, PROVIDER_ADDRESS, PATIENT_HAS_IMAGING, ENCOUNTER_FOR_IMAGING,\n",
    "  IMAGING_CODE, PAYER_TRANSITION, PAYER_ADDRESS, ENCOUNTER_FOR_PATIENT, ENCOUNTER_UNDER_ORGANIZATION, ENCOUNTER_HAS_PROVIDER, ENCOUNTER_HAS_PAYER,\n",
    "  ENCOUNTER_CODE, ENCOUNTER_REASON_CODE)\n",
    "\"\"\"\n",
    ")"
   ]
  },
  {
   "cell_type": "code",
   "execution_count": null,
   "id": "d8521c77-57b7-4429-9ed8-e5decf696d5a",
   "metadata": {},
   "outputs": [],
   "source": []
  },
  {
   "cell_type": "code",
   "execution_count": null,
   "id": "292f7a44-587a-46c5-868c-afbcdb418ca7",
   "metadata": {},
   "outputs": [],
   "source": []
  },
  {
   "cell_type": "code",
   "execution_count": null,
   "id": "e08149f8-8952-4fbc-9dac-8371ce82a7f9",
   "metadata": {},
   "outputs": [],
   "source": []
  },
  {
   "cell_type": "code",
   "execution_count": null,
   "id": "6c3f774c-d302-41e4-aeaf-5ec7ee38b705",
   "metadata": {},
   "outputs": [],
   "source": []
  }
 ],
 "metadata": {
  "kernelspec": {
   "display_name": "Tigergraph Pytorch",
   "language": "python",
   "name": "python3"
  },
  "language_info": {
   "codemirror_mode": {
    "name": "ipython",
    "version": 3
   },
   "file_extension": ".py",
   "mimetype": "text/x-python",
   "name": "python",
   "nbconvert_exporter": "python",
   "pygments_lexer": "ipython3",
   "version": "3.9.10"
  }
 },
 "nbformat": 4,
 "nbformat_minor": 5
}
