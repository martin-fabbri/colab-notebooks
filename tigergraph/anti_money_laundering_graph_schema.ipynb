{
  "nbformat": 4,
  "nbformat_minor": 0,
  "metadata": {
    "colab": {
      "name": "anti-money-laundering-graph-schema.ipynb",
      "provenance": [],
      "collapsed_sections": [],
      "authorship_tag": "ABX9TyMau8JehrZTGWq79v2drXH4",
      "include_colab_link": true
    },
    "kernelspec": {
      "name": "python3",
      "display_name": "Python 3"
    },
    "language_info": {
      "name": "python"
    }
  },
  "cells": [
    {
      "cell_type": "markdown",
      "metadata": {
        "id": "view-in-github",
        "colab_type": "text"
      },
      "source": [
        "<a href=\"https://colab.research.google.com/github/martin-fabbri/colab-notebooks/blob/master/tigergraph/anti_money_laundering_graph_schema.ipynb\" target=\"_parent\"><img src=\"https://colab.research.google.com/assets/colab-badge.svg\" alt=\"Open In Colab\"/></a>"
      ]
    },
    {
      "cell_type": "markdown",
      "source": [
        "# Graph Schema Anti Money Laundeuring\n",
        "\n",
        "The AML project is intended to provide a multi-agent based simulator that generates synthetic banking transaction data together with a set of known money laundering patterns - mainly for the purpose of testing machine learning models and graph algorithms.\n",
        "\n",
        "**AMLSim Official GitHub**\n",
        "https://github.com/IBM/AMLSim\n",
        "\n",
        "**AMLSim WIKI** https://github.com/IBM/AMLSim/wiki\n",
        "\n",
        "**AMLSim Data** https://github.com/IBM/AMLSim/wiki/Download-Example-Data-Se"
      ],
      "metadata": {
        "id": "wYRch2TWQ06z"
      }
    },
    {
      "cell_type": "code",
      "execution_count": 1,
      "metadata": {
        "colab": {
          "base_uri": "https://localhost:8080/"
        },
        "id": "ibjLTb44Qzzj",
        "outputId": "79961032-ad56-4ade-9205-682a26451eba"
      },
      "outputs": [
        {
          "output_type": "stream",
          "name": "stdout",
          "text": [
            "Python implementation: CPython\n",
            "Python version       : 3.7.12\n",
            "IPython version      : 5.5.0\n",
            "\n",
            "numpy       : 1.21.5\n",
            "pyTigerGraph: 0.0.9.9.2\n",
            "flat-table  : not installed\n",
            "\n"
          ]
        }
      ],
      "source": [
        "from IPython.display import clear_output\n",
        "!pip install -qq watermark\n",
        "\n",
        "################################\n",
        "# Packages to install\n",
        "################################\n",
        "!pip install -U -qq pyTigerGraph\n",
        "!pip install -qq flat-table\n",
        "\n",
        "################################\n",
        "\n",
        "clear_output()\n",
        "%reload_ext watermark\n",
        "%watermark -v -p numpy,pyTigerGraph,flat-table"
      ]
    },
    {
      "cell_type": "code",
      "source": [
        "import json\n",
        "\n",
        "import flat_table\n",
        "import pandas as pd\n",
        "import pyTigerGraph as tg\n",
        "from sklearn.metrics import classification_report, confusion_matrix\n",
        "from sklearn.model_selection import train_test_split\n",
        "from sklearn.tree import DecisionTreeClassifier"
      ],
      "metadata": {
        "id": "-y_ihAoaRcO0"
      },
      "execution_count": 2,
      "outputs": []
    },
    {
      "cell_type": "code",
      "source": [
        "host_name = \"http://20.112.15.231\"\n",
        "user_name = \"tigergraph\"\n",
        "password = \"tigergraph\"\n",
        "graph_name = \"AMLGraph\"\n",
        "\n",
        "conn = tg.TigerGraphConnection(host=host_name, username=user_name, password=password, graphname=graph_name)"
      ],
      "metadata": {
        "id": "gm1kMlPJRcMa"
      },
      "execution_count": 3,
      "outputs": []
    },
    {
      "cell_type": "markdown",
      "source": [
        "## Fetch data"
      ],
      "metadata": {
        "id": "u9evQBAxVG9M"
      }
    },
    {
      "cell_type": "code",
      "source": [
        "!git clone https://github.com/TigerGraph-DevLabs/AMLSim_Python_Lab"
      ],
      "metadata": {
        "colab": {
          "base_uri": "https://localhost:8080/"
        },
        "id": "gLhvRqpTVGQr",
        "outputId": "7cb7fe6e-e441-4a3f-df36-a8c0bd8f4d93"
      },
      "execution_count": 4,
      "outputs": [
        {
          "output_type": "stream",
          "name": "stdout",
          "text": [
            "Cloning into 'AMLSim_Python_Lab'...\n",
            "remote: Enumerating objects: 84, done.\u001b[K\n",
            "remote: Counting objects: 100% (84/84), done.\u001b[K\n",
            "remote: Compressing objects: 100% (68/68), done.\u001b[K\n",
            "remote: Total 84 (delta 26), reused 48 (delta 10), pack-reused 0\u001b[K\n",
            "Unpacking objects: 100% (84/84), done.\n"
          ]
        }
      ]
    },
    {
      "cell_type": "markdown",
      "source": [
        "## Loading DataFrames\n",
        "\n",
        "Taking a look at our data from IBM's AMLSim(ulated) data generator.\n",
        "\n",
        "*   `accounts.csv`\n",
        "*   `alerts.csv`\n",
        "*   `transactions.csv` "
      ],
      "metadata": {
        "id": "OLHxzNq3VYs0"
      }
    },
    {
      "cell_type": "code",
      "source": [
        "accounts = pd.read_csv(\"/content/AMLSim_Python_Lab/data/accounts.csv\")\n",
        "alerts = pd.read_csv(\"/content/AMLSim_Python_Lab/data/alerts.csv\")\n",
        "transactions = pd.read_csv(\"/content/AMLSim_Python_Lab/data/transactions.csv\")\n",
        "\n",
        "print(\"Accounts shape:\", accounts.shape)\n",
        "print(\"Alers shape:\", alerts.shape)\n",
        "print(\"Transactions shape:\", transactions.shape)"
      ],
      "metadata": {
        "colab": {
          "base_uri": "https://localhost:8080/"
        },
        "id": "cbm7XIceRcJz",
        "outputId": "334b5765-bee7-46ae-dda6-853c10b71bd5"
      },
      "execution_count": 5,
      "outputs": [
        {
          "output_type": "stream",
          "name": "stdout",
          "text": [
            "Accounts shape: (10000, 7)\n",
            "Alers shape: (1719, 9)\n",
            "Transactions shape: (1323234, 8)\n"
          ]
        }
      ]
    },
    {
      "cell_type": "code",
      "source": [
        "accounts[\"ACCOUNT_ID\"] = accounts[\"ACCOUNT_ID\"].astype(str)\n",
        "accounts.head(3)"
      ],
      "metadata": {
        "colab": {
          "base_uri": "https://localhost:8080/",
          "height": 143
        },
        "id": "MDAvtShdRcHB",
        "outputId": "ef2b4abe-aeef-42a1-c1aa-a4e380b64837"
      },
      "execution_count": 6,
      "outputs": [
        {
          "output_type": "execute_result",
          "data": {
            "text/plain": [
              "  ACCOUNT_ID CUSTOMER_ID  INIT_BALANCE COUNTRY ACCOUNT_TYPE  IS_FRAUD  \\\n",
              "0          0         C_0        184.44      US            I     False   \n",
              "1          1         C_1        175.80      US            I     False   \n",
              "2          2         C_2        142.06      US            I     False   \n",
              "\n",
              "   TX_BEHAVIOR_ID  \n",
              "0               1  \n",
              "1               1  \n",
              "2               1  "
            ],
            "text/html": [
              "\n",
              "  <div id=\"df-128e90ad-16dc-469a-b7fb-d5a74403d726\">\n",
              "    <div class=\"colab-df-container\">\n",
              "      <div>\n",
              "<style scoped>\n",
              "    .dataframe tbody tr th:only-of-type {\n",
              "        vertical-align: middle;\n",
              "    }\n",
              "\n",
              "    .dataframe tbody tr th {\n",
              "        vertical-align: top;\n",
              "    }\n",
              "\n",
              "    .dataframe thead th {\n",
              "        text-align: right;\n",
              "    }\n",
              "</style>\n",
              "<table border=\"1\" class=\"dataframe\">\n",
              "  <thead>\n",
              "    <tr style=\"text-align: right;\">\n",
              "      <th></th>\n",
              "      <th>ACCOUNT_ID</th>\n",
              "      <th>CUSTOMER_ID</th>\n",
              "      <th>INIT_BALANCE</th>\n",
              "      <th>COUNTRY</th>\n",
              "      <th>ACCOUNT_TYPE</th>\n",
              "      <th>IS_FRAUD</th>\n",
              "      <th>TX_BEHAVIOR_ID</th>\n",
              "    </tr>\n",
              "  </thead>\n",
              "  <tbody>\n",
              "    <tr>\n",
              "      <th>0</th>\n",
              "      <td>0</td>\n",
              "      <td>C_0</td>\n",
              "      <td>184.44</td>\n",
              "      <td>US</td>\n",
              "      <td>I</td>\n",
              "      <td>False</td>\n",
              "      <td>1</td>\n",
              "    </tr>\n",
              "    <tr>\n",
              "      <th>1</th>\n",
              "      <td>1</td>\n",
              "      <td>C_1</td>\n",
              "      <td>175.80</td>\n",
              "      <td>US</td>\n",
              "      <td>I</td>\n",
              "      <td>False</td>\n",
              "      <td>1</td>\n",
              "    </tr>\n",
              "    <tr>\n",
              "      <th>2</th>\n",
              "      <td>2</td>\n",
              "      <td>C_2</td>\n",
              "      <td>142.06</td>\n",
              "      <td>US</td>\n",
              "      <td>I</td>\n",
              "      <td>False</td>\n",
              "      <td>1</td>\n",
              "    </tr>\n",
              "  </tbody>\n",
              "</table>\n",
              "</div>\n",
              "      <button class=\"colab-df-convert\" onclick=\"convertToInteractive('df-128e90ad-16dc-469a-b7fb-d5a74403d726')\"\n",
              "              title=\"Convert this dataframe to an interactive table.\"\n",
              "              style=\"display:none;\">\n",
              "        \n",
              "  <svg xmlns=\"http://www.w3.org/2000/svg\" height=\"24px\"viewBox=\"0 0 24 24\"\n",
              "       width=\"24px\">\n",
              "    <path d=\"M0 0h24v24H0V0z\" fill=\"none\"/>\n",
              "    <path d=\"M18.56 5.44l.94 2.06.94-2.06 2.06-.94-2.06-.94-.94-2.06-.94 2.06-2.06.94zm-11 1L8.5 8.5l.94-2.06 2.06-.94-2.06-.94L8.5 2.5l-.94 2.06-2.06.94zm10 10l.94 2.06.94-2.06 2.06-.94-2.06-.94-.94-2.06-.94 2.06-2.06.94z\"/><path d=\"M17.41 7.96l-1.37-1.37c-.4-.4-.92-.59-1.43-.59-.52 0-1.04.2-1.43.59L10.3 9.45l-7.72 7.72c-.78.78-.78 2.05 0 2.83L4 21.41c.39.39.9.59 1.41.59.51 0 1.02-.2 1.41-.59l7.78-7.78 2.81-2.81c.8-.78.8-2.07 0-2.86zM5.41 20L4 18.59l7.72-7.72 1.47 1.35L5.41 20z\"/>\n",
              "  </svg>\n",
              "      </button>\n",
              "      \n",
              "  <style>\n",
              "    .colab-df-container {\n",
              "      display:flex;\n",
              "      flex-wrap:wrap;\n",
              "      gap: 12px;\n",
              "    }\n",
              "\n",
              "    .colab-df-convert {\n",
              "      background-color: #E8F0FE;\n",
              "      border: none;\n",
              "      border-radius: 50%;\n",
              "      cursor: pointer;\n",
              "      display: none;\n",
              "      fill: #1967D2;\n",
              "      height: 32px;\n",
              "      padding: 0 0 0 0;\n",
              "      width: 32px;\n",
              "    }\n",
              "\n",
              "    .colab-df-convert:hover {\n",
              "      background-color: #E2EBFA;\n",
              "      box-shadow: 0px 1px 2px rgba(60, 64, 67, 0.3), 0px 1px 3px 1px rgba(60, 64, 67, 0.15);\n",
              "      fill: #174EA6;\n",
              "    }\n",
              "\n",
              "    [theme=dark] .colab-df-convert {\n",
              "      background-color: #3B4455;\n",
              "      fill: #D2E3FC;\n",
              "    }\n",
              "\n",
              "    [theme=dark] .colab-df-convert:hover {\n",
              "      background-color: #434B5C;\n",
              "      box-shadow: 0px 1px 3px 1px rgba(0, 0, 0, 0.15);\n",
              "      filter: drop-shadow(0px 1px 2px rgba(0, 0, 0, 0.3));\n",
              "      fill: #FFFFFF;\n",
              "    }\n",
              "  </style>\n",
              "\n",
              "      <script>\n",
              "        const buttonEl =\n",
              "          document.querySelector('#df-128e90ad-16dc-469a-b7fb-d5a74403d726 button.colab-df-convert');\n",
              "        buttonEl.style.display =\n",
              "          google.colab.kernel.accessAllowed ? 'block' : 'none';\n",
              "\n",
              "        async function convertToInteractive(key) {\n",
              "          const element = document.querySelector('#df-128e90ad-16dc-469a-b7fb-d5a74403d726');\n",
              "          const dataTable =\n",
              "            await google.colab.kernel.invokeFunction('convertToInteractive',\n",
              "                                                     [key], {});\n",
              "          if (!dataTable) return;\n",
              "\n",
              "          const docLinkHtml = 'Like what you see? Visit the ' +\n",
              "            '<a target=\"_blank\" href=https://colab.research.google.com/notebooks/data_table.ipynb>data table notebook</a>'\n",
              "            + ' to learn more about interactive tables.';\n",
              "          element.innerHTML = '';\n",
              "          dataTable['output_type'] = 'display_data';\n",
              "          await google.colab.output.renderOutput(dataTable, element);\n",
              "          const docLink = document.createElement('div');\n",
              "          docLink.innerHTML = docLinkHtml;\n",
              "          element.appendChild(docLink);\n",
              "        }\n",
              "      </script>\n",
              "    </div>\n",
              "  </div>\n",
              "  "
            ]
          },
          "metadata": {},
          "execution_count": 6
        }
      ]
    },
    {
      "cell_type": "code",
      "source": [
        "alerts[\"ALERT_ID\"] = alerts[\"ALERT_ID\"].astype(str)\n",
        "alerts[\"SENDER_ACCOUNT_ID\"] = alerts[\"SENDER_ACCOUNT_ID\"].astype(str)\n",
        "alerts[\"RECEIVER_ACCOUNT_ID\"] = alerts[\"RECEIVER_ACCOUNT_ID\"].astype(str)\n",
        "alerts.head(3)"
      ],
      "metadata": {
        "colab": {
          "base_uri": "https://localhost:8080/",
          "height": 143
        },
        "id": "pFDBPRcZRcEK",
        "outputId": "0b9d9601-3488-4d51-dc17-68f78b8703c9"
      },
      "execution_count": 7,
      "outputs": [
        {
          "output_type": "execute_result",
          "data": {
            "text/plain": [
              "  ALERT_ID ALERT_TYPE  IS_FRAUD  TX_ID SENDER_ACCOUNT_ID RECEIVER_ACCOUNT_ID  \\\n",
              "0      193     fan_in      True     82              6976                9739   \n",
              "1      377      cycle      True    949              5776                2570   \n",
              "2      189     fan_in      True   6280              9999                9530   \n",
              "\n",
              "    TX_TYPE  TX_AMOUNT  TIMESTAMP  \n",
              "0  TRANSFER       4.85          0  \n",
              "1  TRANSFER      10.27          0  \n",
              "2  TRANSFER       2.74          1  "
            ],
            "text/html": [
              "\n",
              "  <div id=\"df-d9552d29-fc6b-45c0-b548-df7fd5d3694c\">\n",
              "    <div class=\"colab-df-container\">\n",
              "      <div>\n",
              "<style scoped>\n",
              "    .dataframe tbody tr th:only-of-type {\n",
              "        vertical-align: middle;\n",
              "    }\n",
              "\n",
              "    .dataframe tbody tr th {\n",
              "        vertical-align: top;\n",
              "    }\n",
              "\n",
              "    .dataframe thead th {\n",
              "        text-align: right;\n",
              "    }\n",
              "</style>\n",
              "<table border=\"1\" class=\"dataframe\">\n",
              "  <thead>\n",
              "    <tr style=\"text-align: right;\">\n",
              "      <th></th>\n",
              "      <th>ALERT_ID</th>\n",
              "      <th>ALERT_TYPE</th>\n",
              "      <th>IS_FRAUD</th>\n",
              "      <th>TX_ID</th>\n",
              "      <th>SENDER_ACCOUNT_ID</th>\n",
              "      <th>RECEIVER_ACCOUNT_ID</th>\n",
              "      <th>TX_TYPE</th>\n",
              "      <th>TX_AMOUNT</th>\n",
              "      <th>TIMESTAMP</th>\n",
              "    </tr>\n",
              "  </thead>\n",
              "  <tbody>\n",
              "    <tr>\n",
              "      <th>0</th>\n",
              "      <td>193</td>\n",
              "      <td>fan_in</td>\n",
              "      <td>True</td>\n",
              "      <td>82</td>\n",
              "      <td>6976</td>\n",
              "      <td>9739</td>\n",
              "      <td>TRANSFER</td>\n",
              "      <td>4.85</td>\n",
              "      <td>0</td>\n",
              "    </tr>\n",
              "    <tr>\n",
              "      <th>1</th>\n",
              "      <td>377</td>\n",
              "      <td>cycle</td>\n",
              "      <td>True</td>\n",
              "      <td>949</td>\n",
              "      <td>5776</td>\n",
              "      <td>2570</td>\n",
              "      <td>TRANSFER</td>\n",
              "      <td>10.27</td>\n",
              "      <td>0</td>\n",
              "    </tr>\n",
              "    <tr>\n",
              "      <th>2</th>\n",
              "      <td>189</td>\n",
              "      <td>fan_in</td>\n",
              "      <td>True</td>\n",
              "      <td>6280</td>\n",
              "      <td>9999</td>\n",
              "      <td>9530</td>\n",
              "      <td>TRANSFER</td>\n",
              "      <td>2.74</td>\n",
              "      <td>1</td>\n",
              "    </tr>\n",
              "  </tbody>\n",
              "</table>\n",
              "</div>\n",
              "      <button class=\"colab-df-convert\" onclick=\"convertToInteractive('df-d9552d29-fc6b-45c0-b548-df7fd5d3694c')\"\n",
              "              title=\"Convert this dataframe to an interactive table.\"\n",
              "              style=\"display:none;\">\n",
              "        \n",
              "  <svg xmlns=\"http://www.w3.org/2000/svg\" height=\"24px\"viewBox=\"0 0 24 24\"\n",
              "       width=\"24px\">\n",
              "    <path d=\"M0 0h24v24H0V0z\" fill=\"none\"/>\n",
              "    <path d=\"M18.56 5.44l.94 2.06.94-2.06 2.06-.94-2.06-.94-.94-2.06-.94 2.06-2.06.94zm-11 1L8.5 8.5l.94-2.06 2.06-.94-2.06-.94L8.5 2.5l-.94 2.06-2.06.94zm10 10l.94 2.06.94-2.06 2.06-.94-2.06-.94-.94-2.06-.94 2.06-2.06.94z\"/><path d=\"M17.41 7.96l-1.37-1.37c-.4-.4-.92-.59-1.43-.59-.52 0-1.04.2-1.43.59L10.3 9.45l-7.72 7.72c-.78.78-.78 2.05 0 2.83L4 21.41c.39.39.9.59 1.41.59.51 0 1.02-.2 1.41-.59l7.78-7.78 2.81-2.81c.8-.78.8-2.07 0-2.86zM5.41 20L4 18.59l7.72-7.72 1.47 1.35L5.41 20z\"/>\n",
              "  </svg>\n",
              "      </button>\n",
              "      \n",
              "  <style>\n",
              "    .colab-df-container {\n",
              "      display:flex;\n",
              "      flex-wrap:wrap;\n",
              "      gap: 12px;\n",
              "    }\n",
              "\n",
              "    .colab-df-convert {\n",
              "      background-color: #E8F0FE;\n",
              "      border: none;\n",
              "      border-radius: 50%;\n",
              "      cursor: pointer;\n",
              "      display: none;\n",
              "      fill: #1967D2;\n",
              "      height: 32px;\n",
              "      padding: 0 0 0 0;\n",
              "      width: 32px;\n",
              "    }\n",
              "\n",
              "    .colab-df-convert:hover {\n",
              "      background-color: #E2EBFA;\n",
              "      box-shadow: 0px 1px 2px rgba(60, 64, 67, 0.3), 0px 1px 3px 1px rgba(60, 64, 67, 0.15);\n",
              "      fill: #174EA6;\n",
              "    }\n",
              "\n",
              "    [theme=dark] .colab-df-convert {\n",
              "      background-color: #3B4455;\n",
              "      fill: #D2E3FC;\n",
              "    }\n",
              "\n",
              "    [theme=dark] .colab-df-convert:hover {\n",
              "      background-color: #434B5C;\n",
              "      box-shadow: 0px 1px 3px 1px rgba(0, 0, 0, 0.15);\n",
              "      filter: drop-shadow(0px 1px 2px rgba(0, 0, 0, 0.3));\n",
              "      fill: #FFFFFF;\n",
              "    }\n",
              "  </style>\n",
              "\n",
              "      <script>\n",
              "        const buttonEl =\n",
              "          document.querySelector('#df-d9552d29-fc6b-45c0-b548-df7fd5d3694c button.colab-df-convert');\n",
              "        buttonEl.style.display =\n",
              "          google.colab.kernel.accessAllowed ? 'block' : 'none';\n",
              "\n",
              "        async function convertToInteractive(key) {\n",
              "          const element = document.querySelector('#df-d9552d29-fc6b-45c0-b548-df7fd5d3694c');\n",
              "          const dataTable =\n",
              "            await google.colab.kernel.invokeFunction('convertToInteractive',\n",
              "                                                     [key], {});\n",
              "          if (!dataTable) return;\n",
              "\n",
              "          const docLinkHtml = 'Like what you see? Visit the ' +\n",
              "            '<a target=\"_blank\" href=https://colab.research.google.com/notebooks/data_table.ipynb>data table notebook</a>'\n",
              "            + ' to learn more about interactive tables.';\n",
              "          element.innerHTML = '';\n",
              "          dataTable['output_type'] = 'display_data';\n",
              "          await google.colab.output.renderOutput(dataTable, element);\n",
              "          const docLink = document.createElement('div');\n",
              "          docLink.innerHTML = docLinkHtml;\n",
              "          element.appendChild(docLink);\n",
              "        }\n",
              "      </script>\n",
              "    </div>\n",
              "  </div>\n",
              "  "
            ]
          },
          "metadata": {},
          "execution_count": 7
        }
      ]
    },
    {
      "cell_type": "code",
      "source": [
        "transactions[\"TX_ID\"] = transactions[\"TX_ID\"].astype(str)\n",
        "transactions[\"SENDER_ACCOUNT_ID\"] = transactions[\"SENDER_ACCOUNT_ID\"].astype(\n",
        "    str\n",
        ")\n",
        "transactions[\"RECEIVER_ACCOUNT_ID\"] = transactions[\n",
        "    \"RECEIVER_ACCOUNT_ID\"\n",
        "].astype(str)\n",
        "transactions.head(3)"
      ],
      "metadata": {
        "colab": {
          "base_uri": "https://localhost:8080/",
          "height": 143
        },
        "id": "bJVT3NMCRcBV",
        "outputId": "6024b00d-4ed9-47df-a916-bcccdc1e673d"
      },
      "execution_count": 8,
      "outputs": [
        {
          "output_type": "execute_result",
          "data": {
            "text/plain": [
              "  TX_ID SENDER_ACCOUNT_ID RECEIVER_ACCOUNT_ID   TX_TYPE  TX_AMOUNT  TIMESTAMP  \\\n",
              "0     1              6456                9069  TRANSFER     465.05          0   \n",
              "1     2              7516                9543  TRANSFER     564.64          0   \n",
              "2     3              2445                9356  TRANSFER     598.94          0   \n",
              "\n",
              "   IS_FRAUD  ALERT_ID  \n",
              "0     False        -1  \n",
              "1     False        -1  \n",
              "2     False        -1  "
            ],
            "text/html": [
              "\n",
              "  <div id=\"df-599366e5-0e08-4e02-a430-492e611f4020\">\n",
              "    <div class=\"colab-df-container\">\n",
              "      <div>\n",
              "<style scoped>\n",
              "    .dataframe tbody tr th:only-of-type {\n",
              "        vertical-align: middle;\n",
              "    }\n",
              "\n",
              "    .dataframe tbody tr th {\n",
              "        vertical-align: top;\n",
              "    }\n",
              "\n",
              "    .dataframe thead th {\n",
              "        text-align: right;\n",
              "    }\n",
              "</style>\n",
              "<table border=\"1\" class=\"dataframe\">\n",
              "  <thead>\n",
              "    <tr style=\"text-align: right;\">\n",
              "      <th></th>\n",
              "      <th>TX_ID</th>\n",
              "      <th>SENDER_ACCOUNT_ID</th>\n",
              "      <th>RECEIVER_ACCOUNT_ID</th>\n",
              "      <th>TX_TYPE</th>\n",
              "      <th>TX_AMOUNT</th>\n",
              "      <th>TIMESTAMP</th>\n",
              "      <th>IS_FRAUD</th>\n",
              "      <th>ALERT_ID</th>\n",
              "    </tr>\n",
              "  </thead>\n",
              "  <tbody>\n",
              "    <tr>\n",
              "      <th>0</th>\n",
              "      <td>1</td>\n",
              "      <td>6456</td>\n",
              "      <td>9069</td>\n",
              "      <td>TRANSFER</td>\n",
              "      <td>465.05</td>\n",
              "      <td>0</td>\n",
              "      <td>False</td>\n",
              "      <td>-1</td>\n",
              "    </tr>\n",
              "    <tr>\n",
              "      <th>1</th>\n",
              "      <td>2</td>\n",
              "      <td>7516</td>\n",
              "      <td>9543</td>\n",
              "      <td>TRANSFER</td>\n",
              "      <td>564.64</td>\n",
              "      <td>0</td>\n",
              "      <td>False</td>\n",
              "      <td>-1</td>\n",
              "    </tr>\n",
              "    <tr>\n",
              "      <th>2</th>\n",
              "      <td>3</td>\n",
              "      <td>2445</td>\n",
              "      <td>9356</td>\n",
              "      <td>TRANSFER</td>\n",
              "      <td>598.94</td>\n",
              "      <td>0</td>\n",
              "      <td>False</td>\n",
              "      <td>-1</td>\n",
              "    </tr>\n",
              "  </tbody>\n",
              "</table>\n",
              "</div>\n",
              "      <button class=\"colab-df-convert\" onclick=\"convertToInteractive('df-599366e5-0e08-4e02-a430-492e611f4020')\"\n",
              "              title=\"Convert this dataframe to an interactive table.\"\n",
              "              style=\"display:none;\">\n",
              "        \n",
              "  <svg xmlns=\"http://www.w3.org/2000/svg\" height=\"24px\"viewBox=\"0 0 24 24\"\n",
              "       width=\"24px\">\n",
              "    <path d=\"M0 0h24v24H0V0z\" fill=\"none\"/>\n",
              "    <path d=\"M18.56 5.44l.94 2.06.94-2.06 2.06-.94-2.06-.94-.94-2.06-.94 2.06-2.06.94zm-11 1L8.5 8.5l.94-2.06 2.06-.94-2.06-.94L8.5 2.5l-.94 2.06-2.06.94zm10 10l.94 2.06.94-2.06 2.06-.94-2.06-.94-.94-2.06-.94 2.06-2.06.94z\"/><path d=\"M17.41 7.96l-1.37-1.37c-.4-.4-.92-.59-1.43-.59-.52 0-1.04.2-1.43.59L10.3 9.45l-7.72 7.72c-.78.78-.78 2.05 0 2.83L4 21.41c.39.39.9.59 1.41.59.51 0 1.02-.2 1.41-.59l7.78-7.78 2.81-2.81c.8-.78.8-2.07 0-2.86zM5.41 20L4 18.59l7.72-7.72 1.47 1.35L5.41 20z\"/>\n",
              "  </svg>\n",
              "      </button>\n",
              "      \n",
              "  <style>\n",
              "    .colab-df-container {\n",
              "      display:flex;\n",
              "      flex-wrap:wrap;\n",
              "      gap: 12px;\n",
              "    }\n",
              "\n",
              "    .colab-df-convert {\n",
              "      background-color: #E8F0FE;\n",
              "      border: none;\n",
              "      border-radius: 50%;\n",
              "      cursor: pointer;\n",
              "      display: none;\n",
              "      fill: #1967D2;\n",
              "      height: 32px;\n",
              "      padding: 0 0 0 0;\n",
              "      width: 32px;\n",
              "    }\n",
              "\n",
              "    .colab-df-convert:hover {\n",
              "      background-color: #E2EBFA;\n",
              "      box-shadow: 0px 1px 2px rgba(60, 64, 67, 0.3), 0px 1px 3px 1px rgba(60, 64, 67, 0.15);\n",
              "      fill: #174EA6;\n",
              "    }\n",
              "\n",
              "    [theme=dark] .colab-df-convert {\n",
              "      background-color: #3B4455;\n",
              "      fill: #D2E3FC;\n",
              "    }\n",
              "\n",
              "    [theme=dark] .colab-df-convert:hover {\n",
              "      background-color: #434B5C;\n",
              "      box-shadow: 0px 1px 3px 1px rgba(0, 0, 0, 0.15);\n",
              "      filter: drop-shadow(0px 1px 2px rgba(0, 0, 0, 0.3));\n",
              "      fill: #FFFFFF;\n",
              "    }\n",
              "  </style>\n",
              "\n",
              "      <script>\n",
              "        const buttonEl =\n",
              "          document.querySelector('#df-599366e5-0e08-4e02-a430-492e611f4020 button.colab-df-convert');\n",
              "        buttonEl.style.display =\n",
              "          google.colab.kernel.accessAllowed ? 'block' : 'none';\n",
              "\n",
              "        async function convertToInteractive(key) {\n",
              "          const element = document.querySelector('#df-599366e5-0e08-4e02-a430-492e611f4020');\n",
              "          const dataTable =\n",
              "            await google.colab.kernel.invokeFunction('convertToInteractive',\n",
              "                                                     [key], {});\n",
              "          if (!dataTable) return;\n",
              "\n",
              "          const docLinkHtml = 'Like what you see? Visit the ' +\n",
              "            '<a target=\"_blank\" href=https://colab.research.google.com/notebooks/data_table.ipynb>data table notebook</a>'\n",
              "            + ' to learn more about interactive tables.';\n",
              "          element.innerHTML = '';\n",
              "          dataTable['output_type'] = 'display_data';\n",
              "          await google.colab.output.renderOutput(dataTable, element);\n",
              "          const docLink = document.createElement('div');\n",
              "          docLink.innerHTML = docLinkHtml;\n",
              "          element.appendChild(docLink);\n",
              "        }\n",
              "      </script>\n",
              "    </div>\n",
              "  </div>\n",
              "  "
            ]
          },
          "metadata": {},
          "execution_count": 8
        }
      ]
    },
    {
      "cell_type": "markdown",
      "source": [
        "## Create AMLSim Graph Solution"
      ],
      "metadata": {
        "id": "MIdOfHymXPoJ"
      }
    },
    {
      "cell_type": "markdown",
      "source": [
        "### Create Schema"
      ],
      "metadata": {
        "id": "DaAHsMU6XnG4"
      }
    },
    {
      "cell_type": "code",
      "source": [
        "schema_output = conn.gsql(\n",
        "    \"\"\"\n",
        "USE GLOBAL\n",
        "DROP GRAPH AMLGraph\n",
        "CREATE GRAPH AMLGraph()\n",
        "USE GRAPH AMLGraph \n",
        "\n",
        "CREATE SCHEMA_CHANGE JOB AMLGraph_change_job FOR GRAPH AMLGraph {\n",
        "    ADD VERTEX Country (PRIMARY_ID id STRING) \n",
        "                           WITH primary_id_as_attribute=\"true\";\n",
        "    ADD VERTEX Customer (PRIMARY_ID id STRING) \n",
        "                            WITH primary_id_as_attribute=\"true\";\n",
        "    ADD VERTEX Account (PRIMARY_ID id STRING, init_balance DOUBLE, \n",
        "                       account_type STRING, tx_behavior INT, \n",
        "                       pagerank FLOAT, label INT, current_balance DOUBLE, \n",
        "                       min_send_tx DOUBLE, min_receive_tx DOUBLE, \n",
        "                       max_send_tx DOUBLE, max_receive_tx DOUBLE, \n",
        "                       avg_send_tx DOUBLE, avg_receive_tx DOUBLE, \n",
        "                       cnt_receive_tx INT, cnt_send_tx INT) \n",
        "                       WITH primary_id_as_attribute=\"true\";\n",
        "    ADD VERTEX Transaction (PRIMARY_ID id STRING, tx_behavior_id INT, \n",
        "                           amount DOUBLE, is_fraud BOOL) \n",
        "                           WITH primary_id_as_attribute=\"true\";\n",
        "    ADD VERTEX Alert (PRIMARY_ID id STRING, alert_type STRING, ts INT) \n",
        "                     WITH primary_id_as_attribute=\"true\";\n",
        "\n",
        "    ADD UNDIRECTED EDGE BASED_IN (From Customer, To Country);\n",
        "    ADD UNDIRECTED EDGE CUSTOMER_ACCOUNT (From Customer, To Account);\n",
        "    ADD UNDIRECTED EDGE TRANSACTION_FLAGGED (From Transaction, To Alert);\n",
        "    ADD DIRECTED EDGE SEND_TO (From Account, To Account)\n",
        "                                  WITH REVERSE_EDGE=\"reverse_SEND_TO\";\n",
        "    ADD DIRECTED EDGE SEND_TRANSACTION (From Account, To Transaction, ts INT, \n",
        "                                           tx_type STRING) \n",
        "                                           WITH REVERSE_EDGE=\"reverse_SEND_TRANSACTION\";\n",
        "    ADD DIRECTED EDGE RECEIVE_TRANSACTION (From Transaction, To Account, \n",
        "                                              ts INT, tx_type STRING) \n",
        "                                              WITH REVERSE_EDGE=\"reverse_RECEIVE_TRANSACTION\";\n",
        "}\n",
        "\n",
        "RUN SCHEMA_CHANGE JOB AMLGraph_change_job\n",
        "DROP JOB AMLGraph_change_job\n",
        "\"\"\"\n",
        ")\n",
        "\n",
        "print(schema_output)"
      ],
      "metadata": {
        "colab": {
          "base_uri": "https://localhost:8080/"
        },
        "id": "uJt9e9EFXPbB",
        "outputId": "5171cf72-836f-4bc8-db06-ee386ae2c0ac"
      },
      "execution_count": 9,
      "outputs": [
        {
          "output_type": "stream",
          "name": "stdout",
          "text": [
            "Semantic Check Fails: The job load_job_accounts depends on graph AMLGraph!\n",
            "Please drop the job first!\n",
            "The graph AMLGraph could not be dropped!\n",
            "Semantic Check Fails: The graph name conflicts with another type or existing graph names! Please use a different name.\n",
            "The graph AMLGraph could not be created!\n"
          ]
        }
      ]
    },
    {
      "cell_type": "markdown",
      "source": [
        "***Print Graph Components***"
      ],
      "metadata": {
        "id": "k4ttYSPJO3v5"
      }
    },
    {
      "cell_type": "code",
      "source": [
        "graph_components = conn.gsql(\"\"\"LS\"\"\", options=[])\n",
        "print(graph_components)"
      ],
      "metadata": {
        "colab": {
          "base_uri": "https://localhost:8080/"
        },
        "id": "bFy7xcWeXPYC",
        "outputId": "37cea879-4513-4076-f454-a3c2def3ea80"
      },
      "execution_count": 10,
      "outputs": [
        {
          "output_type": "stream",
          "name": "stdout",
          "text": [
            "---- Graph AMLGraph\n",
            "Vertex Types:\n",
            "- VERTEX Country(PRIMARY_ID id STRING) WITH STATS=\"OUTDEGREE_BY_EDGETYPE\", PRIMARY_ID_AS_ATTRIBUTE=\"true\"\n",
            "- VERTEX Customer(PRIMARY_ID id STRING) WITH STATS=\"OUTDEGREE_BY_EDGETYPE\", PRIMARY_ID_AS_ATTRIBUTE=\"true\"\n",
            "- VERTEX Account(PRIMARY_ID id STRING, init_balance DOUBLE, account_type STRING, tx_behavior INT, pagerank FLOAT, label INT, current_balance DOUBLE, min_send_tx DOUBLE, min_receive_tx DOUBLE, max_send_tx DOUBLE, max_receive_tx DOUBLE, avg_send_tx DOUBLE, avg_receive_tx DOUBLE, cnt_receive_tx INT, cnt_send_tx INT) WITH STATS=\"OUTDEGREE_BY_EDGETYPE\", PRIMARY_ID_AS_ATTRIBUTE=\"true\"\n",
            "- VERTEX Transaction(PRIMARY_ID id STRING, tx_behavior_id INT, amount DOUBLE, is_fraud BOOL) WITH STATS=\"OUTDEGREE_BY_EDGETYPE\", PRIMARY_ID_AS_ATTRIBUTE=\"true\"\n",
            "- VERTEX Alert(PRIMARY_ID id STRING, alert_type STRING, ts INT) WITH STATS=\"OUTDEGREE_BY_EDGETYPE\", PRIMARY_ID_AS_ATTRIBUTE=\"true\"\n",
            "Edge Types:\n",
            "- UNDIRECTED EDGE BASED_IN(FROM Customer, TO Country)\n",
            "- UNDIRECTED EDGE CUSTOMER_ACCOUNT(FROM Customer, TO Account)\n",
            "- UNDIRECTED EDGE TRANSACTION_FLAGGED(FROM Transaction, TO Alert)\n",
            "- DIRECTED EDGE SEND_TO(FROM Account, TO Account) WITH REVERSE_EDGE=\"reverse_SEND_TO\"\n",
            "- DIRECTED EDGE reverse_SEND_TO(FROM Account, TO Account) WITH REVERSE_EDGE=\"SEND_TO\"\n",
            "- DIRECTED EDGE SEND_TRANSACTION(FROM Account, TO Transaction, ts INT, tx_type STRING) WITH REVERSE_EDGE=\"reverse_SEND_TRANSACTION\"\n",
            "- DIRECTED EDGE reverse_SEND_TRANSACTION(FROM Transaction, TO Account, ts INT, tx_type STRING) WITH REVERSE_EDGE=\"SEND_TRANSACTION\"\n",
            "- DIRECTED EDGE RECEIVE_TRANSACTION(FROM Transaction, TO Account, ts INT, tx_type STRING) WITH REVERSE_EDGE=\"reverse_RECEIVE_TRANSACTION\"\n",
            "- DIRECTED EDGE reverse_RECEIVE_TRANSACTION(FROM Account, TO Transaction, ts INT, tx_type STRING) WITH REVERSE_EDGE=\"RECEIVE_TRANSACTION\"\n",
            "\n",
            "Graphs:\n",
            "- Graph AMLGraph(Country:v, Customer:v, Account:v, Transaction:v, Alert:v, BASED_IN:e, CUSTOMER_ACCOUNT:e, TRANSACTION_FLAGGED:e, SEND_TO:e, reverse_SEND_TO:e, SEND_TRANSACTION:e, reverse_SEND_TRANSACTION:e, RECEIVE_TRANSACTION:e, reverse_RECEIVE_TRANSACTION:e)\n",
            "Jobs:\n",
            "- CREATE LOADING JOB load_job_accounts FOR GRAPH AMLGraph {\n",
            "DEFINE FILENAME MyDataSource;\n",
            "LOAD MyDataSource TO VERTEX Customer VALUES($1) USING SEPARATOR=\",\", HEADER=\"true\", EOL=\"\n",
            "\";\n",
            "LOAD MyDataSource TO VERTEX Account VALUES($0, $2, $4, $6, _, _, _, _, _, _, _, _, _, _, _) USING SEPARATOR=\",\", HEADER=\"true\", EOL=\"\n",
            "\";\n",
            "LOAD MyDataSource TO EDGE BASED_IN VALUES($1, $3) USING SEPARATOR=\",\", HEADER=\"true\", EOL=\"\n",
            "\";\n",
            "LOAD MyDataSource TO EDGE CUSTOMER_ACCOUNT VALUES($1, $4) USING SEPARATOR=\",\", HEADER=\"true\", EOL=\"\n",
            "\";\n",
            "}\n",
            "\n",
            "- CREATE LOADING JOB load_job_transactions FOR GRAPH AMLGraph {\n",
            "DEFINE FILENAME F1;\n",
            "LOAD F1 TO VERTEX Transaction VALUES($0, _, $4, $6) USING SEPARATOR=\",\", HEADER=\"true\", EOL=\"\n",
            "\";\n",
            "LOAD F1 TO EDGE SEND_TO VALUES($1, $2) USING SEPARATOR=\",\", HEADER=\"true\", EOL=\"\n",
            "\";\n",
            "LOAD F1 TO EDGE SEND_TRANSACTION VALUES($1, $0, $5, $3) USING SEPARATOR=\",\", HEADER=\"true\", EOL=\"\n",
            "\";\n",
            "LOAD F1 TO EDGE RECEIVE_TRANSACTION VALUES($0, $2, $5, $3) USING SEPARATOR=\",\", HEADER=\"true\", EOL=\"\n",
            "\";\n",
            "}\n",
            "\n",
            "- CREATE LOADING JOB load_job_alerts FOR GRAPH AMLGraph {\n",
            "DEFINE FILENAME F1;\n",
            "LOAD F1 TO VERTEX Alert VALUES($0, $1, $8) USING SEPARATOR=\",\", HEADER=\"true\", EOL=\"\n",
            "\";\n",
            "LOAD F1 TO EDGE TRANSACTION_FLAGGED VALUES($3, $0) USING SEPARATOR=\",\", HEADER=\"true\", EOL=\"\n",
            "\";\n",
            "}\n",
            "\n",
            "Queries:\n",
            "- accountActivity() (installed v2)\n",
            "- accountInfo(int limit_x) (installed v2)\n",
            "- label_prop(set<string> v_type, set<string> e_type, int max_iter, int output_limit, bool print_accum, string file_path, string attr) (installed v2)\n",
            "- pageRank(string v_type, string e_type, float max_change, int max_iter, float damping, int top_k, bool print_accum, string result_attr, string file_path, bool display_edges) (installed v2)\n",
            "- selectAccount(string acct) (installed v2)\n",
            "- selectTopPageRank() (installed v2)\n",
            "- txMultiHopLimit() (installed v2)\n",
            "\n",
            "\n",
            "\n",
            "\n"
          ]
        }
      ]
    },
    {
      "cell_type": "markdown",
      "source": [
        "***Reconnect to the Graph***"
      ],
      "metadata": {
        "id": "4UQelZZxQCu8"
      }
    },
    {
      "cell_type": "code",
      "source": [
        "secret = conn.createSecret()\n",
        "conn.apiToken = conn.getToken(secret)\n",
        "print(\"Connection token:\", conn.apiToken)"
      ],
      "metadata": {
        "colab": {
          "base_uri": "https://localhost:8080/"
        },
        "id": "J3ZLAFzVXPVZ",
        "outputId": "2f556c44-e8a2-4a81-fd2e-f1556323c25a"
      },
      "execution_count": 11,
      "outputs": [
        {
          "output_type": "stream",
          "name": "stdout",
          "text": [
            "Connection token: ('7akgvktm8krm98bt83ibdackoph84mp5', 1650711476, '2022-04-23 10:57:56')\n"
          ]
        }
      ]
    },
    {
      "cell_type": "markdown",
      "source": [
        "## Data Loading"
      ],
      "metadata": {
        "id": "5ZuNBOU3QYuj"
      }
    },
    {
      "cell_type": "markdown",
      "source": [
        "***Loading Accounts***"
      ],
      "metadata": {
        "id": "Tgi28ayrSY44"
      }
    },
    {
      "cell_type": "code",
      "source": [
        "_ = conn.gsql(\"\"\"\n",
        "DROP JOB load_job_accounts\n",
        "CREATE LOADING JOB load_job_accounts FOR GRAPH AMLGraph {\n",
        "    DEFINE FILENAME MyDataSource;\n",
        "    LOAD MyDataSource TO VERTEX Customer VALUES($1) USING SEPARATOR=\",\", HEADER=\"true\", EOL=\"\\n\";\n",
        "    LOAD MyDataSource TO VERTEX Account VALUES($0, $2, $4, $6, _, _, _, _, _, _, _, _, _, _, _) USING SEPARATOR=\",\", HEADER=\"true\", EOL=\"\\n\";\n",
        "    LOAD MyDataSource TO EDGE BASED_IN VALUES($1, $3) USING SEPARATOR=\",\", HEADER=\"true\", EOL=\"\\n\";\n",
        "    LOAD MyDataSource TO EDGE CUSTOMER_ACCOUNT VALUES($1, $4) USING SEPARATOR=\",\", HEADER=\"true\", EOL=\"\\n\";\n",
        "}\n",
        "\"\"\")\n",
        "print(_)"
      ],
      "metadata": {
        "colab": {
          "base_uri": "https://localhost:8080/"
        },
        "id": "_TOTcM77XPS0",
        "outputId": "1242daa7-b4d6-4674-a988-d5084954d7a8"
      },
      "execution_count": 12,
      "outputs": [
        {
          "output_type": "stream",
          "name": "stdout",
          "text": [
            "Successfully dropped jobs on the graph 'AMLGraph': [load_job_accounts].\n",
            "Successfully created loading jobs: [load_job_accounts].\n"
          ]
        }
      ]
    },
    {
      "cell_type": "code",
      "source": [
        "_ = conn.uploadFile(\n",
        "    \"AMLSim_Python_Lab/data/accounts.csv\",\n",
        "    \"MyDataSource\",\n",
        "    \"load_job_accounts\",\n",
        "    timeout=32000,\n",
        ")\n",
        "print(_)"
      ],
      "metadata": {
        "colab": {
          "base_uri": "https://localhost:8080/"
        },
        "id": "vu9lgxDmXPPx",
        "outputId": "98cd8493-41ea-44a3-dcd3-88bb9b950016"
      },
      "execution_count": 13,
      "outputs": [
        {
          "output_type": "stream",
          "name": "stdout",
          "text": [
            "[{'sourceFileName': 'Online_POST', 'statistics': {'validLine': 10001, 'rejectLine': 0, 'failedConditionLine': 0, 'notEnoughToken': 0, 'invalidJson': 0, 'oversizeToken': 0, 'vertex': [{'typeName': 'Customer', 'validObject': 10001, 'noIdFound': 0, 'invalidAttribute': 0, 'invalidVertexType': 0, 'invalidPrimaryId': 0, 'invalidSecondaryId': 0, 'incorrectFixedBinaryLength': 0}, {'typeName': 'Account', 'validObject': 10000, 'noIdFound': 0, 'invalidAttribute': 1, 'invalidAttributeLines': ['1:init_balance'], 'invalidAttributeLinesData': ['ACCOUNT_ID,CUSTOMER_ID,INIT_BALANCE,COUNTRY,ACCOUNT_TYPE,IS_FRAUD,TX_BEHAVIOR_ID\\r\\n'], 'invalidVertexType': 0, 'invalidPrimaryId': 0, 'invalidSecondaryId': 0, 'incorrectFixedBinaryLength': 0}], 'edge': [{'typeName': 'BASED_IN', 'validObject': 10001, 'noIdFound': 0, 'invalidAttribute': 0, 'invalidVertexType': 0, 'invalidPrimaryId': 0, 'invalidSecondaryId': 0, 'incorrectFixedBinaryLength': 0}, {'typeName': 'CUSTOMER_ACCOUNT', 'validObject': 10001, 'noIdFound': 0, 'invalidAttribute': 0, 'invalidVertexType': 0, 'invalidPrimaryId': 0, 'invalidSecondaryId': 0, 'incorrectFixedBinaryLength': 0}], 'deleteVertex': [], 'deleteEdge': []}}]\n"
          ]
        }
      ]
    },
    {
      "cell_type": "markdown",
      "source": [
        "***Loading Transactions***"
      ],
      "metadata": {
        "id": "mPkiwXLeShH2"
      }
    },
    {
      "cell_type": "code",
      "source": [
        "_ = conn.gsql(\"\"\"\n",
        "DROP JOB load_job_transactions\n",
        "CREATE LOADING JOB load_job_transactions FOR GRAPH AMLGraph {\n",
        "    DEFINE FILENAME F1;\n",
        "    LOAD F1 TO VERTEX Transaction VALUES($0, _, $4, $6) USING SEPARATOR=\",\", HEADER=\"true\", EOL=\"\\n\";\n",
        "    LOAD F1 TO EDGE SEND_TO VALUES($1, $2) USING SEPARATOR=\",\", HEADER=\"true\", EOL=\"\\n\";\n",
        "    LOAD F1 TO EDGE SEND_TRANSACTION VALUES($1, $0, $5, $3) USING SEPARATOR=\",\", HEADER=\"true\", EOL=\"\\n\";\n",
        "    LOAD F1 TO EDGE RECEIVE_TRANSACTION VALUES($0, $2, $5, $3) USING SEPARATOR=\",\", HEADER=\"true\", EOL=\"\\n\";\n",
        "}\n",
        "\"\"\")\n",
        "print(_)"
      ],
      "metadata": {
        "colab": {
          "base_uri": "https://localhost:8080/"
        },
        "id": "Z7uHx98KXPM-",
        "outputId": "53e1cb84-bae0-4aba-dd80-d898d19697bf"
      },
      "execution_count": 14,
      "outputs": [
        {
          "output_type": "stream",
          "name": "stdout",
          "text": [
            "Successfully dropped jobs on the graph 'AMLGraph': [load_job_transactions].\n",
            "Successfully created loading jobs: [load_job_transactions].\n"
          ]
        }
      ]
    },
    {
      "cell_type": "code",
      "source": [
        "_ = conn.uploadFile(\n",
        "    \"AMLSim_Python_Lab/data/transactions.csv\",\n",
        "    \"F1\",\n",
        "    \"load_job_transactions\",\n",
        "    timeout=32000,\n",
        ")\n",
        "print(_)"
      ],
      "metadata": {
        "colab": {
          "base_uri": "https://localhost:8080/"
        },
        "id": "-7u8txDESPZX",
        "outputId": "2234ba04-3f6a-4614-f9f8-f3b092d882b1"
      },
      "execution_count": 15,
      "outputs": [
        {
          "output_type": "stream",
          "name": "stdout",
          "text": [
            "[{'sourceFileName': 'Online_POST', 'statistics': {'validLine': 1323235, 'rejectLine': 0, 'failedConditionLine': 0, 'notEnoughToken': 0, 'invalidJson': 0, 'oversizeToken': 0, 'vertex': [{'typeName': 'Transaction', 'validObject': 1323234, 'noIdFound': 0, 'invalidAttribute': 1, 'invalidAttributeLines': ['1:amount'], 'invalidAttributeLinesData': ['TX_ID,SENDER_ACCOUNT_ID,RECEIVER_ACCOUNT_ID,TX_TYPE,TX_AMOUNT,TIMESTAMP,IS_FRAUD,ALERT_ID\\r\\n'], 'invalidVertexType': 0, 'invalidPrimaryId': 0, 'invalidSecondaryId': 0, 'incorrectFixedBinaryLength': 0}], 'edge': [{'typeName': 'SEND_TO', 'validObject': 1323235, 'noIdFound': 0, 'invalidAttribute': 0, 'invalidVertexType': 0, 'invalidPrimaryId': 0, 'invalidSecondaryId': 0, 'incorrectFixedBinaryLength': 0}, {'typeName': 'SEND_TRANSACTION', 'validObject': 1323234, 'noIdFound': 0, 'invalidAttribute': 1, 'invalidAttributeLines': ['1:ts'], 'invalidAttributeLinesData': ['TX_ID,SENDER_ACCOUNT_ID,RECEIVER_ACCOUNT_ID,TX_TYPE,TX_AMOUNT,TIMESTAMP,IS_FRAUD,ALERT_ID\\r\\n'], 'invalidVertexType': 0, 'invalidPrimaryId': 0, 'invalidSecondaryId': 0, 'incorrectFixedBinaryLength': 0}, {'typeName': 'RECEIVE_TRANSACTION', 'validObject': 1323234, 'noIdFound': 0, 'invalidAttribute': 1, 'invalidAttributeLines': ['1:ts'], 'invalidAttributeLinesData': ['TX_ID,SENDER_ACCOUNT_ID,RECEIVER_ACCOUNT_ID,TX_TYPE,TX_AMOUNT,TIMESTAMP,IS_FRAUD,ALERT_ID\\r\\n'], 'invalidVertexType': 0, 'invalidPrimaryId': 0, 'invalidSecondaryId': 0, 'incorrectFixedBinaryLength': 0}], 'deleteVertex': [], 'deleteEdge': []}}]\n"
          ]
        }
      ]
    },
    {
      "cell_type": "markdown",
      "source": [
        "***Load Alerts***"
      ],
      "metadata": {
        "id": "mzeWrDNpUvWD"
      }
    },
    {
      "cell_type": "code",
      "source": [
        "_ = conn.gsql(\"\"\"\n",
        "DROP JOB load_job_alerts\n",
        "CREATE LOADING JOB load_job_alerts FOR GRAPH AMLGraph {\n",
        "    DEFINE FILENAME F1;\n",
        "    LOAD F1 TO VERTEX Alert VALUES($0, $1, $8) USING SEPARATOR=\",\", HEADER=\"true\", EOL=\"\\n\";\n",
        "    LOAD F1 TO EDGE TRANSACTION_FLAGGED VALUES($3, $0) USING SEPARATOR=\",\", HEADER=\"true\", EOL=\"\\n\";\n",
        "}\n",
        "\"\"\")\n",
        "print(_)"
      ],
      "metadata": {
        "colab": {
          "base_uri": "https://localhost:8080/"
        },
        "id": "rU8MBB8iTqR4",
        "outputId": "af695229-a3dd-4cce-aa95-e5f4361e8c79"
      },
      "execution_count": 16,
      "outputs": [
        {
          "output_type": "stream",
          "name": "stdout",
          "text": [
            "Successfully dropped jobs on the graph 'AMLGraph': [load_job_alerts].\n",
            "Successfully created loading jobs: [load_job_alerts].\n"
          ]
        }
      ]
    },
    {
      "cell_type": "code",
      "source": [
        "_ = conn.uploadFile(\n",
        "    \"AMLSim_Python_Lab/data/alerts.csv\",\n",
        "    \"F1\",\n",
        "    \"load_job_alerts\",\n",
        "    timeout=32000\n",
        ")\n",
        "print(_)"
      ],
      "metadata": {
        "colab": {
          "base_uri": "https://localhost:8080/"
        },
        "id": "IrlH9nvDTqMV",
        "outputId": "43e446ff-57d9-4420-fca1-ce5a8bdc90d3"
      },
      "execution_count": 17,
      "outputs": [
        {
          "output_type": "stream",
          "name": "stdout",
          "text": [
            "[{'sourceFileName': 'Online_POST', 'statistics': {'validLine': 1720, 'rejectLine': 0, 'failedConditionLine': 0, 'notEnoughToken': 0, 'invalidJson': 0, 'oversizeToken': 0, 'vertex': [{'typeName': 'Alert', 'validObject': 1719, 'noIdFound': 0, 'invalidAttribute': 1, 'invalidAttributeLines': ['1:ts'], 'invalidAttributeLinesData': ['ALERT_ID,ALERT_TYPE,IS_FRAUD,TX_ID,SENDER_ACCOUNT_ID,RECEIVER_ACCOUNT_ID,TX_TYPE,TX_AMOUNT,TIMESTAMP\\r\\n'], 'invalidVertexType': 0, 'invalidPrimaryId': 0, 'invalidSecondaryId': 0, 'incorrectFixedBinaryLength': 0}], 'edge': [{'typeName': 'TRANSACTION_FLAGGED', 'validObject': 1720, 'noIdFound': 0, 'invalidAttribute': 0, 'invalidVertexType': 0, 'invalidPrimaryId': 0, 'invalidSecondaryId': 0, 'incorrectFixedBinaryLength': 0}], 'deleteVertex': [], 'deleteEdge': []}}]\n"
          ]
        }
      ]
    },
    {
      "cell_type": "markdown",
      "source": [
        "## Install Queries"
      ],
      "metadata": {
        "id": "lJdUwOYpV9l1"
      }
    },
    {
      "cell_type": "code",
      "source": [
        "endpoints = conn.getEndpoints()\n",
        "print(\"Sample default endpoint\")\n",
        "print(json.dumps(endpoints[\"DELETE /graph/{graph_name}/delete_by_type/vertices/{vertex_type}/\"], indent=2))"
      ],
      "metadata": {
        "colab": {
          "base_uri": "https://localhost:8080/"
        },
        "id": "VmUqRiW7TqJl",
        "outputId": "f6c0d0d0-d87c-483b-e5f0-fe740abc0b35"
      },
      "execution_count": 18,
      "outputs": [
        {
          "output_type": "stream",
          "name": "stdout",
          "text": [
            "Sample default endpoint\n",
            "{\n",
            "  \"parameters\": {\n",
            "    \"ack\": {\n",
            "      \"default\": \"all\",\n",
            "      \"max_count\": 1,\n",
            "      \"min_count\": 1,\n",
            "      \"options\": [\n",
            "        \"all\",\n",
            "        \"none\"\n",
            "      ],\n",
            "      \"type\": \"STRING\"\n",
            "    },\n",
            "    \"graph_name\": {\n",
            "      \"default\": \"\",\n",
            "      \"max_count\": 1,\n",
            "      \"min_count\": 0,\n",
            "      \"type\": \"STRING\"\n",
            "    },\n",
            "    \"permanent\": {\n",
            "      \"default\": false,\n",
            "      \"max_count\": 1,\n",
            "      \"min_count\": 1,\n",
            "      \"type\": \"BOOL\"\n",
            "    },\n",
            "    \"vertex_type\": {\n",
            "      \"type\": \"TYPENAME\"\n",
            "    }\n",
            "  }\n",
            "}\n"
          ]
        }
      ]
    },
    {
      "cell_type": "markdown",
      "source": [
        "### Create Account Activity\n",
        "Account activity will traverse transactions to \"accumulate\" statistics from each user in the solution."
      ],
      "metadata": {
        "id": "HEPbXe_XXVNe"
      }
    },
    {
      "cell_type": "code",
      "source": [
        "_ = conn.gsql(\"\"\"\n",
        "DROP QUERY accountActivity\n",
        "CREATE QUERY accountActivity() FOR GRAPH AMLGraph { \n",
        "  \n",
        "  SumAccum<DOUBLE> @s_sumAmt, @r_sumAmt;\n",
        "  SumAccum<DOUBLE> @s_txCnt, @r_txCnt;\n",
        "  MinAccum<DOUBLE> @s_minAmt, @r_minAmt;\n",
        "  MaxAccum<DOUBLE> @s_maxAmt, @r_maxAmt;\n",
        "  AvgAccum @s_avgAmt, @r_avgAmt;\n",
        "  \n",
        "  Seed = {Account.*};\n",
        "  \n",
        "  acctSend = SELECT tgt FROM Seed:s -(SEND_TRANSACTION:e)-> Transaction:tgt\n",
        "             ACCUM s.@s_sumAmt += tgt.amount, \n",
        "                   s.@s_txCnt += 1,\n",
        "                   s.@s_minAmt += tgt.amount, \n",
        "                   s.@s_maxAmt += tgt.amount,\n",
        "                   s.@s_avgAmt += tgt.amount\n",
        "            POST-ACCUM\n",
        "                s.current_balance = s.@s_sumAmt - s.init_balance,\n",
        "                s.min_send_tx = s.@s_minAmt,\n",
        "                s.max_send_tx = s.@s_maxAmt,\n",
        "                s.avg_send_tx = s.@s_avgAmt,\n",
        "                s.cnt_send_tx = s.@s_txCnt;\n",
        "                \n",
        "  acctreceive = SELECT tgt FROM Seed:s -(reverse_RECEIVE_TRANSACTION:e)-> Transaction:tgt\n",
        "                ACCUM s.@r_sumAmt += tgt.amount, \n",
        "                      s.@r_txCnt += 1,\n",
        "                      s.@r_minAmt += tgt.amount, \n",
        "                      s.@r_maxAmt += tgt.amount,\n",
        "                      s.@r_avgAmt += tgt.amount\n",
        "                      \n",
        "                POST-ACCUM\n",
        "                  s.current_balance = s.@r_sumAmt + s.init_balance,\n",
        "                  s.min_receive_tx = s.@r_minAmt,\n",
        "                  s.max_receive_tx = s.@r_maxAmt,\n",
        "                  s.avg_receive_tx = s.@r_avgAmt,\n",
        "                  s.cnt_receive_tx = s.@r_txCnt;\n",
        "              \n",
        "  PRINT \"Features Have Been Calculated\";\n",
        "}\n",
        "\"\"\")\n",
        "print(_)"
      ],
      "metadata": {
        "colab": {
          "base_uri": "https://localhost:8080/"
        },
        "id": "jHg7fQPfTqGi",
        "outputId": "328b799a-ca70-4a2e-a9d7-8aa6ceb0765f"
      },
      "execution_count": 19,
      "outputs": [
        {
          "output_type": "stream",
          "name": "stdout",
          "text": [
            "Successfully dropped queries on the graph 'AMLGraph': [accountActivity].\n",
            "Successfully created queries: [accountActivity].\n"
          ]
        }
      ]
    },
    {
      "cell_type": "markdown",
      "source": [
        "#### Create Account Info\n",
        "A basic query that is looking pulls information from x number of accounts. "
      ],
      "metadata": {
        "id": "wAJLM-5RYaH_"
      }
    },
    {
      "cell_type": "code",
      "source": [
        "_ = conn.gsql(\"\"\"\n",
        "CREATE QUERY accountInfo(INT limit_x) FOR GRAPH AMLGraph {  \n",
        "  /*\n",
        "    Grabs the account info for limit_x accounts\n",
        "  */\n",
        "  \n",
        "  Seed = {Account.*};\n",
        "  \n",
        "  S3 = SELECT a FROM Seed:a \n",
        "         LIMIT limit_x;\n",
        "  \n",
        "  PRINT S3;   \n",
        "}\n",
        "\"\"\")\n",
        "print(_)"
      ],
      "metadata": {
        "colab": {
          "base_uri": "https://localhost:8080/"
        },
        "id": "s3zIYRfUTqEC",
        "outputId": "cfeb8d7b-effe-4e3a-84c9-d255323ea355"
      },
      "execution_count": 20,
      "outputs": [
        {
          "output_type": "stream",
          "name": "stdout",
          "text": [
            "Semantic Check Fails: The query name accountInfo is used by another object! Please use a different name.\n",
            "Failed to create queries: [accountInfo].\n"
          ]
        }
      ]
    },
    {
      "cell_type": "code",
      "source": [
        "_ = conn.gsql(\"INSTALL QUERY accountInfo\")\n",
        "print(_)"
      ],
      "metadata": {
        "colab": {
          "base_uri": "https://localhost:8080/"
        },
        "id": "ayw-B967ZDCH",
        "outputId": "41b6250a-bce0-4647-c0f9-da88d4c74501"
      },
      "execution_count": 21,
      "outputs": [
        {
          "output_type": "stream",
          "name": "stdout",
          "text": [
            "Semantic Check Fails: Graph AMLGraph: all queries in this catalog have been installed already.\n",
            "Query installation finished.\n"
          ]
        }
      ]
    },
    {
      "cell_type": "code",
      "source": [
        "info = conn.runInstalledQuery(\"accountInfo\", {\"limit_x\":\"1\"})\n",
        "print(json.dumps(info, indent=2))"
      ],
      "metadata": {
        "colab": {
          "base_uri": "https://localhost:8080/"
        },
        "id": "jX4K1UDXTqAw",
        "outputId": "9ae8b8e3-8165-4572-c42c-26f12c8de218"
      },
      "execution_count": 22,
      "outputs": [
        {
          "output_type": "stream",
          "name": "stdout",
          "text": [
            "[\n",
            "  {\n",
            "    \"S3\": [\n",
            "      {\n",
            "        \"v_id\": \"9988\",\n",
            "        \"v_type\": \"Account\",\n",
            "        \"attributes\": {\n",
            "          \"id\": \"9988\",\n",
            "          \"init_balance\": 340.28,\n",
            "          \"account_type\": \"I\",\n",
            "          \"tx_behavior\": 5,\n",
            "          \"pagerank\": 1,\n",
            "          \"label\": 705691648,\n",
            "          \"current_balance\": 325468059.41,\n",
            "          \"min_send_tx\": 2.71,\n",
            "          \"min_receive_tx\": 4.75,\n",
            "          \"max_send_tx\": 340.27,\n",
            "          \"max_receive_tx\": 21474836.47,\n",
            "          \"avg_send_tx\": 336.80067,\n",
            "          \"avg_receive_tx\": 233143.06528,\n",
            "          \"cnt_receive_tx\": 1396,\n",
            "          \"cnt_send_tx\": 194\n",
            "        }\n",
            "      }\n",
            "    ]\n",
            "  }\n",
            "]\n"
          ]
        }
      ]
    },
    {
      "cell_type": "markdown",
      "source": [
        "### Create Label Prop\n",
        "\n",
        "Label Propagation is a heuristic method for determining communities. The idea is simple: If the plurality of your neighbors all bear the label X, then you should label yourself as also a member of X. The algorithm begins with each vertex having its own unique label. Then we iteratively update labels based on the neighbor influence described above. It is important that the order for updating the vertices be random. The algorithm is favored for its efficiency and simplicity, but it is not guaranteed to produce the same results every time. In a variant version, some vertices could initially be known to belong to the same community. If they are well-connected to one another, they are likely to preserve their common membership and influence their neighbors."
      ],
      "metadata": {
        "id": "mCLyMbh2Z_yQ"
      }
    },
    {
      "cell_type": "code",
      "source": [
        "_ = conn.gsql(\"\"\"\n",
        "CREATE QUERY label_prop (SET<STRING> v_type, SET<STRING> e_type, INT max_iter, INT output_limit, BOOL print_accum = TRUE, STRING file_path = \"\", STRING attr = \"\") FOR GRAPH AMLGraph{\n",
        "# Partition the vertices into communities, according to the Label Propagation method.\n",
        "# Indicate community membership by assigning each vertex a community ID.\n",
        "\n",
        "        OrAccum @@changed = true;\n",
        "        MapAccum<INT, INT> @map;     # <communityId, numNeighbors>\n",
        "        MapAccum<INT, INT> @@commSizes;   # <communityId, members>\n",
        "        SumAccum<INT> @label, @num;  \n",
        "        FILE f (file_path);\n",
        "        Start = {v_type};\n",
        "\n",
        "# Assign unique labels to each vertex\n",
        "        Start = SELECT s FROM Start:s ACCUM s.@label = getvid(s);\n",
        "\n",
        "# Propagate labels to neighbors until labels converge or the max iterations is reached\n",
        "        WHILE @@changed == true LIMIT max_iter DO\n",
        "                @@changed = false;\n",
        "                Start = SELECT s \n",
        "                        FROM Start:s -(e_type:e)-> :t\n",
        "                        ACCUM t.@map += (s.@label -> 1)  # count the occurrences of neighbor's labels\n",
        "                        POST-ACCUM\n",
        "                                INT maxV = 0,\n",
        "                                INT label = 0,\n",
        "                                # Iterate over the map to get the neighbor label that occurs most often\n",
        "                                FOREACH (k,v) IN t.@map DO\n",
        "                                        CASE WHEN v > maxV THEN\n",
        "                                                maxV = v,\n",
        "                                                label = k\n",
        "                                        END\n",
        "                                END,\n",
        "                                # When the neighbor search finds a label AND it is a new label\n",
        "                                # AND the label's count has increased, update the label.\n",
        "                                CASE WHEN label != 0 AND t.@label != label AND maxV > t.@num THEN\n",
        "                                        @@changed += true,\n",
        "                                        t.@label = label,\n",
        "                                        t.@num = maxV\n",
        "                                END,\n",
        "                                t.@map.clear();\n",
        "        END;\n",
        "\n",
        "        Start = {v_type};\n",
        "        Start =  SELECT s FROM Start:s\n",
        "                  POST-ACCUM \n",
        "                        IF attr != \"\" THEN s.setAttr(attr, s.@label) END,\n",
        "                        IF file_path != \"\" THEN f.println(s, s.@label) END,\n",
        "                        IF print_accum THEN @@commSizes += (s.@label -> 1) END\n",
        "                  LIMIT output_limit;\n",
        "\n",
        "        IF print_accum THEN \n",
        "           PRINT @@commSizes;\n",
        "           PRINT Start[Start.@label];\n",
        "        END;\n",
        "}\n",
        "\"\"\")\n",
        "print(_)"
      ],
      "metadata": {
        "colab": {
          "base_uri": "https://localhost:8080/"
        },
        "id": "kUBcLssaTp9-",
        "outputId": "8507d4b7-c360-44d8-bf19-91051e4219d6"
      },
      "execution_count": 23,
      "outputs": [
        {
          "output_type": "stream",
          "name": "stdout",
          "text": [
            "Semantic Check Fails: The query name label_prop is used by another object! Please use a different name.\n",
            "Failed to create queries: [label_prop].\n"
          ]
        }
      ]
    },
    {
      "cell_type": "markdown",
      "source": [
        "#### Create Page Rank\n",
        "The PageRank algorithm measures the influence of each vertex on every other vertex. PageRank influence is defined recursively: a vertex's influence is based on the influence of the vertices which refer to it. A vertex's influence tends to increase if (1) it has more referring vertices or if (2) its referring vertices have higher influence. The analogy to social influence is clear."
      ],
      "metadata": {
        "id": "FgcIFCjcaxOn"
      }
    },
    {
      "cell_type": "code",
      "source": [
        "_ = conn.gsql(\"\"\"\n",
        "CREATE QUERY pageRank (STRING v_type, STRING e_type,\n",
        " FLOAT max_change=0.001, INT max_iter=25, FLOAT damping=0.85, INT top_k = 100,\n",
        " BOOL print_accum = TRUE, STRING result_attr =  \"\", STRING file_path = \"\",\n",
        " BOOL display_edges = FALSE) FOR GRAPH AMLGraph{\n",
        "/*\n",
        " Compute the pageRank score for each vertex in the GRAPH\n",
        " In each iteration, compute a score for each vertex:\n",
        "     score = (1-damping) + damping*sum(received scores FROM its neighbors).\n",
        " The pageRank algorithm stops when either of the following is true:\n",
        " a) it reaches max_iter iterations;\n",
        " b) the max score change for any vertex compared to the last iteration <= max_change.\n",
        " v_type: vertex types to traverse          print_accum: print JSON output\n",
        " e_type: edge types to traverse            result_attr: INT attr to store results to\n",
        " max_iter; max #iterations                 file_path: file to write CSV output to\n",
        " top_k: #top scores to output              display_edges: output edges for visualization\n",
        " max_change: max allowed change between iterations to achieve convergence\n",
        " damping: importance of traversal vs. random teleport\n",
        "\n",
        " This query supports only taking in a single edge for the time being (8/13/2020).\n",
        "*/\n",
        "\tTYPEDEF TUPLE<VERTEX Vertex_ID, FLOAT score> Vertex_Score;\n",
        "\tHeapAccum<Vertex_Score>(top_k, score DESC) @@topScores;\n",
        "\tMaxAccum<FLOAT> @@max_diff = 9999;    # max score change in an iteration\n",
        "\tSumAccum<FLOAT> @recvd_score = 0; # sum of scores each vertex receives FROM neighbors\n",
        "\tSumAccum<FLOAT> @score = 1;           # initial score for every vertex is 1.\n",
        "\tSetAccum<EDGE> @@edgeSet;             # list of all edges, if display is needed\n",
        "\tFILE f (file_path);\n",
        "\n",
        "# PageRank iterations\t\n",
        "\tStart = {v_type};                     # Start with all vertices of specified type(s)\n",
        "\tWHILE @@max_diff > max_change LIMIT max_iter DO\n",
        "\t\t\t@@max_diff = 0;\n",
        "\t\t\tV = SELECT s\n",
        "\t\t\t\tFROM Start:s -(e_type:e)-> v_type:t\n",
        "\t\t\t\tACCUM t.@recvd_score += s.@score/(s.outdegree(e_type)) \n",
        "\t\t\t\tPOST-ACCUM s.@score = (1.0-damping) + damping * s.@recvd_score,\n",
        "\t\t\t\t\t\t   s.@recvd_score = 0,\n",
        "\t\t\t\t\t\t   @@max_diff += abs(s.@score - s.@score');\n",
        "\tEND; # END WHILE loop\n",
        "\n",
        "# Output\n",
        "\tIF file_path != \"\" THEN\n",
        "\t  f.println(\"Vertex_ID\", \"PageRank\");\n",
        "\tEND;\n",
        "\n",
        "\tV = SELECT s FROM Start:s\n",
        "\t\tPOST-ACCUM \n",
        "\t\t\tIF result_attr != \"\" THEN s.setAttr(result_attr, s.@score) END,\n",
        "\t\t\tIF file_path != \"\" THEN f.println(s, s.@score) END,\n",
        "\t\t\tIF print_accum THEN @@topScores += Vertex_Score(s, s.@score) END;\n",
        "\n",
        "\tIF print_accum THEN\n",
        "\t\tPRINT @@topScores;\n",
        "\t\tIF display_edges THEN\n",
        "\t\t\tPRINT Start[Start.@score];\n",
        "\t\t\tStart = SELECT s\n",
        "\t\t\t\t\tFROM Start:s -(e_type:e)-> v_type:t\n",
        "\t\t\t\t\tACCUM @@edgeSet += e;\n",
        "\t\t   PRINT @@edgeSet;\n",
        "\t\tEND;\n",
        "\tEND;\n",
        "}\n",
        "\"\"\")\n",
        "print(_)"
      ],
      "metadata": {
        "colab": {
          "base_uri": "https://localhost:8080/"
        },
        "id": "c44AQ4vqaqjD",
        "outputId": "f08fbe21-f8f5-42b1-ff49-1b64e232d035"
      },
      "execution_count": 24,
      "outputs": [
        {
          "output_type": "stream",
          "name": "stdout",
          "text": [
            "Semantic Check Fails: The query name pageRank is used by another object! Please use a different name.\n",
            "Failed to create queries: [pageRank].\n"
          ]
        }
      ]
    },
    {
      "cell_type": "markdown",
      "source": [
        "#### Create Transaction Features in Tuple\n",
        "Using a Tuple we can fetch all the data needed for our SKLearn Decision Tree Classifier. "
      ],
      "metadata": {
        "id": "A3aAPbVQbO7e"
      }
    },
    {
      "cell_type": "code",
      "source": [
        "_ = conn.gsql(\"\"\"\n",
        "DROP QUERY txMultiHopLimit\n",
        "CREATE QUERY txMultiHopLimit() FOR GRAPH AMLGraph SYNTAX v2 { \n",
        "\n",
        "  /*\n",
        "    This query grabs all of the features and returns it.\n",
        "  */\n",
        "  \n",
        "  TYPEDEF TUPLE <BOOL tx_fraud, DOUBLE tx_amount, FLOAT s_pagerank, INT s_label, DOUBLE s_min_send_tx, DOUBLE s_min_receieve_tx, DOUBLE s_max_send_tx, DOUBLE s_max_receive_tx, DOUBLE s_avg_send_tx, DOUBLE s_avg_receive_tx, INT s_cnt_receive_tx, INT s_cnt_send_tx, INT s_timestamp, FLOAT r_pagerank, INT r_label, DOUBLE r_min_send_tx, DOUBLE r_min_receieve_tx, DOUBLE r_max_send_tx, DOUBLE r_max_receive_tx, DOUBLE r_avg_send_tx, DOUBLE r_avg_receive_tx, INT r_cnt_receive_tx, INT r_cnt_send_tx, INT r_timestamp> ORDER_TX;\n",
        "  ListAccum<ORDER_TX> @@txRecords;\n",
        "  \n",
        "  Seed = {Transaction.*};\n",
        "  \n",
        "  acctSend = SELECT tgt FROM Seed:s -( (reverse_SEND_TRANSACTION> |  RECEIVE_TRANSACTION>):e)- Account:tgt\n",
        "      ACCUM @@txRecords += ORDER_TX(s.is_fraud, s.amount, tgt.pagerank, tgt.label, tgt.min_send_tx, tgt.min_receive_tx, tgt.max_send_tx, tgt.max_receive_tx, tgt.avg_send_tx, tgt.avg_receive_tx, tgt.cnt_receive_tx, tgt.cnt_send_tx, e.ts, tgt.pagerank, tgt.label, tgt.min_send_tx, tgt.min_receive_tx, tgt.max_send_tx, tgt.max_receive_tx, tgt.avg_send_tx, tgt.avg_receive_tx, tgt.cnt_receive_tx, tgt.cnt_send_tx, e.ts);\n",
        "\n",
        "  PRINT @@txRecords;\n",
        "}\n",
        "\"\"\")\n",
        "print(_)"
      ],
      "metadata": {
        "colab": {
          "base_uri": "https://localhost:8080/"
        },
        "id": "OoV7U5Nnaqgr",
        "outputId": "af205fa8-6aa1-448b-eb7e-7ad4ffc8871a"
      },
      "execution_count": 25,
      "outputs": [
        {
          "output_type": "stream",
          "name": "stdout",
          "text": [
            "Successfully dropped queries on the graph 'AMLGraph': [txMultiHopLimit].\n",
            "Successfully created queries: [txMultiHopLimit].\n"
          ]
        }
      ]
    },
    {
      "cell_type": "markdown",
      "source": [
        "#### Install all Queries"
      ],
      "metadata": {
        "id": "q_jlL3YcbkU0"
      }
    },
    {
      "cell_type": "code",
      "source": [
        "_ = conn.gsql(\"INSTALL QUERY ALL\")\n",
        "print(_)"
      ],
      "metadata": {
        "colab": {
          "base_uri": "https://localhost:8080/"
        },
        "id": "6-XigbNGaqda",
        "outputId": "130cfc22-f984-4a47-a745-a95c0217b815"
      },
      "execution_count": 26,
      "outputs": [
        {
          "output_type": "stream",
          "name": "stdout",
          "text": [
            "Start installing queries, about 1 minute ...\n",
            "accountActivity query: curl -X GET 'http://127.0.0.1:9000/query/AMLGraph/accountActivity'. Add -H \"Authorization: Bearer TOKEN\" if authentication is enabled.\n",
            "txMultiHopLimit query: curl -X GET 'http://127.0.0.1:9000/query/AMLGraph/txMultiHopLimit'. Add -H \"Authorization: Bearer TOKEN\" if authentication is enabled.\n",
            "Select 'm1' as compile server, now connecting ...\n",
            "Node 'm1' is prepared as compile server.\n",
            "\n",
            "Query installation finished.\n"
          ]
        }
      ]
    },
    {
      "cell_type": "markdown",
      "source": [
        "## Run Queries for Feature Extraction"
      ],
      "metadata": {
        "id": "8SduGYWTcfbH"
      }
    },
    {
      "cell_type": "markdown",
      "source": [
        "Check attributes of accounts."
      ],
      "metadata": {
        "id": "c7C0pBSSckod"
      }
    },
    {
      "cell_type": "code",
      "source": [
        "info = conn.runInstalledQuery(\"accountInfo\", {\"limit_x\":\"1\"})\n",
        "print(json.dumps(info, indent=2))"
      ],
      "metadata": {
        "colab": {
          "base_uri": "https://localhost:8080/"
        },
        "id": "CPkTTgeeaqaj",
        "outputId": "03bdeb9f-02a1-47b8-b5ef-fa31196ea6f4"
      },
      "execution_count": 27,
      "outputs": [
        {
          "output_type": "stream",
          "name": "stdout",
          "text": [
            "[\n",
            "  {\n",
            "    \"S3\": [\n",
            "      {\n",
            "        \"v_id\": \"9988\",\n",
            "        \"v_type\": \"Account\",\n",
            "        \"attributes\": {\n",
            "          \"id\": \"9988\",\n",
            "          \"init_balance\": 340.28,\n",
            "          \"account_type\": \"I\",\n",
            "          \"tx_behavior\": 5,\n",
            "          \"pagerank\": 1,\n",
            "          \"label\": 705691648,\n",
            "          \"current_balance\": 325468059.41,\n",
            "          \"min_send_tx\": 2.71,\n",
            "          \"min_receive_tx\": 4.75,\n",
            "          \"max_send_tx\": 340.27,\n",
            "          \"max_receive_tx\": 21474836.47,\n",
            "          \"avg_send_tx\": 336.80067,\n",
            "          \"avg_receive_tx\": 233143.06528,\n",
            "          \"cnt_receive_tx\": 1396,\n",
            "          \"cnt_send_tx\": 194\n",
            "        }\n",
            "      }\n",
            "    ]\n",
            "  }\n",
            "]\n"
          ]
        }
      ]
    },
    {
      "cell_type": "markdown",
      "source": [
        "Run `accountActivity` Query"
      ],
      "metadata": {
        "id": "FJs0ZmDecuMi"
      }
    },
    {
      "cell_type": "code",
      "source": [
        "conn.runInstalledQuery(\"accountActivity\", {})"
      ],
      "metadata": {
        "colab": {
          "base_uri": "https://localhost:8080/"
        },
        "id": "Ksk6qUE-aqXR",
        "outputId": "dd649419-9955-4cdf-8eef-16e07363bb4a"
      },
      "execution_count": 28,
      "outputs": [
        {
          "output_type": "execute_result",
          "data": {
            "text/plain": [
              "[{'\"Features Have Been Calculated\"': 'Features Have Been Calculated'}]"
            ]
          },
          "metadata": {},
          "execution_count": 28
        }
      ]
    },
    {
      "cell_type": "markdown",
      "source": [
        "Check attributes of accounts (check if accountActivity attrbutes are populated)."
      ],
      "metadata": {
        "id": "I8-1c39Oc6IK"
      }
    },
    {
      "cell_type": "code",
      "source": [
        "info = conn.runInstalledQuery(\"accountInfo\", {\"limit_x\":\"1\"})\n",
        "print(json.dumps(info, indent=2))"
      ],
      "metadata": {
        "colab": {
          "base_uri": "https://localhost:8080/"
        },
        "id": "LQGA05HraqUd",
        "outputId": "119bcadd-0d59-409e-aaf0-0da322db44a8"
      },
      "execution_count": 29,
      "outputs": [
        {
          "output_type": "stream",
          "name": "stdout",
          "text": [
            "[\n",
            "  {\n",
            "    \"S3\": [\n",
            "      {\n",
            "        \"v_id\": \"9988\",\n",
            "        \"v_type\": \"Account\",\n",
            "        \"attributes\": {\n",
            "          \"id\": \"9988\",\n",
            "          \"init_balance\": 340.28,\n",
            "          \"account_type\": \"I\",\n",
            "          \"tx_behavior\": 5,\n",
            "          \"pagerank\": 1,\n",
            "          \"label\": 705691648,\n",
            "          \"current_balance\": 325468059.41,\n",
            "          \"min_send_tx\": 2.71,\n",
            "          \"min_receive_tx\": 4.75,\n",
            "          \"max_send_tx\": 340.27,\n",
            "          \"max_receive_tx\": 21474836.47,\n",
            "          \"avg_send_tx\": 336.80067,\n",
            "          \"avg_receive_tx\": 233143.06528,\n",
            "          \"cnt_receive_tx\": 1396,\n",
            "          \"cnt_send_tx\": 194\n",
            "        }\n",
            "      }\n",
            "    ]\n",
            "  }\n",
            "]\n"
          ]
        }
      ]
    },
    {
      "cell_type": "markdown",
      "source": [
        "Run `pageRank` Query"
      ],
      "metadata": {
        "id": "_VKAVig5dGvh"
      }
    },
    {
      "cell_type": "code",
      "source": [
        "pagerank = conn.runInstalledQuery(\n",
        "    \"pageRank\",\n",
        "    {\n",
        "        \"v_type\": \"Account\",\n",
        "        \"e_type\": \"Send_To\",\n",
        "        \"max_change\": \"0.001\",\n",
        "        \"max_iter\": \"25\",\n",
        "        \"damping\": \"0.85\",\n",
        "        \"top_k\": \"10\",\n",
        "        \"print_accum\": \"TRUE\",\n",
        "        \"result_attr\": \"pagerank\",\n",
        "        \"file_path\": \"\",\n",
        "        \"display_edges\": \"FALSE\",\n",
        "    },\n",
        ")\n",
        "print(json.dumps(pagerank, indent=2))"
      ],
      "metadata": {
        "colab": {
          "base_uri": "https://localhost:8080/"
        },
        "id": "ZVltbPRjaqSN",
        "outputId": "384125a0-f0d1-4049-a493-5c36a2de7591"
      },
      "execution_count": 30,
      "outputs": [
        {
          "output_type": "stream",
          "name": "stdout",
          "text": [
            "[\n",
            "  {\n",
            "    \"@@topScores\": [\n",
            "      {\n",
            "        \"Vertex_ID\": \"9747\",\n",
            "        \"score\": 1\n",
            "      },\n",
            "      {\n",
            "        \"Vertex_ID\": \"9961\",\n",
            "        \"score\": 1\n",
            "      },\n",
            "      {\n",
            "        \"Vertex_ID\": \"9691\",\n",
            "        \"score\": 1\n",
            "      },\n",
            "      {\n",
            "        \"Vertex_ID\": \"9525\",\n",
            "        \"score\": 1\n",
            "      },\n",
            "      {\n",
            "        \"Vertex_ID\": \"9651\",\n",
            "        \"score\": 1\n",
            "      },\n",
            "      {\n",
            "        \"Vertex_ID\": \"9507\",\n",
            "        \"score\": 1\n",
            "      },\n",
            "      {\n",
            "        \"Vertex_ID\": \"9479\",\n",
            "        \"score\": 1\n",
            "      },\n",
            "      {\n",
            "        \"Vertex_ID\": \"9580\",\n",
            "        \"score\": 1\n",
            "      },\n",
            "      {\n",
            "        \"Vertex_ID\": \"9767\",\n",
            "        \"score\": 1\n",
            "      },\n",
            "      {\n",
            "        \"Vertex_ID\": \"9988\",\n",
            "        \"score\": 1\n",
            "      }\n",
            "    ]\n",
            "  }\n",
            "]\n"
          ]
        }
      ]
    },
    {
      "cell_type": "markdown",
      "source": [
        "Check attributes of accounts (check if pageRank attrbutes are populated."
      ],
      "metadata": {
        "id": "R3GqRenddec1"
      }
    },
    {
      "cell_type": "code",
      "source": [
        "info = conn.runInstalledQuery(\"accountInfo\", {\"limit_x\":\"1\"})\n",
        "print(json.dumps(info, indent=2))"
      ],
      "metadata": {
        "colab": {
          "base_uri": "https://localhost:8080/"
        },
        "id": "O0nE5f-maqPF",
        "outputId": "bd62f423-95c5-4fab-ce86-e6a455cd32c1"
      },
      "execution_count": 31,
      "outputs": [
        {
          "output_type": "stream",
          "name": "stdout",
          "text": [
            "[\n",
            "  {\n",
            "    \"S3\": [\n",
            "      {\n",
            "        \"v_id\": \"9988\",\n",
            "        \"v_type\": \"Account\",\n",
            "        \"attributes\": {\n",
            "          \"id\": \"9988\",\n",
            "          \"init_balance\": 340.28,\n",
            "          \"account_type\": \"I\",\n",
            "          \"tx_behavior\": 5,\n",
            "          \"pagerank\": 1,\n",
            "          \"label\": 705691648,\n",
            "          \"current_balance\": 325468059.41,\n",
            "          \"min_send_tx\": 2.71,\n",
            "          \"min_receive_tx\": 4.75,\n",
            "          \"max_send_tx\": 340.27,\n",
            "          \"max_receive_tx\": 21474836.47,\n",
            "          \"avg_send_tx\": 336.80067,\n",
            "          \"avg_receive_tx\": 233143.06528,\n",
            "          \"cnt_receive_tx\": 1396,\n",
            "          \"cnt_send_tx\": 194\n",
            "        }\n",
            "      }\n",
            "    ]\n",
            "  }\n",
            "]\n"
          ]
        }
      ]
    },
    {
      "cell_type": "markdown",
      "source": [
        "Run `label_prop` Query"
      ],
      "metadata": {
        "id": "KEtiuppHdmbp"
      }
    },
    {
      "cell_type": "code",
      "source": [
        "label_prop = conn.runInstalledQuery(\n",
        "    \"label_prop\",\n",
        "    {\n",
        "        \"v_type\": \"Account\",\n",
        "        \"e_type\": \"Send_To\",\n",
        "        \"max_iter\": \"10\",\n",
        "        \"output_limit\": \"10\",\n",
        "        \"print_accum\": \"TRUE\",\n",
        "        \"file_path\": \"\",\n",
        "        \"attr\": \"label\",\n",
        "    },\n",
        ")\n",
        "json.dumps(label_prop, indent=1)"
      ],
      "metadata": {
        "colab": {
          "base_uri": "https://localhost:8080/",
          "height": 122
        },
        "id": "uXd9w5U6aqMR",
        "outputId": "c0b48245-04e1-4703-e00a-d975b7fbc03b"
      },
      "execution_count": 32,
      "outputs": [
        {
          "output_type": "execute_result",
          "data": {
            "text/plain": [
              "'[\\n {\\n  \"@@commSizes\": {\\n   \"771752133\": 1,\\n   \"771752132\": 1,\\n   \"771752131\": 1,\\n   \"771752130\": 1,\\n   \"771752129\": 1,\\n   \"771752128\": 1,\\n   \"771752127\": 1,\\n   \"771752126\": 1,\\n   \"771752125\": 1,\\n   \"771752124\": 1,\\n   \"771752123\": 1,\\n   \"771752122\": 1,\\n   \"771752121\": 1,\\n   \"771752120\": 1,\\n   \"771752119\": 1,\\n   \"771752118\": 1,\\n   \"771752117\": 1,\\n   \"771752116\": 1,\\n   \"771752115\": 1,\\n   \"771752114\": 1,\\n   \"771752113\": 1,\\n   \"771752112\": 1,\\n   \"771752111\": 1,\\n   \"771752110\": 1,\\n   \"771752109\": 1,\\n   \"771752108\": 1,\\n   \"771752107\": 1,\\n   \"771752106\": 1,\\n   \"771752105\": 1,\\n   \"771752104\": 1,\\n   \"771752103\": 1,\\n   \"771752102\": 1,\\n   \"771752101\": 1,\\n   \"771752100\": 1,\\n   \"771752099\": 1,\\n   \"771752098\": 1,\\n   \"771752097\": 1,\\n   \"771752096\": 1,\\n   \"771752095\": 1,\\n   \"771752094\": 1,\\n   \"771752093\": 1,\\n   \"771752092\": 1,\\n   \"771752091\": 1,\\n   \"771752090\": 1,\\n   \"771752089\": 1,\\n   \"771752088\": 1,\\n   \"771752087\": 1,\\n   \"771752086\": 1,\\n   \"771752085\": 1,\\n   \"771752084\": 1,\\n   \"771752083\": 1,\\n   \"771752082\": 1,\\n   \"771752081\": 1,\\n   \"771752080\": 1,\\n   \"771752079\": 1,\\n   \"771752078\": 1,\\n   \"771752077\": 1,\\n   \"771752076\": 1,\\n   \"771752075\": 1,\\n   \"771752074\": 1,\\n   \"771752073\": 1,\\n   \"771752072\": 1,\\n   \"771752071\": 1,\\n   \"771752070\": 1,\\n   \"771752069\": 1,\\n   \"771752068\": 1,\\n   \"771752067\": 1,\\n   \"771752066\": 1,\\n   \"771752065\": 1,\\n   \"771752064\": 1,\\n   \"771752063\": 1,\\n   \"771752062\": 1,\\n   \"771752061\": 1,\\n   \"771752060\": 1,\\n   \"771752059\": 1,\\n   \"771752058\": 1,\\n   \"771752057\": 1,\\n   \"771752056\": 1,\\n   \"771752055\": 1,\\n   \"771752054\": 1,\\n   \"771752053\": 1,\\n   \"771752052\": 1,\\n   \"771752051\": 1,\\n   \"771752050\": 1,\\n   \"771752049\": 1,\\n   \"771752048\": 1,\\n   \"771752047\": 1,\\n   \"771752046\": 1,\\n   \"771752045\": 1,\\n   \"771752044\": 1,\\n   \"771752043\": 1,\\n   \"771752042\": 1,\\n   \"771752041\": 1,\\n   \"771752040\": 1,\\n   \"771752039\": 1,\\n   \"771752038\": 1,\\n   \"771752037\": 1,\\n   \"771752036\": 1,\\n   \"771752035\": 1,\\n   \"771752034\": 1,\\n   \"771752033\": 1,\\n   \"771752032\": 1,\\n   \"771751981\": 1,\\n   \"771751980\": 1,\\n   \"771751979\": 1,\\n   \"771751978\": 1,\\n   \"771751977\": 1,\\n   \"771751976\": 1,\\n   \"771751975\": 1,\\n   \"771751974\": 1,\\n   \"771751973\": 1,\\n   \"771751972\": 1,\\n   \"771751971\": 1,\\n   \"771751970\": 1,\\n   \"771751969\": 1,\\n   \"771751968\": 1,\\n   \"771751967\": 1,\\n   \"771751966\": 1,\\n   \"771751965\": 1,\\n   \"771751964\": 1,\\n   \"771751963\": 1,\\n   \"771751962\": 1,\\n   \"771751961\": 1,\\n   \"771751960\": 1,\\n   \"771751959\": 1,\\n   \"771751958\": 1,\\n   \"771751945\": 1,\\n   \"771751944\": 1,\\n   \"771751943\": 1,\\n   \"771751942\": 1,\\n   \"771751941\": 1,\\n   \"771751940\": 1,\\n   \"771751939\": 1,\\n   \"771751938\": 1,\\n   \"771751937\": 1,\\n   \"771751936\": 1,\\n   \"771751946\": 1,\\n   \"771751947\": 1,\\n   \"771751948\": 1,\\n   \"771751949\": 1,\\n   \"771751950\": 1,\\n   \"771751951\": 1,\\n   \"771751952\": 1,\\n   \"771751953\": 1,\\n   \"771751954\": 1,\\n   \"771751955\": 1,\\n   \"771751956\": 1,\\n   \"771751957\": 1,\\n   \"771751982\": 1,\\n   \"771751983\": 1,\\n   \"771751984\": 1,\\n   \"771751985\": 1,\\n   \"771751986\": 1,\\n   \"771751987\": 1,\\n   \"771751988\": 1,\\n   \"771751989\": 1,\\n   \"771751990\": 1,\\n   \"771751991\": 1,\\n   \"771751992\": 1,\\n   \"771751993\": 1,\\n   \"771751994\": 1,\\n   \"771751995\": 1,\\n   \"771751996\": 1,\\n   \"771751997\": 1,\\n   \"771751998\": 1,\\n   \"771751999\": 1,\\n   \"771752000\": 1,\\n   \"771752001\": 1,\\n   \"771752002\": 1,\\n   \"771752003\": 1,\\n   \"771752004\": 1,\\n   \"771752005\": 1,\\n   \"771752006\": 1,\\n   \"771752007\": 1,\\n   \"771752008\": 1,\\n   \"771752009\": 1,\\n   \"771752010\": 1,\\n   \"771752011\": 1,\\n   \"771752012\": 1,\\n   \"771752013\": 1,\\n   \"771752014\": 1,\\n   \"771752015\": 1,\\n   \"771752016\": 1,\\n   \"771752017\": 1,\\n   \"771752018\": 1,\\n   \"771752019\": 1,\\n   \"771752020\": 1,\\n   \"771752021\": 1,\\n   \"771752022\": 1,\\n   \"771752023\": 1,\\n   \"771752024\": 1,\\n   \"771752025\": 1,\\n   \"771752026\": 1,\\n   \"771752027\": 1,\\n   \"771752028\": 1,\\n   \"771752029\": 1,\\n   \"771752030\": 1,\\n   \"771752031\": 1,\\n   \"771752134\": 1,\\n   \"771752135\": 1,\\n   \"771752136\": 1,\\n   \"771752137\": 1,\\n   \"771752138\": 1,\\n   \"771752139\": 1,\\n   \"771752140\": 1,\\n   \"771752141\": 1,\\n   \"771752142\": 1,\\n   \"771752143\": 1,\\n   \"771752144\": 1,\\n   \"771752145\": 1,\\n   \"771752146\": 1,\\n   \"771752147\": 1,\\n   \"771752148\": 1,\\n   \"771752149\": 1,\\n   \"771752150\": 1,\\n   \"771752151\": 1,\\n   \"771752152\": 1,\\n   \"771752153\": 1,\\n   \"771752154\": 1,\\n   \"771752155\": 1,\\n   \"771752156\": 1,\\n   \"771752157\": 1,\\n   \"771752158\": 1,\\n   \"771752159\": 1,\\n   \"771752160\": 1,\\n   \"771752161\": 1,\\n   \"771752162\": 1,\\n   \"771752163\": 1,\\n   \"771752164\": 1,\\n   \"771752165\": 1,\\n   \"771752166\": 1,\\n   \"771752167\": 1,\\n   \"771752168\": 1,\\n   \"771752169\": 1,\\n   \"771752170\": 1,\\n   \"771752171\": 1,\\n   \"771752172\": 1,\\n   \"771752173\": 1,\\n   \"771752174\": 1,\\n   \"771752175\": 1,\\n   \"771752176\": 1,\\n   \"771752177\": 1,\\n   \"771752178\": 1,\\n   \"771752179\": 1,\\n   \"771752180\": 1,\\n   \"771752181\": 1,\\n   \"771752182\": 1,\\n   \"771752183\": 1,\\n   \"771752184\": 1,\\n   \"771752185\": 1,\\n   \"771752186\": 1,\\n   \"771752187\": 1,\\n   \"771752188\": 1,\\n   \"771752189\": 1,\\n   \"771752190\": 1,\\n   \"771752191\": 1,\\n   \"771752192\": 1,\\n   \"771752193\": 1,\\n   \"771752194\": 1,\\n   \"771752195\": 1,\\n   \"771752196\": 1,\\n   \"771752197\": 1,\\n   \"771752198\": 1,\\n   \"771752199\": 1,\\n   \"771752200\": 1,\\n   \"771752201\": 1,\\n   \"771752202\": 1,\\n   \"771752203\": 1,\\n   \"771752204\": 1,\\n   \"771752205\": 1,\\n   \"771752206\": 1,\\n   \"771752207\": 1,\\n   \"771752208\": 1,\\n   \"771752209\": 1,\\n   \"771752210\": 1,\\n   \"771752211\": 1,\\n   \"771752212\": 1,\\n   \"771752213\": 1,\\n   \"771752214\": 1,\\n   \"771752215\": 1,\\n   \"771752216\": 1,\\n   \"771752217\": 1,\\n   \"771752218\": 1,\\n   \"771752219\": 1,\\n   \"771752220\": 1,\\n   \"771752221\": 1,\\n   \"771752222\": 1,\\n   \"771752223\": 1,\\n   \"771752224\": 1,\\n   \"771752225\": 1,\\n   \"771752226\": 1,\\n   \"771752227\": 1,\\n   \"771752228\": 1,\\n   \"771752229\": 1,\\n   \"771752230\": 1,\\n   \"771752231\": 1,\\n   \"771752232\": 1,\\n   \"771752233\": 1,\\n   \"771752234\": 1,\\n   \"771752235\": 1,\\n   \"771752236\": 1,\\n   \"771752237\": 1,\\n   \"765460677\": 1,\\n   \"765460676\": 1,\\n   \"765460675\": 1,\\n   \"765460674\": 1,\\n   \"765460673\": 1,\\n   \"765460672\": 1,\\n   \"765460671\": 1,\\n   \"765460670\": 1,\\n   \"765460669\": 1,\\n   \"765460668\": 1,\\n   \"765460667\": 1,\\n   \"765460666\": 1,\\n   \"765460665\": 1,\\n   \"765460664\": 1,\\n   \"765460663\": 1,\\n   \"765460662\": 1,\\n   \"765460661\": 1,\\n   \"765460660\": 1,\\n   \"765460659\": 1,\\n   \"765460658\": 1,\\n   \"765460657\": 1,\\n   \"765460656\": 1,\\n   \"765460655\": 1,\\n   \"765460654\": 1,\\n   \"765460653\": 1,\\n   \"765460652\": 1,\\n   \"765460651\": 1,\\n   \"765460650\": 1,\\n   \"765460649\": 1,\\n   \"765460648\": 1,\\n   \"765460647\": 1,\\n   \"765460646\": 1,\\n   \"765460645\": 1,\\n   \"765460644\": 1,\\n   \"765460643\": 1,\\n   \"765460642\": 1,\\n   \"765460641\": 1,\\n   \"765460640\": 1,\\n   \"765460639\": 1,\\n   \"765460638\": 1,\\n   \"765460637\": 1,\\n   \"765460636\": 1,\\n   \"765460635\": 1,\\n   \"765460634\": 1,\\n   \"765460633\": 1,\\n   \"765460632\": 1,\\n   \"765460631\": 1,\\n   \"765460630\": 1,\\n   \"765460629\": 1,\\n   \"765460628\": 1,\\n   \"765460627\": 1,\\n   \"765460626\": 1,\\n   \"765460625\": 1,\\n   \"765460624\": 1,\\n   \"765460623\": 1,\\n   \"765460622\": 1,\\n   \"765460621\": 1,\\n   \"765460620\": 1,\\n   \"765460619\": 1,\\n   \"765460618\": 1,\\n   \"765460617\": 1,\\n   \"765460616\": 1,\\n   \"765460615\": 1,\\n   \"765460614\": 1,\\n   \"765460613\": 1,\\n   \"765460612\": 1,\\n   \"765460611\": 1,\\n   \"765460610\": 1,\\n   \"765460609\": 1,\\n   \"765460608\": 1,\\n   \"765460607\": 1,\\n   \"765460606\": 1,\\n   \"765460605\": 1,\\n   \"765460604\": 1,\\n   \"765460603\": 1,\\n   \"765460602\": 1,\\n   \"765460601\": 1,\\n   \"765460600\": 1,\\n   \"765460599\": 1,\\n   \"765460598\": 1,\\n   \"765460597\": 1,\\n   \"765460596\": 1,\\n   \"765460595\": 1,\\n   \"765460594\": 1,\\n   \"765460593\": 1,\\n   \"765460592\": 1,\\n   \"765460591\": 1,\\n   \"765460590\": 1,\\n   \"765460589\": 1,\\n   \"765460588\": 1,\\n   \"765460587\": 1,\\n   \"765460586\": 1,\\n   \"765460585\": 1,\\n   \"765460584\": 1,\\n   \"765460583\": 1,\\n   \"765460582\": 1,\\n   \"765460581\": 1,\\n   \"765460580\": 1,\\n   \"765460579\": 1,\\n   \"765460578\": 1,\\n   \"765460577\": 1,\\n   \"765460576\": 1,\\n   \"765460525\": 1,\\n   \"765460524\": 1,\\n   \"765460523\": 1,\\n   \"765460522\": 1,\\n   \"765460521\": 1,\\n   \"765460520\": 1,\\n   \"765460519\": 1,\\n   \"765460518\": 1,\\n   \"765460517\": 1,\\n   \"765460516\": 1,\\n   \"765460515\": 1,\\n   \"765460514\": 1,\\n   \"765460513\": 1,\\n   \"765460512\": 1,\\n   \"765460511\": 1,\\n   \"765460510\": 1,\\n   \"765460509\": 1,\\n   \"765460508\": 1,\\n   \"765460507\": 1,\\n   \"765460506\": 1,\\n   \"765460505\": 1,\\n   \"765460504\": 1,\\n   \"765460503\": 1,\\n   \"765460502\": 1,\\n   \"765460489\": 1,\\n   \"765460488\": 1,\\n   \"765460487\": 1,\\n   \"765460486\": 1,\\n   \"765460485\": 1,\\n   \"765460484\": 1,\\n   \"765460483\": 1,\\n   \"765460482\": 1,\\n   \"765460481\": 1,\\n   \"765460480\": 1,\\n   \"765460490\": 1,\\n   \"765460491\": 1,\\n   \"765460492\": 1,\\n   \"765460493\": 1,\\n   \"765460494\": 1,\\n   \"765460495\": 1,\\n   \"765460496\": 1,\\n   \"765460497\": 1,\\n   \"765460498\": 1,\\n   \"765460499\": 1,\\n   \"765460500\": 1,\\n   \"765460501\": 1,\\n   \"765460526\": 1,\\n   \"765460527\": 1,\\n   \"765460528\": 1,\\n   \"765460529\": 1,\\n   \"765460530\": 1,\\n   \"765460531\": 1,\\n   \"765460532\": 1,\\n   \"765460533\": 1,\\n   \"765460534\": 1,\\n   \"765460535\": 1,\\n   \"765460536\": 1,\\n   \"765460537\": 1,\\n   \"765460538\": 1,\\n   \"765460539\": 1,\\n   \"765460540\": 1,\\n   \"765460541\": 1,\\n   \"765460542\": 1,\\n   \"765460543\": 1,\\n   \"765460544\": 1,\\n   \"765460545\": 1,\\n   \"765460546\": 1,\\n   \"765460547\": 1,\\n   \"765460548\": 1,\\n   \"765460549\": 1,\\n   \"765460550\": 1,\\n   \"765460551\": 1,\\n   \"765460552\": 1,\\n   \"765460553\": 1,\\n   \"765460554\": 1,\\n   \"765460555\": 1,\\n   \"765460556\": 1,\\n   \"765460557\": 1,\\n   \"765460558\": 1,\\n   \"765460559\": 1,\\n   \"765460560\": 1,\\n   \"765460561\": 1,\\n   \"765460562\": 1,\\n   \"765460563\": 1,\\n   \"765460564\": 1,\\n   \"765460565\": 1,\\n   \"765460566\": 1,\\n   \"765460567\": 1,\\n   \"765460568\": 1,\\n   \"765460569\": 1,\\n   \"765460570\": 1,\\n   \"765460571\": 1,\\n   \"765460572\": 1,\\n   \"765460573\": 1,\\n   \"765460574\": 1,\\n   \"765460575\": 1,\\n   \"765460678\": 1,\\n   \"765460679\": 1,\\n   \"765460680\": 1,\\n   \"765460681\": 1,\\n   \"765460682\": 1,\\n   \"765460683\": 1,\\n   \"765460684\": 1,\\n   \"765460685\": 1,\\n   \"765460686\": 1,\\n   \"765460687\": 1,\\n   \"765460688\": 1,\\n   \"765460689\": 1,\\n   \"765460690\": 1,\\n   \"765460691\": 1,\\n   \"765460692\": 1,\\n   \"765460693\": 1,\\n   \"765460694\": 1,\\n   \"765460695\": 1,\\n   \"765460696\": 1,\\n   \"765460697\": 1,\\n   \"765460698\": 1,\\n   \"765460699\": 1,\\n   \"765460700\": 1,\\n   \"765460701\": 1,\\n   \"765460702\": 1,\\n   \"765460703\": 1,\\n   \"765460704\": 1,\\n   \"765460705\": 1,\\n   \"765460706\": 1,\\n   \"765460707\": 1,\\n   \"765460708\": 1,\\n   \"765460709\": 1,\\n   \"765460710\": 1,\\n   \"765460711\": 1,\\n   \"765460712\": 1,\\n   \"765460713\": 1,\\n   \"765460714\": 1,\\n   \"765460715\": 1,\\n   \"765460716\": 1,\\n   \"765460717\": 1,\\n   \"765460718\": 1,\\n   \"765460719\": 1,\\n   \"765460720\": 1,\\n   \"765460721\": 1,\\n   \"765460722\": 1,\\n   \"765460723\": 1,\\n   \"765460724\": 1,\\n   \"765460725\": 1,\\n   \"765460726\": 1,\\n   \"765460727\": 1,\\n   \"765460728\": 1,\\n   \"765460729\": 1,\\n   \"765460730\": 1,\\n   \"765460731\": 1,\\n   \"765460732\": 1,\\n   \"765460733\": 1,\\n   \"765460734\": 1,\\n   \"765460735\": 1,\\n   \"765460736\": 1,\\n   \"765460737\": 1,\\n   \"765460738\": 1,\\n   \"765460739\": 1,\\n   \"765460740\": 1,\\n   \"765460741\": 1,\\n   \"765460742\": 1,\\n   \"765460743\": 1,\\n   \"765460744\": 1,\\n   \"765460745\": 1,\\n   \"765460746\": 1,\\n   \"765460747\": 1,\\n   \"765460748\": 1,\\n   \"765460749\": 1,\\n   \"765460750\": 1,\\n   \"765460751\": 1,\\n   \"765460752\": 1,\\n   \"765460753\": 1,\\n   \"765460754\": 1,\\n   \"765460755\": 1,\\n   \"765460756\": 1,\\n   \"765460757\": 1,\\n   \"765460758\": 1,\\n   \"765460759\": 1,\\n   \"765460760\": 1,\\n   \"765460761\": 1,\\n   \"765460762\": 1,\\n   \"765460763\": 1,\\n   \"765460764\": 1,\\n   \"765460765\": 1,\\n   \"765460766\": 1,\\n   \"765460767\": 1,\\n   \"765460768\": 1,\\n   \"765460769\": 1,\\n   \"765460770\": 1,\\n   \"765460771\": 1,\\n   \"765460772\": 1,\\n   \"765460773\": 1,\\n   \"765460774\": 1,\\n   \"765460775\": 1,\\n   \"765460776\": 1,\\n   \"765460777\": 1,\\n   \"765460778\": 1,\\n   \"765460779\": 1,\\n   \"765460780\": 1,\\n   \"765460781\": 1,\\n   \"765460782\": 1,\\n   \"765460783\": 1,\\n   \"765460784\": 1,\\n   \"765460785\": 1,\\n   \"765460786\": 1,\\n   \"765460787\": 1,\\n   \"765460788\": 1,\\n   \"765460789\": 1,\\n   \"765460790\": 1,\\n   \"765460791\": 1,\\n   \"765460792\": 1,\\n   \"765460793\": 1,\\n   \"765460794\": 1,\\n   \"765460795\": 1,\\n   \"765460796\": 1,\\n   \"765460797\": 1,\\n   \"765460798\": 1,\\n   \"765460799\": 1,\\n   \"765460800\": 1,\\n   \"765460801\": 1,\\n   \"765460802\": 1,\\n   \"765460803\": 1,\\n   \"813695073\": 1,\\n   \"813695072\": 1,\\n   \"813695071\": 1,\\n   \"813695070\": 1,\\n   \"813695069\": 1,\\n   \"813695068\": 1,\\n   \"813695067\": 1,\\n   \"813695066\": 1,\\n   \"813695065\": 1,\\n   \"813695064\": 1,\\n   \"813695063\": 1,\\n   \"813695062\": 1,\\n   \"813695061\": 1,\\n   \"813695060\": 1,\\n   \"813695059\": 1,\\n   \"813695058\": 1,\\n   \"813695057\": 1,\\n   \"813695056\": 1,\\n   \"813695055\": 1,\\n   \"813695054\": 1,\\n   \"813695053\": 1,\\n   \"813695052\": 1,\\n   \"813695051\": 1,\\n   \"813695050\": 1,\\n   \"813695049\": 1,\\n   \"813695048\": 1,\\n   \"813695047\": 1,\\n   \"813695046\": 1,\\n   \"813695045\": 1,\\n   \"813695044\": 1,\\n   \"813695043\": 1,\\n   \"813695042\": 1,\\n   \"813695041\": 1,\\n   \"813695040\": 1,\\n   \"813695039\": 1,\\n   \"813695038\": 1,\\n   \"813695037\": 1,\\n   \"813695036\": 1,\\n   \"813695035\": 1,\\n   \"813695034\": 1,\\n   \"813695033\": 1,\\n   \"813695032\": 1,\\n   \"813695031\": 1,\\n   \"813695030\": 1,\\n   \"813695029\": 1,\\n   \"813695028\": 1,\\n   \"813695027\": 1,\\n   \"813695026\": 1,\\n   \"813695025\": 1,\\n   \"813695024\": 1,\\n   \"813695023\": 1,\\n   \"813695022\": 1,\\n   \"813695021\": 1,\\n   \"813695020\": 1,\\n   \"813695019\": 1,\\n   \"813695018\": 1,\\n   \"813695017\": 1,\\n   \"813695016\": 1,\\n   \"813695015\": 1,\\n   \"813695014\": 1,\\n   \"813695013\": 1,\\n   \"813695012\": 1,\\n   \"813695011\": 1,\\n   \"813695010\": 1,\\n   \"813695009\": 1,\\n   \"813695008\": 1,\\n   \"813695007\": 1,\\n   \"813695006\": 1,\\n   \"813695005\": 1,\\n   \"813695004\": 1,\\n   \"813695003\": 1,\\n   \"813695002\": 1,\\n   \"813695001\": 1,\\n   \"813695000\": 1,\\n   \"813694999\": 1,\\n   \"813694998\": 1,\\n   \"813694997\": 1,\\n   \"813694996\": 1,\\n   \"813694995\": 1,\\n   \"813694994\": 1,\\n   \"813694993\": 1,\\n   \"813694992\": 1,\\n   \"813694991\": 1,\\n   \"813694990\": 1,\\n   \"813694989\": 1,\\n   \"813694988\": 1,\\n   \"813694987\": 1,\\n   \"813694986\": 1,\\n   \"813694985\": 1,\\n   \"813694984\": 1,\\n   \"813694983\": 1,\\n   \"813694982\": 1,\\n   \"813694981\": 1,\\n   \"813694980\": 1,\\n   \"813694979\": 1,\\n   \"813694978\": 1,\\n   \"813694977\": 1,\\n   \"813694976\": 1,\\n   \"759169347\": 1,\\n   \"759169346\": 1,\\n   \"759169345\": 1,\\n   \"759169344\": 1,\\n   \"759169343\": 1,\\n   \"759169342\": 1,\\n   \"759169341\": 1,\\n   \"759169340\": 1,\\n   \"759169339\": 1,\\n   \"759169338\": 1,\\n   \"759169337\": 1,\\n   \"759169336\": 1,\\n   \"759169335\": 1,\\n   \"759169334\": 1,\\n   \"759169333\": 1,\\n   \"759169332\": 1,\\n   \"759169331\": 1,\\n   \"759169330\": 1,\\n   \"759169329\": 1,\\n   \"759169328\": 1,\\n   \"759169327\": 1,\\n   \"759169326\": 1,\\n   \"759169325\": 1,\\n   \"759169324\": 1,\\n   \"759169323\": 1,\\n   \"759169322\": 1,\\n   \"759169321\": 1,\\n   \"759169320\": 1,\\n   \"759169319\": 1,\\n   \"759169318\": 1,\\n   \"759169317\": 1,\\n   \"759169316\": 1,\\n   \"759169315\": 1,\\n   \"759169314\": 1,\\n   \"759169313\": 1,\\n   \"759169312\": 1,\\n   \"759169311\": 1,\\n   \"759169310\": 1,\\n   \"759169309\": 1,\\n   \"759169308\": 1,\\n   \"759169307\": 1,\\n   \"759169306\": 1,\\n   \"759169305\": 1,\\n   \"759169304\": 1,\\n   \"759169303\": 1,\\n   \"759169302\": 1,\\n   \"759169301\": 1,\\n   \"759169300\": 1,\\n   \"759169299\": 1,\\n   \"759169298\": 1,\\n   \"759169297\": 1,\\n   \"759169296\": 1,\\n   \"759169295\": 1,\\n   \"759169294\": 1,\\n   \"759169293\": 1,\\n   \"759169292\": 1,\\n   \"759169291\": 1,\\n   \"759169290\": 1,\\n   \"759169289\": 1,\\n   \"759169288\": 1,\\n   \"759169287\": 1,\\n   \"759169286\": 1,\\n   \"759169285\": 1,\\n   \"759169284\": 1,\\n   \"759169283\": 1,\\n   \"759169282\": 1,\\n   \"759169281\": 1,\\n   \"759169280\": 1,\\n   \"759169279\": 1,\\n   \"759169278\": 1,\\n   \"759169277\": 1,\\n   \"759169276\": 1,\\n   \"759169275\": 1,\\n   \"759169274\": 1,\\n   \"759169273\": 1,\\n   \"759169272\": 1,\\n   \"759169271\": 1,\\n   \"759169270\": 1,\\n   \"759169269\": 1,\\n   \"759169268\": 1,\\n   \"759169267\": 1,\\n   \"759169266\": 1,\\n   \"759169265\": 1,\\n   \"759169264\": 1,\\n   \"759169263\": 1,\\n   \"759169262\": 1,\\n   \"759169261\": 1,\\n   \"759169260\": 1,\\n   \"759169259\": 1,\\n   \"759169258\": 1,\\n   \"759169257\": 1,\\n   \"759169256\": 1,\\n   \"759169255\": 1,\\n   \"759169254\": 1,\\n   \"759169253\": 1,\\n   \"759169252\": 1,\\n   \"759169251\": 1,\\n   \"759169250\": 1,\\n   \"759169249\": 1,\\n   \"759169248\": 1,\\n   \"759169247\": 1,\\n   \"759169246\": 1,\\n   \"759169245\": 1,\\n   \"759169244\": 1,\\n   \"759169243\": 1,\\n   \"759169242\": 1,\\n   \"759169241\": 1,\\n   \"759169240\": 1,\\n   \"759169239\": 1,\\n   \"759169238\": 1,\\n   \"759169237\": 1,\\n   \"759169236\": 1,\\n   \"759169235\": 1,\\n   \"759169234\": 1,\\n   \"759169233\": 1,\\n   \"759169232\": 1,\\n   \"759169231\": 1,\\n   \"759169230\": 1,\\n   \"759169229\": 1,\\n   \"759169228\": 1,\\n   \"759169227\": 1,\\n   \"759169226\": 1,\\n   \"759169225\": 1,\\n   \"759169224\": 1,\\n   \"759169223\": 1,\\n   \"759169222\": 1,\\n   \"759169221\": 1,\\n   \"759169220\": 1,\\n   \"759169219\": 1,\\n   \"759169218\": 1,\\n   \"759169217\": 1,\\n   \"759169216\": 1,\\n   \"759169215\": 1,\\n   \"759169214\": 1,\\n   \"759169213\": 1,\\n   \"759169212\": 1,\\n   \"759169211\": 1,\\n   \"759169210\": 1,\\n   \"759169209\": 1,\\n   \"759169208\": 1,\\n   \"759169207\": 1,\\n   \"759169206\": 1,\\n   \"759169205\": 1,\\n   \"759169204\": 1,\\n   \"759169203\": 1,\\n   \"759169202\": 1,\\n   \"759169201\": 1,\\n   \"759169200\": 1,\\n   \"759169199\": 1,\\n   \"759169198\": 1,\\n   \"759169197\": 1,\\n   \"759169196\": 1,\\n   \"759169195\": 1,\\n   \"759169194\": 1,\\n   \"759169193\": 1,\\n   \"759169192\": 1,\\n   \"759169191\": 1,\\n   \"759169190\": 1,\\n   \"759169189\": 1,\\n   \"759169188\": 1,\\n   \"759169187\": 1,\\n   \"759169186\": 1,\\n   \"759169185\": 1,\\n   \"759169184\": 1,\\n   \"759169183\": 1,\\n   \"759169182\": 1,\\n   \"759169181\": 1,\\n   \"759169180\": 1,\\n   \"759169179\": 1,\\n   \"759169178\": 1,\\n   \"759169177\": 1,\\n   \"759169176\": 1,\\n   \"759169175\": 1,\\n   \"759169174\": 1,\\n   \"759169173\": 1,\\n   \"759169172\": 1,\\n   \"759169171\": 1,\\n   \"759169170\": 1,\\n   \"759169169\": 1,\\n   \"734003329\": 1,\\n   \"734003328\": 1,\\n   \"734003327\": 1,\\n   \"734003326\": 1,\\n   \"734003325\": 1,\\n   \"734003324\": 1,\\n   \"734003323\": 1,\\n   \"734003322\": 1,\\n   \"734003321\": 1,\\n   \"734003397\": 1,\\n   \"759169091\": 1,\\n   \"734003320\": 1,\\n   \"734003396\": 1,\\n   \"759169090\": 1,\\n   \"734003319\": 1,\\n   \"734003395\": 1,\\n   \"759169089\": 1,\\n   \"734003318\": 1,\\n   \"734003394\": 1,\\n   \"759169088\": 1,\\n   \"734003317\": 1,\\n   \"734003393\": 1,\\n   \"759169087\": 1,\\n   \"734003316\": 1,\\n   \"734003392\": 1,\\n   \"759169086\": 1,\\n   \"734003315\": 1,\\n   \"734003391\": 1,\\n   \"759169085\": 1,\\n   \"734003314\": 1,\\n   \"734003390\": 1,\\n   \"759169084\": 1,\\n   \"734003313\": 1,\\n   \"734003389\": 1,\\n   \"759169083\": 1,\\n   \"734003312\": 1,\\n   \"734003388\": 1,\\n   \"759169082\": 1,\\n   \"734003311\": 1,\\n   \"734003387\": 1,\\n   \"759169081\": 1,\\n   \"734003310\": 1,\\n   \"734003386\": 1,\\n   \"759169080\": 1,\\n   \"734003309\": 1,\\n   \"734003385\": 1,\\n   \"759169079\": 1,\\n   \"734003308\": 1,\\n   \"734003384\": 1,\\n   \"759169078\": 1,\\n   \"734003307\": 1,\\n   \"734003383\": 1,\\n   \"759169077\": 1,\\n   \"734003306\": 1,\\n   \"734003382\": 1,\\n   \"759169076\": 1,\\n   \"734003305\": 1,\\n   \"734003381\": 1,\\n   \"759169075\": 1,\\n   \"734003304\": 1,\\n   \"734003380\": 1,\\n   \"759169074\": 1,\\n   \"734003303\": 1,\\n   \"734003379\": 1,\\n   \"759169073\": 1,\\n   \"734003302\": 1,\\n   \"734003378\": 1,\\n   \"759169072\": 1,\\n   \"734003301\": 1,\\n   \"734003377\": 1,\\n   \"759169071\": 1,\\n   \"734003300\": 1,\\n   \"734003376\": 1,\\n   \"759169070\": 1,\\n   \"734003299\": 1,\\n   \"734003375\": 1,\\n   \"759169069\": 1,\\n   \"734003298\": 1,\\n   \"734003374\": 1,\\n   \"759169068\": 1,\\n   \"734003297\": 1,\\n   \"734003373\": 1,\\n   \"759169067\": 1,\\n   \"734003296\": 1,\\n   \"734003372\": 1,\\n   \"759169066\": 1,\\n   \"734003245\": 1,\\n   \"734003244\": 1,\\n   \"734003243\": 1,\\n   \"734003242\": 1,\\n   \"734003241\": 1,\\n   \"734003240\": 1,\\n   \"734003239\": 1,\\n   \"734003238\": 1,\\n   \"734003237\": 1,\\n   \"734003236\": 1,\\n   \"734003235\": 1,\\n   \"734003234\": 1,\\n   \"734003233\": 1,\\n   \"734003232\": 1,\\n   \"734003231\": 1,\\n   \"734003230\": 1,\\n   \"734003229\": 1,\\n   \"734003228\": 1,\\n   \"734003227\": 1,\\n   \"734003226\": 1,\\n   \"734003225\": 1,\\n   \"734003224\": 1,\\n   \"734003223\": 1,\\n   \"734003222\": 1,\\n   \"734003209\": 1,\\n   \"734003208\": 1,\\n   \"734003207\": 1,\\n   \"734003206\": 1,\\n   \"734003205\": 1,\\n   \"734003204\": 1,\\n   \"734003203\": 1,\\n   \"734003202\": 1,\\n   \"734003201\": 1,\\n   \"734003200\": 1,\\n   \"734003210\": 1,\\n   \"734003211\": 1,\\n   \"734003212\": 1,\\n   \"734003213\": 1,\\n   \"734003214\": 1,\\n   \"734003215\": 1,\\n   \"734003216\": 1,\\n   \"734003217\": 1,\\n   \"734003218\": 1,\\n   \"734003219\": 1,\\n   \"734003220\": 1,\\n   \"734003221\": 1,\\n   \"734003246\": 1,\\n   \"734003247\": 1,\\n   \"734003248\": 1,\\n   \"734003249\": 1,\\n   \"734003250\": 1,\\n   \"734003251\": 1,\\n   \"734003252\": 1,\\n   \"734003253\": 1,\\n   \"734003254\": 1,\\n   \"734003330\": 1,\\n   \"759169024\": 1,\\n   \"734003255\": 1,\\n   \"734003331\": 1,\\n   \"759169025\": 1,\\n   \"734003256\": 1,\\n   \"734003332\": 1,\\n   \"759169026\": 1,\\n   \"734003257\": 1,\\n   \"734003333\": 1,\\n   \"759169027\": 1,\\n   \"734003258\": 1,\\n   \"734003334\": 1,\\n   \"759169028\": 1,\\n   \"734003259\": 1,\\n   \"734003335\": 1,\\n   \"759169029\": 1,\\n   \"734003260\": 1,\\n   \"734003336\": 1,\\n   \"759169030\": 1,\\n   \"734003261\": 1,\\n   \"734003337\": 1,\\n   \"759169031\": 1,\\n   \"734003262\": 1,\\n   \"734003338\": 1,\\n   \"759169032\": 1,\\n   \"734003263\": 1,\\n   \"734003339\": 1,\\n   \"759169033\": 1,\\n   \"734003264\": 1,\\n   \"734003340\": 1,\\n   \"759169034\": 1,\\n   \"734003265\": 1,\\n   \"734003341\": 1,\\n   \"759169035\": 1,\\n   \"734003266\": 1,\\n   \"734003342\": 1,\\n   \"759169036\": 1,\\n   \"734003267\": 1,\\n   \"734003343\": 1,\\n   \"759169037\": 1,\\n   \"734003268\": 1,\\n   \"734003344\": 1,\\n   \"759169038\": 1,\\n   \"734003269\": 1,\\n   \"734003345\": 1,\\n   \"759169039\": 1,\\n   \"734003270\": 1,\\n   \"734003346\": 1,\\n   \"759169040\": 1,\\n   \"734003271\": 1,\\n   \"734003347\": 1,\\n   \"759169041\": 1,\\n   \"734003272\": 1,\\n   \"734003348\": 1,\\n   \"759169042\": 1,\\n   \"734003273\": 1,\\n   \"734003349\": 1,\\n   \"759169043\": 1,\\n   \"734003274\": 1,\\n   \"734003350\": 1,\\n   \"759169044\": 1,\\n   \"734003275\": 1,\\n   \"734003351\": 1,\\n   \"759169045\": 1,\\n   \"734003276\": 1,\\n   \"734003352\": 1,\\n   \"759169046\": 1,\\n   \"734003277\": 1,\\n   \"734003353\": 1,\\n   \"759169047\": 1,\\n   \"734003278\": 1,\\n   \"734003354\": 1,\\n   \"759169048\": 1,\\n   \"734003279\": 1,\\n   \"734003355\": 1,\\n   \"759169049\": 1,\\n   \"734003280\": 1,\\n   \"734003356\": 1,\\n   \"759169050\": 1,\\n   \"734003281\": 1,\\n   \"734003357\": 1,\\n   \"759169051\": 1,\\n   \"734003282\": 1,\\n   \"734003358\": 1,\\n   \"759169052\": 1,\\n   \"734003283\": 1,\\n   \"734003359\": 1,\\n   \"759169053\": 1,\\n   \"734003284\": 1,\\n   \"734003360\": 1,\\n   \"759169054\": 1,\\n   \"734003285\": 1,\\n   \"734003361\": 1,\\n   \"759169055\": 1,\\n   \"734003286\": 1,\\n   \"734003362\": 1,\\n   \"759169056\": 1,\\n   \"734003287\": 1,\\n   \"734003363\": 1,\\n   \"759169057\": 1,\\n   \"734003288\": 1,\\n   \"734003364\": 1,\\n   \"759169058\": 1,\\n   \"734003289\": 1,\\n   \"734003365\": 1,\\n   \"759169059\": 1,\\n   \"734003290\": 1,\\n   \"734003366\": 1,\\n   \"759169060\": 1,\\n   \"734003291\": 1,\\n   \"734003367\": 1,\\n   \"759169061\": 1,\\n   \"734003292\": 1,\\n   \"734003368\": 1,\\n   \"759169062\": 1,\\n   \"734003293\": 1,\\n   \"734003369\": 1,\\n   \"759169063\": 1,\\n   \"734003294\": 1,\\n   \"734003370\": 1,\\n   \"759169064\": 1,\\n   \"734003295\": 1,\\n   \"734003371\": 1,\\n   \"759169065\": 1,\\n   \"759169092\": 1,\\n   \"734003398\": 1,\\n   \"759169093\": 1,\\n   \"734003399\": 1,\\n   \"759169094\": 1,\\n   \"734003400\": 1,\\n   \"759169095\": 1,\\n   \"734003401\": 1,\\n   \"759169096\": 1,\\n   \"734003402\": 1,\\n   \"759169097\": 1,\\n   \"734003403\": 1,\\n   \"759169098\": 1,\\n   \"734003404\": 1,\\n   \"759169099\": 1,\\n   \"734003405\": 1,\\n   \"759169100\": 1,\\n   \"734003406\": 1,\\n   \"759169101\": 1,\\n   \"734003407\": 1,\\n   \"759169102\": 1,\\n   \"734003408\": 1,\\n   \"759169103\": 1,\\n   \"734003409\": 1,\\n   \"759169104\": 1,\\n   \"734003410\": 1,\\n   \"759169105\": 1,\\n   \"734003411\": 1,\\n   \"759169106\": 1,\\n   \"734003412\": 1,\\n   \"759169107\": 1,\\n   \"734003413\": 1,\\n   \"759169108\": 1,\\n   \"734003414\": 1,\\n   \"759169109\": 1,\\n   \"734003415\": 1,\\n   \"759169110\": 1,\\n   \"734003416\": 1,\\n   \"759169111\": 1,\\n   \"734003417\": 1,\\n   \"759169112\": 1,\\n   \"734003418\": 1,\\n   \"759169113\": 1,\\n   \"734003419\": 1,\\n   \"759169114\": 1,\\n   \"734003420\": 1,\\n   \"759169115\": 1,\\n   \"734003421\": 1,\\n   \"759169116\": 1,\\n   \"734003422\": 1,\\n   \"759169117\": 1,\\n   \"734003423\": 1,\\n   \"759169118\": 1,\\n   \"734003424\": 1,\\n   \"759169119\": 1,\\n   \"734003425\": 1,\\n   \"759169120\": 1,\\n   \"734003426\": 1,\\n   \"759169121\": 1,\\n   \"734003427\": 1,\\n   \"759169122\": 1,\\n   \"734003428\": 1,\\n   \"759169123\": 1,\\n   \"734003429\": 1,\\n   \"759169124\": 1,\\n   \"734003430\": 1,\\n   \"759169125\": 1,\\n   \"734003431\": 1,\\n   \"759169126\": 1,\\n   \"734003432\": 1,\\n   \"759169127\": 1,\\n   \"734003433\": 1,\\n   \"759169128\": 1,\\n   \"734003434\": 1,\\n   \"759169129\": 1,\\n   \"734003435\": 1,\\n   \"759169130\": 1,\\n   \"734003436\": 1,\\n   \"759169131\": 1,\\n   \"734003437\": 1,\\n   \"759169132\": 1,\\n   \"734003438\": 1,\\n   \"759169133\": 1,\\n   \"734003439\": 1,\\n   \"759169134\": 1,\\n   \"734003440\": 1,\\n   \"759169135\": 1,\\n   \"734003441\": 1,\\n   \"759169136\": 1,\\n   \"734003442\": 1,\\n   \"759169137\": 1,\\n   \"734003443\": 1,\\n   \"759169138\": 1,\\n   \"734003444\": 1,\\n   \"759169139\": 1,\\n   \"734003445\": 1,\\n   \"759169140\": 1,\\n   \"734003446\": 1,\\n   \"759169141\": 1,\\n   \"734003447\": 1,\\n   \"759169142\": 1,\\n   \"734003448\": 1,\\n   \"759169143\": 1,\\n   \"734003449\": 1,\\n   \"759169144\": 1,\\n   \"734003450\": 1,\\n   \"759169145\": 1,\\n   \"734003451\": 1,\\n   \"759169146\": 1,\\n   \"734003452\": 1,\\n   \"759169147\": 1,\\n   \"734003453\": 1,\\n   \"759169148\": 1,\\n   \"734003454\": 1,\\n   \"759169149\": 1,\\n   \"734003455\": 1,\\n   \"759169150\": 1,\\n   \"734003456\": 1,\\n   \"759169151\": 1,\\n   \"734003457\": 1,\\n   \"759169152\": 1,\\n   \"734003458\": 1,\\n   \"759169153\": 1,\\n   \"734003459\": 1,\\n   \"759169154\": 1,\\n   \"734003460\": 1,\\n   \"759169155\": 1,\\n   \"734003461\": 1,\\n   \"759169156\": 1,\\n   \"734003462\": 1,\\n   \"759169157\": 1,\\n   \"734003463\": 1,\\n   \"759169158\": 1,\\n   \"734003464\": 1,\\n   \"759169159\": 1,\\n   \"734003465\": 1,\\n   \"759169160\": 1,\\n   \"734003466\": 1,\\n   \"759169161\": 1,\\n   \"734003467\": 1,\\n   \"759169162\": 1,\\n   \"734003468\": 1,\\n   \"759169163\": 1,\\n   \"734003469\": 1,\\n   \"759169164\": 1,\\n   \"734003470\": 1,\\n   \"759169165\": 1,\\n   \"734003471\": 1,\\n   \"759169166\": 1,\\n   \"734003472\": 1,\\n   \"759169167\": 1,\\n   \"734003473\": 1,\\n   \"759169168\": 1,\\n   \"734003474\": 1,\\n   \"816840710\": 1,\\n   \"778043667\": 1,\\n   \"711983163\": 1,\\n   \"816840709\": 1,\\n   \"778043666\": 1,\\n   \"711983162\": 1,\\n   \"816840708\": 1,\\n   \"778043665\": 1,\\n   \"711983161\": 1,\\n   \"816840707\": 1,\\n   \"778043664\": 1,\\n   \"711983160\": 1,\\n   \"816840706\": 1,\\n   \"778043663\": 1,\\n   \"711983159\": 1,\\n   \"816840705\": 1,\\n   \"778043662\": 1,\\n   \"711983158\": 1,\\n   \"816840704\": 1,\\n   \"778043661\": 1,\\n   \"711983157\": 1,\\n   \"778043660\": 1,\\n   \"711983156\": 1,\\n   \"778043659\": 1,\\n   \"711983155\": 1,\\n   \"778043658\": 1,\\n   \"711983154\": 1,\\n   \"778043657\": 1,\\n   \"711983153\": 1,\\n   \"778043656\": 1,\\n   \"711983152\": 1,\\n   \"778043655\": 1,\\n   \"711983151\": 1,\\n   \"778043654\": 1,\\n   \"711983150\": 1,\\n   \"711983149\": 1,\\n   \"711983148\": 1,\\n   \"711983147\": 1,\\n   \"711983146\": 1,\\n   \"711983145\": 1,\\n   \"711983144\": 1,\\n   \"711983143\": 1,\\n   \"711983142\": 1,\\n   \"711983141\": 1,\\n   \"711983140\": 1,\\n   \"711983139\": 1,\\n   \"711983138\": 1,\\n   \"711983137\": 1,\\n   \"711983136\": 1,\\n   \"711983135\": 1,\\n   \"711983134\": 1,\\n   \"711983133\": 1,\\n   \"711983132\": 1,\\n   \"711983131\": 1,\\n   \"711983130\": 1,\\n   \"711983129\": 1,\\n   \"711983128\": 1,\\n   \"711983127\": 1,\\n   \"711983126\": 1,\\n   \"711983125\": 1,\\n   \"711983124\": 1,\\n   \"711983123\": 1,\\n   \"711983122\": 1,\\n   \"711983121\": 1,\\n   \"711983120\": 1,\\n   \"711983119\": 1,\\n   \"711983118\": 1,\\n   \"711983117\": 1,\\n   \"711983116\": 1,\\n   \"711983115\": 1,\\n   \"711983114\": 1,\\n   \"711983113\": 1,\\n   \"711983112\": 1,\\n   \"711983111\": 1,\\n   \"711983110\": 1,\\n   \"711983109\": 1,\\n   \"711983108\": 1,\\n   \"711983107\": 1,\\n   \"711983106\": 1,\\n   \"711983105\": 1,\\n   \"711983104\": 1,\\n   \"711983301\": 1,\\n   \"711983300\": 1,\\n   \"711983299\": 1,\\n   \"711983298\": 1,\\n   \"711983297\": 1,\\n   \"711983296\": 1,\\n   \"711983295\": 1,\\n   \"711983294\": 1,\\n   \"711983293\": 1,\\n   \"711983292\": 1,\\n   \"711983291\": 1,\\n   \"711983290\": 1,\\n   \"711983289\": 1,\\n   \"711983288\": 1,\\n   \"711983287\": 1,\\n   \"711983286\": 1,\\n   \"711983285\": 1,\\n   \"711983284\": 1,\\n   \"711983283\": 1,\\n   \"711983282\": 1,\\n   \"711983281\": 1,\\n   \"711983280\": 1,\\n   \"711983279\": 1,\\n   \"711983278\": 1,\\n   \"711983277\": 1,\\n   \"711983276\": 1,\\n   \"711983275\": 1,\\n   \"711983274\": 1,\\n   \"711983273\": 1,\\n   \"711983272\": 1,\\n   \"711983271\": 1,\\n   \"711983270\": 1,\\n   \"711983269\": 1,\\n   \"711983268\": 1,\\n   \"711983267\": 1,\\n   \"711983266\": 1,\\n   \"711983265\": 1,\\n   \"711983264\": 1,\\n   \"711983263\": 1,\\n   \"711983262\": 1,\\n   \"711983261\": 1,\\n   \"711983260\": 1,\\n   \"778043505\": 1,\\n   \"816840866\": 1,\\n   \"711983259\": 1,\\n   \"778043504\": 1,\\n   \"816840865\": 1,\\n   \"711983258\": 1,\\n   \"778043503\": 1,\\n   \"816840864\": 1,\\n   \"711983257\": 1,\\n   \"778043502\": 1,\\n   \"816840863\": 1,\\n   \"711983256\": 1,\\n   \"778043501\": 1,\\n   \"816840862\": 1,\\n   \"711983255\": 1,\\n   \"778043500\": 1,\\n   \"816840861\": 1,\\n   \"711983254\": 1,\\n   \"778043499\": 1,\\n   \"816840860\": 1,\\n   \"711983253\": 1,\\n   \"778043498\": 1,\\n   \"816840859\": 1,\\n   \"711983252\": 1,\\n   \"778043497\": 1,\\n   \"816840858\": 1,\\n   \"711983251\": 1,\\n   \"778043496\": 1,\\n   \"816840857\": 1,\\n   \"711983250\": 1,\\n   \"778043495\": 1,\\n   \"816840856\": 1,\\n   \"711983249\": 1,\\n   \"778043494\": 1,\\n   \"816840855\": 1,\\n   \"711983248\": 1,\\n   \"778043493\": 1,\\n   \"816840854\": 1,\\n   \"711983247\": 1,\\n   \"778043492\": 1,\\n   \"816840853\": 1,\\n   \"711983246\": 1,\\n   \"778043491\": 1,\\n   \"816840852\": 1,\\n   \"711983245\": 1,\\n   \"778043490\": 1,\\n   \"816840851\": 1,\\n   \"711983244\": 1,\\n   \"778043489\": 1,\\n   \"816840850\": 1,\\n   \"711983243\": 1,\\n   \"778043488\": 1,\\n   \"816840849\": 1,\\n   \"711983242\": 1,\\n   \"778043487\": 1,\\n   \"816840848\": 1,\\n   \"711983241\": 1,\\n   \"778043486\": 1,\\n   \"816840847\": 1,\\n   \"711983240\": 1,\\n   \"778043485\": 1,\\n   \"816840846\": 1,\\n   \"711983239\": 1,\\n   \"778043484\": 1,\\n   \"816840845\": 1,\\n   \"711983238\": 1,\\n   \"778043483\": 1,\\n   \"816840844\": 1,\\n   \"711983237\": 1,\\n   \"778043482\": 1,\\n   \"816840843\": 1,\\n   \"711983236\": 1,\\n   \"778043481\": 1,\\n   \"816840842\": 1,\\n   \"711983235\": 1,\\n   \"778043480\": 1,\\n   \"816840841\": 1,\\n   \"711983234\": 1,\\n   \"778043479\": 1,\\n   \"816840840\": 1,\\n   \"711983233\": 1,\\n   \"778043478\": 1,\\n   \"816840839\": 1,\\n   \"711983232\": 1,\\n   \"778043477\": 1,\\n   \"816840838\": 1,\\n   \"711983231\": 1,\\n   \"778043476\": 1,\\n   \"816840837\": 1,\\n   \"711983230\": 1,\\n   \"778043475\": 1,\\n   \"816840836\": 1,\\n   \"711983229\": 1,\\n   \"778043474\": 1,\\n   \"816840835\": 1,\\n   \"711983228\": 1,\\n   \"778043473\": 1,\\n   \"816840834\": 1,\\n   \"711983227\": 1,\\n   \"778043472\": 1,\\n   \"816840833\": 1,\\n   \"711983226\": 1,\\n   \"778043471\": 1,\\n   \"816840832\": 1,\\n   \"711983225\": 1,\\n   \"778043470\": 1,\\n   \"816840831\": 1,\\n   \"711983224\": 1,\\n   \"778043469\": 1,\\n   \"816840830\": 1,\\n   \"711983223\": 1,\\n   \"778043468\": 1,\\n   \"816840829\": 1,\\n   \"711983222\": 1,\\n   \"778043467\": 1,\\n   \"816840828\": 1,\\n   \"711983221\": 1,\\n   \"778043466\": 1,\\n   \"816840827\": 1,\\n   \"711983220\": 1,\\n   \"711983219\": 1,\\n   \"711983218\": 1,\\n   \"711983217\": 1,\\n   \"711983216\": 1,\\n   \"711983215\": 1,\\n   \"711983214\": 1,\\n   \"711983213\": 1,\\n   \"711983212\": 1,\\n   \"778043716\": 1,\\n   \"711983211\": 1,\\n   \"778043715\": 1,\\n   \"711983210\": 1,\\n   \"778043714\": 1,\\n   \"711983209\": 1,\\n   \"778043713\": 1,\\n   \"711983208\": 1,\\n   \"778043712\": 1,\\n   \"711983207\": 1,\\n   \"778043711\": 1,\\n   \"711983206\": 1,\\n   \"778043710\": 1,\\n   \"711983205\": 1,\\n   \"778043709\": 1,\\n   \"711983204\": 1,\\n   \"778043708\": 1,\\n   \"711983203\": 1,\\n   \"778043707\": 1,\\n   \"711983202\": 1,\\n   \"778043706\": 1,\\n   \"711983201\": 1,\\n   \"778043705\": 1,\\n   \"711983200\": 1,\\n   \"778043704\": 1,\\n   \"816840752\": 1,\\n   \"816840751\": 1,\\n   \"816840750\": 1,\\n   \"816840749\": 1,\\n   \"816840748\": 1,\\n   \"816840747\": 1,\\n   \"816840746\": 1,\\n   \"778043703\": 1,\\n   \"711983199\": 1,\\n   \"816840745\": 1,\\n   \"778043702\": 1,\\n   \"711983198\": 1,\\n   \"816840744\": 1,\\n   \"778043701\": 1,\\n   \"711983197\": 1,\\n   \"816840743\": 1,\\n   \"778043700\": 1,\\n   \"711983196\": 1,\\n   \"816840742\": 1,\\n   \"778043699\": 1,\\n   \"711983195\": 1,\\n   \"816840741\": 1,\\n   \"778043698\": 1,\\n   \"711983194\": 1,\\n   \"816840740\": 1,\\n   \"778043697\": 1,\\n   \"711983193\": 1,\\n   \"816840739\": 1,\\n   \"778043696\": 1,\\n   \"711983192\": 1,\\n   \"816840738\": 1,\\n   \"778043695\": 1,\\n   \"711983191\": 1,\\n   \"816840737\": 1,\\n   \"778043694\": 1,\\n   \"711983190\": 1,\\n   \"816840736\": 1,\\n   \"778043693\": 1,\\n   \"711983189\": 1,\\n   \"816840735\": 1,\\n   \"778043692\": 1,\\n   \"711983188\": 1,\\n   \"816840734\": 1,\\n   \"778043691\": 1,\\n   \"711983187\": 1,\\n   \"816840733\": 1,\\n   \"778043690\": 1,\\n   \"711983186\": 1,\\n   \"816840720\": 1,\\n   \"778043677\": 1,\\n   \"711983173\": 1,\\n   \"816840719\": 1,\\n   \"778043676\": 1,\\n   \"711983172\": 1,\\n   \"816840718\": 1,\\n   \"778043675\": 1,\\n   \"711983171\": 1,\\n   \"816840717\": 1,\\n   \"778043674\": 1,\\n   \"711983170\": 1,\\n   \"816840716\": 1,\\n   \"778043673\": 1,\\n   \"711983169\": 1,\\n   \"816840715\": 1,\\n   \"778043672\": 1,\\n   \"711983168\": 1,\\n   \"816840714\": 1,\\n   \"778043671\": 1,\\n   \"711983167\": 1,\\n   \"816840713\": 1,\\n   \"778043670\": 1,\\n   \"711983166\": 1,\\n   \"816840712\": 1,\\n   \"778043669\": 1,\\n   \"711983165\": 1,\\n   \"816840711\": 1,\\n   \"778043668\": 1,\\n   \"711983164\": 1,\\n   \"816840721\": 1,\\n   \"778043678\": 1,\\n   \"711983174\": 1,\\n   \"816840722\": 1,\\n   \"778043679\": 1,\\n   \"711983175\": 1,\\n   \"816840723\": 1,\\n   \"778043680\": 1,\\n   \"711983176\": 1,\\n   \"816840724\": 1,\\n   \"778043681\": 1,\\n   \"711983177\": 1,\\n   \"816840725\": 1,\\n   \"778043682\": 1,\\n   \"711983178\": 1,\\n   \"816840726\": 1,\\n   \"778043683\": 1,\\n   \"711983179\": 1,\\n   \"816840727\": 1,\\n   \"778043684\": 1,\\n   \"711983180\": 1,\\n   \"816840728\": 1,\\n   \"778043685\": 1,\\n   \"711983181\": 1,\\n   \"816840729\": 1,\\n   \"778043686\": 1,\\n   \"711983182\": 1,\\n   \"816840730\": 1,\\n   \"778043687\": 1,\\n   \"711983183\": 1,\\n   \"816840731\": 1,\\n   \"778043688\": 1,\\n   \"711983184\": 1,\\n   \"816840732\": 1,\\n   \"778043689\": 1,\\n   \"711983185\": 1,\\n   \"711983302\": 1,\\n   \"711983303\": 1,\\n   \"711983304\": 1,\\n   \"711983305\": 1,\\n   \"711983306\": 1,\\n   \"711983307\": 1,\\n   \"711983308\": 1,\\n   \"711983309\": 1,\\n   \"711983310\": 1,\\n   \"711983311\": 1,\\n   \"711983312\": 1,\\n   \"711983313\": 1,\\n   \"711983314\": 1,\\n   \"711983315\": 1,\\n   \"711983316\": 1,\\n   \"711983317\": 1,\\n   \"711983318\": 1,\\n   \"711983319\": 1,\\n   \"711983320\": 1,\\n   \"711983321\": 1,\\n   \"711983322\": 1,\\n   \"711983323\": 1,\\n   \"711983324\": 1,\\n   \"711983325\": 1,\\n   \"711983326\": 1,\\n   \"711983327\": 1,\\n   \"711983328\": 1,\\n   \"711983329\": 1,\\n   \"711983330\": 1,\\n   \"711983331\": 1,\\n   \"711983332\": 1,\\n   \"711983333\": 1,\\n   \"711983334\": 1,\\n   \"711983335\": 1,\\n   \"711983336\": 1,\\n   \"711983337\": 1,\\n   \"711983338\": 1,\\n   \"711983339\": 1,\\n   \"711983340\": 1,\\n   \"711983341\": 1,\\n   \"711983342\": 1,\\n   \"711983343\": 1,\\n   \"711983344\": 1,\\n   \"711983345\": 1,\\n   \"711983346\": 1,\\n   \"711983347\": 1,\\n   \"711983348\": 1,\\n   \"816840753\": 1,\\n   \"778043392\": 1,\\n   \"711983349\": 1,\\n   \"816840754\": 1,\\n   \"778043393\": 1,\\n   \"711983350\": 1,\\n   \"816840755\": 1,\\n   \"778043394\": 1,\\n   \"711983351\": 1,\\n   \"816840756\": 1,\\n   \"778043395\": 1,\\n   \"711983352\": 1,\\n   \"816840757\": 1,\\n   \"778043396\": 1,\\n   \"711983353\": 1,\\n   \"816840758\": 1,\\n   \"778043397\": 1,\\n   \"711983354\": 1,\\n   \"816840759\": 1,\\n   \"778043398\": 1,\\n   \"711983355\": 1,\\n   \"816840760\": 1,\\n   \"778043399\": 1,\\n   \"711983356\": 1,\\n   \"816840761\": 1,\\n   \"778043400\": 1,\\n   \"711983357\": 1,\\n   \"816840762\": 1,\\n   \"778043401\": 1,\\n   \"711983358\": 1,\\n   \"816840763\": 1,\\n   \"778043402\": 1,\\n   \"711983359\": 1,\\n   \"816840764\": 1,\\n   \"778043403\": 1,\\n   \"711983360\": 1,\\n   \"816840765\": 1,\\n   \"778043404\": 1,\\n   \"711983361\": 1,\\n   \"816840766\": 1,\\n   \"778043405\": 1,\\n   \"711983362\": 1,\\n   \"816840767\": 1,\\n   \"778043406\": 1,\\n   \"711983363\": 1,\\n   \"816840768\": 1,\\n   \"778043407\": 1,\\n   \"711983364\": 1,\\n   \"816840769\": 1,\\n   \"778043408\": 1,\\n   \"711983365\": 1,\\n   \"816840770\": 1,\\n   \"778043409\": 1,\\n   \"711983366\": 1,\\n   \"816840771\": 1,\\n   \"778043410\": 1,\\n   \"711983367\": 1,\\n   \"816840772\": 1,\\n   \"778043411\": 1,\\n   \"711983368\": 1,\\n   \"816840773\": 1,\\n   \"778043412\": 1,\\n   \"711983369\": 1,\\n   \"816840774\": 1,\\n   \"778043413\": 1,\\n   \"711983370\": 1,\\n   \"816840775\": 1,\\n   \"778043414\": 1,\\n   \"711983371\": 1,\\n   \"816840776\": 1,\\n   \"778043415\": 1,\\n   \"711983372\": 1,\\n   \"816840777\": 1,\\n   \"778043416\": 1,\\n   \"711983373\": 1,\\n   \"816840778\": 1,\\n   \"778043417\": 1,\\n   \"711983374\": 1,\\n   \"816840779\": 1,\\n   \"778043418\": 1,\\n   \"711983375\": 1,\\n   \"816840780\": 1,\\n   \"778043419\": 1,\\n   \"711983376\": 1,\\n   \"816840781\": 1,\\n   \"778043420\": 1,\\n   \"711983377\": 1,\\n   \"816840782\": 1,\\n   \"778043421\": 1,\\n   \"711983378\": 1,\\n   \"816840783\": 1,\\n   \"778043422\": 1,\\n   \"711983379\": 1,\\n   \"816840784\": 1,\\n   \"778043423\": 1,\\n   \"711983380\": 1,\\n   \"816840785\": 1,\\n   \"778043424\": 1,\\n   \"711983381\": 1,\\n   \"816840786\": 1,\\n   \"778043425\": 1,\\n   \"711983382\": 1,\\n   \"816840787\": 1,\\n   \"778043426\": 1,\\n   \"711983383\": 1,\\n   \"816840788\": 1,\\n   \"778043427\": 1,\\n   \"711983384\": 1,\\n   \"816840789\": 1,\\n   \"778043428\": 1,\\n   \"711983385\": 1,\\n   \"816840790\": 1,\\n   \"778043429\": 1,\\n   \"711983386\": 1,\\n   \"816840791\": 1,\\n   \"778043430\": 1,\\n   \"711983387\": 1,\\n   \"816840792\": 1,\\n   \"778043431\": 1,\\n   \"711983388\": 1,\\n   \"816840793\": 1,\\n   \"778043432\": 1,\\n   \"711983389\": 1,\\n   \"816840794\": 1,\\n   \"778043433\": 1,\\n   \"711983390\": 1,\\n   \"816840795\": 1,\\n   \"778043434\": 1,\\n   \"711983391\": 1,\\n   \"816840796\": 1,\\n   \"778043435\": 1,\\n   \"711983392\": 1,\\n   \"816840797\": 1,\\n   \"778043436\": 1,\\n   \"711983393\": 1,\\n   \"816840798\": 1,\\n   \"778043437\": 1,\\n   \"711983394\": 1,\\n   \"816840799\": 1,\\n   \"778043438\": 1,\\n   \"711983395\": 1,\\n   \"816840800\": 1,\\n   \"778043439\": 1,\\n   \"711983396\": 1,\\n   \"816840801\": 1,\\n   \"778043440\": 1,\\n   \"711983397\": 1,\\n   \"816840802\": 1,\\n   \"778043441\": 1,\\n   \"711983398\": 1,\\n   \"816840803\": 1,\\n   \"778043442\": 1,\\n   \"711983399\": 1,\\n   \"816840804\": 1,\\n   \"778043443\": 1,\\n   \"711983400\": 1,\\n   \"816840805\": 1,\\n   \"778043444\": 1,\\n   \"711983401\": 1,\\n   \"816840806\": 1,\\n   \"778043445\": 1,\\n   \"711983402\": 1,\\n   \"816840807\": 1,\\n   \"778043446\": 1,\\n   \"711983403\": 1,\\n   \"816840808\": 1,\\n   \"778043447\": 1,\\n   \"711983404\": 1,\\n   \"816840809\": 1,\\n   \"778043448\": 1,\\n   \"711983405\": 1,\\n   \"816840810\": 1,\\n   \"778043449\": 1,\\n   \"711983406\": 1,\\n   \"816840811\": 1,\\n   \"778043450\": 1,\\n   \"711983407\": 1,\\n   \"816840812\": 1,\\n   \"778043451\": 1,\\n   \"711983408\": 1,\\n   \"816840813\": 1,\\n   \"778043452\": 1,\\n   \"711983409\": 1,\\n   \"816840814\": 1,\\n   \"778043453\": 1,\\n   \"711983410\": 1,\\n   \"816840815\": 1,\\n   \"778043454\": 1,\\n   \"711983411\": 1,\\n   \"816840816\": 1,\\n   \"778043455\": 1,\\n   \"711983412\": 1,\\n   \"816840817\": 1,\\n   \"778043456\": 1,\\n   \"711983413\": 1,\\n   \"816840818\": 1,\\n   \"778043457\": 1,\\n   \"711983414\": 1,\\n   \"816840819\": 1,\\n   \"778043458\": 1,\\n   \"711983415\": 1,\\n   \"816840820\": 1,\\n   \"778043459\": 1,\\n   \"711983416\": 1,\\n   \"816840821\": 1,\\n   \"778043460\": 1,\\n   \"711983417\": 1,\\n   \"816840822\": 1,\\n   \"778043461\": 1,\\n   \"711983418\": 1,\\n   \"816840823\": 1,\\n   \"778043462\": 1,\\n   \"711983419\": 1,\\n   \"816840824\": 1,\\n   \"778043463\": 1,\\n   \"711983420\": 1,\\n   \"816840825\": 1,\\n   \"778043464\": 1,\\n   \"711983421\": 1,\\n   \"816840826\": 1,\\n   \"778043465\": 1,\\n   \"711983422\": 1,\\n   \"711983423\": 1,\\n   \"711983424\": 1,\\n   \"711983425\": 1,\\n   \"711983426\": 1,\\n   \"711983427\": 1,\\n   \"711983428\": 1,\\n   \"711983429\": 1,\\n   \"711983430\": 1,\\n   \"711983431\": 1,\\n   \"711983432\": 1,\\n   \"711983433\": 1,\\n   \"711983434\": 1,\\n   \"711983435\": 1,\\n   \"711983436\": 1,\\n   \"711983437\": 1,\\n   \"778043506\": 1,\\n   \"816840867\": 1,\\n   \"778043507\": 1,\\n   \"816840868\": 1,\\n   \"778043508\": 1,\\n   \"816840869\": 1,\\n   \"778043509\": 1,\\n   \"816840870\": 1,\\n   \"778043510\": 1,\\n   \"816840871\": 1,\\n   \"778043511\": 1,\\n   \"816840872\": 1,\\n   \"778043512\": 1,\\n   \"816840873\": 1,\\n   \"778043513\": 1,\\n   \"816840874\": 1,\\n   \"778043514\": 1,\\n   \"816840875\": 1,\\n   \"778043515\": 1,\\n   \"816840876\": 1,\\n   \"778043516\": 1,\\n   \"816840877\": 1,\\n   \"778043517\": 1,\\n   \"816840878\": 1,\\n   \"778043518\": 1,\\n   \"816840879\": 1,\\n   \"778043519\": 1,\\n   \"816840880\": 1,\\n   \"778043520\": 1,\\n   \"816840881\": 1,\\n   \"778043521\": 1,\\n   \"816840882\": 1,\\n   \"778043522\": 1,\\n   \"816840883\": 1,\\n   \"778043523\": 1,\\n   \"816840884\": 1,\\n   \"778043524\": 1,\\n   \"816840885\": 1,\\n   \"778043525\": 1,\\n   \"816840886\": 1,\\n   \"778043526\": 1,\\n   \"816840887\": 1,\\n   \"778043527\": 1,\\n   \"816840888\": 1,\\n   \"778043528\": 1,\\n   \"816840889\": 1,\\n   \"778043529\": 1,\\n   \"816840890\": 1,\\n   \"778043530\": 1,\\n   \"816840891\": 1,\\n   \"778043531\": 1,\\n   \"816840892\": 1,\\n   \"778043532\": 1,\\n   \"816840893\": 1,\\n   \"778043533\": 1,\\n   \"816840894\": 1,\\n   \"778043534\": 1,\\n   \"816840895\": 1,\\n   \"778043535\": 1,\\n   \"816840896\": 1,\\n   \"778043536\": 1,\\n   \"816840897\": 1,\\n   \"778043537\": 1,\\n   \"816840898\": 1,\\n   \"778043538\": 1,\\n   \"816840899\": 1,\\n   \"778043539\": 1,\\n   \"816840900\": 1,\\n   \"778043540\": 1,\\n   \"816840901\": 1,\\n   \"778043541\": 1,\\n   \"816840902\": 1,\\n   \"778043542\": 1,\\n   \"816840903\": 1,\\n   \"778043543\": 1,\\n   \"816840904\": 1,\\n   \"778043544\": 1,\\n   \"816840905\": 1,\\n   \"778043545\": 1,\\n   \"816840906\": 1,\\n   \"778043546\": 1,\\n   \"816840907\": 1,\\n   \"778043547\": 1,\\n   \"816840908\": 1,\\n   \"778043548\": 1,\\n   \"816840909\": 1,\\n   \"778043549\": 1,\\n   \"816840910\": 1,\\n   \"778043550\": 1,\\n   \"816840911\": 1,\\n   \"778043551\": 1,\\n   \"816840912\": 1,\\n   \"778043552\": 1,\\n   \"816840913\": 1,\\n   \"778043553\": 1,\\n   \"816840914\": 1,\\n   \"778043554\": 1,\\n   \"816840915\": 1,\\n   \"778043555\": 1,\\n   \"816840916\": 1,\\n   \"778043556\": 1,\\n   \"816840917\": 1,\\n   \"778043557\": 1,\\n   \"816840918\": 1,\\n   \"778043558\": 1,\\n   \"816840919\": 1,\\n   \"778043559\": 1,\\n   \"816840920\": 1,\\n   \"778043560\": 1,\\n   \"816840921\": 1,\\n   \"778043561\": 1,\\n   \"816840922\": 1,\\n   \"778043562\": 1,\\n   \"816840923\": 1,\\n   \"778043563\": 1,\\n   \"816840924\": 1,\\n   \"778043564\": 1,\\n   \"816840925\": 1,\\n   \"778043565\": 1,\\n   \"816840926\": 1,\\n   \"778043566\": 1,\\n   \"816840927\": 1,\\n   \"778043567\": 1,\\n   \"816840928\": 1,\\n   \"778043568\": 1,\\n   \"816840929\": 1,\\n   \"778043569\": 1,\\n   \"816840930\": 1,\\n   \"778043570\": 1,\\n   \"816840931\": 1,\\n   \"778043571\": 1,\\n   \"816840932\": 1,\\n   \"778043572\": 1,\\n   \"816840933\": 1,\\n   \"778043573\": 1,\\n   \"816840934\": 1,\\n   \"778043574\": 1,\\n   \"816840935\": 1,\\n   \"778043575\": 1,\\n   \"816840936\": 1,\\n   \"778043576\": 1,\\n   \"816840937\": 1,\\n   \"778043577\": 1,\\n   \"816840938\": 1,\\n   \"778043578\": 1,\\n   \"816840939\": 1,\\n   \"778043579\": 1,\\n   \"816840940\": 1,\\n   \"778043580\": 1,\\n   \"816840941\": 1,\\n   \"778043581\": 1,\\n   \"816840942\": 1,\\n   \"778043582\": 1,\\n   \"816840943\": 1,\\n   \"778043583\": 1,\\n   \"816840944\": 1,\\n   \"778043584\": 1,\\n   \"816840945\": 1,\\n   \"778043585\": 1,\\n   \"816840946\": 1,\\n   \"778043586\": 1,\\n   \"816840947\": 1,\\n   \"778043587\": 1,\\n   \"816840948\": 1,\\n   \"778043588\": 1,\\n   \"816840949\": 1,\\n   \"778043589\": 1,\\n   \"816840950\": 1,\\n   \"778043590\": 1,\\n   \"816840951\": 1,\\n   \"778043591\": 1,\\n   \"816840952\": 1,\\n   \"778043592\": 1,\\n   \"816840953\": 1,\\n   \"778043593\": 1,\\n   \"816840954\": 1,\\n   \"778043594\": 1,\\n   \"816840955\": 1,\\n   \"778043595\": 1,\\n   \"816840956\": 1,\\n   \"778043596\": 1,\\n   \"816840957\": 1,\\n   \"778043597\": 1,\\n   \"816840958\": 1,\\n   \"778043598\": 1,\\n   \"816840959\": 1,\\n   \"778043599\": 1,\\n   \"816840960\": 1,\\n   \"778043600\": 1,\\n   \"816840961\": 1,\\n   \"778043601\": 1,\\n   \"816840962\": 1,\\n   \"778043602\": 1,\\n   \"816840963\": 1,\\n   \"778043603\": 1,\\n   \"816840964\": 1,\\n   \"778043604\": 1,\\n   \"816840965\": 1,\\n   \"778043605\": 1,\\n   \"816840966\": 1,\\n   \"778043606\": 1,\\n   \"816840967\": 1,\\n   \"778043607\": 1,\\n   \"816840968\": 1,\\n   \"778043608\": 1,\\n   \"816840969\": 1,\\n   \"778043609\": 1,\\n   \"816840970\": 1,\\n   \"778043610\": 1,\\n   \"816840971\": 1,\\n   \"778043611\": 1,\\n   \"816840972\": 1,\\n   \"741343335\": 1,\\n   \"741343334\": 1,\\n   \"741343333\": 1,\\n   \"741343332\": 1,\\n   \"741343331\": 1,\\n   \"741343330\": 1,\\n   \"741343329\": 1,\\n   \"741343328\": 1,\\n   \"741343277\": 1,\\n   \"741343276\": 1,\\n   \"741343275\": 1,\\n   \"741343274\": 1,\\n   \"741343273\": 1,\\n   \"741343272\": 1,\\n   \"741343271\": 1,\\n   \"741343270\": 1,\\n   \"741343269\": 1,\\n   \"741343268\": 1,\\n   \"741343267\": 1,\\n   \"741343266\": 1,\\n   \"741343265\": 1,\\n   \"741343264\": 1,\\n   \"741343263\": 1,\\n   \"741343262\": 1,\\n   \"741343261\": 1,\\n   \"741343260\": 1,\\n   \"741343259\": 1,\\n   \"741343258\": 1,\\n   \"741343257\": 1,\\n   \"741343256\": 1,\\n   \"741343255\": 1,\\n   \"741343254\": 1,\\n   \"741343241\": 1,\\n   \"741343240\": 1,\\n   \"741343239\": 1,\\n   \"741343238\": 1,\\n   \"741343237\": 1,\\n   \"741343236\": 1,\\n   \"741343235\": 1,\\n   \"741343234\": 1,\\n   \"741343233\": 1,\\n   \"741343232\": 1,\\n   \"741343242\": 1,\\n   \"741343243\": 1,\\n   \"741343244\": 1,\\n   \"741343245\": 1,\\n   \"741343246\": 1,\\n   \"741343247\": 1,\\n   \"741343248\": 1,\\n   \"741343249\": 1,\\n   \"741343250\": 1,\\n   \"741343251\": 1,\\n   \"741343252\": 1,\\n   \"741343253\": 1,\\n   \"741343278\": 1,\\n   \"741343279\": 1,\\n   \"741343280\": 1,\\n   \"741343281\": 1,\\n   \"741343282\": 1,\\n   \"741343283\": 1,\\n   \"741343284\": 1,\\n   \"741343285\": 1,\\n   \"741343286\": 1,\\n   \"741343287\": 1,\\n   \"741343288\": 1,\\n   \"741343289\": 1,\\n   \"741343290\": 1,\\n   \"741343291\": 1,\\n   \"741343292\": 1,\\n   \"741343293\": 1,\\n   \"741343294\": 1,\\n   \"741343295\": 1,\\n   \"741343296\": 1,\\n   \"741343297\": 1,\\n   \"741343298\": 1,\\n   \"741343299\": 1,\\n   \"741343300\": 1,\\n   \"741343301\": 1,\\n   \"741343302\": 1,\\n   \"741343303\": 1,\\n   \"741343304\": 1,\\n   \"741343305\": 1,\\n   \"741343306\": 1,\\n   \"741343307\": 1,\\n   \"741343308\": 1,\\n   \"741343309\": 1,\\n   \"741343310\": 1,\\n   \"741343311\": 1,\\n   \"741343312\": 1,\\n   \"741343313\": 1,\\n   \"741343314\": 1,\\n   \"741343315\": 1,\\n   \"741343316\": 1,\\n   \"741343317\": 1,\\n   \"741343318\": 1,\\n   \"741343319\": 1,\\n   \"741343320\": 1,\\n   \"741343321\": 1,\\n   \"741343322\": 1,\\n   \"741343323\": 1,\\n   \"741343324\": 1,\\n   \"741343325\": 1,\\n   \"741343326\": 1,\\n   \"741343327\": 1,\\n   \"807403552\": 1,\\n   \"809500795\": 1,\\n   \"807403551\": 1,\\n   \"809500794\": 1,\\n   \"807403550\": 1,\\n   \"809500793\": 1,\\n   \"807403549\": 1,\\n   \"809500792\": 1,\\n   \"807403548\": 1,\\n   \"809500791\": 1,\\n   \"807403547\": 1,\\n   \"809500790\": 1,\\n   \"807403546\": 1,\\n   \"809500789\": 1,\\n   \"807403545\": 1,\\n   \"809500788\": 1,\\n   \"807403544\": 1,\\n   \"809500787\": 1,\\n   \"807403543\": 1,\\n   \"809500786\": 1,\\n   \"807403542\": 1,\\n   \"809500785\": 1,\\n   \"807403541\": 1,\\n   \"809500784\": 1,\\n   \"807403540\": 1,\\n   \"809500783\": 1,\\n   \"807403539\": 1,\\n   \"809500782\": 1,\\n   \"807403538\": 1,\\n   \"809500781\": 1,\\n   \"807403537\": 1,\\n   \"809500780\": 1,\\n   \"807403536\": 1,\\n   \"809500779\": 1,\\n   \"807403535\": 1,\\n   \"809500778\": 1,\\n   \"807403534\": 1,\\n   \"809500777\": 1,\\n   \"807403533\": 1,\\n   \"809500776\": 1,\\n   \"807403532\": 1,\\n   \"809500775\": 1,\\n   \"807403531\": 1,\\n   \"809500774\": 1,\\n   \"807403520\": 1,\\n   \"809500763\": 1,\\n   \"807403521\": 1,\\n   \"809500764\": 1,\\n   \"807403522\": 1,\\n   \"809500765\": 1,\\n   \"807403523\": 1,\\n   \"809500766\": 1,\\n   \"807403524\": 1,\\n   \"809500767\": 1,\\n   \"807403525\": 1,\\n   \"809500768\": 1,\\n   \"807403526\": 1,\\n   \"809500769\": 1,\\n   \"807403527\": 1,\\n   \"809500770\": 1,\\n   \"807403528\": 1,\\n   \"809500771\": 1,\\n   \"807403529\": 1,\\n   \"809500772\": 1,\\n   \"807403530\": 1,\\n   \"809500773\": 1,\\n   \"807403553\": 1,\\n   \"809500796\": 1,\\n   \"807403554\": 1,\\n   \"809500797\": 1,\\n   \"807403555\": 1,\\n   \"809500798\": 1,\\n   \"807403556\": 1,\\n   \"809500799\": 1,\\n   \"807403557\": 1,\\n   \"809500800\": 1,\\n   \"807403558\": 1,\\n   \"809500801\": 1,\\n   \"807403559\": 1,\\n   \"809500802\": 1,\\n   \"807403560\": 1,\\n   \"809500803\": 1,\\n   \"807403561\": 1,\\n   \"809500804\": 1,\\n   \"807403562\": 1,\\n   \"809500805\": 1,\\n   \"807403563\": 1,\\n   \"809500806\": 1,\\n   \"807403564\": 1,\\n   \"809500807\": 1,\\n   \"807403565\": 1,\\n   \"809500808\": 1,\\n   \"807403566\": 1,\\n   \"809500809\": 1,\\n   \"807403567\": 1,\\n   \"809500810\": 1,\\n   \"807403568\": 1,\\n   \"809500811\": 1,\\n   \"807403569\": 1,\\n   \"809500812\": 1,\\n   \"807403570\": 1,\\n   \"809500813\": 1,\\n   \"807403571\": 1,\\n   \"809500814\": 1,\\n   \"807403572\": 1,\\n   \"809500815\": 1,\\n   \"807403573\": 1,\\n   \"809500816\": 1,\\n   \"807403574\": 1,\\n   \"809500817\": 1,\\n   \"807403575\": 1,\\n   \"809500818\": 1,\\n   \"807403576\": 1,\\n   \"809500819\": 1,\\n   \"807403577\": 1,\\n   \"809500820\": 1,\\n   \"807403578\": 1,\\n   \"809500821\": 1,\\n   \"807403579\": 1,\\n   \"809500822\": 1,\\n   \"807403580\": 1,\\n   \"809500823\": 1,\\n   \"807403581\": 1,\\n   \"809500824\": 1,\\n   \"807403582\": 1,\\n   \"809500825\": 1,\\n   \"871366656\": 1,\\n   \"807403583\": 1,\\n   \"809500826\": 1,\\n   \"871366657\": 1,\\n   \"807403584\": 1,\\n   \"809500827\": 1,\\n   \"871366658\": 1,\\n   \"807403585\": 1,\\n   \"809500828\": 1,\\n   \"871366659\": 1,\\n   \"807403586\": 1,\\n   \"809500829\": 1,\\n   \"871366660\": 1,\\n   \"807403587\": 1,\\n   \"809500830\": 1,\\n   \"871366661\": 1,\\n   \"807403588\": 1,\\n   \"809500831\": 1,\\n   \"871366662\": 1,\\n   \"807403589\": 1,\\n   \"809500832\": 1,\\n   \"871366663\": 1,\\n   \"807403590\": 1,\\n   \"809500833\": 1,\\n   \"871366664\": 1,\\n   \"807403591\": 1,\\n   \"809500834\": 1,\\n   \"871366665\": 1,\\n   \"807403592\": 1,\\n   \"809500835\": 1,\\n   \"871366666\": 1,\\n   \"807403593\": 1,\\n   \"809500836\": 1,\\n   \"871366667\": 1,\\n   \"807403594\": 1,\\n   \"809500837\": 1,\\n   \"871366668\": 1,\\n   \"807403595\": 1,\\n   \"809500838\": 1,\\n   \"871366669\": 1,\\n   \"807403596\": 1,\\n   \"809500839\": 1,\\n   \"871366670\": 1,\\n   \"807403597\": 1,\\n   \"809500840\": 1,\\n   \"871366671\": 1,\\n   \"807403598\": 1,\\n   \"809500841\": 1,\\n   \"871366672\": 1,\\n   \"807403599\": 1,\\n   \"809500842\": 1,\\n   \"871366673\": 1,\\n   \"807403600\": 1,\\n   \"809500843\": 1,\\n   \"871366674\": 1,\\n   \"807403601\": 1,\\n   \"809500844\": 1,\\n   \"871366675\": 1,\\n   \"807403602\": 1,\\n   \"809500845\": 1,\\n   \"871366676\": 1,\\n   \"807403603\": 1,\\n   \"809500846\": 1,\\n   \"871366677\": 1,\\n   \"807403604\": 1,\\n   \"809500847\": 1,\\n   \"871366678\": 1,\\n   \"807403605\": 1,\\n   \"809500848\": 1,\\n   \"871366679\": 1,\\n   \"807403606\": 1,\\n   \"809500849\": 1,\\n   \"871366680\": 1,\\n   \"807403607\": 1,\\n   \"809500850\": 1,\\n   \"871366681\": 1,\\n   \"807403608\": 1,\\n   \"809500851\": 1,\\n   \"871366682\": 1,\\n   \"807403609\": 1,\\n   \"809500852\": 1,\\n   \"871366683\": 1,\\n   \"807403610\": 1,\\n   \"809500853\": 1,\\n   \"871366684\": 1,\\n   \"807403611\": 1,\\n   \"809500854\": 1,\\n   \"871366685\": 1,\\n   \"807403612\": 1,\\n   \"809500855\": 1,\\n   \"871366686\": 1,\\n   \"807403613\": 1,\\n   \"809500856\": 1,\\n   \"871366687\": 1,\\n   \"807403614\": 1,\\n   \"809500857\": 1,\\n   \"871366688\": 1,\\n   \"807403615\": 1,\\n   \"809500858\": 1,\\n   \"871366689\": 1,\\n   \"807403616\": 1,\\n   \"809500859\": 1,\\n   \"871366690\": 1,\\n   \"807403617\": 1,\\n   \"809500860\": 1,\\n   \"871366691\": 1,\\n   \"807403618\": 1,\\n   \"809500861\": 1,\\n   \"871366692\": 1,\\n   \"807403619\": 1,\\n   \"809500862\": 1,\\n   \"871366693\": 1,\\n   \"807403620\": 1,\\n   \"809500863\": 1,\\n   \"871366694\": 1,\\n   \"807403621\": 1,\\n   \"809500864\": 1,\\n   \"871366695\": 1,\\n   \"807403622\": 1,\\n   \"800063761\": 1,\\n   \"722469039\": 1,\\n   \"809500865\": 1,\\n   \"871366696\": 1,\\n   \"807403623\": 1,\\n   \"800063762\": 1,\\n   \"722469040\": 1,\\n   \"809500866\": 1,\\n   \"871366697\": 1,\\n   \"807403624\": 1,\\n   \"800063763\": 1,\\n   \"722469041\": 1,\\n   \"809500867\": 1,\\n   \"871366698\": 1,\\n   \"807403625\": 1,\\n   \"800063764\": 1,\\n   \"722469042\": 1,\\n   \"809500868\": 1,\\n   \"871366699\": 1,\\n   \"807403626\": 1,\\n   \"800063765\": 1,\\n   \"722469043\": 1,\\n   \"809500869\": 1,\\n   \"871366700\": 1,\\n   \"807403627\": 1,\\n   \"800063766\": 1,\\n   \"722469044\": 1,\\n   \"809500870\": 1,\\n   \"871366701\": 1,\\n   \"807403628\": 1,\\n   \"800063767\": 1,\\n   \"722469045\": 1,\\n   \"809500871\": 1,\\n   \"871366702\": 1,\\n   \"807403629\": 1,\\n   \"800063768\": 1,\\n   \"722469046\": 1,\\n   \"809500872\": 1,\\n   \"871366703\": 1,\\n   \"807403630\": 1,\\n   \"800063769\": 1,\\n   \"722469047\": 1,\\n   \"809500873\": 1,\\n   \"871366704\": 1,\\n   \"807403631\": 1,\\n   \"800063770\": 1,\\n   \"722469048\": 1,\\n   \"809500874\": 1,\\n   \"871366705\": 1,\\n   \"807403632\": 1,\\n   \"800063771\": 1,\\n   \"722469049\": 1,\\n   \"809500875\": 1,\\n   \"871366706\": 1,\\n   \"807403633\": 1,\\n   \"800063772\": 1,\\n   \"722469050\": 1,\\n   \"809500876\": 1,\\n   \"871366707\": 1,\\n   \"807403634\": 1,\\n   \"722469051\": 1,\\n   \"809500877\": 1,\\n   \"871366708\": 1,\\n   \"807403635\": 1,\\n   \"722469052\": 1,\\n   \"809500878\": 1,\\n   \"871366709\": 1,\\n   \"807403636\": 1,\\n   \"722469053\": 1,\\n   \"809500879\": 1,\\n   \"871366710\": 1,\\n   \"807403637\": 1,\\n   \"722469054\": 1,\\n   \"809500880\": 1,\\n   \"871366711\": 1,\\n   \"807403638\": 1,\\n   \"722469055\": 1,\\n   \"809500881\": 1,\\n   \"871366712\": 1,\\n   \"807403639\": 1,\\n   \"722469056\": 1,\\n   \"809500882\": 1,\\n   \"871366713\": 1,\\n   \"807403640\": 1,\\n   \"722469057\": 1,\\n   \"809500883\": 1,\\n   \"871366714\": 1,\\n   \"807403641\": 1,\\n   \"722469058\": 1,\\n   \"809500884\": 1,\\n   \"871366715\": 1,\\n   \"807403642\": 1,\\n   \"722469059\": 1,\\n   \"809500885\": 1,\\n   \"871366716\": 1,\\n   \"807403643\": 1,\\n   \"722469060\": 1,\\n   \"809500886\": 1,\\n   \"871366717\": 1,\\n   \"807403644\": 1,\\n   \"722469061\": 1,\\n   \"809500887\": 1,\\n   \"871366718\": 1,\\n   \"807403645\": 1,\\n   \"722469062\": 1,\\n   \"809500888\": 1,\\n   \"871366719\": 1,\\n   \"807403646\": 1,\\n   \"722469063\": 1,\\n   \"809500889\": 1,\\n   \"871366720\": 1,\\n   \"807403647\": 1,\\n   \"722469064\": 1,\\n   \"809500890\": 1,\\n   \"871366721\": 1,\\n   \"807403648\": 1,\\n   \"722469065\": 1,\\n   \"809500891\": 1,\\n   \"871366722\": 1,\\n   \"807403649\": 1,\\n   \"722469066\": 1,\\n   \"809500892\": 1,\\n   \"871366723\": 1,\\n   \"807403650\": 1,\\n   \"722469067\": 1,\\n   \"809500893\": 1,\\n   \"871366724\": 1,\\n   \"807403651\": 1,\\n   \"722469068\": 1,\\n   \"809500894\": 1,\\n   \"871366725\": 1,\\n   \"741343336\": 1,\\n   \"807403652\": 1,\\n   \"722469069\": 1,\\n   \"809500895\": 1,\\n   \"871366726\": 1,\\n   \"741343337\": 1,\\n   \"807403653\": 1,\\n   \"722469070\": 1,\\n   \"809500896\": 1,\\n   \"871366727\": 1,\\n   \"741343338\": 1,\\n   \"807403654\": 1,\\n   \"722469071\": 1,\\n   \"809500897\": 1,\\n   \"871366728\": 1,\\n   \"741343339\": 1,\\n   \"807403655\": 1,\\n   \"722469072\": 1,\\n   \"809500898\": 1,\\n   \"871366729\": 1,\\n   \"741343340\": 1,\\n   \"807403656\": 1,\\n   \"722469073\": 1,\\n   \"809500899\": 1,\\n   \"871366730\": 1,\\n   \"741343341\": 1,\\n   \"807403657\": 1,\\n   \"722469074\": 1,\\n   \"809500900\": 1,\\n   \"871366731\": 1,\\n   \"741343342\": 1,\\n   \"807403658\": 1,\\n   \"722469075\": 1,\\n   \"809500901\": 1,\\n   \"871366732\": 1,\\n   \"741343343\": 1,\\n   \"807403659\": 1,\\n   \"722469076\": 1,\\n   \"809500902\": 1,\\n   \"871366733\": 1,\\n   \"741343344\": 1,\\n   \"807403660\": 1,\\n   \"722469077\": 1,\\n   \"809500903\": 1,\\n   \"871366734\": 1,\\n   \"741343345\": 1,\\n   \"807403661\": 1,\\n   \"722469078\": 1,\\n   \"809500904\": 1,\\n   \"871366735\": 1,\\n   \"741343346\": 1,\\n   \"807403662\": 1,\\n   \"722469079\": 1,\\n   \"809500905\": 1,\\n   \"871366736\": 1,\\n   \"741343347\": 1,\\n   \"807403663\": 1,\\n   \"722469080\": 1,\\n   \"809500906\": 1,\\n   \"871366737\": 1,\\n   \"741343348\": 1,\\n   \"807403664\": 1,\\n   \"722469081\": 1,\\n   \"809500907\": 1,\\n   \"871366738\": 1,\\n   \"741343349\": 1,\\n   \"807403665\": 1,\\n   \"722469082\": 1,\\n   \"809500908\": 1,\\n   \"871366739\": 1,\\n   \"741343350\": 1,\\n   \"807403666\": 1,\\n   \"722469083\": 1,\\n   \"809500909\": 1,\\n   \"871366740\": 1,\\n   \"741343351\": 1,\\n   \"807403667\": 1,\\n   \"722469084\": 1,\\n   \"809500910\": 1,\\n   \"871366741\": 1,\\n   \"741343352\": 1,\\n   \"807403668\": 1,\\n   \"722469085\": 1,\\n   \"809500911\": 1,\\n   \"871366742\": 1,\\n   \"741343353\": 1,\\n   \"807403669\": 1,\\n   \"722469086\": 1,\\n   \"809500912\": 1,\\n   \"871366743\": 1,\\n   \"741343354\": 1,\\n   \"807403670\": 1,\\n   \"722469087\": 1,\\n   \"809500913\": 1,\\n   \"871366744\": 1,\\n   \"741343355\": 1,\\n   \"807403671\": 1,\\n   \"722469088\": 1,\\n   \"809500914\": 1,\\n   \"871366745\": 1,\\n   \"741343356\": 1,\\n   \"807403672\": 1,\\n   \"722469089\": 1,\\n   \"809500915\": 1,\\n   \"871366746\": 1,\\n   \"741343357\": 1,\\n   \"807403673\": 1,\\n   \"722469090\": 1,\\n   \"809500916\": 1,\\n   \"871366747\": 1,\\n   \"741343358\": 1,\\n   \"807403674\": 1,\\n   \"722469091\": 1,\\n   \"809500917\": 1,\\n   \"871366748\": 1,\\n   \"741343359\": 1,\\n   \"807403675\": 1,\\n   \"722469092\": 1,\\n   \"809500918\": 1,\\n   \"871366749\": 1,\\n   \"741343360\": 1,\\n   \"807403676\": 1,\\n   \"722469093\": 1,\\n   \"809500919\": 1,\\n   \"871366750\": 1,\\n   \"741343361\": 1,\\n   \"807403677\": 1,\\n   \"722469094\": 1,\\n   \"809500920\": 1,\\n   \"871366751\": 1,\\n   \"741343362\": 1,\\n   \"807403678\": 1,\\n   \"722469095\": 1,\\n   \"809500921\": 1,\\n   \"871366752\": 1,\\n   \"741343363\": 1,\\n   \"807403679\": 1,\\n   \"722469096\": 1,\\n   \"809500922\": 1,\\n   \"871366753\": 1,\\n   \"741343364\": 1,\\n   \"807403680\": 1,\\n   \"722469097\": 1,\\n   \"809500923\": 1,\\n   \"793772032\": 1,\\n   \"871366754\": 1,\\n   \"741343365\": 1,\\n   \"807403681\": 1,\\n   \"722469098\": 1,\\n   \"809500924\": 1,\\n   \"793772033\": 1,\\n   \"871366755\": 1,\\n   \"741343366\": 1,\\n   \"807403682\": 1,\\n   \"722469099\": 1,\\n   \"809500925\": 1,\\n   \"793772034\": 1,\\n   \"871366756\": 1,\\n   \"741343367\": 1,\\n   \"807403683\": 1,\\n   \"722469100\": 1,\\n   \"809500926\": 1,\\n   \"793772035\": 1,\\n   \"871366757\": 1,\\n   \"741343368\": 1,\\n   \"807403684\": 1,\\n   \"722469101\": 1,\\n   \"809500927\": 1,\\n   \"793772036\": 1,\\n   \"871366758\": 1,\\n   \"741343369\": 1,\\n   \"807403685\": 1,\\n   \"722469102\": 1,\\n   \"809500928\": 1,\\n   \"793772037\": 1,\\n   \"871366759\": 1,\\n   \"741343370\": 1,\\n   \"807403686\": 1,\\n   \"722469103\": 1,\\n   \"809500929\": 1,\\n   \"793772038\": 1,\\n   \"871366760\": 1,\\n   \"741343371\": 1,\\n   \"807403687\": 1,\\n   \"722469104\": 1,\\n   \"809500930\": 1,\\n   \"793772039\": 1,\\n   \"871366761\": 1,\\n   \"741343372\": 1,\\n   \"807403688\": 1,\\n   \"722469105\": 1,\\n   \"809500931\": 1,\\n   \"793772040\": 1,\\n   \"871366762\": 1,\\n   \"741343373\": 1,\\n   \"807403689\": 1,\\n   \"722469106\": 1,\\n   \"809500932\": 1,\\n   \"793772041\": 1,\\n   \"871366763\": 1,\\n   \"741343374\": 1,\\n   \"807403690\": 1,\\n   \"722469107\": 1,\\n   \"809500933\": 1,\\n   \"793772042\": 1,\\n   \"871366764\": 1,\\n   \"741343375\": 1,\\n   \"807403691\": 1,\\n   \"722469108\": 1,\\n   \"809500934\": 1,\\n   \"793772043\": 1,\\n   \"871366765\": 1,\\n   \"782237696\": 1,\\n   \"741343376\": 1,\\n   \"807403692\": 1,\\n   \"722469109\": 1,\\n   \"809500935\": 1,\\n   \"793772044\": 1,\\n   \"871366766\": 1,\\n   \"782237697\": 1,\\n   \"741343377\": 1,\\n   \"807403693\": 1,\\n   \"722469110\": 1,\\n   \"809500936\": 1,\\n   \"793772045\": 1,\\n   \"871366767\": 1,\\n   \"782237698\": 1,\\n   \"741343378\": 1,\\n   \"807403694\": 1,\\n   \"722469111\": 1,\\n   \"809500937\": 1,\\n   \"793772046\": 1,\\n   \"871366768\": 1,\\n   \"782237699\": 1,\\n   \"743440622\": 1,\\n   \"741343379\": 1,\\n   \"807403695\": 1,\\n   \"722469112\": 1,\\n   \"809500938\": 1,\\n   \"793772047\": 1,\\n   \"871366769\": 1,\\n   \"782237700\": 1,\\n   \"743440623\": 1,\\n   \"741343380\": 1,\\n   \"807403696\": 1,\\n   \"722469113\": 1,\\n   \"809500939\": 1,\\n   \"793772048\": 1,\\n   \"871366770\": 1,\\n   \"782237701\": 1,\\n   \"743440624\": 1,\\n   \"741343381\": 1,\\n   \"807403697\": 1,\\n   \"722469114\": 1,\\n   \"809500940\": 1,\\n   \"793772049\": 1,\\n   \"871366771\": 1,\\n   \"782237702\": 1,\\n   \"743440625\": 1,\\n   \"741343382\": 1,\\n   \"807403698\": 1,\\n   \"722469115\": 1,\\n   \"809500941\": 1,\\n   \"793772050\": 1,\\n   \"871366772\": 1,\\n   \"782237703\": 1,\\n   \"743440626\": 1,\\n   \"741343383\": 1,\\n   \"807403699\": 1,\\n   \"722469116\": 1,\\n   \"809500942\": 1,\\n   \"793772051\": 1,\\n   \"871366773\": 1,\\n   \"782237704\": 1,\\n   \"743440627\": 1,\\n   \"741343384\": 1,\\n   \"807403700\": 1,\\n   \"722469117\": 1,\\n   \"809500943\": 1,\\n   \"793772052\": 1,\\n   \"871366774\": 1,\\n   \"782237705\": 1,\\n   \"743440628\": 1,\\n   \"741343385\": 1,\\n   \"807403701\": 1,\\n   \"722469118\": 1,\\n   \"809500944\": 1,\\n   \"793772053\": 1,\\n   \"871366775\": 1,\\n   \"782237706\": 1,\\n   \"743440629\": 1,\\n   \"741343386\": 1,\\n   \"807403702\": 1,\\n   \"722469119\": 1,\\n   \"809500945\": 1,\\n   \"793772054\": 1,\\n   \"871366776\": 1,\\n   \"782237707\": 1,\\n   \"743440630\": 1,\\n   \"741343387\": 1,\\n   \"807403703\": 1,\\n   \"722469120\": 1,\\n   \"809500946\": 1,\\n   \"793772055\": 1,\\n   \"871366777\": 1,\\n   \"782237708\": 1,\\n   \"743440631\": 1,\\n   \"741343388\": 1,\\n   \"807403704\": 1,\\n   \"722469121\": 1,\\n   \"809500947\": 1,\\n   \"793772056\": 1,\\n   \"871366778\": 1,\\n   \"782237709\": 1,\\n   \"743440632\": 1,\\n   \"741343389\": 1,\\n   \"807403705\": 1,\\n   \"722469122\": 1,\\n   \"809500948\": 1,\\n   \"793772057\": 1,\\n   \"871366779\": 1,\\n   \"782237710\": 1,\\n   \"743440633\": 1,\\n   \"741343390\": 1,\\n   \"807403706\": 1,\\n   \"722469123\": 1,\\n   \"809500949\": 1,\\n   \"793772058\": 1,\\n   \"871366780\": 1,\\n   \"782237711\": 1,\\n   \"743440634\": 1,\\n   \"741343391\": 1,\\n   \"807403707\": 1,\\n   \"722469124\": 1,\\n   \"809500950\": 1,\\n   \"793772059\": 1,\\n   \"871366781\": 1,\\n   \"782237712\": 1,\\n   \"743440635\": 1,\\n   \"741343392\": 1,\\n   \"807403708\": 1,\\n   \"722469125\": 1,\\n   \"809500951\": 1,\\n   \"793772060\": 1,\\n   \"871366782\": 1,\\n   \"782237713\": 1,\\n   \"743440636\": 1,\\n   \"741343393\": 1,\\n   \"807403709\": 1,\\n   \"722469126\": 1,\\n   \"809500952\": 1,\\n   \"793772061\": 1,\\n   \"871366783\": 1,\\n   \"782237714\": 1,\\n   \"743440637\": 1,\\n   \"741343394\": 1,\\n   \"807403710\": 1,\\n   \"722469127\": 1,\\n   \"809500953\": 1,\\n   \"793772062\": 1,\\n   \"871366784\": 1,\\n   \"782237715\": 1,\\n   \"743440638\": 1,\\n   \"741343395\": 1,\\n   \"807403711\": 1,\\n   \"722469128\": 1,\\n   \"809500954\": 1,\\n   \"793772063\": 1,\\n   \"871366785\": 1,\\n   \"782237716\": 1,\\n   \"743440639\": 1,\\n   \"741343396\": 1,\\n   \"807403712\": 1,\\n   \"722469129\": 1,\\n   \"809500955\": 1,\\n   \"793772064\": 1,\\n   \"871366786\": 1,\\n   \"782237717\": 1,\\n   \"743440640\": 1,\\n   \"741343397\": 1,\\n   \"807403713\": 1,\\n   \"722469130\": 1,\\n   \"809500956\": 1,\\n   \"793772065\": 1,\\n   \"871366787\": 1,\\n   \"782237718\": 1,\\n   \"743440641\": 1,\\n   \"741343398\": 1,\\n   \"807403714\": 1,\\n   \"722469131\": 1,\\n   \"809500957\": 1,\\n   \"793772066\": 1,\\n   \"871366788\": 1,\\n   \"782237719\": 1,\\n   \"743440642\": 1,\\n   \"741343399\": 1,\\n   \"807403715\": 1,\\n   \"722469132\": 1,\\n   \"809500958\": 1,\\n   \"793772067\": 1,\\n   \"871366789\": 1,\\n   \"782237720\": 1,\\n   \"743440643\": 1,\\n   \"741343400\": 1,\\n   \"807403716\": 1,\\n   \"722469133\": 1,\\n   \"809500959\": 1,\\n   \"793772068\": 1,\\n   \"871366790\": 1,\\n   \"782237721\": 1,\\n   \"743440644\": 1,\\n   \"741343401\": 1,\\n   \"807403717\": 1,\\n   \"722469134\": 1,\\n   \"809500960\": 1,\\n   \"793772069\": 1,\\n   \"871366791\": 1,\\n   \"782237722\": 1,\\n   \"743440645\": 1,\\n   \"741343402\": 1,\\n   \"807403718\": 1,\\n   \"722469135\": 1,\\n   \"809500961\": 1,\\n   \"793772070\": 1,\\n   \"871366792\": 1,\\n   \"782237723\": 1,\\n   \"743440646\": 1,\\n   \"741343403\": 1,\\n   \"807403719\": 1,\\n   \"722469136\": 1,\\n   \"809500962\": 1,\\n   \"793772071\": 1,\\n   \"871366793\": 1,\\n   \"782237724\": 1,\\n   \"743440647\": 1,\\n   \"741343404\": 1,\\n   \"807403720\": 1,\\n   \"722469137\": 1,\\n   \"809500963\": 1,\\n   \"793772072\": 1,\\n   \"871366794\": 1,\\n   \"782237725\": 1,\\n   \"743440648\": 1,\\n   \"741343405\": 1,\\n   \"807403721\": 1,\\n   \"722469138\": 1,\\n   \"809500964\": 1,\\n   \"793772073\": 1,\\n   \"871366795\": 1,\\n   \"782237726\": 1,\\n   \"743440649\": 1,\\n   \"741343406\": 1,\\n   \"807403722\": 1,\\n   \"722469139\": 1,\\n   \"809500965\": 1,\\n   \"793772074\": 1,\\n   \"871366796\": 1,\\n   \"782237727\": 1,\\n   \"743440650\": 1,\\n   \"741343407\": 1,\\n   \"807403723\": 1,\\n   \"722469140\": 1,\\n   \"809500966\": 1,\\n   \"793772075\": 1,\\n   \"871366797\": 1,\\n   \"782237728\": 1,\\n   \"743440651\": 1,\\n   \"741343408\": 1,\\n   \"807403724\": 1,\\n   \"722469141\": 1,\\n   \"809500967\": 1,\\n   \"793772076\": 1,\\n   \"871366798\": 1,\\n   \"782237729\": 1,\\n   \"743440652\": 1,\\n   \"741343409\": 1,\\n   \"807403725\": 1,\\n   \"722469142\": 1,\\n   \"809500968\": 1,\\n   \"793772077\": 1,\\n   \"871366799\": 1,\\n   \"782237730\": 1,\\n   \"743440653\": 1,\\n   \"741343410\": 1,\\n   \"807403726\": 1,\\n   \"722469143\": 1,\\n   \"809500969\": 1,\\n   \"793772078\": 1,\\n   \"871366800\": 1,\\n   \"782237731\": 1,\\n   \"743440654\": 1,\\n   \"741343411\": 1,\\n   \"807403727\": 1,\\n   \"722469144\": 1,\\n   \"809500970\": 1,\\n   \"793772079\": 1,\\n   \"871366801\": 1,\\n   \"782237732\": 1,\\n   \"743440655\": 1,\\n   \"741343412\": 1,\\n   \"807403728\": 1,\\n   \"722469145\": 1,\\n   \"809500971\": 1,\\n   \"793772080\": 1,\\n   \"871366802\": 1,\\n   \"782237733\": 1,\\n   \"743440656\": 1,\\n   \"741343413\": 1,\\n   \"807403729\": 1,\\n   \"722469146\": 1,\\n   \"809500972\": 1,\\n   \"782237734\": 1,\\n   \"743440657\": 1,\\n   \"741343414\": 1,\\n   \"807403730\": 1,\\n   \"722469147\": 1,\\n   \"809500973\": 1,\\n   \"782237735\": 1,\\n   \"743440658\": 1,\\n   \"741343415\": 1,\\n   \"807403731\": 1,\\n   \"722469148\": 1,\\n   \"809500974\": 1,\\n   \"782237736\": 1,\\n   \"743440659\": 1,\\n   \"741343416\": 1,\\n   \"807403732\": 1,\\n   \"722469149\": 1,\\n   \"809500975\": 1,\\n   \"782237737\": 1,\\n   \"743440660\": 1,\\n   \"741343417\": 1,\\n   \"807403733\": 1,\\n   \"722469150\": 1,\\n   \"809500976\": 1,\\n   \"782237738\": 1,\\n   \"743440661\": 1,\\n   \"741343418\": 1,\\n   \"807403734\": 1,\\n   \"722469151\": 1,\\n   \"809500977\": 1,\\n   \"782237739\": 1,\\n   \"743440662\": 1,\\n   \"741343419\": 1,\\n   \"807403735\": 1,\\n   \"722469152\": 1,\\n   \"809500978\": 1,\\n   \"782237740\": 1,\\n   \"743440663\": 1,\\n   \"741343420\": 1,\\n   \"807403736\": 1,\\n   \"722469153\": 1,\\n   \"809500979\": 1,\\n   \"782237741\": 1,\\n   \"743440664\": 1,\\n   \"741343421\": 1,\\n   \"807403737\": 1,\\n   \"722469154\": 1,\\n   \"809500980\": 1,\\n   \"782237742\": 1,\\n   \"743440665\": 1,\\n   \"741343422\": 1,\\n   \"807403738\": 1,\\n   \"722469155\": 1,\\n   \"809500981\": 1,\\n   \"782237743\": 1,\\n   \"743440666\": 1,\\n   \"741343423\": 1,\\n   \"807403739\": 1,\\n   \"722469156\": 1,\\n   \"809500982\": 1,\\n   \"782237744\": 1,\\n   \"743440667\": 1,\\n   \"741343424\": 1,\\n   \"807403740\": 1,\\n   \"722469157\": 1,\\n   \"809500983\": 1,\\n   \"743440668\": 1,\\n   \"741343425\": 1,\\n   \"807403741\": 1,\\n   \"722469158\": 1,\\n   \"809500984\": 1,\\n   \"743440669\": 1,\\n   \"741343426\": 1,\\n   \"807403742\": 1,\\n   \"722469159\": 1,\\n   \"809500985\": 1,\\n   \"743440670\": 1,\\n   \"741343427\": 1,\\n   \"807403743\": 1,\\n   \"722469160\": 1,\\n   \"809500986\": 1,\\n   \"743440671\": 1,\\n   \"741343428\": 1,\\n   \"807403744\": 1,\\n   \"722469161\": 1,\\n   \"809500987\": 1,\\n   \"743440672\": 1,\\n   \"741343429\": 1,\\n   \"807403745\": 1,\\n   \"722469162\": 1,\\n   \"809500988\": 1,\\n   \"743440673\": 1,\\n   \"741343430\": 1,\\n   \"807403746\": 1,\\n   \"722469163\": 1,\\n   \"809500989\": 1,\\n   \"743440674\": 1,\\n   \"741343431\": 1,\\n   \"807403747\": 1,\\n   \"722469164\": 1,\\n   \"809500990\": 1,\\n   \"743440675\": 1,\\n   \"741343432\": 1,\\n   \"807403748\": 1,\\n   \"722469165\": 1,\\n   \"809500991\": 1,\\n   \"743440676\": 1,\\n   \"741343433\": 1,\\n   \"807403749\": 1,\\n   \"722469166\": 1,\\n   \"809500992\": 1,\\n   \"743440677\": 1,\\n   \"741343434\": 1,\\n   \"807403750\": 1,\\n   \"722469167\": 1,\\n   \"809500993\": 1,\\n   \"743440678\": 1,\\n   \"741343435\": 1,\\n   \"807403751\": 1,\\n   \"722469168\": 1,\\n   \"809500994\": 1,\\n   \"743440679\": 1,\\n   \"741343436\": 1,\\n   \"807403752\": 1,\\n   \"722469169\": 1,\\n   \"809500995\": 1,\\n   \"743440680\": 1,\\n   \"741343437\": 1,\\n   \"807403753\": 1,\\n   \"722469170\": 1,\\n   \"809500996\": 1,\\n   \"743440681\": 1,\\n   \"741343438\": 1,\\n   \"807403754\": 1,\\n   \"722469171\": 1,\\n   \"809500997\": 1,\\n   \"743440682\": 1,\\n   \"741343439\": 1,\\n   \"807403755\": 1,\\n   \"722469172\": 1,\\n   \"809500998\": 1,\\n   \"743440683\": 1,\\n   \"741343440\": 1,\\n   \"807403756\": 1,\\n   \"722469173\": 1,\\n   \"809500999\": 1,\\n   \"743440684\": 1,\\n   \"741343441\": 1,\\n   \"807403757\": 1,\\n   \"722469174\": 1,\\n   \"809501000\": 1,\\n   \"743440685\": 1,\\n   \"741343442\": 1,\\n   \"807403758\": 1,\\n   \"722469175\": 1,\\n   \"809501001\": 1,\\n   \"743440686\": 1,\\n   \"741343443\": 1,\\n   \"807403759\": 1,\\n   \"722469176\": 1,\\n   \"743440687\": 1,\\n   \"741343444\": 1,\\n   \"807403760\": 1,\\n   \"722469177\": 1,\\n   \"743440688\": 1,\\n   \"741343445\": 1,\\n   \"807403761\": 1,\\n   \"743440689\": 1,\\n   \"741343446\": 1,\\n   \"807403762\": 1,\\n   \"743440690\": 1,\\n   \"741343447\": 1,\\n   \"807403763\": 1,\\n   \"743440691\": 1,\\n   \"741343448\": 1,\\n   \"807403764\": 1,\\n   \"743440692\": 1,\\n   \"741343449\": 1,\\n   \"807403765\": 1,\\n   \"743440693\": 1,\\n   \"741343450\": 1,\\n   \"807403766\": 1,\\n   \"743440694\": 1,\\n   \"741343451\": 1,\\n   \"807403767\": 1,\\n   \"743440695\": 1,\\n   \"741343452\": 1,\\n   \"807403768\": 1,\\n   \"743440696\": 1,\\n   \"741343453\": 1,\\n   \"807403769\": 1,\\n   \"743440697\": 1,\\n   \"741343454\": 1,\\n   \"807403770\": 1,\\n   \"743440698\": 1,\\n   \"741343455\": 1,\\n   \"807403771\": 1,\\n   \"743440699\": 1,\\n   \"741343456\": 1,\\n   \"807403772\": 1,\\n   \"743440700\": 1,\\n   \"741343457\": 1,\\n   \"807403773\": 1,\\n   \"743440701\": 1,\\n   \"741343458\": 1,\\n   \"807403774\": 1,\\n   \"743440702\": 1,\\n   \"741343459\": 1,\\n   \"807403775\": 1,\\n   \"743440703\": 1,\\n   \"741343460\": 1,\\n   \"807403776\": 1,\\n   \"743440704\": 1,\\n   \"741343461\": 1,\\n   \"807403777\": 1,\\n   \"743440705\": 1,\\n   \"741343462\": 1,\\n   \"807403778\": 1,\\n   \"743440706\": 1,\\n   \"741343463\": 1,\\n   \"807403779\": 1,\\n   \"743440707\": 1,\\n   \"741343464\": 1,\\n   \"807403780\": 1,\\n   \"743440708\": 1,\\n   \"741343465\": 1,\\n   \"807403781\": 1,\\n   \"743440709\": 1,\\n   \"741343466\": 1,\\n   \"807403782\": 1,\\n   \"743440710\": 1,\\n   \"741343467\": 1,\\n   \"807403783\": 1,\\n   \"743440711\": 1,\\n   \"741343468\": 1,\\n   \"807403784\": 1,\\n   \"743440712\": 1,\\n   \"741343469\": 1,\\n   \"807403785\": 1,\\n   \"743440713\": 1,\\n   \"741343470\": 1,\\n   \"807403786\": 1,\\n   \"743440714\": 1,\\n   \"741343471\": 1,\\n   \"807403787\": 1,\\n   \"743440715\": 1,\\n   \"741343472\": 1,\\n   \"807403788\": 1,\\n   \"743440716\": 1,\\n   \"741343473\": 1,\\n   \"807403789\": 1,\\n   \"743440717\": 1,\\n   \"741343474\": 1,\\n   \"807403790\": 1,\\n   \"743440718\": 1,\\n   \"741343475\": 1,\\n   \"807403791\": 1,\\n   \"743440719\": 1,\\n   \"741343476\": 1,\\n   \"807403792\": 1,\\n   \"807403793\": 1,\\n   \"807403794\": 1,\\n   \"807403795\": 1,\\n   \"807403796\": 1,\\n   \"807403797\": 1,\\n   \"807403798\": 1,\\n   \"807403799\": 1,\\n   \"807403800\": 1,\\n   \"807403801\": 1,\\n   \"730857567\": 1,\\n   \"735052053\": 1,\\n   \"794820640\": 1,\\n   \"730857566\": 1,\\n   \"735052052\": 1,\\n   \"794820639\": 1,\\n   \"730857565\": 1,\\n   \"735052051\": 1,\\n   \"794820638\": 1,\\n   \"730857564\": 1,\\n   \"735052050\": 1,\\n   \"794820637\": 1,\\n   \"730857563\": 1,\\n   \"735052049\": 1,\\n   \"794820636\": 1,\\n   \"730857562\": 1,\\n   \"735052048\": 1,\\n   \"794820635\": 1,\\n   \"730857534\": 1,\\n   \"735052020\": 1,\\n   \"730857561\": 1,\\n   \"735052047\": 1,\\n   \"794820634\": 1,\\n   \"730857533\": 1,\\n   \"735052019\": 1,\\n   \"730857560\": 1,\\n   \"735052046\": 1,\\n   \"794820633\": 1,\\n   \"730857532\": 1,\\n   \"735052018\": 1,\\n   \"730857559\": 1,\\n   \"735052045\": 1,\\n   \"794820632\": 1,\\n   \"730857531\": 1,\\n   \"735052017\": 1,\\n   \"730857558\": 1,\\n   \"735052044\": 1,\\n   \"794820631\": 1,\\n   \"730857530\": 1,\\n   \"735052016\": 1,\\n   \"730857557\": 1,\\n   \"735052043\": 1,\\n   \"794820630\": 1,\\n   \"730857529\": 1,\\n   \"735052015\": 1,\\n   \"730857556\": 1,\\n   \"735052042\": 1,\\n   \"794820629\": 1,\\n   \"730857528\": 1,\\n   \"735052014\": 1,\\n   \"730857555\": 1,\\n   \"735052041\": 1,\\n   \"794820628\": 1,\\n   \"730857527\": 1,\\n   \"735052013\": 1,\\n   \"730857554\": 1,\\n   \"735052040\": 1,\\n   \"794820627\": 1,\\n   \"730857526\": 1,\\n   \"735052012\": 1,\\n   \"730857553\": 1,\\n   \"735052039\": 1,\\n   \"794820626\": 1,\\n   \"730857525\": 1,\\n   \"735052011\": 1,\\n   \"730857552\": 1,\\n   \"735052038\": 1,\\n   \"794820625\": 1,\\n   \"730857524\": 1,\\n   \"735052010\": 1,\\n   \"730857551\": 1,\\n   \"735052037\": 1,\\n   \"794820624\": 1,\\n   \"730857523\": 1,\\n   \"735052009\": 1,\\n   \"730857550\": 1,\\n   \"735052036\": 1,\\n   \"794820623\": 1,\\n   \"730857522\": 1,\\n   \"735052008\": 1,\\n   \"730857549\": 1,\\n   \"735052035\": 1,\\n   \"794820622\": 1,\\n   \"730857521\": 1,\\n   \"735052007\": 1,\\n   \"730857548\": 1,\\n   \"735052034\": 1,\\n   \"794820621\": 1,\\n   \"730857520\": 1,\\n   \"735052006\": 1,\\n   \"730857547\": 1,\\n   \"735052033\": 1,\\n   \"794820620\": 1,\\n   \"730857519\": 1,\\n   \"735052005\": 1,\\n   \"730857546\": 1,\\n   \"735052032\": 1,\\n   \"794820619\": 1,\\n   \"730857518\": 1,\\n   \"735052004\": 1,\\n   \"730857493\": 1,\\n   \"735051979\": 1,\\n   \"730857492\": 1,\\n   \"735051978\": 1,\\n   \"730857491\": 1,\\n   \"735051977\": 1,\\n   \"730857490\": 1,\\n   \"735051976\": 1,\\n   \"730857489\": 1,\\n   \"735051975\": 1,\\n   \"730857488\": 1,\\n   \"735051974\": 1,\\n   \"730857487\": 1,\\n   \"735051973\": 1,\\n   \"730857486\": 1,\\n   \"735051972\": 1,\\n   \"730857485\": 1,\\n   \"735051971\": 1,\\n   \"730857484\": 1,\\n   \"735051970\": 1,\\n   \"730857483\": 1,\\n   \"735051969\": 1,\\n   \"730857482\": 1,\\n   \"735051968\": 1,\\n   \"730857472\": 1,\\n   \"735051958\": 1,\\n   \"730857473\": 1,\\n   \"735051959\": 1,\\n   \"730857474\": 1,\\n   \"735051960\": 1,\\n   \"730857475\": 1,\\n   \"735051961\": 1,\\n   \"730857476\": 1,\\n   \"735051962\": 1,\\n   \"730857477\": 1,\\n   \"735051963\": 1,\\n   \"730857478\": 1,\\n   \"735051964\": 1,\\n   \"730857479\": 1,\\n   \"735051965\": 1,\\n   \"730857480\": 1,\\n   \"735051966\": 1,\\n   \"730857481\": 1,\\n   \"735051967\": 1,\\n   \"730857494\": 1,\\n   \"735051980\": 1,\\n   \"730857495\": 1,\\n   \"735051981\": 1,\\n   \"730857496\": 1,\\n   \"735051982\": 1,\\n   \"730857497\": 1,\\n   \"735051983\": 1,\\n   \"730857498\": 1,\\n   \"735051984\": 1,\\n   \"730857499\": 1,\\n   \"735051985\": 1,\\n   \"730857500\": 1,\\n   \"735051986\": 1,\\n   \"730857501\": 1,\\n   \"735051987\": 1,\\n   \"730857502\": 1,\\n   \"735051988\": 1,\\n   \"730857503\": 1,\\n   \"735051989\": 1,\\n   \"730857504\": 1,\\n   \"735051990\": 1,\\n   \"730857505\": 1,\\n   \"735051991\": 1,\\n   \"730857506\": 1,\\n   \"735051992\": 1,\\n   \"730857535\": 1,\\n   \"735052021\": 1,\\n   \"794820608\": 1,\\n   \"796917851\": 1,\\n   \"730857507\": 1,\\n   \"735051993\": 1,\\n   \"730857536\": 1,\\n   \"735052022\": 1,\\n   \"794820609\": 1,\\n   \"796917852\": 1,\\n   \"730857508\": 1,\\n   \"735051994\": 1,\\n   \"730857537\": 1,\\n   \"735052023\": 1,\\n   \"794820610\": 1,\\n   \"796917853\": 1,\\n   \"730857509\": 1,\\n   \"735051995\": 1,\\n   \"730857538\": 1,\\n   \"735052024\": 1,\\n   \"794820611\": 1,\\n   \"796917854\": 1,\\n   \"730857510\": 1,\\n   \"735051996\": 1,\\n   \"730857539\": 1,\\n   \"735052025\": 1,\\n   \"794820612\": 1,\\n   \"796917855\": 1,\\n   \"730857511\": 1,\\n   \"735051997\": 1,\\n   \"730857540\": 1,\\n   \"735052026\": 1,\\n   \"794820613\": 1,\\n   \"796917856\": 1,\\n   \"730857512\": 1,\\n   \"735051998\": 1,\\n   \"730857541\": 1,\\n   \"735052027\": 1,\\n   \"794820614\": 1,\\n   \"796917857\": 1,\\n   \"730857513\": 1,\\n   \"735051999\": 1,\\n   \"730857542\": 1,\\n   \"735052028\": 1,\\n   \"794820615\": 1,\\n   \"730857514\": 1,\\n   \"735052000\": 1,\\n   \"730857543\": 1,\\n   \"735052029\": 1,\\n   \"794820616\": 1,\\n   \"730857515\": 1,\\n   \"735052001\": 1,\\n   \"730857544\": 1,\\n   \"735052030\": 1,\\n   \"794820617\": 1,\\n   \"730857516\": 1,\\n   \"735052002\": 1,\\n   \"730857545\": 1,\\n   \"735052031\": 1,\\n   \"794820618\": 1,\\n   \"730857517\": 1,\\n   \"735052003\": 1,\\n   \"794820641\": 1,\\n   \"730857568\": 1,\\n   \"735052054\": 1,\\n   \"794820642\": 1,\\n   \"730857569\": 1,\\n   \"735052055\": 1,\\n   \"794820643\": 1,\\n   \"730857570\": 1,\\n   \"735052056\": 1,\\n   \"794820644\": 1,\\n   \"730857571\": 1,\\n   \"735052057\": 1,\\n   \"794820645\": 1,\\n   \"730857572\": 1,\\n   \"735052058\": 1,\\n   \"794820646\": 1,\\n   \"730857573\": 1,\\n   \"735052059\": 1,\\n   \"794820647\": 1,\\n   \"730857574\": 1,\\n   \"735052060\": 1,\\n   \"794820648\": 1,\\n   \"730857575\": 1,\\n   \"735052061\": 1,\\n   \"794820649\": 1,\\n   \"730857576\": 1,\\n   \"735052062\": 1,\\n   \"794820650\": 1,\\n   \"730857577\": 1,\\n   \"735052063\": 1,\\n   \"794820651\": 1,\\n   \"730857578\": 1,\\n   \"735052064\": 1,\\n   \"794820652\": 1,\\n   \"730857579\": 1,\\n   \"735052065\": 1,\\n   \"794820653\": 1,\\n   \"730857580\": 1,\\n   \"735052066\": 1,\\n   \"794820654\": 1,\\n   \"730857581\": 1,\\n   \"735052067\": 1,\\n   \"794820655\": 1,\\n   \"730857582\": 1,\\n   \"735052068\": 1,\\n   \"794820656\": 1,\\n   \"730857583\": 1,\\n   \"735052069\": 1,\\n   \"794820657\": 1,\\n   \"730857584\": 1,\\n   \"735052070\": 1,\\n   \"794820658\": 1,\\n   \"730857585\": 1,\\n   \"735052071\": 1,\\n   \"794820659\": 1,\\n   \"730857586\": 1,\\n   \"735052072\": 1,\\n   \"794820660\": 1,\\n   \"730857587\": 1,\\n   \"735052073\": 1,\\n   \"794820661\": 1,\\n   \"730857588\": 1,\\n   \"735052074\": 1,\\n   \"794820662\": 1,\\n   \"730857589\": 1,\\n   \"735052075\": 1,\\n   \"794820663\": 1,\\n   \"730857590\": 1,\\n   \"735052076\": 1,\\n   \"794820664\": 1,\\n   \"730857591\": 1,\\n   \"735052077\": 1,\\n   \"794820665\": 1,\\n   \"730857592\": 1,\\n   \"735052078\": 1,\\n   \"794820666\": 1,\\n   \"730857593\": 1,\\n   \"735052079\": 1,\\n   \"794820667\": 1,\\n   \"730857594\": 1,\\n   \"735052080\": 1,\\n   \"794820668\": 1,\\n   \"730857595\": 1,\\n   \"735052081\": 1,\\n   \"794820669\": 1,\\n   \"730857596\": 1,\\n   \"735052082\": 1,\\n   \"794820670\": 1,\\n   \"730857597\": 1,\\n   \"735052083\": 1,\\n   \"794820671\": 1,\\n   \"730857598\": 1,\\n   \"735052084\": 1,\\n   \"794820672\": 1,\\n   \"730857599\": 1,\\n   \"735052085\": 1,\\n   \"794820673\": 1,\\n   \"730857600\": 1,\\n   \"735052086\": 1,\\n   \"794820674\": 1,\\n   \"730857601\": 1,\\n   \"735052087\": 1,\\n   \"794820675\": 1,\\n   \"730857602\": 1,\\n   \"735052088\": 1,\\n   \"794820676\": 1,\\n   \"730857603\": 1,\\n   \"735052089\": 1,\\n   \"794820677\": 1,\\n   \"730857604\": 1,\\n   \"735052090\": 1,\\n   \"794820678\": 1,\\n   \"730857605\": 1,\\n   \"735052091\": 1,\\n   \"794820679\": 1,\\n   \"730857606\": 1,\\n   \"735052092\": 1,\\n   \"794820680\": 1,\\n   \"730857607\": 1,\\n   \"735052093\": 1,\\n   \"794820681\": 1,\\n   \"730857608\": 1,\\n   \"735052094\": 1,\\n   \"794820682\": 1,\\n   \"730857609\": 1,\\n   \"735052095\": 1,\\n   \"794820683\": 1,\\n   \"730857610\": 1,\\n   \"735052096\": 1,\\n   \"794820684\": 1,\\n   \"730857611\": 1,\\n   \"735052097\": 1,\\n   \"794820685\": 1,\\n   \"730857612\": 1,\\n   \"735052098\": 1,\\n   \"794820686\": 1,\\n   \"730857613\": 1,\\n   \"735052099\": 1,\\n   \"794820687\": 1,\\n   \"730857614\": 1,\\n   \"794820688\": 1,\\n   \"730857615\": 1,\\n   \"794820689\": 1,\\n   \"730857616\": 1,\\n   \"794820690\": 1,\\n   \"730857617\": 1,\\n   \"794820691\": 1,\\n   \"730857618\": 1,\\n   \"794820692\": 1,\\n   \"730857619\": 1,\\n   \"794820693\": 1,\\n   \"730857620\": 1,\\n   \"730857621\": 1,\\n   \"794820694\": 1,\\n   \"730857622\": 1,\\n   \"794820695\": 1,\\n   \"730857623\": 1,\\n   \"794820696\": 1,\\n   \"730857624\": 1,\\n   \"794820697\": 1,\\n   \"730857625\": 1,\\n   \"794820698\": 1,\\n   \"730857626\": 1,\\n   \"794820699\": 1,\\n   \"730857627\": 1,\\n   \"794820700\": 1,\\n   \"730857628\": 1,\\n   \"794820701\": 1,\\n   \"730857629\": 1,\\n   \"794820702\": 1,\\n   \"730857630\": 1,\\n   \"794820703\": 1,\\n   \"730857631\": 1,\\n   \"794820704\": 1,\\n   \"730857632\": 1,\\n   \"794820705\": 1,\\n   \"730857633\": 1,\\n   \"730857634\": 1,\\n   \"730857635\": 1,\\n   \"730857636\": 1,\\n   \"730857637\": 1,\\n   \"730857638\": 1,\\n   \"730857639\": 1,\\n   \"730857640\": 1,\\n   \"730857641\": 1,\\n   \"730857642\": 1,\\n   \"730857643\": 1,\\n   \"730857644\": 1,\\n   \"705691648\": 1,\\n   \"730857645\": 1,\\n   \"705691649\": 1,\\n   \"730857646\": 1,\\n   \"705691650\": 1,\\n   \"730857647\": 1,\\n   \"705691651\": 1,\\n   \"730857648\": 1,\\n   \"705691652\": 1,\\n   \"730857649\": 1,\\n   \"705691653\": 1,\\n   \"730857650\": 1,\\n   \"705691654\": 1,\\n   \"730857651\": 1,\\n   \"705691655\": 1,\\n   \"730857652\": 1,\\n   \"705691656\": 1,\\n   \"730857653\": 1,\\n   \"705691657\": 1,\\n   \"730857654\": 1,\\n   \"705691658\": 1,\\n   \"730857655\": 1,\\n   \"705691659\": 1,\\n   \"730857656\": 1,\\n   \"705691660\": 1,\\n   \"730857657\": 1,\\n   \"705691661\": 1,\\n   \"730857658\": 1,\\n   \"705691662\": 1,\\n   \"730857659\": 1,\\n   \"705691663\": 1,\\n   \"730857660\": 1,\\n   \"705691664\": 1,\\n   \"730857661\": 1,\\n   \"705691665\": 1,\\n   \"730857662\": 1,\\n   \"705691666\": 1,\\n   \"730857663\": 1,\\n   \"705691667\": 1,\\n   \"730857664\": 1,\\n   \"705691668\": 1,\\n   \"730857665\": 1,\\n   \"705691669\": 1,\\n   \"730857666\": 1,\\n   \"705691670\": 1,\\n   \"730857667\": 1,\\n   \"705691671\": 1,\\n   \"730857668\": 1,\\n   \"705691672\": 1,\\n   \"730857669\": 1,\\n   \"705691673\": 1,\\n   \"730857670\": 1,\\n   \"705691674\": 1,\\n   \"730857671\": 1,\\n   \"705691675\": 1,\\n   \"730857672\": 1,\\n   \"705691676\": 1,\\n   \"730857673\": 1,\\n   \"705691677\": 1,\\n   \"730857674\": 1,\\n   \"705691678\": 1,\\n   \"730857675\": 1,\\n   \"705691679\": 1,\\n   \"730857676\": 1,\\n   \"705691680\": 1,\\n   \"730857677\": 1,\\n   \"705691681\": 1,\\n   \"730857678\": 1,\\n   \"705691682\": 1,\\n   \"730857679\": 1,\\n   \"705691683\": 1,\\n   \"730857680\": 1,\\n   \"705691684\": 1,\\n   \"730857681\": 1,\\n   \"705691685\": 1,\\n   \"730857682\": 1,\\n   \"705691686\": 1,\\n   \"730857683\": 1,\\n   \"705691687\": 1,\\n   \"730857684\": 1,\\n   \"705691688\": 1,\\n   \"730857685\": 1,\\n   \"705691689\": 1,\\n   \"730857686\": 1,\\n   \"705691690\": 1,\\n   \"730857687\": 1,\\n   \"705691691\": 1,\\n   \"730857688\": 1,\\n   \"705691692\": 1,\\n   \"730857689\": 1,\\n   \"705691693\": 1,\\n   \"730857690\": 1,\\n   \"705691694\": 1,\\n   \"730857691\": 1,\\n   \"705691695\": 1,\\n   \"730857692\": 1,\\n   \"705691696\": 1,\\n   \"730857693\": 1,\\n   \"705691697\": 1,\\n   \"730857694\": 1,\\n   \"705691698\": 1,\\n   \"730857695\": 1,\\n   \"705691699\": 1,\\n   \"730857696\": 1,\\n   \"705691700\": 1,\\n   \"730857697\": 1,\\n   \"705691701\": 1,\\n   \"730857698\": 1,\\n   \"705691702\": 1,\\n   \"730857699\": 1,\\n   \"705691703\": 1,\\n   \"730857700\": 1,\\n   \"705691704\": 1,\\n   \"730857701\": 1,\\n   \"705691705\": 1,\\n   \"730857702\": 1,\\n   \"705691706\": 1,\\n   \"730857703\": 1,\\n   \"705691707\": 1,\\n   \"730857704\": 1,\\n   \"705691708\": 1,\\n   \"730857705\": 1,\\n   \"705691709\": 1,\\n   \"730857706\": 1,\\n   \"705691710\": 1,\\n   \"730857707\": 1,\\n   \"705691711\": 1,\\n   \"730857708\": 1,\\n   \"705691712\": 1,\\n   \"730857709\": 1,\\n   \"705691713\": 1,\\n   \"730857710\": 1,\\n   \"705691714\": 1,\\n   \"730857711\": 1,\\n   \"705691715\": 1,\\n   \"730857712\": 1,\\n   \"705691716\": 1,\\n   \"730857713\": 1,\\n   \"705691717\": 1,\\n   \"730857714\": 1,\\n   \"705691718\": 1,\\n   \"730857715\": 1,\\n   \"705691719\": 1,\\n   \"730857716\": 1,\\n   \"705691720\": 1,\\n   \"730857717\": 1,\\n   \"790626304\": 1,\\n   \"705691721\": 1,\\n   \"730857718\": 1,\\n   \"790626305\": 1,\\n   \"705691722\": 1,\\n   \"730857719\": 1,\\n   \"790626306\": 1,\\n   \"705691723\": 1,\\n   \"730857720\": 1,\\n   \"790626307\": 1,\\n   \"705691724\": 1,\\n   \"730857721\": 1,\\n   \"790626308\": 1,\\n   \"705691725\": 1,\\n   \"730857722\": 1,\\n   \"790626309\": 1,\\n   \"705691726\": 1,\\n   \"730857723\": 1,\\n   \"790626310\": 1,\\n   \"705691727\": 1,\\n   \"730857724\": 1,\\n   \"790626311\": 1,\\n   \"705691728\": 1,\\n   \"730857725\": 1,\\n   \"790626312\": 1,\\n   \"705691729\": 1,\\n   \"730857726\": 1,\\n   \"790626313\": 1,\\n   \"705691730\": 1,\\n   \"730857727\": 1,\\n   \"790626314\": 1,\\n   \"705691731\": 1,\\n   \"730857728\": 1,\\n   \"790626315\": 1,\\n   \"705691732\": 1,\\n   \"730857729\": 1,\\n   \"790626316\": 1,\\n   \"705691733\": 1,\\n   \"730857730\": 1,\\n   \"790626317\": 1,\\n   \"705691734\": 1,\\n   \"730857731\": 1,\\n   \"790626318\": 1,\\n   \"705691735\": 1,\\n   \"730857732\": 1,\\n   \"790626319\": 1,\\n   \"705691736\": 1,\\n   \"730857733\": 1,\\n   \"790626320\": 1,\\n   \"705691737\": 1,\\n   \"730857734\": 1,\\n   \"790626321\": 1,\\n   \"705691738\": 1,\\n   \"730857735\": 1,\\n   \"790626322\": 1,\\n   \"705691739\": 1,\\n   \"730857736\": 1,\\n   \"790626323\": 1,\\n   \"705691740\": 1,\\n   \"730857737\": 1,\\n   \"790626324\": 1,\\n   \"705691741\": 1,\\n   \"730857738\": 1,\\n   \"790626325\": 1,\\n   \"705691742\": 1,\\n   \"730857739\": 1,\\n   \"790626326\": 1,\\n   \"705691743\": 1,\\n   \"730857740\": 1,\\n   \"790626327\": 1,\\n   \"705691744\": 1,\\n   \"730857741\": 1,\\n   \"790626328\": 1,\\n   \"705691745\": 1,\\n   \"730857742\": 1,\\n   \"790626329\": 1,\\n   \"705691746\": 1,\\n   \"730857743\": 1,\\n   \"790626330\": 1,\\n   \"705691747\": 1,\\n   \"730857744\": 1,\\n   \"790626331\": 1,\\n   \"705691748\": 1,\\n   \"730857745\": 1,\\n   \"790626332\": 1,\\n   \"705691749\": 1,\\n   \"730857746\": 1,\\n   \"790626333\": 1,\\n   \"705691750\": 1,\\n   \"730857747\": 1,\\n   \"790626334\": 1,\\n   \"705691751\": 1,\\n   \"730857748\": 1,\\n   \"790626335\": 1,\\n   \"705691752\": 1,\\n   \"730857749\": 1,\\n   \"790626336\": 1,\\n   \"705691753\": 1,\\n   \"730857750\": 1,\\n   \"790626337\": 1,\\n   \"705691754\": 1,\\n   \"730857751\": 1,\\n   \"790626338\": 1,\\n   \"705691755\": 1,\\n   \"730857752\": 1,\\n   \"790626339\": 1,\\n   \"705691756\": 1,\\n   \"730857753\": 1,\\n   \"790626340\": 1,\\n   \"705691757\": 1,\\n   \"730857754\": 1,\\n   \"790626341\": 1,\\n   \"705691758\": 1,\\n   \"730857755\": 1,\\n   \"790626342\": 1,\\n   \"705691759\": 1,\\n   \"730857756\": 1,\\n   \"790626343\": 1,\\n   \"705691760\": 1,\\n   \"730857757\": 1,\\n   \"790626344\": 1,\\n   \"705691761\": 1,\\n   \"730857758\": 1,\\n   \"790626345\": 1,\\n   \"705691762\": 1,\\n   \"730857759\": 1,\\n   \"790626346\": 1,\\n   \"705691763\": 1,\\n   \"730857760\": 1,\\n   \"790626347\": 1,\\n   \"705691764\": 1,\\n   \"730857761\": 1,\\n   \"790626348\": 1,\\n   \"705691765\": 1,\\n   \"730857762\": 1,\\n   \"790626349\": 1,\\n   \"705691766\": 1,\\n   \"730857763\": 1,\\n   \"790626350\": 1,\\n   \"705691767\": 1,\\n   \"730857764\": 1,\\n   \"790626351\": 1,\\n   \"705691768\": 1,\\n   \"730857765\": 1,\\n   \"790626352\": 1,\\n   \"705691769\": 1,\\n   \"730857766\": 1,\\n   \"705691770\": 1,\\n   \"730857767\": 1,\\n   \"705691771\": 1,\\n   \"730857768\": 1,\\n   \"705691772\": 1,\\n   \"730857769\": 1,\\n   \"705691773\": 1,\\n   \"730857770\": 1,\\n   \"705691774\": 1,\\n   \"730857771\": 1,\\n   \"705691775\": 1,\\n   \"730857772\": 1,\\n   \"705691776\": 1,\\n   \"730857773\": 1,\\n   \"705691777\": 1,\\n   \"730857774\": 1,\\n   \"705691778\": 1,\\n   \"730857775\": 1,\\n   \"705691779\": 1,\\n   \"730857776\": 1,\\n   \"705691780\": 1,\\n   \"730857777\": 1,\\n   \"705691781\": 1,\\n   \"730857778\": 1,\\n   \"705691782\": 1,\\n   \"730857779\": 1,\\n   \"705691783\": 1,\\n   \"730857780\": 1,\\n   \"705691784\": 1,\\n   \"730857781\": 1,\\n   \"705691785\": 1,\\n   \"730857782\": 1,\\n   \"705691786\": 1,\\n   \"730857783\": 1,\\n   \"705691787\": 1,\\n   \"730857784\": 1,\\n   \"705691788\": 1,\\n   \"730857785\": 1,\\n   \"705691789\": 1,\\n   \"730857786\": 1,\\n   \"705691790\": 1,\\n   \"730857787\": 1,\\n   \"705691791\": 1,\\n   \"730857788\": 1,\\n   \"705691792\": 1,\\n   \"730857789\": 1,\\n   \"705691793\": 1,\\n   \"730857790\": 1,\\n   \"705691794\": 1,\\n   \"730857791\": 1,\\n   \"705691795\": 1,\\n   \"730857792\": 1,\\n   \"705691796\": 1,\\n   \"730857793\": 1,\\n   \"705691797\": 1,\\n   \"705691798\": 1,\\n   \"705691799\": 1,\\n   \"705691800\": 1,\\n   \"705691801\": 1,\\n   \"705691802\": 1,\\n   \"705691803\": 1,\\n   \"705691804\": 1,\\n   \"705691805\": 1,\\n   \"705691806\": 1,\\n   \"705691807\": 1,\\n   \"705691808\": 1,\\n   \"705691809\": 1,\\n   \"705691810\": 1,\\n   \"705691811\": 1,\\n   \"705691812\": 1,\\n   \"705691813\": 1,\\n   \"705691814\": 1,\\n   \"705691815\": 1,\\n   \"705691816\": 1,\\n   \"705691817\": 1,\\n   \"705691818\": 1,\\n   \"705691819\": 1,\\n   \"705691820\": 1,\\n   \"705691821\": 1,\\n   \"705691822\": 1,\\n   \"705691823\": 1,\\n   \"705691824\": 1,\\n   \"705691825\": 1,\\n   \"705691826\": 1,\\n   \"705691827\": 1,\\n   \"705691828\": 1,\\n   \"705691829\": 1,\\n   \"705691830\": 1,\\n   \"705691831\": 1,\\n   \"705691832\": 1,\\n   \"705691833\": 1,\\n   \"705691834\": 1,\\n   \"705691835\": 1,\\n   \"705691836\": 1,\\n   \"705691837\": 1,\\n   \"705691838\": 1,\\n   \"705691839\": 1,\\n   \"705691840\": 1,\\n   \"800063528\": 1,\\n   \"717226188\": 1,\\n   \"719323431\": 1,\\n   \"800063527\": 1,\\n   \"794820909\": 1,\\n   \"717226187\": 1,\\n   \"719323430\": 1,\\n   \"800063526\": 1,\\n   \"794820908\": 1,\\n   \"717226186\": 1,\\n   \"719323429\": 1,\\n   \"800063525\": 1,\\n   \"794820907\": 1,\\n   \"717226185\": 1,\\n   \"719323428\": 1,\\n   \"800063524\": 1,\\n   \"794820906\": 1,\\n   \"717226184\": 1,\\n   \"719323427\": 1,\\n   \"800063523\": 1,\\n   \"794820905\": 1,\\n   \"717226183\": 1,\\n   \"719323426\": 1,\\n   \"800063522\": 1,\\n   \"794820904\": 1,\\n   \"717226182\": 1,\\n   \"719323425\": 1,\\n   \"800063521\": 1,\\n   \"794820903\": 1,\\n   \"717226181\": 1,\\n   \"719323424\": 1,\\n   \"800063520\": 1,\\n   \"794820902\": 1,\\n   \"717226180\": 1,\\n   \"719323423\": 1,\\n   \"800063519\": 1,\\n   \"794820901\": 1,\\n   \"717226179\": 1,\\n   \"719323422\": 1,\\n   \"800063518\": 1,\\n   \"794820900\": 1,\\n   \"717226178\": 1,\\n   \"719323421\": 1,\\n   \"800063517\": 1,\\n   \"794820899\": 1,\\n   \"717226177\": 1,\\n   \"719323420\": 1,\\n   \"800063516\": 1,\\n   \"794820898\": 1,\\n   \"717226176\": 1,\\n   \"719323419\": 1,\\n   \"800063515\": 1,\\n   \"794820897\": 1,\\n   \"717226175\": 1,\\n   \"719323418\": 1,\\n   \"800063514\": 1,\\n   \"794820896\": 1,\\n   \"717226174\": 1,\\n   \"719323417\": 1,\\n   \"800063513\": 1,\\n   \"794820895\": 1,\\n   \"717226173\": 1,\\n   \"719323416\": 1,\\n   \"800063512\": 1,\\n   \"794820894\": 1,\\n   \"717226172\": 1,\\n   \"719323415\": 1,\\n   \"800063511\": 1,\\n   \"794820893\": 1,\\n   \"717226171\": 1,\\n   \"719323414\": 1,\\n   \"800063510\": 1,\\n   \"794820892\": 1,\\n   \"717226170\": 1,\\n   \"719323413\": 1,\\n   \"800063509\": 1,\\n   \"794820891\": 1,\\n   \"717226169\": 1,\\n   \"719323412\": 1,\\n   \"800063508\": 1,\\n   \"794820890\": 1,\\n   \"717226168\": 1,\\n   \"719323411\": 1,\\n   \"800063507\": 1,\\n   \"794820889\": 1,\\n   \"717226167\": 1,\\n   \"719323410\": 1,\\n   \"800063506\": 1,\\n   \"794820888\": 1,\\n   \"717226166\": 1,\\n   \"719323409\": 1,\\n   \"800063505\": 1,\\n   \"794820887\": 1,\\n   \"717226165\": 1,\\n   \"719323408\": 1,\\n   \"800063504\": 1,\\n   \"794820886\": 1,\\n   \"717226164\": 1,\\n   \"719323407\": 1,\\n   \"800063503\": 1,\\n   \"794820885\": 1,\\n   \"717226163\": 1,\\n   \"719323406\": 1,\\n   \"800063502\": 1,\\n   \"794820884\": 1,\\n   \"717226162\": 1,\\n   \"719323405\": 1,\\n   \"800063501\": 1,\\n   \"794820883\": 1,\\n   \"717226161\": 1,\\n   \"719323404\": 1,\\n   \"800063500\": 1,\\n   \"794820882\": 1,\\n   \"717226160\": 1,\\n   \"719323403\": 1,\\n   \"800063499\": 1,\\n   \"794820881\": 1,\\n   \"717226159\": 1,\\n   \"719323402\": 1,\\n   \"800063498\": 1,\\n   \"794820880\": 1,\\n   \"717226158\": 1,\\n   \"719323401\": 1,\\n   \"800063497\": 1,\\n   \"794820879\": 1,\\n   \"717226157\": 1,\\n   \"719323400\": 1,\\n   \"800063496\": 1,\\n   \"794820878\": 1,\\n   \"717226156\": 1,\\n   \"719323399\": 1,\\n   \"800063495\": 1,\\n   \"794820877\": 1,\\n   \"717226155\": 1,\\n   \"719323398\": 1,\\n   \"800063494\": 1,\\n   \"794820876\": 1,\\n   \"717226154\": 1,\\n   \"719323397\": 1,\\n   \"800063493\": 1,\\n   \"794820875\": 1,\\n   \"717226153\": 1,\\n   \"719323396\": 1,\\n   \"800063492\": 1,\\n   \"794820874\": 1,\\n   \"717226152\": 1,\\n   \"719323395\": 1,\\n   \"800063491\": 1,\\n   \"794820873\": 1,\\n   \"717226151\": 1,\\n   \"719323394\": 1,\\n   \"800063490\": 1,\\n   \"794820872\": 1,\\n   \"717226150\": 1,\\n   \"719323393\": 1,\\n   \"800063489\": 1,\\n   \"794820871\": 1,\\n   \"717226149\": 1,\\n   \"719323392\": 1,\\n   \"800063488\": 1,\\n   \"794820870\": 1,\\n   \"717226148\": 1,\\n   \"719323391\": 1,\\n   \"796917760\": 1,\\n   \"796917761\": 1,\\n   \"796917762\": 1,\\n   \"796917763\": 1,\\n   \"796917764\": 1,\\n   \"796917765\": 1,\\n   \"796917766\": 1,\\n   \"796917767\": 1,\\n   \"796917768\": 1,\\n   \"796917769\": 1,\\n   \"796917770\": 1,\\n   \"796917771\": 1,\\n   \"796917772\": 1,\\n   \"796917773\": 1,\\n   \"796917774\": 1,\\n   \"796917775\": 1,\\n   \"796917776\": 1,\\n   \"796917777\": 1,\\n   \"796917778\": 1,\\n   \"796917779\": 1,\\n   \"796917780\": 1,\\n   \"796917781\": 1,\\n   \"796917782\": 1,\\n   \"796917783\": 1,\\n   \"796917784\": 1,\\n   \"796917785\": 1,\\n   \"796917786\": 1,\\n   \"796917834\": 1,\\n   \"796917835\": 1,\\n   \"796917836\": 1,\\n   \"796917837\": 1,\\n   \"796917838\": 1,\\n   \"796917839\": 1,\\n   \"796917840\": 1,\\n   \"796917841\": 1,\\n   \"796917842\": 1,\\n   \"796917843\": 1,\\n   \"796917844\": 1,\\n   \"796917845\": 1,\\n   \"796917846\": 1,\\n   \"796917847\": 1,\\n   \"796917848\": 1,\\n   \"796917849\": 1,\\n   \"796917850\": 1,\\n   \"796917819\": 1,\\n   \"796917818\": 1,\\n   \"796917817\": 1,\\n   \"796917816\": 1,\\n   \"796917815\": 1,\\n   \"796917814\": 1,\\n   \"796917813\": 1,\\n   \"796917812\": 1,\\n   \"796917811\": 1,\\n   \"796917810\": 1,\\n   \"796917809\": 1,\\n   \"796917808\": 1,\\n   \"796917807\": 1,\\n   \"796917806\": 1,\\n   \"796917805\": 1,\\n   \"796917804\": 1,\\n   \"796917803\": 1,\\n   \"796917802\": 1,\\n   \"796917801\": 1,\\n   \"796917800\": 1,\\n   \"796917799\": 1,\\n   \"796917798\": 1,\\n   \"796917797\": 1,\\n   \"796917796\": 1,\\n   \"796917795\": 1,\\n   \"796917794\": 1,\\n   \"796917793\": 1,\\n   \"796917792\": 1,\\n   \"796917791\": 1,\\n   \"796917790\": 1,\\n   \"796917789\": 1,\\n   \"796917788\": 1,\\n   \"796917787\": 1,\\n   \"741343539\": 1,\\n   \"735051810\": 1,\\n   \"741343538\": 1,\\n   \"735051809\": 1,\\n   \"741343537\": 1,\\n   \"735051808\": 1,\\n   \"741343536\": 1,\\n   \"735051807\": 1,\\n   \"741343535\": 1,\\n   \"735051806\": 1,\\n   \"741343534\": 1,\\n   \"735051805\": 1,\\n   \"735051894\": 1,\\n   \"735051893\": 1,\\n   \"735051892\": 1,\\n   \"735051891\": 1,\\n   \"735051890\": 1,\\n   \"735051889\": 1,\\n   \"735051888\": 1,\\n   \"735051887\": 1,\\n   \"735051886\": 1,\\n   \"735051885\": 1,\\n   \"735051884\": 1,\\n   \"735051883\": 1,\\n   \"735051882\": 1,\\n   \"735051881\": 1,\\n   \"735051880\": 1,\\n   \"735051879\": 1,\\n   \"735051878\": 1,\\n   \"735051877\": 1,\\n   \"735051876\": 1,\\n   \"735051875\": 1,\\n   \"735051874\": 1,\\n   \"735051873\": 1,\\n   \"735051872\": 1,\\n   \"735051871\": 1,\\n   \"809500762\": 1,\\n   \"735051870\": 1,\\n   \"809500761\": 1,\\n   \"735051869\": 1,\\n   \"809500760\": 1,\\n   \"735051868\": 1,\\n   \"809500759\": 1,\\n   \"735051867\": 1,\\n   \"809500758\": 1,\\n   \"735051866\": 1,\\n   \"809500757\": 1,\\n   \"735051865\": 1,\\n   \"809500756\": 1,\\n   \"735051864\": 1,\\n   \"809500755\": 1,\\n   \"735051863\": 1,\\n   \"809500754\": 1,\\n   \"735051862\": 1,\\n   \"809500753\": 1,\\n   \"735051861\": 1,\\n   \"809500752\": 1,\\n   \"735051860\": 1,\\n   \"809500751\": 1,\\n   \"735051919\": 1,\\n   \"735051920\": 1,\\n   \"735051921\": 1,\\n   \"735051922\": 1,\\n   \"735051923\": 1,\\n   \"735051924\": 1,\\n   \"735051925\": 1,\\n   \"735051926\": 1,\\n   \"735051927\": 1,\\n   \"735051928\": 1,\\n   \"735051929\": 1,\\n   \"735051930\": 1,\\n   \"735051931\": 1,\\n   \"735051932\": 1,\\n   \"735051933\": 1,\\n   \"735051934\": 1,\\n   \"735051935\": 1,\\n   \"735051936\": 1,\\n   \"735051937\": 1,\\n   \"735051938\": 1,\\n   \"735051939\": 1,\\n   \"800063557\": 1,\\n   \"717226217\": 1,\\n   \"794820734\": 1,\\n   \"717226012\": 1,\\n   \"796917977\": 1,\\n   \"719323255\": 1,\\n   \"735051940\": 1,\\n   \"741343477\": 1,\\n   \"800063558\": 1,\\n   \"717226218\": 1,\\n   \"794820735\": 1,\\n   \"717226013\": 1,\\n   \"796917978\": 1,\\n   \"719323256\": 1,\\n   \"735051941\": 1,\\n   \"741343478\": 1,\\n   \"800063559\": 1,\\n   \"717226219\": 1,\\n   \"794820736\": 1,\\n   \"717226014\": 1,\\n   \"796917979\": 1,\\n   \"719323257\": 1,\\n   \"735051942\": 1,\\n   \"741343479\": 1,\\n   \"800063560\": 1,\\n   \"717226220\": 1,\\n   \"794820737\": 1,\\n   \"717226015\": 1,\\n   \"796917980\": 1,\\n   \"719323258\": 1,\\n   \"735051943\": 1,\\n   \"741343480\": 1,\\n   \"800063561\": 1,\\n   \"717226221\": 1,\\n   \"794820738\": 1,\\n   \"717226016\": 1,\\n   \"796917981\": 1,\\n   \"719323259\": 1,\\n   \"735051944\": 1,\\n   \"741343481\": 1,\\n   \"800063562\": 1,\\n   \"717226222\": 1,\\n   \"794820739\": 1,\\n   \"717226017\": 1,\\n   \"796917982\": 1,\\n   \"719323260\": 1,\\n   \"735051945\": 1,\\n   \"741343482\": 1,\\n   \"800063563\": 1,\\n   \"717226223\": 1,\\n   \"794820740\": 1,\\n   \"717226018\": 1,\\n   \"796917983\": 1,\\n   \"719323261\": 1,\\n   \"735051946\": 1,\\n   \"741343483\": 1,\\n   \"800063564\": 1,\\n   \"717226224\": 1,\\n   \"794820741\": 1,\\n   \"717226019\": 1,\\n   \"796917984\": 1,\\n   \"719323262\": 1,\\n   \"735051947\": 1,\\n   \"741343484\": 1,\\n   \"800063565\": 1,\\n   \"717226225\": 1,\\n   \"794820742\": 1,\\n   \"717226020\": 1,\\n   \"796917985\": 1,\\n   \"719323263\": 1,\\n   \"735051948\": 1,\\n   \"741343485\": 1,\\n   \"800063566\": 1,\\n   \"717226226\": 1,\\n   \"794820743\": 1,\\n   \"717226021\": 1,\\n   \"796917986\": 1,\\n   \"719323264\": 1,\\n   \"735051949\": 1,\\n   \"741343486\": 1,\\n   \"800063567\": 1,\\n   \"717226227\": 1,\\n   \"794820744\": 1,\\n   \"717226022\": 1,\\n   \"796917987\": 1,\\n   \"719323265\": 1,\\n   \"735051950\": 1,\\n   \"741343487\": 1,\\n   \"800063568\": 1,\\n   \"717226228\": 1,\\n   \"794820745\": 1,\\n   \"717226023\": 1,\\n   \"796917988\": 1,\\n   \"719323266\": 1,\\n   \"735051951\": 1,\\n   \"741343488\": 1,\\n   \"800063569\": 1,\\n   \"717226229\": 1,\\n   \"794820746\": 1,\\n   \"717226024\": 1,\\n   \"796917989\": 1,\\n   \"719323267\": 1,\\n   \"735051952\": 1,\\n   \"741343489\": 1,\\n   \"800063570\": 1,\\n   \"717226230\": 1,\\n   \"794820747\": 1,\\n   \"717226025\": 1,\\n   \"796917990\": 1,\\n   \"719323268\": 1,\\n   \"735051953\": 1,\\n   \"741343490\": 1,\\n   \"800063571\": 1,\\n   \"717226231\": 1,\\n   \"794820748\": 1,\\n   \"717226026\": 1,\\n   \"796917991\": 1,\\n   \"719323269\": 1,\\n   \"735051954\": 1,\\n   \"741343491\": 1,\\n   \"800063572\": 1,\\n   \"717226232\": 1,\\n   \"794820749\": 1,\\n   \"717226027\": 1,\\n   \"796917992\": 1,\\n   \"719323270\": 1,\\n   \"735051955\": 1,\\n   \"741343492\": 1,\\n   \"800063573\": 1,\\n   \"717226233\": 1,\\n   \"794820750\": 1,\\n   \"717226028\": 1,\\n   \"796917993\": 1,\\n   \"719323271\": 1,\\n   \"735051956\": 1,\\n   \"741343493\": 1,\\n   \"800063574\": 1,\\n   \"717226234\": 1,\\n   \"794820751\": 1,\\n   \"717226029\": 1,\\n   \"796917994\": 1,\\n   \"719323272\": 1,\\n   \"735051957\": 1,\\n   \"741343494\": 1,\\n   \"800063575\": 1,\\n   \"717226235\": 1,\\n   \"794820752\": 1,\\n   \"717226030\": 1,\\n   \"796917995\": 1,\\n   \"719323273\": 1,\\n   \"741343495\": 1,\\n   \"800063576\": 1,\\n   \"717226236\": 1,\\n   \"794820753\": 1,\\n   \"717226031\": 1,\\n   \"796917996\": 1,\\n   \"719323274\": 1,\\n   \"741343496\": 1,\\n   \"800063577\": 1,\\n   \"717226237\": 1,\\n   \"794820754\": 1,\\n   \"717226032\": 1,\\n   \"796917997\": 1,\\n   \"719323275\": 1,\\n   \"800063538\": 1,\\n   \"717226198\": 1,\\n   \"719323441\": 1,\\n   \"794820715\": 1,\\n   \"717225993\": 1,\\n   \"796917958\": 1,\\n   \"719323236\": 1,\\n   \"741343525\": 1,\\n   \"735051796\": 1,\\n   \"800063539\": 1,\\n   \"717226199\": 1,\\n   \"719323442\": 1,\\n   \"794820716\": 1,\\n   \"717225994\": 1,\\n   \"796917959\": 1,\\n   \"719323237\": 1,\\n   \"741343526\": 1,\\n   \"735051797\": 1,\\n   \"741343527\": 1,\\n   \"735051798\": 1,\\n   \"741343528\": 1,\\n   \"735051799\": 1,\\n   \"741343529\": 1,\\n   \"735051800\": 1,\\n   \"741343530\": 1,\\n   \"735051801\": 1,\\n   \"741343497\": 1,\\n   \"800063578\": 1,\\n   \"717226238\": 1,\\n   \"794820755\": 1,\\n   \"717226033\": 1,\\n   \"796917998\": 1,\\n   \"719323276\": 1,\\n   \"741343531\": 1,\\n   \"735051802\": 1,\\n   \"741343532\": 1,\\n   \"735051803\": 1,\\n   \"741343533\": 1,\\n   \"735051804\": 1,\\n   \"800063579\": 1,\\n   \"717226239\": 1,\\n   \"794820756\": 1,\\n   \"717226034\": 1,\\n   \"796917999\": 1,\\n   \"719323277\": 1,\\n   \"741343498\": 1,\\n   \"800063580\": 1,\\n   \"717226240\": 1,\\n   \"794820757\": 1,\\n   \"717226035\": 1,\\n   \"796918000\": 1,\\n   \"719323278\": 1,\\n   \"741343499\": 1,\\n   \"800063581\": 1,\\n   \"717226241\": 1,\\n   \"794820758\": 1,\\n   \"717226036\": 1,\\n   \"796918001\": 1,\\n   \"719323279\": 1,\\n   \"741343500\": 1,\\n   \"794820834\": 1,\\n   \"717226112\": 1,\\n   \"719323355\": 1,\\n   \"722468935\": 1,\\n   \"800063657\": 1,\\n   \"717226317\": 1,\\n   \"800063582\": 1,\\n   \"717226242\": 1,\\n   \"794820759\": 1,\\n   \"717226037\": 1,\\n   \"796918002\": 1,\\n   \"719323280\": 1,\\n   \"741343501\": 1,\\n   \"794820835\": 1,\\n   \"717226113\": 1,\\n   \"719323356\": 1,\\n   \"722468936\": 1,\\n   \"800063658\": 1,\\n   \"800063583\": 1,\\n   \"717226243\": 1,\\n   \"794820760\": 1,\\n   \"717226038\": 1,\\n   \"796918003\": 1,\\n   \"719323281\": 1,\\n   \"741343502\": 1,\\n   \"794820836\": 1,\\n   \"717226114\": 1,\\n   \"719323357\": 1,\\n   \"722468937\": 1,\\n   \"800063659\": 1,\\n   \"800063584\": 1,\\n   \"717226244\": 1,\\n   \"794820761\": 1,\\n   \"717226039\": 1,\\n   \"796918004\": 1,\\n   \"719323282\": 1,\\n   \"741343503\": 1,\\n   \"794820837\": 1,\\n   \"717226115\": 1,\\n   \"719323358\": 1,\\n   \"705691841\": 1,\\n   \"722468938\": 1,\\n   \"800063660\": 1,\\n   \"800063585\": 1,\\n   \"717226245\": 1,\\n   \"794820762\": 1,\\n   \"717226040\": 1,\\n   \"796918005\": 1,\\n   \"719323283\": 1,\\n   \"741343504\": 1,\\n   \"794820838\": 1,\\n   \"717226116\": 1,\\n   \"719323359\": 1,\\n   \"705691842\": 1,\\n   \"722468939\": 1,\\n   \"800063661\": 1,\\n   \"717226246\": 1,\\n   \"794820763\": 1,\\n   \"717226041\": 1,\\n   \"796918006\": 1,\\n   \"719323284\": 1,\\n   \"741343505\": 1,\\n   \"735051776\": 1,\\n   \"794820839\": 1,\\n   \"717226117\": 1,\\n   \"719323360\": 1,\\n   \"705691843\": 1,\\n   \"722468940\": 1,\\n   \"800063662\": 1,\\n   \"741343523\": 1,\\n   \"735051794\": 1,\\n   \"717226247\": 1,\\n   \"794820764\": 1,\\n   \"717226042\": 1,\\n   \"796918007\": 1,\\n   \"719323285\": 1,\\n   \"741343506\": 1,\\n   \"735051777\": 1,\\n   \"794820840\": 1,\\n   \"717226118\": 1,\\n   \"719323361\": 1,\\n   \"705691844\": 1,\\n   \"722468941\": 1,\\n   \"800063663\": 1,\\n   \"800063537\": 1,\\n   \"717226197\": 1,\\n   \"719323440\": 1,\\n   \"794820714\": 1,\\n   \"717225992\": 1,\\n   \"796917957\": 1,\\n   \"719323235\": 1,\\n   \"741343524\": 1,\\n   \"735051795\": 1,\\n   \"717226248\": 1,\\n   \"794820765\": 1,\\n   \"717226043\": 1,\\n   \"796918008\": 1,\\n   \"719323286\": 1,\\n   \"741343507\": 1,\\n   \"735051778\": 1,\\n   \"794820841\": 1,\\n   \"717226119\": 1,\\n   \"719323362\": 1,\\n   \"705691845\": 1,\\n   \"722468942\": 1,\\n   \"800063664\": 1,\\n   \"741343522\": 1,\\n   \"735051793\": 1,\\n   \"741343521\": 1,\\n   \"735051792\": 1,\\n   \"741343520\": 1,\\n   \"735051791\": 1,\\n   \"741343519\": 1,\\n   \"735051790\": 1,\\n   \"741343518\": 1,\\n   \"735051789\": 1,\\n   \"741343517\": 1,\\n   \"735051788\": 1,\\n   \"741343516\": 1,\\n   \"735051787\": 1,\\n   \"741343515\": 1,\\n   \"735051786\": 1,\\n   \"741343514\": 1,\\n   \"735051785\": 1,\\n   \"741343513\": 1,\\n   \"735051784\": 1,\\n   \"741343512\": 1,\\n   \"735051783\": 1,\\n   \"741343511\": 1,\\n   \"735051782\": 1,\\n   \"741343510\": 1,\\n   \"735051781\": 1,\\n   \"794820844\": 1,\\n   \"717226122\": 1,\\n   \"719323365\": 1,\\n   \"705691848\": 1,\\n   \"722468945\": 1,\\n   \"800063667\": 1,\\n   \"741343509\": 1,\\n   \"735051780\": 1,\\n   \"794820843\": 1,\\n   \"717226121\": 1,\\n   \"719323364\": 1,\\n   \"705691847\": 1,\\n   \"722468944\": 1,\\n   \"800063666\": 1,\\n   \"741343508\": 1,\\n   \"735051779\": 1,\\n   \"794820842\": 1,\\n   \"717226120\": 1,\\n   \"719323363\": 1,\\n   \"705691846\": 1,\\n   \"722468943\": 1,\\n   \"800063665\": 1,\\n   \"800063536\": 1,\\n   \"717226196\": 1,\\n   \"719323439\": 1,\\n   \"794820713\": 1,\\n   \"717225991\": 1,\\n   \"796917956\": 1,\\n   \"719323234\": 1,\\n   \"735051918\": 1,\\n   \"800063535\": 1,\\n   \"717226195\": 1,\\n   \"719323438\": 1,\\n   \"794820712\": 1,\\n   \"717225990\": 1,\\n   \"796917955\": 1,\\n   \"719323233\": 1,\\n   \"735051917\": 1,\\n   \"800063534\": 1,\\n   \"717226194\": 1,\\n   \"719323437\": 1,\\n   \"794820711\": 1,\\n   \"717225989\": 1,\\n   \"796917954\": 1,\\n   \"719323232\": 1,\\n   \"735051916\": 1,\\n   \"800063533\": 1,\\n   \"717226193\": 1,\\n   \"719323436\": 1,\\n   \"794820710\": 1,\\n   \"717225988\": 1,\\n   \"796917953\": 1,\\n   \"719323231\": 1,\\n   \"735051915\": 1,\\n   \"800063532\": 1,\\n   \"717226192\": 1,\\n   \"719323435\": 1,\\n   \"794820709\": 1,\\n   \"717225987\": 1,\\n   \"796917952\": 1,\\n   \"719323230\": 1,\\n   \"735051914\": 1,\\n   \"800063531\": 1,\\n   \"717226191\": 1,\\n   \"719323434\": 1,\\n   \"794820708\": 1,\\n   \"717225986\": 1,\\n   \"796917951\": 1,\\n   \"719323229\": 1,\\n   \"735051913\": 1,\\n   \"800063530\": 1,\\n   \"717226190\": 1,\\n   \"719323433\": 1,\\n   \"794820707\": 1,\\n   \"717225985\": 1,\\n   \"796917950\": 1,\\n   \"719323228\": 1,\\n   \"735051912\": 1,\\n   \"800063529\": 1,\\n   \"717226189\": 1,\\n   \"719323432\": 1,\\n   \"794820706\": 1,\\n   \"717225984\": 1,\\n   \"796917949\": 1,\\n   \"719323227\": 1,\\n   \"735051911\": 1,\\n   \"735051910\": 1,\\n   \"735051909\": 1,\\n   \"735051908\": 1,\\n   \"735051907\": 1,\\n   \"794820780\": 1,\\n   \"717226058\": 1,\\n   \"796918023\": 1,\\n   \"719323301\": 1,\\n   \"717226263\": 1,\\n   \"735051906\": 1,\\n   \"794820779\": 1,\\n   \"717226057\": 1,\\n   \"796918022\": 1,\\n   \"719323300\": 1,\\n   \"717226262\": 1,\\n   \"735051905\": 1,\\n   \"794820778\": 1,\\n   \"717226056\": 1,\\n   \"796918021\": 1,\\n   \"719323299\": 1,\\n   \"717226261\": 1,\\n   \"735051904\": 1,\\n   \"794820777\": 1,\\n   \"717226055\": 1,\\n   \"796918020\": 1,\\n   \"719323298\": 1,\\n   \"717226260\": 1,\\n   \"735051903\": 1,\\n   \"794820776\": 1,\\n   \"717226054\": 1,\\n   \"796918019\": 1,\\n   \"719323297\": 1,\\n   \"717226259\": 1,\\n   \"735051902\": 1,\\n   \"794820775\": 1,\\n   \"717226053\": 1,\\n   \"796918018\": 1,\\n   \"719323296\": 1,\\n   \"717226258\": 1,\\n   \"735051901\": 1,\\n   \"794820774\": 1,\\n   \"717226052\": 1,\\n   \"796918017\": 1,\\n   \"719323295\": 1,\\n   \"717226257\": 1,\\n   \"735051900\": 1,\\n   \"794820773\": 1,\\n   \"717226051\": 1,\\n   \"796918016\": 1,\\n   \"719323294\": 1,\\n   \"717226256\": 1,\\n   \"735051899\": 1,\\n   \"794820772\": 1,\\n   \"717226050\": 1,\\n   \"796918015\": 1,\\n   \"719323293\": 1,\\n   \"717226255\": 1,\\n   \"735051898\": 1,\\n   \"794820768\": 1,\\n   \"717226046\": 1,\\n   \"796918011\": 1,\\n   \"719323289\": 1,\\n   \"717226251\": 1,\\n   \"794820771\": 1,\\n   \"717226049\": 1,\\n   \"796918014\": 1,\\n   \"719323292\": 1,\\n   \"717226254\": 1,\\n   \"735051897\": 1,\\n   \"794820767\": 1,\\n   \"717226045\": 1,\\n   \"796918010\": 1,\\n   \"719323288\": 1,\\n   \"717226250\": 1,\\n   \"794820770\": 1,\\n   \"717226048\": 1,\\n   \"796918013\": 1,\\n   \"719323291\": 1,\\n   \"717226253\": 1,\\n   \"735051896\": 1,\\n   \"794820766\": 1,\\n   \"717226044\": 1,\\n   \"796918009\": 1,\\n   \"719323287\": 1,\\n   \"717226249\": 1,\\n   \"794820769\": 1,\\n   \"717226047\": 1,\\n   \"796918012\": 1,\\n   \"719323290\": 1,\\n   \"717226252\": 1,\\n   \"735051895\": 1,\\n   \"722468991\": 1,\\n   \"800063713\": 1,\\n   \"705691894\": 1,\\n   \"809500735\": 1,\\n   \"800063541\": 1,\\n   \"717226201\": 1,\\n   \"794820718\": 1,\\n   \"717225996\": 1,\\n   \"796917961\": 1,\\n   \"719323239\": 1,\\n   \"735051844\": 1,\\n   \"722468990\": 1,\\n   \"800063712\": 1,\\n   \"705691893\": 1,\\n   \"809500734\": 1,\\n   \"800063540\": 1,\\n   \"717226200\": 1,\\n   \"794820717\": 1,\\n   \"717225995\": 1,\\n   \"796917960\": 1,\\n   \"719323238\": 1,\\n   \"735051843\": 1,\\n   \"722468989\": 1,\\n   \"800063711\": 1,\\n   \"705691892\": 1,\\n   \"809500733\": 1,\\n   \"722468988\": 1,\\n   \"800063710\": 1,\\n   \"705691891\": 1,\\n   \"809500732\": 1,\\n   \"722468987\": 1,\\n   \"800063709\": 1,\\n   \"705691890\": 1,\\n   \"809500731\": 1,\\n   \"722468986\": 1,\\n   \"800063708\": 1,\\n   \"705691889\": 1,\\n   \"809500730\": 1,\\n   \"722468985\": 1,\\n   \"800063707\": 1,\\n   \"705691888\": 1,\\n   \"809500729\": 1,\\n   \"722468984\": 1,\\n   \"800063706\": 1,\\n   \"705691887\": 1,\\n   \"809500728\": 1,\\n   \"722468983\": 1,\\n   \"800063705\": 1,\\n   \"705691886\": 1,\\n   \"809500727\": 1,\\n   \"722468982\": 1,\\n   \"800063704\": 1,\\n   \"705691885\": 1,\\n   \"809500726\": 1,\\n   \"722468981\": 1,\\n   \"800063703\": 1,\\n   \"705691884\": 1,\\n   \"809500725\": 1,\\n   \"722468980\": 1,\\n   \"800063702\": 1,\\n   \"705691883\": 1,\\n   \"809500724\": 1,\\n   \"722468979\": 1,\\n   \"800063701\": 1,\\n   \"705691882\": 1,\\n   \"809500723\": 1,\\n   \"722468978\": 1,\\n   \"800063700\": 1,\\n   \"705691881\": 1,\\n   \"809500722\": 1,\\n   \"722468977\": 1,\\n   \"800063699\": 1,\\n   \"705691880\": 1,\\n   \"809500721\": 1,\\n   \"722468976\": 1,\\n   \"800063698\": 1,\\n   \"705691879\": 1,\\n   \"809500720\": 1,\\n   \"722468975\": 1,\\n   \"800063697\": 1,\\n   \"705691878\": 1,\\n   \"809500719\": 1,\\n   \"722468974\": 1,\\n   \"800063696\": 1,\\n   \"705691877\": 1,\\n   \"809500718\": 1,\\n   \"722468973\": 1,\\n   \"800063695\": 1,\\n   \"705691876\": 1,\\n   \"809500717\": 1,\\n   \"722468972\": 1,\\n   \"800063694\": 1,\\n   \"705691875\": 1,\\n   \"809500716\": 1,\\n   \"722468971\": 1,\\n   \"800063693\": 1,\\n   \"705691874\": 1,\\n   \"809500715\": 1,\\n   \"794820869\": 1,\\n   \"717226147\": 1,\\n   \"719323390\": 1,\\n   \"722468970\": 1,\\n   \"800063692\": 1,\\n   \"705691873\": 1,\\n   \"809500714\": 1,\\n   \"794820868\": 1,\\n   \"717226146\": 1,\\n   \"719323389\": 1,\\n   \"722468969\": 1,\\n   \"800063691\": 1,\\n   \"705691872\": 1,\\n   \"809500713\": 1,\\n   \"794820867\": 1,\\n   \"717226145\": 1,\\n   \"719323388\": 1,\\n   \"722468968\": 1,\\n   \"800063690\": 1,\\n   \"705691871\": 1,\\n   \"809500712\": 1,\\n   \"794820854\": 1,\\n   \"717226132\": 1,\\n   \"719323375\": 1,\\n   \"722468955\": 1,\\n   \"800063677\": 1,\\n   \"705691858\": 1,\\n   \"800063595\": 1,\\n   \"722468873\": 1,\\n   \"809500699\": 1,\\n   \"794820853\": 1,\\n   \"717226131\": 1,\\n   \"719323374\": 1,\\n   \"722468954\": 1,\\n   \"800063676\": 1,\\n   \"705691857\": 1,\\n   \"800063594\": 1,\\n   \"722468872\": 1,\\n   \"809500698\": 1,\\n   \"794820852\": 1,\\n   \"717226130\": 1,\\n   \"719323373\": 1,\\n   \"722468953\": 1,\\n   \"800063675\": 1,\\n   \"705691856\": 1,\\n   \"800063593\": 1,\\n   \"722468871\": 1,\\n   \"809500697\": 1,\\n   \"794820851\": 1,\\n   \"717226129\": 1,\\n   \"719323372\": 1,\\n   \"722468952\": 1,\\n   \"800063674\": 1,\\n   \"705691855\": 1,\\n   \"800063592\": 1,\\n   \"722468870\": 1,\\n   \"809500696\": 1,\\n   \"794820850\": 1,\\n   \"717226128\": 1,\\n   \"719323371\": 1,\\n   \"722468951\": 1,\\n   \"800063673\": 1,\\n   \"705691854\": 1,\\n   \"800063591\": 1,\\n   \"722468869\": 1,\\n   \"809500695\": 1,\\n   \"794820849\": 1,\\n   \"717226127\": 1,\\n   \"719323370\": 1,\\n   \"722468950\": 1,\\n   \"800063672\": 1,\\n   \"705691853\": 1,\\n   \"800063590\": 1,\\n   \"722468868\": 1,\\n   \"809500694\": 1,\\n   \"794820848\": 1,\\n   \"717226126\": 1,\\n   \"719323369\": 1,\\n   \"722468949\": 1,\\n   \"800063671\": 1,\\n   \"705691852\": 1,\\n   \"800063589\": 1,\\n   \"722468867\": 1,\\n   \"809500693\": 1,\\n   \"794820847\": 1,\\n   \"717226125\": 1,\\n   \"719323368\": 1,\\n   \"722468948\": 1,\\n   \"800063670\": 1,\\n   \"705691851\": 1,\\n   \"800063588\": 1,\\n   \"722468866\": 1,\\n   \"809500692\": 1,\\n   \"794820846\": 1,\\n   \"717226124\": 1,\\n   \"719323367\": 1,\\n   \"722468947\": 1,\\n   \"800063669\": 1,\\n   \"705691850\": 1,\\n   \"800063587\": 1,\\n   \"722468865\": 1,\\n   \"809500691\": 1,\\n   \"794820845\": 1,\\n   \"717226123\": 1,\\n   \"719323366\": 1,\\n   \"722468946\": 1,\\n   \"800063668\": 1,\\n   \"705691849\": 1,\\n   \"800063586\": 1,\\n   \"722468864\": 1,\\n   \"809500690\": 1,\\n   \"794820855\": 1,\\n   \"717226133\": 1,\\n   \"719323376\": 1,\\n   \"722468956\": 1,\\n   \"800063678\": 1,\\n   \"705691859\": 1,\\n   \"800063596\": 1,\\n   \"722468874\": 1,\\n   \"809500700\": 1,\\n   \"794820856\": 1,\\n   \"717226134\": 1,\\n   \"719323377\": 1,\\n   \"722468957\": 1,\\n   \"800063679\": 1,\\n   \"705691860\": 1,\\n   \"800063597\": 1,\\n   \"722468875\": 1,\\n   \"809500701\": 1,\\n   \"794820857\": 1,\\n   \"717226135\": 1,\\n   \"719323378\": 1,\\n   \"722468958\": 1,\\n   \"800063680\": 1,\\n   \"705691861\": 1,\\n   \"800063598\": 1,\\n   \"722468876\": 1,\\n   \"809500702\": 1,\\n   \"794820858\": 1,\\n   \"717226136\": 1,\\n   \"719323379\": 1,\\n   \"722468959\": 1,\\n   \"800063681\": 1,\\n   \"705691862\": 1,\\n   \"800063599\": 1,\\n   \"722468877\": 1,\\n   \"809500703\": 1,\\n   \"794820859\": 1,\\n   \"717226137\": 1,\\n   \"719323380\": 1,\\n   \"722468960\": 1,\\n   \"800063682\": 1,\\n   \"705691863\": 1,\\n   \"800063600\": 1,\\n   \"722468878\": 1,\\n   \"809500704\": 1,\\n   \"794820860\": 1,\\n   \"717226138\": 1,\\n   \"719323381\": 1,\\n   \"722468961\": 1,\\n   \"800063683\": 1,\\n   \"705691864\": 1,\\n   \"800063601\": 1,\\n   \"722468879\": 1,\\n   \"809500705\": 1,\\n   \"794820861\": 1,\\n   \"717226139\": 1,\\n   \"719323382\": 1,\\n   \"722468962\": 1,\\n   \"800063684\": 1,\\n   \"705691865\": 1,\\n   \"800063602\": 1,\\n   \"722468880\": 1,\\n   \"809500706\": 1,\\n   \"794820862\": 1,\\n   \"717226140\": 1,\\n   \"719323383\": 1,\\n   \"722468963\": 1,\\n   \"800063685\": 1,\\n   \"705691866\": 1,\\n   \"800063603\": 1,\\n   \"722468881\": 1,\\n   \"809500707\": 1,\\n   \"794820863\": 1,\\n   \"717226141\": 1,\\n   \"719323384\": 1,\\n   \"722468964\": 1,\\n   \"800063686\": 1,\\n   \"705691867\": 1,\\n   \"809500708\": 1,\\n   \"794820864\": 1,\\n   \"717226142\": 1,\\n   \"719323385\": 1,\\n   \"722468965\": 1,\\n   \"800063687\": 1,\\n   \"705691868\": 1,\\n   \"809500709\": 1,\\n   \"794820865\": 1,\\n   \"717226143\": 1,\\n   \"719323386\": 1,\\n   \"722468966\": 1,\\n   \"800063688\": 1,\\n   \"705691869\": 1,\\n   \"809500710\": 1,\\n   \"794820866\": 1,\\n   \"717226144\": 1,\\n   \"719323387\": 1,\\n   \"722468967\": 1,\\n   \"800063689\": 1,\\n   \"705691870\": 1,\\n   \"809500711\": 1,\\n   \"722468992\": 1,\\n   \"800063714\": 1,\\n   \"705691895\": 1,\\n   \"809500736\": 1,\\n   \"800063542\": 1,\\n   \"717226202\": 1,\\n   \"794820719\": 1,\\n   \"717225997\": 1,\\n   \"796917962\": 1,\\n   \"719323240\": 1,\\n   \"735051845\": 1,\\n   \"722468993\": 1,\\n   \"800063715\": 1,\\n   \"705691896\": 1,\\n   \"809500737\": 1,\\n   \"800063543\": 1,\\n   \"717226203\": 1,\\n   \"794820720\": 1,\\n   \"717225998\": 1,\\n   \"796917963\": 1,\\n   \"719323241\": 1,\\n   \"735051846\": 1,\\n   \"722468994\": 1,\\n   \"800063716\": 1,\\n   \"705691897\": 1,\\n   \"809500738\": 1,\\n   \"800063544\": 1,\\n   \"717226204\": 1,\\n   \"794820721\": 1,\\n   \"717225999\": 1,\\n   \"796917964\": 1,\\n   \"719323242\": 1,\\n   \"735051847\": 1,\\n   \"722468995\": 1,\\n   \"800063717\": 1,\\n   \"705691898\": 1,\\n   \"809500739\": 1,\\n   \"800063545\": 1,\\n   \"717226205\": 1,\\n   \"794820722\": 1,\\n   \"717226000\": 1,\\n   \"796917965\": 1,\\n   \"719323243\": 1,\\n   \"735051848\": 1,\\n   \"722468996\": 1,\\n   \"800063718\": 1,\\n   \"705691899\": 1,\\n   \"809500740\": 1,\\n   \"800063546\": 1,\\n   \"717226206\": 1,\\n   \"794820723\": 1,\\n   \"717226001\": 1,\\n   \"796917966\": 1,\\n   \"719323244\": 1,\\n   \"735051849\": 1,\\n   \"722468997\": 1,\\n   \"800063719\": 1,\\n   \"705691900\": 1,\\n   \"809500741\": 1,\\n   \"800063547\": 1,\\n   \"717226207\": 1,\\n   \"794820724\": 1,\\n   \"717226002\": 1,\\n   \"796917967\": 1,\\n   \"719323245\": 1,\\n   \"735051850\": 1,\\n   \"722468998\": 1,\\n   \"800063720\": 1,\\n   \"705691901\": 1,\\n   \"809500742\": 1,\\n   \"800063548\": 1,\\n   \"717226208\": 1,\\n   \"794820725\": 1,\\n   \"717226003\": 1,\\n   \"796917968\": 1,\\n   \"719323246\": 1,\\n   \"735051851\": 1,\\n   \"722468999\": 1,\\n   \"800063721\": 1,\\n   \"705691902\": 1,\\n   \"809500743\": 1,\\n   \"800063549\": 1,\\n   \"717226209\": 1,\\n   \"794820726\": 1,\\n   \"717226004\": 1,\\n   \"796917969\": 1,\\n   \"719323247\": 1,\\n   \"735051852\": 1,\\n   \"722469000\": 1,\\n   \"800063722\": 1,\\n   \"705691903\": 1,\\n   \"809500744\": 1,\\n   \"800063550\": 1,\\n   \"717226210\": 1,\\n   \"794820727\": 1,\\n   \"717226005\": 1,\\n   \"796917970\": 1,\\n   \"719323248\": 1,\\n   \"735051853\": 1,\\n   \"722469001\": 1,\\n   \"800063723\": 1,\\n   \"705691904\": 1,\\n   \"809500745\": 1,\\n   \"800063551\": 1,\\n   \"717226211\": 1,\\n   \"794820728\": 1,\\n   \"717226006\": 1,\\n   \"796917971\": 1,\\n   \"719323249\": 1,\\n   \"735051854\": 1,\\n   \"722469002\": 1,\\n   \"800063724\": 1,\\n   \"705691905\": 1,\\n   \"809500746\": 1,\\n   \"800063552\": 1,\\n   \"717226212\": 1,\\n   \"794820729\": 1,\\n   \"717226007\": 1,\\n   \"796917972\": 1,\\n   \"719323250\": 1,\\n   \"735051855\": 1,\\n   \"722469003\": 1,\\n   \"800063725\": 1,\\n   \"705691906\": 1,\\n   \"809500747\": 1,\\n   \"735051856\": 1,\\n   \"722469004\": 1,\\n   \"800063726\": 1,\\n   \"705691907\": 1,\\n   \"809500748\": 1,\\n   \"800063554\": 1,\\n   \"717226214\": 1,\\n   \"794820731\": 1,\\n   \"717226009\": 1,\\n   \"796917974\": 1,\\n   \"719323252\": 1,\\n   \"735051857\": 1,\\n   \"809500749\": 1,\\n   \"800063555\": 1,\\n   \"717226215\": 1,\\n   \"794820732\": 1,\\n   \"717226010\": 1,\\n   \"796917975\": 1,\\n   \"719323253\": 1,\\n   \"735051858\": 1,\\n   \"809500750\": 1,\\n   \"794820730\": 1,\\n   \"717226008\": 1,\\n   \"796917973\": 1,\\n   \"719323251\": 1,\\n   \"800063553\": 1,\\n   \"717226213\": 1,\\n   \"800063556\": 1,\\n   \"717226216\": 1,\\n   \"794820733\": 1,\\n   \"717226011\": 1,\\n   \"796917976\": 1,\\n   \"719323254\": 1,\\n   \"735051859\": 1,\\n   \"722468934\": 1,\\n   \"800063656\": 1,\\n   \"717226316\": 1,\\n   \"794820833\": 1,\\n   \"717226111\": 1,\\n   \"719323354\": 1,\\n   \"722468933\": 1,\\n   \"800063655\": 1,\\n   \"717226315\": 1,\\n   \"794820832\": 1,\\n   \"717226110\": 1,\\n   \"719323353\": 1,\\n   \"722468932\": 1,\\n   \"800063654\": 1,\\n   \"717226314\": 1,\\n   \"794820831\": 1,\\n   \"717226109\": 1,\\n   \"719323352\": 1,\\n   \"722468931\": 1,\\n   \"800063653\": 1,\\n   \"717226313\": 1,\\n   \"794820830\": 1,\\n   \"717226108\": 1,\\n   \"719323351\": 1,\\n   \"722468930\": 1,\\n   \"800063652\": 1,\\n   \"717226312\": 1,\\n   \"794820829\": 1,\\n   \"717226107\": 1,\\n   \"719323350\": 1,\\n   \"722468929\": 1,\\n   \"800063651\": 1,\\n   \"717226311\": 1,\\n   \"794820828\": 1,\\n   \"717226106\": 1,\\n   \"719323349\": 1,\\n   \"722468928\": 1,\\n   \"800063650\": 1,\\n   \"717226310\": 1,\\n   \"794820827\": 1,\\n   \"717226105\": 1,\\n   \"719323348\": 1,\\n   \"722468927\": 1,\\n   \"800063649\": 1,\\n   \"717226309\": 1,\\n   \"794820826\": 1,\\n   \"717226104\": 1,\\n   \"719323347\": 1,\\n   \"722468926\": 1,\\n   \"800063648\": 1,\\n   \"717226308\": 1,\\n   \"794820825\": 1,\\n   \"717226103\": 1,\\n   \"719323346\": 1,\\n   \"722468925\": 1,\\n   \"800063647\": 1,\\n   \"717226307\": 1,\\n   \"794820824\": 1,\\n   \"717226102\": 1,\\n   \"719323345\": 1,\\n   \"722468924\": 1,\\n   \"800063646\": 1,\\n   \"717226306\": 1,\\n   \"794820823\": 1,\\n   \"717226101\": 1,\\n   \"719323344\": 1,\\n   \"722468923\": 1,\\n   \"800063645\": 1,\\n   \"717226305\": 1,\\n   \"794820822\": 1,\\n   \"717226100\": 1,\\n   \"719323343\": 1,\\n   \"722468922\": 1,\\n   \"800063644\": 1,\\n   \"717226304\": 1,\\n   \"794820821\": 1,\\n   \"717226099\": 1,\\n   \"719323342\": 1,\\n   \"722468921\": 1,\\n   \"800063643\": 1,\\n   \"717226303\": 1,\\n   \"794820820\": 1,\\n   \"717226098\": 1,\\n   \"719323341\": 1,\\n   \"722468920\": 1,\\n   \"800063642\": 1,\\n   \"717226302\": 1,\\n   \"794820819\": 1,\\n   \"717226097\": 1,\\n   \"719323340\": 1,\\n   \"722468919\": 1,\\n   \"800063641\": 1,\\n   \"717226301\": 1,\\n   \"794820818\": 1,\\n   \"717226096\": 1,\\n   \"719323339\": 1,\\n   \"722468918\": 1,\\n   \"800063640\": 1,\\n   \"717226300\": 1,\\n   \"794820817\": 1,\\n   \"717226095\": 1,\\n   \"719323338\": 1,\\n   \"722468917\": 1,\\n   \"800063639\": 1,\\n   \"717226299\": 1,\\n   \"794820816\": 1,\\n   \"717226094\": 1,\\n   \"719323337\": 1,\\n   \"722468916\": 1,\\n   \"800063638\": 1,\\n   \"717226298\": 1,\\n   \"794820815\": 1,\\n   \"717226093\": 1,\\n   \"719323336\": 1,\\n   \"722468915\": 1,\\n   \"800063637\": 1,\\n   \"717226297\": 1,\\n   \"794820814\": 1,\\n   \"717226092\": 1,\\n   \"719323335\": 1,\\n   \"722468914\": 1,\\n   \"800063636\": 1,\\n   \"717226296\": 1,\\n   \"794820813\": 1,\\n   \"717226091\": 1,\\n   \"796918056\": 1,\\n   \"719323334\": 1,\\n   \"722468913\": 1,\\n   \"800063635\": 1,\\n   \"717226295\": 1,\\n   \"794820812\": 1,\\n   \"717226090\": 1,\\n   \"796918055\": 1,\\n   \"719323333\": 1,\\n   \"722468912\": 1,\\n   \"800063634\": 1,\\n   \"717226294\": 1,\\n   \"794820811\": 1,\\n   \"717226089\": 1,\\n   \"796918054\": 1,\\n   \"719323332\": 1,\\n   \"722468911\": 1,\\n   \"800063633\": 1,\\n   \"717226293\": 1,\\n   \"794820810\": 1,\\n   \"717226088\": 1,\\n   \"796918053\": 1,\\n   \"719323331\": 1,\\n   \"722468910\": 1,\\n   \"800063632\": 1,\\n   \"717226292\": 1,\\n   \"794820809\": 1,\\n   \"717226087\": 1,\\n   \"796918052\": 1,\\n   \"719323330\": 1,\\n   \"722468909\": 1,\\n   \"800063631\": 1,\\n   \"717226291\": 1,\\n   \"794820808\": 1,\\n   \"717226086\": 1,\\n   \"796918051\": 1,\\n   \"719323329\": 1,\\n   \"722468908\": 1,\\n   \"800063630\": 1,\\n   \"717226290\": 1,\\n   \"794820807\": 1,\\n   \"717226085\": 1,\\n   \"796918050\": 1,\\n   \"719323328\": 1,\\n   \"722468907\": 1,\\n   \"800063629\": 1,\\n   \"717226289\": 1,\\n   \"794820806\": 1,\\n   \"717226084\": 1,\\n   \"796918049\": 1,\\n   \"719323327\": 1,\\n   \"722468906\": 1,\\n   \"800063628\": 1,\\n   \"717226288\": 1,\\n   \"794820805\": 1,\\n   \"717226083\": 1,\\n   \"796918048\": 1,\\n   \"719323326\": 1,\\n   \"722468905\": 1,\\n   \"800063627\": 1,\\n   \"717226287\": 1,\\n   \"794820804\": 1,\\n   \"717226082\": 1,\\n   \"796918047\": 1,\\n   \"719323325\": 1,\\n   \"722468904\": 1,\\n   \"800063626\": 1,\\n   \"717226286\": 1,\\n   \"794820803\": 1,\\n   \"717226081\": 1,\\n   \"796918046\": 1,\\n   \"719323324\": 1,\\n   \"722468903\": 1,\\n   \"800063625\": 1,\\n   \"717226285\": 1,\\n   \"794820802\": 1,\\n   \"717226080\": 1,\\n   \"796918045\": 1,\\n   \"719323323\": 1,\\n   \"722468882\": 1,\\n   \"800063604\": 1,\\n   \"717226264\": 1,\\n   \"794820781\": 1,\\n   \"717226059\": 1,\\n   \"796918024\": 1,\\n   \"719323302\": 1,\\n   \"722468883\": 1,\\n   \"800063605\": 1,\\n   \"717226265\": 1,\\n   \"794820782\": 1,\\n   \"717226060\": 1,\\n   \"796918025\": 1,\\n   \"719323303\": 1,\\n   \"722468884\": 1,\\n   \"800063606\": 1,\\n   \"717226266\": 1,\\n   \"794820783\": 1,\\n   \"717226061\": 1,\\n   \"796918026\": 1,\\n   \"719323304\": 1,\\n   \"722468885\": 1,\\n   \"800063607\": 1,\\n   \"717226267\": 1,\\n   \"794820784\": 1,\\n   \"717226062\": 1,\\n   \"796918027\": 1,\\n   \"719323305\": 1,\\n   \"722468886\": 1,\\n   \"800063608\": 1,\\n   \"717226268\": 1,\\n   \"794820785\": 1,\\n   \"717226063\": 1,\\n   \"796918028\": 1,\\n   \"719323306\": 1,\\n   \"722468887\": 1,\\n   \"800063609\": 1,\\n   \"717226269\": 1,\\n   \"794820786\": 1,\\n   \"717226064\": 1,\\n   \"796918029\": 1,\\n   \"719323307\": 1,\\n   \"722468888\": 1,\\n   \"800063610\": 1,\\n   \"717226270\": 1,\\n   \"794820787\": 1,\\n   \"717226065\": 1,\\n   \"796918030\": 1,\\n   \"719323308\": 1,\\n   \"722468889\": 1,\\n   \"800063611\": 1,\\n   \"717226271\": 1,\\n   \"794820788\": 1,\\n   \"717226066\": 1,\\n   \"796918031\": 1,\\n   \"719323309\": 1,\\n   \"722468890\": 1,\\n   \"800063612\": 1,\\n   \"717226272\": 1,\\n   \"794820789\": 1,\\n   \"717226067\": 1,\\n   \"796918032\": 1,\\n   \"719323310\": 1,\\n   \"722468891\": 1,\\n   \"800063613\": 1,\\n   \"717226273\": 1,\\n   \"794820790\": 1,\\n   \"717226068\": 1,\\n   \"796918033\": 1,\\n   \"719323311\": 1,\\n   \"722468892\": 1,\\n   \"800063614\": 1,\\n   \"717226274\": 1,\\n   \"794820791\": 1,\\n   \"717226069\": 1,\\n   \"796918034\": 1,\\n   \"719323312\": 1,\\n   \"722468893\": 1,\\n   \"800063615\": 1,\\n   \"717226275\": 1,\\n   \"794820792\": 1,\\n   \"717226070\": 1,\\n   \"796918035\": 1,\\n   \"719323313\": 1,\\n   \"722468894\": 1,\\n   \"800063616\": 1,\\n   \"717226276\": 1,\\n   \"794820793\": 1,\\n   \"717226071\": 1,\\n   \"796918036\": 1,\\n   \"719323314\": 1,\\n   \"722468895\": 1,\\n   \"800063617\": 1,\\n   \"717226277\": 1,\\n   \"794820794\": 1,\\n   \"717226072\": 1,\\n   \"796918037\": 1,\\n   \"719323315\": 1,\\n   \"722468896\": 1,\\n   \"800063618\": 1,\\n   \"717226278\": 1,\\n   \"794820795\": 1,\\n   \"717226073\": 1,\\n   \"796918038\": 1,\\n   \"719323316\": 1,\\n   \"722468897\": 1,\\n   \"800063619\": 1,\\n   \"717226279\": 1,\\n   \"794820796\": 1,\\n   \"717226074\": 1,\\n   \"796918039\": 1,\\n   \"719323317\": 1,\\n   \"722468898\": 1,\\n   \"800063620\": 1,\\n   \"717226280\": 1,\\n   \"794820797\": 1,\\n   \"717226075\": 1,\\n   \"796918040\": 1,\\n   \"719323318\": 1,\\n   \"722468899\": 1,\\n   \"800063621\": 1,\\n   \"717226281\": 1,\\n   \"794820798\": 1,\\n   \"717226076\": 1,\\n   \"796918041\": 1,\\n   \"719323319\": 1,\\n   \"722468900\": 1,\\n   \"800063622\": 1,\\n   \"717226282\": 1,\\n   \"794820799\": 1,\\n   \"717226077\": 1,\\n   \"796918042\": 1,\\n   \"719323320\": 1,\\n   \"722468901\": 1,\\n   \"800063623\": 1,\\n   \"717226283\": 1,\\n   \"794820800\": 1,\\n   \"717226078\": 1,\\n   \"796918043\": 1,\\n   \"719323321\": 1,\\n   \"722468902\": 1,\\n   \"800063624\": 1,\\n   \"717226284\": 1,\\n   \"794820801\": 1,\\n   \"717226079\": 1,\\n   \"796918044\": 1,\\n   \"719323322\": 1,\\n   \"722469005\": 1,\\n   \"800063727\": 1,\\n   \"705691908\": 1,\\n   \"722469006\": 1,\\n   \"800063728\": 1,\\n   \"705691909\": 1,\\n   \"722469007\": 1,\\n   \"800063729\": 1,\\n   \"705691910\": 1,\\n   \"722469008\": 1,\\n   \"800063730\": 1,\\n   \"705691911\": 1,\\n   \"722469009\": 1,\\n   \"800063731\": 1,\\n   \"705691912\": 1,\\n   \"722469010\": 1,\\n   \"800063732\": 1,\\n   \"705691913\": 1,\\n   \"722469011\": 1,\\n   \"800063733\": 1,\\n   \"705691914\": 1,\\n   \"722469012\": 1,\\n   \"800063734\": 1,\\n   \"705691915\": 1,\\n   \"722469013\": 1,\\n   \"800063735\": 1,\\n   \"705691916\": 1,\\n   \"722469014\": 1,\\n   \"800063736\": 1,\\n   \"705691917\": 1,\\n   \"722469015\": 1,\\n   \"800063737\": 1,\\n   \"705691918\": 1,\\n   \"722469016\": 1,\\n   \"800063738\": 1,\\n   \"705691919\": 1,\\n   \"722469017\": 1,\\n   \"800063739\": 1,\\n   \"705691920\": 1,\\n   \"722469018\": 1,\\n   \"800063740\": 1,\\n   \"705691921\": 1,\\n   \"722469019\": 1,\\n   \"800063741\": 1,\\n   \"705691922\": 1,\\n   \"722469020\": 1,\\n   \"800063742\": 1,\\n   \"705691923\": 1,\\n   \"722469021\": 1,\\n   \"800063743\": 1,\\n   \"705691924\": 1,\\n   \"722469022\": 1,\\n   \"800063744\": 1,\\n   \"705691925\": 1,\\n   \"722469023\": 1,\\n   \"800063745\": 1,\\n   \"705691926\": 1,\\n   \"722469024\": 1,\\n   \"800063746\": 1,\\n   \"705691927\": 1,\\n   \"722469025\": 1,\\n   \"800063747\": 1,\\n   \"705691928\": 1,\\n   \"722469026\": 1,\\n   \"800063748\": 1,\\n   \"705691929\": 1,\\n   \"722469027\": 1,\\n   \"800063749\": 1,\\n   \"705691930\": 1,\\n   \"722469028\": 1,\\n   \"800063750\": 1,\\n   \"705691931\": 1,\\n   \"722469029\": 1,\\n   \"800063751\": 1,\\n   \"705691932\": 1,\\n   \"722469030\": 1,\\n   \"800063752\": 1,\\n   \"705691933\": 1,\\n   \"722469031\": 1,\\n   \"800063753\": 1,\\n   \"705691934\": 1,\\n   \"722469032\": 1,\\n   \"800063754\": 1,\\n   \"705691935\": 1,\\n   \"722469033\": 1,\\n   \"800063755\": 1,\\n   \"705691936\": 1,\\n   \"722469034\": 1,\\n   \"800063756\": 1,\\n   \"705691937\": 1,\\n   \"722469035\": 1,\\n   \"800063757\": 1,\\n   \"705691938\": 1,\\n   \"722469036\": 1,\\n   \"800063758\": 1,\\n   \"705691939\": 1,\\n   \"722469037\": 1,\\n   \"800063759\": 1,\\n   \"705691940\": 1,\\n   \"722469038\": 1,\\n   \"800063760\": 1,\\n   \"705691941\": 1,\\n   \"796917820\": 1,\\n   \"705691942\": 1,\\n   \"796917821\": 1,\\n   \"705691943\": 1,\\n   \"796917822\": 1,\\n   \"705691944\": 1,\\n   \"796917823\": 1,\\n   \"705691945\": 1,\\n   \"796917824\": 1,\\n   \"705691946\": 1,\\n   \"796917825\": 1,\\n   \"705691947\": 1,\\n   \"796917826\": 1,\\n   \"705691948\": 1,\\n   \"796917827\": 1,\\n   \"705691949\": 1,\\n   \"796917828\": 1,\\n   \"705691950\": 1,\\n   \"796917829\": 1,\\n   \"705691951\": 1,\\n   \"796917830\": 1,\\n   \"705691952\": 1,\\n   \"796917831\": 1,\\n   \"705691953\": 1,\\n   \"796917832\": 1,\\n   \"705691954\": 1,\\n   \"796917833\": 1,\\n   \"705691955\": 1,\\n   \"705691956\": 1,\\n   \"705691957\": 1,\\n   \"705691958\": 1,\\n   \"705691959\": 1,\\n   \"705691960\": 1,\\n   \"705691961\": 1,\\n   \"705691962\": 1,\\n   \"705691963\": 1,\\n   \"705691964\": 1,\\n   \"705691965\": 1,\\n   \"705691966\": 1,\\n   \"782237745\": 1,\\n   \"743440384\": 1,\\n   \"782237746\": 1,\\n   \"743440385\": 1,\\n   \"782237747\": 1,\\n   \"743440386\": 1,\\n   \"782237748\": 1,\\n   \"743440387\": 1,\\n   \"735051821\": 1,\\n   \"735051820\": 1,\\n   \"735051819\": 1,\\n   \"735051818\": 1,\\n   \"735051817\": 1,\\n   \"735051816\": 1,\\n   \"735051815\": 1,\\n   \"735051814\": 1,\\n   \"735051813\": 1,\\n   \"735051812\": 1,\\n   \"735051811\": 1,\\n   \"735051822\": 1,\\n   \"735051823\": 1,\\n   \"735051824\": 1,\\n   \"735051825\": 1,\\n   \"735051826\": 1,\\n   \"735051827\": 1,\\n   \"735051828\": 1,\\n   \"735051829\": 1,\\n   \"735051830\": 1,\\n   \"735051831\": 1,\\n   \"735051832\": 1,\\n   \"735051833\": 1,\\n   \"735051834\": 1,\\n   \"735051835\": 1,\\n   \"735051836\": 1,\\n   \"735051837\": 1,\\n   \"735051838\": 1,\\n   \"735051839\": 1,\\n   \"735051840\": 1,\\n   \"735051841\": 1,\\n   \"735051842\": 1,\\n   \"743440388\": 1,\\n   \"782237749\": 1,\\n   \"743440389\": 1,\\n   \"782237750\": 1,\\n   \"743440390\": 1,\\n   \"782237751\": 1,\\n   \"743440391\": 1,\\n   \"782237752\": 1,\\n   \"743440392\": 1,\\n   \"782237753\": 1,\\n   \"743440393\": 1,\\n   \"782237754\": 1,\\n   \"743440394\": 1,\\n   \"782237755\": 1,\\n   \"743440395\": 1,\\n   \"782237756\": 1,\\n   \"743440396\": 1,\\n   \"782237757\": 1,\\n   \"743440397\": 1,\\n   \"782237758\": 1,\\n   \"743440398\": 1,\\n   \"782237759\": 1,\\n   \"743440399\": 1,\\n   \"782237760\": 1,\\n   \"743440400\": 1,\\n   \"782237761\": 1,\\n   \"743440401\": 1,\\n   \"782237762\": 1,\\n   \"743440402\": 1,\\n   \"782237763\": 1,\\n   \"743440403\": 1,\\n   \"782237764\": 1,\\n   \"743440404\": 1,\\n   \"782237765\": 1,\\n   \"743440405\": 1,\\n   \"782237766\": 1,\\n   \"743440406\": 1,\\n   \"782237767\": 1,\\n   \"743440407\": 1,\\n   \"782237768\": 1,\\n   \"743440408\": 1,\\n   \"782237769\": 1,\\n   \"743440409\": 1,\\n   \"782237770\": 1,\\n   \"743440410\": 1,\\n   \"782237771\": 1,\\n   \"743440422\": 1,\\n   \"782237783\": 1,\\n   \"743440423\": 1,\\n   \"782237784\": 1,\\n   \"743440424\": 1,\\n   \"782237785\": 1,\\n   \"743440425\": 1,\\n   \"782237786\": 1,\\n   \"743440426\": 1,\\n   \"782237787\": 1,\\n   \"743440427\": 1,\\n   \"782237788\": 1,\\n   \"743440428\": 1,\\n   \"782237789\": 1,\\n   \"743440429\": 1,\\n   \"782237790\": 1,\\n   \"743440430\": 1,\\n   \"782237791\": 1,\\n   \"743440431\": 1,\\n   \"782237792\": 1,\\n   \"743440432\": 1,\\n   \"782237793\": 1,\\n   \"743440433\": 1,\\n   \"782237794\": 1,\\n   \"743440434\": 1,\\n   \"782237795\": 1,\\n   \"743440435\": 1,\\n   \"782237796\": 1,\\n   \"743440436\": 1,\\n   \"782237797\": 1,\\n   \"743440437\": 1,\\n   \"782237798\": 1,\\n   \"743440438\": 1,\\n   \"782237799\": 1,\\n   \"743440439\": 1,\\n   \"782237800\": 1,\\n   \"743440440\": 1,\\n   \"782237801\": 1,\\n   \"743440441\": 1,\\n   \"782237802\": 1,\\n   \"743440442\": 1,\\n   \"782237803\": 1,\\n   \"743440443\": 1,\\n   \"782237804\": 1,\\n   \"743440444\": 1,\\n   \"782237805\": 1,\\n   \"743440445\": 1,\\n   \"782237806\": 1,\\n   \"743440446\": 1,\\n   \"782237807\": 1,\\n   \"743440447\": 1,\\n   \"782237808\": 1,\\n   \"743440448\": 1,\\n   \"782237809\": 1,\\n   \"743440449\": 1,\\n   \"782237810\": 1,\\n   \"743440450\": 1,\\n   \"782237811\": 1,\\n   \"743440451\": 1,\\n   \"782237812\": 1,\\n   \"743440452\": 1,\\n   \"782237813\": 1,\\n   \"743440453\": 1,\\n   \"782237814\": 1,\\n   \"743440454\": 1,\\n   \"782237815\": 1,\\n   \"743440455\": 1,\\n   \"782237816\": 1,\\n   \"743440456\": 1,\\n   \"782237817\": 1,\\n   \"743440457\": 1,\\n   \"782237818\": 1,\\n   \"743440458\": 1,\\n   \"782237819\": 1,\\n   \"743440459\": 1,\\n   \"782237820\": 1,\\n   \"743440460\": 1,\\n   \"782237821\": 1,\\n   \"743440461\": 1,\\n   \"782237822\": 1,\\n   \"743440462\": 1,\\n   \"782237823\": 1,\\n   \"743440463\": 1,\\n   \"782237824\": 1,\\n   \"743440464\": 1,\\n   \"782237825\": 1,\\n   \"743440465\": 1,\\n   \"782237826\": 1,\\n   \"743440466\": 1,\\n   \"782237827\": 1,\\n   \"743440467\": 1,\\n   \"782237828\": 1,\\n   \"743440468\": 1,\\n   \"782237829\": 1,\\n   \"743440469\": 1,\\n   \"782237830\": 1,\\n   \"743440470\": 1,\\n   \"782237831\": 1,\\n   \"743440471\": 1,\\n   \"782237832\": 1,\\n   \"743440472\": 1,\\n   \"782237833\": 1,\\n   \"743440473\": 1,\\n   \"782237834\": 1,\\n   \"743440474\": 1,\\n   \"782237835\": 1,\\n   \"743440475\": 1,\\n   \"782237836\": 1,\\n   \"743440476\": 1,\\n   \"782237837\": 1,\\n   \"743440477\": 1,\\n   \"782237838\": 1,\\n   \"743440478\": 1,\\n   \"782237839\": 1,\\n   \"743440479\": 1,\\n   \"782237840\": 1,\\n   \"743440480\": 1,\\n   \"782237841\": 1,\\n   \"743440481\": 1,\\n   \"782237842\": 1,\\n   \"743440482\": 1,\\n   \"782237843\": 1,\\n   \"743440483\": 1,\\n   \"782237844\": 1,\\n   \"743440484\": 1,\\n   \"782237845\": 1,\\n   \"743440485\": 1,\\n   \"782237846\": 1,\\n   \"743440486\": 1,\\n   \"782237847\": 1,\\n   \"743440487\": 1,\\n   \"782237848\": 1,\\n   \"743440488\": 1,\\n   \"782237849\": 1,\\n   \"743440489\": 1,\\n   \"782237850\": 1,\\n   \"743440490\": 1,\\n   \"782237851\": 1,\\n   \"743440491\": 1,\\n   \"782237852\": 1,\\n   \"743440492\": 1,\\n   \"782237853\": 1,\\n   \"743440493\": 1,\\n   \"782237854\": 1,\\n   \"743440494\": 1,\\n   \"782237855\": 1,\\n   \"743440495\": 1,\\n   \"782237856\": 1,\\n   \"743440496\": 1,\\n   \"782237857\": 1,\\n   \"743440497\": 1,\\n   \"782237858\": 1,\\n   \"743440498\": 1,\\n   \"782237859\": 1,\\n   \"743440499\": 1,\\n   \"782237860\": 1,\\n   \"743440500\": 1,\\n   \"782237861\": 1,\\n   \"743440501\": 1,\\n   \"782237862\": 1,\\n   \"743440502\": 1,\\n   \"782237863\": 1,\\n   \"743440503\": 1,\\n   \"782237864\": 1,\\n   \"743440504\": 1,\\n   \"782237865\": 1,\\n   \"787480576\": 1,\\n   \"743440505\": 1,\\n   \"782237866\": 1,\\n   \"787480577\": 1,\\n   \"743440506\": 1,\\n   \"782237867\": 1,\\n   \"787480578\": 1,\\n   \"743440507\": 1,\\n   \"782237868\": 1,\\n   \"787480579\": 1,\\n   \"743440508\": 1,\\n   \"782237869\": 1,\\n   \"787480580\": 1,\\n   \"743440509\": 1,\\n   \"782237870\": 1,\\n   \"787480581\": 1,\\n   \"743440510\": 1,\\n   \"782237871\": 1,\\n   \"787480582\": 1,\\n   \"743440511\": 1,\\n   \"782237872\": 1,\\n   \"787480583\": 1,\\n   \"743440512\": 1,\\n   \"782237873\": 1,\\n   \"787480584\": 1,\\n   \"743440513\": 1,\\n   \"782237874\": 1,\\n   \"787480585\": 1,\\n   \"743440514\": 1,\\n   \"782237875\": 1,\\n   \"787480586\": 1,\\n   \"743440515\": 1,\\n   \"782237876\": 1,\\n   \"787480587\": 1,\\n   \"743440516\": 1,\\n   \"782237877\": 1,\\n   \"787480588\": 1,\\n   \"743440517\": 1,\\n   \"782237878\": 1,\\n   \"787480589\": 1,\\n   \"743440518\": 1,\\n   \"782237879\": 1,\\n   \"787480590\": 1,\\n   \"743440519\": 1,\\n   \"782237880\": 1,\\n   \"787480591\": 1,\\n   \"743440520\": 1,\\n   \"782237881\": 1,\\n   \"787480592\": 1,\\n   \"743440521\": 1,\\n   \"782237882\": 1,\\n   \"787480593\": 1,\\n   \"743440522\": 1,\\n   \"782237883\": 1,\\n   \"787480594\": 1,\\n   \"743440523\": 1,\\n   \"782237884\": 1,\\n   \"787480595\": 1,\\n   \"787480596\": 1,\\n   \"787480597\": 1,\\n   \"787480598\": 1,\\n   \"787480599\": 1,\\n   \"787480600\": 1,\\n   \"787480601\": 1,\\n   \"787480602\": 1,\\n   \"787480603\": 1,\\n   \"787480604\": 1,\\n   \"787480605\": 1,\\n   \"787480606\": 1,\\n   \"787480607\": 1,\\n   \"787480608\": 1,\\n   \"787480609\": 1,\\n   \"787480610\": 1,\\n   \"787480611\": 1,\\n   \"787480612\": 1,\\n   \"787480613\": 1,\\n   \"787480614\": 1,\\n   \"787480615\": 1,\\n   \"787480616\": 1,\\n   \"787480617\": 1,\\n   \"787480618\": 1,\\n   \"787480619\": 1,\\n   \"787480620\": 1,\\n   \"743440411\": 1,\\n   \"782237772\": 1,\\n   \"743440412\": 1,\\n   \"782237773\": 1,\\n   \"743440413\": 1,\\n   \"782237774\": 1,\\n   \"743440414\": 1,\\n   \"782237775\": 1,\\n   \"743440415\": 1,\\n   \"782237776\": 1,\\n   \"743440416\": 1,\\n   \"782237777\": 1,\\n   \"743440417\": 1,\\n   \"782237778\": 1,\\n   \"743440418\": 1,\\n   \"782237779\": 1,\\n   \"743440419\": 1,\\n   \"782237780\": 1,\\n   \"743440420\": 1,\\n   \"782237781\": 1,\\n   \"743440421\": 1,\\n   \"782237782\": 1,\\n   \"754975043\": 1,\\n   \"754975042\": 1,\\n   \"754975041\": 1,\\n   \"754975040\": 1,\\n   \"754975039\": 1,\\n   \"754975038\": 1,\\n   \"754975037\": 1,\\n   \"754975036\": 1,\\n   \"754975035\": 1,\\n   \"754975034\": 1,\\n   \"754975033\": 1,\\n   \"754975032\": 1,\\n   \"754975031\": 1,\\n   \"754975030\": 1,\\n   \"754975029\": 1,\\n   \"754975028\": 1,\\n   \"754975027\": 1,\\n   \"754975026\": 1,\\n   \"754975025\": 1,\\n   \"754975024\": 1,\\n   \"754975023\": 1,\\n   \"754975022\": 1,\\n   \"754975021\": 1,\\n   \"754975020\": 1,\\n   \"754975019\": 1,\\n   \"754975018\": 1,\\n   \"754975017\": 1,\\n   \"754975016\": 1,\\n   \"754975015\": 1,\\n   \"754975014\": 1,\\n   \"754975013\": 1,\\n   \"754975012\": 1,\\n   \"754975011\": 1,\\n   \"754975010\": 1,\\n   \"754975009\": 1,\\n   \"754975008\": 1,\\n   \"754975007\": 1,\\n   \"754975006\": 1,\\n   \"754975005\": 1,\\n   \"754975004\": 1,\\n   \"754975003\": 1,\\n   \"754975002\": 1,\\n   \"754975001\": 1,\\n   \"754975000\": 1,\\n   \"754974999\": 1,\\n   \"754974998\": 1,\\n   \"754974997\": 1,\\n   \"754974996\": 1,\\n   \"754974995\": 1,\\n   \"754974994\": 1,\\n   \"754974993\": 1,\\n   \"754974992\": 1,\\n   \"754974991\": 1,\\n   \"754974990\": 1,\\n   \"754974989\": 1,\\n   \"793772349\": 1,\\n   \"754974988\": 1,\\n   \"793772348\": 1,\\n   \"754974987\": 1,\\n   \"793772347\": 1,\\n   \"754974986\": 1,\\n   \"793772346\": 1,\\n   \"754974985\": 1,\\n   \"793772345\": 1,\\n   \"754974984\": 1,\\n   \"793772344\": 1,\\n   \"754974983\": 1,\\n   \"793772343\": 1,\\n   \"754974982\": 1,\\n   \"793772342\": 1,\\n   \"754974981\": 1,\\n   \"793772341\": 1,\\n   \"754974980\": 1,\\n   \"793772340\": 1,\\n   \"754974979\": 1,\\n   \"793772339\": 1,\\n   \"754974978\": 1,\\n   \"793772338\": 1,\\n   \"754974977\": 1,\\n   \"793772337\": 1,\\n   \"754974976\": 1,\\n   \"793772336\": 1,\\n   \"754974975\": 1,\\n   \"793772335\": 1,\\n   \"754974974\": 1,\\n   \"793772334\": 1,\\n   \"754974973\": 1,\\n   \"793772333\": 1,\\n   \"754974972\": 1,\\n   \"793772332\": 1,\\n   \"754974971\": 1,\\n   \"793772331\": 1,\\n   \"754974970\": 1,\\n   \"793772330\": 1,\\n   \"754974969\": 1,\\n   \"793772329\": 1,\\n   \"754974968\": 1,\\n   \"793772328\": 1,\\n   \"754974967\": 1,\\n   \"793772327\": 1,\\n   \"754974966\": 1,\\n   \"793772326\": 1,\\n   \"754974965\": 1,\\n   \"793772325\": 1,\\n   \"754974964\": 1,\\n   \"793772324\": 1,\\n   \"754974963\": 1,\\n   \"793772323\": 1,\\n   \"754974962\": 1,\\n   \"793772322\": 1,\\n   \"754974961\": 1,\\n   \"793772321\": 1,\\n   \"754974960\": 1,\\n   \"793772320\": 1,\\n   \"754974959\": 1,\\n   \"793772319\": 1,\\n   \"754974958\": 1,\\n   \"793772318\": 1,\\n   \"754974957\": 1,\\n   \"793772317\": 1,\\n   \"754974956\": 1,\\n   \"793772316\": 1,\\n   \"754974955\": 1,\\n   \"793772315\": 1,\\n   \"754974954\": 1,\\n   \"793772314\": 1,\\n   \"754974953\": 1,\\n   \"793772313\": 1,\\n   \"754974952\": 1,\\n   \"793772312\": 1,\\n   \"754974951\": 1,\\n   \"793772311\": 1,\\n   \"754974950\": 1,\\n   \"793772310\": 1,\\n   \"754974949\": 1,\\n   \"793772309\": 1,\\n   \"754974948\": 1,\\n   \"793772308\": 1,\\n   \"754974947\": 1,\\n   \"793772307\": 1,\\n   \"754974946\": 1,\\n   \"793772306\": 1,\\n   \"754974945\": 1,\\n   \"793772305\": 1,\\n   \"754974944\": 1,\\n   \"793772304\": 1,\\n   \"754974943\": 1,\\n   \"793772303\": 1,\\n   \"754974942\": 1,\\n   \"793772302\": 1,\\n   \"754974941\": 1,\\n   \"793772301\": 1,\\n   \"754974940\": 1,\\n   \"793772300\": 1,\\n   \"754974939\": 1,\\n   \"793772299\": 1,\\n   \"754974938\": 1,\\n   \"793772298\": 1,\\n   \"754974937\": 1,\\n   \"793772297\": 1,\\n   \"754974936\": 1,\\n   \"793772296\": 1,\\n   \"754974935\": 1,\\n   \"793772295\": 1,\\n   \"754974934\": 1,\\n   \"793772294\": 1,\\n   \"754974933\": 1,\\n   \"793772293\": 1,\\n   \"754974932\": 1,\\n   \"793772292\": 1,\\n   \"754974931\": 1,\\n   \"793772291\": 1,\\n   \"754974930\": 1,\\n   \"793772290\": 1,\\n   \"754974929\": 1,\\n   \"793772289\": 1,\\n   \"754974928\": 1,\\n   \"793772288\": 1,\\n   \"754974927\": 1,\\n   \"793772287\": 1,\\n   \"754974926\": 1,\\n   \"793772286\": 1,\\n   \"754974925\": 1,\\n   \"793772285\": 1,\\n   \"754974924\": 1,\\n   \"793772284\": 1,\\n   \"754974923\": 1,\\n   \"793772283\": 1,\\n   \"754974922\": 1,\\n   \"793772282\": 1,\\n   \"754974921\": 1,\\n   \"793772281\": 1,\\n   \"754974920\": 1,\\n   \"793772280\": 1,\\n   \"754974919\": 1,\\n   \"793772279\": 1,\\n   \"754974918\": 1,\\n   \"793772176\": 1,\\n   \"871366898\": 1,\\n   \"754974815\": 1,\\n   \"793772175\": 1,\\n   \"871366897\": 1,\\n   \"754974814\": 1,\\n   \"793772174\": 1,\\n   \"871366896\": 1,\\n   \"754974813\": 1,\\n   \"793772173\": 1,\\n   \"871366895\": 1,\\n   \"754974812\": 1,\\n   \"793772172\": 1,\\n   \"871366894\": 1,\\n   \"754974811\": 1,\\n   \"793772171\": 1,\\n   \"871366893\": 1,\\n   \"754974810\": 1,\\n   \"793772170\": 1,\\n   \"871366892\": 1,\\n   \"754974809\": 1,\\n   \"793772169\": 1,\\n   \"871366891\": 1,\\n   \"754974808\": 1,\\n   \"793772168\": 1,\\n   \"871366890\": 1,\\n   \"754974807\": 1,\\n   \"793772167\": 1,\\n   \"871366889\": 1,\\n   \"754974806\": 1,\\n   \"793772166\": 1,\\n   \"871366888\": 1,\\n   \"754974805\": 1,\\n   \"793772165\": 1,\\n   \"871366887\": 1,\\n   \"754974804\": 1,\\n   \"793772164\": 1,\\n   \"871366886\": 1,\\n   \"754974803\": 1,\\n   \"793772163\": 1,\\n   \"871366885\": 1,\\n   \"754974802\": 1,\\n   \"793772162\": 1,\\n   \"871366884\": 1,\\n   \"754974801\": 1,\\n   \"793772161\": 1,\\n   \"871366883\": 1,\\n   \"754974800\": 1,\\n   \"793772160\": 1,\\n   \"871366882\": 1,\\n   \"754974799\": 1,\\n   \"793772159\": 1,\\n   \"871366881\": 1,\\n   \"754974798\": 1,\\n   \"793772158\": 1,\\n   \"871366880\": 1,\\n   \"754974797\": 1,\\n   \"793772157\": 1,\\n   \"871366879\": 1,\\n   \"754974796\": 1,\\n   \"793772156\": 1,\\n   \"871366878\": 1,\\n   \"754974795\": 1,\\n   \"793772155\": 1,\\n   \"871366877\": 1,\\n   \"754974794\": 1,\\n   \"793772154\": 1,\\n   \"871366876\": 1,\\n   \"754974793\": 1,\\n   \"793772153\": 1,\\n   \"871366875\": 1,\\n   \"754974792\": 1,\\n   \"793772152\": 1,\\n   \"871366874\": 1,\\n   \"754974791\": 1,\\n   \"793772151\": 1,\\n   \"871366873\": 1,\\n   \"754974790\": 1,\\n   \"793772150\": 1,\\n   \"871366872\": 1,\\n   \"754974789\": 1,\\n   \"793772149\": 1,\\n   \"871366871\": 1,\\n   \"754974788\": 1,\\n   \"793772148\": 1,\\n   \"871366870\": 1,\\n   \"754974787\": 1,\\n   \"793772147\": 1,\\n   \"871366869\": 1,\\n   \"754974786\": 1,\\n   \"793772146\": 1,\\n   \"871366868\": 1,\\n   \"754974785\": 1,\\n   \"793772145\": 1,\\n   \"871366867\": 1,\\n   \"754974784\": 1,\\n   \"793772144\": 1,\\n   \"871366866\": 1,\\n   \"754974783\": 1,\\n   \"793772143\": 1,\\n   \"871366865\": 1,\\n   \"754974782\": 1,\\n   \"793772142\": 1,\\n   \"871366864\": 1,\\n   \"754974781\": 1,\\n   \"793772141\": 1,\\n   \"871366863\": 1,\\n   \"754974780\": 1,\\n   \"793772140\": 1,\\n   \"871366862\": 1,\\n   \"754974779\": 1,\\n   \"793772139\": 1,\\n   \"871366861\": 1,\\n   \"754974778\": 1,\\n   \"793772138\": 1,\\n   \"871366860\": 1,\\n   \"754974777\": 1,\\n   \"793772137\": 1,\\n   \"871366859\": 1,\\n   \"754974776\": 1,\\n   \"793772136\": 1,\\n   \"871366858\": 1,\\n   \"754974775\": 1,\\n   \"793772135\": 1,\\n   \"871366857\": 1,\\n   \"754974774\": 1,\\n   \"793772134\": 1,\\n   \"871366856\": 1,\\n   \"754974773\": 1,\\n   \"793772133\": 1,\\n   \"871366855\": 1,\\n   \"754974772\": 1,\\n   \"793772132\": 1,\\n   \"871366854\": 1,\\n   \"754974771\": 1,\\n   \"793772131\": 1,\\n   \"871366853\": 1,\\n   \"754974770\": 1,\\n   \"793772130\": 1,\\n   \"871366852\": 1,\\n   \"754974769\": 1,\\n   \"793772129\": 1,\\n   \"871366851\": 1,\\n   \"754974768\": 1,\\n   \"793772128\": 1,\\n   \"871366850\": 1,\\n   \"754974767\": 1,\\n   \"793772127\": 1,\\n   \"871366849\": 1,\\n   \"754974766\": 1,\\n   \"793772102\": 1,\\n   \"871366824\": 1,\\n   \"754974741\": 1,\\n   \"793772101\": 1,\\n   \"871366823\": 1,\\n   \"754974740\": 1,\\n   \"793772100\": 1,\\n   \"871366822\": 1,\\n   \"754974739\": 1,\\n   \"793772099\": 1,\\n   \"871366821\": 1,\\n   \"754974738\": 1,\\n   \"793772098\": 1,\\n   \"871366820\": 1,\\n   \"754974737\": 1,\\n   \"793772097\": 1,\\n   \"871366819\": 1,\\n   \"754974736\": 1,\\n   \"793772096\": 1,\\n   \"871366818\": 1,\\n   \"754974735\": 1,\\n   \"793772095\": 1,\\n   \"871366817\": 1,\\n   \"754974734\": 1,\\n   \"793772094\": 1,\\n   \"871366816\": 1,\\n   \"754974733\": 1,\\n   \"793772093\": 1,\\n   \"871366815\": 1,\\n   \"754974732\": 1,\\n   \"793772092\": 1,\\n   \"871366814\": 1,\\n   \"754974731\": 1,\\n   \"793772091\": 1,\\n   \"871366813\": 1,\\n   \"754974730\": 1,\\n   \"793772081\": 1,\\n   \"871366803\": 1,\\n   \"754974720\": 1,\\n   \"793772082\": 1,\\n   \"871366804\": 1,\\n   \"754974721\": 1,\\n   \"793772083\": 1,\\n   \"871366805\": 1,\\n   \"754974722\": 1,\\n   \"793772084\": 1,\\n   \"871366806\": 1,\\n   \"754974723\": 1,\\n   \"793772085\": 1,\\n   \"871366807\": 1,\\n   \"754974724\": 1,\\n   \"793772086\": 1,\\n   \"871366808\": 1,\\n   \"754974725\": 1,\\n   \"793772087\": 1,\\n   \"871366809\": 1,\\n   \"754974726\": 1,\\n   \"793772088\": 1,\\n   \"871366810\": 1,\\n   \"754974727\": 1,\\n   \"793772089\": 1,\\n   \"871366811\": 1,\\n   \"754974728\": 1,\\n   \"793772090\": 1,\\n   \"871366812\": 1,\\n   \"754974729\": 1,\\n   \"793772103\": 1,\\n   \"871366825\": 1,\\n   \"754974742\": 1,\\n   \"793772104\": 1,\\n   \"871366826\": 1,\\n   \"754974743\": 1,\\n   \"793772105\": 1,\\n   \"871366827\": 1,\\n   \"754974744\": 1,\\n   \"793772106\": 1,\\n   \"871366828\": 1,\\n   \"754974745\": 1,\\n   \"793772107\": 1,\\n   \"871366829\": 1,\\n   \"754974746\": 1,\\n   \"793772108\": 1,\\n   \"871366830\": 1,\\n   \"754974747\": 1,\\n   \"793772109\": 1,\\n   \"871366831\": 1,\\n   \"754974748\": 1,\\n   \"793772110\": 1,\\n   \"871366832\": 1,\\n   \"754974749\": 1,\\n   \"793772111\": 1,\\n   \"871366833\": 1,\\n   \"754974750\": 1,\\n   \"793772112\": 1,\\n   \"871366834\": 1,\\n   \"754974751\": 1,\\n   \"793772113\": 1,\\n   \"871366835\": 1,\\n   \"754974752\": 1,\\n   \"793772114\": 1,\\n   \"871366836\": 1,\\n   \"754974753\": 1,\\n   \"793772115\": 1,\\n   \"871366837\": 1,\\n   \"754974754\": 1,\\n   \"793772116\": 1,\\n   \"871366838\": 1,\\n   \"754974755\": 1,\\n   \"793772117\": 1,\\n   \"871366839\": 1,\\n   \"754974756\": 1,\\n   \"793772118\": 1,\\n   \"871366840\": 1,\\n   \"754974757\": 1,\\n   \"793772119\": 1,\\n   \"871366841\": 1,\\n   \"754974758\": 1,\\n   \"793772120\": 1,\\n   \"871366842\": 1,\\n   \"754974759\": 1,\\n   \"793772121\": 1,\\n   \"871366843\": 1,\\n   \"754974760\": 1,\\n   \"793772122\": 1,\\n   \"871366844\": 1,\\n   \"754974761\": 1,\\n   \"793772123\": 1,\\n   \"871366845\": 1,\\n   \"754974762\": 1,\\n   \"793772124\": 1,\\n   \"871366846\": 1,\\n   \"754974763\": 1,\\n   \"793772125\": 1,\\n   \"871366847\": 1,\\n   \"754974764\": 1,\\n   \"793772126\": 1,\\n   \"871366848\": 1,\\n   \"754974765\": 1,\\n   \"793772177\": 1,\\n   \"871366899\": 1,\\n   \"754974816\": 1,\\n   \"793772178\": 1,\\n   \"871366900\": 1,\\n   \"754974817\": 1,\\n   \"793772179\": 1,\\n   \"871366901\": 1,\\n   \"754974818\": 1,\\n   \"793772180\": 1,\\n   \"871366902\": 1,\\n   \"754974819\": 1,\\n   \"793772181\": 1,\\n   \"871366903\": 1,\\n   \"754974820\": 1,\\n   \"793772182\": 1,\\n   \"871366904\": 1,\\n   \"754974821\": 1,\\n   \"793772183\": 1,\\n   \"871366905\": 1,\\n   \"754974822\": 1,\\n   \"793772184\": 1,\\n   \"871366906\": 1,\\n   \"754974823\": 1,\\n   \"793772185\": 1,\\n   \"871366907\": 1,\\n   \"754974824\": 1,\\n   \"793772186\": 1,\\n   \"871366908\": 1,\\n   \"754974825\": 1,\\n   \"793772187\": 1,\\n   \"871366909\": 1,\\n   \"754974826\": 1,\\n   \"793772188\": 1,\\n   \"871366910\": 1,\\n   \"754974827\": 1,\\n   \"793772189\": 1,\\n   \"871366911\": 1,\\n   \"754974828\": 1,\\n   \"793772190\": 1,\\n   \"871366912\": 1,\\n   \"754974829\": 1,\\n   \"793772191\": 1,\\n   \"871366913\": 1,\\n   \"754974830\": 1,\\n   \"793772192\": 1,\\n   \"871366914\": 1,\\n   \"754974831\": 1,\\n   \"793772193\": 1,\\n   \"871366915\": 1,\\n   \"754974832\": 1,\\n   \"793772194\": 1,\\n   \"871366916\": 1,\\n   \"754974833\": 1,\\n   \"793772195\": 1,\\n   \"871366917\": 1,\\n   \"754974834\": 1,\\n   \"793772196\": 1,\\n   \"871366918\": 1,\\n   \"754974835\": 1,\\n   \"793772197\": 1,\\n   \"871366919\": 1,\\n   \"754974836\": 1,\\n   \"793772198\": 1,\\n   \"871366920\": 1,\\n   \"754974837\": 1,\\n   \"793772199\": 1,\\n   \"871366921\": 1,\\n   \"754974838\": 1,\\n   \"793772200\": 1,\\n   \"871366922\": 1,\\n   \"754974839\": 1,\\n   \"793772201\": 1,\\n   \"871366923\": 1,\\n   \"754974840\": 1,\\n   \"793772202\": 1,\\n   \"871366924\": 1,\\n   \"754974841\": 1,\\n   \"793772203\": 1,\\n   \"871366925\": 1,\\n   \"754974842\": 1,\\n   \"793772204\": 1,\\n   \"871366926\": 1,\\n   \"754974843\": 1,\\n   \"793772205\": 1,\\n   \"871366927\": 1,\\n   \"754974844\": 1,\\n   \"793772206\": 1,\\n   \"871366928\": 1,\\n   \"754974845\": 1,\\n   \"793772207\": 1,\\n   \"871366929\": 1,\\n   \"754974846\": 1,\\n   \"793772208\": 1,\\n   \"871366930\": 1,\\n   \"754974847\": 1,\\n   \"793772209\": 1,\\n   \"871366931\": 1,\\n   \"754974848\": 1,\\n   \"793772210\": 1,\\n   \"871366932\": 1,\\n   \"754974849\": 1,\\n   \"793772211\": 1,\\n   \"871366933\": 1,\\n   \"754974850\": 1,\\n   \"871366934\": 1,\\n   \"793772212\": 1,\\n   \"754974851\": 1,\\n   \"871366935\": 1,\\n   \"793772213\": 1,\\n   \"754974852\": 1,\\n   \"871366936\": 1,\\n   \"793772214\": 1,\\n   \"754974853\": 1,\\n   \"871366937\": 1,\\n   \"793772215\": 1,\\n   \"754974854\": 1,\\n   \"871366938\": 1,\\n   \"793772216\": 1,\\n   \"754974855\": 1,\\n   \"871366939\": 1,\\n   \"793772217\": 1,\\n   \"754974856\": 1,\\n   \"871366940\": 1,\\n   \"793772218\": 1,\\n   \"754974857\": 1,\\n   \"871366941\": 1,\\n   \"793772219\": 1,\\n   \"754974858\": 1,\\n   \"871366942\": 1,\\n   \"793772220\": 1,\\n   \"754974859\": 1,\\n   \"871366943\": 1,\\n   \"793772221\": 1,\\n   \"754974860\": 1,\\n   \"871366944\": 1,\\n   \"793772222\": 1,\\n   \"754974861\": 1,\\n   \"793772223\": 1,\\n   \"871366945\": 1,\\n   \"754974862\": 1,\\n   \"793772224\": 1,\\n   \"871366946\": 1,\\n   \"754974863\": 1,\\n   \"793772225\": 1,\\n   \"871366947\": 1,\\n   \"754974864\": 1,\\n   \"793772226\": 1,\\n   \"871366948\": 1,\\n   \"754974865\": 1,\\n   \"793772227\": 1,\\n   \"871366949\": 1,\\n   \"754974866\": 1,\\n   \"793772228\": 1,\\n   \"871366950\": 1,\\n   \"754974867\": 1,\\n   \"793772229\": 1,\\n   \"871366951\": 1,\\n   \"754974868\": 1,\\n   \"793772230\": 1,\\n   \"871366952\": 1,\\n   \"754974869\": 1,\\n   \"793772231\": 1,\\n   \"871366953\": 1,\\n   \"754974870\": 1,\\n   \"793772232\": 1,\\n   \"754974871\": 1,\\n   \"793772233\": 1,\\n   \"754974872\": 1,\\n   \"793772234\": 1,\\n   \"754974873\": 1,\\n   \"793772235\": 1,\\n   \"754974874\": 1,\\n   \"793772236\": 1,\\n   \"754974875\": 1,\\n   \"793772237\": 1,\\n   \"754974876\": 1,\\n   \"793772238\": 1,\\n   \"754974877\": 1,\\n   \"793772239\": 1,\\n   \"754974878\": 1,\\n   \"793772240\": 1,\\n   \"754974879\": 1,\\n   \"793772241\": 1,\\n   \"754974880\": 1,\\n   \"793772242\": 1,\\n   \"754974881\": 1,\\n   \"793772243\": 1,\\n   \"754974882\": 1,\\n   \"793772244\": 1,\\n   \"754974883\": 1,\\n   \"793772245\": 1,\\n   \"754974884\": 1,\\n   \"793772246\": 1,\\n   \"754974885\": 1,\\n   \"793772247\": 1,\\n   \"754974886\": 1,\\n   \"793772248\": 1,\\n   \"754974887\": 1,\\n   \"793772249\": 1,\\n   \"754974888\": 1,\\n   \"793772250\": 1,\\n   \"754974889\": 1,\\n   \"793772251\": 1,\\n   \"754974890\": 1,\\n   \"793772252\": 1,\\n   \"754974891\": 1,\\n   \"793772253\": 1,\\n   \"754974892\": 1,\\n   \"793772254\": 1,\\n   \"754974893\": 1,\\n   \"793772255\": 1,\\n   \"754974894\": 1,\\n   \"793772256\": 1,\\n   \"754974895\": 1,\\n   \"793772257\": 1,\\n   \"754974896\": 1,\\n   \"793772258\": 1,\\n   \"754974897\": 1,\\n   \"793772259\": 1,\\n   \"754974898\": 1,\\n   \"793772260\": 1,\\n   \"754974899\": 1,\\n   \"793772261\": 1,\\n   \"754974900\": 1,\\n   \"793772262\": 1,\\n   \"754974901\": 1,\\n   \"793772263\": 1,\\n   \"754974902\": 1,\\n   \"793772264\": 1,\\n   \"754974903\": 1,\\n   \"793772265\": 1,\\n   \"754974904\": 1,\\n   \"793772266\": 1,\\n   \"754974905\": 1,\\n   \"793772267\": 1,\\n   \"754974906\": 1,\\n   \"793772268\": 1,\\n   \"754974907\": 1,\\n   \"793772269\": 1,\\n   \"754974908\": 1,\\n   \"793772270\": 1,\\n   \"754974909\": 1,\\n   \"793772271\": 1,\\n   \"754974910\": 1,\\n   \"793772272\": 1,\\n   \"754974911\": 1,\\n   \"793772273\": 1,\\n   \"754974912\": 1,\\n   \"793772274\": 1,\\n   \"754974913\": 1,\\n   \"793772275\": 1,\\n   \"754974914\": 1,\\n   \"793772276\": 1,\\n   \"754974915\": 1,\\n   \"793772277\": 1,\\n   \"754974916\": 1,\\n   \"793772278\": 1,\\n   \"754974917\": 1,\\n   \"814743828\": 1,\\n   \"814743827\": 1,\\n   \"814743826\": 1,\\n   \"814743825\": 1,\\n   \"814743824\": 1,\\n   \"814743823\": 1,\\n   \"814743822\": 1,\\n   \"814743821\": 1,\\n   \"814743820\": 1,\\n   \"814743819\": 1,\\n   \"814743818\": 1,\\n   \"814743817\": 1,\\n   \"814743816\": 1,\\n   \"814743815\": 1,\\n   \"814743814\": 1,\\n   \"814743813\": 1,\\n   \"814743812\": 1,\\n   \"814743811\": 1,\\n   \"814743810\": 1,\\n   \"814743809\": 1,\\n   \"814743808\": 1,\\n   \"814743807\": 1,\\n   \"814743806\": 1,\\n   \"814743805\": 1,\\n   \"814743804\": 1,\\n   \"814743803\": 1,\\n   \"814743802\": 1,\\n   \"814743801\": 1,\\n   \"814743800\": 1,\\n   \"814743799\": 1,\\n   \"814743798\": 1,\\n   \"814743797\": 1,\\n   \"814743796\": 1,\\n   \"814743795\": 1,\\n   \"814743794\": 1,\\n   \"814743793\": 1,\\n   \"814743792\": 1,\\n   \"814743791\": 1,\\n   \"814743790\": 1,\\n   \"814743789\": 1,\\n   \"814743788\": 1,\\n   \"814743787\": 1,\\n   \"814743786\": 1,\\n   \"814743785\": 1,\\n   \"814743784\": 1,\\n   \"814743783\": 1,\\n   \"814743782\": 1,\\n   \"814743781\": 1,\\n   \"814743780\": 1,\\n   \"814743708\": 1,\\n   \"814743707\": 1,\\n   \"814743706\": 1,\\n   \"814743705\": 1,\\n   \"814743704\": 1,\\n   \"814743703\": 1,\\n   \"814743702\": 1,\\n   \"814743701\": 1,\\n   \"814743700\": 1,\\n   \"814743699\": 1,\\n   \"814743698\": 1,\\n   \"814743697\": 1,\\n   \"814743696\": 1,\\n   \"814743695\": 1,\\n   \"814743694\": 1,\\n   \"814743693\": 1,\\n   \"814743692\": 1,\\n   \"814743691\": 1,\\n   \"814743690\": 1,\\n   \"814743689\": 1,\\n   \"814743688\": 1,\\n   \"814743687\": 1,\\n   \"814743686\": 1,\\n   \"814743685\": 1,\\n   \"814743684\": 1,\\n   \"814743683\": 1,\\n   \"814743682\": 1,\\n   \"814743681\": 1,\\n   \"814743680\": 1,\\n   \"814743679\": 1,\\n   \"814743678\": 1,\\n   \"814743677\": 1,\\n   \"814743676\": 1,\\n   \"814743675\": 1,\\n   \"814743674\": 1,\\n   \"814743673\": 1,\\n   \"814743672\": 1,\\n   \"814743671\": 1,\\n   \"814743670\": 1,\\n   \"814743669\": 1,\\n   \"814743668\": 1,\\n   \"814743667\": 1,\\n   \"814743666\": 1,\\n   \"814743665\": 1,\\n   \"814743664\": 1,\\n   \"814743663\": 1,\\n   \"814743662\": 1,\\n   \"814743661\": 1,\\n   \"814743660\": 1,\\n   \"814743659\": 1,\\n   \"814743658\": 1,\\n   \"814743657\": 1,\\n   \"814743656\": 1,\\n   \"814743655\": 1,\\n   \"814743654\": 1,\\n   \"814743653\": 1,\\n   \"814743652\": 1,\\n   \"814743651\": 1,\\n   \"814743650\": 1,\\n   \"814743649\": 1,\\n   \"814743648\": 1,\\n   \"814743647\": 1,\\n   \"814743646\": 1,\\n   \"814743645\": 1,\\n   \"814743644\": 1,\\n   \"814743643\": 1,\\n   \"814743642\": 1,\\n   \"814743641\": 1,\\n   \"814743640\": 1,\\n   \"814743639\": 1,\\n   \"814743638\": 1,\\n   \"814743637\": 1,\\n   \"814743636\": 1,\\n   \"814743635\": 1,\\n   \"814743634\": 1,\\n   \"814743633\": 1,\\n   \"814743632\": 1,\\n   \"814743631\": 1,\\n   \"814743630\": 1,\\n   \"814743629\": 1,\\n   \"814743628\": 1,\\n   \"814743627\": 1,\\n   \"814743626\": 1,\\n   \"814743625\": 1,\\n   \"814743624\": 1,\\n   \"814743623\": 1,\\n   \"814743622\": 1,\\n   \"814743621\": 1,\\n   \"814743620\": 1,\\n   \"814743619\": 1,\\n   \"814743618\": 1,\\n   \"814743617\": 1,\\n   \"814743616\": 1,\\n   \"814743615\": 1,\\n   \"814743614\": 1,\\n   \"814743613\": 1,\\n   \"814743612\": 1,\\n   \"814743611\": 1,\\n   \"814743610\": 1,\\n   \"814743609\": 1,\\n   \"814743608\": 1,\\n   \"814743607\": 1,\\n   \"814743606\": 1,\\n   \"814743605\": 1,\\n   \"814743604\": 1,\\n   \"814743603\": 1,\\n   \"814743602\": 1,\\n   \"814743601\": 1,\\n   \"814743600\": 1,\\n   \"796917879\": 1,\\n   \"719323157\": 1,\\n   \"796917878\": 1,\\n   \"719323156\": 1,\\n   \"796917877\": 1,\\n   \"719323155\": 1,\\n   \"796917876\": 1,\\n   \"719323154\": 1,\\n   \"796917875\": 1,\\n   \"719323153\": 1,\\n   \"796917874\": 1,\\n   \"719323152\": 1,\\n   \"796917873\": 1,\\n   \"719323151\": 1,\\n   \"796917872\": 1,\\n   \"719323150\": 1,\\n   \"796917871\": 1,\\n   \"719323149\": 1,\\n   \"796917870\": 1,\\n   \"719323148\": 1,\\n   \"796917869\": 1,\\n   \"719323147\": 1,\\n   \"796917868\": 1,\\n   \"719323146\": 1,\\n   \"796917858\": 1,\\n   \"719323136\": 1,\\n   \"796917859\": 1,\\n   \"719323137\": 1,\\n   \"796917860\": 1,\\n   \"719323138\": 1,\\n   \"796917861\": 1,\\n   \"719323139\": 1,\\n   \"796917862\": 1,\\n   \"719323140\": 1,\\n   \"796917863\": 1,\\n   \"719323141\": 1,\\n   \"796917864\": 1,\\n   \"719323142\": 1,\\n   \"796917865\": 1,\\n   \"719323143\": 1,\\n   \"796917866\": 1,\\n   \"719323144\": 1,\\n   \"796917867\": 1,\\n   \"719323145\": 1,\\n   \"796917880\": 1,\\n   \"719323158\": 1,\\n   \"796917881\": 1,\\n   \"719323159\": 1,\\n   \"796917882\": 1,\\n   \"719323160\": 1,\\n   \"796917883\": 1,\\n   \"719323161\": 1,\\n   \"796917884\": 1,\\n   \"719323162\": 1,\\n   \"796917885\": 1,\\n   \"719323163\": 1,\\n   \"796917886\": 1,\\n   \"719323164\": 1,\\n   \"796917887\": 1,\\n   \"719323165\": 1,\\n   \"796917888\": 1,\\n   \"719323166\": 1,\\n   \"796917889\": 1,\\n   \"719323167\": 1,\\n   \"796917890\": 1,\\n   \"719323168\": 1,\\n   \"796917891\": 1,\\n   \"719323169\": 1,\\n   \"796917892\": 1,\\n   \"719323170\": 1,\\n   \"796917893\": 1,\\n   \"719323171\": 1,\\n   \"796917894\": 1,\\n   \"719323172\": 1,\\n   \"796917895\": 1,\\n   \"719323173\": 1,\\n   \"796917896\": 1,\\n   \"719323174\": 1,\\n   \"796917897\": 1,\\n   \"719323175\": 1,\\n   \"796917898\": 1,\\n   \"719323176\": 1,\\n   \"796917899\": 1,\\n   \"719323177\": 1,\\n   \"796917900\": 1,\\n   \"719323178\": 1,\\n   \"796917901\": 1,\\n   \"719323179\": 1,\\n   \"814743727\": 1,\\n   \"796917902\": 1,\\n   \"719323180\": 1,\\n   \"814743728\": 1,\\n   \"796917903\": 1,\\n   \"719323181\": 1,\\n   \"814743729\": 1,\\n   \"796917904\": 1,\\n   \"719323182\": 1,\\n   \"814743730\": 1,\\n   \"778043612\": 1,\\n   \"816840973\": 1,\\n   \"796917905\": 1,\\n   \"719323183\": 1,\\n   \"814743731\": 1,\\n   \"778043613\": 1,\\n   \"816840974\": 1,\\n   \"796917906\": 1,\\n   \"719323184\": 1,\\n   \"814743732\": 1,\\n   \"778043614\": 1,\\n   \"816840975\": 1,\\n   \"796917907\": 1,\\n   \"719323185\": 1,\\n   \"814743733\": 1,\\n   \"778043615\": 1,\\n   \"816840976\": 1,\\n   \"796917908\": 1,\\n   \"719323186\": 1,\\n   \"814743734\": 1,\\n   \"778043616\": 1,\\n   \"816840977\": 1,\\n   \"796917909\": 1,\\n   \"719323187\": 1,\\n   \"814743735\": 1,\\n   \"778043617\": 1,\\n   \"816840978\": 1,\\n   \"796917910\": 1,\\n   \"719323188\": 1,\\n   \"814743736\": 1,\\n   \"778043618\": 1,\\n   \"816840979\": 1,\\n   \"796917911\": 1,\\n   \"719323189\": 1,\\n   \"814743737\": 1,\\n   \"778043619\": 1,\\n   \"816840980\": 1,\\n   \"796917912\": 1,\\n   \"719323190\": 1,\\n   \"814743738\": 1,\\n   \"778043620\": 1,\\n   \"816840981\": 1,\\n   \"796917913\": 1,\\n   \"719323191\": 1,\\n   \"814743739\": 1,\\n   \"778043621\": 1,\\n   \"816840982\": 1,\\n   \"796917914\": 1,\\n   \"719323192\": 1,\\n   \"814743740\": 1,\\n   \"778043622\": 1,\\n   \"816840983\": 1,\\n   \"796917915\": 1,\\n   \"719323193\": 1,\\n   \"814743741\": 1,\\n   \"778043623\": 1,\\n   \"816840984\": 1,\\n   \"796917916\": 1,\\n   \"719323194\": 1,\\n   \"814743742\": 1,\\n   \"778043624\": 1,\\n   \"816840985\": 1,\\n   \"814743552\": 1,\\n   \"796917917\": 1,\\n   \"719323195\": 1,\\n   \"814743743\": 1,\\n   \"778043625\": 1,\\n   \"816840986\": 1,\\n   \"814743553\": 1,\\n   \"796917918\": 1,\\n   \"719323196\": 1,\\n   \"814743744\": 1,\\n   \"778043626\": 1,\\n   \"816840987\": 1,\\n   \"814743554\": 1,\\n   \"796917919\": 1,\\n   \"719323197\": 1,\\n   \"814743745\": 1,\\n   \"778043627\": 1,\\n   \"816840988\": 1,\\n   \"814743555\": 1,\\n   \"796917920\": 1,\\n   \"719323198\": 1,\\n   \"814743746\": 1,\\n   \"778043628\": 1,\\n   \"816840989\": 1,\\n   \"814743556\": 1,\\n   \"796917921\": 1,\\n   \"719323199\": 1,\\n   \"814743747\": 1,\\n   \"778043629\": 1,\\n   \"816840990\": 1,\\n   \"814743557\": 1,\\n   \"796917922\": 1,\\n   \"719323200\": 1,\\n   \"814743748\": 1,\\n   \"778043630\": 1,\\n   \"816840991\": 1,\\n   \"814743558\": 1,\\n   \"796917923\": 1,\\n   \"719323201\": 1,\\n   \"814743749\": 1,\\n   \"778043631\": 1,\\n   \"816840992\": 1,\\n   \"814743559\": 1,\\n   \"796917924\": 1,\\n   \"719323202\": 1,\\n   \"814743750\": 1,\\n   \"778043632\": 1,\\n   \"816840993\": 1,\\n   \"814743560\": 1,\\n   \"796917925\": 1,\\n   \"719323203\": 1,\\n   \"814743751\": 1,\\n   \"778043633\": 1,\\n   \"816840994\": 1,\\n   \"814743561\": 1,\\n   \"796917926\": 1,\\n   \"719323204\": 1,\\n   \"814743752\": 1,\\n   \"778043634\": 1,\\n   \"816840995\": 1,\\n   \"814743562\": 1,\\n   \"796917927\": 1,\\n   \"719323205\": 1,\\n   \"814743753\": 1,\\n   \"778043635\": 1,\\n   \"816840996\": 1,\\n   \"814743563\": 1,\\n   \"796917928\": 1,\\n   \"719323206\": 1,\\n   \"814743754\": 1,\\n   \"778043636\": 1,\\n   \"816840997\": 1,\\n   \"814743564\": 1,\\n   \"796917929\": 1,\\n   \"719323207\": 1,\\n   \"814743755\": 1,\\n   \"778043637\": 1,\\n   \"816840998\": 1,\\n   \"814743565\": 1,\\n   \"796917930\": 1,\\n   \"719323208\": 1,\\n   \"814743756\": 1,\\n   \"778043638\": 1,\\n   \"816840999\": 1,\\n   \"814743566\": 1,\\n   \"796917931\": 1,\\n   \"719323209\": 1,\\n   \"814743757\": 1,\\n   \"778043639\": 1,\\n   \"816841000\": 1,\\n   \"814743567\": 1,\\n   \"796917932\": 1,\\n   \"719323210\": 1,\\n   \"814743758\": 1,\\n   \"778043640\": 1,\\n   \"816841001\": 1,\\n   \"814743568\": 1,\\n   \"796917933\": 1,\\n   \"719323211\": 1,\\n   \"814743759\": 1,\\n   \"778043641\": 1,\\n   \"816841002\": 1,\\n   \"814743569\": 1,\\n   \"796917934\": 1,\\n   \"719323212\": 1,\\n   \"814743760\": 1,\\n   \"778043642\": 1,\\n   \"816841003\": 1,\\n   \"814743570\": 1,\\n   \"796917935\": 1,\\n   \"719323213\": 1,\\n   \"814743761\": 1,\\n   \"778043643\": 1,\\n   \"816841004\": 1,\\n   \"814743571\": 1,\\n   \"796917936\": 1,\\n   \"719323214\": 1,\\n   \"814743762\": 1,\\n   \"778043644\": 1,\\n   \"816841005\": 1,\\n   \"814743572\": 1,\\n   \"796917937\": 1,\\n   \"719323215\": 1,\\n   \"814743763\": 1,\\n   \"778043645\": 1,\\n   \"816841006\": 1,\\n   \"814743573\": 1,\\n   \"796917938\": 1,\\n   \"719323216\": 1,\\n   \"814743764\": 1,\\n   \"778043646\": 1,\\n   \"816841007\": 1,\\n   \"814743574\": 1,\\n   \"796917939\": 1,\\n   \"719323217\": 1,\\n   \"814743765\": 1,\\n   \"778043647\": 1,\\n   \"816841008\": 1,\\n   \"814743575\": 1,\\n   \"796917940\": 1,\\n   \"719323218\": 1,\\n   \"814743766\": 1,\\n   \"778043648\": 1,\\n   \"816841009\": 1,\\n   \"814743576\": 1,\\n   \"796917941\": 1,\\n   \"719323219\": 1,\\n   \"814743767\": 1,\\n   \"778043649\": 1,\\n   \"816841010\": 1,\\n   \"814743577\": 1,\\n   \"796917942\": 1,\\n   \"719323220\": 1,\\n   \"814743768\": 1,\\n   \"778043650\": 1,\\n   \"816841011\": 1,\\n   \"814743578\": 1,\\n   \"796917943\": 1,\\n   \"719323221\": 1,\\n   \"814743769\": 1,\\n   \"778043651\": 1,\\n   \"816841012\": 1,\\n   \"814743579\": 1,\\n   \"796917944\": 1,\\n   \"719323222\": 1,\\n   \"814743770\": 1,\\n   \"778043652\": 1,\\n   \"816841013\": 1,\\n   \"814743580\": 1,\\n   \"796917945\": 1,\\n   \"719323223\": 1,\\n   \"814743771\": 1,\\n   \"778043653\": 1,\\n   \"816841014\": 1,\\n   \"814743581\": 1,\\n   \"796917946\": 1,\\n   \"719323224\": 1,\\n   \"814743772\": 1,\\n   \"814743582\": 1,\\n   \"796917947\": 1,\\n   \"719323225\": 1,\\n   \"814743773\": 1,\\n   \"814743583\": 1,\\n   \"796917948\": 1,\\n   \"719323226\": 1,\\n   \"814743774\": 1,\\n   \"814743584\": 1,\\n   \"814743775\": 1,\\n   \"814743585\": 1,\\n   \"814743776\": 1,\\n   \"814743586\": 1,\\n   \"814743777\": 1,\\n   \"814743587\": 1,\\n   \"814743778\": 1,\\n   \"814743588\": 1,\\n   \"814743779\": 1,\\n   \"814743589\": 1,\\n   \"814743590\": 1,\\n   \"814743591\": 1,\\n   \"814743592\": 1,\\n   \"814743593\": 1,\\n   \"814743594\": 1,\\n   \"814743595\": 1,\\n   \"814743596\": 1,\\n   \"814743597\": 1,\\n   \"814743598\": 1,\\n   \"814743599\": 1,\\n   \"743440524\": 1,\\n   \"782237885\": 1,\\n   \"743440525\": 1,\\n   \"782237886\": 1,\\n   \"743440526\": 1,\\n   \"782237887\": 1,\\n   \"743440527\": 1,\\n   \"782237888\": 1,\\n   \"743440528\": 1,\\n   \"782237889\": 1,\\n   \"743440529\": 1,\\n   \"782237890\": 1,\\n   \"743440530\": 1,\\n   \"782237891\": 1,\\n   \"743440531\": 1,\\n   \"782237892\": 1,\\n   \"743440532\": 1,\\n   \"782237893\": 1,\\n   \"743440533\": 1,\\n   \"782237894\": 1,\\n   \"743440534\": 1,\\n   \"782237895\": 1,\\n   \"743440535\": 1,\\n   \"782237896\": 1,\\n   \"743440536\": 1,\\n   \"782237897\": 1,\\n   \"743440537\": 1,\\n   \"782237898\": 1,\\n   \"743440538\": 1,\\n   \"782237899\": 1,\\n   \"743440539\": 1,\\n   \"782237900\": 1,\\n   \"743440540\": 1,\\n   \"782237901\": 1,\\n   \"743440541\": 1,\\n   \"782237902\": 1,\\n   \"743440542\": 1,\\n   \"782237903\": 1,\\n   \"743440543\": 1,\\n   \"782237904\": 1,\\n   \"743440544\": 1,\\n   \"782237905\": 1,\\n   \"743440545\": 1,\\n   \"782237906\": 1,\\n   \"743440546\": 1,\\n   \"782237907\": 1,\\n   \"743440547\": 1,\\n   \"782237908\": 1,\\n   \"743440548\": 1,\\n   \"782237909\": 1,\\n   \"743440549\": 1,\\n   \"782237910\": 1,\\n   \"743440550\": 1,\\n   \"782237911\": 1,\\n   \"743440551\": 1,\\n   \"782237912\": 1,\\n   \"743440552\": 1,\\n   \"782237913\": 1,\\n   \"743440553\": 1,\\n   \"782237914\": 1,\\n   \"743440554\": 1,\\n   \"782237915\": 1,\\n   \"743440555\": 1,\\n   \"782237916\": 1,\\n   \"743440556\": 1,\\n   \"782237917\": 1,\\n   \"743440557\": 1,\\n   \"782237918\": 1,\\n   \"743440558\": 1,\\n   \"782237919\": 1,\\n   \"743440559\": 1,\\n   \"782237920\": 1,\\n   \"743440560\": 1,\\n   \"782237921\": 1,\\n   \"743440561\": 1,\\n   \"782237922\": 1,\\n   \"743440562\": 1,\\n   \"782237923\": 1,\\n   \"743440563\": 1,\\n   \"782237924\": 1,\\n   \"743440564\": 1,\\n   \"782237925\": 1,\\n   \"743440565\": 1,\\n   \"782237926\": 1,\\n   \"743440566\": 1,\\n   \"782237927\": 1,\\n   \"743440567\": 1,\\n   \"782237928\": 1,\\n   \"743440568\": 1,\\n   \"782237929\": 1,\\n   \"743440569\": 1,\\n   \"782237930\": 1,\\n   \"743440570\": 1,\\n   \"782237931\": 1,\\n   \"743440571\": 1,\\n   \"782237932\": 1,\\n   \"743440572\": 1,\\n   \"782237933\": 1,\\n   \"743440573\": 1,\\n   \"782237934\": 1,\\n   \"743440574\": 1,\\n   \"782237935\": 1,\\n   \"743440575\": 1,\\n   \"782237936\": 1,\\n   \"743440576\": 1,\\n   \"782237937\": 1,\\n   \"743440577\": 1,\\n   \"782237938\": 1,\\n   \"743440578\": 1,\\n   \"782237939\": 1,\\n   \"743440579\": 1,\\n   \"782237940\": 1,\\n   \"743440580\": 1,\\n   \"782237941\": 1,\\n   \"743440581\": 1,\\n   \"782237942\": 1,\\n   \"743440582\": 1,\\n   \"782237943\": 1,\\n   \"743440583\": 1,\\n   \"782237944\": 1,\\n   \"743440584\": 1,\\n   \"782237945\": 1,\\n   \"743440585\": 1,\\n   \"782237946\": 1,\\n   \"743440586\": 1,\\n   \"782237947\": 1,\\n   \"743440587\": 1,\\n   \"782237948\": 1,\\n   \"743440588\": 1,\\n   \"782237949\": 1,\\n   \"743440589\": 1,\\n   \"782237950\": 1,\\n   \"743440590\": 1,\\n   \"782237951\": 1,\\n   \"743440591\": 1,\\n   \"782237952\": 1,\\n   \"743440592\": 1,\\n   \"782237953\": 1,\\n   \"743440593\": 1,\\n   \"782237954\": 1,\\n   \"743440594\": 1,\\n   \"782237955\": 1,\\n   \"743440595\": 1,\\n   \"782237956\": 1,\\n   \"743440596\": 1,\\n   \"782237957\": 1,\\n   \"743440597\": 1,\\n   \"782237958\": 1,\\n   \"743440598\": 1,\\n   \"782237959\": 1,\\n   \"743440599\": 1,\\n   \"782237960\": 1,\\n   \"743440600\": 1,\\n   \"782237961\": 1,\\n   \"743440601\": 1,\\n   \"782237962\": 1,\\n   \"743440602\": 1,\\n   \"782237963\": 1,\\n   \"743440603\": 1,\\n   \"782237964\": 1,\\n   \"743440604\": 1,\\n   \"782237965\": 1,\\n   \"743440605\": 1,\\n   \"782237966\": 1,\\n   \"743440606\": 1,\\n   \"782237967\": 1,\\n   \"743440607\": 1,\\n   \"782237968\": 1,\\n   \"743440608\": 1,\\n   \"782237969\": 1,\\n   \"743440609\": 1,\\n   \"782237970\": 1,\\n   \"743440610\": 1,\\n   \"782237971\": 1,\\n   \"743440611\": 1,\\n   \"782237972\": 1,\\n   \"743440612\": 1,\\n   \"782237973\": 1,\\n   \"743440613\": 1,\\n   \"782237974\": 1,\\n   \"743440614\": 1,\\n   \"782237975\": 1,\\n   \"743440615\": 1,\\n   \"782237976\": 1,\\n   \"743440616\": 1,\\n   \"782237977\": 1,\\n   \"743440617\": 1,\\n   \"782237978\": 1,\\n   \"743440618\": 1,\\n   \"782237979\": 1,\\n   \"743440619\": 1,\\n   \"782237980\": 1,\\n   \"743440620\": 1,\\n   \"782237981\": 1,\\n   \"743440621\": 1,\\n   \"782237982\": 1,\\n   \"814743709\": 1,\\n   \"814743710\": 1,\\n   \"814743711\": 1,\\n   \"814743712\": 1,\\n   \"814743713\": 1,\\n   \"814743714\": 1,\\n   \"814743715\": 1,\\n   \"814743716\": 1,\\n   \"814743717\": 1,\\n   \"814743718\": 1,\\n   \"814743719\": 1,\\n   \"814743720\": 1,\\n   \"814743721\": 1,\\n   \"814743722\": 1,\\n   \"814743723\": 1,\\n   \"814743724\": 1,\\n   \"814743725\": 1,\\n   \"814743726\": 1,\\n   \"825229619\": 1,\\n   \"813695272\": 1,\\n   \"736100550\": 1,\\n   \"825229618\": 1,\\n   \"813695271\": 1,\\n   \"736100549\": 1,\\n   \"825229617\": 1,\\n   \"813695270\": 1,\\n   \"736100548\": 1,\\n   \"825229616\": 1,\\n   \"813695269\": 1,\\n   \"736100547\": 1,\\n   \"825229615\": 1,\\n   \"813695268\": 1,\\n   \"736100546\": 1,\\n   \"825229614\": 1,\\n   \"813695267\": 1,\\n   \"736100545\": 1,\\n   \"825229613\": 1,\\n   \"813695266\": 1,\\n   \"736100544\": 1,\\n   \"825229612\": 1,\\n   \"813695265\": 1,\\n   \"736100543\": 1,\\n   \"825229611\": 1,\\n   \"813695264\": 1,\\n   \"736100542\": 1,\\n   \"825229610\": 1,\\n   \"813695263\": 1,\\n   \"736100541\": 1,\\n   \"825229609\": 1,\\n   \"813695262\": 1,\\n   \"736100540\": 1,\\n   \"825229608\": 1,\\n   \"813695261\": 1,\\n   \"736100539\": 1,\\n   \"825229607\": 1,\\n   \"813695260\": 1,\\n   \"736100538\": 1,\\n   \"825229606\": 1,\\n   \"813695259\": 1,\\n   \"736100537\": 1,\\n   \"825229605\": 1,\\n   \"813695258\": 1,\\n   \"736100536\": 1,\\n   \"825229604\": 1,\\n   \"813695257\": 1,\\n   \"736100535\": 1,\\n   \"825229603\": 1,\\n   \"813695256\": 1,\\n   \"736100534\": 1,\\n   \"825229602\": 1,\\n   \"813695255\": 1,\\n   \"736100533\": 1,\\n   \"825229601\": 1,\\n   \"813695254\": 1,\\n   \"736100532\": 1,\\n   \"825229600\": 1,\\n   \"813695253\": 1,\\n   \"736100531\": 1,\\n   \"825229599\": 1,\\n   \"813695252\": 1,\\n   \"736100530\": 1,\\n   \"825229598\": 1,\\n   \"813695251\": 1,\\n   \"736100529\": 1,\\n   \"825229597\": 1,\\n   \"813695250\": 1,\\n   \"736100528\": 1,\\n   \"825229596\": 1,\\n   \"813695249\": 1,\\n   \"736100527\": 1,\\n   \"825229595\": 1,\\n   \"813695248\": 1,\\n   \"736100526\": 1,\\n   \"825229594\": 1,\\n   \"813695247\": 1,\\n   \"736100525\": 1,\\n   \"825229593\": 1,\\n   \"813695246\": 1,\\n   \"736100524\": 1,\\n   \"825229592\": 1,\\n   \"813695245\": 1,\\n   \"736100523\": 1,\\n   \"825229591\": 1,\\n   \"813695244\": 1,\\n   \"736100522\": 1,\\n   \"825229590\": 1,\\n   \"813695243\": 1,\\n   \"736100521\": 1,\\n   \"825229589\": 1,\\n   \"813695242\": 1,\\n   \"736100520\": 1,\\n   \"825229588\": 1,\\n   \"813695241\": 1,\\n   \"736100519\": 1,\\n   \"825229587\": 1,\\n   \"813695240\": 1,\\n   \"736100518\": 1,\\n   \"825229586\": 1,\\n   \"813695239\": 1,\\n   \"736100517\": 1,\\n   \"825229585\": 1,\\n   \"813695238\": 1,\\n   \"736100516\": 1,\\n   \"825229584\": 1,\\n   \"813695237\": 1,\\n   \"736100515\": 1,\\n   \"825229583\": 1,\\n   \"813695236\": 1,\\n   \"736100514\": 1,\\n   \"825229582\": 1,\\n   \"813695235\": 1,\\n   \"736100513\": 1,\\n   \"825229581\": 1,\\n   \"813695234\": 1,\\n   \"736100512\": 1,\\n   \"825229580\": 1,\\n   \"813695233\": 1,\\n   \"736100511\": 1,\\n   \"825229579\": 1,\\n   \"813695232\": 1,\\n   \"736100510\": 1,\\n   \"825229578\": 1,\\n   \"813695231\": 1,\\n   \"736100509\": 1,\\n   \"825229577\": 1,\\n   \"813695230\": 1,\\n   \"736100508\": 1,\\n   \"825229576\": 1,\\n   \"813695229\": 1,\\n   \"736100507\": 1,\\n   \"825229575\": 1,\\n   \"813695228\": 1,\\n   \"736100506\": 1,\\n   \"825229574\": 1,\\n   \"813695227\": 1,\\n   \"736100505\": 1,\\n   \"825229573\": 1,\\n   \"813695226\": 1,\\n   \"736100504\": 1,\\n   \"825229572\": 1,\\n   \"813695225\": 1,\\n   \"736100503\": 1,\\n   \"825229571\": 1,\\n   \"813695224\": 1,\\n   \"736100502\": 1,\\n   \"825229570\": 1,\\n   \"813695223\": 1,\\n   \"736100501\": 1,\\n   \"825229569\": 1,\\n   \"813695222\": 1,\\n   \"736100500\": 1,\\n   \"825229568\": 1,\\n   \"813695221\": 1,\\n   \"736100499\": 1,\\n   \"825229567\": 1,\\n   \"813695220\": 1,\\n   \"736100498\": 1,\\n   \"825229566\": 1,\\n   \"813695219\": 1,\\n   \"736100497\": 1,\\n   \"825229565\": 1,\\n   \"813695218\": 1,\\n   \"736100496\": 1,\\n   \"825229564\": 1,\\n   \"813695217\": 1,\\n   \"736100495\": 1,\\n   \"825229563\": 1,\\n   \"813695216\": 1,\\n   \"736100494\": 1,\\n   \"825229562\": 1,\\n   \"813695215\": 1,\\n   \"736100493\": 1,\\n   \"825229561\": 1,\\n   \"813695214\": 1,\\n   \"736100492\": 1,\\n   \"825229560\": 1,\\n   \"813695213\": 1,\\n   \"736100491\": 1,\\n   \"825229559\": 1,\\n   \"813695212\": 1,\\n   \"736100490\": 1,\\n   \"825229558\": 1,\\n   \"813695211\": 1,\\n   \"736100489\": 1,\\n   \"825229557\": 1,\\n   \"813695210\": 1,\\n   \"736100488\": 1,\\n   \"825229556\": 1,\\n   \"813695209\": 1,\\n   \"736100487\": 1,\\n   \"825229555\": 1,\\n   \"813695208\": 1,\\n   \"736100486\": 1,\\n   \"825229554\": 1,\\n   \"813695207\": 1,\\n   \"736100485\": 1,\\n   \"825229553\": 1,\\n   \"813695206\": 1,\\n   \"736100484\": 1,\\n   \"825229552\": 1,\\n   \"813695205\": 1,\\n   \"736100483\": 1,\\n   \"825229551\": 1,\\n   \"813695204\": 1,\\n   \"736100482\": 1,\\n   \"825229550\": 1,\\n   \"813695203\": 1,\\n   \"736100481\": 1,\\n   \"825229549\": 1,\\n   \"813695202\": 1,\\n   \"736100480\": 1,\\n   \"825229548\": 1,\\n   \"813695201\": 1,\\n   \"736100479\": 1,\\n   \"825229547\": 1,\\n   \"813695200\": 1,\\n   \"736100478\": 1,\\n   \"825229546\": 1,\\n   \"813695199\": 1,\\n   \"736100477\": 1,\\n   \"825229545\": 1,\\n   \"813695198\": 1,\\n   \"736100476\": 1,\\n   \"825229544\": 1,\\n   \"813695197\": 1,\\n   \"736100475\": 1,\\n   \"825229543\": 1,\\n   \"813695196\": 1,\\n   \"736100474\": 1,\\n   \"825229542\": 1,\\n   \"813695195\": 1,\\n   \"736100473\": 1,\\n   \"825229541\": 1,\\n   \"813695194\": 1,\\n   \"736100472\": 1,\\n   \"825229540\": 1,\\n   \"813695193\": 1,\\n   \"736100471\": 1,\\n   \"825229539\": 1,\\n   \"813695192\": 1,\\n   \"736100470\": 1,\\n   \"825229538\": 1,\\n   \"813695191\": 1,\\n   \"736100469\": 1,\\n   \"825229537\": 1,\\n   \"813695190\": 1,\\n   \"736100468\": 1,\\n   \"825229536\": 1,\\n   \"813695189\": 1,\\n   \"736100467\": 1,\\n   \"825229535\": 1,\\n   \"813695188\": 1,\\n   \"736100466\": 1,\\n   \"825229534\": 1,\\n   \"813695187\": 1,\\n   \"736100465\": 1,\\n   \"825229533\": 1,\\n   \"813695186\": 1,\\n   \"736100464\": 1,\\n   \"825229532\": 1,\\n   \"813695185\": 1,\\n   \"736100463\": 1,\\n   \"825229531\": 1,\\n   \"813695184\": 1,\\n   \"736100462\": 1,\\n   \"825229530\": 1,\\n   \"813695183\": 1,\\n   \"736100461\": 1,\\n   \"825229529\": 1,\\n   \"813695182\": 1,\\n   \"736100460\": 1,\\n   \"825229528\": 1,\\n   \"813695181\": 1,\\n   \"736100459\": 1,\\n   \"825229527\": 1,\\n   \"813695180\": 1,\\n   \"736100458\": 1,\\n   \"825229526\": 1,\\n   \"813695179\": 1,\\n   \"736100457\": 1,\\n   \"825229525\": 1,\\n   \"813695178\": 1,\\n   \"736100456\": 1,\\n   \"825229524\": 1,\\n   \"813695177\": 1,\\n   \"736100455\": 1,\\n   \"825229523\": 1,\\n   \"813695176\": 1,\\n   \"736100454\": 1,\\n   \"825229522\": 1,\\n   \"813695175\": 1,\\n   \"736100453\": 1,\\n   \"825229521\": 1,\\n   \"813695174\": 1,\\n   \"736100452\": 1,\\n   \"825229520\": 1,\\n   \"813695173\": 1,\\n   \"736100451\": 1,\\n   \"825229519\": 1,\\n   \"813695172\": 1,\\n   \"736100450\": 1,\\n   \"825229518\": 1,\\n   \"813695171\": 1,\\n   \"736100449\": 1,\\n   \"825229517\": 1,\\n   \"813695170\": 1,\\n   \"736100448\": 1,\\n   \"825229516\": 1,\\n   \"813695169\": 1,\\n   \"736100447\": 1,\\n   \"825229515\": 1,\\n   \"813695168\": 1,\\n   \"736100446\": 1,\\n   \"825229514\": 1,\\n   \"813695167\": 1,\\n   \"736100445\": 1,\\n   \"825229513\": 1,\\n   \"813695166\": 1,\\n   \"736100444\": 1,\\n   \"825229512\": 1,\\n   \"813695165\": 1,\\n   \"736100443\": 1,\\n   \"825229511\": 1,\\n   \"813695164\": 1,\\n   \"736100442\": 1,\\n   \"813695279\": 1,\\n   \"736100557\": 1,\\n   \"813695278\": 1,\\n   \"736100556\": 1,\\n   \"813695277\": 1,\\n   \"736100555\": 1,\\n   \"813695276\": 1,\\n   \"736100554\": 1,\\n   \"813695275\": 1,\\n   \"736100553\": 1,\\n   \"813695274\": 1,\\n   \"736100552\": 1,\\n   \"813695273\": 1,\\n   \"736100551\": 1,\\n   \"787480663\": 1,\\n   \"787480662\": 1,\\n   \"787480661\": 1,\\n   \"787480660\": 1,\\n   \"787480659\": 1,\\n   \"787480658\": 1,\\n   \"787480657\": 1,\\n   \"787480656\": 1,\\n   \"787480655\": 1,\\n   \"787480654\": 1,\\n   \"787480653\": 1,\\n   \"787480652\": 1,\\n   \"787480651\": 1,\\n   \"787480650\": 1,\\n   \"787480649\": 1,\\n   \"787480648\": 1,\\n   \"787480647\": 1,\\n   \"787480646\": 1,\\n   \"787480645\": 1,\\n   \"787480644\": 1,\\n   \"787480643\": 1,\\n   \"787480642\": 1,\\n   \"787480641\": 1,\\n   \"787480640\": 1,\\n   \"787480639\": 1,\\n   \"787480638\": 1,\\n   \"787480637\": 1,\\n   \"787480636\": 1,\\n   \"787480635\": 1,\\n   \"787480634\": 1,\\n   \"787480633\": 1,\\n   \"787480632\": 1,\\n   \"787480631\": 1,\\n   \"787480630\": 1,\\n   \"787480629\": 1,\\n   \"787480628\": 1,\\n   \"787480627\": 1,\\n   \"787480626\": 1,\\n   \"787480625\": 1,\\n   \"787480624\": 1,\\n   \"787480623\": 1,\\n   \"787480622\": 1,\\n   \"787480621\": 1,\\n   \"787480664\": 1,\\n   \"787480665\": 1,\\n   \"787480666\": 1,\\n   \"787480667\": 1,\\n   \"787480668\": 1,\\n   \"787480669\": 1,\\n   \"787480670\": 1,\\n   \"787480671\": 1,\\n   \"787480672\": 1,\\n   \"787480673\": 1,\\n   \"787480674\": 1,\\n   \"787480675\": 1,\\n   \"787480676\": 1,\\n   \"787480677\": 1,\\n   \"787480678\": 1,\\n   \"787480679\": 1,\\n   \"787480680\": 1,\\n   \"787480681\": 1,\\n   \"787480682\": 1,\\n   \"787480683\": 1,\\n   \"787480684\": 1,\\n   \"787480685\": 1,\\n   \"787480686\": 1,\\n   \"787480687\": 1,\\n   \"787480688\": 1,\\n   \"787480689\": 1,\\n   \"787480690\": 1,\\n   \"787480691\": 1,\\n   \"787480692\": 1,\\n   \"787480693\": 1,\\n   \"787480694\": 1,\\n   \"787480695\": 1,\\n   \"787480696\": 1,\\n   \"787480697\": 1,\\n   \"787480698\": 1,\\n   \"787480699\": 1,\\n   \"787480700\": 1,\\n   \"787480701\": 1,\\n   \"787480702\": 1,\\n   \"787480703\": 1,\\n   \"787480704\": 1,\\n   \"787480705\": 1,\\n   \"787480706\": 1,\\n   \"787480707\": 1,\\n   \"787480708\": 1,\\n   \"787480709\": 1,\\n   \"787480710\": 1,\\n   \"787480711\": 1,\\n   \"787480712\": 1,\\n   \"787480713\": 1,\\n   \"787480714\": 1,\\n   \"787480715\": 1,\\n   \"787480716\": 1,\\n   \"787480717\": 1,\\n   \"787480718\": 1,\\n   \"787480719\": 1,\\n   \"787480720\": 1,\\n   \"787480721\": 1,\\n   \"787480722\": 1,\\n   \"787480723\": 1,\\n   \"787480724\": 1,\\n   \"787480725\": 1,\\n   \"787480726\": 1,\\n   \"787480727\": 1,\\n   \"787480728\": 1,\\n   \"787480729\": 1,\\n   \"787480730\": 1,\\n   \"787480731\": 1,\\n   \"787480732\": 1,\\n   \"787480733\": 1,\\n   \"787480734\": 1,\\n   \"787480735\": 1,\\n   \"787480736\": 1,\\n   \"787480737\": 1,\\n   \"787480738\": 1,\\n   \"787480739\": 1,\\n   \"787480740\": 1,\\n   \"787480741\": 1,\\n   \"787480742\": 1,\\n   \"787480743\": 1,\\n   \"813695074\": 1,\\n   \"736100352\": 1,\\n   \"825229421\": 1,\\n   \"787480744\": 1,\\n   \"813695075\": 1,\\n   \"736100353\": 1,\\n   \"825229422\": 1,\\n   \"787480745\": 1,\\n   \"813695076\": 1,\\n   \"736100354\": 1,\\n   \"825229423\": 1,\\n   \"787480746\": 1,\\n   \"813695077\": 1,\\n   \"736100355\": 1,\\n   \"825229424\": 1,\\n   \"787480747\": 1,\\n   \"813695078\": 1,\\n   \"736100356\": 1,\\n   \"825229425\": 1,\\n   \"787480748\": 1,\\n   \"813695079\": 1,\\n   \"736100357\": 1,\\n   \"825229426\": 1,\\n   \"787480749\": 1,\\n   \"813695080\": 1,\\n   \"736100358\": 1,\\n   \"825229427\": 1,\\n   \"787480750\": 1,\\n   \"813695081\": 1,\\n   \"736100359\": 1,\\n   \"825229428\": 1,\\n   \"787480751\": 1,\\n   \"813695082\": 1,\\n   \"736100360\": 1,\\n   \"825229429\": 1,\\n   \"787480752\": 1,\\n   \"813695083\": 1,\\n   \"736100361\": 1,\\n   \"825229430\": 1,\\n   \"787480753\": 1,\\n   \"813695084\": 1,\\n   \"736100362\": 1,\\n   \"825229431\": 1,\\n   \"787480754\": 1,\\n   \"813695085\": 1,\\n   \"736100363\": 1,\\n   \"825229432\": 1,\\n   \"787480755\": 1,\\n   \"813695086\": 1,\\n   \"736100364\": 1,\\n   \"825229433\": 1,\\n   \"787480756\": 1,\\n   \"813695087\": 1,\\n   \"736100365\": 1,\\n   \"825229434\": 1,\\n   \"787480757\": 1,\\n   \"813695088\": 1,\\n   \"736100366\": 1,\\n   \"825229435\": 1,\\n   \"787480758\": 1,\\n   \"813695089\": 1,\\n   \"736100367\": 1,\\n   \"825229436\": 1,\\n   \"787480759\": 1,\\n   \"813695090\": 1,\\n   \"736100368\": 1,\\n   \"825229437\": 1,\\n   \"787480760\": 1,\\n   \"813695091\": 1,\\n   \"736100369\": 1,\\n   \"825229438\": 1,\\n   \"787480761\": 1,\\n   \"813695092\": 1,\\n   \"736100370\": 1,\\n   \"825229439\": 1,\\n   \"787480762\": 1,\\n   \"813695093\": 1,\\n   \"736100371\": 1,\\n   \"825229440\": 1,\\n   \"787480763\": 1,\\n   \"813695094\": 1,\\n   \"736100372\": 1,\\n   \"825229441\": 1,\\n   \"787480764\": 1,\\n   \"813695095\": 1,\\n   \"736100373\": 1,\\n   \"825229442\": 1,\\n   \"787480765\": 1,\\n   \"813695096\": 1,\\n   \"736100374\": 1,\\n   \"825229443\": 1,\\n   \"787480766\": 1,\\n   \"813695097\": 1,\\n   \"736100375\": 1,\\n   \"825229444\": 1,\\n   \"787480767\": 1,\\n   \"813695098\": 1,\\n   \"736100376\": 1,\\n   \"825229445\": 1,\\n   \"787480768\": 1,\\n   \"813695099\": 1,\\n   \"736100377\": 1,\\n   \"825229446\": 1,\\n   \"787480769\": 1,\\n   \"813695100\": 1,\\n   \"736100378\": 1,\\n   \"825229447\": 1,\\n   \"787480770\": 1,\\n   \"813695101\": 1,\\n   \"736100379\": 1,\\n   \"825229448\": 1,\\n   \"787480771\": 1,\\n   \"813695280\": 1,\\n   \"736100558\": 1,\\n   \"825229312\": 1,\\n   \"813695102\": 1,\\n   \"736100380\": 1,\\n   \"825229449\": 1,\\n   \"787480772\": 1,\\n   \"813695281\": 1,\\n   \"736100559\": 1,\\n   \"825229313\": 1,\\n   \"813695103\": 1,\\n   \"736100381\": 1,\\n   \"825229450\": 1,\\n   \"787480773\": 1,\\n   \"813695282\": 1,\\n   \"736100560\": 1,\\n   \"825229314\": 1,\\n   \"813695104\": 1,\\n   \"736100382\": 1,\\n   \"825229451\": 1,\\n   \"787480774\": 1,\\n   \"813695283\": 1,\\n   \"736100561\": 1,\\n   \"825229315\": 1,\\n   \"813695105\": 1,\\n   \"736100383\": 1,\\n   \"825229452\": 1,\\n   \"787480775\": 1,\\n   \"813695284\": 1,\\n   \"736100562\": 1,\\n   \"825229316\": 1,\\n   \"813695106\": 1,\\n   \"736100384\": 1,\\n   \"825229453\": 1,\\n   \"787480776\": 1,\\n   \"813695285\": 1,\\n   \"736100563\": 1,\\n   \"825229317\": 1,\\n   \"813695107\": 1,\\n   \"736100385\": 1,\\n   \"825229454\": 1,\\n   \"787480777\": 1,\\n   \"813695286\": 1,\\n   \"736100564\": 1,\\n   \"825229318\": 1,\\n   \"813695108\": 1,\\n   \"736100386\": 1,\\n   \"825229455\": 1,\\n   \"787480778\": 1,\\n   \"813695287\": 1,\\n   \"736100565\": 1,\\n   \"825229319\": 1,\\n   \"813695109\": 1,\\n   \"736100387\": 1,\\n   \"825229456\": 1,\\n   \"787480779\": 1,\\n   \"813695288\": 1,\\n   \"736100566\": 1,\\n   \"825229320\": 1,\\n   \"813695110\": 1,\\n   \"736100388\": 1,\\n   \"825229457\": 1,\\n   \"787480780\": 1,\\n   \"813695289\": 1,\\n   \"736100567\": 1,\\n   \"825229321\": 1,\\n   \"813695111\": 1,\\n   \"736100389\": 1,\\n   \"825229458\": 1,\\n   \"787480781\": 1,\\n   \"813695290\": 1,\\n   \"736100568\": 1,\\n   \"825229322\": 1,\\n   \"813695112\": 1,\\n   \"736100390\": 1,\\n   \"825229459\": 1,\\n   \"787480782\": 1,\\n   \"813695291\": 1,\\n   \"736100569\": 1,\\n   \"825229323\": 1,\\n   \"813695113\": 1,\\n   \"736100391\": 1,\\n   \"825229460\": 1,\\n   \"787480783\": 1,\\n   \"813695292\": 1,\\n   \"736100570\": 1,\\n   \"825229324\": 1,\\n   \"813695114\": 1,\\n   \"736100392\": 1,\\n   \"825229461\": 1,\\n   \"787480784\": 1,\\n   \"813695293\": 1,\\n   \"736100571\": 1,\\n   \"825229325\": 1,\\n   \"813695115\": 1,\\n   \"736100393\": 1,\\n   \"825229462\": 1,\\n   \"787480785\": 1,\\n   \"813695294\": 1,\\n   \"736100572\": 1,\\n   \"825229326\": 1,\\n   \"813695116\": 1,\\n   \"736100394\": 1,\\n   \"825229463\": 1,\\n   \"787480786\": 1,\\n   \"813695295\": 1,\\n   \"736100573\": 1,\\n   \"825229327\": 1,\\n   \"813695117\": 1,\\n   \"736100395\": 1,\\n   \"825229464\": 1,\\n   \"787480787\": 1,\\n   \"813695296\": 1,\\n   \"736100574\": 1,\\n   \"825229328\": 1,\\n   \"813695118\": 1,\\n   \"736100396\": 1,\\n   \"825229465\": 1,\\n   \"787480788\": 1,\\n   \"813695297\": 1,\\n   \"736100575\": 1,\\n   \"825229329\": 1,\\n   \"813695119\": 1,\\n   \"736100397\": 1,\\n   \"825229466\": 1,\\n   \"787480789\": 1,\\n   \"813695298\": 1,\\n   \"736100576\": 1,\\n   \"825229330\": 1,\\n   \"813695120\": 1,\\n   \"736100398\": 1,\\n   \"825229467\": 1,\\n   \"787480790\": 1,\\n   \"813695299\": 1,\\n   \"736100577\": 1,\\n   \"825229331\": 1,\\n   \"813695121\": 1,\\n   \"736100399\": 1,\\n   \"825229468\": 1,\\n   \"787480791\": 1,\\n   \"813695300\": 1,\\n   \"736100578\": 1,\\n   \"825229332\": 1,\\n   \"813695122\": 1,\\n   \"736100400\": 1,\\n   \"825229469\": 1,\\n   \"787480792\": 1,\\n   \"813695301\": 1,\\n   \"736100579\": 1,\\n   \"825229333\": 1,\\n   \"813695123\": 1,\\n   \"736100401\": 1,\\n   \"825229470\": 1,\\n   \"787480793\": 1,\\n   \"813695302\": 1,\\n   \"736100580\": 1,\\n   \"825229334\": 1,\\n   \"813695124\": 1,\\n   \"736100402\": 1,\\n   \"825229471\": 1,\\n   \"787480794\": 1,\\n   \"813695303\": 1,\\n   \"736100581\": 1,\\n   \"825229335\": 1,\\n   \"813695125\": 1,\\n   \"736100403\": 1,\\n   \"825229472\": 1,\\n   \"787480795\": 1,\\n   \"813695304\": 1,\\n   \"736100582\": 1,\\n   \"825229336\": 1,\\n   \"813695126\": 1,\\n   \"736100404\": 1,\\n   \"825229473\": 1,\\n   \"787480796\": 1,\\n   \"813695305\": 1,\\n   \"736100583\": 1,\\n   \"825229337\": 1,\\n   \"813695127\": 1,\\n   \"736100405\": 1,\\n   \"825229474\": 1,\\n   \"787480797\": 1,\\n   \"813695306\": 1,\\n   \"736100584\": 1,\\n   \"825229338\": 1,\\n   \"813695128\": 1,\\n   \"736100406\": 1,\\n   \"825229475\": 1,\\n   \"787480798\": 1,\\n   \"813695307\": 1,\\n   \"736100585\": 1,\\n   \"825229339\": 1,\\n   \"813695129\": 1,\\n   \"736100407\": 1,\\n   \"825229476\": 1,\\n   \"787480799\": 1,\\n   \"813695308\": 1,\\n   \"736100586\": 1,\\n   \"825229340\": 1,\\n   \"813695130\": 1,\\n   \"736100408\": 1,\\n   \"825229477\": 1,\\n   \"787480800\": 1,\\n   \"813695309\": 1,\\n   \"736100587\": 1,\\n   \"825229341\": 1,\\n   \"813695131\": 1,\\n   \"736100409\": 1,\\n   \"825229478\": 1,\\n   \"787480801\": 1,\\n   \"813695310\": 1,\\n   \"736100588\": 1,\\n   \"825229342\": 1,\\n   \"813695132\": 1,\\n   \"736100410\": 1,\\n   \"825229479\": 1,\\n   \"787480802\": 1,\\n   \"736100589\": 1,\\n   \"825229343\": 1,\\n   \"813695133\": 1,\\n   \"736100411\": 1,\\n   \"825229480\": 1,\\n   \"787480803\": 1,\\n   \"736100590\": 1,\\n   \"825229344\": 1,\\n   \"813695134\": 1,\\n   \"736100412\": 1,\\n   \"825229481\": 1,\\n   \"787480804\": 1,\\n   \"736100591\": 1,\\n   \"825229345\": 1,\\n   \"813695135\": 1,\\n   \"736100413\": 1,\\n   \"825229482\": 1,\\n   \"787480805\": 1,\\n   \"736100592\": 1,\\n   \"825229346\": 1,\\n   \"813695136\": 1,\\n   \"736100414\": 1,\\n   \"825229483\": 1,\\n   \"787480806\": 1,\\n   \"736100593\": 1,\\n   \"825229347\": 1,\\n   \"813695137\": 1,\\n   \"736100415\": 1,\\n   \"825229484\": 1,\\n   \"787480807\": 1,\\n   \"736100594\": 1,\\n   \"825229348\": 1,\\n   \"813695138\": 1,\\n   \"736100416\": 1,\\n   \"825229485\": 1,\\n   \"787480808\": 1,\\n   \"736100595\": 1,\\n   \"825229349\": 1,\\n   \"813695139\": 1,\\n   \"736100417\": 1,\\n   \"825229486\": 1,\\n   \"787480809\": 1,\\n   \"736100596\": 1,\\n   \"825229350\": 1,\\n   \"813695140\": 1,\\n   \"736100418\": 1,\\n   \"825229487\": 1,\\n   \"787480810\": 1,\\n   \"736100597\": 1,\\n   \"825229351\": 1,\\n   \"813695141\": 1,\\n   \"736100419\": 1,\\n   \"825229488\": 1,\\n   \"787480811\": 1,\\n   \"736100598\": 1,\\n   \"825229352\": 1,\\n   \"813695142\": 1,\\n   \"736100420\": 1,\\n   \"825229489\": 1,\\n   \"787480812\": 1,\\n   \"736100599\": 1,\\n   \"825229353\": 1,\\n   \"813695143\": 1,\\n   \"736100421\": 1,\\n   \"825229490\": 1,\\n   \"787480813\": 1,\\n   \"736100600\": 1,\\n   \"825229354\": 1,\\n   \"813695144\": 1,\\n   \"736100422\": 1,\\n   \"825229491\": 1,\\n   \"787480814\": 1,\\n   \"736100601\": 1,\\n   \"825229355\": 1,\\n   \"813695145\": 1,\\n   \"736100423\": 1,\\n   \"825229492\": 1,\\n   \"787480815\": 1,\\n   \"736100602\": 1,\\n   \"825229356\": 1,\\n   \"813695146\": 1,\\n   \"736100424\": 1,\\n   \"825229493\": 1,\\n   \"787480816\": 1,\\n   \"736100603\": 1,\\n   \"825229357\": 1,\\n   \"813695147\": 1,\\n   \"736100425\": 1,\\n   \"825229494\": 1,\\n   \"787480817\": 1,\\n   \"736100604\": 1,\\n   \"825229358\": 1,\\n   \"813695148\": 1,\\n   \"736100426\": 1,\\n   \"825229495\": 1,\\n   \"787480818\": 1,\\n   \"736100605\": 1,\\n   \"825229359\": 1,\\n   \"813695149\": 1,\\n   \"736100427\": 1,\\n   \"825229496\": 1,\\n   \"787480819\": 1,\\n   \"736100606\": 1,\\n   \"825229360\": 1,\\n   \"813695150\": 1,\\n   \"736100428\": 1,\\n   \"825229497\": 1,\\n   \"787480820\": 1,\\n   \"736100607\": 1,\\n   \"825229361\": 1,\\n   \"813695151\": 1,\\n   \"736100429\": 1,\\n   \"825229498\": 1,\\n   \"787480821\": 1,\\n   \"736100608\": 1,\\n   \"825229362\": 1,\\n   \"813695152\": 1,\\n   \"736100430\": 1,\\n   \"825229499\": 1,\\n   \"787480822\": 1,\\n   \"736100609\": 1,\\n   \"825229363\": 1,\\n   \"813695153\": 1,\\n   \"736100431\": 1,\\n   \"825229500\": 1,\\n   \"787480823\": 1,\\n   \"736100610\": 1,\\n   \"825229364\": 1,\\n   \"813695154\": 1,\\n   \"736100432\": 1,\\n   \"825229501\": 1,\\n   \"787480824\": 1,\\n   \"736100611\": 1,\\n   \"825229365\": 1,\\n   \"813695155\": 1,\\n   \"736100433\": 1,\\n   \"825229502\": 1,\\n   \"787480825\": 1,\\n   \"736100612\": 1,\\n   \"825229366\": 1,\\n   \"813695156\": 1,\\n   \"736100434\": 1,\\n   \"825229503\": 1,\\n   \"787480826\": 1,\\n   \"736100613\": 1,\\n   \"825229367\": 1,\\n   \"813695157\": 1,\\n   \"736100435\": 1,\\n   \"825229504\": 1,\\n   \"787480827\": 1,\\n   \"736100614\": 1,\\n   \"825229368\": 1,\\n   \"813695158\": 1,\\n   \"736100436\": 1,\\n   \"825229505\": 1,\\n   \"787480828\": 1,\\n   \"736100615\": 1,\\n   \"825229369\": 1,\\n   \"813695159\": 1,\\n   \"736100437\": 1,\\n   \"825229506\": 1,\\n   \"787480829\": 1,\\n   \"736100616\": 1,\\n   \"825229370\": 1,\\n   \"813695160\": 1,\\n   \"736100438\": 1,\\n   \"825229507\": 1,\\n   \"787480830\": 1,\\n   \"736100617\": 1,\\n   \"825229371\": 1,\\n   \"813695161\": 1,\\n   \"736100439\": 1,\\n   \"825229508\": 1,\\n   \"787480831\": 1,\\n   \"736100618\": 1,\\n   \"825229372\": 1,\\n   \"813695162\": 1,\\n   \"736100440\": 1,\\n   \"825229509\": 1,\\n   \"787480832\": 1,\\n   \"736100619\": 1,\\n   \"825229373\": 1,\\n   \"813695163\": 1,\\n   \"736100441\": 1,\\n   \"825229510\": 1,\\n   \"787480833\": 1,\\n   \"736100620\": 1,\\n   \"825229374\": 1,\\n   \"787480834\": 1,\\n   \"736100621\": 1,\\n   \"825229375\": 1,\\n   \"787480835\": 1,\\n   \"736100622\": 1,\\n   \"825229376\": 1,\\n   \"787480836\": 1,\\n   \"736100623\": 1,\\n   \"825229377\": 1,\\n   \"787480837\": 1,\\n   \"736100624\": 1,\\n   \"825229378\": 1,\\n   \"787480838\": 1,\\n   \"736100625\": 1,\\n   \"825229379\": 1,\\n   \"787480839\": 1,\\n   \"736100626\": 1,\\n   \"825229380\": 1,\\n   \"787480840\": 1,\\n   \"736100627\": 1,\\n   \"825229381\": 1,\\n   \"787480841\": 1,\\n   \"736100628\": 1,\\n   \"825229382\": 1,\\n   \"787480842\": 1,\\n   \"736100629\": 1,\\n   \"825229383\": 1,\\n   \"787480843\": 1,\\n   \"736100630\": 1,\\n   \"825229384\": 1,\\n   \"787480844\": 1,\\n   \"736100631\": 1,\\n   \"825229385\": 1,\\n   \"787480845\": 1,\\n   \"736100632\": 1,\\n   \"825229386\": 1,\\n   \"787480846\": 1,\\n   \"736100633\": 1,\\n   \"825229387\": 1,\\n   \"787480847\": 1,\\n   \"736100634\": 1,\\n   \"825229388\": 1,\\n   \"787480848\": 1,\\n   \"736100635\": 1,\\n   \"825229389\": 1,\\n   \"787480849\": 1,\\n   \"736100636\": 1,\\n   \"825229390\": 1,\\n   \"787480850\": 1,\\n   \"736100637\": 1,\\n   \"825229391\": 1,\\n   \"787480851\": 1,\\n   \"736100638\": 1,\\n   \"825229392\": 1,\\n   \"787480852\": 1,\\n   \"736100639\": 1,\\n   \"825229393\": 1,\\n   \"787480853\": 1,\\n   \"736100640\": 1,\\n   \"825229394\": 1,\\n   \"787480854\": 1,\\n   \"736100641\": 1,\\n   \"825229395\": 1,\\n   \"787480855\": 1,\\n   \"736100642\": 1,\\n   \"825229396\": 1,\\n   \"787480856\": 1,\\n   \"736100643\": 1,\\n   \"825229397\": 1,\\n   \"787480857\": 1,\\n   \"736100644\": 1,\\n   \"825229398\": 1,\\n   \"787480858\": 1,\\n   \"736100645\": 1,\\n   \"825229399\": 1,\\n   \"787480859\": 1,\\n   \"736100646\": 1,\\n   \"825229400\": 1,\\n   \"787480860\": 1,\\n   \"736100647\": 1,\\n   \"825229401\": 1,\\n   \"787480861\": 1,\\n   \"736100648\": 1,\\n   \"825229402\": 1,\\n   \"787480862\": 1,\\n   \"736100649\": 1,\\n   \"825229403\": 1,\\n   \"787480863\": 1,\\n   \"736100650\": 1,\\n   \"825229404\": 1,\\n   \"787480864\": 1,\\n   \"736100651\": 1,\\n   \"825229405\": 1,\\n   \"787480865\": 1,\\n   \"736100652\": 1,\\n   \"825229406\": 1,\\n   \"787480866\": 1,\\n   \"736100653\": 1,\\n   \"825229407\": 1,\\n   \"787480867\": 1,\\n   \"736100654\": 1,\\n   \"825229408\": 1,\\n   \"787480868\": 1,\\n   \"736100655\": 1,\\n   \"825229409\": 1,\\n   \"787480869\": 1,\\n   \"736100656\": 1,\\n   \"825229410\": 1,\\n   \"787480870\": 1,\\n   \"736100657\": 1,\\n   \"825229411\": 1,\\n   \"787480871\": 1,\\n   \"825229412\": 1,\\n   \"787480872\": 1,\\n   \"825229413\": 1,\\n   \"787480873\": 1,\\n   \"825229414\": 1,\\n   \"787480874\": 1,\\n   \"825229415\": 1,\\n   \"787480875\": 1,\\n   \"825229416\": 1,\\n   \"787480876\": 1,\\n   \"825229417\": 1,\\n   \"787480877\": 1,\\n   \"825229418\": 1,\\n   \"787480878\": 1,\\n   \"825229419\": 1,\\n   \"787480879\": 1,\\n   \"825229420\": 1,\\n   \"787480880\": 1,\\n   \"787480881\": 1,\\n   \"787480882\": 1,\\n   \"787480883\": 1,\\n   \"787480884\": 1,\\n   \"787480885\": 1,\\n   \"787480886\": 1,\\n   \"787480887\": 1,\\n   \"787480888\": 1,\\n   \"787480889\": 1,\\n   \"787480890\": 1,\\n   \"787480891\": 1,\\n   \"787480892\": 1,\\n   \"762314834\": 1,\\n   \"762314833\": 1,\\n   \"762314832\": 1,\\n   \"762314831\": 1,\\n   \"762314830\": 1,\\n   \"762314829\": 1,\\n   \"762314828\": 1,\\n   \"762314827\": 1,\\n   \"762314826\": 1,\\n   \"762314825\": 1,\\n   \"762314824\": 1,\\n   \"762314823\": 1,\\n   \"762314822\": 1,\\n   \"762314821\": 1,\\n   \"762314820\": 1,\\n   \"762314819\": 1,\\n   \"762314818\": 1,\\n   \"762314817\": 1,\\n   \"762314816\": 1,\\n   \"762314815\": 1,\\n   \"762314814\": 1,\\n   \"762314813\": 1,\\n   \"762314812\": 1,\\n   \"762314811\": 1,\\n   \"762314810\": 1,\\n   \"762314809\": 1,\\n   \"762314808\": 1,\\n   \"762314807\": 1,\\n   \"762314806\": 1,\\n   \"762314805\": 1,\\n   \"762314804\": 1,\\n   \"762314803\": 1,\\n   \"762314802\": 1,\\n   \"762314801\": 1,\\n   \"762314800\": 1,\\n   \"762314799\": 1,\\n   \"762314798\": 1,\\n   \"762314797\": 1,\\n   \"762314796\": 1,\\n   \"762314795\": 1,\\n   \"762314794\": 1,\\n   \"762314793\": 1,\\n   \"762314792\": 1,\\n   \"762314791\": 1,\\n   \"762314790\": 1,\\n   \"762314789\": 1,\\n   \"762314788\": 1,\\n   \"762314787\": 1,\\n   \"762314786\": 1,\\n   \"762314785\": 1,\\n   \"762314784\": 1,\\n   \"762314783\": 1,\\n   \"762314782\": 1,\\n   \"762314781\": 1,\\n   \"762314780\": 1,\\n   \"762314779\": 1,\\n   \"762314778\": 1,\\n   \"762314777\": 1,\\n   \"762314776\": 1,\\n   \"762314775\": 1,\\n   \"762314774\": 1,\\n   \"762314773\": 1,\\n   \"762314772\": 1,\\n   \"762314771\": 1,\\n   \"762314770\": 1,\\n   \"762314769\": 1,\\n   \"762314768\": 1,\\n   \"762314767\": 1,\\n   \"762314766\": 1,\\n   \"762314765\": 1,\\n   \"762314764\": 1,\\n   \"762314763\": 1,\\n   \"762314762\": 1,\\n   \"762314761\": 1,\\n   \"762314760\": 1,\\n   \"762314759\": 1,\\n   \"762314758\": 1,\\n   \"762314757\": 1,\\n   \"762314756\": 1,\\n   \"762314755\": 1,\\n   \"762314754\": 1,\\n   \"762314753\": 1,\\n   \"762314752\": 1,\\n   \"762314966\": 1,\\n   \"762314965\": 1,\\n   \"762314964\": 1,\\n   \"762314963\": 1,\\n   \"762314962\": 1,\\n   \"762314961\": 1,\\n   \"762314960\": 1,\\n   \"762314959\": 1,\\n   \"762314958\": 1,\\n   \"762314957\": 1,\\n   \"762314956\": 1,\\n   \"762314955\": 1,\\n   \"762314954\": 1,\\n   \"762314953\": 1,\\n   \"762314952\": 1,\\n   \"762314951\": 1,\\n   \"762314950\": 1,\\n   \"762314949\": 1,\\n   \"762314948\": 1,\\n   \"762314947\": 1,\\n   \"762314946\": 1,\\n   \"762314945\": 1,\\n   \"762314944\": 1,\\n   \"762314943\": 1,\\n   \"762314942\": 1,\\n   \"762314941\": 1,\\n   \"762314940\": 1,\\n   \"762314939\": 1,\\n   \"762314938\": 1,\\n   \"762314937\": 1,\\n   \"762314936\": 1,\\n   \"762314935\": 1,\\n   \"762314934\": 1,\\n   \"762314933\": 1,\\n   \"762314932\": 1,\\n   \"762314931\": 1,\\n   \"762314930\": 1,\\n   \"762314929\": 1,\\n   \"762314928\": 1,\\n   \"762314927\": 1,\\n   \"762314926\": 1,\\n   \"762314925\": 1,\\n   \"762314924\": 1,\\n   \"762314923\": 1,\\n   \"762314922\": 1,\\n   \"762314921\": 1,\\n   \"762314920\": 1,\\n   \"762314919\": 1,\\n   \"762314918\": 1,\\n   \"762314917\": 1,\\n   \"762314892\": 1,\\n   \"762314891\": 1,\\n   \"762314890\": 1,\\n   \"762314889\": 1,\\n   \"762314888\": 1,\\n   \"762314887\": 1,\\n   \"762314886\": 1,\\n   \"762314885\": 1,\\n   \"762314884\": 1,\\n   \"762314883\": 1,\\n   \"762314882\": 1,\\n   \"762314881\": 1,\\n   \"762314835\": 1,\\n   \"762314871\": 1,\\n   \"762314836\": 1,\\n   \"762314872\": 1,\\n   \"762314837\": 1,\\n   \"762314873\": 1,\\n   \"762314838\": 1,\\n   \"762314874\": 1,\\n   \"762314839\": 1,\\n   \"762314875\": 1,\\n   \"762314840\": 1,\\n   \"762314876\": 1,\\n   \"762314877\": 1,\\n   \"762314878\": 1,\\n   \"762314879\": 1,\\n   \"762314880\": 1,\\n   \"762314893\": 1,\\n   \"762314894\": 1,\\n   \"762314895\": 1,\\n   \"762314896\": 1,\\n   \"762314897\": 1,\\n   \"762314898\": 1,\\n   \"762314899\": 1,\\n   \"762314900\": 1,\\n   \"762314901\": 1,\\n   \"762314902\": 1,\\n   \"762314903\": 1,\\n   \"762314904\": 1,\\n   \"762314905\": 1,\\n   \"762314906\": 1,\\n   \"762314907\": 1,\\n   \"762314908\": 1,\\n   \"762314909\": 1,\\n   \"762314910\": 1,\\n   \"762314911\": 1,\\n   \"762314912\": 1,\\n   \"762314913\": 1,\\n   \"762314914\": 1,\\n   \"762314915\": 1,\\n   \"762314916\": 1,\\n   \"762314967\": 1,\\n   \"762314968\": 1,\\n   \"762314969\": 1,\\n   \"762314970\": 1,\\n   \"762314971\": 1,\\n   \"762314972\": 1,\\n   \"762314973\": 1,\\n   \"762314974\": 1,\\n   \"762314975\": 1,\\n   \"762314976\": 1,\\n   \"762314977\": 1,\\n   \"762314978\": 1,\\n   \"762314979\": 1,\\n   \"762314980\": 1,\\n   \"762314981\": 1,\\n   \"762314982\": 1,\\n   \"762314983\": 1,\\n   \"762314984\": 1,\\n   \"762314985\": 1,\\n   \"762314986\": 1,\\n   \"762314987\": 1,\\n   \"762314988\": 1,\\n   \"762314989\": 1,\\n   \"762314990\": 1,\\n   \"762314991\": 1,\\n   \"762314992\": 1,\\n   \"762314993\": 1,\\n   \"762314994\": 1,\\n   \"762314995\": 1,\\n   \"762314996\": 1,\\n   \"762314997\": 1,\\n   \"762314998\": 1,\\n   \"762314999\": 1,\\n   \"762315000\": 1,\\n   \"762315001\": 1,\\n   \"762315002\": 1,\\n   \"762315003\": 1,\\n   \"762315004\": 1,\\n   \"762315005\": 1,\\n   \"762315006\": 1,\\n   \"762315007\": 1,\\n   \"762315008\": 1,\\n   \"762315009\": 1,\\n   \"762315010\": 1,\\n   \"762315011\": 1,\\n   \"762315012\": 1,\\n   \"762315013\": 1,\\n   \"762315014\": 1,\\n   \"762315015\": 1,\\n   \"762315016\": 1,\\n   \"762315017\": 1,\\n   \"762315018\": 1,\\n   \"762315019\": 1,\\n   \"762315020\": 1,\\n   \"762315021\": 1,\\n   \"762315022\": 1,\\n   \"762315023\": 1,\\n   \"762315024\": 1,\\n   \"762315025\": 1,\\n   \"762315026\": 1,\\n   \"762315027\": 1,\\n   \"762315028\": 1,\\n   \"809500672\": 1,\\n   \"762315029\": 1,\\n   \"809500673\": 1,\\n   \"762315030\": 1,\\n   \"809500674\": 1,\\n   \"762315031\": 1,\\n   \"809500675\": 1,\\n   \"762315032\": 1,\\n   \"809500676\": 1,\\n   \"762315033\": 1,\\n   \"809500677\": 1,\\n   \"762315034\": 1,\\n   \"809500678\": 1,\\n   \"762315035\": 1,\\n   \"809500679\": 1,\\n   \"762315036\": 1,\\n   \"809500680\": 1,\\n   \"762315037\": 1,\\n   \"809500681\": 1,\\n   \"762315038\": 1,\\n   \"809500682\": 1,\\n   \"762315039\": 1,\\n   \"809500683\": 1,\\n   \"762315040\": 1,\\n   \"809500684\": 1,\\n   \"762315041\": 1,\\n   \"809500685\": 1,\\n   \"762315042\": 1,\\n   \"809500686\": 1,\\n   \"762315043\": 1,\\n   \"809500687\": 1,\\n   \"762315044\": 1,\\n   \"809500688\": 1,\\n   \"762315045\": 1,\\n   \"809500689\": 1,\\n   \"762315046\": 1,\\n   \"762315047\": 1,\\n   \"762315048\": 1,\\n   \"762315049\": 1,\\n   \"762315050\": 1,\\n   \"762315051\": 1,\\n   \"762315052\": 1,\\n   \"762315053\": 1,\\n   \"762315054\": 1,\\n   \"762315055\": 1,\\n   \"762315056\": 1,\\n   \"762315057\": 1,\\n   \"762314841\": 1,\\n   \"762314842\": 1,\\n   \"762314843\": 1,\\n   \"762314844\": 1,\\n   \"762314845\": 1,\\n   \"762314846\": 1,\\n   \"762314847\": 1,\\n   \"762314848\": 1,\\n   \"762314849\": 1,\\n   \"762314850\": 1,\\n   \"762314851\": 1,\\n   \"762314852\": 1,\\n   \"762314853\": 1,\\n   \"762314854\": 1,\\n   \"762314855\": 1,\\n   \"762314856\": 1,\\n   \"762314857\": 1,\\n   \"762314858\": 1,\\n   \"762314859\": 1,\\n   \"762314860\": 1,\\n   \"762314861\": 1,\\n   \"762314862\": 1,\\n   \"762314863\": 1,\\n   \"762314864\": 1,\\n   \"762314865\": 1,\\n   \"762314866\": 1,\\n   \"762314867\": 1,\\n   \"762314868\": 1,\\n   \"762314869\": 1,\\n   \"762314870\": 1,\\n   \"751829349\": 1,\\n   \"751829348\": 1,\\n   \"751829347\": 1,\\n   \"751829346\": 1,\\n   \"751829345\": 1,\\n   \"751829344\": 1,\\n   \"751829343\": 1,\\n   \"751829342\": 1,\\n   \"751829341\": 1,\\n   \"751829340\": 1,\\n   \"751829339\": 1,\\n   \"751829338\": 1,\\n   \"751829337\": 1,\\n   \"751829336\": 1,\\n   \"751829335\": 1,\\n   \"751829334\": 1,\\n   \"751829333\": 1,\\n   \"751829332\": 1,\\n   \"751829331\": 1,\\n   \"751829330\": 1,\\n   \"751829329\": 1,\\n   \"751829328\": 1,\\n   \"751829327\": 1,\\n   \"751829326\": 1,\\n   \"751829325\": 1,\\n   \"751829324\": 1,\\n   \"751829323\": 1,\\n   \"751829322\": 1,\\n   \"751829321\": 1,\\n   \"751829320\": 1,\\n   \"751829319\": 1,\\n   \"751829318\": 1,\\n   \"751829317\": 1,\\n   \"751829316\": 1,\\n   \"751829315\": 1,\\n   \"751829314\": 1,\\n   \"751829313\": 1,\\n   \"751829312\": 1,\\n   \"751829311\": 1,\\n   \"751829310\": 1,\\n   \"751829309\": 1,\\n   \"751829308\": 1,\\n   \"751829307\": 1,\\n   \"751829306\": 1,\\n   \"751829305\": 1,\\n   \"751829304\": 1,\\n   \"751829303\": 1,\\n   \"751829302\": 1,\\n   \"751829301\": 1,\\n   \"751829300\": 1,\\n   \"751829299\": 1,\\n   \"751829298\": 1,\\n   \"751829297\": 1,\\n   \"751829296\": 1,\\n   \"751829295\": 1,\\n   \"751829294\": 1,\\n   \"751829293\": 1,\\n   \"751829292\": 1,\\n   \"751829291\": 1,\\n   \"751829290\": 1,\\n   \"751829289\": 1,\\n   \"751829288\": 1,\\n   \"751829287\": 1,\\n   \"751829286\": 1,\\n   \"751829285\": 1,\\n   \"751829284\": 1,\\n   \"751829283\": 1,\\n   \"751829282\": 1,\\n   \"751829281\": 1,\\n   \"751829280\": 1,\\n   \"751829279\": 1,\\n   \"751829278\": 1,\\n   \"751829277\": 1,\\n   \"751829276\": 1,\\n   \"751829275\": 1,\\n   \"751829274\": 1,\\n   \"751829273\": 1,\\n   \"751829272\": 1,\\n   \"751829271\": 1,\\n   \"751829270\": 1,\\n   \"751829269\": 1,\\n   \"751829268\": 1,\\n   \"751829267\": 1,\\n   \"751829266\": 1,\\n   \"751829265\": 1,\\n   \"751829264\": 1,\\n   \"751829263\": 1,\\n   \"751829262\": 1,\\n   \"751829261\": 1,\\n   \"751829260\": 1,\\n   \"751829259\": 1,\\n   \"751829258\": 1,\\n   \"790626618\": 1,\\n   \"751829257\": 1,\\n   \"790626617\": 1,\\n   \"751829256\": 1,\\n   \"790626616\": 1,\\n   \"751829255\": 1,\\n   \"790626615\": 1,\\n   \"751829254\": 1,\\n   \"790626614\": 1,\\n   \"751829253\": 1,\\n   \"790626613\": 1,\\n   \"751829252\": 1,\\n   \"790626612\": 1,\\n   \"751829251\": 1,\\n   \"790626611\": 1,\\n   \"751829250\": 1,\\n   \"790626610\": 1,\\n   \"751829249\": 1,\\n   \"790626609\": 1,\\n   \"751829248\": 1,\\n   \"790626608\": 1,\\n   \"751829247\": 1,\\n   \"790626607\": 1,\\n   \"751829246\": 1,\\n   \"790626606\": 1,\\n   \"751829245\": 1,\\n   \"790626605\": 1,\\n   \"751829244\": 1,\\n   \"790626604\": 1,\\n   \"751829243\": 1,\\n   \"790626603\": 1,\\n   \"751829242\": 1,\\n   \"790626602\": 1,\\n   \"751829241\": 1,\\n   \"790626601\": 1,\\n   \"751829240\": 1,\\n   \"790626600\": 1,\\n   \"751829239\": 1,\\n   \"790626599\": 1,\\n   \"751829238\": 1,\\n   \"790626598\": 1,\\n   \"751829237\": 1,\\n   \"790626597\": 1,\\n   \"751829236\": 1,\\n   \"790626596\": 1,\\n   \"751829235\": 1,\\n   \"790626595\": 1,\\n   \"751829234\": 1,\\n   \"790626594\": 1,\\n   \"751829233\": 1,\\n   \"790626593\": 1,\\n   \"751829232\": 1,\\n   \"790626592\": 1,\\n   \"751829231\": 1,\\n   \"790626591\": 1,\\n   \"751829230\": 1,\\n   \"790626590\": 1,\\n   \"751829229\": 1,\\n   \"790626589\": 1,\\n   \"751829228\": 1,\\n   \"790626588\": 1,\\n   \"751829227\": 1,\\n   \"790626587\": 1,\\n   \"751829226\": 1,\\n   \"790626586\": 1,\\n   \"751829225\": 1,\\n   \"790626585\": 1,\\n   \"751829224\": 1,\\n   \"790626584\": 1,\\n   \"751829223\": 1,\\n   \"790626583\": 1,\\n   \"751829222\": 1,\\n   \"790626582\": 1,\\n   \"751829221\": 1,\\n   \"790626581\": 1,\\n   \"751829220\": 1,\\n   \"790626580\": 1,\\n   \"751829219\": 1,\\n   \"790626579\": 1,\\n   \"751829218\": 1,\\n   \"790626578\": 1,\\n   \"751829217\": 1,\\n   \"790626577\": 1,\\n   \"751829216\": 1,\\n   \"790626576\": 1,\\n   \"751829215\": 1,\\n   \"790626575\": 1,\\n   \"751829214\": 1,\\n   \"790626574\": 1,\\n   \"751829213\": 1,\\n   \"790626573\": 1,\\n   \"751829212\": 1,\\n   \"790626572\": 1,\\n   \"751829211\": 1,\\n   \"790626571\": 1,\\n   \"751829210\": 1,\\n   \"790626570\": 1,\\n   \"751829209\": 1,\\n   \"790626569\": 1,\\n   \"751829208\": 1,\\n   \"790626568\": 1,\\n   \"751829207\": 1,\\n   \"790626567\": 1,\\n   \"751829206\": 1,\\n   \"790626566\": 1,\\n   \"751829205\": 1,\\n   \"790626565\": 1,\\n   \"751829204\": 1,\\n   \"790626564\": 1,\\n   \"751829203\": 1,\\n   \"790626563\": 1,\\n   \"751829202\": 1,\\n   \"790626562\": 1,\\n   \"751829201\": 1,\\n   \"790626561\": 1,\\n   \"751829200\": 1,\\n   \"790626560\": 1,\\n   \"751829199\": 1,\\n   \"790626559\": 1,\\n   \"751829198\": 1,\\n   \"790626558\": 1,\\n   \"751829197\": 1,\\n   \"790626557\": 1,\\n   \"751829196\": 1,\\n   \"790626556\": 1,\\n   \"751829195\": 1,\\n   \"790626555\": 1,\\n   \"751829194\": 1,\\n   \"790626554\": 1,\\n   \"751829193\": 1,\\n   \"790626553\": 1,\\n   \"751829192\": 1,\\n   \"790626552\": 1,\\n   \"751829191\": 1,\\n   \"790626551\": 1,\\n   \"751829190\": 1,\\n   \"790626448\": 1,\\n   \"751829087\": 1,\\n   \"790626447\": 1,\\n   \"751829086\": 1,\\n   \"790626446\": 1,\\n   \"751829085\": 1,\\n   \"790626445\": 1,\\n   \"751829084\": 1,\\n   \"790626444\": 1,\\n   \"751829083\": 1,\\n   \"790626443\": 1,\\n   \"751829082\": 1,\\n   \"790626442\": 1,\\n   \"751829081\": 1,\\n   \"790626441\": 1,\\n   \"751829080\": 1,\\n   \"790626440\": 1,\\n   \"751829079\": 1,\\n   \"790626439\": 1,\\n   \"751829078\": 1,\\n   \"790626438\": 1,\\n   \"751829077\": 1,\\n   \"790626437\": 1,\\n   \"751829076\": 1,\\n   \"790626436\": 1,\\n   \"751829075\": 1,\\n   \"790626435\": 1,\\n   \"751829074\": 1,\\n   \"790626434\": 1,\\n   \"751829073\": 1,\\n   \"790626433\": 1,\\n   \"751829072\": 1,\\n   \"790626432\": 1,\\n   \"751829071\": 1,\\n   \"790626431\": 1,\\n   \"751829070\": 1,\\n   \"790626430\": 1,\\n   \"751829069\": 1,\\n   \"790626429\": 1,\\n   \"751829068\": 1,\\n   \"790626428\": 1,\\n   \"751829067\": 1,\\n   \"790626427\": 1,\\n   \"751829066\": 1,\\n   \"790626426\": 1,\\n   \"751829065\": 1,\\n   \"790626425\": 1,\\n   \"751829064\": 1,\\n   \"790626424\": 1,\\n   \"751829063\": 1,\\n   \"790626423\": 1,\\n   \"751829062\": 1,\\n   \"790626422\": 1,\\n   \"751829061\": 1,\\n   \"790626421\": 1,\\n   \"751829060\": 1,\\n   \"790626420\": 1,\\n   \"751829059\": 1,\\n   \"790626419\": 1,\\n   \"751829058\": 1,\\n   \"790626418\": 1,\\n   \"751829057\": 1,\\n   \"790626417\": 1,\\n   \"751829056\": 1,\\n   \"790626416\": 1,\\n   \"751829055\": 1,\\n   \"790626415\": 1,\\n   \"751829054\": 1,\\n   \"790626414\": 1,\\n   \"751829053\": 1,\\n   \"790626413\": 1,\\n   \"751829052\": 1,\\n   \"790626412\": 1,\\n   \"751829051\": 1,\\n   \"790626411\": 1,\\n   \"751829050\": 1,\\n   \"790626410\": 1,\\n   \"751829049\": 1,\\n   \"790626409\": 1,\\n   \"751829048\": 1,\\n   \"790626408\": 1,\\n   \"751829047\": 1,\\n   \"790626407\": 1,\\n   \"751829046\": 1,\\n   \"790626406\": 1,\\n   \"751829045\": 1,\\n   \"790626405\": 1,\\n   \"751829044\": 1,\\n   \"790626404\": 1,\\n   \"751829043\": 1,\\n   \"790626403\": 1,\\n   \"751829042\": 1,\\n   \"790626402\": 1,\\n   \"751829041\": 1,\\n   \"790626401\": 1,\\n   \"751829040\": 1,\\n   \"790626400\": 1,\\n   \"751829039\": 1,\\n   \"790626399\": 1,\\n   \"751829038\": 1,\\n   \"790626374\": 1,\\n   \"751829013\": 1,\\n   \"790626373\": 1,\\n   \"751829012\": 1,\\n   \"790626372\": 1,\\n   \"751829011\": 1,\\n   \"790626371\": 1,\\n   \"751829010\": 1,\\n   \"790626370\": 1,\\n   \"751829009\": 1,\\n   \"790626369\": 1,\\n   \"751829008\": 1,\\n   \"790626368\": 1,\\n   \"751829007\": 1,\\n   \"790626367\": 1,\\n   \"751829006\": 1,\\n   \"790626366\": 1,\\n   \"751829005\": 1,\\n   \"790626365\": 1,\\n   \"751829004\": 1,\\n   \"790626364\": 1,\\n   \"751829003\": 1,\\n   \"790626363\": 1,\\n   \"751829002\": 1,\\n   \"790626353\": 1,\\n   \"751828992\": 1,\\n   \"790626354\": 1,\\n   \"751828993\": 1,\\n   \"790626355\": 1,\\n   \"751828994\": 1,\\n   \"790626356\": 1,\\n   \"751828995\": 1,\\n   \"790626357\": 1,\\n   \"751828996\": 1,\\n   \"790626358\": 1,\\n   \"751828997\": 1,\\n   \"790626359\": 1,\\n   \"751828998\": 1,\\n   \"790626360\": 1,\\n   \"751828999\": 1,\\n   \"790626361\": 1,\\n   \"751829000\": 1,\\n   \"790626362\": 1,\\n   \"751829001\": 1,\\n   \"790626375\": 1,\\n   \"751829014\": 1,\\n   \"790626376\": 1,\\n   \"751829015\": 1,\\n   \"790626377\": 1,\\n   \"751829016\": 1,\\n   \"790626378\": 1,\\n   \"751829017\": 1,\\n   \"790626379\": 1,\\n   \"751829018\": 1,\\n   \"790626380\": 1,\\n   \"751829019\": 1,\\n   \"790626381\": 1,\\n   \"751829020\": 1,\\n   \"790626382\": 1,\\n   \"751829021\": 1,\\n   \"790626383\": 1,\\n   \"751829022\": 1,\\n   \"790626384\": 1,\\n   \"751829023\": 1,\\n   \"790626385\": 1,\\n   \"751829024\": 1,\\n   \"790626386\": 1,\\n   \"751829025\": 1,\\n   \"790626387\": 1,\\n   \"751829026\": 1,\\n   \"790626388\": 1,\\n   \"751829027\": 1,\\n   \"790626389\": 1,\\n   \"751829028\": 1,\\n   \"790626390\": 1,\\n   \"751829029\": 1,\\n   \"790626391\": 1,\\n   \"751829030\": 1,\\n   \"790626392\": 1,\\n   \"751829031\": 1,\\n   \"790626393\": 1,\\n   \"751829032\": 1,\\n   \"790626394\": 1,\\n   \"751829033\": 1,\\n   \"790626395\": 1,\\n   \"751829034\": 1,\\n   \"790626396\": 1,\\n   \"751829035\": 1,\\n   \"790626397\": 1,\\n   \"751829036\": 1,\\n   \"790626398\": 1,\\n   \"751829037\": 1,\\n   \"790626449\": 1,\\n   \"751829088\": 1,\\n   \"790626450\": 1,\\n   \"751829089\": 1,\\n   \"790626451\": 1,\\n   \"751829090\": 1,\\n   \"790626452\": 1,\\n   \"751829091\": 1,\\n   \"790626453\": 1,\\n   \"751829092\": 1,\\n   \"790626454\": 1,\\n   \"751829093\": 1,\\n   \"790626455\": 1,\\n   \"751829094\": 1,\\n   \"790626456\": 1,\\n   \"751829095\": 1,\\n   \"790626457\": 1,\\n   \"751829096\": 1,\\n   \"790626458\": 1,\\n   \"751829097\": 1,\\n   \"790626459\": 1,\\n   \"751829098\": 1,\\n   \"790626460\": 1,\\n   \"751829099\": 1,\\n   \"790626461\": 1,\\n   \"751829100\": 1,\\n   \"790626462\": 1,\\n   \"751829101\": 1,\\n   \"790626463\": 1,\\n   \"751829102\": 1,\\n   \"790626464\": 1,\\n   \"751829103\": 1,\\n   \"790626465\": 1,\\n   \"751829104\": 1,\\n   \"790626466\": 1,\\n   \"751829105\": 1,\\n   \"790626467\": 1,\\n   \"751829106\": 1,\\n   \"790626468\": 1,\\n   \"751829107\": 1,\\n   \"790626469\": 1,\\n   \"751829108\": 1,\\n   \"790626470\": 1,\\n   \"751829109\": 1,\\n   \"790626471\": 1,\\n   \"751829110\": 1,\\n   \"790626472\": 1,\\n   \"751829111\": 1,\\n   \"790626473\": 1,\\n   \"751829112\": 1,\\n   \"790626474\": 1,\\n   \"751829113\": 1,\\n   \"790626475\": 1,\\n   \"751829114\": 1,\\n   \"790626476\": 1,\\n   \"751829115\": 1,\\n   \"790626477\": 1,\\n   \"751829116\": 1,\\n   \"790626478\": 1,\\n   \"751829117\": 1,\\n   \"790626479\": 1,\\n   \"751829118\": 1,\\n   \"790626480\": 1,\\n   \"751829119\": 1,\\n   \"790626481\": 1,\\n   \"751829120\": 1,\\n   \"790626482\": 1,\\n   \"751829121\": 1,\\n   \"790626483\": 1,\\n   \"751829122\": 1,\\n   \"790626484\": 1,\\n   \"751829123\": 1,\\n   \"790626485\": 1,\\n   \"751829124\": 1,\\n   \"790626486\": 1,\\n   \"751829125\": 1,\\n   \"790626487\": 1,\\n   \"751829126\": 1,\\n   \"790626488\": 1,\\n   \"751829127\": 1,\\n   \"790626489\": 1,\\n   \"751829128\": 1,\\n   \"790626490\": 1,\\n   \"751829129\": 1,\\n   \"790626491\": 1,\\n   \"751829130\": 1,\\n   \"790626492\": 1,\\n   \"751829131\": 1,\\n   \"790626493\": 1,\\n   \"751829132\": 1,\\n   \"790626494\": 1,\\n   \"751829133\": 1,\\n   \"790626495\": 1,\\n   \"751829134\": 1,\\n   \"790626496\": 1,\\n   \"751829135\": 1,\\n   \"790626497\": 1,\\n   \"751829136\": 1,\\n   \"790626498\": 1,\\n   \"751829137\": 1,\\n   \"790626499\": 1,\\n   \"751829138\": 1,\\n   \"790626500\": 1,\\n   \"751829139\": 1,\\n   \"790626501\": 1,\\n   \"751829140\": 1,\\n   \"790626502\": 1,\\n   \"751829141\": 1,\\n   \"790626503\": 1,\\n   \"751829142\": 1,\\n   \"790626504\": 1,\\n   \"751829143\": 1,\\n   \"790626505\": 1,\\n   \"751829144\": 1,\\n   \"790626506\": 1,\\n   \"751829145\": 1,\\n   \"790626507\": 1,\\n   \"751829146\": 1,\\n   \"790626508\": 1,\\n   \"751829147\": 1,\\n   \"790626509\": 1,\\n   \"751829148\": 1,\\n   \"790626510\": 1,\\n   \"751829149\": 1,\\n   \"790626511\": 1,\\n   \"751829150\": 1,\\n   \"790626512\": 1,\\n   \"751829151\": 1,\\n   \"790626513\": 1,\\n   \"751829152\": 1,\\n   \"790626514\": 1,\\n   \"751829153\": 1,\\n   \"790626515\": 1,\\n   \"751829154\": 1,\\n   \"790626516\": 1,\\n   \"751829155\": 1,\\n   \"790626517\": 1,\\n   \"751829156\": 1,\\n   \"790626518\": 1,\\n   \"751829157\": 1,\\n   \"790626519\": 1,\\n   \"751829158\": 1,\\n   \"790626520\": 1,\\n   \"751829159\": 1,\\n   \"790626521\": 1,\\n   \"751829160\": 1,\\n   \"790626522\": 1,\\n   \"751829161\": 1,\\n   \"790626523\": 1,\\n   \"751829162\": 1,\\n   \"790626524\": 1,\\n   \"751829163\": 1,\\n   \"790626525\": 1,\\n   \"751829164\": 1,\\n   \"790626526\": 1,\\n   \"751829165\": 1,\\n   \"790626527\": 1,\\n   \"751829166\": 1,\\n   \"790626528\": 1,\\n   \"751829167\": 1,\\n   \"790626529\": 1,\\n   \"751829168\": 1,\\n   \"790626530\": 1,\\n   \"751829169\": 1,\\n   \"790626531\": 1,\\n   \"751829170\": 1,\\n   \"790626532\": 1,\\n   \"751829171\": 1,\\n   \"790626533\": 1,\\n   \"751829172\": 1,\\n   \"790626534\": 1,\\n   \"751829173\": 1,\\n   \"790626535\": 1,\\n   \"751829174\": 1,\\n   \"790626536\": 1,\\n   \"751829175\": 1,\\n   \"790626537\": 1,\\n   \"751829176\": 1,\\n   \"790626538\": 1,\\n   \"751829177\": 1,\\n   \"790626539\": 1,\\n   \"751829178\": 1,\\n   \"790626540\": 1,\\n   \"751829179\": 1,\\n   \"790626541\": 1,\\n   \"751829180\": 1,\\n   \"790626542\": 1,\\n   \"751829181\": 1,\\n   \"790626543\": 1,\\n   \"751829182\": 1,\\n   \"790626544\": 1,\\n   \"751829183\": 1,\\n   \"790626545\": 1,\\n   \"751829184\": 1,\\n   \"790626546\": 1,\\n   \"751829185\": 1,\\n   \"790626547\": 1,\\n   \"751829186\": 1,\\n   \"790626548\": 1,\\n   \"751829187\": 1,\\n   \"790626549\": 1,\\n   \"751829188\": 1,\\n   \"790626550\": 1,\\n   \"751829189\": 1\\n  }\\n },\\n {\\n  \"Start\": [\\n   {\\n    \"v_id\": \"8585\",\\n    \"v_type\": \"Account\",\\n    \"attributes\": {\\n     \"Start.@label\": 814743569\\n    }\\n   },\\n   {\\n    \"v_id\": \"8546\",\\n    \"v_type\": \"Account\",\\n    \"attributes\": {\\n     \"Start.@label\": 814743570\\n    }\\n   },\\n   {\\n    \"v_id\": \"8413\",\\n    \"v_type\": \"Account\",\\n    \"attributes\": {\\n     \"Start.@label\": 814743571\\n    }\\n   },\\n   {\\n    \"v_id\": \"8325\",\\n    \"v_type\": \"Account\",\\n    \"attributes\": {\\n     \"Start.@label\": 814743572\\n    }\\n   },\\n   {\\n    \"v_id\": \"8300\",\\n    \"v_type\": \"Account\",\\n    \"attributes\": {\\n     \"Start.@label\": 814743573\\n    }\\n   },\\n   {\\n    \"v_id\": \"8296\",\\n    \"v_type\": \"Account\",\\n    \"attributes\": {\\n     \"Start.@label\": 814743574\\n    }\\n   },\\n   {\\n    \"v_id\": \"8286\",\\n    \"v_type\": \"Account\",\\n    \"attributes\": {\\n     \"Start.@label\": 814743575\\n    }\\n   },\\n   {\\n    \"v_id\": \"8220\",\\n    \"v_type\": \"Account\",\\n    \"attributes\": {\\n     \"Start.@label\": 814743576\\n    }\\n   },\\n   {\\n    \"v_id\": \"8173\",\\n    \"v_type\": \"Account\",\\n    \"attributes\": {\\n     \"Start.@label\": 814743577\\n    }\\n   },\\n   {\\n    \"v_id\": \"8151\",\\n    \"v_type\": \"Account\",\\n    \"attributes\": {\\n     \"Start.@label\": 814743578\\n    }\\n   }\\n  ]\\n }\\n]'"
            ],
            "application/vnd.google.colaboratory.intrinsic+json": {
              "type": "string"
            }
          },
          "metadata": {},
          "execution_count": 32
        }
      ]
    },
    {
      "cell_type": "markdown",
      "source": [
        "Check attributes of accounts (check if label_prop attrbutes are populated)."
      ],
      "metadata": {
        "id": "ImSzG2S5eM-D"
      }
    },
    {
      "cell_type": "code",
      "source": [
        "info = conn.runInstalledQuery(\"accountInfo\", {\"limit_x\":\"1\"})\n",
        "print(json.dumps(info, indent=2))"
      ],
      "metadata": {
        "colab": {
          "base_uri": "https://localhost:8080/"
        },
        "id": "l-i8hNYFaqJh",
        "outputId": "d4f4e554-c604-45c2-a5a4-164ccf66112d"
      },
      "execution_count": 33,
      "outputs": [
        {
          "output_type": "stream",
          "name": "stdout",
          "text": [
            "[\n",
            "  {\n",
            "    \"S3\": [\n",
            "      {\n",
            "        \"v_id\": \"9988\",\n",
            "        \"v_type\": \"Account\",\n",
            "        \"attributes\": {\n",
            "          \"id\": \"9988\",\n",
            "          \"init_balance\": 340.28,\n",
            "          \"account_type\": \"I\",\n",
            "          \"tx_behavior\": 5,\n",
            "          \"pagerank\": 1,\n",
            "          \"label\": 705691648,\n",
            "          \"current_balance\": 325468059.41,\n",
            "          \"min_send_tx\": 2.71,\n",
            "          \"min_receive_tx\": 4.75,\n",
            "          \"max_send_tx\": 340.27,\n",
            "          \"max_receive_tx\": 21474836.47,\n",
            "          \"avg_send_tx\": 336.80067,\n",
            "          \"avg_receive_tx\": 233143.06528,\n",
            "          \"cnt_receive_tx\": 1396,\n",
            "          \"cnt_send_tx\": 194\n",
            "        }\n",
            "      }\n",
            "    ]\n",
            "  }\n",
            "]\n"
          ]
        }
      ]
    },
    {
      "cell_type": "markdown",
      "source": [
        "Run `txMultiHopLimit` Query"
      ],
      "metadata": {
        "id": "DS9X9kRzeZiR"
      }
    },
    {
      "cell_type": "code",
      "source": [
        "tx_hop = conn.runInstalledQuery(\n",
        "    \"txMultiHopLimit\", {}, timeout=\"10000000000000000\", sizeLimit=\"1500000000\"\n",
        ")"
      ],
      "metadata": {
        "id": "D5uXgMzraqGs"
      },
      "execution_count": 34,
      "outputs": []
    },
    {
      "cell_type": "code",
      "source": [
        "df_tx_hop = pd.DataFrame(tx_hop[0][\"@@txRecords\"])\n",
        "df_tx_hop = flat_table.normalize(df_tx_hop)\n",
        "df_tx_hop.head()"
      ],
      "metadata": {
        "colab": {
          "base_uri": "https://localhost:8080/",
          "height": 299
        },
        "id": "8LS_eso8aqD0",
        "outputId": "9f0263a1-ea16-42ca-8d46-5eb945376571"
      },
      "execution_count": 35,
      "outputs": [
        {
          "output_type": "execute_result",
          "data": {
            "text/plain": [
              "   index  tx_fraud  tx_amount  s_pagerank    s_label  s_min_send_tx  \\\n",
              "0      0     False     428.79           1  793772108          10.94   \n",
              "1      1     False     428.79           1  790626380          11.64   \n",
              "2      2     False       6.11           1  787480598           6.11   \n",
              "3      3     False       6.11           1  751829086           3.90   \n",
              "4      4     False       6.11           1  787480598           6.11   \n",
              "\n",
              "   s_min_receieve_tx  s_max_send_tx  s_max_receive_tx  s_avg_send_tx  ...  \\\n",
              "0               6.47         428.79            558.46      424.18685  ...   \n",
              "1               5.26         292.85       18629974.00      284.35621  ...   \n",
              "2               8.51          18.54       21474836.47        6.17316  ...   \n",
              "3               6.11         416.02        8945538.00      413.69164  ...   \n",
              "4               8.51          18.54       21474836.47        6.17316  ...   \n",
              "\n",
              "     r_label  r_min_send_tx  r_min_receieve_tx  r_max_send_tx  \\\n",
              "0  793772108          10.94               6.47         428.79   \n",
              "1  790626380          11.64               5.26         292.85   \n",
              "2  787480598           6.11               8.51          18.54   \n",
              "3  751829086           3.90               6.11         416.02   \n",
              "4  787480598           6.11               8.51          18.54   \n",
              "\n",
              "   r_max_receive_tx  r_avg_send_tx  r_avg_receive_tx  r_cnt_receive_tx  \\\n",
              "0            558.46      424.18685         404.52105               267   \n",
              "1       18629974.00      284.35621       17013.09206              2610   \n",
              "2       21474836.47        6.17316      181257.51613               284   \n",
              "3        8945538.00      413.69164      166276.96440               116   \n",
              "4       21474836.47        6.17316      181257.51613               284   \n",
              "\n",
              "   r_cnt_send_tx  r_timestamp  \n",
              "0            181          199  \n",
              "1             66          199  \n",
              "2            266          199  \n",
              "3            177          199  \n",
              "4            266          199  \n",
              "\n",
              "[5 rows x 25 columns]"
            ],
            "text/html": [
              "\n",
              "  <div id=\"df-fd6b5d62-56ef-46e5-9997-91da2f50a5e9\">\n",
              "    <div class=\"colab-df-container\">\n",
              "      <div>\n",
              "<style scoped>\n",
              "    .dataframe tbody tr th:only-of-type {\n",
              "        vertical-align: middle;\n",
              "    }\n",
              "\n",
              "    .dataframe tbody tr th {\n",
              "        vertical-align: top;\n",
              "    }\n",
              "\n",
              "    .dataframe thead th {\n",
              "        text-align: right;\n",
              "    }\n",
              "</style>\n",
              "<table border=\"1\" class=\"dataframe\">\n",
              "  <thead>\n",
              "    <tr style=\"text-align: right;\">\n",
              "      <th></th>\n",
              "      <th>index</th>\n",
              "      <th>tx_fraud</th>\n",
              "      <th>tx_amount</th>\n",
              "      <th>s_pagerank</th>\n",
              "      <th>s_label</th>\n",
              "      <th>s_min_send_tx</th>\n",
              "      <th>s_min_receieve_tx</th>\n",
              "      <th>s_max_send_tx</th>\n",
              "      <th>s_max_receive_tx</th>\n",
              "      <th>s_avg_send_tx</th>\n",
              "      <th>...</th>\n",
              "      <th>r_label</th>\n",
              "      <th>r_min_send_tx</th>\n",
              "      <th>r_min_receieve_tx</th>\n",
              "      <th>r_max_send_tx</th>\n",
              "      <th>r_max_receive_tx</th>\n",
              "      <th>r_avg_send_tx</th>\n",
              "      <th>r_avg_receive_tx</th>\n",
              "      <th>r_cnt_receive_tx</th>\n",
              "      <th>r_cnt_send_tx</th>\n",
              "      <th>r_timestamp</th>\n",
              "    </tr>\n",
              "  </thead>\n",
              "  <tbody>\n",
              "    <tr>\n",
              "      <th>0</th>\n",
              "      <td>0</td>\n",
              "      <td>False</td>\n",
              "      <td>428.79</td>\n",
              "      <td>1</td>\n",
              "      <td>793772108</td>\n",
              "      <td>10.94</td>\n",
              "      <td>6.47</td>\n",
              "      <td>428.79</td>\n",
              "      <td>558.46</td>\n",
              "      <td>424.18685</td>\n",
              "      <td>...</td>\n",
              "      <td>793772108</td>\n",
              "      <td>10.94</td>\n",
              "      <td>6.47</td>\n",
              "      <td>428.79</td>\n",
              "      <td>558.46</td>\n",
              "      <td>424.18685</td>\n",
              "      <td>404.52105</td>\n",
              "      <td>267</td>\n",
              "      <td>181</td>\n",
              "      <td>199</td>\n",
              "    </tr>\n",
              "    <tr>\n",
              "      <th>1</th>\n",
              "      <td>1</td>\n",
              "      <td>False</td>\n",
              "      <td>428.79</td>\n",
              "      <td>1</td>\n",
              "      <td>790626380</td>\n",
              "      <td>11.64</td>\n",
              "      <td>5.26</td>\n",
              "      <td>292.85</td>\n",
              "      <td>18629974.00</td>\n",
              "      <td>284.35621</td>\n",
              "      <td>...</td>\n",
              "      <td>790626380</td>\n",
              "      <td>11.64</td>\n",
              "      <td>5.26</td>\n",
              "      <td>292.85</td>\n",
              "      <td>18629974.00</td>\n",
              "      <td>284.35621</td>\n",
              "      <td>17013.09206</td>\n",
              "      <td>2610</td>\n",
              "      <td>66</td>\n",
              "      <td>199</td>\n",
              "    </tr>\n",
              "    <tr>\n",
              "      <th>2</th>\n",
              "      <td>2</td>\n",
              "      <td>False</td>\n",
              "      <td>6.11</td>\n",
              "      <td>1</td>\n",
              "      <td>787480598</td>\n",
              "      <td>6.11</td>\n",
              "      <td>8.51</td>\n",
              "      <td>18.54</td>\n",
              "      <td>21474836.47</td>\n",
              "      <td>6.17316</td>\n",
              "      <td>...</td>\n",
              "      <td>787480598</td>\n",
              "      <td>6.11</td>\n",
              "      <td>8.51</td>\n",
              "      <td>18.54</td>\n",
              "      <td>21474836.47</td>\n",
              "      <td>6.17316</td>\n",
              "      <td>181257.51613</td>\n",
              "      <td>284</td>\n",
              "      <td>266</td>\n",
              "      <td>199</td>\n",
              "    </tr>\n",
              "    <tr>\n",
              "      <th>3</th>\n",
              "      <td>3</td>\n",
              "      <td>False</td>\n",
              "      <td>6.11</td>\n",
              "      <td>1</td>\n",
              "      <td>751829086</td>\n",
              "      <td>3.90</td>\n",
              "      <td>6.11</td>\n",
              "      <td>416.02</td>\n",
              "      <td>8945538.00</td>\n",
              "      <td>413.69164</td>\n",
              "      <td>...</td>\n",
              "      <td>751829086</td>\n",
              "      <td>3.90</td>\n",
              "      <td>6.11</td>\n",
              "      <td>416.02</td>\n",
              "      <td>8945538.00</td>\n",
              "      <td>413.69164</td>\n",
              "      <td>166276.96440</td>\n",
              "      <td>116</td>\n",
              "      <td>177</td>\n",
              "      <td>199</td>\n",
              "    </tr>\n",
              "    <tr>\n",
              "      <th>4</th>\n",
              "      <td>4</td>\n",
              "      <td>False</td>\n",
              "      <td>6.11</td>\n",
              "      <td>1</td>\n",
              "      <td>787480598</td>\n",
              "      <td>6.11</td>\n",
              "      <td>8.51</td>\n",
              "      <td>18.54</td>\n",
              "      <td>21474836.47</td>\n",
              "      <td>6.17316</td>\n",
              "      <td>...</td>\n",
              "      <td>787480598</td>\n",
              "      <td>6.11</td>\n",
              "      <td>8.51</td>\n",
              "      <td>18.54</td>\n",
              "      <td>21474836.47</td>\n",
              "      <td>6.17316</td>\n",
              "      <td>181257.51613</td>\n",
              "      <td>284</td>\n",
              "      <td>266</td>\n",
              "      <td>199</td>\n",
              "    </tr>\n",
              "  </tbody>\n",
              "</table>\n",
              "<p>5 rows × 25 columns</p>\n",
              "</div>\n",
              "      <button class=\"colab-df-convert\" onclick=\"convertToInteractive('df-fd6b5d62-56ef-46e5-9997-91da2f50a5e9')\"\n",
              "              title=\"Convert this dataframe to an interactive table.\"\n",
              "              style=\"display:none;\">\n",
              "        \n",
              "  <svg xmlns=\"http://www.w3.org/2000/svg\" height=\"24px\"viewBox=\"0 0 24 24\"\n",
              "       width=\"24px\">\n",
              "    <path d=\"M0 0h24v24H0V0z\" fill=\"none\"/>\n",
              "    <path d=\"M18.56 5.44l.94 2.06.94-2.06 2.06-.94-2.06-.94-.94-2.06-.94 2.06-2.06.94zm-11 1L8.5 8.5l.94-2.06 2.06-.94-2.06-.94L8.5 2.5l-.94 2.06-2.06.94zm10 10l.94 2.06.94-2.06 2.06-.94-2.06-.94-.94-2.06-.94 2.06-2.06.94z\"/><path d=\"M17.41 7.96l-1.37-1.37c-.4-.4-.92-.59-1.43-.59-.52 0-1.04.2-1.43.59L10.3 9.45l-7.72 7.72c-.78.78-.78 2.05 0 2.83L4 21.41c.39.39.9.59 1.41.59.51 0 1.02-.2 1.41-.59l7.78-7.78 2.81-2.81c.8-.78.8-2.07 0-2.86zM5.41 20L4 18.59l7.72-7.72 1.47 1.35L5.41 20z\"/>\n",
              "  </svg>\n",
              "      </button>\n",
              "      \n",
              "  <style>\n",
              "    .colab-df-container {\n",
              "      display:flex;\n",
              "      flex-wrap:wrap;\n",
              "      gap: 12px;\n",
              "    }\n",
              "\n",
              "    .colab-df-convert {\n",
              "      background-color: #E8F0FE;\n",
              "      border: none;\n",
              "      border-radius: 50%;\n",
              "      cursor: pointer;\n",
              "      display: none;\n",
              "      fill: #1967D2;\n",
              "      height: 32px;\n",
              "      padding: 0 0 0 0;\n",
              "      width: 32px;\n",
              "    }\n",
              "\n",
              "    .colab-df-convert:hover {\n",
              "      background-color: #E2EBFA;\n",
              "      box-shadow: 0px 1px 2px rgba(60, 64, 67, 0.3), 0px 1px 3px 1px rgba(60, 64, 67, 0.15);\n",
              "      fill: #174EA6;\n",
              "    }\n",
              "\n",
              "    [theme=dark] .colab-df-convert {\n",
              "      background-color: #3B4455;\n",
              "      fill: #D2E3FC;\n",
              "    }\n",
              "\n",
              "    [theme=dark] .colab-df-convert:hover {\n",
              "      background-color: #434B5C;\n",
              "      box-shadow: 0px 1px 3px 1px rgba(0, 0, 0, 0.15);\n",
              "      filter: drop-shadow(0px 1px 2px rgba(0, 0, 0, 0.3));\n",
              "      fill: #FFFFFF;\n",
              "    }\n",
              "  </style>\n",
              "\n",
              "      <script>\n",
              "        const buttonEl =\n",
              "          document.querySelector('#df-fd6b5d62-56ef-46e5-9997-91da2f50a5e9 button.colab-df-convert');\n",
              "        buttonEl.style.display =\n",
              "          google.colab.kernel.accessAllowed ? 'block' : 'none';\n",
              "\n",
              "        async function convertToInteractive(key) {\n",
              "          const element = document.querySelector('#df-fd6b5d62-56ef-46e5-9997-91da2f50a5e9');\n",
              "          const dataTable =\n",
              "            await google.colab.kernel.invokeFunction('convertToInteractive',\n",
              "                                                     [key], {});\n",
              "          if (!dataTable) return;\n",
              "\n",
              "          const docLinkHtml = 'Like what you see? Visit the ' +\n",
              "            '<a target=\"_blank\" href=https://colab.research.google.com/notebooks/data_table.ipynb>data table notebook</a>'\n",
              "            + ' to learn more about interactive tables.';\n",
              "          element.innerHTML = '';\n",
              "          dataTable['output_type'] = 'display_data';\n",
              "          await google.colab.output.renderOutput(dataTable, element);\n",
              "          const docLink = document.createElement('div');\n",
              "          docLink.innerHTML = docLinkHtml;\n",
              "          element.appendChild(docLink);\n",
              "        }\n",
              "      </script>\n",
              "    </div>\n",
              "  </div>\n",
              "  "
            ]
          },
          "metadata": {},
          "execution_count": 35
        }
      ]
    },
    {
      "cell_type": "markdown",
      "source": [
        "## Run SKLearn DecisionTreeClassifier"
      ],
      "metadata": {
        "id": "S9SyJQmqfVqm"
      }
    },
    {
      "cell_type": "markdown",
      "source": [
        "Assign all the attributes that will be used as features"
      ],
      "metadata": {
        "id": "UuOLmHcZfbED"
      }
    },
    {
      "cell_type": "code",
      "source": [
        "features = [\n",
        "    \"tx_amount\",\n",
        "    \"s_pagerank\",\n",
        "    \"s_label\",\n",
        "    \"s_min_send_tx\",\n",
        "    \"s_min_receieve_tx\",\n",
        "    \"s_max_send_tx\",\n",
        "    \"s_max_receive_tx\",\n",
        "    \"s_avg_send_tx\",\n",
        "    \"s_avg_receive_tx\",\n",
        "    \"s_cnt_receive_tx\",\n",
        "    \"s_cnt_send_tx\",\n",
        "    \"s_timestamp\",\n",
        "    \"r_pagerank\",\n",
        "    \"r_label\",\n",
        "    \"r_min_send_tx\",\n",
        "    \"r_min_receieve_tx\",\n",
        "    \"r_max_send_tx\",\n",
        "    \"r_max_receive_tx\",\n",
        "    \"r_avg_send_tx\",\n",
        "    \"r_avg_receive_tx\",\n",
        "    \"r_cnt_receive_tx\",\n",
        "    \"r_cnt_send_tx\",\n",
        "    \"r_timestamp\",\n",
        "]"
      ],
      "metadata": {
        "id": "nyMp7svAaqA5"
      },
      "execution_count": 36,
      "outputs": []
    },
    {
      "cell_type": "markdown",
      "source": [
        "Split our data into a test data set and train data set "
      ],
      "metadata": {
        "id": "doWVbUCGfp6u"
      }
    },
    {
      "cell_type": "code",
      "source": [
        "X_train, X_test, y_train, y_test = train_test_split(\n",
        "    df_tx_hop[features], df_tx_hop[\"tx_fraud\"], test_size=0.2, random_state=42\n",
        ")"
      ],
      "metadata": {
        "id": "AbOG1_Bzfnjm"
      },
      "execution_count": 37,
      "outputs": []
    },
    {
      "cell_type": "markdown",
      "source": [
        "Assign clf to SKlearns Decision Tree Classifier"
      ],
      "metadata": {
        "id": "7Wm7VAhrgMqA"
      }
    },
    {
      "cell_type": "code",
      "source": [
        "clf = DecisionTreeClassifier()"
      ],
      "metadata": {
        "id": "-ZwcNgKIfngt"
      },
      "execution_count": 38,
      "outputs": []
    },
    {
      "cell_type": "markdown",
      "source": [
        "Train the Decision Tree Classifier with our training data"
      ],
      "metadata": {
        "id": "ZNS81U26gYel"
      }
    },
    {
      "cell_type": "code",
      "source": [
        "clf.fit(X_train, y_train)"
      ],
      "metadata": {
        "colab": {
          "base_uri": "https://localhost:8080/"
        },
        "id": "3y19J2Rgfndz",
        "outputId": "a92c3728-a65b-48e4-87a9-b1af33c77ec9"
      },
      "execution_count": 39,
      "outputs": [
        {
          "output_type": "execute_result",
          "data": {
            "text/plain": [
              "DecisionTreeClassifier()"
            ]
          },
          "metadata": {},
          "execution_count": 39
        }
      ]
    },
    {
      "cell_type": "markdown",
      "source": [
        "Run a prediction using our test data set and output confusion matrix results"
      ],
      "metadata": {
        "id": "Ej2YuPxRgcqq"
      }
    },
    {
      "cell_type": "code",
      "source": [
        "preds = clf.predict(X_test)\n",
        "confusion_matrix(y_test, preds)"
      ],
      "metadata": {
        "colab": {
          "base_uri": "https://localhost:8080/"
        },
        "id": "SvhKSDJ7fna5",
        "outputId": "6c2fd1eb-7d83-415a-bce9-0f07633c15b9"
      },
      "execution_count": 40,
      "outputs": [
        {
          "output_type": "execute_result",
          "data": {
            "text/plain": [
              "array([[528631,     38],\n",
              "       [    58,    567]])"
            ]
          },
          "metadata": {},
          "execution_count": 40
        }
      ]
    },
    {
      "cell_type": "markdown",
      "source": [
        "Print out a report to see results"
      ],
      "metadata": {
        "id": "IA56Cli9gjVB"
      }
    },
    {
      "cell_type": "code",
      "source": [
        "print(classification_report(y_test, preds))"
      ],
      "metadata": {
        "colab": {
          "base_uri": "https://localhost:8080/"
        },
        "id": "gWybhcBygj5Y",
        "outputId": "befcd438-641a-442b-b3e4-0ee04317ea48"
      },
      "execution_count": 41,
      "outputs": [
        {
          "output_type": "stream",
          "name": "stdout",
          "text": [
            "              precision    recall  f1-score   support\n",
            "\n",
            "       False       1.00      1.00      1.00    528669\n",
            "        True       0.94      0.91      0.92       625\n",
            "\n",
            "    accuracy                           1.00    529294\n",
            "   macro avg       0.97      0.95      0.96    529294\n",
            "weighted avg       1.00      1.00      1.00    529294\n",
            "\n"
          ]
        }
      ]
    },
    {
      "cell_type": "markdown",
      "source": [
        "# WARNING: DROP ALL - Will Delete everything in your graph!"
      ],
      "metadata": {
        "id": "iOFpIpeWg0ou"
      }
    },
    {
      "cell_type": "code",
      "source": [
        "# print(conn.gsql(\"\"\"\n",
        "#     USE GLOBAL\n",
        "#     DROP GRAPH AMLGraph\n",
        "# \"\"\"))"
      ],
      "metadata": {
        "id": "wOyDQYImg2wW"
      },
      "execution_count": 42,
      "outputs": []
    },
    {
      "cell_type": "markdown",
      "metadata": {
        "id": "pO7AV8uAQwCj"
      },
      "source": [
        "## Additional Queries for To Explore with GraphStudio\n"
      ]
    },
    {
      "cell_type": "markdown",
      "metadata": {
        "id": "WAgWzFhrUVms"
      },
      "source": [
        "### Select Account Query\n",
        "```\n",
        "CREATE QUERY selectAccount(STRING acct) FOR GRAPH AMLSim { \n",
        "  seed = {Account.*};\n",
        "  S1 = SELECT s FROM seed:s WHERE s.id == acct; \n",
        "  PRINT S1; \n",
        "}\n",
        "```\n",
        "### Select Account Query\n",
        "```\n",
        "CREATE QUERY selectTopPageRank() FOR GRAPH AMLSim { \n",
        "  seed = {Account.*};\n",
        "  S1 = SELECT s FROM seed:s ORDER BY s.pagerank DESC LIMIT 10;\n",
        "  PRINT S1; \n",
        "}\n",
        "```\n",
        "### Select Account Transactions\n",
        "```\n",
        "CREATE QUERY selectAccountTx(STRING acct) FOR GRAPH AMLSim { \n",
        "  ListAccum<EDGE> @@txSend, @@txreceive;\n",
        "  seed = {Account.*};\n",
        "  \n",
        "  SendTx = SELECT tgt FROM seed:s -(Send_Transaction:e)-> Transaction:tgt\n",
        "           WHERE s.id == acct\n",
        "           ACCUM @@txSend +=  e;\n",
        "  \n",
        "  receiveTx = SELECT tgt FROM seed:s -(reverse_receive_Transaction:e)-> Transaction:tgt\n",
        "              WHERE s.id == acct\n",
        "              ACCUM @@txreceive += e;\n",
        "  \n",
        "  PRINT @@txSend, @@txreceive; \n",
        "}\n",
        "```"
      ]
    },
    {
      "cell_type": "markdown",
      "metadata": {
        "id": "pwLQfYZK1qlQ"
      },
      "source": [
        "## Additional Queries To INTERPRET or CREATE"
      ]
    },
    {
      "cell_type": "code",
      "metadata": {
        "id": "WtGTAFbGCAX0",
        "colab": {
          "base_uri": "https://localhost:8080/"
        },
        "outputId": "60c36fe3-e740-4205-9175-102e11b6b8a4"
      },
      "source": [
        "# FETCH DATA FOR ACCOUNT 9913 TO CHECK DATA POPLULATION\n",
        "print(conn.gsql(\"\"\"\n",
        "INTERPRET QUERY () FOR GRAPH AMLGraph { \n",
        "  seed = {Account.*};\n",
        "  S1 = SELECT s FROM seed:s WHERE s.id == \"9913\"; \n",
        "  PRINT S1; \n",
        "}\n",
        "\"\"\"))"
      ],
      "execution_count": 43,
      "outputs": [
        {
          "output_type": "stream",
          "name": "stdout",
          "text": [
            "{\n",
            "\"error\": false,\n",
            "\"message\": \"\",\n",
            "\"version\": {\n",
            "\"schema\": 13,\n",
            "\"edition\": \"enterprise\",\n",
            "\"api\": \"v2\"\n",
            "},\n",
            "\"results\": [{\"S1\": [{\n",
            "\"v_id\": \"9913\",\n",
            "\"attributes\": {\n",
            "\"account_type\": \"I\",\n",
            "\"max_receive_tx\": 2.147483647E7,\n",
            "\"label\": 871366657,\n",
            "\"tx_behavior\": 5,\n",
            "\"cnt_receive_tx\": 522,\n",
            "\"cnt_send_tx\": 70,\n",
            "\"avg_receive_tx\": 87608.81203,\n",
            "\"avg_send_tx\": 259.85971,\n",
            "\"min_receive_tx\": 5.38,\n",
            "\"init_balance\": 263.35,\n",
            "\"min_send_tx\": 19.03,\n",
            "\"current_balance\": 4.573206323E7,\n",
            "\"max_send_tx\": 263.35,\n",
            "\"id\": \"9913\",\n",
            "\"pagerank\": 1\n",
            "},\n",
            "\"v_type\": \"Account\"\n",
            "}]}]\n",
            "}\n"
          ]
        }
      ]
    },
    {
      "cell_type": "code",
      "metadata": {
        "id": "YV8OtDt4YaKE",
        "colab": {
          "base_uri": "https://localhost:8080/"
        },
        "outputId": "7980546c-9978-4d1c-8989-9edb7b57c795"
      },
      "source": [
        "# CREATE/INSTALL QUERY FOR ACCOUNT INFO\n",
        "print(conn.gsql(\"\"\"\n",
        "CREATE QUERY selectAccount(STRING acct) FOR GRAPH AMLGraph { \n",
        "  seed = {Account.*};\n",
        "  S1 = SELECT s FROM seed:s WHERE s.id == acct; \n",
        "  PRINT S1; \n",
        "}\n",
        "INSTALL QUERY selectAccount\n",
        "\"\"\"))"
      ],
      "execution_count": 44,
      "outputs": [
        {
          "output_type": "stream",
          "name": "stdout",
          "text": [
            "Semantic Check Fails: The query name selectAccount is used by another object! Please use a different name.\n",
            "Failed to create queries: [selectAccount].\n"
          ]
        }
      ]
    },
    {
      "cell_type": "code",
      "source": [
        "# RUN INSTALLED QUERY selectAccount\n",
        "print(conn.runInstalledQuery(\"selectAccount\", {\"acct\": \"9913\"}))"
      ],
      "metadata": {
        "colab": {
          "base_uri": "https://localhost:8080/"
        },
        "id": "s_qB_ZfJiYnr",
        "outputId": "79d49f74-9170-4641-c946-cbb683cd1253"
      },
      "execution_count": 45,
      "outputs": [
        {
          "output_type": "stream",
          "name": "stdout",
          "text": [
            "[{'S1': [{'v_id': '9913', 'v_type': 'Account', 'attributes': {'id': '9913', 'init_balance': 263.35, 'account_type': 'I', 'tx_behavior': 5, 'pagerank': 1, 'label': 871366657, 'current_balance': 45732063.23, 'min_send_tx': 19.03, 'min_receive_tx': 5.38, 'max_send_tx': 263.35, 'max_receive_tx': 21474836.47, 'avg_send_tx': 259.85971, 'avg_receive_tx': 87608.81203, 'cnt_receive_tx': 522, 'cnt_send_tx': 70}}]}]\n"
          ]
        }
      ]
    },
    {
      "cell_type": "code",
      "metadata": {
        "id": "BgDuk2rdZ7nD",
        "colab": {
          "base_uri": "https://localhost:8080/"
        },
        "outputId": "563a6b88-3ec9-4246-9a8c-c49e348be1db"
      },
      "source": [
        "# CREATE/INSTALL QUERY FOR ACCOUNTS TOP PAGERANK SCORES\n",
        "print(conn.gsql(\"\"\"\n",
        "CREATE QUERY selectTopPageRank() FOR GRAPH AMLGraph { \n",
        "  seed = {Account.*};\n",
        "  S1 = SELECT s FROM seed:s ORDER BY s.pagerank DESC LIMIT 10;\n",
        "  PRINT S1; \n",
        "}\n",
        "INSTALL QUERY selectTopPageRank\n",
        "\"\"\"))"
      ],
      "execution_count": 46,
      "outputs": [
        {
          "output_type": "stream",
          "name": "stdout",
          "text": [
            "Semantic Check Fails: The query name selectTopPageRank is used by another object! Please use a different name.\n",
            "Failed to create queries: [selectTopPageRank].\n"
          ]
        }
      ]
    },
    {
      "cell_type": "code",
      "metadata": {
        "id": "6Xz0JvBabis4",
        "colab": {
          "base_uri": "https://localhost:8080/"
        },
        "outputId": "ece67ac6-1842-4974-cf32-33653da70a1f"
      },
      "source": [
        "# RUN INSTALLED QUERY selectAccount\n",
        "print(conn.runInstalledQuery(\"selectTopPageRank\", {}))"
      ],
      "execution_count": 47,
      "outputs": [
        {
          "output_type": "stream",
          "name": "stdout",
          "text": [
            "[{'S1': [{'v_id': '9593', 'v_type': 'Account', 'attributes': {'id': '9593', 'init_balance': 573.08, 'account_type': 'I', 'tx_behavior': 3, 'pagerank': 1, 'label': 778043395, 'current_balance': 39047124.74, 'min_send_tx': 573.08, 'min_receive_tx': 10.34, 'max_send_tx': 573.08, 'max_receive_tx': 19653748, 'avg_send_tx': 573.08, 'avg_receive_tx': 205508.16663, 'cnt_receive_tx': 190, 'cnt_send_tx': 180}}, {'v_id': '9751', 'v_type': 'Account', 'attributes': {'id': '9751', 'init_balance': 128.79, 'account_type': 'I', 'tx_behavior': 4, 'pagerank': 1, 'label': 778043393, 'current_balance': 30231087.71, 'min_send_tx': 128.78, 'min_receive_tx': 2.92, 'max_send_tx': 128.78, 'max_receive_tx': 21474836.47, 'avg_send_tx': 128.78, 'avg_receive_tx': 25382.83704, 'cnt_receive_tx': 1191, 'cnt_send_tx': 800}}, {'v_id': '9584', 'v_type': 'Account', 'attributes': {'id': '9584', 'init_balance': 563.7, 'account_type': 'I', 'tx_behavior': 3, 'pagerank': 1, 'label': 778043396, 'current_balance': 1605352.54, 'min_send_tx': 563.7, 'min_receive_tx': 7.97, 'max_send_tx': 563.7, 'max_receive_tx': 1511713.37, 'avg_send_tx': 563.7, 'avg_receive_tx': 8721.67848, 'cnt_receive_tx': 184, 'cnt_send_tx': 179}}, {'v_id': '9373', 'v_type': 'Account', 'attributes': {'id': '9373', 'init_balance': 253.86, 'account_type': 'I', 'tx_behavior': 2, 'pagerank': 1, 'label': 778043399, 'current_balance': 48976444.75, 'min_send_tx': 514.74, 'min_receive_tx': 12.28, 'max_send_tx': 21474836.47, 'max_receive_tx': 21474836.47, 'avg_send_tx': 4034740.45875, 'avg_receive_tx': 385639.29835, 'cnt_receive_tx': 127, 'cnt_send_tx': 24}}, {'v_id': '9548', 'v_type': 'Account', 'attributes': {'id': '9548', 'init_balance': 555.35, 'account_type': 'I', 'tx_behavior': 3, 'pagerank': 1, 'label': 778043397, 'current_balance': 95778256.74, 'min_send_tx': 555.34, 'min_receive_tx': 5.87, 'max_send_tx': 555.34, 'max_receive_tx': 21474836.47, 'avg_send_tx': 555.34, 'avg_receive_tx': 301187.74022, 'cnt_receive_tx': 318, 'cnt_send_tx': 178}}, {'v_id': '9363', 'v_type': 'Account', 'attributes': {'id': '9363', 'init_balance': 364.55, 'account_type': 'I', 'tx_behavior': 2, 'pagerank': 1, 'label': 778043400, 'current_balance': 39119257.08, 'min_send_tx': 1589.82, 'min_receive_tx': 5.49, 'max_send_tx': 21474836.47, 'max_receive_tx': 21474836.47, 'avg_send_tx': 3092685.5004, 'avg_receive_tx': 194621.35587, 'cnt_receive_tx': 201, 'cnt_send_tx': 25}}, {'v_id': '9334', 'v_type': 'Account', 'attributes': {'id': '9334', 'init_balance': 273.13, 'account_type': 'I', 'tx_behavior': 2, 'pagerank': 1, 'label': 778043401, 'current_balance': 13031122.31, 'min_send_tx': 2.95, 'min_receive_tx': 12.23, 'max_send_tx': 21474836.47, 'max_receive_tx': 8095021.5, 'avg_send_tx': 5472279.86957, 'avg_receive_tx': 32174.93625, 'cnt_receive_tx': 405, 'cnt_send_tx': 23}}, {'v_id': '9517', 'v_type': 'Account', 'attributes': {'id': '9517', 'init_balance': 503.39, 'account_type': 'I', 'tx_behavior': 3, 'pagerank': 1, 'label': 778043398, 'current_balance': 1097227.11, 'min_send_tx': 503.39, 'min_receive_tx': 13.09, 'max_send_tx': 503.39, 'max_receive_tx': 808838.5, 'avg_send_tx': 503.39, 'avg_receive_tx': 4940.19694, 'cnt_receive_tx': 222, 'cnt_send_tx': 180}}, {'v_id': '9641', 'v_type': 'Account', 'attributes': {'id': '9641', 'init_balance': 127.3, 'account_type': 'I', 'tx_behavior': 4, 'pagerank': 1, 'label': 778043394, 'current_balance': 25822476.31, 'min_send_tx': 127.3, 'min_receive_tx': 5.32, 'max_send_tx': 127.3, 'max_receive_tx': 21474836.47, 'avg_send_tx': 127.3, 'avg_receive_tx': 16899.44307, 'cnt_receive_tx': 1528, 'cnt_send_tx': 660}}, {'v_id': '9795', 'v_type': 'Account', 'attributes': {'id': '9795', 'init_balance': 146.26, 'account_type': 'I', 'tx_behavior': 4, 'pagerank': 1, 'label': 778043392, 'current_balance': 66418009.14, 'min_send_tx': 146.25, 'min_receive_tx': 5.78, 'max_send_tx': 146.25, 'max_receive_tx': 21474836.47, 'avg_send_tx': 146.25, 'avg_receive_tx': 55440.6201, 'cnt_receive_tx': 1198, 'cnt_send_tx': 920}}]}]\n"
          ]
        }
      ]
    },
    {
      "cell_type": "code",
      "metadata": {
        "id": "9uswl2dXaQwy"
      },
      "source": [
        "# # CREATE/INSTALL QUERY FOR ACCOUNTS TRANSACTIONS\n",
        "# print(conn.gsql(\"\"\"\n",
        "# CREATE QUERY selectAccountTx(STRING acct) FOR GRAPH AMLGraph { \n",
        "#   ListAccum<EDGE> @@txSend, @@txreceive;\n",
        "#   seed = {Account.*};\n",
        "  \n",
        "#   SendTx = SELECT tgt FROM seed:s -(Send_Transaction:e)-> Transaction:tgt\n",
        "#            WHERE s.id == acct\n",
        "#            ACCUM @@txSend +=  e;\n",
        "  \n",
        "#   receiveTx = SELECT tgt FROM seed:s -(reverse_receive_Transaction:e)-> Transaction:tgt\n",
        "#               WHERE s.id == acct\n",
        "#               ACCUM @@txreceive += e;\n",
        "  \n",
        "#   PRINT @@txSend, @@txreceive; \n",
        "# }\n",
        "# \"\"\"))"
      ],
      "execution_count": 50,
      "outputs": []
    },
    {
      "cell_type": "code",
      "metadata": {
        "id": "3-tVZmaFbqSt"
      },
      "source": [
        "# # RUN INSTALLED QUERY selectAccountTx\n",
        "# print(conn.runInstalledQuery(\"selectAccountTx\", {\"acct\": \"9913\"}))"
      ],
      "execution_count": 51,
      "outputs": []
    },
    {
      "cell_type": "markdown",
      "metadata": {
        "id": "gy2vNrHcTzxl"
      },
      "source": [
        "## Additional Colab Projects to Explore\n"
      ]
    },
    {
      "cell_type": "markdown",
      "metadata": {
        "id": "yvApVsdURhi4"
      },
      "source": [
        "### An Introduction to Graph Machine Learning with Keras and TigerGraph\n",
        "blog: https://medium.com/@dezhouc2/an-introduction-to-graph-machine-learning-with-keras-and-tigergraph-ab050f3be78b\n",
        "\n",
        "colabnotebook: https://colab.research.google.com/drive/1Q3LDwceG1ZKEzxlYL52hyFPdO2S14HbI?authuser=1#scrollTo=aNUxboCOZAFc"
      ]
    },
    {
      "cell_type": "markdown",
      "metadata": {
        "id": "CvectNu9PrPi"
      },
      "source": [
        "### An Introduction to Graph Machine Learning with Tensorflow and TigerGraph\n",
        "blog:\n",
        "https://medium.com/@dezhouc2/an-introduction-to-graph-machine-learning-with-tensorflow-and-tigergraph-1e8aa7dd4386\n",
        "\n",
        "colabnotebook:\n",
        "https://colab.research.google.com/drive/14zmslH-QL7MYtwWaP5X7-BvasihWQt3K"
      ]
    },
    {
      "cell_type": "markdown",
      "metadata": {
        "id": "kx9p8n-pP2eO"
      },
      "source": [
        "### An Introduction to Graph Machine Learning with Pytorch and TigerGraph\n",
        "blog: https://medium.com/@dezhouc2/an-introduction-to-graph-machine-learning-with-pytorch-and-tigergraph-b243f3906170\n",
        "\n",
        "colabnotebook: https://colab.research.google.com/drive/1iKqxBVbwTruK8JTP_bSiLKMOelrBLZ5m#scrollTo=XxdsIUtXWEXh"
      ]
    },
    {
      "cell_type": "markdown",
      "metadata": {
        "id": "7YVQxHOQQ40M"
      },
      "source": [
        "### An Introduction to Graph Machine Learning with Scikit-Learn and TigerGraph\n",
        "blog: https://medium.com/@dezhouc2/an-introduction-to-graph-machine-learning-with-sklearn-recommendation-engine-and-tigergraph-d6bbf2f93380\n",
        "\n",
        "colabnotebook: https://colab.research.google.com/drive/170LpEAYK25uPWKdxNarJAJNnAVfokF-j?authuser=2"
      ]
    },
    {
      "cell_type": "markdown",
      "metadata": {
        "id": "sX1-X4MXSBnO"
      },
      "source": [
        "### The PageRank Algorithm and its Application\n",
        "blog: https://medium.com/@dezhouc2/the-pagerank-algorithm-and-its-application-e75a8a6d5ef2"
      ]
    },
    {
      "cell_type": "markdown",
      "metadata": {
        "id": "wJq4PmgKSJE9"
      },
      "source": [
        "### Label Propagation Algorithm and its Application\n",
        "blog: https://medium.com/@dezhouc2/label-propagation-algorithm-and-its-application-162d03f10d3a"
      ]
    }
  ]
}